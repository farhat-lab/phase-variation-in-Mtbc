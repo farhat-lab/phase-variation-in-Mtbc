{
 "cells": [
  {
   "cell_type": "markdown",
   "metadata": {},
   "source": [
    "# This notebook was created to find all of the High Quality SNV calls for all of the isolates in rollingDB, changed from previous version by NOT using Lineage Calls from MegaPipe"
   ]
  },
  {
   "cell_type": "code",
   "execution_count": 1,
   "metadata": {},
   "outputs": [
    {
     "data": {
      "text/html": [
       "<style>.container { width:100% !important; }<|/style>"
      ],
      "text/plain": [
       "<IPython.core.display.HTML object>"
      ]
     },
     "metadata": {},
     "output_type": "display_data"
    }
   ],
   "source": [
    "from IPython.core.display import display, HTML\n",
    "display(HTML(\"<style>.container { width:100% !important; }<|/style>\"))"
   ]
  },
  {
   "cell_type": "code",
   "execution_count": 2,
   "metadata": {},
   "outputs": [],
   "source": [
    "import vcf\n",
    "\n",
    "%matplotlib inline\n",
    "import os\n",
    "import pandas as pd\n",
    "import numpy as np\n",
    "import matplotlib.pyplot as plt\n",
    "import matplotlib as mpl\n",
    "import matplotlib.ticker as ticker\n",
    "from itertools import compress\n",
    "from pylab import MaxNLocator\n",
    "import seaborn as sns; sns.set()\n",
    "from matplotlib.colors import LogNorm\n",
    "from matplotlib import gridspec\n",
    "import ast\n",
    "import itertools\n",
    "import seaborn as sns\n",
    "from sklearn.preprocessing import StandardScaler\n",
    "\n",
    "import fastcluster\n",
    "from sklearn import cluster, datasets\n",
    "import scipy.cluster.hierarchy as hier\n",
    "from sklearn.cluster import KMeans\n",
    "import time\n",
    "import sys\n",
    "\n",
    "import Bio\n",
    "from Bio.Alphabet import IUPAC\n",
    "from Bio.Blast.Applications import NcbiblastnCommandline\n",
    "from Bio.Blast import NCBIXML\n",
    "from Bio.Seq import Seq\n",
    "from Bio.SeqRecord import SeqRecord\n",
    "from Bio.SeqFeature import SeqFeature, FeatureLocation\n",
    "from Bio import pairwise2\n",
    "from Bio import SeqIO\n",
    "from Bio.Graphics import GenomeDiagram\n",
    "from Bio.SeqUtils import GC\n",
    "\n",
    "from Bio.Align.Applications import MuscleCommandline\n",
    "from StringIO import StringIO\n",
    "from Bio import AlignIO\n",
    "from Bio.Align import AlignInfo\n",
    "from Bio.Seq import MutableSeq\n",
    "import itertools\n",
    "import gzip\n",
    "\n",
    "import networkx as nx\n",
    "import scipy\n",
    "import pickle\n",
    "\n",
    "#for exporting to Adobe Illustrator\n",
    "mpl.rcParams['pdf.fonttype'] = 42\n",
    "mpl.rcParams['ps.fonttype'] = 42"
   ]
  },
  {
   "cell_type": "markdown",
   "metadata": {},
   "source": [
    "####################################################################################################################################################################################"
   ]
  },
  {
   "cell_type": "markdown",
   "metadata": {},
   "source": [
    "## [1] This section of the notebook loads all of the Lineage Calls that were made on the isolates in rollingDB as well as the mean coverage / isolates for all of the isolates in rollingDB. "
   ]
  },
  {
   "cell_type": "markdown",
   "metadata": {},
   "source": [
    "####################################################################################################################################################################################"
   ]
  },
  {
   "cell_type": "markdown",
   "metadata": {},
   "source": [
    "#### We run through the pilon-generated VCF for each isolate (N = 33,875) and scrapes the High Quality Single Nucleotide Variant calls made against H37Rv. The DataFrame containing these high quality SNV calls (with the Reference Position, Reference Allele and Alterante Allele) for each isolate is then stored in a directory containing all of the DFs for all isolates. "
   ]
  },
  {
   "cell_type": "markdown",
   "metadata": {},
   "source": [
    "#### Side-Note: Some isolate have ~20x coverage and we require 20 reads at a given position to make a SNP call"
   ]
  },
  {
   "cell_type": "markdown",
   "metadata": {},
   "source": [
    "### Scrape Luca's DB"
   ]
  },
  {
   "cell_type": "code",
   "execution_count": 3,
   "metadata": {},
   "outputs": [
    {
     "name": "stdout",
     "output_type": "stream",
     "text": [
      "0.0500090232801\n",
      "0.10001804656\n",
      "0.15002706984\n",
      "0.20003609312\n",
      "0.2500451164\n",
      "0.30005413968\n",
      "0.35006316296\n",
      "0.400072186241\n",
      "0.450081209521\n",
      "0.500090232801\n",
      "0.550099256081\n",
      "0.600108279361\n",
      "0.650117302641\n"
     ]
    }
   ],
   "source": [
    "#genomic data directory\n",
    "rolling_DB_dir = '/n/data1/hms/dbmi/farhat/rollingDB/genomic_data/'\n",
    "\n",
    "#get all folders (each folder corresponds to a different sequenced isolate)\n",
    "isolate_directories = os.listdir(rolling_DB_dir)\n",
    "\n",
    "#iterate through each sequenced isolate\n",
    "isolate_i = 0\n",
    "\n",
    "for isolate_ID in isolate_directories:\n",
    "\n",
    "    #directory that stores files for each sequenced isolate\n",
    "    directory_for_sequenced_isolate = rolling_DB_dir + isolate_ID\n",
    "\n",
    "    #check to see if megapipe successfully ran on sequenced isolate\n",
    "    try:\n",
    "        #existence of a PILON directory and corresponding VCF file\n",
    "        if ( 'pilon' in os.listdir(directory_for_sequenced_isolate) ):\n",
    "            \n",
    "            #existence of a REDUCED VCF and existence of FULL VCF file in relevent directories \n",
    "            if ( 'vcf' in list( itertools.chain.from_iterable( [filename.split('.') for filename in os.listdir(directory_for_sequenced_isolate + '/pilon/')] ) ) ) and ( isolate_ID + '_full' in list( itertools.chain.from_iterable( [filename.split('.') for filename in os.listdir(directory_for_sequenced_isolate + '/pilon/')] ) ) ):\n",
    "                \n",
    "                #we have a valid VCF file so megapipe ran successfully, let's keep the variant call information for this sequenced isolate\n",
    "                \n",
    "                #PILON-generated VCF DATA\n",
    "                ########################################################################################################################\n",
    "                \n",
    "                #dictionaries to construct DataFrame from later that hold information about each high-quality SNP found for a specific isolate from rollingDB\n",
    "                ref_dict = {} #reference allele\n",
    "                alt_dict = {} #alternate allele\n",
    "                alt_AF_dict = {} #frequency of alternate allele in population (0.75 - 1.0)\n",
    "                \n",
    "                #load in VCF file if one was found\n",
    "                vcf_reader = vcf.Reader( open(directory_for_sequenced_isolate + '/pilon/' + isolate_ID + '.vcf' , 'r') )\n",
    "\n",
    "                #iterate through each Variant Call \n",
    "                for record in vcf_reader:\n",
    "                    \n",
    "                    #check to see if the call is a PASS by Pilon\n",
    "                    if record.FILTER == []:\n",
    "\n",
    "                        #check to see if variant is SNP (length of Reference Allele is 1 base ; there's only 1 alternate allele ; length of alternate allele is 1 base)\n",
    "                        if (len(record.REF) == 1) and (len(record.ALT) == 1) and (len(str(record.ALT[0])) == 1):\n",
    "\n",
    "                            ##### Retrieve Relevant information for filtering quality of Base Call #####\n",
    "                            # Mean Base Quality @ locus\n",
    "                            BQ = record.INFO['BQ']\n",
    "                            # Mean Mapping Quality @ locus\n",
    "                            MQ = record.INFO['MQ']\n",
    "                            # Number of Reads w/ Deletion \n",
    "                            DC = record.INFO['DC']\n",
    "                            # Number of Reads w/ Insertion\n",
    "                            IC = record.INFO['IC']\n",
    "                            # Depth of Valid Reads in Pileup\n",
    "                            VD = record.INFO['DP']\n",
    "\n",
    "                            ### Filtering Criteria\n",
    "                            #---> Mean Base Quality > 20\n",
    "                            #---> Mean Mapping Quality > 30\n",
    "                            #---> No Reads Supporting Insertions\n",
    "                            #---> No Reads Supporting Deletions\n",
    "                            #---> Number of High Quality Reads >= 20\n",
    "                            if (BQ > 20) and (MQ > 30) and (DC == 0) and (IC == 0) and (VD >= 20): #SNP passed filtering criteria!\n",
    "\n",
    "                                # Filtering Criteria for mutant allele frequency calculation (range: 0.75 - 1.0)\n",
    "                                ref_allele = str( record.REF )\n",
    "                                alt_allele = str( record.ALT[0] )\n",
    "                                ref_pos = int( record.POS )\n",
    "                                \n",
    "                                # Calculate Alternate Allele Frequency\n",
    "                                # only stores SNV if 1 or 2 bases are supported by reads\n",
    "                                ########################################################################\n",
    "                                #position-base dictionaries (order of output in Pilon)\n",
    "                                base_order = {0:'A' , 1:'C' , 2:'G', 3:'T'}\n",
    "                                base_order_r = {'A':0 , 'C':1 , 'G':2 , 'T':3}\n",
    "\n",
    "                                # Quality-Percentage - Percentage of As, Cs, Gs, Ts weighted by Q & MQ at locus\n",
    "                                QP = record.INFO['QP']\n",
    "\n",
    "                                if (sum(np.array(QP) == 0) == 3): #1 Allele supported by Reads (Alternate), store information for this Base Call (3 bases have NO reads supporting)\n",
    "\n",
    "                                    #create a Boolean list for the Bases that have at least 1% of support from reads\n",
    "                                    supported_bases_boolean = list( np.array( QP ) > 0 )\n",
    "\n",
    "                                    #positions of Bases [A,C,G,T] with at least 1% of support from reads\n",
    "                                    supported_bases_i = [i for i,x in enumerate(supported_bases_boolean) if x == True] #returns list of length \n",
    "                                    supported_base = base_order[supported_bases_i[0]]\n",
    "\n",
    "                                    #if the Reference Allele is supported\n",
    "                                    if supported_base == ref_allele:\n",
    "                                        alt_allele_frequency = 0.0 #no alternate allele\n",
    "\n",
    "                                    #if an Alternate Allele is supported:\n",
    "                                    if supported_base != ref_allele:\n",
    "                                        alt_allele_frequency = 1.0 #alternate allele\n",
    "\n",
    "                                elif (sum(np.array(QP) == 0) == 2): #2 Alleles supported, make sure 1 is the Reference & confirm the Alternate (2 bases have NO reads supporting)\n",
    "\n",
    "                                    #position of the Reference Allele in [A,C,G,T]\n",
    "                                    ref_allele_base_i = base_order_r[ref_allele] \n",
    "\n",
    "                                    #create a Boolean list for the Bases that have at least 1% of support from reads\n",
    "                                    supported_bases_boolean = list( np.array( QP ) > 0 )\n",
    "\n",
    "                                    #positions of Bases [A,C,G,T] with at least 1% of support from reads\n",
    "                                    supported_bases_i = [i for i,x in enumerate(supported_bases_boolean) if x == True] #returns list of length 2\n",
    "\n",
    "                                    #check that Reference Allele is supported by at least 1% of the reads\n",
    "                                    if ref_allele_base_i in supported_bases_i:\n",
    "\n",
    "                                        #find the Alternate Allele that was supported by at least 1% of the reads\n",
    "                                        for supported_base_i in supported_bases_i:\n",
    "\n",
    "                                            if supported_base_i != ref_allele_base_i: #then must be alternate allele\n",
    "\n",
    "                                                alt_allele = base_order[supported_base_i] #Alternate Allele\n",
    "                                                alt_allele_frequency = float(QP[supported_base_i]) / 100.0 #weighted percentage of reads supporting Alternate Allele\n",
    "                                                break\n",
    "                                ########################################################################\n",
    "                                \n",
    "                                # use only consensus SNPs (where alternate allele frequency >= 75%)\n",
    "                                if alt_allele_frequency >= 0.75:\n",
    "                                \n",
    "                                    # Store good-quality SNV in SNV dictionaries\n",
    "                                    ref_dict[ref_pos] = ref_allele\n",
    "                                    alt_dict[ref_pos] = alt_allele\n",
    "\n",
    "                #construct DataFrame from dictionaries\n",
    "                SNV_DF = pd.DataFrame( index = pd.Series( ref_dict.keys() ) )\n",
    "                SNV_DF['ref'] = pd.Series(ref_dict)\n",
    "                SNV_DF['alt'] = pd.Series(alt_dict)\n",
    "\n",
    "                #make reference-position a column and re-index, sort according to reference position\n",
    "                SNV_DF['pos'] = SNV_DF.index\n",
    "                SNV_DF.sort_values(by = 'pos' , ascending = True , inplace = True)\n",
    "                SNV_DF.reset_index(inplace = True , drop = True)\n",
    "\n",
    "                #pickle DataFrame holding High Quality SNVs from isolate\n",
    "                SNV_DF.to_pickle('/n/data1/hms/dbmi/farhat/Roger/homoplasy_project/rolling_DB_scrape/all_HighQuality_SNVs_found_in_rollingDB/' + isolate_ID + '_SNVs.pkl')\n",
    "                ########################################################################################################################\n",
    "                \n",
    "                #keep track of progress   \n",
    "                isolate_i += 1\n",
    "                if isolate_i % np.ceil(0.05*len(isolate_directories)) == 0:\n",
    "                    print float(isolate_i) / float(len(isolate_directories))\n",
    "        \n",
    "    except OSError: #hit some file that is not another directory with genomic data \n",
    "        continue"
   ]
  },
  {
   "cell_type": "markdown",
   "metadata": {},
   "source": [
    "####################################################################################################################################################################################"
   ]
  },
  {
   "cell_type": "markdown",
   "metadata": {},
   "source": [
    "## [2] This section of the notebook constructs a script that iterates over *subsets* of the HQ SNV DataFrames for each isolate and creates a 'catalogue' of all of the HQ SNVs found in rollingDB. All of the relevent information is stored in dictionaries before being transformed into a DataFrame with all of the unique SNVs (indexed by Reference Position) and the number of isolates that contain a SNV at that position."
   ]
  },
  {
   "cell_type": "markdown",
   "metadata": {},
   "source": [
    "####################################################################################################################################################################################"
   ]
  },
  {
   "cell_type": "code",
   "execution_count": null,
   "metadata": {
    "collapsed": true,
    "jupyter": {
     "outputs_hidden": true
    }
   },
   "outputs": [],
   "source": [
    "import vcf\n",
    "import os\n",
    "import pandas as pd\n",
    "import numpy as np\n",
    "from pylab import MaxNLocator\n",
    "import ast\n",
    "import itertools\n",
    "import time\n",
    "import sys\n",
    "import itertools\n",
    "import gzip\n",
    "import scipy"
   ]
  },
  {
   "cell_type": "markdown",
   "metadata": {},
   "source": [
    "#### We are going to split this up into several jobs, each iterating through N isolates. Each job will produce a DF with all SNVs detected in any of the N isolates & corresponding alleles.  Once all jobs have finished, we will merge all DFs together to create one master DF of all SNVs detected in any of the 33,875 isolates in rollingDB"
   ]
  },
  {
   "cell_type": "code",
   "execution_count": 16,
   "metadata": {
    "collapsed": true,
    "jupyter": {
     "outputs_hidden": true
    }
   },
   "outputs": [],
   "source": [
    "#INPUTS\n",
    "first_isolate_index = int(sys.argv[1]) #INPUT - first isolate index\n",
    "last_isolate_index = int(sys.argv[2]) #INPUT - last isolate index\n",
    "job_number = str(sys.argv[3]) #INPUT - job number"
   ]
  },
  {
   "cell_type": "code",
   "execution_count": 14,
   "metadata": {
    "collapsed": true,
    "jupyter": {
     "outputs_hidden": true
    }
   },
   "outputs": [],
   "source": [
    "#list of pickles DataFrame files for SNVs for each isolate in rollingDB\n",
    "SNV_DF_list = os.listdir('/n/data1/hms/dbmi/farhat/Roger/homoplasy_project/rolling_DB_scrape/all_HighQuality_SNVs_found_in_rollingDB')\n",
    "\n",
    "#subset to only the pickled DFs for the isolates that will be searched for SNVs in this job\n",
    "SNV_DF_list = SNV_DF_list[first_isolate_index:last_isolate_index]"
   ]
  },
  {
   "cell_type": "code",
   "execution_count": 49,
   "metadata": {
    "collapsed": true,
    "jupyter": {
     "outputs_hidden": true
    }
   },
   "outputs": [],
   "source": [
    "def store_SNV_info_from_SNV(SNV_DF_row):\n",
    "\n",
    "    ref_allele , alt_allele , ref_pos = list(SNV_DF_row)\n",
    "\n",
    "    #SNV is not documented at this Reference Position\n",
    "    if ref_pos not in ref_dict.keys():\n",
    "\n",
    "        #store a new row for SNV at this reference position; ref allele, alt allele 1, nan, nan, 1 isolate has polymorphism here (so far)\n",
    "        ref_dict[ref_pos] = ref_allele\n",
    "        alt1_dict[ref_pos] = alt_allele\n",
    "        alt2_dict[ref_pos] = np.nan\n",
    "        alt3_dict[ref_pos] = np.nan\n",
    "        num_isolates_dict[ref_pos] = 1\n",
    "\n",
    "    #a SNV is already documented at this Reference Position\n",
    "    else:\n",
    "\n",
    "        #check to see if specific allele is documented, if not add it\n",
    "        if alt_allele not in [alt1_dict[ref_pos] , alt2_dict[ref_pos] , alt3_dict[ref_pos]]:\n",
    "\n",
    "            #need to document presence of new allele in isolate pool (either going to be alt2 or alt3)\n",
    "            if ( type(alt2_dict[ref_pos])==float ) and ( np.isnan(alt2_dict[ref_pos]) ): #alt2 has not been found yet\n",
    "\n",
    "                alt2_dict[ref_pos] = alt_allele\n",
    "\n",
    "            elif ( type(alt3_dict[ref_pos])==float ) and ( np.isnan(alt3_dict[ref_pos]) ): #alt3 has not been found yet\n",
    "\n",
    "                alt3_dict[ref_pos] = alt_allele\n",
    "\n",
    "        #increment # of isolates that have a polymorphism here\n",
    "        num_isolates_dict[ref_pos] = num_isolates_dict[ref_pos] + 1"
   ]
  },
  {
   "cell_type": "code",
   "execution_count": null,
   "metadata": {
    "collapsed": true,
    "jupyter": {
     "outputs_hidden": true
    }
   },
   "outputs": [],
   "source": [
    "#create dictionaries to store SNV info for each isolate\n",
    "ref_dict = {}\n",
    "alt1_dict = {}\n",
    "alt2_dict = {}\n",
    "alt3_dict = {}\n",
    "num_isolates_dict = {}\n",
    "\n",
    "#iterate through all DataFrames for each isolate in rollingDB\n",
    "for pickled_SNV_DF in SNV_DF_list:\n",
    "    \n",
    "    #load SNV DF for isolates from pickled object\n",
    "    SNV_DF = pd.read_pickle('/n/data1/hms/dbmi/farhat/Roger/homoplasy_project/rolling_DB_scrape/all_HighQuality_SNVs_found_in_rollingDB/' + pickled_SNV_DF)\n",
    "\n",
    "    #extract important info from SNV df\n",
    "    _ = SNV_DF.apply(lambda row: store_SNV_info_from_SNV(row) , axis = 1 )  "
   ]
  },
  {
   "cell_type": "code",
   "execution_count": 23,
   "metadata": {},
   "outputs": [],
   "source": [
    "#construct DataFrame from dictionaries\n",
    "SNV_DF = pd.DataFrame( index = pd.Series( ref_dict.keys() ) )\n",
    "SNV_DF['ref'] = pd.Series(ref_dict)\n",
    "SNV_DF['alt1'] = pd.Series(alt1_dict)\n",
    "SNV_DF['alt2'] = pd.Series(alt2_dict)\n",
    "SNV_DF['alt3'] = pd.Series(alt3_dict)\n",
    "SNV_DF['num_isolates'] = pd.Series(num_isolates_dict)\n",
    "\n",
    "#make reference-position a column and re-index\n",
    "SNV_DF['pos'] = SNV_DF.index\n",
    "\n",
    "#sort according to reference position\n",
    "SNV_DF.sort_values(by = 'pos' , ascending = True , inplace = True)\n",
    "\n",
    "SNV_DF.reset_index(inplace = True , drop = True)"
   ]
  },
  {
   "cell_type": "markdown",
   "metadata": {},
   "source": [
    "#### Output Pickle files for downstream analysis"
   ]
  },
  {
   "cell_type": "code",
   "execution_count": 24,
   "metadata": {
    "tags": []
   },
   "outputs": [],
   "source": [
    "SNV_DF.to_pickle( '/n/data1/hms/dbmi/farhat/Roger/homoplasy_project/rolling_DB_scrape/all_HighQuality_SNVs_found_in_rollingDB_catalogues/seperate_HQ_SNV_DFs/HighQuality_SNVs_found_in_rollingDB_catalogue_' + job_number + '.pkl' )"
   ]
  },
  {
   "cell_type": "markdown",
   "metadata": {},
   "source": [
    "####################################################################################################################################################################################"
   ]
  },
  {
   "cell_type": "markdown",
   "metadata": {},
   "source": [
    "## [3] This section of the notebook launches the script that was created in the previous section of the notebook."
   ]
  },
  {
   "cell_type": "markdown",
   "metadata": {},
   "source": [
    "####################################################################################################################################################################################"
   ]
  },
  {
   "cell_type": "code",
   "execution_count": 4,
   "metadata": {},
   "outputs": [],
   "source": [
    "import os\n",
    "import pandas as pd\n",
    "from slurmpy import Slurm\n",
    "import numpy as np\n",
    "import itertools\n",
    "import shutil"
   ]
  },
  {
   "cell_type": "code",
   "execution_count": 5,
   "metadata": {},
   "outputs": [],
   "source": [
    "#list of all SNV DFs for each isolate that was run through MegaPipe in rollingDB\n",
    "SNV_DF_list = os.listdir('/n/data1/hms/dbmi/farhat/Roger/homoplasy_project/rolling_DB_scrape/all_HighQuality_SNVs_found_in_rollingDB')\n",
    "\n",
    "isolates_per_job = 500 #number of isolates each job will catalogue\n",
    "njobs = int( np.ceil( float( len( SNV_DF_list ) ) / float(isolates_per_job) ) ) #number of jobs required if we split for every 500 isolates"
   ]
  },
  {
   "cell_type": "code",
   "execution_count": 6,
   "metadata": {},
   "outputs": [
    {
     "name": "stdout",
     "output_type": "stream",
     "text": [
      "68\n"
     ]
    }
   ],
   "source": [
    "print njobs #number of jobs we will submit"
   ]
  },
  {
   "cell_type": "code",
   "execution_count": 7,
   "metadata": {
    "scrolled": true
   },
   "outputs": [
    {
     "name": "stderr",
     "output_type": "stream",
     "text": [
      "submitted: Submitted batch job 6825966\n"
     ]
    },
    {
     "name": "stdout",
     "output_type": "stream",
     "text": [
      "SNV_1 : 6825966\n"
     ]
    },
    {
     "name": "stderr",
     "output_type": "stream",
     "text": [
      "submitted: Submitted batch job 6825967\n"
     ]
    },
    {
     "name": "stdout",
     "output_type": "stream",
     "text": [
      "SNV_2 : 6825967\n"
     ]
    },
    {
     "name": "stderr",
     "output_type": "stream",
     "text": [
      "submitted: Submitted batch job 6825968\n",
      "submitted: Submitted batch job 6825969\n"
     ]
    },
    {
     "name": "stdout",
     "output_type": "stream",
     "text": [
      "SNV_3 : 6825968\n",
      "SNV_4 : 6825969\n"
     ]
    },
    {
     "name": "stderr",
     "output_type": "stream",
     "text": [
      "submitted: Submitted batch job 6825970\n",
      "submitted: Submitted batch job 6825971\n"
     ]
    },
    {
     "name": "stdout",
     "output_type": "stream",
     "text": [
      "SNV_5 : 6825970\n",
      "SNV_6 : 6825971\n"
     ]
    },
    {
     "name": "stderr",
     "output_type": "stream",
     "text": [
      "submitted: Submitted batch job 6825972\n",
      "submitted: Submitted batch job 6825973\n",
      "submitted: Submitted batch job 6825974\n"
     ]
    },
    {
     "name": "stdout",
     "output_type": "stream",
     "text": [
      "SNV_7 : 6825972\n",
      "SNV_8 : 6825973\n",
      "SNV_9 : 6825974\n"
     ]
    },
    {
     "name": "stderr",
     "output_type": "stream",
     "text": [
      "submitted: Submitted batch job 6825975\n",
      "submitted: Submitted batch job 6825976\n",
      "submitted: Submitted batch job 6825977\n",
      "submitted: Submitted batch job 6825978\n"
     ]
    },
    {
     "name": "stdout",
     "output_type": "stream",
     "text": [
      "SNV_10 : 6825975\n",
      "SNV_11 : 6825976\n",
      "SNV_12 : 6825977\n",
      "SNV_13 : 6825978\n"
     ]
    },
    {
     "name": "stderr",
     "output_type": "stream",
     "text": [
      "submitted: Submitted batch job 6825979\n",
      "submitted: Submitted batch job 6825980\n"
     ]
    },
    {
     "name": "stdout",
     "output_type": "stream",
     "text": [
      "SNV_14 : 6825979\n",
      "SNV_15 : 6825980\n"
     ]
    },
    {
     "name": "stderr",
     "output_type": "stream",
     "text": [
      "submitted: Submitted batch job 6825981\n",
      "submitted: Submitted batch job 6825982\n",
      "submitted: Submitted batch job 6825983\n",
      "submitted: Submitted batch job 6825984\n"
     ]
    },
    {
     "name": "stdout",
     "output_type": "stream",
     "text": [
      "SNV_16 : 6825981\n",
      "SNV_17 : 6825982\n",
      "SNV_18 : 6825983\n",
      "SNV_19 : 6825984\n"
     ]
    },
    {
     "name": "stderr",
     "output_type": "stream",
     "text": [
      "submitted: Submitted batch job 6825985\n"
     ]
    },
    {
     "name": "stdout",
     "output_type": "stream",
     "text": [
      "SNV_20 : 6825985\n"
     ]
    },
    {
     "name": "stderr",
     "output_type": "stream",
     "text": [
      "submitted: Submitted batch job 6825986\n",
      "submitted: Submitted batch job 6825987\n"
     ]
    },
    {
     "name": "stdout",
     "output_type": "stream",
     "text": [
      "SNV_21 : 6825986\n",
      "SNV_22 : 6825987\n"
     ]
    },
    {
     "name": "stderr",
     "output_type": "stream",
     "text": [
      "submitted: Submitted batch job 6825988\n",
      "submitted: Submitted batch job 6825989\n"
     ]
    },
    {
     "name": "stdout",
     "output_type": "stream",
     "text": [
      "SNV_23 : 6825988\n",
      "SNV_24 : 6825989\n"
     ]
    },
    {
     "name": "stderr",
     "output_type": "stream",
     "text": [
      "submitted: Submitted batch job 6825990\n",
      "submitted: Submitted batch job 6825991\n"
     ]
    },
    {
     "name": "stdout",
     "output_type": "stream",
     "text": [
      "SNV_25 : 6825990\n",
      "SNV_26 : 6825991\n"
     ]
    },
    {
     "name": "stderr",
     "output_type": "stream",
     "text": [
      "submitted: Submitted batch job 6825992\n",
      "submitted: Submitted batch job 6825993\n"
     ]
    },
    {
     "name": "stdout",
     "output_type": "stream",
     "text": [
      "SNV_27 : 6825992\n",
      "SNV_28 : 6825993\n"
     ]
    },
    {
     "name": "stderr",
     "output_type": "stream",
     "text": [
      "submitted: Submitted batch job 6825994\n",
      "submitted: Submitted batch job 6825995\n",
      "submitted: Submitted batch job 6825996\n"
     ]
    },
    {
     "name": "stdout",
     "output_type": "stream",
     "text": [
      "SNV_29 : 6825994\n",
      "SNV_30 : 6825995\n",
      "SNV_31 : 6825996\n"
     ]
    },
    {
     "name": "stderr",
     "output_type": "stream",
     "text": [
      "submitted: Submitted batch job 6825997\n",
      "submitted: Submitted batch job 6825998\n",
      "submitted: Submitted batch job 6825999\n"
     ]
    },
    {
     "name": "stdout",
     "output_type": "stream",
     "text": [
      "SNV_32 : 6825997\n",
      "SNV_33 : 6825998\n",
      "SNV_34 : 6825999\n"
     ]
    },
    {
     "name": "stderr",
     "output_type": "stream",
     "text": [
      "submitted: Submitted batch job 6826000\n",
      "submitted: Submitted batch job 6826001\n",
      "submitted: Submitted batch job 6826002\n"
     ]
    },
    {
     "name": "stdout",
     "output_type": "stream",
     "text": [
      "SNV_35 : 6826000\n",
      "SNV_36 : 6826001\n",
      "SNV_37 : 6826002\n"
     ]
    },
    {
     "name": "stderr",
     "output_type": "stream",
     "text": [
      "submitted: Submitted batch job 6826003\n",
      "submitted: Submitted batch job 6826004\n"
     ]
    },
    {
     "name": "stdout",
     "output_type": "stream",
     "text": [
      "SNV_38 : 6826003\n",
      "SNV_39 : 6826004\n"
     ]
    },
    {
     "name": "stderr",
     "output_type": "stream",
     "text": [
      "submitted: Submitted batch job 6826005\n"
     ]
    },
    {
     "name": "stdout",
     "output_type": "stream",
     "text": [
      "SNV_40 : 6826005\n"
     ]
    },
    {
     "name": "stderr",
     "output_type": "stream",
     "text": [
      "submitted: Submitted batch job 6826006\n",
      "submitted: Submitted batch job 6826007\n",
      "submitted: Submitted batch job 6826008\n",
      "submitted: Submitted batch job 6826009\n"
     ]
    },
    {
     "name": "stdout",
     "output_type": "stream",
     "text": [
      "SNV_41 : 6826006\n",
      "SNV_42 : 6826007\n",
      "SNV_43 : 6826008\n",
      "SNV_44 : 6826009\n"
     ]
    },
    {
     "name": "stderr",
     "output_type": "stream",
     "text": [
      "submitted: Submitted batch job 6826010\n",
      "submitted: Submitted batch job 6826011\n",
      "submitted: Submitted batch job 6826012\n"
     ]
    },
    {
     "name": "stdout",
     "output_type": "stream",
     "text": [
      "SNV_45 : 6826010\n",
      "SNV_46 : 6826011\n",
      "SNV_47 : 6826012\n"
     ]
    },
    {
     "name": "stderr",
     "output_type": "stream",
     "text": [
      "submitted: Submitted batch job 6826013\n",
      "submitted: Submitted batch job 6826014\n"
     ]
    },
    {
     "name": "stdout",
     "output_type": "stream",
     "text": [
      "SNV_48 : 6826013\n",
      "SNV_49 : 6826014\n"
     ]
    },
    {
     "name": "stderr",
     "output_type": "stream",
     "text": [
      "submitted: Submitted batch job 6826015\n",
      "submitted: Submitted batch job 6826016\n",
      "submitted: Submitted batch job 6826017\n",
      "submitted: Submitted batch job 6826018\n"
     ]
    },
    {
     "name": "stdout",
     "output_type": "stream",
     "text": [
      "SNV_50 : 6826015\n",
      "SNV_51 : 6826016\n",
      "SNV_52 : 6826017\n",
      "SNV_53 : 6826018\n"
     ]
    },
    {
     "name": "stderr",
     "output_type": "stream",
     "text": [
      "submitted: Submitted batch job 6826019\n"
     ]
    },
    {
     "name": "stdout",
     "output_type": "stream",
     "text": [
      "SNV_54 : 6826019\n"
     ]
    },
    {
     "name": "stderr",
     "output_type": "stream",
     "text": [
      "submitted: Submitted batch job 6826020\n",
      "submitted: Submitted batch job 6826021\n",
      "submitted: Submitted batch job 6826022\n",
      "submitted: Submitted batch job 6826023\n"
     ]
    },
    {
     "name": "stdout",
     "output_type": "stream",
     "text": [
      "SNV_55 : 6826020\n",
      "SNV_56 : 6826021\n",
      "SNV_57 : 6826022\n",
      "SNV_58 : 6826023\n"
     ]
    },
    {
     "name": "stderr",
     "output_type": "stream",
     "text": [
      "submitted: Submitted batch job 6826024\n",
      "submitted: Submitted batch job 6826025\n",
      "submitted: Submitted batch job 6826026\n",
      "submitted: Submitted batch job 6826027\n"
     ]
    },
    {
     "name": "stdout",
     "output_type": "stream",
     "text": [
      "SNV_59 : 6826024\n",
      "SNV_60 : 6826025\n",
      "SNV_61 : 6826026\n",
      "SNV_62 : 6826027\n"
     ]
    },
    {
     "name": "stderr",
     "output_type": "stream",
     "text": [
      "submitted: Submitted batch job 6826028\n",
      "submitted: Submitted batch job 6826029\n",
      "submitted: Submitted batch job 6826030\n",
      "submitted: Submitted batch job 6826031\n"
     ]
    },
    {
     "name": "stdout",
     "output_type": "stream",
     "text": [
      "SNV_63 : 6826028\n",
      "SNV_64 : 6826029\n",
      "SNV_65 : 6826030\n",
      "SNV_66 : 6826031\n",
      "SNV_67 : 6826032\n",
      "SNV_68 : 6826033\n"
     ]
    },
    {
     "name": "stderr",
     "output_type": "stream",
     "text": [
      "submitted: Submitted batch job 6826032\n",
      "submitted: Submitted batch job 6826033\n"
     ]
    }
   ],
   "source": [
    "first_isolate_index = 0\n",
    "max_isolate_index = int( len( SNV_DF_list ) )\n",
    "\n",
    "#run each job using a difference set of indices for isolates that we will catalogue SNVs from\n",
    "for job_number in np.arange(1 , njobs+1):\n",
    "\n",
    "    last_isolate_index = first_isolate_index + isolates_per_job\n",
    "    if last_isolate_index > max_isolate_index: #watch out for the last job\n",
    "        last_isolate_index = max_isolate_index\n",
    "    \n",
    "    rollingDB_SNV_cataloging_job = 'python /home/rv76/Farhat_Lab/Python_Scripts/homoplasy_project/rollingDB_HQ_SNV_catalogue_scrape.py ' + str(first_isolate_index) + ' ' + str(last_isolate_index) + ' ' + str(job_number)\n",
    "    \n",
    "    #directory where you want output + error files\n",
    "    os.chdir('/n/data1/hms/dbmi/farhat/Roger/homoplasy_project/rolling_DB_scrape/all_HighQuality_SNVs_found_in_rollingDB_catalogues/SNV_catalogue_scrape_jobs/')\n",
    "\n",
    "    job_name = 'SNV_' + str(job_number)\n",
    "\n",
    "    s = Slurm(job_name , {'partition':'short' , 'N':'1' , 't':'0-01:00:00' , 'mem':'4G' , 'mail-type':'FAIL' , 'mail-user':'roger_vargas@g.harvard.edu'})\n",
    "\n",
    "    #submits the job\n",
    "    job_id = s.run(rollingDB_SNV_cataloging_job)\n",
    "\n",
    "    print job_name  + ' : ' +  str(job_id)\n",
    "    \n",
    "    #setup isolate indices for next job\n",
    "    first_isolate_index = last_isolate_index"
   ]
  },
  {
   "cell_type": "markdown",
   "metadata": {},
   "source": [
    "####################################################################################################################################################################################"
   ]
  },
  {
   "cell_type": "markdown",
   "metadata": {},
   "source": [
    "## [4] The purpose of this section of the notebook is generate the master catalogue of (high-quality) SNV calls made in rollingDB by merging the catalogues of SNVs found in seperate batches of isolates."
   ]
  },
  {
   "cell_type": "markdown",
   "metadata": {},
   "source": [
    "####################################################################################################################################################################################"
   ]
  },
  {
   "cell_type": "code",
   "execution_count": 8,
   "metadata": {},
   "outputs": [],
   "source": [
    "import os\n",
    "import pandas as pd\n",
    "import numpy as np\n",
    "import ast\n",
    "import itertools\n",
    "import time\n",
    "import sys\n",
    "import itertools"
   ]
  },
  {
   "cell_type": "code",
   "execution_count": 9,
   "metadata": {},
   "outputs": [],
   "source": [
    "#INPUTS\n",
    "njobs = 68 #number of seperate SNV catalogues for subsets of isolates in rollingDB"
   ]
  },
  {
   "cell_type": "markdown",
   "metadata": {},
   "source": [
    "#### Load in SNV catalogue(s) (High Quality SNV calls across all isolates in RollingDB)"
   ]
  },
  {
   "cell_type": "markdown",
   "metadata": {},
   "source": [
    "We're going to iterate through each DataFrame (catalogue of SNVs detected within each batch of isolates) and create a master DF of all SNVs detected within all the isolates in rollingDB."
   ]
  },
  {
   "cell_type": "code",
   "execution_count": 10,
   "metadata": {},
   "outputs": [],
   "source": [
    "def convert_SNV_DF_rows_to_DICT_elments(row):\n",
    "    \n",
    "    '''\n",
    "    This function converts the row of a SNV catalogue DF to a\n",
    "    list with two elements: (1) The Reference Position of an SNV detected within a subset of isolates\n",
    "    and (2) another list containing the Reference Allele, all Alternate Alleles, and Number of Isolates\n",
    "    with an SNV at this Reference Position\n",
    "    '''\n",
    "    \n",
    "    #create set of alternate alleles present for this SNV\n",
    "    alt_alleles_SNV_i = set( [row['alt1'] , row['alt2'] , row['alt3']] )\n",
    "    #purge nan values\n",
    "    alt_alleles_SNV_i = {x for x in alt_alleles_SNV_i if x==x}\n",
    "        \n",
    "    return [ row['pos'] , [row['ref'] , alt_alleles_SNV_i , row['num_isolates']] ]\n",
    "\n",
    "def convert_SNV_DF_to_DICT(SNV_DF):\n",
    "    \n",
    "    '''\n",
    "    This function takes an SNV DF catalogue for a subset of isolates and converts it into \n",
    "    an SNV DICT catalogue using the function above by applying it to each row.\n",
    "    '''\n",
    "    \n",
    "    SNV_dict = SNV_DF.apply( convert_SNV_DF_rows_to_DICT_elments , axis = 1 )\n",
    "    return dict(list( SNV_dict.values ))"
   ]
  },
  {
   "cell_type": "markdown",
   "metadata": {},
   "source": [
    "#### Convert SNV catalogue(s) DFs to SNV catalogue DICTs and store SNP catalogue info across jobs"
   ]
  },
  {
   "cell_type": "code",
   "execution_count": 11,
   "metadata": {
    "scrolled": true
   },
   "outputs": [
    {
     "name": "stdout",
     "output_type": "stream",
     "text": [
      "1\n",
      "2\n",
      "3\n",
      "4\n",
      "5\n",
      "6\n",
      "7\n",
      "8\n",
      "9\n",
      "10\n",
      "11\n",
      "12\n",
      "13\n",
      "14\n",
      "15\n",
      "16\n",
      "17\n",
      "18\n",
      "19\n",
      "20\n",
      "21\n",
      "22\n",
      "23\n",
      "24\n",
      "25\n",
      "26\n",
      "27\n",
      "28\n",
      "29\n",
      "30\n",
      "31\n",
      "32\n",
      "33\n",
      "34\n",
      "35\n",
      "36\n",
      "37\n",
      "38\n",
      "39\n",
      "40\n",
      "41\n",
      "42\n",
      "43\n",
      "44\n",
      "45\n",
      "46\n",
      "47\n",
      "48\n",
      "49\n",
      "50\n",
      "51\n",
      "52\n",
      "53\n",
      "54\n",
      "55\n",
      "56\n",
      "57\n",
      "58\n",
      "59\n",
      "60\n",
      "61\n",
      "62\n",
      "63\n",
      "64\n",
      "65\n",
      "66\n",
      "67\n",
      "68\n"
     ]
    }
   ],
   "source": [
    "#master set of all reference positions detected within rollingDB (faster to query a set)\n",
    "SNV_set_Ref_Position = set([])\n",
    "\n",
    "#master dictionaries of all SNVs detected within rollingDB\n",
    "SNV_dict_Ref_Allele = {} #keys - reference position; values - ref_allele (string)\n",
    "SNV_dict_Alt_Allele = {} #keys - reference position; values - alt_alleles (set)\n",
    "SNV_dict_Num_Isolates = {} #keys - reference position; values - num_isolates (int)\n",
    "\n",
    "for job_num in np.arange(1 , njobs+1):\n",
    "    \n",
    "    #load the SNV DataFrame holding SNVs from the batch of isolates\n",
    "    SNV_DF_subset = pd.read_pickle( '/n/data1/hms/dbmi/farhat/Roger/homoplasy_project/rolling_DB_scrape/all_HighQuality_SNVs_found_in_rollingDB_catalogues/seperate_HQ_SNV_DFs/HighQuality_SNVs_found_in_rollingDB_catalogue_' + str(job_num) + '.pkl' )\n",
    "    \n",
    "    #convert SNV DataFrame to an SNV Dict\n",
    "    SNV_dict_subset = convert_SNV_DF_to_DICT(SNV_DF_subset)\n",
    "    \n",
    "    #iterate through each SNV in Dict\n",
    "    for ref_pos in SNV_dict_subset.keys():\n",
    "        \n",
    "        #update master SNV catalogue dict with SNV info\n",
    "        ref , alt_alleles_SNV_i , num_isolates = SNV_dict_subset[ref_pos]\n",
    "    \n",
    "        #[A] reference position not stored in master SNV dictionaries\n",
    "        ##if ref_pos not in SNV_dict_Ref_Allele.keys():\n",
    "        if ref_pos not in SNV_set_Ref_Position:\n",
    "            \n",
    "            SNV_set_Ref_Position.add(ref_pos)\n",
    "            \n",
    "            SNV_dict_Ref_Allele[ref_pos] = ref\n",
    "            SNV_dict_Alt_Allele[ref_pos] = alt_alleles_SNV_i\n",
    "            SNV_dict_Num_Isolates[ref_pos] = num_isolates\n",
    "        \n",
    "        #[B] reference position already stored in master SNV dictionaries\n",
    "        else:\n",
    "            \n",
    "            #update SNV info with new SNV info (ref_allele stays the same)\n",
    "            SNV_dict_Alt_Allele[ref_pos] = SNV_dict_Alt_Allele[ref_pos].union(alt_alleles_SNV_i) #store any new alleles detected\n",
    "            SNV_dict_Num_Isolates[ref_pos] = SNV_dict_Num_Isolates[ref_pos] + num_isolates #add number of isolates\n",
    "            \n",
    "    #keep track of progress\n",
    "    print job_num"
   ]
  },
  {
   "cell_type": "markdown",
   "metadata": {},
   "source": [
    "#### Convert master SNV dict to SNV df "
   ]
  },
  {
   "cell_type": "code",
   "execution_count": 12,
   "metadata": {},
   "outputs": [],
   "source": [
    "#convert dictionaries into pandas series objects\n",
    "SNV_series_Ref_Allele = pd.Series(SNV_dict_Ref_Allele , name = 'ref')\n",
    "SNV_series_Alt_Allele = pd.Series(SNV_dict_Alt_Allele , name = 'alt')\n",
    "SNV_series_Num_Isolates = pd.Series(SNV_dict_Num_Isolates , name = 'num_isolates')\n",
    "\n",
    "#construct DataFrame from Series objects\n",
    "SNV_DF = pd.DataFrame([SNV_series_Ref_Allele , SNV_series_Alt_Allele , SNV_series_Num_Isolates]).T\n",
    "\n",
    "#convert Alternate Allele(s) column to list\n",
    "SNV_DF['alt'] = SNV_DF.alt.apply(list)\n",
    "\n",
    "#create a column for reference position\n",
    "SNV_DF['pos'] = list(SNV_DF.index)\n",
    "\n",
    "#re-index DataFrame\n",
    "SNV_DF.reset_index(inplace = True , drop = True)\n",
    "\n",
    "#store master SNV DataFrame as a pickled object\n",
    "SNV_DF.to_pickle( '/n/data1/hms/dbmi/farhat/Roger/homoplasy_project/rolling_DB_scrape/all_HighQuality_SNVs_found_in_rollingDB_catalogues/all_HighQuality_SNVs_found_in_rollingDB_catalogue.pkl' )"
   ]
  },
  {
   "cell_type": "markdown",
   "metadata": {},
   "source": [
    "#### Use to load pickle"
   ]
  },
  {
   "cell_type": "code",
   "execution_count": 13,
   "metadata": {},
   "outputs": [],
   "source": [
    "SNV_DF = pd.read_pickle('/n/data1/hms/dbmi/farhat/Roger/homoplasy_project/rolling_DB_scrape/all_HighQuality_SNVs_found_in_rollingDB_catalogues/all_HighQuality_SNVs_found_in_rollingDB_catalogue.pkl')"
   ]
  },
  {
   "cell_type": "code",
   "execution_count": 14,
   "metadata": {},
   "outputs": [
    {
     "data": {
      "text/html": [
       "<div>\n",
       "<style>\n",
       "    .dataframe thead tr:only-child th {\n",
       "        text-align: right;\n",
       "    }\n",
       "\n",
       "    .dataframe thead th {\n",
       "        text-align: left;\n",
       "    }\n",
       "\n",
       "    .dataframe tbody tr th {\n",
       "        vertical-align: top;\n",
       "    }\n",
       "</style>\n",
       "<table border=\"1\" class=\"dataframe\">\n",
       "  <thead>\n",
       "    <tr style=\"text-align: right;\">\n",
       "      <th></th>\n",
       "      <th>ref</th>\n",
       "      <th>alt</th>\n",
       "      <th>num_isolates</th>\n",
       "      <th>pos</th>\n",
       "    </tr>\n",
       "  </thead>\n",
       "  <tbody>\n",
       "    <tr>\n",
       "      <th>0</th>\n",
       "      <td>A</td>\n",
       "      <td>[C]</td>\n",
       "      <td>3</td>\n",
       "      <td>8</td>\n",
       "    </tr>\n",
       "    <tr>\n",
       "      <th>1</th>\n",
       "      <td>G</td>\n",
       "      <td>[C]</td>\n",
       "      <td>1</td>\n",
       "      <td>10</td>\n",
       "    </tr>\n",
       "    <tr>\n",
       "      <th>2</th>\n",
       "      <td>A</td>\n",
       "      <td>[C]</td>\n",
       "      <td>11</td>\n",
       "      <td>11</td>\n",
       "    </tr>\n",
       "    <tr>\n",
       "      <th>3</th>\n",
       "      <td>C</td>\n",
       "      <td>[T]</td>\n",
       "      <td>1</td>\n",
       "      <td>15</td>\n",
       "    </tr>\n",
       "    <tr>\n",
       "      <th>4</th>\n",
       "      <td>G</td>\n",
       "      <td>[C]</td>\n",
       "      <td>1</td>\n",
       "      <td>16</td>\n",
       "    </tr>\n",
       "  </tbody>\n",
       "</table>\n",
       "</div>"
      ],
      "text/plain": [
       "  ref  alt num_isolates  pos\n",
       "0   A  [C]            3    8\n",
       "1   G  [C]            1   10\n",
       "2   A  [C]           11   11\n",
       "3   C  [T]            1   15\n",
       "4   G  [C]            1   16"
      ]
     },
     "execution_count": 14,
     "metadata": {},
     "output_type": "execute_result"
    }
   ],
   "source": [
    "SNV_DF.head()"
   ]
  },
  {
   "cell_type": "code",
   "execution_count": 15,
   "metadata": {},
   "outputs": [
    {
     "data": {
      "text/html": [
       "<div>\n",
       "<style>\n",
       "    .dataframe thead tr:only-child th {\n",
       "        text-align: right;\n",
       "    }\n",
       "\n",
       "    .dataframe thead th {\n",
       "        text-align: left;\n",
       "    }\n",
       "\n",
       "    .dataframe tbody tr th {\n",
       "        vertical-align: top;\n",
       "    }\n",
       "</style>\n",
       "<table border=\"1\" class=\"dataframe\">\n",
       "  <thead>\n",
       "    <tr style=\"text-align: right;\">\n",
       "      <th></th>\n",
       "      <th>ref</th>\n",
       "      <th>alt</th>\n",
       "      <th>num_isolates</th>\n",
       "      <th>pos</th>\n",
       "    </tr>\n",
       "  </thead>\n",
       "  <tbody>\n",
       "    <tr>\n",
       "      <th>899030</th>\n",
       "      <td>A</td>\n",
       "      <td>[C]</td>\n",
       "      <td>1</td>\n",
       "      <td>4411513</td>\n",
       "    </tr>\n",
       "    <tr>\n",
       "      <th>899031</th>\n",
       "      <td>G</td>\n",
       "      <td>[A]</td>\n",
       "      <td>1</td>\n",
       "      <td>4411514</td>\n",
       "    </tr>\n",
       "    <tr>\n",
       "      <th>899032</th>\n",
       "      <td>A</td>\n",
       "      <td>[G]</td>\n",
       "      <td>1</td>\n",
       "      <td>4411516</td>\n",
       "    </tr>\n",
       "    <tr>\n",
       "      <th>899033</th>\n",
       "      <td>C</td>\n",
       "      <td>[T]</td>\n",
       "      <td>4</td>\n",
       "      <td>4411518</td>\n",
       "    </tr>\n",
       "    <tr>\n",
       "      <th>899034</th>\n",
       "      <td>G</td>\n",
       "      <td>[A]</td>\n",
       "      <td>3</td>\n",
       "      <td>4411522</td>\n",
       "    </tr>\n",
       "  </tbody>\n",
       "</table>\n",
       "</div>"
      ],
      "text/plain": [
       "       ref  alt num_isolates      pos\n",
       "899030   A  [C]            1  4411513\n",
       "899031   G  [A]            1  4411514\n",
       "899032   A  [G]            1  4411516\n",
       "899033   C  [T]            4  4411518\n",
       "899034   G  [A]            3  4411522"
      ]
     },
     "execution_count": 15,
     "metadata": {},
     "output_type": "execute_result"
    }
   ],
   "source": [
    "SNV_DF.tail()"
   ]
  },
  {
   "cell_type": "code",
   "execution_count": 16,
   "metadata": {},
   "outputs": [
    {
     "data": {
      "text/plain": [
       "(899035, 4)"
      ]
     },
     "execution_count": 16,
     "metadata": {},
     "output_type": "execute_result"
    }
   ],
   "source": [
    "np.shape(SNV_DF)"
   ]
  },
  {
   "cell_type": "markdown",
   "metadata": {},
   "source": [
    "####################################################################################################################################################################################"
   ]
  },
  {
   "cell_type": "markdown",
   "metadata": {},
   "source": [
    "## [5] The purpose of this section of the notebook is to analyze the catalogue of (high-quality) SNV calls made in rollingDB. For population genetic analyses, we will retain only SNVs that are present in at least 1 isolate. We then construct a skeleton genotype DF (rows = Reference Position , columns = isolates) for all of the remaining SNVs."
   ]
  },
  {
   "cell_type": "markdown",
   "metadata": {},
   "source": [
    "####################################################################################################################################################################################"
   ]
  },
  {
   "cell_type": "markdown",
   "metadata": {},
   "source": [
    "### Construct a series for the isolate annotation"
   ]
  },
  {
   "cell_type": "code",
   "execution_count": 17,
   "metadata": {},
   "outputs": [],
   "source": [
    "HQ_SNV_per_isolate_files = os.listdir('/n/data1/hms/dbmi/farhat/Roger/homoplasy_project/rolling_DB_scrape/all_HighQuality_SNVs_found_in_rollingDB/')\n",
    "isolate_ids_list = [isolate_id.split('_SNV')[0] for isolate_id in HQ_SNV_per_isolate_files]\n",
    "isolate_id_series = pd.Series(isolate_ids_list)"
   ]
  },
  {
   "cell_type": "code",
   "execution_count": 18,
   "metadata": {},
   "outputs": [
    {
     "data": {
      "text/plain": [
       "0    SAMEA3558733\n",
       "1    SAMN05575260\n",
       "2    SAMN03648641\n",
       "3    SAMN03647419\n",
       "4    SAMEA3671418\n",
       "dtype: object"
      ]
     },
     "execution_count": 18,
     "metadata": {},
     "output_type": "execute_result"
    }
   ],
   "source": [
    "isolate_id_series.head() #index = column indices of genotype matrix, values isolate IDs"
   ]
  },
  {
   "cell_type": "code",
   "execution_count": 19,
   "metadata": {},
   "outputs": [
    {
     "data": {
      "text/plain": [
       "(33875,)"
      ]
     },
     "execution_count": 19,
     "metadata": {},
     "output_type": "execute_result"
    }
   ],
   "source": [
    "np.shape(isolate_id_series)"
   ]
  },
  {
   "cell_type": "markdown",
   "metadata": {},
   "source": [
    "#### Remove 2 bad isolates from isolate annotation"
   ]
  },
  {
   "cell_type": "markdown",
   "metadata": {},
   "source": [
    "**Remove:** Delete ID for isolate **IDR1400002533** since Full GZipped VCF looks corrupt and remove from list accordingly!"
   ]
  },
  {
   "cell_type": "code",
   "execution_count": 20,
   "metadata": {},
   "outputs": [],
   "source": [
    "isolate_id_series = isolate_id_series[isolate_id_series != 'IDR1400002533']"
   ]
  },
  {
   "cell_type": "markdown",
   "metadata": {},
   "source": [
    "**Remove:** Delete ID for **Peru4994** since F2 calculations keeps failing for this isolate (lineage-defining SNP depths df is empty) **Think this is because sample has very low coverage**"
   ]
  },
  {
   "cell_type": "code",
   "execution_count": 21,
   "metadata": {},
   "outputs": [],
   "source": [
    "isolate_id_series = isolate_id_series[isolate_id_series != 'Peru4994']"
   ]
  },
  {
   "cell_type": "code",
   "execution_count": 22,
   "metadata": {},
   "outputs": [],
   "source": [
    "isolate_id_series.reset_index(inplace = True, drop = True)"
   ]
  },
  {
   "cell_type": "code",
   "execution_count": 23,
   "metadata": {},
   "outputs": [
    {
     "data": {
      "text/plain": [
       "0    SAMEA3558733\n",
       "1    SAMN05575260\n",
       "2    SAMN03648641\n",
       "3    SAMN03647419\n",
       "4    SAMEA3671418\n",
       "dtype: object"
      ]
     },
     "execution_count": 23,
     "metadata": {},
     "output_type": "execute_result"
    }
   ],
   "source": [
    "isolate_id_series.head()"
   ]
  },
  {
   "cell_type": "code",
   "execution_count": 24,
   "metadata": {},
   "outputs": [
    {
     "data": {
      "text/plain": [
       "33873"
      ]
     },
     "execution_count": 24,
     "metadata": {},
     "output_type": "execute_result"
    }
   ],
   "source": [
    "len(isolate_id_series)"
   ]
  },
  {
   "cell_type": "code",
   "execution_count": 25,
   "metadata": {},
   "outputs": [],
   "source": [
    "isolate_id_series.to_pickle( '/n/data1/hms/dbmi/farhat/Roger/homoplasy_project/rolling_DB_scrape/Genotypes/genotypes_isolate_annotation.pkl' )"
   ]
  },
  {
   "cell_type": "markdown",
   "metadata": {},
   "source": [
    "### Load in catologue of SNVs detected within rollingDB"
   ]
  },
  {
   "cell_type": "code",
   "execution_count": 26,
   "metadata": {},
   "outputs": [],
   "source": [
    "#SNV data for all isoaltes in rollingDB \n",
    "SNV_DF = pd.read_pickle( '/n/data1/hms/dbmi/farhat/Roger/homoplasy_project/rolling_DB_scrape/all_HighQuality_SNVs_found_in_rollingDB_catalogues/all_HighQuality_SNVs_found_in_rollingDB_catalogue.pkl' )"
   ]
  },
  {
   "cell_type": "code",
   "execution_count": 27,
   "metadata": {},
   "outputs": [
    {
     "data": {
      "text/html": [
       "<div>\n",
       "<style>\n",
       "    .dataframe thead tr:only-child th {\n",
       "        text-align: right;\n",
       "    }\n",
       "\n",
       "    .dataframe thead th {\n",
       "        text-align: left;\n",
       "    }\n",
       "\n",
       "    .dataframe tbody tr th {\n",
       "        vertical-align: top;\n",
       "    }\n",
       "</style>\n",
       "<table border=\"1\" class=\"dataframe\">\n",
       "  <thead>\n",
       "    <tr style=\"text-align: right;\">\n",
       "      <th></th>\n",
       "      <th>ref</th>\n",
       "      <th>alt</th>\n",
       "      <th>num_isolates</th>\n",
       "      <th>pos</th>\n",
       "    </tr>\n",
       "  </thead>\n",
       "  <tbody>\n",
       "    <tr>\n",
       "      <th>0</th>\n",
       "      <td>A</td>\n",
       "      <td>[C]</td>\n",
       "      <td>3</td>\n",
       "      <td>8</td>\n",
       "    </tr>\n",
       "    <tr>\n",
       "      <th>1</th>\n",
       "      <td>G</td>\n",
       "      <td>[C]</td>\n",
       "      <td>1</td>\n",
       "      <td>10</td>\n",
       "    </tr>\n",
       "    <tr>\n",
       "      <th>2</th>\n",
       "      <td>A</td>\n",
       "      <td>[C]</td>\n",
       "      <td>11</td>\n",
       "      <td>11</td>\n",
       "    </tr>\n",
       "    <tr>\n",
       "      <th>3</th>\n",
       "      <td>C</td>\n",
       "      <td>[T]</td>\n",
       "      <td>1</td>\n",
       "      <td>15</td>\n",
       "    </tr>\n",
       "    <tr>\n",
       "      <th>4</th>\n",
       "      <td>G</td>\n",
       "      <td>[C]</td>\n",
       "      <td>1</td>\n",
       "      <td>16</td>\n",
       "    </tr>\n",
       "  </tbody>\n",
       "</table>\n",
       "</div>"
      ],
      "text/plain": [
       "  ref  alt num_isolates  pos\n",
       "0   A  [C]            3    8\n",
       "1   G  [C]            1   10\n",
       "2   A  [C]           11   11\n",
       "3   C  [T]            1   15\n",
       "4   G  [C]            1   16"
      ]
     },
     "execution_count": 27,
     "metadata": {},
     "output_type": "execute_result"
    }
   ],
   "source": [
    "SNV_DF.head()"
   ]
  },
  {
   "cell_type": "code",
   "execution_count": 28,
   "metadata": {},
   "outputs": [
    {
     "data": {
      "text/plain": [
       "(899035, 4)"
      ]
     },
     "execution_count": 28,
     "metadata": {},
     "output_type": "execute_result"
    }
   ],
   "source": [
    "np.shape(SNV_DF)"
   ]
  },
  {
   "cell_type": "markdown",
   "metadata": {},
   "source": [
    "#### How many SNPs are not biallelic?"
   ]
  },
  {
   "cell_type": "code",
   "execution_count": 29,
   "metadata": {},
   "outputs": [
    {
     "data": {
      "text/plain": [
       "64950"
      ]
     },
     "execution_count": 29,
     "metadata": {},
     "output_type": "execute_result"
    }
   ],
   "source": [
    "#SNPs that are not biallelic will have more than 1 alternate allele\n",
    "np.sum( SNV_DF.alt.apply(len) > 1 )"
   ]
  },
  {
   "cell_type": "code",
   "execution_count": 30,
   "metadata": {},
   "outputs": [
    {
     "data": {
      "text/html": [
       "<div>\n",
       "<style>\n",
       "    .dataframe thead tr:only-child th {\n",
       "        text-align: right;\n",
       "    }\n",
       "\n",
       "    .dataframe thead th {\n",
       "        text-align: left;\n",
       "    }\n",
       "\n",
       "    .dataframe tbody tr th {\n",
       "        vertical-align: top;\n",
       "    }\n",
       "</style>\n",
       "<table border=\"1\" class=\"dataframe\">\n",
       "  <thead>\n",
       "    <tr style=\"text-align: right;\">\n",
       "      <th></th>\n",
       "      <th>ref</th>\n",
       "      <th>alt</th>\n",
       "      <th>num_isolates</th>\n",
       "      <th>pos</th>\n",
       "    </tr>\n",
       "  </thead>\n",
       "  <tbody>\n",
       "    <tr>\n",
       "      <th>8</th>\n",
       "      <td>A</td>\n",
       "      <td>[C, G]</td>\n",
       "      <td>12</td>\n",
       "      <td>31</td>\n",
       "    </tr>\n",
       "    <tr>\n",
       "      <th>13</th>\n",
       "      <td>G</td>\n",
       "      <td>[A, T]</td>\n",
       "      <td>3</td>\n",
       "      <td>67</td>\n",
       "    </tr>\n",
       "    <tr>\n",
       "      <th>28</th>\n",
       "      <td>C</td>\n",
       "      <td>[A, T]</td>\n",
       "      <td>17</td>\n",
       "      <td>108</td>\n",
       "    </tr>\n",
       "    <tr>\n",
       "      <th>30</th>\n",
       "      <td>C</td>\n",
       "      <td>[A, T]</td>\n",
       "      <td>2</td>\n",
       "      <td>116</td>\n",
       "    </tr>\n",
       "    <tr>\n",
       "      <th>36</th>\n",
       "      <td>T</td>\n",
       "      <td>[C, G]</td>\n",
       "      <td>4</td>\n",
       "      <td>147</td>\n",
       "    </tr>\n",
       "    <tr>\n",
       "      <th>45</th>\n",
       "      <td>G</td>\n",
       "      <td>[A, C]</td>\n",
       "      <td>2</td>\n",
       "      <td>186</td>\n",
       "    </tr>\n",
       "    <tr>\n",
       "      <th>48</th>\n",
       "      <td>G</td>\n",
       "      <td>[C, T]</td>\n",
       "      <td>3</td>\n",
       "      <td>195</td>\n",
       "    </tr>\n",
       "    <tr>\n",
       "      <th>51</th>\n",
       "      <td>G</td>\n",
       "      <td>[A, C]</td>\n",
       "      <td>4</td>\n",
       "      <td>203</td>\n",
       "    </tr>\n",
       "    <tr>\n",
       "      <th>55</th>\n",
       "      <td>G</td>\n",
       "      <td>[A, C]</td>\n",
       "      <td>2</td>\n",
       "      <td>234</td>\n",
       "    </tr>\n",
       "    <tr>\n",
       "      <th>56</th>\n",
       "      <td>G</td>\n",
       "      <td>[A, T]</td>\n",
       "      <td>2</td>\n",
       "      <td>236</td>\n",
       "    </tr>\n",
       "  </tbody>\n",
       "</table>\n",
       "</div>"
      ],
      "text/plain": [
       "   ref     alt num_isolates  pos\n",
       "8    A  [C, G]           12   31\n",
       "13   G  [A, T]            3   67\n",
       "28   C  [A, T]           17  108\n",
       "30   C  [A, T]            2  116\n",
       "36   T  [C, G]            4  147\n",
       "45   G  [A, C]            2  186\n",
       "48   G  [C, T]            3  195\n",
       "51   G  [A, C]            4  203\n",
       "55   G  [A, C]            2  234\n",
       "56   G  [A, T]            2  236"
      ]
     },
     "execution_count": 30,
     "metadata": {},
     "output_type": "execute_result"
    }
   ],
   "source": [
    "SNV_DF[SNV_DF.alt.apply(len) > 1].head(n = 10)"
   ]
  },
  {
   "cell_type": "code",
   "execution_count": 31,
   "metadata": {},
   "outputs": [],
   "source": [
    "plt.style.use('ggplot')\n",
    "plt.rcParams['lines.linewidth']=3\n",
    "plt.rcParams['axes.facecolor']='1.0'\n",
    "plt.rcParams['xtick.color']='black'\n",
    "plt.rcParams['axes.grid']=True\n",
    "plt.rcParams['axes.edgecolor']='black'\n",
    "plt.rcParams['grid.color']= '1.0'\n",
    "plt.rcParams.update({'font.size': 12})"
   ]
  },
  {
   "cell_type": "code",
   "execution_count": 32,
   "metadata": {},
   "outputs": [
    {
     "data": {
      "image/png": "[encoded data removed]",
      "text/plain": [
       "<Figure size 540x378 with 1 Axes>"
      ]
     },
     "metadata": {},
     "output_type": "display_data"
    }
   ],
   "source": [
    "fig , ax = plt.subplots()\n",
    "\n",
    "n , bins , patches = plt.hist(SNV_DF.num_isolates.astype(float) , bins = 60 , color = 'k' , rwidth = 1.0 , edgecolor='white', linewidth=1.35)\n",
    "\n",
    "plt.title('Number of Isolates Each SNP is Found in', fontweight = 'bold' , fontsize = 12, color = 'k')\n",
    "plt.xlabel('Number of Isolates', fontweight = 'bold' , fontsize = 12, color = 'k')\n",
    "plt.ylabel('Number of SNPs', fontweight = 'bold' , fontsize = 12, color = 'k')\n",
    "\n",
    "ax.spines['right'].set_visible(False)\n",
    "ax.spines['top'].set_visible(False)\n",
    "\n",
    "ax.tick_params(labelcolor = 'k')\n",
    "ax.set_yscale(\"log\", nonposy='clip')\n",
    "\n",
    "fig = plt.gcf()\n",
    "fig.set_size_inches(7.5, 5.25)\n",
    "fig.tight_layout()\n",
    "\n",
    "plt.tick_params(axis='y', which='major', labelsize=12 , labelcolor = 'k')\n",
    "plt.tick_params(axis='x', which='major', labelsize=12 , labelcolor = 'k')\n",
    "\n",
    "#file_name = '/home/rv76/Farhat_Lab/Figures/Final_5/Scraping_rollingDB/Mean_Coverage_Distribution_across_all_isolates.pdf'\n",
    "#plt.savefig(file_name, bbox_inches='tight', dpi = 300 , transparent = True)\n",
    "\n",
    "plt.show()"
   ]
  },
  {
   "cell_type": "markdown",
   "metadata": {},
   "source": [
    "#### How many SNP sites have at least *1* isolate with an alternate allele?"
   ]
  },
  {
   "cell_type": "code",
   "execution_count": 33,
   "metadata": {},
   "outputs": [
    {
     "data": {
      "text/plain": [
       "(899035, 4)"
      ]
     },
     "execution_count": 33,
     "metadata": {},
     "output_type": "execute_result"
    }
   ],
   "source": [
    "np.shape(SNV_DF[SNV_DF.num_isolates >= 1])"
   ]
  },
  {
   "cell_type": "markdown",
   "metadata": {},
   "source": [
    "#### How many SNP sites have at least *2* isolates with an alternate allele?"
   ]
  },
  {
   "cell_type": "code",
   "execution_count": 34,
   "metadata": {},
   "outputs": [
    {
     "data": {
      "text/plain": [
       "(429880, 4)"
      ]
     },
     "execution_count": 34,
     "metadata": {},
     "output_type": "execute_result"
    }
   ],
   "source": [
    "np.shape(SNV_DF[SNV_DF.num_isolates >= 2])"
   ]
  },
  {
   "cell_type": "markdown",
   "metadata": {},
   "source": [
    "#### How many SNP sites have at least *3* isolates with an alternate allele?"
   ]
  },
  {
   "cell_type": "code",
   "execution_count": 35,
   "metadata": {},
   "outputs": [
    {
     "data": {
      "text/plain": [
       "(262010, 4)"
      ]
     },
     "execution_count": 35,
     "metadata": {},
     "output_type": "execute_result"
    }
   ],
   "source": [
    "np.shape(SNV_DF[SNV_DF.num_isolates >= 3])"
   ]
  },
  {
   "cell_type": "markdown",
   "metadata": {},
   "source": [
    "#### How many SNP sites have at least *4* isolates with an alternate allele?"
   ]
  },
  {
   "cell_type": "code",
   "execution_count": 36,
   "metadata": {},
   "outputs": [
    {
     "data": {
      "text/plain": [
       "(193209, 4)"
      ]
     },
     "execution_count": 36,
     "metadata": {},
     "output_type": "execute_result"
    }
   ],
   "source": [
    "np.shape(SNV_DF[SNV_DF.num_isolates >= 4])"
   ]
  },
  {
   "cell_type": "markdown",
   "metadata": {},
   "source": [
    "#### How many SNP sites have at least *5* isolates with an alternate allele?"
   ]
  },
  {
   "cell_type": "code",
   "execution_count": 37,
   "metadata": {},
   "outputs": [
    {
     "data": {
      "text/plain": [
       "(153603, 4)"
      ]
     },
     "execution_count": 37,
     "metadata": {},
     "output_type": "execute_result"
    }
   ],
   "source": [
    "np.shape(SNV_DF[SNV_DF.num_isolates >= 5])"
   ]
  },
  {
   "cell_type": "markdown",
   "metadata": {},
   "source": [
    "### Keep only SNVs in which the corresponding *Reference Position* has a SNV in $\\ge$ 1 isolate"
   ]
  },
  {
   "cell_type": "markdown",
   "metadata": {},
   "source": [
    "SNVs found in only 0 isolates are dropped"
   ]
  },
  {
   "cell_type": "code",
   "execution_count": 38,
   "metadata": {},
   "outputs": [],
   "source": [
    "SNV_DF = SNV_DF[SNV_DF.num_isolates >= 1]"
   ]
  },
  {
   "cell_type": "code",
   "execution_count": 39,
   "metadata": {},
   "outputs": [
    {
     "data": {
      "text/plain": [
       "(899035, 4)"
      ]
     },
     "execution_count": 39,
     "metadata": {},
     "output_type": "execute_result"
    }
   ],
   "source": [
    "np.shape(SNV_DF)"
   ]
  },
  {
   "cell_type": "code",
   "execution_count": 40,
   "metadata": {},
   "outputs": [
    {
     "data": {
      "text/html": [
       "<div>\n",
       "<style>\n",
       "    .dataframe thead tr:only-child th {\n",
       "        text-align: right;\n",
       "    }\n",
       "\n",
       "    .dataframe thead th {\n",
       "        text-align: left;\n",
       "    }\n",
       "\n",
       "    .dataframe tbody tr th {\n",
       "        vertical-align: top;\n",
       "    }\n",
       "</style>\n",
       "<table border=\"1\" class=\"dataframe\">\n",
       "  <thead>\n",
       "    <tr style=\"text-align: right;\">\n",
       "      <th></th>\n",
       "      <th>ref</th>\n",
       "      <th>alt</th>\n",
       "      <th>num_isolates</th>\n",
       "      <th>pos</th>\n",
       "    </tr>\n",
       "  </thead>\n",
       "  <tbody>\n",
       "    <tr>\n",
       "      <th>0</th>\n",
       "      <td>A</td>\n",
       "      <td>[C]</td>\n",
       "      <td>3</td>\n",
       "      <td>8</td>\n",
       "    </tr>\n",
       "    <tr>\n",
       "      <th>1</th>\n",
       "      <td>G</td>\n",
       "      <td>[C]</td>\n",
       "      <td>1</td>\n",
       "      <td>10</td>\n",
       "    </tr>\n",
       "    <tr>\n",
       "      <th>2</th>\n",
       "      <td>A</td>\n",
       "      <td>[C]</td>\n",
       "      <td>11</td>\n",
       "      <td>11</td>\n",
       "    </tr>\n",
       "    <tr>\n",
       "      <th>3</th>\n",
       "      <td>C</td>\n",
       "      <td>[T]</td>\n",
       "      <td>1</td>\n",
       "      <td>15</td>\n",
       "    </tr>\n",
       "    <tr>\n",
       "      <th>4</th>\n",
       "      <td>G</td>\n",
       "      <td>[C]</td>\n",
       "      <td>1</td>\n",
       "      <td>16</td>\n",
       "    </tr>\n",
       "  </tbody>\n",
       "</table>\n",
       "</div>"
      ],
      "text/plain": [
       "  ref  alt num_isolates  pos\n",
       "0   A  [C]            3    8\n",
       "1   G  [C]            1   10\n",
       "2   A  [C]           11   11\n",
       "3   C  [T]            1   15\n",
       "4   G  [C]            1   16"
      ]
     },
     "execution_count": 40,
     "metadata": {},
     "output_type": "execute_result"
    }
   ],
   "source": [
    "SNV_DF.head()"
   ]
  },
  {
   "cell_type": "markdown",
   "metadata": {},
   "source": [
    "#### Re-Structure DataFrame to include only the Reference Position, Reference Allele and Alternate Allele(s)"
   ]
  },
  {
   "cell_type": "code",
   "execution_count": 41,
   "metadata": {},
   "outputs": [],
   "source": [
    "SNV_annotation_DF = pd.DataFrame(index = range( 0 , np.shape(SNV_DF)[0] ) ) #index for each SNV\n",
    "SNV_annotation_DF['pos'] = list(SNV_DF.pos) #H37Rv Reference Position\n",
    "SNV_annotation_DF['ref'] = list(SNV_DF.ref) #reference allele\n",
    "SNV_annotation_DF['alt'] = list(SNV_DF.alt) #alterante allele(s) list"
   ]
  },
  {
   "cell_type": "code",
   "execution_count": 42,
   "metadata": {},
   "outputs": [
    {
     "data": {
      "text/plain": [
       "(899035, 3)"
      ]
     },
     "execution_count": 42,
     "metadata": {},
     "output_type": "execute_result"
    }
   ],
   "source": [
    "np.shape(SNV_annotation_DF)"
   ]
  },
  {
   "cell_type": "code",
   "execution_count": 43,
   "metadata": {},
   "outputs": [
    {
     "data": {
      "text/html": [
       "<div>\n",
       "<style>\n",
       "    .dataframe thead tr:only-child th {\n",
       "        text-align: right;\n",
       "    }\n",
       "\n",
       "    .dataframe thead th {\n",
       "        text-align: left;\n",
       "    }\n",
       "\n",
       "    .dataframe tbody tr th {\n",
       "        vertical-align: top;\n",
       "    }\n",
       "</style>\n",
       "<table border=\"1\" class=\"dataframe\">\n",
       "  <thead>\n",
       "    <tr style=\"text-align: right;\">\n",
       "      <th></th>\n",
       "      <th>pos</th>\n",
       "      <th>ref</th>\n",
       "      <th>alt</th>\n",
       "    </tr>\n",
       "  </thead>\n",
       "  <tbody>\n",
       "    <tr>\n",
       "      <th>0</th>\n",
       "      <td>8</td>\n",
       "      <td>A</td>\n",
       "      <td>[C]</td>\n",
       "    </tr>\n",
       "    <tr>\n",
       "      <th>1</th>\n",
       "      <td>10</td>\n",
       "      <td>G</td>\n",
       "      <td>[C]</td>\n",
       "    </tr>\n",
       "    <tr>\n",
       "      <th>2</th>\n",
       "      <td>11</td>\n",
       "      <td>A</td>\n",
       "      <td>[C]</td>\n",
       "    </tr>\n",
       "    <tr>\n",
       "      <th>3</th>\n",
       "      <td>15</td>\n",
       "      <td>C</td>\n",
       "      <td>[T]</td>\n",
       "    </tr>\n",
       "    <tr>\n",
       "      <th>4</th>\n",
       "      <td>16</td>\n",
       "      <td>G</td>\n",
       "      <td>[C]</td>\n",
       "    </tr>\n",
       "  </tbody>\n",
       "</table>\n",
       "</div>"
      ],
      "text/plain": [
       "   pos ref  alt\n",
       "0    8   A  [C]\n",
       "1   10   G  [C]\n",
       "2   11   A  [C]\n",
       "3   15   C  [T]\n",
       "4   16   G  [C]"
      ]
     },
     "execution_count": 43,
     "metadata": {},
     "output_type": "execute_result"
    }
   ],
   "source": [
    "SNV_annotation_DF.head() #index = row indices of genotype matrix , 0 supports ref, 1 supports alt"
   ]
  },
  {
   "cell_type": "markdown",
   "metadata": {},
   "source": [
    "#### This is the DataFrame which we'll use to extract SNVs of interest when iterating over all of the VCF files in rollingDB"
   ]
  },
  {
   "cell_type": "markdown",
   "metadata": {},
   "source": [
    "Output Annotation for SNVs of interest in Genotypes folder"
   ]
  },
  {
   "cell_type": "code",
   "execution_count": 44,
   "metadata": {},
   "outputs": [],
   "source": [
    "SNV_annotation_DF.to_pickle('/n/data1/hms/dbmi/farhat/Roger/homoplasy_project/rolling_DB_scrape/Genotypes/genotypes_SNP_annotation.pkl')"
   ]
  },
  {
   "cell_type": "markdown",
   "metadata": {},
   "source": [
    "#### Create a text file with a single column of all Reference Positions that we're interested in based off of DF above. We will use this text file to subset the *full* VCF files to only the positions that Reference Positions that have a SNV in at least 1 isolate."
   ]
  },
  {
   "cell_type": "code",
   "execution_count": 45,
   "metadata": {},
   "outputs": [],
   "source": [
    "SNV_ref_positions = ['NC_000962.3\\t' + ref_pos for ref_pos in list( SNV_annotation_DF.pos.astype(str) ) ]\n",
    "\n",
    "#save each element as a new row in a text file\n",
    "with open('/n/data1/hms/dbmi/farhat/Roger/homoplasy_project/rolling_DB_scrape/Genotypes/ref_positions_to_select.txt', 'w') as f:\n",
    "    for item in SNV_ref_positions:\n",
    "        f.write(\"%s\\n\" % item)"
   ]
  },
  {
   "cell_type": "markdown",
   "metadata": {},
   "source": [
    "####################################################################################################################################################################################"
   ]
  },
  {
   "cell_type": "markdown",
   "metadata": {},
   "source": [
    "## [6] This section of the notebook prepares the script that iterates over all of the VCF files in rollingDB and outputs a genotype vector."
   ]
  },
  {
   "cell_type": "markdown",
   "metadata": {},
   "source": [
    "####################################################################################################################################################################################"
   ]
  },
  {
   "cell_type": "code",
   "execution_count": 20,
   "metadata": {},
   "outputs": [],
   "source": [
    "import vcf\n",
    "import os\n",
    "import pandas as pd\n",
    "import numpy as np\n",
    "import sys"
   ]
  },
  {
   "cell_type": "code",
   "execution_count": 21,
   "metadata": {},
   "outputs": [],
   "source": [
    "isolate_ID = 'Peru4988' #INPUT - isolate ID"
   ]
  },
  {
   "cell_type": "markdown",
   "metadata": {},
   "source": [
    "#### Load SNV-Index annotation (for indexing genotypes)"
   ]
  },
  {
   "cell_type": "code",
   "execution_count": 5,
   "metadata": {},
   "outputs": [],
   "source": [
    "SNV_annotation_DF = pd.read_pickle( '/n/data1/hms/dbmi/farhat/Roger/homoplasy_project/rolling_DB_scrape/Genotypes/genotypes_SNP_annotation.pkl' )"
   ]
  },
  {
   "cell_type": "code",
   "execution_count": 6,
   "metadata": {},
   "outputs": [
    {
     "data": {
      "text/html": [
       "<div>\n",
       "<style>\n",
       "    .dataframe thead tr:only-child th {\n",
       "        text-align: right;\n",
       "    }\n",
       "\n",
       "    .dataframe thead th {\n",
       "        text-align: left;\n",
       "    }\n",
       "\n",
       "    .dataframe tbody tr th {\n",
       "        vertical-align: top;\n",
       "    }\n",
       "</style>\n",
       "<table border=\"1\" class=\"dataframe\">\n",
       "  <thead>\n",
       "    <tr style=\"text-align: right;\">\n",
       "      <th></th>\n",
       "      <th>pos</th>\n",
       "      <th>ref</th>\n",
       "      <th>alt</th>\n",
       "    </tr>\n",
       "  </thead>\n",
       "  <tbody>\n",
       "    <tr>\n",
       "      <th>0</th>\n",
       "      <td>8</td>\n",
       "      <td>A</td>\n",
       "      <td>[C]</td>\n",
       "    </tr>\n",
       "    <tr>\n",
       "      <th>1</th>\n",
       "      <td>10</td>\n",
       "      <td>G</td>\n",
       "      <td>[C]</td>\n",
       "    </tr>\n",
       "    <tr>\n",
       "      <th>2</th>\n",
       "      <td>11</td>\n",
       "      <td>A</td>\n",
       "      <td>[C]</td>\n",
       "    </tr>\n",
       "    <tr>\n",
       "      <th>3</th>\n",
       "      <td>15</td>\n",
       "      <td>C</td>\n",
       "      <td>[T]</td>\n",
       "    </tr>\n",
       "    <tr>\n",
       "      <th>4</th>\n",
       "      <td>16</td>\n",
       "      <td>G</td>\n",
       "      <td>[C]</td>\n",
       "    </tr>\n",
       "  </tbody>\n",
       "</table>\n",
       "</div>"
      ],
      "text/plain": [
       "   pos ref  alt\n",
       "0    8   A  [C]\n",
       "1   10   G  [C]\n",
       "2   11   A  [C]\n",
       "3   15   C  [T]\n",
       "4   16   G  [C]"
      ]
     },
     "execution_count": 6,
     "metadata": {},
     "output_type": "execute_result"
    }
   ],
   "source": [
    "SNV_annotation_DF.head()"
   ]
  },
  {
   "cell_type": "markdown",
   "metadata": {},
   "source": [
    "#### Convert SNV annotation into dictionaries with keys = ROW indices of genotype array"
   ]
  },
  {
   "cell_type": "code",
   "execution_count": 7,
   "metadata": {},
   "outputs": [],
   "source": [
    "#keys: H37Rv Reference Position , values: Genotype Row Index\n",
    "ref_pos_dict = dict( zip( list(SNV_annotation_DF.pos) , list(SNV_annotation_DF.index) ) )"
   ]
  },
  {
   "cell_type": "markdown",
   "metadata": {},
   "source": [
    "#### Create set of H37Rv Reference Positions that are SNP sites"
   ]
  },
  {
   "cell_type": "code",
   "execution_count": 14,
   "metadata": {},
   "outputs": [],
   "source": [
    "H37Rv_ref_positions_of_interest = set(SNV_annotation_DF.pos)"
   ]
  },
  {
   "cell_type": "markdown",
   "metadata": {},
   "source": [
    "#### Construct 'skeleton' Numpy Array that will store the supported base for all Reference Positions of interest for a single isolate in rollingDB\n",
    "\n",
    "- **0** for _A_\n",
    "- **1** for _C_\n",
    "- **2** for _G_\n",
    "- **3** for _T_\n",
    "- **9** for Bad Quality SNV calls"
   ]
  },
  {
   "cell_type": "code",
   "execution_count": 15,
   "metadata": {},
   "outputs": [],
   "source": [
    "#number of Reference Positions we're interested in (where High Quality SNV calls were made)\n",
    "number_of_SNVs = len(ref_pos_dict.keys())"
   ]
  },
  {
   "cell_type": "code",
   "execution_count": 16,
   "metadata": {},
   "outputs": [
    {
     "data": {
      "text/plain": [
       "899035"
      ]
     },
     "execution_count": 16,
     "metadata": {},
     "output_type": "execute_result"
    }
   ],
   "source": [
    "number_of_SNVs"
   ]
  },
  {
   "cell_type": "markdown",
   "metadata": {},
   "source": [
    "#### In constructing the Genotype Vector, we're going to iterate through all Reference Positions of interest and find the supported base from the VCF file for each position"
   ]
  },
  {
   "cell_type": "code",
   "execution_count": 17,
   "metadata": {},
   "outputs": [],
   "source": [
    "#create an empty numpy array to store genotypes\n",
    "genotypes_array = np.full(number_of_SNVs , 9 , dtype = int)"
   ]
  },
  {
   "cell_type": "code",
   "execution_count": 18,
   "metadata": {},
   "outputs": [
    {
     "data": {
      "text/plain": [
       "array([9, 9, 9, ..., 9, 9, 9])"
      ]
     },
     "execution_count": 18,
     "metadata": {},
     "output_type": "execute_result"
    }
   ],
   "source": [
    "genotypes_array"
   ]
  },
  {
   "cell_type": "code",
   "execution_count": 19,
   "metadata": {},
   "outputs": [
    {
     "data": {
      "text/plain": [
       "(899035,)"
      ]
     },
     "execution_count": 19,
     "metadata": {},
     "output_type": "execute_result"
    }
   ],
   "source": [
    "np.shape(genotypes_array)"
   ]
  },
  {
   "cell_type": "markdown",
   "metadata": {},
   "source": [
    "### Iterate through the subset VCF file corresponding to the isolate in rollingDB and fill in genotypes vector"
   ]
  },
  {
   "cell_type": "code",
   "execution_count": 28,
   "metadata": {},
   "outputs": [],
   "source": [
    "#genomic data directory\n",
    "VCF_genotypes_dir = '/n/data1/hms/dbmi/farhat/rollingDB/genomic_data/'\n",
    "\n",
    "#directory that stores files for each sequenced isolate\n",
    "directory_for_sequenced_isolate = VCF_genotypes_dir + isolate_ID + '/pilon/'\n",
    "\n",
    "#position-base dictionaries (order of output in Pilon)\n",
    "base_order = {0:'A' , 1:'C' , 2:'G', 3:'T'}\n",
    "base_order_r = {'A':0 , 'C':1 , 'G':2 , 'T':3}\n",
    "\n",
    "#load in VCF file if one was found\n",
    "vcf_reader = vcf.Reader( open(directory_for_sequenced_isolate  + isolate_ID + '_full.vcf.gz' , 'r') )\n",
    "\n",
    "#iterate through each Variant Call \n",
    "for record in vcf_reader:\n",
    "    \n",
    "    #check to see if H37Rv Reference Position is one of the SNP sites of interest\n",
    "    if record.POS in H37Rv_ref_positions_of_interest:\n",
    "    \n",
    "        #check to see if variant is SNP (length of Reference Allele is 1 base and there's only 1 alternate allele and length of alternate allele is 1 base is alternate allele exists)\n",
    "        if (len(record.REF) == 1) and (len(record.ALT) == 1) and ( (record.ALT[0] == None) or (len(str(record.ALT[0])) == 1) ):\n",
    "\n",
    "            #check to see if the call is a PASS by Pilon\n",
    "            if record.FILTER == []:\n",
    "\n",
    "                ##### Retrieve Relevant information for filtering quality of Base Call #####\n",
    "                # Mean Base Quality @ locus\n",
    "                BQ = record.INFO['BQ']\n",
    "                # Mean Mapping Quality @ locus\n",
    "                MQ = record.INFO['MQ']\n",
    "                # Number of Reads w/ Deletion \n",
    "                DC = record.INFO['DC']\n",
    "                # Number of Reads w/ Insertion\n",
    "                IC = record.INFO['IC']\n",
    "                # Depth of Valid Reads in Pileup\n",
    "                VD = record.INFO['DP']\n",
    "\n",
    "                ### Filtering Criteria\n",
    "                #---> Mean Base Quality > 20\n",
    "                #---> Mean Mapping Quality > 30\n",
    "                #---> No Reads Supporting Insertions\n",
    "                #---> No Reads Supporting Deletions\n",
    "                #---> Number of High Quality Reads >= 20\n",
    "                if (BQ > 20) and (MQ > 30) and (DC == 0) and (IC == 0) and (VD >= 20): \n",
    "\n",
    "                    # Quality-Percentage - Percentage of As, Cs, Gs, Ts weighted by Q & MQ at locus\n",
    "                    QP = record.INFO['QP']\n",
    "\n",
    "                    if (sum(np.array(QP) >= 75) == 1): #1 Allele is supported by at least 75% of the reads, store information for this Base Call\n",
    "\n",
    "                        #create a Boolean list for the Bases that have at least 75% of support from reads\n",
    "                        supported_bases_boolean = list( np.array( QP ) >= 75 )\n",
    "\n",
    "                        #position of Base [A,C,G,T] with at least 75% of support from reads\n",
    "                        supported_bases_i = [i for i,x in enumerate(supported_bases_boolean) if x == True] #returns list of length \n",
    "                        supported_base = base_order[supported_bases_i[0]]\n",
    "\n",
    "                        #write an exception in case a SNV (with a reference position that we're not interested in) 'sneaks' past the subsetting and filtering\n",
    "                        try:\n",
    "                            #store a '0', '1', '2', or '3' in Genotype Vector (Reference Position Index) referencing the Base with at least 90% support from the reads\n",
    "                            genotypes_array[ref_pos_dict[record.POS]] = base_order_r[supported_base]\n",
    "                        except KeyError:\n",
    "                            pass"
   ]
  },
  {
   "cell_type": "markdown",
   "metadata": {},
   "source": [
    "Pickle Genotypes Array for downstream analysis"
   ]
  },
  {
   "cell_type": "code",
   "execution_count": 30,
   "metadata": {},
   "outputs": [
    {
     "data": {
      "text/plain": [
       "array([0, 2, 0, ..., 0, 1, 2])"
      ]
     },
     "execution_count": 30,
     "metadata": {},
     "output_type": "execute_result"
    }
   ],
   "source": [
    "genotypes_array"
   ]
  },
  {
   "cell_type": "code",
   "execution_count": 20,
   "metadata": {},
   "outputs": [],
   "source": [
    "np.save('/n/data1/hms/dbmi/farhat/Roger/homoplasy_project/rolling_DB_scrape/Genotypes/Genotypes_per_isolate/' + isolate_ID + '/' + isolate_ID + '_genotypes' , genotypes_array , allow_pickle = True)"
   ]
  },
  {
   "cell_type": "markdown",
   "metadata": {},
   "source": [
    "####################################################################################################################################################################################"
   ]
  },
  {
   "cell_type": "markdown",
   "metadata": {},
   "source": [
    "## [7] This section of the notebook launches the script that was created in the previous section of the notebook and submits jobs for batches of isolates to make genotypes arrays for each isolate."
   ]
  },
  {
   "cell_type": "markdown",
   "metadata": {},
   "source": [
    "####################################################################################################################################################################################"
   ]
  },
  {
   "cell_type": "code",
   "execution_count": 3,
   "metadata": {},
   "outputs": [],
   "source": [
    "import os\n",
    "import pandas as pd\n",
    "from slurmpy import Slurm\n",
    "import numpy as np\n",
    "import itertools\n",
    "import shutil"
   ]
  },
  {
   "cell_type": "markdown",
   "metadata": {},
   "source": [
    "Every isolate in the pool of **33,873** isolates in rollingDB had a reduced VCF file and a corresponding Full VCF file. We will iterate through each of these Full VCF files and extract the base calls for only the **899,035** reference positions that we're interested in."
   ]
  },
  {
   "cell_type": "code",
   "execution_count": 4,
   "metadata": {},
   "outputs": [],
   "source": [
    "isolate_id_series = pd.read_pickle( '/n/data1/hms/dbmi/farhat/Roger/homoplasy_project/rolling_DB_scrape/Genotypes/genotypes_isolate_annotation.pkl' )"
   ]
  },
  {
   "cell_type": "code",
   "execution_count": 5,
   "metadata": {},
   "outputs": [
    {
     "data": {
      "text/plain": [
       "0    SAMEA3558733\n",
       "1    SAMN05575260\n",
       "2    SAMN03648641\n",
       "3    SAMN03647419\n",
       "4    SAMEA3671418\n",
       "dtype: object"
      ]
     },
     "execution_count": 5,
     "metadata": {},
     "output_type": "execute_result"
    }
   ],
   "source": [
    "isolate_id_series.head()"
   ]
  },
  {
   "cell_type": "code",
   "execution_count": 6,
   "metadata": {
    "scrolled": true
   },
   "outputs": [
    {
     "data": {
      "text/plain": [
       "33873"
      ]
     },
     "execution_count": 6,
     "metadata": {},
     "output_type": "execute_result"
    }
   ],
   "source": [
    "len(isolate_id_series)"
   ]
  },
  {
   "cell_type": "markdown",
   "metadata": {},
   "source": [
    "#### Create directory for each isolate to store output for genotyping (only run this once)"
   ]
  },
  {
   "cell_type": "code",
   "execution_count": 8,
   "metadata": {},
   "outputs": [],
   "source": [
    "'''\n",
    "for tag in isolate_id_series.values:\n",
    "\n",
    "    #create directory to store subset VCF and genotypes for each isolate\n",
    "    isolate_genotype_dir = '/n/data1/hms/dbmi/farhat/Roger/homoplasy_project/rolling_DB_scrape/Genotypes/Genotypes_per_isolate/' + tag\n",
    "    if os.path.exists(isolate_genotype_dir):\n",
    "        shutil.rmtree(isolate_genotype_dir)\n",
    "        os.makedirs(isolate_genotype_dir)\n",
    "    elif not os.path.exists(isolate_genotype_dir):\n",
    "        os.makedirs(isolate_genotype_dir)\n",
    "'''"
   ]
  },
  {
   "cell_type": "markdown",
   "metadata": {},
   "source": [
    "__Check Progress of Jobs:__ Isolates that need to have Full VCF >> Genotypes Array Reference Positions of Interest"
   ]
  },
  {
   "cell_type": "code",
   "execution_count": 7,
   "metadata": {},
   "outputs": [],
   "source": [
    "isolate_ids_to_run_VCF_extraction = []\n",
    "isolate_ids_completed = []\n",
    "\n",
    "for tag in isolate_id_series.values:\n",
    "\n",
    "    #create directory to store subset VCF and genotypes for each isolate\n",
    "    isolate_genotype_dir = '/n/data1/hms/dbmi/farhat/Roger/homoplasy_project/rolling_DB_scrape/Genotypes/Genotypes_per_isolate/' + tag\n",
    "    \n",
    "    #genotypes array file\n",
    "    genotypes_array_path = isolate_genotype_dir + '/' + tag + '_genotypes.npy'\n",
    "    \n",
    "    #check for the existence of a genotypes file, if TRUE job has either started or completed\n",
    "    if os.path.exists(genotypes_array_path):\n",
    "            \n",
    "        isolate_ids_completed.append(tag)\n",
    "            \n",
    "    #genotypes file doesn't exist, task never started\n",
    "    else:\n",
    "        \n",
    "        isolate_ids_to_run_VCF_extraction.append(tag)"
   ]
  },
  {
   "cell_type": "code",
   "execution_count": 8,
   "metadata": {},
   "outputs": [
    {
     "data": {
      "text/plain": [
       "32567"
      ]
     },
     "execution_count": 8,
     "metadata": {},
     "output_type": "execute_result"
    }
   ],
   "source": [
    "len(isolate_ids_completed)"
   ]
  },
  {
   "cell_type": "code",
   "execution_count": 9,
   "metadata": {},
   "outputs": [
    {
     "data": {
      "text/plain": [
       "1306"
      ]
     },
     "execution_count": 9,
     "metadata": {},
     "output_type": "execute_result"
    }
   ],
   "source": [
    "len(isolate_ids_to_run_VCF_extraction)"
   ]
  },
  {
   "cell_type": "markdown",
   "metadata": {},
   "source": [
    "#### Construct genotypes array for reference positions of interest for isolates that had Full VCF files "
   ]
  },
  {
   "cell_type": "code",
   "execution_count": 10,
   "metadata": {},
   "outputs": [],
   "source": [
    "isolate_id_series = pd.Series(isolate_ids_to_run_VCF_extraction)"
   ]
  },
  {
   "cell_type": "markdown",
   "metadata": {},
   "source": [
    "#### Extract genotypes for each isolate from VCF file containing a subset of Reference Positions from the Full VCF files"
   ]
  },
  {
   "cell_type": "markdown",
   "metadata": {},
   "source": [
    "Create BASH scripts to extract genotypes of N isolates per job"
   ]
  },
  {
   "cell_type": "code",
   "execution_count": 13,
   "metadata": {},
   "outputs": [],
   "source": [
    "N_isolates_per_job = 115\n",
    "\n",
    "njobs = int( np.ceil( float( len( isolate_id_series ) ) / float(N_isolates_per_job) ) ) #number of jobs required if we split for every N isolates"
   ]
  },
  {
   "cell_type": "code",
   "execution_count": 14,
   "metadata": {},
   "outputs": [
    {
     "name": "stdout",
     "output_type": "stream",
     "text": [
      "44\n"
     ]
    }
   ],
   "source": [
    "print njobs"
   ]
  },
  {
   "cell_type": "code",
   "execution_count": 15,
   "metadata": {},
   "outputs": [],
   "source": [
    "bash_scripts = []\n",
    "\n",
    "#split jobs up into tasks of N\n",
    "for first_isolate_i_for_job in np.arange(0 , (njobs)*N_isolates_per_job , N_isolates_per_job):\n",
    "\n",
    "    last_isolate_i_for_job = first_isolate_i_for_job + N_isolates_per_job\n",
    "    \n",
    "    commands_list = []\n",
    "\n",
    "    for isolate_i in range(first_isolate_i_for_job , last_isolate_i_for_job): \n",
    "\n",
    "        try:\n",
    "            tag = isolate_id_series[isolate_i]\n",
    "\n",
    "            commands_list.append( 'python /home/rv76/Farhat_Lab/Python_Scripts/homoplasy_project/rollingDB_extract_HQ_SNV_genotypes.py {}'.format(tag) )\n",
    "            \n",
    "        except KeyError: #applies only to the last job if it has < N isolates\n",
    "            continue\n",
    "        \n",
    "    bash_scripts.append(commands_list)"
   ]
  },
  {
   "cell_type": "markdown",
   "metadata": {},
   "source": [
    "#### Submit each job to O2"
   ]
  },
  {
   "cell_type": "code",
   "execution_count": 16,
   "metadata": {
    "scrolled": true
   },
   "outputs": [
    {
     "name": "stderr",
     "output_type": "stream",
     "text": [
      "submitted: Submitted batch job 6893609\n",
      "submitted: Submitted batch job 6893611\n",
      "submitted: Submitted batch job 6893613\n",
      "submitted: Submitted batch job 6893615\n",
      "submitted: Submitted batch job 6893617\n"
     ]
    },
    {
     "name": "stdout",
     "output_type": "stream",
     "text": [
      "Geno1 : 6893609\n",
      "Geno2 : 6893611\n",
      "Geno3 : 6893613\n",
      "Geno4 : 6893615\n",
      "Geno5 : 6893617\n"
     ]
    },
    {
     "name": "stderr",
     "output_type": "stream",
     "text": [
      "submitted: Submitted batch job 6893619\n",
      "submitted: Submitted batch job 6893621\n",
      "submitted: Submitted batch job 6893623\n"
     ]
    },
    {
     "name": "stdout",
     "output_type": "stream",
     "text": [
      "Geno6 : 6893619\n",
      "Geno7 : 6893621\n",
      "Geno8 : 6893623\n"
     ]
    },
    {
     "name": "stderr",
     "output_type": "stream",
     "text": [
      "submitted: Submitted batch job 6893624\n",
      "submitted: Submitted batch job 6893625\n",
      "submitted: Submitted batch job 6893626\n",
      "submitted: Submitted batch job 6893627\n"
     ]
    },
    {
     "name": "stdout",
     "output_type": "stream",
     "text": [
      "Geno9 : 6893624\n",
      "Geno10 : 6893625\n",
      "Geno11 : 6893626\n",
      "Geno12 : 6893627\n"
     ]
    },
    {
     "name": "stderr",
     "output_type": "stream",
     "text": [
      "submitted: Submitted batch job 6893628\n",
      "submitted: Submitted batch job 6893629\n",
      "submitted: Submitted batch job 6893630\n",
      "submitted: Submitted batch job 6893631\n",
      "submitted: Submitted batch job 6893632\n"
     ]
    },
    {
     "name": "stdout",
     "output_type": "stream",
     "text": [
      "Geno13 : 6893628\n",
      "Geno14 : 6893629\n",
      "Geno15 : 6893630\n",
      "Geno16 : 6893631\n",
      "Geno17 : 6893632\n"
     ]
    },
    {
     "name": "stderr",
     "output_type": "stream",
     "text": [
      "submitted: Submitted batch job 6893633\n",
      "submitted: Submitted batch job 6893634\n",
      "submitted: Submitted batch job 6893635\n",
      "submitted: Submitted batch job 6893636\n",
      "submitted: Submitted batch job 6893637\n"
     ]
    },
    {
     "name": "stdout",
     "output_type": "stream",
     "text": [
      "Geno18 : 6893633\n",
      "Geno19 : 6893634\n",
      "Geno20 : 6893635\n",
      "Geno21 : 6893636\n",
      "Geno22 : 6893637\n"
     ]
    },
    {
     "name": "stderr",
     "output_type": "stream",
     "text": [
      "submitted: Submitted batch job 6893638\n",
      "submitted: Submitted batch job 6893639\n",
      "submitted: Submitted batch job 6893640\n",
      "submitted: Submitted batch job 6893641\n",
      "submitted: Submitted batch job 6893642\n"
     ]
    },
    {
     "name": "stdout",
     "output_type": "stream",
     "text": [
      "Geno23 : 6893638\n",
      "Geno24 : 6893639\n",
      "Geno25 : 6893640\n",
      "Geno26 : 6893641\n",
      "Geno27 : 6893642\n"
     ]
    },
    {
     "name": "stderr",
     "output_type": "stream",
     "text": [
      "submitted: Submitted batch job 6893643\n",
      "submitted: Submitted batch job 6893644\n",
      "submitted: Submitted batch job 6893645\n",
      "submitted: Submitted batch job 6893646\n"
     ]
    },
    {
     "name": "stdout",
     "output_type": "stream",
     "text": [
      "Geno28 : 6893643\n",
      "Geno29 : 6893644\n",
      "Geno30 : 6893645\n",
      "Geno31 : 6893646\n"
     ]
    },
    {
     "name": "stderr",
     "output_type": "stream",
     "text": [
      "submitted: Submitted batch job 6893647\n",
      "submitted: Submitted batch job 6893648\n",
      "submitted: Submitted batch job 6893649\n",
      "submitted: Submitted batch job 6893651\n"
     ]
    },
    {
     "name": "stdout",
     "output_type": "stream",
     "text": [
      "Geno32 : 6893647\n",
      "Geno33 : 6893648\n",
      "Geno34 : 6893649\n",
      "Geno35 : 6893651\n"
     ]
    },
    {
     "name": "stderr",
     "output_type": "stream",
     "text": [
      "submitted: Submitted batch job 6893653\n",
      "submitted: Submitted batch job 6893654\n",
      "submitted: Submitted batch job 6893656\n",
      "submitted: Submitted batch job 6893657\n",
      "submitted: Submitted batch job 6893658\n"
     ]
    },
    {
     "name": "stdout",
     "output_type": "stream",
     "text": [
      "Geno36 : 6893653\n",
      "Geno37 : 6893654\n",
      "Geno38 : 6893656\n",
      "Geno39 : 6893657\n",
      "Geno40 : 6893658\n",
      "Geno41 : 6893660\n",
      "Geno42 : 6893661\n",
      "Geno43 : 6893663\n",
      "Geno44 : 6893665\n"
     ]
    },
    {
     "name": "stderr",
     "output_type": "stream",
     "text": [
      "submitted: Submitted batch job 6893660\n",
      "submitted: Submitted batch job 6893661\n",
      "submitted: Submitted batch job 6893663\n",
      "submitted: Submitted batch job 6893665\n"
     ]
    }
   ],
   "source": [
    "job_num = 1\n",
    "for job_i_commands_list in bash_scripts:\n",
    "    \n",
    "    #append all commands in a single string to be submitted as a job\n",
    "    genotypes_extract_job = ''\n",
    "    for command_i in job_i_commands_list:\n",
    "        genotypes_extract_job  = genotypes_extract_job  + '\\n' + command_i\n",
    "    \n",
    "    #directory where you want output + error files\n",
    "    os.chdir('/n/data1/hms/dbmi/farhat/Roger/homoplasy_project/rolling_DB_scrape/Genotypes/O2_SLURM_logs/make_genotypes_arrays_from_VCF/')\n",
    "\n",
    "    job_name = 'Geno' + str(job_num)\n",
    "\n",
    "    s = Slurm(job_name , {'partition':'short' , 'N':'1' , 't':'0-12:00:00' , 'mem':'2G' , 'mail-type':'FAIL' , 'mail-user':'roger_vargas@g.harvard.edu'})\n",
    "\n",
    "    #submits the job\n",
    "    job_id = s.run(genotypes_extract_job)\n",
    "\n",
    "    print job_name  + ' : ' +  str(job_id)\n",
    "    job_num += 1"
   ]
  },
  {
   "cell_type": "markdown",
   "metadata": {},
   "source": [
    "####################################################################################################################################################################################"
   ]
  },
  {
   "cell_type": "markdown",
   "metadata": {},
   "source": [
    "## [8] Inspect the distribution of missing values after Genotype Matrix is constructed (from genotype vectors) and filter out SNPs & Isolates"
   ]
  },
  {
   "cell_type": "markdown",
   "metadata": {},
   "source": [
    "####################################################################################################################################################################################"
   ]
  },
  {
   "cell_type": "code",
   "execution_count": 3,
   "metadata": {},
   "outputs": [],
   "source": [
    "%matplotlib inline\n",
    "import os\n",
    "import pandas as pd\n",
    "import numpy as np\n",
    "import matplotlib.pyplot as plt\n",
    "import matplotlib as mpl\n",
    "import matplotlib.ticker as ticker\n",
    "from itertools import compress\n",
    "from matplotlib.colors import LogNorm\n",
    "from matplotlib import gridspec\n",
    "import pickle"
   ]
  },
  {
   "cell_type": "markdown",
   "metadata": {},
   "source": [
    "### Make sure all isolates have a corresponding _genotypes_ array"
   ]
  },
  {
   "cell_type": "code",
   "execution_count": 4,
   "metadata": {},
   "outputs": [],
   "source": [
    "isolate_id_series = pd.read_pickle( '/n/data1/hms/dbmi/farhat/Roger/homoplasy_project/rolling_DB_scrape/Genotypes/genotypes_isolate_annotation.pkl' )"
   ]
  },
  {
   "cell_type": "code",
   "execution_count": 5,
   "metadata": {},
   "outputs": [
    {
     "data": {
      "text/plain": [
       "(33873,)"
      ]
     },
     "execution_count": 5,
     "metadata": {},
     "output_type": "execute_result"
    }
   ],
   "source": [
    "np.shape(isolate_id_series)"
   ]
  },
  {
   "cell_type": "markdown",
   "metadata": {},
   "source": [
    "__Check for Genotypes Arrays:__ Get isolate IDs that have a corresponding genotypes array"
   ]
  },
  {
   "cell_type": "code",
   "execution_count": 6,
   "metadata": {},
   "outputs": [],
   "source": [
    "isolate_ids_with_genotypes = []\n",
    "isolate_ids_without_genotypes = []\n",
    "\n",
    "for tag in isolate_id_series.values:\n",
    "\n",
    "    #create directory to store subset VCF and genotypes for each isolate\n",
    "    isolate_genotype_dir = '/n/data1/hms/dbmi/farhat/Roger/homoplasy_project/rolling_DB_scrape/Genotypes/Genotypes_per_isolate/' + tag\n",
    "    \n",
    "    #genotypes_array\n",
    "    genotypes_array_pickle_file = isolate_genotype_dir + '/' + tag + '_genotypes.npy'\n",
    "    \n",
    "    #check for the existence of a genotypes file for this isolate\n",
    "    if os.path.exists(genotypes_array_pickle_file):\n",
    "            \n",
    "        isolate_ids_with_genotypes.append(tag)\n",
    "            \n",
    "    else:\n",
    "        \n",
    "        isolate_ids_without_genotypes.append(tag)"
   ]
  },
  {
   "cell_type": "code",
   "execution_count": 7,
   "metadata": {},
   "outputs": [
    {
     "data": {
      "text/plain": [
       "33873"
      ]
     },
     "execution_count": 7,
     "metadata": {},
     "output_type": "execute_result"
    }
   ],
   "source": [
    "len(isolate_ids_with_genotypes)"
   ]
  },
  {
   "cell_type": "code",
   "execution_count": 8,
   "metadata": {},
   "outputs": [
    {
     "data": {
      "text/plain": [
       "0"
      ]
     },
     "execution_count": 8,
     "metadata": {},
     "output_type": "execute_result"
    }
   ],
   "source": [
    "len(isolate_ids_without_genotypes)"
   ]
  },
  {
   "cell_type": "code",
   "execution_count": 9,
   "metadata": {},
   "outputs": [],
   "source": [
    "del isolate_ids_with_genotypes #clear variable from memory"
   ]
  },
  {
   "cell_type": "markdown",
   "metadata": {},
   "source": [
    "### Concatenate genotypes arrays into a genotypes matrix for all isolates in rollingDB"
   ]
  },
  {
   "cell_type": "markdown",
   "metadata": {},
   "source": [
    "Store the __genotypes array__ for each isolate into a list"
   ]
  },
  {
   "cell_type": "code",
   "execution_count": 10,
   "metadata": {},
   "outputs": [
    {
     "name": "stdout",
     "output_type": "stream",
     "text": [
      "0.0\n",
      "0.0295220382015\n",
      "0.059044076403\n",
      "0.0885661146046\n",
      "0.118088152806\n",
      "0.147610191008\n",
      "0.177132229209\n",
      "0.206654267411\n",
      "0.236176305612\n",
      "0.265698343814\n",
      "0.295220382015\n",
      "0.324742420217\n",
      "0.354264458418\n",
      "0.38378649662\n",
      "0.413308534821\n",
      "0.442830573023\n",
      "0.472352611224\n",
      "0.501874649426\n",
      "0.531396687627\n",
      "0.560918725829\n",
      "0.59044076403\n",
      "0.619962802232\n",
      "0.649484840433\n",
      "0.679006878635\n",
      "0.708528916836\n",
      "0.738050955038\n",
      "0.767572993239\n",
      "0.797095031441\n",
      "0.826617069642\n",
      "0.856139107844\n",
      "0.885661146046\n",
      "0.915183184247\n",
      "0.944705222449\n",
      "0.97422726065\n"
     ]
    }
   ],
   "source": [
    "genotypes_directory = '/n/data1/hms/dbmi/farhat/Roger/homoplasy_project/rolling_DB_scrape/Genotypes/Genotypes_per_isolate/'\n",
    "genotype_arrays_per_isolate_list = []\n",
    "\n",
    "#iterate through the genotypes arrays for each isolate\n",
    "isolate_i = 0\n",
    "for isolate_ID in isolate_id_series:\n",
    "    \n",
    "    #load genotypes array\n",
    "    genotypes_array = np.load(genotypes_directory + isolate_ID + '/' + isolate_ID + '_genotypes.npy')\n",
    "    \n",
    "    #convert genotypes array from dtype 'int64' to 'int8' to save lots of memory\n",
    "    genotypes_array = genotypes_array.astype('int8')\n",
    "    \n",
    "    #store genotypes array for this isolate in a list with all other genotypes arrays\n",
    "    genotype_arrays_per_isolate_list.append(genotypes_array)\n",
    "    \n",
    "    if isolate_i % 1000 == 0:\n",
    "        print float(isolate_i) / float(len(isolate_id_series))\n",
    "    isolate_i += 1"
   ]
  },
  {
   "cell_type": "markdown",
   "metadata": {},
   "source": [
    "Stack genotype arrays for all isolates to create one __genotypes matrix__ for all isolates "
   ]
  },
  {
   "cell_type": "code",
   "execution_count": 11,
   "metadata": {},
   "outputs": [],
   "source": [
    "genotypes_matrix = np.stack(genotype_arrays_per_isolate_list , axis = -1)"
   ]
  },
  {
   "cell_type": "code",
   "execution_count": 12,
   "metadata": {},
   "outputs": [
    {
     "data": {
      "text/plain": [
       "(899035, 33873)"
      ]
     },
     "execution_count": 12,
     "metadata": {},
     "output_type": "execute_result"
    }
   ],
   "source": [
    "np.shape(genotypes_matrix)"
   ]
  },
  {
   "cell_type": "code",
   "execution_count": 13,
   "metadata": {},
   "outputs": [
    {
     "data": {
      "text/plain": [
       "array([[0, 9, 0, ..., 0, 0, 0],\n",
       "       [2, 9, 2, ..., 2, 2, 2],\n",
       "       [0, 9, 0, ..., 0, 0, 0],\n",
       "       ...,\n",
       "       [0, 9, 9, ..., 0, 0, 0],\n",
       "       [1, 9, 9, ..., 1, 1, 1],\n",
       "       [2, 9, 9, ..., 2, 2, 2]], dtype=int8)"
      ]
     },
     "execution_count": 13,
     "metadata": {},
     "output_type": "execute_result"
    }
   ],
   "source": [
    "genotypes_matrix"
   ]
  },
  {
   "cell_type": "code",
   "execution_count": 14,
   "metadata": {},
   "outputs": [
    {
     "name": "stdout",
     "output_type": "stream",
     "text": [
      "30453012555 bytes\n"
     ]
    }
   ],
   "source": [
    "print(\"%d bytes\" % (genotypes_matrix.size * genotypes_matrix.itemsize))"
   ]
  },
  {
   "cell_type": "markdown",
   "metadata": {},
   "source": [
    "Genotypes Matrix is ~30.45 GB large"
   ]
  },
  {
   "cell_type": "markdown",
   "metadata": {},
   "source": [
    "Save __Genotypes Matrix__ in case kernel crashes when filtering"
   ]
  },
  {
   "cell_type": "code",
   "execution_count": 15,
   "metadata": {},
   "outputs": [],
   "source": [
    "#save Genotypes Matrix\n",
    "np.save('/n/data1/hms/dbmi/farhat/Roger/homoplasy_project/rolling_DB_scrape/Genotypes_Filtered/genotypes_matrix' , genotypes_matrix , allow_pickle = True)"
   ]
  },
  {
   "cell_type": "markdown",
   "metadata": {},
   "source": [
    "Load __SNP annotation file__"
   ]
  },
  {
   "cell_type": "code",
   "execution_count": 16,
   "metadata": {},
   "outputs": [],
   "source": [
    "SNP_annotation_DF = pd.read_pickle('/n/data1/hms/dbmi/farhat/Roger/homoplasy_project/rolling_DB_scrape/Genotypes/genotypes_SNP_annotation.pkl')"
   ]
  },
  {
   "cell_type": "code",
   "execution_count": 17,
   "metadata": {},
   "outputs": [
    {
     "data": {
      "text/html": [
       "<div>\n",
       "<style>\n",
       "    .dataframe thead tr:only-child th {\n",
       "        text-align: right;\n",
       "    }\n",
       "\n",
       "    .dataframe thead th {\n",
       "        text-align: left;\n",
       "    }\n",
       "\n",
       "    .dataframe tbody tr th {\n",
       "        vertical-align: top;\n",
       "    }\n",
       "</style>\n",
       "<table border=\"1\" class=\"dataframe\">\n",
       "  <thead>\n",
       "    <tr style=\"text-align: right;\">\n",
       "      <th></th>\n",
       "      <th>pos</th>\n",
       "      <th>ref</th>\n",
       "      <th>alt</th>\n",
       "    </tr>\n",
       "  </thead>\n",
       "  <tbody>\n",
       "    <tr>\n",
       "      <th>0</th>\n",
       "      <td>8</td>\n",
       "      <td>A</td>\n",
       "      <td>[C]</td>\n",
       "    </tr>\n",
       "    <tr>\n",
       "      <th>1</th>\n",
       "      <td>10</td>\n",
       "      <td>G</td>\n",
       "      <td>[C]</td>\n",
       "    </tr>\n",
       "    <tr>\n",
       "      <th>2</th>\n",
       "      <td>11</td>\n",
       "      <td>A</td>\n",
       "      <td>[C]</td>\n",
       "    </tr>\n",
       "    <tr>\n",
       "      <th>3</th>\n",
       "      <td>15</td>\n",
       "      <td>C</td>\n",
       "      <td>[T]</td>\n",
       "    </tr>\n",
       "    <tr>\n",
       "      <th>4</th>\n",
       "      <td>16</td>\n",
       "      <td>G</td>\n",
       "      <td>[C]</td>\n",
       "    </tr>\n",
       "  </tbody>\n",
       "</table>\n",
       "</div>"
      ],
      "text/plain": [
       "   pos ref  alt\n",
       "0    8   A  [C]\n",
       "1   10   G  [C]\n",
       "2   11   A  [C]\n",
       "3   15   C  [T]\n",
       "4   16   G  [C]"
      ]
     },
     "execution_count": 17,
     "metadata": {},
     "output_type": "execute_result"
    }
   ],
   "source": [
    "SNP_annotation_DF.head()"
   ]
  },
  {
   "cell_type": "code",
   "execution_count": 18,
   "metadata": {},
   "outputs": [
    {
     "data": {
      "text/plain": [
       "(899035, 3)"
      ]
     },
     "execution_count": 18,
     "metadata": {},
     "output_type": "execute_result"
    }
   ],
   "source": [
    "np.shape(SNP_annotation_DF)"
   ]
  },
  {
   "cell_type": "code",
   "execution_count": 19,
   "metadata": {},
   "outputs": [],
   "source": [
    "del genotype_arrays_per_isolate_list #clear variable from memory"
   ]
  },
  {
   "cell_type": "markdown",
   "metadata": {},
   "source": [
    "## [8.1] Drop SNP sites that *[1]* have low Empirical Base Pair Recall (EBPR) Scores, *[2]* are located in Mobile Genetic Element (MGE) regions, *[3]* have missing base calls $\\ge 10\\%$ of isolates or *[4]* are located in a region with overlapping genes"
   ]
  },
  {
   "cell_type": "markdown",
   "metadata": {},
   "source": [
    "### (Filter 1)  *FILTER* out SNPs with low EBR scores"
   ]
  },
  {
   "cell_type": "code",
   "execution_count": null,
   "metadata": {},
   "outputs": [],
   "source": [
    "#load Genotypes Matrix\n",
    "## genotypes_matrix =  np.load('/n/data1/hms/dbmi/farhat/Roger/homoplasy_project/rolling_DB_scrape/Genotypes_Filtered/genotypes_matrix.npy')\n",
    "\n",
    "#load SNP annotation file\n",
    "## SNP_annotation_DF = pd.read_pickle('/n/data1/hms/dbmi/farhat/Roger/homoplasy_project/rolling_DB_scrape/Genotypes/genotypes_SNP_annotation.pkl')"
   ]
  },
  {
   "cell_type": "markdown",
   "metadata": {},
   "source": [
    "#### Load list of low EBR score Reference positions to Drop (IL mapping/variant calling: sites with empirical score < 0.90)"
   ]
  },
  {
   "cell_type": "code",
   "execution_count": 20,
   "metadata": {},
   "outputs": [],
   "source": [
    "with open('/n/data1/hms/dbmi/farhat/Roger/homoplasy_project/rolling_DB_scrape/Genotypes/H37Rv_sites_with_low_EBR_to_drop.pkl', 'rb') as f:\n",
    "    H37Rv_positions_to_drop = pickle.load(f)\n",
    "    \n",
    "#convert to set, faster to check\n",
    "H37Rv_positions_to_drop = set(H37Rv_positions_to_drop)"
   ]
  },
  {
   "cell_type": "markdown",
   "metadata": {},
   "source": [
    "#### Filter out sites with low EBR scores"
   ]
  },
  {
   "cell_type": "markdown",
   "metadata": {},
   "source": [
    "Drop unique SNPs from the __GENOTYPE MATRIX__ and __SNP ANNOTATION FILE__"
   ]
  },
  {
   "cell_type": "code",
   "execution_count": 21,
   "metadata": {},
   "outputs": [],
   "source": [
    "#construct boolean filter\n",
    "SNPs_to_keep_filter = []\n",
    "for H37Rv_pos_i in SNP_annotation_DF.pos:\n",
    "    \n",
    "    if H37Rv_pos_i not in H37Rv_positions_to_drop:\n",
    "        \n",
    "        SNPs_to_keep_filter.append(True)\n",
    "        \n",
    "    elif H37Rv_pos_i in H37Rv_positions_to_drop:\n",
    "        \n",
    "        SNPs_to_keep_filter.append(False)"
   ]
  },
  {
   "cell_type": "code",
   "execution_count": 24,
   "metadata": {},
   "outputs": [
    {
     "data": {
      "text/plain": [
       "20360"
      ]
     },
     "execution_count": 24,
     "metadata": {},
     "output_type": "execute_result"
    }
   ],
   "source": [
    "len(SNPs_to_keep_filter) - sum(SNPs_to_keep_filter) #number of sites dropped by this filter"
   ]
  },
  {
   "cell_type": "code",
   "execution_count": 29,
   "metadata": {},
   "outputs": [
    {
     "data": {
      "text/plain": [
       "(20360, 3)"
      ]
     },
     "execution_count": 29,
     "metadata": {},
     "output_type": "execute_result"
    }
   ],
   "source": [
    "#store dataframe of SNPs that were dropped by this filtering step\n",
    "SNPs_to_drop_filter = [not good_SNP for good_SNP in SNPs_to_keep_filter]\n",
    "dropped_SNP_annotation_DF = SNP_annotation_DF[SNPs_to_drop_filter]\n",
    "dropped_SNP_annotation_DF.to_pickle('/n/data1/hms/dbmi/farhat/Roger/homoplasy_project/rolling_DB_scrape/Genotypes_Filtered/SNP_sites_dropped/1_dropped_SNPs_annotation_low_EBR_score.pkl')\n",
    "np.shape(dropped_SNP_annotation_DF)"
   ]
  },
  {
   "cell_type": "code",
   "execution_count": 30,
   "metadata": {},
   "outputs": [],
   "source": [
    "#filter Genotypes Matrix\n",
    "genotypes_matrix = genotypes_matrix[SNPs_to_keep_filter , :]\n",
    "\n",
    "#filter SNP annotation file\n",
    "SNP_annotation_DF = SNP_annotation_DF[SNPs_to_keep_filter]\n",
    "SNP_annotation_DF.reset_index(drop = True , inplace = True) #re-index new filtered SNP annotation DF (so new index matches indexing of genotypes matrix rows)"
   ]
  },
  {
   "cell_type": "code",
   "execution_count": 31,
   "metadata": {},
   "outputs": [
    {
     "data": {
      "text/plain": [
       "(878675, 33873)"
      ]
     },
     "execution_count": 31,
     "metadata": {},
     "output_type": "execute_result"
    }
   ],
   "source": [
    "np.shape(genotypes_matrix)"
   ]
  },
  {
   "cell_type": "code",
   "execution_count": 32,
   "metadata": {},
   "outputs": [
    {
     "data": {
      "text/html": [
       "<div>\n",
       "<style>\n",
       "    .dataframe thead tr:only-child th {\n",
       "        text-align: right;\n",
       "    }\n",
       "\n",
       "    .dataframe thead th {\n",
       "        text-align: left;\n",
       "    }\n",
       "\n",
       "    .dataframe tbody tr th {\n",
       "        vertical-align: top;\n",
       "    }\n",
       "</style>\n",
       "<table border=\"1\" class=\"dataframe\">\n",
       "  <thead>\n",
       "    <tr style=\"text-align: right;\">\n",
       "      <th></th>\n",
       "      <th>pos</th>\n",
       "      <th>ref</th>\n",
       "      <th>alt</th>\n",
       "    </tr>\n",
       "  </thead>\n",
       "  <tbody>\n",
       "    <tr>\n",
       "      <th>0</th>\n",
       "      <td>29</td>\n",
       "      <td>C</td>\n",
       "      <td>[G]</td>\n",
       "    </tr>\n",
       "    <tr>\n",
       "      <th>1</th>\n",
       "      <td>31</td>\n",
       "      <td>A</td>\n",
       "      <td>[C, G]</td>\n",
       "    </tr>\n",
       "    <tr>\n",
       "      <th>2</th>\n",
       "      <td>33</td>\n",
       "      <td>A</td>\n",
       "      <td>[G]</td>\n",
       "    </tr>\n",
       "    <tr>\n",
       "      <th>3</th>\n",
       "      <td>44</td>\n",
       "      <td>C</td>\n",
       "      <td>[T]</td>\n",
       "    </tr>\n",
       "    <tr>\n",
       "      <th>4</th>\n",
       "      <td>48</td>\n",
       "      <td>C</td>\n",
       "      <td>[T]</td>\n",
       "    </tr>\n",
       "  </tbody>\n",
       "</table>\n",
       "</div>"
      ],
      "text/plain": [
       "   pos ref     alt\n",
       "0   29   C     [G]\n",
       "1   31   A  [C, G]\n",
       "2   33   A     [G]\n",
       "3   44   C     [T]\n",
       "4   48   C     [T]"
      ]
     },
     "execution_count": 32,
     "metadata": {},
     "output_type": "execute_result"
    }
   ],
   "source": [
    "SNP_annotation_DF.head()"
   ]
  },
  {
   "cell_type": "code",
   "execution_count": 33,
   "metadata": {
    "scrolled": true
   },
   "outputs": [
    {
     "data": {
      "text/plain": [
       "(878675, 3)"
      ]
     },
     "execution_count": 33,
     "metadata": {},
     "output_type": "execute_result"
    }
   ],
   "source": [
    "np.shape(SNP_annotation_DF) #Annotation for Rows of Genotypes Matrix"
   ]
  },
  {
   "cell_type": "markdown",
   "metadata": {},
   "source": [
    "Save __Genotypes Matrix__ in case kernel crashes when filtering"
   ]
  },
  {
   "cell_type": "code",
   "execution_count": 34,
   "metadata": {},
   "outputs": [],
   "source": [
    "#save Genotypes Matrix\n",
    "np.save('/n/data1/hms/dbmi/farhat/Roger/homoplasy_project/rolling_DB_scrape/Genotypes_Filtered/genotypes_matrix' , genotypes_matrix , allow_pickle = True)"
   ]
  },
  {
   "cell_type": "markdown",
   "metadata": {},
   "source": [
    "Save __SNP annotation file__ in case kernel crashes when filtering"
   ]
  },
  {
   "cell_type": "code",
   "execution_count": 35,
   "metadata": {},
   "outputs": [],
   "source": [
    "SNP_annotation_DF.to_pickle('/n/data1/hms/dbmi/farhat/Roger/homoplasy_project/rolling_DB_scrape/Genotypes_Filtered/genotypes_SNP_annotation.pkl')"
   ]
  },
  {
   "cell_type": "markdown",
   "metadata": {},
   "source": [
    "### (Filter 2) *FILTER* out SNPs in MGE regions"
   ]
  },
  {
   "cell_type": "code",
   "execution_count": 12,
   "metadata": {},
   "outputs": [],
   "source": [
    "#load Genotypes Matrix\n",
    "## genotypes_matrix =  np.load('/n/data1/hms/dbmi/farhat/Roger/homoplasy_project/rolling_DB_scrape/Genotypes_Filtered/genotypes_matrix.npy')\n",
    "\n",
    "#load SNP annotation file\n",
    "## SNP_annotation_DF = pd.read_pickle('/n/data1/hms/dbmi/farhat/Roger/homoplasy_project/rolling_DB_scrape/Genotypes_Filtered/genotypes_SNP_annotation.pkl')"
   ]
  },
  {
   "cell_type": "code",
   "execution_count": 36,
   "metadata": {},
   "outputs": [
    {
     "data": {
      "text/plain": [
       "(878675, 33873)"
      ]
     },
     "execution_count": 36,
     "metadata": {},
     "output_type": "execute_result"
    }
   ],
   "source": [
    "np.shape(genotypes_matrix)"
   ]
  },
  {
   "cell_type": "code",
   "execution_count": 37,
   "metadata": {},
   "outputs": [
    {
     "data": {
      "text/plain": [
       "(878675, 3)"
      ]
     },
     "execution_count": 37,
     "metadata": {},
     "output_type": "execute_result"
    }
   ],
   "source": [
    "np.shape(SNP_annotation_DF)"
   ]
  },
  {
   "cell_type": "markdown",
   "metadata": {},
   "source": [
    "#### Collect list of MGE Reference Positions to Drop"
   ]
  },
  {
   "cell_type": "code",
   "execution_count": 4,
   "metadata": {},
   "outputs": [],
   "source": [
    "#csv files with category for each gene\n",
    "gene_categories_df = pd.read_csv('/n/data1/hms/dbmi/farhat/Roger/inhost_TB_dynamics_project/CSV_files/gene_categories/gene_categories.csv')"
   ]
  },
  {
   "cell_type": "code",
   "execution_count": 5,
   "metadata": {},
   "outputs": [
    {
     "data": {
      "text/html": [
       "<div>\n",
       "<style>\n",
       "    .dataframe thead tr:only-child th {\n",
       "        text-align: right;\n",
       "    }\n",
       "\n",
       "    .dataframe thead th {\n",
       "        text-align: left;\n",
       "    }\n",
       "\n",
       "    .dataframe tbody tr th {\n",
       "        vertical-align: top;\n",
       "    }\n",
       "</style>\n",
       "<table border=\"1\" class=\"dataframe\">\n",
       "  <thead>\n",
       "    <tr style=\"text-align: right;\">\n",
       "      <th></th>\n",
       "      <th>name</th>\n",
       "      <th>gene_id</th>\n",
       "      <th>Gene_Category</th>\n",
       "    </tr>\n",
       "  </thead>\n",
       "  <tbody>\n",
       "    <tr>\n",
       "      <th>0</th>\n",
       "      <td>Rv0001</td>\n",
       "      <td>Rv0001</td>\n",
       "      <td>Essential</td>\n",
       "    </tr>\n",
       "    <tr>\n",
       "      <th>1</th>\n",
       "      <td>Rv0002</td>\n",
       "      <td>Rv0002</td>\n",
       "      <td>Non-Essential</td>\n",
       "    </tr>\n",
       "    <tr>\n",
       "      <th>2</th>\n",
       "      <td>Rv0003</td>\n",
       "      <td>Rv0003</td>\n",
       "      <td>Non-Essential</td>\n",
       "    </tr>\n",
       "    <tr>\n",
       "      <th>3</th>\n",
       "      <td>Rv0004</td>\n",
       "      <td>Rv0004</td>\n",
       "      <td>Non-Essential</td>\n",
       "    </tr>\n",
       "    <tr>\n",
       "      <th>4</th>\n",
       "      <td>Rv0005</td>\n",
       "      <td>Rv0005</td>\n",
       "      <td>Antibiotic Resistance</td>\n",
       "    </tr>\n",
       "  </tbody>\n",
       "</table>\n",
       "</div>"
      ],
      "text/plain": [
       "     name gene_id          Gene_Category\n",
       "0  Rv0001  Rv0001              Essential\n",
       "1  Rv0002  Rv0002          Non-Essential\n",
       "2  Rv0003  Rv0003          Non-Essential\n",
       "3  Rv0004  Rv0004          Non-Essential\n",
       "4  Rv0005  Rv0005  Antibiotic Resistance"
      ]
     },
     "execution_count": 5,
     "metadata": {},
     "output_type": "execute_result"
    }
   ],
   "source": [
    "gene_categories_df.head()"
   ]
  },
  {
   "cell_type": "code",
   "execution_count": 6,
   "metadata": {},
   "outputs": [],
   "source": [
    "#reference genome annotation\n",
    "reference_genome_annotation = pd.read_csv('/n/data1/hms/dbmi/farhat/Roger/inhost_TB_dynamics_project/H37Rv/h37rv_genome_summary.txt', '\\t').set_index('name')"
   ]
  },
  {
   "cell_type": "markdown",
   "metadata": {},
   "source": [
    "Collect positions for **MGEs**"
   ]
  },
  {
   "cell_type": "code",
   "execution_count": 7,
   "metadata": {},
   "outputs": [],
   "source": [
    "H37Rv_positions_MGE_genes = []\n",
    "MGE_sites_concat_length = 0\n",
    "\n",
    "for gene_id in gene_categories_df[gene_categories_df.Gene_Category == 'Mobile Genetic Element'].gene_id:\n",
    "    \n",
    "    #get reference positions tht corresond to each gene\n",
    "    gene_id_info = reference_genome_annotation.loc[gene_id, :]\n",
    "    gene_id = gene_id_info.name\n",
    "\n",
    "    chrom_start = gene_id_info.chromStart\n",
    "    chrom_end = gene_id_info.chromEnd\n",
    "\n",
    "    #find the position of the first base relative to H37Rv in 5' -> 3'\n",
    "    H37Rv_start = min(chrom_start , chrom_end)\n",
    "    H37Rv_end = max(chrom_start , chrom_end)\n",
    "    \n",
    "    # add up positions to get total lenth of MGE regions in genome\n",
    "    MGE_sites_concat_length += H37Rv_end - H37Rv_start\n",
    "    \n",
    "    #store all corresponding H37Rv Reference Positions to gene_id in list of reference positions to scan\n",
    "    H37Rv_positions_MGE_genes.append([H37Rv_start+1 , H37Rv_end+1])"
   ]
  },
  {
   "cell_type": "code",
   "execution_count": 8,
   "metadata": {},
   "outputs": [
    {
     "data": {
      "text/plain": [
       "108"
      ]
     },
     "execution_count": 8,
     "metadata": {},
     "output_type": "execute_result"
    }
   ],
   "source": [
    "len(H37Rv_positions_MGE_genes)"
   ]
  },
  {
   "cell_type": "code",
   "execution_count": 9,
   "metadata": {},
   "outputs": [
    {
     "data": {
      "text/plain": [
       "79659"
      ]
     },
     "execution_count": 9,
     "metadata": {},
     "output_type": "execute_result"
    }
   ],
   "source": [
    "MGE_sites_concat_length"
   ]
  },
  {
   "cell_type": "markdown",
   "metadata": {},
   "source": [
    "#### FILTER out sites in MGE regions"
   ]
  },
  {
   "cell_type": "code",
   "execution_count": 43,
   "metadata": {},
   "outputs": [],
   "source": [
    "#construct boolean filter\n",
    "SNPs_to_keep_filter = []\n",
    "for H37Rv_pos_i in SNP_annotation_DF.pos:\n",
    "\n",
    "    bad_pos_i = False\n",
    "\n",
    "    for problem_region in H37Rv_positions_MGE_genes:\n",
    "\n",
    "        if (H37Rv_pos_i > problem_region[0]) and (H37Rv_pos_i < problem_region[1]):\n",
    "            bad_pos_i = True\n",
    "            break\n",
    "\n",
    "    if bad_pos_i == False:\n",
    "        SNPs_to_keep_filter.append(True)\n",
    "    else:\n",
    "        SNPs_to_keep_filter.append(False)"
   ]
  },
  {
   "cell_type": "code",
   "execution_count": 44,
   "metadata": {},
   "outputs": [
    {
     "data": {
      "text/plain": [
       "9137"
      ]
     },
     "execution_count": 44,
     "metadata": {},
     "output_type": "execute_result"
    }
   ],
   "source": [
    "len(SNPs_to_keep_filter) - sum(SNPs_to_keep_filter) #number of sites dropped by this filter"
   ]
  },
  {
   "cell_type": "code",
   "execution_count": 45,
   "metadata": {},
   "outputs": [
    {
     "data": {
      "text/plain": [
       "(9137, 3)"
      ]
     },
     "execution_count": 45,
     "metadata": {},
     "output_type": "execute_result"
    }
   ],
   "source": [
    "#store dataframe of SNPs that were dropped by this filtering step\n",
    "SNPs_to_drop_filter = [not good_SNP for good_SNP in SNPs_to_keep_filter]\n",
    "dropped_SNP_annotation_DF = SNP_annotation_DF[SNPs_to_drop_filter]\n",
    "dropped_SNP_annotation_DF.to_pickle('/n/data1/hms/dbmi/farhat/Roger/homoplasy_project/rolling_DB_scrape/Genotypes_Filtered/SNP_sites_dropped/2_dropped_SNPs_annotation_MGE_region.pkl')\n",
    "np.shape(dropped_SNP_annotation_DF)"
   ]
  },
  {
   "cell_type": "code",
   "execution_count": 46,
   "metadata": {},
   "outputs": [],
   "source": [
    "#filter Genotypes Matrix\n",
    "genotypes_matrix = genotypes_matrix[SNPs_to_keep_filter , :]\n",
    "\n",
    "#filter SNP annotation file\n",
    "SNP_annotation_DF = SNP_annotation_DF[SNPs_to_keep_filter]\n",
    "SNP_annotation_DF.reset_index(drop = True , inplace = True) #re-index new filtered SNP annotation DF (so new index matches indexing of genotypes matrix rows)"
   ]
  },
  {
   "cell_type": "code",
   "execution_count": 47,
   "metadata": {},
   "outputs": [
    {
     "data": {
      "text/plain": [
       "(869538, 33873)"
      ]
     },
     "execution_count": 47,
     "metadata": {},
     "output_type": "execute_result"
    }
   ],
   "source": [
    "np.shape(genotypes_matrix)"
   ]
  },
  {
   "cell_type": "code",
   "execution_count": 48,
   "metadata": {},
   "outputs": [
    {
     "data": {
      "text/html": [
       "<div>\n",
       "<style>\n",
       "    .dataframe thead tr:only-child th {\n",
       "        text-align: right;\n",
       "    }\n",
       "\n",
       "    .dataframe thead th {\n",
       "        text-align: left;\n",
       "    }\n",
       "\n",
       "    .dataframe tbody tr th {\n",
       "        vertical-align: top;\n",
       "    }\n",
       "</style>\n",
       "<table border=\"1\" class=\"dataframe\">\n",
       "  <thead>\n",
       "    <tr style=\"text-align: right;\">\n",
       "      <th></th>\n",
       "      <th>pos</th>\n",
       "      <th>ref</th>\n",
       "      <th>alt</th>\n",
       "    </tr>\n",
       "  </thead>\n",
       "  <tbody>\n",
       "    <tr>\n",
       "      <th>0</th>\n",
       "      <td>29</td>\n",
       "      <td>C</td>\n",
       "      <td>[G]</td>\n",
       "    </tr>\n",
       "    <tr>\n",
       "      <th>1</th>\n",
       "      <td>31</td>\n",
       "      <td>A</td>\n",
       "      <td>[C, G]</td>\n",
       "    </tr>\n",
       "    <tr>\n",
       "      <th>2</th>\n",
       "      <td>33</td>\n",
       "      <td>A</td>\n",
       "      <td>[G]</td>\n",
       "    </tr>\n",
       "    <tr>\n",
       "      <th>3</th>\n",
       "      <td>44</td>\n",
       "      <td>C</td>\n",
       "      <td>[T]</td>\n",
       "    </tr>\n",
       "    <tr>\n",
       "      <th>4</th>\n",
       "      <td>48</td>\n",
       "      <td>C</td>\n",
       "      <td>[T]</td>\n",
       "    </tr>\n",
       "  </tbody>\n",
       "</table>\n",
       "</div>"
      ],
      "text/plain": [
       "   pos ref     alt\n",
       "0   29   C     [G]\n",
       "1   31   A  [C, G]\n",
       "2   33   A     [G]\n",
       "3   44   C     [T]\n",
       "4   48   C     [T]"
      ]
     },
     "execution_count": 48,
     "metadata": {},
     "output_type": "execute_result"
    }
   ],
   "source": [
    "SNP_annotation_DF.head()"
   ]
  },
  {
   "cell_type": "code",
   "execution_count": 49,
   "metadata": {},
   "outputs": [
    {
     "data": {
      "text/plain": [
       "(869538, 3)"
      ]
     },
     "execution_count": 49,
     "metadata": {},
     "output_type": "execute_result"
    }
   ],
   "source": [
    "np.shape(SNP_annotation_DF) #Annotation for Rows of Genotypes Matrix"
   ]
  },
  {
   "cell_type": "markdown",
   "metadata": {},
   "source": [
    "Save __Genotypes Matrix__ in case kernel crashes when filtering"
   ]
  },
  {
   "cell_type": "code",
   "execution_count": 50,
   "metadata": {},
   "outputs": [],
   "source": [
    "#save Genotypes Matrix\n",
    "np.save('/n/data1/hms/dbmi/farhat/Roger/homoplasy_project/rolling_DB_scrape/Genotypes_Filtered/genotypes_matrix' , genotypes_matrix , allow_pickle = True)"
   ]
  },
  {
   "cell_type": "markdown",
   "metadata": {},
   "source": [
    "Save __SNP annotation file__ in case kernel crashes when filtering"
   ]
  },
  {
   "cell_type": "code",
   "execution_count": 51,
   "metadata": {},
   "outputs": [],
   "source": [
    "SNP_annotation_DF.to_pickle('/n/data1/hms/dbmi/farhat/Roger/homoplasy_project/rolling_DB_scrape/Genotypes_Filtered/genotypes_SNP_annotation.pkl')"
   ]
  },
  {
   "cell_type": "markdown",
   "metadata": {},
   "source": [
    "### (Filter 3) *FILTER* out SNPs that are missing in $> 10\\%$ of isolates"
   ]
  },
  {
   "cell_type": "code",
   "execution_count": 3,
   "metadata": {},
   "outputs": [],
   "source": [
    "#load Genotypes Matrix\n",
    "## genotypes_matrix =  np.load('/n/data1/hms/dbmi/farhat/Roger/homoplasy_project/rolling_DB_scrape/Genotypes_Filtered/genotypes_matrix.npy')\n",
    "\n",
    "#load SNP annotation file\n",
    "## SNP_annotation_DF = pd.read_pickle('/n/data1/hms/dbmi/farhat/Roger/homoplasy_project/rolling_DB_scrape/Genotypes_Filtered/genotypes_SNP_annotation.pkl')"
   ]
  },
  {
   "cell_type": "code",
   "execution_count": 4,
   "metadata": {},
   "outputs": [
    {
     "data": {
      "text/plain": [
       "(869538, 33873)"
      ]
     },
     "execution_count": 4,
     "metadata": {},
     "output_type": "execute_result"
    }
   ],
   "source": [
    "np.shape(genotypes_matrix)"
   ]
  },
  {
   "cell_type": "code",
   "execution_count": 5,
   "metadata": {},
   "outputs": [
    {
     "data": {
      "text/plain": [
       "(869538, 3)"
      ]
     },
     "execution_count": 5,
     "metadata": {},
     "output_type": "execute_result"
    }
   ],
   "source": [
    "np.shape(SNP_annotation_DF)"
   ]
  },
  {
   "cell_type": "markdown",
   "metadata": {},
   "source": [
    "#### Investigate the Number of Missing Calls for each Unique SNP"
   ]
  },
  {
   "cell_type": "code",
   "execution_count": 6,
   "metadata": {},
   "outputs": [],
   "source": [
    "plt.style.use('ggplot')\n",
    "plt.rcParams['lines.linewidth']=3\n",
    "plt.rcParams['axes.facecolor']='1.0'\n",
    "plt.rcParams['xtick.color']='black'\n",
    "plt.rcParams['axes.grid']=True\n",
    "plt.rcParams['axes.edgecolor']='black'\n",
    "plt.rcParams['grid.color']= '1.0'\n",
    "plt.rcParams.update({'font.size': 12})"
   ]
  },
  {
   "cell_type": "markdown",
   "metadata": {},
   "source": [
    "Look for SNPs with an abundance of missing values, drop SNPs that have missing values $> 10\\%$ of the isolates"
   ]
  },
  {
   "cell_type": "code",
   "execution_count": 7,
   "metadata": {},
   "outputs": [],
   "source": [
    "missing_values = genotypes_matrix == 9\n",
    "missing_values_per_SNP = missing_values.sum(axis = 1) #will range from 0 - 33,873"
   ]
  },
  {
   "cell_type": "code",
   "execution_count": 8,
   "metadata": {},
   "outputs": [],
   "source": [
    "#impose a threshold for maximum number of missing values per SNP (across all isolates)\n",
    "max_proportion_missing = 0.10\n",
    "number_of_isolates = float(np.shape(genotypes_matrix)[1])\n",
    "\n",
    "max_number_values_missing_per_SNP = np.floor( max_proportion_missing * number_of_isolates )"
   ]
  },
  {
   "cell_type": "code",
   "execution_count": 9,
   "metadata": {},
   "outputs": [
    {
     "name": "stdout",
     "output_type": "stream",
     "text": [
      "3387.0\n"
     ]
    }
   ],
   "source": [
    "print max_number_values_missing_per_SNP #that we're going to allow"
   ]
  },
  {
   "cell_type": "code",
   "execution_count": 10,
   "metadata": {},
   "outputs": [
    {
     "data": {
      "image/png": "[encoded data removed]",
      "text/plain": [
       "<Figure size 468x378 with 1 Axes>"
      ]
     },
     "metadata": {},
     "output_type": "display_data"
    }
   ],
   "source": [
    "fig , ax = plt.subplots()\n",
    "\n",
    "n , bins , patches = plt.hist( missing_values_per_SNP / number_of_isolates , bins = 50 , color = 'k' , rwidth = 1.0 , edgecolor='white', linewidth=1.0)\n",
    "plt.hist( missing_values_per_SNP[missing_values_per_SNP > max_number_values_missing_per_SNP] / number_of_isolates , bins = bins , color = 'red' , rwidth = 1.0 , edgecolor='white', linewidth=1.0)\n",
    "\n",
    "#plt.title('Mean Coverage across sequenced isolates in rollingDB', fontweight = 'bold' , fontsize = 12, color = 'k')\n",
    "plt.xlabel('Proportion of Isolates with Missing Values', fontweight = 'bold' , fontsize = 12, color = 'k')\n",
    "plt.ylabel('Number of Unique SNPs', fontweight = 'bold' , fontsize = 12, color = 'k')\n",
    "\n",
    "ax.spines['right'].set_visible(False)\n",
    "ax.spines['top'].set_visible(False)\n",
    "\n",
    "ax.tick_params(labelcolor = 'k')\n",
    "ax.set_yscale(\"log\", nonposy='clip')\n",
    "\n",
    "fig = plt.gcf()\n",
    "fig.set_size_inches(6.5, 5.25)\n",
    "fig.tight_layout()\n",
    "\n",
    "plt.tick_params(axis='y', which='major', labelsize=12 , labelcolor = 'k')\n",
    "plt.tick_params(axis='x', which='major', labelsize=12 , labelcolor = 'k')\n",
    "\n",
    "file_name = '/n/data1/hms/dbmi/farhat/Roger/homoplasy_project/Figures/genotypes_matrix_filtering/SNP_sites_dropped_per_missing_values.pdf'\n",
    "plt.savefig(file_name, bbox_inches='tight', dpi = 300 , transparent = True)\n",
    "\n",
    "plt.show()"
   ]
  },
  {
   "cell_type": "code",
   "execution_count": 11,
   "metadata": {},
   "outputs": [
    {
     "name": "stdout",
     "output_type": "stream",
     "text": [
      "Number of Isolates = 33873.0\n"
     ]
    }
   ],
   "source": [
    "print 'Number of Isolates = ' + str( number_of_isolates )"
   ]
  },
  {
   "cell_type": "markdown",
   "metadata": {},
   "source": [
    "Range and Average Number of Missing Values per SNP"
   ]
  },
  {
   "cell_type": "code",
   "execution_count": 12,
   "metadata": {},
   "outputs": [
    {
     "data": {
      "text/plain": [
       "62"
      ]
     },
     "execution_count": 12,
     "metadata": {},
     "output_type": "execute_result"
    }
   ],
   "source": [
    "np.min(missing_values_per_SNP)"
   ]
  },
  {
   "cell_type": "code",
   "execution_count": 13,
   "metadata": {},
   "outputs": [
    {
     "data": {
      "text/plain": [
       "948.6810697174822"
      ]
     },
     "execution_count": 13,
     "metadata": {},
     "output_type": "execute_result"
    }
   ],
   "source": [
    "np.mean(missing_values_per_SNP)"
   ]
  },
  {
   "cell_type": "code",
   "execution_count": 14,
   "metadata": {},
   "outputs": [
    {
     "data": {
      "text/plain": [
       "33870"
      ]
     },
     "execution_count": 14,
     "metadata": {},
     "output_type": "execute_result"
    }
   ],
   "source": [
    "np.max(missing_values_per_SNP) "
   ]
  },
  {
   "cell_type": "code",
   "execution_count": 15,
   "metadata": {},
   "outputs": [
    {
     "name": "stdout",
     "output_type": "stream",
     "text": [
      "SNP with most missing values is missing from 99.9911433885% of isolates\n"
     ]
    }
   ],
   "source": [
    "print 'SNP with most missing values is missing from ' + str( float(np.max(missing_values_per_SNP) ) / number_of_isolates * 100) + '% of isolates' "
   ]
  },
  {
   "cell_type": "markdown",
   "metadata": {},
   "source": [
    "Drop SNPs that are flagged as 'missing values' in more than 10% of isolates in rollingDB"
   ]
  },
  {
   "cell_type": "code",
   "execution_count": 16,
   "metadata": {},
   "outputs": [
    {
     "name": "stdout",
     "output_type": "stream",
     "text": [
      "31215\n"
     ]
    }
   ],
   "source": [
    "print sum( missing_values_per_SNP > max_number_values_missing_per_SNP )"
   ]
  },
  {
   "cell_type": "markdown",
   "metadata": {},
   "source": [
    "Percentage of SNPs with many missing values that we're going to drop from analysis"
   ]
  },
  {
   "cell_type": "code",
   "execution_count": 17,
   "metadata": {},
   "outputs": [
    {
     "name": "stdout",
     "output_type": "stream",
     "text": [
      "3.589837361909428\n"
     ]
    }
   ],
   "source": [
    "number_of_unique_SNPs = float(np.shape(genotypes_matrix)[0])\n",
    "print 100.0 * ( sum( missing_values_per_SNP > max_number_values_missing_per_SNP ) / number_of_unique_SNPs )"
   ]
  },
  {
   "cell_type": "markdown",
   "metadata": {},
   "source": [
    "#### FILTER out sites with missing calls in $> 10\\%$ of isolates"
   ]
  },
  {
   "cell_type": "markdown",
   "metadata": {},
   "source": [
    "Drop unique SNPs with a high abundance of missing values"
   ]
  },
  {
   "cell_type": "code",
   "execution_count": 18,
   "metadata": {
    "scrolled": true
   },
   "outputs": [
    {
     "data": {
      "text/plain": [
       "(869538, 33873)"
      ]
     },
     "execution_count": 18,
     "metadata": {},
     "output_type": "execute_result"
    }
   ],
   "source": [
    "np.shape( genotypes_matrix )"
   ]
  },
  {
   "cell_type": "markdown",
   "metadata": {},
   "source": [
    "Drop unique SNPs from the __GENOTYPE MATRIX__"
   ]
  },
  {
   "cell_type": "code",
   "execution_count": 19,
   "metadata": {
    "scrolled": true
   },
   "outputs": [
    {
     "data": {
      "text/plain": [
       "869538"
      ]
     },
     "execution_count": 19,
     "metadata": {},
     "output_type": "execute_result"
    }
   ],
   "source": [
    "len( missing_values_per_SNP <= max_number_values_missing_per_SNP )"
   ]
  },
  {
   "cell_type": "code",
   "execution_count": 20,
   "metadata": {},
   "outputs": [],
   "source": [
    "SNPs_to_keep_filter = missing_values_per_SNP <= max_number_values_missing_per_SNP"
   ]
  },
  {
   "cell_type": "code",
   "execution_count": 21,
   "metadata": {},
   "outputs": [
    {
     "data": {
      "text/plain": [
       "838323"
      ]
     },
     "execution_count": 21,
     "metadata": {},
     "output_type": "execute_result"
    }
   ],
   "source": [
    "sum(SNPs_to_keep_filter)"
   ]
  },
  {
   "cell_type": "code",
   "execution_count": 22,
   "metadata": {},
   "outputs": [
    {
     "data": {
      "text/plain": [
       "31215"
      ]
     },
     "execution_count": 22,
     "metadata": {},
     "output_type": "execute_result"
    }
   ],
   "source": [
    "len(SNPs_to_keep_filter) - sum(SNPs_to_keep_filter) #number of sites dropped by this filter"
   ]
  },
  {
   "cell_type": "code",
   "execution_count": 23,
   "metadata": {},
   "outputs": [
    {
     "data": {
      "text/plain": [
       "(31215, 3)"
      ]
     },
     "execution_count": 23,
     "metadata": {},
     "output_type": "execute_result"
    }
   ],
   "source": [
    "#store dataframe of SNPs that were dropped by this filtering step\n",
    "SNPs_to_drop_filter = [not good_SNP for good_SNP in SNPs_to_keep_filter]\n",
    "dropped_SNP_annotation_DF = SNP_annotation_DF[SNPs_to_drop_filter]\n",
    "dropped_SNP_annotation_DF.to_pickle('/n/data1/hms/dbmi/farhat/Roger/homoplasy_project/rolling_DB_scrape/Genotypes_Filtered/SNP_sites_dropped/3_dropped_SNPs_annotation_calls_missing_10perc_isolates.pkl')\n",
    "np.shape(dropped_SNP_annotation_DF)"
   ]
  },
  {
   "cell_type": "code",
   "execution_count": 24,
   "metadata": {},
   "outputs": [],
   "source": [
    "genotypes_matrix = genotypes_matrix[SNPs_to_keep_filter , :]"
   ]
  },
  {
   "cell_type": "code",
   "execution_count": 25,
   "metadata": {},
   "outputs": [
    {
     "data": {
      "text/plain": [
       "(838323, 33873)"
      ]
     },
     "execution_count": 25,
     "metadata": {},
     "output_type": "execute_result"
    }
   ],
   "source": [
    "np.shape(genotypes_matrix) #Genotype Matrix"
   ]
  },
  {
   "cell_type": "markdown",
   "metadata": {},
   "source": [
    "Drop unique SNPs with a high abundance of missing values from the __SNP ANNOTATION FILE__"
   ]
  },
  {
   "cell_type": "code",
   "execution_count": 26,
   "metadata": {},
   "outputs": [],
   "source": [
    "SNP_annotation_DF = SNP_annotation_DF[SNPs_to_keep_filter]\n",
    "\n",
    "#re-index new filtered SNP annotation DF (so new index matches indexing of genotypes matrix rows)\n",
    "SNP_annotation_DF.reset_index(drop = True , inplace = True)"
   ]
  },
  {
   "cell_type": "code",
   "execution_count": 27,
   "metadata": {},
   "outputs": [
    {
     "data": {
      "text/html": [
       "<div>\n",
       "<style>\n",
       "    .dataframe thead tr:only-child th {\n",
       "        text-align: right;\n",
       "    }\n",
       "\n",
       "    .dataframe thead th {\n",
       "        text-align: left;\n",
       "    }\n",
       "\n",
       "    .dataframe tbody tr th {\n",
       "        vertical-align: top;\n",
       "    }\n",
       "</style>\n",
       "<table border=\"1\" class=\"dataframe\">\n",
       "  <thead>\n",
       "    <tr style=\"text-align: right;\">\n",
       "      <th></th>\n",
       "      <th>pos</th>\n",
       "      <th>ref</th>\n",
       "      <th>alt</th>\n",
       "    </tr>\n",
       "  </thead>\n",
       "  <tbody>\n",
       "    <tr>\n",
       "      <th>0</th>\n",
       "      <td>44</td>\n",
       "      <td>C</td>\n",
       "      <td>[T]</td>\n",
       "    </tr>\n",
       "    <tr>\n",
       "      <th>1</th>\n",
       "      <td>48</td>\n",
       "      <td>C</td>\n",
       "      <td>[T]</td>\n",
       "    </tr>\n",
       "    <tr>\n",
       "      <th>2</th>\n",
       "      <td>64</td>\n",
       "      <td>G</td>\n",
       "      <td>[C]</td>\n",
       "    </tr>\n",
       "    <tr>\n",
       "      <th>3</th>\n",
       "      <td>67</td>\n",
       "      <td>G</td>\n",
       "      <td>[A, T]</td>\n",
       "    </tr>\n",
       "    <tr>\n",
       "      <th>4</th>\n",
       "      <td>69</td>\n",
       "      <td>C</td>\n",
       "      <td>[T]</td>\n",
       "    </tr>\n",
       "  </tbody>\n",
       "</table>\n",
       "</div>"
      ],
      "text/plain": [
       "   pos ref     alt\n",
       "0   44   C     [T]\n",
       "1   48   C     [T]\n",
       "2   64   G     [C]\n",
       "3   67   G  [A, T]\n",
       "4   69   C     [T]"
      ]
     },
     "execution_count": 27,
     "metadata": {},
     "output_type": "execute_result"
    }
   ],
   "source": [
    "SNP_annotation_DF.head()"
   ]
  },
  {
   "cell_type": "code",
   "execution_count": 28,
   "metadata": {},
   "outputs": [
    {
     "data": {
      "text/plain": [
       "(838323, 3)"
      ]
     },
     "execution_count": 28,
     "metadata": {},
     "output_type": "execute_result"
    }
   ],
   "source": [
    "np.shape(SNP_annotation_DF) #Annotation for Rows of Genotypes Matrix"
   ]
  },
  {
   "cell_type": "markdown",
   "metadata": {},
   "source": [
    "Save __Genotypes Matrix__ in case kernel crashes when filtering"
   ]
  },
  {
   "cell_type": "code",
   "execution_count": 29,
   "metadata": {},
   "outputs": [],
   "source": [
    "#save Genotypes Matrix\n",
    "np.save('/n/data1/hms/dbmi/farhat/Roger/homoplasy_project/rolling_DB_scrape/Genotypes_Filtered/genotypes_matrix' , genotypes_matrix , allow_pickle = True)"
   ]
  },
  {
   "cell_type": "markdown",
   "metadata": {},
   "source": [
    "Save __SNP annotation file__ in case kernel crashes when filtering"
   ]
  },
  {
   "cell_type": "code",
   "execution_count": 30,
   "metadata": {},
   "outputs": [],
   "source": [
    "SNP_annotation_DF.to_pickle('/n/data1/hms/dbmi/farhat/Roger/homoplasy_project/rolling_DB_scrape/Genotypes_Filtered/genotypes_SNP_annotation.pkl')"
   ]
  },
  {
   "cell_type": "markdown",
   "metadata": {},
   "source": [
    "### (Filter 4) *FILTER* out SNPs that located in H37Rv Reference Positions with overlapping genes"
   ]
  },
  {
   "cell_type": "code",
   "execution_count": 12,
   "metadata": {},
   "outputs": [],
   "source": [
    "#load Genotypes Matrix\n",
    "## genotypes_matrix =  np.load('/n/data1/hms/dbmi/farhat/Roger/homoplasy_project/rolling_DB_scrape/Genotypes_Filtered/genotypes_matrix.npy')\n",
    "\n",
    "#load SNP annotation file\n",
    "## SNP_annotation_DF = pd.read_pickle('/n/data1/hms/dbmi/farhat/Roger/homoplasy_project/rolling_DB_scrape/Genotypes_Filtered/genotypes_SNP_annotation.pkl')"
   ]
  },
  {
   "cell_type": "code",
   "execution_count": 31,
   "metadata": {},
   "outputs": [
    {
     "data": {
      "text/plain": [
       "(838323, 33873)"
      ]
     },
     "execution_count": 31,
     "metadata": {},
     "output_type": "execute_result"
    }
   ],
   "source": [
    "np.shape(genotypes_matrix)"
   ]
  },
  {
   "cell_type": "code",
   "execution_count": 32,
   "metadata": {},
   "outputs": [
    {
     "data": {
      "text/plain": [
       "(838323, 3)"
      ]
     },
     "execution_count": 32,
     "metadata": {},
     "output_type": "execute_result"
    }
   ],
   "source": [
    "np.shape(SNP_annotation_DF)"
   ]
  },
  {
   "cell_type": "markdown",
   "metadata": {},
   "source": [
    "#### Load dictionary that contains the mapping between each H37Rv Reference Position and H37Rv locus tag, from the file: */n/data1/hms/dbmi/farhat/Roger/inhost_TB_dynamics_project/H37Rv/h37rv_genome_summary.txt*"
   ]
  },
  {
   "cell_type": "code",
   "execution_count": 33,
   "metadata": {},
   "outputs": [],
   "source": [
    "with open('/n/data1/hms/dbmi/farhat/Roger/homoplasy_project/pickled_files/dicts_for_SNP_annotation/H37Rv_coord_gene_mapping.pickle', 'rb') as handle:\n",
    "    ReferencePosition_Gene_mapping = pickle.load(handle)"
   ]
  },
  {
   "cell_type": "code",
   "execution_count": 34,
   "metadata": {},
   "outputs": [
    {
     "data": {
      "text/plain": [
       "['Rv0001']"
      ]
     },
     "execution_count": 34,
     "metadata": {},
     "output_type": "execute_result"
    }
   ],
   "source": [
    "ReferencePosition_Gene_mapping[1] #one gene mapped to position"
   ]
  },
  {
   "cell_type": "code",
   "execution_count": 35,
   "metadata": {},
   "outputs": [
    {
     "data": {
      "text/plain": [
       "['Rv2035', 'Rv2036']"
      ]
     },
     "execution_count": 35,
     "metadata": {},
     "output_type": "execute_result"
    }
   ],
   "source": [
    "ReferencePosition_Gene_mapping[2282101] #two genes mapped to position (overlapping)"
   ]
  },
  {
   "cell_type": "code",
   "execution_count": 36,
   "metadata": {},
   "outputs": [
    {
     "data": {
      "text/plain": [
       "[]"
      ]
     },
     "execution_count": 36,
     "metadata": {},
     "output_type": "execute_result"
    }
   ],
   "source": [
    "ReferencePosition_Gene_mapping[2281250] #no genes mapped to position (intergenic)"
   ]
  },
  {
   "cell_type": "markdown",
   "metadata": {},
   "source": [
    "#### FILTER out sites that map to 2 (or more) H37Rv locus tags"
   ]
  },
  {
   "cell_type": "code",
   "execution_count": 37,
   "metadata": {},
   "outputs": [],
   "source": [
    "SNPs_to_keep_filter = np.array( [(len(ReferencePosition_Gene_mapping[ref_pos_i]) < 2) for ref_pos_i in SNP_annotation_DF.pos] )"
   ]
  },
  {
   "cell_type": "code",
   "execution_count": 38,
   "metadata": {},
   "outputs": [
    {
     "data": {
      "text/plain": [
       "835979"
      ]
     },
     "execution_count": 38,
     "metadata": {},
     "output_type": "execute_result"
    }
   ],
   "source": [
    "sum(SNPs_to_keep_filter)"
   ]
  },
  {
   "cell_type": "code",
   "execution_count": 39,
   "metadata": {},
   "outputs": [
    {
     "data": {
      "text/plain": [
       "2344"
      ]
     },
     "execution_count": 39,
     "metadata": {},
     "output_type": "execute_result"
    }
   ],
   "source": [
    "len(SNPs_to_keep_filter) - sum(SNPs_to_keep_filter) #number of sites dropped by this filter"
   ]
  },
  {
   "cell_type": "code",
   "execution_count": 40,
   "metadata": {},
   "outputs": [
    {
     "data": {
      "text/plain": [
       "(2344, 3)"
      ]
     },
     "execution_count": 40,
     "metadata": {},
     "output_type": "execute_result"
    }
   ],
   "source": [
    "#store dataframe of SNPs that were dropped by this filtering step\n",
    "SNPs_to_drop_filter = [not good_SNP for good_SNP in SNPs_to_keep_filter]\n",
    "dropped_SNP_annotation_DF = SNP_annotation_DF[SNPs_to_drop_filter]\n",
    "dropped_SNP_annotation_DF.to_pickle('/n/data1/hms/dbmi/farhat/Roger/homoplasy_project/rolling_DB_scrape/Genotypes_Filtered/SNP_sites_dropped/4_dropped_SNPs_annotation_overlapping_genes.pkl')\n",
    "np.shape(dropped_SNP_annotation_DF)"
   ]
  },
  {
   "cell_type": "code",
   "execution_count": 41,
   "metadata": {},
   "outputs": [],
   "source": [
    "#filter Genotypes Matrix\n",
    "genotypes_matrix = genotypes_matrix[SNPs_to_keep_filter , :]\n",
    "\n",
    "#filter SNP annotation file\n",
    "SNP_annotation_DF = SNP_annotation_DF[SNPs_to_keep_filter]\n",
    "SNP_annotation_DF.reset_index(drop = True , inplace = True) #re-index new filtered SNP annotation DF (so new index matches indexing of genotypes matrix rows)"
   ]
  },
  {
   "cell_type": "code",
   "execution_count": 42,
   "metadata": {},
   "outputs": [
    {
     "data": {
      "text/plain": [
       "(835979, 33873)"
      ]
     },
     "execution_count": 42,
     "metadata": {},
     "output_type": "execute_result"
    }
   ],
   "source": [
    "np.shape(genotypes_matrix)"
   ]
  },
  {
   "cell_type": "code",
   "execution_count": 43,
   "metadata": {},
   "outputs": [
    {
     "data": {
      "text/html": [
       "<div>\n",
       "<style>\n",
       "    .dataframe thead tr:only-child th {\n",
       "        text-align: right;\n",
       "    }\n",
       "\n",
       "    .dataframe thead th {\n",
       "        text-align: left;\n",
       "    }\n",
       "\n",
       "    .dataframe tbody tr th {\n",
       "        vertical-align: top;\n",
       "    }\n",
       "</style>\n",
       "<table border=\"1\" class=\"dataframe\">\n",
       "  <thead>\n",
       "    <tr style=\"text-align: right;\">\n",
       "      <th></th>\n",
       "      <th>pos</th>\n",
       "      <th>ref</th>\n",
       "      <th>alt</th>\n",
       "    </tr>\n",
       "  </thead>\n",
       "  <tbody>\n",
       "    <tr>\n",
       "      <th>0</th>\n",
       "      <td>44</td>\n",
       "      <td>C</td>\n",
       "      <td>[T]</td>\n",
       "    </tr>\n",
       "    <tr>\n",
       "      <th>1</th>\n",
       "      <td>48</td>\n",
       "      <td>C</td>\n",
       "      <td>[T]</td>\n",
       "    </tr>\n",
       "    <tr>\n",
       "      <th>2</th>\n",
       "      <td>64</td>\n",
       "      <td>G</td>\n",
       "      <td>[C]</td>\n",
       "    </tr>\n",
       "    <tr>\n",
       "      <th>3</th>\n",
       "      <td>67</td>\n",
       "      <td>G</td>\n",
       "      <td>[A, T]</td>\n",
       "    </tr>\n",
       "    <tr>\n",
       "      <th>4</th>\n",
       "      <td>69</td>\n",
       "      <td>C</td>\n",
       "      <td>[T]</td>\n",
       "    </tr>\n",
       "  </tbody>\n",
       "</table>\n",
       "</div>"
      ],
      "text/plain": [
       "   pos ref     alt\n",
       "0   44   C     [T]\n",
       "1   48   C     [T]\n",
       "2   64   G     [C]\n",
       "3   67   G  [A, T]\n",
       "4   69   C     [T]"
      ]
     },
     "execution_count": 43,
     "metadata": {},
     "output_type": "execute_result"
    }
   ],
   "source": [
    "SNP_annotation_DF.head()"
   ]
  },
  {
   "cell_type": "code",
   "execution_count": 44,
   "metadata": {},
   "outputs": [
    {
     "data": {
      "text/plain": [
       "(835979, 3)"
      ]
     },
     "execution_count": 44,
     "metadata": {},
     "output_type": "execute_result"
    }
   ],
   "source": [
    "np.shape(SNP_annotation_DF) #Annotation for Rows of Genotypes Matrix"
   ]
  },
  {
   "cell_type": "markdown",
   "metadata": {},
   "source": [
    "Save __Genotypes Matrix__ in case kernel crashes when filtering"
   ]
  },
  {
   "cell_type": "code",
   "execution_count": 45,
   "metadata": {},
   "outputs": [],
   "source": [
    "#save Genotypes Matrix\n",
    "np.save('/n/data1/hms/dbmi/farhat/Roger/homoplasy_project/rolling_DB_scrape/Genotypes_Filtered/genotypes_matrix' , genotypes_matrix , allow_pickle = True)"
   ]
  },
  {
   "cell_type": "markdown",
   "metadata": {},
   "source": [
    "Save __SNP annotation file__ in case kernel crashes when filtering"
   ]
  },
  {
   "cell_type": "code",
   "execution_count": 46,
   "metadata": {},
   "outputs": [],
   "source": [
    "SNP_annotation_DF.to_pickle('/n/data1/hms/dbmi/farhat/Roger/homoplasy_project/rolling_DB_scrape/Genotypes_Filtered/genotypes_SNP_annotation.pkl')"
   ]
  },
  {
   "cell_type": "markdown",
   "metadata": {},
   "source": [
    "## [8.2] Drop low-quality isolates"
   ]
  },
  {
   "cell_type": "markdown",
   "metadata": {},
   "source": [
    "### (Filter 5) *FILTER* out isolates that have missing base calls $> 10\\%$ of SNP sites"
   ]
  },
  {
   "cell_type": "code",
   "execution_count": 12,
   "metadata": {},
   "outputs": [],
   "source": [
    "#load Genotypes Matrix\n",
    "## genotypes_matrix =  np.load('/n/data1/hms/dbmi/farhat/Roger/homoplasy_project/rolling_DB_scrape/Genotypes_Filtered/genotypes_matrix.npy')\n",
    "\n",
    "#load SNP annotation file\n",
    "## SNP_annotation_DF = pd.read_pickle('/n/data1/hms/dbmi/farhat/Roger/homoplasy_project/rolling_DB_scrape/Genotypes_Filtered/genotypes_SNP_annotation.pkl')"
   ]
  },
  {
   "cell_type": "code",
   "execution_count": 47,
   "metadata": {},
   "outputs": [
    {
     "data": {
      "text/plain": [
       "(835979, 33873)"
      ]
     },
     "execution_count": 47,
     "metadata": {},
     "output_type": "execute_result"
    }
   ],
   "source": [
    "np.shape(genotypes_matrix)"
   ]
  },
  {
   "cell_type": "code",
   "execution_count": 48,
   "metadata": {},
   "outputs": [
    {
     "data": {
      "text/plain": [
       "(835979, 3)"
      ]
     },
     "execution_count": 48,
     "metadata": {},
     "output_type": "execute_result"
    }
   ],
   "source": [
    "np.shape(SNP_annotation_DF)"
   ]
  },
  {
   "cell_type": "markdown",
   "metadata": {},
   "source": [
    "#### Investigate the Number of Missing Calls for each Sequenced Isolate"
   ]
  },
  {
   "cell_type": "markdown",
   "metadata": {},
   "source": [
    "Look for isolates with an abundance of missing values, drop isolates that have missing values > 10% of SNP calls"
   ]
  },
  {
   "cell_type": "code",
   "execution_count": 49,
   "metadata": {},
   "outputs": [],
   "source": [
    "missing_values = genotypes_matrix == 9\n",
    "missing_values_per_isolate = missing_values.sum(axis = 0) #will range from 0 - 835,979"
   ]
  },
  {
   "cell_type": "code",
   "execution_count": 50,
   "metadata": {},
   "outputs": [],
   "source": [
    "#impose a threshold for maximum number of missing values per isolate (across all SNPs)\n",
    "max_proportion_missing = 0.10\n",
    "number_of_SNPs = float(np.shape(genotypes_matrix)[0])\n",
    "\n",
    "max_number_values_missing_per_isolate = np.floor( max_proportion_missing * number_of_SNPs )"
   ]
  },
  {
   "cell_type": "code",
   "execution_count": 51,
   "metadata": {},
   "outputs": [
    {
     "name": "stdout",
     "output_type": "stream",
     "text": [
      "83597.0\n"
     ]
    }
   ],
   "source": [
    "print max_number_values_missing_per_isolate #that we're going to allow"
   ]
  },
  {
   "cell_type": "code",
   "execution_count": 52,
   "metadata": {},
   "outputs": [
    {
     "data": {
      "image/png": "[encoded data removed]",
      "text/plain": [
       "<Figure size 540x378 with 1 Axes>"
      ]
     },
     "metadata": {},
     "output_type": "display_data"
    }
   ],
   "source": [
    "fig , ax = plt.subplots()\n",
    "\n",
    "n , bins , patches = plt.hist( missing_values_per_isolate / number_of_SNPs , bins = 50 , color = 'k' , rwidth = 1.0 , edgecolor='white', linewidth=1.0)\n",
    "plt.hist( missing_values_per_isolate[missing_values_per_isolate > max_number_values_missing_per_isolate] / number_of_SNPs , bins = bins , color = 'red' , rwidth = 1.0 , edgecolor='white', linewidth=1.0)\n",
    "\n",
    "\n",
    "#plt.title('Mean Coverage across sequenced isolates in rollingDB', fontweight = 'bold' , fontsize = 12, color = 'k')\n",
    "plt.xlabel('Proportion of SNPs with Missing Values', fontweight = 'bold' , fontsize = 12, color = 'k')\n",
    "plt.ylabel('Number of Isolates', fontweight = 'bold' , fontsize = 12, color = 'k')\n",
    "\n",
    "ax.spines['right'].set_visible(False)\n",
    "ax.spines['top'].set_visible(False)\n",
    "\n",
    "ax.tick_params(labelcolor = 'k')\n",
    "ax.set_yscale(\"log\", nonposy='clip')\n",
    "\n",
    "fig = plt.gcf()\n",
    "fig.set_size_inches(7.5, 5.25)\n",
    "fig.tight_layout()\n",
    "\n",
    "plt.tick_params(axis='y', which='major', labelsize=12 , labelcolor = 'k')\n",
    "plt.tick_params(axis='x', which='major', labelsize=12 , labelcolor = 'k')\n",
    "\n",
    "file_name = '/n/data1/hms/dbmi/farhat/Roger/homoplasy_project/Figures/genotypes_matrix_filtering/Samples_dropped_per_missing_values.pdf'\n",
    "plt.savefig(file_name, bbox_inches='tight', dpi = 300 , transparent = True)\n",
    "\n",
    "plt.show()"
   ]
  },
  {
   "cell_type": "code",
   "execution_count": 53,
   "metadata": {},
   "outputs": [
    {
     "name": "stdout",
     "output_type": "stream",
     "text": [
      "Number of unique SNPs = 835979.0\n"
     ]
    }
   ],
   "source": [
    "print 'Number of unique SNPs = ' + str( number_of_SNPs )"
   ]
  },
  {
   "cell_type": "markdown",
   "metadata": {},
   "source": [
    "Range and Average Number of Missing Values per unique SNP"
   ]
  },
  {
   "cell_type": "code",
   "execution_count": 54,
   "metadata": {},
   "outputs": [
    {
     "data": {
      "text/plain": [
       "170"
      ]
     },
     "execution_count": 54,
     "metadata": {},
     "output_type": "execute_result"
    }
   ],
   "source": [
    "np.min(missing_values_per_isolate)"
   ]
  },
  {
   "cell_type": "code",
   "execution_count": 55,
   "metadata": {},
   "outputs": [
    {
     "data": {
      "text/plain": [
       "17680.30714728545"
      ]
     },
     "execution_count": 55,
     "metadata": {},
     "output_type": "execute_result"
    }
   ],
   "source": [
    "np.mean(missing_values_per_isolate)"
   ]
  },
  {
   "cell_type": "code",
   "execution_count": 56,
   "metadata": {},
   "outputs": [
    {
     "data": {
      "text/plain": [
       "835979"
      ]
     },
     "execution_count": 56,
     "metadata": {},
     "output_type": "execute_result"
    }
   ],
   "source": [
    "np.max(missing_values_per_isolate) "
   ]
  },
  {
   "cell_type": "code",
   "execution_count": 57,
   "metadata": {},
   "outputs": [
    {
     "name": "stdout",
     "output_type": "stream",
     "text": [
      "Isolate with most missing values has 100.0% missing values\n"
     ]
    }
   ],
   "source": [
    "print 'Isolate with most missing values has ' + str( float(np.max(missing_values_per_isolate) ) / number_of_SNPs * 100) + '% missing values' "
   ]
  },
  {
   "cell_type": "markdown",
   "metadata": {},
   "source": [
    "Drop isolates that are flagged as 'missing values' in more than 10% of isolates in rollingDB"
   ]
  },
  {
   "cell_type": "code",
   "execution_count": 58,
   "metadata": {},
   "outputs": [
    {
     "name": "stdout",
     "output_type": "stream",
     "text": [
      "1663\n"
     ]
    }
   ],
   "source": [
    "print sum( missing_values_per_isolate > max_number_values_missing_per_isolate )"
   ]
  },
  {
   "cell_type": "markdown",
   "metadata": {},
   "source": [
    "Percentage of isolates with many missing values that we're going to drop from analysis"
   ]
  },
  {
   "cell_type": "code",
   "execution_count": 59,
   "metadata": {},
   "outputs": [
    {
     "name": "stdout",
     "output_type": "stream",
     "text": [
      "4.90951495291235\n"
     ]
    }
   ],
   "source": [
    "number_of_unique_isolates = float(np.shape(genotypes_matrix)[1])\n",
    "print 100.0 * ( sum( missing_values_per_isolate > max_number_values_missing_per_isolate ) / number_of_unique_isolates )"
   ]
  },
  {
   "cell_type": "markdown",
   "metadata": {},
   "source": [
    "#### FILTER out low-quality isolates with $> 10\\%$ missing SNP calls"
   ]
  },
  {
   "cell_type": "markdown",
   "metadata": {},
   "source": [
    "Drop unique isolates with a high abundance of missing values"
   ]
  },
  {
   "cell_type": "code",
   "execution_count": 60,
   "metadata": {
    "scrolled": true
   },
   "outputs": [
    {
     "data": {
      "text/plain": [
       "(835979, 33873)"
      ]
     },
     "execution_count": 60,
     "metadata": {},
     "output_type": "execute_result"
    }
   ],
   "source": [
    "np.shape( genotypes_matrix )"
   ]
  },
  {
   "cell_type": "markdown",
   "metadata": {},
   "source": [
    "Drop isolates from the __GENOTYPE MATRIX__"
   ]
  },
  {
   "cell_type": "code",
   "execution_count": 61,
   "metadata": {},
   "outputs": [
    {
     "data": {
      "text/plain": [
       "33873"
      ]
     },
     "execution_count": 61,
     "metadata": {},
     "output_type": "execute_result"
    }
   ],
   "source": [
    "len( missing_values_per_isolate <= max_number_values_missing_per_isolate )"
   ]
  },
  {
   "cell_type": "code",
   "execution_count": 62,
   "metadata": {},
   "outputs": [],
   "source": [
    "isolates_to_keep_filter = missing_values_per_isolate <= max_number_values_missing_per_isolate"
   ]
  },
  {
   "cell_type": "code",
   "execution_count": 63,
   "metadata": {},
   "outputs": [
    {
     "data": {
      "text/plain": [
       "32210"
      ]
     },
     "execution_count": 63,
     "metadata": {},
     "output_type": "execute_result"
    }
   ],
   "source": [
    "sum(isolates_to_keep_filter)"
   ]
  },
  {
   "cell_type": "code",
   "execution_count": 64,
   "metadata": {},
   "outputs": [
    {
     "data": {
      "text/plain": [
       "1663"
      ]
     },
     "execution_count": 64,
     "metadata": {},
     "output_type": "execute_result"
    }
   ],
   "source": [
    "len(isolates_to_keep_filter) - sum(isolates_to_keep_filter) #number of isolates dropped by this filter"
   ]
  },
  {
   "cell_type": "code",
   "execution_count": null,
   "metadata": {},
   "outputs": [],
   "source": [
    "genotypes_matrix = genotypes_matrix[: , isolates_to_keep_filter]"
   ]
  },
  {
   "cell_type": "code",
   "execution_count": 142,
   "metadata": {},
   "outputs": [
    {
     "data": {
      "text/plain": [
       "(835979, 32210)"
      ]
     },
     "execution_count": 142,
     "metadata": {},
     "output_type": "execute_result"
    }
   ],
   "source": [
    "np.shape(genotypes_matrix) #Genotype Matrix"
   ]
  },
  {
   "cell_type": "markdown",
   "metadata": {},
   "source": [
    "Drop isolates with a high abundance of missing values from __ISOLATE ANNOTATION FILE__"
   ]
  },
  {
   "cell_type": "code",
   "execution_count": 66,
   "metadata": {},
   "outputs": [],
   "source": [
    "isolate_annotation_series = pd.read_pickle('/n/data1/hms/dbmi/farhat/Roger/homoplasy_project/rolling_DB_scrape/Genotypes/genotypes_isolate_annotation.pkl')"
   ]
  },
  {
   "cell_type": "code",
   "execution_count": 67,
   "metadata": {},
   "outputs": [
    {
     "data": {
      "text/plain": [
       "0    SAMEA3558733\n",
       "1    SAMN05575260\n",
       "2    SAMN03648641\n",
       "3    SAMN03647419\n",
       "4    SAMEA3671418\n",
       "dtype: object"
      ]
     },
     "execution_count": 67,
     "metadata": {},
     "output_type": "execute_result"
    }
   ],
   "source": [
    "isolate_annotation_series.head()"
   ]
  },
  {
   "cell_type": "code",
   "execution_count": 68,
   "metadata": {},
   "outputs": [
    {
     "data": {
      "text/plain": [
       "(33873,)"
      ]
     },
     "execution_count": 68,
     "metadata": {},
     "output_type": "execute_result"
    }
   ],
   "source": [
    "np.shape(isolate_annotation_series) #Annotation for Columns of Genotypes Matrix"
   ]
  },
  {
   "cell_type": "code",
   "execution_count": 70,
   "metadata": {},
   "outputs": [
    {
     "data": {
      "text/plain": [
       "(1663,)"
      ]
     },
     "execution_count": 70,
     "metadata": {},
     "output_type": "execute_result"
    }
   ],
   "source": [
    "#store dataframe of isolates that were dropped by this filtering step\n",
    "isolates_to_drop_filter = [not good_isolate for good_isolate in isolates_to_keep_filter]\n",
    "dropped_isolate_annotation_series = isolate_annotation_series[isolates_to_drop_filter]\n",
    "dropped_isolate_annotation_series.to_pickle('/n/data1/hms/dbmi/farhat/Roger/homoplasy_project/rolling_DB_scrape/Genotypes_Filtered/isolate_IDs_dropped/1_dropped_isolates_annotation_calls_missing_10perc_SNPs.pkl')\n",
    "dropped_isolate_annotation_series.to_csv('/n/data1/hms/dbmi/farhat/Roger/homoplasy_project/rolling_DB_scrape/Genotypes_Filtered/isolate_IDs_dropped/1_dropped_isolates_annotation_calls_missing_10perc_SNPs.csv')\n",
    "np.shape(dropped_isolate_annotation_series)"
   ]
  },
  {
   "cell_type": "code",
   "execution_count": 71,
   "metadata": {},
   "outputs": [],
   "source": [
    "isolate_annotation_series = isolate_annotation_series[isolates_to_keep_filter]\n",
    "\n",
    "#re-index new filtered isolate annotation series (so new index matches indexing of genotypes matrix columns)\n",
    "isolate_annotation_series.reset_index(drop = True , inplace = True)"
   ]
  },
  {
   "cell_type": "code",
   "execution_count": 72,
   "metadata": {},
   "outputs": [
    {
     "data": {
      "text/plain": [
       "0    SAMEA3558733\n",
       "1    SAMN03648641\n",
       "2    SAMN03647419\n",
       "3    SAMEA3671418\n",
       "4    SAMN07659096\n",
       "dtype: object"
      ]
     },
     "execution_count": 72,
     "metadata": {},
     "output_type": "execute_result"
    }
   ],
   "source": [
    "isolate_annotation_series.head()"
   ]
  },
  {
   "cell_type": "code",
   "execution_count": 73,
   "metadata": {},
   "outputs": [
    {
     "data": {
      "text/plain": [
       "(32210,)"
      ]
     },
     "execution_count": 73,
     "metadata": {},
     "output_type": "execute_result"
    }
   ],
   "source": [
    "np.shape(isolate_annotation_series) #Annotation for Columns of Genotypes Matrix"
   ]
  },
  {
   "cell_type": "markdown",
   "metadata": {},
   "source": [
    "#### Save annotation files and genotypes matrix"
   ]
  },
  {
   "cell_type": "code",
   "execution_count": 149,
   "metadata": {},
   "outputs": [],
   "source": [
    "#save isolate annotation file (columns of Genotype Matrix)\n",
    "isolate_annotation_series.to_pickle('/n/data1/hms/dbmi/farhat/Roger/homoplasy_project/rolling_DB_scrape/Genotypes_Filtered/genotypes_isolate_annotation.pkl')\n",
    "\n",
    "#save SNP annotation file (rows of Genotype Matrix)\n",
    "SNP_annotation_DF.to_pickle('/n/data1/hms/dbmi/farhat/Roger/homoplasy_project/rolling_DB_scrape/Genotypes_Filtered/genotypes_SNP_annotation.pkl')\n",
    "\n",
    "#save Genotypes Matrix\n",
    "np.save('/n/data1/hms/dbmi/farhat/Roger/homoplasy_project/rolling_DB_scrape/Genotypes_Filtered/genotypes_matrix' , genotypes_matrix , allow_pickle = True)"
   ]
  },
  {
   "cell_type": "markdown",
   "metadata": {},
   "source": [
    "####################################################################################################################################################################################"
   ]
  },
  {
   "cell_type": "markdown",
   "metadata": {},
   "source": [
    "## [9] Annotate SNPs w/ H37Rv Locus Info"
   ]
  },
  {
   "cell_type": "markdown",
   "metadata": {},
   "source": [
    "####################################################################################################################################################################################"
   ]
  },
  {
   "cell_type": "markdown",
   "metadata": {},
   "source": [
    "#### Retrieve information for H37Rv Reference Genome"
   ]
  },
  {
   "cell_type": "code",
   "execution_count": 150,
   "metadata": {},
   "outputs": [
    {
     "name": "stderr",
     "output_type": "stream",
     "text": [
      "/home/rv76/anaconda2/lib/python2.7/site-packages/ipykernel_launcher.py:18: DeprecationWarning: \n",
      ".ix is deprecated. Please use\n",
      ".loc for label based indexing or\n",
      ".iloc for positional indexing\n",
      "\n",
      "See the documentation here:\n",
      "http://pandas.pydata.org/pandas-docs/stable/indexing.html#ix-indexer-is-deprecated\n"
     ]
    }
   ],
   "source": [
    "####################################################################################################################################################################################\n",
    "#load reference genome and reference annotation\n",
    "reference_genome = '/home/rv76/Farhat_Lab/Reference_Seqs/H37Rv/h37rv.fasta'\n",
    "for reference_genome in SeqIO.parse(reference_genome, \"fasta\"):\n",
    "    reference_genome.seq.alphabet = IUPAC.unambiguous_dna\n",
    "\n",
    "reference_genome_annotation = pd.read_csv('/n/data1/hms/dbmi/farhat/Roger/inhost_TB_dynamics_project/H37Rv/h37rv_genome_summary.txt', '\\t').set_index('name')\n",
    "\n",
    "####### Make a dictionary of all H37Rv reference positions and corresponding genes #######\n",
    "ReferencePosition_Gene_mapping = {} #keys: H37Rv Reference Positions , values: gene_ids (may be multiple genes for some Reference Positions)\n",
    "\n",
    "#store a list corresponding to every Reference Position (to store all genes that map to the Reference Position)\n",
    "for H37Rv_RefPos in range(0 , len(reference_genome.seq) + 1):\n",
    "    ReferencePosition_Gene_mapping[H37Rv_RefPos] = []\n",
    "\n",
    "for gene_id_index in range(0 , len(reference_genome_annotation.index)):\n",
    "\n",
    "    gene_id_info = reference_genome_annotation.ix[gene_id_index , :]\n",
    "    gene_id = gene_id_info.name\n",
    "\n",
    "    chrom_start = gene_id_info.chromStart\n",
    "    chrom_end = gene_id_info.chromEnd\n",
    "\n",
    "    #find the position of the first base relative to H37Rv in 5' -> 3'\n",
    "    H37Rv_start = min(chrom_start , chrom_end)\n",
    "    H37Rv_end = max(chrom_start , chrom_end)\n",
    "\n",
    "    #store all corresponding H37Rv Reference Positions to gene_id in dictionary\n",
    "    for H37Rv_RefPos in range(H37Rv_start+1 , H37Rv_end+1):\n",
    "\n",
    "        ReferencePosition_Gene_mapping[H37Rv_RefPos].append(gene_id) #append gene_id to list already in dict\n",
    "####################################################################################################################################################################################"
   ]
  },
  {
   "cell_type": "markdown",
   "metadata": {},
   "source": [
    "#### Annotate SNPs"
   ]
  },
  {
   "cell_type": "markdown",
   "metadata": {},
   "source": [
    "To annotate SNPs, we get gene_ids that the SNPs 'land in' and the gene-relative coordinate."
   ]
  },
  {
   "cell_type": "code",
   "execution_count": 151,
   "metadata": {},
   "outputs": [
    {
     "data": {
      "text/html": [
       "<div>\n",
       "<style>\n",
       "    .dataframe thead tr:only-child th {\n",
       "        text-align: right;\n",
       "    }\n",
       "\n",
       "    .dataframe thead th {\n",
       "        text-align: left;\n",
       "    }\n",
       "\n",
       "    .dataframe tbody tr th {\n",
       "        vertical-align: top;\n",
       "    }\n",
       "</style>\n",
       "<table border=\"1\" class=\"dataframe\">\n",
       "  <thead>\n",
       "    <tr style=\"text-align: right;\">\n",
       "      <th></th>\n",
       "      <th>pos</th>\n",
       "      <th>ref</th>\n",
       "      <th>alt</th>\n",
       "    </tr>\n",
       "  </thead>\n",
       "  <tbody>\n",
       "    <tr>\n",
       "      <th>0</th>\n",
       "      <td>44</td>\n",
       "      <td>C</td>\n",
       "      <td>[T]</td>\n",
       "    </tr>\n",
       "    <tr>\n",
       "      <th>1</th>\n",
       "      <td>48</td>\n",
       "      <td>C</td>\n",
       "      <td>[T]</td>\n",
       "    </tr>\n",
       "    <tr>\n",
       "      <th>2</th>\n",
       "      <td>64</td>\n",
       "      <td>G</td>\n",
       "      <td>[C]</td>\n",
       "    </tr>\n",
       "    <tr>\n",
       "      <th>3</th>\n",
       "      <td>67</td>\n",
       "      <td>G</td>\n",
       "      <td>[A, T]</td>\n",
       "    </tr>\n",
       "    <tr>\n",
       "      <th>4</th>\n",
       "      <td>69</td>\n",
       "      <td>C</td>\n",
       "      <td>[T]</td>\n",
       "    </tr>\n",
       "  </tbody>\n",
       "</table>\n",
       "</div>"
      ],
      "text/plain": [
       "   pos ref     alt\n",
       "0   44   C     [T]\n",
       "1   48   C     [T]\n",
       "2   64   G     [C]\n",
       "3   67   G  [A, T]\n",
       "4   69   C     [T]"
      ]
     },
     "execution_count": 151,
     "metadata": {},
     "output_type": "execute_result"
    }
   ],
   "source": [
    "#load SNP annotation file (rows of Genotype Matrix)\n",
    "SNP_annotation_DF = pd.read_pickle('/n/data1/hms/dbmi/farhat/Roger/homoplasy_project/rolling_DB_scrape/Genotypes_Filtered/genotypes_SNP_annotation.pkl')\n",
    "\n",
    "SNP_annotation_DF.head()"
   ]
  },
  {
   "cell_type": "code",
   "execution_count": 152,
   "metadata": {},
   "outputs": [
    {
     "data": {
      "text/plain": [
       "(835979, 3)"
      ]
     },
     "execution_count": 152,
     "metadata": {},
     "output_type": "execute_result"
    }
   ],
   "source": [
    "np.shape(SNP_annotation_DF)"
   ]
  },
  {
   "cell_type": "markdown",
   "metadata": {},
   "source": [
    "#### Gene Categories"
   ]
  },
  {
   "cell_type": "code",
   "execution_count": 153,
   "metadata": {},
   "outputs": [],
   "source": [
    "#get Gene Categories\n",
    "gene_categories = pd.read_csv('/n/data1/hms/dbmi/farhat/Roger/inhost_TB_dynamics_project/CSV_files/gene_categories/gene_categories.csv').set_index('name')\n",
    "\n",
    "#create dictionary, keys: H37Rv locus, values: gene category\n",
    "gene_categories_map = dict( zip( list(gene_categories.gene_id) , list(gene_categories.Gene_Category) ) ) "
   ]
  },
  {
   "cell_type": "markdown",
   "metadata": {},
   "source": [
    "#### Gene Names"
   ]
  },
  {
   "cell_type": "markdown",
   "metadata": {},
   "source": [
    "Parse through Mycobrowser (tuberculist) to collect gene names"
   ]
  },
  {
   "cell_type": "code",
   "execution_count": 154,
   "metadata": {},
   "outputs": [],
   "source": [
    "mycobrowser_table = pd.read_csv('/n/data1/hms/dbmi/farhat/Roger/inhost_TB_dynamics_project/H37Rv/Mycobrowser_Release3/Mycobacterium_tuberculosis_H37Rv_txt_v3.txt' , sep = '\\t')\n",
    "\n",
    "#retreive columns for locus tag & gene name\n",
    "mycobrowser_table = mycobrowser_table.loc[: , ['Locus' , 'Name']]\n",
    "\n",
    "#create dictionary, keys: H37Rv loucs, values: gene category\n",
    "gene_names_map = dict( zip( list(mycobrowser_table.Locus) , list(mycobrowser_table.Name) ) ) "
   ]
  },
  {
   "cell_type": "markdown",
   "metadata": {},
   "source": [
    "#### Iterate through each SNP to annotate"
   ]
  },
  {
   "cell_type": "markdown",
   "metadata": {},
   "source": [
    "Some SNPs are present in more than 1 gene, have to account for this"
   ]
  },
  {
   "cell_type": "code",
   "execution_count": 162,
   "metadata": {},
   "outputs": [
    {
     "name": "stdout",
     "output_type": "stream",
     "text": [
      "0.0\n",
      "0.20000023924\n",
      "0.400000478481\n",
      "0.600000717721\n",
      "0.800000956962\n"
     ]
    }
   ],
   "source": [
    "#create dictionaries for each columsn of information\n",
    "locus_tag_dict = {} #H37Rv id\n",
    "genomic_coord_dict = {} #coordinate on gene, 5' -> 3'\n",
    "gene_categ_dict = {} #gene Category\n",
    "gene_name_dict = {} #gene Name\n",
    "\n",
    "for SNP_index in SNP_annotation_DF.index:\n",
    "\n",
    "    #reference position, ref allele and alt allele for SNP\n",
    "    SNP_info = SNP_annotation_DF.loc[SNP_index , :]\n",
    "\n",
    "    #find the gene that SNP occurs on\n",
    "    ref_seq_position = SNP_info.pos\n",
    "\n",
    "    #check list corresponding to H37Rv coordinate to see if there are any genes associated with RefPosition\n",
    "    if len(ReferencePosition_Gene_mapping[ref_seq_position]) == 1:\n",
    "        \n",
    "        #get gene that ReferencePosition is mapped to (i.e. SNP filtering ensures that SNP corresponds to only 1 gene)\n",
    "        gene_intergenic_id = ReferencePosition_Gene_mapping[ref_seq_position][0]\n",
    "\n",
    "        #find genomic coordinate of SNP relative to gene (subtract 1 since reference seq starts counting at 1)\n",
    "        gene_relative_coord = (ref_seq_position - 1) - min( reference_genome_annotation.loc[gene_intergenic_id , 'chromStart'] , reference_genome_annotation.loc[gene_intergenic_id , 'chromEnd'] )\n",
    "\n",
    "        #store all information for SNP in relevant dictionaries\n",
    "        locus_tag_dict[SNP_index] = gene_intergenic_id\n",
    "        genomic_coord_dict[SNP_index] = gene_relative_coord\n",
    "\n",
    "        #use gene id to get category and names from mappings\n",
    "        if gene_intergenic_id in gene_categories_map.keys():\n",
    "            gene_categ_dict[SNP_index] = gene_categories_map[gene_intergenic_id]\n",
    "        else:\n",
    "            gene_categ_dict[SNP_index] = 'None'\n",
    "\n",
    "        if gene_intergenic_id in gene_names_map.keys():\n",
    "            gene_name_dict[SNP_index] = gene_names_map[gene_intergenic_id] \n",
    "        else:\n",
    "            gene_name_dict[SNP_index] = 'None'\n",
    "            \n",
    "    #H37Rv RefSeq position was not found in dictionary so Reference position must be intergenic    \n",
    "    elif len(ReferencePosition_Gene_mapping[ref_seq_position]) == 0:\n",
    "\n",
    "        #store all information for SNP in relevant dictionaries\n",
    "        locus_tag_dict[SNP_index] = 'intergenic'\n",
    "        genomic_coord_dict[SNP_index] = np.nan\n",
    "        gene_categ_dict[SNP_index] = 'None'\n",
    "        gene_name_dict[SNP_index] = 'None'\n",
    "\n",
    "    #keep track of progress of loop\n",
    "    num_SNPs = float( np.shape(SNP_annotation_DF)[0] )\n",
    "    if SNP_index % np.ceil(0.20 * num_SNPs) == 0:\n",
    "        print float(SNP_index) / num_SNPs"
   ]
  },
  {
   "cell_type": "markdown",
   "metadata": {},
   "source": [
    "#### Update SNP annotation DF"
   ]
  },
  {
   "cell_type": "code",
   "execution_count": 163,
   "metadata": {},
   "outputs": [],
   "source": [
    "#append columns for info from annotation\n",
    "SNP_annotation_DF['gene_id'] = pd.Series(locus_tag_dict)\n",
    "SNP_annotation_DF['gene_pos'] = pd.Series(genomic_coord_dict)\n",
    "SNP_annotation_DF['gene_category'] = pd.Series(gene_categ_dict)\n",
    "SNP_annotation_DF['gene_name'] = pd.Series(gene_name_dict)"
   ]
  },
  {
   "cell_type": "code",
   "execution_count": 164,
   "metadata": {},
   "outputs": [
    {
     "data": {
      "text/plain": [
       "(835979, 7)"
      ]
     },
     "execution_count": 164,
     "metadata": {},
     "output_type": "execute_result"
    }
   ],
   "source": [
    "np.shape( SNP_annotation_DF )"
   ]
  },
  {
   "cell_type": "code",
   "execution_count": 165,
   "metadata": {},
   "outputs": [
    {
     "data": {
      "text/html": [
       "<div>\n",
       "<style>\n",
       "    .dataframe thead tr:only-child th {\n",
       "        text-align: right;\n",
       "    }\n",
       "\n",
       "    .dataframe thead th {\n",
       "        text-align: left;\n",
       "    }\n",
       "\n",
       "    .dataframe tbody tr th {\n",
       "        vertical-align: top;\n",
       "    }\n",
       "</style>\n",
       "<table border=\"1\" class=\"dataframe\">\n",
       "  <thead>\n",
       "    <tr style=\"text-align: right;\">\n",
       "      <th></th>\n",
       "      <th>pos</th>\n",
       "      <th>ref</th>\n",
       "      <th>alt</th>\n",
       "      <th>gene_id</th>\n",
       "      <th>gene_pos</th>\n",
       "      <th>gene_category</th>\n",
       "      <th>gene_name</th>\n",
       "    </tr>\n",
       "  </thead>\n",
       "  <tbody>\n",
       "    <tr>\n",
       "      <th>0</th>\n",
       "      <td>44</td>\n",
       "      <td>C</td>\n",
       "      <td>[T]</td>\n",
       "      <td>Rv0001</td>\n",
       "      <td>43.0</td>\n",
       "      <td>Essential</td>\n",
       "      <td>dnaA</td>\n",
       "    </tr>\n",
       "    <tr>\n",
       "      <th>1</th>\n",
       "      <td>48</td>\n",
       "      <td>C</td>\n",
       "      <td>[T]</td>\n",
       "      <td>Rv0001</td>\n",
       "      <td>47.0</td>\n",
       "      <td>Essential</td>\n",
       "      <td>dnaA</td>\n",
       "    </tr>\n",
       "    <tr>\n",
       "      <th>2</th>\n",
       "      <td>64</td>\n",
       "      <td>G</td>\n",
       "      <td>[C]</td>\n",
       "      <td>Rv0001</td>\n",
       "      <td>63.0</td>\n",
       "      <td>Essential</td>\n",
       "      <td>dnaA</td>\n",
       "    </tr>\n",
       "    <tr>\n",
       "      <th>3</th>\n",
       "      <td>67</td>\n",
       "      <td>G</td>\n",
       "      <td>[A, T]</td>\n",
       "      <td>Rv0001</td>\n",
       "      <td>66.0</td>\n",
       "      <td>Essential</td>\n",
       "      <td>dnaA</td>\n",
       "    </tr>\n",
       "    <tr>\n",
       "      <th>4</th>\n",
       "      <td>69</td>\n",
       "      <td>C</td>\n",
       "      <td>[T]</td>\n",
       "      <td>Rv0001</td>\n",
       "      <td>68.0</td>\n",
       "      <td>Essential</td>\n",
       "      <td>dnaA</td>\n",
       "    </tr>\n",
       "  </tbody>\n",
       "</table>\n",
       "</div>"
      ],
      "text/plain": [
       "   pos ref     alt gene_id  gene_pos gene_category gene_name\n",
       "0   44   C     [T]  Rv0001      43.0     Essential      dnaA\n",
       "1   48   C     [T]  Rv0001      47.0     Essential      dnaA\n",
       "2   64   G     [C]  Rv0001      63.0     Essential      dnaA\n",
       "3   67   G  [A, T]  Rv0001      66.0     Essential      dnaA\n",
       "4   69   C     [T]  Rv0001      68.0     Essential      dnaA"
      ]
     },
     "execution_count": 165,
     "metadata": {},
     "output_type": "execute_result"
    }
   ],
   "source": [
    "SNP_annotation_DF.head()"
   ]
  },
  {
   "cell_type": "code",
   "execution_count": 166,
   "metadata": {},
   "outputs": [
    {
     "data": {
      "text/html": [
       "<div>\n",
       "<style>\n",
       "    .dataframe thead tr:only-child th {\n",
       "        text-align: right;\n",
       "    }\n",
       "\n",
       "    .dataframe thead th {\n",
       "        text-align: left;\n",
       "    }\n",
       "\n",
       "    .dataframe tbody tr th {\n",
       "        vertical-align: top;\n",
       "    }\n",
       "</style>\n",
       "<table border=\"1\" class=\"dataframe\">\n",
       "  <thead>\n",
       "    <tr style=\"text-align: right;\">\n",
       "      <th></th>\n",
       "      <th>pos</th>\n",
       "      <th>ref</th>\n",
       "      <th>alt</th>\n",
       "      <th>gene_id</th>\n",
       "      <th>gene_pos</th>\n",
       "      <th>gene_category</th>\n",
       "      <th>gene_name</th>\n",
       "    </tr>\n",
       "  </thead>\n",
       "  <tbody>\n",
       "    <tr>\n",
       "      <th>835974</th>\n",
       "      <td>4411494</td>\n",
       "      <td>C</td>\n",
       "      <td>[G]</td>\n",
       "      <td>intergenic</td>\n",
       "      <td>NaN</td>\n",
       "      <td>None</td>\n",
       "      <td>None</td>\n",
       "    </tr>\n",
       "    <tr>\n",
       "      <th>835975</th>\n",
       "      <td>4411499</td>\n",
       "      <td>A</td>\n",
       "      <td>[G]</td>\n",
       "      <td>intergenic</td>\n",
       "      <td>NaN</td>\n",
       "      <td>None</td>\n",
       "      <td>None</td>\n",
       "    </tr>\n",
       "    <tr>\n",
       "      <th>835976</th>\n",
       "      <td>4411500</td>\n",
       "      <td>C</td>\n",
       "      <td>[T]</td>\n",
       "      <td>intergenic</td>\n",
       "      <td>NaN</td>\n",
       "      <td>None</td>\n",
       "      <td>None</td>\n",
       "    </tr>\n",
       "    <tr>\n",
       "      <th>835977</th>\n",
       "      <td>4411501</td>\n",
       "      <td>C</td>\n",
       "      <td>[T]</td>\n",
       "      <td>intergenic</td>\n",
       "      <td>NaN</td>\n",
       "      <td>None</td>\n",
       "      <td>None</td>\n",
       "    </tr>\n",
       "    <tr>\n",
       "      <th>835978</th>\n",
       "      <td>4411502</td>\n",
       "      <td>C</td>\n",
       "      <td>[G]</td>\n",
       "      <td>intergenic</td>\n",
       "      <td>NaN</td>\n",
       "      <td>None</td>\n",
       "      <td>None</td>\n",
       "    </tr>\n",
       "  </tbody>\n",
       "</table>\n",
       "</div>"
      ],
      "text/plain": [
       "            pos ref  alt     gene_id  gene_pos gene_category gene_name\n",
       "835974  4411494   C  [G]  intergenic       NaN          None      None\n",
       "835975  4411499   A  [G]  intergenic       NaN          None      None\n",
       "835976  4411500   C  [T]  intergenic       NaN          None      None\n",
       "835977  4411501   C  [T]  intergenic       NaN          None      None\n",
       "835978  4411502   C  [G]  intergenic       NaN          None      None"
      ]
     },
     "execution_count": 166,
     "metadata": {},
     "output_type": "execute_result"
    }
   ],
   "source": [
    "SNP_annotation_DF.tail()"
   ]
  },
  {
   "cell_type": "code",
   "execution_count": 167,
   "metadata": {},
   "outputs": [],
   "source": [
    "#update SNP annotation file (rows of Genotype Matrix) with extra SNP information\n",
    "SNP_annotation_DF.to_pickle('/n/data1/hms/dbmi/farhat/Roger/homoplasy_project/rolling_DB_scrape/Genotypes_Filtered/genotypes_SNP_annotation_with_gene_info.pkl')"
   ]
  },
  {
   "cell_type": "markdown",
   "metadata": {},
   "source": [
    "How to investigate SNPs that appeared within a particular gene"
   ]
  },
  {
   "cell_type": "code",
   "execution_count": 168,
   "metadata": {},
   "outputs": [
    {
     "data": {
      "text/html": [
       "<div>\n",
       "<style>\n",
       "    .dataframe thead tr:only-child th {\n",
       "        text-align: right;\n",
       "    }\n",
       "\n",
       "    .dataframe thead th {\n",
       "        text-align: left;\n",
       "    }\n",
       "\n",
       "    .dataframe tbody tr th {\n",
       "        vertical-align: top;\n",
       "    }\n",
       "</style>\n",
       "<table border=\"1\" class=\"dataframe\">\n",
       "  <thead>\n",
       "    <tr style=\"text-align: right;\">\n",
       "      <th></th>\n",
       "      <th>pos</th>\n",
       "      <th>ref</th>\n",
       "      <th>alt</th>\n",
       "      <th>gene_id</th>\n",
       "      <th>gene_pos</th>\n",
       "      <th>gene_category</th>\n",
       "      <th>gene_name</th>\n",
       "    </tr>\n",
       "  </thead>\n",
       "  <tbody>\n",
       "    <tr>\n",
       "      <th>160931</th>\n",
       "      <td>759814</td>\n",
       "      <td>A</td>\n",
       "      <td>[G]</td>\n",
       "      <td>Rv0667</td>\n",
       "      <td>7.0</td>\n",
       "      <td>Antibiotic Resistance</td>\n",
       "      <td>rpoB</td>\n",
       "    </tr>\n",
       "    <tr>\n",
       "      <th>160932</th>\n",
       "      <td>759818</td>\n",
       "      <td>C</td>\n",
       "      <td>[T]</td>\n",
       "      <td>Rv0667</td>\n",
       "      <td>11.0</td>\n",
       "      <td>Antibiotic Resistance</td>\n",
       "      <td>rpoB</td>\n",
       "    </tr>\n",
       "    <tr>\n",
       "      <th>160933</th>\n",
       "      <td>759836</td>\n",
       "      <td>C</td>\n",
       "      <td>[T]</td>\n",
       "      <td>Rv0667</td>\n",
       "      <td>29.0</td>\n",
       "      <td>Antibiotic Resistance</td>\n",
       "      <td>rpoB</td>\n",
       "    </tr>\n",
       "    <tr>\n",
       "      <th>160934</th>\n",
       "      <td>759841</td>\n",
       "      <td>G</td>\n",
       "      <td>[C]</td>\n",
       "      <td>Rv0667</td>\n",
       "      <td>34.0</td>\n",
       "      <td>Antibiotic Resistance</td>\n",
       "      <td>rpoB</td>\n",
       "    </tr>\n",
       "    <tr>\n",
       "      <th>160935</th>\n",
       "      <td>759851</td>\n",
       "      <td>G</td>\n",
       "      <td>[T]</td>\n",
       "      <td>Rv0667</td>\n",
       "      <td>44.0</td>\n",
       "      <td>Antibiotic Resistance</td>\n",
       "      <td>rpoB</td>\n",
       "    </tr>\n",
       "  </tbody>\n",
       "</table>\n",
       "</div>"
      ],
      "text/plain": [
       "           pos ref  alt gene_id  gene_pos          gene_category gene_name\n",
       "160931  759814   A  [G]  Rv0667       7.0  Antibiotic Resistance      rpoB\n",
       "160932  759818   C  [T]  Rv0667      11.0  Antibiotic Resistance      rpoB\n",
       "160933  759836   C  [T]  Rv0667      29.0  Antibiotic Resistance      rpoB\n",
       "160934  759841   G  [C]  Rv0667      34.0  Antibiotic Resistance      rpoB\n",
       "160935  759851   G  [T]  Rv0667      44.0  Antibiotic Resistance      rpoB"
      ]
     },
     "execution_count": 168,
     "metadata": {},
     "output_type": "execute_result"
    }
   ],
   "source": [
    "SNP_annotation_DF[['Rv0667' in gene_list for gene_list in SNP_annotation_DF.gene_id]].head()"
   ]
  },
  {
   "cell_type": "code",
   "execution_count": null,
   "metadata": {
    "collapsed": true,
    "jupyter": {
     "outputs_hidden": true
    }
   },
   "outputs": [],
   "source": []
  }
 ],
 "metadata": {
  "kernelspec": {
   "display_name": "Python [conda env:root] *",
   "language": "python",
   "name": "conda-root-py"
  },
  "language_info": {
   "codemirror_mode": {
    "name": "ipython",
    "version": 3
   },
   "file_extension": ".py",
   "mimetype": "text/x-python",
   "name": "python",
   "nbconvert_exporter": "python",
   "pygments_lexer": "ipython3",
   "version": "3.10.9"
  }
 },
 "nbformat": 4,
 "nbformat_minor": 4
}
