{
 "cells": [
  {
   "cell_type": "code",
   "execution_count": 1,
   "metadata": {},
   "outputs": [
    {
     "data": {
      "text/html": [
       "<style>.container { width:100% !important; }</style>"
      ],
      "text/plain": [
       "<IPython.core.display.HTML object>"
      ]
     },
     "metadata": {},
     "output_type": "display_data"
    }
   ],
   "source": [
    "from IPython.core.display import display, HTML\n",
    "display(HTML(\"<style>.container { width:100% !important; }</style>\"))"
   ]
  },
  {
   "cell_type": "markdown",
   "metadata": {},
   "source": [
    "### This notebook was created to (1) convert the genotypes matrix for all isolates into a pairwise SNP distance matrix and (2) compare the SNP differences *within* and *between* lineages"
   ]
  },
  {
   "cell_type": "code",
   "execution_count": 3,
   "metadata": {},
   "outputs": [],
   "source": [
    "import vcf\n",
    "\n",
    "%matplotlib inline\n",
    "import os\n",
    "import pandas as pd\n",
    "import numpy as np\n",
    "import matplotlib.pyplot as plt\n",
    "import matplotlib as mpl\n",
    "import matplotlib.ticker as ticker\n",
    "from itertools import compress\n",
    "from pylab import MaxNLocator\n",
    "import seaborn as sns; sns.set()\n",
    "from matplotlib.colors import LogNorm\n",
    "from matplotlib import gridspec\n",
    "import ast\n",
    "import itertools\n",
    "import seaborn as sns\n",
    "from sklearn.preprocessing import StandardScaler\n",
    "\n",
    "import fastcluster\n",
    "from sklearn import cluster, datasets\n",
    "import scipy.cluster.hierarchy as hier\n",
    "from sklearn.cluster import KMeans\n",
    "import time\n",
    "import sys\n",
    "\n",
    "import Bio\n",
    "from Bio.Alphabet import IUPAC\n",
    "from Bio.Blast.Applications import NcbiblastnCommandline\n",
    "from Bio.Blast import NCBIXML\n",
    "from Bio.Seq import Seq\n",
    "from Bio.SeqRecord import SeqRecord\n",
    "from Bio.SeqFeature import SeqFeature, FeatureLocation\n",
    "from Bio import pairwise2\n",
    "from Bio import SeqIO\n",
    "from Bio.Graphics import GenomeDiagram\n",
    "from Bio.SeqUtils import GC\n",
    "from Bio import Phylo\n",
    "\n",
    "from Bio.Align.Applications import MuscleCommandline\n",
    "from StringIO import StringIO\n",
    "from Bio import AlignIO\n",
    "from Bio.Align import AlignInfo\n",
    "from Bio.Seq import MutableSeq\n",
    "import itertools\n",
    "import gzip\n",
    "from scipy.sparse import csr_matrix\n",
    "\n",
    "import networkx as nx\n",
    "import scipy\n",
    "from collections import Counter\n",
    "from itertools import groupby\n",
    "from operator import itemgetter\n",
    "import numpy.ma as ma\n",
    "import time"
   ]
  },
  {
   "cell_type": "markdown",
   "metadata": {},
   "source": [
    "####################################################################################################################################################################################"
   ]
  },
  {
   "cell_type": "markdown",
   "metadata": {},
   "source": [
    "## [1] Break up the Genotypes Matrix into several by seperating the isolates into different groups and slicing vertically on the columns"
   ]
  },
  {
   "cell_type": "markdown",
   "metadata": {},
   "source": [
    "####################################################################################################################################################################################"
   ]
  },
  {
   "cell_type": "code",
   "execution_count": 101,
   "metadata": {},
   "outputs": [],
   "source": [
    "#load Genotypes Matrix\n",
    "genotypes_array =  np.load('/n/data1/hms/dbmi/farhat/Roger/homoplasy_project/rolling_DB_scrape/Genotypes_Filtered_2/genotypes_matrix.npy')"
   ]
  },
  {
   "cell_type": "code",
   "execution_count": 102,
   "metadata": {},
   "outputs": [
    {
     "data": {
      "text/plain": [
       "array([[1, 1, 1, ..., 1, 1, 1],\n",
       "       [2, 2, 2, ..., 2, 2, 2],\n",
       "       [2, 2, 2, ..., 2, 2, 2],\n",
       "       ...,\n",
       "       [1, 9, 9, ..., 1, 1, 1],\n",
       "       [1, 9, 1, ..., 1, 1, 1],\n",
       "       [1, 9, 1, ..., 1, 1, 1]], dtype=int8)"
      ]
     },
     "execution_count": 102,
     "metadata": {},
     "output_type": "execute_result"
    }
   ],
   "source": [
    "genotypes_array"
   ]
  },
  {
   "cell_type": "code",
   "execution_count": 103,
   "metadata": {},
   "outputs": [
    {
     "data": {
      "text/plain": [
       "(782565, 31428)"
      ]
     },
     "execution_count": 103,
     "metadata": {},
     "output_type": "execute_result"
    }
   ],
   "source": [
    "np.shape(genotypes_array) #782,565 SNP sites & 31,428 isolates"
   ]
  },
  {
   "cell_type": "markdown",
   "metadata": {},
   "source": [
    "#### Specify the number of groups you're going to break genotypes matrix into & get the boundaries (indices) that break up the columns correspondingly"
   ]
  },
  {
   "cell_type": "code",
   "execution_count": 33,
   "metadata": {},
   "outputs": [],
   "source": [
    "num_isolate_groups = 10"
   ]
  },
  {
   "cell_type": "code",
   "execution_count": 35,
   "metadata": {},
   "outputs": [],
   "source": [
    "num_isolates = np.shape(genotypes_array)[1]\n",
    "\n",
    "#get the indices for the boundaries for the isolate groups\n",
    "num_isolates_per_group = int( np.floor(float(num_isolates) / float(num_isolate_groups)) ) - 1\n",
    "remainder_isolates = num_isolates % num_isolate_groups\n",
    "\n",
    "isolate_index_boundaries_dict = {}\n",
    "first_index = 0\n",
    "for isolate_group in range(1 , num_isolate_groups+1):\n",
    "    \n",
    "    #if last isolate group, also add the remainder isolates\n",
    "    if isolate_group != num_isolate_groups:\n",
    "        isolate_index_boundaries_dict[str(isolate_group)] = [first_index , first_index + num_isolates_per_group]\n",
    "        \n",
    "    elif isolate_group == num_isolate_groups:\n",
    "        isolate_index_boundaries_dict[str(isolate_group)] = [first_index , first_index + num_isolates_per_group + remainder_isolates]\n",
    "        \n",
    "    first_index = first_index + num_isolates_per_group + 1\n",
    "    \n",
    "isolate_index_boundaries_series = pd.Series(isolate_index_boundaries_dict)"
   ]
  },
  {
   "cell_type": "code",
   "execution_count": 36,
   "metadata": {},
   "outputs": [
    {
     "data": {
      "text/plain": [
       "1          [0, 3141]\n",
       "10    [28278, 31427]\n",
       "2       [3142, 6283]\n",
       "3       [6284, 9425]\n",
       "4      [9426, 12567]\n",
       "5     [12568, 15709]\n",
       "6     [15710, 18851]\n",
       "7     [18852, 21993]\n",
       "8     [21994, 25135]\n",
       "9     [25136, 28277]\n",
       "dtype: object"
      ]
     },
     "execution_count": 36,
     "metadata": {},
     "output_type": "execute_result"
    }
   ],
   "source": [
    "isolate_index_boundaries_series"
   ]
  },
  {
   "cell_type": "markdown",
   "metadata": {},
   "source": [
    "#### Split the genotypes matrix vertically according to the boundaries above"
   ]
  },
  {
   "cell_type": "code",
   "execution_count": 107,
   "metadata": {},
   "outputs": [],
   "source": [
    "#save each sub-matrix seperately\n",
    "for isolate_group in isolate_index_boundaries_series.index:\n",
    "    \n",
    "    first_index_for_group , last_index_for_group = isolate_index_boundaries_series[isolate_group]\n",
    "    \n",
    "    genotypes_array_vertical_slice = genotypes_array[: , first_index_for_group:last_index_for_group+1]\n",
    "    \n",
    "    #save as a numpy pickle\n",
    "    np.save('/n/data1/hms/dbmi/farhat/Roger/homoplasy_project/rolling_DB_scrape/Genotypes_Filtered_2/pairwise_distance_matrix/vertically_sliced_genotypes_matrix/genotypes_matrix_' + isolate_group , genotypes_array_vertical_slice , allow_pickle = True)"
   ]
  },
  {
   "cell_type": "markdown",
   "metadata": {},
   "source": [
    "#### Since pairwise *similarity* matrices and pairwise *distance* matrices are symmetric, find out which sub-matrix pairs we have to multiply "
   ]
  },
  {
   "cell_type": "code",
   "execution_count": 37,
   "metadata": {},
   "outputs": [],
   "source": [
    "#this matrix holds the matrix multiplications we have to carry out for the sub-matrices to recover the entire matrix that would result from using the full genotypes matrix in the matrix multiplications\n",
    "submatrix_comparison_array = np.zeros([num_isolate_groups,num_isolate_groups] , dtype = 'object')\n",
    "submatrix_comparison_array.astype(str)\n",
    "\n",
    "for isolate_group_i in isolate_index_boundaries_series.index:\n",
    "    \n",
    "    for isolate_group_j in isolate_index_boundaries_series.index:\n",
    "        \n",
    "        submatrix_comparison_array[int(isolate_group_i)-1 , int(isolate_group_j)-1] = isolate_group_i + 'x' + isolate_group_j"
   ]
  },
  {
   "cell_type": "code",
   "execution_count": 40,
   "metadata": {},
   "outputs": [
    {
     "name": "stdout",
     "output_type": "stream",
     "text": [
      "[['1x1' '1x2' '1x3' '1x4' '1x5' '1x6' '1x7' '1x8' '1x9' '1x10']\n",
      " ['2x1' '2x2' '2x3' '2x4' '2x5' '2x6' '2x7' '2x8' '2x9' '2x10']\n",
      " ['3x1' '3x2' '3x3' '3x4' '3x5' '3x6' '3x7' '3x8' '3x9' '3x10']\n",
      " ['4x1' '4x2' '4x3' '4x4' '4x5' '4x6' '4x7' '4x8' '4x9' '4x10']\n",
      " ['5x1' '5x2' '5x3' '5x4' '5x5' '5x6' '5x7' '5x8' '5x9' '5x10']\n",
      " ['6x1' '6x2' '6x3' '6x4' '6x5' '6x6' '6x7' '6x8' '6x9' '6x10']\n",
      " ['7x1' '7x2' '7x3' '7x4' '7x5' '7x6' '7x7' '7x8' '7x9' '7x10']\n",
      " ['8x1' '8x2' '8x3' '8x4' '8x5' '8x6' '8x7' '8x8' '8x9' '8x10']\n",
      " ['9x1' '9x2' '9x3' '9x4' '9x5' '9x6' '9x7' '9x8' '9x9' '9x10']\n",
      " ['10x1' '10x2' '10x3' '10x4' '10x5' '10x6' '10x7' '10x8' '10x9' '10x10']]\n"
     ]
    }
   ],
   "source": [
    "print submatrix_comparison_array"
   ]
  },
  {
   "cell_type": "code",
   "execution_count": 39,
   "metadata": {},
   "outputs": [
    {
     "data": {
      "text/plain": [
       "array([['1x1', '1x2', '1x3', '1x4', '1x5', '1x6', '1x7', '1x8', '1x9',\n",
       "        '1x10'],\n",
       "       ['2x1', '2x2', '2x3', '2x4', '2x5', '2x6', '2x7', '2x8', '2x9',\n",
       "        '2x10'],\n",
       "       ['3x1', '3x2', '3x3', '3x4', '3x5', '3x6', '3x7', '3x8', '3x9',\n",
       "        '3x10'],\n",
       "       ['4x1', '4x2', '4x3', '4x4', '4x5', '4x6', '4x7', '4x8', '4x9',\n",
       "        '4x10'],\n",
       "       ['5x1', '5x2', '5x3', '5x4', '5x5', '5x6', '5x7', '5x8', '5x9',\n",
       "        '5x10'],\n",
       "       ['6x1', '6x2', '6x3', '6x4', '6x5', '6x6', '6x7', '6x8', '6x9',\n",
       "        '6x10'],\n",
       "       ['7x1', '7x2', '7x3', '7x4', '7x5', '7x6', '7x7', '7x8', '7x9',\n",
       "        '7x10'],\n",
       "       ['8x1', '8x2', '8x3', '8x4', '8x5', '8x6', '8x7', '8x8', '8x9',\n",
       "        '8x10'],\n",
       "       ['9x1', '9x2', '9x3', '9x4', '9x5', '9x6', '9x7', '9x8', '9x9',\n",
       "        '9x10'],\n",
       "       ['10x1', '10x2', '10x3', '10x4', '10x5', '10x6', '10x7', '10x8',\n",
       "        '10x9', '10x10']], dtype=object)"
      ]
     },
     "execution_count": 39,
     "metadata": {},
     "output_type": "execute_result"
    }
   ],
   "source": [
    "submatrix_comparison_array"
   ]
  },
  {
   "cell_type": "markdown",
   "metadata": {},
   "source": [
    "We will carry out the sub-matrix multiplications for the isolate groups in the **upper triangular** part of this matrix"
   ]
  },
  {
   "cell_type": "code",
   "execution_count": 110,
   "metadata": {},
   "outputs": [
    {
     "name": "stdout",
     "output_type": "stream",
     "text": [
      "[['1x1' '1x2' '1x3' '1x4' '1x5' '1x6' '1x7' '1x8' '1x9' '1x10']\n",
      " [0 '2x2' '2x3' '2x4' '2x5' '2x6' '2x7' '2x8' '2x9' '2x10']\n",
      " [0 0 '3x3' '3x4' '3x5' '3x6' '3x7' '3x8' '3x9' '3x10']\n",
      " [0 0 0 '4x4' '4x5' '4x6' '4x7' '4x8' '4x9' '4x10']\n",
      " [0 0 0 0 '5x5' '5x6' '5x7' '5x8' '5x9' '5x10']\n",
      " [0 0 0 0 0 '6x6' '6x7' '6x8' '6x9' '6x10']\n",
      " [0 0 0 0 0 0 '7x7' '7x8' '7x9' '7x10']\n",
      " [0 0 0 0 0 0 0 '8x8' '8x9' '8x10']\n",
      " [0 0 0 0 0 0 0 0 '9x9' '9x10']\n",
      " [0 0 0 0 0 0 0 0 0 '10x10']]\n"
     ]
    }
   ],
   "source": [
    "print np.triu(submatrix_comparison_array , k = 0)"
   ]
  },
  {
   "cell_type": "code",
   "execution_count": 111,
   "metadata": {},
   "outputs": [],
   "source": [
    "submatrix_multiplication_pairs_to_multiply = np.triu(submatrix_comparison_array , k = 0).flatten()\n",
    "submatrix_multiplication_pairs_to_multiply = submatrix_multiplication_pairs_to_multiply[[type(mult_pair)==str for mult_pair in submatrix_multiplication_pairs_to_multiply]]\n",
    "submatrix_multiplication_pairs_to_multiply = list(submatrix_multiplication_pairs_to_multiply)"
   ]
  },
  {
   "cell_type": "code",
   "execution_count": 112,
   "metadata": {},
   "outputs": [
    {
     "name": "stdout",
     "output_type": "stream",
     "text": [
      "['1x1', '1x2', '1x3', '1x4', '1x5', '1x6', '1x7', '1x8', '1x9', '1x10', '2x2', '2x3', '2x4', '2x5', '2x6', '2x7', '2x8', '2x9', '2x10', '3x3', '3x4', '3x5', '3x6', '3x7', '3x8', '3x9', '3x10', '4x4', '4x5', '4x6', '4x7', '4x8', '4x9', '4x10', '5x5', '5x6', '5x7', '5x8', '5x9', '5x10', '6x6', '6x7', '6x8', '6x9', '6x10', '7x7', '7x8', '7x9', '7x10', '8x8', '8x9', '8x10', '9x9', '9x10', '10x10']\n"
     ]
    }
   ],
   "source": [
    "print submatrix_multiplication_pairs_to_multiply"
   ]
  },
  {
   "cell_type": "markdown",
   "metadata": {},
   "source": [
    "The sub-matrix multiplications for the isolate groups in the **lower triangular** part of the matrix aren't necessary since\n",
    "$$M_jxM_i = (M_ixM_j)^T$$"
   ]
  },
  {
   "cell_type": "code",
   "execution_count": 113,
   "metadata": {},
   "outputs": [
    {
     "name": "stdout",
     "output_type": "stream",
     "text": [
      "[[0 0 0 0 0 0 0 0 0 0]\n",
      " ['2x1' 0 0 0 0 0 0 0 0 0]\n",
      " ['3x1' '3x2' 0 0 0 0 0 0 0 0]\n",
      " ['4x1' '4x2' '4x3' 0 0 0 0 0 0 0]\n",
      " ['5x1' '5x2' '5x3' '5x4' 0 0 0 0 0 0]\n",
      " ['6x1' '6x2' '6x3' '6x4' '6x5' 0 0 0 0 0]\n",
      " ['7x1' '7x2' '7x3' '7x4' '7x5' '7x6' 0 0 0 0]\n",
      " ['8x1' '8x2' '8x3' '8x4' '8x5' '8x6' '8x7' 0 0 0]\n",
      " ['9x1' '9x2' '9x3' '9x4' '9x5' '9x6' '9x7' '9x8' 0 0]\n",
      " ['10x1' '10x2' '10x3' '10x4' '10x5' '10x6' '10x7' '10x8' '10x9' 0]]\n"
     ]
    }
   ],
   "source": [
    "print np.tril(submatrix_comparison_array , k = -1)"
   ]
  },
  {
   "cell_type": "code",
   "execution_count": 114,
   "metadata": {},
   "outputs": [],
   "source": [
    "submatrix_multiplication_pairs_inferrred_from_transposing = np.tril(submatrix_comparison_array , k = -1).flatten()\n",
    "submatrix_multiplication_pairs_inferrred_from_transposing = submatrix_multiplication_pairs_inferrred_from_transposing[[type(mult_pair)==str for mult_pair in submatrix_multiplication_pairs_inferrred_from_transposing]]\n",
    "submatrix_multiplication_pairs_inferrred_from_transposing = list(submatrix_multiplication_pairs_inferrred_from_transposing)"
   ]
  },
  {
   "cell_type": "code",
   "execution_count": 115,
   "metadata": {},
   "outputs": [
    {
     "name": "stdout",
     "output_type": "stream",
     "text": [
      "['2x1', '3x1', '3x2', '4x1', '4x2', '4x3', '5x1', '5x2', '5x3', '5x4', '6x1', '6x2', '6x3', '6x4', '6x5', '7x1', '7x2', '7x3', '7x4', '7x5', '7x6', '8x1', '8x2', '8x3', '8x4', '8x5', '8x6', '8x7', '9x1', '9x2', '9x3', '9x4', '9x5', '9x6', '9x7', '9x8', '10x1', '10x2', '10x3', '10x4', '10x5', '10x6', '10x7', '10x8', '10x9']\n"
     ]
    }
   ],
   "source": [
    "print submatrix_multiplication_pairs_inferrred_from_transposing"
   ]
  },
  {
   "cell_type": "markdown",
   "metadata": {},
   "source": [
    "####################################################################################################################################################################################"
   ]
  },
  {
   "cell_type": "markdown",
   "metadata": {},
   "source": [
    "## [2] Create a script to construct the pairwise simililarity matrices (for A, C, G and T) and also the matrix that contains the number of non-NA sites called for each pair of isolates (NA).\n",
    "\n",
    "### *carry out matrix multiplications on the sub-matrices of the genotypes matrix, split vertically by grouping isolates*"
   ]
  },
  {
   "cell_type": "markdown",
   "metadata": {},
   "source": [
    "####################################################################################################################################################################################"
   ]
  },
  {
   "cell_type": "markdown",
   "metadata": {},
   "source": [
    "### EXPLAIN METHODOLOGY FOR COMPUTING SIMILARITY MATRICES AND SUBTRACTING FROM NUMBER OF GOOD SITES BETWEEN EACH PAIR"
   ]
  },
  {
   "cell_type": "code",
   "execution_count": 118,
   "metadata": {},
   "outputs": [],
   "source": [
    "import numpy as np\n",
    "from scipy.sparse import csr_matrix\n",
    "import sys\n",
    "import timeit"
   ]
  },
  {
   "cell_type": "code",
   "execution_count": 119,
   "metadata": {},
   "outputs": [],
   "source": [
    "#INPUT - condition that turns Genotypes Array into a Boolean (one of five options) ['A','C','G','T','not_NaN']\n",
    "genotypes_bool_condition = 'A'\n",
    "\n",
    "#INPUT - which pair of sub-matrices (vertically sliced from full genoyptes matrix) to multiply (A x B^T)\n",
    "genotypes_submatrix_A = '1'\n",
    "genotypes_submatrix_B = '3'"
   ]
  },
  {
   "cell_type": "markdown",
   "metadata": {},
   "source": [
    "#### Check runtime of matrix multiplication to see if runtime is reasonable for the different kinds of binary sub-matrices (A-T are the most sparse while not-NaN are the least sparse)"
   ]
  },
  {
   "cell_type": "code",
   "execution_count": 124,
   "metadata": {},
   "outputs": [],
   "source": [
    "#for genotypes_bool_condition = 'A'\n",
    "###########################################################################################################\n",
    "#necessary setup to test matrix multiplication\n",
    "code_to_setup = \"\"\"\n",
    "import numpy as np\n",
    "from scipy.sparse import csr_matrix\n",
    "import sys\n",
    "import timeit\n",
    "\n",
    "#load Genotypes Sub-Matrices (pick submatrix 2 & submatrix 5 as an example)\n",
    "genotypes_array_A =  np.load('/n/data1/hms/dbmi/farhat/Roger/homoplasy_project/rolling_DB_scrape/Genotypes_Filtered_2/pairwise_distance_matrix/vertically_sliced_genotypes_matrix/genotypes_matrix_2.npy')\n",
    "genotypes_array_B =  np.load('/n/data1/hms/dbmi/farhat/Roger/homoplasy_project/rolling_DB_scrape/Genotypes_Filtered_2/pairwise_distance_matrix/vertically_sliced_genotypes_matrix/genotypes_matrix_5.npy')\n",
    "\n",
    "#subset to 32 isolates (31500/10 = 3150 = 31.5*100 = 31.5*10*10) for runtime check, as number of isolates scale by 10x - Runtime scales by 100x (so multiply this runtime by 100*100 = 10,000 to get estimate)\n",
    "genotypes_array_A = genotypes_array_A[: , 0:32]\n",
    "genotypes_array_B = genotypes_array_B[: , 0:32]\n",
    "\n",
    "#convert genotypes matrix A to it's tranpose so that Rows:isolates , Columns:SNP sites to set up for matrix multiplication of (isolate pair i) <-> (isolate pair j) against genotypes matrix B where Rows:SNP sites , Columns:isolates\n",
    "genotypes_array_A = genotypes_array_A.T\n",
    "\n",
    "#convert genotypes arrays into a boolean (then to a binary matrix) based off of some condition\n",
    "Geno_bool_A = genotypes_array_A == 0\n",
    "Geno_bool_B = genotypes_array_B == 0\n",
    "\n",
    "#delete Genotypes Matrices from memory\n",
    "del genotypes_array_A\n",
    "del genotypes_array_B\n",
    "    \n",
    "#convert boolean matrices into a binary matrix to prep for matrix multiplication\n",
    "Geno_bool_A = Geno_bool_A.astype(int)\n",
    "Geno_bool_B = Geno_bool_B.astype(int)\n",
    "\n",
    "#convert binary matrix to a scipy sparse matrix to improve multiplication runtime\n",
    "Geno_bool_A = csr_matrix(Geno_bool_A)\n",
    "Geno_bool_B = csr_matrix(Geno_bool_B)\n",
    "\"\"\"\n",
    "\n",
    "#test runtime of matrix multiplication \n",
    "code_to_test = \"\"\"\n",
    "#compute similarity matrix by multiplying Genotypes binary matrix for submatrix A by the Genotypes binary matrix for submatrix B\n",
    "Sim_matrix = Geno_bool_A.dot(Geno_bool_B).toarray()\"\"\"\n",
    "\n",
    "#test the matrix multiplication 3 times and take the average\n",
    "avg_time_to_multiply_A_T = timeit.timeit(setup = code_to_setup , stmt = code_to_test, number = 3) / 3.0\n",
    "###########################################################################################################\n",
    "\n",
    "#for genotypes_bool_condition = 'C'\n",
    "###########################################################################################################\n",
    "#necessary setup to test matrix multiplication\n",
    "code_to_setup = \"\"\"\n",
    "import numpy as np\n",
    "from scipy.sparse import csr_matrix\n",
    "import sys\n",
    "import timeit\n",
    "\n",
    "#load Genotypes Sub-Matrices (pick submatrix 2 & submatrix 5 as an example)\n",
    "genotypes_array_A =  np.load('/n/data1/hms/dbmi/farhat/Roger/homoplasy_project/rolling_DB_scrape/Genotypes_Filtered_2/pairwise_distance_matrix/vertically_sliced_genotypes_matrix/genotypes_matrix_2.npy')\n",
    "genotypes_array_B =  np.load('/n/data1/hms/dbmi/farhat/Roger/homoplasy_project/rolling_DB_scrape/Genotypes_Filtered_2/pairwise_distance_matrix/vertically_sliced_genotypes_matrix/genotypes_matrix_5.npy')\n",
    "\n",
    "#subset to 32 isolates (31500/10 = 3150 = 31.5*100 = 31.5*10*10) for runtime check, as number of isolates scale by 10x - Runtime scales by 100x (so multiply this runtime by 100*100 = 10,000 to get estimate)\n",
    "genotypes_array_A = genotypes_array_A[: , 0:32]\n",
    "genotypes_array_B = genotypes_array_B[: , 0:32]\n",
    "\n",
    "#convert genotypes matrix A to it's tranpose so that Rows:isolates , Columns:SNP sites to set up for matrix multiplication of (isolate pair i) <-> (isolate pair j) against genotypes matrix B where Rows:SNP sites , Columns:isolates\n",
    "genotypes_array_A = genotypes_array_A.T\n",
    "\n",
    "#convert genotypes arrays into a boolean (then to a binary matrix) based off of some condition\n",
    "Geno_bool_A = genotypes_array_A == 1\n",
    "Geno_bool_B = genotypes_array_B == 1\n",
    "\n",
    "#delete Genotypes Matrices from memory\n",
    "del genotypes_array_A\n",
    "del genotypes_array_B\n",
    "    \n",
    "#convert boolean matrices into a binary matrix to prep for matrix multiplication\n",
    "Geno_bool_A = Geno_bool_A.astype(int)\n",
    "Geno_bool_B = Geno_bool_B.astype(int)\n",
    "\n",
    "#convert binary matrix to a scipy sparse matrix to improve multiplication runtime\n",
    "Geno_bool_A = csr_matrix(Geno_bool_A)\n",
    "Geno_bool_B = csr_matrix(Geno_bool_B)\n",
    "\"\"\"\n",
    "\n",
    "#test runtime of matrix multiplication \n",
    "code_to_test = \"\"\"\n",
    "#compute similarity matrix by multiplying Genotypes binary matrix for submatrix A by the Genotypes binary matrix for submatrix B\n",
    "Sim_matrix = Geno_bool_A.dot(Geno_bool_B).toarray()\"\"\"\n",
    "\n",
    "#test the matrix multiplication 3 times and take the average\n",
    "avg_time_to_multiply_C_G = timeit.timeit(setup = code_to_setup , stmt = code_to_test, number = 3) / 3.0\n",
    "###########################################################################################################\n",
    "\n",
    "#for genotypes_bool_condition = 'not_NaN'\n",
    "###########################################################################################################\n",
    "#necessary setup to test matrix multiplication\n",
    "code_to_setup = \"\"\"\n",
    "import numpy as np\n",
    "from scipy.sparse import csr_matrix\n",
    "import sys\n",
    "import timeit\n",
    "\n",
    "#load Genotypes Sub-Matrices (pick submatrix 2 & submatrix 5 as an example)\n",
    "genotypes_array_A =  np.load('/n/data1/hms/dbmi/farhat/Roger/homoplasy_project/rolling_DB_scrape/Genotypes_Filtered_2/pairwise_distance_matrix/vertically_sliced_genotypes_matrix/genotypes_matrix_2.npy')\n",
    "genotypes_array_B =  np.load('/n/data1/hms/dbmi/farhat/Roger/homoplasy_project/rolling_DB_scrape/Genotypes_Filtered_2/pairwise_distance_matrix/vertically_sliced_genotypes_matrix/genotypes_matrix_5.npy')\n",
    "\n",
    "#subset to 32 isolates (31500/10 = 3150 = 31.5*100 = 31.5*10*10) for runtime check, as number of isolates scale by 10x - Runtime scales by 100x (so multiply this runtime by 100*100 = 10,000 to get estimate)\n",
    "genotypes_array_A = genotypes_array_A[: , 0:32]\n",
    "genotypes_array_B = genotypes_array_B[: , 0:32]\n",
    "\n",
    "#convert genotypes matrix A to it's tranpose so that Rows:isolates , Columns:SNP sites to set up for matrix multiplication of (isolate pair i) <-> (isolate pair j) against genotypes matrix B where Rows:SNP sites , Columns:isolates\n",
    "genotypes_array_A = genotypes_array_A.T\n",
    "\n",
    "#convert genotypes arrays into a boolean (then to a binary matrix) based off of some condition\n",
    "Geno_bool_A = genotypes_array_A != 9\n",
    "Geno_bool_B = genotypes_array_B != 9\n",
    "\n",
    "#delete Genotypes Matrices from memory\n",
    "del genotypes_array_A\n",
    "del genotypes_array_B\n",
    "    \n",
    "#convert boolean matrices into a binary matrix to prep for matrix multiplication\n",
    "Geno_bool_A = Geno_bool_A.astype(int)\n",
    "Geno_bool_B = Geno_bool_B.astype(int)\n",
    "\n",
    "#convert binary matrix to a scipy sparse matrix to improve multiplication runtime\n",
    "Geno_bool_A = csr_matrix(Geno_bool_A)\n",
    "Geno_bool_B = csr_matrix(Geno_bool_B)\n",
    "\"\"\"\n",
    "\n",
    "#test runtime of matrix multiplication \n",
    "code_to_test = \"\"\"\n",
    "#compute similarity matrix by multiplying Genotypes binary matrix for submatrix A by the Genotypes binary matrix for submatrix B\n",
    "Sim_matrix = Geno_bool_A.dot(Geno_bool_B).toarray()\"\"\"\n",
    "\n",
    "#test the matrix multiplication 3 times and take the average\n",
    "avg_time_to_multiply_not_NaN = timeit.timeit(setup = code_to_setup , stmt = code_to_test, number = 3) / 3.0\n",
    "###########################################################################################################"
   ]
  },
  {
   "cell_type": "markdown",
   "metadata": {},
   "source": [
    "Trial Run *1*"
   ]
  },
  {
   "cell_type": "code",
   "execution_count": 121,
   "metadata": {},
   "outputs": [
    {
     "data": {
      "text/plain": [
       "0.32864197095235187"
      ]
     },
     "execution_count": 121,
     "metadata": {},
     "output_type": "execute_result"
    }
   ],
   "source": [
    "avg_time_to_multiply_A_T #2x5, n = 10, A"
   ]
  },
  {
   "cell_type": "code",
   "execution_count": 122,
   "metadata": {},
   "outputs": [
    {
     "data": {
      "text/plain": [
       "0.9246713320414225"
      ]
     },
     "execution_count": 122,
     "metadata": {},
     "output_type": "execute_result"
    }
   ],
   "source": [
    "avg_time_to_multiply_C_G #2x5, n = 10, C"
   ]
  },
  {
   "cell_type": "code",
   "execution_count": 123,
   "metadata": {},
   "outputs": [
    {
     "data": {
      "text/plain": [
       "2.4916760126749673"
      ]
     },
     "execution_count": 123,
     "metadata": {},
     "output_type": "execute_result"
    }
   ],
   "source": [
    "avg_time_to_multiply_not_NaN #2x5, n = 10, not-NaN"
   ]
  },
  {
   "cell_type": "markdown",
   "metadata": {},
   "source": [
    "Trial Run *2*"
   ]
  },
  {
   "cell_type": "code",
   "execution_count": 125,
   "metadata": {},
   "outputs": [
    {
     "data": {
      "text/plain": [
       "0.33980997403462726"
      ]
     },
     "execution_count": 125,
     "metadata": {},
     "output_type": "execute_result"
    }
   ],
   "source": [
    "avg_time_to_multiply_A_T #2x5, n = 10, A"
   ]
  },
  {
   "cell_type": "code",
   "execution_count": 126,
   "metadata": {},
   "outputs": [
    {
     "data": {
      "text/plain": [
       "0.9282232920328776"
      ]
     },
     "execution_count": 126,
     "metadata": {},
     "output_type": "execute_result"
    }
   ],
   "source": [
    "avg_time_to_multiply_C_G #2x5, n = 10, C"
   ]
  },
  {
   "cell_type": "code",
   "execution_count": 127,
   "metadata": {},
   "outputs": [
    {
     "data": {
      "text/plain": [
       "2.486798048019409"
      ]
     },
     "execution_count": 127,
     "metadata": {},
     "output_type": "execute_result"
    }
   ],
   "source": [
    "avg_time_to_multiply_not_NaN #2x5, n = 10, not-NaN"
   ]
  },
  {
   "cell_type": "markdown",
   "metadata": {},
   "source": [
    "#### If runtime for this login-node is good, go through with matrix multiplication, otherwise abort"
   ]
  },
  {
   "cell_type": "code",
   "execution_count": 19,
   "metadata": {},
   "outputs": [],
   "source": [
    "#avg time to multiply is stored in seconds, want to make sure that the matrix multiplication for 32 isolates is reasonable\n",
    "if (avg_time_to_multiply_A_T <= 0.5) and (avg_time_to_multiply_C_G <= 1.3) and (avg_time_to_multiply_not_NaN <= 3.0):\n",
    "\n",
    "    #load Genotypes Sub-Matrices\n",
    "    genotypes_array_A =  np.load('/n/data1/hms/dbmi/farhat/Roger/homoplasy_project/rolling_DB_scrape/Genotypes_Filtered_2/pairwise_distance_matrix/vertically_sliced_genotypes_matrix/genotypes_matrix_{0}.npy'.format(genotypes_submatrix_A))\n",
    "    genotypes_array_B =  np.load('/n/data1/hms/dbmi/farhat/Roger/homoplasy_project/rolling_DB_scrape/Genotypes_Filtered_2/pairwise_distance_matrix/vertically_sliced_genotypes_matrix/genotypes_matrix_{0}.npy'.format(genotypes_submatrix_B))\n",
    "\n",
    "    #convert genotypes matrix A to it's tranpose so that Rows:isolates , Columns:SNP sites to set up for matrix multiplication of (isolate pair i) <-> (isolate pair j) against genotypes matrix B where Rows:SNP sites , Columns:isolates\n",
    "    genotypes_array_A = genotypes_array_A.T \n",
    "\n",
    "    #convert genotypes arrays into a boolean (then to a binary matrix) based off of some condition\n",
    "    if genotypes_bool_condition == 'A':\n",
    "        Geno_bool_A = genotypes_array_A == 0\n",
    "        Geno_bool_B = genotypes_array_B == 0\n",
    "\n",
    "    elif genotypes_bool_condition == 'C':\n",
    "        Geno_bool_A = genotypes_array_A == 1\n",
    "        Geno_bool_B = genotypes_array_B == 1\n",
    "\n",
    "    elif genotypes_bool_condition == 'G':\n",
    "        Geno_bool_A = genotypes_array_A == 2\n",
    "        Geno_bool_B = genotypes_array_B == 2\n",
    "\n",
    "    elif genotypes_bool_condition == 'T':\n",
    "        Geno_bool_A = genotypes_array_A == 3\n",
    "        Geno_bool_B = genotypes_array_B == 3\n",
    "\n",
    "    elif genotypes_bool_condition == 'not_NaN':\n",
    "        Geno_bool_A = genotypes_array_A != 9\n",
    "        Geno_bool_B = genotypes_array_B != 9\n",
    "\n",
    "    #delete Genotypes Matrices from memory\n",
    "    del genotypes_array_A\n",
    "    del genotypes_array_B\n",
    "\n",
    "    #convert boolean matrices into a binary matrix to prep for matrix multiplication\n",
    "    Geno_bool_A = Geno_bool_A.astype(int)\n",
    "    Geno_bool_B = Geno_bool_B.astype(int)\n",
    "\n",
    "    #convert binary matrix to a scipy sparse matrix to improve multiplication runtime\n",
    "    Geno_bool_A = csr_matrix(Geno_bool_A)\n",
    "    Geno_bool_B = csr_matrix(Geno_bool_B)\n",
    "\n",
    "    #compute similarity matrix by multiplying Genotypes binary matrix for submatrix A by the Genotypes binary matrix for submatrix B\n",
    "    Sim_matrix = Geno_bool_A.dot(Geno_bool_B).toarray()\n",
    "\n",
    "    #save similarity matrix constructed from multipltying binary genotypes matrix with its transpose\n",
    "    np.save('/n/data1/hms/dbmi/farhat/Roger/homoplasy_project/rolling_DB_scrape/Genotypes_Filtered_2/pairwise_distance_matrix/similarity_matrix_{0}/sim_matrix_from_submatrices_{1}_x_{2}'.format(genotypes_bool_condition, genotypes_submatrix_A, genotypes_submatrix_B), Sim_matrix , allow_pickle = True)\n",
    "    \n",
    "else:\n",
    "    \n",
    "    print('aborted because runtime is too long for this node!')\n",
    "    print('Average time to multiply A/T = ' + str(avg_time_to_multiply_A_T))\n",
    "    print('Average time to multiply C/G = ' + str(avg_time_to_multiply_C_G))\n",
    "    print('Average time to multiply not-NaN = ' + str(avg_time_to_multiply_not_NaN))"
   ]
  },
  {
   "cell_type": "markdown",
   "metadata": {},
   "source": [
    "####################################################################################################################################################################################"
   ]
  },
  {
   "cell_type": "markdown",
   "metadata": {},
   "source": [
    "## [3] Use script above to submit the submatrix computations of for all 5 similiarity matrices as separate jobs, $n \\times n - {n \\choose 2} = 10 \\times 10 - {10 \\choose 2} = 55$ submatrix products per similarity matrix "
   ]
  },
  {
   "cell_type": "markdown",
   "metadata": {},
   "source": [
    "####################################################################################################################################################################################"
   ]
  },
  {
   "cell_type": "code",
   "execution_count": 3,
   "metadata": {},
   "outputs": [],
   "source": [
    "from slurmpy import Slurm\n",
    "import os"
   ]
  },
  {
   "cell_type": "code",
   "execution_count": 4,
   "metadata": {},
   "outputs": [],
   "source": [
    "submatrix_multiplication_pairs_to_multiply = ['1x1', '1x2', '1x3', '1x4', '1x5', '1x6', '1x7', '1x8', '1x9', '1x10', '2x2', '2x3', '2x4', '2x5', '2x6', '2x7', '2x8', '2x9', '2x10', '3x3', '3x4', '3x5', '3x6', '3x7', '3x8', '3x9', '3x10', '4x4', '4x5', '4x6', '4x7', '4x8', '4x9', '4x10', '5x5', '5x6', '5x7', '5x8', '5x9', '5x10', '6x6', '6x7', '6x8', '6x9', '6x10', '7x7', '7x8', '7x9', '7x10', '8x8', '8x9', '8x10', '9x9', '9x10', '10x10']"
   ]
  },
  {
   "cell_type": "markdown",
   "metadata": {},
   "source": [
    "### Function to submit jobs for matrix multiplication"
   ]
  },
  {
   "cell_type": "code",
   "execution_count": 5,
   "metadata": {},
   "outputs": [],
   "source": [
    "def submatrix_multiplication_job_submit(genotypes_bool_condition, genotypes_submatrix_A, genotypes_submatrix_B):\n",
    "\n",
    "    sim_matrix_mult_job = 'python /home/rv76/Farhat_Lab/Python_Scripts/homoplasy_project/similarity_matrix_computation.py ' + genotypes_bool_condition + ' ' + genotypes_submatrix_A + ' ' + genotypes_submatrix_B\n",
    "\n",
    "    #directory where you want output + error files\n",
    "    os.chdir('/n/data1/hms/dbmi/farhat/Roger/homoplasy_project/rolling_DB_scrape/Genotypes_Filtered_2/pairwise_distance_matrix/similarity_matrix_computation_jobs/')\n",
    "\n",
    "    job_name = 'Sim_{0}_{1}_{2}'.format(genotypes_bool_condition, genotypes_submatrix_A, genotypes_submatrix_B)\n",
    "\n",
    "    #non NaN similarity matrices require more memory & time since they are the least sparse\n",
    "    if genotypes_bool_condition == 'not_NaN': #160 (OoM); 164 (works for most IxJ multplications); 168 (needed for Ix10)\n",
    "        s = Slurm(job_name , {'partition':'short' , 'N':'1' , 't':'0-11:00:00' , 'mem':'168G' , 'mail-type':'FAIL' , 'mail-user':'roger_vargas@g.harvard.edu'}) #11 hours\n",
    "        \n",
    "    elif genotypes_bool_condition in ['C','G']: #60 (OoM)\n",
    "        s = Slurm(job_name , {'partition':'short' , 'N':'1' , 't':'0-04:00:00' , 'mem':'64G' , 'mail-type':'FAIL' , 'mail-user':'roger_vargas@g.harvard.edu'}) #4 hours\n",
    "        \n",
    "    elif genotypes_bool_condition in ['A','T']: #48 (OoM)\n",
    "        s = Slurm(job_name , {'partition':'short' , 'N':'1' , 't':'0-02:00:00' , 'mem':'52G' , 'mail-type':'FAIL' , 'mail-user':'roger_vargas@g.harvard.edu'}) #2 hours\n",
    "\n",
    "    #submits the job\n",
    "    job_id = s.run(sim_matrix_mult_job)\n",
    "\n",
    "    print job_name  + ' : ' +  str(job_id)"
   ]
  },
  {
   "cell_type": "markdown",
   "metadata": {},
   "source": [
    "#### Similarity Matrix *not NaN*"
   ]
  },
  {
   "cell_type": "code",
   "execution_count": 10,
   "metadata": {
    "scrolled": true
   },
   "outputs": [],
   "source": [
    "genotypes_bool_condition = 'not_NaN'\n",
    "for submatrix_multiplication_pair_i in submatrix_multiplication_pairs_to_multiply:\n",
    "    \n",
    "    genotypes_submatrix_A = submatrix_multiplication_pair_i.split('x')[0]\n",
    "    genotypes_submatrix_B = submatrix_multiplication_pair_i.split('x')[1]\n",
    "    \n",
    "    #check to see if product for submatrix A and submatrix B already exists, if so do not run job for it\n",
    "    if 'sim_matrix_from_submatrices_{0}_x_{1}.npy'.format(genotypes_submatrix_A, genotypes_submatrix_B) not in os.listdir('/n/data1/hms/dbmi/farhat/Roger/homoplasy_project/rolling_DB_scrape/Genotypes_Filtered_2/pairwise_distance_matrix/similarity_matrix_{0}'.format(genotypes_bool_condition)):\n",
    "    \n",
    "        submatrix_multiplication_job_submit(genotypes_bool_condition, genotypes_submatrix_A, genotypes_submatrix_B)"
   ]
  },
  {
   "cell_type": "markdown",
   "metadata": {},
   "source": [
    "#### Similarity Matrix *C*"
   ]
  },
  {
   "cell_type": "code",
   "execution_count": 6,
   "metadata": {
    "scrolled": true
   },
   "outputs": [],
   "source": [
    "genotypes_bool_condition = 'C'\n",
    "for submatrix_multiplication_pair_i in submatrix_multiplication_pairs_to_multiply:\n",
    "    \n",
    "    genotypes_submatrix_A = submatrix_multiplication_pair_i.split('x')[0]\n",
    "    genotypes_submatrix_B = submatrix_multiplication_pair_i.split('x')[1]\n",
    "    \n",
    "    #check to see if product for submatrix A and submatrix B already exists, if so do not run job for it\n",
    "    if 'sim_matrix_from_submatrices_{0}_x_{1}.npy'.format(genotypes_submatrix_A, genotypes_submatrix_B) not in os.listdir('/n/data1/hms/dbmi/farhat/Roger/homoplasy_project/rolling_DB_scrape/Genotypes_Filtered_2/pairwise_distance_matrix/similarity_matrix_{0}'.format(genotypes_bool_condition)):\n",
    "    \n",
    "        submatrix_multiplication_job_submit(genotypes_bool_condition, genotypes_submatrix_A, genotypes_submatrix_B)"
   ]
  },
  {
   "cell_type": "markdown",
   "metadata": {},
   "source": [
    "#### Similarity Matrix *G*"
   ]
  },
  {
   "cell_type": "code",
   "execution_count": 9,
   "metadata": {
    "scrolled": true
   },
   "outputs": [],
   "source": [
    "genotypes_bool_condition = 'G'\n",
    "for submatrix_multiplication_pair_i in submatrix_multiplication_pairs_to_multiply:\n",
    "    \n",
    "    genotypes_submatrix_A = submatrix_multiplication_pair_i.split('x')[0]\n",
    "    genotypes_submatrix_B = submatrix_multiplication_pair_i.split('x')[1]\n",
    "    \n",
    "    #check to see if product for submatrix A and submatrix B already exists, if so do not run job for it\n",
    "    if 'sim_matrix_from_submatrices_{0}_x_{1}.npy'.format(genotypes_submatrix_A, genotypes_submatrix_B) not in os.listdir('/n/data1/hms/dbmi/farhat/Roger/homoplasy_project/rolling_DB_scrape/Genotypes_Filtered_2/pairwise_distance_matrix/similarity_matrix_{0}'.format(genotypes_bool_condition)):\n",
    "    \n",
    "        submatrix_multiplication_job_submit(genotypes_bool_condition, genotypes_submatrix_A, genotypes_submatrix_B)"
   ]
  },
  {
   "cell_type": "markdown",
   "metadata": {},
   "source": [
    "#### Similarity Matrix *A*"
   ]
  },
  {
   "cell_type": "code",
   "execution_count": 7,
   "metadata": {},
   "outputs": [],
   "source": [
    "genotypes_bool_condition = 'A'\n",
    "for submatrix_multiplication_pair_i in submatrix_multiplication_pairs_to_multiply:\n",
    "    \n",
    "    genotypes_submatrix_A = submatrix_multiplication_pair_i.split('x')[0]\n",
    "    genotypes_submatrix_B = submatrix_multiplication_pair_i.split('x')[1]\n",
    "    \n",
    "    #check to see if product for submatrix A and submatrix B already exists, if so do not run job for it\n",
    "    if 'sim_matrix_from_submatrices_{0}_x_{1}.npy'.format(genotypes_submatrix_A, genotypes_submatrix_B) not in os.listdir('/n/data1/hms/dbmi/farhat/Roger/homoplasy_project/rolling_DB_scrape/Genotypes_Filtered_2/pairwise_distance_matrix/similarity_matrix_{0}'.format(genotypes_bool_condition)):\n",
    "    \n",
    "        submatrix_multiplication_job_submit(genotypes_bool_condition, genotypes_submatrix_A, genotypes_submatrix_B)"
   ]
  },
  {
   "cell_type": "markdown",
   "metadata": {},
   "source": [
    "#### Similarity Matrix *T*"
   ]
  },
  {
   "cell_type": "code",
   "execution_count": 8,
   "metadata": {
    "scrolled": true
   },
   "outputs": [
    {
     "name": "stderr",
     "output_type": "stream",
     "text": [
      "submitted: Submitted batch job 8062766\n"
     ]
    },
    {
     "name": "stdout",
     "output_type": "stream",
     "text": [
      "Sim_T_6_9 : 8062766\n",
      "Sim_T_8_8 : 8062767\n"
     ]
    },
    {
     "name": "stderr",
     "output_type": "stream",
     "text": [
      "submitted: Submitted batch job 8062767\n"
     ]
    }
   ],
   "source": [
    "genotypes_bool_condition = 'T'\n",
    "for submatrix_multiplication_pair_i in submatrix_multiplication_pairs_to_multiply:\n",
    "    \n",
    "    genotypes_submatrix_A = submatrix_multiplication_pair_i.split('x')[0]\n",
    "    genotypes_submatrix_B = submatrix_multiplication_pair_i.split('x')[1]\n",
    "    \n",
    "    #check to see if product for submatrix A and submatrix B already exists, if so do not run job for it\n",
    "    if 'sim_matrix_from_submatrices_{0}_x_{1}.npy'.format(genotypes_submatrix_A, genotypes_submatrix_B) not in os.listdir('/n/data1/hms/dbmi/farhat/Roger/homoplasy_project/rolling_DB_scrape/Genotypes_Filtered_2/pairwise_distance_matrix/similarity_matrix_{0}'.format(genotypes_bool_condition)):\n",
    "    \n",
    "        submatrix_multiplication_job_submit(genotypes_bool_condition, genotypes_submatrix_A, genotypes_submatrix_B)"
   ]
  },
  {
   "cell_type": "markdown",
   "metadata": {},
   "source": [
    "####################################################################################################################################################################################"
   ]
  },
  {
   "cell_type": "markdown",
   "metadata": {},
   "source": [
    "## [4] Construct complete Similarity Matrices from sub-matrices"
   ]
  },
  {
   "cell_type": "markdown",
   "metadata": {},
   "source": [
    "####################################################################################################################################################################################"
   ]
  },
  {
   "cell_type": "markdown",
   "metadata": {},
   "source": [
    "The array below lays out how we have to vertically & horizontally stack the sub-matrix products to get the complete similarity matrices"
   ]
  },
  {
   "cell_type": "code",
   "execution_count": 3,
   "metadata": {},
   "outputs": [],
   "source": [
    "submatrix_comparison_array = np.array([['1x1', '1x2', '1x3', '1x4', '1x5', '1x6', '1x7', '1x8', '1x9',\n",
    "        '1x10'],\n",
    "       ['2x1', '2x2', '2x3', '2x4', '2x5', '2x6', '2x7', '2x8', '2x9',\n",
    "        '2x10'],\n",
    "       ['3x1', '3x2', '3x3', '3x4', '3x5', '3x6', '3x7', '3x8', '3x9',\n",
    "        '3x10'],\n",
    "       ['4x1', '4x2', '4x3', '4x4', '4x5', '4x6', '4x7', '4x8', '4x9',\n",
    "        '4x10'],\n",
    "       ['5x1', '5x2', '5x3', '5x4', '5x5', '5x6', '5x7', '5x8', '5x9',\n",
    "        '5x10'],\n",
    "       ['6x1', '6x2', '6x3', '6x4', '6x5', '6x6', '6x7', '6x8', '6x9',\n",
    "        '6x10'],\n",
    "       ['7x1', '7x2', '7x3', '7x4', '7x5', '7x6', '7x7', '7x8', '7x9',\n",
    "        '7x10'],\n",
    "       ['8x1', '8x2', '8x3', '8x4', '8x5', '8x6', '8x7', '8x8', '8x9',\n",
    "        '8x10'],\n",
    "       ['9x1', '9x2', '9x3', '9x4', '9x5', '9x6', '9x7', '9x8', '9x9',\n",
    "        '9x10'],\n",
    "       ['10x1', '10x2', '10x3', '10x4', '10x5', '10x6', '10x7', '10x8',\n",
    "        '10x9', '10x10']], dtype=object)"
   ]
  },
  {
   "cell_type": "code",
   "execution_count": 4,
   "metadata": {},
   "outputs": [],
   "source": [
    "#submatrices whose products we have computed\n",
    "submatrix_multiplication_pairs_to_multiply = ['1x1', '1x2', '1x3', '1x4', '1x5', '1x6', '1x7', '1x8', '1x9', '1x10', '2x2', '2x3', '2x4', '2x5', '2x6', '2x7', '2x8', '2x9', '2x10', '3x3', '3x4', '3x5', '3x6', '3x7', '3x8', '3x9', '3x10', '4x4', '4x5', '4x6', '4x7', '4x8', '4x9', '4x10', '5x5', '5x6', '5x7', '5x8', '5x9', '5x10', '6x6', '6x7', '6x8', '6x9', '6x10', '7x7', '7x8', '7x9', '7x10', '8x8', '8x9', '8x10', '9x9', '9x10', '10x10']\n",
    "\n",
    "#submatrices whose products we will infer from transposing products above\n",
    "submatrix_multplication_pairs_inferrred_from_transposing = ['2x1', '3x1', '3x2', '4x1', '4x2', '4x3', '5x1', '5x2', '5x3', '5x4', '6x1', '6x2', '6x3', '6x4', '6x5', '7x1', '7x2', '7x3', '7x4', '7x5', '7x6', '8x1', '8x2', '8x3', '8x4', '8x5', '8x6', '8x7', '9x1', '9x2', '9x3', '9x4', '9x5', '9x6', '9x7', '9x8', '10x1', '10x2', '10x3', '10x4', '10x5', '10x6', '10x7', '10x8', '10x9']"
   ]
  },
  {
   "cell_type": "code",
   "execution_count": 5,
   "metadata": {},
   "outputs": [
    {
     "name": "stdout",
     "output_type": "stream",
     "text": [
      "[['1x1' '1x2' '1x3' '1x4' '1x5' '1x6' '1x7' '1x8' '1x9' '1x10']\n",
      " ['2x1' '2x2' '2x3' '2x4' '2x5' '2x6' '2x7' '2x8' '2x9' '2x10']\n",
      " ['3x1' '3x2' '3x3' '3x4' '3x5' '3x6' '3x7' '3x8' '3x9' '3x10']\n",
      " ['4x1' '4x2' '4x3' '4x4' '4x5' '4x6' '4x7' '4x8' '4x9' '4x10']\n",
      " ['5x1' '5x2' '5x3' '5x4' '5x5' '5x6' '5x7' '5x8' '5x9' '5x10']\n",
      " ['6x1' '6x2' '6x3' '6x4' '6x5' '6x6' '6x7' '6x8' '6x9' '6x10']\n",
      " ['7x1' '7x2' '7x3' '7x4' '7x5' '7x6' '7x7' '7x8' '7x9' '7x10']\n",
      " ['8x1' '8x2' '8x3' '8x4' '8x5' '8x6' '8x7' '8x8' '8x9' '8x10']\n",
      " ['9x1' '9x2' '9x3' '9x4' '9x5' '9x6' '9x7' '9x8' '9x9' '9x10']\n",
      " ['10x1' '10x2' '10x3' '10x4' '10x5' '10x6' '10x7' '10x8' '10x9' '10x10']]\n"
     ]
    }
   ],
   "source": [
    "print submatrix_comparison_array"
   ]
  },
  {
   "cell_type": "markdown",
   "metadata": {},
   "source": [
    "### Function to construct complete similarity matrices from sub-matrix products"
   ]
  },
  {
   "cell_type": "markdown",
   "metadata": {},
   "source": [
    "Check to make sure all sub-matrix products are in the directory before executing function below to concatenate sub-matrix products"
   ]
  },
  {
   "cell_type": "code",
   "execution_count": 6,
   "metadata": {},
   "outputs": [],
   "source": [
    "def construct_similarity_matrix_from_submatrices(genotypes_bool_condition):\n",
    "    \n",
    "    #stack horizontally first to get rows, then stack these rows vertically\n",
    "    Sim_array_row_chunk_list = []\n",
    "\n",
    "    for row_i in range(0 , np.shape(submatrix_comparison_array)[0]):\n",
    "\n",
    "        row_i_submatrix_array_list = []\n",
    "        for column_j in range(0 , np.shape(submatrix_comparison_array)[1]):\n",
    "\n",
    "            submatrix_ij_label = submatrix_comparison_array[row_i , column_j]\n",
    "\n",
    "            #get the product of the sub-matrices\n",
    "            if submatrix_ij_label in submatrix_multiplication_pairs_to_multiply:\n",
    "\n",
    "                submatrix_ij = np.load('/n/data1/hms/dbmi/farhat/Roger/homoplasy_project/rolling_DB_scrape/Genotypes_Filtered_2/pairwise_distance_matrix/similarity_matrix_{0}/sim_matrix_from_submatrices_{1}_x_{2}.npy'.format(genotypes_bool_condition, submatrix_ij_label.split('x')[0], submatrix_ij_label.split('x')[1]))\n",
    "\n",
    "            elif submatrix_ij_label in submatrix_multplication_pairs_inferrred_from_transposing: \n",
    "\n",
    "                submatrix_ij = np.load('/n/data1/hms/dbmi/farhat/Roger/homoplasy_project/rolling_DB_scrape/Genotypes_Filtered_2/pairwise_distance_matrix/similarity_matrix_{0}/sim_matrix_from_submatrices_{1}_x_{2}.npy'.format(genotypes_bool_condition, submatrix_ij_label.split('x')[1], submatrix_ij_label.split('x')[0]))\n",
    "                submatrix_ij = submatrix_ij.T\n",
    "\n",
    "            #stack the product of these sub-matrices horizontally\n",
    "            row_i_submatrix_array_list.append(submatrix_ij)\n",
    "\n",
    "        row_i_submatrix_array = np.hstack(row_i_submatrix_array_list)\n",
    "        Sim_array_row_chunk_list.append(row_i_submatrix_array)    \n",
    "\n",
    "    #stack each complete row vertically\n",
    "    Sim_array = np.vstack(Sim_array_row_chunk_list)\n",
    "\n",
    "    #save similarity matrix for downstream analysis\n",
    "    np.save('/n/data1/hms/dbmi/farhat/Roger/homoplasy_project/rolling_DB_scrape/Genotypes_Filtered_2/pairwise_distance_matrix/similarity_matrix_{0}/similarity_matrix_{0}'.format(genotypes_bool_condition), Sim_array, allow_pickle = True)"
   ]
  },
  {
   "cell_type": "markdown",
   "metadata": {},
   "source": [
    "#### Similarity Matrix *A*"
   ]
  },
  {
   "cell_type": "code",
   "execution_count": 7,
   "metadata": {},
   "outputs": [],
   "source": [
    "construct_similarity_matrix_from_submatrices('A')"
   ]
  },
  {
   "cell_type": "markdown",
   "metadata": {},
   "source": [
    "#### Similarity Matrix *C*"
   ]
  },
  {
   "cell_type": "code",
   "execution_count": 8,
   "metadata": {},
   "outputs": [],
   "source": [
    "construct_similarity_matrix_from_submatrices('C')"
   ]
  },
  {
   "cell_type": "markdown",
   "metadata": {},
   "source": [
    "#### Similarity Matrix *G*"
   ]
  },
  {
   "cell_type": "code",
   "execution_count": 9,
   "metadata": {},
   "outputs": [],
   "source": [
    "construct_similarity_matrix_from_submatrices('G')"
   ]
  },
  {
   "cell_type": "markdown",
   "metadata": {},
   "source": [
    "#### Similarity Matrix *T*"
   ]
  },
  {
   "cell_type": "code",
   "execution_count": 10,
   "metadata": {},
   "outputs": [],
   "source": [
    "construct_similarity_matrix_from_submatrices('T')"
   ]
  },
  {
   "cell_type": "markdown",
   "metadata": {},
   "source": [
    "#### Similarity Matrix *not NaN*"
   ]
  },
  {
   "cell_type": "code",
   "execution_count": 11,
   "metadata": {},
   "outputs": [],
   "source": [
    "construct_similarity_matrix_from_submatrices('not_NaN')"
   ]
  },
  {
   "cell_type": "markdown",
   "metadata": {},
   "source": [
    "####################################################################################################################################################################################"
   ]
  },
  {
   "cell_type": "markdown",
   "metadata": {},
   "source": [
    "## [5] Create pairwise SNP distance matrix from genotypes matrix from Similarity Matrices"
   ]
  },
  {
   "cell_type": "markdown",
   "metadata": {},
   "source": [
    "####################################################################################################################################################################################"
   ]
  },
  {
   "cell_type": "code",
   "execution_count": 12,
   "metadata": {},
   "outputs": [],
   "source": [
    "import numpy as np"
   ]
  },
  {
   "cell_type": "markdown",
   "metadata": {},
   "source": [
    "### Load in similiarity matrices for A, C, G, T & matrix that contains the number of pairwise *good calls* for each pair of isolates."
   ]
  },
  {
   "cell_type": "code",
   "execution_count": 13,
   "metadata": {},
   "outputs": [],
   "source": [
    "Sim_A_array = np.load('/n/data1/hms/dbmi/farhat/Roger/homoplasy_project/rolling_DB_scrape/Genotypes_Filtered_2/pairwise_distance_matrix/similarity_matrix_A/similarity_matrix_A.npy')\n",
    "Sim_C_array = np.load('/n/data1/hms/dbmi/farhat/Roger/homoplasy_project/rolling_DB_scrape/Genotypes_Filtered_2/pairwise_distance_matrix/similarity_matrix_C/similarity_matrix_C.npy')\n",
    "Sim_G_array = np.load('/n/data1/hms/dbmi/farhat/Roger/homoplasy_project/rolling_DB_scrape/Genotypes_Filtered_2/pairwise_distance_matrix/similarity_matrix_G/similarity_matrix_G.npy')\n",
    "Sim_T_array = np.load('/n/data1/hms/dbmi/farhat/Roger/homoplasy_project/rolling_DB_scrape/Genotypes_Filtered_2/pairwise_distance_matrix/similarity_matrix_T/similarity_matrix_T.npy')\n",
    "\n",
    "Sim_not_NaN = np.load('/n/data1/hms/dbmi/farhat/Roger/homoplasy_project/rolling_DB_scrape/Genotypes_Filtered_2/pairwise_distance_matrix/similarity_matrix_not_NaN/similarity_matrix_not_NaN.npy')"
   ]
  },
  {
   "cell_type": "markdown",
   "metadata": {},
   "source": [
    "### Use matrices above to compute pairwise distance matrix"
   ]
  },
  {
   "cell_type": "code",
   "execution_count": 14,
   "metadata": {},
   "outputs": [],
   "source": [
    "#add similarity matrices for each allele to get a similarity matrix across all bases\n",
    "Sim_array = Sim_A_array + Sim_C_array + Sim_G_array + Sim_T_array\n",
    "\n",
    "#subtract similarity matrix from number of sites that had high quality base calls for both isolates to get number of SNPs that each pair of isolates differed by\n",
    "pairwise_SNP_dist = Sim_not_NaN - Sim_array"
   ]
  },
  {
   "cell_type": "code",
   "execution_count": 15,
   "metadata": {},
   "outputs": [
    {
     "data": {
      "text/plain": [
       "(31428, 31428)"
      ]
     },
     "execution_count": 15,
     "metadata": {},
     "output_type": "execute_result"
    }
   ],
   "source": [
    "np.shape(pairwise_SNP_dist)"
   ]
  },
  {
   "cell_type": "code",
   "execution_count": 16,
   "metadata": {},
   "outputs": [
    {
     "data": {
      "text/plain": [
       "array([[   0,  606, 1139, ..., 1061,  174,  670],\n",
       "       [ 606,    0, 1124, ..., 1036,  623,  645],\n",
       "       [1139, 1124,    0, ..., 1035, 1152, 1177],\n",
       "       ...,\n",
       "       [1061, 1036, 1035, ...,    0, 1066, 1095],\n",
       "       [ 174,  623, 1152, ..., 1066,    0,  683],\n",
       "       [ 670,  645, 1177, ..., 1095,  683,    0]])"
      ]
     },
     "execution_count": 16,
     "metadata": {},
     "output_type": "execute_result"
    }
   ],
   "source": [
    "pairwise_SNP_dist"
   ]
  },
  {
   "cell_type": "markdown",
   "metadata": {},
   "source": [
    "### Save pairwise SNP distance matrix"
   ]
  },
  {
   "cell_type": "code",
   "execution_count": 17,
   "metadata": {},
   "outputs": [],
   "source": [
    "np.save('/n/data1/hms/dbmi/farhat/Roger/homoplasy_project/rolling_DB_scrape/Genotypes_Filtered_2/pairwise_distance_matrix/pairwise_SNP_distance_matrix' , pairwise_SNP_dist , allow_pickle = True)"
   ]
  },
  {
   "cell_type": "markdown",
   "metadata": {},
   "source": [
    "####################################################################################################################################################################################"
   ]
  },
  {
   "cell_type": "markdown",
   "metadata": {},
   "source": [
    "## [6] Analyze pairwise SNP distance matrix of all isolates"
   ]
  },
  {
   "cell_type": "markdown",
   "metadata": {},
   "source": [
    "####################################################################################################################################################################################"
   ]
  },
  {
   "cell_type": "markdown",
   "metadata": {},
   "source": [
    "#### How to load pairwise SNP distance matrix & corresponding isolate annotation"
   ]
  },
  {
   "cell_type": "code",
   "execution_count": 4,
   "metadata": {},
   "outputs": [],
   "source": [
    "pairwise_SNP_dist = np.load('/n/data1/hms/dbmi/farhat/Roger/homoplasy_project/rolling_DB_scrape/Genotypes_Filtered_2/pairwise_distance_matrix/pairwise_SNP_distance_matrix.npy')"
   ]
  },
  {
   "cell_type": "code",
   "execution_count": 5,
   "metadata": {},
   "outputs": [
    {
     "data": {
      "text/plain": [
       "array([[   0,  606, 1139, ..., 1061,  174,  670],\n",
       "       [ 606,    0, 1124, ..., 1036,  623,  645],\n",
       "       [1139, 1124,    0, ..., 1035, 1152, 1177],\n",
       "       ...,\n",
       "       [1061, 1036, 1035, ...,    0, 1066, 1095],\n",
       "       [ 174,  623, 1152, ..., 1066,    0,  683],\n",
       "       [ 670,  645, 1177, ..., 1095,  683,    0]])"
      ]
     },
     "execution_count": 5,
     "metadata": {},
     "output_type": "execute_result"
    }
   ],
   "source": [
    "pairwise_SNP_dist"
   ]
  },
  {
   "cell_type": "code",
   "execution_count": 6,
   "metadata": {},
   "outputs": [
    {
     "data": {
      "text/plain": [
       "(31428, 31428)"
      ]
     },
     "execution_count": 6,
     "metadata": {},
     "output_type": "execute_result"
    }
   ],
   "source": [
    "np.shape(pairwise_SNP_dist)"
   ]
  },
  {
   "cell_type": "code",
   "execution_count": 7,
   "metadata": {},
   "outputs": [],
   "source": [
    "isolate_annotation_DF = pd.read_pickle('/n/data1/hms/dbmi/farhat/Roger/homoplasy_project/rolling_DB_scrape/Genotypes_Filtered_2/genotypes_isolate_annotation.pkl')"
   ]
  },
  {
   "cell_type": "code",
   "execution_count": 8,
   "metadata": {},
   "outputs": [
    {
     "data": {
      "text/html": [
       "<div>\n",
       "<style>\n",
       "    .dataframe thead tr:only-child th {\n",
       "        text-align: right;\n",
       "    }\n",
       "\n",
       "    .dataframe thead th {\n",
       "        text-align: left;\n",
       "    }\n",
       "\n",
       "    .dataframe tbody tr th {\n",
       "        vertical-align: top;\n",
       "    }\n",
       "</style>\n",
       "<table border=\"1\" class=\"dataframe\">\n",
       "  <thead>\n",
       "    <tr style=\"text-align: right;\">\n",
       "      <th></th>\n",
       "      <th>lineage_1</th>\n",
       "      <th>lineage_2</th>\n",
       "      <th>lineage_3</th>\n",
       "      <th>lineage_4</th>\n",
       "      <th>lineage_5</th>\n",
       "      <th>lineage_6</th>\n",
       "      <th>lineage_7</th>\n",
       "      <th>lineage_8</th>\n",
       "      <th>lineage_9</th>\n",
       "      <th>lineage_10</th>\n",
       "      <th>lineage_11</th>\n",
       "      <th>isolate_ID</th>\n",
       "      <th>lineage_call</th>\n",
       "      <th>group</th>\n",
       "    </tr>\n",
       "  </thead>\n",
       "  <tbody>\n",
       "    <tr>\n",
       "      <th>0</th>\n",
       "      <td>4</td>\n",
       "      <td>2</td>\n",
       "      <td>1</td>\n",
       "      <td>2</td>\n",
       "      <td>1</td>\n",
       "      <td>1</td>\n",
       "      <td>i3</td>\n",
       "      <td>1</td>\n",
       "      <td>NaN</td>\n",
       "      <td>NaN</td>\n",
       "      <td>NaN</td>\n",
       "      <td>SAMEA3558733</td>\n",
       "      <td>4.2.1.2.1.1.i3.1</td>\n",
       "      <td>4B</td>\n",
       "    </tr>\n",
       "    <tr>\n",
       "      <th>1</th>\n",
       "      <td>4</td>\n",
       "      <td>2</td>\n",
       "      <td>1</td>\n",
       "      <td>2</td>\n",
       "      <td>2</td>\n",
       "      <td>1</td>\n",
       "      <td>1</td>\n",
       "      <td>NaN</td>\n",
       "      <td>NaN</td>\n",
       "      <td>NaN</td>\n",
       "      <td>NaN</td>\n",
       "      <td>SAMN03648641</td>\n",
       "      <td>4.2.1.2.2.1.1</td>\n",
       "      <td>4B</td>\n",
       "    </tr>\n",
       "    <tr>\n",
       "      <th>2</th>\n",
       "      <td>3</td>\n",
       "      <td>1</td>\n",
       "      <td>1</td>\n",
       "      <td>i1</td>\n",
       "      <td>NaN</td>\n",
       "      <td>NaN</td>\n",
       "      <td>NaN</td>\n",
       "      <td>NaN</td>\n",
       "      <td>NaN</td>\n",
       "      <td>NaN</td>\n",
       "      <td>NaN</td>\n",
       "      <td>SAMN03647419</td>\n",
       "      <td>3.1.1.i1</td>\n",
       "      <td>3</td>\n",
       "    </tr>\n",
       "    <tr>\n",
       "      <th>3</th>\n",
       "      <td>4</td>\n",
       "      <td>2</td>\n",
       "      <td>1</td>\n",
       "      <td>2</td>\n",
       "      <td>1</td>\n",
       "      <td>1</td>\n",
       "      <td>i1</td>\n",
       "      <td>NaN</td>\n",
       "      <td>NaN</td>\n",
       "      <td>NaN</td>\n",
       "      <td>NaN</td>\n",
       "      <td>SAMEA3671418</td>\n",
       "      <td>4.2.1.2.1.1.i1</td>\n",
       "      <td>4B</td>\n",
       "    </tr>\n",
       "    <tr>\n",
       "      <th>4</th>\n",
       "      <td>1</td>\n",
       "      <td>1</td>\n",
       "      <td>1</td>\n",
       "      <td>2</td>\n",
       "      <td>NaN</td>\n",
       "      <td>NaN</td>\n",
       "      <td>NaN</td>\n",
       "      <td>NaN</td>\n",
       "      <td>NaN</td>\n",
       "      <td>NaN</td>\n",
       "      <td>NaN</td>\n",
       "      <td>SAMN07659096</td>\n",
       "      <td>1.1.1.2</td>\n",
       "      <td>1</td>\n",
       "    </tr>\n",
       "  </tbody>\n",
       "</table>\n",
       "</div>"
      ],
      "text/plain": [
       "  lineage_1 lineage_2 lineage_3 lineage_4 lineage_5 lineage_6 lineage_7  \\\n",
       "0         4         2         1         2         1         1        i3   \n",
       "1         4         2         1         2         2         1         1   \n",
       "2         3         1         1        i1       NaN       NaN       NaN   \n",
       "3         4         2         1         2         1         1        i1   \n",
       "4         1         1         1         2       NaN       NaN       NaN   \n",
       "\n",
       "  lineage_8 lineage_9 lineage_10 lineage_11    isolate_ID      lineage_call  \\\n",
       "0         1       NaN        NaN        NaN  SAMEA3558733  4.2.1.2.1.1.i3.1   \n",
       "1       NaN       NaN        NaN        NaN  SAMN03648641     4.2.1.2.2.1.1   \n",
       "2       NaN       NaN        NaN        NaN  SAMN03647419          3.1.1.i1   \n",
       "3       NaN       NaN        NaN        NaN  SAMEA3671418    4.2.1.2.1.1.i1   \n",
       "4       NaN       NaN        NaN        NaN  SAMN07659096           1.1.1.2   \n",
       "\n",
       "  group  \n",
       "0    4B  \n",
       "1    4B  \n",
       "2     3  \n",
       "3    4B  \n",
       "4     1  "
      ]
     },
     "execution_count": 8,
     "metadata": {},
     "output_type": "execute_result"
    }
   ],
   "source": [
    "isolate_annotation_DF.head()"
   ]
  },
  {
   "cell_type": "code",
   "execution_count": 9,
   "metadata": {},
   "outputs": [
    {
     "data": {
      "text/plain": [
       "(31428, 14)"
      ]
     },
     "execution_count": 9,
     "metadata": {},
     "output_type": "execute_result"
    }
   ],
   "source": [
    "np.shape(isolate_annotation_DF)"
   ]
  },
  {
   "cell_type": "markdown",
   "metadata": {},
   "source": [
    "#### Output *pairwise SNP distance matrix* and *isolate annotation dataframe* as CSV files"
   ]
  },
  {
   "cell_type": "code",
   "execution_count": 18,
   "metadata": {},
   "outputs": [],
   "source": [
    "CSV_files_dir = '/n/data1/hms/dbmi/farhat/Roger/homoplasy_project/rolling_DB_scrape/Genotypes_Filtered_2/pairwise_distance_matrix/matrix_and_annotation_CSV_files/'\n",
    "\n",
    "#output numpy array as CSV\n",
    "np.savetxt(CSV_files_dir + 'pairwise_SNP_distance_matrix.csv', pairwise_SNP_dist, delimiter = ',')\n",
    "\n",
    "#reset isolate annotation to start indexing at 1\n",
    "isolate_annotation_DF['isolate_i'] = isolate_annotation_DF.index + 1\n",
    "isolate_annotation_DF.set_index('isolate_i', inplace = True, drop = True)\n",
    "\n",
    "#output pandas dataframe as CSV\n",
    "isolate_annotation_DF.to_csv(CSV_files_dir + 'isolate_annotation.csv')"
   ]
  },
  {
   "cell_type": "markdown",
   "metadata": {},
   "source": [
    "#### Use upper-triangular indices to get non-redundant array of pairwise SNP distances between all isolates"
   ]
  },
  {
   "cell_type": "code",
   "execution_count": 10,
   "metadata": {},
   "outputs": [],
   "source": [
    "num_isolates = np.shape(isolate_annotation_DF)[0]\n",
    "upper_triangle_indices = np.triu_indices(n = num_isolates , k = 1)\n",
    "\n",
    "non_redundant_pairwise_SNP_dist_array = pairwise_SNP_dist[upper_triangle_indices]"
   ]
  },
  {
   "cell_type": "code",
   "execution_count": 11,
   "metadata": {},
   "outputs": [
    {
     "data": {
      "text/plain": [
       "array([ 606, 1139,  406, ..., 1066, 1095,  683])"
      ]
     },
     "execution_count": 11,
     "metadata": {},
     "output_type": "execute_result"
    }
   ],
   "source": [
    "non_redundant_pairwise_SNP_dist_array"
   ]
  },
  {
   "cell_type": "code",
   "execution_count": 12,
   "metadata": {},
   "outputs": [
    {
     "data": {
      "text/plain": [
       "493843878"
      ]
     },
     "execution_count": 12,
     "metadata": {},
     "output_type": "execute_result"
    }
   ],
   "source": [
    "len(non_redundant_pairwise_SNP_dist_array)"
   ]
  },
  {
   "cell_type": "markdown",
   "metadata": {},
   "source": [
    "#### Maximum SNP distance between two isolates?"
   ]
  },
  {
   "cell_type": "code",
   "execution_count": 31,
   "metadata": {
    "scrolled": true
   },
   "outputs": [
    {
     "data": {
      "text/plain": [
       "2214"
      ]
     },
     "execution_count": 31,
     "metadata": {},
     "output_type": "execute_result"
    }
   ],
   "source": [
    "np.max(non_redundant_pairwise_SNP_dist_array) #max SNP distance between isolates"
   ]
  },
  {
   "cell_type": "code",
   "execution_count": 32,
   "metadata": {},
   "outputs": [
    {
     "data": {
      "text/plain": [
       "(array([12056, 29121]), array([29121, 12056]))"
      ]
     },
     "execution_count": 32,
     "metadata": {},
     "output_type": "execute_result"
    }
   ],
   "source": [
    "np.where(pairwise_SNP_dist == 2214)"
   ]
  },
  {
   "cell_type": "code",
   "execution_count": 33,
   "metadata": {},
   "outputs": [
    {
     "data": {
      "text/plain": [
       "lineage_call    4.1.i1.2.1\n",
       "Name: 12056, dtype: object"
      ]
     },
     "execution_count": 33,
     "metadata": {},
     "output_type": "execute_result"
    }
   ],
   "source": [
    "isolate_annotation_DF.loc[12056,['lineage_call','isolate_ID']]"
   ]
  },
  {
   "cell_type": "code",
   "execution_count": 34,
   "metadata": {},
   "outputs": [
    {
     "data": {
      "text/plain": [
       "lineage_call    1.1.1.1.1\n",
       "Name: 29121, dtype: object"
      ]
     },
     "execution_count": 34,
     "metadata": {},
     "output_type": "execute_result"
    }
   ],
   "source": [
    "isolate_annotation_DF.loc[29121,['lineage_call','isolate_ID']]"
   ]
  },
  {
   "cell_type": "code",
   "execution_count": 13,
   "metadata": {},
   "outputs": [],
   "source": [
    "plt.style.use('ggplot')\n",
    "plt.rcParams['lines.linewidth']=3\n",
    "plt.rcParams['axes.facecolor']='1.0'\n",
    "plt.rcParams['xtick.color']='black'\n",
    "plt.rcParams['ytick.color']='black'\n",
    "plt.rcParams['axes.grid']=True\n",
    "plt.rcParams['axes.edgecolor']='black'\n",
    "plt.rcParams['grid.color']= '1.0'\n",
    "plt.rcParams.update({'font.size': 12})"
   ]
  },
  {
   "cell_type": "code",
   "execution_count": 17,
   "metadata": {},
   "outputs": [
    {
     "data": {
      "image/png": "[encoded data removed]",
      "text/plain": [
       "<Figure size 864x540 with 1 Axes>"
      ]
     },
     "metadata": {},
     "output_type": "display_data"
    }
   ],
   "source": [
    "fig , ax = plt.subplots()\n",
    "\n",
    "#SNP found in isolate denoted with a '1', sum across columns (isolates)\n",
    "n , bins , patches = plt.hist(non_redundant_pairwise_SNP_dist_array , bins = 125 , color = 'k' , rwidth = 1.0 , edgecolor='white', linewidth=1.0)\n",
    "\n",
    "plt.title('Distribution of pairwise SNP distances between 31,428 isolates', fontsize = 14, color = 'k')\n",
    "plt.xlabel('pairwise SNP distance', fontsize = 14, color = 'k')\n",
    "plt.ylabel('number of isolate pairs' , fontsize = 14, color = 'k')\n",
    "\n",
    "ax.spines['right'].set_visible(False)\n",
    "ax.spines['top'].set_visible(False)\n",
    "ax.grid(False)\n",
    "\n",
    "ax.tick_params(labelcolor = 'k')\n",
    "\n",
    "fig = plt.gcf()\n",
    "fig.set_size_inches(12.0, 7.5)\n",
    "fig.tight_layout()\n",
    "\n",
    "plt.tick_params(axis='y', which='major', labelsize=12 , labelcolor = 'k')\n",
    "plt.tick_params(axis='x', which='major', labelsize=12 , labelcolor = 'k')\n",
    "\n",
    "file_name = '/n/data1/hms/dbmi/farhat/Roger/homoplasy_project/Figures/lab_meeting_12_12_19/pairwise_SNP_distance/distribution_of_pairwise_SNP_distances.png'\n",
    "#plt.savefig(file_name, bbox_inches='tight', dpi = 300 , transparent = True)\n",
    "\n",
    "plt.show()"
   ]
  },
  {
   "cell_type": "markdown",
   "metadata": {},
   "source": [
    "### Within-Lineage variation"
   ]
  },
  {
   "cell_type": "code",
   "execution_count": 38,
   "metadata": {},
   "outputs": [],
   "source": [
    "from pylab import plot, show, savefig, xlim, figure, hold, ylim, legend, boxplot, setp, axes\n",
    "\n",
    "linewidth_for_box = 2.5\n",
    "\n",
    "# function for setting the colors of the box plots pairs\n",
    "def setBoxColors(bp , color):\n",
    "    setp(bp['boxes'][0], color=color , linewidth = linewidth_for_box)\n",
    "    setp(bp['caps'][0], color=color , linewidth = linewidth_for_box)\n",
    "    setp(bp['caps'][1], color=color , linewidth = linewidth_for_box)\n",
    "    setp(bp['whiskers'][0], color=color , linewidth = linewidth_for_box)\n",
    "    setp(bp['whiskers'][1], color=color , linewidth = linewidth_for_box)\n",
    "    setp(bp['fliers'][0], color=color)\n",
    "    setp(bp['medians'][0], color='k' , linewidth = 2.0)\n",
    "    bp['fliers'][0].set_markerfacecolor('white')\n",
    "    bp['fliers'][0].set_markeredgewidth(0.4)\n",
    "    bp['fliers'][0].set_markersize(6.0)\n",
    "    bp['fliers'][0].set_markeredgecolor('k')\n",
    "    bp['fliers'][0].set_alpha(0.7)\n",
    "    \n",
    "def plot_num_SNP_distances_btwn_lineages(pairwise_SNP_dist , global_lineage_i , global_lineage_j , color , x_pos):\n",
    "    \n",
    "    #make boxplot\n",
    "    pairwise_SNP_distances = SNP_distances_for_pairs_in_lineages(global_lineage_i, global_lineage_j , pairwise_SNP_dist)\n",
    "    bp = boxplot(pairwise_SNP_distances , positions = [ind[x_pos]], widths = box_width)\n",
    "    setBoxColors(bp , color)\n",
    "    \n",
    "    return len(pairwise_SNP_distances)"
   ]
  },
  {
   "cell_type": "code",
   "execution_count": 43,
   "metadata": {},
   "outputs": [
    {
     "data": {
      "image/png": "[encoded data removed]",
      "text/plain": [
       "<Figure size 864x540 with 1 Axes>"
      ]
     },
     "metadata": {},
     "output_type": "display_data"
    }
   ],
   "source": [
    "box_width = 0.8\n",
    "ind = [1,2,3,4,5,6]\n",
    "lineage_pairs = [['1','1'] , ['2','2'] , ['3','3'] , ['4','4'] , ['5','5'] , ['6','6']]\n",
    "\n",
    "fig = plt.figure(1, figsize=(12, 7.5))\n",
    "ax = axes()\n",
    "\n",
    "num_isolate_pairs= []\n",
    "x_pos = 0\n",
    "for lineage_pair , color in zip( lineage_pairs , ['xkcd:dark pink', 'xkcd:blue', 'xkcd:dark purple', 'xkcd:red', 'xkcd:brown', 'xkcd:green'] ):\n",
    "    \n",
    "    #plot boxplot for lineage & store the number of isolates in sample\n",
    "    num_isolate_pairs.append( plot_num_SNP_distances_btwn_lineages(pairwise_SNP_dist , lineage_pair[0] , lineage_pair[1] , color , x_pos) )\n",
    "    x_pos += 1\n",
    "\n",
    "#x-axis\n",
    "xlim(0.25 , 6.75)\n",
    "\n",
    "ax.set_xticks(ind)\n",
    "ax.set_xticklabels([], rotation='horizontal', fontsize = 6)\n",
    "x_labels = [lineage[0] + '-' + lineage[1] + '\\n (N=' + str(num_isolates) + ')' for lineage , num_isolates in zip( lineage_pairs , num_isolate_pairs)]\n",
    "ax.set_xticklabels(x_labels, rotation='horizontal', fontsize = 12)\n",
    "ax.set_xlabel('')\n",
    "ax.grid(False)\n",
    "\n",
    "ax.spines['right'].set_visible(False)\n",
    "ax.spines['top'].set_visible(False)\n",
    "\n",
    "plt.title('within-lineage pairwise SNP distances')\n",
    "\n",
    "#label y-axis\n",
    "fig.text(0.0, 0.53, 'pairwise SNP distance' ,  ha='center', va='center', rotation=90, fontsize = 12 , color = 'k')\n",
    "\n",
    "fig = plt.gcf()\n",
    "fig.tight_layout()\n",
    "\n",
    "plt.tick_params(\n",
    "    axis='x',          # changes apply to the x-axis\n",
    "    which='both',      # both major and minor ticks are affected\n",
    "    bottom='off',      # ticks along the bottom edge are off\n",
    "    top='off',         # ticks along the top edge are off\n",
    "    labelbottom='on') # labels along the bottom edge are off\n",
    "\n",
    "plt.tick_params(\n",
    "    axis='y',          # changes apply to the x-axis\n",
    "    which='both',      # both major and minor ticks are affected\n",
    "    left='off',      # ticks along the bottom edge are off\n",
    "    right='off',         # ticks along the top edge are off\n",
    "    labelleft='on') # labels along the bottom edge are off\n",
    "\n",
    "file_name = '/n/data1/hms/dbmi/farhat/Roger/homoplasy_project/Figures/lab_meeting_12_12_19/pairwise_SNP_distance/within_global_lineage_pairwise_SNP_distances.png'\n",
    "#plt.savefig(file_name, bbox_inches='tight', dpi = 300 , transparent = True)\n",
    "\n",
    "plt.show()"
   ]
  },
  {
   "cell_type": "markdown",
   "metadata": {},
   "source": [
    "### Between-Lineage variation"
   ]
  },
  {
   "cell_type": "code",
   "execution_count": 41,
   "metadata": {},
   "outputs": [
    {
     "data": {
      "image/png": "[encoded data removed]",
      "text/plain": [
       "<Figure size 864x540 with 1 Axes>"
      ]
     },
     "metadata": {},
     "output_type": "display_data"
    }
   ],
   "source": [
    "box_width = 0.8\n",
    "ind = [1,2,3,4,5,6]\n",
    "lineage_pairs = [['1','2'] , ['1','3'] , ['1','4'] , ['2','3'], ['2','4'], ['3','4']]\n",
    "\n",
    "fig = plt.figure(1, figsize=(12, 7.5))\n",
    "ax = axes()\n",
    "\n",
    "num_isolate_pairs= []\n",
    "x_pos = 0\n",
    "for lineage_pair , color in zip( lineage_pairs , ['k', 'k', 'k', 'k', 'k', 'k'] ):\n",
    "    \n",
    "    #plot boxplot for lineage & store the number of isolates in sample\n",
    "    num_isolate_pairs.append( plot_num_SNP_distances_btwn_lineages(pairwise_SNP_dist , lineage_pair[0] , lineage_pair[1] , color , x_pos) )\n",
    "    x_pos += 1\n",
    "\n",
    "#x-axis\n",
    "xlim(0.25 , 6.75)\n",
    "\n",
    "ax.set_xticks(ind)\n",
    "ax.set_xticklabels([], rotation='horizontal', fontsize = 6)\n",
    "x_labels = [lineage[0] + '-' + lineage[1] + '\\n (N=' + str(num_isolates) + ')' for lineage , num_isolates in zip( lineage_pairs , num_isolate_pairs)]\n",
    "ax.set_xticklabels(x_labels, rotation='horizontal', fontsize = 12)\n",
    "ax.set_xlabel('')\n",
    "ax.grid(False)\n",
    "\n",
    "ax.spines['right'].set_visible(False)\n",
    "ax.spines['top'].set_visible(False)\n",
    "\n",
    "plt.title('between-lineage pairwise SNP distances')\n",
    "\n",
    "#label y-axis\n",
    "fig.text(0.0, 0.53, 'pairwise SNP distance' ,  ha='center', va='center', rotation=90, fontsize = 12 , color = 'k')\n",
    "\n",
    "fig = plt.gcf()\n",
    "fig.tight_layout()\n",
    "\n",
    "plt.tick_params(\n",
    "    axis='x',          # changes apply to the x-axis\n",
    "    which='both',      # both major and minor ticks are affected\n",
    "    bottom='off',      # ticks along the bottom edge are off\n",
    "    top='off',         # ticks along the top edge are off\n",
    "    labelbottom='on') # labels along the bottom edge are off\n",
    "\n",
    "plt.tick_params(\n",
    "    axis='y',          # changes apply to the x-axis\n",
    "    which='both',      # both major and minor ticks are affected\n",
    "    left='off',      # ticks along the bottom edge are off\n",
    "    right='off',         # ticks along the top edge are off\n",
    "    labelleft='on') # labels along the bottom edge are off\n",
    "\n",
    "file_name = '/n/data1/hms/dbmi/farhat/Roger/homoplasy_project/Figures/lab_meeting_12_12_19/pairwise_SNP_distance/between_global_lineage_pairwise_SNP_distances.png'\n",
    "#plt.savefig(file_name, bbox_inches='tight', dpi = 300 , transparent = True)\n",
    "\n",
    "plt.show()"
   ]
  },
  {
   "cell_type": "markdown",
   "metadata": {},
   "source": [
    "####################################################################################################################################################################################"
   ]
  },
  {
   "cell_type": "markdown",
   "metadata": {},
   "source": [
    "## [7] Re-calculate within-lineage pairwise SNP distances after dropping *mis-classified* isolates"
   ]
  },
  {
   "cell_type": "markdown",
   "metadata": {},
   "source": [
    "####################################################################################################################################################################################"
   ]
  },
  {
   "cell_type": "code",
   "execution_count": 44,
   "metadata": {},
   "outputs": [
    {
     "data": {
      "text/plain": [
       "array([[   0,  606, 1139, ..., 1061,  174,  670],\n",
       "       [ 606,    0, 1124, ..., 1036,  623,  645],\n",
       "       [1139, 1124,    0, ..., 1035, 1152, 1177],\n",
       "       ...,\n",
       "       [1061, 1036, 1035, ...,    0, 1066, 1095],\n",
       "       [ 174,  623, 1152, ..., 1066,    0,  683],\n",
       "       [ 670,  645, 1177, ..., 1095,  683,    0]])"
      ]
     },
     "execution_count": 44,
     "metadata": {},
     "output_type": "execute_result"
    }
   ],
   "source": [
    "pairwise_SNP_dist"
   ]
  },
  {
   "cell_type": "code",
   "execution_count": 45,
   "metadata": {},
   "outputs": [
    {
     "data": {
      "text/plain": [
       "(31428, 31428)"
      ]
     },
     "execution_count": 45,
     "metadata": {},
     "output_type": "execute_result"
    }
   ],
   "source": [
    "np.shape(pairwise_SNP_dist)"
   ]
  },
  {
   "cell_type": "code",
   "execution_count": 46,
   "metadata": {},
   "outputs": [
    {
     "data": {
      "text/html": [
       "<div>\n",
       "<style>\n",
       "    .dataframe thead tr:only-child th {\n",
       "        text-align: right;\n",
       "    }\n",
       "\n",
       "    .dataframe thead th {\n",
       "        text-align: left;\n",
       "    }\n",
       "\n",
       "    .dataframe tbody tr th {\n",
       "        vertical-align: top;\n",
       "    }\n",
       "</style>\n",
       "<table border=\"1\" class=\"dataframe\">\n",
       "  <thead>\n",
       "    <tr style=\"text-align: right;\">\n",
       "      <th></th>\n",
       "      <th>lineage_1</th>\n",
       "      <th>lineage_2</th>\n",
       "      <th>lineage_3</th>\n",
       "      <th>lineage_4</th>\n",
       "      <th>lineage_5</th>\n",
       "      <th>lineage_6</th>\n",
       "      <th>lineage_7</th>\n",
       "      <th>lineage_8</th>\n",
       "      <th>lineage_9</th>\n",
       "      <th>lineage_10</th>\n",
       "      <th>lineage_11</th>\n",
       "      <th>isolate_ID</th>\n",
       "      <th>lineage_call</th>\n",
       "      <th>group</th>\n",
       "    </tr>\n",
       "  </thead>\n",
       "  <tbody>\n",
       "    <tr>\n",
       "      <th>0</th>\n",
       "      <td>4</td>\n",
       "      <td>2</td>\n",
       "      <td>1</td>\n",
       "      <td>2</td>\n",
       "      <td>1</td>\n",
       "      <td>1</td>\n",
       "      <td>i3</td>\n",
       "      <td>1</td>\n",
       "      <td>NaN</td>\n",
       "      <td>NaN</td>\n",
       "      <td>NaN</td>\n",
       "      <td>SAMEA3558733</td>\n",
       "      <td>4.2.1.2.1.1.i3.1</td>\n",
       "      <td>4B</td>\n",
       "    </tr>\n",
       "    <tr>\n",
       "      <th>1</th>\n",
       "      <td>4</td>\n",
       "      <td>2</td>\n",
       "      <td>1</td>\n",
       "      <td>2</td>\n",
       "      <td>2</td>\n",
       "      <td>1</td>\n",
       "      <td>1</td>\n",
       "      <td>NaN</td>\n",
       "      <td>NaN</td>\n",
       "      <td>NaN</td>\n",
       "      <td>NaN</td>\n",
       "      <td>SAMN03648641</td>\n",
       "      <td>4.2.1.2.2.1.1</td>\n",
       "      <td>4B</td>\n",
       "    </tr>\n",
       "    <tr>\n",
       "      <th>2</th>\n",
       "      <td>3</td>\n",
       "      <td>1</td>\n",
       "      <td>1</td>\n",
       "      <td>i1</td>\n",
       "      <td>NaN</td>\n",
       "      <td>NaN</td>\n",
       "      <td>NaN</td>\n",
       "      <td>NaN</td>\n",
       "      <td>NaN</td>\n",
       "      <td>NaN</td>\n",
       "      <td>NaN</td>\n",
       "      <td>SAMN03647419</td>\n",
       "      <td>3.1.1.i1</td>\n",
       "      <td>3</td>\n",
       "    </tr>\n",
       "    <tr>\n",
       "      <th>3</th>\n",
       "      <td>4</td>\n",
       "      <td>2</td>\n",
       "      <td>1</td>\n",
       "      <td>2</td>\n",
       "      <td>1</td>\n",
       "      <td>1</td>\n",
       "      <td>i1</td>\n",
       "      <td>NaN</td>\n",
       "      <td>NaN</td>\n",
       "      <td>NaN</td>\n",
       "      <td>NaN</td>\n",
       "      <td>SAMEA3671418</td>\n",
       "      <td>4.2.1.2.1.1.i1</td>\n",
       "      <td>4B</td>\n",
       "    </tr>\n",
       "    <tr>\n",
       "      <th>4</th>\n",
       "      <td>1</td>\n",
       "      <td>1</td>\n",
       "      <td>1</td>\n",
       "      <td>2</td>\n",
       "      <td>NaN</td>\n",
       "      <td>NaN</td>\n",
       "      <td>NaN</td>\n",
       "      <td>NaN</td>\n",
       "      <td>NaN</td>\n",
       "      <td>NaN</td>\n",
       "      <td>NaN</td>\n",
       "      <td>SAMN07659096</td>\n",
       "      <td>1.1.1.2</td>\n",
       "      <td>1</td>\n",
       "    </tr>\n",
       "  </tbody>\n",
       "</table>\n",
       "</div>"
      ],
      "text/plain": [
       "  lineage_1 lineage_2 lineage_3 lineage_4 lineage_5 lineage_6 lineage_7  \\\n",
       "0         4         2         1         2         1         1        i3   \n",
       "1         4         2         1         2         2         1         1   \n",
       "2         3         1         1        i1       NaN       NaN       NaN   \n",
       "3         4         2         1         2         1         1        i1   \n",
       "4         1         1         1         2       NaN       NaN       NaN   \n",
       "\n",
       "  lineage_8 lineage_9 lineage_10 lineage_11    isolate_ID      lineage_call  \\\n",
       "0         1       NaN        NaN        NaN  SAMEA3558733  4.2.1.2.1.1.i3.1   \n",
       "1       NaN       NaN        NaN        NaN  SAMN03648641     4.2.1.2.2.1.1   \n",
       "2       NaN       NaN        NaN        NaN  SAMN03647419          3.1.1.i1   \n",
       "3       NaN       NaN        NaN        NaN  SAMEA3671418    4.2.1.2.1.1.i1   \n",
       "4       NaN       NaN        NaN        NaN  SAMN07659096           1.1.1.2   \n",
       "\n",
       "  group  \n",
       "0    4B  \n",
       "1    4B  \n",
       "2     3  \n",
       "3    4B  \n",
       "4     1  "
      ]
     },
     "execution_count": 46,
     "metadata": {},
     "output_type": "execute_result"
    }
   ],
   "source": [
    "isolate_annotation_DF.head()"
   ]
  },
  {
   "cell_type": "code",
   "execution_count": 47,
   "metadata": {},
   "outputs": [
    {
     "data": {
      "text/plain": [
       "(31428, 14)"
      ]
     },
     "execution_count": 47,
     "metadata": {},
     "output_type": "execute_result"
    }
   ],
   "source": [
    "np.shape(isolate_annotation_DF)"
   ]
  },
  {
   "cell_type": "markdown",
   "metadata": {},
   "source": [
    "### Drop mis-classified isolates"
   ]
  },
  {
   "cell_type": "markdown",
   "metadata": {},
   "source": [
    "isolates mis-classified from SNP barcode (visual inspection of phlogenies in Rectangular Tree Layout)\n",
    "\n",
    "- L1: 3\n",
    "    - SAMEA3445265\n",
    "    - SAMEA1119746\n",
    "    - SAMN06209986\n",
    "        \n",
    "- L2: 4\n",
    "    - SAMEA3558144\n",
    "    - SAMEA5366594\n",
    "    - SAMEA5366622\n",
    "    - SAMEA5366610\n",
    "        \n",
    "- L3: 2\n",
    "    - SAMN02398716\n",
    "    - SAMN08436122\n",
    "        \n",
    "- L4A: 1\n",
    "    - SAMEA3359387\n",
    "    \n",
    "-  L4B: 0\n",
    "    \n",
    "- L4C: 4\n",
    "    - SAMEA2783243\n",
    "    - SAMN07236506\n",
    "    - SAMEA104153428\n",
    "    - SAMEA961670\n",
    "    \n",
    "- L5: 0\n",
    "    \n",
    "- L6: 0"
   ]
  },
  {
   "cell_type": "code",
   "execution_count": 64,
   "metadata": {},
   "outputs": [],
   "source": [
    "misclassified_isolates_list = ['SAMEA3445265','SAMEA1119746','SAMN06209986','SAMEA3558144','SAMEA5366594','SAMEA5366622','SAMEA5366610','SAMN02398716','SAMN08436122','SAMEA3359387','SAMEA2783243','SAMN07236506','SAMEA104153428','SAMEA961670']"
   ]
  },
  {
   "cell_type": "code",
   "execution_count": 65,
   "metadata": {},
   "outputs": [
    {
     "data": {
      "text/html": [
       "<div>\n",
       "<style>\n",
       "    .dataframe thead tr:only-child th {\n",
       "        text-align: right;\n",
       "    }\n",
       "\n",
       "    .dataframe thead th {\n",
       "        text-align: left;\n",
       "    }\n",
       "\n",
       "    .dataframe tbody tr th {\n",
       "        vertical-align: top;\n",
       "    }\n",
       "</style>\n",
       "<table border=\"1\" class=\"dataframe\">\n",
       "  <thead>\n",
       "    <tr style=\"text-align: right;\">\n",
       "      <th></th>\n",
       "      <th>lineage_1</th>\n",
       "      <th>lineage_2</th>\n",
       "      <th>lineage_3</th>\n",
       "      <th>lineage_4</th>\n",
       "      <th>lineage_5</th>\n",
       "      <th>lineage_6</th>\n",
       "      <th>lineage_7</th>\n",
       "      <th>lineage_8</th>\n",
       "      <th>lineage_9</th>\n",
       "      <th>lineage_10</th>\n",
       "      <th>lineage_11</th>\n",
       "      <th>isolate_ID</th>\n",
       "      <th>lineage_call</th>\n",
       "      <th>group</th>\n",
       "    </tr>\n",
       "  </thead>\n",
       "  <tbody>\n",
       "    <tr>\n",
       "      <th>780</th>\n",
       "      <td>3</td>\n",
       "      <td>1</td>\n",
       "      <td>1</td>\n",
       "      <td>i1</td>\n",
       "      <td>NaN</td>\n",
       "      <td>NaN</td>\n",
       "      <td>NaN</td>\n",
       "      <td>NaN</td>\n",
       "      <td>NaN</td>\n",
       "      <td>NaN</td>\n",
       "      <td>NaN</td>\n",
       "      <td>SAMN08436122</td>\n",
       "      <td>3.1.1.i1</td>\n",
       "      <td>3</td>\n",
       "    </tr>\n",
       "    <tr>\n",
       "      <th>2658</th>\n",
       "      <td>4</td>\n",
       "      <td>2</td>\n",
       "      <td>1</td>\n",
       "      <td>1</td>\n",
       "      <td>1</td>\n",
       "      <td>2</td>\n",
       "      <td>2</td>\n",
       "      <td>1</td>\n",
       "      <td>NaN</td>\n",
       "      <td>NaN</td>\n",
       "      <td>NaN</td>\n",
       "      <td>SAMN07236506</td>\n",
       "      <td>4.2.1.1.1.2.2.1</td>\n",
       "      <td>4C</td>\n",
       "    </tr>\n",
       "    <tr>\n",
       "      <th>4344</th>\n",
       "      <td>4</td>\n",
       "      <td>2</td>\n",
       "      <td>1</td>\n",
       "      <td>1</td>\n",
       "      <td>1</td>\n",
       "      <td>2</td>\n",
       "      <td>2</td>\n",
       "      <td>2</td>\n",
       "      <td>NaN</td>\n",
       "      <td>NaN</td>\n",
       "      <td>NaN</td>\n",
       "      <td>SAMEA961670</td>\n",
       "      <td>4.2.1.1.1.2.2.2</td>\n",
       "      <td>4C</td>\n",
       "    </tr>\n",
       "    <tr>\n",
       "      <th>5734</th>\n",
       "      <td>4</td>\n",
       "      <td>2</td>\n",
       "      <td>1</td>\n",
       "      <td>1</td>\n",
       "      <td>1</td>\n",
       "      <td>2</td>\n",
       "      <td>2</td>\n",
       "      <td>1</td>\n",
       "      <td>NaN</td>\n",
       "      <td>NaN</td>\n",
       "      <td>NaN</td>\n",
       "      <td>SAMEA2783243</td>\n",
       "      <td>4.2.1.1.1.2.2.1</td>\n",
       "      <td>4C</td>\n",
       "    </tr>\n",
       "    <tr>\n",
       "      <th>12056</th>\n",
       "      <td>4</td>\n",
       "      <td>1</td>\n",
       "      <td>i1</td>\n",
       "      <td>2</td>\n",
       "      <td>1</td>\n",
       "      <td>NaN</td>\n",
       "      <td>NaN</td>\n",
       "      <td>NaN</td>\n",
       "      <td>NaN</td>\n",
       "      <td>NaN</td>\n",
       "      <td>NaN</td>\n",
       "      <td>SAMEA3359387</td>\n",
       "      <td>4.1.i1.2.1</td>\n",
       "      <td>4A</td>\n",
       "    </tr>\n",
       "    <tr>\n",
       "      <th>14504</th>\n",
       "      <td>1</td>\n",
       "      <td>2</td>\n",
       "      <td>1</td>\n",
       "      <td>1</td>\n",
       "      <td>1</td>\n",
       "      <td>NaN</td>\n",
       "      <td>NaN</td>\n",
       "      <td>NaN</td>\n",
       "      <td>NaN</td>\n",
       "      <td>NaN</td>\n",
       "      <td>NaN</td>\n",
       "      <td>SAMN06209986</td>\n",
       "      <td>1.2.1.1.1</td>\n",
       "      <td>1</td>\n",
       "    </tr>\n",
       "    <tr>\n",
       "      <th>17407</th>\n",
       "      <td>1</td>\n",
       "      <td>2</td>\n",
       "      <td>2</td>\n",
       "      <td>2</td>\n",
       "      <td>NaN</td>\n",
       "      <td>NaN</td>\n",
       "      <td>NaN</td>\n",
       "      <td>NaN</td>\n",
       "      <td>NaN</td>\n",
       "      <td>NaN</td>\n",
       "      <td>NaN</td>\n",
       "      <td>SAMEA3445265</td>\n",
       "      <td>1.2.2.2</td>\n",
       "      <td>1</td>\n",
       "    </tr>\n",
       "    <tr>\n",
       "      <th>23065</th>\n",
       "      <td>4</td>\n",
       "      <td>2</td>\n",
       "      <td>1</td>\n",
       "      <td>1</td>\n",
       "      <td>1</td>\n",
       "      <td>2</td>\n",
       "      <td>2</td>\n",
       "      <td>1</td>\n",
       "      <td>NaN</td>\n",
       "      <td>NaN</td>\n",
       "      <td>NaN</td>\n",
       "      <td>SAMEA104153428</td>\n",
       "      <td>4.2.1.1.1.2.2.1</td>\n",
       "      <td>4C</td>\n",
       "    </tr>\n",
       "    <tr>\n",
       "      <th>23426</th>\n",
       "      <td>2</td>\n",
       "      <td>1</td>\n",
       "      <td>NaN</td>\n",
       "      <td>NaN</td>\n",
       "      <td>NaN</td>\n",
       "      <td>NaN</td>\n",
       "      <td>NaN</td>\n",
       "      <td>NaN</td>\n",
       "      <td>NaN</td>\n",
       "      <td>NaN</td>\n",
       "      <td>NaN</td>\n",
       "      <td>SAMEA5366622</td>\n",
       "      <td>2.1</td>\n",
       "      <td>2</td>\n",
       "    </tr>\n",
       "    <tr>\n",
       "      <th>24095</th>\n",
       "      <td>2</td>\n",
       "      <td>2</td>\n",
       "      <td>2</td>\n",
       "      <td>NaN</td>\n",
       "      <td>NaN</td>\n",
       "      <td>NaN</td>\n",
       "      <td>NaN</td>\n",
       "      <td>NaN</td>\n",
       "      <td>NaN</td>\n",
       "      <td>NaN</td>\n",
       "      <td>NaN</td>\n",
       "      <td>SAMEA3558144</td>\n",
       "      <td>2.2.2</td>\n",
       "      <td>2</td>\n",
       "    </tr>\n",
       "    <tr>\n",
       "      <th>24105</th>\n",
       "      <td>2</td>\n",
       "      <td>1</td>\n",
       "      <td>NaN</td>\n",
       "      <td>NaN</td>\n",
       "      <td>NaN</td>\n",
       "      <td>NaN</td>\n",
       "      <td>NaN</td>\n",
       "      <td>NaN</td>\n",
       "      <td>NaN</td>\n",
       "      <td>NaN</td>\n",
       "      <td>NaN</td>\n",
       "      <td>SAMEA5366610</td>\n",
       "      <td>2.1</td>\n",
       "      <td>2</td>\n",
       "    </tr>\n",
       "    <tr>\n",
       "      <th>24349</th>\n",
       "      <td>2</td>\n",
       "      <td>1</td>\n",
       "      <td>NaN</td>\n",
       "      <td>NaN</td>\n",
       "      <td>NaN</td>\n",
       "      <td>NaN</td>\n",
       "      <td>NaN</td>\n",
       "      <td>NaN</td>\n",
       "      <td>NaN</td>\n",
       "      <td>NaN</td>\n",
       "      <td>NaN</td>\n",
       "      <td>SAMEA5366594</td>\n",
       "      <td>2.1</td>\n",
       "      <td>2</td>\n",
       "    </tr>\n",
       "    <tr>\n",
       "      <th>28043</th>\n",
       "      <td>1</td>\n",
       "      <td>2</td>\n",
       "      <td>1</td>\n",
       "      <td>1</td>\n",
       "      <td>2</td>\n",
       "      <td>NaN</td>\n",
       "      <td>NaN</td>\n",
       "      <td>NaN</td>\n",
       "      <td>NaN</td>\n",
       "      <td>NaN</td>\n",
       "      <td>NaN</td>\n",
       "      <td>SAMEA1119746</td>\n",
       "      <td>1.2.1.1.2</td>\n",
       "      <td>1</td>\n",
       "    </tr>\n",
       "    <tr>\n",
       "      <th>29672</th>\n",
       "      <td>3</td>\n",
       "      <td>2</td>\n",
       "      <td>2</td>\n",
       "      <td>NaN</td>\n",
       "      <td>NaN</td>\n",
       "      <td>NaN</td>\n",
       "      <td>NaN</td>\n",
       "      <td>NaN</td>\n",
       "      <td>NaN</td>\n",
       "      <td>NaN</td>\n",
       "      <td>NaN</td>\n",
       "      <td>SAMN02398716</td>\n",
       "      <td>3.2.2</td>\n",
       "      <td>3</td>\n",
       "    </tr>\n",
       "  </tbody>\n",
       "</table>\n",
       "</div>"
      ],
      "text/plain": [
       "      lineage_1 lineage_2 lineage_3 lineage_4 lineage_5 lineage_6 lineage_7  \\\n",
       "780           3         1         1        i1       NaN       NaN       NaN   \n",
       "2658          4         2         1         1         1         2         2   \n",
       "4344          4         2         1         1         1         2         2   \n",
       "5734          4         2         1         1         1         2         2   \n",
       "12056         4         1        i1         2         1       NaN       NaN   \n",
       "14504         1         2         1         1         1       NaN       NaN   \n",
       "17407         1         2         2         2       NaN       NaN       NaN   \n",
       "23065         4         2         1         1         1         2         2   \n",
       "23426         2         1       NaN       NaN       NaN       NaN       NaN   \n",
       "24095         2         2         2       NaN       NaN       NaN       NaN   \n",
       "24105         2         1       NaN       NaN       NaN       NaN       NaN   \n",
       "24349         2         1       NaN       NaN       NaN       NaN       NaN   \n",
       "28043         1         2         1         1         2       NaN       NaN   \n",
       "29672         3         2         2       NaN       NaN       NaN       NaN   \n",
       "\n",
       "      lineage_8 lineage_9 lineage_10 lineage_11      isolate_ID  \\\n",
       "780         NaN       NaN        NaN        NaN    SAMN08436122   \n",
       "2658          1       NaN        NaN        NaN    SAMN07236506   \n",
       "4344          2       NaN        NaN        NaN     SAMEA961670   \n",
       "5734          1       NaN        NaN        NaN    SAMEA2783243   \n",
       "12056       NaN       NaN        NaN        NaN    SAMEA3359387   \n",
       "14504       NaN       NaN        NaN        NaN    SAMN06209986   \n",
       "17407       NaN       NaN        NaN        NaN    SAMEA3445265   \n",
       "23065         1       NaN        NaN        NaN  SAMEA104153428   \n",
       "23426       NaN       NaN        NaN        NaN    SAMEA5366622   \n",
       "24095       NaN       NaN        NaN        NaN    SAMEA3558144   \n",
       "24105       NaN       NaN        NaN        NaN    SAMEA5366610   \n",
       "24349       NaN       NaN        NaN        NaN    SAMEA5366594   \n",
       "28043       NaN       NaN        NaN        NaN    SAMEA1119746   \n",
       "29672       NaN       NaN        NaN        NaN    SAMN02398716   \n",
       "\n",
       "          lineage_call group  \n",
       "780           3.1.1.i1     3  \n",
       "2658   4.2.1.1.1.2.2.1    4C  \n",
       "4344   4.2.1.1.1.2.2.2    4C  \n",
       "5734   4.2.1.1.1.2.2.1    4C  \n",
       "12056       4.1.i1.2.1    4A  \n",
       "14504        1.2.1.1.1     1  \n",
       "17407          1.2.2.2     1  \n",
       "23065  4.2.1.1.1.2.2.1    4C  \n",
       "23426              2.1     2  \n",
       "24095            2.2.2     2  \n",
       "24105              2.1     2  \n",
       "24349              2.1     2  \n",
       "28043        1.2.1.1.2     1  \n",
       "29672            3.2.2     3  "
      ]
     },
     "execution_count": 65,
     "metadata": {},
     "output_type": "execute_result"
    }
   ],
   "source": [
    "isolate_annotation_DF[[(isolate_id in misclassified_isolates_list) for isolate_id in isolate_annotation_DF.isolate_ID]]"
   ]
  },
  {
   "cell_type": "markdown",
   "metadata": {},
   "source": [
    "#### Filter out isolates from pairwise SNP distance matrix & isolate annotation DF"
   ]
  },
  {
   "cell_type": "code",
   "execution_count": 66,
   "metadata": {},
   "outputs": [],
   "source": [
    "misclassified_isolates_filter = np.array([(isolate_id not in misclassified_isolates_list) for isolate_id in isolate_annotation_DF.isolate_ID])\n",
    "\n",
    "#drop isolates from isolate annotation DF\n",
    "isolate_annotation_DF = isolate_annotation_DF[missclassified_isolates_filter]\n",
    "isolate_annotation_DF.reset_index(inplace = True, drop = True)\n",
    "\n",
    "#slice out the rows that correspond to mis-classified isolates\n",
    "pairwise_SNP_dist = pairwise_SNP_dist[misclassified_isolates_filter , :]\n",
    "\n",
    "#slice out the columns that correspond to mis-classified isolates\n",
    "pairwise_SNP_dist = pairwise_SNP_dist[: , misclassified_isolates_filter]"
   ]
  },
  {
   "cell_type": "code",
   "execution_count": 67,
   "metadata": {},
   "outputs": [
    {
     "data": {
      "text/plain": [
       "array([[   0,  606, 1139, ..., 1061,  174,  670],\n",
       "       [ 606,    0, 1124, ..., 1036,  623,  645],\n",
       "       [1139, 1124,    0, ..., 1035, 1152, 1177],\n",
       "       ...,\n",
       "       [1061, 1036, 1035, ...,    0, 1066, 1095],\n",
       "       [ 174,  623, 1152, ..., 1066,    0,  683],\n",
       "       [ 670,  645, 1177, ..., 1095,  683,    0]])"
      ]
     },
     "execution_count": 67,
     "metadata": {},
     "output_type": "execute_result"
    }
   ],
   "source": [
    "pairwise_SNP_dist"
   ]
  },
  {
   "cell_type": "code",
   "execution_count": 68,
   "metadata": {},
   "outputs": [
    {
     "data": {
      "text/plain": [
       "(31414, 31414)"
      ]
     },
     "execution_count": 68,
     "metadata": {},
     "output_type": "execute_result"
    }
   ],
   "source": [
    "np.shape(pairwise_SNP_dist)"
   ]
  },
  {
   "cell_type": "code",
   "execution_count": 69,
   "metadata": {},
   "outputs": [
    {
     "data": {
      "text/html": [
       "<div>\n",
       "<style>\n",
       "    .dataframe thead tr:only-child th {\n",
       "        text-align: right;\n",
       "    }\n",
       "\n",
       "    .dataframe thead th {\n",
       "        text-align: left;\n",
       "    }\n",
       "\n",
       "    .dataframe tbody tr th {\n",
       "        vertical-align: top;\n",
       "    }\n",
       "</style>\n",
       "<table border=\"1\" class=\"dataframe\">\n",
       "  <thead>\n",
       "    <tr style=\"text-align: right;\">\n",
       "      <th></th>\n",
       "      <th>lineage_1</th>\n",
       "      <th>lineage_2</th>\n",
       "      <th>lineage_3</th>\n",
       "      <th>lineage_4</th>\n",
       "      <th>lineage_5</th>\n",
       "      <th>lineage_6</th>\n",
       "      <th>lineage_7</th>\n",
       "      <th>lineage_8</th>\n",
       "      <th>lineage_9</th>\n",
       "      <th>lineage_10</th>\n",
       "      <th>lineage_11</th>\n",
       "      <th>isolate_ID</th>\n",
       "      <th>lineage_call</th>\n",
       "      <th>group</th>\n",
       "    </tr>\n",
       "  </thead>\n",
       "  <tbody>\n",
       "    <tr>\n",
       "      <th>0</th>\n",
       "      <td>4</td>\n",
       "      <td>2</td>\n",
       "      <td>1</td>\n",
       "      <td>2</td>\n",
       "      <td>1</td>\n",
       "      <td>1</td>\n",
       "      <td>i3</td>\n",
       "      <td>1</td>\n",
       "      <td>NaN</td>\n",
       "      <td>NaN</td>\n",
       "      <td>NaN</td>\n",
       "      <td>SAMEA3558733</td>\n",
       "      <td>4.2.1.2.1.1.i3.1</td>\n",
       "      <td>4B</td>\n",
       "    </tr>\n",
       "    <tr>\n",
       "      <th>1</th>\n",
       "      <td>4</td>\n",
       "      <td>2</td>\n",
       "      <td>1</td>\n",
       "      <td>2</td>\n",
       "      <td>2</td>\n",
       "      <td>1</td>\n",
       "      <td>1</td>\n",
       "      <td>NaN</td>\n",
       "      <td>NaN</td>\n",
       "      <td>NaN</td>\n",
       "      <td>NaN</td>\n",
       "      <td>SAMN03648641</td>\n",
       "      <td>4.2.1.2.2.1.1</td>\n",
       "      <td>4B</td>\n",
       "    </tr>\n",
       "    <tr>\n",
       "      <th>2</th>\n",
       "      <td>3</td>\n",
       "      <td>1</td>\n",
       "      <td>1</td>\n",
       "      <td>i1</td>\n",
       "      <td>NaN</td>\n",
       "      <td>NaN</td>\n",
       "      <td>NaN</td>\n",
       "      <td>NaN</td>\n",
       "      <td>NaN</td>\n",
       "      <td>NaN</td>\n",
       "      <td>NaN</td>\n",
       "      <td>SAMN03647419</td>\n",
       "      <td>3.1.1.i1</td>\n",
       "      <td>3</td>\n",
       "    </tr>\n",
       "    <tr>\n",
       "      <th>3</th>\n",
       "      <td>4</td>\n",
       "      <td>2</td>\n",
       "      <td>1</td>\n",
       "      <td>2</td>\n",
       "      <td>1</td>\n",
       "      <td>1</td>\n",
       "      <td>i1</td>\n",
       "      <td>NaN</td>\n",
       "      <td>NaN</td>\n",
       "      <td>NaN</td>\n",
       "      <td>NaN</td>\n",
       "      <td>SAMEA3671418</td>\n",
       "      <td>4.2.1.2.1.1.i1</td>\n",
       "      <td>4B</td>\n",
       "    </tr>\n",
       "    <tr>\n",
       "      <th>4</th>\n",
       "      <td>1</td>\n",
       "      <td>1</td>\n",
       "      <td>1</td>\n",
       "      <td>2</td>\n",
       "      <td>NaN</td>\n",
       "      <td>NaN</td>\n",
       "      <td>NaN</td>\n",
       "      <td>NaN</td>\n",
       "      <td>NaN</td>\n",
       "      <td>NaN</td>\n",
       "      <td>NaN</td>\n",
       "      <td>SAMN07659096</td>\n",
       "      <td>1.1.1.2</td>\n",
       "      <td>1</td>\n",
       "    </tr>\n",
       "  </tbody>\n",
       "</table>\n",
       "</div>"
      ],
      "text/plain": [
       "  lineage_1 lineage_2 lineage_3 lineage_4 lineage_5 lineage_6 lineage_7  \\\n",
       "0         4         2         1         2         1         1        i3   \n",
       "1         4         2         1         2         2         1         1   \n",
       "2         3         1         1        i1       NaN       NaN       NaN   \n",
       "3         4         2         1         2         1         1        i1   \n",
       "4         1         1         1         2       NaN       NaN       NaN   \n",
       "\n",
       "  lineage_8 lineage_9 lineage_10 lineage_11    isolate_ID      lineage_call  \\\n",
       "0         1       NaN        NaN        NaN  SAMEA3558733  4.2.1.2.1.1.i3.1   \n",
       "1       NaN       NaN        NaN        NaN  SAMN03648641     4.2.1.2.2.1.1   \n",
       "2       NaN       NaN        NaN        NaN  SAMN03647419          3.1.1.i1   \n",
       "3       NaN       NaN        NaN        NaN  SAMEA3671418    4.2.1.2.1.1.i1   \n",
       "4       NaN       NaN        NaN        NaN  SAMN07659096           1.1.1.2   \n",
       "\n",
       "  group  \n",
       "0    4B  \n",
       "1    4B  \n",
       "2     3  \n",
       "3    4B  \n",
       "4     1  "
      ]
     },
     "execution_count": 69,
     "metadata": {},
     "output_type": "execute_result"
    }
   ],
   "source": [
    "isolate_annotation_DF.head()"
   ]
  },
  {
   "cell_type": "code",
   "execution_count": 70,
   "metadata": {},
   "outputs": [
    {
     "data": {
      "text/plain": [
       "(31414, 14)"
      ]
     },
     "execution_count": 70,
     "metadata": {},
     "output_type": "execute_result"
    }
   ],
   "source": [
    "np.shape(isolate_annotation_DF)"
   ]
  },
  {
   "cell_type": "markdown",
   "metadata": {},
   "source": [
    "#### Use upper-triangular indices to get non-redundant array of pairwise SNP distances between all isolates"
   ]
  },
  {
   "cell_type": "code",
   "execution_count": 71,
   "metadata": {},
   "outputs": [],
   "source": [
    "num_isolates = np.shape(isolate_annotation_DF)[0]\n",
    "upper_triangle_indices = np.triu_indices(n = num_isolates , k = 1)\n",
    "\n",
    "non_redundant_pairwise_SNP_dist_array = pairwise_SNP_dist[upper_triangle_indices]"
   ]
  },
  {
   "cell_type": "code",
   "execution_count": 72,
   "metadata": {},
   "outputs": [
    {
     "data": {
      "text/plain": [
       "array([ 606, 1139,  406, ..., 1066, 1095,  683])"
      ]
     },
     "execution_count": 72,
     "metadata": {},
     "output_type": "execute_result"
    }
   ],
   "source": [
    "non_redundant_pairwise_SNP_dist_array"
   ]
  },
  {
   "cell_type": "code",
   "execution_count": 73,
   "metadata": {},
   "outputs": [
    {
     "data": {
      "text/plain": [
       "493403991"
      ]
     },
     "execution_count": 73,
     "metadata": {},
     "output_type": "execute_result"
    }
   ],
   "source": [
    "len(non_redundant_pairwise_SNP_dist_array)"
   ]
  },
  {
   "cell_type": "markdown",
   "metadata": {},
   "source": [
    "#### Maximum SNP distance between two isolates?"
   ]
  },
  {
   "cell_type": "code",
   "execution_count": 74,
   "metadata": {
    "scrolled": true
   },
   "outputs": [
    {
     "data": {
      "text/plain": [
       "2165"
      ]
     },
     "execution_count": 74,
     "metadata": {},
     "output_type": "execute_result"
    }
   ],
   "source": [
    "np.max(non_redundant_pairwise_SNP_dist_array) #max SNP distance between isolates"
   ]
  },
  {
   "cell_type": "code",
   "execution_count": 75,
   "metadata": {},
   "outputs": [
    {
     "data": {
      "text/plain": [
       "(array([15234, 29108]), array([29108, 15234]))"
      ]
     },
     "execution_count": 75,
     "metadata": {},
     "output_type": "execute_result"
    }
   ],
   "source": [
    "np.where(pairwise_SNP_dist == 2165)"
   ]
  },
  {
   "cell_type": "code",
   "execution_count": 76,
   "metadata": {},
   "outputs": [
    {
     "data": {
      "text/plain": [
       "lineage_call               6\n",
       "isolate_ID      SAMN02231115\n",
       "Name: 15234, dtype: object"
      ]
     },
     "execution_count": 76,
     "metadata": {},
     "output_type": "execute_result"
    }
   ],
   "source": [
    "isolate_annotation_DF.loc[15234,['lineage_call','isolate_ID']]"
   ]
  },
  {
   "cell_type": "code",
   "execution_count": 77,
   "metadata": {},
   "outputs": [
    {
     "data": {
      "text/plain": [
       "lineage_call       1.1.1.1.1\n",
       "isolate_ID      SAMN07236475\n",
       "Name: 29108, dtype: object"
      ]
     },
     "execution_count": 77,
     "metadata": {},
     "output_type": "execute_result"
    }
   ],
   "source": [
    "isolate_annotation_DF.loc[29108,['lineage_call','isolate_ID']]"
   ]
  },
  {
   "cell_type": "code",
   "execution_count": 78,
   "metadata": {},
   "outputs": [],
   "source": [
    "plt.style.use('ggplot')\n",
    "plt.rcParams['lines.linewidth']=3\n",
    "plt.rcParams['axes.facecolor']='1.0'\n",
    "plt.rcParams['xtick.color']='black'\n",
    "plt.rcParams['ytick.color']='black'\n",
    "plt.rcParams['axes.grid']=True\n",
    "plt.rcParams['axes.edgecolor']='black'\n",
    "plt.rcParams['grid.color']= '1.0'\n",
    "plt.rcParams.update({'font.size': 12})"
   ]
  },
  {
   "cell_type": "code",
   "execution_count": 80,
   "metadata": {},
   "outputs": [
    {
     "data": {
      "image/png": "[encoded data removed]",
      "text/plain": [
       "<Figure size 864x540 with 1 Axes>"
      ]
     },
     "metadata": {},
     "output_type": "display_data"
    }
   ],
   "source": [
    "fig , ax = plt.subplots()\n",
    "\n",
    "#SNP found in isolate denoted with a '1', sum across columns (isolates)\n",
    "n , bins , patches = plt.hist(non_redundant_pairwise_SNP_dist_array , bins = 120 , color = 'k' , rwidth = 1.0 , edgecolor='white', linewidth=1.0)\n",
    "\n",
    "plt.title('Distribution of pairwise SNP distances between 31,414 isolates', fontsize = 14, color = 'k')\n",
    "plt.xlabel('pairwise SNP distance', fontsize = 14, color = 'k')\n",
    "plt.ylabel('number of isolate pairs' , fontsize = 14, color = 'k')\n",
    "\n",
    "ax.spines['right'].set_visible(False)\n",
    "ax.spines['top'].set_visible(False)\n",
    "ax.grid(False)\n",
    "\n",
    "ax.tick_params(labelcolor = 'k')\n",
    "\n",
    "fig = plt.gcf()\n",
    "fig.set_size_inches(12.0, 7.5)\n",
    "fig.tight_layout()\n",
    "\n",
    "plt.tick_params(axis='y', which='major', labelsize=12 , labelcolor = 'k')\n",
    "plt.tick_params(axis='x', which='major', labelsize=12 , labelcolor = 'k')\n",
    "\n",
    "file_name = '/n/data1/hms/dbmi/farhat/Roger/homoplasy_project/Figures/lab_meeting_12_12_19/pairwise_SNP_distance/distribution_of_pairwise_SNP_distances.png'\n",
    "#plt.savefig(file_name, bbox_inches='tight', dpi = 300 , transparent = True)\n",
    "\n",
    "plt.show()"
   ]
  },
  {
   "cell_type": "markdown",
   "metadata": {},
   "source": [
    "#### Define a function that takes in the (distance matrix), (global lineage i) and (global lineage j) and returns an array of the pairwise SNP distances for all isolate pairs *between* those lineages"
   ]
  },
  {
   "cell_type": "code",
   "execution_count": 81,
   "metadata": {},
   "outputs": [],
   "source": [
    "def SNP_distances_for_pairs_in_lineages(global_lineage_i, global_lineage_j , pairwise_SNP_dist_matrix):\n",
    "    \n",
    "    #get a filter for rows for isolates that belong to specific global lineage i\n",
    "    global_lineage_filter_i = np.array(isolate_annotation_DF.lineage_1 == global_lineage_i)\n",
    "    \n",
    "    #get a filter for columns for isolates that belong to specific global lineage j\n",
    "    global_lineage_filter_j = np.array(isolate_annotation_DF.lineage_1 == global_lineage_j)\n",
    "    \n",
    "    #slice out the rows that correspond to isolates that belong to global lineage i\n",
    "    pairwise_SNP_dist_for_global_lineages = pairwise_SNP_dist[global_lineage_filter_i , :]\n",
    "    \n",
    "    #slice out the columns that correspond to isolates that belong to global lineage j\n",
    "    pairwise_SNP_dist_for_global_lineages = pairwise_SNP_dist_for_global_lineages[: , global_lineage_filter_j]\n",
    "    \n",
    "    #get the indices for the upper triangular portion of the matrix to get non-redundant array of SNP distances\n",
    "    num_isolates_lineage_i = np.shape(pairwise_SNP_dist_for_global_lineages)[0]\n",
    "    num_isolates_lineage_j = np.shape(pairwise_SNP_dist_for_global_lineages)[1]\n",
    "    \n",
    "    upper_triangle_indices = np.triu_indices(n = num_isolates_lineage_i , k = 1 , m = num_isolates_lineage_j)\n",
    "\n",
    "    non_redundant_pairwise_SNP_dist_array = pairwise_SNP_dist_for_global_lineages[upper_triangle_indices]\n",
    "    \n",
    "    return non_redundant_pairwise_SNP_dist_array"
   ]
  },
  {
   "cell_type": "markdown",
   "metadata": {},
   "source": [
    "#### Define a function that creates a histogram of all pairwise SNP distances between two global lineages (lineage i) and (lineage j)"
   ]
  },
  {
   "cell_type": "code",
   "execution_count": 82,
   "metadata": {},
   "outputs": [],
   "source": [
    "def histogram_of_pairwise_distances(global_lineage_i, global_lineage_j):\n",
    "    \n",
    "    #get pairwise SNP distances between all isolates in lienage i and lineage j\n",
    "    non_redundant_pairwise_SNP_dist_array = SNP_distances_for_pairs_in_lineages(global_lineage_i, global_lineage_j, pairwise_SNP_dist)\n",
    "\n",
    "    fig , ax = plt.subplots()\n",
    "\n",
    "    n , bins , patches = plt.hist(non_redundant_pairwise_SNP_dist_array , bins = 90 , color = 'k' , rwidth = 1.0 , edgecolor='white', linewidth=1.0)\n",
    "\n",
    "    plt.title('Distribution of pairwise SNP distances between Lineages ' + global_lineage_i + ' and ' + global_lineage_j, fontsize = 12, color = 'k')\n",
    "    plt.xlabel('pairwise SNP distance', fontsize = 12, color = 'k')\n",
    "    plt.ylabel('number of isolate pairs' , fontsize = 12, color = 'k')\n",
    "\n",
    "    ax.spines['right'].set_visible(False)\n",
    "    ax.spines['top'].set_visible(False)\n",
    "    ax.grid(False)\n",
    "\n",
    "    ax.tick_params(labelcolor = 'k')\n",
    "\n",
    "    fig = plt.gcf()\n",
    "    fig.set_size_inches(9.0, 5.25)\n",
    "    fig.tight_layout()\n",
    "\n",
    "    plt.tick_params(axis='y', which='major', labelsize=12 , labelcolor = 'k')\n",
    "    plt.tick_params(axis='x', which='major', labelsize=12 , labelcolor = 'k')\n",
    "\n",
    "    plt.show()"
   ]
  },
  {
   "cell_type": "code",
   "execution_count": 83,
   "metadata": {},
   "outputs": [
    {
     "data": {
      "image/png": "[encoded data removed]",
      "text/plain": [
       "<Figure size 648x378 with 1 Axes>"
      ]
     },
     "metadata": {},
     "output_type": "display_data"
    }
   ],
   "source": [
    "histogram_of_pairwise_distances('1', '4')"
   ]
  },
  {
   "cell_type": "markdown",
   "metadata": {},
   "source": [
    "### Within-Lineage variation"
   ]
  },
  {
   "cell_type": "code",
   "execution_count": 92,
   "metadata": {},
   "outputs": [],
   "source": [
    "from pylab import plot, show, savefig, xlim, figure, hold, ylim, legend, boxplot, setp, axes\n",
    "\n",
    "linewidth_for_box = 2.5\n",
    "\n",
    "# function for setting the colors of the box plots pairs\n",
    "def setBoxColors(bp , color):\n",
    "    setp(bp['boxes'][0], color=color , linewidth = linewidth_for_box)\n",
    "    setp(bp['caps'][0], color=color , linewidth = linewidth_for_box)\n",
    "    setp(bp['caps'][1], color=color , linewidth = linewidth_for_box)\n",
    "    setp(bp['whiskers'][0], color=color , linewidth = linewidth_for_box)\n",
    "    setp(bp['whiskers'][1], color=color , linewidth = linewidth_for_box)\n",
    "    setp(bp['fliers'][0], color=color)\n",
    "    setp(bp['medians'][0], color='k' , linewidth = 2.0)\n",
    "    bp['fliers'][0].set_markerfacecolor('white')\n",
    "    bp['fliers'][0].set_markeredgewidth(0.4)\n",
    "    bp['fliers'][0].set_markersize(6.0)\n",
    "    bp['fliers'][0].set_markeredgecolor('k')\n",
    "    bp['fliers'][0].set_alpha(0.7)\n",
    "    \n",
    "def plot_num_SNP_distances_btwn_lineages(pairwise_SNP_dist , global_lineage_i , global_lineage_j , color , x_pos):\n",
    "    \n",
    "    #make boxplot\n",
    "    pairwise_SNP_distances = SNP_distances_for_pairs_in_lineages(global_lineage_i, global_lineage_j , pairwise_SNP_dist)\n",
    "    median_pairwise_SNP_distance = np.median(pairwise_SNP_distances) #get median\n",
    "    bp = boxplot(pairwise_SNP_distances , positions = [ind[x_pos]], widths = box_width)\n",
    "    setBoxColors(bp , color)\n",
    "    \n",
    "    return [len(pairwise_SNP_distances) , int(median_pairwise_SNP_distance)]"
   ]
  },
  {
   "cell_type": "code",
   "execution_count": 94,
   "metadata": {},
   "outputs": [
    {
     "data": {
      "image/png": "[encoded data removed]",
      "text/plain": [
       "<Figure size 864x576 with 1 Axes>"
      ]
     },
     "metadata": {},
     "output_type": "display_data"
    }
   ],
   "source": [
    "box_width = 0.8\n",
    "ind = [1,2,3,4,5,6]\n",
    "lineage_pairs = [['1','1'] , ['2','2'] , ['3','3'] , ['4','4'] , ['5','5'] , ['6','6']]\n",
    "\n",
    "fig = plt.figure(1, figsize=(12, 8.0))\n",
    "ax = axes()\n",
    "\n",
    "num_isolate_pairs_list = []\n",
    "median_pairwise_SNP_dist_list = []\n",
    "x_pos = 0\n",
    "for lineage_pair , color in zip( lineage_pairs , ['xkcd:dark pink', 'xkcd:blue', 'xkcd:dark purple', 'xkcd:red', 'xkcd:brown', 'xkcd:green'] ):\n",
    "    \n",
    "    #plot boxplot for lineage & store the number of isolates in sample\n",
    "    num_isolate_pairs_compared , median_pairwise_SNP_dist = plot_num_SNP_distances_btwn_lineages(pairwise_SNP_dist , lineage_pair[0] , lineage_pair[1] , color , x_pos)\n",
    "    num_isolate_pairs_list.append( num_isolate_pairs_compared )\n",
    "    median_pairwise_SNP_dist_list.append( median_pairwise_SNP_dist )\n",
    "    x_pos += 1\n",
    "\n",
    "#x-axis\n",
    "xlim(0.25 , 6.75)\n",
    "\n",
    "ax.set_xticks(ind)\n",
    "ax.set_xticklabels([], rotation='horizontal', fontsize = 6)\n",
    "x_labels = ['Lineage ' + lineage[0] + '\\n (N=' + str(num_isolates) + ')' + '\\n (Median=' + str(median_dist) + ')' for lineage , num_isolates , median_dist in zip( lineage_pairs , num_isolate_pairs_list , median_pairwise_SNP_dist_list)]\n",
    "ax.set_xticklabels(x_labels, rotation='horizontal', fontsize = 13)\n",
    "ax.set_xlabel('')\n",
    "ax.grid(False)\n",
    "\n",
    "ax.spines['right'].set_visible(False)\n",
    "ax.spines['top'].set_visible(False)\n",
    "\n",
    "plt.title('within-lineage pairwise SNP distances')\n",
    "\n",
    "#label y-axis\n",
    "fig.text(0.0, 0.53, 'pairwise SNP distance' ,  ha='center', va='center', rotation=90, fontsize = 13 , color = 'k')\n",
    "\n",
    "fig = plt.gcf()\n",
    "fig.tight_layout()\n",
    "\n",
    "plt.tick_params(\n",
    "    axis='x',          # changes apply to the x-axis\n",
    "    which='both',      # both major and minor ticks are affected\n",
    "    bottom='off',      # ticks along the bottom edge are off\n",
    "    top='off',         # ticks along the top edge are off\n",
    "    labelbottom='on') # labels along the bottom edge are off\n",
    "\n",
    "plt.tick_params(\n",
    "    axis='y',          # changes apply to the x-axis\n",
    "    which='both',      # both major and minor ticks are affected\n",
    "    left='off',      # ticks along the bottom edge are off\n",
    "    right='off',         # ticks along the top edge are off\n",
    "    labelleft='on') # labels along the bottom edge are off\n",
    "\n",
    "file_name = '/n/data1/hms/dbmi/farhat/Roger/homoplasy_project/Figures/lab_meeting_12_12_19/pairwise_SNP_distance/within_global_lineage_pairwise_SNP_distances.png'\n",
    "#plt.savefig(file_name, bbox_inches='tight', dpi = 300 , transparent = True)\n",
    "\n",
    "plt.show()"
   ]
  },
  {
   "cell_type": "code",
   "execution_count": null,
   "metadata": {},
   "outputs": [],
   "source": []
  },
  {
   "cell_type": "code",
   "execution_count": null,
   "metadata": {},
   "outputs": [],
   "source": []
  }
 ],
 "metadata": {
  "kernelspec": {
   "display_name": "Python [conda env:root] *",
   "language": "python",
   "name": "conda-root-py"
  },
  "language_info": {
   "codemirror_mode": {
    "name": "ipython",
    "version": 3
   },
   "file_extension": ".py",
   "mimetype": "text/x-python",
   "name": "python",
   "nbconvert_exporter": "python",
   "pygments_lexer": "ipython3",
   "version": "3.10.9"
  }
 },
 "nbformat": 4,
 "nbformat_minor": 4
}
