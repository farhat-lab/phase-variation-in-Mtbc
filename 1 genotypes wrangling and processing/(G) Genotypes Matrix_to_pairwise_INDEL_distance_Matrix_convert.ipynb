{
 "cells": [
  {
   "cell_type": "code",
   "execution_count": 1,
   "metadata": {},
   "outputs": [
    {
     "data": {
      "text/html": [
       "<style>.container { width:100% !important; }</style>"
      ],
      "text/plain": [
       "<IPython.core.display.HTML object>"
      ]
     },
     "metadata": {},
     "output_type": "display_data"
    }
   ],
   "source": [
    "from IPython.core.display import display, HTML\n",
    "display(HTML(\"<style>.container { width:100% !important; }</style>\"))"
   ]
  },
  {
   "cell_type": "markdown",
   "metadata": {},
   "source": [
    "### This notebook was created to (1) convert the genotypes matrix for all isolates into a pairwise SNP distance matrix and (2) compare the SNP differences *within* and *between* lineages"
   ]
  },
  {
   "cell_type": "code",
   "execution_count": 2,
   "metadata": {},
   "outputs": [],
   "source": [
    "import vcf\n",
    "\n",
    "%matplotlib inline\n",
    "import os\n",
    "import pandas as pd\n",
    "import numpy as np\n",
    "import matplotlib.pyplot as plt\n",
    "import matplotlib as mpl\n",
    "import matplotlib.ticker as ticker\n",
    "from itertools import compress\n",
    "from pylab import MaxNLocator\n",
    "import seaborn as sns; sns.set()\n",
    "from matplotlib.colors import LogNorm\n",
    "from matplotlib import gridspec\n",
    "import ast\n",
    "import itertools\n",
    "import seaborn as sns\n",
    "from sklearn.preprocessing import StandardScaler\n",
    "\n",
    "import fastcluster\n",
    "from sklearn import cluster, datasets\n",
    "import scipy.cluster.hierarchy as hier\n",
    "from sklearn.cluster import KMeans\n",
    "import time\n",
    "import sys\n",
    "\n",
    "import Bio\n",
    "from Bio.Alphabet import IUPAC\n",
    "from Bio.Blast.Applications import NcbiblastnCommandline\n",
    "from Bio.Blast import NCBIXML\n",
    "from Bio.Seq import Seq\n",
    "from Bio.SeqRecord import SeqRecord\n",
    "from Bio.SeqFeature import SeqFeature, FeatureLocation\n",
    "from Bio import pairwise2\n",
    "from Bio import SeqIO\n",
    "from Bio.Graphics import GenomeDiagram\n",
    "from Bio.SeqUtils import GC\n",
    "from Bio import Phylo\n",
    "\n",
    "from Bio.Align.Applications import MuscleCommandline\n",
    "from StringIO import StringIO\n",
    "from Bio import AlignIO\n",
    "from Bio.Align import AlignInfo\n",
    "from Bio.Seq import MutableSeq\n",
    "import itertools\n",
    "import gzip\n",
    "from scipy.sparse import csr_matrix\n",
    "\n",
    "import networkx as nx\n",
    "import scipy\n",
    "from collections import Counter\n",
    "from itertools import groupby\n",
    "from operator import itemgetter\n",
    "import numpy.ma as ma\n",
    "import time"
   ]
  },
  {
   "cell_type": "markdown",
   "metadata": {},
   "source": [
    "####################################################################################################################################################################################"
   ]
  },
  {
   "cell_type": "markdown",
   "metadata": {},
   "source": [
    "## [1] Break up the Genotypes Matrix into several by seperating the isolates into different groups and slicing vertically on the columns"
   ]
  },
  {
   "cell_type": "markdown",
   "metadata": {},
   "source": [
    "####################################################################################################################################################################################"
   ]
  },
  {
   "cell_type": "code",
   "execution_count": 5,
   "metadata": {},
   "outputs": [],
   "source": [
    "#load Genotypes Matrix\n",
    "genotypes_array =  np.load('/n/data1/hms/dbmi/farhat/Roger/homoplasy_project/rolling_DB_scrape_indels/Genotypes_Filtered_2/genotypes_matrix.npy')"
   ]
  },
  {
   "cell_type": "code",
   "execution_count": 6,
   "metadata": {},
   "outputs": [
    {
     "data": {
      "text/plain": [
       "array([[0, 0, 0, ..., 0, 0, 0],\n",
       "       [0, 0, 0, ..., 0, 0, 0],\n",
       "       [0, 0, 0, ..., 0, 0, 0],\n",
       "       ...,\n",
       "       [0, 0, 0, ..., 0, 0, 0],\n",
       "       [0, 0, 0, ..., 0, 0, 0],\n",
       "       [0, 0, 0, ..., 0, 0, 0]], dtype=int8)"
      ]
     },
     "execution_count": 6,
     "metadata": {},
     "output_type": "execute_result"
    }
   ],
   "source": [
    "genotypes_array"
   ]
  },
  {
   "cell_type": "code",
   "execution_count": 7,
   "metadata": {},
   "outputs": [
    {
     "data": {
      "text/plain": [
       "(47425, 31428)"
      ]
     },
     "execution_count": 7,
     "metadata": {},
     "output_type": "execute_result"
    }
   ],
   "source": [
    "np.shape(genotypes_array) #47,425 INDELs & 31,428 isolates"
   ]
  },
  {
   "cell_type": "markdown",
   "metadata": {},
   "source": [
    "#### Specify the number of groups you're going to break genotypes matrix into & get the boundaries (indices) that break up the columns correspondingly"
   ]
  },
  {
   "cell_type": "code",
   "execution_count": 9,
   "metadata": {},
   "outputs": [],
   "source": [
    "num_isolate_groups = 5"
   ]
  },
  {
   "cell_type": "code",
   "execution_count": 10,
   "metadata": {},
   "outputs": [],
   "source": [
    "num_isolates = np.shape(genotypes_array)[1]\n",
    "\n",
    "#get the indices for the boundaries for the isolate groups\n",
    "num_isolates_per_group = int( np.floor(float(num_isolates) / float(num_isolate_groups)) ) - 1\n",
    "remainder_isolates = num_isolates % num_isolate_groups\n",
    "\n",
    "isolate_index_boundaries_dict = {}\n",
    "first_index = 0\n",
    "for isolate_group in range(1 , num_isolate_groups+1):\n",
    "    \n",
    "    #if last isolate group, also add the remainder isolates\n",
    "    if isolate_group != num_isolate_groups:\n",
    "        isolate_index_boundaries_dict[str(isolate_group)] = [first_index , first_index + num_isolates_per_group]\n",
    "        \n",
    "    elif isolate_group == num_isolate_groups:\n",
    "        isolate_index_boundaries_dict[str(isolate_group)] = [first_index , first_index + num_isolates_per_group + remainder_isolates]\n",
    "        \n",
    "    first_index = first_index + num_isolates_per_group + 1\n",
    "    \n",
    "isolate_index_boundaries_series = pd.Series(isolate_index_boundaries_dict)"
   ]
  },
  {
   "cell_type": "code",
   "execution_count": 11,
   "metadata": {},
   "outputs": [
    {
     "data": {
      "text/plain": [
       "1         [0, 6284]\n",
       "2     [6285, 12569]\n",
       "3    [12570, 18854]\n",
       "4    [18855, 25139]\n",
       "5    [25140, 31427]\n",
       "dtype: object"
      ]
     },
     "execution_count": 11,
     "metadata": {},
     "output_type": "execute_result"
    }
   ],
   "source": [
    "isolate_index_boundaries_series"
   ]
  },
  {
   "cell_type": "markdown",
   "metadata": {},
   "source": [
    "#### Split the genotypes matrix vertically according to the boundaries above"
   ]
  },
  {
   "cell_type": "code",
   "execution_count": 12,
   "metadata": {},
   "outputs": [],
   "source": [
    "#save each sub-matrix seperately\n",
    "for isolate_group in isolate_index_boundaries_series.index:\n",
    "    \n",
    "    first_index_for_group , last_index_for_group = isolate_index_boundaries_series[isolate_group]\n",
    "    \n",
    "    genotypes_array_vertical_slice = genotypes_array[: , first_index_for_group:last_index_for_group+1]\n",
    "    \n",
    "    #save as a numpy pickle\n",
    "    np.save('/n/data1/hms/dbmi/farhat/Roger/homoplasy_project/rolling_DB_scrape_indels/Genotypes_Filtered_2/pairwise_distance_matrix/vertically_sliced_genotypes_matrix/genotypes_matrix_' + isolate_group , genotypes_array_vertical_slice , allow_pickle = True)"
   ]
  },
  {
   "cell_type": "markdown",
   "metadata": {},
   "source": [
    "#### Since pairwise *similarity* matrices and pairwise *distance* matrices are symmetric, find out which sub-matrix pairs we have to multiply "
   ]
  },
  {
   "cell_type": "code",
   "execution_count": 13,
   "metadata": {},
   "outputs": [],
   "source": [
    "#this matrix holds the matrix multiplications we have to carry out for the sub-matrices to recover the entire matrix that would result from using the full genotypes matrix in the matrix multiplications\n",
    "submatrix_comparison_array = np.zeros([num_isolate_groups,num_isolate_groups] , dtype = 'object')\n",
    "submatrix_comparison_array.astype(str)\n",
    "\n",
    "for isolate_group_i in isolate_index_boundaries_series.index:\n",
    "    \n",
    "    for isolate_group_j in isolate_index_boundaries_series.index:\n",
    "        \n",
    "        submatrix_comparison_array[int(isolate_group_i)-1 , int(isolate_group_j)-1] = isolate_group_i + 'x' + isolate_group_j"
   ]
  },
  {
   "cell_type": "code",
   "execution_count": 14,
   "metadata": {},
   "outputs": [
    {
     "name": "stdout",
     "output_type": "stream",
     "text": [
      "[['1x1' '1x2' '1x3' '1x4' '1x5']\n",
      " ['2x1' '2x2' '2x3' '2x4' '2x5']\n",
      " ['3x1' '3x2' '3x3' '3x4' '3x5']\n",
      " ['4x1' '4x2' '4x3' '4x4' '4x5']\n",
      " ['5x1' '5x2' '5x3' '5x4' '5x5']]\n"
     ]
    }
   ],
   "source": [
    "print submatrix_comparison_array"
   ]
  },
  {
   "cell_type": "code",
   "execution_count": 15,
   "metadata": {},
   "outputs": [
    {
     "data": {
      "text/plain": [
       "array([['1x1', '1x2', '1x3', '1x4', '1x5'],\n",
       "       ['2x1', '2x2', '2x3', '2x4', '2x5'],\n",
       "       ['3x1', '3x2', '3x3', '3x4', '3x5'],\n",
       "       ['4x1', '4x2', '4x3', '4x4', '4x5'],\n",
       "       ['5x1', '5x2', '5x3', '5x4', '5x5']], dtype=object)"
      ]
     },
     "execution_count": 15,
     "metadata": {},
     "output_type": "execute_result"
    }
   ],
   "source": [
    "submatrix_comparison_array"
   ]
  },
  {
   "cell_type": "markdown",
   "metadata": {},
   "source": [
    "We will carry out the sub-matrix multiplications for the isolate groups in the **upper triangular** part of this matrix"
   ]
  },
  {
   "cell_type": "code",
   "execution_count": 16,
   "metadata": {},
   "outputs": [
    {
     "name": "stdout",
     "output_type": "stream",
     "text": [
      "[['1x1' '1x2' '1x3' '1x4' '1x5']\n",
      " [0 '2x2' '2x3' '2x4' '2x5']\n",
      " [0 0 '3x3' '3x4' '3x5']\n",
      " [0 0 0 '4x4' '4x5']\n",
      " [0 0 0 0 '5x5']]\n"
     ]
    }
   ],
   "source": [
    "print np.triu(submatrix_comparison_array , k = 0)"
   ]
  },
  {
   "cell_type": "code",
   "execution_count": 17,
   "metadata": {},
   "outputs": [],
   "source": [
    "submatrix_multiplication_pairs_to_multiply = np.triu(submatrix_comparison_array , k = 0).flatten()\n",
    "submatrix_multiplication_pairs_to_multiply = submatrix_multiplication_pairs_to_multiply[[type(mult_pair)==str for mult_pair in submatrix_multiplication_pairs_to_multiply]]\n",
    "submatrix_multiplication_pairs_to_multiply = list(submatrix_multiplication_pairs_to_multiply)"
   ]
  },
  {
   "cell_type": "code",
   "execution_count": 18,
   "metadata": {},
   "outputs": [
    {
     "name": "stdout",
     "output_type": "stream",
     "text": [
      "['1x1', '1x2', '1x3', '1x4', '1x5', '2x2', '2x3', '2x4', '2x5', '3x3', '3x4', '3x5', '4x4', '4x5', '5x5']\n"
     ]
    }
   ],
   "source": [
    "print submatrix_multiplication_pairs_to_multiply"
   ]
  },
  {
   "cell_type": "markdown",
   "metadata": {},
   "source": [
    "The sub-matrix multiplications for the isolate groups in the **lower triangular** part of the matrix aren't necessary since\n",
    "$$M_jxM_i = (M_ixM_j)^T$$"
   ]
  },
  {
   "cell_type": "code",
   "execution_count": 19,
   "metadata": {},
   "outputs": [
    {
     "name": "stdout",
     "output_type": "stream",
     "text": [
      "[[0 0 0 0 0]\n",
      " ['2x1' 0 0 0 0]\n",
      " ['3x1' '3x2' 0 0 0]\n",
      " ['4x1' '4x2' '4x3' 0 0]\n",
      " ['5x1' '5x2' '5x3' '5x4' 0]]\n"
     ]
    }
   ],
   "source": [
    "print np.tril(submatrix_comparison_array , k = -1)"
   ]
  },
  {
   "cell_type": "code",
   "execution_count": 20,
   "metadata": {},
   "outputs": [],
   "source": [
    "submatrix_multiplication_pairs_inferrred_from_transposing = np.tril(submatrix_comparison_array , k = -1).flatten()\n",
    "submatrix_multiplication_pairs_inferrred_from_transposing = submatrix_multiplication_pairs_inferrred_from_transposing[[type(mult_pair)==str for mult_pair in submatrix_multiplication_pairs_inferrred_from_transposing]]\n",
    "submatrix_multiplication_pairs_inferrred_from_transposing = list(submatrix_multiplication_pairs_inferrred_from_transposing)"
   ]
  },
  {
   "cell_type": "code",
   "execution_count": 21,
   "metadata": {},
   "outputs": [
    {
     "name": "stdout",
     "output_type": "stream",
     "text": [
      "['2x1', '3x1', '3x2', '4x1', '4x2', '4x3', '5x1', '5x2', '5x3', '5x4']\n"
     ]
    }
   ],
   "source": [
    "print submatrix_multiplication_pairs_inferrred_from_transposing"
   ]
  },
  {
   "cell_type": "markdown",
   "metadata": {},
   "source": [
    "####################################################################################################################################################################################"
   ]
  },
  {
   "cell_type": "markdown",
   "metadata": {},
   "source": [
    "## [2] Create a script to construct the pairwise simililarity matrices (for wt_allele and alt_allele) and also the matrix that contains the number of non-NA sites called for each pair of isolates (NA).\n",
    "\n",
    "### *carry out matrix multiplications on the sub-matrices of the genotypes matrix, split vertically by grouping isolates*"
   ]
  },
  {
   "cell_type": "markdown",
   "metadata": {},
   "source": [
    "####################################################################################################################################################################################"
   ]
  },
  {
   "cell_type": "markdown",
   "metadata": {},
   "source": [
    "### EXPLAIN METHODOLOGY FOR COMPUTING SIMILARITY MATRICES AND SUBTRACTING FROM NUMBER OF GOOD SITES BETWEEN EACH PAIR"
   ]
  },
  {
   "cell_type": "code",
   "execution_count": 22,
   "metadata": {},
   "outputs": [],
   "source": [
    "import numpy as np\n",
    "from scipy.sparse import csr_matrix\n",
    "import sys\n",
    "import timeit"
   ]
  },
  {
   "cell_type": "code",
   "execution_count": 119,
   "metadata": {},
   "outputs": [],
   "source": [
    "#INPUT - condition that turns Genotypes Array into a Boolean (one of five options) ['A','C','G','T','not_NaN']\n",
    "genotypes_bool_condition = 'wt_allele'\n",
    "\n",
    "#INPUT - which pair of sub-matrices (vertically sliced from full genoyptes matrix) to multiply (A x B^T)\n",
    "genotypes_submatrix_A = '1'\n",
    "genotypes_submatrix_B = '3'"
   ]
  },
  {
   "cell_type": "markdown",
   "metadata": {},
   "source": [
    "#### Check runtime of matrix multiplication to see if runtime is reasonable for the different kinds of binary sub-matrices (A-T are the most sparse while not-NaN are the least sparse)"
   ]
  },
  {
   "cell_type": "code",
   "execution_count": 25,
   "metadata": {},
   "outputs": [],
   "source": [
    "###########################################################################################################\n",
    "#necessary setup to test matrix multiplication\n",
    "code_to_setup = \"\"\"\n",
    "import numpy as np\n",
    "from scipy.sparse import csr_matrix\n",
    "import sys\n",
    "import timeit\n",
    "\n",
    "#load Genotypes Sub-Matrices (pick submatrix 2 & submatrix 4 as an example)\n",
    "genotypes_array_A =  np.load('/n/data1/hms/dbmi/farhat/Roger/homoplasy_project/rolling_DB_scrape_indels/Genotypes_Filtered_2/pairwise_distance_matrix/vertically_sliced_genotypes_matrix/genotypes_matrix_2.npy')\n",
    "genotypes_array_B =  np.load('/n/data1/hms/dbmi/farhat/Roger/homoplasy_project/rolling_DB_scrape_indels/Genotypes_Filtered_2/pairwise_distance_matrix/vertically_sliced_genotypes_matrix/genotypes_matrix_4.npy')\n",
    "\n",
    "#subset to 64 isolates for runtime check\n",
    "genotypes_array_A = genotypes_array_A[: , 0:64]\n",
    "genotypes_array_B = genotypes_array_B[: , 0:64]\n",
    "\n",
    "#convert genotypes matrix A to it's tranpose so that Rows:isolates , Columns:SNP sites to set up for matrix multiplication of (isolate pair i) <-> (isolate pair j) against genotypes matrix B where Rows:SNP sites , Columns:isolates\n",
    "genotypes_array_A = genotypes_array_A.T\n",
    "\n",
    "#convert genotypes arrays into a boolean (then to a binary matrix) based off of some condition\n",
    "Geno_bool_A = genotypes_array_A != 9\n",
    "Geno_bool_B = genotypes_array_B != 9\n",
    "\n",
    "#delete Genotypes Matrices from memory\n",
    "del genotypes_array_A\n",
    "del genotypes_array_B\n",
    "    \n",
    "#convert boolean matrices into a binary matrix to prep for matrix multiplication\n",
    "Geno_bool_A = Geno_bool_A.astype(int)\n",
    "Geno_bool_B = Geno_bool_B.astype(int)\n",
    "\n",
    "#convert binary matrix to a scipy sparse matrix to improve multiplication runtime\n",
    "Geno_bool_A = csr_matrix(Geno_bool_A)\n",
    "Geno_bool_B = csr_matrix(Geno_bool_B)\n",
    "\"\"\"\n",
    "\n",
    "#test runtime of matrix multiplication \n",
    "code_to_test = \"\"\"\n",
    "#compute similarity matrix by multiplying Genotypes binary matrix for submatrix A by the Genotypes binary matrix for submatrix B\n",
    "Sim_matrix = Geno_bool_A.dot(Geno_bool_B).toarray()\"\"\"\n",
    "\n",
    "#test the matrix multiplication 3 times and take the average\n",
    "avg_time_to_multiply_not_NaN = timeit.timeit(setup = code_to_setup , stmt = code_to_test, number = 3) / 3.0\n",
    "###########################################################################################################"
   ]
  },
  {
   "cell_type": "markdown",
   "metadata": {},
   "source": [
    "Trial Run *1*"
   ]
  },
  {
   "cell_type": "code",
   "execution_count": 24,
   "metadata": {},
   "outputs": [
    {
     "data": {
      "text/plain": [
       "0.6042970021565756"
      ]
     },
     "execution_count": 24,
     "metadata": {},
     "output_type": "execute_result"
    }
   ],
   "source": [
    "avg_time_to_multiply_not_NaN"
   ]
  },
  {
   "cell_type": "markdown",
   "metadata": {},
   "source": [
    "Trial Run *2*"
   ]
  },
  {
   "cell_type": "code",
   "execution_count": 26,
   "metadata": {},
   "outputs": [
    {
     "data": {
      "text/plain": [
       "0.5160907109578451"
      ]
     },
     "execution_count": 26,
     "metadata": {},
     "output_type": "execute_result"
    }
   ],
   "source": [
    "avg_time_to_multiply_not_NaN"
   ]
  },
  {
   "cell_type": "markdown",
   "metadata": {},
   "source": [
    "#### If runtime for this login-node is good, go through with matrix multiplication, otherwise abort"
   ]
  },
  {
   "cell_type": "code",
   "execution_count": 19,
   "metadata": {},
   "outputs": [],
   "source": [
    "#avg time to multiply is stored in seconds, want to make sure that the matrix multiplication for 32 isolates is reasonable\n",
    "if avg_time_to_multiply_not_NaN <= 1.0:\n",
    "\n",
    "    #load Genotypes Sub-Matrices\n",
    "    genotypes_array_A =  np.load('/n/data1/hms/dbmi/farhat/Roger/homoplasy_project/rolling_DB_scrape_indels/Genotypes_Filtered_2/pairwise_distance_matrix/vertically_sliced_genotypes_matrix/genotypes_matrix_{0}.npy'.format(genotypes_submatrix_A))\n",
    "    genotypes_array_B =  np.load('/n/data1/hms/dbmi/farhat/Roger/homoplasy_project/rolling_DB_scrape_indels/Genotypes_Filtered_2/pairwise_distance_matrix/vertically_sliced_genotypes_matrix/genotypes_matrix_{0}.npy'.format(genotypes_submatrix_B))\n",
    "\n",
    "    #convert genotypes matrix A to it's tranpose so that Rows:isolates , Columns:SNP sites to set up for matrix multiplication of (isolate pair i) <-> (isolate pair j) against genotypes matrix B where Rows:SNP sites , Columns:isolates\n",
    "    genotypes_array_A = genotypes_array_A.T \n",
    "\n",
    "    #convert genotypes arrays into a boolean (then to a binary matrix) based off of some condition\n",
    "    if genotypes_bool_condition == 'wt_allele':\n",
    "        Geno_bool_A = genotypes_array_A == 0\n",
    "        Geno_bool_B = genotypes_array_B == 0\n",
    "\n",
    "    elif genotypes_bool_condition == 'alt_allele':\n",
    "        Geno_bool_A = genotypes_array_A == 1\n",
    "        Geno_bool_B = genotypes_array_B == 1\n",
    "\n",
    "    elif genotypes_bool_condition == 'not_NaN':\n",
    "        Geno_bool_A = genotypes_array_A != 9\n",
    "        Geno_bool_B = genotypes_array_B != 9\n",
    "\n",
    "    #delete Genotypes Matrices from memory\n",
    "    del genotypes_array_A\n",
    "    del genotypes_array_B\n",
    "\n",
    "    #convert boolean matrices into a binary matrix to prep for matrix multiplication\n",
    "    Geno_bool_A = Geno_bool_A.astype(int)\n",
    "    Geno_bool_B = Geno_bool_B.astype(int)\n",
    "\n",
    "    #convert binary matrix to a scipy sparse matrix to improve multiplication runtime\n",
    "    Geno_bool_A = csr_matrix(Geno_bool_A)\n",
    "    Geno_bool_B = csr_matrix(Geno_bool_B)\n",
    "\n",
    "    #compute similarity matrix by multiplying Genotypes binary matrix for submatrix A by the Genotypes binary matrix for submatrix B\n",
    "    Sim_matrix = Geno_bool_A.dot(Geno_bool_B).toarray()\n",
    "\n",
    "    #save similarity matrix constructed from multipltying binary genotypes matrix with its transpose\n",
    "    np.save('/n/data1/hms/dbmi/farhat/Roger/homoplasy_project/rolling_DB_scrape_indels/Genotypes_Filtered_2/pairwise_distance_matrix/similarity_matrix_{0}/sim_matrix_from_submatrices_{1}_x_{2}'.format(genotypes_bool_condition, genotypes_submatrix_A, genotypes_submatrix_B), Sim_matrix , allow_pickle = True)\n",
    "    \n",
    "else:\n",
    "    \n",
    "    print('aborted because runtime is too long for this node!')\n",
    "    print('Average time to multiply not-NaN = ' + str(avg_time_to_multiply_not_NaN))"
   ]
  },
  {
   "cell_type": "markdown",
   "metadata": {},
   "source": [
    "####################################################################################################################################################################################"
   ]
  },
  {
   "cell_type": "markdown",
   "metadata": {},
   "source": [
    "## [3] Use script above to submit the submatrix computations of for all 5 similiarity matrices as separate jobs, $n \\times n - {n \\choose 2} = 5 \\times 5 - {5 \\choose 2} = 15$ submatrix products per similarity matrix "
   ]
  },
  {
   "cell_type": "markdown",
   "metadata": {},
   "source": [
    "####################################################################################################################################################################################"
   ]
  },
  {
   "cell_type": "code",
   "execution_count": 29,
   "metadata": {},
   "outputs": [],
   "source": [
    "from slurmpy import Slurm\n",
    "import os"
   ]
  },
  {
   "cell_type": "code",
   "execution_count": 30,
   "metadata": {},
   "outputs": [],
   "source": [
    "submatrix_multiplication_pairs_to_multiply = ['1x1', '1x2', '1x3', '1x4', '1x5', '2x2', '2x3', '2x4', '2x5', '3x3', '3x4', '3x5', '4x4', '4x5', '5x5']"
   ]
  },
  {
   "cell_type": "markdown",
   "metadata": {},
   "source": [
    "### Function to submit jobs for matrix multiplication"
   ]
  },
  {
   "cell_type": "code",
   "execution_count": 31,
   "metadata": {},
   "outputs": [],
   "source": [
    "def submatrix_multiplication_job_submit(genotypes_bool_condition, genotypes_submatrix_A, genotypes_submatrix_B):\n",
    "\n",
    "    sim_matrix_mult_job = 'python /home/rv76/Farhat_Lab/Python_Scripts/homoplasy_project/similarity_matrix_computation_INDELS_1.py ' + genotypes_bool_condition + ' ' + genotypes_submatrix_A + ' ' + genotypes_submatrix_B\n",
    "\n",
    "    #directory where you want output + error files\n",
    "    os.chdir('/n/data1/hms/dbmi/farhat/Roger/homoplasy_project/rolling_DB_scrape_indels/Genotypes_Filtered_2/pairwise_distance_matrix/similarity_matrix_computation_jobs/')\n",
    "\n",
    "    job_name = 'Sim_{0}_{1}_{2}'.format(genotypes_bool_condition, genotypes_submatrix_A, genotypes_submatrix_B)\n",
    "\n",
    "    #non NaN similarity matrices require more memory & time since they are the least sparse\n",
    "    if genotypes_bool_condition == 'alt_allele': \n",
    "        s = Slurm(job_name , {'partition':'short' , 'N':'1' , 'account':'farhat' , 'time':'0-00:30:00' , 'mem':'64G' , 'mail-type':'FAIL' , 'mail-user':'roger_vargas@g.harvard.edu'}) #5 minutes\n",
    "        \n",
    "    elif genotypes_bool_condition in ['not_NaN','wt_allele']: #60 (OoM)\n",
    "        s = Slurm(job_name , {'partition':'short' , 'N':'1' , 'account':'farhat' , 'time':'0-04:00:00' , 'mem':'64G' , 'mail-type':'FAIL' , 'mail-user':'roger_vargas@g.harvard.edu'}) #4 hours\n",
    "\n",
    "    #submits the job\n",
    "    job_id = s.run(sim_matrix_mult_job)\n",
    "\n",
    "    print job_name  + ' : ' +  str(job_id)"
   ]
  },
  {
   "cell_type": "markdown",
   "metadata": {},
   "source": [
    "#### Similarity Matrix *not NaN*"
   ]
  },
  {
   "cell_type": "code",
   "execution_count": 33,
   "metadata": {
    "scrolled": true
   },
   "outputs": [
    {
     "name": "stderr",
     "output_type": "stream",
     "text": [
      "submitted: Submitted batch job 45795049\n",
      "submitted: Submitted batch job 45795052\n"
     ]
    },
    {
     "name": "stdout",
     "output_type": "stream",
     "text": [
      "Sim_not_NaN_1_1 : 45795049\n",
      "Sim_not_NaN_1_2 : 45795052\n"
     ]
    },
    {
     "name": "stderr",
     "output_type": "stream",
     "text": [
      "submitted: Submitted batch job 45795055\n",
      "submitted: Submitted batch job 45795058\n"
     ]
    },
    {
     "name": "stdout",
     "output_type": "stream",
     "text": [
      "Sim_not_NaN_1_3 : 45795055\n",
      "Sim_not_NaN_1_4 : 45795058\n"
     ]
    },
    {
     "name": "stderr",
     "output_type": "stream",
     "text": [
      "submitted: Submitted batch job 45795061\n",
      "submitted: Submitted batch job 45795064\n"
     ]
    },
    {
     "name": "stdout",
     "output_type": "stream",
     "text": [
      "Sim_not_NaN_1_5 : 45795061\n",
      "Sim_not_NaN_2_2 : 45795064\n"
     ]
    },
    {
     "name": "stderr",
     "output_type": "stream",
     "text": [
      "submitted: Submitted batch job 45795068\n",
      "submitted: Submitted batch job 45795071\n"
     ]
    },
    {
     "name": "stdout",
     "output_type": "stream",
     "text": [
      "Sim_not_NaN_2_3 : 45795068\n",
      "Sim_not_NaN_2_4 : 45795071\n"
     ]
    },
    {
     "name": "stderr",
     "output_type": "stream",
     "text": [
      "submitted: Submitted batch job 45795073\n",
      "submitted: Submitted batch job 45795076\n"
     ]
    },
    {
     "name": "stdout",
     "output_type": "stream",
     "text": [
      "Sim_not_NaN_2_5 : 45795073\n",
      "Sim_not_NaN_3_3 : 45795076\n"
     ]
    },
    {
     "name": "stderr",
     "output_type": "stream",
     "text": [
      "submitted: Submitted batch job 45795079\n",
      "submitted: Submitted batch job 45795081\n"
     ]
    },
    {
     "name": "stdout",
     "output_type": "stream",
     "text": [
      "Sim_not_NaN_3_4 : 45795079\n",
      "Sim_not_NaN_3_5 : 45795081\n"
     ]
    },
    {
     "name": "stderr",
     "output_type": "stream",
     "text": [
      "submitted: Submitted batch job 45795085\n",
      "submitted: Submitted batch job 45795087\n"
     ]
    },
    {
     "name": "stdout",
     "output_type": "stream",
     "text": [
      "Sim_not_NaN_4_4 : 45795085\n",
      "Sim_not_NaN_4_5 : 45795087\n",
      "Sim_not_NaN_5_5 : 45795090\n"
     ]
    },
    {
     "name": "stderr",
     "output_type": "stream",
     "text": [
      "submitted: Submitted batch job 45795090\n"
     ]
    }
   ],
   "source": [
    "genotypes_bool_condition = 'not_NaN'\n",
    "for submatrix_multiplication_pair_i in submatrix_multiplication_pairs_to_multiply:\n",
    "    \n",
    "    genotypes_submatrix_A = submatrix_multiplication_pair_i.split('x')[0]\n",
    "    genotypes_submatrix_B = submatrix_multiplication_pair_i.split('x')[1]\n",
    "    \n",
    "    #check to see if product for submatrix A and submatrix B already exists, if so do not run job for it\n",
    "    if 'sim_matrix_from_submatrices_{0}_x_{1}.npy'.format(genotypes_submatrix_A, genotypes_submatrix_B) not in os.listdir('/n/data1/hms/dbmi/farhat/Roger/homoplasy_project/rolling_DB_scrape_indels/Genotypes_Filtered_2/pairwise_distance_matrix/similarity_matrix_{0}'.format(genotypes_bool_condition)):\n",
    "    \n",
    "        submatrix_multiplication_job_submit(genotypes_bool_condition, genotypes_submatrix_A, genotypes_submatrix_B)"
   ]
  },
  {
   "cell_type": "markdown",
   "metadata": {},
   "source": [
    "#### Similarity Matrix *wt allele*"
   ]
  },
  {
   "cell_type": "code",
   "execution_count": 36,
   "metadata": {
    "scrolled": true
   },
   "outputs": [
    {
     "name": "stderr",
     "output_type": "stream",
     "text": [
      "submitted: Submitted batch job 45795096\n"
     ]
    },
    {
     "name": "stdout",
     "output_type": "stream",
     "text": [
      "Sim_wt_allele_1_1 : 45795096\n"
     ]
    },
    {
     "name": "stderr",
     "output_type": "stream",
     "text": [
      "submitted: Submitted batch job 45795097\n"
     ]
    },
    {
     "name": "stdout",
     "output_type": "stream",
     "text": [
      "Sim_wt_allele_1_2 : 45795097\n"
     ]
    },
    {
     "name": "stderr",
     "output_type": "stream",
     "text": [
      "submitted: Submitted batch job 45795098\n"
     ]
    },
    {
     "name": "stdout",
     "output_type": "stream",
     "text": [
      "Sim_wt_allele_1_3 : 45795098\n"
     ]
    },
    {
     "name": "stderr",
     "output_type": "stream",
     "text": [
      "submitted: Submitted batch job 45795099\n"
     ]
    },
    {
     "name": "stdout",
     "output_type": "stream",
     "text": [
      "Sim_wt_allele_1_4 : 45795099\n"
     ]
    },
    {
     "name": "stderr",
     "output_type": "stream",
     "text": [
      "submitted: Submitted batch job 45795100\n"
     ]
    },
    {
     "name": "stdout",
     "output_type": "stream",
     "text": [
      "Sim_wt_allele_1_5 : 45795100\n"
     ]
    },
    {
     "name": "stderr",
     "output_type": "stream",
     "text": [
      "submitted: Submitted batch job 45795101\n",
      "submitted: Submitted batch job 45795102\n"
     ]
    },
    {
     "name": "stdout",
     "output_type": "stream",
     "text": [
      "Sim_wt_allele_2_2 : 45795101\n",
      "Sim_wt_allele_2_3 : 45795102\n"
     ]
    },
    {
     "name": "stderr",
     "output_type": "stream",
     "text": [
      "submitted: Submitted batch job 45795103\n",
      "submitted: Submitted batch job 45795104\n"
     ]
    },
    {
     "name": "stdout",
     "output_type": "stream",
     "text": [
      "Sim_wt_allele_2_4 : 45795103\n",
      "Sim_wt_allele_2_5 : 45795104\n"
     ]
    },
    {
     "name": "stderr",
     "output_type": "stream",
     "text": [
      "submitted: Submitted batch job 45795105\n",
      "submitted: Submitted batch job 45795106\n"
     ]
    },
    {
     "name": "stdout",
     "output_type": "stream",
     "text": [
      "Sim_wt_allele_3_3 : 45795105\n",
      "Sim_wt_allele_3_4 : 45795106\n"
     ]
    },
    {
     "name": "stderr",
     "output_type": "stream",
     "text": [
      "submitted: Submitted batch job 45795107\n",
      "submitted: Submitted batch job 45795108\n"
     ]
    },
    {
     "name": "stdout",
     "output_type": "stream",
     "text": [
      "Sim_wt_allele_3_5 : 45795107\n",
      "Sim_wt_allele_4_4 : 45795108\n",
      "Sim_wt_allele_4_5 : 45795109\n",
      "Sim_wt_allele_5_5 : 45795110\n"
     ]
    },
    {
     "name": "stderr",
     "output_type": "stream",
     "text": [
      "submitted: Submitted batch job 45795109\n",
      "submitted: Submitted batch job 45795110\n"
     ]
    }
   ],
   "source": [
    "genotypes_bool_condition = 'wt_allele'\n",
    "for submatrix_multiplication_pair_i in submatrix_multiplication_pairs_to_multiply:\n",
    "    \n",
    "    genotypes_submatrix_A = submatrix_multiplication_pair_i.split('x')[0]\n",
    "    genotypes_submatrix_B = submatrix_multiplication_pair_i.split('x')[1]\n",
    "    \n",
    "    #check to see if product for submatrix A and submatrix B already exists, if so do not run job for it\n",
    "    if 'sim_matrix_from_submatrices_{0}_x_{1}.npy'.format(genotypes_submatrix_A, genotypes_submatrix_B) not in os.listdir('/n/data1/hms/dbmi/farhat/Roger/homoplasy_project/rolling_DB_scrape_indels/Genotypes_Filtered_2/pairwise_distance_matrix/similarity_matrix_{0}'.format(genotypes_bool_condition)):\n",
    "    \n",
    "        submatrix_multiplication_job_submit(genotypes_bool_condition, genotypes_submatrix_A, genotypes_submatrix_B)"
   ]
  },
  {
   "cell_type": "markdown",
   "metadata": {},
   "source": [
    "#### Similarity Matrix *alt allele*"
   ]
  },
  {
   "cell_type": "code",
   "execution_count": 32,
   "metadata": {
    "scrolled": true
   },
   "outputs": [
    {
     "name": "stderr",
     "output_type": "stream",
     "text": [
      "submitted: Submitted batch job 45795017\n"
     ]
    },
    {
     "name": "stdout",
     "output_type": "stream",
     "text": [
      "Sim_alt_allele_1_1 : 45795017\n"
     ]
    },
    {
     "name": "stderr",
     "output_type": "stream",
     "text": [
      "submitted: Submitted batch job 45795018\n"
     ]
    },
    {
     "name": "stdout",
     "output_type": "stream",
     "text": [
      "Sim_alt_allele_1_2 : 45795018\n"
     ]
    },
    {
     "name": "stderr",
     "output_type": "stream",
     "text": [
      "submitted: Submitted batch job 45795019\n",
      "submitted: Submitted batch job 45795020\n"
     ]
    },
    {
     "name": "stdout",
     "output_type": "stream",
     "text": [
      "Sim_alt_allele_1_3 : 45795019\n",
      "Sim_alt_allele_1_4 : 45795020\n"
     ]
    },
    {
     "name": "stderr",
     "output_type": "stream",
     "text": [
      "submitted: Submitted batch job 45795021\n",
      "submitted: Submitted batch job 45795022\n"
     ]
    },
    {
     "name": "stdout",
     "output_type": "stream",
     "text": [
      "Sim_alt_allele_1_5 : 45795021\n",
      "Sim_alt_allele_2_2 : 45795022\n"
     ]
    },
    {
     "name": "stderr",
     "output_type": "stream",
     "text": [
      "submitted: Submitted batch job 45795023\n",
      "submitted: Submitted batch job 45795024\n"
     ]
    },
    {
     "name": "stdout",
     "output_type": "stream",
     "text": [
      "Sim_alt_allele_2_3 : 45795023\n",
      "Sim_alt_allele_2_4 : 45795024\n"
     ]
    },
    {
     "name": "stderr",
     "output_type": "stream",
     "text": [
      "submitted: Submitted batch job 45795025\n",
      "submitted: Submitted batch job 45795026\n"
     ]
    },
    {
     "name": "stdout",
     "output_type": "stream",
     "text": [
      "Sim_alt_allele_2_5 : 45795025\n",
      "Sim_alt_allele_3_3 : 45795026\n"
     ]
    },
    {
     "name": "stderr",
     "output_type": "stream",
     "text": [
      "submitted: Submitted batch job 45795027\n",
      "submitted: Submitted batch job 45795028\n"
     ]
    },
    {
     "name": "stdout",
     "output_type": "stream",
     "text": [
      "Sim_alt_allele_3_4 : 45795027\n",
      "Sim_alt_allele_3_5 : 45795028\n"
     ]
    },
    {
     "name": "stderr",
     "output_type": "stream",
     "text": [
      "submitted: Submitted batch job 45795029\n",
      "submitted: Submitted batch job 45795030\n"
     ]
    },
    {
     "name": "stdout",
     "output_type": "stream",
     "text": [
      "Sim_alt_allele_4_4 : 45795029\n",
      "Sim_alt_allele_4_5 : 45795030\n",
      "Sim_alt_allele_5_5 : 45795031\n"
     ]
    },
    {
     "name": "stderr",
     "output_type": "stream",
     "text": [
      "submitted: Submitted batch job 45795031\n"
     ]
    }
   ],
   "source": [
    "genotypes_bool_condition = 'alt_allele'\n",
    "for submatrix_multiplication_pair_i in submatrix_multiplication_pairs_to_multiply:\n",
    "    \n",
    "    genotypes_submatrix_A = submatrix_multiplication_pair_i.split('x')[0]\n",
    "    genotypes_submatrix_B = submatrix_multiplication_pair_i.split('x')[1]\n",
    "    \n",
    "    #check to see if product for submatrix A and submatrix B already exists, if so do not run job for it\n",
    "    if 'sim_matrix_from_submatrices_{0}_x_{1}.npy'.format(genotypes_submatrix_A, genotypes_submatrix_B) not in os.listdir('/n/data1/hms/dbmi/farhat/Roger/homoplasy_project/rolling_DB_scrape_indels/Genotypes_Filtered_2/pairwise_distance_matrix/similarity_matrix_{0}'.format(genotypes_bool_condition)):\n",
    "    \n",
    "        submatrix_multiplication_job_submit(genotypes_bool_condition, genotypes_submatrix_A, genotypes_submatrix_B)"
   ]
  },
  {
   "cell_type": "code",
   "execution_count": null,
   "metadata": {},
   "outputs": [],
   "source": []
  },
  {
   "cell_type": "markdown",
   "metadata": {},
   "source": [
    "####################################################################################################################################################################################"
   ]
  },
  {
   "cell_type": "markdown",
   "metadata": {},
   "source": [
    "## [4] Construct complete Similarity Matrices from sub-matrices"
   ]
  },
  {
   "cell_type": "markdown",
   "metadata": {},
   "source": [
    "####################################################################################################################################################################################"
   ]
  },
  {
   "cell_type": "markdown",
   "metadata": {},
   "source": [
    "The array below lays out how we have to vertically & horizontally stack the sub-matrix products to get the complete similarity matrices"
   ]
  },
  {
   "cell_type": "code",
   "execution_count": 3,
   "metadata": {},
   "outputs": [],
   "source": [
    "submatrix_comparison_array = np.array([['1x1', '1x2', '1x3', '1x4', '1x5'],\n",
    "       ['2x1', '2x2', '2x3', '2x4', '2x5'],\n",
    "       ['3x1', '3x2', '3x3', '3x4', '3x5'],\n",
    "       ['4x1', '4x2', '4x3', '4x4', '4x5'],\n",
    "       ['5x1', '5x2', '5x3', '5x4', '5x5']], dtype=object)"
   ]
  },
  {
   "cell_type": "code",
   "execution_count": 4,
   "metadata": {},
   "outputs": [],
   "source": [
    "#submatrices whose products we have computed\n",
    "submatrix_multiplication_pairs_to_multiply = ['1x1', '1x2', '1x3', '1x4', '1x5', '2x2', '2x3', '2x4', '2x5', '3x3', '3x4', '3x5', '4x4', '4x5', '5x5']\n",
    "\n",
    "#submatrices whose products we will infer from transposing products above\n",
    "submatrix_multplication_pairs_inferrred_from_transposing = ['2x1', '3x1', '3x2', '4x1', '4x2', '4x3', '5x1', '5x2', '5x3', '5x4']"
   ]
  },
  {
   "cell_type": "code",
   "execution_count": 5,
   "metadata": {},
   "outputs": [
    {
     "name": "stdout",
     "output_type": "stream",
     "text": [
      "[['1x1' '1x2' '1x3' '1x4' '1x5']\n",
      " ['2x1' '2x2' '2x3' '2x4' '2x5']\n",
      " ['3x1' '3x2' '3x3' '3x4' '3x5']\n",
      " ['4x1' '4x2' '4x3' '4x4' '4x5']\n",
      " ['5x1' '5x2' '5x3' '5x4' '5x5']]\n"
     ]
    }
   ],
   "source": [
    "print submatrix_comparison_array"
   ]
  },
  {
   "cell_type": "markdown",
   "metadata": {},
   "source": [
    "### Function to construct complete similarity matrices from sub-matrix products"
   ]
  },
  {
   "cell_type": "markdown",
   "metadata": {},
   "source": [
    "Check to make sure all sub-matrix products are in the directory before executing function below to concatenate sub-matrix products"
   ]
  },
  {
   "cell_type": "code",
   "execution_count": 6,
   "metadata": {},
   "outputs": [],
   "source": [
    "def construct_similarity_matrix_from_submatrices(genotypes_bool_condition):\n",
    "    \n",
    "    #stack horizontally first to get rows, then stack these rows vertically\n",
    "    Sim_array_row_chunk_list = []\n",
    "\n",
    "    for row_i in range(0 , np.shape(submatrix_comparison_array)[0]):\n",
    "\n",
    "        row_i_submatrix_array_list = []\n",
    "        for column_j in range(0 , np.shape(submatrix_comparison_array)[1]):\n",
    "\n",
    "            submatrix_ij_label = submatrix_comparison_array[row_i , column_j]\n",
    "\n",
    "            #get the product of the sub-matrices\n",
    "            if submatrix_ij_label in submatrix_multiplication_pairs_to_multiply:\n",
    "\n",
    "                submatrix_ij = np.load('/n/data1/hms/dbmi/farhat/Roger/homoplasy_project/rolling_DB_scrape_indels/Genotypes_Filtered_2/pairwise_distance_matrix/similarity_matrix_{0}/sim_matrix_from_submatrices_{1}_x_{2}.npy'.format(genotypes_bool_condition, submatrix_ij_label.split('x')[0], submatrix_ij_label.split('x')[1]))\n",
    "\n",
    "            elif submatrix_ij_label in submatrix_multplication_pairs_inferrred_from_transposing: \n",
    "\n",
    "                submatrix_ij = np.load('/n/data1/hms/dbmi/farhat/Roger/homoplasy_project/rolling_DB_scrape_indels/Genotypes_Filtered_2/pairwise_distance_matrix/similarity_matrix_{0}/sim_matrix_from_submatrices_{1}_x_{2}.npy'.format(genotypes_bool_condition, submatrix_ij_label.split('x')[1], submatrix_ij_label.split('x')[0]))\n",
    "                submatrix_ij = submatrix_ij.T\n",
    "\n",
    "            #stack the product of these sub-matrices horizontally\n",
    "            row_i_submatrix_array_list.append(submatrix_ij)\n",
    "\n",
    "        row_i_submatrix_array = np.hstack(row_i_submatrix_array_list)\n",
    "        Sim_array_row_chunk_list.append(row_i_submatrix_array)    \n",
    "\n",
    "    #stack each complete row vertically\n",
    "    Sim_array = np.vstack(Sim_array_row_chunk_list)\n",
    "\n",
    "    #save similarity matrix for downstream analysis\n",
    "    np.save('/n/data1/hms/dbmi/farhat/Roger/homoplasy_project/rolling_DB_scrape_indels/Genotypes_Filtered_2/pairwise_distance_matrix/similarity_matrix_{0}/similarity_matrix_{0}'.format(genotypes_bool_condition), Sim_array, allow_pickle = True)"
   ]
  },
  {
   "cell_type": "markdown",
   "metadata": {},
   "source": [
    "#### Similarity Matrix *wt_allele*"
   ]
  },
  {
   "cell_type": "code",
   "execution_count": 7,
   "metadata": {},
   "outputs": [],
   "source": [
    "construct_similarity_matrix_from_submatrices('wt_allele')"
   ]
  },
  {
   "cell_type": "markdown",
   "metadata": {},
   "source": [
    "#### Similarity Matrix *alt_allele*"
   ]
  },
  {
   "cell_type": "code",
   "execution_count": 8,
   "metadata": {},
   "outputs": [],
   "source": [
    "construct_similarity_matrix_from_submatrices('alt_allele')"
   ]
  },
  {
   "cell_type": "markdown",
   "metadata": {},
   "source": [
    "#### Similarity Matrix *not NaN*"
   ]
  },
  {
   "cell_type": "code",
   "execution_count": 9,
   "metadata": {},
   "outputs": [],
   "source": [
    "construct_similarity_matrix_from_submatrices('not_NaN')"
   ]
  },
  {
   "cell_type": "markdown",
   "metadata": {},
   "source": [
    "####################################################################################################################################################################################"
   ]
  },
  {
   "cell_type": "markdown",
   "metadata": {},
   "source": [
    "## [5] Create pairwise SNP distance matrix from genotypes matrix from Similarity Matrices"
   ]
  },
  {
   "cell_type": "markdown",
   "metadata": {},
   "source": [
    "####################################################################################################################################################################################"
   ]
  },
  {
   "cell_type": "code",
   "execution_count": 11,
   "metadata": {},
   "outputs": [],
   "source": [
    "import numpy as np"
   ]
  },
  {
   "cell_type": "markdown",
   "metadata": {},
   "source": [
    "### Load in similiarity matrices for wt_allele, alt_allele & matrix that contains the number of pairwise *good calls* for each pair of isolates."
   ]
  },
  {
   "cell_type": "code",
   "execution_count": 12,
   "metadata": {},
   "outputs": [],
   "source": [
    "Sim_wt_allele_array = np.load('/n/data1/hms/dbmi/farhat/Roger/homoplasy_project/rolling_DB_scrape_indels/Genotypes_Filtered_2/pairwise_distance_matrix/similarity_matrix_wt_allele/similarity_matrix_wt_allele.npy')\n",
    "Sim_alt_allele_array = np.load('/n/data1/hms/dbmi/farhat/Roger/homoplasy_project/rolling_DB_scrape_indels/Genotypes_Filtered_2/pairwise_distance_matrix/similarity_matrix_alt_allele/similarity_matrix_alt_allele.npy')\n",
    "\n",
    "Sim_not_NaN = np.load('/n/data1/hms/dbmi/farhat/Roger/homoplasy_project/rolling_DB_scrape_indels/Genotypes_Filtered_2/pairwise_distance_matrix/similarity_matrix_not_NaN/similarity_matrix_not_NaN.npy')"
   ]
  },
  {
   "cell_type": "markdown",
   "metadata": {},
   "source": [
    "### Use matrices above to compute pairwise distance matrix"
   ]
  },
  {
   "cell_type": "code",
   "execution_count": 13,
   "metadata": {},
   "outputs": [],
   "source": [
    "#add similarity matrices for each allele to get a similarity matrix across all bases\n",
    "Sim_array = Sim_wt_allele_array + Sim_alt_allele_array\n",
    "\n",
    "#subtract similarity matrix from number of sites that had high quality base calls for both isolates to get number of SNPs that each pair of isolates differed by\n",
    "pairwise_INDEL_dist = Sim_not_NaN - Sim_array"
   ]
  },
  {
   "cell_type": "code",
   "execution_count": 14,
   "metadata": {},
   "outputs": [
    {
     "data": {
      "text/plain": [
       "(31428, 31428)"
      ]
     },
     "execution_count": 14,
     "metadata": {},
     "output_type": "execute_result"
    }
   ],
   "source": [
    "np.shape(pairwise_INDEL_dist)"
   ]
  },
  {
   "cell_type": "code",
   "execution_count": 15,
   "metadata": {},
   "outputs": [
    {
     "data": {
      "text/plain": [
       "array([[  0,  87,  17, ..., 120,  85,  10],\n",
       "       [ 87,   0,  93, ..., 105,  42,  85],\n",
       "       [ 17,  93,   0, ..., 116,  91,  20],\n",
       "       ...,\n",
       "       [120, 105, 116, ...,   0, 106, 115],\n",
       "       [ 85,  42,  91, ..., 106,   0,  75],\n",
       "       [ 10,  85,  20, ..., 115,  75,   0]])"
      ]
     },
     "execution_count": 15,
     "metadata": {},
     "output_type": "execute_result"
    }
   ],
   "source": [
    "pairwise_INDEL_dist"
   ]
  },
  {
   "cell_type": "markdown",
   "metadata": {},
   "source": [
    "### Save pairwise INDEL distance matrix"
   ]
  },
  {
   "cell_type": "code",
   "execution_count": 17,
   "metadata": {},
   "outputs": [],
   "source": [
    "np.save('/n/data1/hms/dbmi/farhat/Roger/homoplasy_project/rolling_DB_scrape_indels/Genotypes_Filtered_2/pairwise_distance_matrix/pairwise_INDEL_distance_matrix' , pairwise_INDEL_dist , allow_pickle = True)"
   ]
  },
  {
   "cell_type": "markdown",
   "metadata": {},
   "source": [
    "####################################################################################################################################################################################"
   ]
  },
  {
   "cell_type": "markdown",
   "metadata": {},
   "source": [
    "## [6] Analyze pairwise SNP distance matrix of all isolates"
   ]
  },
  {
   "cell_type": "markdown",
   "metadata": {},
   "source": [
    "####################################################################################################################################################################################"
   ]
  },
  {
   "cell_type": "markdown",
   "metadata": {},
   "source": [
    "#### How to load pairwise INDEL distance matrix & corresponding isolate annotation"
   ]
  },
  {
   "cell_type": "code",
   "execution_count": 3,
   "metadata": {},
   "outputs": [],
   "source": [
    "pairwise_INDEL_dist = np.load('/n/data1/hms/dbmi/farhat/Roger/homoplasy_project/rolling_DB_scrape_indels/Genotypes_Filtered_2/pairwise_distance_matrix/pairwise_INDEL_distance_matrix.npy')"
   ]
  },
  {
   "cell_type": "code",
   "execution_count": 4,
   "metadata": {},
   "outputs": [
    {
     "data": {
      "text/plain": [
       "array([[  0,  87,  17, ..., 120,  85,  10],\n",
       "       [ 87,   0,  93, ..., 105,  42,  85],\n",
       "       [ 17,  93,   0, ..., 116,  91,  20],\n",
       "       ...,\n",
       "       [120, 105, 116, ...,   0, 106, 115],\n",
       "       [ 85,  42,  91, ..., 106,   0,  75],\n",
       "       [ 10,  85,  20, ..., 115,  75,   0]])"
      ]
     },
     "execution_count": 4,
     "metadata": {},
     "output_type": "execute_result"
    }
   ],
   "source": [
    "pairwise_INDEL_dist"
   ]
  },
  {
   "cell_type": "code",
   "execution_count": 5,
   "metadata": {},
   "outputs": [
    {
     "data": {
      "text/plain": [
       "(31428, 31428)"
      ]
     },
     "execution_count": 5,
     "metadata": {},
     "output_type": "execute_result"
    }
   ],
   "source": [
    "np.shape(pairwise_INDEL_dist)"
   ]
  },
  {
   "cell_type": "code",
   "execution_count": 6,
   "metadata": {},
   "outputs": [],
   "source": [
    "isolate_annotation_DF = pd.read_pickle('/n/data1/hms/dbmi/farhat/Roger/homoplasy_project/rolling_DB_scrape_indels/Genotypes_Filtered_2/genotypes_isolate_annotation.pkl')"
   ]
  },
  {
   "cell_type": "code",
   "execution_count": 7,
   "metadata": {},
   "outputs": [
    {
     "data": {
      "text/html": [
       "<div>\n",
       "<style>\n",
       "    .dataframe thead tr:only-child th {\n",
       "        text-align: right;\n",
       "    }\n",
       "\n",
       "    .dataframe thead th {\n",
       "        text-align: left;\n",
       "    }\n",
       "\n",
       "    .dataframe tbody tr th {\n",
       "        vertical-align: top;\n",
       "    }\n",
       "</style>\n",
       "<table border=\"1\" class=\"dataframe\">\n",
       "  <thead>\n",
       "    <tr style=\"text-align: right;\">\n",
       "      <th></th>\n",
       "      <th>isolate_ID</th>\n",
       "      <th>lineage_1</th>\n",
       "      <th>lineage_2</th>\n",
       "      <th>lineage_3</th>\n",
       "      <th>lineage_4</th>\n",
       "      <th>lineage_5</th>\n",
       "      <th>lineage_6</th>\n",
       "      <th>lineage_7</th>\n",
       "      <th>lineage_8</th>\n",
       "      <th>lineage_9</th>\n",
       "      <th>lineage_10</th>\n",
       "      <th>lineage_11</th>\n",
       "      <th>lineage_call</th>\n",
       "      <th>group</th>\n",
       "    </tr>\n",
       "  </thead>\n",
       "  <tbody>\n",
       "    <tr>\n",
       "      <th>0</th>\n",
       "      <td>SAMN13051687</td>\n",
       "      <td>2</td>\n",
       "      <td>2</td>\n",
       "      <td>1</td>\n",
       "      <td>1</td>\n",
       "      <td>1</td>\n",
       "      <td>i3</td>\n",
       "      <td>NaN</td>\n",
       "      <td>NaN</td>\n",
       "      <td>NaN</td>\n",
       "      <td>NaN</td>\n",
       "      <td>NaN</td>\n",
       "      <td>2.2.1.1.1.i3</td>\n",
       "      <td>2</td>\n",
       "    </tr>\n",
       "    <tr>\n",
       "      <th>1</th>\n",
       "      <td>SAMN09100245</td>\n",
       "      <td>4</td>\n",
       "      <td>2</td>\n",
       "      <td>1</td>\n",
       "      <td>2</td>\n",
       "      <td>1</td>\n",
       "      <td>1</td>\n",
       "      <td>i3</td>\n",
       "      <td>2</td>\n",
       "      <td>NaN</td>\n",
       "      <td>NaN</td>\n",
       "      <td>NaN</td>\n",
       "      <td>4.2.1.2.1.1.i3.2</td>\n",
       "      <td>4B</td>\n",
       "    </tr>\n",
       "    <tr>\n",
       "      <th>2</th>\n",
       "      <td>SAMN08732238</td>\n",
       "      <td>2</td>\n",
       "      <td>2</td>\n",
       "      <td>1</td>\n",
       "      <td>1</td>\n",
       "      <td>1</td>\n",
       "      <td>NaN</td>\n",
       "      <td>NaN</td>\n",
       "      <td>NaN</td>\n",
       "      <td>NaN</td>\n",
       "      <td>NaN</td>\n",
       "      <td>NaN</td>\n",
       "      <td>2.2.1.1.1</td>\n",
       "      <td>2</td>\n",
       "    </tr>\n",
       "    <tr>\n",
       "      <th>3</th>\n",
       "      <td>SAMN07658260</td>\n",
       "      <td>3</td>\n",
       "      <td>1</td>\n",
       "      <td>1</td>\n",
       "      <td>NaN</td>\n",
       "      <td>NaN</td>\n",
       "      <td>NaN</td>\n",
       "      <td>NaN</td>\n",
       "      <td>NaN</td>\n",
       "      <td>NaN</td>\n",
       "      <td>NaN</td>\n",
       "      <td>NaN</td>\n",
       "      <td>3.1.1</td>\n",
       "      <td>3</td>\n",
       "    </tr>\n",
       "    <tr>\n",
       "      <th>4</th>\n",
       "      <td>SAMN03648003</td>\n",
       "      <td>2</td>\n",
       "      <td>2</td>\n",
       "      <td>1</td>\n",
       "      <td>1</td>\n",
       "      <td>1</td>\n",
       "      <td>NaN</td>\n",
       "      <td>NaN</td>\n",
       "      <td>NaN</td>\n",
       "      <td>NaN</td>\n",
       "      <td>NaN</td>\n",
       "      <td>NaN</td>\n",
       "      <td>2.2.1.1.1</td>\n",
       "      <td>2</td>\n",
       "    </tr>\n",
       "  </tbody>\n",
       "</table>\n",
       "</div>"
      ],
      "text/plain": [
       "     isolate_ID lineage_1 lineage_2 lineage_3 lineage_4 lineage_5 lineage_6  \\\n",
       "0  SAMN13051687         2         2         1         1         1        i3   \n",
       "1  SAMN09100245         4         2         1         2         1         1   \n",
       "2  SAMN08732238         2         2         1         1         1       NaN   \n",
       "3  SAMN07658260         3         1         1       NaN       NaN       NaN   \n",
       "4  SAMN03648003         2         2         1         1         1       NaN   \n",
       "\n",
       "  lineage_7 lineage_8 lineage_9 lineage_10 lineage_11      lineage_call group  \n",
       "0       NaN       NaN       NaN        NaN        NaN      2.2.1.1.1.i3     2  \n",
       "1        i3         2       NaN        NaN        NaN  4.2.1.2.1.1.i3.2    4B  \n",
       "2       NaN       NaN       NaN        NaN        NaN         2.2.1.1.1     2  \n",
       "3       NaN       NaN       NaN        NaN        NaN             3.1.1     3  \n",
       "4       NaN       NaN       NaN        NaN        NaN         2.2.1.1.1     2  "
      ]
     },
     "execution_count": 7,
     "metadata": {},
     "output_type": "execute_result"
    }
   ],
   "source": [
    "isolate_annotation_DF.head()"
   ]
  },
  {
   "cell_type": "code",
   "execution_count": 8,
   "metadata": {},
   "outputs": [
    {
     "data": {
      "text/plain": [
       "(31428, 14)"
      ]
     },
     "execution_count": 8,
     "metadata": {},
     "output_type": "execute_result"
    }
   ],
   "source": [
    "np.shape(isolate_annotation_DF)"
   ]
  },
  {
   "cell_type": "markdown",
   "metadata": {},
   "source": [
    "#### Use upper-triangular indices to get non-redundant array of pairwise INDEL distances between all isolates"
   ]
  },
  {
   "cell_type": "code",
   "execution_count": 25,
   "metadata": {},
   "outputs": [],
   "source": [
    "num_isolates = np.shape(isolate_annotation_DF)[0]\n",
    "upper_triangle_indices = np.triu_indices(n = num_isolates , k = 1)\n",
    "\n",
    "non_redundant_pairwise_INDEL_dist_array = pairwise_INDEL_dist[upper_triangle_indices]"
   ]
  },
  {
   "cell_type": "code",
   "execution_count": 26,
   "metadata": {},
   "outputs": [
    {
     "data": {
      "text/plain": [
       "array([ 87,  17,  88, ..., 106, 115,  75])"
      ]
     },
     "execution_count": 26,
     "metadata": {},
     "output_type": "execute_result"
    }
   ],
   "source": [
    "non_redundant_pairwise_INDEL_dist_array"
   ]
  },
  {
   "cell_type": "code",
   "execution_count": 27,
   "metadata": {},
   "outputs": [
    {
     "data": {
      "text/plain": [
       "493843878"
      ]
     },
     "execution_count": 27,
     "metadata": {},
     "output_type": "execute_result"
    }
   ],
   "source": [
    "len(non_redundant_pairwise_INDEL_dist_array)"
   ]
  },
  {
   "cell_type": "markdown",
   "metadata": {},
   "source": [
    "#### Maximum INDEL distance between two isolates?"
   ]
  },
  {
   "cell_type": "code",
   "execution_count": 28,
   "metadata": {
    "scrolled": true
   },
   "outputs": [
    {
     "data": {
      "text/plain": [
       "176"
      ]
     },
     "execution_count": 28,
     "metadata": {},
     "output_type": "execute_result"
    }
   ],
   "source": [
    "np.max(non_redundant_pairwise_INDEL_dist_array) #max INDEL distance between isolates"
   ]
  },
  {
   "cell_type": "code",
   "execution_count": 29,
   "metadata": {},
   "outputs": [
    {
     "data": {
      "text/plain": [
       "(array([20251, 22823]), array([22823, 20251]))"
      ]
     },
     "execution_count": 29,
     "metadata": {},
     "output_type": "execute_result"
    }
   ],
   "source": [
    "np.where(pairwise_INDEL_dist == 176)"
   ]
  },
  {
   "cell_type": "code",
   "execution_count": 30,
   "metadata": {},
   "outputs": [
    {
     "data": {
      "text/plain": [
       "lineage_call      4.1.i1.2.1\n",
       "isolate_ID      SAMEA3359387\n",
       "Name: 20251, dtype: object"
      ]
     },
     "execution_count": 30,
     "metadata": {},
     "output_type": "execute_result"
    }
   ],
   "source": [
    "isolate_annotation_DF.loc[20251,['lineage_call','isolate_ID']]"
   ]
  },
  {
   "cell_type": "code",
   "execution_count": 31,
   "metadata": {},
   "outputs": [
    {
     "data": {
      "text/plain": [
       "lineage_call           2.2.1\n",
       "isolate_ID      SAMD00117771\n",
       "Name: 22823, dtype: object"
      ]
     },
     "execution_count": 31,
     "metadata": {},
     "output_type": "execute_result"
    }
   ],
   "source": [
    "isolate_annotation_DF.loc[22823,['lineage_call','isolate_ID']]"
   ]
  },
  {
   "cell_type": "code",
   "execution_count": 32,
   "metadata": {},
   "outputs": [],
   "source": [
    "plt.style.use('ggplot')\n",
    "plt.rcParams['lines.linewidth']=3\n",
    "plt.rcParams['axes.facecolor']='1.0'\n",
    "plt.rcParams['xtick.color']='black'\n",
    "plt.rcParams['ytick.color']='black'\n",
    "plt.rcParams['axes.grid']=True\n",
    "plt.rcParams['axes.edgecolor']='black'\n",
    "plt.rcParams['grid.color']= '1.0'\n",
    "plt.rcParams.update({'font.size': 12})"
   ]
  },
  {
   "cell_type": "code",
   "execution_count": 40,
   "metadata": {},
   "outputs": [
    {
     "data": {
      "image/png": "[encoded data removed]",
      "text/plain": [
       "<Figure size 864x540 with 1 Axes>"
      ]
     },
     "metadata": {},
     "output_type": "display_data"
    }
   ],
   "source": [
    "fig , ax = plt.subplots()\n",
    "\n",
    "#SNP found in isolate denoted with a '1', sum across columns (isolates)\n",
    "n , bins , patches = plt.hist(non_redundant_pairwise_INDEL_dist_array , bins = 175 , color = 'k' , rwidth = 1.0 , edgecolor='white', linewidth=1.0)\n",
    "\n",
    "plt.title('Distribution of pairwise INDEL distances between 31,428 isolates', fontsize = 14, color = 'k')\n",
    "plt.xlabel('pairwise INDEL distance', fontsize = 14, color = 'k')\n",
    "plt.ylabel('number of isolate pairs' , fontsize = 14, color = 'k')\n",
    "\n",
    "ax.spines['right'].set_visible(False)\n",
    "ax.spines['top'].set_visible(False)\n",
    "ax.grid(False)\n",
    "\n",
    "ax.tick_params(labelcolor = 'k')\n",
    "\n",
    "fig = plt.gcf()\n",
    "fig.set_size_inches(12.0, 7.5)\n",
    "fig.tight_layout()\n",
    "\n",
    "plt.tick_params(axis='y', which='major', labelsize=12 , labelcolor = 'k')\n",
    "plt.tick_params(axis='x', which='major', labelsize=12 , labelcolor = 'k')\n",
    "\n",
    "file_name = '/n/data1/hms/dbmi/farhat/Roger/homoplasy_project/Figures/lab_meeting_12_12_19/pairwise_SNP_distance/distribution_of_pairwise_SNP_distances.png'\n",
    "#plt.savefig(file_name, bbox_inches='tight', dpi = 300 , transparent = True)\n",
    "\n",
    "plt.show()"
   ]
  },
  {
   "cell_type": "code",
   "execution_count": 17,
   "metadata": {},
   "outputs": [
    {
     "data": {
      "image/png": "[encoded data removed]",
      "text/plain": [
       "<Figure size 864x540 with 1 Axes>"
      ]
     },
     "metadata": {},
     "output_type": "display_data"
    }
   ],
   "source": []
  },
  {
   "cell_type": "markdown",
   "metadata": {},
   "source": [
    "### Within-Lineage variation"
   ]
  },
  {
   "cell_type": "code",
   "execution_count": 9,
   "metadata": {},
   "outputs": [],
   "source": [
    "from pylab import plot, show, savefig, xlim, figure, hold, ylim, legend, boxplot, setp, axes\n",
    "\n",
    "linewidth_for_box = 2.5\n",
    "\n",
    "# function for setting the colors of the box plots pairs\n",
    "def setBoxColors(bp , color):\n",
    "    setp(bp['boxes'][0], color=color , linewidth = linewidth_for_box)\n",
    "    setp(bp['caps'][0], color=color , linewidth = linewidth_for_box)\n",
    "    setp(bp['caps'][1], color=color , linewidth = linewidth_for_box)\n",
    "    setp(bp['whiskers'][0], color=color , linewidth = linewidth_for_box)\n",
    "    setp(bp['whiskers'][1], color=color , linewidth = linewidth_for_box)\n",
    "    setp(bp['fliers'][0], color=color)\n",
    "    setp(bp['medians'][0], color='k' , linewidth = 2.0)\n",
    "    bp['fliers'][0].set_markerfacecolor('white')\n",
    "    bp['fliers'][0].set_markeredgewidth(0.4)\n",
    "    bp['fliers'][0].set_markersize(6.0)\n",
    "    bp['fliers'][0].set_markeredgecolor('k')\n",
    "    bp['fliers'][0].set_alpha(0.7)\n",
    "    \n",
    "def plot_num_INDEL_distances_btwn_lineages(pairwise_INDEL_dist , global_lineage_i , global_lineage_j , color , x_pos):\n",
    "    \n",
    "    #make boxplot\n",
    "    pairwise_INDEL_distances = INDEL_distances_for_pairs_in_lineages(global_lineage_i, global_lineage_j , pairwise_INDEL_dist)\n",
    "    bp = boxplot(pairwise_INDEL_distances , positions = [ind[x_pos]], widths = box_width)\n",
    "    setBoxColors(bp , color)\n",
    "    \n",
    "    return len(pairwise_INDEL_distances)"
   ]
  },
  {
   "cell_type": "code",
   "execution_count": 48,
   "metadata": {},
   "outputs": [
    {
     "name": "stderr",
     "output_type": "stream",
     "text": [
      "/home/rv76/anaconda2/lib/python2.7/site-packages/matplotlib/cbook/deprecation.py:107: MatplotlibDeprecationWarning: Passing one of 'on', 'true', 'off', 'false' as a boolean is deprecated; use an actual boolean (True/False) instead.\n",
      "  warnings.warn(message, mplDeprecation, stacklevel=1)\n"
     ]
    },
    {
     "data": {
      "image/png": "[encoded data removed]",
      "text/plain": [
       "<Figure size 864x540 with 1 Axes>"
      ]
     },
     "metadata": {},
     "output_type": "display_data"
    }
   ],
   "source": [
    "box_width = 0.8\n",
    "ind = [1,2,3,4,5,6]\n",
    "lineage_pairs = [['1','1'] , ['2','2'] , ['3','3'] , ['4','4'] , ['5','5'] , ['6','6']]\n",
    "\n",
    "fig = plt.figure(1, figsize=(12, 7.5))\n",
    "ax = axes()\n",
    "\n",
    "num_isolate_pairs= []\n",
    "x_pos = 0\n",
    "for lineage_pair , color in zip( lineage_pairs , ['xkcd:dark pink', 'xkcd:blue', 'xkcd:dark purple', 'xkcd:red', 'xkcd:brown', 'xkcd:green'] ):\n",
    "    \n",
    "    #plot boxplot for lineage & store the number of isolates in sample\n",
    "    num_isolate_pairs.append( plot_num_INDEL_distances_btwn_lineages(pairwise_INDEL_dist , lineage_pair[0] , lineage_pair[1] , color , x_pos) )\n",
    "    x_pos += 1\n",
    "\n",
    "#x-axis\n",
    "xlim(0.25 , 6.75)\n",
    "\n",
    "ax.set_xticks(ind)\n",
    "ax.set_xticklabels([], rotation='horizontal', fontsize = 6)\n",
    "x_labels = [lineage[0] + '-' + lineage[1] + '\\n (N=' + str(num_isolates) + ')' for lineage , num_isolates in zip( lineage_pairs , num_isolate_pairs)]\n",
    "ax.set_xticklabels(x_labels, rotation='horizontal', fontsize = 12)\n",
    "ax.set_xlabel('')\n",
    "ax.grid(False)\n",
    "\n",
    "ax.spines['right'].set_visible(False)\n",
    "ax.spines['top'].set_visible(False)\n",
    "\n",
    "plt.title('within-lineage pairwise INDEL distances')\n",
    "\n",
    "#label y-axis\n",
    "fig.text(0.0, 0.53, 'pairwise INDEL distance' ,  ha='center', va='center', rotation=90, fontsize = 12 , color = 'k')\n",
    "\n",
    "fig = plt.gcf()\n",
    "fig.tight_layout()\n",
    "\n",
    "plt.tick_params(\n",
    "    axis='x',          # changes apply to the x-axis\n",
    "    which='both',      # both major and minor ticks are affected\n",
    "    bottom='off',      # ticks along the bottom edge are off\n",
    "    top='off',         # ticks along the top edge are off\n",
    "    labelbottom='on') # labels along the bottom edge are off\n",
    "\n",
    "plt.tick_params(\n",
    "    axis='y',          # changes apply to the x-axis\n",
    "    which='both',      # both major and minor ticks are affected\n",
    "    left='off',      # ticks along the bottom edge are off\n",
    "    right='off',         # ticks along the top edge are off\n",
    "    labelleft='on') # labels along the bottom edge are off\n",
    "\n",
    "file_name = '/n/data1/hms/dbmi/farhat/Roger/homoplasy_project/Figures/lab_meeting_12_12_19/pairwise_INDEL_distance/within_global_lineage_pairwise_INDEL_distances.png'\n",
    "#plt.savefig(file_name, bbox_inches='tight', dpi = 300 , transparent = True)\n",
    "\n",
    "plt.show()"
   ]
  },
  {
   "cell_type": "markdown",
   "metadata": {},
   "source": [
    "### Between-Lineage variation"
   ]
  },
  {
   "cell_type": "code",
   "execution_count": 49,
   "metadata": {},
   "outputs": [
    {
     "data": {
      "image/png": "[encoded data removed]",
      "text/plain": [
       "<Figure size 864x540 with 1 Axes>"
      ]
     },
     "metadata": {},
     "output_type": "display_data"
    }
   ],
   "source": [
    "box_width = 0.8\n",
    "ind = [1,2,3,4,5,6]\n",
    "lineage_pairs = [['1','2'] , ['1','3'] , ['1','4'] , ['2','3'], ['2','4'], ['3','4']]\n",
    "\n",
    "fig = plt.figure(1, figsize=(12, 7.5))\n",
    "ax = axes()\n",
    "\n",
    "num_isolate_pairs= []\n",
    "x_pos = 0\n",
    "for lineage_pair , color in zip( lineage_pairs , ['k', 'k', 'k', 'k', 'k', 'k'] ):\n",
    "    \n",
    "    #plot boxplot for lineage & store the number of isolates in sample\n",
    "    num_isolate_pairs.append( plot_num_INDEL_distances_btwn_lineages(pairwise_INDEL_dist , lineage_pair[0] , lineage_pair[1] , color , x_pos) )\n",
    "    x_pos += 1\n",
    "\n",
    "#x-axis\n",
    "xlim(0.25 , 6.75)\n",
    "\n",
    "ax.set_xticks(ind)\n",
    "ax.set_xticklabels([], rotation='horizontal', fontsize = 6)\n",
    "x_labels = [lineage[0] + '-' + lineage[1] + '\\n (N=' + str(num_isolates) + ')' for lineage , num_isolates in zip( lineage_pairs , num_isolate_pairs)]\n",
    "ax.set_xticklabels(x_labels, rotation='horizontal', fontsize = 12)\n",
    "ax.set_xlabel('')\n",
    "ax.grid(False)\n",
    "\n",
    "ax.spines['right'].set_visible(False)\n",
    "ax.spines['top'].set_visible(False)\n",
    "\n",
    "plt.title('between-lineage pairwise INDEL distances')\n",
    "\n",
    "#label y-axis\n",
    "fig.text(0.0, 0.53, 'pairwise INDEL distance' ,  ha='center', va='center', rotation=90, fontsize = 12 , color = 'k')\n",
    "\n",
    "fig = plt.gcf()\n",
    "fig.tight_layout()\n",
    "\n",
    "plt.tick_params(\n",
    "    axis='x',          # changes apply to the x-axis\n",
    "    which='both',      # both major and minor ticks are affected\n",
    "    bottom='off',      # ticks along the bottom edge are off\n",
    "    top='off',         # ticks along the top edge are off\n",
    "    labelbottom='on') # labels along the bottom edge are off\n",
    "\n",
    "plt.tick_params(\n",
    "    axis='y',          # changes apply to the x-axis\n",
    "    which='both',      # both major and minor ticks are affected\n",
    "    left='off',      # ticks along the bottom edge are off\n",
    "    right='off',         # ticks along the top edge are off\n",
    "    labelleft='on') # labels along the bottom edge are off\n",
    "\n",
    "file_name = '/n/data1/hms/dbmi/farhat/Roger/homoplasy_project/Figures/lab_meeting_12_12_19/pairwise_INDEL_distance/between_global_lineage_pairwise_INDEL_distances.png'\n",
    "#plt.savefig(file_name, bbox_inches='tight', dpi = 300 , transparent = True)\n",
    "\n",
    "plt.show()"
   ]
  },
  {
   "cell_type": "markdown",
   "metadata": {},
   "source": [
    "####################################################################################################################################################################################"
   ]
  },
  {
   "cell_type": "markdown",
   "metadata": {},
   "source": [
    "## [7] Re-calculate within-lineage pairwise INDEL distances after dropping *mis-classified* isolates"
   ]
  },
  {
   "cell_type": "markdown",
   "metadata": {},
   "source": [
    "####################################################################################################################################################################################"
   ]
  },
  {
   "cell_type": "code",
   "execution_count": 10,
   "metadata": {},
   "outputs": [
    {
     "data": {
      "text/plain": [
       "array([[  0,  87,  17, ..., 120,  85,  10],\n",
       "       [ 87,   0,  93, ..., 105,  42,  85],\n",
       "       [ 17,  93,   0, ..., 116,  91,  20],\n",
       "       ...,\n",
       "       [120, 105, 116, ...,   0, 106, 115],\n",
       "       [ 85,  42,  91, ..., 106,   0,  75],\n",
       "       [ 10,  85,  20, ..., 115,  75,   0]])"
      ]
     },
     "execution_count": 10,
     "metadata": {},
     "output_type": "execute_result"
    }
   ],
   "source": [
    "pairwise_INDEL_dist"
   ]
  },
  {
   "cell_type": "code",
   "execution_count": 11,
   "metadata": {},
   "outputs": [
    {
     "data": {
      "text/plain": [
       "(31428, 31428)"
      ]
     },
     "execution_count": 11,
     "metadata": {},
     "output_type": "execute_result"
    }
   ],
   "source": [
    "np.shape(pairwise_INDEL_dist)"
   ]
  },
  {
   "cell_type": "code",
   "execution_count": 12,
   "metadata": {},
   "outputs": [
    {
     "data": {
      "text/html": [
       "<div>\n",
       "<style>\n",
       "    .dataframe thead tr:only-child th {\n",
       "        text-align: right;\n",
       "    }\n",
       "\n",
       "    .dataframe thead th {\n",
       "        text-align: left;\n",
       "    }\n",
       "\n",
       "    .dataframe tbody tr th {\n",
       "        vertical-align: top;\n",
       "    }\n",
       "</style>\n",
       "<table border=\"1\" class=\"dataframe\">\n",
       "  <thead>\n",
       "    <tr style=\"text-align: right;\">\n",
       "      <th></th>\n",
       "      <th>isolate_ID</th>\n",
       "      <th>lineage_1</th>\n",
       "      <th>lineage_2</th>\n",
       "      <th>lineage_3</th>\n",
       "      <th>lineage_4</th>\n",
       "      <th>lineage_5</th>\n",
       "      <th>lineage_6</th>\n",
       "      <th>lineage_7</th>\n",
       "      <th>lineage_8</th>\n",
       "      <th>lineage_9</th>\n",
       "      <th>lineage_10</th>\n",
       "      <th>lineage_11</th>\n",
       "      <th>lineage_call</th>\n",
       "      <th>group</th>\n",
       "    </tr>\n",
       "  </thead>\n",
       "  <tbody>\n",
       "    <tr>\n",
       "      <th>0</th>\n",
       "      <td>SAMN13051687</td>\n",
       "      <td>2</td>\n",
       "      <td>2</td>\n",
       "      <td>1</td>\n",
       "      <td>1</td>\n",
       "      <td>1</td>\n",
       "      <td>i3</td>\n",
       "      <td>NaN</td>\n",
       "      <td>NaN</td>\n",
       "      <td>NaN</td>\n",
       "      <td>NaN</td>\n",
       "      <td>NaN</td>\n",
       "      <td>2.2.1.1.1.i3</td>\n",
       "      <td>2</td>\n",
       "    </tr>\n",
       "    <tr>\n",
       "      <th>1</th>\n",
       "      <td>SAMN09100245</td>\n",
       "      <td>4</td>\n",
       "      <td>2</td>\n",
       "      <td>1</td>\n",
       "      <td>2</td>\n",
       "      <td>1</td>\n",
       "      <td>1</td>\n",
       "      <td>i3</td>\n",
       "      <td>2</td>\n",
       "      <td>NaN</td>\n",
       "      <td>NaN</td>\n",
       "      <td>NaN</td>\n",
       "      <td>4.2.1.2.1.1.i3.2</td>\n",
       "      <td>4B</td>\n",
       "    </tr>\n",
       "    <tr>\n",
       "      <th>2</th>\n",
       "      <td>SAMN08732238</td>\n",
       "      <td>2</td>\n",
       "      <td>2</td>\n",
       "      <td>1</td>\n",
       "      <td>1</td>\n",
       "      <td>1</td>\n",
       "      <td>NaN</td>\n",
       "      <td>NaN</td>\n",
       "      <td>NaN</td>\n",
       "      <td>NaN</td>\n",
       "      <td>NaN</td>\n",
       "      <td>NaN</td>\n",
       "      <td>2.2.1.1.1</td>\n",
       "      <td>2</td>\n",
       "    </tr>\n",
       "    <tr>\n",
       "      <th>3</th>\n",
       "      <td>SAMN07658260</td>\n",
       "      <td>3</td>\n",
       "      <td>1</td>\n",
       "      <td>1</td>\n",
       "      <td>NaN</td>\n",
       "      <td>NaN</td>\n",
       "      <td>NaN</td>\n",
       "      <td>NaN</td>\n",
       "      <td>NaN</td>\n",
       "      <td>NaN</td>\n",
       "      <td>NaN</td>\n",
       "      <td>NaN</td>\n",
       "      <td>3.1.1</td>\n",
       "      <td>3</td>\n",
       "    </tr>\n",
       "    <tr>\n",
       "      <th>4</th>\n",
       "      <td>SAMN03648003</td>\n",
       "      <td>2</td>\n",
       "      <td>2</td>\n",
       "      <td>1</td>\n",
       "      <td>1</td>\n",
       "      <td>1</td>\n",
       "      <td>NaN</td>\n",
       "      <td>NaN</td>\n",
       "      <td>NaN</td>\n",
       "      <td>NaN</td>\n",
       "      <td>NaN</td>\n",
       "      <td>NaN</td>\n",
       "      <td>2.2.1.1.1</td>\n",
       "      <td>2</td>\n",
       "    </tr>\n",
       "  </tbody>\n",
       "</table>\n",
       "</div>"
      ],
      "text/plain": [
       "     isolate_ID lineage_1 lineage_2 lineage_3 lineage_4 lineage_5 lineage_6  \\\n",
       "0  SAMN13051687         2         2         1         1         1        i3   \n",
       "1  SAMN09100245         4         2         1         2         1         1   \n",
       "2  SAMN08732238         2         2         1         1         1       NaN   \n",
       "3  SAMN07658260         3         1         1       NaN       NaN       NaN   \n",
       "4  SAMN03648003         2         2         1         1         1       NaN   \n",
       "\n",
       "  lineage_7 lineage_8 lineage_9 lineage_10 lineage_11      lineage_call group  \n",
       "0       NaN       NaN       NaN        NaN        NaN      2.2.1.1.1.i3     2  \n",
       "1        i3         2       NaN        NaN        NaN  4.2.1.2.1.1.i3.2    4B  \n",
       "2       NaN       NaN       NaN        NaN        NaN         2.2.1.1.1     2  \n",
       "3       NaN       NaN       NaN        NaN        NaN             3.1.1     3  \n",
       "4       NaN       NaN       NaN        NaN        NaN         2.2.1.1.1     2  "
      ]
     },
     "execution_count": 12,
     "metadata": {},
     "output_type": "execute_result"
    }
   ],
   "source": [
    "isolate_annotation_DF.head()"
   ]
  },
  {
   "cell_type": "code",
   "execution_count": 13,
   "metadata": {},
   "outputs": [
    {
     "data": {
      "text/plain": [
       "(31428, 14)"
      ]
     },
     "execution_count": 13,
     "metadata": {},
     "output_type": "execute_result"
    }
   ],
   "source": [
    "np.shape(isolate_annotation_DF)"
   ]
  },
  {
   "cell_type": "markdown",
   "metadata": {},
   "source": [
    "### Drop mis-classified isolates"
   ]
  },
  {
   "cell_type": "markdown",
   "metadata": {},
   "source": [
    "isolates mis-classified from SNP barcode (visual inspection of phlogenies in Rectangular Tree Layout)\n",
    "\n",
    "- L1: 3\n",
    "    - SAMEA3445265\n",
    "    - SAMEA1119746\n",
    "    - SAMN06209986\n",
    "        \n",
    "- L2: 4\n",
    "    - SAMEA3558144\n",
    "    - SAMEA5366594\n",
    "    - SAMEA5366622\n",
    "    - SAMEA5366610\n",
    "        \n",
    "- L3: 2\n",
    "    - SAMN02398716\n",
    "    - SAMN08436122\n",
    "        \n",
    "- L4A: 1\n",
    "    - SAMEA3359387\n",
    "    \n",
    "-  L4B: 0\n",
    "    \n",
    "- L4C: 4\n",
    "    - SAMEA2783243\n",
    "    - SAMN07236506\n",
    "    - SAMEA104153428\n",
    "    - SAMEA961670\n",
    "    \n",
    "- L5: 0\n",
    "    \n",
    "- L6: 0"
   ]
  },
  {
   "cell_type": "code",
   "execution_count": 14,
   "metadata": {},
   "outputs": [],
   "source": [
    "misclassified_isolates_list = ['SAMEA3445265','SAMEA1119746','SAMN06209986','SAMEA3558144','SAMEA5366594','SAMEA5366622','SAMEA5366610','SAMN02398716','SAMN08436122','SAMEA3359387','SAMEA2783243','SAMN07236506','SAMEA104153428','SAMEA961670']"
   ]
  },
  {
   "cell_type": "code",
   "execution_count": 15,
   "metadata": {},
   "outputs": [
    {
     "data": {
      "text/html": [
       "<div>\n",
       "<style>\n",
       "    .dataframe thead tr:only-child th {\n",
       "        text-align: right;\n",
       "    }\n",
       "\n",
       "    .dataframe thead th {\n",
       "        text-align: left;\n",
       "    }\n",
       "\n",
       "    .dataframe tbody tr th {\n",
       "        vertical-align: top;\n",
       "    }\n",
       "</style>\n",
       "<table border=\"1\" class=\"dataframe\">\n",
       "  <thead>\n",
       "    <tr style=\"text-align: right;\">\n",
       "      <th></th>\n",
       "      <th>isolate_ID</th>\n",
       "      <th>lineage_1</th>\n",
       "      <th>lineage_2</th>\n",
       "      <th>lineage_3</th>\n",
       "      <th>lineage_4</th>\n",
       "      <th>lineage_5</th>\n",
       "      <th>lineage_6</th>\n",
       "      <th>lineage_7</th>\n",
       "      <th>lineage_8</th>\n",
       "      <th>lineage_9</th>\n",
       "      <th>lineage_10</th>\n",
       "      <th>lineage_11</th>\n",
       "      <th>lineage_call</th>\n",
       "      <th>group</th>\n",
       "    </tr>\n",
       "  </thead>\n",
       "  <tbody>\n",
       "    <tr>\n",
       "      <th>1528</th>\n",
       "      <td>SAMEA2783243</td>\n",
       "      <td>4</td>\n",
       "      <td>2</td>\n",
       "      <td>1</td>\n",
       "      <td>1</td>\n",
       "      <td>1</td>\n",
       "      <td>2</td>\n",
       "      <td>2</td>\n",
       "      <td>1</td>\n",
       "      <td>NaN</td>\n",
       "      <td>NaN</td>\n",
       "      <td>NaN</td>\n",
       "      <td>4.2.1.1.1.2.2.1</td>\n",
       "      <td>4C</td>\n",
       "    </tr>\n",
       "    <tr>\n",
       "      <th>2086</th>\n",
       "      <td>SAMEA3558144</td>\n",
       "      <td>2</td>\n",
       "      <td>2</td>\n",
       "      <td>2</td>\n",
       "      <td>NaN</td>\n",
       "      <td>NaN</td>\n",
       "      <td>NaN</td>\n",
       "      <td>NaN</td>\n",
       "      <td>NaN</td>\n",
       "      <td>NaN</td>\n",
       "      <td>NaN</td>\n",
       "      <td>NaN</td>\n",
       "      <td>2.2.2</td>\n",
       "      <td>2</td>\n",
       "    </tr>\n",
       "    <tr>\n",
       "      <th>2739</th>\n",
       "      <td>SAMEA1119746</td>\n",
       "      <td>1</td>\n",
       "      <td>2</td>\n",
       "      <td>1</td>\n",
       "      <td>1</td>\n",
       "      <td>2</td>\n",
       "      <td>NaN</td>\n",
       "      <td>NaN</td>\n",
       "      <td>NaN</td>\n",
       "      <td>NaN</td>\n",
       "      <td>NaN</td>\n",
       "      <td>NaN</td>\n",
       "      <td>1.2.1.1.2</td>\n",
       "      <td>1</td>\n",
       "    </tr>\n",
       "    <tr>\n",
       "      <th>2984</th>\n",
       "      <td>SAMEA5366594</td>\n",
       "      <td>2</td>\n",
       "      <td>1</td>\n",
       "      <td>NaN</td>\n",
       "      <td>NaN</td>\n",
       "      <td>NaN</td>\n",
       "      <td>NaN</td>\n",
       "      <td>NaN</td>\n",
       "      <td>NaN</td>\n",
       "      <td>NaN</td>\n",
       "      <td>NaN</td>\n",
       "      <td>NaN</td>\n",
       "      <td>2.1</td>\n",
       "      <td>2</td>\n",
       "    </tr>\n",
       "    <tr>\n",
       "      <th>10960</th>\n",
       "      <td>SAMN07236506</td>\n",
       "      <td>4</td>\n",
       "      <td>2</td>\n",
       "      <td>1</td>\n",
       "      <td>1</td>\n",
       "      <td>1</td>\n",
       "      <td>2</td>\n",
       "      <td>2</td>\n",
       "      <td>1</td>\n",
       "      <td>NaN</td>\n",
       "      <td>NaN</td>\n",
       "      <td>NaN</td>\n",
       "      <td>4.2.1.1.1.2.2.1</td>\n",
       "      <td>4C</td>\n",
       "    </tr>\n",
       "    <tr>\n",
       "      <th>14009</th>\n",
       "      <td>SAMEA5366610</td>\n",
       "      <td>2</td>\n",
       "      <td>1</td>\n",
       "      <td>NaN</td>\n",
       "      <td>NaN</td>\n",
       "      <td>NaN</td>\n",
       "      <td>NaN</td>\n",
       "      <td>NaN</td>\n",
       "      <td>NaN</td>\n",
       "      <td>NaN</td>\n",
       "      <td>NaN</td>\n",
       "      <td>NaN</td>\n",
       "      <td>2.1</td>\n",
       "      <td>2</td>\n",
       "    </tr>\n",
       "    <tr>\n",
       "      <th>17761</th>\n",
       "      <td>SAMN02398716</td>\n",
       "      <td>3</td>\n",
       "      <td>2</td>\n",
       "      <td>2</td>\n",
       "      <td>NaN</td>\n",
       "      <td>NaN</td>\n",
       "      <td>NaN</td>\n",
       "      <td>NaN</td>\n",
       "      <td>NaN</td>\n",
       "      <td>NaN</td>\n",
       "      <td>NaN</td>\n",
       "      <td>NaN</td>\n",
       "      <td>3.2.2</td>\n",
       "      <td>3</td>\n",
       "    </tr>\n",
       "    <tr>\n",
       "      <th>18641</th>\n",
       "      <td>SAMN08436122</td>\n",
       "      <td>3</td>\n",
       "      <td>1</td>\n",
       "      <td>1</td>\n",
       "      <td>i1</td>\n",
       "      <td>NaN</td>\n",
       "      <td>NaN</td>\n",
       "      <td>NaN</td>\n",
       "      <td>NaN</td>\n",
       "      <td>NaN</td>\n",
       "      <td>NaN</td>\n",
       "      <td>NaN</td>\n",
       "      <td>3.1.1.i1</td>\n",
       "      <td>3</td>\n",
       "    </tr>\n",
       "    <tr>\n",
       "      <th>20251</th>\n",
       "      <td>SAMEA3359387</td>\n",
       "      <td>4</td>\n",
       "      <td>1</td>\n",
       "      <td>i1</td>\n",
       "      <td>2</td>\n",
       "      <td>1</td>\n",
       "      <td>NaN</td>\n",
       "      <td>NaN</td>\n",
       "      <td>NaN</td>\n",
       "      <td>NaN</td>\n",
       "      <td>NaN</td>\n",
       "      <td>NaN</td>\n",
       "      <td>4.1.i1.2.1</td>\n",
       "      <td>4A</td>\n",
       "    </tr>\n",
       "    <tr>\n",
       "      <th>20855</th>\n",
       "      <td>SAMEA5366622</td>\n",
       "      <td>2</td>\n",
       "      <td>1</td>\n",
       "      <td>NaN</td>\n",
       "      <td>NaN</td>\n",
       "      <td>NaN</td>\n",
       "      <td>NaN</td>\n",
       "      <td>NaN</td>\n",
       "      <td>NaN</td>\n",
       "      <td>NaN</td>\n",
       "      <td>NaN</td>\n",
       "      <td>NaN</td>\n",
       "      <td>2.1</td>\n",
       "      <td>2</td>\n",
       "    </tr>\n",
       "    <tr>\n",
       "      <th>23278</th>\n",
       "      <td>SAMN06209986</td>\n",
       "      <td>1</td>\n",
       "      <td>2</td>\n",
       "      <td>1</td>\n",
       "      <td>1</td>\n",
       "      <td>1</td>\n",
       "      <td>NaN</td>\n",
       "      <td>NaN</td>\n",
       "      <td>NaN</td>\n",
       "      <td>NaN</td>\n",
       "      <td>NaN</td>\n",
       "      <td>NaN</td>\n",
       "      <td>1.2.1.1.1</td>\n",
       "      <td>1</td>\n",
       "    </tr>\n",
       "    <tr>\n",
       "      <th>25712</th>\n",
       "      <td>SAMEA3445265</td>\n",
       "      <td>1</td>\n",
       "      <td>2</td>\n",
       "      <td>2</td>\n",
       "      <td>2</td>\n",
       "      <td>NaN</td>\n",
       "      <td>NaN</td>\n",
       "      <td>NaN</td>\n",
       "      <td>NaN</td>\n",
       "      <td>NaN</td>\n",
       "      <td>NaN</td>\n",
       "      <td>NaN</td>\n",
       "      <td>1.2.2.2</td>\n",
       "      <td>1</td>\n",
       "    </tr>\n",
       "    <tr>\n",
       "      <th>26440</th>\n",
       "      <td>SAMEA961670</td>\n",
       "      <td>4</td>\n",
       "      <td>2</td>\n",
       "      <td>1</td>\n",
       "      <td>1</td>\n",
       "      <td>1</td>\n",
       "      <td>2</td>\n",
       "      <td>2</td>\n",
       "      <td>2</td>\n",
       "      <td>NaN</td>\n",
       "      <td>NaN</td>\n",
       "      <td>NaN</td>\n",
       "      <td>4.2.1.1.1.2.2.2</td>\n",
       "      <td>4C</td>\n",
       "    </tr>\n",
       "    <tr>\n",
       "      <th>29968</th>\n",
       "      <td>SAMEA104153428</td>\n",
       "      <td>4</td>\n",
       "      <td>2</td>\n",
       "      <td>1</td>\n",
       "      <td>1</td>\n",
       "      <td>1</td>\n",
       "      <td>2</td>\n",
       "      <td>2</td>\n",
       "      <td>1</td>\n",
       "      <td>NaN</td>\n",
       "      <td>NaN</td>\n",
       "      <td>NaN</td>\n",
       "      <td>4.2.1.1.1.2.2.1</td>\n",
       "      <td>4C</td>\n",
       "    </tr>\n",
       "  </tbody>\n",
       "</table>\n",
       "</div>"
      ],
      "text/plain": [
       "           isolate_ID lineage_1 lineage_2 lineage_3 lineage_4 lineage_5  \\\n",
       "1528     SAMEA2783243         4         2         1         1         1   \n",
       "2086     SAMEA3558144         2         2         2       NaN       NaN   \n",
       "2739     SAMEA1119746         1         2         1         1         2   \n",
       "2984     SAMEA5366594         2         1       NaN       NaN       NaN   \n",
       "10960    SAMN07236506         4         2         1         1         1   \n",
       "14009    SAMEA5366610         2         1       NaN       NaN       NaN   \n",
       "17761    SAMN02398716         3         2         2       NaN       NaN   \n",
       "18641    SAMN08436122         3         1         1        i1       NaN   \n",
       "20251    SAMEA3359387         4         1        i1         2         1   \n",
       "20855    SAMEA5366622         2         1       NaN       NaN       NaN   \n",
       "23278    SAMN06209986         1         2         1         1         1   \n",
       "25712    SAMEA3445265         1         2         2         2       NaN   \n",
       "26440     SAMEA961670         4         2         1         1         1   \n",
       "29968  SAMEA104153428         4         2         1         1         1   \n",
       "\n",
       "      lineage_6 lineage_7 lineage_8 lineage_9 lineage_10 lineage_11  \\\n",
       "1528          2         2         1       NaN        NaN        NaN   \n",
       "2086        NaN       NaN       NaN       NaN        NaN        NaN   \n",
       "2739        NaN       NaN       NaN       NaN        NaN        NaN   \n",
       "2984        NaN       NaN       NaN       NaN        NaN        NaN   \n",
       "10960         2         2         1       NaN        NaN        NaN   \n",
       "14009       NaN       NaN       NaN       NaN        NaN        NaN   \n",
       "17761       NaN       NaN       NaN       NaN        NaN        NaN   \n",
       "18641       NaN       NaN       NaN       NaN        NaN        NaN   \n",
       "20251       NaN       NaN       NaN       NaN        NaN        NaN   \n",
       "20855       NaN       NaN       NaN       NaN        NaN        NaN   \n",
       "23278       NaN       NaN       NaN       NaN        NaN        NaN   \n",
       "25712       NaN       NaN       NaN       NaN        NaN        NaN   \n",
       "26440         2         2         2       NaN        NaN        NaN   \n",
       "29968         2         2         1       NaN        NaN        NaN   \n",
       "\n",
       "          lineage_call group  \n",
       "1528   4.2.1.1.1.2.2.1    4C  \n",
       "2086             2.2.2     2  \n",
       "2739         1.2.1.1.2     1  \n",
       "2984               2.1     2  \n",
       "10960  4.2.1.1.1.2.2.1    4C  \n",
       "14009              2.1     2  \n",
       "17761            3.2.2     3  \n",
       "18641         3.1.1.i1     3  \n",
       "20251       4.1.i1.2.1    4A  \n",
       "20855              2.1     2  \n",
       "23278        1.2.1.1.1     1  \n",
       "25712          1.2.2.2     1  \n",
       "26440  4.2.1.1.1.2.2.2    4C  \n",
       "29968  4.2.1.1.1.2.2.1    4C  "
      ]
     },
     "execution_count": 15,
     "metadata": {},
     "output_type": "execute_result"
    }
   ],
   "source": [
    "isolate_annotation_DF[[(isolate_id in misclassified_isolates_list) for isolate_id in isolate_annotation_DF.isolate_ID]]"
   ]
  },
  {
   "cell_type": "markdown",
   "metadata": {},
   "source": [
    "#### Filter out isolates from pairwise INDEL distance matrix & isolate annotation DF"
   ]
  },
  {
   "cell_type": "code",
   "execution_count": 16,
   "metadata": {},
   "outputs": [],
   "source": [
    "misclassified_isolates_filter = np.array([(isolate_id not in misclassified_isolates_list) for isolate_id in isolate_annotation_DF.isolate_ID])\n",
    "\n",
    "#drop isolates from isolate annotation DF\n",
    "isolate_annotation_DF = isolate_annotation_DF[misclassified_isolates_filter]\n",
    "isolate_annotation_DF.reset_index(inplace = True, drop = True)\n",
    "\n",
    "#slice out the rows that correspond to mis-classified isolates\n",
    "pairwise_INDEL_dist = pairwise_INDEL_dist[misclassified_isolates_filter , :]\n",
    "\n",
    "#slice out the columns that correspond to mis-classified isolates\n",
    "pairwise_INDEL_dist = pairwise_INDEL_dist[: , misclassified_isolates_filter]"
   ]
  },
  {
   "cell_type": "code",
   "execution_count": 17,
   "metadata": {},
   "outputs": [
    {
     "data": {
      "text/plain": [
       "array([[  0,  87,  17, ..., 120,  85,  10],\n",
       "       [ 87,   0,  93, ..., 105,  42,  85],\n",
       "       [ 17,  93,   0, ..., 116,  91,  20],\n",
       "       ...,\n",
       "       [120, 105, 116, ...,   0, 106, 115],\n",
       "       [ 85,  42,  91, ..., 106,   0,  75],\n",
       "       [ 10,  85,  20, ..., 115,  75,   0]])"
      ]
     },
     "execution_count": 17,
     "metadata": {},
     "output_type": "execute_result"
    }
   ],
   "source": [
    "pairwise_INDEL_dist"
   ]
  },
  {
   "cell_type": "code",
   "execution_count": 18,
   "metadata": {},
   "outputs": [
    {
     "data": {
      "text/plain": [
       "(31414, 31414)"
      ]
     },
     "execution_count": 18,
     "metadata": {},
     "output_type": "execute_result"
    }
   ],
   "source": [
    "np.shape(pairwise_INDEL_dist)"
   ]
  },
  {
   "cell_type": "code",
   "execution_count": 19,
   "metadata": {},
   "outputs": [
    {
     "data": {
      "text/html": [
       "<div>\n",
       "<style>\n",
       "    .dataframe thead tr:only-child th {\n",
       "        text-align: right;\n",
       "    }\n",
       "\n",
       "    .dataframe thead th {\n",
       "        text-align: left;\n",
       "    }\n",
       "\n",
       "    .dataframe tbody tr th {\n",
       "        vertical-align: top;\n",
       "    }\n",
       "</style>\n",
       "<table border=\"1\" class=\"dataframe\">\n",
       "  <thead>\n",
       "    <tr style=\"text-align: right;\">\n",
       "      <th></th>\n",
       "      <th>isolate_ID</th>\n",
       "      <th>lineage_1</th>\n",
       "      <th>lineage_2</th>\n",
       "      <th>lineage_3</th>\n",
       "      <th>lineage_4</th>\n",
       "      <th>lineage_5</th>\n",
       "      <th>lineage_6</th>\n",
       "      <th>lineage_7</th>\n",
       "      <th>lineage_8</th>\n",
       "      <th>lineage_9</th>\n",
       "      <th>lineage_10</th>\n",
       "      <th>lineage_11</th>\n",
       "      <th>lineage_call</th>\n",
       "      <th>group</th>\n",
       "    </tr>\n",
       "  </thead>\n",
       "  <tbody>\n",
       "    <tr>\n",
       "      <th>0</th>\n",
       "      <td>SAMN13051687</td>\n",
       "      <td>2</td>\n",
       "      <td>2</td>\n",
       "      <td>1</td>\n",
       "      <td>1</td>\n",
       "      <td>1</td>\n",
       "      <td>i3</td>\n",
       "      <td>NaN</td>\n",
       "      <td>NaN</td>\n",
       "      <td>NaN</td>\n",
       "      <td>NaN</td>\n",
       "      <td>NaN</td>\n",
       "      <td>2.2.1.1.1.i3</td>\n",
       "      <td>2</td>\n",
       "    </tr>\n",
       "    <tr>\n",
       "      <th>1</th>\n",
       "      <td>SAMN09100245</td>\n",
       "      <td>4</td>\n",
       "      <td>2</td>\n",
       "      <td>1</td>\n",
       "      <td>2</td>\n",
       "      <td>1</td>\n",
       "      <td>1</td>\n",
       "      <td>i3</td>\n",
       "      <td>2</td>\n",
       "      <td>NaN</td>\n",
       "      <td>NaN</td>\n",
       "      <td>NaN</td>\n",
       "      <td>4.2.1.2.1.1.i3.2</td>\n",
       "      <td>4B</td>\n",
       "    </tr>\n",
       "    <tr>\n",
       "      <th>2</th>\n",
       "      <td>SAMN08732238</td>\n",
       "      <td>2</td>\n",
       "      <td>2</td>\n",
       "      <td>1</td>\n",
       "      <td>1</td>\n",
       "      <td>1</td>\n",
       "      <td>NaN</td>\n",
       "      <td>NaN</td>\n",
       "      <td>NaN</td>\n",
       "      <td>NaN</td>\n",
       "      <td>NaN</td>\n",
       "      <td>NaN</td>\n",
       "      <td>2.2.1.1.1</td>\n",
       "      <td>2</td>\n",
       "    </tr>\n",
       "    <tr>\n",
       "      <th>3</th>\n",
       "      <td>SAMN07658260</td>\n",
       "      <td>3</td>\n",
       "      <td>1</td>\n",
       "      <td>1</td>\n",
       "      <td>NaN</td>\n",
       "      <td>NaN</td>\n",
       "      <td>NaN</td>\n",
       "      <td>NaN</td>\n",
       "      <td>NaN</td>\n",
       "      <td>NaN</td>\n",
       "      <td>NaN</td>\n",
       "      <td>NaN</td>\n",
       "      <td>3.1.1</td>\n",
       "      <td>3</td>\n",
       "    </tr>\n",
       "    <tr>\n",
       "      <th>4</th>\n",
       "      <td>SAMN03648003</td>\n",
       "      <td>2</td>\n",
       "      <td>2</td>\n",
       "      <td>1</td>\n",
       "      <td>1</td>\n",
       "      <td>1</td>\n",
       "      <td>NaN</td>\n",
       "      <td>NaN</td>\n",
       "      <td>NaN</td>\n",
       "      <td>NaN</td>\n",
       "      <td>NaN</td>\n",
       "      <td>NaN</td>\n",
       "      <td>2.2.1.1.1</td>\n",
       "      <td>2</td>\n",
       "    </tr>\n",
       "  </tbody>\n",
       "</table>\n",
       "</div>"
      ],
      "text/plain": [
       "     isolate_ID lineage_1 lineage_2 lineage_3 lineage_4 lineage_5 lineage_6  \\\n",
       "0  SAMN13051687         2         2         1         1         1        i3   \n",
       "1  SAMN09100245         4         2         1         2         1         1   \n",
       "2  SAMN08732238         2         2         1         1         1       NaN   \n",
       "3  SAMN07658260         3         1         1       NaN       NaN       NaN   \n",
       "4  SAMN03648003         2         2         1         1         1       NaN   \n",
       "\n",
       "  lineage_7 lineage_8 lineage_9 lineage_10 lineage_11      lineage_call group  \n",
       "0       NaN       NaN       NaN        NaN        NaN      2.2.1.1.1.i3     2  \n",
       "1        i3         2       NaN        NaN        NaN  4.2.1.2.1.1.i3.2    4B  \n",
       "2       NaN       NaN       NaN        NaN        NaN         2.2.1.1.1     2  \n",
       "3       NaN       NaN       NaN        NaN        NaN             3.1.1     3  \n",
       "4       NaN       NaN       NaN        NaN        NaN         2.2.1.1.1     2  "
      ]
     },
     "execution_count": 19,
     "metadata": {},
     "output_type": "execute_result"
    }
   ],
   "source": [
    "isolate_annotation_DF.head()"
   ]
  },
  {
   "cell_type": "code",
   "execution_count": 20,
   "metadata": {},
   "outputs": [
    {
     "data": {
      "text/plain": [
       "(31414, 14)"
      ]
     },
     "execution_count": 20,
     "metadata": {},
     "output_type": "execute_result"
    }
   ],
   "source": [
    "np.shape(isolate_annotation_DF)"
   ]
  },
  {
   "cell_type": "markdown",
   "metadata": {},
   "source": [
    "#### Use upper-triangular indices to get non-redundant array of pairwise INDEL distances between all isolates"
   ]
  },
  {
   "cell_type": "code",
   "execution_count": 21,
   "metadata": {},
   "outputs": [],
   "source": [
    "num_isolates = np.shape(isolate_annotation_DF)[0]\n",
    "upper_triangle_indices = np.triu_indices(n = num_isolates , k = 1)\n",
    "\n",
    "non_redundant_pairwise_INDEL_dist_array = pairwise_INDEL_dist[upper_triangle_indices]"
   ]
  },
  {
   "cell_type": "code",
   "execution_count": 22,
   "metadata": {},
   "outputs": [
    {
     "data": {
      "text/plain": [
       "array([ 87,  17,  88, ..., 106, 115,  75])"
      ]
     },
     "execution_count": 22,
     "metadata": {},
     "output_type": "execute_result"
    }
   ],
   "source": [
    "non_redundant_pairwise_INDEL_dist_array"
   ]
  },
  {
   "cell_type": "code",
   "execution_count": 23,
   "metadata": {},
   "outputs": [
    {
     "data": {
      "text/plain": [
       "493403991"
      ]
     },
     "execution_count": 23,
     "metadata": {},
     "output_type": "execute_result"
    }
   ],
   "source": [
    "len(non_redundant_pairwise_INDEL_dist_array)"
   ]
  },
  {
   "cell_type": "markdown",
   "metadata": {},
   "source": [
    "#### Maximum INDEL distance between two isolates?"
   ]
  },
  {
   "cell_type": "code",
   "execution_count": 24,
   "metadata": {
    "scrolled": true
   },
   "outputs": [
    {
     "data": {
      "text/plain": [
       "173"
      ]
     },
     "execution_count": 24,
     "metadata": {},
     "output_type": "execute_result"
    }
   ],
   "source": [
    "np.max(non_redundant_pairwise_INDEL_dist_array) #max SNP distance between isolates"
   ]
  },
  {
   "cell_type": "code",
   "execution_count": 25,
   "metadata": {},
   "outputs": [
    {
     "data": {
      "text/plain": [
       "(array([15582, 17551]), array([17551, 15582]))"
      ]
     },
     "execution_count": 25,
     "metadata": {},
     "output_type": "execute_result"
    }
   ],
   "source": [
    "np.where(pairwise_INDEL_dist == 173)"
   ]
  },
  {
   "cell_type": "code",
   "execution_count": 26,
   "metadata": {},
   "outputs": [
    {
     "data": {
      "text/plain": [
       "lineage_call               5\n",
       "isolate_ID      SAMN02231127\n",
       "Name: 15582, dtype: object"
      ]
     },
     "execution_count": 26,
     "metadata": {},
     "output_type": "execute_result"
    }
   ],
   "source": [
    "isolate_annotation_DF.loc[15582,['lineage_call','isolate_ID']]"
   ]
  },
  {
   "cell_type": "code",
   "execution_count": 27,
   "metadata": {},
   "outputs": [
    {
     "data": {
      "text/plain": [
       "lineage_call       2.2.1.1.1\n",
       "isolate_ID      SAMN08813107\n",
       "Name: 17551, dtype: object"
      ]
     },
     "execution_count": 27,
     "metadata": {},
     "output_type": "execute_result"
    }
   ],
   "source": [
    "isolate_annotation_DF.loc[17551,['lineage_call','isolate_ID']]"
   ]
  },
  {
   "cell_type": "code",
   "execution_count": 28,
   "metadata": {},
   "outputs": [],
   "source": [
    "plt.style.use('ggplot')\n",
    "plt.rcParams['lines.linewidth']=3\n",
    "plt.rcParams['axes.facecolor']='1.0'\n",
    "plt.rcParams['xtick.color']='black'\n",
    "plt.rcParams['ytick.color']='black'\n",
    "plt.rcParams['axes.grid']=True\n",
    "plt.rcParams['axes.edgecolor']='black'\n",
    "plt.rcParams['grid.color']= '1.0'\n",
    "plt.rcParams.update({'font.size': 12})"
   ]
  },
  {
   "cell_type": "code",
   "execution_count": 33,
   "metadata": {},
   "outputs": [
    {
     "data": {
      "image/png": "[encoded data removed]",
      "text/plain": [
       "<Figure size 864x540 with 1 Axes>"
      ]
     },
     "metadata": {},
     "output_type": "display_data"
    }
   ],
   "source": [
    "fig , ax = plt.subplots()\n",
    "\n",
    "#INDEL found in isolate denoted with a '1', sum across columns (isolates)\n",
    "n , bins , patches = plt.hist(non_redundant_pairwise_INDEL_dist_array , bins = 173 , color = 'k' , rwidth = 1.0 , edgecolor='white', linewidth=0.5)\n",
    "\n",
    "plt.title('Distribution of pairwise INDEL distances between 31,414 isolates', fontsize = 14, color = 'k')\n",
    "plt.xlabel('pairwise INDEL distance', fontsize = 14, color = 'k')\n",
    "plt.ylabel('number of isolate pairs' , fontsize = 14, color = 'k')\n",
    "\n",
    "ax.spines['right'].set_visible(False)\n",
    "ax.spines['top'].set_visible(False)\n",
    "ax.grid(False)\n",
    "\n",
    "ax.tick_params(labelcolor = 'k')\n",
    "\n",
    "fig = plt.gcf()\n",
    "fig.set_size_inches(12.0, 7.5)\n",
    "fig.tight_layout()\n",
    "\n",
    "plt.tick_params(axis='y', which='major', labelsize=12 , labelcolor = 'k')\n",
    "plt.tick_params(axis='x', which='major', labelsize=12 , labelcolor = 'k')\n",
    "\n",
    "file_name = '/n/data1/hms/dbmi/farhat/Roger/homoplasy_project/Figures/lab_meeting_12_12_19/pairwise_INDEL_distance/distribution_of_pairwise_INDEL_distances.png'\n",
    "#plt.savefig(file_name, bbox_inches='tight', dpi = 300 , transparent = True)\n",
    "\n",
    "plt.show()"
   ]
  },
  {
   "cell_type": "code",
   "execution_count": 80,
   "metadata": {},
   "outputs": [
    {
     "data": {
      "image/png": "[encoded data removed]",
      "text/plain": [
       "<Figure size 864x540 with 1 Axes>"
      ]
     },
     "metadata": {},
     "output_type": "display_data"
    }
   ],
   "source": []
  },
  {
   "cell_type": "markdown",
   "metadata": {},
   "source": [
    "#### Define a function that takes in the (distance matrix), (global lineage i) and (global lineage j) and returns an array of the pairwise INDEL distances for all isolate pairs *between* those lineages"
   ]
  },
  {
   "cell_type": "code",
   "execution_count": 30,
   "metadata": {},
   "outputs": [],
   "source": [
    "def INDEL_distances_for_pairs_in_lineages(global_lineage_i, global_lineage_j , pairwise_INDEL_dist_matrix):\n",
    "    \n",
    "    #get a filter for rows for isolates that belong to specific global lineage i\n",
    "    global_lineage_filter_i = np.array(isolate_annotation_DF.lineage_1 == global_lineage_i)\n",
    "    \n",
    "    #get a filter for columns for isolates that belong to specific global lineage j\n",
    "    global_lineage_filter_j = np.array(isolate_annotation_DF.lineage_1 == global_lineage_j)\n",
    "    \n",
    "    #slice out the rows that correspond to isolates that belong to global lineage i\n",
    "    pairwise_INDEL_dist_for_global_lineages = pairwise_INDEL_dist[global_lineage_filter_i , :]\n",
    "    \n",
    "    #slice out the columns that correspond to isolates that belong to global lineage j\n",
    "    pairwise_INDEL_dist_for_global_lineages = pairwise_INDEL_dist_for_global_lineages[: , global_lineage_filter_j]\n",
    "    \n",
    "    #get the indices for the upper triangular portion of the matrix to get non-redundant array of INDEL distances\n",
    "    num_isolates_lineage_i = np.shape(pairwise_INDEL_dist_for_global_lineages)[0]\n",
    "    num_isolates_lineage_j = np.shape(pairwise_INDEL_dist_for_global_lineages)[1]\n",
    "    \n",
    "    upper_triangle_indices = np.triu_indices(n = num_isolates_lineage_i , k = 1 , m = num_isolates_lineage_j)\n",
    "\n",
    "    non_redundant_pairwise_INDEL_dist_array = pairwise_INDEL_dist_for_global_lineages[upper_triangle_indices]\n",
    "    \n",
    "    return non_redundant_pairwise_INDEL_dist_array"
   ]
  },
  {
   "cell_type": "markdown",
   "metadata": {},
   "source": [
    "#### Define a function that creates a histogram of all pairwise INDEL distances between two global lineages (lineage i) and (lineage j)"
   ]
  },
  {
   "cell_type": "code",
   "execution_count": 31,
   "metadata": {},
   "outputs": [],
   "source": [
    "def histogram_of_pairwise_distances(global_lineage_i, global_lineage_j):\n",
    "    \n",
    "    #get pairwise INDEL distances between all isolates in lienage i and lineage j\n",
    "    non_redundant_pairwise_INDEL_dist_array = INDEL_distances_for_pairs_in_lineages(global_lineage_i, global_lineage_j, pairwise_INDEL_dist)\n",
    "\n",
    "    fig , ax = plt.subplots()\n",
    "\n",
    "    n , bins , patches = plt.hist(non_redundant_pairwise_INDEL_dist_array , bins = 90 , color = 'k' , rwidth = 1.0 , edgecolor='white', linewidth=1.0)\n",
    "\n",
    "    plt.title('Distribution of pairwise INDEL distances between Lineages ' + global_lineage_i + ' and ' + global_lineage_j, fontsize = 12, color = 'k')\n",
    "    plt.xlabel('pairwise INDEL distance', fontsize = 12, color = 'k')\n",
    "    plt.ylabel('number of isolate pairs' , fontsize = 12, color = 'k')\n",
    "\n",
    "    ax.spines['right'].set_visible(False)\n",
    "    ax.spines['top'].set_visible(False)\n",
    "    ax.grid(False)\n",
    "\n",
    "    ax.tick_params(labelcolor = 'k')\n",
    "\n",
    "    fig = plt.gcf()\n",
    "    fig.set_size_inches(9.0, 5.25)\n",
    "    fig.tight_layout()\n",
    "\n",
    "    plt.tick_params(axis='y', which='major', labelsize=12 , labelcolor = 'k')\n",
    "    plt.tick_params(axis='x', which='major', labelsize=12 , labelcolor = 'k')\n",
    "\n",
    "    plt.show()"
   ]
  },
  {
   "cell_type": "code",
   "execution_count": 32,
   "metadata": {},
   "outputs": [
    {
     "data": {
      "image/png": "[encoded data removed]",
      "text/plain": [
       "<Figure size 648x378 with 1 Axes>"
      ]
     },
     "metadata": {},
     "output_type": "display_data"
    }
   ],
   "source": [
    "histogram_of_pairwise_distances('1', '4')"
   ]
  },
  {
   "cell_type": "markdown",
   "metadata": {},
   "source": [
    "### Within-Lineage variation"
   ]
  },
  {
   "cell_type": "code",
   "execution_count": 34,
   "metadata": {},
   "outputs": [],
   "source": [
    "from pylab import plot, show, savefig, xlim, figure, hold, ylim, legend, boxplot, setp, axes\n",
    "\n",
    "linewidth_for_box = 2.5\n",
    "\n",
    "# function for setting the colors of the box plots pairs\n",
    "def setBoxColors(bp , color):\n",
    "    setp(bp['boxes'][0], color=color , linewidth = linewidth_for_box)\n",
    "    setp(bp['caps'][0], color=color , linewidth = linewidth_for_box)\n",
    "    setp(bp['caps'][1], color=color , linewidth = linewidth_for_box)\n",
    "    setp(bp['whiskers'][0], color=color , linewidth = linewidth_for_box)\n",
    "    setp(bp['whiskers'][1], color=color , linewidth = linewidth_for_box)\n",
    "    setp(bp['fliers'][0], color=color)\n",
    "    setp(bp['medians'][0], color='k' , linewidth = 2.0)\n",
    "    bp['fliers'][0].set_markerfacecolor('white')\n",
    "    bp['fliers'][0].set_markeredgewidth(0.4)\n",
    "    bp['fliers'][0].set_markersize(6.0)\n",
    "    bp['fliers'][0].set_markeredgecolor('k')\n",
    "    bp['fliers'][0].set_alpha(0.7)\n",
    "    \n",
    "def plot_num_INDEL_distances_btwn_lineages(pairwise_INDEL_dist , global_lineage_i , global_lineage_j , color , x_pos):\n",
    "    \n",
    "    #make boxplot\n",
    "    pairwise_INDEL_distances = INDEL_distances_for_pairs_in_lineages(global_lineage_i, global_lineage_j , pairwise_INDEL_dist)\n",
    "    median_pairwise_INDEL_distance = np.median(pairwise_INDEL_distances) #get median\n",
    "    bp = boxplot(pairwise_INDEL_distances , positions = [ind[x_pos]], widths = box_width)\n",
    "    setBoxColors(bp , color)\n",
    "    \n",
    "    return [len(pairwise_INDEL_distances) , int(median_pairwise_INDEL_distance)]"
   ]
  },
  {
   "cell_type": "code",
   "execution_count": 35,
   "metadata": {},
   "outputs": [
    {
     "name": "stderr",
     "output_type": "stream",
     "text": [
      "/home/rv76/anaconda2/lib/python2.7/site-packages/matplotlib/cbook/deprecation.py:107: MatplotlibDeprecationWarning: Passing one of 'on', 'true', 'off', 'false' as a boolean is deprecated; use an actual boolean (True/False) instead.\n",
      "  warnings.warn(message, mplDeprecation, stacklevel=1)\n"
     ]
    },
    {
     "data": {
      "image/png": "[encoded data removed]",
      "text/plain": [
       "<Figure size 864x576 with 1 Axes>"
      ]
     },
     "metadata": {},
     "output_type": "display_data"
    }
   ],
   "source": [
    "box_width = 0.8\n",
    "ind = [1,2,3,4,5,6]\n",
    "lineage_pairs = [['1','1'] , ['2','2'] , ['3','3'] , ['4','4'] , ['5','5'] , ['6','6']]\n",
    "\n",
    "fig = plt.figure(1, figsize=(12, 8.0))\n",
    "ax = axes()\n",
    "\n",
    "num_isolate_pairs_list = []\n",
    "median_pairwise_INDEL_dist_list = []\n",
    "x_pos = 0\n",
    "for lineage_pair , color in zip( lineage_pairs , ['xkcd:dark pink', 'xkcd:blue', 'xkcd:dark purple', 'xkcd:red', 'xkcd:brown', 'xkcd:green'] ):\n",
    "    \n",
    "    #plot boxplot for lineage & store the number of isolates in sample\n",
    "    num_isolate_pairs_compared , median_pairwise_INDEL_dist = plot_num_INDEL_distances_btwn_lineages(pairwise_INDEL_dist , lineage_pair[0] , lineage_pair[1] , color , x_pos)\n",
    "    num_isolate_pairs_list.append( num_isolate_pairs_compared )\n",
    "    median_pairwise_INDEL_dist_list.append( median_pairwise_INDEL_dist )\n",
    "    x_pos += 1\n",
    "\n",
    "#x-axis\n",
    "xlim(0.25 , 6.75)\n",
    "\n",
    "ax.set_xticks(ind)\n",
    "ax.set_xticklabels([], rotation='horizontal', fontsize = 6)\n",
    "x_labels = ['Lineage ' + lineage[0] + '\\n (N=' + str(num_isolates) + ')' + '\\n (Median=' + str(median_dist) + ')' for lineage , num_isolates , median_dist in zip( lineage_pairs , num_isolate_pairs_list , median_pairwise_INDEL_dist_list)]\n",
    "ax.set_xticklabels(x_labels, rotation='horizontal', fontsize = 13)\n",
    "ax.set_xlabel('')\n",
    "ax.grid(False)\n",
    "\n",
    "ax.spines['right'].set_visible(False)\n",
    "ax.spines['top'].set_visible(False)\n",
    "\n",
    "plt.title('within-lineage pairwise INDEL distances')\n",
    "\n",
    "#label y-axis\n",
    "fig.text(0.0, 0.53, 'pairwise INDEL distance' ,  ha='center', va='center', rotation=90, fontsize = 13 , color = 'k')\n",
    "\n",
    "fig = plt.gcf()\n",
    "fig.tight_layout()\n",
    "\n",
    "plt.tick_params(\n",
    "    axis='x',          # changes apply to the x-axis\n",
    "    which='both',      # both major and minor ticks are affected\n",
    "    bottom='off',      # ticks along the bottom edge are off\n",
    "    top='off',         # ticks along the top edge are off\n",
    "    labelbottom='on') # labels along the bottom edge are off\n",
    "\n",
    "plt.tick_params(\n",
    "    axis='y',          # changes apply to the x-axis\n",
    "    which='both',      # both major and minor ticks are affected\n",
    "    left='off',      # ticks along the bottom edge are off\n",
    "    right='off',         # ticks along the top edge are off\n",
    "    labelleft='on') # labels along the bottom edge are off\n",
    "\n",
    "file_name = '/n/data1/hms/dbmi/farhat/Roger/homoplasy_project/Figures/lab_meeting_12_12_19/pairwise_INDEL_distance/within_global_lineage_pairwise_INDEL_distances.png'\n",
    "#plt.savefig(file_name, bbox_inches='tight', dpi = 300 , transparent = True)\n",
    "\n",
    "plt.show()"
   ]
  },
  {
   "cell_type": "code",
   "execution_count": 94,
   "metadata": {},
   "outputs": [
    {
     "data": {
      "image/png": "[encoded data removed]",
      "text/plain": [
       "<Figure size 864x576 with 1 Axes>"
      ]
     },
     "metadata": {},
     "output_type": "display_data"
    }
   ],
   "source": []
  },
  {
   "cell_type": "code",
   "execution_count": null,
   "metadata": {},
   "outputs": [],
   "source": []
  },
  {
   "cell_type": "code",
   "execution_count": null,
   "metadata": {},
   "outputs": [],
   "source": []
  }
 ],
 "metadata": {
  "kernelspec": {
   "display_name": "Python [conda env:root] *",
   "language": "python",
   "name": "conda-root-py"
  },
  "language_info": {
   "codemirror_mode": {
    "name": "ipython",
    "version": 3
   },
   "file_extension": ".py",
   "mimetype": "text/x-python",
   "name": "python",
   "nbconvert_exporter": "python",
   "pygments_lexer": "ipython3",
   "version": "3.10.9"
  }
 },
 "nbformat": 4,
 "nbformat_minor": 4
}
