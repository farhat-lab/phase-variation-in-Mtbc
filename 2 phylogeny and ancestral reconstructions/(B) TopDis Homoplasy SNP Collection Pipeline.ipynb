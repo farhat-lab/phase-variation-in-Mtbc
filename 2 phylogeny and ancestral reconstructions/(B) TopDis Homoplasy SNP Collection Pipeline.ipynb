{
 "cells": [
  {
   "cell_type": "code",
   "execution_count": 1,
   "metadata": {},
   "outputs": [
    {
     "data": {
      "text/html": [
       "<style>.container { width:100% !important; }</style>"
      ],
      "text/plain": [
       "<IPython.core.display.HTML object>"
      ]
     },
     "metadata": {},
     "output_type": "display_data"
    }
   ],
   "source": [
    "from IPython.core.display import display, HTML\n",
    "display(HTML(\"<style>.container { width:100% !important; }</style>\"))"
   ]
  },
  {
   "cell_type": "markdown",
   "metadata": {},
   "source": [
    "####################################################################################################################################################################################"
   ]
  },
  {
   "cell_type": "markdown",
   "metadata": {},
   "source": [
    "## [1] Create a script that calculates the number of homoplasies that occur within a global lineage (phylogenetic tree constructed from all isolates typed into a lineage)"
   ]
  },
  {
   "cell_type": "markdown",
   "metadata": {},
   "source": [
    "####################################################################################################################################################################################"
   ]
  },
  {
   "cell_type": "code",
   "execution_count": 2,
   "metadata": {},
   "outputs": [],
   "source": [
    "import os\n",
    "import pandas as pd\n",
    "import numpy as np\n",
    "import sys\n",
    "\n",
    "import Bio\n",
    "from Bio.Alphabet import IUPAC\n",
    "from Bio.Blast.Applications import NcbiblastnCommandline\n",
    "from Bio.Blast import NCBIXML\n",
    "from Bio.Seq import Seq\n",
    "from Bio.SeqRecord import SeqRecord\n",
    "from Bio.SeqFeature import SeqFeature, FeatureLocation\n",
    "from Bio import pairwise2\n",
    "from Bio import SeqIO\n",
    "from Bio.Graphics import GenomeDiagram\n",
    "from Bio.SeqUtils import GC\n",
    "from Bio import Phylo\n",
    "from Bio.Align.Applications import MuscleCommandline\n",
    "from StringIO import StringIO\n",
    "from Bio import AlignIO\n",
    "from Bio.Align import AlignInfo\n",
    "from Bio.Seq import MutableSeq\n",
    "\n",
    "from collections import Counter\n",
    "from itertools import groupby\n",
    "from operator import itemgetter"
   ]
  },
  {
   "cell_type": "markdown",
   "metadata": {},
   "source": [
    "### Inputs"
   ]
  },
  {
   "cell_type": "code",
   "execution_count": 3,
   "metadata": {},
   "outputs": [],
   "source": [
    "global_lineage = '1' #INPUT 1 - global lineage\n",
    "spacer_length = 1 #INPUT 2 - length of spacer to define 'blocks' of allele types"
   ]
  },
  {
   "cell_type": "markdown",
   "metadata": {},
   "source": [
    "### [1] Load SNP genotype matrix and Annotation Files"
   ]
  },
  {
   "cell_type": "code",
   "execution_count": 4,
   "metadata": {},
   "outputs": [],
   "source": [
    "#load isolate annotation file (columns of Genotype Matrix)\n",
    "isolate_annotation_DF = pd.read_pickle('/n/data1/hms/dbmi/farhat/Roger/homoplasy_project/rolling_DB_scrape/Genotypes_Filtered_2/genotypes_isolate_annotation.pkl')\n",
    "\n",
    "#load SNP annotation file (rows of Genotype Matrix) with gene annotation information\n",
    "SNP_annotation_DF = pd.read_pickle('/n/data1/hms/dbmi/farhat/Roger/homoplasy_project/rolling_DB_scrape/Genotypes_Filtered_2/genotypes_SNP_annotation.pkl')\n",
    "\n",
    "#load Genotypes Matrix\n",
    "genotypes_array =  np.load('/n/data1/hms/dbmi/farhat/Roger/homoplasy_project/rolling_DB_scrape/Genotypes_Filtered_2/genotypes_matrix.npy')"
   ]
  },
  {
   "cell_type": "markdown",
   "metadata": {},
   "source": [
    "Columns of Genotype Matrix"
   ]
  },
  {
   "cell_type": "code",
   "execution_count": 5,
   "metadata": {},
   "outputs": [
    {
     "data": {
      "text/html": [
       "<div>\n",
       "<style>\n",
       "    .dataframe thead tr:only-child th {\n",
       "        text-align: right;\n",
       "    }\n",
       "\n",
       "    .dataframe thead th {\n",
       "        text-align: left;\n",
       "    }\n",
       "\n",
       "    .dataframe tbody tr th {\n",
       "        vertical-align: top;\n",
       "    }\n",
       "</style>\n",
       "<table border=\"1\" class=\"dataframe\">\n",
       "  <thead>\n",
       "    <tr style=\"text-align: right;\">\n",
       "      <th></th>\n",
       "      <th>lineage_1</th>\n",
       "      <th>lineage_2</th>\n",
       "      <th>lineage_3</th>\n",
       "      <th>lineage_4</th>\n",
       "      <th>lineage_5</th>\n",
       "      <th>lineage_6</th>\n",
       "      <th>lineage_7</th>\n",
       "      <th>lineage_8</th>\n",
       "      <th>lineage_9</th>\n",
       "      <th>lineage_10</th>\n",
       "      <th>lineage_11</th>\n",
       "      <th>isolate_ID</th>\n",
       "      <th>lineage_call</th>\n",
       "      <th>group</th>\n",
       "    </tr>\n",
       "  </thead>\n",
       "  <tbody>\n",
       "    <tr>\n",
       "      <th>0</th>\n",
       "      <td>4</td>\n",
       "      <td>2</td>\n",
       "      <td>1</td>\n",
       "      <td>2</td>\n",
       "      <td>1</td>\n",
       "      <td>1</td>\n",
       "      <td>i3</td>\n",
       "      <td>1</td>\n",
       "      <td>NaN</td>\n",
       "      <td>NaN</td>\n",
       "      <td>NaN</td>\n",
       "      <td>SAMEA3558733</td>\n",
       "      <td>4.2.1.2.1.1.i3.1</td>\n",
       "      <td>4B</td>\n",
       "    </tr>\n",
       "    <tr>\n",
       "      <th>1</th>\n",
       "      <td>4</td>\n",
       "      <td>2</td>\n",
       "      <td>1</td>\n",
       "      <td>2</td>\n",
       "      <td>2</td>\n",
       "      <td>1</td>\n",
       "      <td>1</td>\n",
       "      <td>NaN</td>\n",
       "      <td>NaN</td>\n",
       "      <td>NaN</td>\n",
       "      <td>NaN</td>\n",
       "      <td>SAMN03648641</td>\n",
       "      <td>4.2.1.2.2.1.1</td>\n",
       "      <td>4B</td>\n",
       "    </tr>\n",
       "    <tr>\n",
       "      <th>2</th>\n",
       "      <td>3</td>\n",
       "      <td>1</td>\n",
       "      <td>1</td>\n",
       "      <td>i1</td>\n",
       "      <td>NaN</td>\n",
       "      <td>NaN</td>\n",
       "      <td>NaN</td>\n",
       "      <td>NaN</td>\n",
       "      <td>NaN</td>\n",
       "      <td>NaN</td>\n",
       "      <td>NaN</td>\n",
       "      <td>SAMN03647419</td>\n",
       "      <td>3.1.1.i1</td>\n",
       "      <td>3</td>\n",
       "    </tr>\n",
       "    <tr>\n",
       "      <th>3</th>\n",
       "      <td>4</td>\n",
       "      <td>2</td>\n",
       "      <td>1</td>\n",
       "      <td>2</td>\n",
       "      <td>1</td>\n",
       "      <td>1</td>\n",
       "      <td>i1</td>\n",
       "      <td>NaN</td>\n",
       "      <td>NaN</td>\n",
       "      <td>NaN</td>\n",
       "      <td>NaN</td>\n",
       "      <td>SAMEA3671418</td>\n",
       "      <td>4.2.1.2.1.1.i1</td>\n",
       "      <td>4B</td>\n",
       "    </tr>\n",
       "    <tr>\n",
       "      <th>4</th>\n",
       "      <td>1</td>\n",
       "      <td>1</td>\n",
       "      <td>1</td>\n",
       "      <td>2</td>\n",
       "      <td>NaN</td>\n",
       "      <td>NaN</td>\n",
       "      <td>NaN</td>\n",
       "      <td>NaN</td>\n",
       "      <td>NaN</td>\n",
       "      <td>NaN</td>\n",
       "      <td>NaN</td>\n",
       "      <td>SAMN07659096</td>\n",
       "      <td>1.1.1.2</td>\n",
       "      <td>1</td>\n",
       "    </tr>\n",
       "  </tbody>\n",
       "</table>\n",
       "</div>"
      ],
      "text/plain": [
       "  lineage_1 lineage_2 lineage_3 lineage_4 lineage_5 lineage_6 lineage_7  \\\n",
       "0         4         2         1         2         1         1        i3   \n",
       "1         4         2         1         2         2         1         1   \n",
       "2         3         1         1        i1       NaN       NaN       NaN   \n",
       "3         4         2         1         2         1         1        i1   \n",
       "4         1         1         1         2       NaN       NaN       NaN   \n",
       "\n",
       "  lineage_8 lineage_9 lineage_10 lineage_11    isolate_ID      lineage_call  \\\n",
       "0         1       NaN        NaN        NaN  SAMEA3558733  4.2.1.2.1.1.i3.1   \n",
       "1       NaN       NaN        NaN        NaN  SAMN03648641     4.2.1.2.2.1.1   \n",
       "2       NaN       NaN        NaN        NaN  SAMN03647419          3.1.1.i1   \n",
       "3       NaN       NaN        NaN        NaN  SAMEA3671418    4.2.1.2.1.1.i1   \n",
       "4       NaN       NaN        NaN        NaN  SAMN07659096           1.1.1.2   \n",
       "\n",
       "  group  \n",
       "0    4B  \n",
       "1    4B  \n",
       "2     3  \n",
       "3    4B  \n",
       "4     1  "
      ]
     },
     "execution_count": 5,
     "metadata": {},
     "output_type": "execute_result"
    }
   ],
   "source": [
    "isolate_annotation_DF.head()"
   ]
  },
  {
   "cell_type": "code",
   "execution_count": 6,
   "metadata": {},
   "outputs": [
    {
     "data": {
      "text/plain": [
       "(31428, 14)"
      ]
     },
     "execution_count": 6,
     "metadata": {},
     "output_type": "execute_result"
    }
   ],
   "source": [
    "np.shape(isolate_annotation_DF)"
   ]
  },
  {
   "cell_type": "markdown",
   "metadata": {},
   "source": [
    "Rows of Genotype Matrix"
   ]
  },
  {
   "cell_type": "code",
   "execution_count": 7,
   "metadata": {},
   "outputs": [
    {
     "data": {
      "text/html": [
       "<div>\n",
       "<style>\n",
       "    .dataframe thead tr:only-child th {\n",
       "        text-align: right;\n",
       "    }\n",
       "\n",
       "    .dataframe thead th {\n",
       "        text-align: left;\n",
       "    }\n",
       "\n",
       "    .dataframe tbody tr th {\n",
       "        vertical-align: top;\n",
       "    }\n",
       "</style>\n",
       "<table border=\"1\" class=\"dataframe\">\n",
       "  <thead>\n",
       "    <tr style=\"text-align: right;\">\n",
       "      <th></th>\n",
       "      <th>pos</th>\n",
       "      <th>ref</th>\n",
       "      <th>alt</th>\n",
       "      <th>gene_id</th>\n",
       "      <th>gene_pos</th>\n",
       "      <th>gene_category</th>\n",
       "      <th>gene_name</th>\n",
       "    </tr>\n",
       "  </thead>\n",
       "  <tbody>\n",
       "    <tr>\n",
       "      <th>0</th>\n",
       "      <td>48</td>\n",
       "      <td>C</td>\n",
       "      <td>[T]</td>\n",
       "      <td>Rv0001</td>\n",
       "      <td>47.0</td>\n",
       "      <td>Essential</td>\n",
       "      <td>dnaA</td>\n",
       "    </tr>\n",
       "    <tr>\n",
       "      <th>1</th>\n",
       "      <td>64</td>\n",
       "      <td>G</td>\n",
       "      <td>[C]</td>\n",
       "      <td>Rv0001</td>\n",
       "      <td>63.0</td>\n",
       "      <td>Essential</td>\n",
       "      <td>dnaA</td>\n",
       "    </tr>\n",
       "    <tr>\n",
       "      <th>2</th>\n",
       "      <td>67</td>\n",
       "      <td>G</td>\n",
       "      <td>[A, T]</td>\n",
       "      <td>Rv0001</td>\n",
       "      <td>66.0</td>\n",
       "      <td>Essential</td>\n",
       "      <td>dnaA</td>\n",
       "    </tr>\n",
       "    <tr>\n",
       "      <th>3</th>\n",
       "      <td>69</td>\n",
       "      <td>C</td>\n",
       "      <td>[T]</td>\n",
       "      <td>Rv0001</td>\n",
       "      <td>68.0</td>\n",
       "      <td>Essential</td>\n",
       "      <td>dnaA</td>\n",
       "    </tr>\n",
       "    <tr>\n",
       "      <th>4</th>\n",
       "      <td>71</td>\n",
       "      <td>C</td>\n",
       "      <td>[T]</td>\n",
       "      <td>Rv0001</td>\n",
       "      <td>70.0</td>\n",
       "      <td>Essential</td>\n",
       "      <td>dnaA</td>\n",
       "    </tr>\n",
       "  </tbody>\n",
       "</table>\n",
       "</div>"
      ],
      "text/plain": [
       "   pos ref     alt gene_id  gene_pos gene_category gene_name\n",
       "0   48   C     [T]  Rv0001      47.0     Essential      dnaA\n",
       "1   64   G     [C]  Rv0001      63.0     Essential      dnaA\n",
       "2   67   G  [A, T]  Rv0001      66.0     Essential      dnaA\n",
       "3   69   C     [T]  Rv0001      68.0     Essential      dnaA\n",
       "4   71   C     [T]  Rv0001      70.0     Essential      dnaA"
      ]
     },
     "execution_count": 7,
     "metadata": {},
     "output_type": "execute_result"
    }
   ],
   "source": [
    "SNP_annotation_DF.head()"
   ]
  },
  {
   "cell_type": "code",
   "execution_count": 8,
   "metadata": {},
   "outputs": [
    {
     "data": {
      "text/plain": [
       "(782565, 7)"
      ]
     },
     "execution_count": 8,
     "metadata": {},
     "output_type": "execute_result"
    }
   ],
   "source": [
    "np.shape(SNP_annotation_DF)"
   ]
  },
  {
   "cell_type": "markdown",
   "metadata": {},
   "source": [
    "Genotype Matrix"
   ]
  },
  {
   "cell_type": "code",
   "execution_count": 9,
   "metadata": {},
   "outputs": [
    {
     "data": {
      "text/plain": [
       "array([[1, 1, 1, ..., 1, 1, 1],\n",
       "       [2, 2, 2, ..., 2, 2, 2],\n",
       "       [2, 2, 2, ..., 2, 2, 2],\n",
       "       ...,\n",
       "       [1, 9, 9, ..., 1, 1, 1],\n",
       "       [1, 9, 1, ..., 1, 1, 1],\n",
       "       [1, 9, 1, ..., 1, 1, 1]], dtype=int8)"
      ]
     },
     "execution_count": 9,
     "metadata": {},
     "output_type": "execute_result"
    }
   ],
   "source": [
    "genotypes_array"
   ]
  },
  {
   "cell_type": "code",
   "execution_count": 10,
   "metadata": {},
   "outputs": [
    {
     "data": {
      "text/plain": [
       "(782565, 31428)"
      ]
     },
     "execution_count": 10,
     "metadata": {},
     "output_type": "execute_result"
    }
   ],
   "source": [
    "np.shape(genotypes_array)"
   ]
  },
  {
   "cell_type": "markdown",
   "metadata": {},
   "source": [
    "### [2] Load in phylogeny created by Luca tree pipeline"
   ]
  },
  {
   "cell_type": "markdown",
   "metadata": {},
   "source": [
    "We're going to use Biopython's *Phylo* module to load phylogenetic trees created by Luca"
   ]
  },
  {
   "cell_type": "code",
   "execution_count": 11,
   "metadata": {},
   "outputs": [],
   "source": [
    "#path to tree\n",
    "phylogeny_path = '/n/data1/hms/dbmi/farhat/Roger/homoplasy_project/phylogenies/tree_output_files/phylogeny_lineage_' + global_lineage + '/tree_lineage_' + global_lineage + '_iqtree_FINAL.treefile'\n",
    "\n",
    "#parses and load tree\n",
    "tree = Phylo.parse(phylogeny_path , 'newick').next() \n",
    "\n",
    "#root the tree with the outgroup M. canettii [\"Normally you will want the outgroup to be a monophyletic group, rather than a single taxon.\"]\n",
    "tree.root_with_outgroup({\"name\":\"canettii\"})\n",
    "\n",
    "#flip branches so deeper clades are displayed at top\n",
    "#(sort clades in-place according to the # of terminal nodes)\n",
    "tree.ladderize()\n",
    "\n",
    "'''\n",
    "Can choose to root the tree at the midpoint instead\n",
    "#root the tree at the midpoint [\"Root the tree at the midpoint of the two most distant taxa.\"]\n",
    "tree.root_at_midpoint()\n",
    "'''\n",
    "\n",
    "#retrieves the terminal branches of the tree\n",
    "terminal_branches = tree.get_terminals() "
   ]
  },
  {
   "cell_type": "markdown",
   "metadata": {},
   "source": [
    "Number of branches on this tree"
   ]
  },
  {
   "cell_type": "code",
   "execution_count": 12,
   "metadata": {},
   "outputs": [
    {
     "data": {
      "text/plain": [
       "2816"
      ]
     },
     "execution_count": 12,
     "metadata": {},
     "output_type": "execute_result"
    }
   ],
   "source": [
    "len(terminal_branches)"
   ]
  },
  {
   "cell_type": "markdown",
   "metadata": {},
   "source": [
    "Retrieve the isolates that were used for this tree"
   ]
  },
  {
   "cell_type": "code",
   "execution_count": 13,
   "metadata": {},
   "outputs": [],
   "source": [
    "isolate_tags_in_phylogeny = [terminal_branches[i].name for i in range(0 , len(terminal_branches))]"
   ]
  },
  {
   "cell_type": "code",
   "execution_count": 14,
   "metadata": {},
   "outputs": [
    {
     "data": {
      "text/plain": [
       "2816"
      ]
     },
     "execution_count": 14,
     "metadata": {},
     "output_type": "execute_result"
    }
   ],
   "source": [
    "len(isolate_tags_in_phylogeny) #+1 for M. canetti"
   ]
  },
  {
   "cell_type": "markdown",
   "metadata": {},
   "source": [
    "### [3] Combine *genotypes matrix* and *phylogeny* (subset to intersecting isolate IDs)"
   ]
  },
  {
   "cell_type": "markdown",
   "metadata": {},
   "source": [
    "#### Find the intersection of isolate tags from Phylogeny & Genotypes Matrix"
   ]
  },
  {
   "cell_type": "code",
   "execution_count": 15,
   "metadata": {},
   "outputs": [],
   "source": [
    "isolate_tags_to_keep = list( set(isolate_annotation_DF.isolate_ID).intersection( set(isolate_tags_in_phylogeny) ) )"
   ]
  },
  {
   "cell_type": "code",
   "execution_count": 16,
   "metadata": {},
   "outputs": [
    {
     "data": {
      "text/plain": [
       "2815"
      ]
     },
     "execution_count": 16,
     "metadata": {},
     "output_type": "execute_result"
    }
   ],
   "source": [
    "len(isolate_tags_to_keep)"
   ]
  },
  {
   "cell_type": "markdown",
   "metadata": {},
   "source": [
    "#### Subset *terminal branches* from phylogeny to those included in genotype matrix"
   ]
  },
  {
   "cell_type": "code",
   "execution_count": 17,
   "metadata": {},
   "outputs": [],
   "source": [
    "isolate_tags_in_phylogeny_and_matrix_ordered = [isolate_tag for isolate_tag in isolate_tags_in_phylogeny if isolate_tag in isolate_tags_to_keep]"
   ]
  },
  {
   "cell_type": "code",
   "execution_count": 18,
   "metadata": {},
   "outputs": [
    {
     "data": {
      "text/plain": [
       "['0209688', 'SAMN07766112', 'SAMEA2783046', 'SAMEA2783143', 'SAMEA2783301']"
      ]
     },
     "execution_count": 18,
     "metadata": {},
     "output_type": "execute_result"
    }
   ],
   "source": [
    "isolate_tags_in_phylogeny_and_matrix_ordered[0:5]"
   ]
  },
  {
   "cell_type": "markdown",
   "metadata": {},
   "source": [
    "#### Subset *genotypes matrix* to only those isolates that are included in phylogeny"
   ]
  },
  {
   "cell_type": "code",
   "execution_count": 19,
   "metadata": {},
   "outputs": [],
   "source": [
    "isolates_to_keep_filter = [isolate_tag in isolate_tags_to_keep for isolate_tag in isolate_annotation_DF.isolate_ID]\n",
    "\n",
    "#filter isolate annotation df\n",
    "isolate_annotation_DF = isolate_annotation_DF[isolates_to_keep_filter]\n",
    "isolate_annotation_DF.reset_index(drop = True , inplace = True)\n",
    "\n",
    "#filter genotypes matrix\n",
    "genotypes_array = genotypes_array[ : , np.array(isolates_to_keep_filter)]                "
   ]
  },
  {
   "cell_type": "code",
   "execution_count": 20,
   "metadata": {},
   "outputs": [
    {
     "data": {
      "text/html": [
       "<div>\n",
       "<style>\n",
       "    .dataframe thead tr:only-child th {\n",
       "        text-align: right;\n",
       "    }\n",
       "\n",
       "    .dataframe thead th {\n",
       "        text-align: left;\n",
       "    }\n",
       "\n",
       "    .dataframe tbody tr th {\n",
       "        vertical-align: top;\n",
       "    }\n",
       "</style>\n",
       "<table border=\"1\" class=\"dataframe\">\n",
       "  <thead>\n",
       "    <tr style=\"text-align: right;\">\n",
       "      <th></th>\n",
       "      <th>lineage_1</th>\n",
       "      <th>lineage_2</th>\n",
       "      <th>lineage_3</th>\n",
       "      <th>lineage_4</th>\n",
       "      <th>lineage_5</th>\n",
       "      <th>lineage_6</th>\n",
       "      <th>lineage_7</th>\n",
       "      <th>lineage_8</th>\n",
       "      <th>lineage_9</th>\n",
       "      <th>lineage_10</th>\n",
       "      <th>lineage_11</th>\n",
       "      <th>isolate_ID</th>\n",
       "      <th>lineage_call</th>\n",
       "      <th>group</th>\n",
       "    </tr>\n",
       "  </thead>\n",
       "  <tbody>\n",
       "    <tr>\n",
       "      <th>0</th>\n",
       "      <td>1</td>\n",
       "      <td>1</td>\n",
       "      <td>1</td>\n",
       "      <td>2</td>\n",
       "      <td>NaN</td>\n",
       "      <td>NaN</td>\n",
       "      <td>NaN</td>\n",
       "      <td>NaN</td>\n",
       "      <td>NaN</td>\n",
       "      <td>NaN</td>\n",
       "      <td>NaN</td>\n",
       "      <td>SAMN07659096</td>\n",
       "      <td>1.1.1.2</td>\n",
       "      <td>1</td>\n",
       "    </tr>\n",
       "    <tr>\n",
       "      <th>1</th>\n",
       "      <td>1</td>\n",
       "      <td>2</td>\n",
       "      <td>1</td>\n",
       "      <td>1</td>\n",
       "      <td>1</td>\n",
       "      <td>NaN</td>\n",
       "      <td>NaN</td>\n",
       "      <td>NaN</td>\n",
       "      <td>NaN</td>\n",
       "      <td>NaN</td>\n",
       "      <td>NaN</td>\n",
       "      <td>SAMEA5542113</td>\n",
       "      <td>1.2.1.1.1</td>\n",
       "      <td>1</td>\n",
       "    </tr>\n",
       "  </tbody>\n",
       "</table>\n",
       "</div>"
      ],
      "text/plain": [
       "  lineage_1 lineage_2 lineage_3 lineage_4 lineage_5 lineage_6 lineage_7  \\\n",
       "0         1         1         1         2       NaN       NaN       NaN   \n",
       "1         1         2         1         1         1       NaN       NaN   \n",
       "\n",
       "  lineage_8 lineage_9 lineage_10 lineage_11    isolate_ID lineage_call group  \n",
       "0       NaN       NaN        NaN        NaN  SAMN07659096      1.1.1.2     1  \n",
       "1       NaN       NaN        NaN        NaN  SAMEA5542113    1.2.1.1.1     1  "
      ]
     },
     "execution_count": 20,
     "metadata": {},
     "output_type": "execute_result"
    }
   ],
   "source": [
    "isolate_annotation_DF.head(n=2)"
   ]
  },
  {
   "cell_type": "code",
   "execution_count": 21,
   "metadata": {},
   "outputs": [
    {
     "data": {
      "text/plain": [
       "(2815, 14)"
      ]
     },
     "execution_count": 21,
     "metadata": {},
     "output_type": "execute_result"
    }
   ],
   "source": [
    "np.shape(isolate_annotation_DF)"
   ]
  },
  {
   "cell_type": "code",
   "execution_count": 22,
   "metadata": {},
   "outputs": [
    {
     "data": {
      "text/html": [
       "<div>\n",
       "<style>\n",
       "    .dataframe thead tr:only-child th {\n",
       "        text-align: right;\n",
       "    }\n",
       "\n",
       "    .dataframe thead th {\n",
       "        text-align: left;\n",
       "    }\n",
       "\n",
       "    .dataframe tbody tr th {\n",
       "        vertical-align: top;\n",
       "    }\n",
       "</style>\n",
       "<table border=\"1\" class=\"dataframe\">\n",
       "  <thead>\n",
       "    <tr style=\"text-align: right;\">\n",
       "      <th></th>\n",
       "      <th>pos</th>\n",
       "      <th>ref</th>\n",
       "      <th>alt</th>\n",
       "      <th>gene_id</th>\n",
       "      <th>gene_pos</th>\n",
       "      <th>gene_category</th>\n",
       "      <th>gene_name</th>\n",
       "    </tr>\n",
       "  </thead>\n",
       "  <tbody>\n",
       "    <tr>\n",
       "      <th>0</th>\n",
       "      <td>48</td>\n",
       "      <td>C</td>\n",
       "      <td>[T]</td>\n",
       "      <td>Rv0001</td>\n",
       "      <td>47.0</td>\n",
       "      <td>Essential</td>\n",
       "      <td>dnaA</td>\n",
       "    </tr>\n",
       "    <tr>\n",
       "      <th>1</th>\n",
       "      <td>64</td>\n",
       "      <td>G</td>\n",
       "      <td>[C]</td>\n",
       "      <td>Rv0001</td>\n",
       "      <td>63.0</td>\n",
       "      <td>Essential</td>\n",
       "      <td>dnaA</td>\n",
       "    </tr>\n",
       "  </tbody>\n",
       "</table>\n",
       "</div>"
      ],
      "text/plain": [
       "   pos ref  alt gene_id  gene_pos gene_category gene_name\n",
       "0   48   C  [T]  Rv0001      47.0     Essential      dnaA\n",
       "1   64   G  [C]  Rv0001      63.0     Essential      dnaA"
      ]
     },
     "execution_count": 22,
     "metadata": {},
     "output_type": "execute_result"
    }
   ],
   "source": [
    "SNP_annotation_DF.head(n=2)"
   ]
  },
  {
   "cell_type": "code",
   "execution_count": 23,
   "metadata": {},
   "outputs": [
    {
     "data": {
      "text/plain": [
       "(782565, 7)"
      ]
     },
     "execution_count": 23,
     "metadata": {},
     "output_type": "execute_result"
    }
   ],
   "source": [
    "np.shape(SNP_annotation_DF)"
   ]
  },
  {
   "cell_type": "code",
   "execution_count": 24,
   "metadata": {},
   "outputs": [
    {
     "data": {
      "text/plain": [
       "array([[1, 1, 1, ..., 1, 1, 1],\n",
       "       [2, 2, 2, ..., 2, 2, 2],\n",
       "       [2, 2, 2, ..., 2, 2, 2],\n",
       "       ...,\n",
       "       [1, 1, 1, ..., 1, 1, 1],\n",
       "       [1, 1, 1, ..., 1, 1, 1],\n",
       "       [1, 1, 1, ..., 1, 1, 1]], dtype=int8)"
      ]
     },
     "execution_count": 24,
     "metadata": {},
     "output_type": "execute_result"
    }
   ],
   "source": [
    "genotypes_array"
   ]
  },
  {
   "cell_type": "code",
   "execution_count": 25,
   "metadata": {
    "scrolled": true
   },
   "outputs": [
    {
     "data": {
      "text/plain": [
       "(782565, 2815)"
      ]
     },
     "execution_count": 25,
     "metadata": {},
     "output_type": "execute_result"
    }
   ],
   "source": [
    "np.shape(genotypes_array)"
   ]
  },
  {
   "cell_type": "markdown",
   "metadata": {},
   "source": [
    "#### Drop SNPs where *minor* allele(s) occurs in $<$ 1 isolate"
   ]
  },
  {
   "cell_type": "markdown",
   "metadata": {},
   "source": [
    "Many isolates were dropped in considering only isolates from this lineage. So if there were SNPs in which the alternate allele(s) was present in 2 isolates and 1 was dropped (or both were dropped), then there is only 1 (or 0) isolate(s) with the alternate allele left in the *Genotypes Matrix*. Let's drop all SNPs in which the minor (reference or alternate) allele is present in no isolate(s).\n",
    "\n",
    "1. For each row of matrix (SNP) we will count the number of **0's**, **1's**, **2's** and **3's**.\n",
    "1. For each SNP we will take the max( number of 0's , number of 1's , number of 2's , number of 3's ) to get a count of the **major allele**\n",
    "1. For each SNP we will sum up the total number of isolates with a designated allele (not a 9), to get the count of **non-missing** calls\n",
    "1. We will then subtract the **count of major alleles** from the **number of non-missing calls** to get the number of isolates with the minor allele(s) for each SNP.\n",
    "1. We will discard all SNPs for which the minor allele(s) occurs in NO isolates"
   ]
  },
  {
   "cell_type": "code",
   "execution_count": 26,
   "metadata": {},
   "outputs": [],
   "source": [
    "genotypes_matrix_SNP_0_count = list( np.sum( genotypes_array == 0 , axis = 1 ) ) #A\n",
    "genotypes_matrix_SNP_1_count = list( np.sum( genotypes_array == 1 , axis = 1 ) ) #C\n",
    "genotypes_matrix_SNP_2_count = list( np.sum( genotypes_array == 2 , axis = 1 ) ) #G\n",
    "genotypes_matrix_SNP_3_count = list( np.sum( genotypes_array == 3 , axis = 1 ) ) #T\n",
    "\n",
    "genotypes_matrix_SNP_non_missing_count = np.sum( genotypes_array != 9 , axis = 1 ) #Non-Missing Data\n",
    "genotypes_matrix_major_allele_count = np.array( [ max(zero_count , one_count , two_count , three_count) for zero_count , one_count , two_count , three_count in zip(genotypes_matrix_SNP_0_count , genotypes_matrix_SNP_1_count , genotypes_matrix_SNP_2_count , genotypes_matrix_SNP_3_count) ] )\n",
    "\n",
    "#Number of isolates with the minor allele(s) for each SNP\n",
    "genotypes_matrix_minor_alleles_count = genotypes_matrix_SNP_non_missing_count - genotypes_matrix_major_allele_count"
   ]
  },
  {
   "cell_type": "code",
   "execution_count": 27,
   "metadata": {},
   "outputs": [
    {
     "data": {
      "text/plain": [
       "array([  0,   0,   1, ...,   0, 505,   0])"
      ]
     },
     "execution_count": 27,
     "metadata": {},
     "output_type": "execute_result"
    }
   ],
   "source": [
    "genotypes_matrix_minor_alleles_count"
   ]
  },
  {
   "cell_type": "code",
   "execution_count": 28,
   "metadata": {},
   "outputs": [
    {
     "data": {
      "text/plain": [
       "782565"
      ]
     },
     "execution_count": 28,
     "metadata": {},
     "output_type": "execute_result"
    }
   ],
   "source": [
    "len(genotypes_matrix_minor_alleles_count)"
   ]
  },
  {
   "cell_type": "markdown",
   "metadata": {},
   "source": [
    "Number of SNPs that we're going to drop because the minor (alternate or reference) allele(s) is present in *no* isolates."
   ]
  },
  {
   "cell_type": "code",
   "execution_count": 29,
   "metadata": {},
   "outputs": [
    {
     "data": {
      "text/plain": [
       "593525"
      ]
     },
     "execution_count": 29,
     "metadata": {},
     "output_type": "execute_result"
    }
   ],
   "source": [
    "np.sum( np.array( genotypes_matrix_minor_alleles_count ) < 1 )"
   ]
  },
  {
   "cell_type": "code",
   "execution_count": 30,
   "metadata": {},
   "outputs": [],
   "source": [
    "#boolean list that is 'True' for all SNPs where the minor allele is present in at least 1 isolate\n",
    "SNPs_to_keep_filter = list( np.array( genotypes_matrix_minor_alleles_count ) >= 1 )"
   ]
  },
  {
   "cell_type": "markdown",
   "metadata": {},
   "source": [
    "SNPs that had at least 1 isolate with minor allele"
   ]
  },
  {
   "cell_type": "code",
   "execution_count": 31,
   "metadata": {},
   "outputs": [
    {
     "data": {
      "text/plain": [
       "189040"
      ]
     },
     "execution_count": 31,
     "metadata": {},
     "output_type": "execute_result"
    }
   ],
   "source": [
    "np.sum(SNPs_to_keep_filter)"
   ]
  },
  {
   "cell_type": "code",
   "execution_count": 32,
   "metadata": {},
   "outputs": [],
   "source": [
    "#filter SNP annotation DF\n",
    "SNP_annotation_DF = SNP_annotation_DF[SNPs_to_keep_filter]\n",
    "\n",
    "#reindex SNP annotation DF\n",
    "SNP_annotation_DF.reset_index(drop = True , inplace = True)\n",
    "\n",
    "#filter Genotype Matrix \n",
    "genotypes_array = genotypes_array[np.array(SNPs_to_keep_filter) , : ]"
   ]
  },
  {
   "cell_type": "code",
   "execution_count": 33,
   "metadata": {},
   "outputs": [
    {
     "data": {
      "text/plain": [
       "(189040, 2815)"
      ]
     },
     "execution_count": 33,
     "metadata": {},
     "output_type": "execute_result"
    }
   ],
   "source": [
    "np.shape(genotypes_array)"
   ]
  },
  {
   "cell_type": "code",
   "execution_count": 34,
   "metadata": {},
   "outputs": [
    {
     "data": {
      "text/plain": [
       "(189040, 7)"
      ]
     },
     "execution_count": 34,
     "metadata": {},
     "output_type": "execute_result"
    }
   ],
   "source": [
    "np.shape(SNP_annotation_DF)"
   ]
  },
  {
   "cell_type": "code",
   "execution_count": 35,
   "metadata": {},
   "outputs": [
    {
     "data": {
      "text/html": [
       "<div>\n",
       "<style>\n",
       "    .dataframe thead tr:only-child th {\n",
       "        text-align: right;\n",
       "    }\n",
       "\n",
       "    .dataframe thead th {\n",
       "        text-align: left;\n",
       "    }\n",
       "\n",
       "    .dataframe tbody tr th {\n",
       "        vertical-align: top;\n",
       "    }\n",
       "</style>\n",
       "<table border=\"1\" class=\"dataframe\">\n",
       "  <thead>\n",
       "    <tr style=\"text-align: right;\">\n",
       "      <th></th>\n",
       "      <th>pos</th>\n",
       "      <th>ref</th>\n",
       "      <th>alt</th>\n",
       "      <th>gene_id</th>\n",
       "      <th>gene_pos</th>\n",
       "      <th>gene_category</th>\n",
       "      <th>gene_name</th>\n",
       "    </tr>\n",
       "  </thead>\n",
       "  <tbody>\n",
       "    <tr>\n",
       "      <th>0</th>\n",
       "      <td>67</td>\n",
       "      <td>G</td>\n",
       "      <td>[A, T]</td>\n",
       "      <td>Rv0001</td>\n",
       "      <td>66.0</td>\n",
       "      <td>Essential</td>\n",
       "      <td>dnaA</td>\n",
       "    </tr>\n",
       "    <tr>\n",
       "      <th>1</th>\n",
       "      <td>75</td>\n",
       "      <td>G</td>\n",
       "      <td>[A]</td>\n",
       "      <td>Rv0001</td>\n",
       "      <td>74.0</td>\n",
       "      <td>Essential</td>\n",
       "      <td>dnaA</td>\n",
       "    </tr>\n",
       "    <tr>\n",
       "      <th>2</th>\n",
       "      <td>91</td>\n",
       "      <td>A</td>\n",
       "      <td>[C]</td>\n",
       "      <td>Rv0001</td>\n",
       "      <td>90.0</td>\n",
       "      <td>Essential</td>\n",
       "      <td>dnaA</td>\n",
       "    </tr>\n",
       "    <tr>\n",
       "      <th>3</th>\n",
       "      <td>108</td>\n",
       "      <td>C</td>\n",
       "      <td>[A, T]</td>\n",
       "      <td>Rv0001</td>\n",
       "      <td>107.0</td>\n",
       "      <td>Essential</td>\n",
       "      <td>dnaA</td>\n",
       "    </tr>\n",
       "    <tr>\n",
       "      <th>4</th>\n",
       "      <td>129</td>\n",
       "      <td>G</td>\n",
       "      <td>[A]</td>\n",
       "      <td>Rv0001</td>\n",
       "      <td>128.0</td>\n",
       "      <td>Essential</td>\n",
       "      <td>dnaA</td>\n",
       "    </tr>\n",
       "  </tbody>\n",
       "</table>\n",
       "</div>"
      ],
      "text/plain": [
       "   pos ref     alt gene_id  gene_pos gene_category gene_name\n",
       "0   67   G  [A, T]  Rv0001      66.0     Essential      dnaA\n",
       "1   75   G     [A]  Rv0001      74.0     Essential      dnaA\n",
       "2   91   A     [C]  Rv0001      90.0     Essential      dnaA\n",
       "3  108   C  [A, T]  Rv0001     107.0     Essential      dnaA\n",
       "4  129   G     [A]  Rv0001     128.0     Essential      dnaA"
      ]
     },
     "execution_count": 35,
     "metadata": {},
     "output_type": "execute_result"
    }
   ],
   "source": [
    "SNP_annotation_DF.head()"
   ]
  },
  {
   "cell_type": "markdown",
   "metadata": {},
   "source": [
    "### [4] Search for evidence of homoplasy within the set of isolates using the terminal branches"
   ]
  },
  {
   "cell_type": "markdown",
   "metadata": {},
   "source": [
    "#### Re-order the isolates according to the order of the terminal branches of the phylogeny"
   ]
  },
  {
   "cell_type": "code",
   "execution_count": 36,
   "metadata": {},
   "outputs": [],
   "source": [
    "terminal_branch_isolate_order = []\n",
    "\n",
    "for isolate_ID in isolate_tags_in_phylogeny_and_matrix_ordered:\n",
    "    \n",
    "    isolate_ID_index = isolate_annotation_DF[isolate_annotation_DF.isolate_ID == isolate_ID].index[0]\n",
    "    terminal_branch_isolate_order.append(isolate_ID_index)"
   ]
  },
  {
   "cell_type": "code",
   "execution_count": 37,
   "metadata": {},
   "outputs": [
    {
     "data": {
      "text/plain": [
       "2815"
      ]
     },
     "execution_count": 37,
     "metadata": {},
     "output_type": "execute_result"
    }
   ],
   "source": [
    "len(terminal_branch_isolate_order)"
   ]
  },
  {
   "cell_type": "markdown",
   "metadata": {},
   "source": [
    "Re-order the columns of the **Genotypes Array**"
   ]
  },
  {
   "cell_type": "code",
   "execution_count": 38,
   "metadata": {},
   "outputs": [],
   "source": [
    "genotypes_array = genotypes_array[: , terminal_branch_isolate_order]"
   ]
  },
  {
   "cell_type": "markdown",
   "metadata": {},
   "source": [
    "Re-order the rows of the **Isolate Annotation DF**"
   ]
  },
  {
   "cell_type": "code",
   "execution_count": 39,
   "metadata": {},
   "outputs": [],
   "source": [
    "isolate_annotation_DF = isolate_annotation_DF.iloc[terminal_branch_isolate_order , :]\n",
    "\n",
    "#reset the index\n",
    "isolate_annotation_DF.reset_index(inplace = True, drop = True)"
   ]
  },
  {
   "cell_type": "code",
   "execution_count": 40,
   "metadata": {},
   "outputs": [
    {
     "data": {
      "text/html": [
       "<div>\n",
       "<style>\n",
       "    .dataframe thead tr:only-child th {\n",
       "        text-align: right;\n",
       "    }\n",
       "\n",
       "    .dataframe thead th {\n",
       "        text-align: left;\n",
       "    }\n",
       "\n",
       "    .dataframe tbody tr th {\n",
       "        vertical-align: top;\n",
       "    }\n",
       "</style>\n",
       "<table border=\"1\" class=\"dataframe\">\n",
       "  <thead>\n",
       "    <tr style=\"text-align: right;\">\n",
       "      <th></th>\n",
       "      <th>lineage_1</th>\n",
       "      <th>lineage_2</th>\n",
       "      <th>lineage_3</th>\n",
       "      <th>lineage_4</th>\n",
       "      <th>lineage_5</th>\n",
       "      <th>lineage_6</th>\n",
       "      <th>lineage_7</th>\n",
       "      <th>lineage_8</th>\n",
       "      <th>lineage_9</th>\n",
       "      <th>lineage_10</th>\n",
       "      <th>lineage_11</th>\n",
       "      <th>isolate_ID</th>\n",
       "      <th>lineage_call</th>\n",
       "      <th>group</th>\n",
       "    </tr>\n",
       "  </thead>\n",
       "  <tbody>\n",
       "    <tr>\n",
       "      <th>0</th>\n",
       "      <td>1</td>\n",
       "      <td>1</td>\n",
       "      <td>1</td>\n",
       "      <td>1</td>\n",
       "      <td>1</td>\n",
       "      <td>NaN</td>\n",
       "      <td>NaN</td>\n",
       "      <td>NaN</td>\n",
       "      <td>NaN</td>\n",
       "      <td>NaN</td>\n",
       "      <td>NaN</td>\n",
       "      <td>0209688</td>\n",
       "      <td>1.1.1.1.1</td>\n",
       "      <td>1</td>\n",
       "    </tr>\n",
       "    <tr>\n",
       "      <th>1</th>\n",
       "      <td>1</td>\n",
       "      <td>1</td>\n",
       "      <td>1</td>\n",
       "      <td>1</td>\n",
       "      <td>1</td>\n",
       "      <td>NaN</td>\n",
       "      <td>NaN</td>\n",
       "      <td>NaN</td>\n",
       "      <td>NaN</td>\n",
       "      <td>NaN</td>\n",
       "      <td>NaN</td>\n",
       "      <td>SAMN07766112</td>\n",
       "      <td>1.1.1.1.1</td>\n",
       "      <td>1</td>\n",
       "    </tr>\n",
       "    <tr>\n",
       "      <th>2</th>\n",
       "      <td>1</td>\n",
       "      <td>1</td>\n",
       "      <td>1</td>\n",
       "      <td>1</td>\n",
       "      <td>1</td>\n",
       "      <td>NaN</td>\n",
       "      <td>NaN</td>\n",
       "      <td>NaN</td>\n",
       "      <td>NaN</td>\n",
       "      <td>NaN</td>\n",
       "      <td>NaN</td>\n",
       "      <td>SAMEA2783046</td>\n",
       "      <td>1.1.1.1.1</td>\n",
       "      <td>1</td>\n",
       "    </tr>\n",
       "    <tr>\n",
       "      <th>3</th>\n",
       "      <td>1</td>\n",
       "      <td>1</td>\n",
       "      <td>1</td>\n",
       "      <td>1</td>\n",
       "      <td>1</td>\n",
       "      <td>NaN</td>\n",
       "      <td>NaN</td>\n",
       "      <td>NaN</td>\n",
       "      <td>NaN</td>\n",
       "      <td>NaN</td>\n",
       "      <td>NaN</td>\n",
       "      <td>SAMEA2783143</td>\n",
       "      <td>1.1.1.1.1</td>\n",
       "      <td>1</td>\n",
       "    </tr>\n",
       "    <tr>\n",
       "      <th>4</th>\n",
       "      <td>1</td>\n",
       "      <td>1</td>\n",
       "      <td>1</td>\n",
       "      <td>1</td>\n",
       "      <td>1</td>\n",
       "      <td>NaN</td>\n",
       "      <td>NaN</td>\n",
       "      <td>NaN</td>\n",
       "      <td>NaN</td>\n",
       "      <td>NaN</td>\n",
       "      <td>NaN</td>\n",
       "      <td>SAMEA2783301</td>\n",
       "      <td>1.1.1.1.1</td>\n",
       "      <td>1</td>\n",
       "    </tr>\n",
       "  </tbody>\n",
       "</table>\n",
       "</div>"
      ],
      "text/plain": [
       "  lineage_1 lineage_2 lineage_3 lineage_4 lineage_5 lineage_6 lineage_7  \\\n",
       "0         1         1         1         1         1       NaN       NaN   \n",
       "1         1         1         1         1         1       NaN       NaN   \n",
       "2         1         1         1         1         1       NaN       NaN   \n",
       "3         1         1         1         1         1       NaN       NaN   \n",
       "4         1         1         1         1         1       NaN       NaN   \n",
       "\n",
       "  lineage_8 lineage_9 lineage_10 lineage_11    isolate_ID lineage_call group  \n",
       "0       NaN       NaN        NaN        NaN       0209688    1.1.1.1.1     1  \n",
       "1       NaN       NaN        NaN        NaN  SAMN07766112    1.1.1.1.1     1  \n",
       "2       NaN       NaN        NaN        NaN  SAMEA2783046    1.1.1.1.1     1  \n",
       "3       NaN       NaN        NaN        NaN  SAMEA2783143    1.1.1.1.1     1  \n",
       "4       NaN       NaN        NaN        NaN  SAMEA2783301    1.1.1.1.1     1  "
      ]
     },
     "execution_count": 40,
     "metadata": {},
     "output_type": "execute_result"
    }
   ],
   "source": [
    "isolate_annotation_DF.head()"
   ]
  },
  {
   "cell_type": "markdown",
   "metadata": {},
   "source": [
    "#### Define function to calculate Homoplasy Score for each SNP"
   ]
  },
  {
   "cell_type": "markdown",
   "metadata": {},
   "source": [
    "Allele <-> code mapping"
   ]
  },
  {
   "cell_type": "code",
   "execution_count": 41,
   "metadata": {},
   "outputs": [],
   "source": [
    "allele_code_map_dict = {'A':0 , 'C':1 , 'G':2 , 'T':3}\n",
    "allele_code_map_dict_r = {0:'A' , 1:'C' , 2:'G' , 3:'T'}"
   ]
  },
  {
   "cell_type": "code",
   "execution_count": 42,
   "metadata": {},
   "outputs": [],
   "source": [
    "def calc_homoplasy_score_for_SNP(SNP_i):\n",
    "\n",
    "    #get annotation for this SNP\n",
    "    SNP_i_annotation = SNP_annotation_DF.loc[SNP_i , :]\n",
    "\n",
    "    #> Find the minor allele(s) (and respective codes) for this SNP\n",
    "    #create a list of the bases supported by at least 1 isolates at this reference position\n",
    "    SNP_i_alleles = [SNP_i_annotation.ref] + SNP_i_annotation.alt\n",
    "\n",
    "    #get the codes for each allele\n",
    "    SNP_i_allele_codes = [allele_code_map_dict[allele_i] for allele_i in SNP_i_alleles]\n",
    "\n",
    "    #get genotypes for SNP\n",
    "    SNP_i_genotypes = genotypes_array[SNP_i , :]\n",
    "\n",
    "    #get the number of isolates supporting each allele\n",
    "    num_isolates_with_allele_series = pd.Series(index = SNP_i_allele_codes)\n",
    "\n",
    "    for SNP_allele_code_i in SNP_i_allele_codes:\n",
    "\n",
    "        num_isolate_with_allele_i = np.sum( SNP_i_genotypes == SNP_allele_code_i )\n",
    "        num_isolates_with_allele_series[SNP_allele_code_i] = num_isolate_with_allele_i\n",
    "\n",
    "    #sort series containing num isolates w/ each allele in increasing order\n",
    "    num_isolates_with_allele_series.sort_values(ascending = True , inplace = True)\n",
    "\n",
    "    #all alleles but the last one (allele called in a majority of isolates) are the minor allele(s) for this SNP\n",
    "    minor_allele_codes = list( num_isolates_with_allele_series.index[:-1] )\n",
    "\n",
    "    #create a list that stores the number of homoplasies for each minor allele\n",
    "    SNP_i_homoplasy_score_list = []\n",
    "\n",
    "    #> Iterate through all minor alleles and look for evidence of homoplasy\n",
    "    for SNP_i_minor_allele in minor_allele_codes:\n",
    "\n",
    "        #> Find all the subsets of continuous minor alleles within the terminal brances (including 9's)\n",
    "        #> Create a boolean array that is *True* if SNP_i was called as the minor allele or missing data for the isolate, and *False* if SNP_i was called at the major allele or other minor allele(s)\n",
    "\n",
    "        SNP_i_genotypes_bool_minor_allele = SNP_i_genotypes == SNP_i_minor_allele #TRUE where isolates support minor allele\n",
    "        SNP_i_genotypes_bool_missing_data = SNP_i_genotypes == 9 #TRUE where isolates had missing data for this SNP\n",
    "\n",
    "        SNP_i_genotypes_bool = [(SNP_i_minor_allele_for_isolate or SNP_i_missing_data_for_isolate) for SNP_i_minor_allele_for_isolate, SNP_i_missing_data_for_isolate in zip(SNP_i_genotypes_bool_minor_allele, SNP_i_genotypes_bool_missing_data)]\n",
    "\n",
    "        #> Return the indices of the array where the elements are marked *True*\n",
    "        SNP_i_genotypes_indices_with_minor_allele = np.arange(0 , len(SNP_i_genotypes_bool))[SNP_i_genotypes_bool]\n",
    "\n",
    "        #1. run through the indices of the isolates with the minor allele\n",
    "        #2. for each consective *block* of isolates with the minor allele store the isolate ID indices in a seperate list\n",
    "        #3. pull the genotypes from the indices and make sure there is at least a single isolate with the minor allele (it's not all just 9's)\n",
    "        #4. for each block of Isolate indices, retrieve isolate IDs from annotation DF\n",
    "\n",
    "        '''\n",
    "        isolate_blocks_with_minor_allele = []\n",
    "        #if consecutive isolates with minor allele have at least 1 isolate with major allele between them\n",
    "        for k, g in groupby(enumerate(SNP_i_genotypes_indices_with_minor_allele), lambda (i, x): i-x):\n",
    "\n",
    "            #get a list of consecutive isolate indices that are located next to eachother on the phylogeny\n",
    "            isolate_block_w_minor_allele_indices = map(itemgetter(1), g)\n",
    "\n",
    "            #SNP genotypes for isolates\n",
    "            isolate_block_genotypes = SNP_i_genotypes[isolate_block_w_minor_allele_indices]\n",
    "\n",
    "            #check to see that at least 1 isolate had a good call for the minor allele within the block\n",
    "            if SNP_i_minor_allele in isolate_block_genotypes:\n",
    "\n",
    "                #pull the isolate IDs for each index\n",
    "                isolate_block_w_minor_allele_IDs = [{'name':isolate_annotation_DF.loc[isolate_index , 'isolate_ID']} for isolate_index in isolate_block_w_minor_allele_indices]\n",
    "\n",
    "                #append to list of blocks of isolates w/ minor allele\n",
    "                isolate_blocks_with_minor_allele.append(isolate_block_w_minor_allele_IDs)\n",
    "        '''\n",
    "\n",
    "        ########################################################################################################################\n",
    "        isolate_blocks_with_minor_allele = []\n",
    "\n",
    "        #if consecutive isolates with minor allele have at least (spacer_length) isolates with major allele (or other minor allele) between them\n",
    "        isolate_block_w_minor_allele_indices = []\n",
    "        for i in np.arange(0 , len(SNP_i_genotypes_indices_with_minor_allele)-1):\n",
    "\n",
    "            space_btwn_genotype_indices = SNP_i_genotypes_indices_with_minor_allele[i+1] - SNP_i_genotypes_indices_with_minor_allele[i]\n",
    "            if space_btwn_genotype_indices <= spacer_length:\n",
    "\n",
    "                isolate_block_w_minor_allele_indices.append(SNP_i_genotypes_indices_with_minor_allele[i])\n",
    "\n",
    "                #check if second to last index\n",
    "                if i+1 == (len(SNP_i_genotypes_indices_with_minor_allele)-1):\n",
    "\n",
    "                    isolate_block_w_minor_allele_indices.append(SNP_i_genotypes_indices_with_minor_allele[i+1])\n",
    "\n",
    "                    #######################################################\n",
    "                    #SNP genotypes for isolates\n",
    "                    isolate_block_genotypes = SNP_i_genotypes[isolate_block_w_minor_allele_indices]\n",
    "\n",
    "                    #check to see that at least 1 isolate had a good call for the minor allele within the block\n",
    "                    if SNP_i_minor_allele in isolate_block_genotypes:\n",
    "\n",
    "                        #pull the isolate IDs for each index\n",
    "                        isolate_block_w_minor_allele_IDs = [{'name':isolate_annotation_DF.loc[isolate_index , 'isolate_ID']} for isolate_index in isolate_block_w_minor_allele_indices]\n",
    "\n",
    "                        #append to list of blocks of isolates w/ minor allele\n",
    "                        isolate_blocks_with_minor_allele.append(isolate_block_w_minor_allele_IDs)\n",
    "                    #######################################################\n",
    "\n",
    "            elif space_btwn_genotype_indices > spacer_length:\n",
    "\n",
    "                isolate_block_w_minor_allele_indices.append(SNP_i_genotypes_indices_with_minor_allele[i])\n",
    "\n",
    "                #######################################################\n",
    "                #SNP genotypes for isolates\n",
    "                isolate_block_genotypes = SNP_i_genotypes[isolate_block_w_minor_allele_indices]\n",
    "\n",
    "                #check to see that at least 1 isolate had a good call for the minor allele within the block\n",
    "                if SNP_i_minor_allele in isolate_block_genotypes:\n",
    "\n",
    "                    #pull the isolate IDs for each index\n",
    "                    isolate_block_w_minor_allele_IDs = [{'name':isolate_annotation_DF.loc[isolate_index , 'isolate_ID']} for isolate_index in isolate_block_w_minor_allele_indices]\n",
    "\n",
    "                    #append to list of blocks of isolates w/ minor allele\n",
    "                    isolate_blocks_with_minor_allele.append(isolate_block_w_minor_allele_IDs)\n",
    "                #######################################################\n",
    "\n",
    "                isolate_block_w_minor_allele_indices = []\n",
    "\n",
    "                #check if second to last index\n",
    "                if i+1 == (len(SNP_i_genotypes_indices_with_minor_allele)-1):\n",
    "\n",
    "                    isolate_block_w_minor_allele_indices.append(SNP_i_genotypes_indices_with_minor_allele[i+1])\n",
    "\n",
    "                    #######################################################\n",
    "                    #SNP genotypes for isolates\n",
    "                    isolate_block_genotypes = SNP_i_genotypes[isolate_block_w_minor_allele_indices]\n",
    "\n",
    "                    #check to see that at least 1 isolate had a good call for the minor allele within the block\n",
    "                    if SNP_i_minor_allele in isolate_block_genotypes:\n",
    "\n",
    "                        #pull the isolate IDs for each index\n",
    "                        isolate_block_w_minor_allele_IDs = [{'name':isolate_annotation_DF.loc[isolate_index , 'isolate_ID']} for isolate_index in isolate_block_w_minor_allele_indices]\n",
    "\n",
    "                        #append to list of blocks of isolates w/ minor allele\n",
    "                        isolate_blocks_with_minor_allele.append(isolate_block_w_minor_allele_IDs)\n",
    "                    #######################################################\n",
    "        ########################################################################################################################\n",
    "\n",
    "        #> Find the MRCA clade of each block of isolates\n",
    "        isolate_block_MRCAs = []\n",
    "        for isolate_block_i_with_minor_allele in isolate_blocks_with_minor_allele:\n",
    "\n",
    "            #[\"Most recent common ancestor (clade) of all the given targets.\"]\n",
    "            MRCA_of_children = tree.common_ancestor(isolate_block_i_with_minor_allele)\n",
    "            isolate_block_MRCAs.append(MRCA_of_children)\n",
    "            \n",
    "        '''\n",
    "        #>Find the distance between all pairs of the MRCAs of the *blocks* of isolates with minor allele\n",
    "        #>> Finding the distance between all possible pairs can be visualized/computed as taking the distance between all pairs in the upper triangular part of a matrix (excluding the diagonal)\n",
    "        distance_between_MRCAs = []\n",
    "        for MRCA_i , MRCA_j in zip( np.triu_indices(len(isolate_block_MRCAs), 1)[0] , np.triu_indices(len(isolate_block_MRCAs), 1)[1] ):\n",
    "\n",
    "            #get the distance between MRCA node & the root (i.e. tree.distance({\"name\":'SAMN03647821'} , {\"name\":'SAMEA1485499'}))\n",
    "            #[\"Calculate the sum of the branch lengths between two targets. If only one target is specified, the other is the root of this tree.\"]\n",
    "            dist_between_MRCAi_and_MRCAj = tree.distance(isolate_block_MRCAs[MRCA_i] , isolate_block_MRCAs[MRCA_j])\n",
    "            distance_between_MRCAs.append(dist_between_MRCAi_and_MRCAj)\n",
    "        '''\n",
    "\n",
    "        #> The resulting *homoplasy score* is equal to the number of blocks of isolates (how many times the mutation arose in the phylogeny) ### weighted by the average pairwise distance between the MRCAs for all of the blocks of isolates\n",
    "        #check to see that there are at least 1 block (minor allele arose at least once on phylogeny)\n",
    "        if len(isolate_block_MRCAs) >= 1:\n",
    "            SNP_i_homoplasy_score = float(len(isolate_block_MRCAs)) ###DELETE LATER### * np.mean(distance_between_MRCAs)\n",
    "        elif len(isolate_block_MRCAs) == 0:\n",
    "            SNP_i_homoplasy_score = 0.0\n",
    "\n",
    "        #append minor allele & number of homoplasies to list\n",
    "        SNP_i_homoplasy_score_list.append( [allele_code_map_dict_r[SNP_i_minor_allele] , SNP_i_homoplasy_score] )    \n",
    "        \n",
    "    return SNP_i_homoplasy_score_list"
   ]
  },
  {
   "cell_type": "markdown",
   "metadata": {},
   "source": [
    "#### Calculate Homoplasy Score for all SNPs"
   ]
  },
  {
   "cell_type": "code",
   "execution_count": 43,
   "metadata": {},
   "outputs": [
    {
     "name": "stdout",
     "output_type": "stream",
     "text": [
      "0.0\n",
      "0.05\n",
      "0.1\n",
      "0.15\n",
      "0.2\n",
      "0.25\n",
      "0.3\n",
      "0.35\n",
      "0.4\n",
      "0.45\n",
      "0.5\n",
      "0.55\n",
      "0.6\n",
      "0.65\n",
      "0.7\n",
      "0.75\n",
      "0.8\n",
      "0.85\n",
      "0.9\n",
      "0.95\n"
     ]
    }
   ],
   "source": [
    "SNP_i_homoplasy_scores = []\n",
    "\n",
    "for SNP_i in SNP_annotation_DF.index:\n",
    "    \n",
    "    SNP_i_homoplasy_scores.append(calc_homoplasy_score_for_SNP(SNP_i))\n",
    "    \n",
    "    #keep track of progress\n",
    "    if SNP_i in np.arange(0 , len(SNP_annotation_DF.index) , int(len(SNP_annotation_DF.index)*0.05)):\n",
    "        print float(SNP_i) / float(len(SNP_annotation_DF.index))"
   ]
  },
  {
   "cell_type": "code",
   "execution_count": 44,
   "metadata": {},
   "outputs": [],
   "source": [
    "SNP_annotation_DF['homoplasy_score'] = SNP_i_homoplasy_scores"
   ]
  },
  {
   "cell_type": "code",
   "execution_count": 45,
   "metadata": {},
   "outputs": [
    {
     "data": {
      "text/html": [
       "<div>\n",
       "<style>\n",
       "    .dataframe thead tr:only-child th {\n",
       "        text-align: right;\n",
       "    }\n",
       "\n",
       "    .dataframe thead th {\n",
       "        text-align: left;\n",
       "    }\n",
       "\n",
       "    .dataframe tbody tr th {\n",
       "        vertical-align: top;\n",
       "    }\n",
       "</style>\n",
       "<table border=\"1\" class=\"dataframe\">\n",
       "  <thead>\n",
       "    <tr style=\"text-align: right;\">\n",
       "      <th></th>\n",
       "      <th>pos</th>\n",
       "      <th>ref</th>\n",
       "      <th>alt</th>\n",
       "      <th>gene_id</th>\n",
       "      <th>gene_pos</th>\n",
       "      <th>gene_category</th>\n",
       "      <th>gene_name</th>\n",
       "      <th>homoplasy_score</th>\n",
       "    </tr>\n",
       "  </thead>\n",
       "  <tbody>\n",
       "    <tr>\n",
       "      <th>0</th>\n",
       "      <td>67</td>\n",
       "      <td>G</td>\n",
       "      <td>[A, T]</td>\n",
       "      <td>Rv0001</td>\n",
       "      <td>66.0</td>\n",
       "      <td>Essential</td>\n",
       "      <td>dnaA</td>\n",
       "      <td>[[A, 0.0], [T, 1.0]]</td>\n",
       "    </tr>\n",
       "    <tr>\n",
       "      <th>1</th>\n",
       "      <td>75</td>\n",
       "      <td>G</td>\n",
       "      <td>[A]</td>\n",
       "      <td>Rv0001</td>\n",
       "      <td>74.0</td>\n",
       "      <td>Essential</td>\n",
       "      <td>dnaA</td>\n",
       "      <td>[[A, 1.0]]</td>\n",
       "    </tr>\n",
       "    <tr>\n",
       "      <th>2</th>\n",
       "      <td>91</td>\n",
       "      <td>A</td>\n",
       "      <td>[C]</td>\n",
       "      <td>Rv0001</td>\n",
       "      <td>90.0</td>\n",
       "      <td>Essential</td>\n",
       "      <td>dnaA</td>\n",
       "      <td>[[C, 1.0]]</td>\n",
       "    </tr>\n",
       "    <tr>\n",
       "      <th>3</th>\n",
       "      <td>108</td>\n",
       "      <td>C</td>\n",
       "      <td>[A, T]</td>\n",
       "      <td>Rv0001</td>\n",
       "      <td>107.0</td>\n",
       "      <td>Essential</td>\n",
       "      <td>dnaA</td>\n",
       "      <td>[[A, 0.0], [T, 1.0]]</td>\n",
       "    </tr>\n",
       "    <tr>\n",
       "      <th>4</th>\n",
       "      <td>129</td>\n",
       "      <td>G</td>\n",
       "      <td>[A]</td>\n",
       "      <td>Rv0001</td>\n",
       "      <td>128.0</td>\n",
       "      <td>Essential</td>\n",
       "      <td>dnaA</td>\n",
       "      <td>[[A, 1.0]]</td>\n",
       "    </tr>\n",
       "    <tr>\n",
       "      <th>5</th>\n",
       "      <td>147</td>\n",
       "      <td>T</td>\n",
       "      <td>[C, G]</td>\n",
       "      <td>Rv0001</td>\n",
       "      <td>146.0</td>\n",
       "      <td>Essential</td>\n",
       "      <td>dnaA</td>\n",
       "      <td>[[G, 0.0], [C, 1.0]]</td>\n",
       "    </tr>\n",
       "    <tr>\n",
       "      <th>6</th>\n",
       "      <td>187</td>\n",
       "      <td>T</td>\n",
       "      <td>[C]</td>\n",
       "      <td>Rv0001</td>\n",
       "      <td>186.0</td>\n",
       "      <td>Essential</td>\n",
       "      <td>dnaA</td>\n",
       "      <td>[[C, 1.0]]</td>\n",
       "    </tr>\n",
       "    <tr>\n",
       "      <th>7</th>\n",
       "      <td>194</td>\n",
       "      <td>T</td>\n",
       "      <td>[C]</td>\n",
       "      <td>Rv0001</td>\n",
       "      <td>193.0</td>\n",
       "      <td>Essential</td>\n",
       "      <td>dnaA</td>\n",
       "      <td>[[C, 1.0]]</td>\n",
       "    </tr>\n",
       "    <tr>\n",
       "      <th>8</th>\n",
       "      <td>195</td>\n",
       "      <td>G</td>\n",
       "      <td>[C, T]</td>\n",
       "      <td>Rv0001</td>\n",
       "      <td>194.0</td>\n",
       "      <td>Essential</td>\n",
       "      <td>dnaA</td>\n",
       "      <td>[[T, 0.0], [C, 1.0]]</td>\n",
       "    </tr>\n",
       "    <tr>\n",
       "      <th>9</th>\n",
       "      <td>200</td>\n",
       "      <td>G</td>\n",
       "      <td>[A]</td>\n",
       "      <td>Rv0001</td>\n",
       "      <td>199.0</td>\n",
       "      <td>Essential</td>\n",
       "      <td>dnaA</td>\n",
       "      <td>[[A, 1.0]]</td>\n",
       "    </tr>\n",
       "  </tbody>\n",
       "</table>\n",
       "</div>"
      ],
      "text/plain": [
       "   pos ref     alt gene_id  gene_pos gene_category gene_name  \\\n",
       "0   67   G  [A, T]  Rv0001      66.0     Essential      dnaA   \n",
       "1   75   G     [A]  Rv0001      74.0     Essential      dnaA   \n",
       "2   91   A     [C]  Rv0001      90.0     Essential      dnaA   \n",
       "3  108   C  [A, T]  Rv0001     107.0     Essential      dnaA   \n",
       "4  129   G     [A]  Rv0001     128.0     Essential      dnaA   \n",
       "5  147   T  [C, G]  Rv0001     146.0     Essential      dnaA   \n",
       "6  187   T     [C]  Rv0001     186.0     Essential      dnaA   \n",
       "7  194   T     [C]  Rv0001     193.0     Essential      dnaA   \n",
       "8  195   G  [C, T]  Rv0001     194.0     Essential      dnaA   \n",
       "9  200   G     [A]  Rv0001     199.0     Essential      dnaA   \n",
       "\n",
       "        homoplasy_score  \n",
       "0  [[A, 0.0], [T, 1.0]]  \n",
       "1            [[A, 1.0]]  \n",
       "2            [[C, 1.0]]  \n",
       "3  [[A, 0.0], [T, 1.0]]  \n",
       "4            [[A, 1.0]]  \n",
       "5  [[G, 0.0], [C, 1.0]]  \n",
       "6            [[C, 1.0]]  \n",
       "7            [[C, 1.0]]  \n",
       "8  [[T, 0.0], [C, 1.0]]  \n",
       "9            [[A, 1.0]]  "
      ]
     },
     "execution_count": 45,
     "metadata": {},
     "output_type": "execute_result"
    }
   ],
   "source": [
    "SNP_annotation_DF.head(n=10)"
   ]
  },
  {
   "cell_type": "code",
   "execution_count": 46,
   "metadata": {},
   "outputs": [
    {
     "data": {
      "text/plain": [
       "(189040, 8)"
      ]
     },
     "execution_count": 46,
     "metadata": {},
     "output_type": "execute_result"
    }
   ],
   "source": [
    "np.shape(SNP_annotation_DF)"
   ]
  },
  {
   "cell_type": "markdown",
   "metadata": {},
   "source": [
    "#### Re-format dataframe so that each row contains only one minor allele"
   ]
  },
  {
   "cell_type": "markdown",
   "metadata": {},
   "source": [
    "Each row will correspond to the homoplasy for a specific minor allele for a specific SNP position"
   ]
  },
  {
   "cell_type": "code",
   "execution_count": 47,
   "metadata": {},
   "outputs": [],
   "source": [
    "SNP_i_minor_allele_i_list = []\n",
    "pos_list = []\n",
    "ref_list = []\n",
    "alt_list = []\n",
    "gene_id_list = []\n",
    "gene_pos_list = []\n",
    "gene_category_list = []\n",
    "gene_name_list = []\n",
    "homoplasy_minor_allele_list = []\n",
    "homoplasy_score_list = []\n",
    "\n",
    "SNP_i_minor_allele_i = 0\n",
    "for SNP_i in SNP_annotation_DF.index:\n",
    "    \n",
    "    #get info for SNP\n",
    "    SNP_i_annot = SNP_annotation_DF.loc[SNP_i , :]\n",
    "    \n",
    "    SNP_i_pos = SNP_i_annot.pos\n",
    "    SNP_i_ref = SNP_i_annot.ref\n",
    "    SNP_i_alt = SNP_i_annot.alt\n",
    "    SNP_i_gene_id = SNP_i_annot.gene_id\n",
    "    SNP_i_gene_pos = SNP_i_annot.gene_pos\n",
    "    SNP_i_gene_category = SNP_i_annot.gene_category\n",
    "    SNP_i_gene_name = SNP_i_annot.gene_name\n",
    "    \n",
    "    for SNP_i_minor_allele , homoplasy_score_i in SNP_i_annot.homoplasy_score:\n",
    "        \n",
    "        SNP_i_minor_allele_i_list.append(SNP_i_minor_allele_i)\n",
    "        pos_list.append(SNP_i_pos)\n",
    "        ref_list.append(SNP_i_ref)\n",
    "        alt_list.append(SNP_i_alt)\n",
    "        gene_id_list.append(SNP_i_gene_id)\n",
    "        gene_pos_list.append(SNP_i_gene_pos)\n",
    "        gene_category_list.append(SNP_i_gene_category)\n",
    "        gene_name_list.append(SNP_i_gene_name)\n",
    "        homoplasy_minor_allele_list.append(SNP_i_minor_allele)\n",
    "        homoplasy_score_list.append(homoplasy_score_i)\n",
    "        \n",
    "        SNP_i_minor_allele_i += 1\n",
    "\n",
    "SNP_homoplasy_DF = pd.DataFrame(index = SNP_i_minor_allele_i_list)\n",
    "SNP_homoplasy_DF['pos'] = pos_list\n",
    "SNP_homoplasy_DF['ref'] = ref_list\n",
    "SNP_homoplasy_DF['alt'] = alt_list\n",
    "SNP_homoplasy_DF['gene_id'] = gene_id_list\n",
    "SNP_homoplasy_DF['gene_pos'] = gene_pos_list\n",
    "SNP_homoplasy_DF['gene_category'] = gene_category_list\n",
    "SNP_homoplasy_DF['gene_name'] = gene_name_list\n",
    "SNP_homoplasy_DF['minor_allele'] = homoplasy_minor_allele_list\n",
    "SNP_homoplasy_DF['homoplasy_score'] = homoplasy_score_list"
   ]
  },
  {
   "cell_type": "code",
   "execution_count": 48,
   "metadata": {},
   "outputs": [
    {
     "data": {
      "text/html": [
       "<div>\n",
       "<style>\n",
       "    .dataframe thead tr:only-child th {\n",
       "        text-align: right;\n",
       "    }\n",
       "\n",
       "    .dataframe thead th {\n",
       "        text-align: left;\n",
       "    }\n",
       "\n",
       "    .dataframe tbody tr th {\n",
       "        vertical-align: top;\n",
       "    }\n",
       "</style>\n",
       "<table border=\"1\" class=\"dataframe\">\n",
       "  <thead>\n",
       "    <tr style=\"text-align: right;\">\n",
       "      <th></th>\n",
       "      <th>pos</th>\n",
       "      <th>ref</th>\n",
       "      <th>alt</th>\n",
       "      <th>gene_id</th>\n",
       "      <th>gene_pos</th>\n",
       "      <th>gene_category</th>\n",
       "      <th>gene_name</th>\n",
       "      <th>minor_allele</th>\n",
       "      <th>homoplasy_score</th>\n",
       "    </tr>\n",
       "  </thead>\n",
       "  <tbody>\n",
       "    <tr>\n",
       "      <th>0</th>\n",
       "      <td>67</td>\n",
       "      <td>G</td>\n",
       "      <td>[A, T]</td>\n",
       "      <td>Rv0001</td>\n",
       "      <td>66.0</td>\n",
       "      <td>Essential</td>\n",
       "      <td>dnaA</td>\n",
       "      <td>A</td>\n",
       "      <td>0.0</td>\n",
       "    </tr>\n",
       "    <tr>\n",
       "      <th>1</th>\n",
       "      <td>67</td>\n",
       "      <td>G</td>\n",
       "      <td>[A, T]</td>\n",
       "      <td>Rv0001</td>\n",
       "      <td>66.0</td>\n",
       "      <td>Essential</td>\n",
       "      <td>dnaA</td>\n",
       "      <td>T</td>\n",
       "      <td>1.0</td>\n",
       "    </tr>\n",
       "    <tr>\n",
       "      <th>2</th>\n",
       "      <td>75</td>\n",
       "      <td>G</td>\n",
       "      <td>[A]</td>\n",
       "      <td>Rv0001</td>\n",
       "      <td>74.0</td>\n",
       "      <td>Essential</td>\n",
       "      <td>dnaA</td>\n",
       "      <td>A</td>\n",
       "      <td>1.0</td>\n",
       "    </tr>\n",
       "    <tr>\n",
       "      <th>3</th>\n",
       "      <td>91</td>\n",
       "      <td>A</td>\n",
       "      <td>[C]</td>\n",
       "      <td>Rv0001</td>\n",
       "      <td>90.0</td>\n",
       "      <td>Essential</td>\n",
       "      <td>dnaA</td>\n",
       "      <td>C</td>\n",
       "      <td>1.0</td>\n",
       "    </tr>\n",
       "    <tr>\n",
       "      <th>4</th>\n",
       "      <td>108</td>\n",
       "      <td>C</td>\n",
       "      <td>[A, T]</td>\n",
       "      <td>Rv0001</td>\n",
       "      <td>107.0</td>\n",
       "      <td>Essential</td>\n",
       "      <td>dnaA</td>\n",
       "      <td>A</td>\n",
       "      <td>0.0</td>\n",
       "    </tr>\n",
       "    <tr>\n",
       "      <th>5</th>\n",
       "      <td>108</td>\n",
       "      <td>C</td>\n",
       "      <td>[A, T]</td>\n",
       "      <td>Rv0001</td>\n",
       "      <td>107.0</td>\n",
       "      <td>Essential</td>\n",
       "      <td>dnaA</td>\n",
       "      <td>T</td>\n",
       "      <td>1.0</td>\n",
       "    </tr>\n",
       "    <tr>\n",
       "      <th>6</th>\n",
       "      <td>129</td>\n",
       "      <td>G</td>\n",
       "      <td>[A]</td>\n",
       "      <td>Rv0001</td>\n",
       "      <td>128.0</td>\n",
       "      <td>Essential</td>\n",
       "      <td>dnaA</td>\n",
       "      <td>A</td>\n",
       "      <td>1.0</td>\n",
       "    </tr>\n",
       "    <tr>\n",
       "      <th>7</th>\n",
       "      <td>147</td>\n",
       "      <td>T</td>\n",
       "      <td>[C, G]</td>\n",
       "      <td>Rv0001</td>\n",
       "      <td>146.0</td>\n",
       "      <td>Essential</td>\n",
       "      <td>dnaA</td>\n",
       "      <td>G</td>\n",
       "      <td>0.0</td>\n",
       "    </tr>\n",
       "    <tr>\n",
       "      <th>8</th>\n",
       "      <td>147</td>\n",
       "      <td>T</td>\n",
       "      <td>[C, G]</td>\n",
       "      <td>Rv0001</td>\n",
       "      <td>146.0</td>\n",
       "      <td>Essential</td>\n",
       "      <td>dnaA</td>\n",
       "      <td>C</td>\n",
       "      <td>1.0</td>\n",
       "    </tr>\n",
       "    <tr>\n",
       "      <th>9</th>\n",
       "      <td>187</td>\n",
       "      <td>T</td>\n",
       "      <td>[C]</td>\n",
       "      <td>Rv0001</td>\n",
       "      <td>186.0</td>\n",
       "      <td>Essential</td>\n",
       "      <td>dnaA</td>\n",
       "      <td>C</td>\n",
       "      <td>1.0</td>\n",
       "    </tr>\n",
       "  </tbody>\n",
       "</table>\n",
       "</div>"
      ],
      "text/plain": [
       "   pos ref     alt gene_id  gene_pos gene_category gene_name minor_allele  \\\n",
       "0   67   G  [A, T]  Rv0001      66.0     Essential      dnaA            A   \n",
       "1   67   G  [A, T]  Rv0001      66.0     Essential      dnaA            T   \n",
       "2   75   G     [A]  Rv0001      74.0     Essential      dnaA            A   \n",
       "3   91   A     [C]  Rv0001      90.0     Essential      dnaA            C   \n",
       "4  108   C  [A, T]  Rv0001     107.0     Essential      dnaA            A   \n",
       "5  108   C  [A, T]  Rv0001     107.0     Essential      dnaA            T   \n",
       "6  129   G     [A]  Rv0001     128.0     Essential      dnaA            A   \n",
       "7  147   T  [C, G]  Rv0001     146.0     Essential      dnaA            G   \n",
       "8  147   T  [C, G]  Rv0001     146.0     Essential      dnaA            C   \n",
       "9  187   T     [C]  Rv0001     186.0     Essential      dnaA            C   \n",
       "\n",
       "   homoplasy_score  \n",
       "0              0.0  \n",
       "1              1.0  \n",
       "2              1.0  \n",
       "3              1.0  \n",
       "4              0.0  \n",
       "5              1.0  \n",
       "6              1.0  \n",
       "7              0.0  \n",
       "8              1.0  \n",
       "9              1.0  "
      ]
     },
     "execution_count": 48,
     "metadata": {},
     "output_type": "execute_result"
    }
   ],
   "source": [
    "SNP_homoplasy_DF.head(n = 10)"
   ]
  },
  {
   "cell_type": "code",
   "execution_count": 49,
   "metadata": {},
   "outputs": [
    {
     "data": {
      "text/plain": [
       "(212971, 9)"
      ]
     },
     "execution_count": 49,
     "metadata": {},
     "output_type": "execute_result"
    }
   ],
   "source": [
    "np.shape(SNP_homoplasy_DF)"
   ]
  },
  {
   "cell_type": "markdown",
   "metadata": {},
   "source": [
    "#### Drop SNPs with a *Homoplasy Score* of 0"
   ]
  },
  {
   "cell_type": "code",
   "execution_count": 50,
   "metadata": {},
   "outputs": [],
   "source": [
    "SNP_homoplasy_DF = SNP_homoplasy_DF[SNP_homoplasy_DF.homoplasy_score > 0.0]"
   ]
  },
  {
   "cell_type": "code",
   "execution_count": 51,
   "metadata": {},
   "outputs": [
    {
     "data": {
      "text/plain": [
       "(190752, 9)"
      ]
     },
     "execution_count": 51,
     "metadata": {},
     "output_type": "execute_result"
    }
   ],
   "source": [
    "np.shape(SNP_homoplasy_DF)"
   ]
  },
  {
   "cell_type": "markdown",
   "metadata": {},
   "source": [
    "### [5] Functional annotation for each SNP"
   ]
  },
  {
   "cell_type": "code",
   "execution_count": 52,
   "metadata": {},
   "outputs": [
    {
     "data": {
      "text/html": [
       "<div>\n",
       "<style>\n",
       "    .dataframe thead tr:only-child th {\n",
       "        text-align: right;\n",
       "    }\n",
       "\n",
       "    .dataframe thead th {\n",
       "        text-align: left;\n",
       "    }\n",
       "\n",
       "    .dataframe tbody tr th {\n",
       "        vertical-align: top;\n",
       "    }\n",
       "</style>\n",
       "<table border=\"1\" class=\"dataframe\">\n",
       "  <thead>\n",
       "    <tr style=\"text-align: right;\">\n",
       "      <th></th>\n",
       "      <th>pos</th>\n",
       "      <th>ref</th>\n",
       "      <th>alt</th>\n",
       "      <th>gene_id</th>\n",
       "      <th>gene_pos</th>\n",
       "      <th>gene_category</th>\n",
       "      <th>gene_name</th>\n",
       "      <th>minor_allele</th>\n",
       "      <th>homoplasy_score</th>\n",
       "    </tr>\n",
       "  </thead>\n",
       "  <tbody>\n",
       "    <tr>\n",
       "      <th>1</th>\n",
       "      <td>67</td>\n",
       "      <td>G</td>\n",
       "      <td>[A, T]</td>\n",
       "      <td>Rv0001</td>\n",
       "      <td>66.0</td>\n",
       "      <td>Essential</td>\n",
       "      <td>dnaA</td>\n",
       "      <td>T</td>\n",
       "      <td>1.0</td>\n",
       "    </tr>\n",
       "    <tr>\n",
       "      <th>2</th>\n",
       "      <td>75</td>\n",
       "      <td>G</td>\n",
       "      <td>[A]</td>\n",
       "      <td>Rv0001</td>\n",
       "      <td>74.0</td>\n",
       "      <td>Essential</td>\n",
       "      <td>dnaA</td>\n",
       "      <td>A</td>\n",
       "      <td>1.0</td>\n",
       "    </tr>\n",
       "    <tr>\n",
       "      <th>3</th>\n",
       "      <td>91</td>\n",
       "      <td>A</td>\n",
       "      <td>[C]</td>\n",
       "      <td>Rv0001</td>\n",
       "      <td>90.0</td>\n",
       "      <td>Essential</td>\n",
       "      <td>dnaA</td>\n",
       "      <td>C</td>\n",
       "      <td>1.0</td>\n",
       "    </tr>\n",
       "    <tr>\n",
       "      <th>5</th>\n",
       "      <td>108</td>\n",
       "      <td>C</td>\n",
       "      <td>[A, T]</td>\n",
       "      <td>Rv0001</td>\n",
       "      <td>107.0</td>\n",
       "      <td>Essential</td>\n",
       "      <td>dnaA</td>\n",
       "      <td>T</td>\n",
       "      <td>1.0</td>\n",
       "    </tr>\n",
       "    <tr>\n",
       "      <th>6</th>\n",
       "      <td>129</td>\n",
       "      <td>G</td>\n",
       "      <td>[A]</td>\n",
       "      <td>Rv0001</td>\n",
       "      <td>128.0</td>\n",
       "      <td>Essential</td>\n",
       "      <td>dnaA</td>\n",
       "      <td>A</td>\n",
       "      <td>1.0</td>\n",
       "    </tr>\n",
       "  </tbody>\n",
       "</table>\n",
       "</div>"
      ],
      "text/plain": [
       "   pos ref     alt gene_id  gene_pos gene_category gene_name minor_allele  \\\n",
       "1   67   G  [A, T]  Rv0001      66.0     Essential      dnaA            T   \n",
       "2   75   G     [A]  Rv0001      74.0     Essential      dnaA            A   \n",
       "3   91   A     [C]  Rv0001      90.0     Essential      dnaA            C   \n",
       "5  108   C  [A, T]  Rv0001     107.0     Essential      dnaA            T   \n",
       "6  129   G     [A]  Rv0001     128.0     Essential      dnaA            A   \n",
       "\n",
       "   homoplasy_score  \n",
       "1              1.0  \n",
       "2              1.0  \n",
       "3              1.0  \n",
       "5              1.0  \n",
       "6              1.0  "
      ]
     },
     "execution_count": 52,
     "metadata": {},
     "output_type": "execute_result"
    }
   ],
   "source": [
    "SNP_homoplasy_DF.head()"
   ]
  },
  {
   "cell_type": "markdown",
   "metadata": {},
   "source": [
    "#### Drop columns"
   ]
  },
  {
   "cell_type": "code",
   "execution_count": 53,
   "metadata": {},
   "outputs": [],
   "source": [
    "SNP_homoplasy_DF = SNP_homoplasy_DF.loc[: , ['pos','ref','alt','minor_allele','homoplasy_score']]"
   ]
  },
  {
   "cell_type": "code",
   "execution_count": 54,
   "metadata": {},
   "outputs": [
    {
     "data": {
      "text/html": [
       "<div>\n",
       "<style>\n",
       "    .dataframe thead tr:only-child th {\n",
       "        text-align: right;\n",
       "    }\n",
       "\n",
       "    .dataframe thead th {\n",
       "        text-align: left;\n",
       "    }\n",
       "\n",
       "    .dataframe tbody tr th {\n",
       "        vertical-align: top;\n",
       "    }\n",
       "</style>\n",
       "<table border=\"1\" class=\"dataframe\">\n",
       "  <thead>\n",
       "    <tr style=\"text-align: right;\">\n",
       "      <th></th>\n",
       "      <th>pos</th>\n",
       "      <th>ref</th>\n",
       "      <th>alt</th>\n",
       "      <th>minor_allele</th>\n",
       "      <th>homoplasy_score</th>\n",
       "    </tr>\n",
       "  </thead>\n",
       "  <tbody>\n",
       "    <tr>\n",
       "      <th>1</th>\n",
       "      <td>67</td>\n",
       "      <td>G</td>\n",
       "      <td>[A, T]</td>\n",
       "      <td>T</td>\n",
       "      <td>1.0</td>\n",
       "    </tr>\n",
       "    <tr>\n",
       "      <th>2</th>\n",
       "      <td>75</td>\n",
       "      <td>G</td>\n",
       "      <td>[A]</td>\n",
       "      <td>A</td>\n",
       "      <td>1.0</td>\n",
       "    </tr>\n",
       "    <tr>\n",
       "      <th>3</th>\n",
       "      <td>91</td>\n",
       "      <td>A</td>\n",
       "      <td>[C]</td>\n",
       "      <td>C</td>\n",
       "      <td>1.0</td>\n",
       "    </tr>\n",
       "    <tr>\n",
       "      <th>5</th>\n",
       "      <td>108</td>\n",
       "      <td>C</td>\n",
       "      <td>[A, T]</td>\n",
       "      <td>T</td>\n",
       "      <td>1.0</td>\n",
       "    </tr>\n",
       "    <tr>\n",
       "      <th>6</th>\n",
       "      <td>129</td>\n",
       "      <td>G</td>\n",
       "      <td>[A]</td>\n",
       "      <td>A</td>\n",
       "      <td>1.0</td>\n",
       "    </tr>\n",
       "  </tbody>\n",
       "</table>\n",
       "</div>"
      ],
      "text/plain": [
       "   pos ref     alt minor_allele  homoplasy_score\n",
       "1   67   G  [A, T]            T              1.0\n",
       "2   75   G     [A]            A              1.0\n",
       "3   91   A     [C]            C              1.0\n",
       "5  108   C  [A, T]            T              1.0\n",
       "6  129   G     [A]            A              1.0"
      ]
     },
     "execution_count": 54,
     "metadata": {},
     "output_type": "execute_result"
    }
   ],
   "source": [
    "SNP_homoplasy_DF.head()"
   ]
  },
  {
   "cell_type": "markdown",
   "metadata": {},
   "source": [
    "#### Retrieve the SNP type from the functional SNP annotation"
   ]
  },
  {
   "cell_type": "code",
   "execution_count": 55,
   "metadata": {},
   "outputs": [],
   "source": [
    "#load DataFrame with functional annotation for all possible alternate alleles\n",
    "SNP_functional_annotation_DF = pd.read_pickle('/n/data1/hms/dbmi/farhat/Roger/homoplasy_project/rolling_DB_scrape/Genotypes_Filtered_2/genotypes_SNP_functional_annotation.pkl')"
   ]
  },
  {
   "cell_type": "code",
   "execution_count": 56,
   "metadata": {},
   "outputs": [
    {
     "data": {
      "text/html": [
       "<div>\n",
       "<style>\n",
       "    .dataframe thead tr:only-child th {\n",
       "        text-align: right;\n",
       "    }\n",
       "\n",
       "    .dataframe thead th {\n",
       "        text-align: left;\n",
       "    }\n",
       "\n",
       "    .dataframe tbody tr th {\n",
       "        vertical-align: top;\n",
       "    }\n",
       "</style>\n",
       "<table border=\"1\" class=\"dataframe\">\n",
       "  <thead>\n",
       "    <tr style=\"text-align: right;\">\n",
       "      <th></th>\n",
       "      <th>pos</th>\n",
       "      <th>ref</th>\n",
       "      <th>alt</th>\n",
       "      <th>gene_category</th>\n",
       "      <th>gene_name</th>\n",
       "      <th>gene_id</th>\n",
       "      <th>gene_pos</th>\n",
       "      <th>SNP_type</th>\n",
       "      <th>AA_change</th>\n",
       "    </tr>\n",
       "  </thead>\n",
       "  <tbody>\n",
       "    <tr>\n",
       "      <th>48_T</th>\n",
       "      <td>48</td>\n",
       "      <td>C</td>\n",
       "      <td>T</td>\n",
       "      <td>Essential</td>\n",
       "      <td>dnaA</td>\n",
       "      <td>Rv0001</td>\n",
       "      <td>48</td>\n",
       "      <td>S</td>\n",
       "      <td>V16V</td>\n",
       "    </tr>\n",
       "    <tr>\n",
       "      <th>64_C</th>\n",
       "      <td>64</td>\n",
       "      <td>G</td>\n",
       "      <td>C</td>\n",
       "      <td>Essential</td>\n",
       "      <td>dnaA</td>\n",
       "      <td>Rv0001</td>\n",
       "      <td>64</td>\n",
       "      <td>N</td>\n",
       "      <td>G22R</td>\n",
       "    </tr>\n",
       "    <tr>\n",
       "      <th>67_A</th>\n",
       "      <td>67</td>\n",
       "      <td>G</td>\n",
       "      <td>A</td>\n",
       "      <td>Essential</td>\n",
       "      <td>dnaA</td>\n",
       "      <td>Rv0001</td>\n",
       "      <td>67</td>\n",
       "      <td>N</td>\n",
       "      <td>D23N</td>\n",
       "    </tr>\n",
       "    <tr>\n",
       "      <th>67_T</th>\n",
       "      <td>67</td>\n",
       "      <td>G</td>\n",
       "      <td>T</td>\n",
       "      <td>Essential</td>\n",
       "      <td>dnaA</td>\n",
       "      <td>Rv0001</td>\n",
       "      <td>67</td>\n",
       "      <td>N</td>\n",
       "      <td>D23Y</td>\n",
       "    </tr>\n",
       "    <tr>\n",
       "      <th>69_T</th>\n",
       "      <td>69</td>\n",
       "      <td>C</td>\n",
       "      <td>T</td>\n",
       "      <td>Essential</td>\n",
       "      <td>dnaA</td>\n",
       "      <td>Rv0001</td>\n",
       "      <td>69</td>\n",
       "      <td>S</td>\n",
       "      <td>D23D</td>\n",
       "    </tr>\n",
       "  </tbody>\n",
       "</table>\n",
       "</div>"
      ],
      "text/plain": [
       "      pos ref alt gene_category gene_name gene_id gene_pos SNP_type AA_change\n",
       "48_T   48   C   T     Essential      dnaA  Rv0001       48        S      V16V\n",
       "64_C   64   G   C     Essential      dnaA  Rv0001       64        N      G22R\n",
       "67_A   67   G   A     Essential      dnaA  Rv0001       67        N      D23N\n",
       "67_T   67   G   T     Essential      dnaA  Rv0001       67        N      D23Y\n",
       "69_T   69   C   T     Essential      dnaA  Rv0001       69        S      D23D"
      ]
     },
     "execution_count": 56,
     "metadata": {},
     "output_type": "execute_result"
    }
   ],
   "source": [
    "SNP_functional_annotation_DF.head()"
   ]
  },
  {
   "cell_type": "code",
   "execution_count": 57,
   "metadata": {},
   "outputs": [],
   "source": [
    "#these lists will hold variant annotation per alternate allele for each alternate allele present at at given SNP position\n",
    "gene_category_list = []\n",
    "gene_name_list = []\n",
    "gene_id_list = []\n",
    "gene_pos_list = []\n",
    "SNP_type_list = []\n",
    "AA_change_list = []\n",
    "\n",
    "for SNP_i_pos , SNP_i_alt_list in zip(list(SNP_homoplasy_DF.pos) , list(SNP_homoplasy_DF.alt)):\n",
    "    \n",
    "    #iterate through all alternate alleles for the SNP at this position (probably just 1 element in each list)\n",
    "    SNP_i_gene_category_list = []\n",
    "    SNP_i_gene_name_list = []\n",
    "    SNP_i_gene_id_list = []\n",
    "    SNP_i_gene_pos_list = []\n",
    "    SNP_i_types_list = []\n",
    "    SNP_i_AA_changes_list = []\n",
    "    \n",
    "    for SNP_i_alt in SNP_i_alt_list:\n",
    "        \n",
    "        SNP_i_key = str(SNP_i_pos) + '_' + SNP_i_alt\n",
    "    \n",
    "        #get variant annotation from funtional SNP annot DF\n",
    "        SNP_i_gene_category_list.append(SNP_functional_annotation_DF.loc[SNP_i_key , 'gene_category'])\n",
    "        SNP_i_gene_name_list.append(SNP_functional_annotation_DF.loc[SNP_i_key , 'gene_name'])\n",
    "        SNP_i_gene_id_list.append(SNP_functional_annotation_DF.loc[SNP_i_key , 'gene_id'])\n",
    "        SNP_i_gene_pos_list.append(SNP_functional_annotation_DF.loc[SNP_i_key , 'gene_pos'])\n",
    "        SNP_i_types_list.append(SNP_functional_annotation_DF.loc[SNP_i_key , 'SNP_type'])\n",
    "        SNP_i_AA_changes_list.append(SNP_functional_annotation_DF.loc[SNP_i_key , 'AA_change'])\n",
    "        \n",
    "    #append functional annotation for all alternate allele at this site\n",
    "    gene_category_list.append(SNP_i_gene_category_list)\n",
    "    gene_name_list.append(SNP_i_gene_name_list)\n",
    "    gene_id_list.append(SNP_i_gene_id_list)\n",
    "    gene_pos_list.append(SNP_i_gene_pos_list)\n",
    "    SNP_type_list.append(SNP_i_types_list)\n",
    "    AA_change_list.append(SNP_i_AA_changes_list)\n",
    "    \n",
    "#create new column for DF\n",
    "SNP_homoplasy_DF['gene_id'] = gene_id_list\n",
    "SNP_homoplasy_DF['gene_pos'] = gene_pos_list\n",
    "SNP_homoplasy_DF['gene_category'] = gene_category_list\n",
    "SNP_homoplasy_DF['gene_name'] = gene_name_list\n",
    "SNP_homoplasy_DF['type'] = SNP_type_list\n",
    "SNP_homoplasy_DF['AA_change'] = AA_change_list"
   ]
  },
  {
   "cell_type": "code",
   "execution_count": 58,
   "metadata": {},
   "outputs": [
    {
     "data": {
      "text/html": [
       "<div>\n",
       "<style>\n",
       "    .dataframe thead tr:only-child th {\n",
       "        text-align: right;\n",
       "    }\n",
       "\n",
       "    .dataframe thead th {\n",
       "        text-align: left;\n",
       "    }\n",
       "\n",
       "    .dataframe tbody tr th {\n",
       "        vertical-align: top;\n",
       "    }\n",
       "</style>\n",
       "<table border=\"1\" class=\"dataframe\">\n",
       "  <thead>\n",
       "    <tr style=\"text-align: right;\">\n",
       "      <th></th>\n",
       "      <th>pos</th>\n",
       "      <th>ref</th>\n",
       "      <th>alt</th>\n",
       "      <th>minor_allele</th>\n",
       "      <th>homoplasy_score</th>\n",
       "      <th>gene_id</th>\n",
       "      <th>gene_pos</th>\n",
       "      <th>gene_category</th>\n",
       "      <th>gene_name</th>\n",
       "      <th>type</th>\n",
       "      <th>AA_change</th>\n",
       "    </tr>\n",
       "  </thead>\n",
       "  <tbody>\n",
       "    <tr>\n",
       "      <th>1</th>\n",
       "      <td>67</td>\n",
       "      <td>G</td>\n",
       "      <td>[A, T]</td>\n",
       "      <td>T</td>\n",
       "      <td>1.0</td>\n",
       "      <td>[Rv0001, Rv0001]</td>\n",
       "      <td>[67, 67]</td>\n",
       "      <td>[Essential, Essential]</td>\n",
       "      <td>[dnaA, dnaA]</td>\n",
       "      <td>[N, N]</td>\n",
       "      <td>[D23N, D23Y]</td>\n",
       "    </tr>\n",
       "    <tr>\n",
       "      <th>2</th>\n",
       "      <td>75</td>\n",
       "      <td>G</td>\n",
       "      <td>[A]</td>\n",
       "      <td>A</td>\n",
       "      <td>1.0</td>\n",
       "      <td>[Rv0001]</td>\n",
       "      <td>[75]</td>\n",
       "      <td>[Essential]</td>\n",
       "      <td>[dnaA]</td>\n",
       "      <td>[S]</td>\n",
       "      <td>[K25K]</td>\n",
       "    </tr>\n",
       "    <tr>\n",
       "      <th>3</th>\n",
       "      <td>91</td>\n",
       "      <td>A</td>\n",
       "      <td>[C]</td>\n",
       "      <td>C</td>\n",
       "      <td>1.0</td>\n",
       "      <td>[Rv0001]</td>\n",
       "      <td>[91]</td>\n",
       "      <td>[Essential]</td>\n",
       "      <td>[dnaA]</td>\n",
       "      <td>[N]</td>\n",
       "      <td>[S31R]</td>\n",
       "    </tr>\n",
       "    <tr>\n",
       "      <th>5</th>\n",
       "      <td>108</td>\n",
       "      <td>C</td>\n",
       "      <td>[A, T]</td>\n",
       "      <td>T</td>\n",
       "      <td>1.0</td>\n",
       "      <td>[Rv0001, Rv0001]</td>\n",
       "      <td>[108, 108]</td>\n",
       "      <td>[Essential, Essential]</td>\n",
       "      <td>[dnaA, dnaA]</td>\n",
       "      <td>[S, S]</td>\n",
       "      <td>[L36L, L36L]</td>\n",
       "    </tr>\n",
       "    <tr>\n",
       "      <th>6</th>\n",
       "      <td>129</td>\n",
       "      <td>G</td>\n",
       "      <td>[A]</td>\n",
       "      <td>A</td>\n",
       "      <td>1.0</td>\n",
       "      <td>[Rv0001]</td>\n",
       "      <td>[129]</td>\n",
       "      <td>[Essential]</td>\n",
       "      <td>[dnaA]</td>\n",
       "      <td>[S]</td>\n",
       "      <td>[Q43Q]</td>\n",
       "    </tr>\n",
       "    <tr>\n",
       "      <th>8</th>\n",
       "      <td>147</td>\n",
       "      <td>T</td>\n",
       "      <td>[C, G]</td>\n",
       "      <td>C</td>\n",
       "      <td>1.0</td>\n",
       "      <td>[Rv0001, Rv0001]</td>\n",
       "      <td>[147, 147]</td>\n",
       "      <td>[Essential, Essential]</td>\n",
       "      <td>[dnaA, dnaA]</td>\n",
       "      <td>[S, N]</td>\n",
       "      <td>[N49N, N49K]</td>\n",
       "    </tr>\n",
       "    <tr>\n",
       "      <th>9</th>\n",
       "      <td>187</td>\n",
       "      <td>T</td>\n",
       "      <td>[C]</td>\n",
       "      <td>C</td>\n",
       "      <td>1.0</td>\n",
       "      <td>[Rv0001]</td>\n",
       "      <td>[187]</td>\n",
       "      <td>[Essential]</td>\n",
       "      <td>[dnaA]</td>\n",
       "      <td>[S]</td>\n",
       "      <td>[L63L]</td>\n",
       "    </tr>\n",
       "    <tr>\n",
       "      <th>10</th>\n",
       "      <td>194</td>\n",
       "      <td>T</td>\n",
       "      <td>[C]</td>\n",
       "      <td>C</td>\n",
       "      <td>1.0</td>\n",
       "      <td>[Rv0001]</td>\n",
       "      <td>[194]</td>\n",
       "      <td>[Essential]</td>\n",
       "      <td>[dnaA]</td>\n",
       "      <td>[N]</td>\n",
       "      <td>[V65A]</td>\n",
       "    </tr>\n",
       "    <tr>\n",
       "      <th>12</th>\n",
       "      <td>195</td>\n",
       "      <td>G</td>\n",
       "      <td>[C, T]</td>\n",
       "      <td>C</td>\n",
       "      <td>1.0</td>\n",
       "      <td>[Rv0001, Rv0001]</td>\n",
       "      <td>[195, 195]</td>\n",
       "      <td>[Essential, Essential]</td>\n",
       "      <td>[dnaA, dnaA]</td>\n",
       "      <td>[S, S]</td>\n",
       "      <td>[V65V, V65V]</td>\n",
       "    </tr>\n",
       "    <tr>\n",
       "      <th>13</th>\n",
       "      <td>200</td>\n",
       "      <td>G</td>\n",
       "      <td>[A]</td>\n",
       "      <td>A</td>\n",
       "      <td>1.0</td>\n",
       "      <td>[Rv0001]</td>\n",
       "      <td>[200]</td>\n",
       "      <td>[Essential]</td>\n",
       "      <td>[dnaA]</td>\n",
       "      <td>[N]</td>\n",
       "      <td>[S67N]</td>\n",
       "    </tr>\n",
       "  </tbody>\n",
       "</table>\n",
       "</div>"
      ],
      "text/plain": [
       "    pos ref     alt minor_allele  homoplasy_score           gene_id  \\\n",
       "1    67   G  [A, T]            T              1.0  [Rv0001, Rv0001]   \n",
       "2    75   G     [A]            A              1.0          [Rv0001]   \n",
       "3    91   A     [C]            C              1.0          [Rv0001]   \n",
       "5   108   C  [A, T]            T              1.0  [Rv0001, Rv0001]   \n",
       "6   129   G     [A]            A              1.0          [Rv0001]   \n",
       "8   147   T  [C, G]            C              1.0  [Rv0001, Rv0001]   \n",
       "9   187   T     [C]            C              1.0          [Rv0001]   \n",
       "10  194   T     [C]            C              1.0          [Rv0001]   \n",
       "12  195   G  [C, T]            C              1.0  [Rv0001, Rv0001]   \n",
       "13  200   G     [A]            A              1.0          [Rv0001]   \n",
       "\n",
       "      gene_pos           gene_category     gene_name    type     AA_change  \n",
       "1     [67, 67]  [Essential, Essential]  [dnaA, dnaA]  [N, N]  [D23N, D23Y]  \n",
       "2         [75]             [Essential]        [dnaA]     [S]        [K25K]  \n",
       "3         [91]             [Essential]        [dnaA]     [N]        [S31R]  \n",
       "5   [108, 108]  [Essential, Essential]  [dnaA, dnaA]  [S, S]  [L36L, L36L]  \n",
       "6        [129]             [Essential]        [dnaA]     [S]        [Q43Q]  \n",
       "8   [147, 147]  [Essential, Essential]  [dnaA, dnaA]  [S, N]  [N49N, N49K]  \n",
       "9        [187]             [Essential]        [dnaA]     [S]        [L63L]  \n",
       "10       [194]             [Essential]        [dnaA]     [N]        [V65A]  \n",
       "12  [195, 195]  [Essential, Essential]  [dnaA, dnaA]  [S, S]  [V65V, V65V]  \n",
       "13       [200]             [Essential]        [dnaA]     [N]        [S67N]  "
      ]
     },
     "execution_count": 58,
     "metadata": {},
     "output_type": "execute_result"
    }
   ],
   "source": [
    "SNP_homoplasy_DF.head(n=10)"
   ]
  },
  {
   "cell_type": "markdown",
   "metadata": {},
   "source": [
    "#### Classify each homoplastic SNP (Ref Allele <-> Alt Allele i ) as an *sSNP*, *nSNP*, *iSNP* or *ambiguous*\n",
    "\n",
    "- **IF** minor allele = alternate allele i; **THEN** use SNP type for ref <> alternate allele i\n",
    "- **ELIF** minor allele = reference allele **AND** there's only 1 alternalte allele (SNP is biallelic); **THEN** use SNP type for ref <> alternate allele\n",
    "- **ELIF** minor allele = reference allele **AND** there's > 1 alternalte allele **AND** SNP types are the same for all alternate alleles; **THEN** use same SNP types for all ref <> alternate allele(s)\n",
    "- **ELIF** minor allele = reference allele **AND** there's > 1 alternalte allele **AND** SNP types are different among alternate alleles; **THEN** classify functional effect as *ambiguous*"
   ]
  },
  {
   "cell_type": "code",
   "execution_count": 59,
   "metadata": {},
   "outputs": [],
   "source": [
    "functional_effect_list = []\n",
    "\n",
    "for homoplastic_SNP_i in SNP_homoplasy_DF.index:\n",
    "    \n",
    "    SNP_i_info = SNP_homoplasy_DF.loc[homoplastic_SNP_i , :]\n",
    "    \n",
    "    SNP_i_ref = SNP_i_info.ref\n",
    "    SNP_i_alt_list = SNP_i_info.alt\n",
    "    SNP_i_minor_allele = SNP_i_info.minor_allele\n",
    "    SNP_i_types_list = SNP_i_info.type\n",
    "    \n",
    "    if SNP_i_minor_allele in SNP_i_alt_list:\n",
    "        \n",
    "        SNP_i_func_effect = SNP_i_types_list[SNP_i_alt_list.index(SNP_i_minor_allele)]\n",
    "        \n",
    "    elif (SNP_i_minor_allele == SNP_i_ref) and (len(SNP_i_alt_list) == 1):\n",
    "        \n",
    "        SNP_i_func_effect = SNP_i_types_list[0]\n",
    "        \n",
    "    elif (SNP_i_minor_allele == SNP_i_ref) and (len(SNP_i_alt_list) > 1) and (len(set(SNP_i_types_list)) == 1):\n",
    "    \n",
    "        SNP_i_func_effect = SNP_i_types_list[0]\n",
    "        \n",
    "    elif (SNP_i_minor_allele == SNP_i_ref) and (len(SNP_i_alt_list) > 1) and (len(set(SNP_i_types_list)) > 1):\n",
    "        \n",
    "        SNP_i_func_effect = 'A'\n",
    "        \n",
    "    functional_effect_list.append(SNP_i_func_effect)\n",
    "        \n",
    "SNP_homoplasy_DF.loc[: , 'mut_func_effect'] = functional_effect_list"
   ]
  },
  {
   "cell_type": "code",
   "execution_count": 60,
   "metadata": {},
   "outputs": [
    {
     "data": {
      "text/html": [
       "<div>\n",
       "<style>\n",
       "    .dataframe thead tr:only-child th {\n",
       "        text-align: right;\n",
       "    }\n",
       "\n",
       "    .dataframe thead th {\n",
       "        text-align: left;\n",
       "    }\n",
       "\n",
       "    .dataframe tbody tr th {\n",
       "        vertical-align: top;\n",
       "    }\n",
       "</style>\n",
       "<table border=\"1\" class=\"dataframe\">\n",
       "  <thead>\n",
       "    <tr style=\"text-align: right;\">\n",
       "      <th></th>\n",
       "      <th>pos</th>\n",
       "      <th>ref</th>\n",
       "      <th>alt</th>\n",
       "      <th>minor_allele</th>\n",
       "      <th>homoplasy_score</th>\n",
       "      <th>gene_id</th>\n",
       "      <th>gene_pos</th>\n",
       "      <th>gene_category</th>\n",
       "      <th>gene_name</th>\n",
       "      <th>type</th>\n",
       "      <th>AA_change</th>\n",
       "      <th>mut_func_effect</th>\n",
       "    </tr>\n",
       "  </thead>\n",
       "  <tbody>\n",
       "    <tr>\n",
       "      <th>1</th>\n",
       "      <td>67</td>\n",
       "      <td>G</td>\n",
       "      <td>[A, T]</td>\n",
       "      <td>T</td>\n",
       "      <td>1.0</td>\n",
       "      <td>[Rv0001, Rv0001]</td>\n",
       "      <td>[67, 67]</td>\n",
       "      <td>[Essential, Essential]</td>\n",
       "      <td>[dnaA, dnaA]</td>\n",
       "      <td>[N, N]</td>\n",
       "      <td>[D23N, D23Y]</td>\n",
       "      <td>N</td>\n",
       "    </tr>\n",
       "    <tr>\n",
       "      <th>2</th>\n",
       "      <td>75</td>\n",
       "      <td>G</td>\n",
       "      <td>[A]</td>\n",
       "      <td>A</td>\n",
       "      <td>1.0</td>\n",
       "      <td>[Rv0001]</td>\n",
       "      <td>[75]</td>\n",
       "      <td>[Essential]</td>\n",
       "      <td>[dnaA]</td>\n",
       "      <td>[S]</td>\n",
       "      <td>[K25K]</td>\n",
       "      <td>S</td>\n",
       "    </tr>\n",
       "    <tr>\n",
       "      <th>3</th>\n",
       "      <td>91</td>\n",
       "      <td>A</td>\n",
       "      <td>[C]</td>\n",
       "      <td>C</td>\n",
       "      <td>1.0</td>\n",
       "      <td>[Rv0001]</td>\n",
       "      <td>[91]</td>\n",
       "      <td>[Essential]</td>\n",
       "      <td>[dnaA]</td>\n",
       "      <td>[N]</td>\n",
       "      <td>[S31R]</td>\n",
       "      <td>N</td>\n",
       "    </tr>\n",
       "    <tr>\n",
       "      <th>5</th>\n",
       "      <td>108</td>\n",
       "      <td>C</td>\n",
       "      <td>[A, T]</td>\n",
       "      <td>T</td>\n",
       "      <td>1.0</td>\n",
       "      <td>[Rv0001, Rv0001]</td>\n",
       "      <td>[108, 108]</td>\n",
       "      <td>[Essential, Essential]</td>\n",
       "      <td>[dnaA, dnaA]</td>\n",
       "      <td>[S, S]</td>\n",
       "      <td>[L36L, L36L]</td>\n",
       "      <td>S</td>\n",
       "    </tr>\n",
       "    <tr>\n",
       "      <th>6</th>\n",
       "      <td>129</td>\n",
       "      <td>G</td>\n",
       "      <td>[A]</td>\n",
       "      <td>A</td>\n",
       "      <td>1.0</td>\n",
       "      <td>[Rv0001]</td>\n",
       "      <td>[129]</td>\n",
       "      <td>[Essential]</td>\n",
       "      <td>[dnaA]</td>\n",
       "      <td>[S]</td>\n",
       "      <td>[Q43Q]</td>\n",
       "      <td>S</td>\n",
       "    </tr>\n",
       "  </tbody>\n",
       "</table>\n",
       "</div>"
      ],
      "text/plain": [
       "   pos ref     alt minor_allele  homoplasy_score           gene_id  \\\n",
       "1   67   G  [A, T]            T              1.0  [Rv0001, Rv0001]   \n",
       "2   75   G     [A]            A              1.0          [Rv0001]   \n",
       "3   91   A     [C]            C              1.0          [Rv0001]   \n",
       "5  108   C  [A, T]            T              1.0  [Rv0001, Rv0001]   \n",
       "6  129   G     [A]            A              1.0          [Rv0001]   \n",
       "\n",
       "     gene_pos           gene_category     gene_name    type     AA_change  \\\n",
       "1    [67, 67]  [Essential, Essential]  [dnaA, dnaA]  [N, N]  [D23N, D23Y]   \n",
       "2        [75]             [Essential]        [dnaA]     [S]        [K25K]   \n",
       "3        [91]             [Essential]        [dnaA]     [N]        [S31R]   \n",
       "5  [108, 108]  [Essential, Essential]  [dnaA, dnaA]  [S, S]  [L36L, L36L]   \n",
       "6       [129]             [Essential]        [dnaA]     [S]        [Q43Q]   \n",
       "\n",
       "  mut_func_effect  \n",
       "1               N  \n",
       "2               S  \n",
       "3               N  \n",
       "5               S  \n",
       "6               S  "
      ]
     },
     "execution_count": 60,
     "metadata": {},
     "output_type": "execute_result"
    }
   ],
   "source": [
    "SNP_homoplasy_DF.head()"
   ]
  },
  {
   "cell_type": "markdown",
   "metadata": {},
   "source": [
    "Pickle dataframe with homoplasy count for this lineage for downstream analysis"
   ]
  },
  {
   "cell_type": "code",
   "execution_count": 61,
   "metadata": {},
   "outputs": [],
   "source": [
    "SNP_homoplasy_DF.to_pickle('/n/data1/hms/dbmi/farhat/Roger/homoplasy_project/CSV_files/homoplasies_detected_in_global_lineages/SNP homoplasies/pickled dataframes/spacer_{0}/homoplasy_scores_lineage_{1}.pkl'.format(str(spacer_length) , global_lineage))"
   ]
  },
  {
   "cell_type": "markdown",
   "metadata": {},
   "source": [
    "Check the **top hits**"
   ]
  },
  {
   "cell_type": "code",
   "execution_count": 62,
   "metadata": {},
   "outputs": [
    {
     "data": {
      "text/html": [
       "<div>\n",
       "<style>\n",
       "    .dataframe thead tr:only-child th {\n",
       "        text-align: right;\n",
       "    }\n",
       "\n",
       "    .dataframe thead th {\n",
       "        text-align: left;\n",
       "    }\n",
       "\n",
       "    .dataframe tbody tr th {\n",
       "        vertical-align: top;\n",
       "    }\n",
       "</style>\n",
       "<table border=\"1\" class=\"dataframe\">\n",
       "  <thead>\n",
       "    <tr style=\"text-align: right;\">\n",
       "      <th></th>\n",
       "      <th>pos</th>\n",
       "      <th>ref</th>\n",
       "      <th>alt</th>\n",
       "      <th>minor_allele</th>\n",
       "      <th>homoplasy_score</th>\n",
       "      <th>gene_id</th>\n",
       "      <th>gene_pos</th>\n",
       "      <th>gene_category</th>\n",
       "      <th>gene_name</th>\n",
       "      <th>type</th>\n",
       "      <th>AA_change</th>\n",
       "      <th>mut_func_effect</th>\n",
       "    </tr>\n",
       "  </thead>\n",
       "  <tbody>\n",
       "    <tr>\n",
       "      <th>106563</th>\n",
       "      <td>2155168</td>\n",
       "      <td>C</td>\n",
       "      <td>[A, T, G]</td>\n",
       "      <td>G</td>\n",
       "      <td>186.0</td>\n",
       "      <td>[Rv1908c, Rv1908c, Rv1908c]</td>\n",
       "      <td>[944, 944, 944]</td>\n",
       "      <td>[Antibiotic Resistance, Antibiotic Resistance,...</td>\n",
       "      <td>[katG, katG, katG]</td>\n",
       "      <td>[N, N, N]</td>\n",
       "      <td>[S315I, S315N, S315T]</td>\n",
       "      <td>N</td>\n",
       "    </tr>\n",
       "    <tr>\n",
       "      <th>83903</th>\n",
       "      <td>1673425</td>\n",
       "      <td>C</td>\n",
       "      <td>[T]</td>\n",
       "      <td>T</td>\n",
       "      <td>162.0</td>\n",
       "      <td>[Rv1482c_Rv1483]</td>\n",
       "      <td>[None]</td>\n",
       "      <td>[None]</td>\n",
       "      <td>[None]</td>\n",
       "      <td>[I]</td>\n",
       "      <td>[None]</td>\n",
       "      <td>I</td>\n",
       "    </tr>\n",
       "    <tr>\n",
       "      <th>41998</th>\n",
       "      <td>761155</td>\n",
       "      <td>C</td>\n",
       "      <td>[A, T, G]</td>\n",
       "      <td>T</td>\n",
       "      <td>76.0</td>\n",
       "      <td>[Rv0667, Rv0667, Rv0667]</td>\n",
       "      <td>[1349, 1349, 1349]</td>\n",
       "      <td>[Antibiotic Resistance, Antibiotic Resistance,...</td>\n",
       "      <td>[rpoB, rpoB, rpoB]</td>\n",
       "      <td>[N, N, N]</td>\n",
       "      <td>[S450*, S450L, S450W]</td>\n",
       "      <td>N</td>\n",
       "    </tr>\n",
       "    <tr>\n",
       "      <th>183510</th>\n",
       "      <td>3884906</td>\n",
       "      <td>A</td>\n",
       "      <td>[G]</td>\n",
       "      <td>A</td>\n",
       "      <td>75.0</td>\n",
       "      <td>[Rv3467]</td>\n",
       "      <td>[943]</td>\n",
       "      <td>[Non-Essential]</td>\n",
       "      <td>[Rv3467]</td>\n",
       "      <td>[N]</td>\n",
       "      <td>[K315E]</td>\n",
       "      <td>N</td>\n",
       "    </tr>\n",
       "    <tr>\n",
       "      <th>181761</th>\n",
       "      <td>3841662</td>\n",
       "      <td>T</td>\n",
       "      <td>[C]</td>\n",
       "      <td>C</td>\n",
       "      <td>63.0</td>\n",
       "      <td>[Rv3423c_Rv3424c]</td>\n",
       "      <td>[None]</td>\n",
       "      <td>[None]</td>\n",
       "      <td>[None]</td>\n",
       "      <td>[I]</td>\n",
       "      <td>[None]</td>\n",
       "      <td>I</td>\n",
       "    </tr>\n",
       "    <tr>\n",
       "      <th>151601</th>\n",
       "      <td>3136335</td>\n",
       "      <td>G</td>\n",
       "      <td>[A]</td>\n",
       "      <td>A</td>\n",
       "      <td>55.0</td>\n",
       "      <td>[Rv2828c_Rv2829c]</td>\n",
       "      <td>[None]</td>\n",
       "      <td>[None]</td>\n",
       "      <td>[None]</td>\n",
       "      <td>[I]</td>\n",
       "      <td>[None]</td>\n",
       "      <td>I</td>\n",
       "    </tr>\n",
       "    <tr>\n",
       "      <th>129350</th>\n",
       "      <td>2626600</td>\n",
       "      <td>G</td>\n",
       "      <td>[A]</td>\n",
       "      <td>A</td>\n",
       "      <td>52.0</td>\n",
       "      <td>[Rv2347c_Rv2348c]</td>\n",
       "      <td>[None]</td>\n",
       "      <td>[None]</td>\n",
       "      <td>[None]</td>\n",
       "      <td>[I]</td>\n",
       "      <td>[None]</td>\n",
       "      <td>I</td>\n",
       "    </tr>\n",
       "    <tr>\n",
       "      <th>183505</th>\n",
       "      <td>3883605</td>\n",
       "      <td>T</td>\n",
       "      <td>[C]</td>\n",
       "      <td>C</td>\n",
       "      <td>51.0</td>\n",
       "      <td>[Rv3466]</td>\n",
       "      <td>[81]</td>\n",
       "      <td>[Non-Essential]</td>\n",
       "      <td>[Rv3466]</td>\n",
       "      <td>[S]</td>\n",
       "      <td>[S27S]</td>\n",
       "      <td>S</td>\n",
       "    </tr>\n",
       "    <tr>\n",
       "      <th>74702</th>\n",
       "      <td>1468150</td>\n",
       "      <td>C</td>\n",
       "      <td>[T]</td>\n",
       "      <td>T</td>\n",
       "      <td>46.0</td>\n",
       "      <td>[Rv1312_Rv1313c]</td>\n",
       "      <td>[None]</td>\n",
       "      <td>[None]</td>\n",
       "      <td>[None]</td>\n",
       "      <td>[I]</td>\n",
       "      <td>[None]</td>\n",
       "      <td>I</td>\n",
       "    </tr>\n",
       "    <tr>\n",
       "      <th>60731</th>\n",
       "      <td>1164571</td>\n",
       "      <td>A</td>\n",
       "      <td>[G]</td>\n",
       "      <td>G</td>\n",
       "      <td>45.0</td>\n",
       "      <td>[Rv1040c_Rv1041c]</td>\n",
       "      <td>[None]</td>\n",
       "      <td>[None]</td>\n",
       "      <td>[None]</td>\n",
       "      <td>[I]</td>\n",
       "      <td>[None]</td>\n",
       "      <td>I</td>\n",
       "    </tr>\n",
       "    <tr>\n",
       "      <th>210233</th>\n",
       "      <td>4386108</td>\n",
       "      <td>A</td>\n",
       "      <td>[G]</td>\n",
       "      <td>G</td>\n",
       "      <td>42.0</td>\n",
       "      <td>[Rv3900c]</td>\n",
       "      <td>[201]</td>\n",
       "      <td>[Non-Essential]</td>\n",
       "      <td>[Rv3900c]</td>\n",
       "      <td>[S]</td>\n",
       "      <td>[I67I]</td>\n",
       "      <td>S</td>\n",
       "    </tr>\n",
       "    <tr>\n",
       "      <th>210234</th>\n",
       "      <td>4386142</td>\n",
       "      <td>A</td>\n",
       "      <td>[G]</td>\n",
       "      <td>G</td>\n",
       "      <td>42.0</td>\n",
       "      <td>[Rv3900c]</td>\n",
       "      <td>[167]</td>\n",
       "      <td>[Non-Essential]</td>\n",
       "      <td>[Rv3900c]</td>\n",
       "      <td>[N]</td>\n",
       "      <td>[L56S]</td>\n",
       "      <td>N</td>\n",
       "    </tr>\n",
       "    <tr>\n",
       "      <th>210225</th>\n",
       "      <td>4385916</td>\n",
       "      <td>C</td>\n",
       "      <td>[G]</td>\n",
       "      <td>G</td>\n",
       "      <td>41.0</td>\n",
       "      <td>[Rv3900c]</td>\n",
       "      <td>[393]</td>\n",
       "      <td>[Non-Essential]</td>\n",
       "      <td>[Rv3900c]</td>\n",
       "      <td>[S]</td>\n",
       "      <td>[A131A]</td>\n",
       "      <td>S</td>\n",
       "    </tr>\n",
       "    <tr>\n",
       "      <th>210226</th>\n",
       "      <td>4385933</td>\n",
       "      <td>A</td>\n",
       "      <td>[G]</td>\n",
       "      <td>G</td>\n",
       "      <td>39.0</td>\n",
       "      <td>[Rv3900c]</td>\n",
       "      <td>[376]</td>\n",
       "      <td>[Non-Essential]</td>\n",
       "      <td>[Rv3900c]</td>\n",
       "      <td>[S]</td>\n",
       "      <td>[L126L]</td>\n",
       "      <td>S</td>\n",
       "    </tr>\n",
       "    <tr>\n",
       "      <th>129333</th>\n",
       "      <td>2626138</td>\n",
       "      <td>G</td>\n",
       "      <td>[A, T]</td>\n",
       "      <td>T</td>\n",
       "      <td>39.0</td>\n",
       "      <td>[Rv2346c, Rv2346c]</td>\n",
       "      <td>[35, 35]</td>\n",
       "      <td>[Antigen, Antigen]</td>\n",
       "      <td>[esxO, esxO]</td>\n",
       "      <td>[N, N]</td>\n",
       "      <td>[A12V, A12D]</td>\n",
       "      <td>N</td>\n",
       "    </tr>\n",
       "    <tr>\n",
       "      <th>82267</th>\n",
       "      <td>1638364</td>\n",
       "      <td>C</td>\n",
       "      <td>[T]</td>\n",
       "      <td>C</td>\n",
       "      <td>39.0</td>\n",
       "      <td>[Rv1452c_Rv1453]</td>\n",
       "      <td>[None]</td>\n",
       "      <td>[None]</td>\n",
       "      <td>[None]</td>\n",
       "      <td>[I]</td>\n",
       "      <td>[None]</td>\n",
       "      <td>I</td>\n",
       "    </tr>\n",
       "    <tr>\n",
       "      <th>210228</th>\n",
       "      <td>4385946</td>\n",
       "      <td>C</td>\n",
       "      <td>[T]</td>\n",
       "      <td>T</td>\n",
       "      <td>38.0</td>\n",
       "      <td>[Rv3900c]</td>\n",
       "      <td>[363]</td>\n",
       "      <td>[Non-Essential]</td>\n",
       "      <td>[Rv3900c]</td>\n",
       "      <td>[S]</td>\n",
       "      <td>[A121A]</td>\n",
       "      <td>S</td>\n",
       "    </tr>\n",
       "    <tr>\n",
       "      <th>129343</th>\n",
       "      <td>2626189</td>\n",
       "      <td>C</td>\n",
       "      <td>[A, G]</td>\n",
       "      <td>C</td>\n",
       "      <td>36.0</td>\n",
       "      <td>[Rv2346c_Rv2347c, Rv2346c_Rv2347c]</td>\n",
       "      <td>[None, None]</td>\n",
       "      <td>[None, None]</td>\n",
       "      <td>[None, None]</td>\n",
       "      <td>[I, I]</td>\n",
       "      <td>[None, None]</td>\n",
       "      <td>I</td>\n",
       "    </tr>\n",
       "    <tr>\n",
       "      <th>43036</th>\n",
       "      <td>781687</td>\n",
       "      <td>A</td>\n",
       "      <td>[C, T, G]</td>\n",
       "      <td>G</td>\n",
       "      <td>36.0</td>\n",
       "      <td>[Rv0682, Rv0682, Rv0682]</td>\n",
       "      <td>[128, 128, 128]</td>\n",
       "      <td>[Antibiotic Resistance, Antibiotic Resistance,...</td>\n",
       "      <td>[rpsL, rpsL, rpsL]</td>\n",
       "      <td>[N, N, N]</td>\n",
       "      <td>[K43T, K43M, K43R]</td>\n",
       "      <td>N</td>\n",
       "    </tr>\n",
       "    <tr>\n",
       "      <th>100178</th>\n",
       "      <td>2030488</td>\n",
       "      <td>A</td>\n",
       "      <td>[C]</td>\n",
       "      <td>A</td>\n",
       "      <td>36.0</td>\n",
       "      <td>[Rv1792]</td>\n",
       "      <td>[142]</td>\n",
       "      <td>[Antigen]</td>\n",
       "      <td>[esxM]</td>\n",
       "      <td>[N]</td>\n",
       "      <td>[M48L]</td>\n",
       "      <td>N</td>\n",
       "    </tr>\n",
       "    <tr>\n",
       "      <th>24357</th>\n",
       "      <td>401678</td>\n",
       "      <td>C</td>\n",
       "      <td>[A]</td>\n",
       "      <td>A</td>\n",
       "      <td>36.0</td>\n",
       "      <td>[Rv0336]</td>\n",
       "      <td>[1487]</td>\n",
       "      <td>[Non-Essential]</td>\n",
       "      <td>[Rv0336]</td>\n",
       "      <td>[N]</td>\n",
       "      <td>[P496H]</td>\n",
       "      <td>N</td>\n",
       "    </tr>\n",
       "    <tr>\n",
       "      <th>129344</th>\n",
       "      <td>2626191</td>\n",
       "      <td>C</td>\n",
       "      <td>[T]</td>\n",
       "      <td>C</td>\n",
       "      <td>36.0</td>\n",
       "      <td>[Rv2346c_Rv2347c]</td>\n",
       "      <td>[None]</td>\n",
       "      <td>[None]</td>\n",
       "      <td>[None]</td>\n",
       "      <td>[I]</td>\n",
       "      <td>[None]</td>\n",
       "      <td>I</td>\n",
       "    </tr>\n",
       "    <tr>\n",
       "      <th>100180</th>\n",
       "      <td>2030489</td>\n",
       "      <td>T</td>\n",
       "      <td>[A, G]</td>\n",
       "      <td>T</td>\n",
       "      <td>35.0</td>\n",
       "      <td>[Rv1792, Rv1792]</td>\n",
       "      <td>[143, 143]</td>\n",
       "      <td>[Antigen, Antigen]</td>\n",
       "      <td>[esxM, esxM]</td>\n",
       "      <td>[N, N]</td>\n",
       "      <td>[M48K, M48R]</td>\n",
       "      <td>N</td>\n",
       "    </tr>\n",
       "    <tr>\n",
       "      <th>129327</th>\n",
       "      <td>2626108</td>\n",
       "      <td>C</td>\n",
       "      <td>[G]</td>\n",
       "      <td>C</td>\n",
       "      <td>35.0</td>\n",
       "      <td>[Rv2346c]</td>\n",
       "      <td>[65]</td>\n",
       "      <td>[Antigen]</td>\n",
       "      <td>[esxO]</td>\n",
       "      <td>[N]</td>\n",
       "      <td>[G22A]</td>\n",
       "      <td>N</td>\n",
       "    </tr>\n",
       "    <tr>\n",
       "      <th>129326</th>\n",
       "      <td>2626105</td>\n",
       "      <td>A</td>\n",
       "      <td>[G]</td>\n",
       "      <td>A</td>\n",
       "      <td>35.0</td>\n",
       "      <td>[Rv2346c]</td>\n",
       "      <td>[68]</td>\n",
       "      <td>[Antigen]</td>\n",
       "      <td>[esxO]</td>\n",
       "      <td>[N]</td>\n",
       "      <td>[L23S]</td>\n",
       "      <td>N</td>\n",
       "    </tr>\n",
       "    <tr>\n",
       "      <th>21071</th>\n",
       "      <td>340132</td>\n",
       "      <td>G</td>\n",
       "      <td>[A]</td>\n",
       "      <td>A</td>\n",
       "      <td>34.0</td>\n",
       "      <td>[Rv0280]</td>\n",
       "      <td>[769]</td>\n",
       "      <td>[PE/PPE]</td>\n",
       "      <td>[PPE3]</td>\n",
       "      <td>[N]</td>\n",
       "      <td>[E257K]</td>\n",
       "      <td>N</td>\n",
       "    </tr>\n",
       "    <tr>\n",
       "      <th>181781</th>\n",
       "      <td>3847551</td>\n",
       "      <td>A</td>\n",
       "      <td>[G]</td>\n",
       "      <td>G</td>\n",
       "      <td>34.0</td>\n",
       "      <td>[Rv3429]</td>\n",
       "      <td>[387]</td>\n",
       "      <td>[PE/PPE]</td>\n",
       "      <td>[PPE59]</td>\n",
       "      <td>[S]</td>\n",
       "      <td>[P129P]</td>\n",
       "      <td>S</td>\n",
       "    </tr>\n",
       "    <tr>\n",
       "      <th>100177</th>\n",
       "      <td>2030487</td>\n",
       "      <td>C</td>\n",
       "      <td>[T]</td>\n",
       "      <td>C</td>\n",
       "      <td>33.0</td>\n",
       "      <td>[Rv1792]</td>\n",
       "      <td>[141]</td>\n",
       "      <td>[Antigen]</td>\n",
       "      <td>[esxM]</td>\n",
       "      <td>[S]</td>\n",
       "      <td>[G47G]</td>\n",
       "      <td>S</td>\n",
       "    </tr>\n",
       "    <tr>\n",
       "      <th>200755</th>\n",
       "      <td>4247429</td>\n",
       "      <td>A</td>\n",
       "      <td>[C, T, G]</td>\n",
       "      <td>G</td>\n",
       "      <td>33.0</td>\n",
       "      <td>[Rv3795, Rv3795, Rv3795]</td>\n",
       "      <td>[916, 916, 916]</td>\n",
       "      <td>[Antibiotic Resistance, Antibiotic Resistance,...</td>\n",
       "      <td>[embB, embB, embB]</td>\n",
       "      <td>[N, N, N]</td>\n",
       "      <td>[M306L, M306L, M306V]</td>\n",
       "      <td>N</td>\n",
       "    </tr>\n",
       "    <tr>\n",
       "      <th>129345</th>\n",
       "      <td>2626196</td>\n",
       "      <td>A</td>\n",
       "      <td>[G]</td>\n",
       "      <td>A</td>\n",
       "      <td>33.0</td>\n",
       "      <td>[Rv2346c_Rv2347c]</td>\n",
       "      <td>[None]</td>\n",
       "      <td>[None]</td>\n",
       "      <td>[None]</td>\n",
       "      <td>[I]</td>\n",
       "      <td>[None]</td>\n",
       "      <td>I</td>\n",
       "    </tr>\n",
       "    <tr>\n",
       "      <th>68865</th>\n",
       "      <td>1341120</td>\n",
       "      <td>A</td>\n",
       "      <td>[G]</td>\n",
       "      <td>G</td>\n",
       "      <td>32.0</td>\n",
       "      <td>[Rv1198]</td>\n",
       "      <td>[115]</td>\n",
       "      <td>[Antigen]</td>\n",
       "      <td>[esxL]</td>\n",
       "      <td>[N]</td>\n",
       "      <td>[S39G]</td>\n",
       "      <td>N</td>\n",
       "    </tr>\n",
       "    <tr>\n",
       "      <th>129303</th>\n",
       "      <td>2626011</td>\n",
       "      <td>G</td>\n",
       "      <td>[A]</td>\n",
       "      <td>A</td>\n",
       "      <td>32.0</td>\n",
       "      <td>[Rv2346c]</td>\n",
       "      <td>[162]</td>\n",
       "      <td>[Antigen]</td>\n",
       "      <td>[esxO]</td>\n",
       "      <td>[S]</td>\n",
       "      <td>[I54I]</td>\n",
       "      <td>S</td>\n",
       "    </tr>\n",
       "    <tr>\n",
       "      <th>129335</th>\n",
       "      <td>2626149</td>\n",
       "      <td>A</td>\n",
       "      <td>[C]</td>\n",
       "      <td>C</td>\n",
       "      <td>31.0</td>\n",
       "      <td>[Rv2346c]</td>\n",
       "      <td>[24]</td>\n",
       "      <td>[Antigen]</td>\n",
       "      <td>[esxO]</td>\n",
       "      <td>[S]</td>\n",
       "      <td>[G8G]</td>\n",
       "      <td>S</td>\n",
       "    </tr>\n",
       "    <tr>\n",
       "      <th>68802</th>\n",
       "      <td>1340274</td>\n",
       "      <td>T</td>\n",
       "      <td>[C]</td>\n",
       "      <td>T</td>\n",
       "      <td>31.0</td>\n",
       "      <td>[Rv1196]</td>\n",
       "      <td>[926]</td>\n",
       "      <td>[PE/PPE]</td>\n",
       "      <td>[PPE18]</td>\n",
       "      <td>[N]</td>\n",
       "      <td>[L309S]</td>\n",
       "      <td>N</td>\n",
       "    </tr>\n",
       "    <tr>\n",
       "      <th>77619</th>\n",
       "      <td>1533208</td>\n",
       "      <td>C</td>\n",
       "      <td>[A, G]</td>\n",
       "      <td>G</td>\n",
       "      <td>30.0</td>\n",
       "      <td>[Rv1361c, Rv1361c]</td>\n",
       "      <td>[426, 426]</td>\n",
       "      <td>[PE/PPE, PE/PPE]</td>\n",
       "      <td>[PPE19, PPE19]</td>\n",
       "      <td>[S, S]</td>\n",
       "      <td>[G142G, G142G]</td>\n",
       "      <td>S</td>\n",
       "    </tr>\n",
       "    <tr>\n",
       "      <th>34542</th>\n",
       "      <td>608037</td>\n",
       "      <td>A</td>\n",
       "      <td>[C]</td>\n",
       "      <td>C</td>\n",
       "      <td>30.0</td>\n",
       "      <td>[Rv0515]</td>\n",
       "      <td>[1487]</td>\n",
       "      <td>[Non-Essential]</td>\n",
       "      <td>[Rv0515]</td>\n",
       "      <td>[N]</td>\n",
       "      <td>[H496P]</td>\n",
       "      <td>N</td>\n",
       "    </tr>\n",
       "    <tr>\n",
       "      <th>98586</th>\n",
       "      <td>1982901</td>\n",
       "      <td>G</td>\n",
       "      <td>[C, T]</td>\n",
       "      <td>T</td>\n",
       "      <td>30.0</td>\n",
       "      <td>[Rv1753c, Rv1753c]</td>\n",
       "      <td>[1875, 1875]</td>\n",
       "      <td>[PE/PPE, PE/PPE]</td>\n",
       "      <td>[PPE24, PPE24]</td>\n",
       "      <td>[S, S]</td>\n",
       "      <td>[P625P, P625P]</td>\n",
       "      <td>S</td>\n",
       "    </tr>\n",
       "    <tr>\n",
       "      <th>74863</th>\n",
       "      <td>1472362</td>\n",
       "      <td>C</td>\n",
       "      <td>[T]</td>\n",
       "      <td>T</td>\n",
       "      <td>30.0</td>\n",
       "      <td>[Rvnr01]</td>\n",
       "      <td>[517]</td>\n",
       "      <td>[None]</td>\n",
       "      <td>[None]</td>\n",
       "      <td>[N]</td>\n",
       "      <td>[R173C]</td>\n",
       "      <td>N</td>\n",
       "    </tr>\n",
       "    <tr>\n",
       "      <th>181780</th>\n",
       "      <td>3847546</td>\n",
       "      <td>A</td>\n",
       "      <td>[G]</td>\n",
       "      <td>G</td>\n",
       "      <td>29.0</td>\n",
       "      <td>[Rv3429]</td>\n",
       "      <td>[382]</td>\n",
       "      <td>[PE/PPE]</td>\n",
       "      <td>[PPE59]</td>\n",
       "      <td>[N]</td>\n",
       "      <td>[T128A]</td>\n",
       "      <td>N</td>\n",
       "    </tr>\n",
       "    <tr>\n",
       "      <th>83950</th>\n",
       "      <td>1674481</td>\n",
       "      <td>T</td>\n",
       "      <td>[G]</td>\n",
       "      <td>G</td>\n",
       "      <td>28.0</td>\n",
       "      <td>[Rv1484]</td>\n",
       "      <td>[280]</td>\n",
       "      <td>[Antibiotic Resistance]</td>\n",
       "      <td>[inhA]</td>\n",
       "      <td>[N]</td>\n",
       "      <td>[S94A]</td>\n",
       "      <td>N</td>\n",
       "    </tr>\n",
       "  </tbody>\n",
       "</table>\n",
       "</div>"
      ],
      "text/plain": [
       "            pos ref        alt minor_allele  homoplasy_score  \\\n",
       "106563  2155168   C  [A, T, G]            G            186.0   \n",
       "83903   1673425   C        [T]            T            162.0   \n",
       "41998    761155   C  [A, T, G]            T             76.0   \n",
       "183510  3884906   A        [G]            A             75.0   \n",
       "181761  3841662   T        [C]            C             63.0   \n",
       "151601  3136335   G        [A]            A             55.0   \n",
       "129350  2626600   G        [A]            A             52.0   \n",
       "183505  3883605   T        [C]            C             51.0   \n",
       "74702   1468150   C        [T]            T             46.0   \n",
       "60731   1164571   A        [G]            G             45.0   \n",
       "210233  4386108   A        [G]            G             42.0   \n",
       "210234  4386142   A        [G]            G             42.0   \n",
       "210225  4385916   C        [G]            G             41.0   \n",
       "210226  4385933   A        [G]            G             39.0   \n",
       "129333  2626138   G     [A, T]            T             39.0   \n",
       "82267   1638364   C        [T]            C             39.0   \n",
       "210228  4385946   C        [T]            T             38.0   \n",
       "129343  2626189   C     [A, G]            C             36.0   \n",
       "43036    781687   A  [C, T, G]            G             36.0   \n",
       "100178  2030488   A        [C]            A             36.0   \n",
       "24357    401678   C        [A]            A             36.0   \n",
       "129344  2626191   C        [T]            C             36.0   \n",
       "100180  2030489   T     [A, G]            T             35.0   \n",
       "129327  2626108   C        [G]            C             35.0   \n",
       "129326  2626105   A        [G]            A             35.0   \n",
       "21071    340132   G        [A]            A             34.0   \n",
       "181781  3847551   A        [G]            G             34.0   \n",
       "100177  2030487   C        [T]            C             33.0   \n",
       "200755  4247429   A  [C, T, G]            G             33.0   \n",
       "129345  2626196   A        [G]            A             33.0   \n",
       "68865   1341120   A        [G]            G             32.0   \n",
       "129303  2626011   G        [A]            A             32.0   \n",
       "129335  2626149   A        [C]            C             31.0   \n",
       "68802   1340274   T        [C]            T             31.0   \n",
       "77619   1533208   C     [A, G]            G             30.0   \n",
       "34542    608037   A        [C]            C             30.0   \n",
       "98586   1982901   G     [C, T]            T             30.0   \n",
       "74863   1472362   C        [T]            T             30.0   \n",
       "181780  3847546   A        [G]            G             29.0   \n",
       "83950   1674481   T        [G]            G             28.0   \n",
       "\n",
       "                                   gene_id            gene_pos  \\\n",
       "106563         [Rv1908c, Rv1908c, Rv1908c]     [944, 944, 944]   \n",
       "83903                     [Rv1482c_Rv1483]              [None]   \n",
       "41998             [Rv0667, Rv0667, Rv0667]  [1349, 1349, 1349]   \n",
       "183510                            [Rv3467]               [943]   \n",
       "181761                   [Rv3423c_Rv3424c]              [None]   \n",
       "151601                   [Rv2828c_Rv2829c]              [None]   \n",
       "129350                   [Rv2347c_Rv2348c]              [None]   \n",
       "183505                            [Rv3466]                [81]   \n",
       "74702                     [Rv1312_Rv1313c]              [None]   \n",
       "60731                    [Rv1040c_Rv1041c]              [None]   \n",
       "210233                           [Rv3900c]               [201]   \n",
       "210234                           [Rv3900c]               [167]   \n",
       "210225                           [Rv3900c]               [393]   \n",
       "210226                           [Rv3900c]               [376]   \n",
       "129333                  [Rv2346c, Rv2346c]            [35, 35]   \n",
       "82267                     [Rv1452c_Rv1453]              [None]   \n",
       "210228                           [Rv3900c]               [363]   \n",
       "129343  [Rv2346c_Rv2347c, Rv2346c_Rv2347c]        [None, None]   \n",
       "43036             [Rv0682, Rv0682, Rv0682]     [128, 128, 128]   \n",
       "100178                            [Rv1792]               [142]   \n",
       "24357                             [Rv0336]              [1487]   \n",
       "129344                   [Rv2346c_Rv2347c]              [None]   \n",
       "100180                    [Rv1792, Rv1792]          [143, 143]   \n",
       "129327                           [Rv2346c]                [65]   \n",
       "129326                           [Rv2346c]                [68]   \n",
       "21071                             [Rv0280]               [769]   \n",
       "181781                            [Rv3429]               [387]   \n",
       "100177                            [Rv1792]               [141]   \n",
       "200755            [Rv3795, Rv3795, Rv3795]     [916, 916, 916]   \n",
       "129345                   [Rv2346c_Rv2347c]              [None]   \n",
       "68865                             [Rv1198]               [115]   \n",
       "129303                           [Rv2346c]               [162]   \n",
       "129335                           [Rv2346c]                [24]   \n",
       "68802                             [Rv1196]               [926]   \n",
       "77619                   [Rv1361c, Rv1361c]          [426, 426]   \n",
       "34542                             [Rv0515]              [1487]   \n",
       "98586                   [Rv1753c, Rv1753c]        [1875, 1875]   \n",
       "74863                             [Rvnr01]               [517]   \n",
       "181780                            [Rv3429]               [382]   \n",
       "83950                             [Rv1484]               [280]   \n",
       "\n",
       "                                            gene_category           gene_name  \\\n",
       "106563  [Antibiotic Resistance, Antibiotic Resistance,...  [katG, katG, katG]   \n",
       "83903                                              [None]              [None]   \n",
       "41998   [Antibiotic Resistance, Antibiotic Resistance,...  [rpoB, rpoB, rpoB]   \n",
       "183510                                    [Non-Essential]            [Rv3467]   \n",
       "181761                                             [None]              [None]   \n",
       "151601                                             [None]              [None]   \n",
       "129350                                             [None]              [None]   \n",
       "183505                                    [Non-Essential]            [Rv3466]   \n",
       "74702                                              [None]              [None]   \n",
       "60731                                              [None]              [None]   \n",
       "210233                                    [Non-Essential]           [Rv3900c]   \n",
       "210234                                    [Non-Essential]           [Rv3900c]   \n",
       "210225                                    [Non-Essential]           [Rv3900c]   \n",
       "210226                                    [Non-Essential]           [Rv3900c]   \n",
       "129333                                 [Antigen, Antigen]        [esxO, esxO]   \n",
       "82267                                              [None]              [None]   \n",
       "210228                                    [Non-Essential]           [Rv3900c]   \n",
       "129343                                       [None, None]        [None, None]   \n",
       "43036   [Antibiotic Resistance, Antibiotic Resistance,...  [rpsL, rpsL, rpsL]   \n",
       "100178                                          [Antigen]              [esxM]   \n",
       "24357                                     [Non-Essential]            [Rv0336]   \n",
       "129344                                             [None]              [None]   \n",
       "100180                                 [Antigen, Antigen]        [esxM, esxM]   \n",
       "129327                                          [Antigen]              [esxO]   \n",
       "129326                                          [Antigen]              [esxO]   \n",
       "21071                                            [PE/PPE]              [PPE3]   \n",
       "181781                                           [PE/PPE]             [PPE59]   \n",
       "100177                                          [Antigen]              [esxM]   \n",
       "200755  [Antibiotic Resistance, Antibiotic Resistance,...  [embB, embB, embB]   \n",
       "129345                                             [None]              [None]   \n",
       "68865                                           [Antigen]              [esxL]   \n",
       "129303                                          [Antigen]              [esxO]   \n",
       "129335                                          [Antigen]              [esxO]   \n",
       "68802                                            [PE/PPE]             [PPE18]   \n",
       "77619                                    [PE/PPE, PE/PPE]      [PPE19, PPE19]   \n",
       "34542                                     [Non-Essential]            [Rv0515]   \n",
       "98586                                    [PE/PPE, PE/PPE]      [PPE24, PPE24]   \n",
       "74863                                              [None]              [None]   \n",
       "181780                                           [PE/PPE]             [PPE59]   \n",
       "83950                             [Antibiotic Resistance]              [inhA]   \n",
       "\n",
       "             type              AA_change mut_func_effect  \n",
       "106563  [N, N, N]  [S315I, S315N, S315T]               N  \n",
       "83903         [I]                 [None]               I  \n",
       "41998   [N, N, N]  [S450*, S450L, S450W]               N  \n",
       "183510        [N]                [K315E]               N  \n",
       "181761        [I]                 [None]               I  \n",
       "151601        [I]                 [None]               I  \n",
       "129350        [I]                 [None]               I  \n",
       "183505        [S]                 [S27S]               S  \n",
       "74702         [I]                 [None]               I  \n",
       "60731         [I]                 [None]               I  \n",
       "210233        [S]                 [I67I]               S  \n",
       "210234        [N]                 [L56S]               N  \n",
       "210225        [S]                [A131A]               S  \n",
       "210226        [S]                [L126L]               S  \n",
       "129333     [N, N]           [A12V, A12D]               N  \n",
       "82267         [I]                 [None]               I  \n",
       "210228        [S]                [A121A]               S  \n",
       "129343     [I, I]           [None, None]               I  \n",
       "43036   [N, N, N]     [K43T, K43M, K43R]               N  \n",
       "100178        [N]                 [M48L]               N  \n",
       "24357         [N]                [P496H]               N  \n",
       "129344        [I]                 [None]               I  \n",
       "100180     [N, N]           [M48K, M48R]               N  \n",
       "129327        [N]                 [G22A]               N  \n",
       "129326        [N]                 [L23S]               N  \n",
       "21071         [N]                [E257K]               N  \n",
       "181781        [S]                [P129P]               S  \n",
       "100177        [S]                 [G47G]               S  \n",
       "200755  [N, N, N]  [M306L, M306L, M306V]               N  \n",
       "129345        [I]                 [None]               I  \n",
       "68865         [N]                 [S39G]               N  \n",
       "129303        [S]                 [I54I]               S  \n",
       "129335        [S]                  [G8G]               S  \n",
       "68802         [N]                [L309S]               N  \n",
       "77619      [S, S]         [G142G, G142G]               S  \n",
       "34542         [N]                [H496P]               N  \n",
       "98586      [S, S]         [P625P, P625P]               S  \n",
       "74863         [N]                [R173C]               N  \n",
       "181780        [N]                [T128A]               N  \n",
       "83950         [N]                 [S94A]               N  "
      ]
     },
     "execution_count": 62,
     "metadata": {},
     "output_type": "execute_result"
    }
   ],
   "source": [
    "SNP_homoplasy_DF.sort_values('homoplasy_score' , ascending = False).head(n = 40)"
   ]
  },
  {
   "cell_type": "markdown",
   "metadata": {},
   "source": [
    "####################################################################################################################################################################################"
   ]
  },
  {
   "cell_type": "markdown",
   "metadata": {},
   "source": [
    "## [2] Run script above for global lineages $\\in \\{1, 2, 3, 4A, 4B, 4C, 5, 6 \\}$ & for Spacer Values $\\in \\{1, 2, 3, 4, 5, 6 \\}$"
   ]
  },
  {
   "cell_type": "markdown",
   "metadata": {},
   "source": [
    "####################################################################################################################################################################################"
   ]
  },
  {
   "cell_type": "code",
   "execution_count": 1,
   "metadata": {},
   "outputs": [],
   "source": [
    "from slurmpy import Slurm\n",
    "import os"
   ]
  },
  {
   "cell_type": "markdown",
   "metadata": {},
   "source": [
    "### Submit jobs to collect homoplasies on phylogeny for each *Global Lineage* and each *Spacer Length*"
   ]
  },
  {
   "cell_type": "code",
   "execution_count": 3,
   "metadata": {},
   "outputs": [
    {
     "name": "stderr",
     "output_type": "stream",
     "text": [
      "submitted: Submitted batch job 17696936\n",
      "submitted: Submitted batch job 17696937\n",
      "submitted: Submitted batch job 17696938\n"
     ]
    },
    {
     "name": "stdout",
     "output_type": "stream",
     "text": [
      "L1_S1_SNP : 17696936\n",
      "L1_S2_SNP : 17696937\n",
      "L1_S3_SNP : 17696938\n"
     ]
    },
    {
     "name": "stderr",
     "output_type": "stream",
     "text": [
      "submitted: Submitted batch job 17696939\n",
      "submitted: Submitted batch job 17696940\n",
      "submitted: Submitted batch job 17696941\n"
     ]
    },
    {
     "name": "stdout",
     "output_type": "stream",
     "text": [
      "L1_S4_SNP : 17696939\n",
      "L1_S5_SNP : 17696940\n",
      "L1_S6_SNP : 17696941\n"
     ]
    },
    {
     "name": "stderr",
     "output_type": "stream",
     "text": [
      "submitted: Submitted batch job 17696942\n",
      "submitted: Submitted batch job 17696943\n",
      "submitted: Submitted batch job 17696944\n",
      "submitted: Submitted batch job 17696945\n"
     ]
    },
    {
     "name": "stdout",
     "output_type": "stream",
     "text": [
      "L2_S1_SNP : 17696942\n",
      "L2_S2_SNP : 17696943\n",
      "L2_S3_SNP : 17696944\n",
      "L2_S4_SNP : 17696945\n"
     ]
    },
    {
     "name": "stderr",
     "output_type": "stream",
     "text": [
      "submitted: Submitted batch job 17696946\n",
      "submitted: Submitted batch job 17696947\n",
      "submitted: Submitted batch job 17696948\n"
     ]
    },
    {
     "name": "stdout",
     "output_type": "stream",
     "text": [
      "L2_S5_SNP : 17696946\n",
      "L2_S6_SNP : 17696947\n",
      "L3_S1_SNP : 17696948\n"
     ]
    },
    {
     "name": "stderr",
     "output_type": "stream",
     "text": [
      "submitted: Submitted batch job 17696949\n",
      "submitted: Submitted batch job 17696950\n",
      "submitted: Submitted batch job 17696951\n",
      "submitted: Submitted batch job 17696952\n"
     ]
    },
    {
     "name": "stdout",
     "output_type": "stream",
     "text": [
      "L3_S2_SNP : 17696949\n",
      "L3_S3_SNP : 17696950\n",
      "L3_S4_SNP : 17696951\n",
      "L3_S5_SNP : 17696952\n"
     ]
    },
    {
     "name": "stderr",
     "output_type": "stream",
     "text": [
      "submitted: Submitted batch job 17696953\n",
      "submitted: Submitted batch job 17696954\n",
      "submitted: Submitted batch job 17696955\n",
      "submitted: Submitted batch job 17696956\n"
     ]
    },
    {
     "name": "stdout",
     "output_type": "stream",
     "text": [
      "L3_S6_SNP : 17696953\n",
      "L4A_S1_SNP : 17696954\n",
      "L4A_S2_SNP : 17696955\n",
      "L4A_S3_SNP : 17696956\n"
     ]
    },
    {
     "name": "stderr",
     "output_type": "stream",
     "text": [
      "submitted: Submitted batch job 17696957\n",
      "submitted: Submitted batch job 17696958\n",
      "submitted: Submitted batch job 17696959\n",
      "submitted: Submitted batch job 17696960\n"
     ]
    },
    {
     "name": "stdout",
     "output_type": "stream",
     "text": [
      "L4A_S4_SNP : 17696957\n",
      "L4A_S5_SNP : 17696958\n",
      "L4A_S6_SNP : 17696959\n",
      "L4B_S1_SNP : 17696960\n"
     ]
    },
    {
     "name": "stderr",
     "output_type": "stream",
     "text": [
      "submitted: Submitted batch job 17696961\n",
      "submitted: Submitted batch job 17696962\n"
     ]
    },
    {
     "name": "stdout",
     "output_type": "stream",
     "text": [
      "L4B_S2_SNP : 17696961\n",
      "L4B_S3_SNP : 17696962\n"
     ]
    },
    {
     "name": "stderr",
     "output_type": "stream",
     "text": [
      "submitted: Submitted batch job 17696963\n",
      "submitted: Submitted batch job 17696964\n"
     ]
    },
    {
     "name": "stdout",
     "output_type": "stream",
     "text": [
      "L4B_S4_SNP : 17696963\n",
      "L4B_S5_SNP : 17696964\n"
     ]
    },
    {
     "name": "stderr",
     "output_type": "stream",
     "text": [
      "submitted: Submitted batch job 17696965\n",
      "submitted: Submitted batch job 17696966\n",
      "submitted: Submitted batch job 17696967\n",
      "submitted: Submitted batch job 17696968\n"
     ]
    },
    {
     "name": "stdout",
     "output_type": "stream",
     "text": [
      "L4B_S6_SNP : 17696965\n",
      "L4C_S1_SNP : 17696966\n",
      "L4C_S2_SNP : 17696967\n",
      "L4C_S3_SNP : 17696968\n"
     ]
    },
    {
     "name": "stderr",
     "output_type": "stream",
     "text": [
      "submitted: Submitted batch job 17696969\n",
      "submitted: Submitted batch job 17696970\n",
      "submitted: Submitted batch job 17696971\n",
      "submitted: Submitted batch job 17696972\n"
     ]
    },
    {
     "name": "stdout",
     "output_type": "stream",
     "text": [
      "L4C_S4_SNP : 17696969\n",
      "L4C_S5_SNP : 17696970\n",
      "L4C_S6_SNP : 17696971\n",
      "L5_S1_SNP : 17696972\n"
     ]
    },
    {
     "name": "stderr",
     "output_type": "stream",
     "text": [
      "submitted: Submitted batch job 17696973\n",
      "submitted: Submitted batch job 17696974\n"
     ]
    },
    {
     "name": "stdout",
     "output_type": "stream",
     "text": [
      "L5_S2_SNP : 17696973\n",
      "L5_S3_SNP : 17696974\n"
     ]
    },
    {
     "name": "stderr",
     "output_type": "stream",
     "text": [
      "submitted: Submitted batch job 17696975\n",
      "submitted: Submitted batch job 17696976\n",
      "submitted: Submitted batch job 17696977\n",
      "submitted: Submitted batch job 17696978\n"
     ]
    },
    {
     "name": "stdout",
     "output_type": "stream",
     "text": [
      "L5_S4_SNP : 17696975\n",
      "L5_S5_SNP : 17696976\n",
      "L5_S6_SNP : 17696977\n",
      "L6_S1_SNP : 17696978\n",
      "L6_S2_SNP : 17696979\n",
      "L6_S3_SNP : 17696980\n",
      "L6_S4_SNP : 17696981\n",
      "L6_S5_SNP : 17696982\n",
      "L6_S6_SNP : 17696983\n"
     ]
    },
    {
     "name": "stderr",
     "output_type": "stream",
     "text": [
      "submitted: Submitted batch job 17696979\n",
      "submitted: Submitted batch job 17696980\n",
      "submitted: Submitted batch job 17696981\n",
      "submitted: Submitted batch job 17696982\n",
      "submitted: Submitted batch job 17696983\n"
     ]
    }
   ],
   "source": [
    "for global_lineage in ['1' , '2' , '3' , '4A' , '4B' , '4C' , '5' , '6']:\n",
    "\n",
    "    for spacer_length in ['1' , '2' , '3' , '4' , '5' , '6']:\n",
    "\n",
    "        homoplasy_job = 'python /home/rv76/Farhat_Lab/Python_Scripts/homoplasy_project/SNP_homoplasy_collection.py {0} {1}'.format(global_lineage , spacer_length)\n",
    "\n",
    "        #directory where you want output + error files\n",
    "        os.chdir('/n/data1/hms/dbmi/farhat/Roger/homoplasy_project/CSV_files/homoplasies_detected_in_global_lineages/SNP homoplasies/homoplasy collection jobs/')\n",
    "\n",
    "        job_name = 'L{0}_S{1}_SNP'.format(global_lineage , spacer_length)\n",
    "\n",
    "        s = Slurm(job_name , {'partition':'medium' , 'N':'1' , 't':'5-0:00:00' , 'mem':'64G' , 'mail-type':'FAIL' , 'mail-user':'roger_vargas@g.harvard.edu'})\n",
    "\n",
    "        #submits the job\n",
    "        job_id = s.run(homoplasy_job)\n",
    "\n",
    "        print job_name  + ' : ' +  str(job_id)"
   ]
  },
  {
   "cell_type": "code",
   "execution_count": null,
   "metadata": {},
   "outputs": [],
   "source": []
  }
 ],
 "metadata": {
  "kernelspec": {
   "display_name": "Python [conda env:root] *",
   "language": "python",
   "name": "conda-root-py"
  },
  "language_info": {
   "codemirror_mode": {
    "name": "ipython",
    "version": 3
   },
   "file_extension": ".py",
   "mimetype": "text/x-python",
   "name": "python",
   "nbconvert_exporter": "python",
   "pygments_lexer": "ipython3",
   "version": "3.10.9"
  }
 },
 "nbformat": 4,
 "nbformat_minor": 4
}
