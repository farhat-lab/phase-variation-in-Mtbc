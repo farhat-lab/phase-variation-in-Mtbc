{
 "cells": [
  {
   "cell_type": "code",
   "execution_count": 1,
   "metadata": {},
   "outputs": [
    {
     "data": {
      "text/html": [
       "<style>.container { width:100% !important; }</style>"
      ],
      "text/plain": [
       "<IPython.core.display.HTML object>"
      ]
     },
     "metadata": {},
     "output_type": "display_data"
    }
   ],
   "source": [
    "from IPython.core.display import display, HTML\n",
    "display(HTML(\"<style>.container { width:100% !important; }</style>\"))"
   ]
  },
  {
   "cell_type": "markdown",
   "metadata": {},
   "source": [
    "####################################################################################################################################################################################"
   ]
  },
  {
   "cell_type": "markdown",
   "metadata": {},
   "source": [
    "## [1] Create a script that calculates the number of homoplasies that occur within a global lineage (phylogenetic tree constructed from all isolates typed into a lineage)"
   ]
  },
  {
   "cell_type": "markdown",
   "metadata": {},
   "source": [
    "####################################################################################################################################################################################"
   ]
  },
  {
   "cell_type": "code",
   "execution_count": 2,
   "metadata": {},
   "outputs": [],
   "source": [
    "import os\n",
    "import pandas as pd\n",
    "import numpy as np\n",
    "import sys\n",
    "\n",
    "import Bio\n",
    "from Bio.Alphabet import IUPAC\n",
    "from Bio.Blast.Applications import NcbiblastnCommandline\n",
    "from Bio.Blast import NCBIXML\n",
    "from Bio.Seq import Seq\n",
    "from Bio.SeqRecord import SeqRecord\n",
    "from Bio.SeqFeature import SeqFeature, FeatureLocation\n",
    "from Bio import pairwise2\n",
    "from Bio import SeqIO\n",
    "from Bio.Graphics import GenomeDiagram\n",
    "from Bio.SeqUtils import GC\n",
    "from Bio import Phylo\n",
    "from Bio.Align.Applications import MuscleCommandline\n",
    "from StringIO import StringIO\n",
    "from Bio import AlignIO\n",
    "from Bio.Align import AlignInfo\n",
    "from Bio.Seq import MutableSeq\n",
    "\n",
    "from collections import Counter\n",
    "from itertools import groupby\n",
    "from operator import itemgetter"
   ]
  },
  {
   "cell_type": "markdown",
   "metadata": {},
   "source": [
    "### Inputs"
   ]
  },
  {
   "cell_type": "code",
   "execution_count": 3,
   "metadata": {},
   "outputs": [],
   "source": [
    "global_lineage = '1' #INPUT 1 - global lineage\n",
    "spacer_length = 1 #INPUT 2 - length of spacer to define 'blocks' of allele types"
   ]
  },
  {
   "cell_type": "markdown",
   "metadata": {},
   "source": [
    "### [1] Load INDEL genotype matrix and Annotation Files"
   ]
  },
  {
   "cell_type": "code",
   "execution_count": 4,
   "metadata": {},
   "outputs": [],
   "source": [
    "#load isolate annotation file (columns of Genotype Matrix)\n",
    "isolate_annotation_DF = pd.read_pickle('/n/data1/hms/dbmi/farhat/Roger/homoplasy_project/rolling_DB_scrape_indels/Genotypes_Filtered_2/genotypes_isolate_annotation.pkl')\n",
    "\n",
    "#load INDEL annotation file (rows of Genotype Matrix) with gene annotation information\n",
    "INDEL_annotation_DF = pd.read_pickle('/n/data1/hms/dbmi/farhat/Roger/homoplasy_project/rolling_DB_scrape_indels/Genotypes_Filtered_2/genotypes_INDEL_annotation.pkl')\n",
    "\n",
    "#load Genotypes Matrix\n",
    "genotypes_array =  np.load('/n/data1/hms/dbmi/farhat/Roger/homoplasy_project/rolling_DB_scrape_indels/Genotypes_Filtered_2/genotypes_matrix.npy')"
   ]
  },
  {
   "cell_type": "markdown",
   "metadata": {},
   "source": [
    "Columns of Genotype Matrix"
   ]
  },
  {
   "cell_type": "code",
   "execution_count": 5,
   "metadata": {},
   "outputs": [
    {
     "data": {
      "text/html": [
       "<div>\n",
       "<style>\n",
       "    .dataframe thead tr:only-child th {\n",
       "        text-align: right;\n",
       "    }\n",
       "\n",
       "    .dataframe thead th {\n",
       "        text-align: left;\n",
       "    }\n",
       "\n",
       "    .dataframe tbody tr th {\n",
       "        vertical-align: top;\n",
       "    }\n",
       "</style>\n",
       "<table border=\"1\" class=\"dataframe\">\n",
       "  <thead>\n",
       "    <tr style=\"text-align: right;\">\n",
       "      <th></th>\n",
       "      <th>isolate_ID</th>\n",
       "      <th>lineage_1</th>\n",
       "      <th>lineage_2</th>\n",
       "      <th>lineage_3</th>\n",
       "      <th>lineage_4</th>\n",
       "      <th>lineage_5</th>\n",
       "      <th>lineage_6</th>\n",
       "      <th>lineage_7</th>\n",
       "      <th>lineage_8</th>\n",
       "      <th>lineage_9</th>\n",
       "      <th>lineage_10</th>\n",
       "      <th>lineage_11</th>\n",
       "      <th>lineage_call</th>\n",
       "      <th>group</th>\n",
       "    </tr>\n",
       "  </thead>\n",
       "  <tbody>\n",
       "    <tr>\n",
       "      <th>0</th>\n",
       "      <td>SAMN13051687</td>\n",
       "      <td>2</td>\n",
       "      <td>2</td>\n",
       "      <td>1</td>\n",
       "      <td>1</td>\n",
       "      <td>1</td>\n",
       "      <td>i3</td>\n",
       "      <td>NaN</td>\n",
       "      <td>NaN</td>\n",
       "      <td>NaN</td>\n",
       "      <td>NaN</td>\n",
       "      <td>NaN</td>\n",
       "      <td>2.2.1.1.1.i3</td>\n",
       "      <td>2</td>\n",
       "    </tr>\n",
       "    <tr>\n",
       "      <th>1</th>\n",
       "      <td>SAMN09100245</td>\n",
       "      <td>4</td>\n",
       "      <td>2</td>\n",
       "      <td>1</td>\n",
       "      <td>2</td>\n",
       "      <td>1</td>\n",
       "      <td>1</td>\n",
       "      <td>i3</td>\n",
       "      <td>2</td>\n",
       "      <td>NaN</td>\n",
       "      <td>NaN</td>\n",
       "      <td>NaN</td>\n",
       "      <td>4.2.1.2.1.1.i3.2</td>\n",
       "      <td>4B</td>\n",
       "    </tr>\n",
       "    <tr>\n",
       "      <th>2</th>\n",
       "      <td>SAMN08732238</td>\n",
       "      <td>2</td>\n",
       "      <td>2</td>\n",
       "      <td>1</td>\n",
       "      <td>1</td>\n",
       "      <td>1</td>\n",
       "      <td>NaN</td>\n",
       "      <td>NaN</td>\n",
       "      <td>NaN</td>\n",
       "      <td>NaN</td>\n",
       "      <td>NaN</td>\n",
       "      <td>NaN</td>\n",
       "      <td>2.2.1.1.1</td>\n",
       "      <td>2</td>\n",
       "    </tr>\n",
       "    <tr>\n",
       "      <th>3</th>\n",
       "      <td>SAMN07658260</td>\n",
       "      <td>3</td>\n",
       "      <td>1</td>\n",
       "      <td>1</td>\n",
       "      <td>NaN</td>\n",
       "      <td>NaN</td>\n",
       "      <td>NaN</td>\n",
       "      <td>NaN</td>\n",
       "      <td>NaN</td>\n",
       "      <td>NaN</td>\n",
       "      <td>NaN</td>\n",
       "      <td>NaN</td>\n",
       "      <td>3.1.1</td>\n",
       "      <td>3</td>\n",
       "    </tr>\n",
       "    <tr>\n",
       "      <th>4</th>\n",
       "      <td>SAMN03648003</td>\n",
       "      <td>2</td>\n",
       "      <td>2</td>\n",
       "      <td>1</td>\n",
       "      <td>1</td>\n",
       "      <td>1</td>\n",
       "      <td>NaN</td>\n",
       "      <td>NaN</td>\n",
       "      <td>NaN</td>\n",
       "      <td>NaN</td>\n",
       "      <td>NaN</td>\n",
       "      <td>NaN</td>\n",
       "      <td>2.2.1.1.1</td>\n",
       "      <td>2</td>\n",
       "    </tr>\n",
       "  </tbody>\n",
       "</table>\n",
       "</div>"
      ],
      "text/plain": [
       "     isolate_ID lineage_1 lineage_2 lineage_3 lineage_4 lineage_5 lineage_6  \\\n",
       "0  SAMN13051687         2         2         1         1         1        i3   \n",
       "1  SAMN09100245         4         2         1         2         1         1   \n",
       "2  SAMN08732238         2         2         1         1         1       NaN   \n",
       "3  SAMN07658260         3         1         1       NaN       NaN       NaN   \n",
       "4  SAMN03648003         2         2         1         1         1       NaN   \n",
       "\n",
       "  lineage_7 lineage_8 lineage_9 lineage_10 lineage_11      lineage_call group  \n",
       "0       NaN       NaN       NaN        NaN        NaN      2.2.1.1.1.i3     2  \n",
       "1        i3         2       NaN        NaN        NaN  4.2.1.2.1.1.i3.2    4B  \n",
       "2       NaN       NaN       NaN        NaN        NaN         2.2.1.1.1     2  \n",
       "3       NaN       NaN       NaN        NaN        NaN             3.1.1     3  \n",
       "4       NaN       NaN       NaN        NaN        NaN         2.2.1.1.1     2  "
      ]
     },
     "execution_count": 5,
     "metadata": {},
     "output_type": "execute_result"
    }
   ],
   "source": [
    "isolate_annotation_DF.head()"
   ]
  },
  {
   "cell_type": "code",
   "execution_count": 6,
   "metadata": {},
   "outputs": [
    {
     "data": {
      "text/plain": [
       "(31428, 14)"
      ]
     },
     "execution_count": 6,
     "metadata": {},
     "output_type": "execute_result"
    }
   ],
   "source": [
    "np.shape(isolate_annotation_DF)"
   ]
  },
  {
   "cell_type": "markdown",
   "metadata": {},
   "source": [
    "Rows of Genotype Matrix"
   ]
  },
  {
   "cell_type": "code",
   "execution_count": 7,
   "metadata": {},
   "outputs": [
    {
     "data": {
      "text/html": [
       "<div>\n",
       "<style>\n",
       "    .dataframe thead tr:only-child th {\n",
       "        text-align: right;\n",
       "    }\n",
       "\n",
       "    .dataframe thead th {\n",
       "        text-align: left;\n",
       "    }\n",
       "\n",
       "    .dataframe tbody tr th {\n",
       "        vertical-align: top;\n",
       "    }\n",
       "</style>\n",
       "<table border=\"1\" class=\"dataframe\">\n",
       "  <thead>\n",
       "    <tr style=\"text-align: right;\">\n",
       "      <th></th>\n",
       "      <th>key</th>\n",
       "      <th>pos</th>\n",
       "      <th>ref</th>\n",
       "      <th>alt</th>\n",
       "      <th>gene_id</th>\n",
       "      <th>gene_pos</th>\n",
       "      <th>gene_category</th>\n",
       "      <th>gene_name</th>\n",
       "    </tr>\n",
       "  </thead>\n",
       "  <tbody>\n",
       "    <tr>\n",
       "      <th>0</th>\n",
       "      <td>ACCGACGAAG_313_A</td>\n",
       "      <td>313</td>\n",
       "      <td>ACCGACGAAG</td>\n",
       "      <td>A</td>\n",
       "      <td>Rv0001</td>\n",
       "      <td>312.0</td>\n",
       "      <td>Essential</td>\n",
       "      <td>dnaA</td>\n",
       "    </tr>\n",
       "    <tr>\n",
       "      <th>1</th>\n",
       "      <td>TC_1549_T</td>\n",
       "      <td>1549</td>\n",
       "      <td>TC</td>\n",
       "      <td>T</td>\n",
       "      <td>intergenic</td>\n",
       "      <td>NaN</td>\n",
       "      <td>None</td>\n",
       "      <td>None</td>\n",
       "    </tr>\n",
       "    <tr>\n",
       "      <th>2</th>\n",
       "      <td>T_1552_TAA</td>\n",
       "      <td>1552</td>\n",
       "      <td>T</td>\n",
       "      <td>TAA</td>\n",
       "      <td>intergenic</td>\n",
       "      <td>NaN</td>\n",
       "      <td>None</td>\n",
       "      <td>None</td>\n",
       "    </tr>\n",
       "    <tr>\n",
       "      <th>3</th>\n",
       "      <td>TAA_1552_T</td>\n",
       "      <td>1552</td>\n",
       "      <td>TAA</td>\n",
       "      <td>T</td>\n",
       "      <td>intergenic</td>\n",
       "      <td>NaN</td>\n",
       "      <td>None</td>\n",
       "      <td>None</td>\n",
       "    </tr>\n",
       "    <tr>\n",
       "      <th>4</th>\n",
       "      <td>T_1552_TA</td>\n",
       "      <td>1552</td>\n",
       "      <td>T</td>\n",
       "      <td>TA</td>\n",
       "      <td>intergenic</td>\n",
       "      <td>NaN</td>\n",
       "      <td>None</td>\n",
       "      <td>None</td>\n",
       "    </tr>\n",
       "  </tbody>\n",
       "</table>\n",
       "</div>"
      ],
      "text/plain": [
       "                key   pos         ref  alt     gene_id  gene_pos  \\\n",
       "0  ACCGACGAAG_313_A   313  ACCGACGAAG    A      Rv0001     312.0   \n",
       "1         TC_1549_T  1549          TC    T  intergenic       NaN   \n",
       "2        T_1552_TAA  1552           T  TAA  intergenic       NaN   \n",
       "3        TAA_1552_T  1552         TAA    T  intergenic       NaN   \n",
       "4         T_1552_TA  1552           T   TA  intergenic       NaN   \n",
       "\n",
       "  gene_category gene_name  \n",
       "0     Essential      dnaA  \n",
       "1          None      None  \n",
       "2          None      None  \n",
       "3          None      None  \n",
       "4          None      None  "
      ]
     },
     "execution_count": 7,
     "metadata": {},
     "output_type": "execute_result"
    }
   ],
   "source": [
    "INDEL_annotation_DF.head()"
   ]
  },
  {
   "cell_type": "code",
   "execution_count": 8,
   "metadata": {},
   "outputs": [
    {
     "data": {
      "text/plain": [
       "(47425, 8)"
      ]
     },
     "execution_count": 8,
     "metadata": {},
     "output_type": "execute_result"
    }
   ],
   "source": [
    "np.shape(INDEL_annotation_DF)"
   ]
  },
  {
   "cell_type": "markdown",
   "metadata": {},
   "source": [
    "Genotype Matrix"
   ]
  },
  {
   "cell_type": "code",
   "execution_count": 9,
   "metadata": {},
   "outputs": [
    {
     "data": {
      "text/plain": [
       "array([[0, 0, 0, ..., 0, 0, 0],\n",
       "       [0, 0, 0, ..., 0, 0, 0],\n",
       "       [0, 0, 0, ..., 0, 0, 0],\n",
       "       ...,\n",
       "       [0, 0, 0, ..., 0, 0, 0],\n",
       "       [0, 0, 0, ..., 0, 0, 0],\n",
       "       [0, 0, 0, ..., 0, 0, 0]], dtype=int8)"
      ]
     },
     "execution_count": 9,
     "metadata": {},
     "output_type": "execute_result"
    }
   ],
   "source": [
    "genotypes_array"
   ]
  },
  {
   "cell_type": "code",
   "execution_count": 10,
   "metadata": {},
   "outputs": [
    {
     "data": {
      "text/plain": [
       "(47425, 31428)"
      ]
     },
     "execution_count": 10,
     "metadata": {},
     "output_type": "execute_result"
    }
   ],
   "source": [
    "np.shape(genotypes_array)"
   ]
  },
  {
   "cell_type": "markdown",
   "metadata": {},
   "source": [
    "### [2] Load in phylogeny created by Luca tree pipeline"
   ]
  },
  {
   "cell_type": "markdown",
   "metadata": {},
   "source": [
    "We're going to use Biopython's *Phylo* module to load phylogenetic trees created by Luca"
   ]
  },
  {
   "cell_type": "code",
   "execution_count": 11,
   "metadata": {},
   "outputs": [],
   "source": [
    "#path to tree\n",
    "phylogeny_path = '/n/data1/hms/dbmi/farhat/Roger/homoplasy_project/phylogenies/tree_output_files/phylogeny_lineage_' + global_lineage + '/tree_lineage_' + global_lineage + '_iqtree_FINAL.treefile'\n",
    "\n",
    "#parses and load tree\n",
    "tree = Phylo.parse(phylogeny_path , 'newick').next() \n",
    "\n",
    "#root the tree with the outgroup M. canettii [\"Normally you will want the outgroup to be a monophyletic group, rather than a single taxon.\"]\n",
    "tree.root_with_outgroup({\"name\":\"canettii\"})\n",
    "\n",
    "#flip branches so deeper clades are displayed at top\n",
    "#(sort clades in-place according to the # of terminal nodes)\n",
    "tree.ladderize()\n",
    "\n",
    "'''\n",
    "Can choose to root the tree at the midpoint instead\n",
    "#root the tree at the midpoint [\"Root the tree at the midpoint of the two most distant taxa.\"]\n",
    "tree.root_at_midpoint()\n",
    "'''\n",
    "\n",
    "#retrieves the terminal branches of the tree\n",
    "terminal_branches = tree.get_terminals() "
   ]
  },
  {
   "cell_type": "markdown",
   "metadata": {},
   "source": [
    "Number of branches on this tree"
   ]
  },
  {
   "cell_type": "code",
   "execution_count": 12,
   "metadata": {},
   "outputs": [
    {
     "data": {
      "text/plain": [
       "2816"
      ]
     },
     "execution_count": 12,
     "metadata": {},
     "output_type": "execute_result"
    }
   ],
   "source": [
    "len(terminal_branches)"
   ]
  },
  {
   "cell_type": "markdown",
   "metadata": {},
   "source": [
    "Retreive the isolates that were used for this tree"
   ]
  },
  {
   "cell_type": "code",
   "execution_count": 13,
   "metadata": {},
   "outputs": [],
   "source": [
    "isolate_tags_in_phylogeny = [terminal_branches[i].name for i in range(0 , len(terminal_branches))]"
   ]
  },
  {
   "cell_type": "code",
   "execution_count": 14,
   "metadata": {},
   "outputs": [
    {
     "data": {
      "text/plain": [
       "2816"
      ]
     },
     "execution_count": 14,
     "metadata": {},
     "output_type": "execute_result"
    }
   ],
   "source": [
    "len(isolate_tags_in_phylogeny) #+1 for M. canetti"
   ]
  },
  {
   "cell_type": "markdown",
   "metadata": {},
   "source": [
    "### [3] Combine *genotypes matrix* and *phylogeny* (subset to intersecting isolate IDs)"
   ]
  },
  {
   "cell_type": "markdown",
   "metadata": {},
   "source": [
    "#### Find the intersection of isolate tags from Phylogeny & Genotypes Matrix"
   ]
  },
  {
   "cell_type": "code",
   "execution_count": 15,
   "metadata": {},
   "outputs": [],
   "source": [
    "isolate_tags_to_keep = list( set(isolate_annotation_DF.isolate_ID).intersection( set(isolate_tags_in_phylogeny) ) )"
   ]
  },
  {
   "cell_type": "code",
   "execution_count": 16,
   "metadata": {},
   "outputs": [
    {
     "data": {
      "text/plain": [
       "2815"
      ]
     },
     "execution_count": 16,
     "metadata": {},
     "output_type": "execute_result"
    }
   ],
   "source": [
    "len(isolate_tags_to_keep)"
   ]
  },
  {
   "cell_type": "markdown",
   "metadata": {},
   "source": [
    "#### Subset *terminal branches* from phylogeny to those included in genotype matrix"
   ]
  },
  {
   "cell_type": "code",
   "execution_count": 17,
   "metadata": {},
   "outputs": [],
   "source": [
    "isolate_tags_in_phylogeny_and_matrix_ordered = [isolate_tag for isolate_tag in isolate_tags_in_phylogeny if isolate_tag in isolate_tags_to_keep]"
   ]
  },
  {
   "cell_type": "code",
   "execution_count": 18,
   "metadata": {},
   "outputs": [
    {
     "data": {
      "text/plain": [
       "['SAMN06209986',\n",
       " 'SAMEA1119746',\n",
       " 'SAMEA3445265',\n",
       " 'SAMEA1118021',\n",
       " 'SAMEA2297133']"
      ]
     },
     "execution_count": 18,
     "metadata": {},
     "output_type": "execute_result"
    }
   ],
   "source": [
    "isolate_tags_in_phylogeny_and_matrix_ordered[0:5]"
   ]
  },
  {
   "cell_type": "markdown",
   "metadata": {},
   "source": [
    "#### Subset *genotypes matrix* to only those isolates that are included in phylogeny"
   ]
  },
  {
   "cell_type": "code",
   "execution_count": 19,
   "metadata": {},
   "outputs": [],
   "source": [
    "isolates_to_keep_filter = [isolate_tag in isolate_tags_to_keep for isolate_tag in isolate_annotation_DF.isolate_ID]\n",
    "\n",
    "#filter isolate annotation df\n",
    "isolate_annotation_DF = isolate_annotation_DF[isolates_to_keep_filter]\n",
    "isolate_annotation_DF.reset_index(drop = True , inplace = True)\n",
    "\n",
    "#filter genotypes matrix\n",
    "genotypes_array = genotypes_array[ : , np.array(isolates_to_keep_filter)]                "
   ]
  },
  {
   "cell_type": "code",
   "execution_count": 20,
   "metadata": {},
   "outputs": [
    {
     "data": {
      "text/html": [
       "<div>\n",
       "<style>\n",
       "    .dataframe thead tr:only-child th {\n",
       "        text-align: right;\n",
       "    }\n",
       "\n",
       "    .dataframe thead th {\n",
       "        text-align: left;\n",
       "    }\n",
       "\n",
       "    .dataframe tbody tr th {\n",
       "        vertical-align: top;\n",
       "    }\n",
       "</style>\n",
       "<table border=\"1\" class=\"dataframe\">\n",
       "  <thead>\n",
       "    <tr style=\"text-align: right;\">\n",
       "      <th></th>\n",
       "      <th>isolate_ID</th>\n",
       "      <th>lineage_1</th>\n",
       "      <th>lineage_2</th>\n",
       "      <th>lineage_3</th>\n",
       "      <th>lineage_4</th>\n",
       "      <th>lineage_5</th>\n",
       "      <th>lineage_6</th>\n",
       "      <th>lineage_7</th>\n",
       "      <th>lineage_8</th>\n",
       "      <th>lineage_9</th>\n",
       "      <th>lineage_10</th>\n",
       "      <th>lineage_11</th>\n",
       "      <th>lineage_call</th>\n",
       "      <th>group</th>\n",
       "    </tr>\n",
       "  </thead>\n",
       "  <tbody>\n",
       "    <tr>\n",
       "      <th>0</th>\n",
       "      <td>SAMN06055874</td>\n",
       "      <td>1</td>\n",
       "      <td>1</td>\n",
       "      <td>1</td>\n",
       "      <td>1</td>\n",
       "      <td>1</td>\n",
       "      <td>NaN</td>\n",
       "      <td>NaN</td>\n",
       "      <td>NaN</td>\n",
       "      <td>NaN</td>\n",
       "      <td>NaN</td>\n",
       "      <td>NaN</td>\n",
       "      <td>1.1.1.1.1</td>\n",
       "      <td>1</td>\n",
       "    </tr>\n",
       "    <tr>\n",
       "      <th>1</th>\n",
       "      <td>SAMEA2785403</td>\n",
       "      <td>1</td>\n",
       "      <td>1</td>\n",
       "      <td>1</td>\n",
       "      <td>2</td>\n",
       "      <td>i1</td>\n",
       "      <td>NaN</td>\n",
       "      <td>NaN</td>\n",
       "      <td>NaN</td>\n",
       "      <td>NaN</td>\n",
       "      <td>NaN</td>\n",
       "      <td>NaN</td>\n",
       "      <td>1.1.1.2.i1</td>\n",
       "      <td>1</td>\n",
       "    </tr>\n",
       "  </tbody>\n",
       "</table>\n",
       "</div>"
      ],
      "text/plain": [
       "     isolate_ID lineage_1 lineage_2 lineage_3 lineage_4 lineage_5 lineage_6  \\\n",
       "0  SAMN06055874         1         1         1         1         1       NaN   \n",
       "1  SAMEA2785403         1         1         1         2        i1       NaN   \n",
       "\n",
       "  lineage_7 lineage_8 lineage_9 lineage_10 lineage_11 lineage_call group  \n",
       "0       NaN       NaN       NaN        NaN        NaN    1.1.1.1.1     1  \n",
       "1       NaN       NaN       NaN        NaN        NaN   1.1.1.2.i1     1  "
      ]
     },
     "execution_count": 20,
     "metadata": {},
     "output_type": "execute_result"
    }
   ],
   "source": [
    "isolate_annotation_DF.head(n=2)"
   ]
  },
  {
   "cell_type": "code",
   "execution_count": 21,
   "metadata": {},
   "outputs": [
    {
     "data": {
      "text/plain": [
       "(2815, 14)"
      ]
     },
     "execution_count": 21,
     "metadata": {},
     "output_type": "execute_result"
    }
   ],
   "source": [
    "np.shape(isolate_annotation_DF)"
   ]
  },
  {
   "cell_type": "code",
   "execution_count": 22,
   "metadata": {},
   "outputs": [
    {
     "data": {
      "text/html": [
       "<div>\n",
       "<style>\n",
       "    .dataframe thead tr:only-child th {\n",
       "        text-align: right;\n",
       "    }\n",
       "\n",
       "    .dataframe thead th {\n",
       "        text-align: left;\n",
       "    }\n",
       "\n",
       "    .dataframe tbody tr th {\n",
       "        vertical-align: top;\n",
       "    }\n",
       "</style>\n",
       "<table border=\"1\" class=\"dataframe\">\n",
       "  <thead>\n",
       "    <tr style=\"text-align: right;\">\n",
       "      <th></th>\n",
       "      <th>key</th>\n",
       "      <th>pos</th>\n",
       "      <th>ref</th>\n",
       "      <th>alt</th>\n",
       "      <th>gene_id</th>\n",
       "      <th>gene_pos</th>\n",
       "      <th>gene_category</th>\n",
       "      <th>gene_name</th>\n",
       "    </tr>\n",
       "  </thead>\n",
       "  <tbody>\n",
       "    <tr>\n",
       "      <th>0</th>\n",
       "      <td>ACCGACGAAG_313_A</td>\n",
       "      <td>313</td>\n",
       "      <td>ACCGACGAAG</td>\n",
       "      <td>A</td>\n",
       "      <td>Rv0001</td>\n",
       "      <td>312.0</td>\n",
       "      <td>Essential</td>\n",
       "      <td>dnaA</td>\n",
       "    </tr>\n",
       "    <tr>\n",
       "      <th>1</th>\n",
       "      <td>TC_1549_T</td>\n",
       "      <td>1549</td>\n",
       "      <td>TC</td>\n",
       "      <td>T</td>\n",
       "      <td>intergenic</td>\n",
       "      <td>NaN</td>\n",
       "      <td>None</td>\n",
       "      <td>None</td>\n",
       "    </tr>\n",
       "  </tbody>\n",
       "</table>\n",
       "</div>"
      ],
      "text/plain": [
       "                key   pos         ref alt     gene_id  gene_pos gene_category  \\\n",
       "0  ACCGACGAAG_313_A   313  ACCGACGAAG   A      Rv0001     312.0     Essential   \n",
       "1         TC_1549_T  1549          TC   T  intergenic       NaN          None   \n",
       "\n",
       "  gene_name  \n",
       "0      dnaA  \n",
       "1      None  "
      ]
     },
     "execution_count": 22,
     "metadata": {},
     "output_type": "execute_result"
    }
   ],
   "source": [
    "INDEL_annotation_DF.head(n=2)"
   ]
  },
  {
   "cell_type": "code",
   "execution_count": 23,
   "metadata": {},
   "outputs": [
    {
     "data": {
      "text/plain": [
       "(47425, 8)"
      ]
     },
     "execution_count": 23,
     "metadata": {},
     "output_type": "execute_result"
    }
   ],
   "source": [
    "np.shape(INDEL_annotation_DF)"
   ]
  },
  {
   "cell_type": "code",
   "execution_count": 24,
   "metadata": {},
   "outputs": [
    {
     "data": {
      "text/plain": [
       "array([[0, 0, 0, ..., 0, 0, 0],\n",
       "       [0, 0, 0, ..., 0, 0, 0],\n",
       "       [0, 0, 0, ..., 0, 0, 0],\n",
       "       ...,\n",
       "       [0, 0, 0, ..., 0, 0, 0],\n",
       "       [0, 0, 0, ..., 0, 0, 0],\n",
       "       [0, 0, 0, ..., 0, 0, 0]], dtype=int8)"
      ]
     },
     "execution_count": 24,
     "metadata": {},
     "output_type": "execute_result"
    }
   ],
   "source": [
    "genotypes_array"
   ]
  },
  {
   "cell_type": "code",
   "execution_count": 25,
   "metadata": {
    "scrolled": true
   },
   "outputs": [
    {
     "data": {
      "text/plain": [
       "(47425, 2815)"
      ]
     },
     "execution_count": 25,
     "metadata": {},
     "output_type": "execute_result"
    }
   ],
   "source": [
    "np.shape(genotypes_array)"
   ]
  },
  {
   "cell_type": "markdown",
   "metadata": {},
   "source": [
    "#### Drop INDELs where indel allele occurs in $<$ 1 isolate"
   ]
  },
  {
   "cell_type": "markdown",
   "metadata": {},
   "source": [
    "**Note**: While this was originally run on the 50,260 x 31,428 genotypes matrix (before INDELs that were present in 0 isolates were dropped), this step would have removed any of the $50260-47425=2835$ INDEL variants that were harbored in 0 / 31,428 isolates"
   ]
  },
  {
   "cell_type": "markdown",
   "metadata": {},
   "source": [
    "Many isolates were dropped in considering only isolates from this lineage. So if there were INDELs in which the alternate allele was present in 2 isolates and 1 was dropped (or both were dropped), then there is only 1 (or 0) isolate with the indel allele left in the *Genotypes Matrix*. Let's drop all INDELs in which the mutant allele is present in no isolate(s).\n",
    "\n",
    "1. For each row of matrix (INDEL) we will count the number of **1's** (representing the number of isolates that support the INDEL allele)\n",
    "1. We will discard all INDELs for which the mutant allele occurs in NO isolates"
   ]
  },
  {
   "cell_type": "code",
   "execution_count": 26,
   "metadata": {},
   "outputs": [],
   "source": [
    "genotypes_matrix_INDEL_1_count = list( np.sum( genotypes_array == 1 , axis = 1 ) )\n",
    "genotypes_matrix_INDEL_1_count = np.array(genotypes_matrix_INDEL_1_count)"
   ]
  },
  {
   "cell_type": "code",
   "execution_count": 27,
   "metadata": {},
   "outputs": [
    {
     "data": {
      "text/plain": [
       "array([0, 0, 0, ..., 0, 0, 0])"
      ]
     },
     "execution_count": 27,
     "metadata": {},
     "output_type": "execute_result"
    }
   ],
   "source": [
    "genotypes_matrix_INDEL_1_count"
   ]
  },
  {
   "cell_type": "code",
   "execution_count": 28,
   "metadata": {},
   "outputs": [
    {
     "data": {
      "text/plain": [
       "47425"
      ]
     },
     "execution_count": 28,
     "metadata": {},
     "output_type": "execute_result"
    }
   ],
   "source": [
    "len(genotypes_matrix_INDEL_1_count)"
   ]
  },
  {
   "cell_type": "markdown",
   "metadata": {},
   "source": [
    "Number of INDELs that we're going to drop because the indel allele is present in *no* isolates."
   ]
  },
  {
   "cell_type": "code",
   "execution_count": 29,
   "metadata": {},
   "outputs": [
    {
     "data": {
      "text/plain": [
       "38707"
      ]
     },
     "execution_count": 29,
     "metadata": {},
     "output_type": "execute_result"
    }
   ],
   "source": [
    "np.sum( np.array( genotypes_matrix_INDEL_1_count ) < 1 )"
   ]
  },
  {
   "cell_type": "code",
   "execution_count": 30,
   "metadata": {},
   "outputs": [],
   "source": [
    "#boolean list that is 'True' for all INDEL where the allele is present in at least 1 isolate\n",
    "INDELs_to_keep_filter = list( np.array( genotypes_matrix_INDEL_1_count ) >= 1 )"
   ]
  },
  {
   "cell_type": "markdown",
   "metadata": {},
   "source": [
    "INDELs that had at least 1 isolate with INDEL allele"
   ]
  },
  {
   "cell_type": "code",
   "execution_count": 31,
   "metadata": {},
   "outputs": [
    {
     "data": {
      "text/plain": [
       "8718"
      ]
     },
     "execution_count": 31,
     "metadata": {},
     "output_type": "execute_result"
    }
   ],
   "source": [
    "np.sum(INDELs_to_keep_filter)"
   ]
  },
  {
   "cell_type": "code",
   "execution_count": 32,
   "metadata": {},
   "outputs": [],
   "source": [
    "#filter INDEL annotation DF\n",
    "INDEL_annotation_DF = INDEL_annotation_DF[INDELs_to_keep_filter]\n",
    "\n",
    "#reindex INDEL annotation DF\n",
    "INDEL_annotation_DF.reset_index(drop = True , inplace = True)\n",
    "\n",
    "#filter Genotype Matrix \n",
    "genotypes_array = genotypes_array[np.array(INDELs_to_keep_filter) , : ]"
   ]
  },
  {
   "cell_type": "code",
   "execution_count": 33,
   "metadata": {},
   "outputs": [
    {
     "data": {
      "text/plain": [
       "(8718, 2815)"
      ]
     },
     "execution_count": 33,
     "metadata": {},
     "output_type": "execute_result"
    }
   ],
   "source": [
    "np.shape(genotypes_array)"
   ]
  },
  {
   "cell_type": "code",
   "execution_count": 34,
   "metadata": {
    "scrolled": true
   },
   "outputs": [
    {
     "data": {
      "text/plain": [
       "(8718, 8)"
      ]
     },
     "execution_count": 34,
     "metadata": {},
     "output_type": "execute_result"
    }
   ],
   "source": [
    "np.shape(INDEL_annotation_DF)"
   ]
  },
  {
   "cell_type": "code",
   "execution_count": 35,
   "metadata": {},
   "outputs": [
    {
     "data": {
      "text/html": [
       "<div>\n",
       "<style>\n",
       "    .dataframe thead tr:only-child th {\n",
       "        text-align: right;\n",
       "    }\n",
       "\n",
       "    .dataframe thead th {\n",
       "        text-align: left;\n",
       "    }\n",
       "\n",
       "    .dataframe tbody tr th {\n",
       "        vertical-align: top;\n",
       "    }\n",
       "</style>\n",
       "<table border=\"1\" class=\"dataframe\">\n",
       "  <thead>\n",
       "    <tr style=\"text-align: right;\">\n",
       "      <th></th>\n",
       "      <th>key</th>\n",
       "      <th>pos</th>\n",
       "      <th>ref</th>\n",
       "      <th>alt</th>\n",
       "      <th>gene_id</th>\n",
       "      <th>gene_pos</th>\n",
       "      <th>gene_category</th>\n",
       "      <th>gene_name</th>\n",
       "    </tr>\n",
       "  </thead>\n",
       "  <tbody>\n",
       "    <tr>\n",
       "      <th>0</th>\n",
       "      <td>T_1552_TA</td>\n",
       "      <td>1552</td>\n",
       "      <td>T</td>\n",
       "      <td>TA</td>\n",
       "      <td>intergenic</td>\n",
       "      <td>NaN</td>\n",
       "      <td>None</td>\n",
       "      <td>None</td>\n",
       "    </tr>\n",
       "    <tr>\n",
       "      <th>1</th>\n",
       "      <td>TA_1552_T</td>\n",
       "      <td>1552</td>\n",
       "      <td>TA</td>\n",
       "      <td>T</td>\n",
       "      <td>intergenic</td>\n",
       "      <td>NaN</td>\n",
       "      <td>None</td>\n",
       "      <td>None</td>\n",
       "    </tr>\n",
       "    <tr>\n",
       "      <th>2</th>\n",
       "      <td>TTCTC_1561_T</td>\n",
       "      <td>1561</td>\n",
       "      <td>TTCTC</td>\n",
       "      <td>T</td>\n",
       "      <td>intergenic</td>\n",
       "      <td>NaN</td>\n",
       "      <td>None</td>\n",
       "      <td>None</td>\n",
       "    </tr>\n",
       "    <tr>\n",
       "      <th>3</th>\n",
       "      <td>TCC_1568_T</td>\n",
       "      <td>1568</td>\n",
       "      <td>TCC</td>\n",
       "      <td>T</td>\n",
       "      <td>intergenic</td>\n",
       "      <td>NaN</td>\n",
       "      <td>None</td>\n",
       "      <td>None</td>\n",
       "    </tr>\n",
       "    <tr>\n",
       "      <th>4</th>\n",
       "      <td>CCGACCGACGT_1725_C</td>\n",
       "      <td>1725</td>\n",
       "      <td>CCGACCGACGT</td>\n",
       "      <td>C</td>\n",
       "      <td>intergenic</td>\n",
       "      <td>NaN</td>\n",
       "      <td>None</td>\n",
       "      <td>None</td>\n",
       "    </tr>\n",
       "  </tbody>\n",
       "</table>\n",
       "</div>"
      ],
      "text/plain": [
       "                  key   pos          ref alt     gene_id  gene_pos  \\\n",
       "0           T_1552_TA  1552            T  TA  intergenic       NaN   \n",
       "1           TA_1552_T  1552           TA   T  intergenic       NaN   \n",
       "2        TTCTC_1561_T  1561        TTCTC   T  intergenic       NaN   \n",
       "3          TCC_1568_T  1568          TCC   T  intergenic       NaN   \n",
       "4  CCGACCGACGT_1725_C  1725  CCGACCGACGT   C  intergenic       NaN   \n",
       "\n",
       "  gene_category gene_name  \n",
       "0          None      None  \n",
       "1          None      None  \n",
       "2          None      None  \n",
       "3          None      None  \n",
       "4          None      None  "
      ]
     },
     "execution_count": 35,
     "metadata": {},
     "output_type": "execute_result"
    }
   ],
   "source": [
    "INDEL_annotation_DF.head()"
   ]
  },
  {
   "cell_type": "markdown",
   "metadata": {},
   "source": [
    "#### Append column to INDEL annotation to define the INDEL allele (1: always support for the INDEL in the genotypes matrix)"
   ]
  },
  {
   "cell_type": "code",
   "execution_count": 36,
   "metadata": {},
   "outputs": [],
   "source": [
    "INDEL_annotation_DF['indel_allele'] = np.shape(INDEL_annotation_DF)[0] * [1]"
   ]
  },
  {
   "cell_type": "code",
   "execution_count": 37,
   "metadata": {},
   "outputs": [
    {
     "data": {
      "text/html": [
       "<div>\n",
       "<style>\n",
       "    .dataframe thead tr:only-child th {\n",
       "        text-align: right;\n",
       "    }\n",
       "\n",
       "    .dataframe thead th {\n",
       "        text-align: left;\n",
       "    }\n",
       "\n",
       "    .dataframe tbody tr th {\n",
       "        vertical-align: top;\n",
       "    }\n",
       "</style>\n",
       "<table border=\"1\" class=\"dataframe\">\n",
       "  <thead>\n",
       "    <tr style=\"text-align: right;\">\n",
       "      <th></th>\n",
       "      <th>key</th>\n",
       "      <th>pos</th>\n",
       "      <th>ref</th>\n",
       "      <th>alt</th>\n",
       "      <th>gene_id</th>\n",
       "      <th>gene_pos</th>\n",
       "      <th>gene_category</th>\n",
       "      <th>gene_name</th>\n",
       "      <th>indel_allele</th>\n",
       "    </tr>\n",
       "  </thead>\n",
       "  <tbody>\n",
       "    <tr>\n",
       "      <th>0</th>\n",
       "      <td>T_1552_TA</td>\n",
       "      <td>1552</td>\n",
       "      <td>T</td>\n",
       "      <td>TA</td>\n",
       "      <td>intergenic</td>\n",
       "      <td>NaN</td>\n",
       "      <td>None</td>\n",
       "      <td>None</td>\n",
       "      <td>1</td>\n",
       "    </tr>\n",
       "    <tr>\n",
       "      <th>1</th>\n",
       "      <td>TA_1552_T</td>\n",
       "      <td>1552</td>\n",
       "      <td>TA</td>\n",
       "      <td>T</td>\n",
       "      <td>intergenic</td>\n",
       "      <td>NaN</td>\n",
       "      <td>None</td>\n",
       "      <td>None</td>\n",
       "      <td>1</td>\n",
       "    </tr>\n",
       "    <tr>\n",
       "      <th>2</th>\n",
       "      <td>TTCTC_1561_T</td>\n",
       "      <td>1561</td>\n",
       "      <td>TTCTC</td>\n",
       "      <td>T</td>\n",
       "      <td>intergenic</td>\n",
       "      <td>NaN</td>\n",
       "      <td>None</td>\n",
       "      <td>None</td>\n",
       "      <td>1</td>\n",
       "    </tr>\n",
       "    <tr>\n",
       "      <th>3</th>\n",
       "      <td>TCC_1568_T</td>\n",
       "      <td>1568</td>\n",
       "      <td>TCC</td>\n",
       "      <td>T</td>\n",
       "      <td>intergenic</td>\n",
       "      <td>NaN</td>\n",
       "      <td>None</td>\n",
       "      <td>None</td>\n",
       "      <td>1</td>\n",
       "    </tr>\n",
       "    <tr>\n",
       "      <th>4</th>\n",
       "      <td>CCGACCGACGT_1725_C</td>\n",
       "      <td>1725</td>\n",
       "      <td>CCGACCGACGT</td>\n",
       "      <td>C</td>\n",
       "      <td>intergenic</td>\n",
       "      <td>NaN</td>\n",
       "      <td>None</td>\n",
       "      <td>None</td>\n",
       "      <td>1</td>\n",
       "    </tr>\n",
       "  </tbody>\n",
       "</table>\n",
       "</div>"
      ],
      "text/plain": [
       "                  key   pos          ref alt     gene_id  gene_pos  \\\n",
       "0           T_1552_TA  1552            T  TA  intergenic       NaN   \n",
       "1           TA_1552_T  1552           TA   T  intergenic       NaN   \n",
       "2        TTCTC_1561_T  1561        TTCTC   T  intergenic       NaN   \n",
       "3          TCC_1568_T  1568          TCC   T  intergenic       NaN   \n",
       "4  CCGACCGACGT_1725_C  1725  CCGACCGACGT   C  intergenic       NaN   \n",
       "\n",
       "  gene_category gene_name  indel_allele  \n",
       "0          None      None             1  \n",
       "1          None      None             1  \n",
       "2          None      None             1  \n",
       "3          None      None             1  \n",
       "4          None      None             1  "
      ]
     },
     "execution_count": 37,
     "metadata": {},
     "output_type": "execute_result"
    }
   ],
   "source": [
    "INDEL_annotation_DF.head()"
   ]
  },
  {
   "cell_type": "markdown",
   "metadata": {},
   "source": [
    "### [4] Search for evidence of homoplasy within the set of isolates using the terminal branches"
   ]
  },
  {
   "cell_type": "markdown",
   "metadata": {},
   "source": [
    "#### Re-order the isolates according to the order of the terminal branches of the phylogeny"
   ]
  },
  {
   "cell_type": "code",
   "execution_count": 38,
   "metadata": {},
   "outputs": [],
   "source": [
    "terminal_branch_isolate_order = []\n",
    "\n",
    "for isolate_ID in isolate_tags_in_phylogeny_and_matrix_ordered:\n",
    "    \n",
    "    isolate_ID_index = isolate_annotation_DF[isolate_annotation_DF.isolate_ID == isolate_ID].index[0]\n",
    "    terminal_branch_isolate_order.append(isolate_ID_index)"
   ]
  },
  {
   "cell_type": "code",
   "execution_count": 39,
   "metadata": {},
   "outputs": [
    {
     "data": {
      "text/plain": [
       "2815"
      ]
     },
     "execution_count": 39,
     "metadata": {},
     "output_type": "execute_result"
    }
   ],
   "source": [
    "len(terminal_branch_isolate_order)"
   ]
  },
  {
   "cell_type": "markdown",
   "metadata": {},
   "source": [
    "Re-order the columns of the **Genotypes Array**"
   ]
  },
  {
   "cell_type": "code",
   "execution_count": 40,
   "metadata": {},
   "outputs": [],
   "source": [
    "genotypes_array = genotypes_array[: , terminal_branch_isolate_order]"
   ]
  },
  {
   "cell_type": "markdown",
   "metadata": {},
   "source": [
    "Re-order the rows of the **Isolate Annotation DF**"
   ]
  },
  {
   "cell_type": "code",
   "execution_count": 41,
   "metadata": {},
   "outputs": [],
   "source": [
    "isolate_annotation_DF = isolate_annotation_DF.iloc[terminal_branch_isolate_order , :]\n",
    "\n",
    "#reset the index\n",
    "isolate_annotation_DF.reset_index(inplace = True, drop = True)"
   ]
  },
  {
   "cell_type": "code",
   "execution_count": 42,
   "metadata": {},
   "outputs": [
    {
     "data": {
      "text/html": [
       "<div>\n",
       "<style>\n",
       "    .dataframe thead tr:only-child th {\n",
       "        text-align: right;\n",
       "    }\n",
       "\n",
       "    .dataframe thead th {\n",
       "        text-align: left;\n",
       "    }\n",
       "\n",
       "    .dataframe tbody tr th {\n",
       "        vertical-align: top;\n",
       "    }\n",
       "</style>\n",
       "<table border=\"1\" class=\"dataframe\">\n",
       "  <thead>\n",
       "    <tr style=\"text-align: right;\">\n",
       "      <th></th>\n",
       "      <th>isolate_ID</th>\n",
       "      <th>lineage_1</th>\n",
       "      <th>lineage_2</th>\n",
       "      <th>lineage_3</th>\n",
       "      <th>lineage_4</th>\n",
       "      <th>lineage_5</th>\n",
       "      <th>lineage_6</th>\n",
       "      <th>lineage_7</th>\n",
       "      <th>lineage_8</th>\n",
       "      <th>lineage_9</th>\n",
       "      <th>lineage_10</th>\n",
       "      <th>lineage_11</th>\n",
       "      <th>lineage_call</th>\n",
       "      <th>group</th>\n",
       "    </tr>\n",
       "  </thead>\n",
       "  <tbody>\n",
       "    <tr>\n",
       "      <th>0</th>\n",
       "      <td>SAMN06209986</td>\n",
       "      <td>1</td>\n",
       "      <td>2</td>\n",
       "      <td>1</td>\n",
       "      <td>1</td>\n",
       "      <td>1</td>\n",
       "      <td>NaN</td>\n",
       "      <td>NaN</td>\n",
       "      <td>NaN</td>\n",
       "      <td>NaN</td>\n",
       "      <td>NaN</td>\n",
       "      <td>NaN</td>\n",
       "      <td>1.2.1.1.1</td>\n",
       "      <td>1</td>\n",
       "    </tr>\n",
       "    <tr>\n",
       "      <th>1</th>\n",
       "      <td>SAMEA1119746</td>\n",
       "      <td>1</td>\n",
       "      <td>2</td>\n",
       "      <td>1</td>\n",
       "      <td>1</td>\n",
       "      <td>2</td>\n",
       "      <td>NaN</td>\n",
       "      <td>NaN</td>\n",
       "      <td>NaN</td>\n",
       "      <td>NaN</td>\n",
       "      <td>NaN</td>\n",
       "      <td>NaN</td>\n",
       "      <td>1.2.1.1.2</td>\n",
       "      <td>1</td>\n",
       "    </tr>\n",
       "    <tr>\n",
       "      <th>2</th>\n",
       "      <td>SAMEA3445265</td>\n",
       "      <td>1</td>\n",
       "      <td>2</td>\n",
       "      <td>2</td>\n",
       "      <td>2</td>\n",
       "      <td>NaN</td>\n",
       "      <td>NaN</td>\n",
       "      <td>NaN</td>\n",
       "      <td>NaN</td>\n",
       "      <td>NaN</td>\n",
       "      <td>NaN</td>\n",
       "      <td>NaN</td>\n",
       "      <td>1.2.2.2</td>\n",
       "      <td>1</td>\n",
       "    </tr>\n",
       "    <tr>\n",
       "      <th>3</th>\n",
       "      <td>SAMEA1118021</td>\n",
       "      <td>1</td>\n",
       "      <td>2</td>\n",
       "      <td>1</td>\n",
       "      <td>2</td>\n",
       "      <td>NaN</td>\n",
       "      <td>NaN</td>\n",
       "      <td>NaN</td>\n",
       "      <td>NaN</td>\n",
       "      <td>NaN</td>\n",
       "      <td>NaN</td>\n",
       "      <td>NaN</td>\n",
       "      <td>1.2.1.2</td>\n",
       "      <td>1</td>\n",
       "    </tr>\n",
       "    <tr>\n",
       "      <th>4</th>\n",
       "      <td>SAMEA2297133</td>\n",
       "      <td>1</td>\n",
       "      <td>2</td>\n",
       "      <td>1</td>\n",
       "      <td>2</td>\n",
       "      <td>NaN</td>\n",
       "      <td>NaN</td>\n",
       "      <td>NaN</td>\n",
       "      <td>NaN</td>\n",
       "      <td>NaN</td>\n",
       "      <td>NaN</td>\n",
       "      <td>NaN</td>\n",
       "      <td>1.2.1.2</td>\n",
       "      <td>1</td>\n",
       "    </tr>\n",
       "  </tbody>\n",
       "</table>\n",
       "</div>"
      ],
      "text/plain": [
       "     isolate_ID lineage_1 lineage_2 lineage_3 lineage_4 lineage_5 lineage_6  \\\n",
       "0  SAMN06209986         1         2         1         1         1       NaN   \n",
       "1  SAMEA1119746         1         2         1         1         2       NaN   \n",
       "2  SAMEA3445265         1         2         2         2       NaN       NaN   \n",
       "3  SAMEA1118021         1         2         1         2       NaN       NaN   \n",
       "4  SAMEA2297133         1         2         1         2       NaN       NaN   \n",
       "\n",
       "  lineage_7 lineage_8 lineage_9 lineage_10 lineage_11 lineage_call group  \n",
       "0       NaN       NaN       NaN        NaN        NaN    1.2.1.1.1     1  \n",
       "1       NaN       NaN       NaN        NaN        NaN    1.2.1.1.2     1  \n",
       "2       NaN       NaN       NaN        NaN        NaN      1.2.2.2     1  \n",
       "3       NaN       NaN       NaN        NaN        NaN      1.2.1.2     1  \n",
       "4       NaN       NaN       NaN        NaN        NaN      1.2.1.2     1  "
      ]
     },
     "execution_count": 42,
     "metadata": {},
     "output_type": "execute_result"
    }
   ],
   "source": [
    "isolate_annotation_DF.head()"
   ]
  },
  {
   "cell_type": "markdown",
   "metadata": {},
   "source": [
    "#### Define function to calculate Homoplasy Score for each INDEL"
   ]
  },
  {
   "cell_type": "markdown",
   "metadata": {},
   "source": [
    "For the purposes of this calculation, we will set (INDEL allele) = **minor allele** / (non-INDEL allele) = **major allele**"
   ]
  },
  {
   "cell_type": "code",
   "execution_count": 43,
   "metadata": {},
   "outputs": [],
   "source": [
    "def calc_homoplasy_score_for_INDEL(INDEL_i):\n",
    "    #get allele for this INDEL and create a variable for the \"major\" allele\n",
    "    INDEL_i_annotation = INDEL_annotation_DF.loc[INDEL_i , :]\n",
    "    INDEL_i_minor_allele = 1\n",
    "    INDEL_i_major_allele = 0\n",
    "\n",
    "    #get genotypes for INDEL\n",
    "    INDEL_i_genotypes = genotypes_array[INDEL_i , :]\n",
    "\n",
    "    #> Find all the subsets of continuous minor alleles within the terminal brances (including 9's)\n",
    "    #> Create a boolean array that is *True* if INDEL_i was called as the minor allele or missing data for the isolate, and *False* if INDEL_i was called at the major allele\n",
    "    INDEL_i_genotypes_bool = INDEL_i_genotypes != INDEL_i_major_allele\n",
    "\n",
    "    #> Return the indices of the array where the elements are marked *True*\n",
    "    INDEL_i_genotypes_indices_with_minor_allele = np.arange(0 , len(INDEL_i_genotypes_bool))[INDEL_i_genotypes_bool]\n",
    "\n",
    "    #1. run through the indices of the isolates with the minor allele\n",
    "    #2. for each consective *block* of isolates with the minor allele store the isolate ID indices in a seperate list\n",
    "    #3. pull the genotypes from the indices and make sure there is at least a single isolate with the minor allele (it's not all just 9's)\n",
    "    #4. for each block of Isolate indices, retrieve isolate IDs from annotation DF\n",
    "    \n",
    "    '''\n",
    "    isolate_blocks_with_minor_allele = []\n",
    "    #if consecutive isolates with minor allele have at least 1 isolate with major allele between them\n",
    "    for k, g in groupby(enumerate(INDEL_i_genotypes_indices_with_minor_allele), lambda (i, x): i-x):\n",
    "\n",
    "        #get a list of consecutive isolate indices that are located next to eachother on the phylogeny\n",
    "        isolate_block_w_minor_allele_indices = map(itemgetter(1), g)\n",
    "\n",
    "        #INDEL genotypes for isolates\n",
    "        isolate_block_genotypes = INDEL_i_genotypes[isolate_block_w_minor_allele_indices]\n",
    "\n",
    "        #check to see that at least 1 isolate had a good call for the minor allele within the block\n",
    "        if INDEL_i_minor_allele in isolate_block_genotypes:\n",
    "\n",
    "            #pull the isolate IDs for each index\n",
    "            isolate_block_w_minor_allele_IDs = [{'name':isolate_annotation_DF.loc[isolate_index , 'isolate_ID']} for isolate_index in isolate_block_w_minor_allele_indices]\n",
    "\n",
    "            #append to list of blocks of isolates w/ minor allele\n",
    "            isolate_blocks_with_minor_allele.append(isolate_block_w_minor_allele_IDs)\n",
    "    '''\n",
    "    \n",
    "    ########################################################################################################################\n",
    "    isolate_blocks_with_minor_allele = []\n",
    "\n",
    "    #if consecutive isolates with minor allele have at least (spacer_length) isolates with major allele (or other minor allele) between them\n",
    "    isolate_block_w_minor_allele_indices = []\n",
    "    for i in np.arange(0 , len(INDEL_i_genotypes_indices_with_minor_allele)-1):\n",
    "\n",
    "        space_btwn_genotype_indices = INDEL_i_genotypes_indices_with_minor_allele[i+1] - INDEL_i_genotypes_indices_with_minor_allele[i]\n",
    "        if space_btwn_genotype_indices <= spacer_length:\n",
    "\n",
    "            isolate_block_w_minor_allele_indices.append(INDEL_i_genotypes_indices_with_minor_allele[i])\n",
    "\n",
    "            #check if second to last index\n",
    "            if i+1 == (len(INDEL_i_genotypes_indices_with_minor_allele)-1):\n",
    "\n",
    "                isolate_block_w_minor_allele_indices.append(INDEL_i_genotypes_indices_with_minor_allele[i+1])\n",
    "\n",
    "                #######################################################\n",
    "                #INDEL genotypes for isolates\n",
    "                isolate_block_genotypes = INDEL_i_genotypes[isolate_block_w_minor_allele_indices]\n",
    "\n",
    "                #check to see that at least 1 isolate had a good call for the minor allele within the block\n",
    "                if INDEL_i_minor_allele in isolate_block_genotypes:\n",
    "\n",
    "                    #pull the isolate IDs for each index\n",
    "                    isolate_block_w_minor_allele_IDs = [{'name':isolate_annotation_DF.loc[isolate_index , 'isolate_ID']} for isolate_index in isolate_block_w_minor_allele_indices]\n",
    "\n",
    "                    #append to list of blocks of isolates w/ minor allele\n",
    "                    isolate_blocks_with_minor_allele.append(isolate_block_w_minor_allele_IDs)\n",
    "                #######################################################\n",
    "\n",
    "        elif space_btwn_genotype_indices > spacer_length:\n",
    "\n",
    "            isolate_block_w_minor_allele_indices.append(INDEL_i_genotypes_indices_with_minor_allele[i])\n",
    "\n",
    "            #######################################################\n",
    "            #INDEL genotypes for isolates\n",
    "            isolate_block_genotypes = INDEL_i_genotypes[isolate_block_w_minor_allele_indices]\n",
    "\n",
    "            #check to see that at least 1 isolate had a good call for the minor allele within the block\n",
    "            if INDEL_i_minor_allele in isolate_block_genotypes:\n",
    "\n",
    "                #pull the isolate IDs for each index\n",
    "                isolate_block_w_minor_allele_IDs = [{'name':isolate_annotation_DF.loc[isolate_index , 'isolate_ID']} for isolate_index in isolate_block_w_minor_allele_indices]\n",
    "\n",
    "                #append to list of blocks of isolates w/ minor allele\n",
    "                isolate_blocks_with_minor_allele.append(isolate_block_w_minor_allele_IDs)\n",
    "            #######################################################\n",
    "\n",
    "            isolate_block_w_minor_allele_indices = []\n",
    "\n",
    "            #check if second to last index\n",
    "            if i+1 == (len(INDEL_i_genotypes_indices_with_minor_allele)-1):\n",
    "\n",
    "                isolate_block_w_minor_allele_indices.append(INDEL_i_genotypes_indices_with_minor_allele[i+1])\n",
    "\n",
    "                #######################################################\n",
    "                #INDEL genotypes for isolates\n",
    "                isolate_block_genotypes = INDEL_i_genotypes[isolate_block_w_minor_allele_indices]\n",
    "\n",
    "                #check to see that at least 1 isolate had a good call for the minor allele within the block\n",
    "                if INDEL_i_minor_allele in isolate_block_genotypes:\n",
    "\n",
    "                    #pull the isolate IDs for each index\n",
    "                    isolate_block_w_minor_allele_IDs = [{'name':isolate_annotation_DF.loc[isolate_index , 'isolate_ID']} for isolate_index in isolate_block_w_minor_allele_indices]\n",
    "\n",
    "                    #append to list of blocks of isolates w/ minor allele\n",
    "                    isolate_blocks_with_minor_allele.append(isolate_block_w_minor_allele_IDs)\n",
    "                #######################################################\n",
    "    ########################################################################################################################\n",
    "    \n",
    "    #> Find the MRCA clade of each block of isolates\n",
    "    isolate_block_MRCAs = []\n",
    "    for isolate_block_i_with_minor_allele in isolate_blocks_with_minor_allele:\n",
    "\n",
    "        #[\"Most recent common ancestor (clade) of all the given targets.\"]\n",
    "        MRCA_of_children = tree.common_ancestor(isolate_block_i_with_minor_allele)\n",
    "        isolate_block_MRCAs.append(MRCA_of_children)\n",
    "\n",
    "    '''\n",
    "    #>Find the distance between all pairs of the MRCAs of the *blocks* of isolates with minor allele\n",
    "    #>> Finding the distance between all possible pairs can be visualized/computed as taking the distance between all pairs in the upper triangular part of a matrix (excluding the diagonal)\n",
    "    distance_between_MRCAs = []\n",
    "    for MRCA_i , MRCA_j in zip( np.triu_indices(len(isolate_block_MRCAs), 1)[0] , np.triu_indices(len(isolate_block_MRCAs), 1)[1] ):\n",
    "\n",
    "        #get the distance between MRCA node & the root (i.e. tree.distance({\"name\":'SAMN03647821'} , {\"name\":'SAMEA1485499'}))\n",
    "        #[\"Calculate the sum of the branch lengths between two targets. If only one target is specified, the other is the root of this tree.\"]\n",
    "        dist_between_MRCAi_and_MRCAj = tree.distance(isolate_block_MRCAs[MRCA_i] , isolate_block_MRCAs[MRCA_j])\n",
    "        distance_between_MRCAs.append(dist_between_MRCAi_and_MRCAj)\n",
    "    '''\n",
    "\n",
    "    #> The resulting *homoplasy score* is equal to the number of blocks of isolates (how many times the mutation arose in the phylogeny) ### weighted by the average pairwise distance between the MRCAs for all of the blocks of isolates\n",
    "    #check to see that there is at least 1 block (minor allele arose at least once on phylogeny)\n",
    "    if len(isolate_block_MRCAs) >= 1:\n",
    "        INDEL_i_homoplasy_score = float(len(isolate_block_MRCAs)) ###DELETE LATER### * np.mean(distance_between_MRCAs)\n",
    "    elif len(isolate_block_MRCAs) == 0:\n",
    "        INDEL_i_homoplasy_score = 0.0\n",
    "\n",
    "    return INDEL_i_homoplasy_score"
   ]
  },
  {
   "cell_type": "markdown",
   "metadata": {},
   "source": [
    "#### Calculate Homoplasy Score for all INDELs"
   ]
  },
  {
   "cell_type": "code",
   "execution_count": 44,
   "metadata": {},
   "outputs": [
    {
     "name": "stdout",
     "output_type": "stream",
     "text": [
      "0.0\n",
      "0.0498967653131\n",
      "0.0997935306263\n",
      "0.149690295939\n",
      "0.199587061253\n",
      "0.249483826566\n",
      "0.299380591879\n",
      "0.349277357192\n",
      "0.399174122505\n",
      "0.449070887818\n",
      "0.498967653131\n",
      "0.548864418445\n",
      "0.598761183758\n",
      "0.648657949071\n",
      "0.698554714384\n",
      "0.748451479697\n",
      "0.79834824501\n",
      "0.848245010323\n",
      "0.898141775637\n",
      "0.94803854095\n",
      "0.997935306263\n"
     ]
    }
   ],
   "source": [
    "INDEL_i_homoplasy_scores = []\n",
    "\n",
    "for INDEL_i in INDEL_annotation_DF.index:\n",
    "    \n",
    "    INDEL_i_homoplasy_scores.append(calc_homoplasy_score_for_INDEL(INDEL_i))\n",
    "    \n",
    "    #keep track of progress\n",
    "    if INDEL_i in np.arange(0 , len(INDEL_annotation_DF.index) , int(len(INDEL_annotation_DF.index)*0.05)):\n",
    "        print float(INDEL_i) / float(len(INDEL_annotation_DF.index))"
   ]
  },
  {
   "cell_type": "code",
   "execution_count": 45,
   "metadata": {},
   "outputs": [],
   "source": [
    "INDEL_annotation_DF['homoplasy_score'] = INDEL_i_homoplasy_scores"
   ]
  },
  {
   "cell_type": "code",
   "execution_count": 46,
   "metadata": {},
   "outputs": [
    {
     "data": {
      "text/html": [
       "<div>\n",
       "<style>\n",
       "    .dataframe thead tr:only-child th {\n",
       "        text-align: right;\n",
       "    }\n",
       "\n",
       "    .dataframe thead th {\n",
       "        text-align: left;\n",
       "    }\n",
       "\n",
       "    .dataframe tbody tr th {\n",
       "        vertical-align: top;\n",
       "    }\n",
       "</style>\n",
       "<table border=\"1\" class=\"dataframe\">\n",
       "  <thead>\n",
       "    <tr style=\"text-align: right;\">\n",
       "      <th></th>\n",
       "      <th>key</th>\n",
       "      <th>pos</th>\n",
       "      <th>ref</th>\n",
       "      <th>alt</th>\n",
       "      <th>gene_id</th>\n",
       "      <th>gene_pos</th>\n",
       "      <th>gene_category</th>\n",
       "      <th>gene_name</th>\n",
       "      <th>indel_allele</th>\n",
       "      <th>homoplasy_score</th>\n",
       "    </tr>\n",
       "  </thead>\n",
       "  <tbody>\n",
       "    <tr>\n",
       "      <th>0</th>\n",
       "      <td>T_1552_TA</td>\n",
       "      <td>1552</td>\n",
       "      <td>T</td>\n",
       "      <td>TA</td>\n",
       "      <td>intergenic</td>\n",
       "      <td>NaN</td>\n",
       "      <td>None</td>\n",
       "      <td>None</td>\n",
       "      <td>1</td>\n",
       "      <td>3.0</td>\n",
       "    </tr>\n",
       "    <tr>\n",
       "      <th>1</th>\n",
       "      <td>TA_1552_T</td>\n",
       "      <td>1552</td>\n",
       "      <td>TA</td>\n",
       "      <td>T</td>\n",
       "      <td>intergenic</td>\n",
       "      <td>NaN</td>\n",
       "      <td>None</td>\n",
       "      <td>None</td>\n",
       "      <td>1</td>\n",
       "      <td>5.0</td>\n",
       "    </tr>\n",
       "    <tr>\n",
       "      <th>2</th>\n",
       "      <td>TTCTC_1561_T</td>\n",
       "      <td>1561</td>\n",
       "      <td>TTCTC</td>\n",
       "      <td>T</td>\n",
       "      <td>intergenic</td>\n",
       "      <td>NaN</td>\n",
       "      <td>None</td>\n",
       "      <td>None</td>\n",
       "      <td>1</td>\n",
       "      <td>1.0</td>\n",
       "    </tr>\n",
       "    <tr>\n",
       "      <th>3</th>\n",
       "      <td>TCC_1568_T</td>\n",
       "      <td>1568</td>\n",
       "      <td>TCC</td>\n",
       "      <td>T</td>\n",
       "      <td>intergenic</td>\n",
       "      <td>NaN</td>\n",
       "      <td>None</td>\n",
       "      <td>None</td>\n",
       "      <td>1</td>\n",
       "      <td>1.0</td>\n",
       "    </tr>\n",
       "    <tr>\n",
       "      <th>4</th>\n",
       "      <td>CCGACCGACGT_1725_C</td>\n",
       "      <td>1725</td>\n",
       "      <td>CCGACCGACGT</td>\n",
       "      <td>C</td>\n",
       "      <td>intergenic</td>\n",
       "      <td>NaN</td>\n",
       "      <td>None</td>\n",
       "      <td>None</td>\n",
       "      <td>1</td>\n",
       "      <td>1.0</td>\n",
       "    </tr>\n",
       "    <tr>\n",
       "      <th>5</th>\n",
       "      <td>T_1815_TG</td>\n",
       "      <td>1815</td>\n",
       "      <td>T</td>\n",
       "      <td>TG</td>\n",
       "      <td>intergenic</td>\n",
       "      <td>NaN</td>\n",
       "      <td>None</td>\n",
       "      <td>None</td>\n",
       "      <td>1</td>\n",
       "      <td>2.0</td>\n",
       "    </tr>\n",
       "    <tr>\n",
       "      <th>6</th>\n",
       "      <td>GA_2041_G</td>\n",
       "      <td>2041</td>\n",
       "      <td>GA</td>\n",
       "      <td>G</td>\n",
       "      <td>intergenic</td>\n",
       "      <td>NaN</td>\n",
       "      <td>None</td>\n",
       "      <td>None</td>\n",
       "      <td>1</td>\n",
       "      <td>3.0</td>\n",
       "    </tr>\n",
       "    <tr>\n",
       "      <th>7</th>\n",
       "      <td>T_5068_TG</td>\n",
       "      <td>5068</td>\n",
       "      <td>T</td>\n",
       "      <td>TG</td>\n",
       "      <td>intergenic</td>\n",
       "      <td>NaN</td>\n",
       "      <td>None</td>\n",
       "      <td>None</td>\n",
       "      <td>1</td>\n",
       "      <td>1.0</td>\n",
       "    </tr>\n",
       "    <tr>\n",
       "      <th>8</th>\n",
       "      <td>C_5075_CG</td>\n",
       "      <td>5075</td>\n",
       "      <td>C</td>\n",
       "      <td>CG</td>\n",
       "      <td>intergenic</td>\n",
       "      <td>NaN</td>\n",
       "      <td>None</td>\n",
       "      <td>None</td>\n",
       "      <td>1</td>\n",
       "      <td>2.0</td>\n",
       "    </tr>\n",
       "    <tr>\n",
       "      <th>9</th>\n",
       "      <td>G_5076_GT</td>\n",
       "      <td>5076</td>\n",
       "      <td>G</td>\n",
       "      <td>GT</td>\n",
       "      <td>intergenic</td>\n",
       "      <td>NaN</td>\n",
       "      <td>None</td>\n",
       "      <td>None</td>\n",
       "      <td>1</td>\n",
       "      <td>6.0</td>\n",
       "    </tr>\n",
       "  </tbody>\n",
       "</table>\n",
       "</div>"
      ],
      "text/plain": [
       "                  key   pos          ref alt     gene_id  gene_pos  \\\n",
       "0           T_1552_TA  1552            T  TA  intergenic       NaN   \n",
       "1           TA_1552_T  1552           TA   T  intergenic       NaN   \n",
       "2        TTCTC_1561_T  1561        TTCTC   T  intergenic       NaN   \n",
       "3          TCC_1568_T  1568          TCC   T  intergenic       NaN   \n",
       "4  CCGACCGACGT_1725_C  1725  CCGACCGACGT   C  intergenic       NaN   \n",
       "5           T_1815_TG  1815            T  TG  intergenic       NaN   \n",
       "6           GA_2041_G  2041           GA   G  intergenic       NaN   \n",
       "7           T_5068_TG  5068            T  TG  intergenic       NaN   \n",
       "8           C_5075_CG  5075            C  CG  intergenic       NaN   \n",
       "9           G_5076_GT  5076            G  GT  intergenic       NaN   \n",
       "\n",
       "  gene_category gene_name  indel_allele  homoplasy_score  \n",
       "0          None      None             1              3.0  \n",
       "1          None      None             1              5.0  \n",
       "2          None      None             1              1.0  \n",
       "3          None      None             1              1.0  \n",
       "4          None      None             1              1.0  \n",
       "5          None      None             1              2.0  \n",
       "6          None      None             1              3.0  \n",
       "7          None      None             1              1.0  \n",
       "8          None      None             1              2.0  \n",
       "9          None      None             1              6.0  "
      ]
     },
     "execution_count": 46,
     "metadata": {},
     "output_type": "execute_result"
    }
   ],
   "source": [
    "INDEL_annotation_DF.head(n=10)"
   ]
  },
  {
   "cell_type": "code",
   "execution_count": 47,
   "metadata": {},
   "outputs": [
    {
     "data": {
      "text/plain": [
       "(8718, 10)"
      ]
     },
     "execution_count": 47,
     "metadata": {},
     "output_type": "execute_result"
    }
   ],
   "source": [
    "np.shape(INDEL_annotation_DF)"
   ]
  },
  {
   "cell_type": "markdown",
   "metadata": {},
   "source": [
    "#### Drop INDELs with a *Homoplasy Score* of 0"
   ]
  },
  {
   "cell_type": "code",
   "execution_count": 48,
   "metadata": {},
   "outputs": [],
   "source": [
    "INDEL_homoplasy_DF = INDEL_annotation_DF[INDEL_annotation_DF.homoplasy_score > 0.0]"
   ]
  },
  {
   "cell_type": "code",
   "execution_count": 49,
   "metadata": {},
   "outputs": [
    {
     "data": {
      "text/plain": [
       "(8364, 10)"
      ]
     },
     "execution_count": 49,
     "metadata": {},
     "output_type": "execute_result"
    }
   ],
   "source": [
    "np.shape(INDEL_homoplasy_DF)"
   ]
  },
  {
   "cell_type": "markdown",
   "metadata": {},
   "source": [
    "### [5] Functional annotation for each INDEL"
   ]
  },
  {
   "cell_type": "code",
   "execution_count": 50,
   "metadata": {},
   "outputs": [
    {
     "data": {
      "text/html": [
       "<div>\n",
       "<style>\n",
       "    .dataframe thead tr:only-child th {\n",
       "        text-align: right;\n",
       "    }\n",
       "\n",
       "    .dataframe thead th {\n",
       "        text-align: left;\n",
       "    }\n",
       "\n",
       "    .dataframe tbody tr th {\n",
       "        vertical-align: top;\n",
       "    }\n",
       "</style>\n",
       "<table border=\"1\" class=\"dataframe\">\n",
       "  <thead>\n",
       "    <tr style=\"text-align: right;\">\n",
       "      <th></th>\n",
       "      <th>key</th>\n",
       "      <th>pos</th>\n",
       "      <th>ref</th>\n",
       "      <th>alt</th>\n",
       "      <th>gene_id</th>\n",
       "      <th>gene_pos</th>\n",
       "      <th>gene_category</th>\n",
       "      <th>gene_name</th>\n",
       "      <th>indel_allele</th>\n",
       "      <th>homoplasy_score</th>\n",
       "    </tr>\n",
       "  </thead>\n",
       "  <tbody>\n",
       "    <tr>\n",
       "      <th>0</th>\n",
       "      <td>T_1552_TA</td>\n",
       "      <td>1552</td>\n",
       "      <td>T</td>\n",
       "      <td>TA</td>\n",
       "      <td>intergenic</td>\n",
       "      <td>NaN</td>\n",
       "      <td>None</td>\n",
       "      <td>None</td>\n",
       "      <td>1</td>\n",
       "      <td>3.0</td>\n",
       "    </tr>\n",
       "    <tr>\n",
       "      <th>1</th>\n",
       "      <td>TA_1552_T</td>\n",
       "      <td>1552</td>\n",
       "      <td>TA</td>\n",
       "      <td>T</td>\n",
       "      <td>intergenic</td>\n",
       "      <td>NaN</td>\n",
       "      <td>None</td>\n",
       "      <td>None</td>\n",
       "      <td>1</td>\n",
       "      <td>5.0</td>\n",
       "    </tr>\n",
       "    <tr>\n",
       "      <th>2</th>\n",
       "      <td>TTCTC_1561_T</td>\n",
       "      <td>1561</td>\n",
       "      <td>TTCTC</td>\n",
       "      <td>T</td>\n",
       "      <td>intergenic</td>\n",
       "      <td>NaN</td>\n",
       "      <td>None</td>\n",
       "      <td>None</td>\n",
       "      <td>1</td>\n",
       "      <td>1.0</td>\n",
       "    </tr>\n",
       "    <tr>\n",
       "      <th>3</th>\n",
       "      <td>TCC_1568_T</td>\n",
       "      <td>1568</td>\n",
       "      <td>TCC</td>\n",
       "      <td>T</td>\n",
       "      <td>intergenic</td>\n",
       "      <td>NaN</td>\n",
       "      <td>None</td>\n",
       "      <td>None</td>\n",
       "      <td>1</td>\n",
       "      <td>1.0</td>\n",
       "    </tr>\n",
       "    <tr>\n",
       "      <th>4</th>\n",
       "      <td>CCGACCGACGT_1725_C</td>\n",
       "      <td>1725</td>\n",
       "      <td>CCGACCGACGT</td>\n",
       "      <td>C</td>\n",
       "      <td>intergenic</td>\n",
       "      <td>NaN</td>\n",
       "      <td>None</td>\n",
       "      <td>None</td>\n",
       "      <td>1</td>\n",
       "      <td>1.0</td>\n",
       "    </tr>\n",
       "  </tbody>\n",
       "</table>\n",
       "</div>"
      ],
      "text/plain": [
       "                  key   pos          ref alt     gene_id  gene_pos  \\\n",
       "0           T_1552_TA  1552            T  TA  intergenic       NaN   \n",
       "1           TA_1552_T  1552           TA   T  intergenic       NaN   \n",
       "2        TTCTC_1561_T  1561        TTCTC   T  intergenic       NaN   \n",
       "3          TCC_1568_T  1568          TCC   T  intergenic       NaN   \n",
       "4  CCGACCGACGT_1725_C  1725  CCGACCGACGT   C  intergenic       NaN   \n",
       "\n",
       "  gene_category gene_name  indel_allele  homoplasy_score  \n",
       "0          None      None             1              3.0  \n",
       "1          None      None             1              5.0  \n",
       "2          None      None             1              1.0  \n",
       "3          None      None             1              1.0  \n",
       "4          None      None             1              1.0  "
      ]
     },
     "execution_count": 50,
     "metadata": {},
     "output_type": "execute_result"
    }
   ],
   "source": [
    "INDEL_homoplasy_DF.head()"
   ]
  },
  {
   "cell_type": "markdown",
   "metadata": {},
   "source": [
    "#### Drop columns"
   ]
  },
  {
   "cell_type": "code",
   "execution_count": 51,
   "metadata": {},
   "outputs": [],
   "source": [
    "INDEL_homoplasy_DF = INDEL_homoplasy_DF.loc[: , ['key','pos','ref','alt','indel_allele','homoplasy_score']]"
   ]
  },
  {
   "cell_type": "code",
   "execution_count": 52,
   "metadata": {},
   "outputs": [
    {
     "data": {
      "text/html": [
       "<div>\n",
       "<style>\n",
       "    .dataframe thead tr:only-child th {\n",
       "        text-align: right;\n",
       "    }\n",
       "\n",
       "    .dataframe thead th {\n",
       "        text-align: left;\n",
       "    }\n",
       "\n",
       "    .dataframe tbody tr th {\n",
       "        vertical-align: top;\n",
       "    }\n",
       "</style>\n",
       "<table border=\"1\" class=\"dataframe\">\n",
       "  <thead>\n",
       "    <tr style=\"text-align: right;\">\n",
       "      <th></th>\n",
       "      <th>key</th>\n",
       "      <th>pos</th>\n",
       "      <th>ref</th>\n",
       "      <th>alt</th>\n",
       "      <th>indel_allele</th>\n",
       "      <th>homoplasy_score</th>\n",
       "    </tr>\n",
       "  </thead>\n",
       "  <tbody>\n",
       "    <tr>\n",
       "      <th>0</th>\n",
       "      <td>T_1552_TA</td>\n",
       "      <td>1552</td>\n",
       "      <td>T</td>\n",
       "      <td>TA</td>\n",
       "      <td>1</td>\n",
       "      <td>3.0</td>\n",
       "    </tr>\n",
       "    <tr>\n",
       "      <th>1</th>\n",
       "      <td>TA_1552_T</td>\n",
       "      <td>1552</td>\n",
       "      <td>TA</td>\n",
       "      <td>T</td>\n",
       "      <td>1</td>\n",
       "      <td>5.0</td>\n",
       "    </tr>\n",
       "    <tr>\n",
       "      <th>2</th>\n",
       "      <td>TTCTC_1561_T</td>\n",
       "      <td>1561</td>\n",
       "      <td>TTCTC</td>\n",
       "      <td>T</td>\n",
       "      <td>1</td>\n",
       "      <td>1.0</td>\n",
       "    </tr>\n",
       "    <tr>\n",
       "      <th>3</th>\n",
       "      <td>TCC_1568_T</td>\n",
       "      <td>1568</td>\n",
       "      <td>TCC</td>\n",
       "      <td>T</td>\n",
       "      <td>1</td>\n",
       "      <td>1.0</td>\n",
       "    </tr>\n",
       "    <tr>\n",
       "      <th>4</th>\n",
       "      <td>CCGACCGACGT_1725_C</td>\n",
       "      <td>1725</td>\n",
       "      <td>CCGACCGACGT</td>\n",
       "      <td>C</td>\n",
       "      <td>1</td>\n",
       "      <td>1.0</td>\n",
       "    </tr>\n",
       "  </tbody>\n",
       "</table>\n",
       "</div>"
      ],
      "text/plain": [
       "                  key   pos          ref alt  indel_allele  homoplasy_score\n",
       "0           T_1552_TA  1552            T  TA             1              3.0\n",
       "1           TA_1552_T  1552           TA   T             1              5.0\n",
       "2        TTCTC_1561_T  1561        TTCTC   T             1              1.0\n",
       "3          TCC_1568_T  1568          TCC   T             1              1.0\n",
       "4  CCGACCGACGT_1725_C  1725  CCGACCGACGT   C             1              1.0"
      ]
     },
     "execution_count": 52,
     "metadata": {},
     "output_type": "execute_result"
    }
   ],
   "source": [
    "INDEL_homoplasy_DF.head()"
   ]
  },
  {
   "cell_type": "markdown",
   "metadata": {},
   "source": [
    "#### Retrieve the INDEL type from the functional INDEL annotation"
   ]
  },
  {
   "cell_type": "code",
   "execution_count": 53,
   "metadata": {},
   "outputs": [],
   "source": [
    "#load DataFrame with functional annotation for alternate allele\n",
    "INDEL_functional_annotation_DF = pd.read_pickle('/n/data1/hms/dbmi/farhat/Roger/homoplasy_project/rolling_DB_scrape_indels/Genotypes_Filtered_2/genotypes_INDEL_functional_annotation.pkl')"
   ]
  },
  {
   "cell_type": "code",
   "execution_count": 54,
   "metadata": {},
   "outputs": [
    {
     "data": {
      "text/html": [
       "<div>\n",
       "<style>\n",
       "    .dataframe thead tr:only-child th {\n",
       "        text-align: right;\n",
       "    }\n",
       "\n",
       "    .dataframe thead th {\n",
       "        text-align: left;\n",
       "    }\n",
       "\n",
       "    .dataframe tbody tr th {\n",
       "        vertical-align: top;\n",
       "    }\n",
       "</style>\n",
       "<table border=\"1\" class=\"dataframe\">\n",
       "  <thead>\n",
       "    <tr style=\"text-align: right;\">\n",
       "      <th></th>\n",
       "      <th>pos</th>\n",
       "      <th>ref</th>\n",
       "      <th>alt</th>\n",
       "      <th>gene_category</th>\n",
       "      <th>gene_name</th>\n",
       "      <th>gene_id</th>\n",
       "      <th>gene_pos</th>\n",
       "      <th>ins_del</th>\n",
       "      <th>INDEL_type</th>\n",
       "      <th>codon_pos</th>\n",
       "    </tr>\n",
       "    <tr>\n",
       "      <th>key</th>\n",
       "      <th></th>\n",
       "      <th></th>\n",
       "      <th></th>\n",
       "      <th></th>\n",
       "      <th></th>\n",
       "      <th></th>\n",
       "      <th></th>\n",
       "      <th></th>\n",
       "      <th></th>\n",
       "      <th></th>\n",
       "    </tr>\n",
       "  </thead>\n",
       "  <tbody>\n",
       "    <tr>\n",
       "      <th>ACCGACGAAG_313_A</th>\n",
       "      <td>313</td>\n",
       "      <td>ACCGACGAAG</td>\n",
       "      <td>A</td>\n",
       "      <td>Essential</td>\n",
       "      <td>dnaA</td>\n",
       "      <td>Rv0001</td>\n",
       "      <td>313</td>\n",
       "      <td>del</td>\n",
       "      <td>inframe</td>\n",
       "      <td>105</td>\n",
       "    </tr>\n",
       "    <tr>\n",
       "      <th>TC_1549_T</th>\n",
       "      <td>1549</td>\n",
       "      <td>TC</td>\n",
       "      <td>T</td>\n",
       "      <td>None</td>\n",
       "      <td>None</td>\n",
       "      <td>Rv0001_Rv0002</td>\n",
       "      <td>None</td>\n",
       "      <td>del</td>\n",
       "      <td>frameshift</td>\n",
       "      <td>None</td>\n",
       "    </tr>\n",
       "    <tr>\n",
       "      <th>T_1552_TAA</th>\n",
       "      <td>1552</td>\n",
       "      <td>T</td>\n",
       "      <td>TAA</td>\n",
       "      <td>None</td>\n",
       "      <td>None</td>\n",
       "      <td>Rv0001_Rv0002</td>\n",
       "      <td>None</td>\n",
       "      <td>ins</td>\n",
       "      <td>frameshift</td>\n",
       "      <td>None</td>\n",
       "    </tr>\n",
       "    <tr>\n",
       "      <th>TAA_1552_T</th>\n",
       "      <td>1552</td>\n",
       "      <td>TAA</td>\n",
       "      <td>T</td>\n",
       "      <td>None</td>\n",
       "      <td>None</td>\n",
       "      <td>Rv0001_Rv0002</td>\n",
       "      <td>None</td>\n",
       "      <td>del</td>\n",
       "      <td>frameshift</td>\n",
       "      <td>None</td>\n",
       "    </tr>\n",
       "    <tr>\n",
       "      <th>T_1552_TA</th>\n",
       "      <td>1552</td>\n",
       "      <td>T</td>\n",
       "      <td>TA</td>\n",
       "      <td>None</td>\n",
       "      <td>None</td>\n",
       "      <td>Rv0001_Rv0002</td>\n",
       "      <td>None</td>\n",
       "      <td>ins</td>\n",
       "      <td>frameshift</td>\n",
       "      <td>None</td>\n",
       "    </tr>\n",
       "  </tbody>\n",
       "</table>\n",
       "</div>"
      ],
      "text/plain": [
       "                   pos         ref  alt gene_category gene_name  \\\n",
       "key                                                               \n",
       "ACCGACGAAG_313_A   313  ACCGACGAAG    A     Essential      dnaA   \n",
       "TC_1549_T         1549          TC    T          None      None   \n",
       "T_1552_TAA        1552           T  TAA          None      None   \n",
       "TAA_1552_T        1552         TAA    T          None      None   \n",
       "T_1552_TA         1552           T   TA          None      None   \n",
       "\n",
       "                        gene_id gene_pos ins_del  INDEL_type codon_pos  \n",
       "key                                                                     \n",
       "ACCGACGAAG_313_A         Rv0001      313     del     inframe       105  \n",
       "TC_1549_T         Rv0001_Rv0002     None     del  frameshift      None  \n",
       "T_1552_TAA        Rv0001_Rv0002     None     ins  frameshift      None  \n",
       "TAA_1552_T        Rv0001_Rv0002     None     del  frameshift      None  \n",
       "T_1552_TA         Rv0001_Rv0002     None     ins  frameshift      None  "
      ]
     },
     "execution_count": 54,
     "metadata": {},
     "output_type": "execute_result"
    }
   ],
   "source": [
    "INDEL_functional_annotation_DF.head()"
   ]
  },
  {
   "cell_type": "code",
   "execution_count": 55,
   "metadata": {},
   "outputs": [],
   "source": [
    "#these lists will hold variant annotation for each INDEL\n",
    "gene_category_list = []\n",
    "gene_name_list = []\n",
    "gene_id_list = []\n",
    "gene_pos_list = []\n",
    "ins_del_list = []\n",
    "INDEL_type_list = []\n",
    "codon_pos_list = []\n",
    "\n",
    "for INDEL_i_key in list(INDEL_homoplasy_DF.key):\n",
    "    \n",
    "    #append functional annotation for INDEL\n",
    "    gene_category_list.append(INDEL_functional_annotation_DF.loc[INDEL_i_key , 'gene_category'])\n",
    "    gene_name_list.append(INDEL_functional_annotation_DF.loc[INDEL_i_key , 'gene_name'])\n",
    "    gene_id_list.append(INDEL_functional_annotation_DF.loc[INDEL_i_key , 'gene_id'])\n",
    "    gene_pos_list.append(INDEL_functional_annotation_DF.loc[INDEL_i_key , 'gene_pos'])\n",
    "    ins_del_list.append(INDEL_functional_annotation_DF.loc[INDEL_i_key , 'ins_del'])\n",
    "    INDEL_type_list.append(INDEL_functional_annotation_DF.loc[INDEL_i_key , 'INDEL_type'])\n",
    "    codon_pos_list.append(INDEL_functional_annotation_DF.loc[INDEL_i_key , 'codon_pos'])\n",
    "    \n",
    "#create new column for DF\n",
    "INDEL_homoplasy_DF['gene_category'] = gene_category_list\n",
    "INDEL_homoplasy_DF['gene_name'] = gene_name_list\n",
    "INDEL_homoplasy_DF['gene_id'] = gene_id_list\n",
    "INDEL_homoplasy_DF['gene_pos'] = gene_pos_list\n",
    "INDEL_homoplasy_DF['ins_del'] = ins_del_list\n",
    "INDEL_homoplasy_DF['INDEL_type'] = INDEL_type_list\n",
    "INDEL_homoplasy_DF['codon_pos'] = codon_pos_list"
   ]
  },
  {
   "cell_type": "code",
   "execution_count": 56,
   "metadata": {},
   "outputs": [
    {
     "data": {
      "text/html": [
       "<div>\n",
       "<style>\n",
       "    .dataframe thead tr:only-child th {\n",
       "        text-align: right;\n",
       "    }\n",
       "\n",
       "    .dataframe thead th {\n",
       "        text-align: left;\n",
       "    }\n",
       "\n",
       "    .dataframe tbody tr th {\n",
       "        vertical-align: top;\n",
       "    }\n",
       "</style>\n",
       "<table border=\"1\" class=\"dataframe\">\n",
       "  <thead>\n",
       "    <tr style=\"text-align: right;\">\n",
       "      <th></th>\n",
       "      <th>key</th>\n",
       "      <th>pos</th>\n",
       "      <th>ref</th>\n",
       "      <th>alt</th>\n",
       "      <th>indel_allele</th>\n",
       "      <th>homoplasy_score</th>\n",
       "      <th>gene_category</th>\n",
       "      <th>gene_name</th>\n",
       "      <th>gene_id</th>\n",
       "      <th>gene_pos</th>\n",
       "      <th>ins_del</th>\n",
       "      <th>INDEL_type</th>\n",
       "      <th>codon_pos</th>\n",
       "    </tr>\n",
       "  </thead>\n",
       "  <tbody>\n",
       "    <tr>\n",
       "      <th>0</th>\n",
       "      <td>T_1552_TA</td>\n",
       "      <td>1552</td>\n",
       "      <td>T</td>\n",
       "      <td>TA</td>\n",
       "      <td>1</td>\n",
       "      <td>3.0</td>\n",
       "      <td>None</td>\n",
       "      <td>None</td>\n",
       "      <td>Rv0001_Rv0002</td>\n",
       "      <td>None</td>\n",
       "      <td>ins</td>\n",
       "      <td>frameshift</td>\n",
       "      <td>None</td>\n",
       "    </tr>\n",
       "    <tr>\n",
       "      <th>1</th>\n",
       "      <td>TA_1552_T</td>\n",
       "      <td>1552</td>\n",
       "      <td>TA</td>\n",
       "      <td>T</td>\n",
       "      <td>1</td>\n",
       "      <td>5.0</td>\n",
       "      <td>None</td>\n",
       "      <td>None</td>\n",
       "      <td>Rv0001_Rv0002</td>\n",
       "      <td>None</td>\n",
       "      <td>del</td>\n",
       "      <td>frameshift</td>\n",
       "      <td>None</td>\n",
       "    </tr>\n",
       "    <tr>\n",
       "      <th>2</th>\n",
       "      <td>TTCTC_1561_T</td>\n",
       "      <td>1561</td>\n",
       "      <td>TTCTC</td>\n",
       "      <td>T</td>\n",
       "      <td>1</td>\n",
       "      <td>1.0</td>\n",
       "      <td>None</td>\n",
       "      <td>None</td>\n",
       "      <td>Rv0001_Rv0002</td>\n",
       "      <td>None</td>\n",
       "      <td>del</td>\n",
       "      <td>frameshift</td>\n",
       "      <td>None</td>\n",
       "    </tr>\n",
       "    <tr>\n",
       "      <th>3</th>\n",
       "      <td>TCC_1568_T</td>\n",
       "      <td>1568</td>\n",
       "      <td>TCC</td>\n",
       "      <td>T</td>\n",
       "      <td>1</td>\n",
       "      <td>1.0</td>\n",
       "      <td>None</td>\n",
       "      <td>None</td>\n",
       "      <td>Rv0001_Rv0002</td>\n",
       "      <td>None</td>\n",
       "      <td>del</td>\n",
       "      <td>frameshift</td>\n",
       "      <td>None</td>\n",
       "    </tr>\n",
       "    <tr>\n",
       "      <th>4</th>\n",
       "      <td>CCGACCGACGT_1725_C</td>\n",
       "      <td>1725</td>\n",
       "      <td>CCGACCGACGT</td>\n",
       "      <td>C</td>\n",
       "      <td>1</td>\n",
       "      <td>1.0</td>\n",
       "      <td>None</td>\n",
       "      <td>None</td>\n",
       "      <td>Rv0001_Rv0002</td>\n",
       "      <td>None</td>\n",
       "      <td>del</td>\n",
       "      <td>frameshift</td>\n",
       "      <td>None</td>\n",
       "    </tr>\n",
       "    <tr>\n",
       "      <th>5</th>\n",
       "      <td>T_1815_TG</td>\n",
       "      <td>1815</td>\n",
       "      <td>T</td>\n",
       "      <td>TG</td>\n",
       "      <td>1</td>\n",
       "      <td>2.0</td>\n",
       "      <td>None</td>\n",
       "      <td>None</td>\n",
       "      <td>Rv0001_Rv0002</td>\n",
       "      <td>None</td>\n",
       "      <td>ins</td>\n",
       "      <td>frameshift</td>\n",
       "      <td>None</td>\n",
       "    </tr>\n",
       "    <tr>\n",
       "      <th>6</th>\n",
       "      <td>GA_2041_G</td>\n",
       "      <td>2041</td>\n",
       "      <td>GA</td>\n",
       "      <td>G</td>\n",
       "      <td>1</td>\n",
       "      <td>3.0</td>\n",
       "      <td>None</td>\n",
       "      <td>None</td>\n",
       "      <td>Rv0001_Rv0002</td>\n",
       "      <td>None</td>\n",
       "      <td>del</td>\n",
       "      <td>frameshift</td>\n",
       "      <td>None</td>\n",
       "    </tr>\n",
       "    <tr>\n",
       "      <th>7</th>\n",
       "      <td>T_5068_TG</td>\n",
       "      <td>5068</td>\n",
       "      <td>T</td>\n",
       "      <td>TG</td>\n",
       "      <td>1</td>\n",
       "      <td>1.0</td>\n",
       "      <td>None</td>\n",
       "      <td>None</td>\n",
       "      <td>Rv0004_Rv0005</td>\n",
       "      <td>None</td>\n",
       "      <td>ins</td>\n",
       "      <td>frameshift</td>\n",
       "      <td>None</td>\n",
       "    </tr>\n",
       "    <tr>\n",
       "      <th>8</th>\n",
       "      <td>C_5075_CG</td>\n",
       "      <td>5075</td>\n",
       "      <td>C</td>\n",
       "      <td>CG</td>\n",
       "      <td>1</td>\n",
       "      <td>2.0</td>\n",
       "      <td>None</td>\n",
       "      <td>None</td>\n",
       "      <td>Rv0004_Rv0005</td>\n",
       "      <td>None</td>\n",
       "      <td>ins</td>\n",
       "      <td>frameshift</td>\n",
       "      <td>None</td>\n",
       "    </tr>\n",
       "    <tr>\n",
       "      <th>9</th>\n",
       "      <td>G_5076_GT</td>\n",
       "      <td>5076</td>\n",
       "      <td>G</td>\n",
       "      <td>GT</td>\n",
       "      <td>1</td>\n",
       "      <td>6.0</td>\n",
       "      <td>None</td>\n",
       "      <td>None</td>\n",
       "      <td>Rv0004_Rv0005</td>\n",
       "      <td>None</td>\n",
       "      <td>ins</td>\n",
       "      <td>frameshift</td>\n",
       "      <td>None</td>\n",
       "    </tr>\n",
       "  </tbody>\n",
       "</table>\n",
       "</div>"
      ],
      "text/plain": [
       "                  key   pos          ref alt  indel_allele  homoplasy_score  \\\n",
       "0           T_1552_TA  1552            T  TA             1              3.0   \n",
       "1           TA_1552_T  1552           TA   T             1              5.0   \n",
       "2        TTCTC_1561_T  1561        TTCTC   T             1              1.0   \n",
       "3          TCC_1568_T  1568          TCC   T             1              1.0   \n",
       "4  CCGACCGACGT_1725_C  1725  CCGACCGACGT   C             1              1.0   \n",
       "5           T_1815_TG  1815            T  TG             1              2.0   \n",
       "6           GA_2041_G  2041           GA   G             1              3.0   \n",
       "7           T_5068_TG  5068            T  TG             1              1.0   \n",
       "8           C_5075_CG  5075            C  CG             1              2.0   \n",
       "9           G_5076_GT  5076            G  GT             1              6.0   \n",
       "\n",
       "  gene_category gene_name        gene_id gene_pos ins_del  INDEL_type  \\\n",
       "0          None      None  Rv0001_Rv0002     None     ins  frameshift   \n",
       "1          None      None  Rv0001_Rv0002     None     del  frameshift   \n",
       "2          None      None  Rv0001_Rv0002     None     del  frameshift   \n",
       "3          None      None  Rv0001_Rv0002     None     del  frameshift   \n",
       "4          None      None  Rv0001_Rv0002     None     del  frameshift   \n",
       "5          None      None  Rv0001_Rv0002     None     ins  frameshift   \n",
       "6          None      None  Rv0001_Rv0002     None     del  frameshift   \n",
       "7          None      None  Rv0004_Rv0005     None     ins  frameshift   \n",
       "8          None      None  Rv0004_Rv0005     None     ins  frameshift   \n",
       "9          None      None  Rv0004_Rv0005     None     ins  frameshift   \n",
       "\n",
       "  codon_pos  \n",
       "0      None  \n",
       "1      None  \n",
       "2      None  \n",
       "3      None  \n",
       "4      None  \n",
       "5      None  \n",
       "6      None  \n",
       "7      None  \n",
       "8      None  \n",
       "9      None  "
      ]
     },
     "execution_count": 56,
     "metadata": {},
     "output_type": "execute_result"
    }
   ],
   "source": [
    "INDEL_homoplasy_DF.head(n=10)"
   ]
  },
  {
   "cell_type": "markdown",
   "metadata": {},
   "source": [
    "Pickle dataframe with homoplasy count for this lineage for downstream analysis"
   ]
  },
  {
   "cell_type": "code",
   "execution_count": 57,
   "metadata": {},
   "outputs": [],
   "source": [
    "INDEL_homoplasy_DF.to_pickle('/n/data1/hms/dbmi/farhat/Roger/homoplasy_project/CSV_files/homoplasies_detected_in_global_lineages/INDEL homoplasies/pickled dataframes/spacer_{0}/homoplasy_scores_lineage_{1}.pkl'.format(str(spacer_length) , global_lineage))"
   ]
  },
  {
   "cell_type": "markdown",
   "metadata": {},
   "source": [
    "Check the **top hits**"
   ]
  },
  {
   "cell_type": "code",
   "execution_count": 58,
   "metadata": {},
   "outputs": [
    {
     "data": {
      "text/html": [
       "<div>\n",
       "<style>\n",
       "    .dataframe thead tr:only-child th {\n",
       "        text-align: right;\n",
       "    }\n",
       "\n",
       "    .dataframe thead th {\n",
       "        text-align: left;\n",
       "    }\n",
       "\n",
       "    .dataframe tbody tr th {\n",
       "        vertical-align: top;\n",
       "    }\n",
       "</style>\n",
       "<table border=\"1\" class=\"dataframe\">\n",
       "  <thead>\n",
       "    <tr style=\"text-align: right;\">\n",
       "      <th></th>\n",
       "      <th>key</th>\n",
       "      <th>pos</th>\n",
       "      <th>ref</th>\n",
       "      <th>alt</th>\n",
       "      <th>indel_allele</th>\n",
       "      <th>homoplasy_score</th>\n",
       "      <th>gene_category</th>\n",
       "      <th>gene_name</th>\n",
       "      <th>gene_id</th>\n",
       "      <th>gene_pos</th>\n",
       "      <th>ins_del</th>\n",
       "      <th>INDEL_type</th>\n",
       "      <th>codon_pos</th>\n",
       "    </tr>\n",
       "  </thead>\n",
       "  <tbody>\n",
       "    <tr>\n",
       "      <th>7242</th>\n",
       "      <td>C_3794867_CCA</td>\n",
       "      <td>3794867</td>\n",
       "      <td>C</td>\n",
       "      <td>CCA</td>\n",
       "      <td>1</td>\n",
       "      <td>549.0</td>\n",
       "      <td>Non-Essential</td>\n",
       "      <td>dxs2</td>\n",
       "      <td>Rv3379c</td>\n",
       "      <td>1</td>\n",
       "      <td>ins</td>\n",
       "      <td>frameshift</td>\n",
       "      <td>1</td>\n",
       "    </tr>\n",
       "    <tr>\n",
       "      <th>3712</th>\n",
       "      <td>G_1894300_GGTCTTGCCGC</td>\n",
       "      <td>1894300</td>\n",
       "      <td>G</td>\n",
       "      <td>GGTCTTGCCGC</td>\n",
       "      <td>1</td>\n",
       "      <td>537.0</td>\n",
       "      <td>Non-Essential</td>\n",
       "      <td>Rv1668c</td>\n",
       "      <td>Rv1668c</td>\n",
       "      <td>1043</td>\n",
       "      <td>ins</td>\n",
       "      <td>frameshift</td>\n",
       "      <td>348</td>\n",
       "    </tr>\n",
       "    <tr>\n",
       "      <th>8104</th>\n",
       "      <td>CCCAATTCGTA_4254330_C</td>\n",
       "      <td>4254330</td>\n",
       "      <td>CCCAATTCGTA</td>\n",
       "      <td>C</td>\n",
       "      <td>1</td>\n",
       "      <td>523.0</td>\n",
       "      <td>None</td>\n",
       "      <td>None</td>\n",
       "      <td>Rv3798_Rv3799c</td>\n",
       "      <td>None</td>\n",
       "      <td>del</td>\n",
       "      <td>frameshift</td>\n",
       "      <td>None</td>\n",
       "    </tr>\n",
       "    <tr>\n",
       "      <th>4213</th>\n",
       "      <td>A_2137521_ACTCCGATCAC</td>\n",
       "      <td>2137521</td>\n",
       "      <td>A</td>\n",
       "      <td>ACTCCGATCAC</td>\n",
       "      <td>1</td>\n",
       "      <td>510.0</td>\n",
       "      <td>Non-Essential</td>\n",
       "      <td>Rv1888c</td>\n",
       "      <td>Rv1888c</td>\n",
       "      <td>559</td>\n",
       "      <td>ins</td>\n",
       "      <td>frameshift</td>\n",
       "      <td>187</td>\n",
       "    </tr>\n",
       "    <tr>\n",
       "      <th>6374</th>\n",
       "      <td>G_3296371_GCCGCGGC</td>\n",
       "      <td>3296371</td>\n",
       "      <td>G</td>\n",
       "      <td>GCCGCGGC</td>\n",
       "      <td>1</td>\n",
       "      <td>509.0</td>\n",
       "      <td>Non-Essential</td>\n",
       "      <td>pks15</td>\n",
       "      <td>Rv2947c</td>\n",
       "      <td>1470</td>\n",
       "      <td>ins</td>\n",
       "      <td>frameshift</td>\n",
       "      <td>490</td>\n",
       "    </tr>\n",
       "    <tr>\n",
       "      <th>6921</th>\n",
       "      <td>A_3610391_AC</td>\n",
       "      <td>3610391</td>\n",
       "      <td>A</td>\n",
       "      <td>AC</td>\n",
       "      <td>1</td>\n",
       "      <td>456.0</td>\n",
       "      <td>Non-Essential</td>\n",
       "      <td>tgs3</td>\n",
       "      <td>Rv3234c</td>\n",
       "      <td>799</td>\n",
       "      <td>ins</td>\n",
       "      <td>frameshift</td>\n",
       "      <td>267</td>\n",
       "    </tr>\n",
       "    <tr>\n",
       "      <th>2663</th>\n",
       "      <td>A_1313337_AG</td>\n",
       "      <td>1313337</td>\n",
       "      <td>A</td>\n",
       "      <td>AG</td>\n",
       "      <td>1</td>\n",
       "      <td>449.0</td>\n",
       "      <td>None</td>\n",
       "      <td>None</td>\n",
       "      <td>Rv1179c_Rv1180</td>\n",
       "      <td>None</td>\n",
       "      <td>ins</td>\n",
       "      <td>frameshift</td>\n",
       "      <td>None</td>\n",
       "    </tr>\n",
       "    <tr>\n",
       "      <th>7417</th>\n",
       "      <td>G_3895244_GGCC</td>\n",
       "      <td>3895244</td>\n",
       "      <td>G</td>\n",
       "      <td>GGCC</td>\n",
       "      <td>1</td>\n",
       "      <td>419.0</td>\n",
       "      <td>PE/PPE</td>\n",
       "      <td>PPE60</td>\n",
       "      <td>Rv3478</td>\n",
       "      <td>819</td>\n",
       "      <td>ins</td>\n",
       "      <td>inframe</td>\n",
       "      <td>273</td>\n",
       "    </tr>\n",
       "    <tr>\n",
       "      <th>225</th>\n",
       "      <td>C_79281_CCCACAT</td>\n",
       "      <td>79281</td>\n",
       "      <td>C</td>\n",
       "      <td>CCCACAT</td>\n",
       "      <td>1</td>\n",
       "      <td>403.0</td>\n",
       "      <td>None</td>\n",
       "      <td>None</td>\n",
       "      <td>Rv0070c_Rv0071</td>\n",
       "      <td>None</td>\n",
       "      <td>ins</td>\n",
       "      <td>inframe</td>\n",
       "      <td>None</td>\n",
       "    </tr>\n",
       "    <tr>\n",
       "      <th>533</th>\n",
       "      <td>AT_208316_A</td>\n",
       "      <td>208316</td>\n",
       "      <td>AT</td>\n",
       "      <td>A</td>\n",
       "      <td>1</td>\n",
       "      <td>392.0</td>\n",
       "      <td>Essential</td>\n",
       "      <td>Rv0176</td>\n",
       "      <td>Rv0176</td>\n",
       "      <td>865</td>\n",
       "      <td>del</td>\n",
       "      <td>frameshift</td>\n",
       "      <td>289</td>\n",
       "    </tr>\n",
       "    <tr>\n",
       "      <th>6922</th>\n",
       "      <td>GGGGTC_3610668_G</td>\n",
       "      <td>3610668</td>\n",
       "      <td>GGGGTC</td>\n",
       "      <td>G</td>\n",
       "      <td>1</td>\n",
       "      <td>313.0</td>\n",
       "      <td>Non-Essential</td>\n",
       "      <td>tgs3</td>\n",
       "      <td>Rv3234c</td>\n",
       "      <td>522</td>\n",
       "      <td>del</td>\n",
       "      <td>frameshift</td>\n",
       "      <td>174</td>\n",
       "    </tr>\n",
       "    <tr>\n",
       "      <th>597</th>\n",
       "      <td>C_234496_CGT</td>\n",
       "      <td>234496</td>\n",
       "      <td>C</td>\n",
       "      <td>CGT</td>\n",
       "      <td>1</td>\n",
       "      <td>301.0</td>\n",
       "      <td>Non-Essential</td>\n",
       "      <td>Rv0197</td>\n",
       "      <td>Rv0197</td>\n",
       "      <td>2266</td>\n",
       "      <td>ins</td>\n",
       "      <td>frameshift</td>\n",
       "      <td>756</td>\n",
       "    </tr>\n",
       "    <tr>\n",
       "      <th>4918</th>\n",
       "      <td>G_2451927_GCAGC</td>\n",
       "      <td>2451927</td>\n",
       "      <td>G</td>\n",
       "      <td>GCAGC</td>\n",
       "      <td>1</td>\n",
       "      <td>294.0</td>\n",
       "      <td>Non-Essential</td>\n",
       "      <td>Rv2189c</td>\n",
       "      <td>Rv2189c</td>\n",
       "      <td>94</td>\n",
       "      <td>ins</td>\n",
       "      <td>frameshift</td>\n",
       "      <td>32</td>\n",
       "    </tr>\n",
       "    <tr>\n",
       "      <th>164</th>\n",
       "      <td>G_55540_GCCGCCGCCT</td>\n",
       "      <td>55540</td>\n",
       "      <td>G</td>\n",
       "      <td>GCCGCCGCCT</td>\n",
       "      <td>1</td>\n",
       "      <td>271.0</td>\n",
       "      <td>Non-Essential</td>\n",
       "      <td>ponA1</td>\n",
       "      <td>Rv0050</td>\n",
       "      <td>1878</td>\n",
       "      <td>ins</td>\n",
       "      <td>inframe</td>\n",
       "      <td>626</td>\n",
       "    </tr>\n",
       "    <tr>\n",
       "      <th>6184</th>\n",
       "      <td>T_3131469_TTGTCGGCGA</td>\n",
       "      <td>3131469</td>\n",
       "      <td>T</td>\n",
       "      <td>TTGTCGGCGA</td>\n",
       "      <td>1</td>\n",
       "      <td>270.0</td>\n",
       "      <td>Antigen</td>\n",
       "      <td>Rv2823c</td>\n",
       "      <td>Rv2823c</td>\n",
       "      <td>305</td>\n",
       "      <td>ins</td>\n",
       "      <td>inframe</td>\n",
       "      <td>102</td>\n",
       "    </tr>\n",
       "    <tr>\n",
       "      <th>6898</th>\n",
       "      <td>G_3590686_GC</td>\n",
       "      <td>3590686</td>\n",
       "      <td>G</td>\n",
       "      <td>GC</td>\n",
       "      <td>1</td>\n",
       "      <td>261.0</td>\n",
       "      <td>None</td>\n",
       "      <td>None</td>\n",
       "      <td>Rv3212_Rv3213c</td>\n",
       "      <td>None</td>\n",
       "      <td>ins</td>\n",
       "      <td>frameshift</td>\n",
       "      <td>None</td>\n",
       "    </tr>\n",
       "    <tr>\n",
       "      <th>4991</th>\n",
       "      <td>G_2523205_GCGC</td>\n",
       "      <td>2523205</td>\n",
       "      <td>G</td>\n",
       "      <td>GCGC</td>\n",
       "      <td>1</td>\n",
       "      <td>257.0</td>\n",
       "      <td>None</td>\n",
       "      <td>None</td>\n",
       "      <td>Rv2248_Rv2249c</td>\n",
       "      <td>None</td>\n",
       "      <td>ins</td>\n",
       "      <td>inframe</td>\n",
       "      <td>None</td>\n",
       "    </tr>\n",
       "    <tr>\n",
       "      <th>6867</th>\n",
       "      <td>A_3566923_ACGCTTGTCGG</td>\n",
       "      <td>3566923</td>\n",
       "      <td>A</td>\n",
       "      <td>ACGCTTGTCGG</td>\n",
       "      <td>1</td>\n",
       "      <td>257.0</td>\n",
       "      <td>None</td>\n",
       "      <td>None</td>\n",
       "      <td>Rv3196A_Rv3197</td>\n",
       "      <td>None</td>\n",
       "      <td>ins</td>\n",
       "      <td>frameshift</td>\n",
       "      <td>None</td>\n",
       "    </tr>\n",
       "    <tr>\n",
       "      <th>4967</th>\n",
       "      <td>G_2501147_GC</td>\n",
       "      <td>2501147</td>\n",
       "      <td>G</td>\n",
       "      <td>GC</td>\n",
       "      <td>1</td>\n",
       "      <td>250.0</td>\n",
       "      <td>Non-Essential</td>\n",
       "      <td>Rv2227</td>\n",
       "      <td>Rv2227</td>\n",
       "      <td>217</td>\n",
       "      <td>ins</td>\n",
       "      <td>frameshift</td>\n",
       "      <td>73</td>\n",
       "    </tr>\n",
       "    <tr>\n",
       "      <th>7871</th>\n",
       "      <td>TGCGCCCGGC_4160533_T</td>\n",
       "      <td>4160533</td>\n",
       "      <td>TGCGCCCGGC</td>\n",
       "      <td>T</td>\n",
       "      <td>1</td>\n",
       "      <td>219.0</td>\n",
       "      <td>Non-Essential</td>\n",
       "      <td>Rv3716c</td>\n",
       "      <td>Rv3716c</td>\n",
       "      <td>381</td>\n",
       "      <td>del</td>\n",
       "      <td>inframe</td>\n",
       "      <td>127</td>\n",
       "    </tr>\n",
       "    <tr>\n",
       "      <th>1964</th>\n",
       "      <td>A_968426_AGCCGGGTTG</td>\n",
       "      <td>968426</td>\n",
       "      <td>A</td>\n",
       "      <td>AGCCGGGTTG</td>\n",
       "      <td>1</td>\n",
       "      <td>215.0</td>\n",
       "      <td>PE/PPE</td>\n",
       "      <td>PE_PGRS15</td>\n",
       "      <td>Rv0872c</td>\n",
       "      <td>1819</td>\n",
       "      <td>ins</td>\n",
       "      <td>inframe</td>\n",
       "      <td>607</td>\n",
       "    </tr>\n",
       "    <tr>\n",
       "      <th>2228</th>\n",
       "      <td>GC_1077624_G</td>\n",
       "      <td>1077624</td>\n",
       "      <td>GC</td>\n",
       "      <td>G</td>\n",
       "      <td>1</td>\n",
       "      <td>184.0</td>\n",
       "      <td>Non-Essential</td>\n",
       "      <td>Rv0966c</td>\n",
       "      <td>Rv0966c</td>\n",
       "      <td>212</td>\n",
       "      <td>del</td>\n",
       "      <td>frameshift</td>\n",
       "      <td>71</td>\n",
       "    </tr>\n",
       "    <tr>\n",
       "      <th>2496</th>\n",
       "      <td>ACGGCGGCGC_1212626_A</td>\n",
       "      <td>1212626</td>\n",
       "      <td>ACGGCGGCGC</td>\n",
       "      <td>A</td>\n",
       "      <td>1</td>\n",
       "      <td>179.0</td>\n",
       "      <td>PE/PPE</td>\n",
       "      <td>PE_PGRS21</td>\n",
       "      <td>Rv1087</td>\n",
       "      <td>1067</td>\n",
       "      <td>del</td>\n",
       "      <td>inframe</td>\n",
       "      <td>356</td>\n",
       "    </tr>\n",
       "    <tr>\n",
       "      <th>4716</th>\n",
       "      <td>ATGAT_2327903_A</td>\n",
       "      <td>2327903</td>\n",
       "      <td>ATGAT</td>\n",
       "      <td>A</td>\n",
       "      <td>1</td>\n",
       "      <td>175.0</td>\n",
       "      <td>Non-Essential</td>\n",
       "      <td>cobK</td>\n",
       "      <td>Rv2070c</td>\n",
       "      <td>323</td>\n",
       "      <td>del</td>\n",
       "      <td>frameshift</td>\n",
       "      <td>108</td>\n",
       "    </tr>\n",
       "    <tr>\n",
       "      <th>8627</th>\n",
       "      <td>CG_4385031_C</td>\n",
       "      <td>4385031</td>\n",
       "      <td>CG</td>\n",
       "      <td>C</td>\n",
       "      <td>1</td>\n",
       "      <td>175.0</td>\n",
       "      <td>Non-Essential</td>\n",
       "      <td>Rv3899c</td>\n",
       "      <td>Rv3899c</td>\n",
       "      <td>349</td>\n",
       "      <td>del</td>\n",
       "      <td>frameshift</td>\n",
       "      <td>117</td>\n",
       "    </tr>\n",
       "    <tr>\n",
       "      <th>1749</th>\n",
       "      <td>GC_854252_G</td>\n",
       "      <td>854252</td>\n",
       "      <td>GC</td>\n",
       "      <td>G</td>\n",
       "      <td>1</td>\n",
       "      <td>170.0</td>\n",
       "      <td>None</td>\n",
       "      <td>None</td>\n",
       "      <td>Rv0759c_Rv0760c</td>\n",
       "      <td>None</td>\n",
       "      <td>del</td>\n",
       "      <td>frameshift</td>\n",
       "      <td>None</td>\n",
       "    </tr>\n",
       "    <tr>\n",
       "      <th>1698</th>\n",
       "      <td>G_830868_GGC</td>\n",
       "      <td>830868</td>\n",
       "      <td>G</td>\n",
       "      <td>GGC</td>\n",
       "      <td>1</td>\n",
       "      <td>168.0</td>\n",
       "      <td>Non-Essential</td>\n",
       "      <td>Rv0739</td>\n",
       "      <td>Rv0739</td>\n",
       "      <td>14</td>\n",
       "      <td>ins</td>\n",
       "      <td>frameshift</td>\n",
       "      <td>5</td>\n",
       "    </tr>\n",
       "    <tr>\n",
       "      <th>1863</th>\n",
       "      <td>C_925342_CG</td>\n",
       "      <td>925342</td>\n",
       "      <td>C</td>\n",
       "      <td>CG</td>\n",
       "      <td>1</td>\n",
       "      <td>165.0</td>\n",
       "      <td>PE/PPE</td>\n",
       "      <td>PE_PGRS12</td>\n",
       "      <td>Rv0832</td>\n",
       "      <td>392</td>\n",
       "      <td>ins</td>\n",
       "      <td>frameshift</td>\n",
       "      <td>131</td>\n",
       "    </tr>\n",
       "    <tr>\n",
       "      <th>3908</th>\n",
       "      <td>G_1992323_GC</td>\n",
       "      <td>1992323</td>\n",
       "      <td>G</td>\n",
       "      <td>GC</td>\n",
       "      <td>1</td>\n",
       "      <td>160.0</td>\n",
       "      <td>PE/PPE</td>\n",
       "      <td>wag22</td>\n",
       "      <td>Rv1759c</td>\n",
       "      <td>255</td>\n",
       "      <td>ins</td>\n",
       "      <td>frameshift</td>\n",
       "      <td>85</td>\n",
       "    </tr>\n",
       "    <tr>\n",
       "      <th>4748</th>\n",
       "      <td>AC_2338194_A</td>\n",
       "      <td>2338194</td>\n",
       "      <td>AC</td>\n",
       "      <td>A</td>\n",
       "      <td>1</td>\n",
       "      <td>141.0</td>\n",
       "      <td>Non-Essential</td>\n",
       "      <td>Rv2081c</td>\n",
       "      <td>Rv2081c</td>\n",
       "      <td>312</td>\n",
       "      <td>del</td>\n",
       "      <td>frameshift</td>\n",
       "      <td>104</td>\n",
       "    </tr>\n",
       "    <tr>\n",
       "      <th>5679</th>\n",
       "      <td>G_2873093_GCCA</td>\n",
       "      <td>2873093</td>\n",
       "      <td>G</td>\n",
       "      <td>GCCA</td>\n",
       "      <td>1</td>\n",
       "      <td>140.0</td>\n",
       "      <td>Essential</td>\n",
       "      <td>Rv2553c</td>\n",
       "      <td>Rv2553c</td>\n",
       "      <td>173</td>\n",
       "      <td>ins</td>\n",
       "      <td>inframe</td>\n",
       "      <td>58</td>\n",
       "    </tr>\n",
       "    <tr>\n",
       "      <th>1995</th>\n",
       "      <td>TTG_976896_T</td>\n",
       "      <td>976896</td>\n",
       "      <td>TTG</td>\n",
       "      <td>T</td>\n",
       "      <td>1</td>\n",
       "      <td>139.0</td>\n",
       "      <td>PE/PPE</td>\n",
       "      <td>PPE13</td>\n",
       "      <td>Rv0878c</td>\n",
       "      <td>1308</td>\n",
       "      <td>del</td>\n",
       "      <td>frameshift</td>\n",
       "      <td>436</td>\n",
       "    </tr>\n",
       "    <tr>\n",
       "      <th>5403</th>\n",
       "      <td>AT_2723923_A</td>\n",
       "      <td>2723923</td>\n",
       "      <td>AT</td>\n",
       "      <td>A</td>\n",
       "      <td>1</td>\n",
       "      <td>127.0</td>\n",
       "      <td>Non-Essential</td>\n",
       "      <td>Rv2426c</td>\n",
       "      <td>Rv2426c</td>\n",
       "      <td>261</td>\n",
       "      <td>del</td>\n",
       "      <td>frameshift</td>\n",
       "      <td>87</td>\n",
       "    </tr>\n",
       "    <tr>\n",
       "      <th>7362</th>\n",
       "      <td>GA_3862472_G</td>\n",
       "      <td>3862472</td>\n",
       "      <td>GA</td>\n",
       "      <td>G</td>\n",
       "      <td>1</td>\n",
       "      <td>126.0</td>\n",
       "      <td>None</td>\n",
       "      <td>None</td>\n",
       "      <td>Rv3443c_Rv3444c</td>\n",
       "      <td>None</td>\n",
       "      <td>del</td>\n",
       "      <td>frameshift</td>\n",
       "      <td>None</td>\n",
       "    </tr>\n",
       "    <tr>\n",
       "      <th>91</th>\n",
       "      <td>A_34926_AGGCAAAGG</td>\n",
       "      <td>34926</td>\n",
       "      <td>A</td>\n",
       "      <td>AGGCAAAGG</td>\n",
       "      <td>1</td>\n",
       "      <td>118.0</td>\n",
       "      <td>Non-Essential</td>\n",
       "      <td>bioF2</td>\n",
       "      <td>Rv0032</td>\n",
       "      <td>632</td>\n",
       "      <td>ins</td>\n",
       "      <td>frameshift</td>\n",
       "      <td>211</td>\n",
       "    </tr>\n",
       "    <tr>\n",
       "      <th>1991</th>\n",
       "      <td>CT_976889_C</td>\n",
       "      <td>976889</td>\n",
       "      <td>CT</td>\n",
       "      <td>C</td>\n",
       "      <td>1</td>\n",
       "      <td>114.0</td>\n",
       "      <td>PE/PPE</td>\n",
       "      <td>PPE13</td>\n",
       "      <td>Rv0878c</td>\n",
       "      <td>1315</td>\n",
       "      <td>del</td>\n",
       "      <td>frameshift</td>\n",
       "      <td>439</td>\n",
       "    </tr>\n",
       "    <tr>\n",
       "      <th>2001</th>\n",
       "      <td>TG_976897_T</td>\n",
       "      <td>976897</td>\n",
       "      <td>TG</td>\n",
       "      <td>T</td>\n",
       "      <td>1</td>\n",
       "      <td>108.0</td>\n",
       "      <td>PE/PPE</td>\n",
       "      <td>PPE13</td>\n",
       "      <td>Rv0878c</td>\n",
       "      <td>1307</td>\n",
       "      <td>del</td>\n",
       "      <td>frameshift</td>\n",
       "      <td>436</td>\n",
       "    </tr>\n",
       "    <tr>\n",
       "      <th>4139</th>\n",
       "      <td>C_2109523_CG</td>\n",
       "      <td>2109523</td>\n",
       "      <td>C</td>\n",
       "      <td>CG</td>\n",
       "      <td>1</td>\n",
       "      <td>105.0</td>\n",
       "      <td>None</td>\n",
       "      <td>None</td>\n",
       "      <td>Rv1861_Rv1862</td>\n",
       "      <td>None</td>\n",
       "      <td>ins</td>\n",
       "      <td>frameshift</td>\n",
       "      <td>None</td>\n",
       "    </tr>\n",
       "    <tr>\n",
       "      <th>1058</th>\n",
       "      <td>C_467508_CG</td>\n",
       "      <td>467508</td>\n",
       "      <td>C</td>\n",
       "      <td>CG</td>\n",
       "      <td>1</td>\n",
       "      <td>103.0</td>\n",
       "      <td>PE/PPE</td>\n",
       "      <td>PPE9</td>\n",
       "      <td>Rv0388c</td>\n",
       "      <td>494</td>\n",
       "      <td>ins</td>\n",
       "      <td>frameshift</td>\n",
       "      <td>165</td>\n",
       "    </tr>\n",
       "    <tr>\n",
       "      <th>5103</th>\n",
       "      <td>C_2566766_CG</td>\n",
       "      <td>2566766</td>\n",
       "      <td>C</td>\n",
       "      <td>CG</td>\n",
       "      <td>1</td>\n",
       "      <td>102.0</td>\n",
       "      <td>None</td>\n",
       "      <td>None</td>\n",
       "      <td>Rv2294_Rv2295</td>\n",
       "      <td>None</td>\n",
       "      <td>ins</td>\n",
       "      <td>frameshift</td>\n",
       "      <td>None</td>\n",
       "    </tr>\n",
       "  </tbody>\n",
       "</table>\n",
       "</div>"
      ],
      "text/plain": [
       "                        key      pos          ref          alt  indel_allele  \\\n",
       "7242          C_3794867_CCA  3794867            C          CCA             1   \n",
       "3712  G_1894300_GGTCTTGCCGC  1894300            G  GGTCTTGCCGC             1   \n",
       "8104  CCCAATTCGTA_4254330_C  4254330  CCCAATTCGTA            C             1   \n",
       "4213  A_2137521_ACTCCGATCAC  2137521            A  ACTCCGATCAC             1   \n",
       "6374     G_3296371_GCCGCGGC  3296371            G     GCCGCGGC             1   \n",
       "6921           A_3610391_AC  3610391            A           AC             1   \n",
       "2663           A_1313337_AG  1313337            A           AG             1   \n",
       "7417         G_3895244_GGCC  3895244            G         GGCC             1   \n",
       "225         C_79281_CCCACAT    79281            C      CCCACAT             1   \n",
       "533             AT_208316_A   208316           AT            A             1   \n",
       "6922       GGGGTC_3610668_G  3610668       GGGGTC            G             1   \n",
       "597            C_234496_CGT   234496            C          CGT             1   \n",
       "4918        G_2451927_GCAGC  2451927            G        GCAGC             1   \n",
       "164      G_55540_GCCGCCGCCT    55540            G   GCCGCCGCCT             1   \n",
       "6184   T_3131469_TTGTCGGCGA  3131469            T   TTGTCGGCGA             1   \n",
       "6898           G_3590686_GC  3590686            G           GC             1   \n",
       "4991         G_2523205_GCGC  2523205            G         GCGC             1   \n",
       "6867  A_3566923_ACGCTTGTCGG  3566923            A  ACGCTTGTCGG             1   \n",
       "4967           G_2501147_GC  2501147            G           GC             1   \n",
       "7871   TGCGCCCGGC_4160533_T  4160533   TGCGCCCGGC            T             1   \n",
       "1964    A_968426_AGCCGGGTTG   968426            A   AGCCGGGTTG             1   \n",
       "2228           GC_1077624_G  1077624           GC            G             1   \n",
       "2496   ACGGCGGCGC_1212626_A  1212626   ACGGCGGCGC            A             1   \n",
       "4716        ATGAT_2327903_A  2327903        ATGAT            A             1   \n",
       "8627           CG_4385031_C  4385031           CG            C             1   \n",
       "1749            GC_854252_G   854252           GC            G             1   \n",
       "1698           G_830868_GGC   830868            G          GGC             1   \n",
       "1863            C_925342_CG   925342            C           CG             1   \n",
       "3908           G_1992323_GC  1992323            G           GC             1   \n",
       "4748           AC_2338194_A  2338194           AC            A             1   \n",
       "5679         G_2873093_GCCA  2873093            G         GCCA             1   \n",
       "1995           TTG_976896_T   976896          TTG            T             1   \n",
       "5403           AT_2723923_A  2723923           AT            A             1   \n",
       "7362           GA_3862472_G  3862472           GA            G             1   \n",
       "91        A_34926_AGGCAAAGG    34926            A    AGGCAAAGG             1   \n",
       "1991            CT_976889_C   976889           CT            C             1   \n",
       "2001            TG_976897_T   976897           TG            T             1   \n",
       "4139           C_2109523_CG  2109523            C           CG             1   \n",
       "1058            C_467508_CG   467508            C           CG             1   \n",
       "5103           C_2566766_CG  2566766            C           CG             1   \n",
       "\n",
       "      homoplasy_score  gene_category  gene_name          gene_id gene_pos  \\\n",
       "7242            549.0  Non-Essential       dxs2          Rv3379c        1   \n",
       "3712            537.0  Non-Essential    Rv1668c          Rv1668c     1043   \n",
       "8104            523.0           None       None   Rv3798_Rv3799c     None   \n",
       "4213            510.0  Non-Essential    Rv1888c          Rv1888c      559   \n",
       "6374            509.0  Non-Essential      pks15          Rv2947c     1470   \n",
       "6921            456.0  Non-Essential       tgs3          Rv3234c      799   \n",
       "2663            449.0           None       None   Rv1179c_Rv1180     None   \n",
       "7417            419.0         PE/PPE      PPE60           Rv3478      819   \n",
       "225             403.0           None       None   Rv0070c_Rv0071     None   \n",
       "533             392.0      Essential     Rv0176           Rv0176      865   \n",
       "6922            313.0  Non-Essential       tgs3          Rv3234c      522   \n",
       "597             301.0  Non-Essential     Rv0197           Rv0197     2266   \n",
       "4918            294.0  Non-Essential    Rv2189c          Rv2189c       94   \n",
       "164             271.0  Non-Essential      ponA1           Rv0050     1878   \n",
       "6184            270.0        Antigen    Rv2823c          Rv2823c      305   \n",
       "6898            261.0           None       None   Rv3212_Rv3213c     None   \n",
       "4991            257.0           None       None   Rv2248_Rv2249c     None   \n",
       "6867            257.0           None       None   Rv3196A_Rv3197     None   \n",
       "4967            250.0  Non-Essential     Rv2227           Rv2227      217   \n",
       "7871            219.0  Non-Essential    Rv3716c          Rv3716c      381   \n",
       "1964            215.0         PE/PPE  PE_PGRS15          Rv0872c     1819   \n",
       "2228            184.0  Non-Essential    Rv0966c          Rv0966c      212   \n",
       "2496            179.0         PE/PPE  PE_PGRS21           Rv1087     1067   \n",
       "4716            175.0  Non-Essential       cobK          Rv2070c      323   \n",
       "8627            175.0  Non-Essential    Rv3899c          Rv3899c      349   \n",
       "1749            170.0           None       None  Rv0759c_Rv0760c     None   \n",
       "1698            168.0  Non-Essential     Rv0739           Rv0739       14   \n",
       "1863            165.0         PE/PPE  PE_PGRS12           Rv0832      392   \n",
       "3908            160.0         PE/PPE      wag22          Rv1759c      255   \n",
       "4748            141.0  Non-Essential    Rv2081c          Rv2081c      312   \n",
       "5679            140.0      Essential    Rv2553c          Rv2553c      173   \n",
       "1995            139.0         PE/PPE      PPE13          Rv0878c     1308   \n",
       "5403            127.0  Non-Essential    Rv2426c          Rv2426c      261   \n",
       "7362            126.0           None       None  Rv3443c_Rv3444c     None   \n",
       "91              118.0  Non-Essential      bioF2           Rv0032      632   \n",
       "1991            114.0         PE/PPE      PPE13          Rv0878c     1315   \n",
       "2001            108.0         PE/PPE      PPE13          Rv0878c     1307   \n",
       "4139            105.0           None       None    Rv1861_Rv1862     None   \n",
       "1058            103.0         PE/PPE       PPE9          Rv0388c      494   \n",
       "5103            102.0           None       None    Rv2294_Rv2295     None   \n",
       "\n",
       "     ins_del  INDEL_type codon_pos  \n",
       "7242     ins  frameshift         1  \n",
       "3712     ins  frameshift       348  \n",
       "8104     del  frameshift      None  \n",
       "4213     ins  frameshift       187  \n",
       "6374     ins  frameshift       490  \n",
       "6921     ins  frameshift       267  \n",
       "2663     ins  frameshift      None  \n",
       "7417     ins     inframe       273  \n",
       "225      ins     inframe      None  \n",
       "533      del  frameshift       289  \n",
       "6922     del  frameshift       174  \n",
       "597      ins  frameshift       756  \n",
       "4918     ins  frameshift        32  \n",
       "164      ins     inframe       626  \n",
       "6184     ins     inframe       102  \n",
       "6898     ins  frameshift      None  \n",
       "4991     ins     inframe      None  \n",
       "6867     ins  frameshift      None  \n",
       "4967     ins  frameshift        73  \n",
       "7871     del     inframe       127  \n",
       "1964     ins     inframe       607  \n",
       "2228     del  frameshift        71  \n",
       "2496     del     inframe       356  \n",
       "4716     del  frameshift       108  \n",
       "8627     del  frameshift       117  \n",
       "1749     del  frameshift      None  \n",
       "1698     ins  frameshift         5  \n",
       "1863     ins  frameshift       131  \n",
       "3908     ins  frameshift        85  \n",
       "4748     del  frameshift       104  \n",
       "5679     ins     inframe        58  \n",
       "1995     del  frameshift       436  \n",
       "5403     del  frameshift        87  \n",
       "7362     del  frameshift      None  \n",
       "91       ins  frameshift       211  \n",
       "1991     del  frameshift       439  \n",
       "2001     del  frameshift       436  \n",
       "4139     ins  frameshift      None  \n",
       "1058     ins  frameshift       165  \n",
       "5103     ins  frameshift      None  "
      ]
     },
     "execution_count": 58,
     "metadata": {},
     "output_type": "execute_result"
    }
   ],
   "source": [
    "INDEL_homoplasy_DF.sort_values('homoplasy_score' , ascending = False).head(n = 40)"
   ]
  },
  {
   "cell_type": "markdown",
   "metadata": {},
   "source": [
    "####################################################################################################################################################################################"
   ]
  },
  {
   "cell_type": "markdown",
   "metadata": {},
   "source": [
    "## [2] Run script above for global lineages $\\in \\{1, 2, 3, 4A, 4B, 4C, 5, 6 \\}$ & for Spacer Values $\\in \\{1, 2, 3, 4, 5, 6 \\}$"
   ]
  },
  {
   "cell_type": "markdown",
   "metadata": {},
   "source": [
    "####################################################################################################################################################################################"
   ]
  },
  {
   "cell_type": "code",
   "execution_count": 1,
   "metadata": {},
   "outputs": [],
   "source": [
    "from slurmpy import Slurm\n",
    "import os"
   ]
  },
  {
   "cell_type": "markdown",
   "metadata": {},
   "source": [
    "### Submit jobs to collect homoplasies on phylogeny for each *Global Lineage* and each *Spacer Length*"
   ]
  },
  {
   "cell_type": "code",
   "execution_count": 2,
   "metadata": {},
   "outputs": [
    {
     "name": "stderr",
     "output_type": "stream",
     "text": [
      "submitted: Submitted batch job 17696985\n"
     ]
    },
    {
     "name": "stdout",
     "output_type": "stream",
     "text": [
      "L1_S1_INDEL : 17696985\n"
     ]
    },
    {
     "name": "stderr",
     "output_type": "stream",
     "text": [
      "submitted: Submitted batch job 17696986\n",
      "submitted: Submitted batch job 17696987\n"
     ]
    },
    {
     "name": "stdout",
     "output_type": "stream",
     "text": [
      "L1_S2_INDEL : 17696986\n",
      "L1_S3_INDEL : 17696987\n"
     ]
    },
    {
     "name": "stderr",
     "output_type": "stream",
     "text": [
      "submitted: Submitted batch job 17696988\n",
      "submitted: Submitted batch job 17696989\n",
      "submitted: Submitted batch job 17696990\n",
      "submitted: Submitted batch job 17696991\n"
     ]
    },
    {
     "name": "stdout",
     "output_type": "stream",
     "text": [
      "L1_S4_INDEL : 17696988\n",
      "L1_S5_INDEL : 17696989\n",
      "L1_S6_INDEL : 17696990\n",
      "L2_S1_INDEL : 17696991\n"
     ]
    },
    {
     "name": "stderr",
     "output_type": "stream",
     "text": [
      "submitted: Submitted batch job 17696992\n",
      "submitted: Submitted batch job 17696993\n",
      "submitted: Submitted batch job 17696994\n",
      "submitted: Submitted batch job 17696995\n",
      "submitted: Submitted batch job 17696996\n"
     ]
    },
    {
     "name": "stdout",
     "output_type": "stream",
     "text": [
      "L2_S2_INDEL : 17696992\n",
      "L2_S3_INDEL : 17696993\n",
      "L2_S4_INDEL : 17696994\n",
      "L2_S5_INDEL : 17696995\n",
      "L2_S6_INDEL : 17696996\n"
     ]
    },
    {
     "name": "stderr",
     "output_type": "stream",
     "text": [
      "submitted: Submitted batch job 17696997\n",
      "submitted: Submitted batch job 17696998\n",
      "submitted: Submitted batch job 17696999\n",
      "submitted: Submitted batch job 17697000\n",
      "submitted: Submitted batch job 17697001\n"
     ]
    },
    {
     "name": "stdout",
     "output_type": "stream",
     "text": [
      "L3_S1_INDEL : 17696997\n",
      "L3_S2_INDEL : 17696998\n",
      "L3_S3_INDEL : 17696999\n",
      "L3_S4_INDEL : 17697000\n",
      "L3_S5_INDEL : 17697001\n"
     ]
    },
    {
     "name": "stderr",
     "output_type": "stream",
     "text": [
      "submitted: Submitted batch job 17697002\n",
      "submitted: Submitted batch job 17697003\n",
      "submitted: Submitted batch job 17697004\n"
     ]
    },
    {
     "name": "stdout",
     "output_type": "stream",
     "text": [
      "L3_S6_INDEL : 17697002\n",
      "L4A_S1_INDEL : 17697003\n",
      "L4A_S2_INDEL : 17697004\n"
     ]
    },
    {
     "name": "stderr",
     "output_type": "stream",
     "text": [
      "submitted: Submitted batch job 17697005\n",
      "submitted: Submitted batch job 17697006\n",
      "submitted: Submitted batch job 17697007\n",
      "submitted: Submitted batch job 17697008\n",
      "submitted: Submitted batch job 17697009\n"
     ]
    },
    {
     "name": "stdout",
     "output_type": "stream",
     "text": [
      "L4A_S3_INDEL : 17697005\n",
      "L4A_S4_INDEL : 17697006\n",
      "L4A_S5_INDEL : 17697007\n",
      "L4A_S6_INDEL : 17697008\n",
      "L4B_S1_INDEL : 17697009\n"
     ]
    },
    {
     "name": "stderr",
     "output_type": "stream",
     "text": [
      "submitted: Submitted batch job 17697010\n",
      "submitted: Submitted batch job 17697011\n",
      "submitted: Submitted batch job 17697012\n",
      "submitted: Submitted batch job 17697013\n",
      "submitted: Submitted batch job 17697014\n"
     ]
    },
    {
     "name": "stdout",
     "output_type": "stream",
     "text": [
      "L4B_S2_INDEL : 17697010\n",
      "L4B_S3_INDEL : 17697011\n",
      "L4B_S4_INDEL : 17697012\n",
      "L4B_S5_INDEL : 17697013\n",
      "L4B_S6_INDEL : 17697014\n"
     ]
    },
    {
     "name": "stderr",
     "output_type": "stream",
     "text": [
      "submitted: Submitted batch job 17697015\n",
      "submitted: Submitted batch job 17697016\n",
      "submitted: Submitted batch job 17697017\n",
      "submitted: Submitted batch job 17697018\n"
     ]
    },
    {
     "name": "stdout",
     "output_type": "stream",
     "text": [
      "L4C_S1_INDEL : 17697015\n",
      "L4C_S2_INDEL : 17697016\n",
      "L4C_S3_INDEL : 17697017\n",
      "L4C_S4_INDEL : 17697018\n"
     ]
    },
    {
     "name": "stderr",
     "output_type": "stream",
     "text": [
      "submitted: Submitted batch job 17697019\n",
      "submitted: Submitted batch job 17697020\n",
      "submitted: Submitted batch job 17697021\n",
      "submitted: Submitted batch job 17697022\n"
     ]
    },
    {
     "name": "stdout",
     "output_type": "stream",
     "text": [
      "L4C_S5_INDEL : 17697019\n",
      "L4C_S6_INDEL : 17697020\n",
      "L5_S1_INDEL : 17697021\n",
      "L5_S2_INDEL : 17697022\n"
     ]
    },
    {
     "name": "stderr",
     "output_type": "stream",
     "text": [
      "submitted: Submitted batch job 17697023\n",
      "submitted: Submitted batch job 17697024\n",
      "submitted: Submitted batch job 17697025\n",
      "submitted: Submitted batch job 17697026\n"
     ]
    },
    {
     "name": "stdout",
     "output_type": "stream",
     "text": [
      "L5_S3_INDEL : 17697023\n",
      "L5_S4_INDEL : 17697024\n",
      "L5_S5_INDEL : 17697025\n",
      "L5_S6_INDEL : 17697026\n"
     ]
    },
    {
     "name": "stderr",
     "output_type": "stream",
     "text": [
      "submitted: Submitted batch job 17697027\n",
      "submitted: Submitted batch job 17697028\n",
      "submitted: Submitted batch job 17697029\n",
      "submitted: Submitted batch job 17697030\n",
      "submitted: Submitted batch job 17697031\n"
     ]
    },
    {
     "name": "stdout",
     "output_type": "stream",
     "text": [
      "L6_S1_INDEL : 17697027\n",
      "L6_S2_INDEL : 17697028\n",
      "L6_S3_INDEL : 17697029\n",
      "L6_S4_INDEL : 17697030\n",
      "L6_S5_INDEL : 17697031\n",
      "L6_S6_INDEL : 17697032\n"
     ]
    },
    {
     "name": "stderr",
     "output_type": "stream",
     "text": [
      "submitted: Submitted batch job 17697032\n"
     ]
    }
   ],
   "source": [
    "for global_lineage in ['1' , '2' , '3' , '4A' , '4B' , '4C' , '5' , '6']:\n",
    "\n",
    "    for spacer_length in ['1' , '2' , '3' , '4' , '5' , '6']:\n",
    "\n",
    "        homoplasy_job = 'python /home/rv76/Farhat_Lab/Python_Scripts/homoplasy_project/INDEL_homoplasy_collection.py {0} {1}'.format(global_lineage , spacer_length)\n",
    "\n",
    "        #directory where you want output + error files\n",
    "        os.chdir('/n/data1/hms/dbmi/farhat/Roger/homoplasy_project/CSV_files/homoplasies_detected_in_global_lineages/INDEL homoplasies/homoplasy collection jobs/')\n",
    "\n",
    "        job_name = 'L{0}_S{1}_INDEL'.format(global_lineage , spacer_length)\n",
    "\n",
    "        s = Slurm(job_name , {'partition':'medium' , 'N':'1' , 't':'3-0:00:00' , 'mem':'16G' , 'mail-type':'FAIL' , 'mail-user':'roger_vargas@g.harvard.edu'})\n",
    "\n",
    "        #submits the job\n",
    "        job_id = s.run(homoplasy_job)\n",
    "\n",
    "        print job_name  + ' : ' +  str(job_id)"
   ]
  },
  {
   "cell_type": "code",
   "execution_count": null,
   "metadata": {},
   "outputs": [],
   "source": []
  }
 ],
 "metadata": {
  "kernelspec": {
   "display_name": "Python [conda env:root] *",
   "language": "python",
   "name": "conda-root-py"
  },
  "language_info": {
   "codemirror_mode": {
    "name": "ipython",
    "version": 3
   },
   "file_extension": ".py",
   "mimetype": "text/x-python",
   "name": "python",
   "nbconvert_exporter": "python",
   "pygments_lexer": "ipython3",
   "version": "3.10.9"
  }
 },
 "nbformat": 4,
 "nbformat_minor": 4
}
