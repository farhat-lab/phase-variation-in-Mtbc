{
 "cells": [
  {
   "cell_type": "code",
   "execution_count": 1,
   "metadata": {},
   "outputs": [
    {
     "data": {
      "text/html": [
       "<style>.container { width:100% !important; }<|/style>"
      ],
      "text/plain": [
       "<IPython.core.display.HTML object>"
      ]
     },
     "metadata": {},
     "output_type": "display_data"
    }
   ],
   "source": [
    "from IPython.core.display import display, HTML\n",
    "display(HTML(\"<style>.container { width:100% !important; }<|/style>\"))"
   ]
  },
  {
   "cell_type": "code",
   "execution_count": 2,
   "metadata": {},
   "outputs": [],
   "source": [
    "import os\n",
    "import pandas as pd\n",
    "import numpy as np\n",
    "import matplotlib as mpl\n",
    "import matplotlib.pyplot as plt\n",
    "from matplotlib.patches import Rectangle\n",
    "\n",
    "import Bio\n",
    "from Bio.Alphabet import IUPAC\n",
    "from Bio.Blast.Applications import NcbiblastnCommandline\n",
    "from Bio.Blast import NCBIXML\n",
    "from Bio.Seq import Seq\n",
    "from Bio.SeqRecord import SeqRecord\n",
    "from Bio.SeqFeature import SeqFeature, FeatureLocation\n",
    "from Bio import pairwise2\n",
    "from Bio import SeqIO\n",
    "from Bio.Graphics import GenomeDiagram\n",
    "from Bio.SeqUtils import GC\n",
    "from Bio.Align.Applications import MuscleCommandline\n",
    "from StringIO import StringIO\n",
    "from Bio import AlignIO\n",
    "from Bio.Align import AlignInfo\n",
    "from Bio.Seq import MutableSeq\n",
    "\n",
    "import itertools\n",
    "import sys\n",
    "import re\n",
    "\n",
    "from collections import Counter\n",
    "\n",
    "#for exporting to Adobe Illustrator\n",
    "mpl.rcParams['pdf.fonttype'] = 42\n",
    "mpl.rcParams['ps.fonttype'] = 42"
   ]
  },
  {
   "cell_type": "markdown",
   "metadata": {},
   "source": [
    "####################################################################################################################################################################################"
   ]
  },
  {
   "cell_type": "markdown",
   "metadata": {},
   "source": [
    "## [1] Load reference genome"
   ]
  },
  {
   "cell_type": "markdown",
   "metadata": {},
   "source": [
    "####################################################################################################################################################################################"
   ]
  },
  {
   "cell_type": "code",
   "execution_count": 3,
   "metadata": {},
   "outputs": [],
   "source": [
    "# load reference genome and reference annotation\n",
    "reference_genome = '/home/rv76/Farhat_Lab/Reference_Seqs/H37Rv/h37rv.fasta'\n",
    "for reference_genome in SeqIO.parse(reference_genome, \"fasta\"):\n",
    "    reference_genome.seq.alphabet = IUPAC.unambiguous_dna\n",
    "\n",
    "reference_genome_annotation = pd.read_csv('/n/data1/hms/dbmi/farhat/Roger/inhost_TB_dynamics_project/H37Rv/h37rv_genome_summary.txt', '\\t').set_index('name')\n",
    "\n",
    "# convert H37Rv sequence to a string\n",
    "string = str(reference_genome.seq)"
   ]
  },
  {
   "cell_type": "code",
   "execution_count": 4,
   "metadata": {},
   "outputs": [
    {
     "data": {
      "text/plain": [
       "4411532"
      ]
     },
     "execution_count": 4,
     "metadata": {},
     "output_type": "execute_result"
    }
   ],
   "source": [
    "len(reference_genome.seq)"
   ]
  },
  {
   "cell_type": "markdown",
   "metadata": {},
   "source": [
    "####################################################################################################################################################################################"
   ]
  },
  {
   "cell_type": "markdown",
   "metadata": {},
   "source": [
    "## [2] Find short sequence repeat patterns (2-6bp short sequences with at least 3 repeats) in H37Rv genome "
   ]
  },
  {
   "cell_type": "markdown",
   "metadata": {},
   "source": [
    "####################################################################################################################################################################################"
   ]
  },
  {
   "cell_type": "code",
   "execution_count": 5,
   "metadata": {},
   "outputs": [],
   "source": [
    "# get lists to store columns of what will become dataframe\n",
    "start_index_list = []\n",
    "SSR_motif_list = []\n",
    "num_repeats_list = []\n",
    "end_index_list = []\n",
    "\n",
    "# iterate through different lengths for the simple sequence repeat motifs\n",
    "for SSR_length in [2, 3, 4, 5, 6]:\n",
    "\n",
    "    # get all combinations of bases for the length of this short sequence\n",
    "    seq_combo_tuples = list(itertools.permutations(['A','C','G','T']*(SSR_length-1), SSR_length))\n",
    "    seq_combo_strings = [''.join(x) for x in seq_combo_tuples]\n",
    "    seq_combo_strings = list(set(seq_combo_strings))\n",
    "\n",
    "    # iterate through each short sequence of this length\n",
    "    for SS_i in seq_combo_strings:\n",
    "\n",
    "        num_repeats = 3 # start with 3 repeats & increase\n",
    "\n",
    "        # iterate through number of repeats for this simple sequence and find matches in ref genome\n",
    "        pattern = SS_i*num_repeats\n",
    "        start_indices_match = [match.start() for match in re.finditer(pattern, string)]\n",
    "\n",
    "        # update lists\n",
    "        start_index_list = start_index_list + list( np.array(start_indices_match) + 1 )\n",
    "        SSR_motif_list = SSR_motif_list + [SS_i]*len(start_indices_match)\n",
    "        num_repeats_list = num_repeats_list + [num_repeats]*len(start_indices_match)\n",
    "        end_index_list = end_index_list + list( np.array(start_indices_match) + num_repeats*SSR_length )\n",
    "\n",
    "        # keep increasing number of repeats until we don't find anymore in ref genome\n",
    "        while len(start_indices_match) > 0:\n",
    "            num_repeats += 1\n",
    "\n",
    "            # iterate through number of repeats for this simple sequence and find matches in ref genome\n",
    "            pattern = SS_i*num_repeats\n",
    "            start_indices_match = [match.start() for match in re.finditer(pattern, string)]\n",
    "\n",
    "            # update lists\n",
    "            start_index_list = start_index_list + list( np.array(start_indices_match) + 1 )\n",
    "            SSR_motif_list = SSR_motif_list + [SS_i]*len(start_indices_match)\n",
    "            num_repeats_list = num_repeats_list + [num_repeats]*len(start_indices_match)\n",
    "            end_index_list = end_index_list + list( np.array(start_indices_match) + num_repeats*SSR_length )\n",
    "        \n",
    "# concatenate lists into a DataFrame\n",
    "SSR_H37Rv_df = pd.DataFrame()\n",
    "\n",
    "SSR_H37Rv_df.loc[:,'H37Rv_start'] = start_index_list\n",
    "SSR_H37Rv_df.loc[:,'H37Rv_end'] = end_index_list\n",
    "SSR_H37Rv_df.loc[:,'motif'] = SSR_motif_list\n",
    "SSR_H37Rv_df.loc[:,'repeats'] = num_repeats_list\n",
    "\n",
    "# sort by Ref Pos, then by # repeats, drop duplicates and keep only row with largest num of repeats\n",
    "SSR_H37Rv_df.sort_values(by = ['H37Rv_start','repeats'], ascending = [True,False], inplace = True)\n",
    "SSR_H37Rv_df.drop_duplicates(subset = ['H37Rv_start','motif'], inplace = True, keep = 'first')\n",
    "\n",
    "# reset index\n",
    "SSR_H37Rv_df.reset_index(inplace = True, drop = True)"
   ]
  },
  {
   "cell_type": "code",
   "execution_count": 6,
   "metadata": {},
   "outputs": [
    {
     "data": {
      "text/html": [
       "<div>\n",
       "<style>\n",
       "    .dataframe thead tr:only-child th {\n",
       "        text-align: right;\n",
       "    }\n",
       "\n",
       "    .dataframe thead th {\n",
       "        text-align: left;\n",
       "    }\n",
       "\n",
       "    .dataframe tbody tr th {\n",
       "        vertical-align: top;\n",
       "    }\n",
       "</style>\n",
       "<table border=\"1\" class=\"dataframe\">\n",
       "  <thead>\n",
       "    <tr style=\"text-align: right;\">\n",
       "      <th></th>\n",
       "      <th>H37Rv_start</th>\n",
       "      <th>H37Rv_end</th>\n",
       "      <th>motif</th>\n",
       "      <th>repeats</th>\n",
       "    </tr>\n",
       "  </thead>\n",
       "  <tbody>\n",
       "    <tr>\n",
       "      <th>0</th>\n",
       "      <td>561</td>\n",
       "      <td>569</td>\n",
       "      <td>CGC</td>\n",
       "      <td>3</td>\n",
       "    </tr>\n",
       "    <tr>\n",
       "      <th>1</th>\n",
       "      <td>562</td>\n",
       "      <td>570</td>\n",
       "      <td>GCC</td>\n",
       "      <td>3</td>\n",
       "    </tr>\n",
       "    <tr>\n",
       "      <th>2</th>\n",
       "      <td>643</td>\n",
       "      <td>648</td>\n",
       "      <td>AC</td>\n",
       "      <td>3</td>\n",
       "    </tr>\n",
       "    <tr>\n",
       "      <th>3</th>\n",
       "      <td>1121</td>\n",
       "      <td>1126</td>\n",
       "      <td>GC</td>\n",
       "      <td>3</td>\n",
       "    </tr>\n",
       "    <tr>\n",
       "      <th>4</th>\n",
       "      <td>1408</td>\n",
       "      <td>1413</td>\n",
       "      <td>CA</td>\n",
       "      <td>3</td>\n",
       "    </tr>\n",
       "  </tbody>\n",
       "</table>\n",
       "</div>"
      ],
      "text/plain": [
       "   H37Rv_start  H37Rv_end motif  repeats\n",
       "0          561        569   CGC        3\n",
       "1          562        570   GCC        3\n",
       "2          643        648    AC        3\n",
       "3         1121       1126    GC        3\n",
       "4         1408       1413    CA        3"
      ]
     },
     "execution_count": 6,
     "metadata": {},
     "output_type": "execute_result"
    }
   ],
   "source": [
    "SSR_H37Rv_df.head()"
   ]
  },
  {
   "cell_type": "code",
   "execution_count": 7,
   "metadata": {},
   "outputs": [
    {
     "data": {
      "text/plain": [
       "(18316, 4)"
      ]
     },
     "execution_count": 7,
     "metadata": {},
     "output_type": "execute_result"
    }
   ],
   "source": [
    "np.shape(SSR_H37Rv_df)"
   ]
  },
  {
   "cell_type": "code",
   "execution_count": 8,
   "metadata": {},
   "outputs": [
    {
     "data": {
      "text/plain": [
       "Counter({2: 10989, 3: 7161, 4: 97, 5: 16, 6: 53})"
      ]
     },
     "execution_count": 8,
     "metadata": {},
     "output_type": "execute_result"
    }
   ],
   "source": [
    "# count the number of motifs with >= 3 repeats found in H37Rv of each length: 2, 3, 4 ...\n",
    "Counter(SSR_H37Rv_df.motif.apply(len))"
   ]
  },
  {
   "cell_type": "code",
   "execution_count": 9,
   "metadata": {},
   "outputs": [
    {
     "data": {
      "text/html": [
       "<div>\n",
       "<style>\n",
       "    .dataframe thead tr:only-child th {\n",
       "        text-align: right;\n",
       "    }\n",
       "\n",
       "    .dataframe thead th {\n",
       "        text-align: left;\n",
       "    }\n",
       "\n",
       "    .dataframe tbody tr th {\n",
       "        vertical-align: top;\n",
       "    }\n",
       "</style>\n",
       "<table border=\"1\" class=\"dataframe\">\n",
       "  <thead>\n",
       "    <tr style=\"text-align: right;\">\n",
       "      <th></th>\n",
       "      <th>H37Rv_start</th>\n",
       "      <th>H37Rv_end</th>\n",
       "      <th>motif</th>\n",
       "      <th>repeats</th>\n",
       "    </tr>\n",
       "  </thead>\n",
       "  <tbody>\n",
       "    <tr>\n",
       "      <th>842</th>\n",
       "      <td>215864</td>\n",
       "      <td>215878</td>\n",
       "      <td>TCGGT</td>\n",
       "      <td>3</td>\n",
       "    </tr>\n",
       "    <tr>\n",
       "      <th>4977</th>\n",
       "      <td>1188073</td>\n",
       "      <td>1188087</td>\n",
       "      <td>GCGGC</td>\n",
       "      <td>3</td>\n",
       "    </tr>\n",
       "    <tr>\n",
       "      <th>4978</th>\n",
       "      <td>1188074</td>\n",
       "      <td>1188088</td>\n",
       "      <td>CGGCG</td>\n",
       "      <td>3</td>\n",
       "    </tr>\n",
       "    <tr>\n",
       "      <th>4979</th>\n",
       "      <td>1188075</td>\n",
       "      <td>1188089</td>\n",
       "      <td>GGCGC</td>\n",
       "      <td>3</td>\n",
       "    </tr>\n",
       "    <tr>\n",
       "      <th>4980</th>\n",
       "      <td>1188076</td>\n",
       "      <td>1188090</td>\n",
       "      <td>GCGCG</td>\n",
       "      <td>3</td>\n",
       "    </tr>\n",
       "    <tr>\n",
       "      <th>4981</th>\n",
       "      <td>1188077</td>\n",
       "      <td>1188091</td>\n",
       "      <td>CGCGG</td>\n",
       "      <td>3</td>\n",
       "    </tr>\n",
       "    <tr>\n",
       "      <th>5907</th>\n",
       "      <td>1398960</td>\n",
       "      <td>1398974</td>\n",
       "      <td>CGTCG</td>\n",
       "      <td>3</td>\n",
       "    </tr>\n",
       "    <tr>\n",
       "      <th>7826</th>\n",
       "      <td>1869363</td>\n",
       "      <td>1869377</td>\n",
       "      <td>CGGCG</td>\n",
       "      <td>3</td>\n",
       "    </tr>\n",
       "    <tr>\n",
       "      <th>7827</th>\n",
       "      <td>1869364</td>\n",
       "      <td>1869378</td>\n",
       "      <td>GGCGC</td>\n",
       "      <td>3</td>\n",
       "    </tr>\n",
       "    <tr>\n",
       "      <th>7828</th>\n",
       "      <td>1869365</td>\n",
       "      <td>1869379</td>\n",
       "      <td>GCGCG</td>\n",
       "      <td>3</td>\n",
       "    </tr>\n",
       "    <tr>\n",
       "      <th>8015</th>\n",
       "      <td>1914715</td>\n",
       "      <td>1914729</td>\n",
       "      <td>GGCGC</td>\n",
       "      <td>3</td>\n",
       "    </tr>\n",
       "    <tr>\n",
       "      <th>8494</th>\n",
       "      <td>2038612</td>\n",
       "      <td>2038626</td>\n",
       "      <td>GGCGG</td>\n",
       "      <td>3</td>\n",
       "    </tr>\n",
       "    <tr>\n",
       "      <th>12635</th>\n",
       "      <td>3022140</td>\n",
       "      <td>3022154</td>\n",
       "      <td>CGCCG</td>\n",
       "      <td>3</td>\n",
       "    </tr>\n",
       "    <tr>\n",
       "      <th>13002</th>\n",
       "      <td>3112528</td>\n",
       "      <td>3112542</td>\n",
       "      <td>ACCCG</td>\n",
       "      <td>3</td>\n",
       "    </tr>\n",
       "    <tr>\n",
       "      <th>13003</th>\n",
       "      <td>3112529</td>\n",
       "      <td>3112543</td>\n",
       "      <td>CCCGA</td>\n",
       "      <td>3</td>\n",
       "    </tr>\n",
       "    <tr>\n",
       "      <th>15808</th>\n",
       "      <td>3810470</td>\n",
       "      <td>3810484</td>\n",
       "      <td>CCCGG</td>\n",
       "      <td>3</td>\n",
       "    </tr>\n",
       "  </tbody>\n",
       "</table>\n",
       "</div>"
      ],
      "text/plain": [
       "       H37Rv_start  H37Rv_end  motif  repeats\n",
       "842         215864     215878  TCGGT        3\n",
       "4977       1188073    1188087  GCGGC        3\n",
       "4978       1188074    1188088  CGGCG        3\n",
       "4979       1188075    1188089  GGCGC        3\n",
       "4980       1188076    1188090  GCGCG        3\n",
       "4981       1188077    1188091  CGCGG        3\n",
       "5907       1398960    1398974  CGTCG        3\n",
       "7826       1869363    1869377  CGGCG        3\n",
       "7827       1869364    1869378  GGCGC        3\n",
       "7828       1869365    1869379  GCGCG        3\n",
       "8015       1914715    1914729  GGCGC        3\n",
       "8494       2038612    2038626  GGCGG        3\n",
       "12635      3022140    3022154  CGCCG        3\n",
       "13002      3112528    3112542  ACCCG        3\n",
       "13003      3112529    3112543  CCCGA        3\n",
       "15808      3810470    3810484  CCCGG        3"
      ]
     },
     "execution_count": 9,
     "metadata": {},
     "output_type": "execute_result"
    }
   ],
   "source": [
    "SSR_H37Rv_df[SSR_H37Rv_df.motif.apply(len) == 5]"
   ]
  },
  {
   "cell_type": "markdown",
   "metadata": {},
   "source": [
    "#### save dataframe for downstream analysis"
   ]
  },
  {
   "cell_type": "code",
   "execution_count": 10,
   "metadata": {},
   "outputs": [],
   "source": [
    "SSR_H37Rv_df.to_pickle('/n/data1/hms/dbmi/farhat/Roger/homoplasy_project/CSV_files/simple_sequence_repeat_regions/SSR_H37Rv_2-6bp_at_least_3_repeats.pkl')"
   ]
  },
  {
   "cell_type": "markdown",
   "metadata": {},
   "source": [
    "####################################################################################################################################################################################"
   ]
  },
  {
   "cell_type": "markdown",
   "metadata": {},
   "source": [
    "## [3] Analyze coverage of the H37Rv genome "
   ]
  },
  {
   "cell_type": "markdown",
   "metadata": {},
   "source": [
    "####################################################################################################################################################################################"
   ]
  },
  {
   "cell_type": "code",
   "execution_count": 11,
   "metadata": {},
   "outputs": [],
   "source": [
    "SSR_H37Rv_df = pd.read_pickle('/n/data1/hms/dbmi/farhat/Roger/homoplasy_project/CSV_files/simple_sequence_repeat_regions/SSR_H37Rv_2-6bp_at_least_3_repeats.pkl')"
   ]
  },
  {
   "cell_type": "code",
   "execution_count": 12,
   "metadata": {
    "scrolled": true
   },
   "outputs": [
    {
     "data": {
      "text/html": [
       "<div>\n",
       "<style>\n",
       "    .dataframe thead tr:only-child th {\n",
       "        text-align: right;\n",
       "    }\n",
       "\n",
       "    .dataframe thead th {\n",
       "        text-align: left;\n",
       "    }\n",
       "\n",
       "    .dataframe tbody tr th {\n",
       "        vertical-align: top;\n",
       "    }\n",
       "</style>\n",
       "<table border=\"1\" class=\"dataframe\">\n",
       "  <thead>\n",
       "    <tr style=\"text-align: right;\">\n",
       "      <th></th>\n",
       "      <th>H37Rv_start</th>\n",
       "      <th>H37Rv_end</th>\n",
       "      <th>motif</th>\n",
       "      <th>repeats</th>\n",
       "    </tr>\n",
       "  </thead>\n",
       "  <tbody>\n",
       "    <tr>\n",
       "      <th>0</th>\n",
       "      <td>561</td>\n",
       "      <td>569</td>\n",
       "      <td>CGC</td>\n",
       "      <td>3</td>\n",
       "    </tr>\n",
       "    <tr>\n",
       "      <th>1</th>\n",
       "      <td>562</td>\n",
       "      <td>570</td>\n",
       "      <td>GCC</td>\n",
       "      <td>3</td>\n",
       "    </tr>\n",
       "    <tr>\n",
       "      <th>2</th>\n",
       "      <td>643</td>\n",
       "      <td>648</td>\n",
       "      <td>AC</td>\n",
       "      <td>3</td>\n",
       "    </tr>\n",
       "    <tr>\n",
       "      <th>3</th>\n",
       "      <td>1121</td>\n",
       "      <td>1126</td>\n",
       "      <td>GC</td>\n",
       "      <td>3</td>\n",
       "    </tr>\n",
       "    <tr>\n",
       "      <th>4</th>\n",
       "      <td>1408</td>\n",
       "      <td>1413</td>\n",
       "      <td>CA</td>\n",
       "      <td>3</td>\n",
       "    </tr>\n",
       "  </tbody>\n",
       "</table>\n",
       "</div>"
      ],
      "text/plain": [
       "   H37Rv_start  H37Rv_end motif  repeats\n",
       "0          561        569   CGC        3\n",
       "1          562        570   GCC        3\n",
       "2          643        648    AC        3\n",
       "3         1121       1126    GC        3\n",
       "4         1408       1413    CA        3"
      ]
     },
     "execution_count": 12,
     "metadata": {},
     "output_type": "execute_result"
    }
   ],
   "source": [
    "SSR_H37Rv_df.head()"
   ]
  },
  {
   "cell_type": "code",
   "execution_count": 13,
   "metadata": {},
   "outputs": [],
   "source": [
    "H37Rv_SSR_positions_list = []\n",
    "for SSR_i_start, SSR_i_end in zip(SSR_H37Rv_df.H37Rv_start, SSR_H37Rv_df.H37Rv_end):\n",
    "    \n",
    "    SSR_i_H37Rv_coords = list(np.arange(SSR_i_start, SSR_i_end + 1))\n",
    "    \n",
    "    H37Rv_SSR_positions_list = H37Rv_SSR_positions_list + SSR_i_H37Rv_coords\n",
    "    \n",
    "H37Rv_SSR_positions_list = list(set(H37Rv_SSR_positions_list)) # remove duplicate positions from overlapping SSR regions"
   ]
  },
  {
   "cell_type": "markdown",
   "metadata": {},
   "source": [
    "**Note:** use this number when describing how much of the genome is covered by SSR regions"
   ]
  },
  {
   "cell_type": "code",
   "execution_count": 14,
   "metadata": {},
   "outputs": [
    {
     "data": {
      "text/plain": [
       "99665"
      ]
     },
     "execution_count": 14,
     "metadata": {},
     "output_type": "execute_result"
    }
   ],
   "source": [
    "len(H37Rv_SSR_positions_list)"
   ]
  },
  {
   "cell_type": "code",
   "execution_count": 15,
   "metadata": {},
   "outputs": [
    {
     "data": {
      "text/plain": [
       "2.259192498206972"
      ]
     },
     "execution_count": 15,
     "metadata": {},
     "output_type": "execute_result"
    }
   ],
   "source": [
    "100.0 * (float(len(H37Rv_SSR_positions_list)) / float(len(reference_genome.seq)))"
   ]
  },
  {
   "cell_type": "markdown",
   "metadata": {},
   "source": [
    "### Start at -1bp relative to the SSR track since that's where variants are usually called"
   ]
  },
  {
   "cell_type": "code",
   "execution_count": 16,
   "metadata": {},
   "outputs": [],
   "source": [
    "SSR_H37Rv_df.loc[:, 'H37Rv_start'] = SSR_H37Rv_df.H37Rv_start - 1"
   ]
  },
  {
   "cell_type": "code",
   "execution_count": 17,
   "metadata": {},
   "outputs": [
    {
     "data": {
      "text/html": [
       "<div>\n",
       "<style>\n",
       "    .dataframe thead tr:only-child th {\n",
       "        text-align: right;\n",
       "    }\n",
       "\n",
       "    .dataframe thead th {\n",
       "        text-align: left;\n",
       "    }\n",
       "\n",
       "    .dataframe tbody tr th {\n",
       "        vertical-align: top;\n",
       "    }\n",
       "</style>\n",
       "<table border=\"1\" class=\"dataframe\">\n",
       "  <thead>\n",
       "    <tr style=\"text-align: right;\">\n",
       "      <th></th>\n",
       "      <th>H37Rv_start</th>\n",
       "      <th>H37Rv_end</th>\n",
       "      <th>motif</th>\n",
       "      <th>repeats</th>\n",
       "    </tr>\n",
       "  </thead>\n",
       "  <tbody>\n",
       "    <tr>\n",
       "      <th>0</th>\n",
       "      <td>560</td>\n",
       "      <td>569</td>\n",
       "      <td>CGC</td>\n",
       "      <td>3</td>\n",
       "    </tr>\n",
       "    <tr>\n",
       "      <th>1</th>\n",
       "      <td>561</td>\n",
       "      <td>570</td>\n",
       "      <td>GCC</td>\n",
       "      <td>3</td>\n",
       "    </tr>\n",
       "    <tr>\n",
       "      <th>2</th>\n",
       "      <td>642</td>\n",
       "      <td>648</td>\n",
       "      <td>AC</td>\n",
       "      <td>3</td>\n",
       "    </tr>\n",
       "    <tr>\n",
       "      <th>3</th>\n",
       "      <td>1120</td>\n",
       "      <td>1126</td>\n",
       "      <td>GC</td>\n",
       "      <td>3</td>\n",
       "    </tr>\n",
       "    <tr>\n",
       "      <th>4</th>\n",
       "      <td>1407</td>\n",
       "      <td>1413</td>\n",
       "      <td>CA</td>\n",
       "      <td>3</td>\n",
       "    </tr>\n",
       "  </tbody>\n",
       "</table>\n",
       "</div>"
      ],
      "text/plain": [
       "   H37Rv_start  H37Rv_end motif  repeats\n",
       "0          560        569   CGC        3\n",
       "1          561        570   GCC        3\n",
       "2          642        648    AC        3\n",
       "3         1120       1126    GC        3\n",
       "4         1407       1413    CA        3"
      ]
     },
     "execution_count": 17,
     "metadata": {},
     "output_type": "execute_result"
    }
   ],
   "source": [
    "SSR_H37Rv_df.head()"
   ]
  },
  {
   "cell_type": "markdown",
   "metadata": {},
   "source": [
    "#### save dataframe as excel sheet for publication"
   ]
  },
  {
   "cell_type": "code",
   "execution_count": 18,
   "metadata": {},
   "outputs": [],
   "source": [
    "SSR_H37Rv_df.to_excel('/n/data1/hms/dbmi/farhat/Roger/homoplasy_project/CSV_files/simple_sequence_repeat_regions/SSR_H37Rv_2-6bp_at_least_3_repeats.xlsx')"
   ]
  },
  {
   "cell_type": "markdown",
   "metadata": {},
   "source": [
    "**Note:** use this list when sorting INDEL variants that occur within an SSR region"
   ]
  },
  {
   "cell_type": "code",
   "execution_count": 19,
   "metadata": {},
   "outputs": [],
   "source": [
    "H37Rv_SSR_positions_list = []\n",
    "for SSR_i_start, SSR_i_end in zip(SSR_H37Rv_df.H37Rv_start, SSR_H37Rv_df.H37Rv_end):\n",
    "    \n",
    "    SSR_i_H37Rv_coords = list(np.arange(SSR_i_start, SSR_i_end + 1))\n",
    "    \n",
    "    H37Rv_SSR_positions_list = H37Rv_SSR_positions_list + SSR_i_H37Rv_coords\n",
    "    \n",
    "H37Rv_SSR_positions_list = list(set(H37Rv_SSR_positions_list)) # remove duplicate positions from overlapping SSR regions"
   ]
  },
  {
   "cell_type": "code",
   "execution_count": 20,
   "metadata": {},
   "outputs": [
    {
     "data": {
      "text/plain": [
       "112673"
      ]
     },
     "execution_count": 20,
     "metadata": {},
     "output_type": "execute_result"
    }
   ],
   "source": [
    "len(H37Rv_SSR_positions_list)"
   ]
  },
  {
   "cell_type": "markdown",
   "metadata": {},
   "source": [
    "####################################################################################################################################################################################"
   ]
  },
  {
   "cell_type": "markdown",
   "metadata": {},
   "source": [
    "## [4] Load in Homoplasy Scores from *TopDis (spacer length = 4)* for INDELs"
   ]
  },
  {
   "cell_type": "markdown",
   "metadata": {},
   "source": [
    "####################################################################################################################################################################################"
   ]
  },
  {
   "cell_type": "code",
   "execution_count": 21,
   "metadata": {},
   "outputs": [],
   "source": [
    "#load in INDELs\n",
    "all_homoplasic_INDELs = pd.read_pickle('/n/data1/hms/dbmi/farhat/Roger/homoplasy_project/CSV_files/homoplasies_detected_in_global_lineages/INDEL homoplasies/homoplasy_count_across_lineages_spacer_4.pkl')"
   ]
  },
  {
   "cell_type": "code",
   "execution_count": 22,
   "metadata": {},
   "outputs": [
    {
     "data": {
      "text/html": [
       "<div>\n",
       "<style>\n",
       "    .dataframe thead tr:only-child th {\n",
       "        text-align: right;\n",
       "    }\n",
       "\n",
       "    .dataframe thead th {\n",
       "        text-align: left;\n",
       "    }\n",
       "\n",
       "    .dataframe tbody tr th {\n",
       "        vertical-align: top;\n",
       "    }\n",
       "</style>\n",
       "<table border=\"1\" class=\"dataframe\">\n",
       "  <thead>\n",
       "    <tr style=\"text-align: right;\">\n",
       "      <th></th>\n",
       "      <th>pos</th>\n",
       "      <th>ref</th>\n",
       "      <th>alt</th>\n",
       "      <th>gene_category</th>\n",
       "      <th>gene_name</th>\n",
       "      <th>gene_id</th>\n",
       "      <th>gene_pos</th>\n",
       "      <th>ins_del</th>\n",
       "      <th>INDEL_type</th>\n",
       "      <th>codon_pos</th>\n",
       "      <th>...</th>\n",
       "      <th>1</th>\n",
       "      <th>2</th>\n",
       "      <th>3</th>\n",
       "      <th>4A</th>\n",
       "      <th>4B</th>\n",
       "      <th>4C</th>\n",
       "      <th>5</th>\n",
       "      <th>6</th>\n",
       "      <th>total</th>\n",
       "      <th>num_isolates</th>\n",
       "    </tr>\n",
       "  </thead>\n",
       "  <tbody>\n",
       "    <tr>\n",
       "      <th>47371</th>\n",
       "      <td>4408100</td>\n",
       "      <td>GC</td>\n",
       "      <td>G</td>\n",
       "      <td>Antibiotic Resistance</td>\n",
       "      <td>gid</td>\n",
       "      <td>Rv3919c</td>\n",
       "      <td>103</td>\n",
       "      <td>del</td>\n",
       "      <td>frameshift</td>\n",
       "      <td>35</td>\n",
       "      <td>...</td>\n",
       "      <td>41.0</td>\n",
       "      <td>27.0</td>\n",
       "      <td>51.0</td>\n",
       "      <td>43.0</td>\n",
       "      <td>11.0</td>\n",
       "      <td>29.0</td>\n",
       "      <td>0.0</td>\n",
       "      <td>0.0</td>\n",
       "      <td>202.0</td>\n",
       "      <td>388</td>\n",
       "    </tr>\n",
       "    <tr>\n",
       "      <th>47365</th>\n",
       "      <td>4408087</td>\n",
       "      <td>CG</td>\n",
       "      <td>C</td>\n",
       "      <td>Antibiotic Resistance</td>\n",
       "      <td>gid</td>\n",
       "      <td>Rv3919c</td>\n",
       "      <td>116</td>\n",
       "      <td>del</td>\n",
       "      <td>frameshift</td>\n",
       "      <td>39</td>\n",
       "      <td>...</td>\n",
       "      <td>23.0</td>\n",
       "      <td>11.0</td>\n",
       "      <td>35.0</td>\n",
       "      <td>33.0</td>\n",
       "      <td>10.0</td>\n",
       "      <td>18.0</td>\n",
       "      <td>0.0</td>\n",
       "      <td>0.0</td>\n",
       "      <td>130.0</td>\n",
       "      <td>212</td>\n",
       "    </tr>\n",
       "    <tr>\n",
       "      <th>47313</th>\n",
       "      <td>4407851</td>\n",
       "      <td>GC</td>\n",
       "      <td>G</td>\n",
       "      <td>Antibiotic Resistance</td>\n",
       "      <td>gid</td>\n",
       "      <td>Rv3919c</td>\n",
       "      <td>352</td>\n",
       "      <td>del</td>\n",
       "      <td>frameshift</td>\n",
       "      <td>118</td>\n",
       "      <td>...</td>\n",
       "      <td>21.0</td>\n",
       "      <td>9.0</td>\n",
       "      <td>40.0</td>\n",
       "      <td>20.0</td>\n",
       "      <td>6.0</td>\n",
       "      <td>19.0</td>\n",
       "      <td>0.0</td>\n",
       "      <td>0.0</td>\n",
       "      <td>115.0</td>\n",
       "      <td>182</td>\n",
       "    </tr>\n",
       "    <tr>\n",
       "      <th>25151</th>\n",
       "      <td>2288850</td>\n",
       "      <td>A</td>\n",
       "      <td>ACC</td>\n",
       "      <td>Antibiotic Resistance</td>\n",
       "      <td>pncA</td>\n",
       "      <td>Rv2043c</td>\n",
       "      <td>392</td>\n",
       "      <td>ins</td>\n",
       "      <td>frameshift</td>\n",
       "      <td>131</td>\n",
       "      <td>...</td>\n",
       "      <td>1.0</td>\n",
       "      <td>14.0</td>\n",
       "      <td>6.0</td>\n",
       "      <td>3.0</td>\n",
       "      <td>6.0</td>\n",
       "      <td>2.0</td>\n",
       "      <td>0.0</td>\n",
       "      <td>0.0</td>\n",
       "      <td>32.0</td>\n",
       "      <td>48</td>\n",
       "    </tr>\n",
       "    <tr>\n",
       "      <th>47315</th>\n",
       "      <td>4407851</td>\n",
       "      <td>G</td>\n",
       "      <td>GC</td>\n",
       "      <td>Antibiotic Resistance</td>\n",
       "      <td>gid</td>\n",
       "      <td>Rv3919c</td>\n",
       "      <td>352</td>\n",
       "      <td>ins</td>\n",
       "      <td>frameshift</td>\n",
       "      <td>118</td>\n",
       "      <td>...</td>\n",
       "      <td>5.0</td>\n",
       "      <td>1.0</td>\n",
       "      <td>12.0</td>\n",
       "      <td>5.0</td>\n",
       "      <td>7.0</td>\n",
       "      <td>1.0</td>\n",
       "      <td>0.0</td>\n",
       "      <td>0.0</td>\n",
       "      <td>31.0</td>\n",
       "      <td>52</td>\n",
       "    </tr>\n",
       "  </tbody>\n",
       "</table>\n",
       "<p>5 rows × 22 columns</p>\n",
       "</div>"
      ],
      "text/plain": [
       "           pos ref  alt          gene_category gene_name  gene_id gene_pos  \\\n",
       "47371  4408100  GC    G  Antibiotic Resistance       gid  Rv3919c      103   \n",
       "47365  4408087  CG    C  Antibiotic Resistance       gid  Rv3919c      116   \n",
       "47313  4407851  GC    G  Antibiotic Resistance       gid  Rv3919c      352   \n",
       "25151  2288850   A  ACC  Antibiotic Resistance      pncA  Rv2043c      392   \n",
       "47315  4407851   G   GC  Antibiotic Resistance       gid  Rv3919c      352   \n",
       "\n",
       "      ins_del  INDEL_type codon_pos      ...          1     2     3    4A  \\\n",
       "47371     del  frameshift        35      ...       41.0  27.0  51.0  43.0   \n",
       "47365     del  frameshift        39      ...       23.0  11.0  35.0  33.0   \n",
       "47313     del  frameshift       118      ...       21.0   9.0  40.0  20.0   \n",
       "25151     ins  frameshift       131      ...        1.0  14.0   6.0   3.0   \n",
       "47315     ins  frameshift       118      ...        5.0   1.0  12.0   5.0   \n",
       "\n",
       "         4B    4C    5    6  total  num_isolates  \n",
       "47371  11.0  29.0  0.0  0.0  202.0           388  \n",
       "47365  10.0  18.0  0.0  0.0  130.0           212  \n",
       "47313   6.0  19.0  0.0  0.0  115.0           182  \n",
       "25151   6.0   2.0  0.0  0.0   32.0            48  \n",
       "47315   7.0   1.0  0.0  0.0   31.0            52  \n",
       "\n",
       "[5 rows x 22 columns]"
      ]
     },
     "execution_count": 22,
     "metadata": {},
     "output_type": "execute_result"
    }
   ],
   "source": [
    "all_homoplasic_INDELs.head()"
   ]
  },
  {
   "cell_type": "code",
   "execution_count": 23,
   "metadata": {},
   "outputs": [
    {
     "data": {
      "text/plain": [
       "(46306, 22)"
      ]
     },
     "execution_count": 23,
     "metadata": {},
     "output_type": "execute_result"
    }
   ],
   "source": [
    "np.shape(all_homoplasic_INDELs)"
   ]
  },
  {
   "cell_type": "markdown",
   "metadata": {},
   "source": [
    "Note - SNPs & INDELs with homoplasy score $ = 0$ were dropped from DataFrames"
   ]
  },
  {
   "cell_type": "markdown",
   "metadata": {},
   "source": [
    "####################################################################################################################################################################################"
   ]
  },
  {
   "cell_type": "markdown",
   "metadata": {},
   "source": [
    "## [5] Separate INDELs into those occcurring in HT regions, SSR regions and those not in either"
   ]
  },
  {
   "cell_type": "markdown",
   "metadata": {},
   "source": [
    "####################################################################################################################################################################################"
   ]
  },
  {
   "cell_type": "markdown",
   "metadata": {},
   "source": [
    "### HT"
   ]
  },
  {
   "cell_type": "code",
   "execution_count": 24,
   "metadata": {},
   "outputs": [],
   "source": [
    "homopolymeric_regions_from_Luca = pd.read_csv('/n/data1/hms/dbmi/farhat/Roger/homoplasy_project/CSV_files/comparison_with_homopolymeric_regions/homopolymer regions from Luca/list_homopolymers_7bpmore_pure.csv')"
   ]
  },
  {
   "cell_type": "markdown",
   "metadata": {},
   "source": [
    "create a set of all Reference Positions that occur within a Homopolymeric Tract"
   ]
  },
  {
   "cell_type": "code",
   "execution_count": 25,
   "metadata": {},
   "outputs": [],
   "source": [
    "all_HT_ref_postions = []\n",
    "for HT_i_start, HT_i_end in zip(homopolymeric_regions_from_Luca.chromStart, homopolymeric_regions_from_Luca.chromEnd):\n",
    "    \n",
    "    HT_i_ref_positions = range(HT_i_start, HT_i_end+1)\n",
    "    all_HT_ref_postions = all_HT_ref_postions + HT_i_ref_positions\n",
    "    \n",
    "all_HT_ref_postions = set(all_HT_ref_postions)"
   ]
  },
  {
   "cell_type": "code",
   "execution_count": 26,
   "metadata": {},
   "outputs": [
    {
     "data": {
      "text/plain": [
       "1160"
      ]
     },
     "execution_count": 26,
     "metadata": {},
     "output_type": "execute_result"
    }
   ],
   "source": [
    "len(all_HT_ref_postions)"
   ]
  },
  {
   "cell_type": "markdown",
   "metadata": {},
   "source": [
    "### SSR"
   ]
  },
  {
   "cell_type": "markdown",
   "metadata": {},
   "source": [
    "set of all Reference Positions that occur within a SSR region (including positions at -1bp relative to SSR region)"
   ]
  },
  {
   "cell_type": "code",
   "execution_count": 27,
   "metadata": {},
   "outputs": [],
   "source": [
    "H37Rv_SSR_positions = set(H37Rv_SSR_positions_list)"
   ]
  },
  {
   "cell_type": "code",
   "execution_count": 28,
   "metadata": {},
   "outputs": [
    {
     "data": {
      "text/plain": [
       "112673"
      ]
     },
     "execution_count": 28,
     "metadata": {},
     "output_type": "execute_result"
    }
   ],
   "source": [
    "len(H37Rv_SSR_positions)"
   ]
  },
  {
   "cell_type": "markdown",
   "metadata": {},
   "source": [
    "### Annotate each INDEL based on whether it is in a SSR or HT or other"
   ]
  },
  {
   "cell_type": "markdown",
   "metadata": {},
   "source": [
    "iterate through all INDELs and figure out which occur in SSR and those that don't"
   ]
  },
  {
   "cell_type": "code",
   "execution_count": 29,
   "metadata": {},
   "outputs": [],
   "source": [
    "SSR_region_list = []\n",
    "for indel_i_pos in all_homoplasic_INDELs.pos:\n",
    "    \n",
    "    if indel_i_pos in all_HT_ref_postions:\n",
    "        SSR_region_list.append('HT')\n",
    "    \n",
    "    elif indel_i_pos in H37Rv_SSR_positions:\n",
    "        SSR_region_list.append('yes')\n",
    "        \n",
    "    else:\n",
    "        SSR_region_list.append('other')\n",
    "        \n",
    "all_homoplasic_INDELs.loc[:,'SSR_region'] = SSR_region_list"
   ]
  },
  {
   "cell_type": "code",
   "execution_count": 30,
   "metadata": {},
   "outputs": [
    {
     "data": {
      "text/html": [
       "<div>\n",
       "<style>\n",
       "    .dataframe thead tr:only-child th {\n",
       "        text-align: right;\n",
       "    }\n",
       "\n",
       "    .dataframe thead th {\n",
       "        text-align: left;\n",
       "    }\n",
       "\n",
       "    .dataframe tbody tr th {\n",
       "        vertical-align: top;\n",
       "    }\n",
       "</style>\n",
       "<table border=\"1\" class=\"dataframe\">\n",
       "  <thead>\n",
       "    <tr style=\"text-align: right;\">\n",
       "      <th></th>\n",
       "      <th>pos</th>\n",
       "      <th>ref</th>\n",
       "      <th>alt</th>\n",
       "      <th>gene_category</th>\n",
       "      <th>gene_name</th>\n",
       "      <th>gene_id</th>\n",
       "      <th>gene_pos</th>\n",
       "      <th>ins_del</th>\n",
       "      <th>INDEL_type</th>\n",
       "      <th>codon_pos</th>\n",
       "      <th>...</th>\n",
       "      <th>2</th>\n",
       "      <th>3</th>\n",
       "      <th>4A</th>\n",
       "      <th>4B</th>\n",
       "      <th>4C</th>\n",
       "      <th>5</th>\n",
       "      <th>6</th>\n",
       "      <th>total</th>\n",
       "      <th>num_isolates</th>\n",
       "      <th>SSR_region</th>\n",
       "    </tr>\n",
       "  </thead>\n",
       "  <tbody>\n",
       "    <tr>\n",
       "      <th>47371</th>\n",
       "      <td>4408100</td>\n",
       "      <td>GC</td>\n",
       "      <td>G</td>\n",
       "      <td>Antibiotic Resistance</td>\n",
       "      <td>gid</td>\n",
       "      <td>Rv3919c</td>\n",
       "      <td>103</td>\n",
       "      <td>del</td>\n",
       "      <td>frameshift</td>\n",
       "      <td>35</td>\n",
       "      <td>...</td>\n",
       "      <td>27.0</td>\n",
       "      <td>51.0</td>\n",
       "      <td>43.0</td>\n",
       "      <td>11.0</td>\n",
       "      <td>29.0</td>\n",
       "      <td>0.0</td>\n",
       "      <td>0.0</td>\n",
       "      <td>202.0</td>\n",
       "      <td>388</td>\n",
       "      <td>other</td>\n",
       "    </tr>\n",
       "    <tr>\n",
       "      <th>47365</th>\n",
       "      <td>4408087</td>\n",
       "      <td>CG</td>\n",
       "      <td>C</td>\n",
       "      <td>Antibiotic Resistance</td>\n",
       "      <td>gid</td>\n",
       "      <td>Rv3919c</td>\n",
       "      <td>116</td>\n",
       "      <td>del</td>\n",
       "      <td>frameshift</td>\n",
       "      <td>39</td>\n",
       "      <td>...</td>\n",
       "      <td>11.0</td>\n",
       "      <td>35.0</td>\n",
       "      <td>33.0</td>\n",
       "      <td>10.0</td>\n",
       "      <td>18.0</td>\n",
       "      <td>0.0</td>\n",
       "      <td>0.0</td>\n",
       "      <td>130.0</td>\n",
       "      <td>212</td>\n",
       "      <td>other</td>\n",
       "    </tr>\n",
       "    <tr>\n",
       "      <th>47313</th>\n",
       "      <td>4407851</td>\n",
       "      <td>GC</td>\n",
       "      <td>G</td>\n",
       "      <td>Antibiotic Resistance</td>\n",
       "      <td>gid</td>\n",
       "      <td>Rv3919c</td>\n",
       "      <td>352</td>\n",
       "      <td>del</td>\n",
       "      <td>frameshift</td>\n",
       "      <td>118</td>\n",
       "      <td>...</td>\n",
       "      <td>9.0</td>\n",
       "      <td>40.0</td>\n",
       "      <td>20.0</td>\n",
       "      <td>6.0</td>\n",
       "      <td>19.0</td>\n",
       "      <td>0.0</td>\n",
       "      <td>0.0</td>\n",
       "      <td>115.0</td>\n",
       "      <td>182</td>\n",
       "      <td>yes</td>\n",
       "    </tr>\n",
       "    <tr>\n",
       "      <th>25151</th>\n",
       "      <td>2288850</td>\n",
       "      <td>A</td>\n",
       "      <td>ACC</td>\n",
       "      <td>Antibiotic Resistance</td>\n",
       "      <td>pncA</td>\n",
       "      <td>Rv2043c</td>\n",
       "      <td>392</td>\n",
       "      <td>ins</td>\n",
       "      <td>frameshift</td>\n",
       "      <td>131</td>\n",
       "      <td>...</td>\n",
       "      <td>14.0</td>\n",
       "      <td>6.0</td>\n",
       "      <td>3.0</td>\n",
       "      <td>6.0</td>\n",
       "      <td>2.0</td>\n",
       "      <td>0.0</td>\n",
       "      <td>0.0</td>\n",
       "      <td>32.0</td>\n",
       "      <td>48</td>\n",
       "      <td>other</td>\n",
       "    </tr>\n",
       "    <tr>\n",
       "      <th>47315</th>\n",
       "      <td>4407851</td>\n",
       "      <td>G</td>\n",
       "      <td>GC</td>\n",
       "      <td>Antibiotic Resistance</td>\n",
       "      <td>gid</td>\n",
       "      <td>Rv3919c</td>\n",
       "      <td>352</td>\n",
       "      <td>ins</td>\n",
       "      <td>frameshift</td>\n",
       "      <td>118</td>\n",
       "      <td>...</td>\n",
       "      <td>1.0</td>\n",
       "      <td>12.0</td>\n",
       "      <td>5.0</td>\n",
       "      <td>7.0</td>\n",
       "      <td>1.0</td>\n",
       "      <td>0.0</td>\n",
       "      <td>0.0</td>\n",
       "      <td>31.0</td>\n",
       "      <td>52</td>\n",
       "      <td>yes</td>\n",
       "    </tr>\n",
       "  </tbody>\n",
       "</table>\n",
       "<p>5 rows × 23 columns</p>\n",
       "</div>"
      ],
      "text/plain": [
       "           pos ref  alt          gene_category gene_name  gene_id gene_pos  \\\n",
       "47371  4408100  GC    G  Antibiotic Resistance       gid  Rv3919c      103   \n",
       "47365  4408087  CG    C  Antibiotic Resistance       gid  Rv3919c      116   \n",
       "47313  4407851  GC    G  Antibiotic Resistance       gid  Rv3919c      352   \n",
       "25151  2288850   A  ACC  Antibiotic Resistance      pncA  Rv2043c      392   \n",
       "47315  4407851   G   GC  Antibiotic Resistance       gid  Rv3919c      352   \n",
       "\n",
       "      ins_del  INDEL_type codon_pos     ...         2     3    4A    4B    4C  \\\n",
       "47371     del  frameshift        35     ...      27.0  51.0  43.0  11.0  29.0   \n",
       "47365     del  frameshift        39     ...      11.0  35.0  33.0  10.0  18.0   \n",
       "47313     del  frameshift       118     ...       9.0  40.0  20.0   6.0  19.0   \n",
       "25151     ins  frameshift       131     ...      14.0   6.0   3.0   6.0   2.0   \n",
       "47315     ins  frameshift       118     ...       1.0  12.0   5.0   7.0   1.0   \n",
       "\n",
       "         5    6  total  num_isolates  SSR_region  \n",
       "47371  0.0  0.0  202.0           388       other  \n",
       "47365  0.0  0.0  130.0           212       other  \n",
       "47313  0.0  0.0  115.0           182         yes  \n",
       "25151  0.0  0.0   32.0            48       other  \n",
       "47315  0.0  0.0   31.0            52         yes  \n",
       "\n",
       "[5 rows x 23 columns]"
      ]
     },
     "execution_count": 30,
     "metadata": {},
     "output_type": "execute_result"
    }
   ],
   "source": [
    "all_homoplasic_INDELs.head()"
   ]
  },
  {
   "cell_type": "markdown",
   "metadata": {},
   "source": [
    "####################################################################################################################################################################################"
   ]
  },
  {
   "cell_type": "markdown",
   "metadata": {},
   "source": [
    "## [6] Breakdown of INDELs by SSR region and type"
   ]
  },
  {
   "cell_type": "markdown",
   "metadata": {},
   "source": [
    "####################################################################################################################################################################################"
   ]
  },
  {
   "cell_type": "code",
   "execution_count": 31,
   "metadata": {},
   "outputs": [],
   "source": [
    "def get_homoplastic_INDEL_breakdown_stats(all_homoplasic_INDELs):\n",
    "    \n",
    "    print('(A1) INDELs in ncRNA')\n",
    "    print(str(np.shape(all_homoplasic_INDELs[all_homoplasic_INDELs.stop_codon == 'RNA'])[0]))\n",
    "    print(str(float(sum(all_homoplasic_INDELs[all_homoplasic_INDELs.stop_codon == 'RNA'].total >= 2)) / float(np.shape(all_homoplasic_INDELs[all_homoplasic_INDELs.stop_codon == 'RNA'])[0])))\n",
    "    print('')\n",
    "\n",
    "    print('(A2) INDELs in intergenic')\n",
    "    print(str(np.shape(all_homoplasic_INDELs[all_homoplasic_INDELs.stop_codon == 'intergenic'])[0]))\n",
    "    print(str(float(sum(all_homoplasic_INDELs[all_homoplasic_INDELs.stop_codon == 'intergenic'].total >= 2)) / float(np.shape(all_homoplasic_INDELs[all_homoplasic_INDELs.stop_codon == 'intergenic'])[0])))\n",
    "    print('')\n",
    "\n",
    "    print('(A3) INDELs in coding')\n",
    "    print(str(np.shape(all_homoplasic_INDELs[(all_homoplasic_INDELs.stop_codon != 'intergenic') & (all_homoplasic_INDELs.stop_codon != 'RNA')])[0]))\n",
    "    print(str(float(sum(all_homoplasic_INDELs[(all_homoplasic_INDELs.stop_codon != 'intergenic') & (all_homoplasic_INDELs.stop_codon != 'RNA')].total >= 2)) / float(np.shape(all_homoplasic_INDELs[(all_homoplasic_INDELs.stop_codon != 'intergenic') & (all_homoplasic_INDELs.stop_codon != 'RNA')])[0])))\n",
    "    print('')\n",
    "\n",
    "    print('(B1) INDELs in coding & inframe')\n",
    "    print(str(np.shape(all_homoplasic_INDELs[(all_homoplasic_INDELs.stop_codon != 'intergenic') & (all_homoplasic_INDELs.stop_codon != 'RNA') & (all_homoplasic_INDELs.INDEL_type == 'inframe')])[0]))\n",
    "    print(str(float(sum(all_homoplasic_INDELs[(all_homoplasic_INDELs.stop_codon != 'intergenic') & (all_homoplasic_INDELs.stop_codon != 'RNA') & (all_homoplasic_INDELs.INDEL_type == 'inframe')].total >= 2)) / float(np.shape(all_homoplasic_INDELs[(all_homoplasic_INDELs.stop_codon != 'intergenic') & (all_homoplasic_INDELs.stop_codon != 'RNA') & (all_homoplasic_INDELs.INDEL_type == 'inframe')])[0])))\n",
    "    print('')\n",
    "\n",
    "    print('(B2) INDELs in coding & frameshift')\n",
    "    print(str(np.shape(all_homoplasic_INDELs[(all_homoplasic_INDELs.stop_codon != 'intergenic') & (all_homoplasic_INDELs.stop_codon != 'RNA') & (all_homoplasic_INDELs.INDEL_type == 'frameshift')])[0]))\n",
    "    print(str(float(sum(all_homoplasic_INDELs[(all_homoplasic_INDELs.stop_codon != 'intergenic') & (all_homoplasic_INDELs.stop_codon != 'RNA') & (all_homoplasic_INDELs.INDEL_type == 'frameshift')].total >= 2)) / float(np.shape(all_homoplasic_INDELs[(all_homoplasic_INDELs.stop_codon != 'intergenic') & (all_homoplasic_INDELs.stop_codon != 'RNA') & (all_homoplasic_INDELs.INDEL_type == 'frameshift')])[0])))\n",
    "    print('')\n",
    "\n",
    "    print('(C1) INDELs in coding & frameshift & no change to STOP')\n",
    "    print(str(np.shape(all_homoplasic_INDELs[(all_homoplasic_INDELs.stop_codon == 'no change') & (all_homoplasic_INDELs.INDEL_type == 'frameshift')])[0]))\n",
    "    try:\n",
    "        print(str(float(sum(all_homoplasic_INDELs[(all_homoplasic_INDELs.stop_codon == 'no change') & (all_homoplasic_INDELs.INDEL_type == 'frameshift')].total >= 2)) / float(np.shape(all_homoplasic_INDELs[(all_homoplasic_INDELs.stop_codon == 'no change') & (all_homoplasic_INDELs.INDEL_type == 'frameshift')])[0])))\n",
    "    except ZeroDivisionError:\n",
    "        print('ZeroDivisionError: float division by zero')\n",
    "    print('')\n",
    "\n",
    "    print('(C2) INDELs in coding & frameshift & premature STOP first 3/4 of gene')\n",
    "    print(str(np.shape(all_homoplasic_INDELs[(all_homoplasic_INDELs.stop_codon == 'premature stop - first 3/4') & (all_homoplasic_INDELs.INDEL_type == 'frameshift')])[0]))\n",
    "    print(str(float(sum(all_homoplasic_INDELs[(all_homoplasic_INDELs.stop_codon == 'premature stop - first 3/4') & (all_homoplasic_INDELs.INDEL_type == 'frameshift')].total >= 2)) / float(np.shape(all_homoplasic_INDELs[(all_homoplasic_INDELs.stop_codon == 'premature stop - first 3/4') & (all_homoplasic_INDELs.INDEL_type == 'frameshift')])[0])))\n",
    "    print('')\n",
    "\n",
    "    print('(C3) INDELs in coding & frameshift & premature STOP last 1/4 of gene')\n",
    "    print(str(np.shape(all_homoplasic_INDELs[(all_homoplasic_INDELs.stop_codon == 'premature stop - last 1/4') & (all_homoplasic_INDELs.INDEL_type == 'frameshift')])[0]))\n",
    "    print(str(float(sum(all_homoplasic_INDELs[(all_homoplasic_INDELs.stop_codon == 'premature stop - last 1/4') & (all_homoplasic_INDELs.INDEL_type == 'frameshift')].total >= 2)) / float(np.shape(all_homoplasic_INDELs[(all_homoplasic_INDELs.stop_codon == 'premature stop - last 1/4') & (all_homoplasic_INDELs.INDEL_type == 'frameshift')])[0])))\n",
    "    print('')\n",
    "\n",
    "    print('(C4) INDELs in coding & frameshift & elongation STOP appears after annotated STOP')\n",
    "    print(str(np.shape(all_homoplasic_INDELs[(all_homoplasic_INDELs.stop_codon == 'elongation - appears after annotated stop') & (all_homoplasic_INDELs.INDEL_type == 'frameshift')])[0]))\n",
    "    print(str(float(sum(all_homoplasic_INDELs[(all_homoplasic_INDELs.stop_codon == 'elongation - appears after annotated stop') & (all_homoplasic_INDELs.INDEL_type == 'frameshift')].total >= 2)) / float(np.shape(all_homoplasic_INDELs[(all_homoplasic_INDELs.stop_codon == 'elongation - appears after annotated stop') & (all_homoplasic_INDELs.INDEL_type == 'frameshift')])[0])))"
   ]
  },
  {
   "cell_type": "markdown",
   "metadata": {},
   "source": [
    "## [6.1] all INDELs"
   ]
  },
  {
   "cell_type": "code",
   "execution_count": 32,
   "metadata": {},
   "outputs": [
    {
     "data": {
      "text/plain": [
       "(46306, 23)"
      ]
     },
     "execution_count": 32,
     "metadata": {},
     "output_type": "execute_result"
    }
   ],
   "source": [
    "np.shape(all_homoplasic_INDELs)"
   ]
  },
  {
   "cell_type": "code",
   "execution_count": 33,
   "metadata": {},
   "outputs": [
    {
     "data": {
      "text/plain": [
       "0.1143048417051786"
      ]
     },
     "execution_count": 33,
     "metadata": {},
     "output_type": "execute_result"
    }
   ],
   "source": [
    "float(sum(all_homoplasic_INDELs.total >= 2)) / float(np.shape(all_homoplasic_INDELs)[0])"
   ]
  },
  {
   "cell_type": "markdown",
   "metadata": {},
   "source": [
    "## [6.2] INDELs *in* HT regions"
   ]
  },
  {
   "cell_type": "code",
   "execution_count": 34,
   "metadata": {},
   "outputs": [
    {
     "data": {
      "text/plain": [
       "(330, 23)"
      ]
     },
     "execution_count": 34,
     "metadata": {},
     "output_type": "execute_result"
    }
   ],
   "source": [
    "np.shape(all_homoplasic_INDELs[all_homoplasic_INDELs.SSR_region == 'HT'])"
   ]
  },
  {
   "cell_type": "code",
   "execution_count": 35,
   "metadata": {},
   "outputs": [
    {
     "data": {
      "text/plain": [
       "0.7515151515151515"
      ]
     },
     "execution_count": 35,
     "metadata": {},
     "output_type": "execute_result"
    }
   ],
   "source": [
    "float(sum(all_homoplasic_INDELs[all_homoplasic_INDELs.SSR_region == 'HT'].total >= 2)) / float(np.shape(all_homoplasic_INDELs[all_homoplasic_INDELs.SSR_region == 'HT'])[0])"
   ]
  },
  {
   "cell_type": "code",
   "execution_count": 36,
   "metadata": {},
   "outputs": [
    {
     "name": "stdout",
     "output_type": "stream",
     "text": [
      "(A1) INDELs in ncRNA\n",
      "3\n",
      "1.0\n",
      "\n",
      "(A2) INDELs in intergenic\n",
      "67\n",
      "0.761194029851\n",
      "\n",
      "(A3) INDELs in coding\n",
      "260\n",
      "0.746153846154\n",
      "\n",
      "(B1) INDELs in coding & inframe\n",
      "30\n",
      "0.566666666667\n",
      "\n",
      "(B2) INDELs in coding & frameshift\n",
      "230\n",
      "0.769565217391\n",
      "\n",
      "(C1) INDELs in coding & frameshift & no change to STOP\n",
      "0\n",
      "ZeroDivisionError: float division by zero\n",
      "\n",
      "(C2) INDELs in coding & frameshift & premature STOP first 3/4 of gene\n",
      "117\n",
      "0.777777777778\n",
      "\n",
      "(C3) INDELs in coding & frameshift & premature STOP last 1/4 of gene\n",
      "60\n",
      "0.783333333333\n",
      "\n",
      "(C4) INDELs in coding & frameshift & elongation STOP appears after annotated STOP\n",
      "53\n",
      "0.735849056604\n"
     ]
    }
   ],
   "source": [
    "get_homoplastic_INDEL_breakdown_stats(all_homoplasic_INDELs[all_homoplasic_INDELs.SSR_region == 'HT'])"
   ]
  },
  {
   "cell_type": "markdown",
   "metadata": {},
   "source": [
    "## [6.3] INDELs *in* SSR regions"
   ]
  },
  {
   "cell_type": "code",
   "execution_count": 37,
   "metadata": {},
   "outputs": [
    {
     "data": {
      "text/plain": [
       "(2077, 23)"
      ]
     },
     "execution_count": 37,
     "metadata": {},
     "output_type": "execute_result"
    }
   ],
   "source": [
    "np.shape(all_homoplasic_INDELs[all_homoplasic_INDELs.SSR_region == 'yes'])"
   ]
  },
  {
   "cell_type": "code",
   "execution_count": 38,
   "metadata": {},
   "outputs": [
    {
     "data": {
      "text/plain": [
       "0.2585459797785267"
      ]
     },
     "execution_count": 38,
     "metadata": {},
     "output_type": "execute_result"
    }
   ],
   "source": [
    "float(sum(all_homoplasic_INDELs[all_homoplasic_INDELs.SSR_region == 'yes'].total >= 2)) / float(np.shape(all_homoplasic_INDELs[all_homoplasic_INDELs.SSR_region == 'yes'])[0])"
   ]
  },
  {
   "cell_type": "code",
   "execution_count": 39,
   "metadata": {},
   "outputs": [
    {
     "name": "stdout",
     "output_type": "stream",
     "text": [
      "(A1) INDELs in ncRNA\n",
      "8\n",
      "0.0\n",
      "\n",
      "(A2) INDELs in intergenic\n",
      "246\n",
      "0.191056910569\n",
      "\n",
      "(A3) INDELs in coding\n",
      "1823\n",
      "0.268787712562\n",
      "\n",
      "(B1) INDELs in coding & inframe\n",
      "842\n",
      "0.407363420428\n",
      "\n",
      "(B2) INDELs in coding & frameshift\n",
      "981\n",
      "0.149847094801\n",
      "\n",
      "(C1) INDELs in coding & frameshift & no change to STOP\n",
      "2\n",
      "0.5\n",
      "\n",
      "(C2) INDELs in coding & frameshift & premature STOP first 3/4 of gene\n",
      "570\n",
      "0.145614035088\n",
      "\n",
      "(C3) INDELs in coding & frameshift & premature STOP last 1/4 of gene\n",
      "229\n",
      "0.157205240175\n",
      "\n",
      "(C4) INDELs in coding & frameshift & elongation STOP appears after annotated STOP\n",
      "180\n",
      "0.15\n"
     ]
    }
   ],
   "source": [
    "get_homoplastic_INDEL_breakdown_stats(all_homoplasic_INDELs[all_homoplasic_INDELs.SSR_region == 'yes'])"
   ]
  },
  {
   "cell_type": "markdown",
   "metadata": {},
   "source": [
    "## [6.4] INDELs *not in* HT or SSR regions"
   ]
  },
  {
   "cell_type": "code",
   "execution_count": 40,
   "metadata": {},
   "outputs": [
    {
     "data": {
      "text/plain": [
       "(43899, 23)"
      ]
     },
     "execution_count": 40,
     "metadata": {},
     "output_type": "execute_result"
    }
   ],
   "source": [
    "np.shape(all_homoplasic_INDELs[all_homoplasic_INDELs.SSR_region == 'other'])"
   ]
  },
  {
   "cell_type": "code",
   "execution_count": 41,
   "metadata": {},
   "outputs": [
    {
     "data": {
      "text/plain": [
       "0.10269026629308185"
      ]
     },
     "execution_count": 41,
     "metadata": {},
     "output_type": "execute_result"
    }
   ],
   "source": [
    "float(sum(all_homoplasic_INDELs[all_homoplasic_INDELs.SSR_region == 'other'].total >= 2)) / float(np.shape(all_homoplasic_INDELs[all_homoplasic_INDELs.SSR_region == 'other'])[0])"
   ]
  },
  {
   "cell_type": "code",
   "execution_count": 42,
   "metadata": {},
   "outputs": [
    {
     "name": "stdout",
     "output_type": "stream",
     "text": [
      "(A1) INDELs in ncRNA\n",
      "216\n",
      "0.180555555556\n",
      "\n",
      "(A2) INDELs in intergenic\n",
      "7198\n",
      "0.12461794943\n",
      "\n",
      "(A3) INDELs in coding\n",
      "36485\n",
      "0.0979032479101\n",
      "\n",
      "(B1) INDELs in coding & inframe\n",
      "4806\n",
      "0.0801081980857\n",
      "\n",
      "(B2) INDELs in coding & frameshift\n",
      "31679\n",
      "0.100602923072\n",
      "\n",
      "(C1) INDELs in coding & frameshift & no change to STOP\n",
      "66\n",
      "0.181818181818\n",
      "\n",
      "(C2) INDELs in coding & frameshift & premature STOP first 3/4 of gene\n",
      "19143\n",
      "0.100558951053\n",
      "\n",
      "(C3) INDELs in coding & frameshift & premature STOP last 1/4 of gene\n",
      "7404\n",
      "0.0953538627769\n",
      "\n",
      "(C4) INDELs in coding & frameshift & elongation STOP appears after annotated STOP\n",
      "5066\n",
      "0.107382550336\n"
     ]
    }
   ],
   "source": [
    "get_homoplastic_INDEL_breakdown_stats(all_homoplasic_INDELs[all_homoplasic_INDELs.SSR_region == 'other'])"
   ]
  },
  {
   "cell_type": "markdown",
   "metadata": {},
   "source": [
    "## [6.5] $\\sum{Hs}$ for FS in HT regions as a proportion of $\\sum{Hs}$ for FS across genome"
   ]
  },
  {
   "cell_type": "code",
   "execution_count": 46,
   "metadata": {},
   "outputs": [
    {
     "data": {
      "text/plain": [
       "(39844, 23)"
      ]
     },
     "execution_count": 46,
     "metadata": {},
     "output_type": "execute_result"
    }
   ],
   "source": [
    "all_homoplasic_INDELs[all_homoplasic_INDELs.INDEL_type == 'frameshift'].shape"
   ]
  },
  {
   "cell_type": "code",
   "execution_count": 50,
   "metadata": {},
   "outputs": [
    {
     "data": {
      "text/plain": [
       "71351.0"
      ]
     },
     "execution_count": 50,
     "metadata": {},
     "output_type": "execute_result"
    }
   ],
   "source": [
    "all_homoplasic_INDELs[all_homoplasic_INDELs.INDEL_type == 'frameshift'].total.sum()"
   ]
  },
  {
   "cell_type": "code",
   "execution_count": 53,
   "metadata": {},
   "outputs": [
    {
     "data": {
      "text/plain": [
       "(294, 23)"
      ]
     },
     "execution_count": 53,
     "metadata": {},
     "output_type": "execute_result"
    }
   ],
   "source": [
    "all_homoplasic_INDELs[(all_homoplasic_INDELs.INDEL_type == 'frameshift')&(all_homoplasic_INDELs.SSR_region == 'HT')].shape"
   ]
  },
  {
   "cell_type": "code",
   "execution_count": 54,
   "metadata": {},
   "outputs": [
    {
     "data": {
      "text/plain": [
       "10405.0"
      ]
     },
     "execution_count": 54,
     "metadata": {},
     "output_type": "execute_result"
    }
   ],
   "source": [
    "all_homoplasic_INDELs[(all_homoplasic_INDELs.INDEL_type == 'frameshift')&(all_homoplasic_INDELs.SSR_region == 'HT')].total.sum()"
   ]
  },
  {
   "cell_type": "code",
   "execution_count": 55,
   "metadata": {},
   "outputs": [
    {
     "data": {
      "text/plain": [
       "14.582836960939579"
      ]
     },
     "execution_count": 55,
     "metadata": {},
     "output_type": "execute_result"
    }
   ],
   "source": [
    "(float(10405) / float(71351))*100.0"
   ]
  },
  {
   "cell_type": "markdown",
   "metadata": {},
   "source": [
    "## [6.6] proportion of INDELs with $Hs \\ge X$ for varying values of X"
   ]
  },
  {
   "cell_type": "code",
   "execution_count": 33,
   "metadata": {},
   "outputs": [],
   "source": [
    "Hs_thresholds = np.arange(1, 51)\n",
    "INDELs_HT_prop_list = []\n",
    "INDELs_SSR_prop_list = []\n",
    "INDELs_other_prop_list = []\n",
    "\n",
    "for Hs_i in Hs_thresholds:\n",
    "    \n",
    "    INDELs_HT_prop_list.append(float(sum(all_homoplasic_INDELs[all_homoplasic_INDELs.SSR_region == 'HT'].total >= Hs_i)) / float(np.shape(all_homoplasic_INDELs[all_homoplasic_INDELs.SSR_region == 'HT'])[0]))\n",
    "    INDELs_SSR_prop_list.append(float(sum(all_homoplasic_INDELs[all_homoplasic_INDELs.SSR_region == 'yes'].total >= Hs_i)) / float(np.shape(all_homoplasic_INDELs[all_homoplasic_INDELs.SSR_region == 'yes'])[0]))\n",
    "    INDELs_other_prop_list.append(float(sum(all_homoplasic_INDELs[all_homoplasic_INDELs.SSR_region == 'other'].total >= Hs_i)) / float(np.shape(all_homoplasic_INDELs[all_homoplasic_INDELs.SSR_region == 'other'])[0]))"
   ]
  },
  {
   "cell_type": "code",
   "execution_count": 34,
   "metadata": {},
   "outputs": [],
   "source": [
    "plt.style.use('ggplot')\n",
    "plt.rcParams['lines.linewidth']=1.0\n",
    "plt.rcParams['axes.facecolor']='1.0'\n",
    "plt.rcParams['xtick.color']='black'\n",
    "plt.rcParams['axes.grid']=False\n",
    "plt.rcParams['axes.edgecolor']='black'\n",
    "plt.rcParams['grid.color']= '1.0'\n",
    "plt.rcParams.update({'font.size': 14})"
   ]
  },
  {
   "cell_type": "code",
   "execution_count": 56,
   "metadata": {},
   "outputs": [
    {
     "data": {
      "image/png": "[encoded data removed]",
      "text/plain": [
       "<Figure size 540x396 with 1 Axes>"
      ]
     },
     "metadata": {},
     "output_type": "display_data"
    }
   ],
   "source": [
    "fig, ax = plt.subplots()\n",
    "\n",
    "ax.plot(Hs_thresholds, INDELs_other_prop_list, color = 'xkcd:black', linewidth = 1.0)\n",
    "ax.scatter(Hs_thresholds, INDELs_other_prop_list, color = 'xkcd:black', linewidth = 0.5, s = 15, edgecolor = 'k')\n",
    "\n",
    "ax.plot(Hs_thresholds, INDELs_SSR_prop_list, color = 'xkcd:green', linewidth = 1.0)\n",
    "ax.scatter(Hs_thresholds, INDELs_SSR_prop_list, color = 'xkcd:green', linewidth = 0.5, s = 15, edgecolor = 'k')\n",
    "\n",
    "ax.plot(Hs_thresholds, INDELs_HT_prop_list, color = 'xkcd:blue', linewidth = 1.0)\n",
    "ax.scatter(Hs_thresholds, INDELs_HT_prop_list, color = 'xkcd:blue', linewidth = 0.5, s = 15, edgecolor = 'k')\n",
    "\n",
    "# ax.set_title('Distribution of Homoplasy\\nScores for 330 INDELs', fontsize = 10, color = 'k', pad = -10)\n",
    "ax.set_xlabel('Hs', fontsize = 12, color = 'k', labelpad = 1)\n",
    "ax.set_ylabel('Proportion of INDELs >= Hs' , fontsize = 12, color = 'k', labelpad = 1)\n",
    "\n",
    "ax.spines['right'].set_visible(False)\n",
    "ax.spines['top'].set_visible(False)\n",
    "ax.grid(False)\n",
    "\n",
    "ax.tick_params(labelcolor = 'k')\n",
    "ax.set_xlim(0, 51)\n",
    "ax.set_ylim(-0.01, 1.015)\n",
    "\n",
    "ax.tick_params(axis='y', which='major', labelsize=12 , labelcolor = 'k')\n",
    "ax.tick_params(axis='x', which='major', labelsize=12 , labelcolor = 'k')\n",
    "\n",
    "#create legend\n",
    "HT = 'xkcd:blue'\n",
    "SSR = 'xkcd:green'\n",
    "other = 'xkcd:black'\n",
    "\n",
    "handles = [Rectangle((0,0),1,1,color=c,ec=\"k\") for c in [HT,SSR,other]]\n",
    "labels = [\"HT\",\"SSR\",\"other\"]\n",
    "ax.legend(handles, labels, fontsize=12)\n",
    "\n",
    "\n",
    "fig = plt.gcf()\n",
    "fig.set_size_inches(7.5, 5.5)\n",
    "fig.tight_layout()\n",
    "\n",
    "file_name = '/n/data1/hms/dbmi/farhat/Roger/homoplasy_project/Figures/for publication/HT_SSR_other_proportion_INDELs_Hs.pdf'\n",
    "## plt.savefig(file_name, bbox_inches='tight', dpi = 300 , transparent = True) # incorporated into manhattan panel\n",
    "\n",
    "plt.show()"
   ]
  },
  {
   "cell_type": "code",
   "execution_count": 57,
   "metadata": {},
   "outputs": [
    {
     "data": {
      "text/plain": [
       "'43899.0'"
      ]
     },
     "execution_count": 57,
     "metadata": {},
     "output_type": "execute_result"
    }
   ],
   "source": [
    "str(float(np.shape(all_homoplasic_INDELs[all_homoplasic_INDELs.SSR_region == 'other'])[0]))"
   ]
  },
  {
   "cell_type": "code",
   "execution_count": 58,
   "metadata": {},
   "outputs": [
    {
     "data": {
      "text/plain": [
       "'2077.0'"
      ]
     },
     "execution_count": 58,
     "metadata": {},
     "output_type": "execute_result"
    }
   ],
   "source": [
    "str(float(np.shape(all_homoplasic_INDELs[all_homoplasic_INDELs.SSR_region == 'yes'])[0]))"
   ]
  },
  {
   "cell_type": "code",
   "execution_count": 59,
   "metadata": {},
   "outputs": [
    {
     "data": {
      "text/plain": [
       "'330.0'"
      ]
     },
     "execution_count": 59,
     "metadata": {},
     "output_type": "execute_result"
    }
   ],
   "source": [
    "str(float(np.shape(all_homoplasic_INDELs[all_homoplasic_INDELs.SSR_region == 'HT'])[0]))"
   ]
  },
  {
   "cell_type": "markdown",
   "metadata": {},
   "source": [
    "####################################################################################################################################################################################"
   ]
  },
  {
   "cell_type": "markdown",
   "metadata": {},
   "source": [
    "## [7] check INDELs in SSR regions with highest homoplasy score"
   ]
  },
  {
   "cell_type": "markdown",
   "metadata": {},
   "source": [
    "####################################################################################################################################################################################"
   ]
  },
  {
   "cell_type": "code",
   "execution_count": 41,
   "metadata": {},
   "outputs": [],
   "source": [
    "all_SSR_homoplasic_INDELs = all_homoplasic_INDELs[all_homoplasic_INDELs.SSR_region == 'yes']"
   ]
  },
  {
   "cell_type": "code",
   "execution_count": 42,
   "metadata": {},
   "outputs": [
    {
     "data": {
      "text/html": [
       "<div>\n",
       "<style>\n",
       "    .dataframe thead tr:only-child th {\n",
       "        text-align: right;\n",
       "    }\n",
       "\n",
       "    .dataframe thead th {\n",
       "        text-align: left;\n",
       "    }\n",
       "\n",
       "    .dataframe tbody tr th {\n",
       "        vertical-align: top;\n",
       "    }\n",
       "</style>\n",
       "<table border=\"1\" class=\"dataframe\">\n",
       "  <thead>\n",
       "    <tr style=\"text-align: right;\">\n",
       "      <th></th>\n",
       "      <th>pos</th>\n",
       "      <th>ref</th>\n",
       "      <th>alt</th>\n",
       "      <th>gene_category</th>\n",
       "      <th>gene_name</th>\n",
       "      <th>gene_id</th>\n",
       "      <th>gene_pos</th>\n",
       "      <th>ins_del</th>\n",
       "      <th>INDEL_type</th>\n",
       "      <th>codon_pos</th>\n",
       "      <th>...</th>\n",
       "      <th>2</th>\n",
       "      <th>3</th>\n",
       "      <th>4A</th>\n",
       "      <th>4B</th>\n",
       "      <th>4C</th>\n",
       "      <th>5</th>\n",
       "      <th>6</th>\n",
       "      <th>total</th>\n",
       "      <th>num_isolates</th>\n",
       "      <th>SSR_region</th>\n",
       "    </tr>\n",
       "  </thead>\n",
       "  <tbody>\n",
       "    <tr>\n",
       "      <th>752</th>\n",
       "      <td>55540</td>\n",
       "      <td>G</td>\n",
       "      <td>GCCGCCGCCT</td>\n",
       "      <td>Non-Essential</td>\n",
       "      <td>ponA1</td>\n",
       "      <td>Rv0050</td>\n",
       "      <td>1878</td>\n",
       "      <td>ins</td>\n",
       "      <td>inframe</td>\n",
       "      <td>626</td>\n",
       "      <td>...</td>\n",
       "      <td>272.0</td>\n",
       "      <td>0.0</td>\n",
       "      <td>0.0</td>\n",
       "      <td>0.0</td>\n",
       "      <td>0.0</td>\n",
       "      <td>6.0</td>\n",
       "      <td>5.0</td>\n",
       "      <td>397.0</td>\n",
       "      <td>2238</td>\n",
       "      <td>yes</td>\n",
       "    </tr>\n",
       "    <tr>\n",
       "      <th>34894</th>\n",
       "      <td>3247864</td>\n",
       "      <td>C</td>\n",
       "      <td>CTAGG</td>\n",
       "      <td>Non-Essential</td>\n",
       "      <td>ppsA</td>\n",
       "      <td>Rv2931</td>\n",
       "      <td>2420</td>\n",
       "      <td>ins</td>\n",
       "      <td>frameshift</td>\n",
       "      <td>807</td>\n",
       "      <td>...</td>\n",
       "      <td>90.0</td>\n",
       "      <td>12.0</td>\n",
       "      <td>66.0</td>\n",
       "      <td>79.0</td>\n",
       "      <td>38.0</td>\n",
       "      <td>1.0</td>\n",
       "      <td>3.0</td>\n",
       "      <td>324.0</td>\n",
       "      <td>469</td>\n",
       "      <td>yes</td>\n",
       "    </tr>\n",
       "    <tr>\n",
       "      <th>17487</th>\n",
       "      <td>1625332</td>\n",
       "      <td>C</td>\n",
       "      <td>CGGT</td>\n",
       "      <td>Essential</td>\n",
       "      <td>opcA</td>\n",
       "      <td>Rv1446c</td>\n",
       "      <td>34</td>\n",
       "      <td>ins</td>\n",
       "      <td>inframe</td>\n",
       "      <td>12</td>\n",
       "      <td>...</td>\n",
       "      <td>184.0</td>\n",
       "      <td>2.0</td>\n",
       "      <td>0.0</td>\n",
       "      <td>0.0</td>\n",
       "      <td>0.0</td>\n",
       "      <td>0.0</td>\n",
       "      <td>0.0</td>\n",
       "      <td>186.0</td>\n",
       "      <td>5157</td>\n",
       "      <td>yes</td>\n",
       "    </tr>\n",
       "    <tr>\n",
       "      <th>756</th>\n",
       "      <td>55543</td>\n",
       "      <td>G</td>\n",
       "      <td>GCCGCCT</td>\n",
       "      <td>Non-Essential</td>\n",
       "      <td>ponA1</td>\n",
       "      <td>Rv0050</td>\n",
       "      <td>1881</td>\n",
       "      <td>ins</td>\n",
       "      <td>inframe</td>\n",
       "      <td>627</td>\n",
       "      <td>...</td>\n",
       "      <td>2.0</td>\n",
       "      <td>149.0</td>\n",
       "      <td>0.0</td>\n",
       "      <td>0.0</td>\n",
       "      <td>0.0</td>\n",
       "      <td>0.0</td>\n",
       "      <td>0.0</td>\n",
       "      <td>153.0</td>\n",
       "      <td>1322</td>\n",
       "      <td>yes</td>\n",
       "    </tr>\n",
       "    <tr>\n",
       "      <th>41519</th>\n",
       "      <td>3969423</td>\n",
       "      <td>GGCC</td>\n",
       "      <td>G</td>\n",
       "      <td>PE/PPE</td>\n",
       "      <td>PPE61</td>\n",
       "      <td>Rv3532</td>\n",
       "      <td>81</td>\n",
       "      <td>del</td>\n",
       "      <td>inframe</td>\n",
       "      <td>27</td>\n",
       "      <td>...</td>\n",
       "      <td>25.0</td>\n",
       "      <td>21.0</td>\n",
       "      <td>22.0</td>\n",
       "      <td>17.0</td>\n",
       "      <td>37.0</td>\n",
       "      <td>2.0</td>\n",
       "      <td>0.0</td>\n",
       "      <td>151.0</td>\n",
       "      <td>1289</td>\n",
       "      <td>yes</td>\n",
       "    </tr>\n",
       "    <tr>\n",
       "      <th>40873</th>\n",
       "      <td>3895244</td>\n",
       "      <td>G</td>\n",
       "      <td>GGCC</td>\n",
       "      <td>PE/PPE</td>\n",
       "      <td>PPE60</td>\n",
       "      <td>Rv3478</td>\n",
       "      <td>819</td>\n",
       "      <td>ins</td>\n",
       "      <td>inframe</td>\n",
       "      <td>273</td>\n",
       "      <td>...</td>\n",
       "      <td>1.0</td>\n",
       "      <td>0.0</td>\n",
       "      <td>0.0</td>\n",
       "      <td>16.0</td>\n",
       "      <td>3.0</td>\n",
       "      <td>0.0</td>\n",
       "      <td>0.0</td>\n",
       "      <td>133.0</td>\n",
       "      <td>963</td>\n",
       "      <td>yes</td>\n",
       "    </tr>\n",
       "    <tr>\n",
       "      <th>37345</th>\n",
       "      <td>3528971</td>\n",
       "      <td>TCGC</td>\n",
       "      <td>T</td>\n",
       "      <td>PE/PPE</td>\n",
       "      <td>PPE53</td>\n",
       "      <td>Rv3159c</td>\n",
       "      <td>193</td>\n",
       "      <td>del</td>\n",
       "      <td>inframe</td>\n",
       "      <td>65</td>\n",
       "      <td>...</td>\n",
       "      <td>40.0</td>\n",
       "      <td>32.0</td>\n",
       "      <td>22.0</td>\n",
       "      <td>2.0</td>\n",
       "      <td>3.0</td>\n",
       "      <td>2.0</td>\n",
       "      <td>0.0</td>\n",
       "      <td>128.0</td>\n",
       "      <td>435</td>\n",
       "      <td>yes</td>\n",
       "    </tr>\n",
       "    <tr>\n",
       "      <th>30979</th>\n",
       "      <td>2873093</td>\n",
       "      <td>G</td>\n",
       "      <td>GCCA</td>\n",
       "      <td>Essential</td>\n",
       "      <td>Rv2553c</td>\n",
       "      <td>Rv2553c</td>\n",
       "      <td>173</td>\n",
       "      <td>ins</td>\n",
       "      <td>inframe</td>\n",
       "      <td>58</td>\n",
       "      <td>...</td>\n",
       "      <td>20.0</td>\n",
       "      <td>12.0</td>\n",
       "      <td>31.0</td>\n",
       "      <td>16.0</td>\n",
       "      <td>10.0</td>\n",
       "      <td>0.0</td>\n",
       "      <td>0.0</td>\n",
       "      <td>120.0</td>\n",
       "      <td>732</td>\n",
       "      <td>yes</td>\n",
       "    </tr>\n",
       "    <tr>\n",
       "      <th>47313</th>\n",
       "      <td>4407851</td>\n",
       "      <td>GC</td>\n",
       "      <td>G</td>\n",
       "      <td>Antibiotic Resistance</td>\n",
       "      <td>gid</td>\n",
       "      <td>Rv3919c</td>\n",
       "      <td>352</td>\n",
       "      <td>del</td>\n",
       "      <td>frameshift</td>\n",
       "      <td>118</td>\n",
       "      <td>...</td>\n",
       "      <td>9.0</td>\n",
       "      <td>40.0</td>\n",
       "      <td>20.0</td>\n",
       "      <td>6.0</td>\n",
       "      <td>19.0</td>\n",
       "      <td>0.0</td>\n",
       "      <td>0.0</td>\n",
       "      <td>115.0</td>\n",
       "      <td>182</td>\n",
       "      <td>yes</td>\n",
       "    </tr>\n",
       "    <tr>\n",
       "      <th>10908</th>\n",
       "      <td>968965</td>\n",
       "      <td>GCGC</td>\n",
       "      <td>G</td>\n",
       "      <td>PE/PPE</td>\n",
       "      <td>PE_PGRS15</td>\n",
       "      <td>Rv0872c</td>\n",
       "      <td>1280</td>\n",
       "      <td>del</td>\n",
       "      <td>inframe</td>\n",
       "      <td>427</td>\n",
       "      <td>...</td>\n",
       "      <td>25.0</td>\n",
       "      <td>12.0</td>\n",
       "      <td>12.0</td>\n",
       "      <td>14.0</td>\n",
       "      <td>19.0</td>\n",
       "      <td>1.0</td>\n",
       "      <td>0.0</td>\n",
       "      <td>100.0</td>\n",
       "      <td>440</td>\n",
       "      <td>yes</td>\n",
       "    </tr>\n",
       "    <tr>\n",
       "      <th>748</th>\n",
       "      <td>55533</td>\n",
       "      <td>TGCC</td>\n",
       "      <td>T</td>\n",
       "      <td>Non-Essential</td>\n",
       "      <td>ponA1</td>\n",
       "      <td>Rv0050</td>\n",
       "      <td>1871</td>\n",
       "      <td>del</td>\n",
       "      <td>inframe</td>\n",
       "      <td>624</td>\n",
       "      <td>...</td>\n",
       "      <td>0.0</td>\n",
       "      <td>0.0</td>\n",
       "      <td>43.0</td>\n",
       "      <td>18.0</td>\n",
       "      <td>36.0</td>\n",
       "      <td>0.0</td>\n",
       "      <td>0.0</td>\n",
       "      <td>97.0</td>\n",
       "      <td>388</td>\n",
       "      <td>yes</td>\n",
       "    </tr>\n",
       "    <tr>\n",
       "      <th>6427</th>\n",
       "      <td>552495</td>\n",
       "      <td>G</td>\n",
       "      <td>GCTA</td>\n",
       "      <td>Non-Essential</td>\n",
       "      <td>Rv0461</td>\n",
       "      <td>Rv0461</td>\n",
       "      <td>470</td>\n",
       "      <td>ins</td>\n",
       "      <td>inframe</td>\n",
       "      <td>157</td>\n",
       "      <td>...</td>\n",
       "      <td>0.0</td>\n",
       "      <td>0.0</td>\n",
       "      <td>97.0</td>\n",
       "      <td>0.0</td>\n",
       "      <td>0.0</td>\n",
       "      <td>0.0</td>\n",
       "      <td>0.0</td>\n",
       "      <td>97.0</td>\n",
       "      <td>1641</td>\n",
       "      <td>yes</td>\n",
       "    </tr>\n",
       "    <tr>\n",
       "      <th>44680</th>\n",
       "      <td>4279825</td>\n",
       "      <td>AGCC</td>\n",
       "      <td>A</td>\n",
       "      <td>Non-Essential</td>\n",
       "      <td>Rv3814c</td>\n",
       "      <td>Rv3814c</td>\n",
       "      <td>191</td>\n",
       "      <td>del</td>\n",
       "      <td>inframe</td>\n",
       "      <td>64</td>\n",
       "      <td>...</td>\n",
       "      <td>16.0</td>\n",
       "      <td>16.0</td>\n",
       "      <td>9.0</td>\n",
       "      <td>14.0</td>\n",
       "      <td>5.0</td>\n",
       "      <td>1.0</td>\n",
       "      <td>1.0</td>\n",
       "      <td>70.0</td>\n",
       "      <td>262</td>\n",
       "      <td>yes</td>\n",
       "    </tr>\n",
       "    <tr>\n",
       "      <th>9336</th>\n",
       "      <td>830868</td>\n",
       "      <td>G</td>\n",
       "      <td>GGC</td>\n",
       "      <td>Non-Essential</td>\n",
       "      <td>Rv0739</td>\n",
       "      <td>Rv0739</td>\n",
       "      <td>14</td>\n",
       "      <td>ins</td>\n",
       "      <td>frameshift</td>\n",
       "      <td>5</td>\n",
       "      <td>...</td>\n",
       "      <td>50.0</td>\n",
       "      <td>3.0</td>\n",
       "      <td>1.0</td>\n",
       "      <td>0.0</td>\n",
       "      <td>1.0</td>\n",
       "      <td>1.0</td>\n",
       "      <td>1.0</td>\n",
       "      <td>62.0</td>\n",
       "      <td>12668</td>\n",
       "      <td>yes</td>\n",
       "    </tr>\n",
       "    <tr>\n",
       "      <th>41588</th>\n",
       "      <td>3972244</td>\n",
       "      <td>TGCC</td>\n",
       "      <td>T</td>\n",
       "      <td>PE/PPE</td>\n",
       "      <td>PPE62</td>\n",
       "      <td>Rv3533c</td>\n",
       "      <td>210</td>\n",
       "      <td>del</td>\n",
       "      <td>inframe</td>\n",
       "      <td>70</td>\n",
       "      <td>...</td>\n",
       "      <td>15.0</td>\n",
       "      <td>4.0</td>\n",
       "      <td>11.0</td>\n",
       "      <td>9.0</td>\n",
       "      <td>5.0</td>\n",
       "      <td>0.0</td>\n",
       "      <td>0.0</td>\n",
       "      <td>53.0</td>\n",
       "      <td>132</td>\n",
       "      <td>yes</td>\n",
       "    </tr>\n",
       "    <tr>\n",
       "      <th>8002</th>\n",
       "      <td>699978</td>\n",
       "      <td>CCG</td>\n",
       "      <td>C</td>\n",
       "      <td>Non-Essential</td>\n",
       "      <td>Rv0603</td>\n",
       "      <td>Rv0603</td>\n",
       "      <td>123</td>\n",
       "      <td>del</td>\n",
       "      <td>frameshift</td>\n",
       "      <td>41</td>\n",
       "      <td>...</td>\n",
       "      <td>12.0</td>\n",
       "      <td>8.0</td>\n",
       "      <td>9.0</td>\n",
       "      <td>8.0</td>\n",
       "      <td>4.0</td>\n",
       "      <td>0.0</td>\n",
       "      <td>1.0</td>\n",
       "      <td>53.0</td>\n",
       "      <td>239</td>\n",
       "      <td>yes</td>\n",
       "    </tr>\n",
       "    <tr>\n",
       "      <th>44224</th>\n",
       "      <td>4227026</td>\n",
       "      <td>GCGA</td>\n",
       "      <td>G</td>\n",
       "      <td>Non-Essential</td>\n",
       "      <td>Rv3780</td>\n",
       "      <td>Rv3780</td>\n",
       "      <td>38</td>\n",
       "      <td>del</td>\n",
       "      <td>inframe</td>\n",
       "      <td>13</td>\n",
       "      <td>...</td>\n",
       "      <td>6.0</td>\n",
       "      <td>2.0</td>\n",
       "      <td>13.0</td>\n",
       "      <td>12.0</td>\n",
       "      <td>10.0</td>\n",
       "      <td>0.0</td>\n",
       "      <td>0.0</td>\n",
       "      <td>52.0</td>\n",
       "      <td>382</td>\n",
       "      <td>yes</td>\n",
       "    </tr>\n",
       "    <tr>\n",
       "      <th>41941</th>\n",
       "      <td>4029034</td>\n",
       "      <td>GGGC</td>\n",
       "      <td>G</td>\n",
       "      <td>Non-Essential</td>\n",
       "      <td>Rv3587c</td>\n",
       "      <td>Rv3587c</td>\n",
       "      <td>729</td>\n",
       "      <td>del</td>\n",
       "      <td>inframe</td>\n",
       "      <td>243</td>\n",
       "      <td>...</td>\n",
       "      <td>13.0</td>\n",
       "      <td>4.0</td>\n",
       "      <td>15.0</td>\n",
       "      <td>2.0</td>\n",
       "      <td>5.0</td>\n",
       "      <td>0.0</td>\n",
       "      <td>0.0</td>\n",
       "      <td>49.0</td>\n",
       "      <td>241</td>\n",
       "      <td>yes</td>\n",
       "    </tr>\n",
       "    <tr>\n",
       "      <th>33672</th>\n",
       "      <td>3107859</td>\n",
       "      <td>C</td>\n",
       "      <td>CGGT</td>\n",
       "      <td>Non-Essential</td>\n",
       "      <td>Rv2799</td>\n",
       "      <td>Rv2799</td>\n",
       "      <td>92</td>\n",
       "      <td>ins</td>\n",
       "      <td>inframe</td>\n",
       "      <td>31</td>\n",
       "      <td>...</td>\n",
       "      <td>15.0</td>\n",
       "      <td>3.0</td>\n",
       "      <td>3.0</td>\n",
       "      <td>5.0</td>\n",
       "      <td>17.0</td>\n",
       "      <td>0.0</td>\n",
       "      <td>0.0</td>\n",
       "      <td>48.0</td>\n",
       "      <td>119</td>\n",
       "      <td>yes</td>\n",
       "    </tr>\n",
       "    <tr>\n",
       "      <th>41740</th>\n",
       "      <td>3998059</td>\n",
       "      <td>AGGC</td>\n",
       "      <td>A</td>\n",
       "      <td>PE/PPE</td>\n",
       "      <td>PPE64</td>\n",
       "      <td>Rv3558</td>\n",
       "      <td>80</td>\n",
       "      <td>del</td>\n",
       "      <td>inframe</td>\n",
       "      <td>27</td>\n",
       "      <td>...</td>\n",
       "      <td>5.0</td>\n",
       "      <td>1.0</td>\n",
       "      <td>3.0</td>\n",
       "      <td>18.0</td>\n",
       "      <td>7.0</td>\n",
       "      <td>0.0</td>\n",
       "      <td>0.0</td>\n",
       "      <td>46.0</td>\n",
       "      <td>5139</td>\n",
       "      <td>yes</td>\n",
       "    </tr>\n",
       "    <tr>\n",
       "      <th>30981</th>\n",
       "      <td>2873093</td>\n",
       "      <td>GCCA</td>\n",
       "      <td>G</td>\n",
       "      <td>Essential</td>\n",
       "      <td>Rv2553c</td>\n",
       "      <td>Rv2553c</td>\n",
       "      <td>173</td>\n",
       "      <td>del</td>\n",
       "      <td>inframe</td>\n",
       "      <td>58</td>\n",
       "      <td>...</td>\n",
       "      <td>19.0</td>\n",
       "      <td>3.0</td>\n",
       "      <td>9.0</td>\n",
       "      <td>3.0</td>\n",
       "      <td>5.0</td>\n",
       "      <td>0.0</td>\n",
       "      <td>0.0</td>\n",
       "      <td>44.0</td>\n",
       "      <td>403</td>\n",
       "      <td>yes</td>\n",
       "    </tr>\n",
       "    <tr>\n",
       "      <th>14792</th>\n",
       "      <td>1340167</td>\n",
       "      <td>GGCC</td>\n",
       "      <td>G</td>\n",
       "      <td>PE/PPE</td>\n",
       "      <td>PPE18</td>\n",
       "      <td>Rv1196</td>\n",
       "      <td>819</td>\n",
       "      <td>del</td>\n",
       "      <td>inframe</td>\n",
       "      <td>273</td>\n",
       "      <td>...</td>\n",
       "      <td>7.0</td>\n",
       "      <td>10.0</td>\n",
       "      <td>6.0</td>\n",
       "      <td>10.0</td>\n",
       "      <td>7.0</td>\n",
       "      <td>1.0</td>\n",
       "      <td>1.0</td>\n",
       "      <td>43.0</td>\n",
       "      <td>381</td>\n",
       "      <td>yes</td>\n",
       "    </tr>\n",
       "    <tr>\n",
       "      <th>45928</th>\n",
       "      <td>4348820</td>\n",
       "      <td>G</td>\n",
       "      <td>GGC</td>\n",
       "      <td>None</td>\n",
       "      <td>eccCa1_eccCb1</td>\n",
       "      <td>Rv3870_Rv3871</td>\n",
       "      <td>None</td>\n",
       "      <td>ins</td>\n",
       "      <td>frameshift</td>\n",
       "      <td>None</td>\n",
       "      <td>...</td>\n",
       "      <td>0.0</td>\n",
       "      <td>38.0</td>\n",
       "      <td>0.0</td>\n",
       "      <td>0.0</td>\n",
       "      <td>0.0</td>\n",
       "      <td>0.0</td>\n",
       "      <td>0.0</td>\n",
       "      <td>38.0</td>\n",
       "      <td>199</td>\n",
       "      <td>yes</td>\n",
       "    </tr>\n",
       "    <tr>\n",
       "      <th>34403</th>\n",
       "      <td>3186588</td>\n",
       "      <td>ACGG</td>\n",
       "      <td>A</td>\n",
       "      <td>Antigen</td>\n",
       "      <td>dipZ</td>\n",
       "      <td>Rv2874</td>\n",
       "      <td>1742</td>\n",
       "      <td>del</td>\n",
       "      <td>inframe</td>\n",
       "      <td>581</td>\n",
       "      <td>...</td>\n",
       "      <td>7.0</td>\n",
       "      <td>2.0</td>\n",
       "      <td>9.0</td>\n",
       "      <td>7.0</td>\n",
       "      <td>3.0</td>\n",
       "      <td>0.0</td>\n",
       "      <td>0.0</td>\n",
       "      <td>37.0</td>\n",
       "      <td>1147</td>\n",
       "      <td>yes</td>\n",
       "    </tr>\n",
       "    <tr>\n",
       "      <th>43733</th>\n",
       "      <td>4194000</td>\n",
       "      <td>CACG</td>\n",
       "      <td>C</td>\n",
       "      <td>Non-Essential</td>\n",
       "      <td>ctpJ</td>\n",
       "      <td>Rv3743c</td>\n",
       "      <td>1374</td>\n",
       "      <td>del</td>\n",
       "      <td>inframe</td>\n",
       "      <td>458</td>\n",
       "      <td>...</td>\n",
       "      <td>4.0</td>\n",
       "      <td>6.0</td>\n",
       "      <td>5.0</td>\n",
       "      <td>9.0</td>\n",
       "      <td>5.0</td>\n",
       "      <td>0.0</td>\n",
       "      <td>0.0</td>\n",
       "      <td>34.0</td>\n",
       "      <td>72</td>\n",
       "      <td>yes</td>\n",
       "    </tr>\n",
       "  </tbody>\n",
       "</table>\n",
       "<p>25 rows × 23 columns</p>\n",
       "</div>"
      ],
      "text/plain": [
       "           pos   ref         alt          gene_category      gene_name  \\\n",
       "752      55540     G  GCCGCCGCCT          Non-Essential          ponA1   \n",
       "34894  3247864     C       CTAGG          Non-Essential           ppsA   \n",
       "17487  1625332     C        CGGT              Essential           opcA   \n",
       "756      55543     G     GCCGCCT          Non-Essential          ponA1   \n",
       "41519  3969423  GGCC           G                 PE/PPE          PPE61   \n",
       "40873  3895244     G        GGCC                 PE/PPE          PPE60   \n",
       "37345  3528971  TCGC           T                 PE/PPE          PPE53   \n",
       "30979  2873093     G        GCCA              Essential        Rv2553c   \n",
       "47313  4407851    GC           G  Antibiotic Resistance            gid   \n",
       "10908   968965  GCGC           G                 PE/PPE      PE_PGRS15   \n",
       "748      55533  TGCC           T          Non-Essential          ponA1   \n",
       "6427    552495     G        GCTA          Non-Essential         Rv0461   \n",
       "44680  4279825  AGCC           A          Non-Essential        Rv3814c   \n",
       "9336    830868     G         GGC          Non-Essential         Rv0739   \n",
       "41588  3972244  TGCC           T                 PE/PPE          PPE62   \n",
       "8002    699978   CCG           C          Non-Essential         Rv0603   \n",
       "44224  4227026  GCGA           G          Non-Essential         Rv3780   \n",
       "41941  4029034  GGGC           G          Non-Essential        Rv3587c   \n",
       "33672  3107859     C        CGGT          Non-Essential         Rv2799   \n",
       "41740  3998059  AGGC           A                 PE/PPE          PPE64   \n",
       "30981  2873093  GCCA           G              Essential        Rv2553c   \n",
       "14792  1340167  GGCC           G                 PE/PPE          PPE18   \n",
       "45928  4348820     G         GGC                   None  eccCa1_eccCb1   \n",
       "34403  3186588  ACGG           A                Antigen           dipZ   \n",
       "43733  4194000  CACG           C          Non-Essential           ctpJ   \n",
       "\n",
       "             gene_id gene_pos ins_del  INDEL_type codon_pos     ...      \\\n",
       "752           Rv0050     1878     ins     inframe       626     ...       \n",
       "34894         Rv2931     2420     ins  frameshift       807     ...       \n",
       "17487        Rv1446c       34     ins     inframe        12     ...       \n",
       "756           Rv0050     1881     ins     inframe       627     ...       \n",
       "41519         Rv3532       81     del     inframe        27     ...       \n",
       "40873         Rv3478      819     ins     inframe       273     ...       \n",
       "37345        Rv3159c      193     del     inframe        65     ...       \n",
       "30979        Rv2553c      173     ins     inframe        58     ...       \n",
       "47313        Rv3919c      352     del  frameshift       118     ...       \n",
       "10908        Rv0872c     1280     del     inframe       427     ...       \n",
       "748           Rv0050     1871     del     inframe       624     ...       \n",
       "6427          Rv0461      470     ins     inframe       157     ...       \n",
       "44680        Rv3814c      191     del     inframe        64     ...       \n",
       "9336          Rv0739       14     ins  frameshift         5     ...       \n",
       "41588        Rv3533c      210     del     inframe        70     ...       \n",
       "8002          Rv0603      123     del  frameshift        41     ...       \n",
       "44224         Rv3780       38     del     inframe        13     ...       \n",
       "41941        Rv3587c      729     del     inframe       243     ...       \n",
       "33672         Rv2799       92     ins     inframe        31     ...       \n",
       "41740         Rv3558       80     del     inframe        27     ...       \n",
       "30981        Rv2553c      173     del     inframe        58     ...       \n",
       "14792         Rv1196      819     del     inframe       273     ...       \n",
       "45928  Rv3870_Rv3871     None     ins  frameshift      None     ...       \n",
       "34403         Rv2874     1742     del     inframe       581     ...       \n",
       "43733        Rv3743c     1374     del     inframe       458     ...       \n",
       "\n",
       "           2      3    4A    4B    4C    5    6  total  num_isolates  \\\n",
       "752    272.0    0.0   0.0   0.0   0.0  6.0  5.0  397.0          2238   \n",
       "34894   90.0   12.0  66.0  79.0  38.0  1.0  3.0  324.0           469   \n",
       "17487  184.0    2.0   0.0   0.0   0.0  0.0  0.0  186.0          5157   \n",
       "756      2.0  149.0   0.0   0.0   0.0  0.0  0.0  153.0          1322   \n",
       "41519   25.0   21.0  22.0  17.0  37.0  2.0  0.0  151.0          1289   \n",
       "40873    1.0    0.0   0.0  16.0   3.0  0.0  0.0  133.0           963   \n",
       "37345   40.0   32.0  22.0   2.0   3.0  2.0  0.0  128.0           435   \n",
       "30979   20.0   12.0  31.0  16.0  10.0  0.0  0.0  120.0           732   \n",
       "47313    9.0   40.0  20.0   6.0  19.0  0.0  0.0  115.0           182   \n",
       "10908   25.0   12.0  12.0  14.0  19.0  1.0  0.0  100.0           440   \n",
       "748      0.0    0.0  43.0  18.0  36.0  0.0  0.0   97.0           388   \n",
       "6427     0.0    0.0  97.0   0.0   0.0  0.0  0.0   97.0          1641   \n",
       "44680   16.0   16.0   9.0  14.0   5.0  1.0  1.0   70.0           262   \n",
       "9336    50.0    3.0   1.0   0.0   1.0  1.0  1.0   62.0         12668   \n",
       "41588   15.0    4.0  11.0   9.0   5.0  0.0  0.0   53.0           132   \n",
       "8002    12.0    8.0   9.0   8.0   4.0  0.0  1.0   53.0           239   \n",
       "44224    6.0    2.0  13.0  12.0  10.0  0.0  0.0   52.0           382   \n",
       "41941   13.0    4.0  15.0   2.0   5.0  0.0  0.0   49.0           241   \n",
       "33672   15.0    3.0   3.0   5.0  17.0  0.0  0.0   48.0           119   \n",
       "41740    5.0    1.0   3.0  18.0   7.0  0.0  0.0   46.0          5139   \n",
       "30981   19.0    3.0   9.0   3.0   5.0  0.0  0.0   44.0           403   \n",
       "14792    7.0   10.0   6.0  10.0   7.0  1.0  1.0   43.0           381   \n",
       "45928    0.0   38.0   0.0   0.0   0.0  0.0  0.0   38.0           199   \n",
       "34403    7.0    2.0   9.0   7.0   3.0  0.0  0.0   37.0          1147   \n",
       "43733    4.0    6.0   5.0   9.0   5.0  0.0  0.0   34.0            72   \n",
       "\n",
       "       SSR_region  \n",
       "752           yes  \n",
       "34894         yes  \n",
       "17487         yes  \n",
       "756           yes  \n",
       "41519         yes  \n",
       "40873         yes  \n",
       "37345         yes  \n",
       "30979         yes  \n",
       "47313         yes  \n",
       "10908         yes  \n",
       "748           yes  \n",
       "6427          yes  \n",
       "44680         yes  \n",
       "9336          yes  \n",
       "41588         yes  \n",
       "8002          yes  \n",
       "44224         yes  \n",
       "41941         yes  \n",
       "33672         yes  \n",
       "41740         yes  \n",
       "30981         yes  \n",
       "14792         yes  \n",
       "45928         yes  \n",
       "34403         yes  \n",
       "43733         yes  \n",
       "\n",
       "[25 rows x 23 columns]"
      ]
     },
     "execution_count": 42,
     "metadata": {},
     "output_type": "execute_result"
    }
   ],
   "source": [
    "all_SSR_homoplasic_INDELs.sort_values(by='total', ascending = False).head(n = 25)"
   ]
  },
  {
   "cell_type": "code",
   "execution_count": 49,
   "metadata": {},
   "outputs": [
    {
     "data": {
      "text/plain": [
       "pos                    4348820\n",
       "ref                          G\n",
       "alt                        GGC\n",
       "gene_category             None\n",
       "gene_name        eccCa1_eccCb1\n",
       "gene_id          Rv3870_Rv3871\n",
       "gene_pos                  None\n",
       "ins_del                    ins\n",
       "INDEL_type          frameshift\n",
       "codon_pos                 None\n",
       "stop_codon          intergenic\n",
       "key              G_4348820_GGC\n",
       "1                            0\n",
       "2                            0\n",
       "3                           38\n",
       "4A                           0\n",
       "4B                           0\n",
       "4C                           0\n",
       "5                            0\n",
       "6                            0\n",
       "total                       38\n",
       "num_isolates               199\n",
       "SSR_region                 yes\n",
       "Name: 45928, dtype: object"
      ]
     },
     "execution_count": 49,
     "metadata": {},
     "output_type": "execute_result"
    }
   ],
   "source": [
    "all_SSR_homoplasic_INDELs.loc[45928,:]"
   ]
  },
  {
   "cell_type": "markdown",
   "metadata": {},
   "source": [
    "*ponA1*"
   ]
  },
  {
   "cell_type": "code",
   "execution_count": 43,
   "metadata": {},
   "outputs": [
    {
     "data": {
      "text/html": [
       "<div>\n",
       "<style>\n",
       "    .dataframe thead tr:only-child th {\n",
       "        text-align: right;\n",
       "    }\n",
       "\n",
       "    .dataframe thead th {\n",
       "        text-align: left;\n",
       "    }\n",
       "\n",
       "    .dataframe tbody tr th {\n",
       "        vertical-align: top;\n",
       "    }\n",
       "</style>\n",
       "<table border=\"1\" class=\"dataframe\">\n",
       "  <thead>\n",
       "    <tr style=\"text-align: right;\">\n",
       "      <th></th>\n",
       "      <th>H37Rv_start</th>\n",
       "      <th>H37Rv_end</th>\n",
       "      <th>motif</th>\n",
       "      <th>repeats</th>\n",
       "    </tr>\n",
       "  </thead>\n",
       "  <tbody>\n",
       "    <tr>\n",
       "      <th>236</th>\n",
       "      <td>55533</td>\n",
       "      <td>55554</td>\n",
       "      <td>GCC</td>\n",
       "      <td>7</td>\n",
       "    </tr>\n",
       "    <tr>\n",
       "      <th>237</th>\n",
       "      <td>55533</td>\n",
       "      <td>55551</td>\n",
       "      <td>GCCGCC</td>\n",
       "      <td>3</td>\n",
       "    </tr>\n",
       "    <tr>\n",
       "      <th>238</th>\n",
       "      <td>55534</td>\n",
       "      <td>55555</td>\n",
       "      <td>CCG</td>\n",
       "      <td>7</td>\n",
       "    </tr>\n",
       "    <tr>\n",
       "      <th>239</th>\n",
       "      <td>55534</td>\n",
       "      <td>55552</td>\n",
       "      <td>CCGCCG</td>\n",
       "      <td>3</td>\n",
       "    </tr>\n",
       "    <tr>\n",
       "      <th>240</th>\n",
       "      <td>55535</td>\n",
       "      <td>55553</td>\n",
       "      <td>CGC</td>\n",
       "      <td>6</td>\n",
       "    </tr>\n",
       "    <tr>\n",
       "      <th>241</th>\n",
       "      <td>55535</td>\n",
       "      <td>55553</td>\n",
       "      <td>CGCCGC</td>\n",
       "      <td>3</td>\n",
       "    </tr>\n",
       "  </tbody>\n",
       "</table>\n",
       "</div>"
      ],
      "text/plain": [
       "     H37Rv_start  H37Rv_end   motif  repeats\n",
       "236        55533      55554     GCC        7\n",
       "237        55533      55551  GCCGCC        3\n",
       "238        55534      55555     CCG        7\n",
       "239        55534      55552  CCGCCG        3\n",
       "240        55535      55553     CGC        6\n",
       "241        55535      55553  CGCCGC        3"
      ]
     },
     "execution_count": 43,
     "metadata": {},
     "output_type": "execute_result"
    }
   ],
   "source": [
    "SSR_H37Rv_df[(SSR_H37Rv_df.H37Rv_start <= 55540) & (SSR_H37Rv_df.H37Rv_end >= 55533)]"
   ]
  },
  {
   "cell_type": "markdown",
   "metadata": {},
   "source": [
    "*gid*"
   ]
  },
  {
   "cell_type": "code",
   "execution_count": 44,
   "metadata": {},
   "outputs": [
    {
     "data": {
      "text/html": [
       "<div>\n",
       "<style>\n",
       "    .dataframe thead tr:only-child th {\n",
       "        text-align: right;\n",
       "    }\n",
       "\n",
       "    .dataframe thead th {\n",
       "        text-align: left;\n",
       "    }\n",
       "\n",
       "    .dataframe tbody tr th {\n",
       "        vertical-align: top;\n",
       "    }\n",
       "</style>\n",
       "<table border=\"1\" class=\"dataframe\">\n",
       "  <thead>\n",
       "    <tr style=\"text-align: right;\">\n",
       "      <th></th>\n",
       "      <th>H37Rv_start</th>\n",
       "      <th>H37Rv_end</th>\n",
       "      <th>motif</th>\n",
       "      <th>repeats</th>\n",
       "    </tr>\n",
       "  </thead>\n",
       "  <tbody>\n",
       "    <tr>\n",
       "      <th>18303</th>\n",
       "      <td>4407846</td>\n",
       "      <td>4407852</td>\n",
       "      <td>GC</td>\n",
       "      <td>3</td>\n",
       "    </tr>\n",
       "  </tbody>\n",
       "</table>\n",
       "</div>"
      ],
      "text/plain": [
       "       H37Rv_start  H37Rv_end motif  repeats\n",
       "18303      4407846    4407852    GC        3"
      ]
     },
     "execution_count": 44,
     "metadata": {},
     "output_type": "execute_result"
    }
   ],
   "source": [
    "SSR_H37Rv_df[(SSR_H37Rv_df.H37Rv_start <= 4407851) & (SSR_H37Rv_df.H37Rv_end >= 4407851)"
   ]
  },
  {
   "cell_type": "markdown",
   "metadata": {},
   "source": [
    "*PPE60*"
   ]
  },
  {
   "cell_type": "code",
   "execution_count": 45,
   "metadata": {},
   "outputs": [
    {
     "data": {
      "text/html": [
       "<div>\n",
       "<style>\n",
       "    .dataframe thead tr:only-child th {\n",
       "        text-align: right;\n",
       "    }\n",
       "\n",
       "    .dataframe thead th {\n",
       "        text-align: left;\n",
       "    }\n",
       "\n",
       "    .dataframe tbody tr th {\n",
       "        vertical-align: top;\n",
       "    }\n",
       "</style>\n",
       "<table border=\"1\" class=\"dataframe\">\n",
       "  <thead>\n",
       "    <tr style=\"text-align: right;\">\n",
       "      <th></th>\n",
       "      <th>H37Rv_start</th>\n",
       "      <th>H37Rv_end</th>\n",
       "      <th>motif</th>\n",
       "      <th>repeats</th>\n",
       "    </tr>\n",
       "  </thead>\n",
       "  <tbody>\n",
       "    <tr>\n",
       "      <th>16191</th>\n",
       "      <td>3895236</td>\n",
       "      <td>3895245</td>\n",
       "      <td>CGG</td>\n",
       "      <td>3</td>\n",
       "    </tr>\n",
       "    <tr>\n",
       "      <th>16192</th>\n",
       "      <td>3895237</td>\n",
       "      <td>3895246</td>\n",
       "      <td>GGC</td>\n",
       "      <td>3</td>\n",
       "    </tr>\n",
       "  </tbody>\n",
       "</table>\n",
       "</div>"
      ],
      "text/plain": [
       "       H37Rv_start  H37Rv_end motif  repeats\n",
       "16191      3895236    3895245   CGG        3\n",
       "16192      3895237    3895246   GGC        3"
      ]
     },
     "execution_count": 45,
     "metadata": {},
     "output_type": "execute_result"
    }
   ],
   "source": [
    "SSR_H37Rv_df[(SSR_H37Rv_df.H37Rv_start <= 3895244) & (SSR_H37Rv_df.H37Rv_end >= 3895244)]"
   ]
  },
  {
   "cell_type": "markdown",
   "metadata": {},
   "source": [
    "*PPE18*"
   ]
  },
  {
   "cell_type": "code",
   "execution_count": 46,
   "metadata": {},
   "outputs": [
    {
     "data": {
      "text/html": [
       "<div>\n",
       "<style>\n",
       "    .dataframe thead tr:only-child th {\n",
       "        text-align: right;\n",
       "    }\n",
       "\n",
       "    .dataframe thead th {\n",
       "        text-align: left;\n",
       "    }\n",
       "\n",
       "    .dataframe tbody tr th {\n",
       "        vertical-align: top;\n",
       "    }\n",
       "</style>\n",
       "<table border=\"1\" class=\"dataframe\">\n",
       "  <thead>\n",
       "    <tr style=\"text-align: right;\">\n",
       "      <th></th>\n",
       "      <th>H37Rv_start</th>\n",
       "      <th>H37Rv_end</th>\n",
       "      <th>motif</th>\n",
       "      <th>repeats</th>\n",
       "    </tr>\n",
       "  </thead>\n",
       "  <tbody>\n",
       "    <tr>\n",
       "      <th>5655</th>\n",
       "      <td>1340159</td>\n",
       "      <td>1340168</td>\n",
       "      <td>CGG</td>\n",
       "      <td>3</td>\n",
       "    </tr>\n",
       "    <tr>\n",
       "      <th>5656</th>\n",
       "      <td>1340160</td>\n",
       "      <td>1340169</td>\n",
       "      <td>GGC</td>\n",
       "      <td>3</td>\n",
       "    </tr>\n",
       "  </tbody>\n",
       "</table>\n",
       "</div>"
      ],
      "text/plain": [
       "      H37Rv_start  H37Rv_end motif  repeats\n",
       "5655      1340159    1340168   CGG        3\n",
       "5656      1340160    1340169   GGC        3"
      ]
     },
     "execution_count": 46,
     "metadata": {},
     "output_type": "execute_result"
    }
   ],
   "source": [
    "SSR_H37Rv_df[(SSR_H37Rv_df.H37Rv_start <= 1340167) & (SSR_H37Rv_df.H37Rv_end >= 1340167)]"
   ]
  },
  {
   "cell_type": "markdown",
   "metadata": {},
   "source": [
    "*ppsA*"
   ]
  },
  {
   "cell_type": "code",
   "execution_count": 47,
   "metadata": {},
   "outputs": [
    {
     "data": {
      "text/html": [
       "<div>\n",
       "<style>\n",
       "    .dataframe thead tr:only-child th {\n",
       "        text-align: right;\n",
       "    }\n",
       "\n",
       "    .dataframe thead th {\n",
       "        text-align: left;\n",
       "    }\n",
       "\n",
       "    .dataframe tbody tr th {\n",
       "        vertical-align: top;\n",
       "    }\n",
       "</style>\n",
       "<table border=\"1\" class=\"dataframe\">\n",
       "  <thead>\n",
       "    <tr style=\"text-align: right;\">\n",
       "      <th></th>\n",
       "      <th>H37Rv_start</th>\n",
       "      <th>H37Rv_end</th>\n",
       "      <th>motif</th>\n",
       "      <th>repeats</th>\n",
       "    </tr>\n",
       "  </thead>\n",
       "  <tbody>\n",
       "    <tr>\n",
       "      <th>13542</th>\n",
       "      <td>3247858</td>\n",
       "      <td>3247866</td>\n",
       "      <td>GC</td>\n",
       "      <td>4</td>\n",
       "    </tr>\n",
       "    <tr>\n",
       "      <th>13543</th>\n",
       "      <td>3247859</td>\n",
       "      <td>3247865</td>\n",
       "      <td>CG</td>\n",
       "      <td>3</td>\n",
       "    </tr>\n",
       "  </tbody>\n",
       "</table>\n",
       "</div>"
      ],
      "text/plain": [
       "       H37Rv_start  H37Rv_end motif  repeats\n",
       "13542      3247858    3247866    GC        4\n",
       "13543      3247859    3247865    CG        3"
      ]
     },
     "execution_count": 47,
     "metadata": {},
     "output_type": "execute_result"
    }
   ],
   "source": [
    "SSR_H37Rv_df[(SSR_H37Rv_df.H37Rv_start <= 3247864) & (SSR_H37Rv_df.H37Rv_end >= 3247864)]"
   ]
  },
  {
   "cell_type": "code",
   "execution_count": null,
   "metadata": {},
   "outputs": [],
   "source": []
  }
 ],
 "metadata": {
  "kernelspec": {
   "display_name": "Python 2",
   "language": "python",
   "name": "python2"
  },
  "language_info": {
   "codemirror_mode": {
    "name": "ipython",
    "version": 2
   },
   "file_extension": ".py",
   "mimetype": "text/x-python",
   "name": "python",
   "nbconvert_exporter": "python",
   "pygments_lexer": "ipython2",
   "version": "2.7.16"
  }
 },
 "nbformat": 4,
 "nbformat_minor": 2
}
