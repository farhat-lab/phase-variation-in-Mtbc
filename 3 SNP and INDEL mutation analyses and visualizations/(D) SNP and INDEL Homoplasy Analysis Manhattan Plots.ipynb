{
 "cells": [
  {
   "cell_type": "code",
   "execution_count": 2,
   "metadata": {},
   "outputs": [
    {
     "data": {
      "text/html": [
       "<style>.container { width:100% !important; }</style>"
      ],
      "text/plain": [
       "<IPython.core.display.HTML object>"
      ]
     },
     "metadata": {},
     "output_type": "display_data"
    }
   ],
   "source": [
    "from IPython.core.display import display, HTML\n",
    "display(HTML(\"<style>.container { width:100% !important; }</style>\"))"
   ]
  },
  {
   "cell_type": "code",
   "execution_count": 3,
   "metadata": {},
   "outputs": [],
   "source": [
    "%matplotlib inline\n",
    "import os\n",
    "import pandas as pd\n",
    "import numpy as np\n",
    "import sys\n",
    "from collections import Counter\n",
    "import matplotlib.pyplot as plt\n",
    "import matplotlib as mpl\n",
    "from matplotlib import gridspec\n",
    "from matplotlib.patches import Rectangle\n",
    "from matplotlib.lines import Line2D\n",
    "import scipy.stats\n",
    "from mpl_toolkits.axes_grid1 import make_axes_locatable\n",
    "\n",
    "#for exporting to Adobe Illustrator\n",
    "mpl.rcParams['pdf.fonttype'] = 42\n",
    "mpl.rcParams['ps.fonttype'] = 42"
   ]
  },
  {
   "cell_type": "code",
   "execution_count": 4,
   "metadata": {},
   "outputs": [],
   "source": [
    "plt.style.use('ggplot')\n",
    "plt.rcParams['lines.linewidth']=0\n",
    "plt.rcParams['axes.facecolor']='1.0'\n",
    "plt.rcParams['xtick.color']='black'\n",
    "plt.rcParams['axes.grid']=False\n",
    "plt.rcParams['axes.edgecolor']='black'\n",
    "plt.rcParams['grid.color']= '1.0'\n",
    "plt.rcParams.update({'font.size': 10})\n",
    "plt.rc('font', family='serif')"
   ]
  },
  {
   "cell_type": "markdown",
   "metadata": {},
   "source": [
    "####################################################################################################################################################################################"
   ]
  },
  {
   "cell_type": "markdown",
   "metadata": {},
   "source": [
    "# [1] Load in Homoplasy Scores from *SNPPar* for SNPs"
   ]
  },
  {
   "cell_type": "markdown",
   "metadata": {},
   "source": [
    "####################################################################################################################################################################################"
   ]
  },
  {
   "cell_type": "code",
   "execution_count": 5,
   "metadata": {},
   "outputs": [],
   "source": [
    "#load in SNPs\n",
    "all_homoplasic_SNPs = pd.read_pickle('/n/data1/hms/dbmi/farhat/Roger/homoplasy_project/CSV_files/homoplasies_detected_in_global_lineages/SNP homoplasies from SNPPar/homoplasy_count_across_lineages.pkl')"
   ]
  },
  {
   "cell_type": "code",
   "execution_count": 6,
   "metadata": {},
   "outputs": [
    {
     "data": {
      "text/html": [
       "<div>\n",
       "<style>\n",
       "    .dataframe thead tr:only-child th {\n",
       "        text-align: right;\n",
       "    }\n",
       "\n",
       "    .dataframe thead th {\n",
       "        text-align: left;\n",
       "    }\n",
       "\n",
       "    .dataframe tbody tr th {\n",
       "        vertical-align: top;\n",
       "    }\n",
       "</style>\n",
       "<table border=\"1\" class=\"dataframe\">\n",
       "  <thead>\n",
       "    <tr style=\"text-align: right;\">\n",
       "      <th></th>\n",
       "      <th>pos</th>\n",
       "      <th>ref</th>\n",
       "      <th>alt</th>\n",
       "      <th>minor</th>\n",
       "      <th>gene_id</th>\n",
       "      <th>gene_pos</th>\n",
       "      <th>gene_category</th>\n",
       "      <th>SNP_type</th>\n",
       "      <th>AA_change</th>\n",
       "      <th>1</th>\n",
       "      <th>2</th>\n",
       "      <th>3</th>\n",
       "      <th>4A</th>\n",
       "      <th>4B</th>\n",
       "      <th>4C</th>\n",
       "      <th>5</th>\n",
       "      <th>6</th>\n",
       "      <th>total</th>\n",
       "      <th>gene_name</th>\n",
       "      <th>num_isolates_alt</th>\n",
       "    </tr>\n",
       "  </thead>\n",
       "  <tbody>\n",
       "    <tr>\n",
       "      <th>0</th>\n",
       "      <td>2155168.0</td>\n",
       "      <td>C</td>\n",
       "      <td>G</td>\n",
       "      <td>G</td>\n",
       "      <td>Rv1908c</td>\n",
       "      <td>944</td>\n",
       "      <td>Antibiotic Resistance</td>\n",
       "      <td>N</td>\n",
       "      <td>S315T</td>\n",
       "      <td>203</td>\n",
       "      <td>408</td>\n",
       "      <td>297</td>\n",
       "      <td>306</td>\n",
       "      <td>310</td>\n",
       "      <td>179</td>\n",
       "      <td>8</td>\n",
       "      <td>6</td>\n",
       "      <td>1717</td>\n",
       "      <td>katG</td>\n",
       "      <td>8066</td>\n",
       "    </tr>\n",
       "    <tr>\n",
       "      <th>1</th>\n",
       "      <td>761155.0</td>\n",
       "      <td>C</td>\n",
       "      <td>T</td>\n",
       "      <td>T</td>\n",
       "      <td>Rv0667</td>\n",
       "      <td>1349</td>\n",
       "      <td>Antibiotic Resistance</td>\n",
       "      <td>N</td>\n",
       "      <td>S450L</td>\n",
       "      <td>75</td>\n",
       "      <td>415</td>\n",
       "      <td>199</td>\n",
       "      <td>222</td>\n",
       "      <td>311</td>\n",
       "      <td>173</td>\n",
       "      <td>8</td>\n",
       "      <td>3</td>\n",
       "      <td>1406</td>\n",
       "      <td>rpoB</td>\n",
       "      <td>5706</td>\n",
       "    </tr>\n",
       "    <tr>\n",
       "      <th>2</th>\n",
       "      <td>781687.0</td>\n",
       "      <td>A</td>\n",
       "      <td>G</td>\n",
       "      <td>G</td>\n",
       "      <td>Rv0682</td>\n",
       "      <td>128</td>\n",
       "      <td>Antibiotic Resistance</td>\n",
       "      <td>N</td>\n",
       "      <td>K43R</td>\n",
       "      <td>37</td>\n",
       "      <td>463</td>\n",
       "      <td>102</td>\n",
       "      <td>65</td>\n",
       "      <td>53</td>\n",
       "      <td>51</td>\n",
       "      <td>6</td>\n",
       "      <td>2</td>\n",
       "      <td>779</td>\n",
       "      <td>rpsL</td>\n",
       "      <td>3509</td>\n",
       "    </tr>\n",
       "    <tr>\n",
       "      <th>4</th>\n",
       "      <td>4247429.0</td>\n",
       "      <td>A</td>\n",
       "      <td>G</td>\n",
       "      <td>G</td>\n",
       "      <td>Rv3795</td>\n",
       "      <td>916</td>\n",
       "      <td>Antibiotic Resistance</td>\n",
       "      <td>N</td>\n",
       "      <td>M306V</td>\n",
       "      <td>32</td>\n",
       "      <td>406</td>\n",
       "      <td>67</td>\n",
       "      <td>76</td>\n",
       "      <td>99</td>\n",
       "      <td>60</td>\n",
       "      <td>2</td>\n",
       "      <td>1</td>\n",
       "      <td>743</td>\n",
       "      <td>embB</td>\n",
       "      <td>2102</td>\n",
       "    </tr>\n",
       "    <tr>\n",
       "      <th>6</th>\n",
       "      <td>7582.0</td>\n",
       "      <td>A</td>\n",
       "      <td>G</td>\n",
       "      <td>G</td>\n",
       "      <td>Rv0006</td>\n",
       "      <td>281</td>\n",
       "      <td>Antibiotic Resistance</td>\n",
       "      <td>N</td>\n",
       "      <td>D94G</td>\n",
       "      <td>10</td>\n",
       "      <td>320</td>\n",
       "      <td>67</td>\n",
       "      <td>77</td>\n",
       "      <td>53</td>\n",
       "      <td>25</td>\n",
       "      <td>0</td>\n",
       "      <td>0</td>\n",
       "      <td>552</td>\n",
       "      <td>gyrA</td>\n",
       "      <td>844</td>\n",
       "    </tr>\n",
       "  </tbody>\n",
       "</table>\n",
       "</div>"
      ],
      "text/plain": [
       "         pos ref alt minor  gene_id gene_pos          gene_category SNP_type  \\\n",
       "0  2155168.0   C   G     G  Rv1908c      944  Antibiotic Resistance        N   \n",
       "1   761155.0   C   T     T   Rv0667     1349  Antibiotic Resistance        N   \n",
       "2   781687.0   A   G     G   Rv0682      128  Antibiotic Resistance        N   \n",
       "4  4247429.0   A   G     G   Rv3795      916  Antibiotic Resistance        N   \n",
       "6     7582.0   A   G     G   Rv0006      281  Antibiotic Resistance        N   \n",
       "\n",
       "  AA_change    1    2    3   4A   4B   4C  5  6  total gene_name  \\\n",
       "0     S315T  203  408  297  306  310  179  8  6   1717      katG   \n",
       "1     S450L   75  415  199  222  311  173  8  3   1406      rpoB   \n",
       "2      K43R   37  463  102   65   53   51  6  2    779      rpsL   \n",
       "4     M306V   32  406   67   76   99   60  2  1    743      embB   \n",
       "6      D94G   10  320   67   77   53   25  0  0    552      gyrA   \n",
       "\n",
       "   num_isolates_alt  \n",
       "0              8066  \n",
       "1              5706  \n",
       "2              3509  \n",
       "4              2102  \n",
       "6               844  "
      ]
     },
     "execution_count": 6,
     "metadata": {},
     "output_type": "execute_result"
    }
   ],
   "source": [
    "all_homoplasic_SNPs.head()"
   ]
  },
  {
   "cell_type": "code",
   "execution_count": 7,
   "metadata": {},
   "outputs": [
    {
     "data": {
      "text/plain": [
       "(834981, 20)"
      ]
     },
     "execution_count": 7,
     "metadata": {},
     "output_type": "execute_result"
    }
   ],
   "source": [
    "np.shape(all_homoplasic_SNPs)"
   ]
  },
  {
   "cell_type": "markdown",
   "metadata": {},
   "source": [
    "Note - SNPs & INDELs with homoplasy score $ = 0$ were dropped from DataFrames"
   ]
  },
  {
   "cell_type": "markdown",
   "metadata": {},
   "source": [
    "#### mark *mmpR* (Rv0678)  & *glpK* (Rv3696c) as an Antibiotic Resistance gene"
   ]
  },
  {
   "cell_type": "code",
   "execution_count": 8,
   "metadata": {},
   "outputs": [],
   "source": [
    "all_homoplasic_SNPs.loc[all_homoplasic_SNPs['gene_id'] == 'Rv0678', 'gene_category'] = 'Antibiotic Resistance'\n",
    "all_homoplasic_SNPs.loc[all_homoplasic_SNPs['gene_id'] == 'Rv0678', 'gene_name'] = 'mmpR'\n",
    "\n",
    "all_homoplasic_SNPs.loc[all_homoplasic_SNPs['gene_id'] == 'Rv3696c', 'gene_category'] = 'Antibiotic Resistance'"
   ]
  },
  {
   "cell_type": "code",
   "execution_count": null,
   "metadata": {},
   "outputs": [],
   "source": []
  },
  {
   "cell_type": "code",
   "execution_count": null,
   "metadata": {},
   "outputs": [],
   "source": [
    "ettA_SNVs = all_homoplasic_SNPs[all_homoplasic_SNPs.gene_id == 'Rv2477c']\n",
    "ettA_SNVs.sort_values(by ='total', ascending = False, inplace = True)"
   ]
  },
  {
   "cell_type": "code",
   "execution_count": 116,
   "metadata": {},
   "outputs": [
    {
     "data": {
      "text/plain": [
       "(311, 20)"
      ]
     },
     "execution_count": 116,
     "metadata": {},
     "output_type": "execute_result"
    }
   ],
   "source": [
    "ettA_SNVs.shape"
   ]
  },
  {
   "cell_type": "code",
   "execution_count": 115,
   "metadata": {},
   "outputs": [
    {
     "data": {
      "text/html": [
       "<div>\n",
       "<style>\n",
       "    .dataframe thead tr:only-child th {\n",
       "        text-align: right;\n",
       "    }\n",
       "\n",
       "    .dataframe thead th {\n",
       "        text-align: left;\n",
       "    }\n",
       "\n",
       "    .dataframe tbody tr th {\n",
       "        vertical-align: top;\n",
       "    }\n",
       "</style>\n",
       "<table border=\"1\" class=\"dataframe\">\n",
       "  <thead>\n",
       "    <tr style=\"text-align: right;\">\n",
       "      <th></th>\n",
       "      <th>pos</th>\n",
       "      <th>ref</th>\n",
       "      <th>alt</th>\n",
       "      <th>minor</th>\n",
       "      <th>gene_id</th>\n",
       "      <th>gene_pos</th>\n",
       "      <th>gene_category</th>\n",
       "      <th>SNP_type</th>\n",
       "      <th>AA_change</th>\n",
       "      <th>1</th>\n",
       "      <th>2</th>\n",
       "      <th>3</th>\n",
       "      <th>4A</th>\n",
       "      <th>4B</th>\n",
       "      <th>4C</th>\n",
       "      <th>5</th>\n",
       "      <th>6</th>\n",
       "      <th>total</th>\n",
       "      <th>gene_name</th>\n",
       "      <th>num_isolates_alt</th>\n",
       "    </tr>\n",
       "  </thead>\n",
       "  <tbody>\n",
       "    <tr>\n",
       "      <th>6610</th>\n",
       "      <td>2782766.0</td>\n",
       "      <td>A</td>\n",
       "      <td>G</td>\n",
       "      <td>G</td>\n",
       "      <td>Rv2477c</td>\n",
       "      <td>1277</td>\n",
       "      <td>Essential</td>\n",
       "      <td>N</td>\n",
       "      <td>V426A</td>\n",
       "      <td>0</td>\n",
       "      <td>4</td>\n",
       "      <td>0</td>\n",
       "      <td>0</td>\n",
       "      <td>0</td>\n",
       "      <td>0</td>\n",
       "      <td>0</td>\n",
       "      <td>0</td>\n",
       "      <td>4</td>\n",
       "      <td>Rv2477c</td>\n",
       "      <td>14</td>\n",
       "    </tr>\n",
       "    <tr>\n",
       "      <th>13439</th>\n",
       "      <td>2784034.0</td>\n",
       "      <td>C</td>\n",
       "      <td>T</td>\n",
       "      <td>T</td>\n",
       "      <td>Rv2477c</td>\n",
       "      <td>9</td>\n",
       "      <td>Essential</td>\n",
       "      <td>S</td>\n",
       "      <td>E3E</td>\n",
       "      <td>1</td>\n",
       "      <td>2</td>\n",
       "      <td>0</td>\n",
       "      <td>0</td>\n",
       "      <td>0</td>\n",
       "      <td>0</td>\n",
       "      <td>0</td>\n",
       "      <td>0</td>\n",
       "      <td>3</td>\n",
       "      <td>Rv2477c</td>\n",
       "      <td>4</td>\n",
       "    </tr>\n",
       "    <tr>\n",
       "      <th>13587</th>\n",
       "      <td>2783242.0</td>\n",
       "      <td>G</td>\n",
       "      <td>A</td>\n",
       "      <td>A</td>\n",
       "      <td>Rv2477c</td>\n",
       "      <td>801</td>\n",
       "      <td>Essential</td>\n",
       "      <td>S</td>\n",
       "      <td>T267T</td>\n",
       "      <td>1</td>\n",
       "      <td>0</td>\n",
       "      <td>0</td>\n",
       "      <td>2</td>\n",
       "      <td>0</td>\n",
       "      <td>0</td>\n",
       "      <td>0</td>\n",
       "      <td>0</td>\n",
       "      <td>3</td>\n",
       "      <td>Rv2477c</td>\n",
       "      <td>3</td>\n",
       "    </tr>\n",
       "    <tr>\n",
       "      <th>13593</th>\n",
       "      <td>2783335.0</td>\n",
       "      <td>G</td>\n",
       "      <td>A</td>\n",
       "      <td>A</td>\n",
       "      <td>Rv2477c</td>\n",
       "      <td>708</td>\n",
       "      <td>Essential</td>\n",
       "      <td>S</td>\n",
       "      <td>P236P</td>\n",
       "      <td>1</td>\n",
       "      <td>1</td>\n",
       "      <td>0</td>\n",
       "      <td>0</td>\n",
       "      <td>1</td>\n",
       "      <td>0</td>\n",
       "      <td>0</td>\n",
       "      <td>0</td>\n",
       "      <td>3</td>\n",
       "      <td>Rv2477c</td>\n",
       "      <td>5</td>\n",
       "    </tr>\n",
       "    <tr>\n",
       "      <th>13428</th>\n",
       "      <td>2783962.0</td>\n",
       "      <td>A</td>\n",
       "      <td>G</td>\n",
       "      <td>G</td>\n",
       "      <td>Rv2477c</td>\n",
       "      <td>81</td>\n",
       "      <td>Essential</td>\n",
       "      <td>S</td>\n",
       "      <td>S27S</td>\n",
       "      <td>0</td>\n",
       "      <td>0</td>\n",
       "      <td>0</td>\n",
       "      <td>0</td>\n",
       "      <td>3</td>\n",
       "      <td>0</td>\n",
       "      <td>0</td>\n",
       "      <td>0</td>\n",
       "      <td>3</td>\n",
       "      <td>Rv2477c</td>\n",
       "      <td>4</td>\n",
       "    </tr>\n",
       "  </tbody>\n",
       "</table>\n",
       "</div>"
      ],
      "text/plain": [
       "             pos ref alt minor  gene_id gene_pos gene_category SNP_type  \\\n",
       "6610   2782766.0   A   G     G  Rv2477c     1277     Essential        N   \n",
       "13439  2784034.0   C   T     T  Rv2477c        9     Essential        S   \n",
       "13587  2783242.0   G   A     A  Rv2477c      801     Essential        S   \n",
       "13593  2783335.0   G   A     A  Rv2477c      708     Essential        S   \n",
       "13428  2783962.0   A   G     G  Rv2477c       81     Essential        S   \n",
       "\n",
       "      AA_change  1  2  3  4A  4B  4C  5  6  total gene_name  num_isolates_alt  \n",
       "6610      V426A  0  4  0   0   0   0  0  0      4   Rv2477c                14  \n",
       "13439       E3E  1  2  0   0   0   0  0  0      3   Rv2477c                 4  \n",
       "13587     T267T  1  0  0   2   0   0  0  0      3   Rv2477c                 3  \n",
       "13593     P236P  1  1  0   0   1   0  0  0      3   Rv2477c                 5  \n",
       "13428      S27S  0  0  0   0   3   0  0  0      3   Rv2477c                 4  "
      ]
     },
     "execution_count": 115,
     "metadata": {},
     "output_type": "execute_result"
    }
   ],
   "source": [
    "ettA_SNVs.head()"
   ]
  },
  {
   "cell_type": "code",
   "execution_count": 110,
   "metadata": {},
   "outputs": [
    {
     "data": {
      "text/html": [
       "<div>\n",
       "<style>\n",
       "    .dataframe thead tr:only-child th {\n",
       "        text-align: right;\n",
       "    }\n",
       "\n",
       "    .dataframe thead th {\n",
       "        text-align: left;\n",
       "    }\n",
       "\n",
       "    .dataframe tbody tr th {\n",
       "        vertical-align: top;\n",
       "    }\n",
       "</style>\n",
       "<table border=\"1\" class=\"dataframe\">\n",
       "  <thead>\n",
       "    <tr style=\"text-align: right;\">\n",
       "      <th></th>\n",
       "      <th>pos</th>\n",
       "      <th>ref</th>\n",
       "      <th>alt</th>\n",
       "      <th>minor</th>\n",
       "      <th>gene_id</th>\n",
       "      <th>gene_pos</th>\n",
       "      <th>gene_category</th>\n",
       "      <th>SNP_type</th>\n",
       "      <th>AA_change</th>\n",
       "      <th>1</th>\n",
       "      <th>2</th>\n",
       "      <th>3</th>\n",
       "      <th>4A</th>\n",
       "      <th>4B</th>\n",
       "      <th>4C</th>\n",
       "      <th>5</th>\n",
       "      <th>6</th>\n",
       "      <th>total</th>\n",
       "      <th>gene_name</th>\n",
       "      <th>num_isolates_alt</th>\n",
       "    </tr>\n",
       "  </thead>\n",
       "  <tbody>\n",
       "    <tr>\n",
       "      <th>37782</th>\n",
       "      <td>2783921.0</td>\n",
       "      <td>C</td>\n",
       "      <td>T</td>\n",
       "      <td>T</td>\n",
       "      <td>Rv2477c</td>\n",
       "      <td>122</td>\n",
       "      <td>Essential</td>\n",
       "      <td>N</td>\n",
       "      <td>G41E</td>\n",
       "      <td>0</td>\n",
       "      <td>0</td>\n",
       "      <td>0</td>\n",
       "      <td>0</td>\n",
       "      <td>2</td>\n",
       "      <td>0</td>\n",
       "      <td>0</td>\n",
       "      <td>0</td>\n",
       "      <td>2</td>\n",
       "      <td>Rv2477c</td>\n",
       "      <td>289</td>\n",
       "    </tr>\n",
       "  </tbody>\n",
       "</table>\n",
       "</div>"
      ],
      "text/plain": [
       "             pos ref alt minor  gene_id gene_pos gene_category SNP_type  \\\n",
       "37782  2783921.0   C   T     T  Rv2477c      122     Essential        N   \n",
       "\n",
       "      AA_change  1  2  3  4A  4B  4C  5  6  total gene_name  num_isolates_alt  \n",
       "37782      G41E  0  0  0   0   2   0  0  0      2   Rv2477c               289  "
      ]
     },
     "execution_count": 110,
     "metadata": {},
     "output_type": "execute_result"
    }
   ],
   "source": [
    "ettA_SNVs[ettA_SNVs.AA_change=='G41E']"
   ]
  },
  {
   "cell_type": "markdown",
   "metadata": {},
   "source": [
    "####################################################################################################################################################################################"
   ]
  },
  {
   "cell_type": "markdown",
   "metadata": {},
   "source": [
    "# [2] Load in Homoplasy Scores from *TopDis (spacer length = 4)* for INDELs"
   ]
  },
  {
   "cell_type": "markdown",
   "metadata": {},
   "source": [
    "####################################################################################################################################################################################"
   ]
  },
  {
   "cell_type": "code",
   "execution_count": 9,
   "metadata": {},
   "outputs": [],
   "source": [
    "#load in INDELs\n",
    "all_homoplasic_INDELs = pd.read_pickle('/n/data1/hms/dbmi/farhat/Roger/homoplasy_project/CSV_files/homoplasies_detected_in_global_lineages/INDEL homoplasies/homoplasy_count_across_lineages_spacer_4.pkl')"
   ]
  },
  {
   "cell_type": "code",
   "execution_count": 10,
   "metadata": {},
   "outputs": [
    {
     "data": {
      "text/html": [
       "<div>\n",
       "<style>\n",
       "    .dataframe thead tr:only-child th {\n",
       "        text-align: right;\n",
       "    }\n",
       "\n",
       "    .dataframe thead th {\n",
       "        text-align: left;\n",
       "    }\n",
       "\n",
       "    .dataframe tbody tr th {\n",
       "        vertical-align: top;\n",
       "    }\n",
       "</style>\n",
       "<table border=\"1\" class=\"dataframe\">\n",
       "  <thead>\n",
       "    <tr style=\"text-align: right;\">\n",
       "      <th></th>\n",
       "      <th>pos</th>\n",
       "      <th>ref</th>\n",
       "      <th>alt</th>\n",
       "      <th>gene_category</th>\n",
       "      <th>gene_name</th>\n",
       "      <th>gene_id</th>\n",
       "      <th>gene_pos</th>\n",
       "      <th>ins_del</th>\n",
       "      <th>INDEL_type</th>\n",
       "      <th>codon_pos</th>\n",
       "      <th>...</th>\n",
       "      <th>1</th>\n",
       "      <th>2</th>\n",
       "      <th>3</th>\n",
       "      <th>4A</th>\n",
       "      <th>4B</th>\n",
       "      <th>4C</th>\n",
       "      <th>5</th>\n",
       "      <th>6</th>\n",
       "      <th>total</th>\n",
       "      <th>num_isolates</th>\n",
       "    </tr>\n",
       "  </thead>\n",
       "  <tbody>\n",
       "    <tr>\n",
       "      <th>47371</th>\n",
       "      <td>4408100</td>\n",
       "      <td>GC</td>\n",
       "      <td>G</td>\n",
       "      <td>Antibiotic Resistance</td>\n",
       "      <td>gid</td>\n",
       "      <td>Rv3919c</td>\n",
       "      <td>103</td>\n",
       "      <td>del</td>\n",
       "      <td>frameshift</td>\n",
       "      <td>35</td>\n",
       "      <td>...</td>\n",
       "      <td>41.0</td>\n",
       "      <td>27.0</td>\n",
       "      <td>51.0</td>\n",
       "      <td>43.0</td>\n",
       "      <td>11.0</td>\n",
       "      <td>29.0</td>\n",
       "      <td>0.0</td>\n",
       "      <td>0.0</td>\n",
       "      <td>202.0</td>\n",
       "      <td>388</td>\n",
       "    </tr>\n",
       "    <tr>\n",
       "      <th>47365</th>\n",
       "      <td>4408087</td>\n",
       "      <td>CG</td>\n",
       "      <td>C</td>\n",
       "      <td>Antibiotic Resistance</td>\n",
       "      <td>gid</td>\n",
       "      <td>Rv3919c</td>\n",
       "      <td>116</td>\n",
       "      <td>del</td>\n",
       "      <td>frameshift</td>\n",
       "      <td>39</td>\n",
       "      <td>...</td>\n",
       "      <td>23.0</td>\n",
       "      <td>11.0</td>\n",
       "      <td>35.0</td>\n",
       "      <td>33.0</td>\n",
       "      <td>10.0</td>\n",
       "      <td>18.0</td>\n",
       "      <td>0.0</td>\n",
       "      <td>0.0</td>\n",
       "      <td>130.0</td>\n",
       "      <td>212</td>\n",
       "    </tr>\n",
       "    <tr>\n",
       "      <th>47313</th>\n",
       "      <td>4407851</td>\n",
       "      <td>GC</td>\n",
       "      <td>G</td>\n",
       "      <td>Antibiotic Resistance</td>\n",
       "      <td>gid</td>\n",
       "      <td>Rv3919c</td>\n",
       "      <td>352</td>\n",
       "      <td>del</td>\n",
       "      <td>frameshift</td>\n",
       "      <td>118</td>\n",
       "      <td>...</td>\n",
       "      <td>21.0</td>\n",
       "      <td>9.0</td>\n",
       "      <td>40.0</td>\n",
       "      <td>20.0</td>\n",
       "      <td>6.0</td>\n",
       "      <td>19.0</td>\n",
       "      <td>0.0</td>\n",
       "      <td>0.0</td>\n",
       "      <td>115.0</td>\n",
       "      <td>182</td>\n",
       "    </tr>\n",
       "    <tr>\n",
       "      <th>25151</th>\n",
       "      <td>2288850</td>\n",
       "      <td>A</td>\n",
       "      <td>ACC</td>\n",
       "      <td>Antibiotic Resistance</td>\n",
       "      <td>pncA</td>\n",
       "      <td>Rv2043c</td>\n",
       "      <td>392</td>\n",
       "      <td>ins</td>\n",
       "      <td>frameshift</td>\n",
       "      <td>131</td>\n",
       "      <td>...</td>\n",
       "      <td>1.0</td>\n",
       "      <td>14.0</td>\n",
       "      <td>6.0</td>\n",
       "      <td>3.0</td>\n",
       "      <td>6.0</td>\n",
       "      <td>2.0</td>\n",
       "      <td>0.0</td>\n",
       "      <td>0.0</td>\n",
       "      <td>32.0</td>\n",
       "      <td>48</td>\n",
       "    </tr>\n",
       "    <tr>\n",
       "      <th>47315</th>\n",
       "      <td>4407851</td>\n",
       "      <td>G</td>\n",
       "      <td>GC</td>\n",
       "      <td>Antibiotic Resistance</td>\n",
       "      <td>gid</td>\n",
       "      <td>Rv3919c</td>\n",
       "      <td>352</td>\n",
       "      <td>ins</td>\n",
       "      <td>frameshift</td>\n",
       "      <td>118</td>\n",
       "      <td>...</td>\n",
       "      <td>5.0</td>\n",
       "      <td>1.0</td>\n",
       "      <td>12.0</td>\n",
       "      <td>5.0</td>\n",
       "      <td>7.0</td>\n",
       "      <td>1.0</td>\n",
       "      <td>0.0</td>\n",
       "      <td>0.0</td>\n",
       "      <td>31.0</td>\n",
       "      <td>52</td>\n",
       "    </tr>\n",
       "  </tbody>\n",
       "</table>\n",
       "<p>5 rows × 22 columns</p>\n",
       "</div>"
      ],
      "text/plain": [
       "           pos ref  alt          gene_category gene_name  gene_id gene_pos  \\\n",
       "47371  4408100  GC    G  Antibiotic Resistance       gid  Rv3919c      103   \n",
       "47365  4408087  CG    C  Antibiotic Resistance       gid  Rv3919c      116   \n",
       "47313  4407851  GC    G  Antibiotic Resistance       gid  Rv3919c      352   \n",
       "25151  2288850   A  ACC  Antibiotic Resistance      pncA  Rv2043c      392   \n",
       "47315  4407851   G   GC  Antibiotic Resistance       gid  Rv3919c      352   \n",
       "\n",
       "      ins_del  INDEL_type codon_pos      ...          1     2     3    4A  \\\n",
       "47371     del  frameshift        35      ...       41.0  27.0  51.0  43.0   \n",
       "47365     del  frameshift        39      ...       23.0  11.0  35.0  33.0   \n",
       "47313     del  frameshift       118      ...       21.0   9.0  40.0  20.0   \n",
       "25151     ins  frameshift       131      ...        1.0  14.0   6.0   3.0   \n",
       "47315     ins  frameshift       118      ...        5.0   1.0  12.0   5.0   \n",
       "\n",
       "         4B    4C    5    6  total  num_isolates  \n",
       "47371  11.0  29.0  0.0  0.0  202.0           388  \n",
       "47365  10.0  18.0  0.0  0.0  130.0           212  \n",
       "47313   6.0  19.0  0.0  0.0  115.0           182  \n",
       "25151   6.0   2.0  0.0  0.0   32.0            48  \n",
       "47315   7.0   1.0  0.0  0.0   31.0            52  \n",
       "\n",
       "[5 rows x 22 columns]"
      ]
     },
     "execution_count": 10,
     "metadata": {},
     "output_type": "execute_result"
    }
   ],
   "source": [
    "all_homoplasic_INDELs.head()"
   ]
  },
  {
   "cell_type": "code",
   "execution_count": 11,
   "metadata": {},
   "outputs": [
    {
     "data": {
      "text/plain": [
       "(46306, 22)"
      ]
     },
     "execution_count": 11,
     "metadata": {},
     "output_type": "execute_result"
    }
   ],
   "source": [
    "np.shape(all_homoplasic_INDELs)"
   ]
  },
  {
   "cell_type": "markdown",
   "metadata": {},
   "source": [
    "INDELs that caused frameshifts within open reading frames"
   ]
  },
  {
   "cell_type": "code",
   "execution_count": 12,
   "metadata": {},
   "outputs": [],
   "source": [
    "INDEL_FS_filter = np.array([('_' not in gene_id) and (indel_type == 'frameshift') and (gene_cat != 'None') for gene_id, indel_type, gene_cat in zip(all_homoplasic_INDELs.gene_id, all_homoplasic_INDELs.INDEL_type, all_homoplasic_INDELs.gene_category)])\n",
    "FS_ORF_homoplasic_INDELs = all_homoplasic_INDELs[INDEL_FS_filter]"
   ]
  },
  {
   "cell_type": "code",
   "execution_count": 13,
   "metadata": {},
   "outputs": [
    {
     "data": {
      "text/plain": [
       "(32883, 22)"
      ]
     },
     "execution_count": 13,
     "metadata": {},
     "output_type": "execute_result"
    }
   ],
   "source": [
    "FS_ORF_homoplasic_INDELs.shape"
   ]
  },
  {
   "cell_type": "code",
   "execution_count": 14,
   "metadata": {},
   "outputs": [
    {
     "data": {
      "text/plain": [
       "0.003181876034109711"
      ]
     },
     "execution_count": 14,
     "metadata": {},
     "output_type": "execute_result"
    }
   ],
   "source": [
    "np.median(FS_ORF_homoplasic_INDELs.num_isolates.astype(float) / 31428.0) * 100.0"
   ]
  },
  {
   "cell_type": "markdown",
   "metadata": {},
   "source": [
    "Note - SNPs & INDELs with homoplasy score $ = 0$ were dropped from DataFrames"
   ]
  },
  {
   "cell_type": "markdown",
   "metadata": {},
   "source": [
    "#### mark *mmpR* (Rv0678) as an Antibiotic Resistance gene"
   ]
  },
  {
   "cell_type": "code",
   "execution_count": 15,
   "metadata": {},
   "outputs": [],
   "source": [
    "all_homoplasic_INDELs.loc[all_homoplasic_INDELs['gene_id'] == 'Rv0678', 'gene_category'] = 'Antibiotic Resistance'\n",
    "all_homoplasic_INDELs.loc[all_homoplasic_INDELs['gene_id'] == 'Rv0678', 'gene_name'] = 'mmpR'\n",
    "\n",
    "all_homoplasic_INDELs.loc[all_homoplasic_INDELs['gene_id'] == 'Rv3696c', 'gene_category'] = 'Antibiotic Resistance'"
   ]
  },
  {
   "cell_type": "markdown",
   "metadata": {},
   "source": [
    "## [2.1] Separate INDELs into those occcurring in HT regions, SSR regions and those not in either"
   ]
  },
  {
   "cell_type": "markdown",
   "metadata": {},
   "source": [
    "### HT"
   ]
  },
  {
   "cell_type": "code",
   "execution_count": 16,
   "metadata": {},
   "outputs": [],
   "source": [
    "homopolymeric_regions_from_Luca = pd.read_csv('/n/data1/hms/dbmi/farhat/Roger/homoplasy_project/CSV_files/comparison_with_homopolymeric_regions/homopolymer regions from Luca/list_homopolymers_7bpmore_pure.csv')"
   ]
  },
  {
   "cell_type": "markdown",
   "metadata": {},
   "source": [
    "create a set of all Reference Positions that occur within a Homopolymeric Tract"
   ]
  },
  {
   "cell_type": "code",
   "execution_count": 17,
   "metadata": {},
   "outputs": [],
   "source": [
    "all_HT_ref_postions = []\n",
    "for HT_i_start, HT_i_end in zip(homopolymeric_regions_from_Luca.chromStart, homopolymeric_regions_from_Luca.chromEnd):\n",
    "    \n",
    "    HT_i_ref_positions = range(HT_i_start, HT_i_end+1)\n",
    "    all_HT_ref_postions = all_HT_ref_postions + HT_i_ref_positions\n",
    "    \n",
    "all_HT_ref_postions = set(all_HT_ref_postions)"
   ]
  },
  {
   "cell_type": "code",
   "execution_count": 18,
   "metadata": {},
   "outputs": [
    {
     "data": {
      "text/plain": [
       "1160"
      ]
     },
     "execution_count": 18,
     "metadata": {},
     "output_type": "execute_result"
    }
   ],
   "source": [
    "len(all_HT_ref_postions)"
   ]
  },
  {
   "cell_type": "markdown",
   "metadata": {},
   "source": [
    "### SSR"
   ]
  },
  {
   "cell_type": "code",
   "execution_count": 19,
   "metadata": {},
   "outputs": [],
   "source": [
    "SSR_H37Rv_df = pd.read_pickle('/n/data1/hms/dbmi/farhat/Roger/homoplasy_project/CSV_files/simple_sequence_repeat_regions/SSR_H37Rv_2-6bp_at_least_3_repeats.pkl')"
   ]
  },
  {
   "cell_type": "code",
   "execution_count": 20,
   "metadata": {},
   "outputs": [
    {
     "data": {
      "text/html": [
       "<div>\n",
       "<style>\n",
       "    .dataframe thead tr:only-child th {\n",
       "        text-align: right;\n",
       "    }\n",
       "\n",
       "    .dataframe thead th {\n",
       "        text-align: left;\n",
       "    }\n",
       "\n",
       "    .dataframe tbody tr th {\n",
       "        vertical-align: top;\n",
       "    }\n",
       "</style>\n",
       "<table border=\"1\" class=\"dataframe\">\n",
       "  <thead>\n",
       "    <tr style=\"text-align: right;\">\n",
       "      <th></th>\n",
       "      <th>H37Rv_start</th>\n",
       "      <th>H37Rv_end</th>\n",
       "      <th>motif</th>\n",
       "      <th>repeats</th>\n",
       "    </tr>\n",
       "  </thead>\n",
       "  <tbody>\n",
       "    <tr>\n",
       "      <th>0</th>\n",
       "      <td>561</td>\n",
       "      <td>569</td>\n",
       "      <td>CGC</td>\n",
       "      <td>3</td>\n",
       "    </tr>\n",
       "    <tr>\n",
       "      <th>1</th>\n",
       "      <td>562</td>\n",
       "      <td>570</td>\n",
       "      <td>GCC</td>\n",
       "      <td>3</td>\n",
       "    </tr>\n",
       "    <tr>\n",
       "      <th>2</th>\n",
       "      <td>643</td>\n",
       "      <td>648</td>\n",
       "      <td>AC</td>\n",
       "      <td>3</td>\n",
       "    </tr>\n",
       "    <tr>\n",
       "      <th>3</th>\n",
       "      <td>1121</td>\n",
       "      <td>1126</td>\n",
       "      <td>GC</td>\n",
       "      <td>3</td>\n",
       "    </tr>\n",
       "    <tr>\n",
       "      <th>4</th>\n",
       "      <td>1408</td>\n",
       "      <td>1413</td>\n",
       "      <td>CA</td>\n",
       "      <td>3</td>\n",
       "    </tr>\n",
       "  </tbody>\n",
       "</table>\n",
       "</div>"
      ],
      "text/plain": [
       "   H37Rv_start  H37Rv_end motif  repeats\n",
       "0          561        569   CGC        3\n",
       "1          562        570   GCC        3\n",
       "2          643        648    AC        3\n",
       "3         1121       1126    GC        3\n",
       "4         1408       1413    CA        3"
      ]
     },
     "execution_count": 20,
     "metadata": {},
     "output_type": "execute_result"
    }
   ],
   "source": [
    "SSR_H37Rv_df.head()"
   ]
  },
  {
   "cell_type": "code",
   "execution_count": 21,
   "metadata": {},
   "outputs": [],
   "source": [
    "H37Rv_SSR_positions_list = []\n",
    "for SSR_i_start, SSR_i_end in zip(SSR_H37Rv_df.H37Rv_start, SSR_H37Rv_df.H37Rv_end):\n",
    "    \n",
    "    SSR_i_H37Rv_coords = list(np.arange(SSR_i_start, SSR_i_end + 1))\n",
    "    \n",
    "    H37Rv_SSR_positions_list = H37Rv_SSR_positions_list + SSR_i_H37Rv_coords\n",
    "    \n",
    "H37Rv_SSR_positions_list = list(set(H37Rv_SSR_positions_list)) # remove duplicate positions from overlapping SSR regions"
   ]
  },
  {
   "cell_type": "markdown",
   "metadata": {},
   "source": [
    "#### Start at -1bp relative to the SSR track since that's where variants are usually called"
   ]
  },
  {
   "cell_type": "code",
   "execution_count": 22,
   "metadata": {},
   "outputs": [],
   "source": [
    "SSR_H37Rv_df.loc[:, 'H37Rv_start'] = SSR_H37Rv_df.H37Rv_start - 1"
   ]
  },
  {
   "cell_type": "code",
   "execution_count": 23,
   "metadata": {},
   "outputs": [
    {
     "data": {
      "text/html": [
       "<div>\n",
       "<style>\n",
       "    .dataframe thead tr:only-child th {\n",
       "        text-align: right;\n",
       "    }\n",
       "\n",
       "    .dataframe thead th {\n",
       "        text-align: left;\n",
       "    }\n",
       "\n",
       "    .dataframe tbody tr th {\n",
       "        vertical-align: top;\n",
       "    }\n",
       "</style>\n",
       "<table border=\"1\" class=\"dataframe\">\n",
       "  <thead>\n",
       "    <tr style=\"text-align: right;\">\n",
       "      <th></th>\n",
       "      <th>H37Rv_start</th>\n",
       "      <th>H37Rv_end</th>\n",
       "      <th>motif</th>\n",
       "      <th>repeats</th>\n",
       "    </tr>\n",
       "  </thead>\n",
       "  <tbody>\n",
       "    <tr>\n",
       "      <th>0</th>\n",
       "      <td>560</td>\n",
       "      <td>569</td>\n",
       "      <td>CGC</td>\n",
       "      <td>3</td>\n",
       "    </tr>\n",
       "    <tr>\n",
       "      <th>1</th>\n",
       "      <td>561</td>\n",
       "      <td>570</td>\n",
       "      <td>GCC</td>\n",
       "      <td>3</td>\n",
       "    </tr>\n",
       "    <tr>\n",
       "      <th>2</th>\n",
       "      <td>642</td>\n",
       "      <td>648</td>\n",
       "      <td>AC</td>\n",
       "      <td>3</td>\n",
       "    </tr>\n",
       "    <tr>\n",
       "      <th>3</th>\n",
       "      <td>1120</td>\n",
       "      <td>1126</td>\n",
       "      <td>GC</td>\n",
       "      <td>3</td>\n",
       "    </tr>\n",
       "    <tr>\n",
       "      <th>4</th>\n",
       "      <td>1407</td>\n",
       "      <td>1413</td>\n",
       "      <td>CA</td>\n",
       "      <td>3</td>\n",
       "    </tr>\n",
       "  </tbody>\n",
       "</table>\n",
       "</div>"
      ],
      "text/plain": [
       "   H37Rv_start  H37Rv_end motif  repeats\n",
       "0          560        569   CGC        3\n",
       "1          561        570   GCC        3\n",
       "2          642        648    AC        3\n",
       "3         1120       1126    GC        3\n",
       "4         1407       1413    CA        3"
      ]
     },
     "execution_count": 23,
     "metadata": {},
     "output_type": "execute_result"
    }
   ],
   "source": [
    "SSR_H37Rv_df.head()"
   ]
  },
  {
   "cell_type": "markdown",
   "metadata": {},
   "source": [
    "**Note:** use this list when sorting INDEL variants that occur within an SSR region"
   ]
  },
  {
   "cell_type": "code",
   "execution_count": 24,
   "metadata": {},
   "outputs": [],
   "source": [
    "H37Rv_SSR_positions_list = []\n",
    "for SSR_i_start, SSR_i_end in zip(SSR_H37Rv_df.H37Rv_start, SSR_H37Rv_df.H37Rv_end):\n",
    "    \n",
    "    SSR_i_H37Rv_coords = list(np.arange(SSR_i_start, SSR_i_end + 1))\n",
    "    \n",
    "    H37Rv_SSR_positions_list = H37Rv_SSR_positions_list + SSR_i_H37Rv_coords\n",
    "    \n",
    "H37Rv_SSR_positions_list = list(set(H37Rv_SSR_positions_list)) # remove duplicate positions from overlapping SSR regions"
   ]
  },
  {
   "cell_type": "code",
   "execution_count": 25,
   "metadata": {},
   "outputs": [
    {
     "data": {
      "text/plain": [
       "112673"
      ]
     },
     "execution_count": 25,
     "metadata": {},
     "output_type": "execute_result"
    }
   ],
   "source": [
    "len(H37Rv_SSR_positions_list)"
   ]
  },
  {
   "cell_type": "markdown",
   "metadata": {},
   "source": [
    "set of all Reference Positions that occur within a SSR region (including positions at -1bp relative to SSR region)"
   ]
  },
  {
   "cell_type": "code",
   "execution_count": 26,
   "metadata": {},
   "outputs": [],
   "source": [
    "H37Rv_SSR_positions = set(H37Rv_SSR_positions_list)"
   ]
  },
  {
   "cell_type": "code",
   "execution_count": 27,
   "metadata": {},
   "outputs": [
    {
     "data": {
      "text/plain": [
       "112673"
      ]
     },
     "execution_count": 27,
     "metadata": {},
     "output_type": "execute_result"
    }
   ],
   "source": [
    "len(H37Rv_SSR_positions)"
   ]
  },
  {
   "cell_type": "markdown",
   "metadata": {},
   "source": [
    "### Annotate each INDEL based on whether it is in a SSR or HR or other"
   ]
  },
  {
   "cell_type": "markdown",
   "metadata": {},
   "source": [
    "iterate through all INDELs and figure out which occur in SSR and those that don't"
   ]
  },
  {
   "cell_type": "code",
   "execution_count": 28,
   "metadata": {},
   "outputs": [],
   "source": [
    "repeat_region_list = []\n",
    "for indel_i_pos in all_homoplasic_INDELs.pos:\n",
    "    \n",
    "    if indel_i_pos in all_HT_ref_postions:\n",
    "        repeat_region_list.append('HT')\n",
    "    \n",
    "    elif indel_i_pos in H37Rv_SSR_positions:\n",
    "        repeat_region_list.append('SSR')\n",
    "        \n",
    "    else:\n",
    "        repeat_region_list.append('no')\n",
    "        \n",
    "all_homoplasic_INDELs.loc[:,'repeat_region'] = repeat_region_list"
   ]
  },
  {
   "cell_type": "code",
   "execution_count": 29,
   "metadata": {},
   "outputs": [
    {
     "data": {
      "text/html": [
       "<div>\n",
       "<style>\n",
       "    .dataframe thead tr:only-child th {\n",
       "        text-align: right;\n",
       "    }\n",
       "\n",
       "    .dataframe thead th {\n",
       "        text-align: left;\n",
       "    }\n",
       "\n",
       "    .dataframe tbody tr th {\n",
       "        vertical-align: top;\n",
       "    }\n",
       "</style>\n",
       "<table border=\"1\" class=\"dataframe\">\n",
       "  <thead>\n",
       "    <tr style=\"text-align: right;\">\n",
       "      <th></th>\n",
       "      <th>pos</th>\n",
       "      <th>ref</th>\n",
       "      <th>alt</th>\n",
       "      <th>gene_category</th>\n",
       "      <th>gene_name</th>\n",
       "      <th>gene_id</th>\n",
       "      <th>gene_pos</th>\n",
       "      <th>ins_del</th>\n",
       "      <th>INDEL_type</th>\n",
       "      <th>codon_pos</th>\n",
       "      <th>...</th>\n",
       "      <th>2</th>\n",
       "      <th>3</th>\n",
       "      <th>4A</th>\n",
       "      <th>4B</th>\n",
       "      <th>4C</th>\n",
       "      <th>5</th>\n",
       "      <th>6</th>\n",
       "      <th>total</th>\n",
       "      <th>num_isolates</th>\n",
       "      <th>repeat_region</th>\n",
       "    </tr>\n",
       "  </thead>\n",
       "  <tbody>\n",
       "    <tr>\n",
       "      <th>47371</th>\n",
       "      <td>4408100</td>\n",
       "      <td>GC</td>\n",
       "      <td>G</td>\n",
       "      <td>Antibiotic Resistance</td>\n",
       "      <td>gid</td>\n",
       "      <td>Rv3919c</td>\n",
       "      <td>103</td>\n",
       "      <td>del</td>\n",
       "      <td>frameshift</td>\n",
       "      <td>35</td>\n",
       "      <td>...</td>\n",
       "      <td>27.0</td>\n",
       "      <td>51.0</td>\n",
       "      <td>43.0</td>\n",
       "      <td>11.0</td>\n",
       "      <td>29.0</td>\n",
       "      <td>0.0</td>\n",
       "      <td>0.0</td>\n",
       "      <td>202.0</td>\n",
       "      <td>388</td>\n",
       "      <td>no</td>\n",
       "    </tr>\n",
       "    <tr>\n",
       "      <th>47365</th>\n",
       "      <td>4408087</td>\n",
       "      <td>CG</td>\n",
       "      <td>C</td>\n",
       "      <td>Antibiotic Resistance</td>\n",
       "      <td>gid</td>\n",
       "      <td>Rv3919c</td>\n",
       "      <td>116</td>\n",
       "      <td>del</td>\n",
       "      <td>frameshift</td>\n",
       "      <td>39</td>\n",
       "      <td>...</td>\n",
       "      <td>11.0</td>\n",
       "      <td>35.0</td>\n",
       "      <td>33.0</td>\n",
       "      <td>10.0</td>\n",
       "      <td>18.0</td>\n",
       "      <td>0.0</td>\n",
       "      <td>0.0</td>\n",
       "      <td>130.0</td>\n",
       "      <td>212</td>\n",
       "      <td>no</td>\n",
       "    </tr>\n",
       "    <tr>\n",
       "      <th>47313</th>\n",
       "      <td>4407851</td>\n",
       "      <td>GC</td>\n",
       "      <td>G</td>\n",
       "      <td>Antibiotic Resistance</td>\n",
       "      <td>gid</td>\n",
       "      <td>Rv3919c</td>\n",
       "      <td>352</td>\n",
       "      <td>del</td>\n",
       "      <td>frameshift</td>\n",
       "      <td>118</td>\n",
       "      <td>...</td>\n",
       "      <td>9.0</td>\n",
       "      <td>40.0</td>\n",
       "      <td>20.0</td>\n",
       "      <td>6.0</td>\n",
       "      <td>19.0</td>\n",
       "      <td>0.0</td>\n",
       "      <td>0.0</td>\n",
       "      <td>115.0</td>\n",
       "      <td>182</td>\n",
       "      <td>SSR</td>\n",
       "    </tr>\n",
       "    <tr>\n",
       "      <th>25151</th>\n",
       "      <td>2288850</td>\n",
       "      <td>A</td>\n",
       "      <td>ACC</td>\n",
       "      <td>Antibiotic Resistance</td>\n",
       "      <td>pncA</td>\n",
       "      <td>Rv2043c</td>\n",
       "      <td>392</td>\n",
       "      <td>ins</td>\n",
       "      <td>frameshift</td>\n",
       "      <td>131</td>\n",
       "      <td>...</td>\n",
       "      <td>14.0</td>\n",
       "      <td>6.0</td>\n",
       "      <td>3.0</td>\n",
       "      <td>6.0</td>\n",
       "      <td>2.0</td>\n",
       "      <td>0.0</td>\n",
       "      <td>0.0</td>\n",
       "      <td>32.0</td>\n",
       "      <td>48</td>\n",
       "      <td>no</td>\n",
       "    </tr>\n",
       "    <tr>\n",
       "      <th>47315</th>\n",
       "      <td>4407851</td>\n",
       "      <td>G</td>\n",
       "      <td>GC</td>\n",
       "      <td>Antibiotic Resistance</td>\n",
       "      <td>gid</td>\n",
       "      <td>Rv3919c</td>\n",
       "      <td>352</td>\n",
       "      <td>ins</td>\n",
       "      <td>frameshift</td>\n",
       "      <td>118</td>\n",
       "      <td>...</td>\n",
       "      <td>1.0</td>\n",
       "      <td>12.0</td>\n",
       "      <td>5.0</td>\n",
       "      <td>7.0</td>\n",
       "      <td>1.0</td>\n",
       "      <td>0.0</td>\n",
       "      <td>0.0</td>\n",
       "      <td>31.0</td>\n",
       "      <td>52</td>\n",
       "      <td>SSR</td>\n",
       "    </tr>\n",
       "  </tbody>\n",
       "</table>\n",
       "<p>5 rows × 23 columns</p>\n",
       "</div>"
      ],
      "text/plain": [
       "           pos ref  alt          gene_category gene_name  gene_id gene_pos  \\\n",
       "47371  4408100  GC    G  Antibiotic Resistance       gid  Rv3919c      103   \n",
       "47365  4408087  CG    C  Antibiotic Resistance       gid  Rv3919c      116   \n",
       "47313  4407851  GC    G  Antibiotic Resistance       gid  Rv3919c      352   \n",
       "25151  2288850   A  ACC  Antibiotic Resistance      pncA  Rv2043c      392   \n",
       "47315  4407851   G   GC  Antibiotic Resistance       gid  Rv3919c      352   \n",
       "\n",
       "      ins_del  INDEL_type codon_pos      ...           2     3    4A    4B  \\\n",
       "47371     del  frameshift        35      ...        27.0  51.0  43.0  11.0   \n",
       "47365     del  frameshift        39      ...        11.0  35.0  33.0  10.0   \n",
       "47313     del  frameshift       118      ...         9.0  40.0  20.0   6.0   \n",
       "25151     ins  frameshift       131      ...        14.0   6.0   3.0   6.0   \n",
       "47315     ins  frameshift       118      ...         1.0  12.0   5.0   7.0   \n",
       "\n",
       "         4C    5    6  total  num_isolates  repeat_region  \n",
       "47371  29.0  0.0  0.0  202.0           388             no  \n",
       "47365  18.0  0.0  0.0  130.0           212             no  \n",
       "47313  19.0  0.0  0.0  115.0           182            SSR  \n",
       "25151   2.0  0.0  0.0   32.0            48             no  \n",
       "47315   1.0  0.0  0.0   31.0            52            SSR  \n",
       "\n",
       "[5 rows x 23 columns]"
      ]
     },
     "execution_count": 29,
     "metadata": {},
     "output_type": "execute_result"
    }
   ],
   "source": [
    "all_homoplasic_INDELs.head()"
   ]
  },
  {
   "cell_type": "markdown",
   "metadata": {},
   "source": [
    "####################################################################################################################################################################################"
   ]
  },
  {
   "cell_type": "markdown",
   "metadata": {},
   "source": [
    "# [2A] side-analyses"
   ]
  },
  {
   "cell_type": "markdown",
   "metadata": {},
   "source": [
    "####################################################################################################################################################################################"
   ]
  },
  {
   "cell_type": "markdown",
   "metadata": {},
   "source": [
    "### [1] IQR  of homoplasy scores"
   ]
  },
  {
   "cell_type": "markdown",
   "metadata": {},
   "source": [
    "Median & IQR of **SNVs**"
   ]
  },
  {
   "cell_type": "code",
   "execution_count": 27,
   "metadata": {},
   "outputs": [
    {
     "data": {
      "text/plain": [
       "1.0"
      ]
     },
     "execution_count": 27,
     "metadata": {},
     "output_type": "execute_result"
    }
   ],
   "source": [
    "np.median(all_homoplasic_SNPs.total)"
   ]
  },
  {
   "cell_type": "code",
   "execution_count": 28,
   "metadata": {},
   "outputs": [
    {
     "data": {
      "text/plain": [
       "1.1998069417148414"
      ]
     },
     "execution_count": 28,
     "metadata": {},
     "output_type": "execute_result"
    }
   ],
   "source": [
    "np.mean(all_homoplasic_SNPs.total)"
   ]
  },
  {
   "cell_type": "code",
   "execution_count": 29,
   "metadata": {},
   "outputs": [],
   "source": [
    "q75, q25 = np.percentile(all_homoplasic_SNPs.total, [75, 25])\n",
    "iqr = q75 - q25"
   ]
  },
  {
   "cell_type": "code",
   "execution_count": 30,
   "metadata": {},
   "outputs": [
    {
     "data": {
      "text/plain": [
       "1.0"
      ]
     },
     "execution_count": 30,
     "metadata": {},
     "output_type": "execute_result"
    }
   ],
   "source": [
    "q25"
   ]
  },
  {
   "cell_type": "code",
   "execution_count": 31,
   "metadata": {},
   "outputs": [
    {
     "data": {
      "text/plain": [
       "1.0"
      ]
     },
     "execution_count": 31,
     "metadata": {},
     "output_type": "execute_result"
    }
   ],
   "source": [
    "q75"
   ]
  },
  {
   "cell_type": "markdown",
   "metadata": {},
   "source": [
    "proportion of SNVs that have *Hs* = 1"
   ]
  },
  {
   "cell_type": "code",
   "execution_count": 32,
   "metadata": {},
   "outputs": [
    {
     "data": {
      "text/plain": [
       "0.8947652701079426"
      ]
     },
     "execution_count": 32,
     "metadata": {},
     "output_type": "execute_result"
    }
   ],
   "source": [
    "float(sum(all_homoplasic_SNPs.total == 1)) / float(len(all_homoplasic_SNPs.total))"
   ]
  },
  {
   "cell_type": "markdown",
   "metadata": {},
   "source": [
    "number of SNVs w/ *Hs* > 100"
   ]
  },
  {
   "cell_type": "code",
   "execution_count": 33,
   "metadata": {},
   "outputs": [
    {
     "data": {
      "text/plain": [
       "102"
      ]
     },
     "execution_count": 33,
     "metadata": {},
     "output_type": "execute_result"
    }
   ],
   "source": [
    "sum(all_homoplasic_SNPs.total >= 100)"
   ]
  },
  {
   "cell_type": "markdown",
   "metadata": {},
   "source": [
    "Median & IQR of **INDELs**"
   ]
  },
  {
   "cell_type": "code",
   "execution_count": 34,
   "metadata": {},
   "outputs": [
    {
     "data": {
      "text/plain": [
       "1.0"
      ]
     },
     "execution_count": 34,
     "metadata": {},
     "output_type": "execute_result"
    }
   ],
   "source": [
    "np.median(all_homoplasic_INDELs.total)"
   ]
  },
  {
   "cell_type": "code",
   "execution_count": 35,
   "metadata": {},
   "outputs": [
    {
     "data": {
      "text/plain": [
       "1.8928648555262817"
      ]
     },
     "execution_count": 35,
     "metadata": {},
     "output_type": "execute_result"
    }
   ],
   "source": [
    "np.mean(all_homoplasic_INDELs.total)"
   ]
  },
  {
   "cell_type": "code",
   "execution_count": 36,
   "metadata": {},
   "outputs": [],
   "source": [
    "q75, q25 = np.percentile(all_homoplasic_INDELs.total, [75, 25])\n",
    "iqr = q75 - q25"
   ]
  },
  {
   "cell_type": "code",
   "execution_count": 37,
   "metadata": {},
   "outputs": [
    {
     "data": {
      "text/plain": [
       "1.0"
      ]
     },
     "execution_count": 37,
     "metadata": {},
     "output_type": "execute_result"
    }
   ],
   "source": [
    "q25"
   ]
  },
  {
   "cell_type": "code",
   "execution_count": 38,
   "metadata": {},
   "outputs": [
    {
     "data": {
      "text/plain": [
       "1.0"
      ]
     },
     "execution_count": 38,
     "metadata": {},
     "output_type": "execute_result"
    }
   ],
   "source": [
    "q75"
   ]
  },
  {
   "cell_type": "markdown",
   "metadata": {},
   "source": [
    "proportion of INDELs that have *Hs* = 1"
   ]
  },
  {
   "cell_type": "code",
   "execution_count": 39,
   "metadata": {},
   "outputs": [
    {
     "data": {
      "text/plain": [
       "0.8856951582948214"
      ]
     },
     "execution_count": 39,
     "metadata": {},
     "output_type": "execute_result"
    }
   ],
   "source": [
    "float(sum(all_homoplasic_INDELs.total == 1)) / float(len(all_homoplasic_INDELs.total))"
   ]
  },
  {
   "cell_type": "markdown",
   "metadata": {},
   "source": [
    "number of INDELs w/ *Hs* > 100"
   ]
  },
  {
   "cell_type": "code",
   "execution_count": 40,
   "metadata": {},
   "outputs": [
    {
     "data": {
      "text/plain": [
       "59"
      ]
     },
     "execution_count": 40,
     "metadata": {},
     "output_type": "execute_result"
    }
   ],
   "source": [
    "sum(all_homoplasic_INDELs.total >= 100)"
   ]
  },
  {
   "cell_type": "markdown",
   "metadata": {},
   "source": [
    "### [2] SNV-INDEL acquisition rate / kbp"
   ]
  },
  {
   "cell_type": "markdown",
   "metadata": {},
   "source": [
    "##### Find numerator by including combination of following depending on region being probed\n",
    "1. low EBR sites = 169630\n",
    "1. sites w/ 10% of isolates missing call = 31215\n",
    "1. sites in overlapping genes = 933\n",
    "1. sites in MGE regions = 79659\n",
    "1. sites within SSR regions = 112673\n",
    "1. sites within HT regions = 1160\n",
    "\n",
    "numbers taken from *mutational (SNV & INDEL) density calculations for genes.pynb*, *H_1_Scraping_Lucas_DB_for_Genotypes_Matrix_2 3.pynb* & *CLEAN - INDEL Homoplasy Analysis 2 (SSR INDELs).pynb*"
   ]
  },
  {
   "cell_type": "markdown",
   "metadata": {},
   "source": [
    "##### SNV rate per kbp across whole genome"
   ]
  },
  {
   "cell_type": "code",
   "execution_count": 41,
   "metadata": {},
   "outputs": [
    {
     "data": {
      "text/plain": [
       "242.5648804688512"
      ]
     },
     "execution_count": 41,
     "metadata": {},
     "output_type": "execute_result"
    }
   ],
   "source": [
    "all_homoplasic_variants = all_homoplasic_SNPs\n",
    "\n",
    "# numerator - total variants in this region\n",
    "total_variant_arisals = float(all_homoplasic_SNPs.total.sum())\n",
    "\n",
    "# denominator - length of H37Rv minus regions dropped (all low EBR sites + 10% isolates missing + sites in overlapping genes)\n",
    "genome_len = 4411532.0 - 169630.0 - 31215.0 - 933.0 - 79659.0\n",
    "\n",
    "(total_variant_arisals / genome_len)*1000.0"
   ]
  },
  {
   "cell_type": "code",
   "execution_count": 42,
   "metadata": {},
   "outputs": [
    {
     "data": {
      "text/plain": [
       "(834981, 20)"
      ]
     },
     "execution_count": 42,
     "metadata": {},
     "output_type": "execute_result"
    }
   ],
   "source": [
    "all_homoplasic_variants.shape"
   ]
  },
  {
   "cell_type": "markdown",
   "metadata": {},
   "source": [
    "##### INDEL rate per kbp across HT"
   ]
  },
  {
   "cell_type": "code",
   "execution_count": 43,
   "metadata": {},
   "outputs": [
    {
     "data": {
      "text/plain": [
       "9339.655172413793"
      ]
     },
     "execution_count": 43,
     "metadata": {},
     "output_type": "execute_result"
    }
   ],
   "source": [
    "all_homoplasic_variants = all_homoplasic_INDELs[all_homoplasic_INDELs.repeat_region == 'HT']\n",
    "\n",
    "# numerator - total variants in this region\n",
    "total_variant_arisals = float(all_homoplasic_variants.total.sum())\n",
    "\n",
    "# denominator - summed length of HT regions\n",
    "genome_len = 1160.0\n",
    "\n",
    "(total_variant_arisals / genome_len)*1000.0"
   ]
  },
  {
   "cell_type": "code",
   "execution_count": 44,
   "metadata": {},
   "outputs": [
    {
     "data": {
      "text/plain": [
       "(330, 23)"
      ]
     },
     "execution_count": 44,
     "metadata": {},
     "output_type": "execute_result"
    }
   ],
   "source": [
    "all_homoplasic_variants.shape"
   ]
  },
  {
   "cell_type": "markdown",
   "metadata": {},
   "source": [
    "##### INDEL rate per kbp across SSR"
   ]
  },
  {
   "cell_type": "code",
   "execution_count": 45,
   "metadata": {},
   "outputs": [
    {
     "data": {
      "text/plain": [
       "61.77167555669948"
      ]
     },
     "execution_count": 45,
     "metadata": {},
     "output_type": "execute_result"
    }
   ],
   "source": [
    "all_homoplasic_variants = all_homoplasic_INDELs[all_homoplasic_INDELs.repeat_region == 'SSR']\n",
    "\n",
    "# numerator - total variants in this region\n",
    "total_variant_arisals = float(all_homoplasic_variants.total.sum())\n",
    "\n",
    "# denominator - summed length of SSR regions\n",
    "genome_len = 112673.0\n",
    "\n",
    "(total_variant_arisals / genome_len)*1000.0"
   ]
  },
  {
   "cell_type": "code",
   "execution_count": 46,
   "metadata": {},
   "outputs": [
    {
     "data": {
      "text/plain": [
       "(2077, 23)"
      ]
     },
     "execution_count": 46,
     "metadata": {},
     "output_type": "execute_result"
    }
   ],
   "source": [
    "all_homoplasic_variants.shape"
   ]
  },
  {
   "cell_type": "markdown",
   "metadata": {},
   "source": [
    "##### INDEL rate per kbp across non-HT-SSR"
   ]
  },
  {
   "cell_type": "code",
   "execution_count": 47,
   "metadata": {},
   "outputs": [
    {
     "data": {
      "text/plain": [
       "16.914138778890074"
      ]
     },
     "execution_count": 47,
     "metadata": {},
     "output_type": "execute_result"
    }
   ],
   "source": [
    "all_homoplasic_variants = all_homoplasic_INDELs[all_homoplasic_INDELs.repeat_region == 'no']\n",
    "\n",
    "# numerator - total variants in this region\n",
    "total_variant_arisals = float(all_homoplasic_variants.total.sum())\n",
    "\n",
    "# denominator - length of H37Rv minus regions dropped (all low EBR sites + 10% isolates missing + sites in overlapping genes) - HR regions - SSR regions\n",
    "genome_len = 4411532.0 - 169630.0 - 31215.0 - 933.0 - 79659.0\n",
    "\n",
    "(total_variant_arisals / genome_len)*1000.0"
   ]
  },
  {
   "cell_type": "code",
   "execution_count": 48,
   "metadata": {},
   "outputs": [
    {
     "data": {
      "text/plain": [
       "(43899, 23)"
      ]
     },
     "execution_count": 48,
     "metadata": {},
     "output_type": "execute_result"
    }
   ],
   "source": [
    "all_homoplasic_variants.shape"
   ]
  },
  {
   "cell_type": "code",
   "execution_count": 49,
   "metadata": {},
   "outputs": [
    {
     "data": {
      "text/html": [
       "<div>\n",
       "<style>\n",
       "    .dataframe thead tr:only-child th {\n",
       "        text-align: right;\n",
       "    }\n",
       "\n",
       "    .dataframe thead th {\n",
       "        text-align: left;\n",
       "    }\n",
       "\n",
       "    .dataframe tbody tr th {\n",
       "        vertical-align: top;\n",
       "    }\n",
       "</style>\n",
       "<table border=\"1\" class=\"dataframe\">\n",
       "  <thead>\n",
       "    <tr style=\"text-align: right;\">\n",
       "      <th></th>\n",
       "      <th>pos</th>\n",
       "      <th>ref</th>\n",
       "      <th>alt</th>\n",
       "      <th>gene_category</th>\n",
       "      <th>gene_name</th>\n",
       "      <th>gene_id</th>\n",
       "      <th>gene_pos</th>\n",
       "      <th>ins_del</th>\n",
       "      <th>INDEL_type</th>\n",
       "      <th>codon_pos</th>\n",
       "      <th>...</th>\n",
       "      <th>2</th>\n",
       "      <th>3</th>\n",
       "      <th>4A</th>\n",
       "      <th>4B</th>\n",
       "      <th>4C</th>\n",
       "      <th>5</th>\n",
       "      <th>6</th>\n",
       "      <th>total</th>\n",
       "      <th>num_isolates</th>\n",
       "      <th>repeat_region</th>\n",
       "    </tr>\n",
       "  </thead>\n",
       "  <tbody>\n",
       "    <tr>\n",
       "      <th>33901</th>\n",
       "      <td>3131469</td>\n",
       "      <td>T</td>\n",
       "      <td>TTGTCGGCGA</td>\n",
       "      <td>Antigen</td>\n",
       "      <td>Rv2823c</td>\n",
       "      <td>Rv2823c</td>\n",
       "      <td>305</td>\n",
       "      <td>ins</td>\n",
       "      <td>inframe</td>\n",
       "      <td>102</td>\n",
       "      <td>...</td>\n",
       "      <td>377.0</td>\n",
       "      <td>183.0</td>\n",
       "      <td>351.0</td>\n",
       "      <td>367.0</td>\n",
       "      <td>88.0</td>\n",
       "      <td>5.0</td>\n",
       "      <td>5.0</td>\n",
       "      <td>1534.0</td>\n",
       "      <td>5093</td>\n",
       "      <td>no</td>\n",
       "    </tr>\n",
       "    <tr>\n",
       "      <th>20085</th>\n",
       "      <td>1894300</td>\n",
       "      <td>G</td>\n",
       "      <td>GGTCTTGCCGC</td>\n",
       "      <td>Non-Essential</td>\n",
       "      <td>Rv1668c</td>\n",
       "      <td>Rv1668c</td>\n",
       "      <td>1043</td>\n",
       "      <td>ins</td>\n",
       "      <td>frameshift</td>\n",
       "      <td>348</td>\n",
       "      <td>...</td>\n",
       "      <td>306.0</td>\n",
       "      <td>205.0</td>\n",
       "      <td>288.0</td>\n",
       "      <td>313.0</td>\n",
       "      <td>210.0</td>\n",
       "      <td>11.0</td>\n",
       "      <td>5.0</td>\n",
       "      <td>1488.0</td>\n",
       "      <td>12599</td>\n",
       "      <td>no</td>\n",
       "    </tr>\n",
       "    <tr>\n",
       "      <th>10886</th>\n",
       "      <td>968426</td>\n",
       "      <td>A</td>\n",
       "      <td>AGCCGGGTTG</td>\n",
       "      <td>PE/PPE</td>\n",
       "      <td>PE_PGRS15</td>\n",
       "      <td>Rv0872c</td>\n",
       "      <td>1819</td>\n",
       "      <td>ins</td>\n",
       "      <td>inframe</td>\n",
       "      <td>607</td>\n",
       "      <td>...</td>\n",
       "      <td>345.0</td>\n",
       "      <td>118.0</td>\n",
       "      <td>275.0</td>\n",
       "      <td>302.0</td>\n",
       "      <td>147.0</td>\n",
       "      <td>3.0</td>\n",
       "      <td>3.0</td>\n",
       "      <td>1331.0</td>\n",
       "      <td>2943</td>\n",
       "      <td>no</td>\n",
       "    </tr>\n",
       "  </tbody>\n",
       "</table>\n",
       "<p>3 rows × 23 columns</p>\n",
       "</div>"
      ],
      "text/plain": [
       "           pos ref          alt  gene_category  gene_name  gene_id gene_pos  \\\n",
       "33901  3131469   T   TTGTCGGCGA        Antigen    Rv2823c  Rv2823c      305   \n",
       "20085  1894300   G  GGTCTTGCCGC  Non-Essential    Rv1668c  Rv1668c     1043   \n",
       "10886   968426   A   AGCCGGGTTG         PE/PPE  PE_PGRS15  Rv0872c     1819   \n",
       "\n",
       "      ins_del  INDEL_type codon_pos      ...            2      3     4A  \\\n",
       "33901     ins     inframe       102      ...        377.0  183.0  351.0   \n",
       "20085     ins  frameshift       348      ...        306.0  205.0  288.0   \n",
       "10886     ins     inframe       607      ...        345.0  118.0  275.0   \n",
       "\n",
       "          4B     4C     5    6   total  num_isolates  repeat_region  \n",
       "33901  367.0   88.0   5.0  5.0  1534.0          5093             no  \n",
       "20085  313.0  210.0  11.0  5.0  1488.0         12599             no  \n",
       "10886  302.0  147.0   3.0  3.0  1331.0          2943             no  \n",
       "\n",
       "[3 rows x 23 columns]"
      ]
     },
     "execution_count": 49,
     "metadata": {},
     "output_type": "execute_result"
    }
   ],
   "source": [
    "all_homoplasic_variants.sort_values(by='total', ascending=False).head(n=3)"
   ]
  },
  {
   "cell_type": "markdown",
   "metadata": {},
   "source": [
    "#### Test for differences of means assuming mutations are poisson distributed"
   ]
  },
  {
   "cell_type": "code",
   "execution_count": 39,
   "metadata": {},
   "outputs": [],
   "source": [
    "# rates per kbp\n",
    "HT_acq_rate = 9339.66\n",
    "SSR_acq_rate = 61.77\n",
    "non_HT_SSR_rate = 16.91\n",
    "\n",
    "N = 31428 # number of isolates? do we have to consider length of genome?"
   ]
  },
  {
   "cell_type": "markdown",
   "metadata": {},
   "source": [
    "HT vs. SSR"
   ]
  },
  {
   "cell_type": "code",
   "execution_count": 40,
   "metadata": {},
   "outputs": [],
   "source": [
    "z = (HT_acq_rate - SSR_acq_rate) / np.sqrt( ((HT_acq_rate/N) + (SSR_acq_rate/N)) )\n",
    "p_value = scipy.stats.norm.sf(abs(z))*2 # twosided"
   ]
  },
  {
   "cell_type": "code",
   "execution_count": 41,
   "metadata": {},
   "outputs": [
    {
     "data": {
      "text/plain": [
       "16963.31133694795"
      ]
     },
     "execution_count": 41,
     "metadata": {},
     "output_type": "execute_result"
    }
   ],
   "source": [
    "z"
   ]
  },
  {
   "cell_type": "markdown",
   "metadata": {},
   "source": [
    "HT vs. non-HT-SSR"
   ]
  },
  {
   "cell_type": "code",
   "execution_count": 42,
   "metadata": {},
   "outputs": [],
   "source": [
    "z = (HT_acq_rate - non_HT_SSR_rate) / np.sqrt( ((HT_acq_rate/N) + (non_HT_SSR_rate/N)) )\n",
    "p_value = scipy.stats.norm.sf(abs(z))*2 # twosided"
   ]
  },
  {
   "cell_type": "code",
   "execution_count": 43,
   "metadata": {},
   "outputs": [
    {
     "data": {
      "text/plain": [
       "17086.144502222345"
      ]
     },
     "execution_count": 43,
     "metadata": {},
     "output_type": "execute_result"
    }
   ],
   "source": [
    "z"
   ]
  },
  {
   "cell_type": "code",
   "execution_count": 44,
   "metadata": {},
   "outputs": [
    {
     "data": {
      "text/plain": [
       "0.0"
      ]
     },
     "execution_count": 44,
     "metadata": {},
     "output_type": "execute_result"
    }
   ],
   "source": [
    "p_value"
   ]
  },
  {
   "cell_type": "markdown",
   "metadata": {},
   "source": [
    "SSR vs. non-HT-SSR"
   ]
  },
  {
   "cell_type": "code",
   "execution_count": 45,
   "metadata": {},
   "outputs": [],
   "source": [
    "z = (SSR_acq_rate - non_HT_SSR_rate) / np.sqrt( ((SSR_acq_rate/N) + (non_HT_SSR_rate/N)) )\n",
    "p_value = scipy.stats.norm.sf(abs(z))*2 # twosided"
   ]
  },
  {
   "cell_type": "code",
   "execution_count": 46,
   "metadata": {},
   "outputs": [
    {
     "data": {
      "text/plain": [
       "896.5726072784139"
      ]
     },
     "execution_count": 46,
     "metadata": {},
     "output_type": "execute_result"
    }
   ],
   "source": [
    "z"
   ]
  },
  {
   "cell_type": "code",
   "execution_count": 47,
   "metadata": {},
   "outputs": [
    {
     "data": {
      "text/plain": [
       "0.0"
      ]
     },
     "execution_count": 47,
     "metadata": {},
     "output_type": "execute_result"
    }
   ],
   "source": [
    "p_value"
   ]
  },
  {
   "cell_type": "markdown",
   "metadata": {},
   "source": [
    "To compare p-values above, check p-value corresponding to a smaller z-score."
   ]
  },
  {
   "cell_type": "code",
   "execution_count": 37,
   "metadata": {},
   "outputs": [
    {
     "data": {
      "text/plain": [
       "24.514865033480305"
      ]
     },
     "execution_count": 37,
     "metadata": {},
     "output_type": "execute_result"
    }
   ],
   "source": [
    "z"
   ]
  },
  {
   "cell_type": "code",
   "execution_count": 38,
   "metadata": {},
   "outputs": [
    {
     "data": {
      "text/plain": [
       "1.025520574294258e-132"
      ]
     },
     "execution_count": 38,
     "metadata": {},
     "output_type": "execute_result"
    }
   ],
   "source": [
    "p_value"
   ]
  },
  {
   "cell_type": "markdown",
   "metadata": {},
   "source": [
    "**Fisher Exact test** split by **intergenic** & *Hs* >=5 and *Hs* < 5"
   ]
  },
  {
   "cell_type": "code",
   "execution_count": 60,
   "metadata": {},
   "outputs": [
    {
     "data": {
      "text/plain": [
       "(6941, 23)"
      ]
     },
     "execution_count": 60,
     "metadata": {},
     "output_type": "execute_result"
    }
   ],
   "source": [
    "all_homoplasic_variants[(all_homoplasic_variants.total < 5) & (all_homoplasic_variants.stop_codon == 'intergenic')].shape"
   ]
  },
  {
   "cell_type": "code",
   "execution_count": 61,
   "metadata": {},
   "outputs": [
    {
     "data": {
      "text/plain": [
       "(42906, 23)"
      ]
     },
     "execution_count": 61,
     "metadata": {},
     "output_type": "execute_result"
    }
   ],
   "source": [
    "all_homoplasic_variants[all_homoplasic_variants.total < 5].shape"
   ]
  },
  {
   "cell_type": "code",
   "execution_count": 62,
   "metadata": {},
   "outputs": [
    {
     "data": {
      "text/plain": [
       "(257, 23)"
      ]
     },
     "execution_count": 62,
     "metadata": {},
     "output_type": "execute_result"
    }
   ],
   "source": [
    "all_homoplasic_variants[(all_homoplasic_variants.total >= 5) & (all_homoplasic_variants.stop_codon == 'intergenic')].shape"
   ]
  },
  {
   "cell_type": "code",
   "execution_count": 63,
   "metadata": {},
   "outputs": [
    {
     "data": {
      "text/plain": [
       "(993, 23)"
      ]
     },
     "execution_count": 63,
     "metadata": {},
     "output_type": "execute_result"
    }
   ],
   "source": [
    "all_homoplasic_variants[all_homoplasic_variants.total >= 5].shape"
   ]
  },
  {
   "cell_type": "markdown",
   "metadata": {},
   "source": [
    "- 257 / 993 **Hs $\\ge$ 5** intergenic\n",
    "- 6941 / 42906 **Hs $<$ 5** intergenic"
   ]
  },
  {
   "cell_type": "code",
   "execution_count": 14,
   "metadata": {},
   "outputs": [],
   "source": [
    "import scipy.stats as stats\n",
    "\n",
    "data = [[257, 6941],\n",
    "         [736, 35965]]\n",
    "\n",
    "FE_results = stats.fisher_exact(data)"
   ]
  },
  {
   "cell_type": "code",
   "execution_count": 15,
   "metadata": {},
   "outputs": [
    {
     "data": {
      "text/plain": [
       "1.8093114402134762"
      ]
     },
     "execution_count": 15,
     "metadata": {},
     "output_type": "execute_result"
    }
   ],
   "source": [
    "FE_results[0]"
   ]
  },
  {
   "cell_type": "code",
   "execution_count": 16,
   "metadata": {},
   "outputs": [
    {
     "data": {
      "text/plain": [
       "1.5134141645524636e-14"
      ]
     },
     "execution_count": 16,
     "metadata": {},
     "output_type": "execute_result"
    }
   ],
   "source": [
    "FE_results[1]"
   ]
  },
  {
   "cell_type": "markdown",
   "metadata": {},
   "source": [
    "### **Fisher Exact tests** for WT/FS between Susc. and Res. isolates for different HT/antibiotic combinations"
   ]
  },
  {
   "cell_type": "code",
   "execution_count": 93,
   "metadata": {},
   "outputs": [
    {
     "name": "stdout",
     "output_type": "stream",
     "text": [
      "1.93 (1.4-2.66)\n"
     ]
    }
   ],
   "source": [
    "import scipy.stats as stats\n",
    "\n",
    "S_FS = 79\n",
    "S_WT = 9765\n",
    "R_FS = 72\n",
    "R_WT = 4621\n",
    "\n",
    "data = [[S_WT, S_FS],\n",
    "         [R_WT, R_FS]]\n",
    "\n",
    "OR, p_val = stats.fisher_exact(data)\n",
    "\n",
    "upper_95_CI = np.exp(np.log(OR) + 1.96*np.sqrt((1.0/S_FS) + (1.0/S_WT) + (1.0/R_FS) + (1.0/R_WT)))\n",
    "lower_95_CI = np.exp(np.log(OR) - 1.96*np.sqrt((1.0/S_FS) + (1.0/S_WT) + (1.0/R_FS) + (1.0/R_WT)))\n",
    "\n",
    "print(str(round(OR, 2)) + ' (' + str(round(lower_95_CI, 2)) + '-' + str(round(upper_95_CI, 2)) + ')')"
   ]
  },
  {
   "cell_type": "markdown",
   "metadata": {},
   "source": [
    "### [3] Median Allele Frequencies"
   ]
  },
  {
   "cell_type": "code",
   "execution_count": 67,
   "metadata": {},
   "outputs": [
    {
     "data": {
      "text/plain": [
       "0.003181876034109711"
      ]
     },
     "execution_count": 67,
     "metadata": {},
     "output_type": "execute_result"
    }
   ],
   "source": [
    "np.median(all_homoplasic_INDELs[(all_homoplasic_INDELs.INDEL_type == 'frameshift')].num_isolates / 31428.0) * 100.0"
   ]
  },
  {
   "cell_type": "code",
   "execution_count": 68,
   "metadata": {},
   "outputs": [
    {
     "data": {
      "text/html": [
       "<div>\n",
       "<style>\n",
       "    .dataframe thead tr:only-child th {\n",
       "        text-align: right;\n",
       "    }\n",
       "\n",
       "    .dataframe thead th {\n",
       "        text-align: left;\n",
       "    }\n",
       "\n",
       "    .dataframe tbody tr th {\n",
       "        vertical-align: top;\n",
       "    }\n",
       "</style>\n",
       "<table border=\"1\" class=\"dataframe\">\n",
       "  <thead>\n",
       "    <tr style=\"text-align: right;\">\n",
       "      <th></th>\n",
       "      <th>pos</th>\n",
       "      <th>ref</th>\n",
       "      <th>alt</th>\n",
       "      <th>gene_category</th>\n",
       "      <th>gene_name</th>\n",
       "      <th>gene_id</th>\n",
       "      <th>gene_pos</th>\n",
       "      <th>ins_del</th>\n",
       "      <th>INDEL_type</th>\n",
       "      <th>codon_pos</th>\n",
       "      <th>...</th>\n",
       "      <th>2</th>\n",
       "      <th>3</th>\n",
       "      <th>4A</th>\n",
       "      <th>4B</th>\n",
       "      <th>4C</th>\n",
       "      <th>5</th>\n",
       "      <th>6</th>\n",
       "      <th>total</th>\n",
       "      <th>num_isolates</th>\n",
       "      <th>repeat_region</th>\n",
       "    </tr>\n",
       "  </thead>\n",
       "  <tbody>\n",
       "    <tr>\n",
       "      <th>47371</th>\n",
       "      <td>4408100</td>\n",
       "      <td>GC</td>\n",
       "      <td>G</td>\n",
       "      <td>Antibiotic Resistance</td>\n",
       "      <td>gid</td>\n",
       "      <td>Rv3919c</td>\n",
       "      <td>103</td>\n",
       "      <td>del</td>\n",
       "      <td>frameshift</td>\n",
       "      <td>35</td>\n",
       "      <td>...</td>\n",
       "      <td>27.0</td>\n",
       "      <td>51.0</td>\n",
       "      <td>43.0</td>\n",
       "      <td>11.0</td>\n",
       "      <td>29.0</td>\n",
       "      <td>0.0</td>\n",
       "      <td>0.0</td>\n",
       "      <td>202.0</td>\n",
       "      <td>388</td>\n",
       "      <td>no</td>\n",
       "    </tr>\n",
       "    <tr>\n",
       "      <th>47365</th>\n",
       "      <td>4408087</td>\n",
       "      <td>CG</td>\n",
       "      <td>C</td>\n",
       "      <td>Antibiotic Resistance</td>\n",
       "      <td>gid</td>\n",
       "      <td>Rv3919c</td>\n",
       "      <td>116</td>\n",
       "      <td>del</td>\n",
       "      <td>frameshift</td>\n",
       "      <td>39</td>\n",
       "      <td>...</td>\n",
       "      <td>11.0</td>\n",
       "      <td>35.0</td>\n",
       "      <td>33.0</td>\n",
       "      <td>10.0</td>\n",
       "      <td>18.0</td>\n",
       "      <td>0.0</td>\n",
       "      <td>0.0</td>\n",
       "      <td>130.0</td>\n",
       "      <td>212</td>\n",
       "      <td>no</td>\n",
       "    </tr>\n",
       "    <tr>\n",
       "      <th>47313</th>\n",
       "      <td>4407851</td>\n",
       "      <td>GC</td>\n",
       "      <td>G</td>\n",
       "      <td>Antibiotic Resistance</td>\n",
       "      <td>gid</td>\n",
       "      <td>Rv3919c</td>\n",
       "      <td>352</td>\n",
       "      <td>del</td>\n",
       "      <td>frameshift</td>\n",
       "      <td>118</td>\n",
       "      <td>...</td>\n",
       "      <td>9.0</td>\n",
       "      <td>40.0</td>\n",
       "      <td>20.0</td>\n",
       "      <td>6.0</td>\n",
       "      <td>19.0</td>\n",
       "      <td>0.0</td>\n",
       "      <td>0.0</td>\n",
       "      <td>115.0</td>\n",
       "      <td>182</td>\n",
       "      <td>SSR</td>\n",
       "    </tr>\n",
       "    <tr>\n",
       "      <th>25151</th>\n",
       "      <td>2288850</td>\n",
       "      <td>A</td>\n",
       "      <td>ACC</td>\n",
       "      <td>Antibiotic Resistance</td>\n",
       "      <td>pncA</td>\n",
       "      <td>Rv2043c</td>\n",
       "      <td>392</td>\n",
       "      <td>ins</td>\n",
       "      <td>frameshift</td>\n",
       "      <td>131</td>\n",
       "      <td>...</td>\n",
       "      <td>14.0</td>\n",
       "      <td>6.0</td>\n",
       "      <td>3.0</td>\n",
       "      <td>6.0</td>\n",
       "      <td>2.0</td>\n",
       "      <td>0.0</td>\n",
       "      <td>0.0</td>\n",
       "      <td>32.0</td>\n",
       "      <td>48</td>\n",
       "      <td>no</td>\n",
       "    </tr>\n",
       "    <tr>\n",
       "      <th>47315</th>\n",
       "      <td>4407851</td>\n",
       "      <td>G</td>\n",
       "      <td>GC</td>\n",
       "      <td>Antibiotic Resistance</td>\n",
       "      <td>gid</td>\n",
       "      <td>Rv3919c</td>\n",
       "      <td>352</td>\n",
       "      <td>ins</td>\n",
       "      <td>frameshift</td>\n",
       "      <td>118</td>\n",
       "      <td>...</td>\n",
       "      <td>1.0</td>\n",
       "      <td>12.0</td>\n",
       "      <td>5.0</td>\n",
       "      <td>7.0</td>\n",
       "      <td>1.0</td>\n",
       "      <td>0.0</td>\n",
       "      <td>0.0</td>\n",
       "      <td>31.0</td>\n",
       "      <td>52</td>\n",
       "      <td>SSR</td>\n",
       "    </tr>\n",
       "  </tbody>\n",
       "</table>\n",
       "<p>5 rows × 23 columns</p>\n",
       "</div>"
      ],
      "text/plain": [
       "           pos ref  alt          gene_category gene_name  gene_id gene_pos  \\\n",
       "47371  4408100  GC    G  Antibiotic Resistance       gid  Rv3919c      103   \n",
       "47365  4408087  CG    C  Antibiotic Resistance       gid  Rv3919c      116   \n",
       "47313  4407851  GC    G  Antibiotic Resistance       gid  Rv3919c      352   \n",
       "25151  2288850   A  ACC  Antibiotic Resistance      pncA  Rv2043c      392   \n",
       "47315  4407851   G   GC  Antibiotic Resistance       gid  Rv3919c      352   \n",
       "\n",
       "      ins_del  INDEL_type codon_pos      ...           2     3    4A    4B  \\\n",
       "47371     del  frameshift        35      ...        27.0  51.0  43.0  11.0   \n",
       "47365     del  frameshift        39      ...        11.0  35.0  33.0  10.0   \n",
       "47313     del  frameshift       118      ...         9.0  40.0  20.0   6.0   \n",
       "25151     ins  frameshift       131      ...        14.0   6.0   3.0   6.0   \n",
       "47315     ins  frameshift       118      ...         1.0  12.0   5.0   7.0   \n",
       "\n",
       "         4C    5    6  total  num_isolates  repeat_region  \n",
       "47371  29.0  0.0  0.0  202.0           388             no  \n",
       "47365  18.0  0.0  0.0  130.0           212             no  \n",
       "47313  19.0  0.0  0.0  115.0           182            SSR  \n",
       "25151   2.0  0.0  0.0   32.0            48             no  \n",
       "47315   1.0  0.0  0.0   31.0            52            SSR  \n",
       "\n",
       "[5 rows x 23 columns]"
      ]
     },
     "execution_count": 68,
     "metadata": {},
     "output_type": "execute_result"
    }
   ],
   "source": [
    "all_homoplasic_INDELs.head()"
   ]
  },
  {
   "cell_type": "markdown",
   "metadata": {},
   "source": [
    "### [4] Calculate frequency of mutation arisals that affect *transcription* vs *translation*"
   ]
  },
  {
   "cell_type": "markdown",
   "metadata": {},
   "source": [
    "#### Transcription\n",
    "\n",
    "- INDEL within a ncRNA with a regulator role (ncRNA review)\n",
    "\n",
    "- INDEL in intergenic region within 50bp of a predicted TSS (see Schell paper)"
   ]
  },
  {
   "cell_type": "markdown",
   "metadata": {},
   "source": [
    "##### reg ncRNAs"
   ]
  },
  {
   "cell_type": "markdown",
   "metadata": {},
   "source": [
    "Load table of regulatory ncRNAs"
   ]
  },
  {
   "cell_type": "code",
   "execution_count": 69,
   "metadata": {},
   "outputs": [],
   "source": [
    "reg_ncRNAs_df = pd.read_csv('/n/data1/hms/dbmi/farhat/Roger/homoplasy_project/CSV_files/regulatory ncRNAs.csv')"
   ]
  },
  {
   "cell_type": "code",
   "execution_count": 70,
   "metadata": {},
   "outputs": [
    {
     "data": {
      "text/html": [
       "<div>\n",
       "<style>\n",
       "    .dataframe thead tr:only-child th {\n",
       "        text-align: right;\n",
       "    }\n",
       "\n",
       "    .dataframe thead th {\n",
       "        text-align: left;\n",
       "    }\n",
       "\n",
       "    .dataframe tbody tr th {\n",
       "        vertical-align: top;\n",
       "    }\n",
       "</style>\n",
       "<table border=\"1\" class=\"dataframe\">\n",
       "  <thead>\n",
       "    <tr style=\"text-align: right;\">\n",
       "      <th></th>\n",
       "      <th>name</th>\n",
       "      <th>strand</th>\n",
       "      <th>start</th>\n",
       "      <th>end</th>\n",
       "      <th>log2fold change low iron</th>\n",
       "      <th>log2fold fold change tBHP</th>\n",
       "      <th>log2fold fold change SDS</th>\n",
       "      <th>log2fold fold change acid</th>\n",
       "      <th>log2fold fold change PBS</th>\n",
       "    </tr>\n",
       "  </thead>\n",
       "  <tbody>\n",
       "    <tr>\n",
       "      <th>0</th>\n",
       "      <td>ncRv10006</td>\n",
       "      <td>+</td>\n",
       "      <td>9824</td>\n",
       "      <td>9877</td>\n",
       "      <td>1.58</td>\n",
       "      <td>0.34</td>\n",
       "      <td>-0.36</td>\n",
       "      <td>-0.31</td>\n",
       "      <td>-1.42</td>\n",
       "    </tr>\n",
       "    <tr>\n",
       "      <th>1</th>\n",
       "      <td>ncRv0046c</td>\n",
       "      <td>-</td>\n",
       "      <td>49956</td>\n",
       "      <td>50033</td>\n",
       "      <td>0.25</td>\n",
       "      <td>1.72</td>\n",
       "      <td>0.36</td>\n",
       "      <td>1.63</td>\n",
       "      <td>4.23</td>\n",
       "    </tr>\n",
       "    <tr>\n",
       "      <th>2</th>\n",
       "      <td>ncRv0047c</td>\n",
       "      <td>-</td>\n",
       "      <td>51723</td>\n",
       "      <td>51779</td>\n",
       "      <td>-0.86</td>\n",
       "      <td>1.40</td>\n",
       "      <td>1.64</td>\n",
       "      <td>3.09</td>\n",
       "      <td>3.87</td>\n",
       "    </tr>\n",
       "    <tr>\n",
       "      <th>3</th>\n",
       "      <td>ncRv0053</td>\n",
       "      <td>+</td>\n",
       "      <td>58117</td>\n",
       "      <td>58193</td>\n",
       "      <td>-0.85</td>\n",
       "      <td>-1.17</td>\n",
       "      <td>-0.25</td>\n",
       "      <td>-1.48</td>\n",
       "      <td>0.46</td>\n",
       "    </tr>\n",
       "    <tr>\n",
       "      <th>4</th>\n",
       "      <td>ncRv10071</td>\n",
       "      <td>+</td>\n",
       "      <td>80239</td>\n",
       "      <td>80441</td>\n",
       "      <td>-0.61</td>\n",
       "      <td>-0.99</td>\n",
       "      <td>-0.77</td>\n",
       "      <td>1.65</td>\n",
       "      <td>-1.52</td>\n",
       "    </tr>\n",
       "  </tbody>\n",
       "</table>\n",
       "</div>"
      ],
      "text/plain": [
       "        name strand  start    end  log2fold change low iron  \\\n",
       "0  ncRv10006      +   9824   9877                      1.58   \n",
       "1  ncRv0046c      -  49956  50033                      0.25   \n",
       "2  ncRv0047c      -  51723  51779                     -0.86   \n",
       "3   ncRv0053      +  58117  58193                     -0.85   \n",
       "4  ncRv10071      +  80239  80441                     -0.61   \n",
       "\n",
       "    log2fold fold change tBHP  log2fold fold change SDS  \\\n",
       "0                        0.34                     -0.36   \n",
       "1                        1.72                      0.36   \n",
       "2                        1.40                      1.64   \n",
       "3                       -1.17                     -0.25   \n",
       "4                       -0.99                     -0.77   \n",
       "\n",
       "   log2fold fold change acid  log2fold fold change PBS  \n",
       "0                      -0.31                     -1.42  \n",
       "1                       1.63                      4.23  \n",
       "2                       3.09                      3.87  \n",
       "3                      -1.48                      0.46  \n",
       "4                       1.65                     -1.52  "
      ]
     },
     "execution_count": 70,
     "metadata": {},
     "output_type": "execute_result"
    }
   ],
   "source": [
    "reg_ncRNAs_df.head()"
   ]
  },
  {
   "cell_type": "code",
   "execution_count": 71,
   "metadata": {},
   "outputs": [
    {
     "data": {
      "text/plain": [
       "(189, 9)"
      ]
     },
     "execution_count": 71,
     "metadata": {},
     "output_type": "execute_result"
    }
   ],
   "source": [
    "reg_ncRNAs_df.shape"
   ]
  },
  {
   "cell_type": "markdown",
   "metadata": {},
   "source": [
    "Create set of all coordinates that belong to a regulatory ncRNA"
   ]
  },
  {
   "cell_type": "code",
   "execution_count": 72,
   "metadata": {},
   "outputs": [],
   "source": [
    "reg_ncRNA_coords = []\n",
    "\n",
    "for ncRNA_i in reg_ncRNAs_df.index:\n",
    "    \n",
    "    ncRNA_i_start_coord = reg_ncRNAs_df.loc[ncRNA_i, 'start']\n",
    "    ncRNA_i_end_coord = reg_ncRNAs_df.loc[ncRNA_i, 'end']\n",
    "    \n",
    "    reg_ncRNA_coords = reg_ncRNA_coords + list(np.arange(ncRNA_i_start_coord, ncRNA_i_end_coord+1))\n",
    "        \n",
    "TSS_50bp_upstream_coords = set(reg_ncRNA_coords)"
   ]
  },
  {
   "cell_type": "code",
   "execution_count": 73,
   "metadata": {},
   "outputs": [
    {
     "data": {
      "text/plain": [
       "22018"
      ]
     },
     "execution_count": 73,
     "metadata": {},
     "output_type": "execute_result"
    }
   ],
   "source": [
    "len(reg_ncRNA_coords)"
   ]
  },
  {
   "cell_type": "markdown",
   "metadata": {},
   "source": [
    "##### TSS"
   ]
  },
  {
   "cell_type": "markdown",
   "metadata": {},
   "source": [
    "Load table of TSSs"
   ]
  },
  {
   "cell_type": "code",
   "execution_count": 49,
   "metadata": {},
   "outputs": [],
   "source": [
    "TSS_df = pd.read_csv('/n/data1/hms/dbmi/farhat/Roger/homoplasy_project/CSV_files/transcriptional start sites.csv')"
   ]
  },
  {
   "cell_type": "code",
   "execution_count": 50,
   "metadata": {},
   "outputs": [
    {
     "data": {
      "text/html": [
       "<div>\n",
       "<style>\n",
       "    .dataframe thead tr:only-child th {\n",
       "        text-align: right;\n",
       "    }\n",
       "\n",
       "    .dataframe thead th {\n",
       "        text-align: left;\n",
       "    }\n",
       "\n",
       "    .dataframe tbody tr th {\n",
       "        vertical-align: top;\n",
       "    }\n",
       "</style>\n",
       "<table border=\"1\" class=\"dataframe\">\n",
       "  <thead>\n",
       "    <tr style=\"text-align: right;\">\n",
       "      <th></th>\n",
       "      <th>TSS unique identifier</th>\n",
       "      <th>Strand</th>\n",
       "      <th>Coordinate (genome version NC_000962)</th>\n",
       "      <th>Mean coverage in converted libraries</th>\n",
       "      <th>Downstream same-strand gene</th>\n",
       "      <th>position relative to downstream same-strand gene</th>\n",
       "      <th>Overlapping same-strand gene</th>\n",
       "      <th>Position in overlapping same-strand gene</th>\n",
       "      <th>Position in overlapping same-strand gene relative to length</th>\n",
       "      <th>nt at +1</th>\n",
       "    </tr>\n",
       "  </thead>\n",
       "  <tbody>\n",
       "    <tr>\n",
       "      <th>0</th>\n",
       "      <td>1776702+</td>\n",
       "      <td>+</td>\n",
       "      <td>1776702</td>\n",
       "      <td>43.0</td>\n",
       "      <td>Rv1570</td>\n",
       "      <td>NaN</td>\n",
       "      <td>Rv1569</td>\n",
       "      <td>1.0</td>\n",
       "      <td>0.0</td>\n",
       "      <td>A</td>\n",
       "    </tr>\n",
       "    <tr>\n",
       "      <th>1</th>\n",
       "      <td>469591+</td>\n",
       "      <td>+</td>\n",
       "      <td>469591</td>\n",
       "      <td>106.5</td>\n",
       "      <td>Rv0391</td>\n",
       "      <td>NaN</td>\n",
       "      <td>Rv0390</td>\n",
       "      <td>1.0</td>\n",
       "      <td>0.0</td>\n",
       "      <td>G</td>\n",
       "    </tr>\n",
       "    <tr>\n",
       "      <th>2</th>\n",
       "      <td>2485273+</td>\n",
       "      <td>+</td>\n",
       "      <td>2485273</td>\n",
       "      <td>464.5</td>\n",
       "      <td>Rv2219</td>\n",
       "      <td>NaN</td>\n",
       "      <td>Rv2218</td>\n",
       "      <td>1.0</td>\n",
       "      <td>0.0</td>\n",
       "      <td>A</td>\n",
       "    </tr>\n",
       "    <tr>\n",
       "      <th>3</th>\n",
       "      <td>645467+</td>\n",
       "      <td>+</td>\n",
       "      <td>645467</td>\n",
       "      <td>182.0</td>\n",
       "      <td>Rv0555</td>\n",
       "      <td>NaN</td>\n",
       "      <td>Rv0554</td>\n",
       "      <td>1.0</td>\n",
       "      <td>0.0</td>\n",
       "      <td>G</td>\n",
       "    </tr>\n",
       "    <tr>\n",
       "      <th>4</th>\n",
       "      <td>1160434-</td>\n",
       "      <td>-</td>\n",
       "      <td>1160434</td>\n",
       "      <td>87.5</td>\n",
       "      <td>Rv1036c</td>\n",
       "      <td>-1.0</td>\n",
       "      <td>none</td>\n",
       "      <td>NaN</td>\n",
       "      <td>NaN</td>\n",
       "      <td>G</td>\n",
       "    </tr>\n",
       "  </tbody>\n",
       "</table>\n",
       "</div>"
      ],
      "text/plain": [
       "  TSS unique identifier Strand  Coordinate (genome version NC_000962)  \\\n",
       "0              1776702+      +                                1776702   \n",
       "1               469591+      +                                 469591   \n",
       "2              2485273+      +                                2485273   \n",
       "3               645467+      +                                 645467   \n",
       "4              1160434-      -                                1160434   \n",
       "\n",
       "   Mean coverage in converted libraries Downstream same-strand gene  \\\n",
       "0                                  43.0                      Rv1570   \n",
       "1                                 106.5                      Rv0391   \n",
       "2                                 464.5                      Rv2219   \n",
       "3                                 182.0                      Rv0555   \n",
       "4                                  87.5                     Rv1036c   \n",
       "\n",
       "   position relative to downstream same-strand gene  \\\n",
       "0                                               NaN   \n",
       "1                                               NaN   \n",
       "2                                               NaN   \n",
       "3                                               NaN   \n",
       "4                                              -1.0   \n",
       "\n",
       "  Overlapping same-strand gene  Position in overlapping same-strand gene  \\\n",
       "0                       Rv1569                                       1.0   \n",
       "1                       Rv0390                                       1.0   \n",
       "2                       Rv2218                                       1.0   \n",
       "3                       Rv0554                                       1.0   \n",
       "4                         none                                       NaN   \n",
       "\n",
       "   Position in overlapping same-strand gene relative to length nt at +1  \n",
       "0                                                0.0                  A  \n",
       "1                                                0.0                  G  \n",
       "2                                                0.0                  A  \n",
       "3                                                0.0                  G  \n",
       "4                                                NaN                  G  "
      ]
     },
     "execution_count": 50,
     "metadata": {},
     "output_type": "execute_result"
    }
   ],
   "source": [
    "TSS_df.head()"
   ]
  },
  {
   "cell_type": "code",
   "execution_count": 51,
   "metadata": {},
   "outputs": [
    {
     "data": {
      "text/plain": [
       "(4978, 10)"
      ]
     },
     "execution_count": 51,
     "metadata": {},
     "output_type": "execute_result"
    }
   ],
   "source": [
    "TSS_df.shape"
   ]
  },
  {
   "cell_type": "markdown",
   "metadata": {},
   "source": [
    "Create set of all coordinates that are 50bp upstream a TSS"
   ]
  },
  {
   "cell_type": "code",
   "execution_count": 52,
   "metadata": {},
   "outputs": [],
   "source": [
    "TSS_50bp_upstream_coords = []\n",
    "\n",
    "for TSS_i in TSS_df.index:\n",
    "    \n",
    "    TSS_coord = TSS_df.loc[TSS_i, 'Coordinate (genome version NC_000962)']\n",
    "    TSS_strand = TSS_df.loc[TSS_i, 'Strand']\n",
    "    \n",
    "    if TSS_strand == '+':\n",
    "        TSS_upstream_coords = np.arange(TSS_coord-50, TSS_coord)\n",
    "        TSS_50bp_upstream_coords = TSS_50bp_upstream_coords + list(TSS_upstream_coords)\n",
    "        \n",
    "    if TSS_strand == '-':\n",
    "        TSS_upstream_coords = np.arange(TSS_coord, TSS_coord+50)\n",
    "        TSS_50bp_upstream_coords = TSS_50bp_upstream_coords + list(TSS_upstream_coords)\n",
    "        \n",
    "TSS_50bp_upstream_coords = set(TSS_50bp_upstream_coords)"
   ]
  },
  {
   "cell_type": "code",
   "execution_count": 53,
   "metadata": {},
   "outputs": [
    {
     "data": {
      "text/plain": [
       "228410"
      ]
     },
     "execution_count": 53,
     "metadata": {},
     "output_type": "execute_result"
    }
   ],
   "source": [
    "len(TSS_50bp_upstream_coords)"
   ]
  },
  {
   "cell_type": "markdown",
   "metadata": {},
   "source": [
    "#### SSR INDELs &  frameshifts"
   ]
  },
  {
   "cell_type": "code",
   "execution_count": 80,
   "metadata": {},
   "outputs": [],
   "source": [
    "SSR_INDELs_df = all_homoplasic_INDELs[(all_homoplasic_INDELs.repeat_region == 'SSR')] # all SSR INDELs\n",
    "SSR_INDELs_df.reset_index(inplace = True, drop  = True)"
   ]
  },
  {
   "cell_type": "code",
   "execution_count": 81,
   "metadata": {},
   "outputs": [
    {
     "data": {
      "text/plain": [
       "(2077, 23)"
      ]
     },
     "execution_count": 81,
     "metadata": {},
     "output_type": "execute_result"
    }
   ],
   "source": [
    "SSR_INDELs_df.shape"
   ]
  },
  {
   "cell_type": "code",
   "execution_count": 69,
   "metadata": {},
   "outputs": [],
   "source": [
    "SSR_FS_INDELs_df = all_homoplasic_INDELs[(all_homoplasic_INDELs.INDEL_type == 'frameshift') & (all_homoplasic_INDELs.repeat_region == 'SSR')]\n",
    "SSR_FS_INDELs_df.reset_index(inplace = True, drop  = True)"
   ]
  },
  {
   "cell_type": "code",
   "execution_count": 70,
   "metadata": {
    "scrolled": true
   },
   "outputs": [
    {
     "data": {
      "text/plain": [
       "(1190, 23)"
      ]
     },
     "execution_count": 70,
     "metadata": {},
     "output_type": "execute_result"
    }
   ],
   "source": [
    "SSR_FS_INDELs_df.shape"
   ]
  },
  {
   "cell_type": "markdown",
   "metadata": {},
   "source": [
    "#### [1] SSR INDELs that affect Transcription"
   ]
  },
  {
   "cell_type": "code",
   "execution_count": 82,
   "metadata": {},
   "outputs": [],
   "source": [
    "SSR_INDEL_reg_ncRNA = 0\n",
    "SSR_INDEL_upstream_TSS = 0\n",
    "\n",
    "for indel_i in SSR_INDELs_df.index:\n",
    "        \n",
    "    if SSR_INDELs_df.loc[indel_i, 'pos'] in reg_ncRNA_coords:\n",
    "        SSR_INDEL_reg_ncRNA += 1\n",
    "        \n",
    "    if SSR_INDELs_df.loc[indel_i, 'pos'] in TSS_50bp_upstream_coords:\n",
    "        SSR_INDEL_upstream_TSS += 1"
   ]
  },
  {
   "cell_type": "code",
   "execution_count": 83,
   "metadata": {},
   "outputs": [
    {
     "data": {
      "text/plain": [
       "128"
      ]
     },
     "execution_count": 83,
     "metadata": {},
     "output_type": "execute_result"
    }
   ],
   "source": [
    "SSR_INDEL_reg_ncRNA + SSR_INDEL_upstream_TSS"
   ]
  },
  {
   "cell_type": "markdown",
   "metadata": {},
   "source": [
    "#### [2] SSR INDELs that affect Translation\n",
    "- FS in coding reading frame anywhere"
   ]
  },
  {
   "cell_type": "code",
   "execution_count": 73,
   "metadata": {},
   "outputs": [
    {
     "data": {
      "text/plain": [
       "(981, 23)"
      ]
     },
     "execution_count": 73,
     "metadata": {},
     "output_type": "execute_result"
    }
   ],
   "source": [
    "SSR_FS_INDELs_df[(SSR_FS_INDELs_df.stop_codon != 'RNA') & (SSR_FS_INDELs_df.stop_codon != 'intergenic')].shape"
   ]
  },
  {
   "cell_type": "code",
   "execution_count": 74,
   "metadata": {},
   "outputs": [
    {
     "data": {
      "text/plain": [
       "(570, 23)"
      ]
     },
     "execution_count": 74,
     "metadata": {},
     "output_type": "execute_result"
    }
   ],
   "source": [
    "SSR_FS_INDELs_df[(SSR_FS_INDELs_df.stop_codon == 'premature stop - first 3/4')].shape"
   ]
  },
  {
   "cell_type": "markdown",
   "metadata": {},
   "source": [
    "#### HT INDELs & frameshifts"
   ]
  },
  {
   "cell_type": "code",
   "execution_count": 84,
   "metadata": {},
   "outputs": [],
   "source": [
    "HT_INDELs_df = all_homoplasic_INDELs[(all_homoplasic_INDELs.repeat_region == 'HT')] # all HT INDELs\n",
    "HT_INDELs_df.reset_index(inplace = True, drop  = True)"
   ]
  },
  {
   "cell_type": "code",
   "execution_count": 85,
   "metadata": {},
   "outputs": [
    {
     "data": {
      "text/plain": [
       "(330, 23)"
      ]
     },
     "execution_count": 85,
     "metadata": {},
     "output_type": "execute_result"
    }
   ],
   "source": [
    "HT_INDELs_df.shape"
   ]
  },
  {
   "cell_type": "code",
   "execution_count": 86,
   "metadata": {},
   "outputs": [],
   "source": [
    "HT_FS_INDELs_df = all_homoplasic_INDELs[(all_homoplasic_INDELs.INDEL_type == 'frameshift') & (all_homoplasic_INDELs.repeat_region == 'HT')]\n",
    "HT_FS_INDELs_df.reset_index(inplace = True, drop  = True)"
   ]
  },
  {
   "cell_type": "code",
   "execution_count": 87,
   "metadata": {
    "scrolled": true
   },
   "outputs": [
    {
     "data": {
      "text/plain": [
       "(294, 23)"
      ]
     },
     "execution_count": 87,
     "metadata": {},
     "output_type": "execute_result"
    }
   ],
   "source": [
    "HT_FS_INDELs_df.shape"
   ]
  },
  {
   "cell_type": "markdown",
   "metadata": {},
   "source": [
    "#### [3] HT INDELs that affect Transcription"
   ]
  },
  {
   "cell_type": "code",
   "execution_count": 88,
   "metadata": {},
   "outputs": [],
   "source": [
    "HT_INDEL_reg_ncRNA = 0\n",
    "HT_INDEL_upstream_TSS = 0\n",
    "\n",
    "for indel_i in HT_INDELs_df.index:\n",
    "        \n",
    "    if HT_INDELs_df.loc[indel_i, 'pos'] in reg_ncRNA_coords:\n",
    "        HT_INDEL_reg_ncRNA += 1\n",
    "        \n",
    "    if HT_INDELs_df.loc[indel_i, 'pos'] in TSS_50bp_upstream_coords:\n",
    "        HT_INDEL_upstream_TSS += 1"
   ]
  },
  {
   "cell_type": "code",
   "execution_count": 89,
   "metadata": {},
   "outputs": [
    {
     "data": {
      "text/plain": [
       "25"
      ]
     },
     "execution_count": 89,
     "metadata": {},
     "output_type": "execute_result"
    }
   ],
   "source": [
    "HT_INDEL_reg_ncRNA + HT_INDEL_upstream_TSS"
   ]
  },
  {
   "cell_type": "markdown",
   "metadata": {},
   "source": [
    "#### [4] HT INDELs that affect Translation\n",
    "- FS in coding reading frame anywhere"
   ]
  },
  {
   "cell_type": "code",
   "execution_count": 80,
   "metadata": {},
   "outputs": [
    {
     "data": {
      "text/plain": [
       "(230, 23)"
      ]
     },
     "execution_count": 80,
     "metadata": {},
     "output_type": "execute_result"
    }
   ],
   "source": [
    "HT_FS_INDELs_df[(HT_FS_INDELs_df.stop_codon != 'RNA') & (HT_FS_INDELs_df.stop_codon != 'intergenic')].shape"
   ]
  },
  {
   "cell_type": "code",
   "execution_count": 81,
   "metadata": {},
   "outputs": [
    {
     "data": {
      "text/plain": [
       "(117, 23)"
      ]
     },
     "execution_count": 81,
     "metadata": {},
     "output_type": "execute_result"
    }
   ],
   "source": [
    "HT_FS_INDELs_df[(HT_FS_INDELs_df.stop_codon == 'premature stop - first 3/4')].shape"
   ]
  },
  {
   "cell_type": "markdown",
   "metadata": {},
   "source": [
    "#### How many HTs with Hs > 45 are *intergenic* and within 50bp of a TSS?"
   ]
  },
  {
   "cell_type": "code",
   "execution_count": 82,
   "metadata": {},
   "outputs": [],
   "source": [
    "homopolymeric_regions_from_Luca = pd.read_excel('/n/data1/hms/dbmi/farhat/Roger/homoplasy_project/CSV_files/for publication/TopDis_INDEL_homoplasy_count_aggregated_by_homopolymer_region.xlsx')"
   ]
  },
  {
   "cell_type": "code",
   "execution_count": 83,
   "metadata": {},
   "outputs": [
    {
     "data": {
      "text/html": [
       "<div>\n",
       "<style>\n",
       "    .dataframe thead tr:only-child th {\n",
       "        text-align: right;\n",
       "    }\n",
       "\n",
       "    .dataframe thead th {\n",
       "        text-align: left;\n",
       "    }\n",
       "\n",
       "    .dataframe tbody tr th {\n",
       "        vertical-align: top;\n",
       "    }\n",
       "</style>\n",
       "<table border=\"1\" class=\"dataframe\">\n",
       "  <thead>\n",
       "    <tr style=\"text-align: right;\">\n",
       "      <th></th>\n",
       "      <th>Chromosome</th>\n",
       "      <th>chromStart</th>\n",
       "      <th>chromEnd</th>\n",
       "      <th>polyNT</th>\n",
       "      <th>locus_tag</th>\n",
       "      <th>gene_name</th>\n",
       "      <th>INDEL_homoplasy</th>\n",
       "      <th>num_isolates_with_INDEL</th>\n",
       "    </tr>\n",
       "  </thead>\n",
       "  <tbody>\n",
       "    <tr>\n",
       "      <th>0</th>\n",
       "      <td>NC_000962.3</td>\n",
       "      <td>976897</td>\n",
       "      <td>976906</td>\n",
       "      <td>GGGGGGGGG</td>\n",
       "      <td>Rv0878c</td>\n",
       "      <td>PPE13</td>\n",
       "      <td>2317</td>\n",
       "      <td>8351</td>\n",
       "    </tr>\n",
       "    <tr>\n",
       "      <th>1</th>\n",
       "      <td>NC_000962.3</td>\n",
       "      <td>854252</td>\n",
       "      <td>854261</td>\n",
       "      <td>CCCCCCCCC</td>\n",
       "      <td>inter_Rv0759c_Rv0760c</td>\n",
       "      <td>inter_Rv0759c_Rv0760c</td>\n",
       "      <td>776</td>\n",
       "      <td>28077</td>\n",
       "    </tr>\n",
       "    <tr>\n",
       "      <th>2</th>\n",
       "      <td>NC_000962.3</td>\n",
       "      <td>976889</td>\n",
       "      <td>976896</td>\n",
       "      <td>TTTTTTTT</td>\n",
       "      <td>Rv0878c</td>\n",
       "      <td>PPE13</td>\n",
       "      <td>771</td>\n",
       "      <td>5641</td>\n",
       "    </tr>\n",
       "    <tr>\n",
       "      <th>3</th>\n",
       "      <td>NC_000962.3</td>\n",
       "      <td>1992323</td>\n",
       "      <td>1992331</td>\n",
       "      <td>CCCCCCCC</td>\n",
       "      <td>Rv1759c</td>\n",
       "      <td>wag22</td>\n",
       "      <td>578</td>\n",
       "      <td>4052</td>\n",
       "    </tr>\n",
       "    <tr>\n",
       "      <th>4</th>\n",
       "      <td>NC_000962.3</td>\n",
       "      <td>2338194</td>\n",
       "      <td>2338202</td>\n",
       "      <td>CCCCCCCC</td>\n",
       "      <td>Rv2081c</td>\n",
       "      <td>Rv2081c</td>\n",
       "      <td>360</td>\n",
       "      <td>4596</td>\n",
       "    </tr>\n",
       "  </tbody>\n",
       "</table>\n",
       "</div>"
      ],
      "text/plain": [
       "    Chromosome  chromStart  chromEnd     polyNT              locus_tag  \\\n",
       "0  NC_000962.3      976897    976906  GGGGGGGGG                Rv0878c   \n",
       "1  NC_000962.3      854252    854261  CCCCCCCCC  inter_Rv0759c_Rv0760c   \n",
       "2  NC_000962.3      976889    976896   TTTTTTTT                Rv0878c   \n",
       "3  NC_000962.3     1992323   1992331   CCCCCCCC                Rv1759c   \n",
       "4  NC_000962.3     2338194   2338202   CCCCCCCC                Rv2081c   \n",
       "\n",
       "               gene_name  INDEL_homoplasy  num_isolates_with_INDEL  \n",
       "0                  PPE13             2317                     8351  \n",
       "1  inter_Rv0759c_Rv0760c              776                    28077  \n",
       "2                  PPE13              771                     5641  \n",
       "3                  wag22              578                     4052  \n",
       "4                Rv2081c              360                     4596  "
      ]
     },
     "execution_count": 83,
     "metadata": {},
     "output_type": "execute_result"
    }
   ],
   "source": [
    "homopolymeric_regions_from_Luca.head()"
   ]
  },
  {
   "cell_type": "markdown",
   "metadata": {},
   "source": [
    "intergenic HTs w/ *Hs* > 45"
   ]
  },
  {
   "cell_type": "code",
   "execution_count": 84,
   "metadata": {},
   "outputs": [],
   "source": [
    "homopolymeric_regions_from_Luca = homopolymeric_regions_from_Luca[['inter' in locus_i for locus_i in homopolymeric_regions_from_Luca.locus_tag]]\n",
    "homopolymeric_regions_from_Luca = homopolymeric_regions_from_Luca[homopolymeric_regions_from_Luca.INDEL_homoplasy > 45]\n",
    "homopolymeric_regions_from_Luca.reset_index(inplace = True, drop = True)"
   ]
  },
  {
   "cell_type": "code",
   "execution_count": 85,
   "metadata": {},
   "outputs": [
    {
     "data": {
      "text/html": [
       "<div>\n",
       "<style>\n",
       "    .dataframe thead tr:only-child th {\n",
       "        text-align: right;\n",
       "    }\n",
       "\n",
       "    .dataframe thead th {\n",
       "        text-align: left;\n",
       "    }\n",
       "\n",
       "    .dataframe tbody tr th {\n",
       "        vertical-align: top;\n",
       "    }\n",
       "</style>\n",
       "<table border=\"1\" class=\"dataframe\">\n",
       "  <thead>\n",
       "    <tr style=\"text-align: right;\">\n",
       "      <th></th>\n",
       "      <th>Chromosome</th>\n",
       "      <th>chromStart</th>\n",
       "      <th>chromEnd</th>\n",
       "      <th>polyNT</th>\n",
       "      <th>locus_tag</th>\n",
       "      <th>gene_name</th>\n",
       "      <th>INDEL_homoplasy</th>\n",
       "      <th>num_isolates_with_INDEL</th>\n",
       "    </tr>\n",
       "  </thead>\n",
       "  <tbody>\n",
       "    <tr>\n",
       "      <th>0</th>\n",
       "      <td>NC_000962.3</td>\n",
       "      <td>854252</td>\n",
       "      <td>854261</td>\n",
       "      <td>CCCCCCCCC</td>\n",
       "      <td>inter_Rv0759c_Rv0760c</td>\n",
       "      <td>inter_Rv0759c_Rv0760c</td>\n",
       "      <td>776</td>\n",
       "      <td>28077</td>\n",
       "    </tr>\n",
       "    <tr>\n",
       "      <th>1</th>\n",
       "      <td>NC_000962.3</td>\n",
       "      <td>4323354</td>\n",
       "      <td>4323361</td>\n",
       "      <td>GGGGGGG</td>\n",
       "      <td>inter_Rv3848_Rv3849</td>\n",
       "      <td>inter_Rv3848_espR</td>\n",
       "      <td>269</td>\n",
       "      <td>1355</td>\n",
       "    </tr>\n",
       "    <tr>\n",
       "      <th>2</th>\n",
       "      <td>NC_000962.3</td>\n",
       "      <td>2234247</td>\n",
       "      <td>2234254</td>\n",
       "      <td>GGGGGGG</td>\n",
       "      <td>inter_Rv1990c_Rv1991c</td>\n",
       "      <td>inter_Rv1990c_mazF6</td>\n",
       "      <td>217</td>\n",
       "      <td>901</td>\n",
       "    </tr>\n",
       "    <tr>\n",
       "      <th>3</th>\n",
       "      <td>NC_000962.3</td>\n",
       "      <td>364498</td>\n",
       "      <td>364505</td>\n",
       "      <td>GGGGGGG</td>\n",
       "      <td>inter_Rv0301_Rv0302</td>\n",
       "      <td>inter_vapC2_Rv0302</td>\n",
       "      <td>216</td>\n",
       "      <td>676</td>\n",
       "    </tr>\n",
       "    <tr>\n",
       "      <th>4</th>\n",
       "      <td>NC_000962.3</td>\n",
       "      <td>3742991</td>\n",
       "      <td>3742998</td>\n",
       "      <td>GGGGGGG</td>\n",
       "      <td>inter_Rv3345c_Rv3346c</td>\n",
       "      <td>inter_PE_PGRS50_Rv3346c</td>\n",
       "      <td>214</td>\n",
       "      <td>2229</td>\n",
       "    </tr>\n",
       "    <tr>\n",
       "      <th>5</th>\n",
       "      <td>NC_000962.3</td>\n",
       "      <td>2976558</td>\n",
       "      <td>2976565</td>\n",
       "      <td>CCCCCCC</td>\n",
       "      <td>inter_Rv2652c_Rv2653c</td>\n",
       "      <td>inter_Rv2652c_Rv2653c</td>\n",
       "      <td>152</td>\n",
       "      <td>669</td>\n",
       "    </tr>\n",
       "    <tr>\n",
       "      <th>6</th>\n",
       "      <td>NC_000962.3</td>\n",
       "      <td>4056480</td>\n",
       "      <td>4056487</td>\n",
       "      <td>TTTTTTT</td>\n",
       "      <td>inter_Rv3616c_Rv3617</td>\n",
       "      <td>inter_espA_ephA</td>\n",
       "      <td>108</td>\n",
       "      <td>405</td>\n",
       "    </tr>\n",
       "    <tr>\n",
       "      <th>7</th>\n",
       "      <td>NC_000962.3</td>\n",
       "      <td>1026916</td>\n",
       "      <td>1026923</td>\n",
       "      <td>GGGGGGG</td>\n",
       "      <td>inter_Rv0920c_Rv0921</td>\n",
       "      <td>inter_Rv0920c_Rv0921</td>\n",
       "      <td>90</td>\n",
       "      <td>332</td>\n",
       "    </tr>\n",
       "    <tr>\n",
       "      <th>8</th>\n",
       "      <td>NC_000962.3</td>\n",
       "      <td>2881582</td>\n",
       "      <td>2881589</td>\n",
       "      <td>TTTTTTT</td>\n",
       "      <td>inter_Rv2560_Rv2563</td>\n",
       "      <td>inter_Rv2560_Rv2563</td>\n",
       "      <td>89</td>\n",
       "      <td>3701</td>\n",
       "    </tr>\n",
       "    <tr>\n",
       "      <th>9</th>\n",
       "      <td>NC_000962.3</td>\n",
       "      <td>2440187</td>\n",
       "      <td>2440194</td>\n",
       "      <td>GGGGGGG</td>\n",
       "      <td>inter_Rv2177c_Rv2178c</td>\n",
       "      <td>inter_Rv2177c_aroG</td>\n",
       "      <td>69</td>\n",
       "      <td>819</td>\n",
       "    </tr>\n",
       "  </tbody>\n",
       "</table>\n",
       "</div>"
      ],
      "text/plain": [
       "    Chromosome  chromStart  chromEnd     polyNT              locus_tag  \\\n",
       "0  NC_000962.3      854252    854261  CCCCCCCCC  inter_Rv0759c_Rv0760c   \n",
       "1  NC_000962.3     4323354   4323361    GGGGGGG    inter_Rv3848_Rv3849   \n",
       "2  NC_000962.3     2234247   2234254    GGGGGGG  inter_Rv1990c_Rv1991c   \n",
       "3  NC_000962.3      364498    364505    GGGGGGG    inter_Rv0301_Rv0302   \n",
       "4  NC_000962.3     3742991   3742998    GGGGGGG  inter_Rv3345c_Rv3346c   \n",
       "5  NC_000962.3     2976558   2976565    CCCCCCC  inter_Rv2652c_Rv2653c   \n",
       "6  NC_000962.3     4056480   4056487    TTTTTTT   inter_Rv3616c_Rv3617   \n",
       "7  NC_000962.3     1026916   1026923    GGGGGGG   inter_Rv0920c_Rv0921   \n",
       "8  NC_000962.3     2881582   2881589    TTTTTTT    inter_Rv2560_Rv2563   \n",
       "9  NC_000962.3     2440187   2440194    GGGGGGG  inter_Rv2177c_Rv2178c   \n",
       "\n",
       "                 gene_name  INDEL_homoplasy  num_isolates_with_INDEL  \n",
       "0    inter_Rv0759c_Rv0760c              776                    28077  \n",
       "1        inter_Rv3848_espR              269                     1355  \n",
       "2      inter_Rv1990c_mazF6              217                      901  \n",
       "3       inter_vapC2_Rv0302              216                      676  \n",
       "4  inter_PE_PGRS50_Rv3346c              214                     2229  \n",
       "5    inter_Rv2652c_Rv2653c              152                      669  \n",
       "6          inter_espA_ephA              108                      405  \n",
       "7     inter_Rv0920c_Rv0921               90                      332  \n",
       "8      inter_Rv2560_Rv2563               89                     3701  \n",
       "9       inter_Rv2177c_aroG               69                      819  "
      ]
     },
     "execution_count": 85,
     "metadata": {},
     "output_type": "execute_result"
    }
   ],
   "source": [
    "homopolymeric_regions_from_Luca"
   ]
  },
  {
   "cell_type": "code",
   "execution_count": 86,
   "metadata": {},
   "outputs": [
    {
     "data": {
      "text/plain": [
       "228410"
      ]
     },
     "execution_count": 86,
     "metadata": {},
     "output_type": "execute_result"
    }
   ],
   "source": [
    "len(TSS_50bp_upstream_coords)"
   ]
  },
  {
   "cell_type": "code",
   "execution_count": 87,
   "metadata": {},
   "outputs": [],
   "source": [
    "located_near_TSS = []\n",
    "\n",
    "for HT_i_start, HT_i_end in zip(homopolymeric_regions_from_Luca.chromStart, homopolymeric_regions_from_Luca.chromEnd):\n",
    "    \n",
    "    near_TSS = 'no'\n",
    "    \n",
    "    HT_positions = np.arange(np.min([HT_i_start, HT_i_end]) + 1, np.max([HT_i_start, HT_i_end])+1)\n",
    "    \n",
    "    for HT_i_pos in HT_positions:\n",
    "        \n",
    "        if HT_i_pos in TSS_50bp_upstream_coords:\n",
    "            near_TSS = 'yes'\n",
    "            break\n",
    "            \n",
    "    located_near_TSS.append(near_TSS)\n",
    "    \n",
    "homopolymeric_regions_from_Luca.loc[:,'near_TSS'] = located_near_TSS"
   ]
  },
  {
   "cell_type": "code",
   "execution_count": 88,
   "metadata": {},
   "outputs": [
    {
     "data": {
      "text/html": [
       "<div>\n",
       "<style>\n",
       "    .dataframe thead tr:only-child th {\n",
       "        text-align: right;\n",
       "    }\n",
       "\n",
       "    .dataframe thead th {\n",
       "        text-align: left;\n",
       "    }\n",
       "\n",
       "    .dataframe tbody tr th {\n",
       "        vertical-align: top;\n",
       "    }\n",
       "</style>\n",
       "<table border=\"1\" class=\"dataframe\">\n",
       "  <thead>\n",
       "    <tr style=\"text-align: right;\">\n",
       "      <th></th>\n",
       "      <th>Chromosome</th>\n",
       "      <th>chromStart</th>\n",
       "      <th>chromEnd</th>\n",
       "      <th>polyNT</th>\n",
       "      <th>locus_tag</th>\n",
       "      <th>gene_name</th>\n",
       "      <th>INDEL_homoplasy</th>\n",
       "      <th>num_isolates_with_INDEL</th>\n",
       "      <th>near_TSS</th>\n",
       "    </tr>\n",
       "  </thead>\n",
       "  <tbody>\n",
       "    <tr>\n",
       "      <th>0</th>\n",
       "      <td>NC_000962.3</td>\n",
       "      <td>854252</td>\n",
       "      <td>854261</td>\n",
       "      <td>CCCCCCCCC</td>\n",
       "      <td>inter_Rv0759c_Rv0760c</td>\n",
       "      <td>inter_Rv0759c_Rv0760c</td>\n",
       "      <td>776</td>\n",
       "      <td>28077</td>\n",
       "      <td>no</td>\n",
       "    </tr>\n",
       "    <tr>\n",
       "      <th>1</th>\n",
       "      <td>NC_000962.3</td>\n",
       "      <td>4323354</td>\n",
       "      <td>4323361</td>\n",
       "      <td>GGGGGGG</td>\n",
       "      <td>inter_Rv3848_Rv3849</td>\n",
       "      <td>inter_Rv3848_espR</td>\n",
       "      <td>269</td>\n",
       "      <td>1355</td>\n",
       "      <td>yes</td>\n",
       "    </tr>\n",
       "    <tr>\n",
       "      <th>2</th>\n",
       "      <td>NC_000962.3</td>\n",
       "      <td>2234247</td>\n",
       "      <td>2234254</td>\n",
       "      <td>GGGGGGG</td>\n",
       "      <td>inter_Rv1990c_Rv1991c</td>\n",
       "      <td>inter_Rv1990c_mazF6</td>\n",
       "      <td>217</td>\n",
       "      <td>901</td>\n",
       "      <td>no</td>\n",
       "    </tr>\n",
       "    <tr>\n",
       "      <th>3</th>\n",
       "      <td>NC_000962.3</td>\n",
       "      <td>364498</td>\n",
       "      <td>364505</td>\n",
       "      <td>GGGGGGG</td>\n",
       "      <td>inter_Rv0301_Rv0302</td>\n",
       "      <td>inter_vapC2_Rv0302</td>\n",
       "      <td>216</td>\n",
       "      <td>676</td>\n",
       "      <td>yes</td>\n",
       "    </tr>\n",
       "    <tr>\n",
       "      <th>4</th>\n",
       "      <td>NC_000962.3</td>\n",
       "      <td>3742991</td>\n",
       "      <td>3742998</td>\n",
       "      <td>GGGGGGG</td>\n",
       "      <td>inter_Rv3345c_Rv3346c</td>\n",
       "      <td>inter_PE_PGRS50_Rv3346c</td>\n",
       "      <td>214</td>\n",
       "      <td>2229</td>\n",
       "      <td>no</td>\n",
       "    </tr>\n",
       "    <tr>\n",
       "      <th>5</th>\n",
       "      <td>NC_000962.3</td>\n",
       "      <td>2976558</td>\n",
       "      <td>2976565</td>\n",
       "      <td>CCCCCCC</td>\n",
       "      <td>inter_Rv2652c_Rv2653c</td>\n",
       "      <td>inter_Rv2652c_Rv2653c</td>\n",
       "      <td>152</td>\n",
       "      <td>669</td>\n",
       "      <td>no</td>\n",
       "    </tr>\n",
       "    <tr>\n",
       "      <th>6</th>\n",
       "      <td>NC_000962.3</td>\n",
       "      <td>4056480</td>\n",
       "      <td>4056487</td>\n",
       "      <td>TTTTTTT</td>\n",
       "      <td>inter_Rv3616c_Rv3617</td>\n",
       "      <td>inter_espA_ephA</td>\n",
       "      <td>108</td>\n",
       "      <td>405</td>\n",
       "      <td>yes</td>\n",
       "    </tr>\n",
       "    <tr>\n",
       "      <th>7</th>\n",
       "      <td>NC_000962.3</td>\n",
       "      <td>1026916</td>\n",
       "      <td>1026923</td>\n",
       "      <td>GGGGGGG</td>\n",
       "      <td>inter_Rv0920c_Rv0921</td>\n",
       "      <td>inter_Rv0920c_Rv0921</td>\n",
       "      <td>90</td>\n",
       "      <td>332</td>\n",
       "      <td>no</td>\n",
       "    </tr>\n",
       "    <tr>\n",
       "      <th>8</th>\n",
       "      <td>NC_000962.3</td>\n",
       "      <td>2881582</td>\n",
       "      <td>2881589</td>\n",
       "      <td>TTTTTTT</td>\n",
       "      <td>inter_Rv2560_Rv2563</td>\n",
       "      <td>inter_Rv2560_Rv2563</td>\n",
       "      <td>89</td>\n",
       "      <td>3701</td>\n",
       "      <td>no</td>\n",
       "    </tr>\n",
       "    <tr>\n",
       "      <th>9</th>\n",
       "      <td>NC_000962.3</td>\n",
       "      <td>2440187</td>\n",
       "      <td>2440194</td>\n",
       "      <td>GGGGGGG</td>\n",
       "      <td>inter_Rv2177c_Rv2178c</td>\n",
       "      <td>inter_Rv2177c_aroG</td>\n",
       "      <td>69</td>\n",
       "      <td>819</td>\n",
       "      <td>no</td>\n",
       "    </tr>\n",
       "  </tbody>\n",
       "</table>\n",
       "</div>"
      ],
      "text/plain": [
       "    Chromosome  chromStart  chromEnd     polyNT              locus_tag  \\\n",
       "0  NC_000962.3      854252    854261  CCCCCCCCC  inter_Rv0759c_Rv0760c   \n",
       "1  NC_000962.3     4323354   4323361    GGGGGGG    inter_Rv3848_Rv3849   \n",
       "2  NC_000962.3     2234247   2234254    GGGGGGG  inter_Rv1990c_Rv1991c   \n",
       "3  NC_000962.3      364498    364505    GGGGGGG    inter_Rv0301_Rv0302   \n",
       "4  NC_000962.3     3742991   3742998    GGGGGGG  inter_Rv3345c_Rv3346c   \n",
       "5  NC_000962.3     2976558   2976565    CCCCCCC  inter_Rv2652c_Rv2653c   \n",
       "6  NC_000962.3     4056480   4056487    TTTTTTT   inter_Rv3616c_Rv3617   \n",
       "7  NC_000962.3     1026916   1026923    GGGGGGG   inter_Rv0920c_Rv0921   \n",
       "8  NC_000962.3     2881582   2881589    TTTTTTT    inter_Rv2560_Rv2563   \n",
       "9  NC_000962.3     2440187   2440194    GGGGGGG  inter_Rv2177c_Rv2178c   \n",
       "\n",
       "                 gene_name  INDEL_homoplasy  num_isolates_with_INDEL near_TSS  \n",
       "0    inter_Rv0759c_Rv0760c              776                    28077       no  \n",
       "1        inter_Rv3848_espR              269                     1355      yes  \n",
       "2      inter_Rv1990c_mazF6              217                      901       no  \n",
       "3       inter_vapC2_Rv0302              216                      676      yes  \n",
       "4  inter_PE_PGRS50_Rv3346c              214                     2229       no  \n",
       "5    inter_Rv2652c_Rv2653c              152                      669       no  \n",
       "6          inter_espA_ephA              108                      405      yes  \n",
       "7     inter_Rv0920c_Rv0921               90                      332       no  \n",
       "8      inter_Rv2560_Rv2563               89                     3701       no  \n",
       "9       inter_Rv2177c_aroG               69                      819       no  "
      ]
     },
     "execution_count": 88,
     "metadata": {},
     "output_type": "execute_result"
    }
   ],
   "source": [
    "homopolymeric_regions_from_Luca"
   ]
  },
  {
   "cell_type": "code",
   "execution_count": 90,
   "metadata": {},
   "outputs": [],
   "source": [
    "fs_genotype_matrix = pd.read_csv('/n/data1/hms/dbmi/farhat/lfreschi/mic_assemblies/56-phase_variation/results/gwas/assoc_frameshifts_all_antibiotics/genotype_matrix.csv', header = None)"
   ]
  },
  {
   "cell_type": "code",
   "execution_count": 91,
   "metadata": {},
   "outputs": [
    {
     "data": {
      "text/plain": [
       "(145, 31428)"
      ]
     },
     "execution_count": 91,
     "metadata": {},
     "output_type": "execute_result"
    }
   ],
   "source": [
    "fs_genotype_matrix.shape"
   ]
  },
  {
   "cell_type": "code",
   "execution_count": 92,
   "metadata": {},
   "outputs": [
    {
     "data": {
      "text/plain": [
       "Counter({0.0: 26525, 1.0: 4903})"
      ]
     },
     "execution_count": 92,
     "metadata": {},
     "output_type": "execute_result"
    }
   ],
   "source": [
    "from collections import Counter\n",
    "Counter(list(fs_genotype_matrix.loc[0,:]))"
   ]
  },
  {
   "cell_type": "code",
   "execution_count": 93,
   "metadata": {},
   "outputs": [],
   "source": [
    "res_data_df = pd.read_csv('https://raw.githubusercontent.com/farhat-lab/resdata-ng/master/resistance_data/summary_tables/resistance_summary.txt', sep='\\t')"
   ]
  },
  {
   "cell_type": "code",
   "execution_count": 94,
   "metadata": {},
   "outputs": [
    {
     "data": {
      "text/html": [
       "<div>\n",
       "<style>\n",
       "    .dataframe thead tr:only-child th {\n",
       "        text-align: right;\n",
       "    }\n",
       "\n",
       "    .dataframe thead th {\n",
       "        text-align: left;\n",
       "    }\n",
       "\n",
       "    .dataframe tbody tr th {\n",
       "        vertical-align: top;\n",
       "    }\n",
       "</style>\n",
       "<table border=\"1\" class=\"dataframe\">\n",
       "  <thead>\n",
       "    <tr style=\"text-align: right;\">\n",
       "      <th></th>\n",
       "      <th>Isolate</th>\n",
       "      <th>AMIKACIN</th>\n",
       "      <th>AMOXICILLIN</th>\n",
       "      <th>CAPREOMYCIN</th>\n",
       "      <th>CIPROFLOXACIN</th>\n",
       "      <th>CLARITHROMYCIN</th>\n",
       "      <th>CLOFAZIMINE</th>\n",
       "      <th>CYCLOSERINE</th>\n",
       "      <th>ETHAMBUTOL</th>\n",
       "      <th>ETHIOMIDE</th>\n",
       "      <th>...</th>\n",
       "      <th>MOXIFLOXACIN</th>\n",
       "      <th>OFLOXACIN</th>\n",
       "      <th>OXIFLOXACIN</th>\n",
       "      <th>PARA-AMINOSALICYLIC_ACID</th>\n",
       "      <th>PARA_AMINOSALICYLIC_ACID</th>\n",
       "      <th>PROTHIONAMIDE</th>\n",
       "      <th>PYRAZINAMIDE</th>\n",
       "      <th>RIFABUTIN</th>\n",
       "      <th>RIFAMPICIN</th>\n",
       "      <th>STREPTOMYCIN</th>\n",
       "    </tr>\n",
       "  </thead>\n",
       "  <tbody>\n",
       "    <tr>\n",
       "      <th>0</th>\n",
       "      <td>00R0223</td>\n",
       "      <td>NaN</td>\n",
       "      <td>NaN</td>\n",
       "      <td>NaN</td>\n",
       "      <td>NaN</td>\n",
       "      <td>NaN</td>\n",
       "      <td>NaN</td>\n",
       "      <td>NaN</td>\n",
       "      <td>S</td>\n",
       "      <td>NaN</td>\n",
       "      <td>...</td>\n",
       "      <td>NaN</td>\n",
       "      <td>NaN</td>\n",
       "      <td>NaN</td>\n",
       "      <td>NaN</td>\n",
       "      <td>NaN</td>\n",
       "      <td>NaN</td>\n",
       "      <td>NaN</td>\n",
       "      <td>NaN</td>\n",
       "      <td>S</td>\n",
       "      <td>S</td>\n",
       "    </tr>\n",
       "    <tr>\n",
       "      <th>1</th>\n",
       "      <td>00R0312</td>\n",
       "      <td>NaN</td>\n",
       "      <td>NaN</td>\n",
       "      <td>R</td>\n",
       "      <td>NaN</td>\n",
       "      <td>NaN</td>\n",
       "      <td>NaN</td>\n",
       "      <td>NaN</td>\n",
       "      <td>R</td>\n",
       "      <td>NaN</td>\n",
       "      <td>...</td>\n",
       "      <td>NaN</td>\n",
       "      <td>NaN</td>\n",
       "      <td>NaN</td>\n",
       "      <td>NaN</td>\n",
       "      <td>NaN</td>\n",
       "      <td>NaN</td>\n",
       "      <td>NaN</td>\n",
       "      <td>NaN</td>\n",
       "      <td>R</td>\n",
       "      <td>R</td>\n",
       "    </tr>\n",
       "    <tr>\n",
       "      <th>2</th>\n",
       "      <td>00R0435</td>\n",
       "      <td>S</td>\n",
       "      <td>NaN</td>\n",
       "      <td>NaN</td>\n",
       "      <td>NaN</td>\n",
       "      <td>S</td>\n",
       "      <td>NaN</td>\n",
       "      <td>NaN</td>\n",
       "      <td>R</td>\n",
       "      <td>NaN</td>\n",
       "      <td>...</td>\n",
       "      <td>NaN</td>\n",
       "      <td>S</td>\n",
       "      <td>NaN</td>\n",
       "      <td>NaN</td>\n",
       "      <td>NaN</td>\n",
       "      <td>NaN</td>\n",
       "      <td>R</td>\n",
       "      <td>NaN</td>\n",
       "      <td>R</td>\n",
       "      <td>R</td>\n",
       "    </tr>\n",
       "    <tr>\n",
       "      <th>3</th>\n",
       "      <td>00R0453</td>\n",
       "      <td>NaN</td>\n",
       "      <td>NaN</td>\n",
       "      <td>R</td>\n",
       "      <td>NaN</td>\n",
       "      <td>NaN</td>\n",
       "      <td>NaN</td>\n",
       "      <td>NaN</td>\n",
       "      <td>R</td>\n",
       "      <td>NaN</td>\n",
       "      <td>...</td>\n",
       "      <td>NaN</td>\n",
       "      <td>R</td>\n",
       "      <td>NaN</td>\n",
       "      <td>NaN</td>\n",
       "      <td>NaN</td>\n",
       "      <td>NaN</td>\n",
       "      <td>NaN</td>\n",
       "      <td>NaN</td>\n",
       "      <td>R</td>\n",
       "      <td>R</td>\n",
       "    </tr>\n",
       "    <tr>\n",
       "      <th>4</th>\n",
       "      <td>00R1566</td>\n",
       "      <td>NaN</td>\n",
       "      <td>NaN</td>\n",
       "      <td>R</td>\n",
       "      <td>NaN</td>\n",
       "      <td>NaN</td>\n",
       "      <td>NaN</td>\n",
       "      <td>NaN</td>\n",
       "      <td>R</td>\n",
       "      <td>NaN</td>\n",
       "      <td>...</td>\n",
       "      <td>NaN</td>\n",
       "      <td>S</td>\n",
       "      <td>NaN</td>\n",
       "      <td>NaN</td>\n",
       "      <td>NaN</td>\n",
       "      <td>NaN</td>\n",
       "      <td>R</td>\n",
       "      <td>NaN</td>\n",
       "      <td>R</td>\n",
       "      <td>R</td>\n",
       "    </tr>\n",
       "  </tbody>\n",
       "</table>\n",
       "<p>5 rows × 27 columns</p>\n",
       "</div>"
      ],
      "text/plain": [
       "   Isolate AMIKACIN AMOXICILLIN CAPREOMYCIN CIPROFLOXACIN CLARITHROMYCIN  \\\n",
       "0  00R0223      NaN         NaN         NaN           NaN            NaN   \n",
       "1  00R0312      NaN         NaN           R           NaN            NaN   \n",
       "2  00R0435        S         NaN         NaN           NaN              S   \n",
       "3  00R0453      NaN         NaN           R           NaN            NaN   \n",
       "4  00R1566      NaN         NaN           R           NaN            NaN   \n",
       "\n",
       "  CLOFAZIMINE CYCLOSERINE ETHAMBUTOL ETHIOMIDE     ...      MOXIFLOXACIN  \\\n",
       "0         NaN         NaN          S       NaN     ...               NaN   \n",
       "1         NaN         NaN          R       NaN     ...               NaN   \n",
       "2         NaN         NaN          R       NaN     ...               NaN   \n",
       "3         NaN         NaN          R       NaN     ...               NaN   \n",
       "4         NaN         NaN          R       NaN     ...               NaN   \n",
       "\n",
       "  OFLOXACIN OXIFLOXACIN PARA-AMINOSALICYLIC_ACID PARA_AMINOSALICYLIC_ACID  \\\n",
       "0       NaN         NaN                      NaN                      NaN   \n",
       "1       NaN         NaN                      NaN                      NaN   \n",
       "2         S         NaN                      NaN                      NaN   \n",
       "3         R         NaN                      NaN                      NaN   \n",
       "4         S         NaN                      NaN                      NaN   \n",
       "\n",
       "  PROTHIONAMIDE PYRAZINAMIDE RIFABUTIN RIFAMPICIN STREPTOMYCIN  \n",
       "0           NaN          NaN       NaN          S            S  \n",
       "1           NaN          NaN       NaN          R            R  \n",
       "2           NaN            R       NaN          R            R  \n",
       "3           NaN          NaN       NaN          R            R  \n",
       "4           NaN            R       NaN          R            R  \n",
       "\n",
       "[5 rows x 27 columns]"
      ]
     },
     "execution_count": 94,
     "metadata": {},
     "output_type": "execute_result"
    }
   ],
   "source": [
    "res_data_df.head()"
   ]
  },
  {
   "cell_type": "code",
   "execution_count": 95,
   "metadata": {},
   "outputs": [
    {
     "data": {
      "text/plain": [
       "Counter({nan: 967, 'R': 6749, 'S': 14401})"
      ]
     },
     "execution_count": 95,
     "metadata": {},
     "output_type": "execute_result"
    }
   ],
   "source": [
    "Counter(res_data_df['ISONIAZID'].tolist())"
   ]
  },
  {
   "cell_type": "markdown",
   "metadata": {},
   "source": [
    "### [6] investigate *PPE13* HT INDELs further\n",
    "\n",
    "- chromStart = 976872\n",
    "- chromEnd = 978203\n",
    "- located on - strand\n",
    "- gene length = 1,332 bp"
   ]
  },
  {
   "cell_type": "code",
   "execution_count": 113,
   "metadata": {},
   "outputs": [
    {
     "data": {
      "text/html": [
       "<div>\n",
       "<style>\n",
       "    .dataframe thead tr:only-child th {\n",
       "        text-align: right;\n",
       "    }\n",
       "\n",
       "    .dataframe thead th {\n",
       "        text-align: left;\n",
       "    }\n",
       "\n",
       "    .dataframe tbody tr th {\n",
       "        vertical-align: top;\n",
       "    }\n",
       "</style>\n",
       "<table border=\"1\" class=\"dataframe\">\n",
       "  <thead>\n",
       "    <tr style=\"text-align: right;\">\n",
       "      <th></th>\n",
       "      <th>Chromosome</th>\n",
       "      <th>chromStart</th>\n",
       "      <th>chromEnd</th>\n",
       "      <th>polyNT</th>\n",
       "      <th>locus_tag</th>\n",
       "      <th>gene_name</th>\n",
       "      <th>INDEL_homoplasy</th>\n",
       "      <th>num_isolates_with_INDEL</th>\n",
       "    </tr>\n",
       "  </thead>\n",
       "  <tbody>\n",
       "    <tr>\n",
       "      <th>0</th>\n",
       "      <td>NC_000962.3</td>\n",
       "      <td>976897</td>\n",
       "      <td>976906</td>\n",
       "      <td>GGGGGGGGG</td>\n",
       "      <td>Rv0878c</td>\n",
       "      <td>PPE13</td>\n",
       "      <td>2317</td>\n",
       "      <td>8351</td>\n",
       "    </tr>\n",
       "    <tr>\n",
       "      <th>2</th>\n",
       "      <td>NC_000962.3</td>\n",
       "      <td>976889</td>\n",
       "      <td>976896</td>\n",
       "      <td>TTTTTTTT</td>\n",
       "      <td>Rv0878c</td>\n",
       "      <td>PPE13</td>\n",
       "      <td>771</td>\n",
       "      <td>5641</td>\n",
       "    </tr>\n",
       "  </tbody>\n",
       "</table>\n",
       "</div>"
      ],
      "text/plain": [
       "    Chromosome  chromStart  chromEnd     polyNT locus_tag gene_name  \\\n",
       "0  NC_000962.3      976897    976906  GGGGGGGGG   Rv0878c     PPE13   \n",
       "2  NC_000962.3      976889    976896   TTTTTTTT   Rv0878c     PPE13   \n",
       "\n",
       "   INDEL_homoplasy  num_isolates_with_INDEL  \n",
       "0             2317                     8351  \n",
       "2              771                     5641  "
      ]
     },
     "execution_count": 113,
     "metadata": {},
     "output_type": "execute_result"
    }
   ],
   "source": [
    "homopolymeric_regions_from_Luca[homopolymeric_regions_from_Luca.gene_name == 'PPE13']"
   ]
  },
  {
   "cell_type": "code",
   "execution_count": 115,
   "metadata": {},
   "outputs": [
    {
     "data": {
      "text/plain": [
       "18"
      ]
     },
     "execution_count": 115,
     "metadata": {},
     "output_type": "execute_result"
    }
   ],
   "source": [
    "976890 - 976872"
   ]
  },
  {
   "cell_type": "code",
   "execution_count": 119,
   "metadata": {},
   "outputs": [
    {
     "data": {
      "text/plain": [
       "1529.0"
      ]
     },
     "execution_count": 119,
     "metadata": {},
     "output_type": "execute_result"
    }
   ],
   "source": [
    "all_homoplasic_INDELs[(all_homoplasic_INDELs.gene_name == 'PPE13') & (all_homoplasic_INDELs.repeat_region == 'HT') & (all_homoplasic_INDELs.stop_codon == 'premature stop - last 1/4')].total.sum()"
   ]
  },
  {
   "cell_type": "code",
   "execution_count": 120,
   "metadata": {},
   "outputs": [
    {
     "data": {
      "text/plain": [
       "1559.0"
      ]
     },
     "execution_count": 120,
     "metadata": {},
     "output_type": "execute_result"
    }
   ],
   "source": [
    "all_homoplasic_INDELs[(all_homoplasic_INDELs.gene_name == 'PPE13') & (all_homoplasic_INDELs.repeat_region == 'HT') & (all_homoplasic_INDELs.stop_codon == 'elongation - appears after annotated stop')].total.sum()"
   ]
  },
  {
   "cell_type": "markdown",
   "metadata": {},
   "source": [
    "### [6] What proportion of INDEL mutation events occur within HTs?"
   ]
  },
  {
   "cell_type": "code",
   "execution_count": 61,
   "metadata": {},
   "outputs": [
    {
     "data": {
      "text/plain": [
       "10834.0"
      ]
     },
     "execution_count": 61,
     "metadata": {},
     "output_type": "execute_result"
    }
   ],
   "source": [
    "all_homoplasic_INDELs[(all_homoplasic_INDELs.repeat_region == 'HT')].total.sum()"
   ]
  },
  {
   "cell_type": "code",
   "execution_count": 60,
   "metadata": {},
   "outputs": [
    {
     "data": {
      "text/plain": [
       "87651.0"
      ]
     },
     "execution_count": 60,
     "metadata": {},
     "output_type": "execute_result"
    }
   ],
   "source": [
    "all_homoplasic_INDELs.total.sum()"
   ]
  },
  {
   "cell_type": "code",
   "execution_count": 63,
   "metadata": {},
   "outputs": [
    {
     "data": {
      "text/plain": [
       "12.36038379482265"
      ]
     },
     "execution_count": 63,
     "metadata": {},
     "output_type": "execute_result"
    }
   ],
   "source": [
    "float(all_homoplasic_INDELs[(all_homoplasic_INDELs.repeat_region == 'HT')].total.sum() / all_homoplasic_INDELs.total.sum()) * 100"
   ]
  },
  {
   "cell_type": "markdown",
   "metadata": {},
   "source": [
    "### [7] Median length of INDEL variants in SSR regions"
   ]
  },
  {
   "cell_type": "code",
   "execution_count": 34,
   "metadata": {},
   "outputs": [
    {
     "data": {
      "text/plain": [
       "(2077, 23)"
      ]
     },
     "execution_count": 34,
     "metadata": {},
     "output_type": "execute_result"
    }
   ],
   "source": [
    "SSR_INDELs_df = all_homoplasic_INDELs[all_homoplasic_INDELs.repeat_region == 'SSR']\n",
    "SSR_INDELs_df.shape"
   ]
  },
  {
   "cell_type": "code",
   "execution_count": 38,
   "metadata": {},
   "outputs": [],
   "source": [
    "variant_length_list = []\n",
    "for ref_allele, alt_allele in zip(SSR_INDELs_df.ref, SSR_INDELs_df.alt):\n",
    "    variant_length = abs(len(ref_allele) - len(alt_allele))\n",
    "    variant_length_list.append(variant_length)\n",
    "variant_length_list = np.array(variant_length_list)"
   ]
  },
  {
   "cell_type": "code",
   "execution_count": 40,
   "metadata": {},
   "outputs": [
    {
     "data": {
      "text/plain": [
       "1"
      ]
     },
     "execution_count": 40,
     "metadata": {},
     "output_type": "execute_result"
    }
   ],
   "source": [
    "np.min(variant_length_list)"
   ]
  },
  {
   "cell_type": "code",
   "execution_count": 39,
   "metadata": {},
   "outputs": [
    {
     "data": {
      "text/plain": [
       "2.0"
      ]
     },
     "execution_count": 39,
     "metadata": {},
     "output_type": "execute_result"
    }
   ],
   "source": [
    "np.median(variant_length_list)"
   ]
  },
  {
   "cell_type": "code",
   "execution_count": 41,
   "metadata": {},
   "outputs": [
    {
     "data": {
      "text/plain": [
       "10"
      ]
     },
     "execution_count": 41,
     "metadata": {},
     "output_type": "execute_result"
    }
   ],
   "source": [
    "np.max(variant_length_list)"
   ]
  },
  {
   "cell_type": "markdown",
   "metadata": {},
   "source": [
    "####################################################################################################################################################################################"
   ]
  },
  {
   "cell_type": "markdown",
   "metadata": {},
   "source": [
    "# [2B] Get *SNPs* & *INDELs* for specific genomic regions for other projects"
   ]
  },
  {
   "cell_type": "markdown",
   "metadata": {},
   "source": [
    "####################################################################################################################################################################################"
   ]
  },
  {
   "cell_type": "code",
   "execution_count": 30,
   "metadata": {},
   "outputs": [],
   "source": [
    "recomb_RvIDsOfInterest = [\"Rv2737c\", \"Rv0054\", \"Rv2593c\", \"Rv2592c\", \"Rv2594c\", \"Rv2973c\"]"
   ]
  },
  {
   "cell_type": "markdown",
   "metadata": {},
   "source": [
    "### SNPs"
   ]
  },
  {
   "cell_type": "code",
   "execution_count": 26,
   "metadata": {},
   "outputs": [
    {
     "data": {
      "text/html": [
       "<div>\n",
       "<style>\n",
       "    .dataframe thead tr:only-child th {\n",
       "        text-align: right;\n",
       "    }\n",
       "\n",
       "    .dataframe thead th {\n",
       "        text-align: left;\n",
       "    }\n",
       "\n",
       "    .dataframe tbody tr th {\n",
       "        vertical-align: top;\n",
       "    }\n",
       "</style>\n",
       "<table border=\"1\" class=\"dataframe\">\n",
       "  <thead>\n",
       "    <tr style=\"text-align: right;\">\n",
       "      <th></th>\n",
       "      <th>pos</th>\n",
       "      <th>ref</th>\n",
       "      <th>alt</th>\n",
       "      <th>minor</th>\n",
       "      <th>gene_id</th>\n",
       "      <th>gene_pos</th>\n",
       "      <th>gene_category</th>\n",
       "      <th>SNP_type</th>\n",
       "      <th>AA_change</th>\n",
       "      <th>1</th>\n",
       "      <th>2</th>\n",
       "      <th>3</th>\n",
       "      <th>4A</th>\n",
       "      <th>4B</th>\n",
       "      <th>4C</th>\n",
       "      <th>5</th>\n",
       "      <th>6</th>\n",
       "      <th>total</th>\n",
       "      <th>gene_name</th>\n",
       "      <th>num_isolates_alt</th>\n",
       "    </tr>\n",
       "  </thead>\n",
       "  <tbody>\n",
       "    <tr>\n",
       "      <th>0</th>\n",
       "      <td>2155168.0</td>\n",
       "      <td>C</td>\n",
       "      <td>G</td>\n",
       "      <td>G</td>\n",
       "      <td>Rv1908c</td>\n",
       "      <td>944</td>\n",
       "      <td>Antibiotic Resistance</td>\n",
       "      <td>N</td>\n",
       "      <td>S315T</td>\n",
       "      <td>203</td>\n",
       "      <td>408</td>\n",
       "      <td>297</td>\n",
       "      <td>306</td>\n",
       "      <td>310</td>\n",
       "      <td>179</td>\n",
       "      <td>8</td>\n",
       "      <td>6</td>\n",
       "      <td>1717</td>\n",
       "      <td>katG</td>\n",
       "      <td>8066</td>\n",
       "    </tr>\n",
       "    <tr>\n",
       "      <th>1</th>\n",
       "      <td>761155.0</td>\n",
       "      <td>C</td>\n",
       "      <td>T</td>\n",
       "      <td>T</td>\n",
       "      <td>Rv0667</td>\n",
       "      <td>1349</td>\n",
       "      <td>Antibiotic Resistance</td>\n",
       "      <td>N</td>\n",
       "      <td>S450L</td>\n",
       "      <td>75</td>\n",
       "      <td>415</td>\n",
       "      <td>199</td>\n",
       "      <td>222</td>\n",
       "      <td>311</td>\n",
       "      <td>173</td>\n",
       "      <td>8</td>\n",
       "      <td>3</td>\n",
       "      <td>1406</td>\n",
       "      <td>rpoB</td>\n",
       "      <td>5706</td>\n",
       "    </tr>\n",
       "    <tr>\n",
       "      <th>2</th>\n",
       "      <td>781687.0</td>\n",
       "      <td>A</td>\n",
       "      <td>G</td>\n",
       "      <td>G</td>\n",
       "      <td>Rv0682</td>\n",
       "      <td>128</td>\n",
       "      <td>Antibiotic Resistance</td>\n",
       "      <td>N</td>\n",
       "      <td>K43R</td>\n",
       "      <td>37</td>\n",
       "      <td>463</td>\n",
       "      <td>102</td>\n",
       "      <td>65</td>\n",
       "      <td>53</td>\n",
       "      <td>51</td>\n",
       "      <td>6</td>\n",
       "      <td>2</td>\n",
       "      <td>779</td>\n",
       "      <td>rpsL</td>\n",
       "      <td>3509</td>\n",
       "    </tr>\n",
       "    <tr>\n",
       "      <th>4</th>\n",
       "      <td>4247429.0</td>\n",
       "      <td>A</td>\n",
       "      <td>G</td>\n",
       "      <td>G</td>\n",
       "      <td>Rv3795</td>\n",
       "      <td>916</td>\n",
       "      <td>Antibiotic Resistance</td>\n",
       "      <td>N</td>\n",
       "      <td>M306V</td>\n",
       "      <td>32</td>\n",
       "      <td>406</td>\n",
       "      <td>67</td>\n",
       "      <td>76</td>\n",
       "      <td>99</td>\n",
       "      <td>60</td>\n",
       "      <td>2</td>\n",
       "      <td>1</td>\n",
       "      <td>743</td>\n",
       "      <td>embB</td>\n",
       "      <td>2102</td>\n",
       "    </tr>\n",
       "    <tr>\n",
       "      <th>6</th>\n",
       "      <td>7582.0</td>\n",
       "      <td>A</td>\n",
       "      <td>G</td>\n",
       "      <td>G</td>\n",
       "      <td>Rv0006</td>\n",
       "      <td>281</td>\n",
       "      <td>Antibiotic Resistance</td>\n",
       "      <td>N</td>\n",
       "      <td>D94G</td>\n",
       "      <td>10</td>\n",
       "      <td>320</td>\n",
       "      <td>67</td>\n",
       "      <td>77</td>\n",
       "      <td>53</td>\n",
       "      <td>25</td>\n",
       "      <td>0</td>\n",
       "      <td>0</td>\n",
       "      <td>552</td>\n",
       "      <td>gyrA</td>\n",
       "      <td>844</td>\n",
       "    </tr>\n",
       "  </tbody>\n",
       "</table>\n",
       "</div>"
      ],
      "text/plain": [
       "         pos ref alt minor  gene_id gene_pos          gene_category SNP_type  \\\n",
       "0  2155168.0   C   G     G  Rv1908c      944  Antibiotic Resistance        N   \n",
       "1   761155.0   C   T     T   Rv0667     1349  Antibiotic Resistance        N   \n",
       "2   781687.0   A   G     G   Rv0682      128  Antibiotic Resistance        N   \n",
       "4  4247429.0   A   G     G   Rv3795      916  Antibiotic Resistance        N   \n",
       "6     7582.0   A   G     G   Rv0006      281  Antibiotic Resistance        N   \n",
       "\n",
       "  AA_change    1    2    3   4A   4B   4C  5  6  total gene_name  \\\n",
       "0     S315T  203  408  297  306  310  179  8  6   1717      katG   \n",
       "1     S450L   75  415  199  222  311  173  8  3   1406      rpoB   \n",
       "2      K43R   37  463  102   65   53   51  6  2    779      rpsL   \n",
       "4     M306V   32  406   67   76   99   60  2  1    743      embB   \n",
       "6      D94G   10  320   67   77   53   25  0  0    552      gyrA   \n",
       "\n",
       "   num_isolates_alt  \n",
       "0              8066  \n",
       "1              5706  \n",
       "2              3509  \n",
       "4              2102  \n",
       "6               844  "
      ]
     },
     "execution_count": 26,
     "metadata": {},
     "output_type": "execute_result"
    }
   ],
   "source": [
    "all_homoplasic_SNPs.head()"
   ]
  },
  {
   "cell_type": "code",
   "execution_count": 29,
   "metadata": {},
   "outputs": [
    {
     "data": {
      "text/plain": [
       "(834981, 20)"
      ]
     },
     "execution_count": 29,
     "metadata": {},
     "output_type": "execute_result"
    }
   ],
   "source": [
    "all_homoplasic_SNPs.shape"
   ]
  },
  {
   "cell_type": "code",
   "execution_count": 39,
   "metadata": {},
   "outputs": [
    {
     "name": "stderr",
     "output_type": "stream",
     "text": [
      "/home/rv76/anaconda2/lib/python2.7/site-packages/ipykernel_launcher.py:9: SettingWithCopyWarning: \n",
      "A value is trying to be set on a copy of a slice from a DataFrame\n",
      "\n",
      "See the caveats in the documentation: http://pandas.pydata.org/pandas-docs/stable/indexing.html#indexing-view-versus-copy\n",
      "  if __name__ == '__main__':\n"
     ]
    }
   ],
   "source": [
    "homoplasic_SNPs_subset_bool_filter = []\n",
    "for SNP_i_gene_id in all_homoplasic_SNPs.gene_id:\n",
    "    if SNP_i_gene_id in recomb_RvIDsOfInterest:\n",
    "        homoplasic_SNPs_subset_bool_filter.append(True)\n",
    "    else:\n",
    "        homoplasic_SNPs_subset_bool_filter.append(False)\n",
    "        \n",
    "homoplasic_SNPs_sub = all_homoplasic_SNPs[homoplasic_SNPs_subset_bool_filter]\n",
    "homoplasic_SNPs_sub.sort_values(by = \"pos\", ascending = True, inplace = True)\n",
    "homoplasic_SNPs_sub.reset_index(inplace = True, drop = True)"
   ]
  },
  {
   "cell_type": "code",
   "execution_count": 40,
   "metadata": {},
   "outputs": [
    {
     "data": {
      "text/plain": [
       "(1052, 20)"
      ]
     },
     "execution_count": 40,
     "metadata": {},
     "output_type": "execute_result"
    }
   ],
   "source": [
    "homoplasic_SNPs_sub.shape"
   ]
  },
  {
   "cell_type": "code",
   "execution_count": 46,
   "metadata": {},
   "outputs": [
    {
     "data": {
      "text/html": [
       "<div>\n",
       "<style>\n",
       "    .dataframe thead tr:only-child th {\n",
       "        text-align: right;\n",
       "    }\n",
       "\n",
       "    .dataframe thead th {\n",
       "        text-align: left;\n",
       "    }\n",
       "\n",
       "    .dataframe tbody tr th {\n",
       "        vertical-align: top;\n",
       "    }\n",
       "</style>\n",
       "<table border=\"1\" class=\"dataframe\">\n",
       "  <thead>\n",
       "    <tr style=\"text-align: right;\">\n",
       "      <th></th>\n",
       "      <th>pos</th>\n",
       "      <th>ref</th>\n",
       "      <th>alt</th>\n",
       "      <th>minor</th>\n",
       "      <th>gene_id</th>\n",
       "      <th>gene_pos</th>\n",
       "      <th>gene_category</th>\n",
       "      <th>SNP_type</th>\n",
       "      <th>AA_change</th>\n",
       "      <th>1</th>\n",
       "      <th>2</th>\n",
       "      <th>3</th>\n",
       "      <th>4A</th>\n",
       "      <th>4B</th>\n",
       "      <th>4C</th>\n",
       "      <th>5</th>\n",
       "      <th>6</th>\n",
       "      <th>total</th>\n",
       "      <th>gene_name</th>\n",
       "      <th>num_isolates_alt</th>\n",
       "    </tr>\n",
       "  </thead>\n",
       "  <tbody>\n",
       "    <tr>\n",
       "      <th>91</th>\n",
       "      <td>59024.0</td>\n",
       "      <td>G</td>\n",
       "      <td>C</td>\n",
       "      <td>C</td>\n",
       "      <td>Rv0054</td>\n",
       "      <td>439</td>\n",
       "      <td>Non-Essential</td>\n",
       "      <td>N</td>\n",
       "      <td>G147R</td>\n",
       "      <td>0</td>\n",
       "      <td>6</td>\n",
       "      <td>0</td>\n",
       "      <td>0</td>\n",
       "      <td>0</td>\n",
       "      <td>0</td>\n",
       "      <td>0</td>\n",
       "      <td>0</td>\n",
       "      <td>6</td>\n",
       "      <td>ssb</td>\n",
       "      <td>10</td>\n",
       "    </tr>\n",
       "    <tr>\n",
       "      <th>976</th>\n",
       "      <td>3329486.0</td>\n",
       "      <td>G</td>\n",
       "      <td>A</td>\n",
       "      <td>A</td>\n",
       "      <td>Rv2973c</td>\n",
       "      <td>461</td>\n",
       "      <td>Non-Essential</td>\n",
       "      <td>N</td>\n",
       "      <td>A154V</td>\n",
       "      <td>0</td>\n",
       "      <td>3</td>\n",
       "      <td>1</td>\n",
       "      <td>0</td>\n",
       "      <td>0</td>\n",
       "      <td>1</td>\n",
       "      <td>0</td>\n",
       "      <td>0</td>\n",
       "      <td>5</td>\n",
       "      <td>recG</td>\n",
       "      <td>8</td>\n",
       "    </tr>\n",
       "    <tr>\n",
       "      <th>720</th>\n",
       "      <td>3051321.0</td>\n",
       "      <td>C</td>\n",
       "      <td>T</td>\n",
       "      <td>T</td>\n",
       "      <td>Rv2737c</td>\n",
       "      <td>104</td>\n",
       "      <td>Non-Essential</td>\n",
       "      <td>N</td>\n",
       "      <td>R35H</td>\n",
       "      <td>1</td>\n",
       "      <td>0</td>\n",
       "      <td>1</td>\n",
       "      <td>0</td>\n",
       "      <td>2</td>\n",
       "      <td>1</td>\n",
       "      <td>0</td>\n",
       "      <td>0</td>\n",
       "      <td>5</td>\n",
       "      <td>recA</td>\n",
       "      <td>9</td>\n",
       "    </tr>\n",
       "    <tr>\n",
       "      <th>82</th>\n",
       "      <td>59004.0</td>\n",
       "      <td>C</td>\n",
       "      <td>T</td>\n",
       "      <td>T</td>\n",
       "      <td>Rv0054</td>\n",
       "      <td>419</td>\n",
       "      <td>Non-Essential</td>\n",
       "      <td>N</td>\n",
       "      <td>A140V</td>\n",
       "      <td>1</td>\n",
       "      <td>0</td>\n",
       "      <td>0</td>\n",
       "      <td>1</td>\n",
       "      <td>1</td>\n",
       "      <td>1</td>\n",
       "      <td>0</td>\n",
       "      <td>0</td>\n",
       "      <td>4</td>\n",
       "      <td>ssb</td>\n",
       "      <td>9</td>\n",
       "    </tr>\n",
       "    <tr>\n",
       "      <th>900</th>\n",
       "      <td>3328871.0</td>\n",
       "      <td>A</td>\n",
       "      <td>C</td>\n",
       "      <td>C</td>\n",
       "      <td>Rv2973c</td>\n",
       "      <td>1076</td>\n",
       "      <td>Non-Essential</td>\n",
       "      <td>N</td>\n",
       "      <td>V359G</td>\n",
       "      <td>0</td>\n",
       "      <td>4</td>\n",
       "      <td>0</td>\n",
       "      <td>0</td>\n",
       "      <td>0</td>\n",
       "      <td>0</td>\n",
       "      <td>0</td>\n",
       "      <td>0</td>\n",
       "      <td>4</td>\n",
       "      <td>recG</td>\n",
       "      <td>17</td>\n",
       "    </tr>\n",
       "    <tr>\n",
       "      <th>331</th>\n",
       "      <td>2924758.0</td>\n",
       "      <td>G</td>\n",
       "      <td>A</td>\n",
       "      <td>A</td>\n",
       "      <td>Rv2593c</td>\n",
       "      <td>63</td>\n",
       "      <td>Non-Essential</td>\n",
       "      <td>S</td>\n",
       "      <td>A21A</td>\n",
       "      <td>1</td>\n",
       "      <td>0</td>\n",
       "      <td>1</td>\n",
       "      <td>0</td>\n",
       "      <td>1</td>\n",
       "      <td>1</td>\n",
       "      <td>0</td>\n",
       "      <td>0</td>\n",
       "      <td>4</td>\n",
       "      <td>ruvA</td>\n",
       "      <td>65</td>\n",
       "    </tr>\n",
       "    <tr>\n",
       "      <th>858</th>\n",
       "      <td>3328610.0</td>\n",
       "      <td>G</td>\n",
       "      <td>A</td>\n",
       "      <td>A</td>\n",
       "      <td>Rv2973c</td>\n",
       "      <td>1337</td>\n",
       "      <td>Non-Essential</td>\n",
       "      <td>N</td>\n",
       "      <td>A446V</td>\n",
       "      <td>1</td>\n",
       "      <td>3</td>\n",
       "      <td>0</td>\n",
       "      <td>0</td>\n",
       "      <td>0</td>\n",
       "      <td>0</td>\n",
       "      <td>0</td>\n",
       "      <td>0</td>\n",
       "      <td>4</td>\n",
       "      <td>recG</td>\n",
       "      <td>5</td>\n",
       "    </tr>\n",
       "    <tr>\n",
       "      <th>743</th>\n",
       "      <td>3327791.0</td>\n",
       "      <td>G</td>\n",
       "      <td>A</td>\n",
       "      <td>A</td>\n",
       "      <td>Rv2973c</td>\n",
       "      <td>2156</td>\n",
       "      <td>Non-Essential</td>\n",
       "      <td>N</td>\n",
       "      <td>A719V</td>\n",
       "      <td>1</td>\n",
       "      <td>2</td>\n",
       "      <td>0</td>\n",
       "      <td>0</td>\n",
       "      <td>0</td>\n",
       "      <td>0</td>\n",
       "      <td>0</td>\n",
       "      <td>0</td>\n",
       "      <td>3</td>\n",
       "      <td>recG</td>\n",
       "      <td>31</td>\n",
       "    </tr>\n",
       "    <tr>\n",
       "      <th>98</th>\n",
       "      <td>2923210.0</td>\n",
       "      <td>A</td>\n",
       "      <td>C</td>\n",
       "      <td>C</td>\n",
       "      <td>Rv2592c</td>\n",
       "      <td>1024</td>\n",
       "      <td>Non-Essential</td>\n",
       "      <td>N</td>\n",
       "      <td>L342V</td>\n",
       "      <td>0</td>\n",
       "      <td>0</td>\n",
       "      <td>1</td>\n",
       "      <td>2</td>\n",
       "      <td>0</td>\n",
       "      <td>0</td>\n",
       "      <td>0</td>\n",
       "      <td>0</td>\n",
       "      <td>3</td>\n",
       "      <td>ruvB</td>\n",
       "      <td>5</td>\n",
       "    </tr>\n",
       "    <tr>\n",
       "      <th>103</th>\n",
       "      <td>2923227.0</td>\n",
       "      <td>C</td>\n",
       "      <td>T</td>\n",
       "      <td>T</td>\n",
       "      <td>Rv2592c</td>\n",
       "      <td>1007</td>\n",
       "      <td>Non-Essential</td>\n",
       "      <td>N</td>\n",
       "      <td>G336E</td>\n",
       "      <td>0</td>\n",
       "      <td>3</td>\n",
       "      <td>0</td>\n",
       "      <td>0</td>\n",
       "      <td>0</td>\n",
       "      <td>0</td>\n",
       "      <td>0</td>\n",
       "      <td>0</td>\n",
       "      <td>3</td>\n",
       "      <td>ruvB</td>\n",
       "      <td>11</td>\n",
       "    </tr>\n",
       "  </tbody>\n",
       "</table>\n",
       "</div>"
      ],
      "text/plain": [
       "           pos ref alt minor  gene_id gene_pos  gene_category SNP_type  \\\n",
       "91     59024.0   G   C     C   Rv0054      439  Non-Essential        N   \n",
       "976  3329486.0   G   A     A  Rv2973c      461  Non-Essential        N   \n",
       "720  3051321.0   C   T     T  Rv2737c      104  Non-Essential        N   \n",
       "82     59004.0   C   T     T   Rv0054      419  Non-Essential        N   \n",
       "900  3328871.0   A   C     C  Rv2973c     1076  Non-Essential        N   \n",
       "331  2924758.0   G   A     A  Rv2593c       63  Non-Essential        S   \n",
       "858  3328610.0   G   A     A  Rv2973c     1337  Non-Essential        N   \n",
       "743  3327791.0   G   A     A  Rv2973c     2156  Non-Essential        N   \n",
       "98   2923210.0   A   C     C  Rv2592c     1024  Non-Essential        N   \n",
       "103  2923227.0   C   T     T  Rv2592c     1007  Non-Essential        N   \n",
       "\n",
       "    AA_change  1  2  3  4A  4B  4C  5  6  total gene_name  num_isolates_alt  \n",
       "91      G147R  0  6  0   0   0   0  0  0      6       ssb                10  \n",
       "976     A154V  0  3  1   0   0   1  0  0      5      recG                 8  \n",
       "720      R35H  1  0  1   0   2   1  0  0      5      recA                 9  \n",
       "82      A140V  1  0  0   1   1   1  0  0      4       ssb                 9  \n",
       "900     V359G  0  4  0   0   0   0  0  0      4      recG                17  \n",
       "331      A21A  1  0  1   0   1   1  0  0      4      ruvA                65  \n",
       "858     A446V  1  3  0   0   0   0  0  0      4      recG                 5  \n",
       "743     A719V  1  2  0   0   0   0  0  0      3      recG                31  \n",
       "98      L342V  0  0  1   2   0   0  0  0      3      ruvB                 5  \n",
       "103     G336E  0  3  0   0   0   0  0  0      3      ruvB                11  "
      ]
     },
     "execution_count": 46,
     "metadata": {},
     "output_type": "execute_result"
    }
   ],
   "source": [
    "homoplasic_SNPs_sub.sort_values(by='total',ascending = False).head(n = 10)"
   ]
  },
  {
   "cell_type": "markdown",
   "metadata": {},
   "source": [
    "output as Excel file"
   ]
  },
  {
   "cell_type": "code",
   "execution_count": 54,
   "metadata": {},
   "outputs": [],
   "source": [
    "homoplasic_SNPs_sub.to_excel('/n/data1/hms/dbmi/farhat/Roger/homoplasy_project/CSV_files/homoplasies_detected_in_global_lineages/SNP homoplasies from SNPPar/recomb_genes_for_max/homoplasic_SNPs.xlsx')"
   ]
  },
  {
   "cell_type": "markdown",
   "metadata": {},
   "source": [
    "### INDELs"
   ]
  },
  {
   "cell_type": "code",
   "execution_count": 47,
   "metadata": {},
   "outputs": [
    {
     "data": {
      "text/html": [
       "<div>\n",
       "<style>\n",
       "    .dataframe thead tr:only-child th {\n",
       "        text-align: right;\n",
       "    }\n",
       "\n",
       "    .dataframe thead th {\n",
       "        text-align: left;\n",
       "    }\n",
       "\n",
       "    .dataframe tbody tr th {\n",
       "        vertical-align: top;\n",
       "    }\n",
       "</style>\n",
       "<table border=\"1\" class=\"dataframe\">\n",
       "  <thead>\n",
       "    <tr style=\"text-align: right;\">\n",
       "      <th></th>\n",
       "      <th>pos</th>\n",
       "      <th>ref</th>\n",
       "      <th>alt</th>\n",
       "      <th>gene_category</th>\n",
       "      <th>gene_name</th>\n",
       "      <th>gene_id</th>\n",
       "      <th>gene_pos</th>\n",
       "      <th>ins_del</th>\n",
       "      <th>INDEL_type</th>\n",
       "      <th>codon_pos</th>\n",
       "      <th>...</th>\n",
       "      <th>2</th>\n",
       "      <th>3</th>\n",
       "      <th>4A</th>\n",
       "      <th>4B</th>\n",
       "      <th>4C</th>\n",
       "      <th>5</th>\n",
       "      <th>6</th>\n",
       "      <th>total</th>\n",
       "      <th>num_isolates</th>\n",
       "      <th>repeat_region</th>\n",
       "    </tr>\n",
       "  </thead>\n",
       "  <tbody>\n",
       "    <tr>\n",
       "      <th>47371</th>\n",
       "      <td>4408100</td>\n",
       "      <td>GC</td>\n",
       "      <td>G</td>\n",
       "      <td>Antibiotic Resistance</td>\n",
       "      <td>gid</td>\n",
       "      <td>Rv3919c</td>\n",
       "      <td>103</td>\n",
       "      <td>del</td>\n",
       "      <td>frameshift</td>\n",
       "      <td>35</td>\n",
       "      <td>...</td>\n",
       "      <td>27.0</td>\n",
       "      <td>51.0</td>\n",
       "      <td>43.0</td>\n",
       "      <td>11.0</td>\n",
       "      <td>29.0</td>\n",
       "      <td>0.0</td>\n",
       "      <td>0.0</td>\n",
       "      <td>202.0</td>\n",
       "      <td>388</td>\n",
       "      <td>no</td>\n",
       "    </tr>\n",
       "    <tr>\n",
       "      <th>47365</th>\n",
       "      <td>4408087</td>\n",
       "      <td>CG</td>\n",
       "      <td>C</td>\n",
       "      <td>Antibiotic Resistance</td>\n",
       "      <td>gid</td>\n",
       "      <td>Rv3919c</td>\n",
       "      <td>116</td>\n",
       "      <td>del</td>\n",
       "      <td>frameshift</td>\n",
       "      <td>39</td>\n",
       "      <td>...</td>\n",
       "      <td>11.0</td>\n",
       "      <td>35.0</td>\n",
       "      <td>33.0</td>\n",
       "      <td>10.0</td>\n",
       "      <td>18.0</td>\n",
       "      <td>0.0</td>\n",
       "      <td>0.0</td>\n",
       "      <td>130.0</td>\n",
       "      <td>212</td>\n",
       "      <td>no</td>\n",
       "    </tr>\n",
       "    <tr>\n",
       "      <th>47313</th>\n",
       "      <td>4407851</td>\n",
       "      <td>GC</td>\n",
       "      <td>G</td>\n",
       "      <td>Antibiotic Resistance</td>\n",
       "      <td>gid</td>\n",
       "      <td>Rv3919c</td>\n",
       "      <td>352</td>\n",
       "      <td>del</td>\n",
       "      <td>frameshift</td>\n",
       "      <td>118</td>\n",
       "      <td>...</td>\n",
       "      <td>9.0</td>\n",
       "      <td>40.0</td>\n",
       "      <td>20.0</td>\n",
       "      <td>6.0</td>\n",
       "      <td>19.0</td>\n",
       "      <td>0.0</td>\n",
       "      <td>0.0</td>\n",
       "      <td>115.0</td>\n",
       "      <td>182</td>\n",
       "      <td>SSR</td>\n",
       "    </tr>\n",
       "    <tr>\n",
       "      <th>25151</th>\n",
       "      <td>2288850</td>\n",
       "      <td>A</td>\n",
       "      <td>ACC</td>\n",
       "      <td>Antibiotic Resistance</td>\n",
       "      <td>pncA</td>\n",
       "      <td>Rv2043c</td>\n",
       "      <td>392</td>\n",
       "      <td>ins</td>\n",
       "      <td>frameshift</td>\n",
       "      <td>131</td>\n",
       "      <td>...</td>\n",
       "      <td>14.0</td>\n",
       "      <td>6.0</td>\n",
       "      <td>3.0</td>\n",
       "      <td>6.0</td>\n",
       "      <td>2.0</td>\n",
       "      <td>0.0</td>\n",
       "      <td>0.0</td>\n",
       "      <td>32.0</td>\n",
       "      <td>48</td>\n",
       "      <td>no</td>\n",
       "    </tr>\n",
       "    <tr>\n",
       "      <th>47315</th>\n",
       "      <td>4407851</td>\n",
       "      <td>G</td>\n",
       "      <td>GC</td>\n",
       "      <td>Antibiotic Resistance</td>\n",
       "      <td>gid</td>\n",
       "      <td>Rv3919c</td>\n",
       "      <td>352</td>\n",
       "      <td>ins</td>\n",
       "      <td>frameshift</td>\n",
       "      <td>118</td>\n",
       "      <td>...</td>\n",
       "      <td>1.0</td>\n",
       "      <td>12.0</td>\n",
       "      <td>5.0</td>\n",
       "      <td>7.0</td>\n",
       "      <td>1.0</td>\n",
       "      <td>0.0</td>\n",
       "      <td>0.0</td>\n",
       "      <td>31.0</td>\n",
       "      <td>52</td>\n",
       "      <td>SSR</td>\n",
       "    </tr>\n",
       "  </tbody>\n",
       "</table>\n",
       "<p>5 rows × 23 columns</p>\n",
       "</div>"
      ],
      "text/plain": [
       "           pos ref  alt          gene_category gene_name  gene_id gene_pos  \\\n",
       "47371  4408100  GC    G  Antibiotic Resistance       gid  Rv3919c      103   \n",
       "47365  4408087  CG    C  Antibiotic Resistance       gid  Rv3919c      116   \n",
       "47313  4407851  GC    G  Antibiotic Resistance       gid  Rv3919c      352   \n",
       "25151  2288850   A  ACC  Antibiotic Resistance      pncA  Rv2043c      392   \n",
       "47315  4407851   G   GC  Antibiotic Resistance       gid  Rv3919c      352   \n",
       "\n",
       "      ins_del  INDEL_type codon_pos      ...           2     3    4A    4B  \\\n",
       "47371     del  frameshift        35      ...        27.0  51.0  43.0  11.0   \n",
       "47365     del  frameshift        39      ...        11.0  35.0  33.0  10.0   \n",
       "47313     del  frameshift       118      ...         9.0  40.0  20.0   6.0   \n",
       "25151     ins  frameshift       131      ...        14.0   6.0   3.0   6.0   \n",
       "47315     ins  frameshift       118      ...         1.0  12.0   5.0   7.0   \n",
       "\n",
       "         4C    5    6  total  num_isolates  repeat_region  \n",
       "47371  29.0  0.0  0.0  202.0           388             no  \n",
       "47365  18.0  0.0  0.0  130.0           212             no  \n",
       "47313  19.0  0.0  0.0  115.0           182            SSR  \n",
       "25151   2.0  0.0  0.0   32.0            48             no  \n",
       "47315   1.0  0.0  0.0   31.0            52            SSR  \n",
       "\n",
       "[5 rows x 23 columns]"
      ]
     },
     "execution_count": 47,
     "metadata": {},
     "output_type": "execute_result"
    }
   ],
   "source": [
    "all_homoplasic_INDELs.head()"
   ]
  },
  {
   "cell_type": "code",
   "execution_count": 48,
   "metadata": {},
   "outputs": [
    {
     "data": {
      "text/plain": [
       "(46306, 23)"
      ]
     },
     "execution_count": 48,
     "metadata": {},
     "output_type": "execute_result"
    }
   ],
   "source": [
    "all_homoplasic_INDELs.shape"
   ]
  },
  {
   "cell_type": "code",
   "execution_count": 49,
   "metadata": {},
   "outputs": [
    {
     "name": "stderr",
     "output_type": "stream",
     "text": [
      "/home/rv76/anaconda2/lib/python2.7/site-packages/ipykernel_launcher.py:9: SettingWithCopyWarning: \n",
      "A value is trying to be set on a copy of a slice from a DataFrame\n",
      "\n",
      "See the caveats in the documentation: http://pandas.pydata.org/pandas-docs/stable/indexing.html#indexing-view-versus-copy\n",
      "  if __name__ == '__main__':\n"
     ]
    }
   ],
   "source": [
    "homoplasic_INDELs_subset_bool_filter = []\n",
    "for INDEL_i_gene_id in all_homoplasic_INDELs.gene_id:\n",
    "    if INDEL_i_gene_id in recomb_RvIDsOfInterest:\n",
    "        homoplasic_INDELs_subset_bool_filter.append(True)\n",
    "    else:\n",
    "        homoplasic_INDELs_subset_bool_filter.append(False)\n",
    "        \n",
    "homoplasic_INDELs_sub = all_homoplasic_INDELs[homoplasic_INDELs_subset_bool_filter]\n",
    "homoplasic_INDELs_sub.sort_values(by = \"pos\", ascending = True, inplace = True)\n",
    "homoplasic_INDELs_sub.reset_index(inplace = True, drop = True)"
   ]
  },
  {
   "cell_type": "code",
   "execution_count": 50,
   "metadata": {},
   "outputs": [
    {
     "data": {
      "text/plain": [
       "(6, 23)"
      ]
     },
     "execution_count": 50,
     "metadata": {},
     "output_type": "execute_result"
    }
   ],
   "source": [
    "homoplasic_INDELs_sub.shape"
   ]
  },
  {
   "cell_type": "code",
   "execution_count": 51,
   "metadata": {},
   "outputs": [
    {
     "data": {
      "text/html": [
       "<div>\n",
       "<style>\n",
       "    .dataframe thead tr:only-child th {\n",
       "        text-align: right;\n",
       "    }\n",
       "\n",
       "    .dataframe thead th {\n",
       "        text-align: left;\n",
       "    }\n",
       "\n",
       "    .dataframe tbody tr th {\n",
       "        vertical-align: top;\n",
       "    }\n",
       "</style>\n",
       "<table border=\"1\" class=\"dataframe\">\n",
       "  <thead>\n",
       "    <tr style=\"text-align: right;\">\n",
       "      <th></th>\n",
       "      <th>pos</th>\n",
       "      <th>ref</th>\n",
       "      <th>alt</th>\n",
       "      <th>gene_category</th>\n",
       "      <th>gene_name</th>\n",
       "      <th>gene_id</th>\n",
       "      <th>gene_pos</th>\n",
       "      <th>ins_del</th>\n",
       "      <th>INDEL_type</th>\n",
       "      <th>codon_pos</th>\n",
       "      <th>...</th>\n",
       "      <th>2</th>\n",
       "      <th>3</th>\n",
       "      <th>4A</th>\n",
       "      <th>4B</th>\n",
       "      <th>4C</th>\n",
       "      <th>5</th>\n",
       "      <th>6</th>\n",
       "      <th>total</th>\n",
       "      <th>num_isolates</th>\n",
       "      <th>repeat_region</th>\n",
       "    </tr>\n",
       "  </thead>\n",
       "  <tbody>\n",
       "    <tr>\n",
       "      <th>0</th>\n",
       "      <td>58596</td>\n",
       "      <td>A</td>\n",
       "      <td>ACAC</td>\n",
       "      <td>Non-Essential</td>\n",
       "      <td>ssb</td>\n",
       "      <td>Rv0054</td>\n",
       "      <td>11</td>\n",
       "      <td>ins</td>\n",
       "      <td>inframe</td>\n",
       "      <td>4</td>\n",
       "      <td>...</td>\n",
       "      <td>0.0</td>\n",
       "      <td>2.0</td>\n",
       "      <td>0.0</td>\n",
       "      <td>1.0</td>\n",
       "      <td>0.0</td>\n",
       "      <td>0.0</td>\n",
       "      <td>0.0</td>\n",
       "      <td>3.0</td>\n",
       "      <td>6</td>\n",
       "      <td>no</td>\n",
       "    </tr>\n",
       "    <tr>\n",
       "      <th>1</th>\n",
       "      <td>59049</td>\n",
       "      <td>TCGG</td>\n",
       "      <td>T</td>\n",
       "      <td>Non-Essential</td>\n",
       "      <td>ssb</td>\n",
       "      <td>Rv0054</td>\n",
       "      <td>464</td>\n",
       "      <td>del</td>\n",
       "      <td>inframe</td>\n",
       "      <td>155</td>\n",
       "      <td>...</td>\n",
       "      <td>0.0</td>\n",
       "      <td>0.0</td>\n",
       "      <td>1.0</td>\n",
       "      <td>0.0</td>\n",
       "      <td>0.0</td>\n",
       "      <td>0.0</td>\n",
       "      <td>0.0</td>\n",
       "      <td>1.0</td>\n",
       "      <td>1</td>\n",
       "      <td>SSR</td>\n",
       "    </tr>\n",
       "    <tr>\n",
       "      <th>2</th>\n",
       "      <td>59080</td>\n",
       "      <td>AC</td>\n",
       "      <td>A</td>\n",
       "      <td>Non-Essential</td>\n",
       "      <td>ssb</td>\n",
       "      <td>Rv0054</td>\n",
       "      <td>495</td>\n",
       "      <td>del</td>\n",
       "      <td>frameshift</td>\n",
       "      <td>165</td>\n",
       "      <td>...</td>\n",
       "      <td>0.0</td>\n",
       "      <td>0.0</td>\n",
       "      <td>0.0</td>\n",
       "      <td>0.0</td>\n",
       "      <td>0.0</td>\n",
       "      <td>0.0</td>\n",
       "      <td>0.0</td>\n",
       "      <td>1.0</td>\n",
       "      <td>1</td>\n",
       "      <td>no</td>\n",
       "    </tr>\n",
       "    <tr>\n",
       "      <th>3</th>\n",
       "      <td>3050294</td>\n",
       "      <td>ACCATCCCTG</td>\n",
       "      <td>A</td>\n",
       "      <td>Non-Essential</td>\n",
       "      <td>recA</td>\n",
       "      <td>Rv2737c</td>\n",
       "      <td>1131</td>\n",
       "      <td>del</td>\n",
       "      <td>inframe</td>\n",
       "      <td>377</td>\n",
       "      <td>...</td>\n",
       "      <td>0.0</td>\n",
       "      <td>0.0</td>\n",
       "      <td>0.0</td>\n",
       "      <td>0.0</td>\n",
       "      <td>0.0</td>\n",
       "      <td>0.0</td>\n",
       "      <td>0.0</td>\n",
       "      <td>1.0</td>\n",
       "      <td>1</td>\n",
       "      <td>no</td>\n",
       "    </tr>\n",
       "    <tr>\n",
       "      <th>4</th>\n",
       "      <td>3050347</td>\n",
       "      <td>GAATCGGCGC</td>\n",
       "      <td>G</td>\n",
       "      <td>Non-Essential</td>\n",
       "      <td>recA</td>\n",
       "      <td>Rv2737c</td>\n",
       "      <td>1078</td>\n",
       "      <td>del</td>\n",
       "      <td>inframe</td>\n",
       "      <td>360</td>\n",
       "      <td>...</td>\n",
       "      <td>0.0</td>\n",
       "      <td>0.0</td>\n",
       "      <td>1.0</td>\n",
       "      <td>0.0</td>\n",
       "      <td>0.0</td>\n",
       "      <td>0.0</td>\n",
       "      <td>0.0</td>\n",
       "      <td>1.0</td>\n",
       "      <td>1</td>\n",
       "      <td>no</td>\n",
       "    </tr>\n",
       "    <tr>\n",
       "      <th>5</th>\n",
       "      <td>3329097</td>\n",
       "      <td>ACCG</td>\n",
       "      <td>A</td>\n",
       "      <td>Non-Essential</td>\n",
       "      <td>recG</td>\n",
       "      <td>Rv2973c</td>\n",
       "      <td>850</td>\n",
       "      <td>del</td>\n",
       "      <td>inframe</td>\n",
       "      <td>284</td>\n",
       "      <td>...</td>\n",
       "      <td>0.0</td>\n",
       "      <td>1.0</td>\n",
       "      <td>0.0</td>\n",
       "      <td>0.0</td>\n",
       "      <td>0.0</td>\n",
       "      <td>0.0</td>\n",
       "      <td>0.0</td>\n",
       "      <td>1.0</td>\n",
       "      <td>1</td>\n",
       "      <td>no</td>\n",
       "    </tr>\n",
       "  </tbody>\n",
       "</table>\n",
       "<p>6 rows × 23 columns</p>\n",
       "</div>"
      ],
      "text/plain": [
       "       pos         ref   alt  gene_category gene_name  gene_id gene_pos  \\\n",
       "0    58596           A  ACAC  Non-Essential       ssb   Rv0054       11   \n",
       "1    59049        TCGG     T  Non-Essential       ssb   Rv0054      464   \n",
       "2    59080          AC     A  Non-Essential       ssb   Rv0054      495   \n",
       "3  3050294  ACCATCCCTG     A  Non-Essential      recA  Rv2737c     1131   \n",
       "4  3050347  GAATCGGCGC     G  Non-Essential      recA  Rv2737c     1078   \n",
       "5  3329097        ACCG     A  Non-Essential      recG  Rv2973c      850   \n",
       "\n",
       "  ins_del  INDEL_type codon_pos      ...          2    3   4A   4B   4C    5  \\\n",
       "0     ins     inframe         4      ...        0.0  2.0  0.0  1.0  0.0  0.0   \n",
       "1     del     inframe       155      ...        0.0  0.0  1.0  0.0  0.0  0.0   \n",
       "2     del  frameshift       165      ...        0.0  0.0  0.0  0.0  0.0  0.0   \n",
       "3     del     inframe       377      ...        0.0  0.0  0.0  0.0  0.0  0.0   \n",
       "4     del     inframe       360      ...        0.0  0.0  1.0  0.0  0.0  0.0   \n",
       "5     del     inframe       284      ...        0.0  1.0  0.0  0.0  0.0  0.0   \n",
       "\n",
       "     6  total  num_isolates  repeat_region  \n",
       "0  0.0    3.0             6             no  \n",
       "1  0.0    1.0             1            SSR  \n",
       "2  0.0    1.0             1             no  \n",
       "3  0.0    1.0             1             no  \n",
       "4  0.0    1.0             1             no  \n",
       "5  0.0    1.0             1             no  \n",
       "\n",
       "[6 rows x 23 columns]"
      ]
     },
     "execution_count": 51,
     "metadata": {},
     "output_type": "execute_result"
    }
   ],
   "source": [
    "homoplasic_INDELs_sub.sort_values(by='total',ascending = False).head(n = 10)"
   ]
  },
  {
   "cell_type": "markdown",
   "metadata": {},
   "source": [
    "output as Excel file"
   ]
  },
  {
   "cell_type": "code",
   "execution_count": 53,
   "metadata": {},
   "outputs": [],
   "source": [
    "homoplasic_INDELs_sub.to_excel('/n/data1/hms/dbmi/farhat/Roger/homoplasy_project/CSV_files/homoplasies_detected_in_global_lineages/SNP homoplasies from SNPPar/recomb_genes_for_max/homoplasic_INDELs.xlsx')"
   ]
  },
  {
   "cell_type": "markdown",
   "metadata": {},
   "source": [
    "####################################################################################################################################################################################"
   ]
  },
  {
   "cell_type": "markdown",
   "metadata": {},
   "source": [
    "# [3] Examine distribution of homoplasy scores for *SNPs*"
   ]
  },
  {
   "cell_type": "markdown",
   "metadata": {},
   "source": [
    "####################################################################################################################################################################################"
   ]
  },
  {
   "cell_type": "code",
   "execution_count": 26,
   "metadata": {},
   "outputs": [
    {
     "data": {
      "text/plain": [
       "1717"
      ]
     },
     "execution_count": 26,
     "metadata": {},
     "output_type": "execute_result"
    }
   ],
   "source": [
    "all_homoplasic_SNPs.total.max()"
   ]
  },
  {
   "cell_type": "markdown",
   "metadata": {},
   "source": [
    "#### Count the number unique mutations that occur for each Homoplasy Count - 1, 2, 3, 4 .."
   ]
  },
  {
   "cell_type": "code",
   "execution_count": 27,
   "metadata": {},
   "outputs": [],
   "source": [
    "num_unique_mutations_per_homoplasy_score = pd.Series(Counter(all_homoplasic_SNPs.total))"
   ]
  },
  {
   "cell_type": "code",
   "execution_count": 28,
   "metadata": {},
   "outputs": [
    {
     "data": {
      "text/plain": [
       "1     747112\n",
       "2      71074\n",
       "3       9837\n",
       "4       2860\n",
       "5       1181\n",
       "6        683\n",
       "7        363\n",
       "8        297\n",
       "9        185\n",
       "10       140\n",
       "dtype: int64"
      ]
     },
     "execution_count": 28,
     "metadata": {},
     "output_type": "execute_result"
    }
   ],
   "source": [
    "num_unique_mutations_per_homoplasy_score.head(n = 10)"
   ]
  },
  {
   "cell_type": "code",
   "execution_count": 29,
   "metadata": {},
   "outputs": [
    {
     "data": {
      "text/plain": [
       "743     1\n",
       "752     1\n",
       "779     1\n",
       "1406    1\n",
       "1717    1\n",
       "dtype: int64"
      ]
     },
     "execution_count": 29,
     "metadata": {},
     "output_type": "execute_result"
    }
   ],
   "source": [
    "num_unique_mutations_per_homoplasy_score.tail(n = 5)"
   ]
  },
  {
   "cell_type": "markdown",
   "metadata": {},
   "source": [
    "#### Number of Homoplastic SNVs (homoplasy score $\\ge 2$)"
   ]
  },
  {
   "cell_type": "code",
   "execution_count": 30,
   "metadata": {},
   "outputs": [
    {
     "data": {
      "text/plain": [
       "87869.0"
      ]
     },
     "execution_count": 30,
     "metadata": {},
     "output_type": "execute_result"
    }
   ],
   "source": [
    "num_unique_mutations_per_homoplasy_score[num_unique_mutations_per_homoplasy_score.index >= 2].astype(float).sum()"
   ]
  },
  {
   "cell_type": "code",
   "execution_count": 31,
   "metadata": {},
   "outputs": [
    {
     "data": {
      "text/plain": [
       "10.523472989205743"
      ]
     },
     "execution_count": 31,
     "metadata": {},
     "output_type": "execute_result"
    }
   ],
   "source": [
    "(num_unique_mutations_per_homoplasy_score[num_unique_mutations_per_homoplasy_score.index >= 2].astype(float).sum() / num_unique_mutations_per_homoplasy_score.astype(float).sum()) * 100.0"
   ]
  },
  {
   "cell_type": "markdown",
   "metadata": {},
   "source": [
    "#### Number of Homoplastic SNVs (homoplasy score $\\ge 5$)"
   ]
  },
  {
   "cell_type": "code",
   "execution_count": 32,
   "metadata": {},
   "outputs": [
    {
     "data": {
      "text/plain": [
       "4098.0"
      ]
     },
     "execution_count": 32,
     "metadata": {},
     "output_type": "execute_result"
    }
   ],
   "source": [
    "num_unique_mutations_per_homoplasy_score[num_unique_mutations_per_homoplasy_score.index >= 5].astype(float).sum()"
   ]
  },
  {
   "cell_type": "code",
   "execution_count": 33,
   "metadata": {},
   "outputs": [
    {
     "data": {
      "text/plain": [
       "0.49078961078156275"
      ]
     },
     "execution_count": 33,
     "metadata": {},
     "output_type": "execute_result"
    }
   ],
   "source": [
    "(num_unique_mutations_per_homoplasy_score[num_unique_mutations_per_homoplasy_score.index >= 5].astype(float).sum() / num_unique_mutations_per_homoplasy_score.astype(float).sum()) * 100.0"
   ]
  },
  {
   "cell_type": "markdown",
   "metadata": {},
   "source": [
    "#### For each Homoplasy Score - 1, 2, 3, 4 ... compute the cumulative summation for all unique mutations with at most that many homoplasies"
   ]
  },
  {
   "cell_type": "code",
   "execution_count": 34,
   "metadata": {},
   "outputs": [
    {
     "data": {
      "text/plain": [
       "array([89.47652701, 97.98857699, 99.16668763, 99.50921039, 99.65065073,\n",
       "       99.732449  , 99.77592304, 99.81149272, 99.83364891, 99.85041576,\n",
       "       99.86598497, 99.87808106, 99.88682377, 99.89568625, 99.9020337 ,\n",
       "       99.90874044, 99.91305191, 99.91724363, 99.92239344, 99.9261061 ])"
      ]
     },
     "execution_count": 34,
     "metadata": {},
     "output_type": "execute_result"
    }
   ],
   "source": [
    "(num_unique_mutations_per_homoplasy_score[num_unique_mutations_per_homoplasy_score.index <= 20].cumsum().values / float(np.shape(all_homoplasic_SNPs)[0])) * 100"
   ]
  },
  {
   "cell_type": "markdown",
   "metadata": {},
   "source": [
    "### ~ 89.5% of SNP mutations have a homoplasy score $\\le 1$\n",
    "\n",
    "### ~ 99.51% of SNP mutations have a homoplasy score $< 5$  &  ~ 0.49% of SNP mutations have a homoplasy score $\\ge 5$\n",
    "\n",
    "### ~ 2% of SNP mutations have a homoplasy score $\\ge 3$"
   ]
  },
  {
   "cell_type": "markdown",
   "metadata": {},
   "source": [
    "####################################################################################################################################################################################"
   ]
  },
  {
   "cell_type": "markdown",
   "metadata": {},
   "source": [
    "# [4] Examine distribution of homoplasy scores for *INDELs*"
   ]
  },
  {
   "cell_type": "markdown",
   "metadata": {},
   "source": [
    "####################################################################################################################################################################################"
   ]
  },
  {
   "cell_type": "code",
   "execution_count": 35,
   "metadata": {},
   "outputs": [
    {
     "data": {
      "text/plain": [
       "1717.0"
      ]
     },
     "execution_count": 35,
     "metadata": {},
     "output_type": "execute_result"
    }
   ],
   "source": [
    "all_homoplasic_SNPs.total.astype(float).max()"
   ]
  },
  {
   "cell_type": "code",
   "execution_count": 36,
   "metadata": {
    "scrolled": true
   },
   "outputs": [
    {
     "data": {
      "text/plain": [
       "1534.0"
      ]
     },
     "execution_count": 36,
     "metadata": {},
     "output_type": "execute_result"
    }
   ],
   "source": [
    "all_homoplasic_INDELs.total.max()"
   ]
  },
  {
   "cell_type": "markdown",
   "metadata": {},
   "source": [
    "#### Plot the distributions for SNVs & INDELs as a stacked Histogram"
   ]
  },
  {
   "cell_type": "code",
   "execution_count": 37,
   "metadata": {},
   "outputs": [],
   "source": [
    "def fig_SNV_and_INDEL_distribution_A(ax):\n",
    "\n",
    "    # stack SNVs counts on top of INDEL counts\n",
    "    n , bins , patches = ax.hist([all_homoplasic_INDELs.total, all_homoplasic_SNPs.total.astype(float)], color = ['xkcd:golden yellow','xkcd:rust'] , stacked = True , bins = 50 , rwidth = 1.0 , edgecolor='white', linewidth=0.6)\n",
    "\n",
    "    ax.set_title('Distribution of Homoplasy\\nScores for 834,981 SNVs & 46,306 INDELs', fontsize = 8, color = 'k', pad = -10)\n",
    "    ax.set_xlabel('Hs', fontsize = 8, color = 'k', labelpad = 1)\n",
    "    ax.set_ylabel('Number of Variants (SNVs & INDELs)' , fontsize = 8, color = 'k', labelpad = 1)\n",
    "\n",
    "    ax.spines['right'].set_visible(False)\n",
    "    ax.spines['top'].set_visible(False)\n",
    "    ax.grid(False)\n",
    "    ax.set_yscale('log')\n",
    "\n",
    "    ax.tick_params(labelcolor = 'k')\n",
    "    ax.set_xlim(-20, 1750)\n",
    "    ax.set_ylim(0.1, np.max(n)+1000)\n",
    "\n",
    "    ax.tick_params(axis='y', which='major', labelsize=8 , labelcolor = 'k')\n",
    "    ax.tick_params(axis='x', which='major', labelsize=8 , labelcolor = 'k')\n",
    "    \n",
    "    # create legend\n",
    "    SNV = 'xkcd:rust'\n",
    "    INDEL = 'xkcd:golden yellow'\n",
    "\n",
    "    handles = [Rectangle((0,0),1,1,color=c,ec=\"k\") for c in [SNV,INDEL]]\n",
    "    labels = [\"SNV (N={0})\".format(str(len(all_homoplasic_SNPs.total))),\"INDEL (N={0})\".format(str(len(all_homoplasic_INDELs.total)))]\n",
    "    ax.legend(handles, labels, loc='upper right', fontsize=8)"
   ]
  },
  {
   "cell_type": "markdown",
   "metadata": {},
   "source": [
    "#### Count the number unique mutations that occur for each Homoplasy Count - 1, 2, 3, 4 .."
   ]
  },
  {
   "cell_type": "code",
   "execution_count": 38,
   "metadata": {},
   "outputs": [],
   "source": [
    "num_unique_mutations_per_homoplasy_score = pd.Series(Counter(all_homoplasic_INDELs.total))"
   ]
  },
  {
   "cell_type": "code",
   "execution_count": 39,
   "metadata": {},
   "outputs": [
    {
     "data": {
      "text/plain": [
       "1.0     41013\n",
       "2.0      2633\n",
       "3.0       812\n",
       "4.0       455\n",
       "5.0       293\n",
       "6.0       176\n",
       "7.0       149\n",
       "8.0        97\n",
       "9.0        83\n",
       "10.0       70\n",
       "dtype: int64"
      ]
     },
     "execution_count": 39,
     "metadata": {},
     "output_type": "execute_result"
    }
   ],
   "source": [
    "num_unique_mutations_per_homoplasy_score.head(n = 10)"
   ]
  },
  {
   "cell_type": "code",
   "execution_count": 40,
   "metadata": {},
   "outputs": [
    {
     "data": {
      "text/plain": [
       "1126.0    1\n",
       "1155.0    1\n",
       "1331.0    1\n",
       "1488.0    1\n",
       "1534.0    1\n",
       "dtype: int64"
      ]
     },
     "execution_count": 40,
     "metadata": {},
     "output_type": "execute_result"
    }
   ],
   "source": [
    "num_unique_mutations_per_homoplasy_score.tail(n = 5)"
   ]
  },
  {
   "cell_type": "markdown",
   "metadata": {},
   "source": [
    "#### Number of Homoplastic INDELs (homoplasy score $\\ge 2$)"
   ]
  },
  {
   "cell_type": "code",
   "execution_count": 41,
   "metadata": {},
   "outputs": [
    {
     "data": {
      "text/plain": [
       "5293.0"
      ]
     },
     "execution_count": 41,
     "metadata": {},
     "output_type": "execute_result"
    }
   ],
   "source": [
    "num_unique_mutations_per_homoplasy_score[num_unique_mutations_per_homoplasy_score.index >= 2].astype(float).sum()"
   ]
  },
  {
   "cell_type": "code",
   "execution_count": 42,
   "metadata": {},
   "outputs": [
    {
     "data": {
      "text/plain": [
       "11.43048417051786"
      ]
     },
     "execution_count": 42,
     "metadata": {},
     "output_type": "execute_result"
    }
   ],
   "source": [
    "(num_unique_mutations_per_homoplasy_score[num_unique_mutations_per_homoplasy_score.index >= 2].astype(float).sum() / num_unique_mutations_per_homoplasy_score.astype(float).sum()) * 100.0"
   ]
  },
  {
   "cell_type": "markdown",
   "metadata": {},
   "source": [
    "#### Number of Homoplastic INDELs (homoplasy score $\\ge 5$)"
   ]
  },
  {
   "cell_type": "code",
   "execution_count": 43,
   "metadata": {},
   "outputs": [
    {
     "data": {
      "text/plain": [
       "1393.0"
      ]
     },
     "execution_count": 43,
     "metadata": {},
     "output_type": "execute_result"
    }
   ],
   "source": [
    "num_unique_mutations_per_homoplasy_score[num_unique_mutations_per_homoplasy_score.index >= 5].astype(float).sum()"
   ]
  },
  {
   "cell_type": "code",
   "execution_count": 44,
   "metadata": {},
   "outputs": [
    {
     "data": {
      "text/plain": [
       "3.008249470910897"
      ]
     },
     "execution_count": 44,
     "metadata": {},
     "output_type": "execute_result"
    }
   ],
   "source": [
    "(num_unique_mutations_per_homoplasy_score[num_unique_mutations_per_homoplasy_score.index >= 5].astype(float).sum() / num_unique_mutations_per_homoplasy_score.astype(float).sum()) * 100.0"
   ]
  },
  {
   "cell_type": "markdown",
   "metadata": {},
   "source": [
    "#### For each Homoplasy Score - 1, 2, 3, 4 ... compute the cumulative summation for all unique mutations with at most that many homoplasies"
   ]
  },
  {
   "cell_type": "code",
   "execution_count": 45,
   "metadata": {},
   "outputs": [
    {
     "data": {
      "text/plain": [
       "array([88.56951583, 94.25560403, 96.00915648, 96.99175053, 97.62449791,\n",
       "       98.00457824, 98.3263508 , 98.53582689, 98.71506932, 98.86623764,\n",
       "       98.94614089, 99.02172505, 99.09514966, 99.15777653, 99.19448884,\n",
       "       99.26791345, 99.30894485, 99.33917851, 99.37157172, 99.39748629,\n",
       "       99.42771995, 99.45363452, 99.48170863, 99.49898501, 99.5119423 ])"
      ]
     },
     "execution_count": 45,
     "metadata": {},
     "output_type": "execute_result"
    }
   ],
   "source": [
    "(num_unique_mutations_per_homoplasy_score[num_unique_mutations_per_homoplasy_score.index <= 25].cumsum().values / float(np.shape(all_homoplasic_INDELs)[0])) * 100"
   ]
  },
  {
   "cell_type": "markdown",
   "metadata": {},
   "source": [
    "### ~ 88.57% of indel mutations have a homoplasy score $\\le 1$\n",
    "\n",
    "### ~ 96.99% of indel mutations have a homoplasy score $< 5$ \n",
    "\n",
    "### ~ 3.01% of indel mutations have a homoplasy score $\\ge 5$"
   ]
  },
  {
   "cell_type": "markdown",
   "metadata": {},
   "source": [
    "################################################################################################################################################"
   ]
  },
  {
   "cell_type": "markdown",
   "metadata": {},
   "source": [
    "# [5] proportion of INDELs with $Hs \\ge X$ for varying values of X"
   ]
  },
  {
   "cell_type": "markdown",
   "metadata": {},
   "source": [
    "################################################################################################################################################"
   ]
  },
  {
   "cell_type": "code",
   "execution_count": 46,
   "metadata": {},
   "outputs": [],
   "source": [
    "Hs_thresholds = np.arange(1, 51)\n",
    "INDELs_HT_prop_list = []\n",
    "INDELs_SSR_prop_list = []\n",
    "INDELs_other_prop_list = []\n",
    "\n",
    "for Hs_i in Hs_thresholds:\n",
    "    \n",
    "    INDELs_HT_prop_list.append(float(sum(all_homoplasic_INDELs[all_homoplasic_INDELs.repeat_region == 'HT'].total >= Hs_i)) / float(np.shape(all_homoplasic_INDELs[all_homoplasic_INDELs.repeat_region == 'HT'])[0]))\n",
    "    INDELs_SSR_prop_list.append(float(sum(all_homoplasic_INDELs[all_homoplasic_INDELs.repeat_region == 'SSR'].total >= Hs_i)) / float(np.shape(all_homoplasic_INDELs[all_homoplasic_INDELs.repeat_region == 'SSR'])[0]))\n",
    "    INDELs_other_prop_list.append(float(sum(all_homoplasic_INDELs[all_homoplasic_INDELs.repeat_region == 'no'].total >= Hs_i)) / float(np.shape(all_homoplasic_INDELs[all_homoplasic_INDELs.repeat_region == 'no'])[0]))"
   ]
  },
  {
   "cell_type": "code",
   "execution_count": 47,
   "metadata": {},
   "outputs": [],
   "source": [
    "def fig_prop_INDELs_Hs_for_HT_SSR_other_B(ax):\n",
    "\n",
    "    ax.plot(Hs_thresholds, INDELs_other_prop_list, color = 'xkcd:black', linewidth = 1.0)\n",
    "    ax.scatter(Hs_thresholds, INDELs_other_prop_list, color = 'xkcd:black', linewidth = 0.25, s = 10, edgecolor = 'k')\n",
    "\n",
    "    ax.plot(Hs_thresholds, INDELs_SSR_prop_list, color = 'xkcd:green', linewidth = 1.0)\n",
    "    ax.scatter(Hs_thresholds, INDELs_SSR_prop_list, color = 'xkcd:green', linewidth = 0.25, s = 10, edgecolor = 'k')\n",
    "\n",
    "    ax.plot(Hs_thresholds, INDELs_HT_prop_list, color = 'xkcd:blue', linewidth = 1.0)\n",
    "    ax.scatter(Hs_thresholds, INDELs_HT_prop_list, color = 'xkcd:blue', linewidth = 0.25, s = 10, edgecolor = 'k')\n",
    "\n",
    "    ax.set_xlabel('Hs', fontsize = 8, color = 'k', labelpad = 1)\n",
    "    ax.set_ylabel('Proportion of INDELs >= Hs' , fontsize = 8, color = 'k', labelpad = 1)\n",
    "\n",
    "    ax.spines['right'].set_visible(False)\n",
    "    ax.spines['top'].set_visible(False)\n",
    "    ax.grid(False)\n",
    "\n",
    "    ax.tick_params(labelcolor = 'k')\n",
    "    ax.set_xlim(0, 51)\n",
    "    ax.set_ylim(-0.01, 1.015)\n",
    "\n",
    "    ax.tick_params(axis='y', which='major', labelsize=8 , labelcolor = 'k')\n",
    "    ax.tick_params(axis='x', which='major', labelsize=8 , labelcolor = 'k')\n",
    "\n",
    "    #create legend\n",
    "    HT = 'xkcd:blue'\n",
    "    SSR = 'xkcd:green'\n",
    "    other = 'xkcd:black'\n",
    "\n",
    "    handles = [Rectangle((0,0),1,1,color=c,ec=\"k\") for c in [HT,SSR,other]]\n",
    "    labels = [\"HT (N = {0} INDELs)\".format(str(int(np.shape(all_homoplasic_INDELs[all_homoplasic_INDELs.repeat_region == 'HT'])[0]))),\"SSR (N = {0} INDELs)\".format(str(int(np.shape(all_homoplasic_INDELs[all_homoplasic_INDELs.repeat_region == 'SSR'])[0]))),\"other (N = {0} INDELs)\".format(str(int(np.shape(all_homoplasic_INDELs[all_homoplasic_INDELs.repeat_region == 'no'])[0])))]\n",
    "    ax.legend(handles, labels, loc='upper right', fontsize=8)"
   ]
  },
  {
   "cell_type": "markdown",
   "metadata": {},
   "source": [
    "################################################################################################################################################"
   ]
  },
  {
   "cell_type": "markdown",
   "metadata": {},
   "source": [
    "# [6] Fisher Exact test for SNPs & INDELs"
   ]
  },
  {
   "cell_type": "markdown",
   "metadata": {},
   "source": [
    "################################################################################################################################################"
   ]
  },
  {
   "cell_type": "markdown",
   "metadata": {},
   "source": [
    "Fisher Exact test for **Hs $\\ge$ 5** for SNPs and INDELs\n",
    "- 4098 / 834981 SNPs **Hs $\\ge$ 5**\n",
    "- 1393 / 46306 INDELs **Hs $\\ge$ 5**"
   ]
  },
  {
   "cell_type": "code",
   "execution_count": 48,
   "metadata": {},
   "outputs": [],
   "source": [
    "import scipy.stats as stats\n",
    "\n",
    "data = [[4098, 1393],\n",
    "         [830001, 44913]]\n",
    "\n",
    "FE_results = stats.fisher_exact(data)"
   ]
  },
  {
   "cell_type": "code",
   "execution_count": 49,
   "metadata": {},
   "outputs": [
    {
     "data": {
      "text/plain": [
       "0.1591894517761732"
      ]
     },
     "execution_count": 49,
     "metadata": {},
     "output_type": "execute_result"
    }
   ],
   "source": [
    "FE_results[0]"
   ]
  },
  {
   "cell_type": "code",
   "execution_count": 50,
   "metadata": {},
   "outputs": [
    {
     "data": {
      "text/plain": [
       "0.0"
      ]
     },
     "execution_count": 50,
     "metadata": {},
     "output_type": "execute_result"
    }
   ],
   "source": [
    "FE_results[1]"
   ]
  },
  {
   "cell_type": "markdown",
   "metadata": {},
   "source": [
    "################################################################################################################################################"
   ]
  },
  {
   "cell_type": "markdown",
   "metadata": {},
   "source": [
    "# [7] Manhattan plots of homoplasies across Reference Genome Position for SNPs & INDELs"
   ]
  },
  {
   "cell_type": "markdown",
   "metadata": {},
   "source": [
    "################################################################################################################################################"
   ]
  },
  {
   "cell_type": "markdown",
   "metadata": {},
   "source": [
    "## [7.1] SNPs"
   ]
  },
  {
   "cell_type": "markdown",
   "metadata": {},
   "source": [
    "### Subset to mutations that have a homoplasy score $\\ge 5$ (~0.5% of SNV mutations) AND have an allele frequency $\\ge 0.1\\%$ in the Mtb sample (N=31,428)"
   ]
  },
  {
   "cell_type": "code",
   "execution_count": 51,
   "metadata": {},
   "outputs": [
    {
     "name": "stdout",
     "output_type": "stream",
     "text": [
      "32\n"
     ]
    }
   ],
   "source": [
    "mut_AF_threshold = int(np.ceil(float(31428) * 0.001))\n",
    "print(mut_AF_threshold)"
   ]
  },
  {
   "cell_type": "code",
   "execution_count": 52,
   "metadata": {},
   "outputs": [
    {
     "name": "stderr",
     "output_type": "stream",
     "text": [
      "/home/rv76/anaconda2/lib/python2.7/site-packages/ipykernel_launcher.py:3: SettingWithCopyWarning: \n",
      "A value is trying to be set on a copy of a slice from a DataFrame\n",
      "\n",
      "See the caveats in the documentation: http://pandas.pydata.org/pandas-docs/stable/indexing.html#indexing-view-versus-copy\n",
      "  This is separate from the ipykernel package so we can avoid doing imports until\n"
     ]
    }
   ],
   "source": [
    "#subset to (SNVs in that have a HP score >= 5) AND (SNVs in which mutant AF >= 0.1%)\n",
    "subset_homoplasic_SNPs = all_homoplasic_SNPs[(all_homoplasic_SNPs.total >= 5) & (all_homoplasic_SNPs.num_isolates_alt >= mut_AF_threshold)]\n",
    "subset_homoplasic_SNPs.sort_values(by='total',inplace=True,ascending=False)\n",
    "subset_homoplasic_SNPs.reset_index(inplace=True,drop=True)"
   ]
  },
  {
   "cell_type": "code",
   "execution_count": 53,
   "metadata": {},
   "outputs": [
    {
     "data": {
      "text/plain": [
       "(1525, 20)"
      ]
     },
     "execution_count": 53,
     "metadata": {},
     "output_type": "execute_result"
    }
   ],
   "source": [
    "np.shape(subset_homoplasic_SNPs)"
   ]
  },
  {
   "cell_type": "code",
   "execution_count": 54,
   "metadata": {},
   "outputs": [
    {
     "data": {
      "text/html": [
       "<div>\n",
       "<style>\n",
       "    .dataframe thead tr:only-child th {\n",
       "        text-align: right;\n",
       "    }\n",
       "\n",
       "    .dataframe thead th {\n",
       "        text-align: left;\n",
       "    }\n",
       "\n",
       "    .dataframe tbody tr th {\n",
       "        vertical-align: top;\n",
       "    }\n",
       "</style>\n",
       "<table border=\"1\" class=\"dataframe\">\n",
       "  <thead>\n",
       "    <tr style=\"text-align: right;\">\n",
       "      <th></th>\n",
       "      <th>pos</th>\n",
       "      <th>ref</th>\n",
       "      <th>alt</th>\n",
       "      <th>minor</th>\n",
       "      <th>gene_id</th>\n",
       "      <th>gene_pos</th>\n",
       "      <th>gene_category</th>\n",
       "      <th>SNP_type</th>\n",
       "      <th>AA_change</th>\n",
       "      <th>1</th>\n",
       "      <th>2</th>\n",
       "      <th>3</th>\n",
       "      <th>4A</th>\n",
       "      <th>4B</th>\n",
       "      <th>4C</th>\n",
       "      <th>5</th>\n",
       "      <th>6</th>\n",
       "      <th>total</th>\n",
       "      <th>gene_name</th>\n",
       "      <th>num_isolates_alt</th>\n",
       "    </tr>\n",
       "  </thead>\n",
       "  <tbody>\n",
       "    <tr>\n",
       "      <th>0</th>\n",
       "      <td>2155168.0</td>\n",
       "      <td>C</td>\n",
       "      <td>G</td>\n",
       "      <td>G</td>\n",
       "      <td>Rv1908c</td>\n",
       "      <td>944</td>\n",
       "      <td>Antibiotic Resistance</td>\n",
       "      <td>N</td>\n",
       "      <td>S315T</td>\n",
       "      <td>203</td>\n",
       "      <td>408</td>\n",
       "      <td>297</td>\n",
       "      <td>306</td>\n",
       "      <td>310</td>\n",
       "      <td>179</td>\n",
       "      <td>8</td>\n",
       "      <td>6</td>\n",
       "      <td>1717</td>\n",
       "      <td>katG</td>\n",
       "      <td>8066</td>\n",
       "    </tr>\n",
       "    <tr>\n",
       "      <th>1</th>\n",
       "      <td>761155.0</td>\n",
       "      <td>C</td>\n",
       "      <td>T</td>\n",
       "      <td>T</td>\n",
       "      <td>Rv0667</td>\n",
       "      <td>1349</td>\n",
       "      <td>Antibiotic Resistance</td>\n",
       "      <td>N</td>\n",
       "      <td>S450L</td>\n",
       "      <td>75</td>\n",
       "      <td>415</td>\n",
       "      <td>199</td>\n",
       "      <td>222</td>\n",
       "      <td>311</td>\n",
       "      <td>173</td>\n",
       "      <td>8</td>\n",
       "      <td>3</td>\n",
       "      <td>1406</td>\n",
       "      <td>rpoB</td>\n",
       "      <td>5706</td>\n",
       "    </tr>\n",
       "    <tr>\n",
       "      <th>2</th>\n",
       "      <td>781687.0</td>\n",
       "      <td>A</td>\n",
       "      <td>G</td>\n",
       "      <td>G</td>\n",
       "      <td>Rv0682</td>\n",
       "      <td>128</td>\n",
       "      <td>Antibiotic Resistance</td>\n",
       "      <td>N</td>\n",
       "      <td>K43R</td>\n",
       "      <td>37</td>\n",
       "      <td>463</td>\n",
       "      <td>102</td>\n",
       "      <td>65</td>\n",
       "      <td>53</td>\n",
       "      <td>51</td>\n",
       "      <td>6</td>\n",
       "      <td>2</td>\n",
       "      <td>779</td>\n",
       "      <td>rpsL</td>\n",
       "      <td>3509</td>\n",
       "    </tr>\n",
       "    <tr>\n",
       "      <th>3</th>\n",
       "      <td>1673425.0</td>\n",
       "      <td>C</td>\n",
       "      <td>T</td>\n",
       "      <td>T</td>\n",
       "      <td>Rv1482c_Rv1483</td>\n",
       "      <td>None</td>\n",
       "      <td>None</td>\n",
       "      <td>I</td>\n",
       "      <td>None</td>\n",
       "      <td>168</td>\n",
       "      <td>202</td>\n",
       "      <td>62</td>\n",
       "      <td>111</td>\n",
       "      <td>114</td>\n",
       "      <td>87</td>\n",
       "      <td>5</td>\n",
       "      <td>3</td>\n",
       "      <td>752</td>\n",
       "      <td>Rv1482c_fabG1</td>\n",
       "      <td>2660</td>\n",
       "    </tr>\n",
       "    <tr>\n",
       "      <th>4</th>\n",
       "      <td>4247429.0</td>\n",
       "      <td>A</td>\n",
       "      <td>G</td>\n",
       "      <td>G</td>\n",
       "      <td>Rv3795</td>\n",
       "      <td>916</td>\n",
       "      <td>Antibiotic Resistance</td>\n",
       "      <td>N</td>\n",
       "      <td>M306V</td>\n",
       "      <td>32</td>\n",
       "      <td>406</td>\n",
       "      <td>67</td>\n",
       "      <td>76</td>\n",
       "      <td>99</td>\n",
       "      <td>60</td>\n",
       "      <td>2</td>\n",
       "      <td>1</td>\n",
       "      <td>743</td>\n",
       "      <td>embB</td>\n",
       "      <td>2102</td>\n",
       "    </tr>\n",
       "  </tbody>\n",
       "</table>\n",
       "</div>"
      ],
      "text/plain": [
       "         pos ref alt minor         gene_id gene_pos          gene_category  \\\n",
       "0  2155168.0   C   G     G         Rv1908c      944  Antibiotic Resistance   \n",
       "1   761155.0   C   T     T          Rv0667     1349  Antibiotic Resistance   \n",
       "2   781687.0   A   G     G          Rv0682      128  Antibiotic Resistance   \n",
       "3  1673425.0   C   T     T  Rv1482c_Rv1483     None                   None   \n",
       "4  4247429.0   A   G     G          Rv3795      916  Antibiotic Resistance   \n",
       "\n",
       "  SNP_type AA_change    1    2    3   4A   4B   4C  5  6  total  \\\n",
       "0        N     S315T  203  408  297  306  310  179  8  6   1717   \n",
       "1        N     S450L   75  415  199  222  311  173  8  3   1406   \n",
       "2        N      K43R   37  463  102   65   53   51  6  2    779   \n",
       "3        I      None  168  202   62  111  114   87  5  3    752   \n",
       "4        N     M306V   32  406   67   76   99   60  2  1    743   \n",
       "\n",
       "       gene_name  num_isolates_alt  \n",
       "0           katG              8066  \n",
       "1           rpoB              5706  \n",
       "2           rpsL              3509  \n",
       "3  Rv1482c_fabG1              2660  \n",
       "4           embB              2102  "
      ]
     },
     "execution_count": 54,
     "metadata": {},
     "output_type": "execute_result"
    }
   ],
   "source": [
    "subset_homoplasic_SNPs.head()"
   ]
  },
  {
   "cell_type": "markdown",
   "metadata": {},
   "source": [
    "### [7.1.1] Split subsetted homoplasic SNV variants into different functional types"
   ]
  },
  {
   "cell_type": "code",
   "execution_count": 55,
   "metadata": {},
   "outputs": [
    {
     "data": {
      "text/plain": [
       "(1525, 20)"
      ]
     },
     "execution_count": 55,
     "metadata": {},
     "output_type": "execute_result"
    }
   ],
   "source": [
    "np.shape(subset_homoplasic_SNPs)"
   ]
  },
  {
   "cell_type": "markdown",
   "metadata": {},
   "source": [
    "#### Different SNP types"
   ]
  },
  {
   "cell_type": "code",
   "execution_count": 56,
   "metadata": {},
   "outputs": [
    {
     "data": {
      "text/plain": [
       "{'I', 'N', 'R', 'S'}"
      ]
     },
     "execution_count": 56,
     "metadata": {},
     "output_type": "execute_result"
    }
   ],
   "source": [
    "set(subset_homoplasic_SNPs.SNP_type)"
   ]
  },
  {
   "cell_type": "markdown",
   "metadata": {},
   "source": [
    "**Synonymous**"
   ]
  },
  {
   "cell_type": "code",
   "execution_count": 57,
   "metadata": {},
   "outputs": [
    {
     "data": {
      "text/plain": [
       "(470, 20)"
      ]
     },
     "execution_count": 57,
     "metadata": {},
     "output_type": "execute_result"
    }
   ],
   "source": [
    "subset_homoplasic_SNPs_Syn = subset_homoplasic_SNPs[subset_homoplasic_SNPs.SNP_type == 'S']\n",
    "np.shape(subset_homoplasic_SNPs_Syn)"
   ]
  },
  {
   "cell_type": "markdown",
   "metadata": {},
   "source": [
    "**Non-Synonymous**"
   ]
  },
  {
   "cell_type": "code",
   "execution_count": 58,
   "metadata": {},
   "outputs": [
    {
     "data": {
      "text/plain": [
       "(738, 20)"
      ]
     },
     "execution_count": 58,
     "metadata": {},
     "output_type": "execute_result"
    }
   ],
   "source": [
    "subset_homoplasic_SNPs_NSyn = subset_homoplasic_SNPs[subset_homoplasic_SNPs.SNP_type == 'N']\n",
    "np.shape(subset_homoplasic_SNPs_NSyn)"
   ]
  },
  {
   "cell_type": "markdown",
   "metadata": {},
   "source": [
    "**Intergenic**"
   ]
  },
  {
   "cell_type": "code",
   "execution_count": 59,
   "metadata": {},
   "outputs": [
    {
     "data": {
      "text/plain": [
       "(308, 20)"
      ]
     },
     "execution_count": 59,
     "metadata": {},
     "output_type": "execute_result"
    }
   ],
   "source": [
    "subset_homoplasic_SNPs_intergenic = subset_homoplasic_SNPs[subset_homoplasic_SNPs.SNP_type == 'I']\n",
    "np.shape(subset_homoplasic_SNPs_intergenic)"
   ]
  },
  {
   "cell_type": "markdown",
   "metadata": {},
   "source": [
    "**ncRNA**"
   ]
  },
  {
   "cell_type": "code",
   "execution_count": 60,
   "metadata": {},
   "outputs": [
    {
     "data": {
      "text/plain": [
       "(9, 20)"
      ]
     },
     "execution_count": 60,
     "metadata": {},
     "output_type": "execute_result"
    }
   ],
   "source": [
    "subset_homoplasic_SNPs_ncRNA = subset_homoplasic_SNPs[subset_homoplasic_SNPs.SNP_type == 'R']\n",
    "np.shape(subset_homoplasic_SNPs_ncRNA)"
   ]
  },
  {
   "cell_type": "markdown",
   "metadata": {},
   "source": [
    "### [7.1.2] Split subsetted homoplasic SNV variants into whether they occurred in *AR* loci or not"
   ]
  },
  {
   "cell_type": "markdown",
   "metadata": {},
   "source": [
    "**Antibiotic Resistance**"
   ]
  },
  {
   "cell_type": "code",
   "execution_count": 61,
   "metadata": {},
   "outputs": [
    {
     "data": {
      "text/plain": [
       "(162, 20)"
      ]
     },
     "execution_count": 61,
     "metadata": {},
     "output_type": "execute_result"
    }
   ],
   "source": [
    "subset_homoplasic_SNPs_AR = subset_homoplasic_SNPs[subset_homoplasic_SNPs.gene_category == 'Antibiotic Resistance']\n",
    "np.shape(subset_homoplasic_SNPs_AR)"
   ]
  },
  {
   "cell_type": "markdown",
   "metadata": {},
   "source": [
    "**not Antibiotic Resistance**"
   ]
  },
  {
   "cell_type": "code",
   "execution_count": 62,
   "metadata": {},
   "outputs": [
    {
     "data": {
      "text/plain": [
       "(1363, 20)"
      ]
     },
     "execution_count": 62,
     "metadata": {},
     "output_type": "execute_result"
    }
   ],
   "source": [
    "subset_homoplasic_SNPs_non_AR = subset_homoplasic_SNPs[subset_homoplasic_SNPs.gene_category != 'Antibiotic Resistance']\n",
    "np.shape(subset_homoplasic_SNPs_non_AR)"
   ]
  },
  {
   "cell_type": "markdown",
   "metadata": {},
   "source": [
    "## [7.2] INDELs"
   ]
  },
  {
   "cell_type": "code",
   "execution_count": 72,
   "metadata": {},
   "outputs": [
    {
     "data": {
      "text/html": [
       "<div>\n",
       "<style>\n",
       "    .dataframe thead tr:only-child th {\n",
       "        text-align: right;\n",
       "    }\n",
       "\n",
       "    .dataframe thead th {\n",
       "        text-align: left;\n",
       "    }\n",
       "\n",
       "    .dataframe tbody tr th {\n",
       "        vertical-align: top;\n",
       "    }\n",
       "</style>\n",
       "<table border=\"1\" class=\"dataframe\">\n",
       "  <thead>\n",
       "    <tr style=\"text-align: right;\">\n",
       "      <th></th>\n",
       "      <th>pos</th>\n",
       "      <th>ref</th>\n",
       "      <th>alt</th>\n",
       "      <th>gene_category</th>\n",
       "      <th>gene_name</th>\n",
       "      <th>gene_id</th>\n",
       "      <th>gene_pos</th>\n",
       "      <th>ins_del</th>\n",
       "      <th>INDEL_type</th>\n",
       "      <th>codon_pos</th>\n",
       "      <th>...</th>\n",
       "      <th>2</th>\n",
       "      <th>3</th>\n",
       "      <th>4A</th>\n",
       "      <th>4B</th>\n",
       "      <th>4C</th>\n",
       "      <th>5</th>\n",
       "      <th>6</th>\n",
       "      <th>total</th>\n",
       "      <th>num_isolates</th>\n",
       "      <th>repeat_region</th>\n",
       "    </tr>\n",
       "  </thead>\n",
       "  <tbody>\n",
       "    <tr>\n",
       "      <th>47371</th>\n",
       "      <td>4408100</td>\n",
       "      <td>GC</td>\n",
       "      <td>G</td>\n",
       "      <td>Antibiotic Resistance</td>\n",
       "      <td>gid</td>\n",
       "      <td>Rv3919c</td>\n",
       "      <td>103</td>\n",
       "      <td>del</td>\n",
       "      <td>frameshift</td>\n",
       "      <td>35</td>\n",
       "      <td>...</td>\n",
       "      <td>27.0</td>\n",
       "      <td>51.0</td>\n",
       "      <td>43.0</td>\n",
       "      <td>11.0</td>\n",
       "      <td>29.0</td>\n",
       "      <td>0.0</td>\n",
       "      <td>0.0</td>\n",
       "      <td>202.0</td>\n",
       "      <td>388</td>\n",
       "      <td>no</td>\n",
       "    </tr>\n",
       "    <tr>\n",
       "      <th>47365</th>\n",
       "      <td>4408087</td>\n",
       "      <td>CG</td>\n",
       "      <td>C</td>\n",
       "      <td>Antibiotic Resistance</td>\n",
       "      <td>gid</td>\n",
       "      <td>Rv3919c</td>\n",
       "      <td>116</td>\n",
       "      <td>del</td>\n",
       "      <td>frameshift</td>\n",
       "      <td>39</td>\n",
       "      <td>...</td>\n",
       "      <td>11.0</td>\n",
       "      <td>35.0</td>\n",
       "      <td>33.0</td>\n",
       "      <td>10.0</td>\n",
       "      <td>18.0</td>\n",
       "      <td>0.0</td>\n",
       "      <td>0.0</td>\n",
       "      <td>130.0</td>\n",
       "      <td>212</td>\n",
       "      <td>no</td>\n",
       "    </tr>\n",
       "    <tr>\n",
       "      <th>47313</th>\n",
       "      <td>4407851</td>\n",
       "      <td>GC</td>\n",
       "      <td>G</td>\n",
       "      <td>Antibiotic Resistance</td>\n",
       "      <td>gid</td>\n",
       "      <td>Rv3919c</td>\n",
       "      <td>352</td>\n",
       "      <td>del</td>\n",
       "      <td>frameshift</td>\n",
       "      <td>118</td>\n",
       "      <td>...</td>\n",
       "      <td>9.0</td>\n",
       "      <td>40.0</td>\n",
       "      <td>20.0</td>\n",
       "      <td>6.0</td>\n",
       "      <td>19.0</td>\n",
       "      <td>0.0</td>\n",
       "      <td>0.0</td>\n",
       "      <td>115.0</td>\n",
       "      <td>182</td>\n",
       "      <td>SSR</td>\n",
       "    </tr>\n",
       "    <tr>\n",
       "      <th>25151</th>\n",
       "      <td>2288850</td>\n",
       "      <td>A</td>\n",
       "      <td>ACC</td>\n",
       "      <td>Antibiotic Resistance</td>\n",
       "      <td>pncA</td>\n",
       "      <td>Rv2043c</td>\n",
       "      <td>392</td>\n",
       "      <td>ins</td>\n",
       "      <td>frameshift</td>\n",
       "      <td>131</td>\n",
       "      <td>...</td>\n",
       "      <td>14.0</td>\n",
       "      <td>6.0</td>\n",
       "      <td>3.0</td>\n",
       "      <td>6.0</td>\n",
       "      <td>2.0</td>\n",
       "      <td>0.0</td>\n",
       "      <td>0.0</td>\n",
       "      <td>32.0</td>\n",
       "      <td>48</td>\n",
       "      <td>no</td>\n",
       "    </tr>\n",
       "    <tr>\n",
       "      <th>47315</th>\n",
       "      <td>4407851</td>\n",
       "      <td>G</td>\n",
       "      <td>GC</td>\n",
       "      <td>Antibiotic Resistance</td>\n",
       "      <td>gid</td>\n",
       "      <td>Rv3919c</td>\n",
       "      <td>352</td>\n",
       "      <td>ins</td>\n",
       "      <td>frameshift</td>\n",
       "      <td>118</td>\n",
       "      <td>...</td>\n",
       "      <td>1.0</td>\n",
       "      <td>12.0</td>\n",
       "      <td>5.0</td>\n",
       "      <td>7.0</td>\n",
       "      <td>1.0</td>\n",
       "      <td>0.0</td>\n",
       "      <td>0.0</td>\n",
       "      <td>31.0</td>\n",
       "      <td>52</td>\n",
       "      <td>SSR</td>\n",
       "    </tr>\n",
       "  </tbody>\n",
       "</table>\n",
       "<p>5 rows × 23 columns</p>\n",
       "</div>"
      ],
      "text/plain": [
       "           pos ref  alt          gene_category gene_name  gene_id gene_pos  \\\n",
       "47371  4408100  GC    G  Antibiotic Resistance       gid  Rv3919c      103   \n",
       "47365  4408087  CG    C  Antibiotic Resistance       gid  Rv3919c      116   \n",
       "47313  4407851  GC    G  Antibiotic Resistance       gid  Rv3919c      352   \n",
       "25151  2288850   A  ACC  Antibiotic Resistance      pncA  Rv2043c      392   \n",
       "47315  4407851   G   GC  Antibiotic Resistance       gid  Rv3919c      352   \n",
       "\n",
       "      ins_del  INDEL_type codon_pos      ...           2     3    4A    4B  \\\n",
       "47371     del  frameshift        35      ...        27.0  51.0  43.0  11.0   \n",
       "47365     del  frameshift        39      ...        11.0  35.0  33.0  10.0   \n",
       "47313     del  frameshift       118      ...         9.0  40.0  20.0   6.0   \n",
       "25151     ins  frameshift       131      ...        14.0   6.0   3.0   6.0   \n",
       "47315     ins  frameshift       118      ...         1.0  12.0   5.0   7.0   \n",
       "\n",
       "         4C    5    6  total  num_isolates  repeat_region  \n",
       "47371  29.0  0.0  0.0  202.0           388             no  \n",
       "47365  18.0  0.0  0.0  130.0           212             no  \n",
       "47313  19.0  0.0  0.0  115.0           182            SSR  \n",
       "25151   2.0  0.0  0.0   32.0            48             no  \n",
       "47315   1.0  0.0  0.0   31.0            52            SSR  \n",
       "\n",
       "[5 rows x 23 columns]"
      ]
     },
     "execution_count": 72,
     "metadata": {},
     "output_type": "execute_result"
    }
   ],
   "source": [
    "all_homoplasic_INDELs.head()"
   ]
  },
  {
   "cell_type": "markdown",
   "metadata": {},
   "source": [
    "### Subset to mutations that have a homoplasy score $\\ge 5$ (~3.01% of INDEL mutations) AND have an allele frequency $\\ge 0.1\\%$ in the Mtb sample (N=31,428)"
   ]
  },
  {
   "cell_type": "code",
   "execution_count": 73,
   "metadata": {},
   "outputs": [
    {
     "name": "stdout",
     "output_type": "stream",
     "text": [
      "32\n"
     ]
    }
   ],
   "source": [
    "mut_AF_threshold = int(np.ceil(float(31428) * 0.001))\n",
    "print(mut_AF_threshold)"
   ]
  },
  {
   "cell_type": "code",
   "execution_count": 74,
   "metadata": {},
   "outputs": [
    {
     "name": "stderr",
     "output_type": "stream",
     "text": [
      "/home/rv76/anaconda2/lib/python2.7/site-packages/ipykernel_launcher.py:3: SettingWithCopyWarning: \n",
      "A value is trying to be set on a copy of a slice from a DataFrame\n",
      "\n",
      "See the caveats in the documentation: http://pandas.pydata.org/pandas-docs/stable/indexing.html#indexing-view-versus-copy\n",
      "  This is separate from the ipykernel package so we can avoid doing imports until\n"
     ]
    }
   ],
   "source": [
    "#subset to (INDELs in that have a HP score >= 5) AND (INDELs in which mutant AF >= 0.1%)\n",
    "subset_homoplasic_INDELs = all_homoplasic_INDELs[(all_homoplasic_INDELs.total >= 5) & (all_homoplasic_INDELs.num_isolates >= mut_AF_threshold)]\n",
    "subset_homoplasic_INDELs.sort_values(by='total',inplace=True,ascending=False)\n",
    "subset_homoplasic_INDELs.reset_index(inplace=True,drop=True)"
   ]
  },
  {
   "cell_type": "code",
   "execution_count": 75,
   "metadata": {},
   "outputs": [
    {
     "data": {
      "text/plain": [
       "(655, 23)"
      ]
     },
     "execution_count": 75,
     "metadata": {},
     "output_type": "execute_result"
    }
   ],
   "source": [
    "np.shape(subset_homoplasic_INDELs)"
   ]
  },
  {
   "cell_type": "code",
   "execution_count": 76,
   "metadata": {},
   "outputs": [
    {
     "data": {
      "text/html": [
       "<div>\n",
       "<style>\n",
       "    .dataframe thead tr:only-child th {\n",
       "        text-align: right;\n",
       "    }\n",
       "\n",
       "    .dataframe thead th {\n",
       "        text-align: left;\n",
       "    }\n",
       "\n",
       "    .dataframe tbody tr th {\n",
       "        vertical-align: top;\n",
       "    }\n",
       "</style>\n",
       "<table border=\"1\" class=\"dataframe\">\n",
       "  <thead>\n",
       "    <tr style=\"text-align: right;\">\n",
       "      <th></th>\n",
       "      <th>pos</th>\n",
       "      <th>ref</th>\n",
       "      <th>alt</th>\n",
       "      <th>gene_category</th>\n",
       "      <th>gene_name</th>\n",
       "      <th>gene_id</th>\n",
       "      <th>gene_pos</th>\n",
       "      <th>ins_del</th>\n",
       "      <th>INDEL_type</th>\n",
       "      <th>codon_pos</th>\n",
       "      <th>...</th>\n",
       "      <th>2</th>\n",
       "      <th>3</th>\n",
       "      <th>4A</th>\n",
       "      <th>4B</th>\n",
       "      <th>4C</th>\n",
       "      <th>5</th>\n",
       "      <th>6</th>\n",
       "      <th>total</th>\n",
       "      <th>num_isolates</th>\n",
       "      <th>repeat_region</th>\n",
       "    </tr>\n",
       "  </thead>\n",
       "  <tbody>\n",
       "    <tr>\n",
       "      <th>0</th>\n",
       "      <td>3131469</td>\n",
       "      <td>T</td>\n",
       "      <td>TTGTCGGCGA</td>\n",
       "      <td>Antigen</td>\n",
       "      <td>Rv2823c</td>\n",
       "      <td>Rv2823c</td>\n",
       "      <td>305</td>\n",
       "      <td>ins</td>\n",
       "      <td>inframe</td>\n",
       "      <td>102</td>\n",
       "      <td>...</td>\n",
       "      <td>377.0</td>\n",
       "      <td>183.0</td>\n",
       "      <td>351.0</td>\n",
       "      <td>367.0</td>\n",
       "      <td>88.0</td>\n",
       "      <td>5.0</td>\n",
       "      <td>5.0</td>\n",
       "      <td>1534.0</td>\n",
       "      <td>5093</td>\n",
       "      <td>no</td>\n",
       "    </tr>\n",
       "    <tr>\n",
       "      <th>1</th>\n",
       "      <td>1894300</td>\n",
       "      <td>G</td>\n",
       "      <td>GGTCTTGCCGC</td>\n",
       "      <td>Non-Essential</td>\n",
       "      <td>Rv1668c</td>\n",
       "      <td>Rv1668c</td>\n",
       "      <td>1043</td>\n",
       "      <td>ins</td>\n",
       "      <td>frameshift</td>\n",
       "      <td>348</td>\n",
       "      <td>...</td>\n",
       "      <td>306.0</td>\n",
       "      <td>205.0</td>\n",
       "      <td>288.0</td>\n",
       "      <td>313.0</td>\n",
       "      <td>210.0</td>\n",
       "      <td>11.0</td>\n",
       "      <td>5.0</td>\n",
       "      <td>1488.0</td>\n",
       "      <td>12599</td>\n",
       "      <td>no</td>\n",
       "    </tr>\n",
       "    <tr>\n",
       "      <th>2</th>\n",
       "      <td>968426</td>\n",
       "      <td>A</td>\n",
       "      <td>AGCCGGGTTG</td>\n",
       "      <td>PE/PPE</td>\n",
       "      <td>PE_PGRS15</td>\n",
       "      <td>Rv0872c</td>\n",
       "      <td>1819</td>\n",
       "      <td>ins</td>\n",
       "      <td>inframe</td>\n",
       "      <td>607</td>\n",
       "      <td>...</td>\n",
       "      <td>345.0</td>\n",
       "      <td>118.0</td>\n",
       "      <td>275.0</td>\n",
       "      <td>302.0</td>\n",
       "      <td>147.0</td>\n",
       "      <td>3.0</td>\n",
       "      <td>3.0</td>\n",
       "      <td>1331.0</td>\n",
       "      <td>2943</td>\n",
       "      <td>no</td>\n",
       "    </tr>\n",
       "    <tr>\n",
       "      <th>3</th>\n",
       "      <td>2137521</td>\n",
       "      <td>A</td>\n",
       "      <td>ACTCCGATCAC</td>\n",
       "      <td>Non-Essential</td>\n",
       "      <td>Rv1888c</td>\n",
       "      <td>Rv1888c</td>\n",
       "      <td>559</td>\n",
       "      <td>ins</td>\n",
       "      <td>frameshift</td>\n",
       "      <td>187</td>\n",
       "      <td>...</td>\n",
       "      <td>278.0</td>\n",
       "      <td>185.0</td>\n",
       "      <td>261.0</td>\n",
       "      <td>287.0</td>\n",
       "      <td>1.0</td>\n",
       "      <td>5.0</td>\n",
       "      <td>4.0</td>\n",
       "      <td>1155.0</td>\n",
       "      <td>12566</td>\n",
       "      <td>no</td>\n",
       "    </tr>\n",
       "    <tr>\n",
       "      <th>4</th>\n",
       "      <td>976897</td>\n",
       "      <td>T</td>\n",
       "      <td>TG</td>\n",
       "      <td>PE/PPE</td>\n",
       "      <td>PPE13</td>\n",
       "      <td>Rv0878c</td>\n",
       "      <td>1307</td>\n",
       "      <td>ins</td>\n",
       "      <td>frameshift</td>\n",
       "      <td>436</td>\n",
       "      <td>...</td>\n",
       "      <td>361.0</td>\n",
       "      <td>139.0</td>\n",
       "      <td>249.0</td>\n",
       "      <td>173.0</td>\n",
       "      <td>156.0</td>\n",
       "      <td>0.0</td>\n",
       "      <td>0.0</td>\n",
       "      <td>1126.0</td>\n",
       "      <td>3745</td>\n",
       "      <td>HT</td>\n",
       "    </tr>\n",
       "  </tbody>\n",
       "</table>\n",
       "<p>5 rows × 23 columns</p>\n",
       "</div>"
      ],
      "text/plain": [
       "       pos ref          alt  gene_category  gene_name  gene_id gene_pos  \\\n",
       "0  3131469   T   TTGTCGGCGA        Antigen    Rv2823c  Rv2823c      305   \n",
       "1  1894300   G  GGTCTTGCCGC  Non-Essential    Rv1668c  Rv1668c     1043   \n",
       "2   968426   A   AGCCGGGTTG         PE/PPE  PE_PGRS15  Rv0872c     1819   \n",
       "3  2137521   A  ACTCCGATCAC  Non-Essential    Rv1888c  Rv1888c      559   \n",
       "4   976897   T           TG         PE/PPE      PPE13  Rv0878c     1307   \n",
       "\n",
       "  ins_del  INDEL_type codon_pos      ...            2      3     4A     4B  \\\n",
       "0     ins     inframe       102      ...        377.0  183.0  351.0  367.0   \n",
       "1     ins  frameshift       348      ...        306.0  205.0  288.0  313.0   \n",
       "2     ins     inframe       607      ...        345.0  118.0  275.0  302.0   \n",
       "3     ins  frameshift       187      ...        278.0  185.0  261.0  287.0   \n",
       "4     ins  frameshift       436      ...        361.0  139.0  249.0  173.0   \n",
       "\n",
       "      4C     5    6   total  num_isolates  repeat_region  \n",
       "0   88.0   5.0  5.0  1534.0          5093             no  \n",
       "1  210.0  11.0  5.0  1488.0         12599             no  \n",
       "2  147.0   3.0  3.0  1331.0          2943             no  \n",
       "3    1.0   5.0  4.0  1155.0         12566             no  \n",
       "4  156.0   0.0  0.0  1126.0          3745             HT  \n",
       "\n",
       "[5 rows x 23 columns]"
      ]
     },
     "execution_count": 76,
     "metadata": {},
     "output_type": "execute_result"
    }
   ],
   "source": [
    "subset_homoplasic_INDELs.head()"
   ]
  },
  {
   "cell_type": "code",
   "execution_count": 77,
   "metadata": {},
   "outputs": [
    {
     "data": {
      "text/html": [
       "<div>\n",
       "<style>\n",
       "    .dataframe thead tr:only-child th {\n",
       "        text-align: right;\n",
       "    }\n",
       "\n",
       "    .dataframe thead th {\n",
       "        text-align: left;\n",
       "    }\n",
       "\n",
       "    .dataframe tbody tr th {\n",
       "        vertical-align: top;\n",
       "    }\n",
       "</style>\n",
       "<table border=\"1\" class=\"dataframe\">\n",
       "  <thead>\n",
       "    <tr style=\"text-align: right;\">\n",
       "      <th></th>\n",
       "      <th>pos</th>\n",
       "      <th>ref</th>\n",
       "      <th>alt</th>\n",
       "      <th>gene_category</th>\n",
       "      <th>gene_name</th>\n",
       "      <th>gene_id</th>\n",
       "      <th>gene_pos</th>\n",
       "      <th>ins_del</th>\n",
       "      <th>INDEL_type</th>\n",
       "      <th>codon_pos</th>\n",
       "      <th>...</th>\n",
       "      <th>2</th>\n",
       "      <th>3</th>\n",
       "      <th>4A</th>\n",
       "      <th>4B</th>\n",
       "      <th>4C</th>\n",
       "      <th>5</th>\n",
       "      <th>6</th>\n",
       "      <th>total</th>\n",
       "      <th>num_isolates</th>\n",
       "      <th>repeat_region</th>\n",
       "    </tr>\n",
       "  </thead>\n",
       "  <tbody>\n",
       "    <tr>\n",
       "      <th>0</th>\n",
       "      <td>3131469</td>\n",
       "      <td>T</td>\n",
       "      <td>TTGTCGGCGA</td>\n",
       "      <td>Antigen</td>\n",
       "      <td>Rv2823c</td>\n",
       "      <td>Rv2823c</td>\n",
       "      <td>305</td>\n",
       "      <td>ins</td>\n",
       "      <td>inframe</td>\n",
       "      <td>102</td>\n",
       "      <td>...</td>\n",
       "      <td>377.0</td>\n",
       "      <td>183.0</td>\n",
       "      <td>351.0</td>\n",
       "      <td>367.0</td>\n",
       "      <td>88.0</td>\n",
       "      <td>5.0</td>\n",
       "      <td>5.0</td>\n",
       "      <td>1534.0</td>\n",
       "      <td>5093</td>\n",
       "      <td>no</td>\n",
       "    </tr>\n",
       "    <tr>\n",
       "      <th>1</th>\n",
       "      <td>1894300</td>\n",
       "      <td>G</td>\n",
       "      <td>GGTCTTGCCGC</td>\n",
       "      <td>Non-Essential</td>\n",
       "      <td>Rv1668c</td>\n",
       "      <td>Rv1668c</td>\n",
       "      <td>1043</td>\n",
       "      <td>ins</td>\n",
       "      <td>frameshift</td>\n",
       "      <td>348</td>\n",
       "      <td>...</td>\n",
       "      <td>306.0</td>\n",
       "      <td>205.0</td>\n",
       "      <td>288.0</td>\n",
       "      <td>313.0</td>\n",
       "      <td>210.0</td>\n",
       "      <td>11.0</td>\n",
       "      <td>5.0</td>\n",
       "      <td>1488.0</td>\n",
       "      <td>12599</td>\n",
       "      <td>no</td>\n",
       "    </tr>\n",
       "    <tr>\n",
       "      <th>2</th>\n",
       "      <td>968426</td>\n",
       "      <td>A</td>\n",
       "      <td>AGCCGGGTTG</td>\n",
       "      <td>PE/PPE</td>\n",
       "      <td>PE_PGRS15</td>\n",
       "      <td>Rv0872c</td>\n",
       "      <td>1819</td>\n",
       "      <td>ins</td>\n",
       "      <td>inframe</td>\n",
       "      <td>607</td>\n",
       "      <td>...</td>\n",
       "      <td>345.0</td>\n",
       "      <td>118.0</td>\n",
       "      <td>275.0</td>\n",
       "      <td>302.0</td>\n",
       "      <td>147.0</td>\n",
       "      <td>3.0</td>\n",
       "      <td>3.0</td>\n",
       "      <td>1331.0</td>\n",
       "      <td>2943</td>\n",
       "      <td>no</td>\n",
       "    </tr>\n",
       "    <tr>\n",
       "      <th>3</th>\n",
       "      <td>2137521</td>\n",
       "      <td>A</td>\n",
       "      <td>ACTCCGATCAC</td>\n",
       "      <td>Non-Essential</td>\n",
       "      <td>Rv1888c</td>\n",
       "      <td>Rv1888c</td>\n",
       "      <td>559</td>\n",
       "      <td>ins</td>\n",
       "      <td>frameshift</td>\n",
       "      <td>187</td>\n",
       "      <td>...</td>\n",
       "      <td>278.0</td>\n",
       "      <td>185.0</td>\n",
       "      <td>261.0</td>\n",
       "      <td>287.0</td>\n",
       "      <td>1.0</td>\n",
       "      <td>5.0</td>\n",
       "      <td>4.0</td>\n",
       "      <td>1155.0</td>\n",
       "      <td>12566</td>\n",
       "      <td>no</td>\n",
       "    </tr>\n",
       "    <tr>\n",
       "      <th>4</th>\n",
       "      <td>976897</td>\n",
       "      <td>T</td>\n",
       "      <td>TG</td>\n",
       "      <td>PE/PPE</td>\n",
       "      <td>PPE13</td>\n",
       "      <td>Rv0878c</td>\n",
       "      <td>1307</td>\n",
       "      <td>ins</td>\n",
       "      <td>frameshift</td>\n",
       "      <td>436</td>\n",
       "      <td>...</td>\n",
       "      <td>361.0</td>\n",
       "      <td>139.0</td>\n",
       "      <td>249.0</td>\n",
       "      <td>173.0</td>\n",
       "      <td>156.0</td>\n",
       "      <td>0.0</td>\n",
       "      <td>0.0</td>\n",
       "      <td>1126.0</td>\n",
       "      <td>3745</td>\n",
       "      <td>HT</td>\n",
       "    </tr>\n",
       "    <tr>\n",
       "      <th>5</th>\n",
       "      <td>1313337</td>\n",
       "      <td>A</td>\n",
       "      <td>AG</td>\n",
       "      <td>None</td>\n",
       "      <td>Rv1179c_pks3</td>\n",
       "      <td>Rv1179c_Rv1180</td>\n",
       "      <td>None</td>\n",
       "      <td>ins</td>\n",
       "      <td>frameshift</td>\n",
       "      <td>None</td>\n",
       "      <td>...</td>\n",
       "      <td>195.0</td>\n",
       "      <td>65.0</td>\n",
       "      <td>129.0</td>\n",
       "      <td>124.0</td>\n",
       "      <td>104.0</td>\n",
       "      <td>0.0</td>\n",
       "      <td>1.0</td>\n",
       "      <td>674.0</td>\n",
       "      <td>16070</td>\n",
       "      <td>no</td>\n",
       "    </tr>\n",
       "    <tr>\n",
       "      <th>6</th>\n",
       "      <td>3296371</td>\n",
       "      <td>G</td>\n",
       "      <td>GCCGCGGC</td>\n",
       "      <td>Non-Essential</td>\n",
       "      <td>pks15</td>\n",
       "      <td>Rv2947c</td>\n",
       "      <td>1470</td>\n",
       "      <td>ins</td>\n",
       "      <td>frameshift</td>\n",
       "      <td>490</td>\n",
       "      <td>...</td>\n",
       "      <td>313.0</td>\n",
       "      <td>197.0</td>\n",
       "      <td>0.0</td>\n",
       "      <td>0.0</td>\n",
       "      <td>1.0</td>\n",
       "      <td>9.0</td>\n",
       "      <td>0.0</td>\n",
       "      <td>649.0</td>\n",
       "      <td>6145</td>\n",
       "      <td>no</td>\n",
       "    </tr>\n",
       "    <tr>\n",
       "      <th>7</th>\n",
       "      <td>976897</td>\n",
       "      <td>T</td>\n",
       "      <td>TGG</td>\n",
       "      <td>PE/PPE</td>\n",
       "      <td>PPE13</td>\n",
       "      <td>Rv0878c</td>\n",
       "      <td>1307</td>\n",
       "      <td>ins</td>\n",
       "      <td>frameshift</td>\n",
       "      <td>436</td>\n",
       "      <td>...</td>\n",
       "      <td>247.0</td>\n",
       "      <td>50.0</td>\n",
       "      <td>101.0</td>\n",
       "      <td>87.0</td>\n",
       "      <td>52.0</td>\n",
       "      <td>0.0</td>\n",
       "      <td>0.0</td>\n",
       "      <td>556.0</td>\n",
       "      <td>894</td>\n",
       "      <td>HT</td>\n",
       "    </tr>\n",
       "    <tr>\n",
       "      <th>8</th>\n",
       "      <td>976897</td>\n",
       "      <td>TG</td>\n",
       "      <td>T</td>\n",
       "      <td>PE/PPE</td>\n",
       "      <td>PPE13</td>\n",
       "      <td>Rv0878c</td>\n",
       "      <td>1307</td>\n",
       "      <td>del</td>\n",
       "      <td>frameshift</td>\n",
       "      <td>436</td>\n",
       "      <td>...</td>\n",
       "      <td>97.0</td>\n",
       "      <td>81.0</td>\n",
       "      <td>94.0</td>\n",
       "      <td>53.0</td>\n",
       "      <td>90.0</td>\n",
       "      <td>0.0</td>\n",
       "      <td>1.0</td>\n",
       "      <td>438.0</td>\n",
       "      <td>3246</td>\n",
       "      <td>HT</td>\n",
       "    </tr>\n",
       "    <tr>\n",
       "      <th>9</th>\n",
       "      <td>854252</td>\n",
       "      <td>GCC</td>\n",
       "      <td>G</td>\n",
       "      <td>None</td>\n",
       "      <td>Rv0759c_Rv0760c</td>\n",
       "      <td>Rv0759c_Rv0760c</td>\n",
       "      <td>None</td>\n",
       "      <td>del</td>\n",
       "      <td>frameshift</td>\n",
       "      <td>None</td>\n",
       "      <td>...</td>\n",
       "      <td>90.0</td>\n",
       "      <td>54.0</td>\n",
       "      <td>82.0</td>\n",
       "      <td>67.0</td>\n",
       "      <td>73.0</td>\n",
       "      <td>1.0</td>\n",
       "      <td>6.0</td>\n",
       "      <td>427.0</td>\n",
       "      <td>3139</td>\n",
       "      <td>HT</td>\n",
       "    </tr>\n",
       "    <tr>\n",
       "      <th>10</th>\n",
       "      <td>3794867</td>\n",
       "      <td>C</td>\n",
       "      <td>CCA</td>\n",
       "      <td>Non-Essential</td>\n",
       "      <td>dxs2</td>\n",
       "      <td>Rv3379c</td>\n",
       "      <td>1</td>\n",
       "      <td>ins</td>\n",
       "      <td>frameshift</td>\n",
       "      <td>1</td>\n",
       "      <td>...</td>\n",
       "      <td>300.0</td>\n",
       "      <td>66.0</td>\n",
       "      <td>1.0</td>\n",
       "      <td>0.0</td>\n",
       "      <td>1.0</td>\n",
       "      <td>5.0</td>\n",
       "      <td>4.0</td>\n",
       "      <td>427.0</td>\n",
       "      <td>8059</td>\n",
       "      <td>no</td>\n",
       "    </tr>\n",
       "    <tr>\n",
       "      <th>11</th>\n",
       "      <td>234496</td>\n",
       "      <td>C</td>\n",
       "      <td>CGT</td>\n",
       "      <td>Non-Essential</td>\n",
       "      <td>Rv0197</td>\n",
       "      <td>Rv0197</td>\n",
       "      <td>2266</td>\n",
       "      <td>ins</td>\n",
       "      <td>frameshift</td>\n",
       "      <td>756</td>\n",
       "      <td>...</td>\n",
       "      <td>111.0</td>\n",
       "      <td>28.0</td>\n",
       "      <td>49.0</td>\n",
       "      <td>116.0</td>\n",
       "      <td>51.0</td>\n",
       "      <td>5.0</td>\n",
       "      <td>1.0</td>\n",
       "      <td>401.0</td>\n",
       "      <td>21397</td>\n",
       "      <td>no</td>\n",
       "    </tr>\n",
       "    <tr>\n",
       "      <th>12</th>\n",
       "      <td>55540</td>\n",
       "      <td>G</td>\n",
       "      <td>GCCGCCGCCT</td>\n",
       "      <td>Non-Essential</td>\n",
       "      <td>ponA1</td>\n",
       "      <td>Rv0050</td>\n",
       "      <td>1878</td>\n",
       "      <td>ins</td>\n",
       "      <td>inframe</td>\n",
       "      <td>626</td>\n",
       "      <td>...</td>\n",
       "      <td>272.0</td>\n",
       "      <td>0.0</td>\n",
       "      <td>0.0</td>\n",
       "      <td>0.0</td>\n",
       "      <td>0.0</td>\n",
       "      <td>6.0</td>\n",
       "      <td>5.0</td>\n",
       "      <td>397.0</td>\n",
       "      <td>2238</td>\n",
       "      <td>SSR</td>\n",
       "    </tr>\n",
       "    <tr>\n",
       "      <th>13</th>\n",
       "      <td>3842463</td>\n",
       "      <td>TA</td>\n",
       "      <td>T</td>\n",
       "      <td>PE/PPE</td>\n",
       "      <td>PPE57</td>\n",
       "      <td>Rv3425</td>\n",
       "      <td>225</td>\n",
       "      <td>del</td>\n",
       "      <td>frameshift</td>\n",
       "      <td>75</td>\n",
       "      <td>...</td>\n",
       "      <td>393.0</td>\n",
       "      <td>1.0</td>\n",
       "      <td>0.0</td>\n",
       "      <td>0.0</td>\n",
       "      <td>0.0</td>\n",
       "      <td>0.0</td>\n",
       "      <td>0.0</td>\n",
       "      <td>394.0</td>\n",
       "      <td>2651</td>\n",
       "      <td>no</td>\n",
       "    </tr>\n",
       "    <tr>\n",
       "      <th>14</th>\n",
       "      <td>976889</td>\n",
       "      <td>CT</td>\n",
       "      <td>C</td>\n",
       "      <td>PE/PPE</td>\n",
       "      <td>PPE13</td>\n",
       "      <td>Rv0878c</td>\n",
       "      <td>1315</td>\n",
       "      <td>del</td>\n",
       "      <td>frameshift</td>\n",
       "      <td>439</td>\n",
       "      <td>...</td>\n",
       "      <td>54.0</td>\n",
       "      <td>31.0</td>\n",
       "      <td>54.0</td>\n",
       "      <td>88.0</td>\n",
       "      <td>67.0</td>\n",
       "      <td>4.0</td>\n",
       "      <td>6.0</td>\n",
       "      <td>371.0</td>\n",
       "      <td>1395</td>\n",
       "      <td>HT</td>\n",
       "    </tr>\n",
       "    <tr>\n",
       "      <th>15</th>\n",
       "      <td>3247864</td>\n",
       "      <td>C</td>\n",
       "      <td>CTAGG</td>\n",
       "      <td>Non-Essential</td>\n",
       "      <td>ppsA</td>\n",
       "      <td>Rv2931</td>\n",
       "      <td>2420</td>\n",
       "      <td>ins</td>\n",
       "      <td>frameshift</td>\n",
       "      <td>807</td>\n",
       "      <td>...</td>\n",
       "      <td>90.0</td>\n",
       "      <td>12.0</td>\n",
       "      <td>66.0</td>\n",
       "      <td>79.0</td>\n",
       "      <td>38.0</td>\n",
       "      <td>1.0</td>\n",
       "      <td>3.0</td>\n",
       "      <td>324.0</td>\n",
       "      <td>469</td>\n",
       "      <td>SSR</td>\n",
       "    </tr>\n",
       "    <tr>\n",
       "      <th>16</th>\n",
       "      <td>2604156</td>\n",
       "      <td>TCAGTGCCAA</td>\n",
       "      <td>T</td>\n",
       "      <td>Non-Essential</td>\n",
       "      <td>lppP</td>\n",
       "      <td>Rv2330c</td>\n",
       "      <td>67</td>\n",
       "      <td>del</td>\n",
       "      <td>inframe</td>\n",
       "      <td>23</td>\n",
       "      <td>...</td>\n",
       "      <td>7.0</td>\n",
       "      <td>185.0</td>\n",
       "      <td>20.0</td>\n",
       "      <td>8.0</td>\n",
       "      <td>62.0</td>\n",
       "      <td>0.0</td>\n",
       "      <td>0.0</td>\n",
       "      <td>321.0</td>\n",
       "      <td>669</td>\n",
       "      <td>no</td>\n",
       "    </tr>\n",
       "    <tr>\n",
       "      <th>17</th>\n",
       "      <td>1418863</td>\n",
       "      <td>C</td>\n",
       "      <td>CGGGAGCCA</td>\n",
       "      <td>Non-Essential</td>\n",
       "      <td>Rv1269c</td>\n",
       "      <td>Rv1269c</td>\n",
       "      <td>91</td>\n",
       "      <td>ins</td>\n",
       "      <td>frameshift</td>\n",
       "      <td>31</td>\n",
       "      <td>...</td>\n",
       "      <td>311.0</td>\n",
       "      <td>0.0</td>\n",
       "      <td>0.0</td>\n",
       "      <td>0.0</td>\n",
       "      <td>0.0</td>\n",
       "      <td>0.0</td>\n",
       "      <td>0.0</td>\n",
       "      <td>311.0</td>\n",
       "      <td>1929</td>\n",
       "      <td>no</td>\n",
       "    </tr>\n",
       "    <tr>\n",
       "      <th>18</th>\n",
       "      <td>1992323</td>\n",
       "      <td>G</td>\n",
       "      <td>GC</td>\n",
       "      <td>PE/PPE</td>\n",
       "      <td>wag22</td>\n",
       "      <td>Rv1759c</td>\n",
       "      <td>255</td>\n",
       "      <td>ins</td>\n",
       "      <td>frameshift</td>\n",
       "      <td>85</td>\n",
       "      <td>...</td>\n",
       "      <td>1.0</td>\n",
       "      <td>56.0</td>\n",
       "      <td>85.0</td>\n",
       "      <td>66.0</td>\n",
       "      <td>35.0</td>\n",
       "      <td>4.0</td>\n",
       "      <td>2.0</td>\n",
       "      <td>308.0</td>\n",
       "      <td>1926</td>\n",
       "      <td>HT</td>\n",
       "    </tr>\n",
       "    <tr>\n",
       "      <th>19</th>\n",
       "      <td>4139183</td>\n",
       "      <td>A</td>\n",
       "      <td>AC</td>\n",
       "      <td>Antibiotic Resistance</td>\n",
       "      <td>glpK</td>\n",
       "      <td>Rv3696c</td>\n",
       "      <td>573</td>\n",
       "      <td>ins</td>\n",
       "      <td>frameshift</td>\n",
       "      <td>191</td>\n",
       "      <td>...</td>\n",
       "      <td>71.0</td>\n",
       "      <td>18.0</td>\n",
       "      <td>34.0</td>\n",
       "      <td>76.0</td>\n",
       "      <td>16.0</td>\n",
       "      <td>2.0</td>\n",
       "      <td>8.0</td>\n",
       "      <td>261.0</td>\n",
       "      <td>362</td>\n",
       "      <td>HT</td>\n",
       "    </tr>\n",
       "    <tr>\n",
       "      <th>20</th>\n",
       "      <td>1340652</td>\n",
       "      <td>AG</td>\n",
       "      <td>A</td>\n",
       "      <td>None</td>\n",
       "      <td>PPE18_esxK</td>\n",
       "      <td>Rv1196_Rv1197</td>\n",
       "      <td>None</td>\n",
       "      <td>del</td>\n",
       "      <td>frameshift</td>\n",
       "      <td>None</td>\n",
       "      <td>...</td>\n",
       "      <td>14.0</td>\n",
       "      <td>119.0</td>\n",
       "      <td>25.0</td>\n",
       "      <td>41.0</td>\n",
       "      <td>30.0</td>\n",
       "      <td>0.0</td>\n",
       "      <td>0.0</td>\n",
       "      <td>238.0</td>\n",
       "      <td>1585</td>\n",
       "      <td>no</td>\n",
       "    </tr>\n",
       "    <tr>\n",
       "      <th>21</th>\n",
       "      <td>3462145</td>\n",
       "      <td>A</td>\n",
       "      <td>AGGCGC</td>\n",
       "      <td>Non-Essential</td>\n",
       "      <td>Rv3093c</td>\n",
       "      <td>Rv3093c</td>\n",
       "      <td>620</td>\n",
       "      <td>ins</td>\n",
       "      <td>frameshift</td>\n",
       "      <td>207</td>\n",
       "      <td>...</td>\n",
       "      <td>0.0</td>\n",
       "      <td>0.0</td>\n",
       "      <td>232.0</td>\n",
       "      <td>1.0</td>\n",
       "      <td>3.0</td>\n",
       "      <td>0.0</td>\n",
       "      <td>0.0</td>\n",
       "      <td>236.0</td>\n",
       "      <td>1864</td>\n",
       "      <td>no</td>\n",
       "    </tr>\n",
       "    <tr>\n",
       "      <th>22</th>\n",
       "      <td>2338194</td>\n",
       "      <td>A</td>\n",
       "      <td>AC</td>\n",
       "      <td>Non-Essential</td>\n",
       "      <td>Rv2081c</td>\n",
       "      <td>Rv2081c</td>\n",
       "      <td>312</td>\n",
       "      <td>ins</td>\n",
       "      <td>frameshift</td>\n",
       "      <td>104</td>\n",
       "      <td>...</td>\n",
       "      <td>126.0</td>\n",
       "      <td>2.0</td>\n",
       "      <td>36.0</td>\n",
       "      <td>52.0</td>\n",
       "      <td>18.0</td>\n",
       "      <td>0.0</td>\n",
       "      <td>0.0</td>\n",
       "      <td>235.0</td>\n",
       "      <td>803</td>\n",
       "      <td>HT</td>\n",
       "    </tr>\n",
       "    <tr>\n",
       "      <th>23</th>\n",
       "      <td>1277869</td>\n",
       "      <td>G</td>\n",
       "      <td>GT</td>\n",
       "      <td>None</td>\n",
       "      <td>Rv1148c_Rv1149</td>\n",
       "      <td>Rv1148c_Rv1149</td>\n",
       "      <td>None</td>\n",
       "      <td>ins</td>\n",
       "      <td>frameshift</td>\n",
       "      <td>None</td>\n",
       "      <td>...</td>\n",
       "      <td>88.0</td>\n",
       "      <td>1.0</td>\n",
       "      <td>22.0</td>\n",
       "      <td>58.0</td>\n",
       "      <td>56.0</td>\n",
       "      <td>0.0</td>\n",
       "      <td>3.0</td>\n",
       "      <td>229.0</td>\n",
       "      <td>18450</td>\n",
       "      <td>no</td>\n",
       "    </tr>\n",
       "    <tr>\n",
       "      <th>24</th>\n",
       "      <td>854252</td>\n",
       "      <td>GC</td>\n",
       "      <td>G</td>\n",
       "      <td>None</td>\n",
       "      <td>Rv0759c_Rv0760c</td>\n",
       "      <td>Rv0759c_Rv0760c</td>\n",
       "      <td>None</td>\n",
       "      <td>del</td>\n",
       "      <td>frameshift</td>\n",
       "      <td>None</td>\n",
       "      <td>...</td>\n",
       "      <td>38.0</td>\n",
       "      <td>12.0</td>\n",
       "      <td>50.0</td>\n",
       "      <td>70.0</td>\n",
       "      <td>28.0</td>\n",
       "      <td>0.0</td>\n",
       "      <td>3.0</td>\n",
       "      <td>224.0</td>\n",
       "      <td>24707</td>\n",
       "      <td>HT</td>\n",
       "    </tr>\n",
       "    <tr>\n",
       "      <th>25</th>\n",
       "      <td>4323354</td>\n",
       "      <td>C</td>\n",
       "      <td>CG</td>\n",
       "      <td>None</td>\n",
       "      <td>Rv3848_espR</td>\n",
       "      <td>Rv3848_Rv3849</td>\n",
       "      <td>None</td>\n",
       "      <td>ins</td>\n",
       "      <td>frameshift</td>\n",
       "      <td>None</td>\n",
       "      <td>...</td>\n",
       "      <td>99.0</td>\n",
       "      <td>14.0</td>\n",
       "      <td>6.0</td>\n",
       "      <td>40.0</td>\n",
       "      <td>21.0</td>\n",
       "      <td>0.0</td>\n",
       "      <td>3.0</td>\n",
       "      <td>214.0</td>\n",
       "      <td>690</td>\n",
       "      <td>HT</td>\n",
       "    </tr>\n",
       "    <tr>\n",
       "      <th>26</th>\n",
       "      <td>3590686</td>\n",
       "      <td>G</td>\n",
       "      <td>GC</td>\n",
       "      <td>None</td>\n",
       "      <td>Rv3212_Rv3213c</td>\n",
       "      <td>Rv3212_Rv3213c</td>\n",
       "      <td>None</td>\n",
       "      <td>ins</td>\n",
       "      <td>frameshift</td>\n",
       "      <td>None</td>\n",
       "      <td>...</td>\n",
       "      <td>73.0</td>\n",
       "      <td>14.0</td>\n",
       "      <td>22.0</td>\n",
       "      <td>52.0</td>\n",
       "      <td>17.0</td>\n",
       "      <td>1.0</td>\n",
       "      <td>1.0</td>\n",
       "      <td>210.0</td>\n",
       "      <td>21953</td>\n",
       "      <td>no</td>\n",
       "    </tr>\n",
       "    <tr>\n",
       "      <th>27</th>\n",
       "      <td>4408100</td>\n",
       "      <td>GC</td>\n",
       "      <td>G</td>\n",
       "      <td>Antibiotic Resistance</td>\n",
       "      <td>gid</td>\n",
       "      <td>Rv3919c</td>\n",
       "      <td>103</td>\n",
       "      <td>del</td>\n",
       "      <td>frameshift</td>\n",
       "      <td>35</td>\n",
       "      <td>...</td>\n",
       "      <td>27.0</td>\n",
       "      <td>51.0</td>\n",
       "      <td>43.0</td>\n",
       "      <td>11.0</td>\n",
       "      <td>29.0</td>\n",
       "      <td>0.0</td>\n",
       "      <td>0.0</td>\n",
       "      <td>202.0</td>\n",
       "      <td>388</td>\n",
       "      <td>no</td>\n",
       "    </tr>\n",
       "    <tr>\n",
       "      <th>28</th>\n",
       "      <td>79504</td>\n",
       "      <td>TCGGTGGACC</td>\n",
       "      <td>T</td>\n",
       "      <td>Non-Essential</td>\n",
       "      <td>Rv0071</td>\n",
       "      <td>Rv0071</td>\n",
       "      <td>19</td>\n",
       "      <td>del</td>\n",
       "      <td>inframe</td>\n",
       "      <td>7</td>\n",
       "      <td>...</td>\n",
       "      <td>0.0</td>\n",
       "      <td>0.0</td>\n",
       "      <td>4.0</td>\n",
       "      <td>164.0</td>\n",
       "      <td>22.0</td>\n",
       "      <td>4.0</td>\n",
       "      <td>0.0</td>\n",
       "      <td>194.0</td>\n",
       "      <td>577</td>\n",
       "      <td>no</td>\n",
       "    </tr>\n",
       "    <tr>\n",
       "      <th>29</th>\n",
       "      <td>976896</td>\n",
       "      <td>TTG</td>\n",
       "      <td>T</td>\n",
       "      <td>PE/PPE</td>\n",
       "      <td>PPE13</td>\n",
       "      <td>Rv0878c</td>\n",
       "      <td>1308</td>\n",
       "      <td>del</td>\n",
       "      <td>frameshift</td>\n",
       "      <td>436</td>\n",
       "      <td>...</td>\n",
       "      <td>19.0</td>\n",
       "      <td>19.0</td>\n",
       "      <td>17.0</td>\n",
       "      <td>50.0</td>\n",
       "      <td>32.0</td>\n",
       "      <td>1.0</td>\n",
       "      <td>2.0</td>\n",
       "      <td>188.0</td>\n",
       "      <td>3551</td>\n",
       "      <td>HT</td>\n",
       "    </tr>\n",
       "  </tbody>\n",
       "</table>\n",
       "<p>30 rows × 23 columns</p>\n",
       "</div>"
      ],
      "text/plain": [
       "        pos         ref          alt          gene_category        gene_name  \\\n",
       "0   3131469           T   TTGTCGGCGA                Antigen          Rv2823c   \n",
       "1   1894300           G  GGTCTTGCCGC          Non-Essential          Rv1668c   \n",
       "2    968426           A   AGCCGGGTTG                 PE/PPE        PE_PGRS15   \n",
       "3   2137521           A  ACTCCGATCAC          Non-Essential          Rv1888c   \n",
       "4    976897           T           TG                 PE/PPE            PPE13   \n",
       "5   1313337           A           AG                   None     Rv1179c_pks3   \n",
       "6   3296371           G     GCCGCGGC          Non-Essential            pks15   \n",
       "7    976897           T          TGG                 PE/PPE            PPE13   \n",
       "8    976897          TG            T                 PE/PPE            PPE13   \n",
       "9    854252         GCC            G                   None  Rv0759c_Rv0760c   \n",
       "10  3794867           C          CCA          Non-Essential             dxs2   \n",
       "11   234496           C          CGT          Non-Essential           Rv0197   \n",
       "12    55540           G   GCCGCCGCCT          Non-Essential            ponA1   \n",
       "13  3842463          TA            T                 PE/PPE            PPE57   \n",
       "14   976889          CT            C                 PE/PPE            PPE13   \n",
       "15  3247864           C        CTAGG          Non-Essential             ppsA   \n",
       "16  2604156  TCAGTGCCAA            T          Non-Essential             lppP   \n",
       "17  1418863           C    CGGGAGCCA          Non-Essential          Rv1269c   \n",
       "18  1992323           G           GC                 PE/PPE            wag22   \n",
       "19  4139183           A           AC  Antibiotic Resistance             glpK   \n",
       "20  1340652          AG            A                   None       PPE18_esxK   \n",
       "21  3462145           A       AGGCGC          Non-Essential          Rv3093c   \n",
       "22  2338194           A           AC          Non-Essential          Rv2081c   \n",
       "23  1277869           G           GT                   None   Rv1148c_Rv1149   \n",
       "24   854252          GC            G                   None  Rv0759c_Rv0760c   \n",
       "25  4323354           C           CG                   None      Rv3848_espR   \n",
       "26  3590686           G           GC                   None   Rv3212_Rv3213c   \n",
       "27  4408100          GC            G  Antibiotic Resistance              gid   \n",
       "28    79504  TCGGTGGACC            T          Non-Essential           Rv0071   \n",
       "29   976896         TTG            T                 PE/PPE            PPE13   \n",
       "\n",
       "            gene_id gene_pos ins_del  INDEL_type codon_pos      ...        \\\n",
       "0           Rv2823c      305     ins     inframe       102      ...         \n",
       "1           Rv1668c     1043     ins  frameshift       348      ...         \n",
       "2           Rv0872c     1819     ins     inframe       607      ...         \n",
       "3           Rv1888c      559     ins  frameshift       187      ...         \n",
       "4           Rv0878c     1307     ins  frameshift       436      ...         \n",
       "5    Rv1179c_Rv1180     None     ins  frameshift      None      ...         \n",
       "6           Rv2947c     1470     ins  frameshift       490      ...         \n",
       "7           Rv0878c     1307     ins  frameshift       436      ...         \n",
       "8           Rv0878c     1307     del  frameshift       436      ...         \n",
       "9   Rv0759c_Rv0760c     None     del  frameshift      None      ...         \n",
       "10          Rv3379c        1     ins  frameshift         1      ...         \n",
       "11           Rv0197     2266     ins  frameshift       756      ...         \n",
       "12           Rv0050     1878     ins     inframe       626      ...         \n",
       "13           Rv3425      225     del  frameshift        75      ...         \n",
       "14          Rv0878c     1315     del  frameshift       439      ...         \n",
       "15           Rv2931     2420     ins  frameshift       807      ...         \n",
       "16          Rv2330c       67     del     inframe        23      ...         \n",
       "17          Rv1269c       91     ins  frameshift        31      ...         \n",
       "18          Rv1759c      255     ins  frameshift        85      ...         \n",
       "19          Rv3696c      573     ins  frameshift       191      ...         \n",
       "20    Rv1196_Rv1197     None     del  frameshift      None      ...         \n",
       "21          Rv3093c      620     ins  frameshift       207      ...         \n",
       "22          Rv2081c      312     ins  frameshift       104      ...         \n",
       "23   Rv1148c_Rv1149     None     ins  frameshift      None      ...         \n",
       "24  Rv0759c_Rv0760c     None     del  frameshift      None      ...         \n",
       "25    Rv3848_Rv3849     None     ins  frameshift      None      ...         \n",
       "26   Rv3212_Rv3213c     None     ins  frameshift      None      ...         \n",
       "27          Rv3919c      103     del  frameshift        35      ...         \n",
       "28           Rv0071       19     del     inframe         7      ...         \n",
       "29          Rv0878c     1308     del  frameshift       436      ...         \n",
       "\n",
       "        2      3     4A     4B     4C     5    6   total  num_isolates  \\\n",
       "0   377.0  183.0  351.0  367.0   88.0   5.0  5.0  1534.0          5093   \n",
       "1   306.0  205.0  288.0  313.0  210.0  11.0  5.0  1488.0         12599   \n",
       "2   345.0  118.0  275.0  302.0  147.0   3.0  3.0  1331.0          2943   \n",
       "3   278.0  185.0  261.0  287.0    1.0   5.0  4.0  1155.0         12566   \n",
       "4   361.0  139.0  249.0  173.0  156.0   0.0  0.0  1126.0          3745   \n",
       "5   195.0   65.0  129.0  124.0  104.0   0.0  1.0   674.0         16070   \n",
       "6   313.0  197.0    0.0    0.0    1.0   9.0  0.0   649.0          6145   \n",
       "7   247.0   50.0  101.0   87.0   52.0   0.0  0.0   556.0           894   \n",
       "8    97.0   81.0   94.0   53.0   90.0   0.0  1.0   438.0          3246   \n",
       "9    90.0   54.0   82.0   67.0   73.0   1.0  6.0   427.0          3139   \n",
       "10  300.0   66.0    1.0    0.0    1.0   5.0  4.0   427.0          8059   \n",
       "11  111.0   28.0   49.0  116.0   51.0   5.0  1.0   401.0         21397   \n",
       "12  272.0    0.0    0.0    0.0    0.0   6.0  5.0   397.0          2238   \n",
       "13  393.0    1.0    0.0    0.0    0.0   0.0  0.0   394.0          2651   \n",
       "14   54.0   31.0   54.0   88.0   67.0   4.0  6.0   371.0          1395   \n",
       "15   90.0   12.0   66.0   79.0   38.0   1.0  3.0   324.0           469   \n",
       "16    7.0  185.0   20.0    8.0   62.0   0.0  0.0   321.0           669   \n",
       "17  311.0    0.0    0.0    0.0    0.0   0.0  0.0   311.0          1929   \n",
       "18    1.0   56.0   85.0   66.0   35.0   4.0  2.0   308.0          1926   \n",
       "19   71.0   18.0   34.0   76.0   16.0   2.0  8.0   261.0           362   \n",
       "20   14.0  119.0   25.0   41.0   30.0   0.0  0.0   238.0          1585   \n",
       "21    0.0    0.0  232.0    1.0    3.0   0.0  0.0   236.0          1864   \n",
       "22  126.0    2.0   36.0   52.0   18.0   0.0  0.0   235.0           803   \n",
       "23   88.0    1.0   22.0   58.0   56.0   0.0  3.0   229.0         18450   \n",
       "24   38.0   12.0   50.0   70.0   28.0   0.0  3.0   224.0         24707   \n",
       "25   99.0   14.0    6.0   40.0   21.0   0.0  3.0   214.0           690   \n",
       "26   73.0   14.0   22.0   52.0   17.0   1.0  1.0   210.0         21953   \n",
       "27   27.0   51.0   43.0   11.0   29.0   0.0  0.0   202.0           388   \n",
       "28    0.0    0.0    4.0  164.0   22.0   4.0  0.0   194.0           577   \n",
       "29   19.0   19.0   17.0   50.0   32.0   1.0  2.0   188.0          3551   \n",
       "\n",
       "    repeat_region  \n",
       "0              no  \n",
       "1              no  \n",
       "2              no  \n",
       "3              no  \n",
       "4              HT  \n",
       "5              no  \n",
       "6              no  \n",
       "7              HT  \n",
       "8              HT  \n",
       "9              HT  \n",
       "10             no  \n",
       "11             no  \n",
       "12            SSR  \n",
       "13             no  \n",
       "14             HT  \n",
       "15            SSR  \n",
       "16             no  \n",
       "17             no  \n",
       "18             HT  \n",
       "19             HT  \n",
       "20             no  \n",
       "21             no  \n",
       "22             HT  \n",
       "23             no  \n",
       "24             HT  \n",
       "25             HT  \n",
       "26             no  \n",
       "27             no  \n",
       "28             no  \n",
       "29             HT  \n",
       "\n",
       "[30 rows x 23 columns]"
      ]
     },
     "execution_count": 77,
     "metadata": {},
     "output_type": "execute_result"
    }
   ],
   "source": [
    "subset_homoplasic_INDELs.head(n=30)"
   ]
  },
  {
   "cell_type": "markdown",
   "metadata": {},
   "source": [
    "### [7.2.1] Split subsetted homoplasic INDEL variants into different functional types"
   ]
  },
  {
   "cell_type": "code",
   "execution_count": 78,
   "metadata": {},
   "outputs": [
    {
     "data": {
      "text/plain": [
       "(655, 23)"
      ]
     },
     "execution_count": 78,
     "metadata": {},
     "output_type": "execute_result"
    }
   ],
   "source": [
    "np.shape(subset_homoplasic_INDELs)"
   ]
  },
  {
   "cell_type": "markdown",
   "metadata": {},
   "source": [
    "#### Different indel types"
   ]
  },
  {
   "cell_type": "code",
   "execution_count": 79,
   "metadata": {},
   "outputs": [
    {
     "data": {
      "text/plain": [
       "{'frameshift', 'inframe'}"
      ]
     },
     "execution_count": 79,
     "metadata": {},
     "output_type": "execute_result"
    }
   ],
   "source": [
    "set(subset_homoplasic_INDELs.INDEL_type)"
   ]
  },
  {
   "cell_type": "code",
   "execution_count": 80,
   "metadata": {},
   "outputs": [
    {
     "data": {
      "text/plain": [
       "{'RNA',\n",
       " 'elongation - appears after annotated stop',\n",
       " 'intergenic',\n",
       " 'no change',\n",
       " 'premature stop - first 3/4',\n",
       " 'premature stop - last 1/4'}"
      ]
     },
     "execution_count": 80,
     "metadata": {},
     "output_type": "execute_result"
    }
   ],
   "source": [
    "set(subset_homoplasic_INDELs.stop_codon)"
   ]
  },
  {
   "cell_type": "markdown",
   "metadata": {},
   "source": [
    "**frameshifts**"
   ]
  },
  {
   "cell_type": "code",
   "execution_count": 81,
   "metadata": {},
   "outputs": [
    {
     "data": {
      "text/plain": [
       "(352, 23)"
      ]
     },
     "execution_count": 81,
     "metadata": {},
     "output_type": "execute_result"
    }
   ],
   "source": [
    "subset_homoplasic_INDELs_frameshift = subset_homoplasic_INDELs[(subset_homoplasic_INDELs.INDEL_type == 'frameshift')&(subset_homoplasic_INDELs.stop_codon != 'intergenic')&(subset_homoplasic_INDELs.stop_codon != 'RNA')]\n",
    "np.shape(subset_homoplasic_INDELs_frameshift)"
   ]
  },
  {
   "cell_type": "markdown",
   "metadata": {},
   "source": [
    "**frameshifts** that occurred in HT"
   ]
  },
  {
   "cell_type": "code",
   "execution_count": 86,
   "metadata": {},
   "outputs": [
    {
     "data": {
      "text/plain": [
       "(94, 23)"
      ]
     },
     "execution_count": 86,
     "metadata": {},
     "output_type": "execute_result"
    }
   ],
   "source": [
    "subset_homoplasic_INDELs_frameshift[subset_homoplasic_INDELs_frameshift.repeat_region == 'HT'].shape"
   ]
  },
  {
   "cell_type": "markdown",
   "metadata": {},
   "source": [
    "**in-frame**"
   ]
  },
  {
   "cell_type": "code",
   "execution_count": 73,
   "metadata": {},
   "outputs": [
    {
     "data": {
      "text/plain": [
       "(136, 23)"
      ]
     },
     "execution_count": 73,
     "metadata": {},
     "output_type": "execute_result"
    }
   ],
   "source": [
    "subset_homoplasic_INDELs_inframe = subset_homoplasic_INDELs[(subset_homoplasic_INDELs.INDEL_type == 'inframe')&(subset_homoplasic_INDELs.stop_codon != 'intergenic')&(subset_homoplasic_INDELs.stop_codon != 'RNA')]\n",
    "np.shape(subset_homoplasic_INDELs_inframe)"
   ]
  },
  {
   "cell_type": "markdown",
   "metadata": {},
   "source": [
    "**intergenic**"
   ]
  },
  {
   "cell_type": "code",
   "execution_count": 74,
   "metadata": {},
   "outputs": [
    {
     "data": {
      "text/plain": [
       "(162, 23)"
      ]
     },
     "execution_count": 74,
     "metadata": {},
     "output_type": "execute_result"
    }
   ],
   "source": [
    "subset_homoplasic_INDELs_intergenic = subset_homoplasic_INDELs[subset_homoplasic_INDELs.stop_codon == 'intergenic']\n",
    "np.shape(subset_homoplasic_INDELs_intergenic)"
   ]
  },
  {
   "cell_type": "markdown",
   "metadata": {},
   "source": [
    "**ncRNA**"
   ]
  },
  {
   "cell_type": "code",
   "execution_count": 75,
   "metadata": {},
   "outputs": [
    {
     "data": {
      "text/plain": [
       "(5, 23)"
      ]
     },
     "execution_count": 75,
     "metadata": {},
     "output_type": "execute_result"
    }
   ],
   "source": [
    "subset_homoplasic_INDELs_ncRNA = subset_homoplasic_INDELs[subset_homoplasic_INDELs.stop_codon == 'RNA']\n",
    "np.shape(subset_homoplasic_INDELs_ncRNA)"
   ]
  },
  {
   "cell_type": "code",
   "execution_count": 76,
   "metadata": {},
   "outputs": [
    {
     "data": {
      "text/html": [
       "<div>\n",
       "<style>\n",
       "    .dataframe thead tr:only-child th {\n",
       "        text-align: right;\n",
       "    }\n",
       "\n",
       "    .dataframe thead th {\n",
       "        text-align: left;\n",
       "    }\n",
       "\n",
       "    .dataframe tbody tr th {\n",
       "        vertical-align: top;\n",
       "    }\n",
       "</style>\n",
       "<table border=\"1\" class=\"dataframe\">\n",
       "  <thead>\n",
       "    <tr style=\"text-align: right;\">\n",
       "      <th></th>\n",
       "      <th>pos</th>\n",
       "      <th>ref</th>\n",
       "      <th>alt</th>\n",
       "      <th>gene_category</th>\n",
       "      <th>gene_name</th>\n",
       "      <th>gene_id</th>\n",
       "      <th>gene_pos</th>\n",
       "      <th>ins_del</th>\n",
       "      <th>INDEL_type</th>\n",
       "      <th>codon_pos</th>\n",
       "      <th>...</th>\n",
       "      <th>2</th>\n",
       "      <th>3</th>\n",
       "      <th>4A</th>\n",
       "      <th>4B</th>\n",
       "      <th>4C</th>\n",
       "      <th>5</th>\n",
       "      <th>6</th>\n",
       "      <th>total</th>\n",
       "      <th>num_isolates</th>\n",
       "      <th>repeat_region</th>\n",
       "    </tr>\n",
       "  </thead>\n",
       "  <tbody>\n",
       "    <tr>\n",
       "      <th>54</th>\n",
       "      <td>4099402</td>\n",
       "      <td>A</td>\n",
       "      <td>AG</td>\n",
       "      <td>None</td>\n",
       "      <td>Rv3660c_Rv3661</td>\n",
       "      <td>Rv3660c_Rv3661</td>\n",
       "      <td>None</td>\n",
       "      <td>ins</td>\n",
       "      <td>frameshift</td>\n",
       "      <td>None</td>\n",
       "      <td>...</td>\n",
       "      <td>38.0</td>\n",
       "      <td>10.0</td>\n",
       "      <td>15.0</td>\n",
       "      <td>14.0</td>\n",
       "      <td>16.0</td>\n",
       "      <td>3.0</td>\n",
       "      <td>6.0</td>\n",
       "      <td>113.0</td>\n",
       "      <td>434</td>\n",
       "      <td>HT</td>\n",
       "    </tr>\n",
       "    <tr>\n",
       "      <th>128</th>\n",
       "      <td>4099402</td>\n",
       "      <td>AG</td>\n",
       "      <td>A</td>\n",
       "      <td>None</td>\n",
       "      <td>Rv3660c_Rv3661</td>\n",
       "      <td>Rv3660c_Rv3661</td>\n",
       "      <td>None</td>\n",
       "      <td>del</td>\n",
       "      <td>frameshift</td>\n",
       "      <td>None</td>\n",
       "      <td>...</td>\n",
       "      <td>3.0</td>\n",
       "      <td>4.0</td>\n",
       "      <td>3.0</td>\n",
       "      <td>6.0</td>\n",
       "      <td>10.0</td>\n",
       "      <td>0.0</td>\n",
       "      <td>0.0</td>\n",
       "      <td>43.0</td>\n",
       "      <td>209</td>\n",
       "      <td>HT</td>\n",
       "    </tr>\n",
       "    <tr>\n",
       "      <th>360</th>\n",
       "      <td>293628</td>\n",
       "      <td>A</td>\n",
       "      <td>AC</td>\n",
       "      <td>None</td>\n",
       "      <td>fadA2_fadE5</td>\n",
       "      <td>Rv0243_Rv0244c</td>\n",
       "      <td>None</td>\n",
       "      <td>ins</td>\n",
       "      <td>frameshift</td>\n",
       "      <td>None</td>\n",
       "      <td>...</td>\n",
       "      <td>4.0</td>\n",
       "      <td>3.0</td>\n",
       "      <td>1.0</td>\n",
       "      <td>0.0</td>\n",
       "      <td>1.0</td>\n",
       "      <td>3.0</td>\n",
       "      <td>1.0</td>\n",
       "      <td>14.0</td>\n",
       "      <td>18911</td>\n",
       "      <td>no</td>\n",
       "    </tr>\n",
       "    <tr>\n",
       "      <th>465</th>\n",
       "      <td>1413129</td>\n",
       "      <td>CG</td>\n",
       "      <td>C</td>\n",
       "      <td>None</td>\n",
       "      <td>Rv1264_Rv1265</td>\n",
       "      <td>Rv1264_Rv1265</td>\n",
       "      <td>None</td>\n",
       "      <td>del</td>\n",
       "      <td>frameshift</td>\n",
       "      <td>None</td>\n",
       "      <td>...</td>\n",
       "      <td>5.0</td>\n",
       "      <td>1.0</td>\n",
       "      <td>0.0</td>\n",
       "      <td>1.0</td>\n",
       "      <td>2.0</td>\n",
       "      <td>0.0</td>\n",
       "      <td>0.0</td>\n",
       "      <td>9.0</td>\n",
       "      <td>7588</td>\n",
       "      <td>no</td>\n",
       "    </tr>\n",
       "    <tr>\n",
       "      <th>475</th>\n",
       "      <td>293628</td>\n",
       "      <td>A</td>\n",
       "      <td>ACC</td>\n",
       "      <td>None</td>\n",
       "      <td>fadA2_fadE5</td>\n",
       "      <td>Rv0243_Rv0244c</td>\n",
       "      <td>None</td>\n",
       "      <td>ins</td>\n",
       "      <td>frameshift</td>\n",
       "      <td>None</td>\n",
       "      <td>...</td>\n",
       "      <td>4.0</td>\n",
       "      <td>1.0</td>\n",
       "      <td>4.0</td>\n",
       "      <td>0.0</td>\n",
       "      <td>0.0</td>\n",
       "      <td>0.0</td>\n",
       "      <td>0.0</td>\n",
       "      <td>9.0</td>\n",
       "      <td>36</td>\n",
       "      <td>no</td>\n",
       "    </tr>\n",
       "  </tbody>\n",
       "</table>\n",
       "<p>5 rows × 23 columns</p>\n",
       "</div>"
      ],
      "text/plain": [
       "         pos ref  alt gene_category       gene_name         gene_id gene_pos  \\\n",
       "54   4099402   A   AG          None  Rv3660c_Rv3661  Rv3660c_Rv3661     None   \n",
       "128  4099402  AG    A          None  Rv3660c_Rv3661  Rv3660c_Rv3661     None   \n",
       "360   293628   A   AC          None     fadA2_fadE5  Rv0243_Rv0244c     None   \n",
       "465  1413129  CG    C          None   Rv1264_Rv1265   Rv1264_Rv1265     None   \n",
       "475   293628   A  ACC          None     fadA2_fadE5  Rv0243_Rv0244c     None   \n",
       "\n",
       "    ins_del  INDEL_type codon_pos      ...           2     3    4A    4B  \\\n",
       "54      ins  frameshift      None      ...        38.0  10.0  15.0  14.0   \n",
       "128     del  frameshift      None      ...         3.0   4.0   3.0   6.0   \n",
       "360     ins  frameshift      None      ...         4.0   3.0   1.0   0.0   \n",
       "465     del  frameshift      None      ...         5.0   1.0   0.0   1.0   \n",
       "475     ins  frameshift      None      ...         4.0   1.0   4.0   0.0   \n",
       "\n",
       "       4C    5    6  total  num_isolates  repeat_region  \n",
       "54   16.0  3.0  6.0  113.0           434             HT  \n",
       "128  10.0  0.0  0.0   43.0           209             HT  \n",
       "360   1.0  3.0  1.0   14.0         18911             no  \n",
       "465   2.0  0.0  0.0    9.0          7588             no  \n",
       "475   0.0  0.0  0.0    9.0            36             no  \n",
       "\n",
       "[5 rows x 23 columns]"
      ]
     },
     "execution_count": 76,
     "metadata": {},
     "output_type": "execute_result"
    }
   ],
   "source": [
    "subset_homoplasic_INDELs_ncRNA"
   ]
  },
  {
   "cell_type": "markdown",
   "metadata": {},
   "source": [
    "### [7.2.2] Split subsetted homoplasic INDEL variants into whether they occurred in *HT*, *SSR* or *non-repeat* region of the genome"
   ]
  },
  {
   "cell_type": "markdown",
   "metadata": {},
   "source": [
    "**HT**"
   ]
  },
  {
   "cell_type": "code",
   "execution_count": 77,
   "metadata": {},
   "outputs": [
    {
     "data": {
      "text/plain": [
       "(132, 23)"
      ]
     },
     "execution_count": 77,
     "metadata": {},
     "output_type": "execute_result"
    }
   ],
   "source": [
    "subset_homoplasic_INDELs_HT = subset_homoplasic_INDELs[(subset_homoplasic_INDELs.repeat_region == 'HT')]\n",
    "np.shape(subset_homoplasic_INDELs_HT)"
   ]
  },
  {
   "cell_type": "markdown",
   "metadata": {},
   "source": [
    "**SSR**"
   ]
  },
  {
   "cell_type": "code",
   "execution_count": 78,
   "metadata": {},
   "outputs": [
    {
     "data": {
      "text/plain": [
       "(92, 23)"
      ]
     },
     "execution_count": 78,
     "metadata": {},
     "output_type": "execute_result"
    }
   ],
   "source": [
    "subset_homoplasic_INDELs_SSR = subset_homoplasic_INDELs[(subset_homoplasic_INDELs.repeat_region == 'SSR')]\n",
    "np.shape(subset_homoplasic_INDELs_SSR)"
   ]
  },
  {
   "cell_type": "markdown",
   "metadata": {},
   "source": [
    "**non-repeat**"
   ]
  },
  {
   "cell_type": "code",
   "execution_count": 79,
   "metadata": {},
   "outputs": [
    {
     "data": {
      "text/plain": [
       "(431, 23)"
      ]
     },
     "execution_count": 79,
     "metadata": {},
     "output_type": "execute_result"
    }
   ],
   "source": [
    "subset_homoplasic_INDELs_non_repeat = subset_homoplasic_INDELs[(subset_homoplasic_INDELs.repeat_region == 'no')]\n",
    "np.shape(subset_homoplasic_INDELs_non_repeat)"
   ]
  },
  {
   "cell_type": "markdown",
   "metadata": {},
   "source": [
    "### [7.2.3] Split subsetted homoplasic INDEL variants into whether they occurred in *AR* loci or not"
   ]
  },
  {
   "cell_type": "markdown",
   "metadata": {},
   "source": [
    "**Antibiotic Resistance**"
   ]
  },
  {
   "cell_type": "code",
   "execution_count": 80,
   "metadata": {},
   "outputs": [
    {
     "data": {
      "text/plain": [
       "(16, 23)"
      ]
     },
     "execution_count": 80,
     "metadata": {},
     "output_type": "execute_result"
    }
   ],
   "source": [
    "subset_homoplasic_INDELs_AR = subset_homoplasic_INDELs[subset_homoplasic_INDELs.gene_category == 'Antibiotic Resistance']\n",
    "np.shape(subset_homoplasic_INDELs_AR)"
   ]
  },
  {
   "cell_type": "markdown",
   "metadata": {},
   "source": [
    "**not Antibiotic Resistance**"
   ]
  },
  {
   "cell_type": "code",
   "execution_count": 81,
   "metadata": {},
   "outputs": [
    {
     "data": {
      "text/plain": [
       "(639, 23)"
      ]
     },
     "execution_count": 81,
     "metadata": {},
     "output_type": "execute_result"
    }
   ],
   "source": [
    "subset_homoplasic_INDELs_non_AR = subset_homoplasic_INDELs[subset_homoplasic_INDELs.gene_category != 'Antibiotic Resistance']\n",
    "np.shape(subset_homoplasic_INDELs_non_AR)"
   ]
  },
  {
   "cell_type": "markdown",
   "metadata": {},
   "source": [
    "### [7.2.4] Brief analysis of INDELs in HT and non-HT regions (AR vs. non-AR mutations)"
   ]
  },
  {
   "cell_type": "markdown",
   "metadata": {},
   "source": [
    "Fisher Exact test for **AR** variants in top 30 Hs for SNPs and INDELs\n",
    "- 13 / 30 SNPs **AR**\n",
    "- 3 / 30 INDELs **AR**"
   ]
  },
  {
   "cell_type": "code",
   "execution_count": 101,
   "metadata": {},
   "outputs": [],
   "source": [
    "import scipy.stats as stats\n",
    "\n",
    "data = [[13, 3],\n",
    "         [17, 27]]\n",
    "\n",
    "FE_results = stats.fisher_exact(data)"
   ]
  },
  {
   "cell_type": "code",
   "execution_count": 102,
   "metadata": {},
   "outputs": [
    {
     "data": {
      "text/plain": [
       "6.882352941176471"
      ]
     },
     "execution_count": 102,
     "metadata": {},
     "output_type": "execute_result"
    }
   ],
   "source": [
    "FE_results[0]"
   ]
  },
  {
   "cell_type": "code",
   "execution_count": 103,
   "metadata": {},
   "outputs": [
    {
     "data": {
      "text/plain": [
       "0.0074097830383369565"
      ]
     },
     "execution_count": 103,
     "metadata": {},
     "output_type": "execute_result"
    }
   ],
   "source": [
    "FE_results[1]"
   ]
  },
  {
   "cell_type": "markdown",
   "metadata": {},
   "source": [
    "##### split between HT vs non-HT INDELs"
   ]
  },
  {
   "cell_type": "code",
   "execution_count": 82,
   "metadata": {},
   "outputs": [
    {
     "data": {
      "text/plain": [
       "(132, 23)"
      ]
     },
     "execution_count": 82,
     "metadata": {},
     "output_type": "execute_result"
    }
   ],
   "source": [
    "subset_homoplasic_INDELs_HT.shape"
   ]
  },
  {
   "cell_type": "code",
   "execution_count": 84,
   "metadata": {},
   "outputs": [
    {
     "data": {
      "text/plain": [
       "(523, 23)"
      ]
     },
     "execution_count": 84,
     "metadata": {},
     "output_type": "execute_result"
    }
   ],
   "source": [
    "subset_homoplasic_INDELs_non_HT = pd.concat([subset_homoplasic_INDELs_SSR, subset_homoplasic_INDELs_non_repeat])\n",
    "subset_homoplasic_INDELs_non_HT.shape"
   ]
  },
  {
   "cell_type": "markdown",
   "metadata": {},
   "source": [
    "##### how many HT INDELs are AR?"
   ]
  },
  {
   "cell_type": "code",
   "execution_count": 87,
   "metadata": {},
   "outputs": [
    {
     "data": {
      "text/plain": [
       "(2, 23)"
      ]
     },
     "execution_count": 87,
     "metadata": {},
     "output_type": "execute_result"
    }
   ],
   "source": [
    "np.shape(subset_homoplasic_INDELs_HT[subset_homoplasic_INDELs_HT.gene_category == 'Antibiotic Resistance'])"
   ]
  },
  {
   "cell_type": "code",
   "execution_count": 88,
   "metadata": {},
   "outputs": [
    {
     "data": {
      "text/plain": [
       "(130, 23)"
      ]
     },
     "execution_count": 88,
     "metadata": {},
     "output_type": "execute_result"
    }
   ],
   "source": [
    "np.shape(subset_homoplasic_INDELs_HT[subset_homoplasic_INDELs_HT.gene_category != 'Antibiotic Resistance'])"
   ]
  },
  {
   "cell_type": "markdown",
   "metadata": {},
   "source": [
    "##### how many non-HT INDELs are AR?"
   ]
  },
  {
   "cell_type": "code",
   "execution_count": 89,
   "metadata": {},
   "outputs": [
    {
     "data": {
      "text/plain": [
       "(14, 23)"
      ]
     },
     "execution_count": 89,
     "metadata": {},
     "output_type": "execute_result"
    }
   ],
   "source": [
    "np.shape(subset_homoplasic_INDELs_non_HT[subset_homoplasic_INDELs_non_HT.gene_category == 'Antibiotic Resistance'])"
   ]
  },
  {
   "cell_type": "code",
   "execution_count": 90,
   "metadata": {},
   "outputs": [
    {
     "data": {
      "text/plain": [
       "(509, 23)"
      ]
     },
     "execution_count": 90,
     "metadata": {},
     "output_type": "execute_result"
    }
   ],
   "source": [
    "np.shape(subset_homoplasic_INDELs_non_HT[subset_homoplasic_INDELs_non_HT.gene_category != 'Antibiotic Resistance'])"
   ]
  },
  {
   "cell_type": "markdown",
   "metadata": {},
   "source": [
    "##### how many SNVs are AR?"
   ]
  },
  {
   "cell_type": "code",
   "execution_count": 91,
   "metadata": {},
   "outputs": [
    {
     "data": {
      "text/plain": [
       "(162, 20)"
      ]
     },
     "execution_count": 91,
     "metadata": {},
     "output_type": "execute_result"
    }
   ],
   "source": [
    "subset_homoplasic_SNPs_AR.shape"
   ]
  },
  {
   "cell_type": "code",
   "execution_count": 93,
   "metadata": {},
   "outputs": [
    {
     "data": {
      "text/plain": [
       "(1363, 20)"
      ]
     },
     "execution_count": 93,
     "metadata": {},
     "output_type": "execute_result"
    }
   ],
   "source": [
    "subset_homoplasic_SNPs_non_AR.shape"
   ]
  },
  {
   "cell_type": "markdown",
   "metadata": {},
   "source": [
    "Fisher Exact test for **AR** for SNPs and non-HT INDELs\n",
    "- 162 / 1525 SNPs **AR**\n",
    "- 14 / 523 non-HT INDELs **AR**"
   ]
  },
  {
   "cell_type": "code",
   "execution_count": 105,
   "metadata": {},
   "outputs": [],
   "source": [
    "import scipy.stats as stats\n",
    "\n",
    "data = [[162, 1393],\n",
    "         [14, 509]]\n",
    "\n",
    "FE_results = stats.fisher_exact(data)"
   ]
  },
  {
   "cell_type": "code",
   "execution_count": 106,
   "metadata": {},
   "outputs": [
    {
     "data": {
      "text/plain": [
       "4.228181724951287"
      ]
     },
     "execution_count": 106,
     "metadata": {},
     "output_type": "execute_result"
    }
   ],
   "source": [
    "FE_results[0]"
   ]
  },
  {
   "cell_type": "code",
   "execution_count": 107,
   "metadata": {},
   "outputs": [
    {
     "data": {
      "text/plain": [
       "1.8601894415000029e-09"
      ]
     },
     "execution_count": 107,
     "metadata": {},
     "output_type": "execute_result"
    }
   ],
   "source": [
    "FE_results[1]"
   ]
  },
  {
   "cell_type": "markdown",
   "metadata": {},
   "source": [
    "## [7.3] Load homopolymeric tract positions"
   ]
  },
  {
   "cell_type": "code",
   "execution_count": 80,
   "metadata": {},
   "outputs": [],
   "source": [
    "homopolymeric_tract_df = pd.read_excel('/n/data1/hms/dbmi/farhat/Roger/homoplasy_project/CSV_files/for publication/TopDis_INDEL_homoplasy_count_aggregated_by_homopolymer_region.xlsx')"
   ]
  },
  {
   "cell_type": "code",
   "execution_count": 81,
   "metadata": {},
   "outputs": [
    {
     "data": {
      "text/html": [
       "<div>\n",
       "<style>\n",
       "    .dataframe thead tr:only-child th {\n",
       "        text-align: right;\n",
       "    }\n",
       "\n",
       "    .dataframe thead th {\n",
       "        text-align: left;\n",
       "    }\n",
       "\n",
       "    .dataframe tbody tr th {\n",
       "        vertical-align: top;\n",
       "    }\n",
       "</style>\n",
       "<table border=\"1\" class=\"dataframe\">\n",
       "  <thead>\n",
       "    <tr style=\"text-align: right;\">\n",
       "      <th></th>\n",
       "      <th>Chromosome</th>\n",
       "      <th>chromStart</th>\n",
       "      <th>chromEnd</th>\n",
       "      <th>polyNT</th>\n",
       "      <th>locus_tag</th>\n",
       "      <th>gene_name</th>\n",
       "      <th>INDEL_homoplasy</th>\n",
       "      <th>num_isolates_with_INDEL</th>\n",
       "    </tr>\n",
       "  </thead>\n",
       "  <tbody>\n",
       "    <tr>\n",
       "      <th>0</th>\n",
       "      <td>NC_000962.3</td>\n",
       "      <td>976897</td>\n",
       "      <td>976906</td>\n",
       "      <td>GGGGGGGGG</td>\n",
       "      <td>Rv0878c</td>\n",
       "      <td>PPE13</td>\n",
       "      <td>2317</td>\n",
       "      <td>8351</td>\n",
       "    </tr>\n",
       "    <tr>\n",
       "      <th>1</th>\n",
       "      <td>NC_000962.3</td>\n",
       "      <td>854252</td>\n",
       "      <td>854261</td>\n",
       "      <td>CCCCCCCCC</td>\n",
       "      <td>inter_Rv0759c_Rv0760c</td>\n",
       "      <td>inter_Rv0759c_Rv0760c</td>\n",
       "      <td>776</td>\n",
       "      <td>28077</td>\n",
       "    </tr>\n",
       "    <tr>\n",
       "      <th>2</th>\n",
       "      <td>NC_000962.3</td>\n",
       "      <td>976889</td>\n",
       "      <td>976896</td>\n",
       "      <td>TTTTTTTT</td>\n",
       "      <td>Rv0878c</td>\n",
       "      <td>PPE13</td>\n",
       "      <td>771</td>\n",
       "      <td>5641</td>\n",
       "    </tr>\n",
       "    <tr>\n",
       "      <th>3</th>\n",
       "      <td>NC_000962.3</td>\n",
       "      <td>1992323</td>\n",
       "      <td>1992331</td>\n",
       "      <td>CCCCCCCC</td>\n",
       "      <td>Rv1759c</td>\n",
       "      <td>wag22</td>\n",
       "      <td>578</td>\n",
       "      <td>4052</td>\n",
       "    </tr>\n",
       "    <tr>\n",
       "      <th>4</th>\n",
       "      <td>NC_000962.3</td>\n",
       "      <td>2338194</td>\n",
       "      <td>2338202</td>\n",
       "      <td>CCCCCCCC</td>\n",
       "      <td>Rv2081c</td>\n",
       "      <td>Rv2081c</td>\n",
       "      <td>360</td>\n",
       "      <td>4596</td>\n",
       "    </tr>\n",
       "  </tbody>\n",
       "</table>\n",
       "</div>"
      ],
      "text/plain": [
       "    Chromosome  chromStart  chromEnd     polyNT              locus_tag  \\\n",
       "0  NC_000962.3      976897    976906  GGGGGGGGG                Rv0878c   \n",
       "1  NC_000962.3      854252    854261  CCCCCCCCC  inter_Rv0759c_Rv0760c   \n",
       "2  NC_000962.3      976889    976896   TTTTTTTT                Rv0878c   \n",
       "3  NC_000962.3     1992323   1992331   CCCCCCCC                Rv1759c   \n",
       "4  NC_000962.3     2338194   2338202   CCCCCCCC                Rv2081c   \n",
       "\n",
       "               gene_name  INDEL_homoplasy  num_isolates_with_INDEL  \n",
       "0                  PPE13             2317                     8351  \n",
       "1  inter_Rv0759c_Rv0760c              776                    28077  \n",
       "2                  PPE13              771                     5641  \n",
       "3                  wag22              578                     4052  \n",
       "4                Rv2081c              360                     4596  "
      ]
     },
     "execution_count": 81,
     "metadata": {},
     "output_type": "execute_result"
    }
   ],
   "source": [
    "homopolymeric_tract_df.head()"
   ]
  },
  {
   "cell_type": "markdown",
   "metadata": {},
   "source": [
    "Subset HTs by those that pass threshold from simulations"
   ]
  },
  {
   "cell_type": "code",
   "execution_count": 82,
   "metadata": {},
   "outputs": [],
   "source": [
    "homopolymeric_tract_df = homopolymeric_tract_df[homopolymeric_tract_df.INDEL_homoplasy >= 45]\n",
    "homopolymeric_tract_df.reset_index(inplace = True, drop = True)"
   ]
  },
  {
   "cell_type": "code",
   "execution_count": 83,
   "metadata": {},
   "outputs": [
    {
     "data": {
      "text/plain": [
       "(45, 8)"
      ]
     },
     "execution_count": 83,
     "metadata": {},
     "output_type": "execute_result"
    }
   ],
   "source": [
    "np.shape(homopolymeric_tract_df)"
   ]
  },
  {
   "cell_type": "markdown",
   "metadata": {},
   "source": [
    "## [7.4] Manhattan Plot with INDEL broken down by HT, SSR or non-repeat region"
   ]
  },
  {
   "cell_type": "code",
   "execution_count": 84,
   "metadata": {},
   "outputs": [],
   "source": [
    "## fig , ax = plt.subplots()\n",
    "def fig_manhattan_region_C(ax):\n",
    "    \n",
    "    #plot vertical lines where the homopolymer regions with lots of indels occur\n",
    "    for homopolymer_i_start, homopolymer_i_end in zip(homopolymeric_tract_df.chromStart, homopolymeric_tract_df.chromEnd):\n",
    "\n",
    "        #plot the average of the H37Rv start/end positions of the homopolymer\n",
    "        ax.axvline(x=int((homopolymer_i_start + homopolymer_i_end )/2.0) , color = 'blue' , alpha = 0.35 , zorder = 0 , linewidth = 0.75)\n",
    "\n",
    "    # initial point size, scaling size & transparency\n",
    "    init_pt = 6\n",
    "    scale_pt = 0.045\n",
    "    alpha_pt = 0.95\n",
    "    edge_linewidth = 0.35\n",
    "    edge_color_pt = '0.4'\n",
    "\n",
    "    # SNPs\n",
    "    ax.scatter(subset_homoplasic_SNPs.pos , subset_homoplasic_SNPs.total , color = 'xkcd:black' , edgecolor=edge_color_pt, linewidth=edge_linewidth, s = [init_pt + (scale_pt+0.07)*SNP_i_homoplasy_score for SNP_i_homoplasy_score in subset_homoplasic_SNPs.total] , alpha = alpha_pt, zorder = 1)\n",
    "\n",
    "    # INDELs\n",
    "    ax.scatter(subset_homoplasic_INDELs_HT.pos , subset_homoplasic_INDELs_HT.total , color = 'xkcd:blue' , edgecolor=edge_color_pt, linewidth=edge_linewidth, s = [init_pt + scale_pt*INDEL_i_homoplasy_score for INDEL_i_homoplasy_score in subset_homoplasic_INDELs_HT.total] , alpha = alpha_pt, zorder = 2, marker = 'D')\n",
    "    ax.scatter(subset_homoplasic_INDELs_SSR.pos , subset_homoplasic_INDELs_SSR.total , color = 'xkcd:orange' , edgecolor=edge_color_pt, linewidth=edge_linewidth, s = [init_pt + scale_pt*INDEL_i_homoplasy_score for INDEL_i_homoplasy_score in subset_homoplasic_INDELs_SSR.total] , alpha = alpha_pt, zorder = 3, marker = 'D')\n",
    "    ax.scatter(subset_homoplasic_INDELs_non_repeat.pos , subset_homoplasic_INDELs_non_repeat.total , color = 'xkcd:black' , edgecolor=edge_color_pt, linewidth=edge_linewidth, s = [init_pt + scale_pt*INDEL_i_homoplasy_score for INDEL_i_homoplasy_score in subset_homoplasic_INDELs_non_repeat.total] , alpha = alpha_pt, zorder = 1, marker = 'D')\n",
    "\n",
    "    ax.set_xlabel('H37Rv Reference Position', fontsize = 10, color = 'k', labelpad = 1)\n",
    "    ax.set_ylabel('Hs', fontsize = 10, color = 'k', labelpad = 1)\n",
    "\n",
    "    ax.spines['right'].set_visible(False)\n",
    "    ax.spines['top'].set_visible(False)\n",
    "    ax.grid(False)\n",
    "    ax.set_xlim(-40000, 4450000)\n",
    "    ax.set_ylim( -10, np.max([subset_homoplasic_SNPs.total.max(), int(subset_homoplasic_INDELs.total.max())]) + 65 )\n",
    "    ax.tick_params(labelcolor = 'k')\n",
    "\n",
    "    ax.tick_params(axis='y', which='major', labelsize=10 , labelcolor = 'k')\n",
    "    ax.tick_params(axis='x', which='major', labelsize=10 , labelcolor = 'k')\n",
    "\n",
    "    #create legend\n",
    "    SNV = 'xkcd:black'\n",
    "    INDEL_HT = 'xkcd:blue'\n",
    "    INDEL_SSR = 'xkcd:orange'\n",
    "    INDEL_non_repeat = 'xkcd:black'\n",
    "    HT_region = 'xkcd:blue'\n",
    "\n",
    "    handles = [Rectangle((0,0),1,1,color=c,ec=\"k\") for c in [SNV,INDEL_HT,INDEL_SSR,INDEL_non_repeat]]\n",
    "    handles = handles + [Line2D([0], [0], color='xkcd:blue', lw=3)] # add patch for HT line\n",
    "    labels = [\"SNV (N={0})\".format(str(np.shape(subset_homoplasic_SNPs)[0])),\"INDEL HT (N={0})\".format(str(np.shape(subset_homoplasic_INDELs_HT)[0])),\"INDEL SSR (N={0})\".format(str(np.shape(subset_homoplasic_INDELs_SSR)[0])),\"INDEL other (N={0})\".format(str(np.shape(subset_homoplasic_INDELs_non_repeat)[0])),\"HT regions (M={0})\".format(str(np.shape(homopolymeric_tract_df)[0]))]\n",
    "    ax.legend(handles, labels, loc='upper right', fontsize=8)\n",
    "\n",
    "    '''\n",
    "    fig = plt.gcf()\n",
    "    fig.set_size_inches(12.5, 6.5)\n",
    "    fig.tight_layout()\n",
    "    plt.show()\n",
    "    '''"
   ]
  },
  {
   "cell_type": "markdown",
   "metadata": {},
   "source": [
    "## [7.5] Manhattan Plot with variants classified as AR or not-AR loci"
   ]
  },
  {
   "cell_type": "code",
   "execution_count": 85,
   "metadata": {},
   "outputs": [],
   "source": [
    "## fig , ax = plt.subplots()\n",
    "def fig_manhattan_AR_D(ax):\n",
    "    \n",
    "    # initial point size, scaling size & transparency\n",
    "    init_pt = 6\n",
    "    scale_pt = 0.045\n",
    "    alpha_pt = 0.95\n",
    "    edge_linewidth = 0.35\n",
    "    edge_color_pt = '0.4'\n",
    "\n",
    "    # SNPs\n",
    "    ax.scatter(subset_homoplasic_SNPs_AR.pos , subset_homoplasic_SNPs_AR.total , color = 'xkcd:green' , edgecolor=edge_color_pt, linewidth=edge_linewidth, s = [init_pt + (scale_pt+0.07)*SNP_i_homoplasy_score for SNP_i_homoplasy_score in subset_homoplasic_SNPs_AR.total] , alpha = alpha_pt, zorder = 2)\n",
    "    ax.scatter(subset_homoplasic_SNPs_non_AR.pos , subset_homoplasic_SNPs_non_AR.total , color = 'xkcd:black' , edgecolor=edge_color_pt, linewidth=edge_linewidth, s = [init_pt + (scale_pt+0.07)*SNP_i_homoplasy_score for SNP_i_homoplasy_score in subset_homoplasic_SNPs_non_AR.total] , alpha = alpha_pt, zorder = 1)\n",
    "\n",
    "    # INDELs\n",
    "    ax.scatter(subset_homoplasic_INDELs_AR.pos , subset_homoplasic_INDELs_AR.total , color = 'xkcd:green' , edgecolor=edge_color_pt, linewidth=edge_linewidth, s = [init_pt + scale_pt*INDEL_i_homoplasy_score for INDEL_i_homoplasy_score in subset_homoplasic_INDELs_AR.total] , alpha = alpha_pt, zorder = 2, marker = 'D')\n",
    "    ax.scatter(subset_homoplasic_INDELs_non_AR.pos , subset_homoplasic_INDELs_non_AR.total , color = 'xkcd:black' , edgecolor=edge_color_pt, linewidth=edge_linewidth, s = [init_pt + scale_pt*INDEL_i_homoplasy_score for INDEL_i_homoplasy_score in subset_homoplasic_INDELs_non_AR.total] , alpha = alpha_pt, zorder = 1, marker = 'D')\n",
    "\n",
    "    ax.set_xlabel('H37Rv Reference Position', fontsize = 10, color = 'k', labelpad = 1)\n",
    "    ax.set_ylabel('Hs' , fontsize = 10, color = 'k', labelpad = 1)\n",
    "\n",
    "    ax.spines['right'].set_visible(False)\n",
    "    ax.spines['top'].set_visible(False)\n",
    "    ax.grid(False)\n",
    "    ax.set_xlim(-40000, 4450000)\n",
    "    ax.set_ylim( -10, np.max([subset_homoplasic_SNPs.total.max(), int(subset_homoplasic_INDELs.total.max())]) + 65 )\n",
    "    ax.tick_params(labelcolor = 'k')\n",
    "\n",
    "    ax.tick_params(axis='y', which='major', labelsize=10 , labelcolor = 'k')\n",
    "    ax.tick_params(axis='x', which='major', labelsize=10 , labelcolor = 'k')\n",
    "\n",
    "    #create legend\n",
    "    SNV_AR = 'xkcd:green'\n",
    "    SNV_non_AR = 'xkcd:black'\n",
    "    INDEL_AR = 'xkcd:green'\n",
    "    INDEL_non_AR = 'xkcd:black'\n",
    "\n",
    "    handles = [Rectangle((0,0),1,1,color=c,ec=\"k\") for c in [SNV_AR,SNV_non_AR,INDEL_AR,INDEL_non_AR]]\n",
    "    handles = handles + [Line2D([0], [0], color='xkcd:blue', lw=3)] # add patch for HT line\n",
    "    labels = [\"SNV AR (N={0})\".format(str(np.shape(subset_homoplasic_SNPs_AR)[0])),\"SNV non-AR (N={0})\".format(str(np.shape(subset_homoplasic_SNPs_non_AR)[0])),\"INDEL AR (N={0})\".format(str(np.shape(subset_homoplasic_INDELs_AR)[0])),\"INDEL non-AR (N={0})\".format(str(np.shape(subset_homoplasic_INDELs_non_AR)[0]))]\n",
    "    ax.legend(handles, labels, loc='upper right', fontsize=8)\n",
    "\n",
    "    '''\n",
    "    fig = plt.gcf()\n",
    "    fig.set_size_inches(12.5, 6.5)\n",
    "    fig.tight_layout()\n",
    "    plt.show()\n",
    "    '''"
   ]
  },
  {
   "cell_type": "markdown",
   "metadata": {},
   "source": [
    "## [7.6] Top homoplasic SNPs & INDELs"
   ]
  },
  {
   "cell_type": "code",
   "execution_count": 86,
   "metadata": {},
   "outputs": [
    {
     "data": {
      "text/html": [
       "<div>\n",
       "<style>\n",
       "    .dataframe thead tr:only-child th {\n",
       "        text-align: right;\n",
       "    }\n",
       "\n",
       "    .dataframe thead th {\n",
       "        text-align: left;\n",
       "    }\n",
       "\n",
       "    .dataframe tbody tr th {\n",
       "        vertical-align: top;\n",
       "    }\n",
       "</style>\n",
       "<table border=\"1\" class=\"dataframe\">\n",
       "  <thead>\n",
       "    <tr style=\"text-align: right;\">\n",
       "      <th></th>\n",
       "      <th>pos</th>\n",
       "      <th>ref</th>\n",
       "      <th>alt</th>\n",
       "      <th>minor</th>\n",
       "      <th>gene_id</th>\n",
       "      <th>gene_pos</th>\n",
       "      <th>gene_category</th>\n",
       "      <th>SNP_type</th>\n",
       "      <th>AA_change</th>\n",
       "      <th>1</th>\n",
       "      <th>2</th>\n",
       "      <th>3</th>\n",
       "      <th>4A</th>\n",
       "      <th>4B</th>\n",
       "      <th>4C</th>\n",
       "      <th>5</th>\n",
       "      <th>6</th>\n",
       "      <th>total</th>\n",
       "      <th>gene_name</th>\n",
       "      <th>num_isolates_alt</th>\n",
       "    </tr>\n",
       "  </thead>\n",
       "  <tbody>\n",
       "    <tr>\n",
       "      <th>0</th>\n",
       "      <td>2155168.0</td>\n",
       "      <td>C</td>\n",
       "      <td>G</td>\n",
       "      <td>G</td>\n",
       "      <td>Rv1908c</td>\n",
       "      <td>944</td>\n",
       "      <td>Antibiotic Resistance</td>\n",
       "      <td>N</td>\n",
       "      <td>S315T</td>\n",
       "      <td>203</td>\n",
       "      <td>408</td>\n",
       "      <td>297</td>\n",
       "      <td>306</td>\n",
       "      <td>310</td>\n",
       "      <td>179</td>\n",
       "      <td>8</td>\n",
       "      <td>6</td>\n",
       "      <td>1717</td>\n",
       "      <td>katG</td>\n",
       "      <td>8066</td>\n",
       "    </tr>\n",
       "    <tr>\n",
       "      <th>1</th>\n",
       "      <td>761155.0</td>\n",
       "      <td>C</td>\n",
       "      <td>T</td>\n",
       "      <td>T</td>\n",
       "      <td>Rv0667</td>\n",
       "      <td>1349</td>\n",
       "      <td>Antibiotic Resistance</td>\n",
       "      <td>N</td>\n",
       "      <td>S450L</td>\n",
       "      <td>75</td>\n",
       "      <td>415</td>\n",
       "      <td>199</td>\n",
       "      <td>222</td>\n",
       "      <td>311</td>\n",
       "      <td>173</td>\n",
       "      <td>8</td>\n",
       "      <td>3</td>\n",
       "      <td>1406</td>\n",
       "      <td>rpoB</td>\n",
       "      <td>5706</td>\n",
       "    </tr>\n",
       "    <tr>\n",
       "      <th>2</th>\n",
       "      <td>781687.0</td>\n",
       "      <td>A</td>\n",
       "      <td>G</td>\n",
       "      <td>G</td>\n",
       "      <td>Rv0682</td>\n",
       "      <td>128</td>\n",
       "      <td>Antibiotic Resistance</td>\n",
       "      <td>N</td>\n",
       "      <td>K43R</td>\n",
       "      <td>37</td>\n",
       "      <td>463</td>\n",
       "      <td>102</td>\n",
       "      <td>65</td>\n",
       "      <td>53</td>\n",
       "      <td>51</td>\n",
       "      <td>6</td>\n",
       "      <td>2</td>\n",
       "      <td>779</td>\n",
       "      <td>rpsL</td>\n",
       "      <td>3509</td>\n",
       "    </tr>\n",
       "    <tr>\n",
       "      <th>3</th>\n",
       "      <td>1673425.0</td>\n",
       "      <td>C</td>\n",
       "      <td>T</td>\n",
       "      <td>T</td>\n",
       "      <td>Rv1482c_Rv1483</td>\n",
       "      <td>None</td>\n",
       "      <td>None</td>\n",
       "      <td>I</td>\n",
       "      <td>None</td>\n",
       "      <td>168</td>\n",
       "      <td>202</td>\n",
       "      <td>62</td>\n",
       "      <td>111</td>\n",
       "      <td>114</td>\n",
       "      <td>87</td>\n",
       "      <td>5</td>\n",
       "      <td>3</td>\n",
       "      <td>752</td>\n",
       "      <td>Rv1482c_fabG1</td>\n",
       "      <td>2660</td>\n",
       "    </tr>\n",
       "    <tr>\n",
       "      <th>4</th>\n",
       "      <td>4247429.0</td>\n",
       "      <td>A</td>\n",
       "      <td>G</td>\n",
       "      <td>G</td>\n",
       "      <td>Rv3795</td>\n",
       "      <td>916</td>\n",
       "      <td>Antibiotic Resistance</td>\n",
       "      <td>N</td>\n",
       "      <td>M306V</td>\n",
       "      <td>32</td>\n",
       "      <td>406</td>\n",
       "      <td>67</td>\n",
       "      <td>76</td>\n",
       "      <td>99</td>\n",
       "      <td>60</td>\n",
       "      <td>2</td>\n",
       "      <td>1</td>\n",
       "      <td>743</td>\n",
       "      <td>embB</td>\n",
       "      <td>2102</td>\n",
       "    </tr>\n",
       "    <tr>\n",
       "      <th>5</th>\n",
       "      <td>1473246.0</td>\n",
       "      <td>A</td>\n",
       "      <td>G</td>\n",
       "      <td>G</td>\n",
       "      <td>Rvnr01</td>\n",
       "      <td>1401</td>\n",
       "      <td>None</td>\n",
       "      <td>R</td>\n",
       "      <td>None</td>\n",
       "      <td>5</td>\n",
       "      <td>331</td>\n",
       "      <td>32</td>\n",
       "      <td>71</td>\n",
       "      <td>68</td>\n",
       "      <td>53</td>\n",
       "      <td>0</td>\n",
       "      <td>0</td>\n",
       "      <td>560</td>\n",
       "      <td>rrs</td>\n",
       "      <td>1452</td>\n",
       "    </tr>\n",
       "    <tr>\n",
       "      <th>6</th>\n",
       "      <td>7582.0</td>\n",
       "      <td>A</td>\n",
       "      <td>G</td>\n",
       "      <td>G</td>\n",
       "      <td>Rv0006</td>\n",
       "      <td>281</td>\n",
       "      <td>Antibiotic Resistance</td>\n",
       "      <td>N</td>\n",
       "      <td>D94G</td>\n",
       "      <td>10</td>\n",
       "      <td>320</td>\n",
       "      <td>67</td>\n",
       "      <td>77</td>\n",
       "      <td>53</td>\n",
       "      <td>25</td>\n",
       "      <td>0</td>\n",
       "      <td>0</td>\n",
       "      <td>552</td>\n",
       "      <td>gyrA</td>\n",
       "      <td>844</td>\n",
       "    </tr>\n",
       "    <tr>\n",
       "      <th>7</th>\n",
       "      <td>4247431.0</td>\n",
       "      <td>G</td>\n",
       "      <td>A</td>\n",
       "      <td>A</td>\n",
       "      <td>Rv3795</td>\n",
       "      <td>918</td>\n",
       "      <td>Antibiotic Resistance</td>\n",
       "      <td>N</td>\n",
       "      <td>M306I</td>\n",
       "      <td>18</td>\n",
       "      <td>183</td>\n",
       "      <td>77</td>\n",
       "      <td>86</td>\n",
       "      <td>100</td>\n",
       "      <td>63</td>\n",
       "      <td>5</td>\n",
       "      <td>4</td>\n",
       "      <td>536</td>\n",
       "      <td>embB</td>\n",
       "      <td>1208</td>\n",
       "    </tr>\n",
       "    <tr>\n",
       "      <th>8</th>\n",
       "      <td>3883626.0</td>\n",
       "      <td>A</td>\n",
       "      <td>G</td>\n",
       "      <td>G</td>\n",
       "      <td>Rv3466</td>\n",
       "      <td>102</td>\n",
       "      <td>Non-Essential</td>\n",
       "      <td>S</td>\n",
       "      <td>P34P</td>\n",
       "      <td>0</td>\n",
       "      <td>123</td>\n",
       "      <td>59</td>\n",
       "      <td>49</td>\n",
       "      <td>143</td>\n",
       "      <td>25</td>\n",
       "      <td>6</td>\n",
       "      <td>0</td>\n",
       "      <td>405</td>\n",
       "      <td>Rv3466</td>\n",
       "      <td>9033</td>\n",
       "    </tr>\n",
       "    <tr>\n",
       "      <th>9</th>\n",
       "      <td>3884906.0</td>\n",
       "      <td>A</td>\n",
       "      <td>G</td>\n",
       "      <td>A</td>\n",
       "      <td>Rv3467</td>\n",
       "      <td>943</td>\n",
       "      <td>Non-Essential</td>\n",
       "      <td>N</td>\n",
       "      <td>E315K</td>\n",
       "      <td>72</td>\n",
       "      <td>31</td>\n",
       "      <td>0</td>\n",
       "      <td>44</td>\n",
       "      <td>151</td>\n",
       "      <td>94</td>\n",
       "      <td>0</td>\n",
       "      <td>1</td>\n",
       "      <td>393</td>\n",
       "      <td>Rv3467</td>\n",
       "      <td>6211</td>\n",
       "    </tr>\n",
       "    <tr>\n",
       "      <th>10</th>\n",
       "      <td>7570.0</td>\n",
       "      <td>C</td>\n",
       "      <td>T</td>\n",
       "      <td>T</td>\n",
       "      <td>Rv0006</td>\n",
       "      <td>269</td>\n",
       "      <td>Antibiotic Resistance</td>\n",
       "      <td>N</td>\n",
       "      <td>A90V</td>\n",
       "      <td>13</td>\n",
       "      <td>193</td>\n",
       "      <td>34</td>\n",
       "      <td>52</td>\n",
       "      <td>68</td>\n",
       "      <td>22</td>\n",
       "      <td>1</td>\n",
       "      <td>1</td>\n",
       "      <td>384</td>\n",
       "      <td>gyrA</td>\n",
       "      <td>596</td>\n",
       "    </tr>\n",
       "    <tr>\n",
       "      <th>11</th>\n",
       "      <td>3730411.0</td>\n",
       "      <td>G</td>\n",
       "      <td>A</td>\n",
       "      <td>A</td>\n",
       "      <td>Rv3343c</td>\n",
       "      <td>6525</td>\n",
       "      <td>PE/PPE</td>\n",
       "      <td>S</td>\n",
       "      <td>G2175G</td>\n",
       "      <td>18</td>\n",
       "      <td>145</td>\n",
       "      <td>46</td>\n",
       "      <td>27</td>\n",
       "      <td>19</td>\n",
       "      <td>87</td>\n",
       "      <td>0</td>\n",
       "      <td>5</td>\n",
       "      <td>347</td>\n",
       "      <td>PPE54</td>\n",
       "      <td>7494</td>\n",
       "    </tr>\n",
       "    <tr>\n",
       "      <th>12</th>\n",
       "      <td>105060.0</td>\n",
       "      <td>G</td>\n",
       "      <td>A</td>\n",
       "      <td>A</td>\n",
       "      <td>Rv0095c</td>\n",
       "      <td>156</td>\n",
       "      <td>Non-Essential</td>\n",
       "      <td>S</td>\n",
       "      <td>D52D</td>\n",
       "      <td>17</td>\n",
       "      <td>67</td>\n",
       "      <td>31</td>\n",
       "      <td>57</td>\n",
       "      <td>106</td>\n",
       "      <td>62</td>\n",
       "      <td>4</td>\n",
       "      <td>1</td>\n",
       "      <td>345</td>\n",
       "      <td>Rv0095c</td>\n",
       "      <td>2066</td>\n",
       "    </tr>\n",
       "    <tr>\n",
       "      <th>13</th>\n",
       "      <td>1164571.0</td>\n",
       "      <td>A</td>\n",
       "      <td>G</td>\n",
       "      <td>G</td>\n",
       "      <td>Rv1040c_Rv1041c</td>\n",
       "      <td>None</td>\n",
       "      <td>None</td>\n",
       "      <td>I</td>\n",
       "      <td>None</td>\n",
       "      <td>46</td>\n",
       "      <td>71</td>\n",
       "      <td>0</td>\n",
       "      <td>53</td>\n",
       "      <td>102</td>\n",
       "      <td>71</td>\n",
       "      <td>0</td>\n",
       "      <td>0</td>\n",
       "      <td>343</td>\n",
       "      <td>PE8_Rv1041c</td>\n",
       "      <td>7811</td>\n",
       "    </tr>\n",
       "    <tr>\n",
       "      <th>14</th>\n",
       "      <td>608037.0</td>\n",
       "      <td>A</td>\n",
       "      <td>C</td>\n",
       "      <td>C</td>\n",
       "      <td>Rv0515</td>\n",
       "      <td>1487</td>\n",
       "      <td>Non-Essential</td>\n",
       "      <td>N</td>\n",
       "      <td>H496P</td>\n",
       "      <td>28</td>\n",
       "      <td>65</td>\n",
       "      <td>30</td>\n",
       "      <td>73</td>\n",
       "      <td>49</td>\n",
       "      <td>81</td>\n",
       "      <td>7</td>\n",
       "      <td>4</td>\n",
       "      <td>337</td>\n",
       "      <td>Rv0515</td>\n",
       "      <td>5235</td>\n",
       "    </tr>\n",
       "  </tbody>\n",
       "</table>\n",
       "</div>"
      ],
      "text/plain": [
       "          pos ref alt minor          gene_id gene_pos          gene_category  \\\n",
       "0   2155168.0   C   G     G          Rv1908c      944  Antibiotic Resistance   \n",
       "1    761155.0   C   T     T           Rv0667     1349  Antibiotic Resistance   \n",
       "2    781687.0   A   G     G           Rv0682      128  Antibiotic Resistance   \n",
       "3   1673425.0   C   T     T   Rv1482c_Rv1483     None                   None   \n",
       "4   4247429.0   A   G     G           Rv3795      916  Antibiotic Resistance   \n",
       "5   1473246.0   A   G     G           Rvnr01     1401                   None   \n",
       "6      7582.0   A   G     G           Rv0006      281  Antibiotic Resistance   \n",
       "7   4247431.0   G   A     A           Rv3795      918  Antibiotic Resistance   \n",
       "8   3883626.0   A   G     G           Rv3466      102          Non-Essential   \n",
       "9   3884906.0   A   G     A           Rv3467      943          Non-Essential   \n",
       "10     7570.0   C   T     T           Rv0006      269  Antibiotic Resistance   \n",
       "11  3730411.0   G   A     A          Rv3343c     6525                 PE/PPE   \n",
       "12   105060.0   G   A     A          Rv0095c      156          Non-Essential   \n",
       "13  1164571.0   A   G     G  Rv1040c_Rv1041c     None                   None   \n",
       "14   608037.0   A   C     C           Rv0515     1487          Non-Essential   \n",
       "\n",
       "   SNP_type AA_change    1    2    3   4A   4B   4C  5  6  total  \\\n",
       "0         N     S315T  203  408  297  306  310  179  8  6   1717   \n",
       "1         N     S450L   75  415  199  222  311  173  8  3   1406   \n",
       "2         N      K43R   37  463  102   65   53   51  6  2    779   \n",
       "3         I      None  168  202   62  111  114   87  5  3    752   \n",
       "4         N     M306V   32  406   67   76   99   60  2  1    743   \n",
       "5         R      None    5  331   32   71   68   53  0  0    560   \n",
       "6         N      D94G   10  320   67   77   53   25  0  0    552   \n",
       "7         N     M306I   18  183   77   86  100   63  5  4    536   \n",
       "8         S      P34P    0  123   59   49  143   25  6  0    405   \n",
       "9         N     E315K   72   31    0   44  151   94  0  1    393   \n",
       "10        N      A90V   13  193   34   52   68   22  1  1    384   \n",
       "11        S    G2175G   18  145   46   27   19   87  0  5    347   \n",
       "12        S      D52D   17   67   31   57  106   62  4  1    345   \n",
       "13        I      None   46   71    0   53  102   71  0  0    343   \n",
       "14        N     H496P   28   65   30   73   49   81  7  4    337   \n",
       "\n",
       "        gene_name  num_isolates_alt  \n",
       "0            katG              8066  \n",
       "1            rpoB              5706  \n",
       "2            rpsL              3509  \n",
       "3   Rv1482c_fabG1              2660  \n",
       "4            embB              2102  \n",
       "5             rrs              1452  \n",
       "6            gyrA               844  \n",
       "7            embB              1208  \n",
       "8          Rv3466              9033  \n",
       "9          Rv3467              6211  \n",
       "10           gyrA               596  \n",
       "11          PPE54              7494  \n",
       "12        Rv0095c              2066  \n",
       "13    PE8_Rv1041c              7811  \n",
       "14         Rv0515              5235  "
      ]
     },
     "execution_count": 86,
     "metadata": {},
     "output_type": "execute_result"
    }
   ],
   "source": [
    "subset_homoplasic_SNPs.sort_values(by = 'total', ascending = False).head(n=15)"
   ]
  },
  {
   "cell_type": "code",
   "execution_count": 87,
   "metadata": {},
   "outputs": [
    {
     "data": {
      "text/html": [
       "<div>\n",
       "<style>\n",
       "    .dataframe thead tr:only-child th {\n",
       "        text-align: right;\n",
       "    }\n",
       "\n",
       "    .dataframe thead th {\n",
       "        text-align: left;\n",
       "    }\n",
       "\n",
       "    .dataframe tbody tr th {\n",
       "        vertical-align: top;\n",
       "    }\n",
       "</style>\n",
       "<table border=\"1\" class=\"dataframe\">\n",
       "  <thead>\n",
       "    <tr style=\"text-align: right;\">\n",
       "      <th></th>\n",
       "      <th>pos</th>\n",
       "      <th>ref</th>\n",
       "      <th>alt</th>\n",
       "      <th>gene_category</th>\n",
       "      <th>gene_name</th>\n",
       "      <th>gene_id</th>\n",
       "      <th>gene_pos</th>\n",
       "      <th>ins_del</th>\n",
       "      <th>INDEL_type</th>\n",
       "      <th>codon_pos</th>\n",
       "      <th>...</th>\n",
       "      <th>2</th>\n",
       "      <th>3</th>\n",
       "      <th>4A</th>\n",
       "      <th>4B</th>\n",
       "      <th>4C</th>\n",
       "      <th>5</th>\n",
       "      <th>6</th>\n",
       "      <th>total</th>\n",
       "      <th>num_isolates</th>\n",
       "      <th>repeat_region</th>\n",
       "    </tr>\n",
       "  </thead>\n",
       "  <tbody>\n",
       "    <tr>\n",
       "      <th>0</th>\n",
       "      <td>3131469</td>\n",
       "      <td>T</td>\n",
       "      <td>TTGTCGGCGA</td>\n",
       "      <td>Antigen</td>\n",
       "      <td>Rv2823c</td>\n",
       "      <td>Rv2823c</td>\n",
       "      <td>305</td>\n",
       "      <td>ins</td>\n",
       "      <td>inframe</td>\n",
       "      <td>102</td>\n",
       "      <td>...</td>\n",
       "      <td>377.0</td>\n",
       "      <td>183.0</td>\n",
       "      <td>351.0</td>\n",
       "      <td>367.0</td>\n",
       "      <td>88.0</td>\n",
       "      <td>5.0</td>\n",
       "      <td>5.0</td>\n",
       "      <td>1534.0</td>\n",
       "      <td>5093</td>\n",
       "      <td>no</td>\n",
       "    </tr>\n",
       "    <tr>\n",
       "      <th>1</th>\n",
       "      <td>1894300</td>\n",
       "      <td>G</td>\n",
       "      <td>GGTCTTGCCGC</td>\n",
       "      <td>Non-Essential</td>\n",
       "      <td>Rv1668c</td>\n",
       "      <td>Rv1668c</td>\n",
       "      <td>1043</td>\n",
       "      <td>ins</td>\n",
       "      <td>frameshift</td>\n",
       "      <td>348</td>\n",
       "      <td>...</td>\n",
       "      <td>306.0</td>\n",
       "      <td>205.0</td>\n",
       "      <td>288.0</td>\n",
       "      <td>313.0</td>\n",
       "      <td>210.0</td>\n",
       "      <td>11.0</td>\n",
       "      <td>5.0</td>\n",
       "      <td>1488.0</td>\n",
       "      <td>12599</td>\n",
       "      <td>no</td>\n",
       "    </tr>\n",
       "    <tr>\n",
       "      <th>2</th>\n",
       "      <td>968426</td>\n",
       "      <td>A</td>\n",
       "      <td>AGCCGGGTTG</td>\n",
       "      <td>PE/PPE</td>\n",
       "      <td>PE_PGRS15</td>\n",
       "      <td>Rv0872c</td>\n",
       "      <td>1819</td>\n",
       "      <td>ins</td>\n",
       "      <td>inframe</td>\n",
       "      <td>607</td>\n",
       "      <td>...</td>\n",
       "      <td>345.0</td>\n",
       "      <td>118.0</td>\n",
       "      <td>275.0</td>\n",
       "      <td>302.0</td>\n",
       "      <td>147.0</td>\n",
       "      <td>3.0</td>\n",
       "      <td>3.0</td>\n",
       "      <td>1331.0</td>\n",
       "      <td>2943</td>\n",
       "      <td>no</td>\n",
       "    </tr>\n",
       "    <tr>\n",
       "      <th>3</th>\n",
       "      <td>2137521</td>\n",
       "      <td>A</td>\n",
       "      <td>ACTCCGATCAC</td>\n",
       "      <td>Non-Essential</td>\n",
       "      <td>Rv1888c</td>\n",
       "      <td>Rv1888c</td>\n",
       "      <td>559</td>\n",
       "      <td>ins</td>\n",
       "      <td>frameshift</td>\n",
       "      <td>187</td>\n",
       "      <td>...</td>\n",
       "      <td>278.0</td>\n",
       "      <td>185.0</td>\n",
       "      <td>261.0</td>\n",
       "      <td>287.0</td>\n",
       "      <td>1.0</td>\n",
       "      <td>5.0</td>\n",
       "      <td>4.0</td>\n",
       "      <td>1155.0</td>\n",
       "      <td>12566</td>\n",
       "      <td>no</td>\n",
       "    </tr>\n",
       "    <tr>\n",
       "      <th>4</th>\n",
       "      <td>976897</td>\n",
       "      <td>T</td>\n",
       "      <td>TG</td>\n",
       "      <td>PE/PPE</td>\n",
       "      <td>PPE13</td>\n",
       "      <td>Rv0878c</td>\n",
       "      <td>1307</td>\n",
       "      <td>ins</td>\n",
       "      <td>frameshift</td>\n",
       "      <td>436</td>\n",
       "      <td>...</td>\n",
       "      <td>361.0</td>\n",
       "      <td>139.0</td>\n",
       "      <td>249.0</td>\n",
       "      <td>173.0</td>\n",
       "      <td>156.0</td>\n",
       "      <td>0.0</td>\n",
       "      <td>0.0</td>\n",
       "      <td>1126.0</td>\n",
       "      <td>3745</td>\n",
       "      <td>HT</td>\n",
       "    </tr>\n",
       "    <tr>\n",
       "      <th>5</th>\n",
       "      <td>1313337</td>\n",
       "      <td>A</td>\n",
       "      <td>AG</td>\n",
       "      <td>None</td>\n",
       "      <td>Rv1179c_pks3</td>\n",
       "      <td>Rv1179c_Rv1180</td>\n",
       "      <td>None</td>\n",
       "      <td>ins</td>\n",
       "      <td>frameshift</td>\n",
       "      <td>None</td>\n",
       "      <td>...</td>\n",
       "      <td>195.0</td>\n",
       "      <td>65.0</td>\n",
       "      <td>129.0</td>\n",
       "      <td>124.0</td>\n",
       "      <td>104.0</td>\n",
       "      <td>0.0</td>\n",
       "      <td>1.0</td>\n",
       "      <td>674.0</td>\n",
       "      <td>16070</td>\n",
       "      <td>no</td>\n",
       "    </tr>\n",
       "    <tr>\n",
       "      <th>6</th>\n",
       "      <td>3296371</td>\n",
       "      <td>G</td>\n",
       "      <td>GCCGCGGC</td>\n",
       "      <td>Non-Essential</td>\n",
       "      <td>pks15</td>\n",
       "      <td>Rv2947c</td>\n",
       "      <td>1470</td>\n",
       "      <td>ins</td>\n",
       "      <td>frameshift</td>\n",
       "      <td>490</td>\n",
       "      <td>...</td>\n",
       "      <td>313.0</td>\n",
       "      <td>197.0</td>\n",
       "      <td>0.0</td>\n",
       "      <td>0.0</td>\n",
       "      <td>1.0</td>\n",
       "      <td>9.0</td>\n",
       "      <td>0.0</td>\n",
       "      <td>649.0</td>\n",
       "      <td>6145</td>\n",
       "      <td>no</td>\n",
       "    </tr>\n",
       "    <tr>\n",
       "      <th>7</th>\n",
       "      <td>976897</td>\n",
       "      <td>T</td>\n",
       "      <td>TGG</td>\n",
       "      <td>PE/PPE</td>\n",
       "      <td>PPE13</td>\n",
       "      <td>Rv0878c</td>\n",
       "      <td>1307</td>\n",
       "      <td>ins</td>\n",
       "      <td>frameshift</td>\n",
       "      <td>436</td>\n",
       "      <td>...</td>\n",
       "      <td>247.0</td>\n",
       "      <td>50.0</td>\n",
       "      <td>101.0</td>\n",
       "      <td>87.0</td>\n",
       "      <td>52.0</td>\n",
       "      <td>0.0</td>\n",
       "      <td>0.0</td>\n",
       "      <td>556.0</td>\n",
       "      <td>894</td>\n",
       "      <td>HT</td>\n",
       "    </tr>\n",
       "    <tr>\n",
       "      <th>8</th>\n",
       "      <td>976897</td>\n",
       "      <td>TG</td>\n",
       "      <td>T</td>\n",
       "      <td>PE/PPE</td>\n",
       "      <td>PPE13</td>\n",
       "      <td>Rv0878c</td>\n",
       "      <td>1307</td>\n",
       "      <td>del</td>\n",
       "      <td>frameshift</td>\n",
       "      <td>436</td>\n",
       "      <td>...</td>\n",
       "      <td>97.0</td>\n",
       "      <td>81.0</td>\n",
       "      <td>94.0</td>\n",
       "      <td>53.0</td>\n",
       "      <td>90.0</td>\n",
       "      <td>0.0</td>\n",
       "      <td>1.0</td>\n",
       "      <td>438.0</td>\n",
       "      <td>3246</td>\n",
       "      <td>HT</td>\n",
       "    </tr>\n",
       "    <tr>\n",
       "      <th>9</th>\n",
       "      <td>854252</td>\n",
       "      <td>GCC</td>\n",
       "      <td>G</td>\n",
       "      <td>None</td>\n",
       "      <td>Rv0759c_Rv0760c</td>\n",
       "      <td>Rv0759c_Rv0760c</td>\n",
       "      <td>None</td>\n",
       "      <td>del</td>\n",
       "      <td>frameshift</td>\n",
       "      <td>None</td>\n",
       "      <td>...</td>\n",
       "      <td>90.0</td>\n",
       "      <td>54.0</td>\n",
       "      <td>82.0</td>\n",
       "      <td>67.0</td>\n",
       "      <td>73.0</td>\n",
       "      <td>1.0</td>\n",
       "      <td>6.0</td>\n",
       "      <td>427.0</td>\n",
       "      <td>3139</td>\n",
       "      <td>HT</td>\n",
       "    </tr>\n",
       "    <tr>\n",
       "      <th>10</th>\n",
       "      <td>3794867</td>\n",
       "      <td>C</td>\n",
       "      <td>CCA</td>\n",
       "      <td>Non-Essential</td>\n",
       "      <td>dxs2</td>\n",
       "      <td>Rv3379c</td>\n",
       "      <td>1</td>\n",
       "      <td>ins</td>\n",
       "      <td>frameshift</td>\n",
       "      <td>1</td>\n",
       "      <td>...</td>\n",
       "      <td>300.0</td>\n",
       "      <td>66.0</td>\n",
       "      <td>1.0</td>\n",
       "      <td>0.0</td>\n",
       "      <td>1.0</td>\n",
       "      <td>5.0</td>\n",
       "      <td>4.0</td>\n",
       "      <td>427.0</td>\n",
       "      <td>8059</td>\n",
       "      <td>no</td>\n",
       "    </tr>\n",
       "    <tr>\n",
       "      <th>11</th>\n",
       "      <td>234496</td>\n",
       "      <td>C</td>\n",
       "      <td>CGT</td>\n",
       "      <td>Non-Essential</td>\n",
       "      <td>Rv0197</td>\n",
       "      <td>Rv0197</td>\n",
       "      <td>2266</td>\n",
       "      <td>ins</td>\n",
       "      <td>frameshift</td>\n",
       "      <td>756</td>\n",
       "      <td>...</td>\n",
       "      <td>111.0</td>\n",
       "      <td>28.0</td>\n",
       "      <td>49.0</td>\n",
       "      <td>116.0</td>\n",
       "      <td>51.0</td>\n",
       "      <td>5.0</td>\n",
       "      <td>1.0</td>\n",
       "      <td>401.0</td>\n",
       "      <td>21397</td>\n",
       "      <td>no</td>\n",
       "    </tr>\n",
       "    <tr>\n",
       "      <th>12</th>\n",
       "      <td>55540</td>\n",
       "      <td>G</td>\n",
       "      <td>GCCGCCGCCT</td>\n",
       "      <td>Non-Essential</td>\n",
       "      <td>ponA1</td>\n",
       "      <td>Rv0050</td>\n",
       "      <td>1878</td>\n",
       "      <td>ins</td>\n",
       "      <td>inframe</td>\n",
       "      <td>626</td>\n",
       "      <td>...</td>\n",
       "      <td>272.0</td>\n",
       "      <td>0.0</td>\n",
       "      <td>0.0</td>\n",
       "      <td>0.0</td>\n",
       "      <td>0.0</td>\n",
       "      <td>6.0</td>\n",
       "      <td>5.0</td>\n",
       "      <td>397.0</td>\n",
       "      <td>2238</td>\n",
       "      <td>SSR</td>\n",
       "    </tr>\n",
       "    <tr>\n",
       "      <th>13</th>\n",
       "      <td>3842463</td>\n",
       "      <td>TA</td>\n",
       "      <td>T</td>\n",
       "      <td>PE/PPE</td>\n",
       "      <td>PPE57</td>\n",
       "      <td>Rv3425</td>\n",
       "      <td>225</td>\n",
       "      <td>del</td>\n",
       "      <td>frameshift</td>\n",
       "      <td>75</td>\n",
       "      <td>...</td>\n",
       "      <td>393.0</td>\n",
       "      <td>1.0</td>\n",
       "      <td>0.0</td>\n",
       "      <td>0.0</td>\n",
       "      <td>0.0</td>\n",
       "      <td>0.0</td>\n",
       "      <td>0.0</td>\n",
       "      <td>394.0</td>\n",
       "      <td>2651</td>\n",
       "      <td>no</td>\n",
       "    </tr>\n",
       "    <tr>\n",
       "      <th>14</th>\n",
       "      <td>976889</td>\n",
       "      <td>CT</td>\n",
       "      <td>C</td>\n",
       "      <td>PE/PPE</td>\n",
       "      <td>PPE13</td>\n",
       "      <td>Rv0878c</td>\n",
       "      <td>1315</td>\n",
       "      <td>del</td>\n",
       "      <td>frameshift</td>\n",
       "      <td>439</td>\n",
       "      <td>...</td>\n",
       "      <td>54.0</td>\n",
       "      <td>31.0</td>\n",
       "      <td>54.0</td>\n",
       "      <td>88.0</td>\n",
       "      <td>67.0</td>\n",
       "      <td>4.0</td>\n",
       "      <td>6.0</td>\n",
       "      <td>371.0</td>\n",
       "      <td>1395</td>\n",
       "      <td>HT</td>\n",
       "    </tr>\n",
       "  </tbody>\n",
       "</table>\n",
       "<p>15 rows × 23 columns</p>\n",
       "</div>"
      ],
      "text/plain": [
       "        pos  ref          alt  gene_category        gene_name  \\\n",
       "0   3131469    T   TTGTCGGCGA        Antigen          Rv2823c   \n",
       "1   1894300    G  GGTCTTGCCGC  Non-Essential          Rv1668c   \n",
       "2    968426    A   AGCCGGGTTG         PE/PPE        PE_PGRS15   \n",
       "3   2137521    A  ACTCCGATCAC  Non-Essential          Rv1888c   \n",
       "4    976897    T           TG         PE/PPE            PPE13   \n",
       "5   1313337    A           AG           None     Rv1179c_pks3   \n",
       "6   3296371    G     GCCGCGGC  Non-Essential            pks15   \n",
       "7    976897    T          TGG         PE/PPE            PPE13   \n",
       "8    976897   TG            T         PE/PPE            PPE13   \n",
       "9    854252  GCC            G           None  Rv0759c_Rv0760c   \n",
       "10  3794867    C          CCA  Non-Essential             dxs2   \n",
       "11   234496    C          CGT  Non-Essential           Rv0197   \n",
       "12    55540    G   GCCGCCGCCT  Non-Essential            ponA1   \n",
       "13  3842463   TA            T         PE/PPE            PPE57   \n",
       "14   976889   CT            C         PE/PPE            PPE13   \n",
       "\n",
       "            gene_id gene_pos ins_del  INDEL_type codon_pos      ...        \\\n",
       "0           Rv2823c      305     ins     inframe       102      ...         \n",
       "1           Rv1668c     1043     ins  frameshift       348      ...         \n",
       "2           Rv0872c     1819     ins     inframe       607      ...         \n",
       "3           Rv1888c      559     ins  frameshift       187      ...         \n",
       "4           Rv0878c     1307     ins  frameshift       436      ...         \n",
       "5    Rv1179c_Rv1180     None     ins  frameshift      None      ...         \n",
       "6           Rv2947c     1470     ins  frameshift       490      ...         \n",
       "7           Rv0878c     1307     ins  frameshift       436      ...         \n",
       "8           Rv0878c     1307     del  frameshift       436      ...         \n",
       "9   Rv0759c_Rv0760c     None     del  frameshift      None      ...         \n",
       "10          Rv3379c        1     ins  frameshift         1      ...         \n",
       "11           Rv0197     2266     ins  frameshift       756      ...         \n",
       "12           Rv0050     1878     ins     inframe       626      ...         \n",
       "13           Rv3425      225     del  frameshift        75      ...         \n",
       "14          Rv0878c     1315     del  frameshift       439      ...         \n",
       "\n",
       "        2      3     4A     4B     4C     5    6   total  num_isolates  \\\n",
       "0   377.0  183.0  351.0  367.0   88.0   5.0  5.0  1534.0          5093   \n",
       "1   306.0  205.0  288.0  313.0  210.0  11.0  5.0  1488.0         12599   \n",
       "2   345.0  118.0  275.0  302.0  147.0   3.0  3.0  1331.0          2943   \n",
       "3   278.0  185.0  261.0  287.0    1.0   5.0  4.0  1155.0         12566   \n",
       "4   361.0  139.0  249.0  173.0  156.0   0.0  0.0  1126.0          3745   \n",
       "5   195.0   65.0  129.0  124.0  104.0   0.0  1.0   674.0         16070   \n",
       "6   313.0  197.0    0.0    0.0    1.0   9.0  0.0   649.0          6145   \n",
       "7   247.0   50.0  101.0   87.0   52.0   0.0  0.0   556.0           894   \n",
       "8    97.0   81.0   94.0   53.0   90.0   0.0  1.0   438.0          3246   \n",
       "9    90.0   54.0   82.0   67.0   73.0   1.0  6.0   427.0          3139   \n",
       "10  300.0   66.0    1.0    0.0    1.0   5.0  4.0   427.0          8059   \n",
       "11  111.0   28.0   49.0  116.0   51.0   5.0  1.0   401.0         21397   \n",
       "12  272.0    0.0    0.0    0.0    0.0   6.0  5.0   397.0          2238   \n",
       "13  393.0    1.0    0.0    0.0    0.0   0.0  0.0   394.0          2651   \n",
       "14   54.0   31.0   54.0   88.0   67.0   4.0  6.0   371.0          1395   \n",
       "\n",
       "    repeat_region  \n",
       "0              no  \n",
       "1              no  \n",
       "2              no  \n",
       "3              no  \n",
       "4              HT  \n",
       "5              no  \n",
       "6              no  \n",
       "7              HT  \n",
       "8              HT  \n",
       "9              HT  \n",
       "10             no  \n",
       "11             no  \n",
       "12            SSR  \n",
       "13             no  \n",
       "14             HT  \n",
       "\n",
       "[15 rows x 23 columns]"
      ]
     },
     "execution_count": 87,
     "metadata": {},
     "output_type": "execute_result"
    }
   ],
   "source": [
    "subset_homoplasic_INDELs.sort_values(by = 'total', ascending = False).head(n=15)"
   ]
  },
  {
   "cell_type": "markdown",
   "metadata": {},
   "source": [
    "####################################################################################################################################################################################"
   ]
  },
  {
   "cell_type": "markdown",
   "metadata": {},
   "source": [
    "## [8] Create Figure displaying *Hs* manhattan plot style"
   ]
  },
  {
   "cell_type": "markdown",
   "metadata": {},
   "source": [
    "####################################################################################################################################################################################"
   ]
  },
  {
   "cell_type": "code",
   "execution_count": 95,
   "metadata": {},
   "outputs": [
    {
     "data": {
      "image/png": "[encoded data removed]",
      "text/plain": [
       "<Figure size 702x900 with 4 Axes>"
      ]
     },
     "metadata": {},
     "output_type": "display_data"
    }
   ],
   "source": [
    "fig = plt.figure(constrained_layout=True)\n",
    "spec = gridspec.GridSpec(ncols=2, nrows=3, figure=fig, height_ratios = [1,2,2])\n",
    "spec.update(wspace=0.15, hspace=0.15) # set the spacing between axes. \n",
    "\n",
    "axA = fig.add_subplot(spec[0, 0])\n",
    "axB = fig.add_subplot(spec[0, 1])\n",
    "axC = fig.add_subplot(spec[1, :])\n",
    "axD = fig.add_subplot(spec[2, :])\n",
    "\n",
    "fig_SNV_and_INDEL_distribution_A(axA)\n",
    "fig_prop_INDELs_Hs_for_HT_SSR_other_B(axB)\n",
    "fig_manhattan_region_C(axC)\n",
    "fig_manhattan_AR_D(axD)\n",
    "\n",
    "fig = plt.gcf()\n",
    "fig.set_size_inches(9.75, 12.5)\n",
    "fig.tight_layout()\n",
    "\n",
    "file_name = '/n/data1/hms/dbmi/farhat/Roger/homoplasy_project/Figures/for publication/manhattan_plots_homoplasy_analyses.pdf'\n",
    "plt.savefig(file_name, bbox_inches='tight', dpi = 300 , transparent = True)\n",
    "\n",
    "file_name = '/n/data1/hms/dbmi/farhat/Roger/homoplasy_project/Figures/for publication/manhattan_plots_homoplasy_analyses.png'\n",
    "plt.savefig(file_name, bbox_inches='tight', dpi = 300 , transparent = False)\n",
    "\n",
    "plt.show()"
   ]
  },
  {
   "cell_type": "code",
   "execution_count": null,
   "metadata": {},
   "outputs": [],
   "source": []
  },
  {
   "cell_type": "code",
   "execution_count": null,
   "metadata": {},
   "outputs": [],
   "source": []
  }
 ],
 "metadata": {
  "kernelspec": {
   "display_name": "Python 2",
   "language": "python",
   "name": "python2"
  },
  "language_info": {
   "codemirror_mode": {
    "name": "ipython",
    "version": 2
   },
   "file_extension": ".py",
   "mimetype": "text/x-python",
   "name": "python",
   "nbconvert_exporter": "python",
   "pygments_lexer": "ipython2",
   "version": "2.7.16"
  }
 },
 "nbformat": 4,
 "nbformat_minor": 4
}
