{
 "cells": [
  {
   "cell_type": "markdown",
   "metadata": {},
   "source": [
    "### This notebook calculates mutational density of genes of H37Rv from SNVs & INDELs"
   ]
  },
  {
   "cell_type": "code",
   "execution_count": 4,
   "metadata": {},
   "outputs": [
    {
     "data": {
      "text/html": [
       "<style>.container { width:100% !important; }</style>"
      ],
      "text/plain": [
       "<IPython.core.display.HTML object>"
      ]
     },
     "metadata": {},
     "output_type": "display_data"
    }
   ],
   "source": [
    "from IPython.core.display import display, HTML\n",
    "display(HTML(\"<style>.container { width:100% !important; }</style>\"))\n",
    "%matplotlib inline"
   ]
  },
  {
   "cell_type": "code",
   "execution_count": 5,
   "metadata": {},
   "outputs": [],
   "source": [
    "#import necessary packages\n",
    "import vcf\n",
    "import os\n",
    "import pandas as pd\n",
    "import numpy as np\n",
    "\n",
    "from itertools import compress\n",
    "import ast\n",
    "import itertools\n",
    "import time\n",
    "\n",
    "import Bio\n",
    "from Bio.Alphabet import IUPAC\n",
    "from Bio.Blast.Applications import NcbiblastnCommandline\n",
    "from Bio.Blast import NCBIXML\n",
    "from Bio.Seq import Seq\n",
    "from Bio.SeqRecord import SeqRecord\n",
    "from Bio.SeqFeature import SeqFeature, FeatureLocation\n",
    "from Bio import pairwise2\n",
    "from Bio import SeqIO\n",
    "from Bio.Graphics import GenomeDiagram\n",
    "from Bio.SeqUtils import GC\n",
    "\n",
    "from Bio.Align.Applications import MuscleCommandline\n",
    "from StringIO import StringIO\n",
    "from Bio import AlignIO\n",
    "from Bio.Align import AlignInfo\n",
    "from Bio.Seq import MutableSeq\n",
    "from Bio import pairwise2\n",
    "from shutil import copy\n",
    "import subprocess\n",
    "\n",
    "import matplotlib.pyplot as plt\n",
    "import pickle\n",
    "import scipy.stats\n",
    "from mpl_toolkits.axes_grid1 import make_axes_locatable\n",
    "import matplotlib as mpl\n",
    "from matplotlib import gridspec\n",
    "\n",
    "#for exporting to Adobe Illustrator\n",
    "mpl.rcParams['pdf.fonttype'] = 42\n",
    "mpl.rcParams['ps.fonttype'] = 42"
   ]
  },
  {
   "cell_type": "code",
   "execution_count": 6,
   "metadata": {},
   "outputs": [],
   "source": [
    "plt.style.use('ggplot')\n",
    "plt.rcParams['lines.linewidth']=0\n",
    "plt.rcParams['axes.facecolor']='1.0'\n",
    "plt.rcParams['xtick.color']='black'\n",
    "plt.rcParams['axes.grid']=False\n",
    "plt.rcParams['axes.edgecolor']='black'\n",
    "plt.rcParams['grid.color']= '1.0'\n",
    "plt.rcParams.update({'font.size': 10})\n",
    "plt.rc('font', family='serif')"
   ]
  },
  {
   "cell_type": "markdown",
   "metadata": {},
   "source": [
    "####################################################################################################################################################################################"
   ]
  },
  {
   "cell_type": "markdown",
   "metadata": {},
   "source": [
    "## [1] Get H37Rv Reference Positions for SNPs that were filtered out from Genotypes Matrix"
   ]
  },
  {
   "cell_type": "markdown",
   "metadata": {},
   "source": [
    "####################################################################################################################################################################################"
   ]
  },
  {
   "cell_type": "markdown",
   "metadata": {},
   "source": [
    "#### Load in dataframes with SNPs that were dropped in different filtering steps in constructing the Genotypes Matrix"
   ]
  },
  {
   "cell_type": "markdown",
   "metadata": {},
   "source": [
    "These SNP sites will be excluded from the analysis"
   ]
  },
  {
   "cell_type": "code",
   "execution_count": 7,
   "metadata": {},
   "outputs": [],
   "source": [
    "## dropped_SNPs_filter_1 = pd.read_pickle('/n/data1/hms/dbmi/farhat/Roger/homoplasy_project/rolling_DB_scrape/Genotypes_Filtered/SNP_sites_dropped/1_dropped_SNPs_annotation_low_EBR_score.pkl')\n",
    "with open('/n/data1/hms/dbmi/farhat/Roger/homoplasy_project/rolling_DB_scrape/Genotypes/H37Rv_sites_with_low_EBR_to_drop.pkl', 'rb') as f:\n",
    "    dropped_SNPs_filter_1 = pickle.load(f)\n",
    "## dropped_SNPs_filter_2 = pd.read_pickle('/n/data1/hms/dbmi/farhat/Roger/homoplasy_project/rolling_DB_scrape/Genotypes_Filtered/SNP_sites_dropped/2_dropped_SNPs_annotation_MGE_region.pkl')\n",
    "dropped_SNPs_filter_3 = pd.read_pickle('/n/data1/hms/dbmi/farhat/Roger/homoplasy_project/rolling_DB_scrape/Genotypes_Filtered/SNP_sites_dropped/3_dropped_SNPs_annotation_calls_missing_10perc_isolates.pkl')\n",
    "dropped_SNPs_filter_4 = pd.read_pickle('/n/data1/hms/dbmi/farhat/Roger/homoplasy_project/rolling_DB_scrape/Genotypes_Filtered/SNP_sites_dropped/4_dropped_SNPs_annotation_overlapping_genes.pkl')"
   ]
  },
  {
   "cell_type": "code",
   "execution_count": 8,
   "metadata": {},
   "outputs": [
    {
     "data": {
      "text/plain": [
       "169630"
      ]
     },
     "execution_count": 8,
     "metadata": {},
     "output_type": "execute_result"
    }
   ],
   "source": [
    "len(dropped_SNPs_filter_1)"
   ]
  },
  {
   "cell_type": "code",
   "execution_count": 9,
   "metadata": {},
   "outputs": [
    {
     "data": {
      "text/html": [
       "<div>\n",
       "<style>\n",
       "    .dataframe thead tr:only-child th {\n",
       "        text-align: right;\n",
       "    }\n",
       "\n",
       "    .dataframe thead th {\n",
       "        text-align: left;\n",
       "    }\n",
       "\n",
       "    .dataframe tbody tr th {\n",
       "        vertical-align: top;\n",
       "    }\n",
       "</style>\n",
       "<table border=\"1\" class=\"dataframe\">\n",
       "  <thead>\n",
       "    <tr style=\"text-align: right;\">\n",
       "      <th></th>\n",
       "      <th>pos</th>\n",
       "      <th>ref</th>\n",
       "      <th>alt</th>\n",
       "    </tr>\n",
       "  </thead>\n",
       "  <tbody>\n",
       "    <tr>\n",
       "      <th>0</th>\n",
       "      <td>29</td>\n",
       "      <td>C</td>\n",
       "      <td>[G]</td>\n",
       "    </tr>\n",
       "    <tr>\n",
       "      <th>1</th>\n",
       "      <td>31</td>\n",
       "      <td>A</td>\n",
       "      <td>[C, G]</td>\n",
       "    </tr>\n",
       "  </tbody>\n",
       "</table>\n",
       "</div>"
      ],
      "text/plain": [
       "   pos ref     alt\n",
       "0   29   C     [G]\n",
       "1   31   A  [C, G]"
      ]
     },
     "execution_count": 9,
     "metadata": {},
     "output_type": "execute_result"
    }
   ],
   "source": [
    "dropped_SNPs_filter_3.head(n=2)"
   ]
  },
  {
   "cell_type": "code",
   "execution_count": 10,
   "metadata": {},
   "outputs": [
    {
     "data": {
      "text/plain": [
       "(31215, 3)"
      ]
     },
     "execution_count": 10,
     "metadata": {},
     "output_type": "execute_result"
    }
   ],
   "source": [
    "dropped_SNPs_filter_3.shape"
   ]
  },
  {
   "cell_type": "code",
   "execution_count": 11,
   "metadata": {},
   "outputs": [
    {
     "data": {
      "text/html": [
       "<div>\n",
       "<style>\n",
       "    .dataframe thead tr:only-child th {\n",
       "        text-align: right;\n",
       "    }\n",
       "\n",
       "    .dataframe thead th {\n",
       "        text-align: left;\n",
       "    }\n",
       "\n",
       "    .dataframe tbody tr th {\n",
       "        vertical-align: top;\n",
       "    }\n",
       "</style>\n",
       "<table border=\"1\" class=\"dataframe\">\n",
       "  <thead>\n",
       "    <tr style=\"text-align: right;\">\n",
       "      <th></th>\n",
       "      <th>pos</th>\n",
       "      <th>ref</th>\n",
       "      <th>alt</th>\n",
       "    </tr>\n",
       "  </thead>\n",
       "  <tbody>\n",
       "    <tr>\n",
       "      <th>7199</th>\n",
       "      <td>60414</td>\n",
       "      <td>C</td>\n",
       "      <td>[T]</td>\n",
       "    </tr>\n",
       "    <tr>\n",
       "      <th>8910</th>\n",
       "      <td>77620</td>\n",
       "      <td>C</td>\n",
       "      <td>[G]</td>\n",
       "    </tr>\n",
       "  </tbody>\n",
       "</table>\n",
       "</div>"
      ],
      "text/plain": [
       "        pos ref  alt\n",
       "7199  60414   C  [T]\n",
       "8910  77620   C  [G]"
      ]
     },
     "execution_count": 11,
     "metadata": {},
     "output_type": "execute_result"
    }
   ],
   "source": [
    "dropped_SNPs_filter_4.head(n=2)"
   ]
  },
  {
   "cell_type": "code",
   "execution_count": 12,
   "metadata": {},
   "outputs": [
    {
     "data": {
      "text/plain": [
       "(933, 3)"
      ]
     },
     "execution_count": 12,
     "metadata": {},
     "output_type": "execute_result"
    }
   ],
   "source": [
    "dropped_SNPs_filter_4.shape"
   ]
  },
  {
   "cell_type": "markdown",
   "metadata": {},
   "source": [
    "#### combine all of the H37Rv Reference Positions that were dropped into one set"
   ]
  },
  {
   "cell_type": "code",
   "execution_count": 13,
   "metadata": {},
   "outputs": [],
   "source": [
    "H37Rv_positions_to_exclude = set(dropped_SNPs_filter_1 + list(dropped_SNPs_filter_3.pos) + list(dropped_SNPs_filter_4.pos))"
   ]
  },
  {
   "cell_type": "code",
   "execution_count": 14,
   "metadata": {},
   "outputs": [
    {
     "data": {
      "text/plain": [
       "201767"
      ]
     },
     "execution_count": 14,
     "metadata": {},
     "output_type": "execute_result"
    }
   ],
   "source": [
    "len(H37Rv_positions_to_exclude)"
   ]
  },
  {
   "cell_type": "markdown",
   "metadata": {},
   "source": [
    "####################################################################################################################################################################################"
   ]
  },
  {
   "cell_type": "markdown",
   "metadata": {},
   "source": [
    "## [2] *Function* to get length of coding sequence for each gene (after excluding dropped sites)"
   ]
  },
  {
   "cell_type": "markdown",
   "metadata": {},
   "source": [
    "####################################################################################################################################################################################"
   ]
  },
  {
   "cell_type": "code",
   "execution_count": 15,
   "metadata": {},
   "outputs": [],
   "source": [
    "reference_genome_annotation = pd.read_csv('/n/data1/hms/dbmi/farhat/Roger/inhost_TB_dynamics_project/H37Rv/h37rv_genome_summary.txt', '\\t').set_index('name')"
   ]
  },
  {
   "cell_type": "code",
   "execution_count": 16,
   "metadata": {},
   "outputs": [],
   "source": [
    "def get_nucleotide_length(gene_i):\n",
    "\n",
    "    #Identify all bases on H37Rv gene sequence that affect a coding sequence\n",
    "    gene_id_info = reference_genome_annotation.loc[gene_i , :]\n",
    "\n",
    "    chrom_start = gene_id_info.chromStart\n",
    "    chrom_end = gene_id_info.chromEnd\n",
    "\n",
    "    #find the position of the first base relative to H37Rv in 5' -> 3'\n",
    "    H37Rv_start = min(chrom_start , chrom_end)\n",
    "    H37Rv_end = max(chrom_start , chrom_end)\n",
    "\n",
    "    #make a list of all corresponding H37Rv Reference Positions for gene_i\n",
    "    coding_bases = range(H37Rv_start+1 , H37Rv_end+1)\n",
    "\n",
    "    #Filter out any positions that were dropped per (1) low EBR scores, (2) located in MGE region, (3) low SNP base quality across isolates [> 10% isolates had missing calls] or (4) located in overlapping gene region\n",
    "    coding_bases = np.sort(list(set(coding_bases) - H37Rv_positions_to_exclude))\n",
    "\n",
    "    #keep number of positions we are analyzing for this gene to normalize by gene length\n",
    "    num_coding_positions = len(coding_bases) \n",
    "    \n",
    "    return num_coding_positions"
   ]
  },
  {
   "cell_type": "code",
   "execution_count": 17,
   "metadata": {},
   "outputs": [
    {
     "data": {
      "text/plain": [
       "3519"
      ]
     },
     "execution_count": 17,
     "metadata": {},
     "output_type": "execute_result"
    }
   ],
   "source": [
    "get_nucleotide_length('Rv0667')"
   ]
  },
  {
   "cell_type": "markdown",
   "metadata": {},
   "source": [
    "####################################################################################################################################################################################"
   ]
  },
  {
   "cell_type": "markdown",
   "metadata": {},
   "source": [
    "## [3] SNVs: Get gene-wide Syn & NSyn *mutation event* scores"
   ]
  },
  {
   "cell_type": "markdown",
   "metadata": {},
   "source": [
    "####################################################################################################################################################################################"
   ]
  },
  {
   "cell_type": "code",
   "execution_count": 18,
   "metadata": {},
   "outputs": [],
   "source": [
    "#load in SNPs\n",
    "all_homoplasic_SNPs = pd.read_pickle('/n/data1/hms/dbmi/farhat/Roger/homoplasy_project/CSV_files/homoplasies_detected_in_global_lineages/SNP homoplasies from SNPPar/homoplasy_count_across_lineages.pkl')"
   ]
  },
  {
   "cell_type": "code",
   "execution_count": 19,
   "metadata": {},
   "outputs": [
    {
     "data": {
      "text/plain": [
       "(834981, 20)"
      ]
     },
     "execution_count": 19,
     "metadata": {},
     "output_type": "execute_result"
    }
   ],
   "source": [
    "all_homoplasic_SNPs.shape"
   ]
  },
  {
   "cell_type": "markdown",
   "metadata": {},
   "source": [
    "Exclude Mobile Genetic Elements"
   ]
  },
  {
   "cell_type": "code",
   "execution_count": 20,
   "metadata": {},
   "outputs": [],
   "source": [
    "all_homoplasic_SNPs = all_homoplasic_SNPs[all_homoplasic_SNPs.gene_category != 'Mobile Genetic Element']"
   ]
  },
  {
   "cell_type": "code",
   "execution_count": 21,
   "metadata": {
    "scrolled": true
   },
   "outputs": [
    {
     "data": {
      "text/plain": [
       "(834971, 20)"
      ]
     },
     "execution_count": 21,
     "metadata": {},
     "output_type": "execute_result"
    }
   ],
   "source": [
    "all_homoplasic_SNPs.shape"
   ]
  },
  {
   "cell_type": "markdown",
   "metadata": {},
   "source": [
    "### SNPs"
   ]
  },
  {
   "cell_type": "code",
   "execution_count": 22,
   "metadata": {},
   "outputs": [
    {
     "data": {
      "text/html": [
       "<div>\n",
       "<style>\n",
       "    .dataframe thead tr:only-child th {\n",
       "        text-align: right;\n",
       "    }\n",
       "\n",
       "    .dataframe thead th {\n",
       "        text-align: left;\n",
       "    }\n",
       "\n",
       "    .dataframe tbody tr th {\n",
       "        vertical-align: top;\n",
       "    }\n",
       "</style>\n",
       "<table border=\"1\" class=\"dataframe\">\n",
       "  <thead>\n",
       "    <tr style=\"text-align: right;\">\n",
       "      <th></th>\n",
       "      <th>pos</th>\n",
       "      <th>ref</th>\n",
       "      <th>alt</th>\n",
       "      <th>minor</th>\n",
       "      <th>gene_id</th>\n",
       "      <th>gene_pos</th>\n",
       "      <th>gene_category</th>\n",
       "      <th>SNP_type</th>\n",
       "      <th>AA_change</th>\n",
       "      <th>1</th>\n",
       "      <th>2</th>\n",
       "      <th>3</th>\n",
       "      <th>4A</th>\n",
       "      <th>4B</th>\n",
       "      <th>4C</th>\n",
       "      <th>5</th>\n",
       "      <th>6</th>\n",
       "      <th>total</th>\n",
       "      <th>gene_name</th>\n",
       "      <th>num_isolates_alt</th>\n",
       "    </tr>\n",
       "  </thead>\n",
       "  <tbody>\n",
       "    <tr>\n",
       "      <th>0</th>\n",
       "      <td>2155168.0</td>\n",
       "      <td>C</td>\n",
       "      <td>G</td>\n",
       "      <td>G</td>\n",
       "      <td>Rv1908c</td>\n",
       "      <td>944</td>\n",
       "      <td>Antibiotic Resistance</td>\n",
       "      <td>N</td>\n",
       "      <td>S315T</td>\n",
       "      <td>203</td>\n",
       "      <td>408</td>\n",
       "      <td>297</td>\n",
       "      <td>306</td>\n",
       "      <td>310</td>\n",
       "      <td>179</td>\n",
       "      <td>8</td>\n",
       "      <td>6</td>\n",
       "      <td>1717</td>\n",
       "      <td>katG</td>\n",
       "      <td>8066</td>\n",
       "    </tr>\n",
       "    <tr>\n",
       "      <th>1</th>\n",
       "      <td>761155.0</td>\n",
       "      <td>C</td>\n",
       "      <td>T</td>\n",
       "      <td>T</td>\n",
       "      <td>Rv0667</td>\n",
       "      <td>1349</td>\n",
       "      <td>Antibiotic Resistance</td>\n",
       "      <td>N</td>\n",
       "      <td>S450L</td>\n",
       "      <td>75</td>\n",
       "      <td>415</td>\n",
       "      <td>199</td>\n",
       "      <td>222</td>\n",
       "      <td>311</td>\n",
       "      <td>173</td>\n",
       "      <td>8</td>\n",
       "      <td>3</td>\n",
       "      <td>1406</td>\n",
       "      <td>rpoB</td>\n",
       "      <td>5706</td>\n",
       "    </tr>\n",
       "    <tr>\n",
       "      <th>2</th>\n",
       "      <td>781687.0</td>\n",
       "      <td>A</td>\n",
       "      <td>G</td>\n",
       "      <td>G</td>\n",
       "      <td>Rv0682</td>\n",
       "      <td>128</td>\n",
       "      <td>Antibiotic Resistance</td>\n",
       "      <td>N</td>\n",
       "      <td>K43R</td>\n",
       "      <td>37</td>\n",
       "      <td>463</td>\n",
       "      <td>102</td>\n",
       "      <td>65</td>\n",
       "      <td>53</td>\n",
       "      <td>51</td>\n",
       "      <td>6</td>\n",
       "      <td>2</td>\n",
       "      <td>779</td>\n",
       "      <td>rpsL</td>\n",
       "      <td>3509</td>\n",
       "    </tr>\n",
       "    <tr>\n",
       "      <th>4</th>\n",
       "      <td>4247429.0</td>\n",
       "      <td>A</td>\n",
       "      <td>G</td>\n",
       "      <td>G</td>\n",
       "      <td>Rv3795</td>\n",
       "      <td>916</td>\n",
       "      <td>Antibiotic Resistance</td>\n",
       "      <td>N</td>\n",
       "      <td>M306V</td>\n",
       "      <td>32</td>\n",
       "      <td>406</td>\n",
       "      <td>67</td>\n",
       "      <td>76</td>\n",
       "      <td>99</td>\n",
       "      <td>60</td>\n",
       "      <td>2</td>\n",
       "      <td>1</td>\n",
       "      <td>743</td>\n",
       "      <td>embB</td>\n",
       "      <td>2102</td>\n",
       "    </tr>\n",
       "    <tr>\n",
       "      <th>6</th>\n",
       "      <td>7582.0</td>\n",
       "      <td>A</td>\n",
       "      <td>G</td>\n",
       "      <td>G</td>\n",
       "      <td>Rv0006</td>\n",
       "      <td>281</td>\n",
       "      <td>Antibiotic Resistance</td>\n",
       "      <td>N</td>\n",
       "      <td>D94G</td>\n",
       "      <td>10</td>\n",
       "      <td>320</td>\n",
       "      <td>67</td>\n",
       "      <td>77</td>\n",
       "      <td>53</td>\n",
       "      <td>25</td>\n",
       "      <td>0</td>\n",
       "      <td>0</td>\n",
       "      <td>552</td>\n",
       "      <td>gyrA</td>\n",
       "      <td>844</td>\n",
       "    </tr>\n",
       "  </tbody>\n",
       "</table>\n",
       "</div>"
      ],
      "text/plain": [
       "         pos ref alt minor  gene_id gene_pos          gene_category SNP_type  \\\n",
       "0  2155168.0   C   G     G  Rv1908c      944  Antibiotic Resistance        N   \n",
       "1   761155.0   C   T     T   Rv0667     1349  Antibiotic Resistance        N   \n",
       "2   781687.0   A   G     G   Rv0682      128  Antibiotic Resistance        N   \n",
       "4  4247429.0   A   G     G   Rv3795      916  Antibiotic Resistance        N   \n",
       "6     7582.0   A   G     G   Rv0006      281  Antibiotic Resistance        N   \n",
       "\n",
       "  AA_change    1    2    3   4A   4B   4C  5  6  total gene_name  \\\n",
       "0     S315T  203  408  297  306  310  179  8  6   1717      katG   \n",
       "1     S450L   75  415  199  222  311  173  8  3   1406      rpoB   \n",
       "2      K43R   37  463  102   65   53   51  6  2    779      rpsL   \n",
       "4     M306V   32  406   67   76   99   60  2  1    743      embB   \n",
       "6      D94G   10  320   67   77   53   25  0  0    552      gyrA   \n",
       "\n",
       "   num_isolates_alt  \n",
       "0              8066  \n",
       "1              5706  \n",
       "2              3509  \n",
       "4              2102  \n",
       "6               844  "
      ]
     },
     "execution_count": 22,
     "metadata": {},
     "output_type": "execute_result"
    }
   ],
   "source": [
    "all_homoplasic_SNPs.head()"
   ]
  },
  {
   "cell_type": "code",
   "execution_count": 23,
   "metadata": {},
   "outputs": [
    {
     "data": {
      "text/html": [
       "<div>\n",
       "<style>\n",
       "    .dataframe thead tr:only-child th {\n",
       "        text-align: right;\n",
       "    }\n",
       "\n",
       "    .dataframe thead th {\n",
       "        text-align: left;\n",
       "    }\n",
       "\n",
       "    .dataframe tbody tr th {\n",
       "        vertical-align: top;\n",
       "    }\n",
       "</style>\n",
       "<table border=\"1\" class=\"dataframe\">\n",
       "  <thead>\n",
       "    <tr style=\"text-align: right;\">\n",
       "      <th></th>\n",
       "      <th>pos</th>\n",
       "      <th>ref</th>\n",
       "      <th>alt</th>\n",
       "      <th>minor</th>\n",
       "      <th>gene_id</th>\n",
       "      <th>gene_pos</th>\n",
       "      <th>gene_category</th>\n",
       "      <th>SNP_type</th>\n",
       "      <th>AA_change</th>\n",
       "      <th>1</th>\n",
       "      <th>2</th>\n",
       "      <th>3</th>\n",
       "      <th>4A</th>\n",
       "      <th>4B</th>\n",
       "      <th>4C</th>\n",
       "      <th>5</th>\n",
       "      <th>6</th>\n",
       "      <th>total</th>\n",
       "      <th>gene_name</th>\n",
       "      <th>num_isolates_alt</th>\n",
       "    </tr>\n",
       "  </thead>\n",
       "  <tbody>\n",
       "    <tr>\n",
       "      <th>833683</th>\n",
       "      <td>1489655.0</td>\n",
       "      <td>A</td>\n",
       "      <td>G</td>\n",
       "      <td>G</td>\n",
       "      <td>Rv1325c</td>\n",
       "      <td>311</td>\n",
       "      <td>PE/PPE</td>\n",
       "      <td>N</td>\n",
       "      <td>I104T</td>\n",
       "      <td>1</td>\n",
       "      <td>0</td>\n",
       "      <td>0</td>\n",
       "      <td>0</td>\n",
       "      <td>0</td>\n",
       "      <td>0</td>\n",
       "      <td>0</td>\n",
       "      <td>0</td>\n",
       "      <td>1</td>\n",
       "      <td>PE_PGRS24</td>\n",
       "      <td>1</td>\n",
       "    </tr>\n",
       "    <tr>\n",
       "      <th>833686</th>\n",
       "      <td>1489661.0</td>\n",
       "      <td>A</td>\n",
       "      <td>G</td>\n",
       "      <td>G</td>\n",
       "      <td>Rv1325c</td>\n",
       "      <td>305</td>\n",
       "      <td>PE/PPE</td>\n",
       "      <td>N</td>\n",
       "      <td>L102P</td>\n",
       "      <td>0</td>\n",
       "      <td>0</td>\n",
       "      <td>0</td>\n",
       "      <td>1</td>\n",
       "      <td>0</td>\n",
       "      <td>0</td>\n",
       "      <td>0</td>\n",
       "      <td>0</td>\n",
       "      <td>1</td>\n",
       "      <td>PE_PGRS24</td>\n",
       "      <td>1</td>\n",
       "    </tr>\n",
       "    <tr>\n",
       "      <th>833688</th>\n",
       "      <td>1489670.0</td>\n",
       "      <td>T</td>\n",
       "      <td>C</td>\n",
       "      <td>C</td>\n",
       "      <td>Rv1325c</td>\n",
       "      <td>296</td>\n",
       "      <td>PE/PPE</td>\n",
       "      <td>N</td>\n",
       "      <td>E99G</td>\n",
       "      <td>0</td>\n",
       "      <td>0</td>\n",
       "      <td>1</td>\n",
       "      <td>0</td>\n",
       "      <td>0</td>\n",
       "      <td>0</td>\n",
       "      <td>0</td>\n",
       "      <td>0</td>\n",
       "      <td>1</td>\n",
       "      <td>PE_PGRS24</td>\n",
       "      <td>1</td>\n",
       "    </tr>\n",
       "    <tr>\n",
       "      <th>833690</th>\n",
       "      <td>1489671.0</td>\n",
       "      <td>C</td>\n",
       "      <td>A</td>\n",
       "      <td>A</td>\n",
       "      <td>Rv1325c</td>\n",
       "      <td>295</td>\n",
       "      <td>PE/PPE</td>\n",
       "      <td>N</td>\n",
       "      <td>E99*</td>\n",
       "      <td>0</td>\n",
       "      <td>0</td>\n",
       "      <td>0</td>\n",
       "      <td>1</td>\n",
       "      <td>0</td>\n",
       "      <td>0</td>\n",
       "      <td>0</td>\n",
       "      <td>0</td>\n",
       "      <td>1</td>\n",
       "      <td>PE_PGRS24</td>\n",
       "      <td>1</td>\n",
       "    </tr>\n",
       "    <tr>\n",
       "      <th>833691</th>\n",
       "      <td>1489671.0</td>\n",
       "      <td>C</td>\n",
       "      <td>T</td>\n",
       "      <td>T</td>\n",
       "      <td>Rv1325c</td>\n",
       "      <td>295</td>\n",
       "      <td>PE/PPE</td>\n",
       "      <td>N</td>\n",
       "      <td>E99K</td>\n",
       "      <td>0</td>\n",
       "      <td>1</td>\n",
       "      <td>0</td>\n",
       "      <td>0</td>\n",
       "      <td>0</td>\n",
       "      <td>0</td>\n",
       "      <td>0</td>\n",
       "      <td>0</td>\n",
       "      <td>1</td>\n",
       "      <td>PE_PGRS24</td>\n",
       "      <td>12</td>\n",
       "    </tr>\n",
       "  </tbody>\n",
       "</table>\n",
       "</div>"
      ],
      "text/plain": [
       "              pos ref alt minor  gene_id gene_pos gene_category SNP_type  \\\n",
       "833683  1489655.0   A   G     G  Rv1325c      311        PE/PPE        N   \n",
       "833686  1489661.0   A   G     G  Rv1325c      305        PE/PPE        N   \n",
       "833688  1489670.0   T   C     C  Rv1325c      296        PE/PPE        N   \n",
       "833690  1489671.0   C   A     A  Rv1325c      295        PE/PPE        N   \n",
       "833691  1489671.0   C   T     T  Rv1325c      295        PE/PPE        N   \n",
       "\n",
       "       AA_change  1  2  3  4A  4B  4C  5  6  total  gene_name  \\\n",
       "833683     I104T  1  0  0   0   0   0  0  0      1  PE_PGRS24   \n",
       "833686     L102P  0  0  0   1   0   0  0  0      1  PE_PGRS24   \n",
       "833688      E99G  0  0  1   0   0   0  0  0      1  PE_PGRS24   \n",
       "833690      E99*  0  0  0   1   0   0  0  0      1  PE_PGRS24   \n",
       "833691      E99K  0  1  0   0   0   0  0  0      1  PE_PGRS24   \n",
       "\n",
       "        num_isolates_alt  \n",
       "833683                 1  \n",
       "833686                 1  \n",
       "833688                 1  \n",
       "833690                 1  \n",
       "833691                12  "
      ]
     },
     "execution_count": 23,
     "metadata": {},
     "output_type": "execute_result"
    }
   ],
   "source": [
    "all_homoplasic_SNPs.tail()"
   ]
  },
  {
   "cell_type": "code",
   "execution_count": 24,
   "metadata": {},
   "outputs": [],
   "source": [
    "# get gene list\n",
    "gene_ids_list = list(set(all_homoplasic_SNPs.gene_id))\n",
    "gene_ids_list = [x for x in gene_ids_list if str(x) != 'nan'] # get rid of nan \n",
    "gene_ids_list = [x for x in gene_ids_list if '_' not in x] # get rid of intergenic regions\n",
    "\n",
    "# get gene symbols as a series (index gene id, value gene symbol)\n",
    "gene_id_and_symbol_list = [[gene_id , list(all_homoplasic_SNPs[all_homoplasic_SNPs.gene_id == gene_id].gene_name)[0]] for gene_id in gene_ids_list]\n",
    "gene_id_and_symbol_dict = dict(gene_id_and_symbol_list)\n",
    "gene_id_and_symbol_series = pd.Series(gene_id_and_symbol_dict , name = 'gene_name')"
   ]
  },
  {
   "cell_type": "code",
   "execution_count": 25,
   "metadata": {},
   "outputs": [],
   "source": [
    "#number of unique SNVs (not necessarily sites since non bi-allelic SNP sites may have 2 or 3 alternate/mutant alleles)\n",
    "#iterate through each gene and collect number of Syn & NSyn mutation events and number of unique SNVs\n",
    "num_unique_SNVs_per_gene = []\n",
    "num_Syn_ME_per_gene = []\n",
    "num_NSyn_ME_per_gene = []\n",
    "nuc_length_per_gene = []\n",
    "\n",
    "SNV_count_by_gene_df = pd.DataFrame(gene_id_and_symbol_series)\n",
    "\n",
    "for gene_id in SNV_count_by_gene_df.index:\n",
    "    all_SNV_ME_for_gene = all_homoplasic_SNPs[all_homoplasic_SNPs.gene_id == gene_id] #get all SNVs that correspond to this gene\n",
    "    Syn_SNV_ME_for_gene = all_SNV_ME_for_gene[all_SNV_ME_for_gene.SNP_type == 'S'] #set Synonymous mutation events\n",
    "    NSyn_SNV_ME_for_gene = all_SNV_ME_for_gene[all_SNV_ME_for_gene.SNP_type == 'N'] #set Non-Synonymous mutation events\n",
    "\n",
    "    num_unique_SNVs_per_gene.append(float(len(all_SNV_ME_for_gene.index))) #number of SNVs identified in gene with at least 1 ME\n",
    "    \n",
    "    #get the number of mutation events for all SNVs (even for SNVs that had 1 ME)\n",
    "    num_Syn_ME_per_gene.append(float(Syn_SNV_ME_for_gene.total.sum()))\n",
    "    num_NSyn_ME_per_gene.append(float(NSyn_SNV_ME_for_gene.total.sum()))\n",
    "    \n",
    "    #get the nucleotide length for each gene (nucleotide reference position sites that weren't dropped through filtering)\n",
    "    nuc_length_per_gene.append(get_nucleotide_length(gene_id))\n",
    "\n",
    "#number of unique SNVs detected on gene with at least 1 ME\n",
    "SNV_count_by_gene_df.loc[: , 'unique_SNV_count'] = num_unique_SNVs_per_gene\n",
    "\n",
    "#number of mutation events that occurred on gene broken down by functional type\n",
    "SNV_count_by_gene_df.loc[: , 'Syn_ME_count'] = num_Syn_ME_per_gene\n",
    "SNV_count_by_gene_df.loc[: , 'NSyn_ME_count'] = num_NSyn_ME_per_gene\n",
    "SNV_count_by_gene_df.loc[: , 'ME_count'] = SNV_count_by_gene_df.NSyn_ME_count + SNV_count_by_gene_df.Syn_ME_count\n",
    "\n",
    "#length of nucleotide sequence considered per gene\n",
    "SNV_count_by_gene_df.loc[: , 'nuc_length'] = nuc_length_per_gene"
   ]
  },
  {
   "cell_type": "code",
   "execution_count": 26,
   "metadata": {},
   "outputs": [
    {
     "data": {
      "text/html": [
       "<div>\n",
       "<style>\n",
       "    .dataframe thead tr:only-child th {\n",
       "        text-align: right;\n",
       "    }\n",
       "\n",
       "    .dataframe thead th {\n",
       "        text-align: left;\n",
       "    }\n",
       "\n",
       "    .dataframe tbody tr th {\n",
       "        vertical-align: top;\n",
       "    }\n",
       "</style>\n",
       "<table border=\"1\" class=\"dataframe\">\n",
       "  <thead>\n",
       "    <tr style=\"text-align: right;\">\n",
       "      <th></th>\n",
       "      <th>gene_name</th>\n",
       "      <th>unique_SNV_count</th>\n",
       "      <th>Syn_ME_count</th>\n",
       "      <th>NSyn_ME_count</th>\n",
       "      <th>ME_count</th>\n",
       "      <th>nuc_length</th>\n",
       "    </tr>\n",
       "  </thead>\n",
       "  <tbody>\n",
       "    <tr>\n",
       "      <th>Rv0001</th>\n",
       "      <td>dnaA</td>\n",
       "      <td>467.0</td>\n",
       "      <td>162.0</td>\n",
       "      <td>673.0</td>\n",
       "      <td>835.0</td>\n",
       "      <td>1495</td>\n",
       "    </tr>\n",
       "    <tr>\n",
       "      <th>Rv0002</th>\n",
       "      <td>dnaN</td>\n",
       "      <td>275.0</td>\n",
       "      <td>105.0</td>\n",
       "      <td>203.0</td>\n",
       "      <td>308.0</td>\n",
       "      <td>1133</td>\n",
       "    </tr>\n",
       "    <tr>\n",
       "      <th>Rv0003</th>\n",
       "      <td>recF</td>\n",
       "      <td>281.0</td>\n",
       "      <td>151.0</td>\n",
       "      <td>180.0</td>\n",
       "      <td>331.0</td>\n",
       "      <td>1158</td>\n",
       "    </tr>\n",
       "    <tr>\n",
       "      <th>Rv0004</th>\n",
       "      <td>Rv0004</td>\n",
       "      <td>213.0</td>\n",
       "      <td>74.0</td>\n",
       "      <td>189.0</td>\n",
       "      <td>263.0</td>\n",
       "      <td>564</td>\n",
       "    </tr>\n",
       "    <tr>\n",
       "      <th>Rv0005</th>\n",
       "      <td>gyrB</td>\n",
       "      <td>588.0</td>\n",
       "      <td>276.0</td>\n",
       "      <td>574.0</td>\n",
       "      <td>850.0</td>\n",
       "      <td>2027</td>\n",
       "    </tr>\n",
       "  </tbody>\n",
       "</table>\n",
       "</div>"
      ],
      "text/plain": [
       "       gene_name  unique_SNV_count  Syn_ME_count  NSyn_ME_count  ME_count  \\\n",
       "Rv0001      dnaA             467.0         162.0          673.0     835.0   \n",
       "Rv0002      dnaN             275.0         105.0          203.0     308.0   \n",
       "Rv0003      recF             281.0         151.0          180.0     331.0   \n",
       "Rv0004    Rv0004             213.0          74.0          189.0     263.0   \n",
       "Rv0005      gyrB             588.0         276.0          574.0     850.0   \n",
       "\n",
       "        nuc_length  \n",
       "Rv0001        1495  \n",
       "Rv0002        1133  \n",
       "Rv0003        1158  \n",
       "Rv0004         564  \n",
       "Rv0005        2027  "
      ]
     },
     "execution_count": 26,
     "metadata": {},
     "output_type": "execute_result"
    }
   ],
   "source": [
    "SNV_count_by_gene_df.head()"
   ]
  },
  {
   "cell_type": "code",
   "execution_count": 27,
   "metadata": {},
   "outputs": [
    {
     "data": {
      "text/plain": [
       "(3899, 6)"
      ]
     },
     "execution_count": 27,
     "metadata": {},
     "output_type": "execute_result"
    }
   ],
   "source": [
    "np.shape(SNV_count_by_gene_df)"
   ]
  },
  {
   "cell_type": "markdown",
   "metadata": {},
   "source": [
    "#### Keep genes that have at least 1 ME"
   ]
  },
  {
   "cell_type": "code",
   "execution_count": 28,
   "metadata": {},
   "outputs": [],
   "source": [
    "genes_to_keep = SNV_count_by_gene_df.ME_count >= 1\n",
    "SNV_count_by_gene_df = SNV_count_by_gene_df[genes_to_keep]"
   ]
  },
  {
   "cell_type": "code",
   "execution_count": 29,
   "metadata": {},
   "outputs": [
    {
     "data": {
      "text/plain": [
       "(3854, 6)"
      ]
     },
     "execution_count": 29,
     "metadata": {},
     "output_type": "execute_result"
    }
   ],
   "source": [
    "np.shape(SNV_count_by_gene_df)"
   ]
  },
  {
   "cell_type": "markdown",
   "metadata": {},
   "source": [
    "####################################################################################################################################################################################"
   ]
  },
  {
   "cell_type": "markdown",
   "metadata": {},
   "source": [
    "## [4] INDELs: Get gene-wide inframe & frameshift *mutation event* scores"
   ]
  },
  {
   "cell_type": "markdown",
   "metadata": {},
   "source": [
    "####################################################################################################################################################################################"
   ]
  },
  {
   "cell_type": "markdown",
   "metadata": {},
   "source": [
    "### INDELs"
   ]
  },
  {
   "cell_type": "code",
   "execution_count": 30,
   "metadata": {},
   "outputs": [],
   "source": [
    "#load in INDELs\n",
    "all_homoplasic_INDELs = pd.read_pickle('/n/data1/hms/dbmi/farhat/Roger/homoplasy_project/CSV_files/homoplasies_detected_in_global_lineages/INDEL homoplasies/homoplasy_count_across_lineages_spacer_4.pkl')"
   ]
  },
  {
   "cell_type": "code",
   "execution_count": 31,
   "metadata": {},
   "outputs": [
    {
     "data": {
      "text/plain": [
       "(46306, 22)"
      ]
     },
     "execution_count": 31,
     "metadata": {},
     "output_type": "execute_result"
    }
   ],
   "source": [
    "all_homoplasic_INDELs.shape"
   ]
  },
  {
   "cell_type": "markdown",
   "metadata": {},
   "source": [
    "Exclude Mobile Genetic Elements"
   ]
  },
  {
   "cell_type": "code",
   "execution_count": 32,
   "metadata": {},
   "outputs": [],
   "source": [
    "all_homoplasic_INDELs = all_homoplasic_INDELs[all_homoplasic_INDELs.gene_category != 'Mobile Genetic Element']"
   ]
  },
  {
   "cell_type": "code",
   "execution_count": 33,
   "metadata": {
    "scrolled": true
   },
   "outputs": [
    {
     "data": {
      "text/plain": [
       "(46305, 22)"
      ]
     },
     "execution_count": 33,
     "metadata": {},
     "output_type": "execute_result"
    }
   ],
   "source": [
    "all_homoplasic_INDELs.shape"
   ]
  },
  {
   "cell_type": "code",
   "execution_count": 34,
   "metadata": {},
   "outputs": [
    {
     "data": {
      "text/html": [
       "<div>\n",
       "<style>\n",
       "    .dataframe thead tr:only-child th {\n",
       "        text-align: right;\n",
       "    }\n",
       "\n",
       "    .dataframe thead th {\n",
       "        text-align: left;\n",
       "    }\n",
       "\n",
       "    .dataframe tbody tr th {\n",
       "        vertical-align: top;\n",
       "    }\n",
       "</style>\n",
       "<table border=\"1\" class=\"dataframe\">\n",
       "  <thead>\n",
       "    <tr style=\"text-align: right;\">\n",
       "      <th></th>\n",
       "      <th>pos</th>\n",
       "      <th>ref</th>\n",
       "      <th>alt</th>\n",
       "      <th>gene_category</th>\n",
       "      <th>gene_name</th>\n",
       "      <th>gene_id</th>\n",
       "      <th>gene_pos</th>\n",
       "      <th>ins_del</th>\n",
       "      <th>INDEL_type</th>\n",
       "      <th>codon_pos</th>\n",
       "      <th>...</th>\n",
       "      <th>1</th>\n",
       "      <th>2</th>\n",
       "      <th>3</th>\n",
       "      <th>4A</th>\n",
       "      <th>4B</th>\n",
       "      <th>4C</th>\n",
       "      <th>5</th>\n",
       "      <th>6</th>\n",
       "      <th>total</th>\n",
       "      <th>num_isolates</th>\n",
       "    </tr>\n",
       "  </thead>\n",
       "  <tbody>\n",
       "    <tr>\n",
       "      <th>47371</th>\n",
       "      <td>4408100</td>\n",
       "      <td>GC</td>\n",
       "      <td>G</td>\n",
       "      <td>Antibiotic Resistance</td>\n",
       "      <td>gid</td>\n",
       "      <td>Rv3919c</td>\n",
       "      <td>103</td>\n",
       "      <td>del</td>\n",
       "      <td>frameshift</td>\n",
       "      <td>35</td>\n",
       "      <td>...</td>\n",
       "      <td>41.0</td>\n",
       "      <td>27.0</td>\n",
       "      <td>51.0</td>\n",
       "      <td>43.0</td>\n",
       "      <td>11.0</td>\n",
       "      <td>29.0</td>\n",
       "      <td>0.0</td>\n",
       "      <td>0.0</td>\n",
       "      <td>202.0</td>\n",
       "      <td>388</td>\n",
       "    </tr>\n",
       "    <tr>\n",
       "      <th>47365</th>\n",
       "      <td>4408087</td>\n",
       "      <td>CG</td>\n",
       "      <td>C</td>\n",
       "      <td>Antibiotic Resistance</td>\n",
       "      <td>gid</td>\n",
       "      <td>Rv3919c</td>\n",
       "      <td>116</td>\n",
       "      <td>del</td>\n",
       "      <td>frameshift</td>\n",
       "      <td>39</td>\n",
       "      <td>...</td>\n",
       "      <td>23.0</td>\n",
       "      <td>11.0</td>\n",
       "      <td>35.0</td>\n",
       "      <td>33.0</td>\n",
       "      <td>10.0</td>\n",
       "      <td>18.0</td>\n",
       "      <td>0.0</td>\n",
       "      <td>0.0</td>\n",
       "      <td>130.0</td>\n",
       "      <td>212</td>\n",
       "    </tr>\n",
       "    <tr>\n",
       "      <th>47313</th>\n",
       "      <td>4407851</td>\n",
       "      <td>GC</td>\n",
       "      <td>G</td>\n",
       "      <td>Antibiotic Resistance</td>\n",
       "      <td>gid</td>\n",
       "      <td>Rv3919c</td>\n",
       "      <td>352</td>\n",
       "      <td>del</td>\n",
       "      <td>frameshift</td>\n",
       "      <td>118</td>\n",
       "      <td>...</td>\n",
       "      <td>21.0</td>\n",
       "      <td>9.0</td>\n",
       "      <td>40.0</td>\n",
       "      <td>20.0</td>\n",
       "      <td>6.0</td>\n",
       "      <td>19.0</td>\n",
       "      <td>0.0</td>\n",
       "      <td>0.0</td>\n",
       "      <td>115.0</td>\n",
       "      <td>182</td>\n",
       "    </tr>\n",
       "    <tr>\n",
       "      <th>25151</th>\n",
       "      <td>2288850</td>\n",
       "      <td>A</td>\n",
       "      <td>ACC</td>\n",
       "      <td>Antibiotic Resistance</td>\n",
       "      <td>pncA</td>\n",
       "      <td>Rv2043c</td>\n",
       "      <td>392</td>\n",
       "      <td>ins</td>\n",
       "      <td>frameshift</td>\n",
       "      <td>131</td>\n",
       "      <td>...</td>\n",
       "      <td>1.0</td>\n",
       "      <td>14.0</td>\n",
       "      <td>6.0</td>\n",
       "      <td>3.0</td>\n",
       "      <td>6.0</td>\n",
       "      <td>2.0</td>\n",
       "      <td>0.0</td>\n",
       "      <td>0.0</td>\n",
       "      <td>32.0</td>\n",
       "      <td>48</td>\n",
       "    </tr>\n",
       "    <tr>\n",
       "      <th>47315</th>\n",
       "      <td>4407851</td>\n",
       "      <td>G</td>\n",
       "      <td>GC</td>\n",
       "      <td>Antibiotic Resistance</td>\n",
       "      <td>gid</td>\n",
       "      <td>Rv3919c</td>\n",
       "      <td>352</td>\n",
       "      <td>ins</td>\n",
       "      <td>frameshift</td>\n",
       "      <td>118</td>\n",
       "      <td>...</td>\n",
       "      <td>5.0</td>\n",
       "      <td>1.0</td>\n",
       "      <td>12.0</td>\n",
       "      <td>5.0</td>\n",
       "      <td>7.0</td>\n",
       "      <td>1.0</td>\n",
       "      <td>0.0</td>\n",
       "      <td>0.0</td>\n",
       "      <td>31.0</td>\n",
       "      <td>52</td>\n",
       "    </tr>\n",
       "  </tbody>\n",
       "</table>\n",
       "<p>5 rows × 22 columns</p>\n",
       "</div>"
      ],
      "text/plain": [
       "           pos ref  alt          gene_category gene_name  gene_id gene_pos  \\\n",
       "47371  4408100  GC    G  Antibiotic Resistance       gid  Rv3919c      103   \n",
       "47365  4408087  CG    C  Antibiotic Resistance       gid  Rv3919c      116   \n",
       "47313  4407851  GC    G  Antibiotic Resistance       gid  Rv3919c      352   \n",
       "25151  2288850   A  ACC  Antibiotic Resistance      pncA  Rv2043c      392   \n",
       "47315  4407851   G   GC  Antibiotic Resistance       gid  Rv3919c      352   \n",
       "\n",
       "      ins_del  INDEL_type codon_pos      ...          1     2     3    4A  \\\n",
       "47371     del  frameshift        35      ...       41.0  27.0  51.0  43.0   \n",
       "47365     del  frameshift        39      ...       23.0  11.0  35.0  33.0   \n",
       "47313     del  frameshift       118      ...       21.0   9.0  40.0  20.0   \n",
       "25151     ins  frameshift       131      ...        1.0  14.0   6.0   3.0   \n",
       "47315     ins  frameshift       118      ...        5.0   1.0  12.0   5.0   \n",
       "\n",
       "         4B    4C    5    6  total  num_isolates  \n",
       "47371  11.0  29.0  0.0  0.0  202.0           388  \n",
       "47365  10.0  18.0  0.0  0.0  130.0           212  \n",
       "47313   6.0  19.0  0.0  0.0  115.0           182  \n",
       "25151   6.0   2.0  0.0  0.0   32.0            48  \n",
       "47315   7.0   1.0  0.0  0.0   31.0            52  \n",
       "\n",
       "[5 rows x 22 columns]"
      ]
     },
     "execution_count": 34,
     "metadata": {},
     "output_type": "execute_result"
    }
   ],
   "source": [
    "all_homoplasic_INDELs.head(n = 5)"
   ]
  },
  {
   "cell_type": "code",
   "execution_count": 35,
   "metadata": {
    "scrolled": true
   },
   "outputs": [
    {
     "data": {
      "text/html": [
       "<div>\n",
       "<style>\n",
       "    .dataframe thead tr:only-child th {\n",
       "        text-align: right;\n",
       "    }\n",
       "\n",
       "    .dataframe thead th {\n",
       "        text-align: left;\n",
       "    }\n",
       "\n",
       "    .dataframe tbody tr th {\n",
       "        vertical-align: top;\n",
       "    }\n",
       "</style>\n",
       "<table border=\"1\" class=\"dataframe\">\n",
       "  <thead>\n",
       "    <tr style=\"text-align: right;\">\n",
       "      <th></th>\n",
       "      <th>pos</th>\n",
       "      <th>ref</th>\n",
       "      <th>alt</th>\n",
       "      <th>gene_category</th>\n",
       "      <th>gene_name</th>\n",
       "      <th>gene_id</th>\n",
       "      <th>gene_pos</th>\n",
       "      <th>ins_del</th>\n",
       "      <th>INDEL_type</th>\n",
       "      <th>codon_pos</th>\n",
       "      <th>...</th>\n",
       "      <th>1</th>\n",
       "      <th>2</th>\n",
       "      <th>3</th>\n",
       "      <th>4A</th>\n",
       "      <th>4B</th>\n",
       "      <th>4C</th>\n",
       "      <th>5</th>\n",
       "      <th>6</th>\n",
       "      <th>total</th>\n",
       "      <th>num_isolates</th>\n",
       "    </tr>\n",
       "  </thead>\n",
       "  <tbody>\n",
       "    <tr>\n",
       "      <th>46698</th>\n",
       "      <td>4375788</td>\n",
       "      <td>T</td>\n",
       "      <td>TG</td>\n",
       "      <td>PE/PPE</td>\n",
       "      <td>PE36</td>\n",
       "      <td>Rv3893c</td>\n",
       "      <td>208</td>\n",
       "      <td>ins</td>\n",
       "      <td>frameshift</td>\n",
       "      <td>70</td>\n",
       "      <td>...</td>\n",
       "      <td>0.0</td>\n",
       "      <td>0.0</td>\n",
       "      <td>0.0</td>\n",
       "      <td>1.0</td>\n",
       "      <td>0.0</td>\n",
       "      <td>0.0</td>\n",
       "      <td>0.0</td>\n",
       "      <td>0.0</td>\n",
       "      <td>1.0</td>\n",
       "      <td>392</td>\n",
       "    </tr>\n",
       "    <tr>\n",
       "      <th>46699</th>\n",
       "      <td>4375794</td>\n",
       "      <td>GT</td>\n",
       "      <td>G</td>\n",
       "      <td>PE/PPE</td>\n",
       "      <td>PE36</td>\n",
       "      <td>Rv3893c</td>\n",
       "      <td>202</td>\n",
       "      <td>del</td>\n",
       "      <td>frameshift</td>\n",
       "      <td>68</td>\n",
       "      <td>...</td>\n",
       "      <td>0.0</td>\n",
       "      <td>1.0</td>\n",
       "      <td>0.0</td>\n",
       "      <td>0.0</td>\n",
       "      <td>0.0</td>\n",
       "      <td>0.0</td>\n",
       "      <td>0.0</td>\n",
       "      <td>0.0</td>\n",
       "      <td>1.0</td>\n",
       "      <td>1</td>\n",
       "    </tr>\n",
       "    <tr>\n",
       "      <th>46700</th>\n",
       "      <td>4375898</td>\n",
       "      <td>GGC</td>\n",
       "      <td>G</td>\n",
       "      <td>PE/PPE</td>\n",
       "      <td>PE36</td>\n",
       "      <td>Rv3893c</td>\n",
       "      <td>98</td>\n",
       "      <td>del</td>\n",
       "      <td>frameshift</td>\n",
       "      <td>33</td>\n",
       "      <td>...</td>\n",
       "      <td>0.0</td>\n",
       "      <td>0.0</td>\n",
       "      <td>0.0</td>\n",
       "      <td>1.0</td>\n",
       "      <td>0.0</td>\n",
       "      <td>0.0</td>\n",
       "      <td>0.0</td>\n",
       "      <td>0.0</td>\n",
       "      <td>1.0</td>\n",
       "      <td>3</td>\n",
       "    </tr>\n",
       "    <tr>\n",
       "      <th>46701</th>\n",
       "      <td>4375911</td>\n",
       "      <td>C</td>\n",
       "      <td>CG</td>\n",
       "      <td>PE/PPE</td>\n",
       "      <td>PE36</td>\n",
       "      <td>Rv3893c</td>\n",
       "      <td>85</td>\n",
       "      <td>ins</td>\n",
       "      <td>frameshift</td>\n",
       "      <td>29</td>\n",
       "      <td>...</td>\n",
       "      <td>0.0</td>\n",
       "      <td>1.0</td>\n",
       "      <td>0.0</td>\n",
       "      <td>0.0</td>\n",
       "      <td>0.0</td>\n",
       "      <td>0.0</td>\n",
       "      <td>0.0</td>\n",
       "      <td>0.0</td>\n",
       "      <td>1.0</td>\n",
       "      <td>1</td>\n",
       "    </tr>\n",
       "    <tr>\n",
       "      <th>46702</th>\n",
       "      <td>4375988</td>\n",
       "      <td>CA</td>\n",
       "      <td>C</td>\n",
       "      <td>PE/PPE</td>\n",
       "      <td>PE36</td>\n",
       "      <td>Rv3893c</td>\n",
       "      <td>8</td>\n",
       "      <td>del</td>\n",
       "      <td>frameshift</td>\n",
       "      <td>3</td>\n",
       "      <td>...</td>\n",
       "      <td>0.0</td>\n",
       "      <td>0.0</td>\n",
       "      <td>0.0</td>\n",
       "      <td>1.0</td>\n",
       "      <td>0.0</td>\n",
       "      <td>0.0</td>\n",
       "      <td>0.0</td>\n",
       "      <td>0.0</td>\n",
       "      <td>1.0</td>\n",
       "      <td>8</td>\n",
       "    </tr>\n",
       "  </tbody>\n",
       "</table>\n",
       "<p>5 rows × 22 columns</p>\n",
       "</div>"
      ],
      "text/plain": [
       "           pos  ref alt gene_category gene_name  gene_id gene_pos ins_del  \\\n",
       "46698  4375788    T  TG        PE/PPE      PE36  Rv3893c      208     ins   \n",
       "46699  4375794   GT   G        PE/PPE      PE36  Rv3893c      202     del   \n",
       "46700  4375898  GGC   G        PE/PPE      PE36  Rv3893c       98     del   \n",
       "46701  4375911    C  CG        PE/PPE      PE36  Rv3893c       85     ins   \n",
       "46702  4375988   CA   C        PE/PPE      PE36  Rv3893c        8     del   \n",
       "\n",
       "       INDEL_type codon_pos      ...         1    2    3   4A   4B   4C    5  \\\n",
       "46698  frameshift        70      ...       0.0  0.0  0.0  1.0  0.0  0.0  0.0   \n",
       "46699  frameshift        68      ...       0.0  1.0  0.0  0.0  0.0  0.0  0.0   \n",
       "46700  frameshift        33      ...       0.0  0.0  0.0  1.0  0.0  0.0  0.0   \n",
       "46701  frameshift        29      ...       0.0  1.0  0.0  0.0  0.0  0.0  0.0   \n",
       "46702  frameshift         3      ...       0.0  0.0  0.0  1.0  0.0  0.0  0.0   \n",
       "\n",
       "         6  total  num_isolates  \n",
       "46698  0.0    1.0           392  \n",
       "46699  0.0    1.0             1  \n",
       "46700  0.0    1.0             3  \n",
       "46701  0.0    1.0             1  \n",
       "46702  0.0    1.0             8  \n",
       "\n",
       "[5 rows x 22 columns]"
      ]
     },
     "execution_count": 35,
     "metadata": {},
     "output_type": "execute_result"
    }
   ],
   "source": [
    "all_homoplasic_INDELs.tail()"
   ]
  },
  {
   "cell_type": "code",
   "execution_count": 36,
   "metadata": {},
   "outputs": [],
   "source": [
    "#get gene list\n",
    "gene_ids_list = list(set(all_homoplasic_INDELs.gene_id))\n",
    "gene_ids_list = [x for x in gene_ids_list if str(x) != 'nan'] #get rid of nan \n",
    "gene_ids_list = [x for x in gene_ids_list if '_' not in x] #get rid of intergenic regions\n",
    "\n",
    "#get gene symbols as a series (index gene id, value gene symbol)\n",
    "gene_id_and_symbol_list = [[gene_id , list(all_homoplasic_INDELs[all_homoplasic_INDELs.gene_id == gene_id].gene_name)[0]] for gene_id in gene_ids_list]\n",
    "gene_id_and_symbol_dict = dict(gene_id_and_symbol_list)\n",
    "gene_id_and_symbol_series = pd.Series(gene_id_and_symbol_dict , name = 'gene_name')"
   ]
  },
  {
   "cell_type": "code",
   "execution_count": 37,
   "metadata": {},
   "outputs": [],
   "source": [
    "#number of unique INDELs (not necessarily sites since non bi-allelic SNP sites may have 2 or 3 alternate/mutant alleles)\n",
    "#iterate through each gene and collect number of inframe & frameshift mutation events and number of unique INDELs\n",
    "num_unique_INDELs_per_gene = []\n",
    "num_inframe_ME_per_gene = []\n",
    "num_frameshift_ME_per_gene = []\n",
    "nuc_length_per_gene = []\n",
    "\n",
    "INDEL_count_by_gene_df = pd.DataFrame(gene_id_and_symbol_series)\n",
    "\n",
    "for gene_id in INDEL_count_by_gene_df.index:\n",
    "    all_INDEL_ME_for_gene = all_homoplasic_INDELs[all_homoplasic_INDELs.gene_id == gene_id] #get all INDELs that correspond to this gene\n",
    "    inframe_INDEL_ME_for_gene = all_INDEL_ME_for_gene[all_INDEL_ME_for_gene.INDEL_type == 'inframe'] #set inframe mutation events\n",
    "    frameshift_INDEL_ME_for_gene = all_INDEL_ME_for_gene[all_INDEL_ME_for_gene.INDEL_type == 'frameshift'] #set frameshift mutation events\n",
    "\n",
    "    num_unique_INDELs_per_gene.append(float(len(all_INDEL_ME_for_gene.index))) #number of INDELs identified in gene with at least 1 ME\n",
    "    \n",
    "    #get the number of mutation events for all INDELs (even for SNVs that had 1 ME)\n",
    "    num_inframe_ME_per_gene.append(float(inframe_INDEL_ME_for_gene.total.sum()))\n",
    "    num_frameshift_ME_per_gene.append(float(frameshift_INDEL_ME_for_gene.total.sum()))\n",
    "    \n",
    "    #get the nucleotide length for each gene (nucleotide reference position sites that weren't dropped through filtering)\n",
    "    nuc_length_per_gene.append(get_nucleotide_length(gene_id))\n",
    "\n",
    "#number of unique INDELs detected on gene with at least 1 ME\n",
    "INDEL_count_by_gene_df.loc[: , 'unique_INDEL_count'] = num_unique_INDELs_per_gene\n",
    "\n",
    "#number of mutation events that occurred on gene broken down by functional type\n",
    "INDEL_count_by_gene_df.loc[: , 'inframe_ME_count'] = num_inframe_ME_per_gene\n",
    "INDEL_count_by_gene_df.loc[: , 'frameshift_ME_count'] = num_frameshift_ME_per_gene\n",
    "INDEL_count_by_gene_df.loc[: , 'ME_count'] = INDEL_count_by_gene_df.inframe_ME_count + INDEL_count_by_gene_df.frameshift_ME_count\n",
    "\n",
    "#length of nucleotide sequence considered per gene\n",
    "INDEL_count_by_gene_df.loc[: , 'nuc_length'] = nuc_length_per_gene"
   ]
  },
  {
   "cell_type": "code",
   "execution_count": 38,
   "metadata": {},
   "outputs": [
    {
     "data": {
      "text/html": [
       "<div>\n",
       "<style>\n",
       "    .dataframe thead tr:only-child th {\n",
       "        text-align: right;\n",
       "    }\n",
       "\n",
       "    .dataframe thead th {\n",
       "        text-align: left;\n",
       "    }\n",
       "\n",
       "    .dataframe tbody tr th {\n",
       "        vertical-align: top;\n",
       "    }\n",
       "</style>\n",
       "<table border=\"1\" class=\"dataframe\">\n",
       "  <thead>\n",
       "    <tr style=\"text-align: right;\">\n",
       "      <th></th>\n",
       "      <th>gene_name</th>\n",
       "      <th>unique_INDEL_count</th>\n",
       "      <th>inframe_ME_count</th>\n",
       "      <th>frameshift_ME_count</th>\n",
       "      <th>ME_count</th>\n",
       "      <th>nuc_length</th>\n",
       "    </tr>\n",
       "  </thead>\n",
       "  <tbody>\n",
       "    <tr>\n",
       "      <th>Rv0001</th>\n",
       "      <td>dnaA</td>\n",
       "      <td>1.0</td>\n",
       "      <td>1.0</td>\n",
       "      <td>0.0</td>\n",
       "      <td>1.0</td>\n",
       "      <td>1495</td>\n",
       "    </tr>\n",
       "    <tr>\n",
       "      <th>Rv0005</th>\n",
       "      <td>gyrB</td>\n",
       "      <td>2.0</td>\n",
       "      <td>19.0</td>\n",
       "      <td>0.0</td>\n",
       "      <td>19.0</td>\n",
       "      <td>2027</td>\n",
       "    </tr>\n",
       "    <tr>\n",
       "      <th>Rv0007</th>\n",
       "      <td>Rv0007</td>\n",
       "      <td>7.0</td>\n",
       "      <td>5.0</td>\n",
       "      <td>6.0</td>\n",
       "      <td>11.0</td>\n",
       "      <td>914</td>\n",
       "    </tr>\n",
       "    <tr>\n",
       "      <th>Rv0008c</th>\n",
       "      <td>Rv0008c</td>\n",
       "      <td>17.0</td>\n",
       "      <td>2.0</td>\n",
       "      <td>18.0</td>\n",
       "      <td>20.0</td>\n",
       "      <td>438</td>\n",
       "    </tr>\n",
       "    <tr>\n",
       "      <th>Rv0009</th>\n",
       "      <td>ppiA</td>\n",
       "      <td>3.0</td>\n",
       "      <td>0.0</td>\n",
       "      <td>3.0</td>\n",
       "      <td>3.0</td>\n",
       "      <td>549</td>\n",
       "    </tr>\n",
       "  </tbody>\n",
       "</table>\n",
       "</div>"
      ],
      "text/plain": [
       "        gene_name  unique_INDEL_count  inframe_ME_count  frameshift_ME_count  \\\n",
       "Rv0001       dnaA                 1.0               1.0                  0.0   \n",
       "Rv0005       gyrB                 2.0              19.0                  0.0   \n",
       "Rv0007     Rv0007                 7.0               5.0                  6.0   \n",
       "Rv0008c   Rv0008c                17.0               2.0                 18.0   \n",
       "Rv0009       ppiA                 3.0               0.0                  3.0   \n",
       "\n",
       "         ME_count  nuc_length  \n",
       "Rv0001        1.0        1495  \n",
       "Rv0005       19.0        2027  \n",
       "Rv0007       11.0         914  \n",
       "Rv0008c      20.0         438  \n",
       "Rv0009        3.0         549  "
      ]
     },
     "execution_count": 38,
     "metadata": {},
     "output_type": "execute_result"
    }
   ],
   "source": [
    "INDEL_count_by_gene_df.head()"
   ]
  },
  {
   "cell_type": "code",
   "execution_count": 39,
   "metadata": {},
   "outputs": [
    {
     "data": {
      "text/plain": [
       "(3381, 6)"
      ]
     },
     "execution_count": 39,
     "metadata": {},
     "output_type": "execute_result"
    }
   ],
   "source": [
    "np.shape(INDEL_count_by_gene_df)"
   ]
  },
  {
   "cell_type": "markdown",
   "metadata": {},
   "source": [
    "#### Keep genes that have at least 1 ME"
   ]
  },
  {
   "cell_type": "code",
   "execution_count": 40,
   "metadata": {},
   "outputs": [],
   "source": [
    "genes_to_keep = INDEL_count_by_gene_df.ME_count >= 1\n",
    "INDEL_count_by_gene_df = INDEL_count_by_gene_df[genes_to_keep]"
   ]
  },
  {
   "cell_type": "code",
   "execution_count": 41,
   "metadata": {},
   "outputs": [
    {
     "data": {
      "text/plain": [
       "(3381, 6)"
      ]
     },
     "execution_count": 41,
     "metadata": {},
     "output_type": "execute_result"
    }
   ],
   "source": [
    "np.shape(INDEL_count_by_gene_df)"
   ]
  },
  {
   "cell_type": "markdown",
   "metadata": {},
   "source": [
    "####################################################################################################################################################################################"
   ]
  },
  {
   "cell_type": "markdown",
   "metadata": {},
   "source": [
    "## [5] Plot *mutational density* per gene for SNVs & INDELs"
   ]
  },
  {
   "cell_type": "markdown",
   "metadata": {},
   "source": [
    "####################################################################################################################################################################################"
   ]
  },
  {
   "cell_type": "markdown",
   "metadata": {},
   "source": [
    "## [5.1] SNVs"
   ]
  },
  {
   "cell_type": "markdown",
   "metadata": {},
   "source": [
    "Normalize number of mutations by the lengths of the gene"
   ]
  },
  {
   "cell_type": "code",
   "execution_count": 42,
   "metadata": {},
   "outputs": [],
   "source": [
    "SNV_count_by_gene_df.loc[: , 'mut_density'] = SNV_count_by_gene_df.ME_count / SNV_count_by_gene_df.nuc_length"
   ]
  },
  {
   "cell_type": "markdown",
   "metadata": {},
   "source": [
    "Get list for the average of the first/last coordinates for the coding sequence of the gene"
   ]
  },
  {
   "cell_type": "code",
   "execution_count": 43,
   "metadata": {},
   "outputs": [],
   "source": [
    "gene_avg_coords = []\n",
    "\n",
    "for gene_id in SNV_count_by_gene_df.index:\n",
    "\n",
    "    #Identify all bases on H37Rv gene sequence that affect a coding sequence\n",
    "    gene_id_info = reference_genome_annotation.loc[gene_id , :]\n",
    "\n",
    "    chrom_start = gene_id_info.chromStart\n",
    "    chrom_end = gene_id_info.chromEnd\n",
    "    \n",
    "    gene_avg_coords.append((float(chrom_start) + float(chrom_end)) / 2.0)\n",
    "    \n",
    "SNV_count_by_gene_df.loc[: , 'avg_pos_coords'] = gene_avg_coords"
   ]
  },
  {
   "cell_type": "code",
   "execution_count": 44,
   "metadata": {},
   "outputs": [
    {
     "data": {
      "text/html": [
       "<div>\n",
       "<style>\n",
       "    .dataframe thead tr:only-child th {\n",
       "        text-align: right;\n",
       "    }\n",
       "\n",
       "    .dataframe thead th {\n",
       "        text-align: left;\n",
       "    }\n",
       "\n",
       "    .dataframe tbody tr th {\n",
       "        vertical-align: top;\n",
       "    }\n",
       "</style>\n",
       "<table border=\"1\" class=\"dataframe\">\n",
       "  <thead>\n",
       "    <tr style=\"text-align: right;\">\n",
       "      <th></th>\n",
       "      <th>gene_name</th>\n",
       "      <th>unique_SNV_count</th>\n",
       "      <th>Syn_ME_count</th>\n",
       "      <th>NSyn_ME_count</th>\n",
       "      <th>ME_count</th>\n",
       "      <th>nuc_length</th>\n",
       "      <th>mut_density</th>\n",
       "      <th>avg_pos_coords</th>\n",
       "    </tr>\n",
       "  </thead>\n",
       "  <tbody>\n",
       "    <tr>\n",
       "      <th>Rv0001</th>\n",
       "      <td>dnaA</td>\n",
       "      <td>467.0</td>\n",
       "      <td>162.0</td>\n",
       "      <td>673.0</td>\n",
       "      <td>835.0</td>\n",
       "      <td>1495</td>\n",
       "      <td>0.558528</td>\n",
       "      <td>762.0</td>\n",
       "    </tr>\n",
       "    <tr>\n",
       "      <th>Rv0002</th>\n",
       "      <td>dnaN</td>\n",
       "      <td>275.0</td>\n",
       "      <td>105.0</td>\n",
       "      <td>203.0</td>\n",
       "      <td>308.0</td>\n",
       "      <td>1133</td>\n",
       "      <td>0.271845</td>\n",
       "      <td>2655.5</td>\n",
       "    </tr>\n",
       "    <tr>\n",
       "      <th>Rv0003</th>\n",
       "      <td>recF</td>\n",
       "      <td>281.0</td>\n",
       "      <td>151.0</td>\n",
       "      <td>180.0</td>\n",
       "      <td>331.0</td>\n",
       "      <td>1158</td>\n",
       "      <td>0.285838</td>\n",
       "      <td>3858.0</td>\n",
       "    </tr>\n",
       "    <tr>\n",
       "      <th>Rv0004</th>\n",
       "      <td>Rv0004</td>\n",
       "      <td>213.0</td>\n",
       "      <td>74.0</td>\n",
       "      <td>189.0</td>\n",
       "      <td>263.0</td>\n",
       "      <td>564</td>\n",
       "      <td>0.466312</td>\n",
       "      <td>4715.0</td>\n",
       "    </tr>\n",
       "    <tr>\n",
       "      <th>Rv0005</th>\n",
       "      <td>gyrB</td>\n",
       "      <td>588.0</td>\n",
       "      <td>276.0</td>\n",
       "      <td>574.0</td>\n",
       "      <td>850.0</td>\n",
       "      <td>2027</td>\n",
       "      <td>0.419339</td>\n",
       "      <td>6253.0</td>\n",
       "    </tr>\n",
       "  </tbody>\n",
       "</table>\n",
       "</div>"
      ],
      "text/plain": [
       "       gene_name  unique_SNV_count  Syn_ME_count  NSyn_ME_count  ME_count  \\\n",
       "Rv0001      dnaA             467.0         162.0          673.0     835.0   \n",
       "Rv0002      dnaN             275.0         105.0          203.0     308.0   \n",
       "Rv0003      recF             281.0         151.0          180.0     331.0   \n",
       "Rv0004    Rv0004             213.0          74.0          189.0     263.0   \n",
       "Rv0005      gyrB             588.0         276.0          574.0     850.0   \n",
       "\n",
       "        nuc_length  mut_density  avg_pos_coords  \n",
       "Rv0001        1495     0.558528           762.0  \n",
       "Rv0002        1133     0.271845          2655.5  \n",
       "Rv0003        1158     0.285838          3858.0  \n",
       "Rv0004         564     0.466312          4715.0  \n",
       "Rv0005        2027     0.419339          6253.0  "
      ]
     },
     "execution_count": 44,
     "metadata": {},
     "output_type": "execute_result"
    }
   ],
   "source": [
    "SNV_count_by_gene_df.head()"
   ]
  },
  {
   "cell_type": "code",
   "execution_count": 45,
   "metadata": {},
   "outputs": [],
   "source": [
    "def SNV_mut_dens(ax):\n",
    "\n",
    "    ax.scatter(SNV_count_by_gene_df.avg_pos_coords , SNV_count_by_gene_df.mut_density , color = '0.1' , edgecolor='white', linewidth=0.0, s = 24 , alpha = 0.7)\n",
    "\n",
    "    ax.set_xlabel('H37Rv Reference Position (bp)\\n(N={0} Genes)'.format(str(np.shape(SNV_count_by_gene_df)[0])), fontsize = 8, color = 'k')\n",
    "    ax.set_ylabel('Mutational Density per Gene (SNVs)' , fontsize = 8, color = 'k')\n",
    "\n",
    "    ax.spines['right'].set_visible(False)\n",
    "    ax.spines['top'].set_visible(False)\n",
    "    ax.grid(False)\n",
    "    ax.set_xlim(-40000, 4440000)\n",
    "    ax.set_ylim(-0.10, SNV_count_by_gene_df.mut_density.max()+0.065)\n",
    "    ax.tick_params(labelcolor = 'k')\n",
    "\n",
    "    ax.tick_params(axis='y', which='major', labelsize=8 , labelcolor = 'k')\n",
    "    ax.tick_params(axis='x', which='major', labelsize=8 , labelcolor = 'k')"
   ]
  },
  {
   "cell_type": "code",
   "execution_count": 46,
   "metadata": {},
   "outputs": [],
   "source": [
    "#convert datatypes from float > int\n",
    "convert_dict = {'unique_SNV_count':int, 'Syn_ME_count':int, 'NSyn_ME_count':int, 'ME_count':int}\n",
    "SNV_count_by_gene_df = SNV_count_by_gene_df.astype(convert_dict)"
   ]
  },
  {
   "cell_type": "code",
   "execution_count": 47,
   "metadata": {},
   "outputs": [
    {
     "data": {
      "text/html": [
       "<div>\n",
       "<style>\n",
       "    .dataframe thead tr:only-child th {\n",
       "        text-align: right;\n",
       "    }\n",
       "\n",
       "    .dataframe thead th {\n",
       "        text-align: left;\n",
       "    }\n",
       "\n",
       "    .dataframe tbody tr th {\n",
       "        vertical-align: top;\n",
       "    }\n",
       "</style>\n",
       "<table border=\"1\" class=\"dataframe\">\n",
       "  <thead>\n",
       "    <tr style=\"text-align: right;\">\n",
       "      <th></th>\n",
       "      <th>gene_name</th>\n",
       "      <th>unique_SNV_count</th>\n",
       "      <th>Syn_ME_count</th>\n",
       "      <th>NSyn_ME_count</th>\n",
       "      <th>ME_count</th>\n",
       "      <th>nuc_length</th>\n",
       "      <th>mut_density</th>\n",
       "      <th>avg_pos_coords</th>\n",
       "    </tr>\n",
       "  </thead>\n",
       "  <tbody>\n",
       "    <tr>\n",
       "      <th>Rv3467</th>\n",
       "      <td>Rv3467</td>\n",
       "      <td>7</td>\n",
       "      <td>2</td>\n",
       "      <td>397</td>\n",
       "      <td>399</td>\n",
       "      <td>44</td>\n",
       "      <td>9.068182</td>\n",
       "      <td>3884440.0</td>\n",
       "    </tr>\n",
       "    <tr>\n",
       "      <th>Rv1198</th>\n",
       "      <td>esxL</td>\n",
       "      <td>70</td>\n",
       "      <td>708</td>\n",
       "      <td>1083</td>\n",
       "      <td>1791</td>\n",
       "      <td>275</td>\n",
       "      <td>6.512727</td>\n",
       "      <td>1341147.5</td>\n",
       "    </tr>\n",
       "    <tr>\n",
       "      <th>Rv3466</th>\n",
       "      <td>Rv3466</td>\n",
       "      <td>30</td>\n",
       "      <td>643</td>\n",
       "      <td>148</td>\n",
       "      <td>791</td>\n",
       "      <td>124</td>\n",
       "      <td>6.379032</td>\n",
       "      <td>3883858.5</td>\n",
       "    </tr>\n",
       "    <tr>\n",
       "      <th>Rv0515</th>\n",
       "      <td>Rv0515</td>\n",
       "      <td>13</td>\n",
       "      <td>5</td>\n",
       "      <td>344</td>\n",
       "      <td>349</td>\n",
       "      <td>73</td>\n",
       "      <td>4.780822</td>\n",
       "      <td>607306.0</td>\n",
       "    </tr>\n",
       "    <tr>\n",
       "      <th>Rv2043c</th>\n",
       "      <td>pncA</td>\n",
       "      <td>506</td>\n",
       "      <td>56</td>\n",
       "      <td>2229</td>\n",
       "      <td>2285</td>\n",
       "      <td>561</td>\n",
       "      <td>4.073084</td>\n",
       "      <td>2288960.5</td>\n",
       "    </tr>\n",
       "    <tr>\n",
       "      <th>Rv0336</th>\n",
       "      <td>Rv0336</td>\n",
       "      <td>20</td>\n",
       "      <td>6</td>\n",
       "      <td>316</td>\n",
       "      <td>322</td>\n",
       "      <td>82</td>\n",
       "      <td>3.926829</td>\n",
       "      <td>400947.0</td>\n",
       "    </tr>\n",
       "    <tr>\n",
       "      <th>Rv2346c</th>\n",
       "      <td>esxO</td>\n",
       "      <td>78</td>\n",
       "      <td>569</td>\n",
       "      <td>380</td>\n",
       "      <td>949</td>\n",
       "      <td>278</td>\n",
       "      <td>3.413669</td>\n",
       "      <td>2626029.5</td>\n",
       "    </tr>\n",
       "    <tr>\n",
       "      <th>Rv0095c</th>\n",
       "      <td>Rv0095c</td>\n",
       "      <td>76</td>\n",
       "      <td>708</td>\n",
       "      <td>93</td>\n",
       "      <td>801</td>\n",
       "      <td>247</td>\n",
       "      <td>3.242915</td>\n",
       "      <td>105009.5</td>\n",
       "    </tr>\n",
       "    <tr>\n",
       "      <th>Rv0682</th>\n",
       "      <td>rpsL</td>\n",
       "      <td>68</td>\n",
       "      <td>56</td>\n",
       "      <td>1153</td>\n",
       "      <td>1209</td>\n",
       "      <td>375</td>\n",
       "      <td>3.224000</td>\n",
       "      <td>781746.5</td>\n",
       "    </tr>\n",
       "    <tr>\n",
       "      <th>Rv1196</th>\n",
       "      <td>PPE18</td>\n",
       "      <td>284</td>\n",
       "      <td>1434</td>\n",
       "      <td>1641</td>\n",
       "      <td>3075</td>\n",
       "      <td>1042</td>\n",
       "      <td>2.951056</td>\n",
       "      <td>1339936.0</td>\n",
       "    </tr>\n",
       "    <tr>\n",
       "      <th>Rv1945</th>\n",
       "      <td>Rv1945</td>\n",
       "      <td>146</td>\n",
       "      <td>1088</td>\n",
       "      <td>564</td>\n",
       "      <td>1652</td>\n",
       "      <td>633</td>\n",
       "      <td>2.609795</td>\n",
       "      <td>2196670.5</td>\n",
       "    </tr>\n",
       "    <tr>\n",
       "      <th>Rv3919c</th>\n",
       "      <td>gid</td>\n",
       "      <td>678</td>\n",
       "      <td>158</td>\n",
       "      <td>1595</td>\n",
       "      <td>1753</td>\n",
       "      <td>674</td>\n",
       "      <td>2.600890</td>\n",
       "      <td>4407864.5</td>\n",
       "    </tr>\n",
       "    <tr>\n",
       "      <th>Rv0750</th>\n",
       "      <td>Rv0750</td>\n",
       "      <td>38</td>\n",
       "      <td>69</td>\n",
       "      <td>326</td>\n",
       "      <td>395</td>\n",
       "      <td>164</td>\n",
       "      <td>2.408537</td>\n",
       "      <td>842155.0</td>\n",
       "    </tr>\n",
       "    <tr>\n",
       "      <th>Rv0277c</th>\n",
       "      <td>vapC25</td>\n",
       "      <td>126</td>\n",
       "      <td>579</td>\n",
       "      <td>427</td>\n",
       "      <td>1006</td>\n",
       "      <td>429</td>\n",
       "      <td>2.344988</td>\n",
       "      <td>332921.5</td>\n",
       "    </tr>\n",
       "    <tr>\n",
       "      <th>Rv3620c</th>\n",
       "      <td>esxW</td>\n",
       "      <td>44</td>\n",
       "      <td>197</td>\n",
       "      <td>166</td>\n",
       "      <td>363</td>\n",
       "      <td>168</td>\n",
       "      <td>2.160714</td>\n",
       "      <td>4060442.5</td>\n",
       "    </tr>\n",
       "    <tr>\n",
       "      <th>Rv1148c</th>\n",
       "      <td>Rv1148c</td>\n",
       "      <td>110</td>\n",
       "      <td>660</td>\n",
       "      <td>600</td>\n",
       "      <td>1260</td>\n",
       "      <td>584</td>\n",
       "      <td>2.157534</td>\n",
       "      <td>1277023.5</td>\n",
       "    </tr>\n",
       "    <tr>\n",
       "      <th>Rv3429</th>\n",
       "      <td>PPE59</td>\n",
       "      <td>140</td>\n",
       "      <td>403</td>\n",
       "      <td>569</td>\n",
       "      <td>972</td>\n",
       "      <td>455</td>\n",
       "      <td>2.136264</td>\n",
       "      <td>3847432.5</td>\n",
       "    </tr>\n",
       "    <tr>\n",
       "      <th>Rv1793</th>\n",
       "      <td>esxN</td>\n",
       "      <td>69</td>\n",
       "      <td>405</td>\n",
       "      <td>199</td>\n",
       "      <td>604</td>\n",
       "      <td>285</td>\n",
       "      <td>2.119298</td>\n",
       "      <td>2030835.5</td>\n",
       "    </tr>\n",
       "    <tr>\n",
       "      <th>Rv0749</th>\n",
       "      <td>vapC31</td>\n",
       "      <td>116</td>\n",
       "      <td>453</td>\n",
       "      <td>344</td>\n",
       "      <td>797</td>\n",
       "      <td>429</td>\n",
       "      <td>1.857809</td>\n",
       "      <td>841441.5</td>\n",
       "    </tr>\n",
       "    <tr>\n",
       "      <th>Rv1361c</th>\n",
       "      <td>PPE19</td>\n",
       "      <td>221</td>\n",
       "      <td>698</td>\n",
       "      <td>910</td>\n",
       "      <td>1608</td>\n",
       "      <td>943</td>\n",
       "      <td>1.705196</td>\n",
       "      <td>1533037.5</td>\n",
       "    </tr>\n",
       "    <tr>\n",
       "      <th>Rv3478</th>\n",
       "      <td>PPE60</td>\n",
       "      <td>279</td>\n",
       "      <td>629</td>\n",
       "      <td>1209</td>\n",
       "      <td>1838</td>\n",
       "      <td>1087</td>\n",
       "      <td>1.690892</td>\n",
       "      <td>3895016.0</td>\n",
       "    </tr>\n",
       "    <tr>\n",
       "      <th>Rv1792</th>\n",
       "      <td>esxM</td>\n",
       "      <td>80</td>\n",
       "      <td>313</td>\n",
       "      <td>142</td>\n",
       "      <td>455</td>\n",
       "      <td>297</td>\n",
       "      <td>1.531987</td>\n",
       "      <td>2030494.5</td>\n",
       "    </tr>\n",
       "    <tr>\n",
       "      <th>Rv1038c</th>\n",
       "      <td>esxJ</td>\n",
       "      <td>33</td>\n",
       "      <td>197</td>\n",
       "      <td>27</td>\n",
       "      <td>224</td>\n",
       "      <td>151</td>\n",
       "      <td>1.483444</td>\n",
       "      <td>1161002.5</td>\n",
       "    </tr>\n",
       "    <tr>\n",
       "      <th>Rv1908c</th>\n",
       "      <td>katG</td>\n",
       "      <td>837</td>\n",
       "      <td>188</td>\n",
       "      <td>2932</td>\n",
       "      <td>3120</td>\n",
       "      <td>2222</td>\n",
       "      <td>1.404140</td>\n",
       "      <td>2154999.5</td>\n",
       "    </tr>\n",
       "    <tr>\n",
       "      <th>Rv0667</th>\n",
       "      <td>rpoB</td>\n",
       "      <td>841</td>\n",
       "      <td>313</td>\n",
       "      <td>4305</td>\n",
       "      <td>4618</td>\n",
       "      <td>3519</td>\n",
       "      <td>1.312305</td>\n",
       "      <td>761565.5</td>\n",
       "    </tr>\n",
       "  </tbody>\n",
       "</table>\n",
       "</div>"
      ],
      "text/plain": [
       "        gene_name  unique_SNV_count  Syn_ME_count  NSyn_ME_count  ME_count  \\\n",
       "Rv3467     Rv3467                 7             2            397       399   \n",
       "Rv1198       esxL                70           708           1083      1791   \n",
       "Rv3466     Rv3466                30           643            148       791   \n",
       "Rv0515     Rv0515                13             5            344       349   \n",
       "Rv2043c      pncA               506            56           2229      2285   \n",
       "Rv0336     Rv0336                20             6            316       322   \n",
       "Rv2346c      esxO                78           569            380       949   \n",
       "Rv0095c   Rv0095c                76           708             93       801   \n",
       "Rv0682       rpsL                68            56           1153      1209   \n",
       "Rv1196      PPE18               284          1434           1641      3075   \n",
       "Rv1945     Rv1945               146          1088            564      1652   \n",
       "Rv3919c       gid               678           158           1595      1753   \n",
       "Rv0750     Rv0750                38            69            326       395   \n",
       "Rv0277c    vapC25               126           579            427      1006   \n",
       "Rv3620c      esxW                44           197            166       363   \n",
       "Rv1148c   Rv1148c               110           660            600      1260   \n",
       "Rv3429      PPE59               140           403            569       972   \n",
       "Rv1793       esxN                69           405            199       604   \n",
       "Rv0749     vapC31               116           453            344       797   \n",
       "Rv1361c     PPE19               221           698            910      1608   \n",
       "Rv3478      PPE60               279           629           1209      1838   \n",
       "Rv1792       esxM                80           313            142       455   \n",
       "Rv1038c      esxJ                33           197             27       224   \n",
       "Rv1908c      katG               837           188           2932      3120   \n",
       "Rv0667       rpoB               841           313           4305      4618   \n",
       "\n",
       "         nuc_length  mut_density  avg_pos_coords  \n",
       "Rv3467           44     9.068182       3884440.0  \n",
       "Rv1198          275     6.512727       1341147.5  \n",
       "Rv3466          124     6.379032       3883858.5  \n",
       "Rv0515           73     4.780822        607306.0  \n",
       "Rv2043c         561     4.073084       2288960.5  \n",
       "Rv0336           82     3.926829        400947.0  \n",
       "Rv2346c         278     3.413669       2626029.5  \n",
       "Rv0095c         247     3.242915        105009.5  \n",
       "Rv0682          375     3.224000        781746.5  \n",
       "Rv1196         1042     2.951056       1339936.0  \n",
       "Rv1945          633     2.609795       2196670.5  \n",
       "Rv3919c         674     2.600890       4407864.5  \n",
       "Rv0750          164     2.408537        842155.0  \n",
       "Rv0277c         429     2.344988        332921.5  \n",
       "Rv3620c         168     2.160714       4060442.5  \n",
       "Rv1148c         584     2.157534       1277023.5  \n",
       "Rv3429          455     2.136264       3847432.5  \n",
       "Rv1793          285     2.119298       2030835.5  \n",
       "Rv0749          429     1.857809        841441.5  \n",
       "Rv1361c         943     1.705196       1533037.5  \n",
       "Rv3478         1087     1.690892       3895016.0  \n",
       "Rv1792          297     1.531987       2030494.5  \n",
       "Rv1038c         151     1.483444       1161002.5  \n",
       "Rv1908c        2222     1.404140       2154999.5  \n",
       "Rv0667         3519     1.312305        761565.5  "
      ]
     },
     "execution_count": 47,
     "metadata": {},
     "output_type": "execute_result"
    }
   ],
   "source": [
    "SNV_count_by_gene_df.sort_values(by = 'mut_density' , ascending = False).head(n = 25)"
   ]
  },
  {
   "cell_type": "markdown",
   "metadata": {},
   "source": [
    "## [5.2] INDELs"
   ]
  },
  {
   "cell_type": "markdown",
   "metadata": {},
   "source": [
    "Normalize number of mutations by the lengths of the gene"
   ]
  },
  {
   "cell_type": "code",
   "execution_count": 48,
   "metadata": {},
   "outputs": [],
   "source": [
    "INDEL_count_by_gene_df.loc[: , 'mut_density'] = INDEL_count_by_gene_df.ME_count / INDEL_count_by_gene_df.nuc_length"
   ]
  },
  {
   "cell_type": "markdown",
   "metadata": {},
   "source": [
    "Get list for the average of the first/last coordinates for the coding sequence of the gene"
   ]
  },
  {
   "cell_type": "code",
   "execution_count": 49,
   "metadata": {},
   "outputs": [],
   "source": [
    "gene_avg_coords = []\n",
    "\n",
    "for gene_id in INDEL_count_by_gene_df.index:\n",
    "\n",
    "    #Identify all bases on H37Rv gene sequence that affect a coding sequence\n",
    "    gene_id_info = reference_genome_annotation.loc[gene_id , :]\n",
    "\n",
    "    chrom_start = gene_id_info.chromStart\n",
    "    chrom_end = gene_id_info.chromEnd\n",
    "    \n",
    "    gene_avg_coords.append((float(chrom_start) + float(chrom_end)) / 2.0)\n",
    "    \n",
    "INDEL_count_by_gene_df.loc[: , 'avg_pos_coords'] = gene_avg_coords"
   ]
  },
  {
   "cell_type": "code",
   "execution_count": 50,
   "metadata": {},
   "outputs": [
    {
     "data": {
      "text/html": [
       "<div>\n",
       "<style>\n",
       "    .dataframe thead tr:only-child th {\n",
       "        text-align: right;\n",
       "    }\n",
       "\n",
       "    .dataframe thead th {\n",
       "        text-align: left;\n",
       "    }\n",
       "\n",
       "    .dataframe tbody tr th {\n",
       "        vertical-align: top;\n",
       "    }\n",
       "</style>\n",
       "<table border=\"1\" class=\"dataframe\">\n",
       "  <thead>\n",
       "    <tr style=\"text-align: right;\">\n",
       "      <th></th>\n",
       "      <th>gene_name</th>\n",
       "      <th>unique_INDEL_count</th>\n",
       "      <th>inframe_ME_count</th>\n",
       "      <th>frameshift_ME_count</th>\n",
       "      <th>ME_count</th>\n",
       "      <th>nuc_length</th>\n",
       "      <th>mut_density</th>\n",
       "      <th>avg_pos_coords</th>\n",
       "    </tr>\n",
       "  </thead>\n",
       "  <tbody>\n",
       "    <tr>\n",
       "      <th>Rv0001</th>\n",
       "      <td>dnaA</td>\n",
       "      <td>1.0</td>\n",
       "      <td>1.0</td>\n",
       "      <td>0.0</td>\n",
       "      <td>1.0</td>\n",
       "      <td>1495</td>\n",
       "      <td>0.000669</td>\n",
       "      <td>762.0</td>\n",
       "    </tr>\n",
       "    <tr>\n",
       "      <th>Rv0005</th>\n",
       "      <td>gyrB</td>\n",
       "      <td>2.0</td>\n",
       "      <td>19.0</td>\n",
       "      <td>0.0</td>\n",
       "      <td>19.0</td>\n",
       "      <td>2027</td>\n",
       "      <td>0.009373</td>\n",
       "      <td>6253.0</td>\n",
       "    </tr>\n",
       "    <tr>\n",
       "      <th>Rv0007</th>\n",
       "      <td>Rv0007</td>\n",
       "      <td>7.0</td>\n",
       "      <td>5.0</td>\n",
       "      <td>6.0</td>\n",
       "      <td>11.0</td>\n",
       "      <td>914</td>\n",
       "      <td>0.012035</td>\n",
       "      <td>10370.5</td>\n",
       "    </tr>\n",
       "    <tr>\n",
       "      <th>Rv0008c</th>\n",
       "      <td>Rv0008c</td>\n",
       "      <td>17.0</td>\n",
       "      <td>2.0</td>\n",
       "      <td>18.0</td>\n",
       "      <td>20.0</td>\n",
       "      <td>438</td>\n",
       "      <td>0.045662</td>\n",
       "      <td>12092.0</td>\n",
       "    </tr>\n",
       "    <tr>\n",
       "      <th>Rv0009</th>\n",
       "      <td>ppiA</td>\n",
       "      <td>3.0</td>\n",
       "      <td>0.0</td>\n",
       "      <td>3.0</td>\n",
       "      <td>3.0</td>\n",
       "      <td>549</td>\n",
       "      <td>0.005464</td>\n",
       "      <td>12741.5</td>\n",
       "    </tr>\n",
       "  </tbody>\n",
       "</table>\n",
       "</div>"
      ],
      "text/plain": [
       "        gene_name  unique_INDEL_count  inframe_ME_count  frameshift_ME_count  \\\n",
       "Rv0001       dnaA                 1.0               1.0                  0.0   \n",
       "Rv0005       gyrB                 2.0              19.0                  0.0   \n",
       "Rv0007     Rv0007                 7.0               5.0                  6.0   \n",
       "Rv0008c   Rv0008c                17.0               2.0                 18.0   \n",
       "Rv0009       ppiA                 3.0               0.0                  3.0   \n",
       "\n",
       "         ME_count  nuc_length  mut_density  avg_pos_coords  \n",
       "Rv0001        1.0        1495     0.000669           762.0  \n",
       "Rv0005       19.0        2027     0.009373          6253.0  \n",
       "Rv0007       11.0         914     0.012035         10370.5  \n",
       "Rv0008c      20.0         438     0.045662         12092.0  \n",
       "Rv0009        3.0         549     0.005464         12741.5  "
      ]
     },
     "execution_count": 50,
     "metadata": {},
     "output_type": "execute_result"
    }
   ],
   "source": [
    "INDEL_count_by_gene_df.head()"
   ]
  },
  {
   "cell_type": "code",
   "execution_count": 51,
   "metadata": {},
   "outputs": [
    {
     "data": {
      "text/plain": [
       "(3381, 8)"
      ]
     },
     "execution_count": 51,
     "metadata": {},
     "output_type": "execute_result"
    }
   ],
   "source": [
    "INDEL_count_by_gene_df.shape"
   ]
  },
  {
   "cell_type": "markdown",
   "metadata": {},
   "source": [
    "#### Load in homopolymeric regions from Luca"
   ]
  },
  {
   "cell_type": "code",
   "execution_count": 52,
   "metadata": {},
   "outputs": [],
   "source": [
    "homopolymeric_regions_from_Luca = pd.read_csv('/n/data1/hms/dbmi/farhat/Roger/homoplasy_project/CSV_files/comparison_with_homopolymeric_regions/homopolymer regions from Luca/list_homopolymers_7bpmore_pure.csv')"
   ]
  },
  {
   "cell_type": "code",
   "execution_count": 53,
   "metadata": {},
   "outputs": [
    {
     "data": {
      "text/plain": [
       "(145, 6)"
      ]
     },
     "execution_count": 53,
     "metadata": {},
     "output_type": "execute_result"
    }
   ],
   "source": [
    "homopolymeric_regions_from_Luca.shape"
   ]
  },
  {
   "cell_type": "code",
   "execution_count": 54,
   "metadata": {},
   "outputs": [
    {
     "data": {
      "text/html": [
       "<div>\n",
       "<style>\n",
       "    .dataframe thead tr:only-child th {\n",
       "        text-align: right;\n",
       "    }\n",
       "\n",
       "    .dataframe thead th {\n",
       "        text-align: left;\n",
       "    }\n",
       "\n",
       "    .dataframe tbody tr th {\n",
       "        vertical-align: top;\n",
       "    }\n",
       "</style>\n",
       "<table border=\"1\" class=\"dataframe\">\n",
       "  <thead>\n",
       "    <tr style=\"text-align: right;\">\n",
       "      <th></th>\n",
       "      <th>Chromosome</th>\n",
       "      <th>chromStart</th>\n",
       "      <th>chromEnd</th>\n",
       "      <th>polyNT</th>\n",
       "      <th>locus_tag</th>\n",
       "      <th>gene_name</th>\n",
       "    </tr>\n",
       "  </thead>\n",
       "  <tbody>\n",
       "    <tr>\n",
       "      <th>0</th>\n",
       "      <td>NC_000962.3</td>\n",
       "      <td>36470</td>\n",
       "      <td>36477</td>\n",
       "      <td>CCCCCCC</td>\n",
       "      <td>Rv0032</td>\n",
       "      <td>bioF2</td>\n",
       "    </tr>\n",
       "    <tr>\n",
       "      <th>1</th>\n",
       "      <td>NC_000962.3</td>\n",
       "      <td>71453</td>\n",
       "      <td>71460</td>\n",
       "      <td>CCCCCCC</td>\n",
       "      <td>Rv0064</td>\n",
       "      <td>Rv0064</td>\n",
       "    </tr>\n",
       "    <tr>\n",
       "      <th>2</th>\n",
       "      <td>NC_000962.3</td>\n",
       "      <td>191391</td>\n",
       "      <td>191398</td>\n",
       "      <td>CCCCCCC</td>\n",
       "      <td>Rv0161</td>\n",
       "      <td>Rv0161</td>\n",
       "    </tr>\n",
       "    <tr>\n",
       "      <th>3</th>\n",
       "      <td>NC_000962.3</td>\n",
       "      <td>238807</td>\n",
       "      <td>238814</td>\n",
       "      <td>CCCCCCC</td>\n",
       "      <td>Rv0202c</td>\n",
       "      <td>mmpL11</td>\n",
       "    </tr>\n",
       "    <tr>\n",
       "      <th>4</th>\n",
       "      <td>NC_000962.3</td>\n",
       "      <td>587728</td>\n",
       "      <td>587735</td>\n",
       "      <td>CCCCCCC</td>\n",
       "      <td>Rv0497</td>\n",
       "      <td>Rv0497</td>\n",
       "    </tr>\n",
       "  </tbody>\n",
       "</table>\n",
       "</div>"
      ],
      "text/plain": [
       "    Chromosome  chromStart  chromEnd   polyNT locus_tag gene_name\n",
       "0  NC_000962.3       36470     36477  CCCCCCC    Rv0032     bioF2\n",
       "1  NC_000962.3       71453     71460  CCCCCCC    Rv0064    Rv0064\n",
       "2  NC_000962.3      191391    191398  CCCCCCC    Rv0161    Rv0161\n",
       "3  NC_000962.3      238807    238814  CCCCCCC   Rv0202c    mmpL11\n",
       "4  NC_000962.3      587728    587735  CCCCCCC    Rv0497    Rv0497"
      ]
     },
     "execution_count": 54,
     "metadata": {},
     "output_type": "execute_result"
    }
   ],
   "source": [
    "homopolymeric_regions_from_Luca.head()"
   ]
  },
  {
   "cell_type": "markdown",
   "metadata": {},
   "source": [
    "create a filter that seperates genes with an HT and genes without an HT"
   ]
  },
  {
   "cell_type": "code",
   "execution_count": 139,
   "metadata": {},
   "outputs": [],
   "source": [
    "gene_with_HT_filter = np.array([(gene_i in list(homopolymeric_regions_from_Luca.locus_tag)) for gene_i in INDEL_count_by_gene_df.index])"
   ]
  },
  {
   "cell_type": "code",
   "execution_count": 140,
   "metadata": {},
   "outputs": [
    {
     "data": {
      "text/plain": [
       "103"
      ]
     },
     "execution_count": 140,
     "metadata": {},
     "output_type": "execute_result"
    }
   ],
   "source": [
    "sum(gene_with_HT_filter)"
   ]
  },
  {
   "cell_type": "code",
   "execution_count": 142,
   "metadata": {},
   "outputs": [],
   "source": [
    "gene_without_HT_filter = np.array([(gene_i not in list(homopolymeric_regions_from_Luca.locus_tag)) for gene_i in INDEL_count_by_gene_df.index])"
   ]
  },
  {
   "cell_type": "code",
   "execution_count": 143,
   "metadata": {},
   "outputs": [
    {
     "data": {
      "text/plain": [
       "3278"
      ]
     },
     "execution_count": 143,
     "metadata": {},
     "output_type": "execute_result"
    }
   ],
   "source": [
    "sum(gene_without_HT_filter)"
   ]
  },
  {
   "cell_type": "markdown",
   "metadata": {},
   "source": [
    "#### Load SSR regions"
   ]
  },
  {
   "cell_type": "code",
   "execution_count": 59,
   "metadata": {},
   "outputs": [],
   "source": [
    "SSR_H37Rv_df = pd.read_pickle('/n/data1/hms/dbmi/farhat/Roger/homoplasy_project/CSV_files/simple_sequence_repeat_regions/SSR_H37Rv_2-6bp_at_least_3_repeats.pkl')"
   ]
  },
  {
   "cell_type": "code",
   "execution_count": 60,
   "metadata": {},
   "outputs": [
    {
     "data": {
      "text/html": [
       "<div>\n",
       "<style>\n",
       "    .dataframe thead tr:only-child th {\n",
       "        text-align: right;\n",
       "    }\n",
       "\n",
       "    .dataframe thead th {\n",
       "        text-align: left;\n",
       "    }\n",
       "\n",
       "    .dataframe tbody tr th {\n",
       "        vertical-align: top;\n",
       "    }\n",
       "</style>\n",
       "<table border=\"1\" class=\"dataframe\">\n",
       "  <thead>\n",
       "    <tr style=\"text-align: right;\">\n",
       "      <th></th>\n",
       "      <th>H37Rv_start</th>\n",
       "      <th>H37Rv_end</th>\n",
       "      <th>motif</th>\n",
       "      <th>repeats</th>\n",
       "    </tr>\n",
       "  </thead>\n",
       "  <tbody>\n",
       "    <tr>\n",
       "      <th>0</th>\n",
       "      <td>561</td>\n",
       "      <td>569</td>\n",
       "      <td>CGC</td>\n",
       "      <td>3</td>\n",
       "    </tr>\n",
       "    <tr>\n",
       "      <th>1</th>\n",
       "      <td>562</td>\n",
       "      <td>570</td>\n",
       "      <td>GCC</td>\n",
       "      <td>3</td>\n",
       "    </tr>\n",
       "    <tr>\n",
       "      <th>2</th>\n",
       "      <td>643</td>\n",
       "      <td>648</td>\n",
       "      <td>AC</td>\n",
       "      <td>3</td>\n",
       "    </tr>\n",
       "    <tr>\n",
       "      <th>3</th>\n",
       "      <td>1121</td>\n",
       "      <td>1126</td>\n",
       "      <td>GC</td>\n",
       "      <td>3</td>\n",
       "    </tr>\n",
       "    <tr>\n",
       "      <th>4</th>\n",
       "      <td>1408</td>\n",
       "      <td>1413</td>\n",
       "      <td>CA</td>\n",
       "      <td>3</td>\n",
       "    </tr>\n",
       "  </tbody>\n",
       "</table>\n",
       "</div>"
      ],
      "text/plain": [
       "   H37Rv_start  H37Rv_end motif  repeats\n",
       "0          561        569   CGC        3\n",
       "1          562        570   GCC        3\n",
       "2          643        648    AC        3\n",
       "3         1121       1126    GC        3\n",
       "4         1408       1413    CA        3"
      ]
     },
     "execution_count": 60,
     "metadata": {},
     "output_type": "execute_result"
    }
   ],
   "source": [
    "SSR_H37Rv_df.head()"
   ]
  },
  {
   "cell_type": "code",
   "execution_count": 61,
   "metadata": {},
   "outputs": [
    {
     "data": {
      "text/plain": [
       "(18316, 4)"
      ]
     },
     "execution_count": 61,
     "metadata": {},
     "output_type": "execute_result"
    }
   ],
   "source": [
    "SSR_H37Rv_df.shape"
   ]
  },
  {
   "cell_type": "markdown",
   "metadata": {},
   "source": [
    "annotate each INDEL with gene H37Rv tag if SSR is contained within gene"
   ]
  },
  {
   "cell_type": "code",
   "execution_count": 62,
   "metadata": {},
   "outputs": [
    {
     "data": {
      "text/html": [
       "<div>\n",
       "<style>\n",
       "    .dataframe thead tr:only-child th {\n",
       "        text-align: right;\n",
       "    }\n",
       "\n",
       "    .dataframe thead th {\n",
       "        text-align: left;\n",
       "    }\n",
       "\n",
       "    .dataframe tbody tr th {\n",
       "        vertical-align: top;\n",
       "    }\n",
       "</style>\n",
       "<table border=\"1\" class=\"dataframe\">\n",
       "  <thead>\n",
       "    <tr style=\"text-align: right;\">\n",
       "      <th></th>\n",
       "      <th>symbol</th>\n",
       "      <th>synonym</th>\n",
       "      <th>length</th>\n",
       "      <th>chromStart</th>\n",
       "      <th>chromEnd</th>\n",
       "      <th>strand</th>\n",
       "      <th>description</th>\n",
       "      <th>chrom</th>\n",
       "      <th>goterms</th>\n",
       "      <th>ecnums</th>\n",
       "      <th>kegg</th>\n",
       "      <th>pathways</th>\n",
       "      <th>cogs</th>\n",
       "      <th>pfams</th>\n",
       "      <th>operons</th>\n",
       "    </tr>\n",
       "    <tr>\n",
       "      <th>name</th>\n",
       "      <th></th>\n",
       "      <th></th>\n",
       "      <th></th>\n",
       "      <th></th>\n",
       "      <th></th>\n",
       "      <th></th>\n",
       "      <th></th>\n",
       "      <th></th>\n",
       "      <th></th>\n",
       "      <th></th>\n",
       "      <th></th>\n",
       "      <th></th>\n",
       "      <th></th>\n",
       "      <th></th>\n",
       "      <th></th>\n",
       "    </tr>\n",
       "  </thead>\n",
       "  <tbody>\n",
       "    <tr>\n",
       "      <th>Rv0001</th>\n",
       "      <td>dnaA</td>\n",
       "      <td>NaN</td>\n",
       "      <td>1524</td>\n",
       "      <td>0</td>\n",
       "      <td>1524</td>\n",
       "      <td>+</td>\n",
       "      <td>chromosomal replication initiator protein</td>\n",
       "      <td>chr</td>\n",
       "      <td>NaN</td>\n",
       "      <td>NaN</td>\n",
       "      <td>NaN</td>\n",
       "      <td>NaN</td>\n",
       "      <td>COG:L</td>\n",
       "      <td>PF00308.10,PF08299.3</td>\n",
       "      <td>dnaA-dnaA</td>\n",
       "    </tr>\n",
       "    <tr>\n",
       "      <th>Rv0002</th>\n",
       "      <td>dnaN</td>\n",
       "      <td>NaN</td>\n",
       "      <td>1209</td>\n",
       "      <td>2051</td>\n",
       "      <td>3260</td>\n",
       "      <td>+</td>\n",
       "      <td>DNA polymerase III beta chain</td>\n",
       "      <td>chr</td>\n",
       "      <td>GO:0003887</td>\n",
       "      <td>EC:2.7.7.7</td>\n",
       "      <td>KEGG:03030,KEGG:00230,KEGG:00240</td>\n",
       "      <td>NaN</td>\n",
       "      <td>COG:L</td>\n",
       "      <td>PF00712.11,PF02767.8,PF02768.7</td>\n",
       "      <td>dnaN-Rv0004</td>\n",
       "    </tr>\n",
       "    <tr>\n",
       "      <th>Rv0003</th>\n",
       "      <td>recF</td>\n",
       "      <td>NaN</td>\n",
       "      <td>1158</td>\n",
       "      <td>3279</td>\n",
       "      <td>4437</td>\n",
       "      <td>+</td>\n",
       "      <td>DNA replication and repair protein</td>\n",
       "      <td>chr</td>\n",
       "      <td>NaN</td>\n",
       "      <td>NaN</td>\n",
       "      <td>NaN</td>\n",
       "      <td>NaN</td>\n",
       "      <td>COG:L</td>\n",
       "      <td>PF02463.11</td>\n",
       "      <td>dnaN-Rv0004</td>\n",
       "    </tr>\n",
       "    <tr>\n",
       "      <th>Rv0004</th>\n",
       "      <td>NaN</td>\n",
       "      <td>NaN</td>\n",
       "      <td>564</td>\n",
       "      <td>4433</td>\n",
       "      <td>4997</td>\n",
       "      <td>+</td>\n",
       "      <td>conserved hypothetical protein</td>\n",
       "      <td>chr</td>\n",
       "      <td>NaN</td>\n",
       "      <td>NaN</td>\n",
       "      <td>NaN</td>\n",
       "      <td>NaN</td>\n",
       "      <td>COG:R</td>\n",
       "      <td>PF05258.4</td>\n",
       "      <td>dnaN-Rv0004</td>\n",
       "    </tr>\n",
       "    <tr>\n",
       "      <th>Rv0005</th>\n",
       "      <td>gyrB</td>\n",
       "      <td>NaN</td>\n",
       "      <td>2028</td>\n",
       "      <td>5239</td>\n",
       "      <td>7267</td>\n",
       "      <td>+</td>\n",
       "      <td>DNA gyrase subunit B</td>\n",
       "      <td>chr</td>\n",
       "      <td>GO:0003918</td>\n",
       "      <td>EC:5.99.1.3</td>\n",
       "      <td>NaN</td>\n",
       "      <td>NaN</td>\n",
       "      <td>COG:L</td>\n",
       "      <td>PF00204.17,PF00986.13,PF01751.14,PF02518.18</td>\n",
       "      <td>gyrB-gyrA</td>\n",
       "    </tr>\n",
       "  </tbody>\n",
       "</table>\n",
       "</div>"
      ],
      "text/plain": [
       "       symbol synonym  length  chromStart  chromEnd strand  \\\n",
       "name                                                         \n",
       "Rv0001   dnaA     NaN    1524           0      1524      +   \n",
       "Rv0002   dnaN     NaN    1209        2051      3260      +   \n",
       "Rv0003   recF     NaN    1158        3279      4437      +   \n",
       "Rv0004    NaN     NaN     564        4433      4997      +   \n",
       "Rv0005   gyrB     NaN    2028        5239      7267      +   \n",
       "\n",
       "                                      description chrom     goterms  \\\n",
       "name                                                                  \n",
       "Rv0001  chromosomal replication initiator protein   chr         NaN   \n",
       "Rv0002              DNA polymerase III beta chain   chr  GO:0003887   \n",
       "Rv0003         DNA replication and repair protein   chr         NaN   \n",
       "Rv0004             conserved hypothetical protein   chr         NaN   \n",
       "Rv0005                       DNA gyrase subunit B   chr  GO:0003918   \n",
       "\n",
       "             ecnums                              kegg pathways   cogs  \\\n",
       "name                                                                    \n",
       "Rv0001          NaN                               NaN      NaN  COG:L   \n",
       "Rv0002   EC:2.7.7.7  KEGG:03030,KEGG:00230,KEGG:00240      NaN  COG:L   \n",
       "Rv0003          NaN                               NaN      NaN  COG:L   \n",
       "Rv0004          NaN                               NaN      NaN  COG:R   \n",
       "Rv0005  EC:5.99.1.3                               NaN      NaN  COG:L   \n",
       "\n",
       "                                              pfams      operons  \n",
       "name                                                              \n",
       "Rv0001                         PF00308.10,PF08299.3    dnaA-dnaA  \n",
       "Rv0002               PF00712.11,PF02767.8,PF02768.7  dnaN-Rv0004  \n",
       "Rv0003                                   PF02463.11  dnaN-Rv0004  \n",
       "Rv0004                                    PF05258.4  dnaN-Rv0004  \n",
       "Rv0005  PF00204.17,PF00986.13,PF01751.14,PF02518.18    gyrB-gyrA  "
      ]
     },
     "execution_count": 62,
     "metadata": {},
     "output_type": "execute_result"
    }
   ],
   "source": [
    "reference_genome_annotation.head()"
   ]
  },
  {
   "cell_type": "code",
   "execution_count": 63,
   "metadata": {},
   "outputs": [],
   "source": [
    "SSR_i_genes = []\n",
    "\n",
    "for SSR_i_start, SSR_i_end in zip(SSR_H37Rv_df.H37Rv_start, SSR_H37Rv_df.H37Rv_end):\n",
    "\n",
    "    SSR_i_gene_annotation_df = reference_genome_annotation[(reference_genome_annotation.chromStart <= (SSR_i_start-1)) & (reference_genome_annotation.chromEnd >= (SSR_i_end-1))]\n",
    "\n",
    "    # there is a gene for which this SSR is contained within\n",
    "    if np.shape(SSR_i_gene_annotation_df)[0] >= 1:\n",
    "\n",
    "        # iterate through all genes for which SSR is contained within (may be overlapping)\n",
    "        for i in range(0, np.shape(SSR_i_gene_annotation_df)[0]):\n",
    "            gene_i = SSR_i_gene_annotation_df.index[i]\n",
    "            SSR_i_genes.append(gene_i)"
   ]
  },
  {
   "cell_type": "code",
   "execution_count": 64,
   "metadata": {},
   "outputs": [],
   "source": [
    "# get rid of redundant genes\n",
    "SSR_i_genes = list(set(SSR_i_genes))"
   ]
  },
  {
   "cell_type": "code",
   "execution_count": 65,
   "metadata": {},
   "outputs": [
    {
     "data": {
      "text/plain": [
       "3447"
      ]
     },
     "execution_count": 65,
     "metadata": {},
     "output_type": "execute_result"
    }
   ],
   "source": [
    "len(SSR_i_genes)"
   ]
  },
  {
   "cell_type": "markdown",
   "metadata": {},
   "source": [
    "create a filter that seperates genes with an SSR (but not an HT) from genes that have neither an HT or SSR"
   ]
  },
  {
   "cell_type": "code",
   "execution_count": 144,
   "metadata": {},
   "outputs": [],
   "source": [
    "gene_with_SSR_filter = np.array([( (gene_i in SSR_i_genes) & (gene_i not in list(homopolymeric_regions_from_Luca.locus_tag)) ) for gene_i in INDEL_count_by_gene_df.index])"
   ]
  },
  {
   "cell_type": "code",
   "execution_count": 145,
   "metadata": {},
   "outputs": [
    {
     "data": {
      "text/plain": [
       "2827"
      ]
     },
     "execution_count": 145,
     "metadata": {},
     "output_type": "execute_result"
    }
   ],
   "source": [
    "sum(gene_with_SSR_filter)"
   ]
  },
  {
   "cell_type": "code",
   "execution_count": 146,
   "metadata": {},
   "outputs": [],
   "source": [
    "gene_without_HT_SSR_filter = np.array([( (gene_i not in SSR_i_genes) & (gene_i not in list(homopolymeric_regions_from_Luca.locus_tag)) ) for gene_i in INDEL_count_by_gene_df.index])"
   ]
  },
  {
   "cell_type": "code",
   "execution_count": 147,
   "metadata": {},
   "outputs": [
    {
     "data": {
      "text/plain": [
       "451"
      ]
     },
     "execution_count": 147,
     "metadata": {},
     "output_type": "execute_result"
    }
   ],
   "source": [
    "sum(gene_without_HT_SSR_filter)"
   ]
  },
  {
   "cell_type": "markdown",
   "metadata": {},
   "source": [
    "Check to make sure everything adds up to original Gene count"
   ]
  },
  {
   "cell_type": "code",
   "execution_count": 148,
   "metadata": {},
   "outputs": [
    {
     "data": {
      "text/plain": [
       "(3381, 8)"
      ]
     },
     "execution_count": 148,
     "metadata": {},
     "output_type": "execute_result"
    }
   ],
   "source": [
    "INDEL_count_by_gene_df.shape"
   ]
  },
  {
   "cell_type": "code",
   "execution_count": 149,
   "metadata": {},
   "outputs": [
    {
     "data": {
      "text/plain": [
       "3381"
      ]
     },
     "execution_count": 149,
     "metadata": {},
     "output_type": "execute_result"
    }
   ],
   "source": [
    "sum(gene_with_HT_filter) + sum(gene_with_SSR_filter) + sum(gene_without_HT_SSR_filter)"
   ]
  },
  {
   "cell_type": "code",
   "execution_count": 152,
   "metadata": {},
   "outputs": [],
   "source": [
    "def INDEL_mut_dens(ax):\n",
    "\n",
    "    ax.scatter(INDEL_count_by_gene_df[gene_without_HT_SSR_filter].avg_pos_coords , INDEL_count_by_gene_df[gene_without_HT_SSR_filter].mut_density , color = 'k' , edgecolor='k', linewidth=0.0, s = 24 , alpha = 1.0)\n",
    "    ax.scatter(INDEL_count_by_gene_df[gene_with_SSR_filter].avg_pos_coords , INDEL_count_by_gene_df[gene_with_SSR_filter].mut_density , color = 'xkcd:orange' , edgecolor='k', linewidth=0.0, s = 24 , alpha = 0.8)\n",
    "    ax.scatter(INDEL_count_by_gene_df[gene_with_HT_filter].avg_pos_coords , INDEL_count_by_gene_df[gene_with_HT_filter].mut_density , color = 'xkcd:bright blue' , edgecolor='k', linewidth=0.1, s = 24 , alpha = 0.9)\n",
    "\n",
    "    ax.set_xlabel('H37Rv Reference Position (bp)\\n(N={0} Genes)'.format(str(np.shape(INDEL_count_by_gene_df)[0])), fontsize = 8, color = 'k')\n",
    "    ax.set_ylabel('Mutational Density per Gene (INDELs)' , fontsize = 8, color = 'k')\n",
    "\n",
    "    ax.spines['right'].set_visible(False)\n",
    "    ax.spines['top'].set_visible(False)\n",
    "    ax.grid(False)\n",
    "    ax.set_xlim(-40000, 4440000)\n",
    "    ax.set_ylim(-0.055, INDEL_count_by_gene_df.mut_density.max()+0.025)\n",
    "    ax.tick_params(labelcolor = 'k')\n",
    "\n",
    "    ax.tick_params(axis='y', which='major', labelsize=8 , labelcolor = 'k')\n",
    "    ax.tick_params(axis='x', which='major', labelsize=8 , labelcolor = 'k')"
   ]
  },
  {
   "cell_type": "code",
   "execution_count": 78,
   "metadata": {},
   "outputs": [],
   "source": [
    "#convert datatypes from float > int\n",
    "convert_dict = {'unique_INDEL_count':int, 'inframe_ME_count':int, 'frameshift_ME_count':int, 'ME_count':int}\n",
    "INDEL_count_by_gene_df = INDEL_count_by_gene_df.astype(convert_dict)"
   ]
  },
  {
   "cell_type": "code",
   "execution_count": 79,
   "metadata": {},
   "outputs": [
    {
     "data": {
      "text/html": [
       "<div>\n",
       "<style>\n",
       "    .dataframe thead tr:only-child th {\n",
       "        text-align: right;\n",
       "    }\n",
       "\n",
       "    .dataframe thead th {\n",
       "        text-align: left;\n",
       "    }\n",
       "\n",
       "    .dataframe tbody tr th {\n",
       "        vertical-align: top;\n",
       "    }\n",
       "</style>\n",
       "<table border=\"1\" class=\"dataframe\">\n",
       "  <thead>\n",
       "    <tr style=\"text-align: right;\">\n",
       "      <th></th>\n",
       "      <th>gene_name</th>\n",
       "      <th>unique_INDEL_count</th>\n",
       "      <th>inframe_ME_count</th>\n",
       "      <th>frameshift_ME_count</th>\n",
       "      <th>ME_count</th>\n",
       "      <th>nuc_length</th>\n",
       "      <th>mut_density</th>\n",
       "      <th>avg_pos_coords</th>\n",
       "    </tr>\n",
       "  </thead>\n",
       "  <tbody>\n",
       "    <tr>\n",
       "      <th>Rv0878c</th>\n",
       "      <td>PPE13</td>\n",
       "      <td>55</td>\n",
       "      <td>275</td>\n",
       "      <td>3111</td>\n",
       "      <td>3386</td>\n",
       "      <td>1325</td>\n",
       "      <td>2.555472</td>\n",
       "      <td>977537.0</td>\n",
       "    </tr>\n",
       "    <tr>\n",
       "      <th>Rv1888c</th>\n",
       "      <td>Rv1888c</td>\n",
       "      <td>8</td>\n",
       "      <td>0</td>\n",
       "      <td>1166</td>\n",
       "      <td>1166</td>\n",
       "      <td>561</td>\n",
       "      <td>2.078431</td>\n",
       "      <td>2137798.5</td>\n",
       "    </tr>\n",
       "    <tr>\n",
       "      <th>Rv1668c</th>\n",
       "      <td>Rv1668c</td>\n",
       "      <td>13</td>\n",
       "      <td>4</td>\n",
       "      <td>1498</td>\n",
       "      <td>1502</td>\n",
       "      <td>1117</td>\n",
       "      <td>1.344673</td>\n",
       "      <td>1894782.5</td>\n",
       "    </tr>\n",
       "    <tr>\n",
       "      <th>Rv3425</th>\n",
       "      <td>PPE57</td>\n",
       "      <td>8</td>\n",
       "      <td>0</td>\n",
       "      <td>401</td>\n",
       "      <td>401</td>\n",
       "      <td>335</td>\n",
       "      <td>1.197015</td>\n",
       "      <td>3842503.5</td>\n",
       "    </tr>\n",
       "    <tr>\n",
       "      <th>Rv0872c</th>\n",
       "      <td>PE_PGRS15</td>\n",
       "      <td>59</td>\n",
       "      <td>1476</td>\n",
       "      <td>41</td>\n",
       "      <td>1517</td>\n",
       "      <td>1274</td>\n",
       "      <td>1.190738</td>\n",
       "      <td>969333.5</td>\n",
       "    </tr>\n",
       "    <tr>\n",
       "      <th>Rv3919c</th>\n",
       "      <td>gid</td>\n",
       "      <td>143</td>\n",
       "      <td>3</td>\n",
       "      <td>714</td>\n",
       "      <td>717</td>\n",
       "      <td>674</td>\n",
       "      <td>1.063798</td>\n",
       "      <td>4407864.5</td>\n",
       "    </tr>\n",
       "    <tr>\n",
       "      <th>Rv2081c</th>\n",
       "      <td>Rv2081c</td>\n",
       "      <td>18</td>\n",
       "      <td>4</td>\n",
       "      <td>371</td>\n",
       "      <td>375</td>\n",
       "      <td>373</td>\n",
       "      <td>1.005362</td>\n",
       "      <td>2338284.5</td>\n",
       "    </tr>\n",
       "    <tr>\n",
       "      <th>Rv1269c</th>\n",
       "      <td>Rv1269c</td>\n",
       "      <td>8</td>\n",
       "      <td>2</td>\n",
       "      <td>316</td>\n",
       "      <td>318</td>\n",
       "      <td>375</td>\n",
       "      <td>0.848000</td>\n",
       "      <td>1418765.5</td>\n",
       "    </tr>\n",
       "    <tr>\n",
       "      <th>Rv1434</th>\n",
       "      <td>Rv1434</td>\n",
       "      <td>6</td>\n",
       "      <td>96</td>\n",
       "      <td>4</td>\n",
       "      <td>100</td>\n",
       "      <td>135</td>\n",
       "      <td>0.740741</td>\n",
       "      <td>1612324.0</td>\n",
       "    </tr>\n",
       "    <tr>\n",
       "      <th>Rv0094c</th>\n",
       "      <td>Rv0094c</td>\n",
       "      <td>6</td>\n",
       "      <td>25</td>\n",
       "      <td>3</td>\n",
       "      <td>28</td>\n",
       "      <td>42</td>\n",
       "      <td>0.666667</td>\n",
       "      <td>104186.0</td>\n",
       "    </tr>\n",
       "    <tr>\n",
       "      <th>Rv2823c</th>\n",
       "      <td>Rv2823c</td>\n",
       "      <td>37</td>\n",
       "      <td>1543</td>\n",
       "      <td>29</td>\n",
       "      <td>1572</td>\n",
       "      <td>2428</td>\n",
       "      <td>0.647446</td>\n",
       "      <td>3130558.0</td>\n",
       "    </tr>\n",
       "    <tr>\n",
       "      <th>Rv2330c</th>\n",
       "      <td>lppP</td>\n",
       "      <td>8</td>\n",
       "      <td>327</td>\n",
       "      <td>5</td>\n",
       "      <td>332</td>\n",
       "      <td>527</td>\n",
       "      <td>0.629981</td>\n",
       "      <td>2603958.0</td>\n",
       "    </tr>\n",
       "    <tr>\n",
       "      <th>Rv2043c</th>\n",
       "      <td>pncA</td>\n",
       "      <td>200</td>\n",
       "      <td>32</td>\n",
       "      <td>306</td>\n",
       "      <td>338</td>\n",
       "      <td>561</td>\n",
       "      <td>0.602496</td>\n",
       "      <td>2288960.5</td>\n",
       "    </tr>\n",
       "    <tr>\n",
       "      <th>Rv1759c</th>\n",
       "      <td>wag22</td>\n",
       "      <td>16</td>\n",
       "      <td>35</td>\n",
       "      <td>587</td>\n",
       "      <td>622</td>\n",
       "      <td>1066</td>\n",
       "      <td>0.583490</td>\n",
       "      <td>1991204.5</td>\n",
       "    </tr>\n",
       "    <tr>\n",
       "      <th>Rv2561</th>\n",
       "      <td>Rv2561</td>\n",
       "      <td>30</td>\n",
       "      <td>2</td>\n",
       "      <td>150</td>\n",
       "      <td>152</td>\n",
       "      <td>293</td>\n",
       "      <td>0.518771</td>\n",
       "      <td>2881555.0</td>\n",
       "    </tr>\n",
       "    <tr>\n",
       "      <th>Rv3467</th>\n",
       "      <td>Rv3467</td>\n",
       "      <td>4</td>\n",
       "      <td>20</td>\n",
       "      <td>2</td>\n",
       "      <td>22</td>\n",
       "      <td>44</td>\n",
       "      <td>0.500000</td>\n",
       "      <td>3884440.0</td>\n",
       "    </tr>\n",
       "    <tr>\n",
       "      <th>Rv2947c</th>\n",
       "      <td>pks15</td>\n",
       "      <td>36</td>\n",
       "      <td>9</td>\n",
       "      <td>697</td>\n",
       "      <td>706</td>\n",
       "      <td>1427</td>\n",
       "      <td>0.494744</td>\n",
       "      <td>3297094.5</td>\n",
       "    </tr>\n",
       "    <tr>\n",
       "      <th>Rv0071</th>\n",
       "      <td>Rv0071</td>\n",
       "      <td>19</td>\n",
       "      <td>202</td>\n",
       "      <td>12</td>\n",
       "      <td>214</td>\n",
       "      <td>535</td>\n",
       "      <td>0.400000</td>\n",
       "      <td>79839.0</td>\n",
       "    </tr>\n",
       "    <tr>\n",
       "      <th>Rv2526</th>\n",
       "      <td>vapB17</td>\n",
       "      <td>6</td>\n",
       "      <td>1</td>\n",
       "      <td>87</td>\n",
       "      <td>88</td>\n",
       "      <td>227</td>\n",
       "      <td>0.387665</td>\n",
       "      <td>2851204.0</td>\n",
       "    </tr>\n",
       "    <tr>\n",
       "      <th>Rv3872</th>\n",
       "      <td>PE35</td>\n",
       "      <td>12</td>\n",
       "      <td>2</td>\n",
       "      <td>114</td>\n",
       "      <td>116</td>\n",
       "      <td>300</td>\n",
       "      <td>0.386667</td>\n",
       "      <td>4350894.0</td>\n",
       "    </tr>\n",
       "    <tr>\n",
       "      <th>Rv0050</th>\n",
       "      <td>ponA1</td>\n",
       "      <td>16</td>\n",
       "      <td>700</td>\n",
       "      <td>2</td>\n",
       "      <td>702</td>\n",
       "      <td>1902</td>\n",
       "      <td>0.369085</td>\n",
       "      <td>54680.5</td>\n",
       "    </tr>\n",
       "    <tr>\n",
       "      <th>Rv3854c</th>\n",
       "      <td>ethA</td>\n",
       "      <td>240</td>\n",
       "      <td>12</td>\n",
       "      <td>497</td>\n",
       "      <td>509</td>\n",
       "      <td>1470</td>\n",
       "      <td>0.346259</td>\n",
       "      <td>4326738.0</td>\n",
       "    </tr>\n",
       "    <tr>\n",
       "      <th>Rv1190</th>\n",
       "      <td>Rv1190</td>\n",
       "      <td>21</td>\n",
       "      <td>8</td>\n",
       "      <td>292</td>\n",
       "      <td>300</td>\n",
       "      <td>877</td>\n",
       "      <td>0.342075</td>\n",
       "      <td>1333418.5</td>\n",
       "    </tr>\n",
       "    <tr>\n",
       "      <th>Rv2709</th>\n",
       "      <td>Rv2709</td>\n",
       "      <td>12</td>\n",
       "      <td>140</td>\n",
       "      <td>8</td>\n",
       "      <td>148</td>\n",
       "      <td>446</td>\n",
       "      <td>0.331839</td>\n",
       "      <td>3022061.5</td>\n",
       "    </tr>\n",
       "    <tr>\n",
       "      <th>Rv3379c</th>\n",
       "      <td>dxs2</td>\n",
       "      <td>28</td>\n",
       "      <td>1</td>\n",
       "      <td>454</td>\n",
       "      <td>455</td>\n",
       "      <td>1611</td>\n",
       "      <td>0.282433</td>\n",
       "      <td>3794061.5</td>\n",
       "    </tr>\n",
       "  </tbody>\n",
       "</table>\n",
       "</div>"
      ],
      "text/plain": [
       "         gene_name  unique_INDEL_count  inframe_ME_count  frameshift_ME_count  \\\n",
       "Rv0878c      PPE13                  55               275                 3111   \n",
       "Rv1888c    Rv1888c                   8                 0                 1166   \n",
       "Rv1668c    Rv1668c                  13                 4                 1498   \n",
       "Rv3425       PPE57                   8                 0                  401   \n",
       "Rv0872c  PE_PGRS15                  59              1476                   41   \n",
       "Rv3919c        gid                 143                 3                  714   \n",
       "Rv2081c    Rv2081c                  18                 4                  371   \n",
       "Rv1269c    Rv1269c                   8                 2                  316   \n",
       "Rv1434      Rv1434                   6                96                    4   \n",
       "Rv0094c    Rv0094c                   6                25                    3   \n",
       "Rv2823c    Rv2823c                  37              1543                   29   \n",
       "Rv2330c       lppP                   8               327                    5   \n",
       "Rv2043c       pncA                 200                32                  306   \n",
       "Rv1759c      wag22                  16                35                  587   \n",
       "Rv2561      Rv2561                  30                 2                  150   \n",
       "Rv3467      Rv3467                   4                20                    2   \n",
       "Rv2947c      pks15                  36                 9                  697   \n",
       "Rv0071      Rv0071                  19               202                   12   \n",
       "Rv2526      vapB17                   6                 1                   87   \n",
       "Rv3872        PE35                  12                 2                  114   \n",
       "Rv0050       ponA1                  16               700                    2   \n",
       "Rv3854c       ethA                 240                12                  497   \n",
       "Rv1190      Rv1190                  21                 8                  292   \n",
       "Rv2709      Rv2709                  12               140                    8   \n",
       "Rv3379c       dxs2                  28                 1                  454   \n",
       "\n",
       "         ME_count  nuc_length  mut_density  avg_pos_coords  \n",
       "Rv0878c      3386        1325     2.555472        977537.0  \n",
       "Rv1888c      1166         561     2.078431       2137798.5  \n",
       "Rv1668c      1502        1117     1.344673       1894782.5  \n",
       "Rv3425        401         335     1.197015       3842503.5  \n",
       "Rv0872c      1517        1274     1.190738        969333.5  \n",
       "Rv3919c       717         674     1.063798       4407864.5  \n",
       "Rv2081c       375         373     1.005362       2338284.5  \n",
       "Rv1269c       318         375     0.848000       1418765.5  \n",
       "Rv1434        100         135     0.740741       1612324.0  \n",
       "Rv0094c        28          42     0.666667        104186.0  \n",
       "Rv2823c      1572        2428     0.647446       3130558.0  \n",
       "Rv2330c       332         527     0.629981       2603958.0  \n",
       "Rv2043c       338         561     0.602496       2288960.5  \n",
       "Rv1759c       622        1066     0.583490       1991204.5  \n",
       "Rv2561        152         293     0.518771       2881555.0  \n",
       "Rv3467         22          44     0.500000       3884440.0  \n",
       "Rv2947c       706        1427     0.494744       3297094.5  \n",
       "Rv0071        214         535     0.400000         79839.0  \n",
       "Rv2526         88         227     0.387665       2851204.0  \n",
       "Rv3872        116         300     0.386667       4350894.0  \n",
       "Rv0050        702        1902     0.369085         54680.5  \n",
       "Rv3854c       509        1470     0.346259       4326738.0  \n",
       "Rv1190        300         877     0.342075       1333418.5  \n",
       "Rv2709        148         446     0.331839       3022061.5  \n",
       "Rv3379c       455        1611     0.282433       3794061.5  "
      ]
     },
     "execution_count": 79,
     "metadata": {},
     "output_type": "execute_result"
    }
   ],
   "source": [
    "INDEL_count_by_gene_df.sort_values(by = 'mut_density' , ascending = False).head(n = 25)"
   ]
  },
  {
   "cell_type": "markdown",
   "metadata": {},
   "source": [
    "### output *SNV* and *INDEL* results as excel files"
   ]
  },
  {
   "cell_type": "code",
   "execution_count": 80,
   "metadata": {},
   "outputs": [],
   "source": [
    "SNV_count_by_gene_df.sort_values(by = 'mut_density' , ascending = False , inplace = True)\n",
    "SNV_count_by_gene_df.to_excel('/n/data1/hms/dbmi/farhat/Roger/homoplasy_project/CSV_files/for publication/SNV_mutation_event_density_across_genes.xlsx')\n",
    "\n",
    "INDEL_count_by_gene_df.sort_values(by = 'mut_density' , ascending = False , inplace = True)\n",
    "INDEL_count_by_gene_df.to_excel('/n/data1/hms/dbmi/farhat/Roger/homoplasy_project/CSV_files/for publication/INDEL_mutation_event_density_across_genes.xlsx')"
   ]
  },
  {
   "cell_type": "markdown",
   "metadata": {},
   "source": [
    "### save lengths of genes for simulations of mutational density using phylogenies\n",
    "- lengths will be the same for SNV & INDEL mutational density calculations, lengths exclude positions filtered out/masked"
   ]
  },
  {
   "cell_type": "code",
   "execution_count": 81,
   "metadata": {},
   "outputs": [],
   "source": [
    "gene_ids = list(set(list(SNV_count_by_gene_df.index) + list(INDEL_count_by_gene_df.index)))\n",
    "\n",
    "gene_id_length_dict = {}\n",
    "for gene_i in gene_ids:\n",
    "    \n",
    "    if gene_i in SNV_count_by_gene_df.index:\n",
    "        gene_id_length_dict[gene_i] = SNV_count_by_gene_df.loc[gene_i, 'nuc_length']\n",
    "        \n",
    "    elif gene_i in INDEL_count_by_gene_df.index:\n",
    "        gene_id_length_dict[gene_i] = INDEL_count_by_gene_df.loc[gene_i, 'nuc_length']"
   ]
  },
  {
   "cell_type": "code",
   "execution_count": 82,
   "metadata": {},
   "outputs": [
    {
     "data": {
      "text/plain": [
       "3886"
      ]
     },
     "execution_count": 82,
     "metadata": {},
     "output_type": "execute_result"
    }
   ],
   "source": [
    "len(gene_ids)"
   ]
  },
  {
   "cell_type": "code",
   "execution_count": 83,
   "metadata": {},
   "outputs": [
    {
     "data": {
      "text/plain": [
       "3886"
      ]
     },
     "execution_count": 83,
     "metadata": {},
     "output_type": "execute_result"
    }
   ],
   "source": [
    "len(gene_id_length_dict.keys())"
   ]
  },
  {
   "cell_type": "code",
   "execution_count": 84,
   "metadata": {},
   "outputs": [],
   "source": [
    "with open('/n/data1/hms/dbmi/farhat/Roger/homoplasy_project/pickled_files/mutational_density_simulations_per_locus/locus_length_dict.pickle', 'wb') as handle:\n",
    "    pickle.dump(gene_id_length_dict, handle, protocol=pickle.HIGHEST_PROTOCOL)"
   ]
  },
  {
   "cell_type": "markdown",
   "metadata": {},
   "source": [
    "## [6] Pathway Enrichment Analysis"
   ]
  },
  {
   "cell_type": "markdown",
   "metadata": {},
   "source": [
    "### Import annotation from Mycobrowser"
   ]
  },
  {
   "cell_type": "code",
   "execution_count": 85,
   "metadata": {},
   "outputs": [],
   "source": [
    "mycobrowser_table = pd.read_csv('/n/data1/hms/dbmi/farhat/Roger/inhost_TB_dynamics_project/CSV_files/H37Rv_info/Mycobrowser_Release3/Mycobacterium_tuberculosis_H37Rv_txt_v3.txt' , sep = '\\t')\n",
    "\n",
    "#drop unnecessary columns\n",
    "mycobrowser_table = mycobrowser_table.loc[: , ['Refseq_ID' , 'Feature' , 'Start' , 'Stop', 'Score' , 'Strand' , 'Frame' , 'Locus' , 'Name' , 'Function' , 'Product' , 'Comments' , 'UniProt_AC' , 'Functional_Category']]\n",
    "\n",
    "#organize by Start Ref Position\n",
    "mycobrowser_table.sort_values(by = ['Start'] , inplace = True)\n",
    "\n",
    "#subset to CDS regions\n",
    "mycobrowser_table = mycobrowser_table[mycobrowser_table.Feature == 'CDS']\n",
    "\n",
    "#reset index\n",
    "mycobrowser_table.reset_index(inplace = True , drop = True)"
   ]
  },
  {
   "cell_type": "code",
   "execution_count": 86,
   "metadata": {},
   "outputs": [
    {
     "data": {
      "text/html": [
       "<div>\n",
       "<style>\n",
       "    .dataframe thead tr:only-child th {\n",
       "        text-align: right;\n",
       "    }\n",
       "\n",
       "    .dataframe thead th {\n",
       "        text-align: left;\n",
       "    }\n",
       "\n",
       "    .dataframe tbody tr th {\n",
       "        vertical-align: top;\n",
       "    }\n",
       "</style>\n",
       "<table border=\"1\" class=\"dataframe\">\n",
       "  <thead>\n",
       "    <tr style=\"text-align: right;\">\n",
       "      <th></th>\n",
       "      <th>Refseq_ID</th>\n",
       "      <th>Feature</th>\n",
       "      <th>Start</th>\n",
       "      <th>Stop</th>\n",
       "      <th>Score</th>\n",
       "      <th>Strand</th>\n",
       "      <th>Frame</th>\n",
       "      <th>Locus</th>\n",
       "      <th>Name</th>\n",
       "      <th>Function</th>\n",
       "      <th>Product</th>\n",
       "      <th>Comments</th>\n",
       "      <th>UniProt_AC</th>\n",
       "      <th>Functional_Category</th>\n",
       "    </tr>\n",
       "  </thead>\n",
       "  <tbody>\n",
       "    <tr>\n",
       "      <th>0</th>\n",
       "      <td>NC_000962.3</td>\n",
       "      <td>CDS</td>\n",
       "      <td>1</td>\n",
       "      <td>1524</td>\n",
       "      <td>.</td>\n",
       "      <td>+</td>\n",
       "      <td>0.0</td>\n",
       "      <td>Rv0001</td>\n",
       "      <td>dnaA</td>\n",
       "      <td>Plays an important role in the initiation and ...</td>\n",
       "      <td>Chromosomal replication initiator protein DnaA</td>\n",
       "      <td>Rv0001, (MT0001, MTV029.01, P49993), len: 507 ...</td>\n",
       "      <td>P9WNW3</td>\n",
       "      <td>information pathways</td>\n",
       "    </tr>\n",
       "    <tr>\n",
       "      <th>1</th>\n",
       "      <td>NC_000962.3</td>\n",
       "      <td>CDS</td>\n",
       "      <td>2052</td>\n",
       "      <td>3260</td>\n",
       "      <td>.</td>\n",
       "      <td>+</td>\n",
       "      <td>0.0</td>\n",
       "      <td>Rv0002</td>\n",
       "      <td>dnaN</td>\n",
       "      <td>DNA polymerase III is a complex, multichain en...</td>\n",
       "      <td>DNA polymerase III (beta chain) DnaN (DNA nucl...</td>\n",
       "      <td>Rv0002, (MTV029.02, MTCY10H4.0), len: 402 aa. ...</td>\n",
       "      <td>P9WNU1</td>\n",
       "      <td>information pathways</td>\n",
       "    </tr>\n",
       "    <tr>\n",
       "      <th>2</th>\n",
       "      <td>NC_000962.3</td>\n",
       "      <td>CDS</td>\n",
       "      <td>3280</td>\n",
       "      <td>4437</td>\n",
       "      <td>.</td>\n",
       "      <td>+</td>\n",
       "      <td>0.0</td>\n",
       "      <td>Rv0003</td>\n",
       "      <td>recF</td>\n",
       "      <td>The RECF protein is involved in DNA metabolism...</td>\n",
       "      <td>DNA replication and repair protein RecF (singl...</td>\n",
       "      <td>Rv0003, (MTCY10H4.01), len: 385 aa. RecF, DNA ...</td>\n",
       "      <td>P9WHI9</td>\n",
       "      <td>information pathways</td>\n",
       "    </tr>\n",
       "    <tr>\n",
       "      <th>3</th>\n",
       "      <td>NC_000962.3</td>\n",
       "      <td>CDS</td>\n",
       "      <td>4434</td>\n",
       "      <td>4997</td>\n",
       "      <td>.</td>\n",
       "      <td>+</td>\n",
       "      <td>0.0</td>\n",
       "      <td>Rv0004</td>\n",
       "      <td>Rv0004</td>\n",
       "      <td>Function unknown</td>\n",
       "      <td>Conserved hypothetical protein</td>\n",
       "      <td>Rv0004, (MTCY10H4.02), len: 187 aa. Conserved ...</td>\n",
       "      <td>P9WFL1</td>\n",
       "      <td>conserved hypotheticals</td>\n",
       "    </tr>\n",
       "    <tr>\n",
       "      <th>4</th>\n",
       "      <td>NC_000962.3</td>\n",
       "      <td>CDS</td>\n",
       "      <td>5240</td>\n",
       "      <td>7267</td>\n",
       "      <td>.</td>\n",
       "      <td>+</td>\n",
       "      <td>0.0</td>\n",
       "      <td>Rv0005</td>\n",
       "      <td>gyrB</td>\n",
       "      <td>DNA gyrase negatively supercoils closed circul...</td>\n",
       "      <td>DNA gyrase (subunit B) GyrB (DNA topoisomerase...</td>\n",
       "      <td>Rv0005, (MTCY10H4.03), len: 675 aa. GyrB, DNA ...</td>\n",
       "      <td>P9WG45</td>\n",
       "      <td>information pathways</td>\n",
       "    </tr>\n",
       "  </tbody>\n",
       "</table>\n",
       "</div>"
      ],
      "text/plain": [
       "     Refseq_ID Feature  Start  Stop Score Strand  Frame   Locus    Name  \\\n",
       "0  NC_000962.3     CDS      1  1524     .      +    0.0  Rv0001    dnaA   \n",
       "1  NC_000962.3     CDS   2052  3260     .      +    0.0  Rv0002    dnaN   \n",
       "2  NC_000962.3     CDS   3280  4437     .      +    0.0  Rv0003    recF   \n",
       "3  NC_000962.3     CDS   4434  4997     .      +    0.0  Rv0004  Rv0004   \n",
       "4  NC_000962.3     CDS   5240  7267     .      +    0.0  Rv0005    gyrB   \n",
       "\n",
       "                                            Function  \\\n",
       "0  Plays an important role in the initiation and ...   \n",
       "1  DNA polymerase III is a complex, multichain en...   \n",
       "2  The RECF protein is involved in DNA metabolism...   \n",
       "3                                   Function unknown   \n",
       "4  DNA gyrase negatively supercoils closed circul...   \n",
       "\n",
       "                                             Product  \\\n",
       "0     Chromosomal replication initiator protein DnaA   \n",
       "1  DNA polymerase III (beta chain) DnaN (DNA nucl...   \n",
       "2  DNA replication and repair protein RecF (singl...   \n",
       "3                     Conserved hypothetical protein   \n",
       "4  DNA gyrase (subunit B) GyrB (DNA topoisomerase...   \n",
       "\n",
       "                                            Comments UniProt_AC  \\\n",
       "0  Rv0001, (MT0001, MTV029.01, P49993), len: 507 ...     P9WNW3   \n",
       "1  Rv0002, (MTV029.02, MTCY10H4.0), len: 402 aa. ...     P9WNU1   \n",
       "2  Rv0003, (MTCY10H4.01), len: 385 aa. RecF, DNA ...     P9WHI9   \n",
       "3  Rv0004, (MTCY10H4.02), len: 187 aa. Conserved ...     P9WFL1   \n",
       "4  Rv0005, (MTCY10H4.03), len: 675 aa. GyrB, DNA ...     P9WG45   \n",
       "\n",
       "       Functional_Category  \n",
       "0     information pathways  \n",
       "1     information pathways  \n",
       "2     information pathways  \n",
       "3  conserved hypotheticals  \n",
       "4     information pathways  "
      ]
     },
     "execution_count": 86,
     "metadata": {},
     "output_type": "execute_result"
    }
   ],
   "source": [
    "mycobrowser_table.head(n=5)"
   ]
  },
  {
   "cell_type": "code",
   "execution_count": 87,
   "metadata": {},
   "outputs": [
    {
     "data": {
      "text/plain": [
       "(4031, 14)"
      ]
     },
     "execution_count": 87,
     "metadata": {},
     "output_type": "execute_result"
    }
   ],
   "source": [
    "np.shape(mycobrowser_table)"
   ]
  },
  {
   "cell_type": "markdown",
   "metadata": {},
   "source": [
    "#### Subset Mycobrowser table to genes that we kept for analysis"
   ]
  },
  {
   "cell_type": "code",
   "execution_count": 88,
   "metadata": {},
   "outputs": [],
   "source": [
    "# get list of all Genes to consider in Significance Testing\n",
    "H37Rv_tags_to_keep = list(set(list(SNV_count_by_gene_df.index) + list(INDEL_count_by_gene_df.index)))"
   ]
  },
  {
   "cell_type": "code",
   "execution_count": 89,
   "metadata": {},
   "outputs": [
    {
     "data": {
      "text/plain": [
       "3886"
      ]
     },
     "execution_count": 89,
     "metadata": {},
     "output_type": "execute_result"
    }
   ],
   "source": [
    "len(H37Rv_tags_to_keep)"
   ]
  },
  {
   "cell_type": "code",
   "execution_count": 90,
   "metadata": {},
   "outputs": [],
   "source": [
    "#subset to certain genes\n",
    "mycobrowser_table_filter = [(H37Rv_tag in H37Rv_tags_to_keep) for H37Rv_tag in list( mycobrowser_table.Locus )]\n",
    "mycobrowser_table = mycobrowser_table[mycobrowser_table_filter]\n",
    "\n",
    "#reset index\n",
    "mycobrowser_table.reset_index(inplace = True , drop = True)"
   ]
  },
  {
   "cell_type": "code",
   "execution_count": 91,
   "metadata": {},
   "outputs": [
    {
     "data": {
      "text/plain": [
       "(3873, 14)"
      ]
     },
     "execution_count": 91,
     "metadata": {},
     "output_type": "execute_result"
    }
   ],
   "source": [
    "np.shape(mycobrowser_table)"
   ]
  },
  {
   "cell_type": "markdown",
   "metadata": {},
   "source": [
    "### Create a list that holds each H37Rv tag and its genomic coordinates (+/- a fudge factor)"
   ]
  },
  {
   "cell_type": "code",
   "execution_count": 92,
   "metadata": {},
   "outputs": [],
   "source": [
    "H37Rv_coords_tag_map = []\n",
    "\n",
    "for H37Rv_region_i in mycobrowser_table.index:\n",
    "    \n",
    "    H37Rv_tag = mycobrowser_table.loc[H37Rv_region_i , 'Locus']\n",
    "    H37Rv_coords = np.sort( list( mycobrowser_table.loc[H37Rv_region_i , ['Start' , 'Stop']] ) ) \n",
    "    start_coord = H37Rv_coords[0]\n",
    "    stop_coord = H37Rv_coords[1]\n",
    "    \n",
    "    #structure: H37Rv tag, start coord +/- fudge factor, stop coord +/- fudge factor (20bp)\n",
    "    H37Rv_coords_tag_map.append( [H37Rv_tag , range(start_coord-20 , start_coord+21) , range(stop_coord-20 , stop_coord+21)] )"
   ]
  },
  {
   "cell_type": "code",
   "execution_count": 93,
   "metadata": {},
   "outputs": [
    {
     "data": {
      "text/plain": [
       "3873"
      ]
     },
     "execution_count": 93,
     "metadata": {},
     "output_type": "execute_result"
    }
   ],
   "source": [
    "len(H37Rv_coords_tag_map)"
   ]
  },
  {
   "cell_type": "markdown",
   "metadata": {},
   "source": [
    "Test for some gene"
   ]
  },
  {
   "cell_type": "code",
   "execution_count": 94,
   "metadata": {},
   "outputs": [
    {
     "name": "stdout",
     "output_type": "stream",
     "text": [
      "Rv0011c\n"
     ]
    }
   ],
   "source": [
    "print H37Rv_coords_tag_map[10][0] #H37Rv tag"
   ]
  },
  {
   "cell_type": "code",
   "execution_count": 95,
   "metadata": {},
   "outputs": [
    {
     "name": "stdout",
     "output_type": "stream",
     "text": [
      "[13694, 13695, 13696, 13697, 13698, 13699, 13700, 13701, 13702, 13703, 13704, 13705, 13706, 13707, 13708, 13709, 13710, 13711, 13712, 13713, 13714, 13715, 13716, 13717, 13718, 13719, 13720, 13721, 13722, 13723, 13724, 13725, 13726, 13727, 13728, 13729, 13730, 13731, 13732, 13733, 13734]\n"
     ]
    }
   ],
   "source": [
    "print H37Rv_coords_tag_map[10][1] #20bp left/right of H37Rv start coordinate"
   ]
  },
  {
   "cell_type": "code",
   "execution_count": 96,
   "metadata": {},
   "outputs": [
    {
     "name": "stdout",
     "output_type": "stream",
     "text": [
      "[13975, 13976, 13977, 13978, 13979, 13980, 13981, 13982, 13983, 13984, 13985, 13986, 13987, 13988, 13989, 13990, 13991, 13992, 13993, 13994, 13995, 13996, 13997, 13998, 13999, 14000, 14001, 14002, 14003, 14004, 14005, 14006, 14007, 14008, 14009, 14010, 14011, 14012, 14013, 14014, 14015]\n"
     ]
    }
   ],
   "source": [
    "print H37Rv_coords_tag_map[10][2] #20bp left/right of H37Rv stop coordinate"
   ]
  },
  {
   "cell_type": "code",
   "execution_count": 97,
   "metadata": {},
   "outputs": [
    {
     "data": {
      "text/html": [
       "<div>\n",
       "<style>\n",
       "    .dataframe thead tr:only-child th {\n",
       "        text-align: right;\n",
       "    }\n",
       "\n",
       "    .dataframe thead th {\n",
       "        text-align: left;\n",
       "    }\n",
       "\n",
       "    .dataframe tbody tr th {\n",
       "        vertical-align: top;\n",
       "    }\n",
       "</style>\n",
       "<table border=\"1\" class=\"dataframe\">\n",
       "  <thead>\n",
       "    <tr style=\"text-align: right;\">\n",
       "      <th></th>\n",
       "      <th>Refseq_ID</th>\n",
       "      <th>Feature</th>\n",
       "      <th>Start</th>\n",
       "      <th>Stop</th>\n",
       "      <th>Score</th>\n",
       "      <th>Strand</th>\n",
       "      <th>Frame</th>\n",
       "      <th>Locus</th>\n",
       "      <th>Name</th>\n",
       "      <th>Function</th>\n",
       "      <th>Product</th>\n",
       "      <th>Comments</th>\n",
       "      <th>UniProt_AC</th>\n",
       "      <th>Functional_Category</th>\n",
       "    </tr>\n",
       "  </thead>\n",
       "  <tbody>\n",
       "    <tr>\n",
       "      <th>10</th>\n",
       "      <td>NC_000962.3</td>\n",
       "      <td>CDS</td>\n",
       "      <td>13714</td>\n",
       "      <td>13995</td>\n",
       "      <td>.</td>\n",
       "      <td>-</td>\n",
       "      <td>0.0</td>\n",
       "      <td>Rv0011c</td>\n",
       "      <td>Rv0011c</td>\n",
       "      <td>Unknown</td>\n",
       "      <td>Probable conserved transmembrane protein</td>\n",
       "      <td>Rv0011c, (MTCY10H4.11c), len: 93 aa. Probable ...</td>\n",
       "      <td>P9WP57</td>\n",
       "      <td>cell wall and cell processes</td>\n",
       "    </tr>\n",
       "  </tbody>\n",
       "</table>\n",
       "</div>"
      ],
      "text/plain": [
       "      Refseq_ID Feature  Start   Stop Score Strand  Frame    Locus     Name  \\\n",
       "10  NC_000962.3     CDS  13714  13995     .      -    0.0  Rv0011c  Rv0011c   \n",
       "\n",
       "   Function                                   Product  \\\n",
       "10  Unknown  Probable conserved transmembrane protein   \n",
       "\n",
       "                                             Comments UniProt_AC  \\\n",
       "10  Rv0011c, (MTCY10H4.11c), len: 93 aa. Probable ...     P9WP57   \n",
       "\n",
       "             Functional_Category  \n",
       "10  cell wall and cell processes  "
      ]
     },
     "execution_count": 97,
     "metadata": {},
     "output_type": "execute_result"
    }
   ],
   "source": [
    "mycobrowser_table[mycobrowser_table.Locus == 'Rv0011c']"
   ]
  },
  {
   "cell_type": "markdown",
   "metadata": {},
   "source": [
    "### Import subsystem classification from SEED"
   ]
  },
  {
   "cell_type": "code",
   "execution_count": 98,
   "metadata": {},
   "outputs": [],
   "source": [
    "SEED_annotation = pd.read_csv('//n/data1/hms/dbmi/farhat/Roger/inhost_TB_dynamics_project/CSV_files/pathway_analysis/SEED_H37Rv_83332_1_downloaded_4_1_19.tsv' , sep = '\\t')"
   ]
  },
  {
   "cell_type": "code",
   "execution_count": 99,
   "metadata": {},
   "outputs": [
    {
     "data": {
      "text/html": [
       "<div>\n",
       "<style>\n",
       "    .dataframe thead tr:only-child th {\n",
       "        text-align: right;\n",
       "    }\n",
       "\n",
       "    .dataframe thead th {\n",
       "        text-align: left;\n",
       "    }\n",
       "\n",
       "    .dataframe tbody tr th {\n",
       "        vertical-align: top;\n",
       "    }\n",
       "</style>\n",
       "<table border=\"1\" class=\"dataframe\">\n",
       "  <thead>\n",
       "    <tr style=\"text-align: right;\">\n",
       "      <th></th>\n",
       "      <th>Feature ID</th>\n",
       "      <th>Type</th>\n",
       "      <th>Contig</th>\n",
       "      <th>Start</th>\n",
       "      <th>Stop</th>\n",
       "      <th>Frame</th>\n",
       "      <th>Strand</th>\n",
       "      <th>Length (bp)</th>\n",
       "      <th>Function</th>\n",
       "      <th>Subsystem</th>\n",
       "      <th>NCBI GI</th>\n",
       "      <th>locus</th>\n",
       "    </tr>\n",
       "  </thead>\n",
       "  <tbody>\n",
       "    <tr>\n",
       "      <th>0</th>\n",
       "      <td>fig|83332.1.pbs.3</td>\n",
       "      <td>PBS</td>\n",
       "      <td>NC_000962</td>\n",
       "      <td>2396081</td>\n",
       "      <td>2396096</td>\n",
       "      <td>2</td>\n",
       "      <td>+</td>\n",
       "      <td>16</td>\n",
       "      <td>NrdR_Proteobacteria</td>\n",
       "      <td>- none -</td>\n",
       "      <td></td>\n",
       "      <td></td>\n",
       "    </tr>\n",
       "    <tr>\n",
       "      <th>1</th>\n",
       "      <td>fig|83332.1.pbs.4</td>\n",
       "      <td>PBS</td>\n",
       "      <td>NC_000962</td>\n",
       "      <td>4265613</td>\n",
       "      <td>4265628</td>\n",
       "      <td>3</td>\n",
       "      <td>+</td>\n",
       "      <td>16</td>\n",
       "      <td>NrdR_Proteobacteria</td>\n",
       "      <td>- none -</td>\n",
       "      <td></td>\n",
       "      <td></td>\n",
       "    </tr>\n",
       "    <tr>\n",
       "      <th>2</th>\n",
       "      <td>fig|83332.1.peg.1</td>\n",
       "      <td>CDS</td>\n",
       "      <td>NC_000962</td>\n",
       "      <td>1</td>\n",
       "      <td>1524</td>\n",
       "      <td>1</td>\n",
       "      <td>+</td>\n",
       "      <td>1524</td>\n",
       "      <td>Chromosomal replication initiator protein DnaA</td>\n",
       "      <td>DNA replication cluster 1</td>\n",
       "      <td>gi|15607143</td>\n",
       "      <td></td>\n",
       "    </tr>\n",
       "    <tr>\n",
       "      <th>3</th>\n",
       "      <td>fig|83332.1.peg.2</td>\n",
       "      <td>CDS</td>\n",
       "      <td>NC_000962</td>\n",
       "      <td>2052</td>\n",
       "      <td>3260</td>\n",
       "      <td>3</td>\n",
       "      <td>+</td>\n",
       "      <td>1209</td>\n",
       "      <td>DNA polymerase III beta subunit (EC 2.7.7.7)</td>\n",
       "      <td>DNA replication cluster 1</td>\n",
       "      <td>gi|15607144</td>\n",
       "      <td></td>\n",
       "    </tr>\n",
       "    <tr>\n",
       "      <th>4</th>\n",
       "      <td>fig|83332.1.peg.3</td>\n",
       "      <td>CDS</td>\n",
       "      <td>NC_000962</td>\n",
       "      <td>3280</td>\n",
       "      <td>4437</td>\n",
       "      <td>1</td>\n",
       "      <td>+</td>\n",
       "      <td>1158</td>\n",
       "      <td>DNA recombination and repair protein RecF</td>\n",
       "      <td>DNA repair, bacterial RecFOR pathway; &lt;br&gt;DNA ...</td>\n",
       "      <td>gi|15607145</td>\n",
       "      <td></td>\n",
       "    </tr>\n",
       "  </tbody>\n",
       "</table>\n",
       "</div>"
      ],
      "text/plain": [
       "          Feature ID Type     Contig    Start     Stop  Frame Strand  \\\n",
       "0  fig|83332.1.pbs.3  PBS  NC_000962  2396081  2396096      2      +   \n",
       "1  fig|83332.1.pbs.4  PBS  NC_000962  4265613  4265628      3      +   \n",
       "2  fig|83332.1.peg.1  CDS  NC_000962        1     1524      1      +   \n",
       "3  fig|83332.1.peg.2  CDS  NC_000962     2052     3260      3      +   \n",
       "4  fig|83332.1.peg.3  CDS  NC_000962     3280     4437      1      +   \n",
       "\n",
       "   Length (bp)                                        Function  \\\n",
       "0           16                             NrdR_Proteobacteria   \n",
       "1           16                             NrdR_Proteobacteria   \n",
       "2         1524  Chromosomal replication initiator protein DnaA   \n",
       "3         1209    DNA polymerase III beta subunit (EC 2.7.7.7)   \n",
       "4         1158       DNA recombination and repair protein RecF   \n",
       "\n",
       "                                           Subsystem      NCBI GI locus  \n",
       "0                                           - none -                     \n",
       "1                                           - none -                     \n",
       "2                          DNA replication cluster 1  gi|15607143        \n",
       "3                          DNA replication cluster 1  gi|15607144        \n",
       "4  DNA repair, bacterial RecFOR pathway; <br>DNA ...  gi|15607145        "
      ]
     },
     "execution_count": 99,
     "metadata": {},
     "output_type": "execute_result"
    }
   ],
   "source": [
    "SEED_annotation.head(n=5)"
   ]
  },
  {
   "cell_type": "markdown",
   "metadata": {},
   "source": [
    "#### Find all unique subsystem classifications"
   ]
  },
  {
   "cell_type": "code",
   "execution_count": 100,
   "metadata": {},
   "outputs": [],
   "source": [
    "subsystem_types = []\n",
    "\n",
    "#subset SEED annotation to genomic regions with at least 1 subsystem\n",
    "SEED_annotation_with_subsystems = SEED_annotation[SEED_annotation.Subsystem != '- none -']\n",
    "\n",
    "for region_with_subsytem_i in SEED_annotation_with_subsystems.Subsystem.index:\n",
    "    \n",
    "    #subset to subsystems for genomic region (CDS, RNA, etc.)\n",
    "    subsystems_for_region_i = SEED_annotation_with_subsystems.loc[region_with_subsytem_i , 'Subsystem']\n",
    "    \n",
    "    #break up subsystem list into different subsystems (if there is more than 1)\n",
    "    subsystems_for_region_i = subsystems_for_region_i.split(';')\n",
    "    \n",
    "    #append to list of all subsytems detected across all genomic regions\n",
    "    subsystem_types = subsystem_types + subsystems_for_region_i\n",
    "    \n",
    "#find all unique subsystems present in the H37Rv genome\n",
    "subsystem_types = list(set(subsystem_types))"
   ]
  },
  {
   "cell_type": "code",
   "execution_count": 101,
   "metadata": {},
   "outputs": [
    {
     "data": {
      "text/plain": [
       "576"
      ]
     },
     "execution_count": 101,
     "metadata": {},
     "output_type": "execute_result"
    }
   ],
   "source": [
    "len(subsystem_types)"
   ]
  },
  {
   "cell_type": "markdown",
   "metadata": {},
   "source": [
    "### Assign each subsystem to any relevant loci from Mycobrowser table"
   ]
  },
  {
   "cell_type": "code",
   "execution_count": 102,
   "metadata": {},
   "outputs": [],
   "source": [
    "subsystem_gene_dict = {}\n",
    "\n",
    "for subsystem in subsystem_types:\n",
    "    \n",
    "    #create emtpy list for genes identified as part of subsystem\n",
    "    genes_in_subsystem = []\n",
    "    \n",
    "    #find all genomic regions from SEED annotation table assigned to that subsystem\n",
    "    for genomic_region_i in SEED_annotation.index:\n",
    "        \n",
    "        #if genomic region is part of subsytem\n",
    "        if subsystem in SEED_annotation.loc[genomic_region_i , 'Subsystem'].split(';'):\n",
    "            \n",
    "            #find coordinates and map to H37Rv tag using Mycobrowser table\n",
    "            SEED_region_coords = np.sort( list( SEED_annotation.loc[genomic_region_i , ['Start' , 'Stop']] ) )\n",
    "            start_coord = SEED_region_coords[0]\n",
    "            stop_coord = SEED_region_coords[1]\n",
    "            \n",
    "            #check to see if coordinates for SEED feature region match to a region from H37Rv Mycobrowser annotation\n",
    "            for H37Rv_locus_and_coords in H37Rv_coords_tag_map:\n",
    "                \n",
    "                #check to see if SEED region start/stop coordinates in in the same region as Mycobroswer annotation\n",
    "                if (start_coord in H37Rv_locus_and_coords[1]) and (stop_coord in H37Rv_locus_and_coords[2]):\n",
    "                    \n",
    "                    genes_in_subsystem.append(H37Rv_locus_and_coords[0])\n",
    "                \n",
    "    #store list of genes identified as being involved in subsystem in dictionary\n",
    "    subsystem_gene_dict[subsystem] = genes_in_subsystem"
   ]
  },
  {
   "cell_type": "code",
   "execution_count": 103,
   "metadata": {},
   "outputs": [
    {
     "data": {
      "text/plain": [
       "576"
      ]
     },
     "execution_count": 103,
     "metadata": {},
     "output_type": "execute_result"
    }
   ],
   "source": [
    "len(subsystem_gene_dict)"
   ]
  },
  {
   "cell_type": "code",
   "execution_count": 104,
   "metadata": {},
   "outputs": [],
   "source": [
    "subsystem_gene_series = pd.Series( subsystem_gene_dict )\n",
    "\n",
    "#save to subsystem - H37Rv locus tag mappting to CSV\n",
    "## subsystem_gene_series.to_csv('/n/data1/hms/dbmi/farhat/Roger/inhost_TB_dynamics_project/CSV_files/pathway_analysis/subsystem_H37Rv_tag_map.csv')"
   ]
  },
  {
   "cell_type": "code",
   "execution_count": 105,
   "metadata": {},
   "outputs": [
    {
     "data": {
      "text/plain": [
       " <br>Acetyl-CoA fermentation to Butyrate                                     [Rv0468, Rv0860]\n",
       " <br>Adenosyl nucleosidases                                                          [Rv0091]\n",
       " <br>Arginine Biosynthesis -- gjo                                                    [Rv1653]\n",
       " <br>Arginine Biosynthesis extended         [Rv1202, Rv1652, Rv1653, Rv1654, Rv1655, Rv165...\n",
       " <br>Arginine Deiminase Pathway                                              [Rv1656, Rv1657]\n",
       "dtype: object"
      ]
     },
     "execution_count": 105,
     "metadata": {},
     "output_type": "execute_result"
    }
   ],
   "source": [
    "subsystem_gene_series.head()"
   ]
  },
  {
   "cell_type": "markdown",
   "metadata": {},
   "source": [
    "### Aggregate SNV mutation events in each subsystem"
   ]
  },
  {
   "cell_type": "code",
   "execution_count": 106,
   "metadata": {},
   "outputs": [],
   "source": [
    "subsystem_SNV_count = []\n",
    "subsystem_nuc_len_concat = []\n",
    "subsystem_locus_tags = []\n",
    "subsystem_locus_symbols = []\n",
    "\n",
    "for subsystem in subsystem_gene_series.index:\n",
    "    \n",
    "    SNVs_in_subsystem_genes = 0\n",
    "    nuc_len_subsystem_genes = 0\n",
    "    gene_symbols = []\n",
    "    \n",
    "    for gene_id in subsystem_gene_series[subsystem]:\n",
    "        \n",
    "        # check to see if gene_id present in variants, if not then won't contribute to ME count or nuc length\n",
    "        if gene_id in SNV_count_by_gene_df.index:\n",
    "            SNVs_in_subsystem_genes = SNVs_in_subsystem_genes + SNV_count_by_gene_df.loc[gene_id,:].ME_count\n",
    "            nuc_len_subsystem_genes = nuc_len_subsystem_genes + SNV_count_by_gene_df.loc[gene_id,:].nuc_length\n",
    "            gene_symbols.append(mycobrowser_table[mycobrowser_table.Locus == gene_id].Name.values[0])\n",
    "            \n",
    "        else:\n",
    "            SNVs_in_subsystem_genes = SNVs_in_subsystem_genes + 0\n",
    "            nuc_len_subsystem_genes = nuc_len_subsystem_genes + get_nucleotide_length(gene_id)\n",
    "            gene_symbols.append(mycobrowser_table[mycobrowser_table.Locus == gene_id].Name.values[0])\n",
    "    \n",
    "    subsystem_SNV_count.append(SNVs_in_subsystem_genes)\n",
    "    subsystem_nuc_len_concat.append(nuc_len_subsystem_genes)\n",
    "    subsystem_locus_tags.append(subsystem_gene_series[subsystem])\n",
    "    subsystem_locus_symbols.append(gene_symbols)\n",
    "    \n",
    "#convert dict to DataFrame & sort\n",
    "subsystem_SNV_count_df = pd.DataFrame(index = subsystem_gene_series.index)\n",
    "subsystem_SNV_count_df.loc[:,'H37Rv_tags'] = subsystem_locus_tags\n",
    "subsystem_SNV_count_df.loc[:,'gene_symbols'] = subsystem_locus_symbols\n",
    "subsystem_SNV_count_df.loc[:,'ME_count'] = subsystem_SNV_count\n",
    "subsystem_SNV_count_df.loc[:,'nuc_length'] = subsystem_nuc_len_concat\n",
    "subsystem_SNV_count_df.loc[: , 'mut_density'] = subsystem_SNV_count_df.ME_count / subsystem_SNV_count_df.nuc_length\n",
    "subsystem_SNV_count_df = subsystem_SNV_count_df[np.array([~np.isnan(x) for x in subsystem_SNV_count_df.mut_density])] #drop NaNs\n",
    "subsystem_SNV_count_df = subsystem_SNV_count_df[subsystem_SNV_count_df.H37Rv_tags.apply(len) > 1] #drop subsystems w/ only 1 gene\n",
    "subsystem_SNV_count_df.sort_values(by = 'mut_density', ascending = False, inplace = True)"
   ]
  },
  {
   "cell_type": "code",
   "execution_count": 107,
   "metadata": {},
   "outputs": [
    {
     "data": {
      "text/html": [
       "<div>\n",
       "<style>\n",
       "    .dataframe thead tr:only-child th {\n",
       "        text-align: right;\n",
       "    }\n",
       "\n",
       "    .dataframe thead th {\n",
       "        text-align: left;\n",
       "    }\n",
       "\n",
       "    .dataframe tbody tr th {\n",
       "        vertical-align: top;\n",
       "    }\n",
       "</style>\n",
       "<table border=\"1\" class=\"dataframe\">\n",
       "  <thead>\n",
       "    <tr style=\"text-align: right;\">\n",
       "      <th></th>\n",
       "      <th>H37Rv_tags</th>\n",
       "      <th>gene_symbols</th>\n",
       "      <th>ME_count</th>\n",
       "      <th>nuc_length</th>\n",
       "      <th>mut_density</th>\n",
       "    </tr>\n",
       "  </thead>\n",
       "  <tbody>\n",
       "    <tr>\n",
       "      <th>Mycobacterium virulence operon with Esat6-like proteins</th>\n",
       "      <td>[Rv1197, Rv1198, Rv2346c, Rv2347c, Rv2348c, Rv...</td>\n",
       "      <td>[esxK, esxL, esxO, esxP, Rv2348c, esxV, esxW]</td>\n",
       "      <td>3494</td>\n",
       "      <td>1335</td>\n",
       "      <td>2.617228</td>\n",
       "    </tr>\n",
       "    <tr>\n",
       "      <th>&lt;br&gt;Mycobacterium virulence operon with PE family and Esat6-like proteins</th>\n",
       "      <td>[Rv1196, Rv1197, Rv1198, Rv2346c, Rv2347c, Rv3...</td>\n",
       "      <td>[PPE18, esxK, esxL, esxO, esxP, esxV, esxW, PP...</td>\n",
       "      <td>6667</td>\n",
       "      <td>3291</td>\n",
       "      <td>2.025828</td>\n",
       "    </tr>\n",
       "    <tr>\n",
       "      <th>&lt;br&gt;Oxidative stress</th>\n",
       "      <td>[Rv1908c, Rv2359, Rv3846]</td>\n",
       "      <td>[katG, zur, sodA]</td>\n",
       "      <td>3533</td>\n",
       "      <td>3237</td>\n",
       "      <td>1.091443</td>\n",
       "    </tr>\n",
       "    <tr>\n",
       "      <th>Oxidative stress</th>\n",
       "      <td>[Rv1608c, Rv1675c, Rv1908c, Rv1909c]</td>\n",
       "      <td>[bcpB, cmr, katG, furA]</td>\n",
       "      <td>3551</td>\n",
       "      <td>3875</td>\n",
       "      <td>0.916387</td>\n",
       "    </tr>\n",
       "    <tr>\n",
       "      <th>Mycobacterium virulence operon involved in DNA transcription</th>\n",
       "      <td>[Rv0666, Rv0667, Rv0668]</td>\n",
       "      <td>[Rv0666, rpoB, rpoC]</td>\n",
       "      <td>6935</td>\n",
       "      <td>7644</td>\n",
       "      <td>0.907248</td>\n",
       "    </tr>\n",
       "    <tr>\n",
       "      <th>&lt;br&gt;RNA polymerase bacterial</th>\n",
       "      <td>[Rv0667, Rv0668, Rv1390]</td>\n",
       "      <td>[rpoB, rpoC, rpoZ]</td>\n",
       "      <td>6965</td>\n",
       "      <td>7803</td>\n",
       "      <td>0.892605</td>\n",
       "    </tr>\n",
       "    <tr>\n",
       "      <th>&lt;br&gt;Redox-dependent regulation of nucleus processes</th>\n",
       "      <td>[Rv0573c, Rv1151c, Rv1436, Rv2043c]</td>\n",
       "      <td>[pncB2, Rv1151c, gap, pncA]</td>\n",
       "      <td>2941</td>\n",
       "      <td>3677</td>\n",
       "      <td>0.799837</td>\n",
       "    </tr>\n",
       "    <tr>\n",
       "      <th>&lt;br&gt;DNA replication cluster 1</th>\n",
       "      <td>[Rv0003, Rv0006]</td>\n",
       "      <td>[recF, gyrA]</td>\n",
       "      <td>2867</td>\n",
       "      <td>3675</td>\n",
       "      <td>0.780136</td>\n",
       "    </tr>\n",
       "    <tr>\n",
       "      <th>&lt;br&gt;PPE gene cluster in Mycobacteria</th>\n",
       "      <td>[Rv1195, Rv1196, Rv1800, Rv1801, Rv1802, Rv180...</td>\n",
       "      <td>[PE13, PPE18, PPE28, PPE29, PPE30, PPE33, mgtC]</td>\n",
       "      <td>4790</td>\n",
       "      <td>8030</td>\n",
       "      <td>0.596513</td>\n",
       "    </tr>\n",
       "    <tr>\n",
       "      <th>&lt;br&gt;cAMP signaling in bacteria</th>\n",
       "      <td>[Rv2043c, Rv2460c, Rv2461c, Rv2584c, Rv2851c, ...</td>\n",
       "      <td>[pncA, clpP2, clpP1, apt, Rv2851c, crp, Rv3679...</td>\n",
       "      <td>3291</td>\n",
       "      <td>5810</td>\n",
       "      <td>0.566437</td>\n",
       "    </tr>\n",
       "  </tbody>\n",
       "</table>\n",
       "</div>"
      ],
      "text/plain": [
       "                                                                                           H37Rv_tags  \\\n",
       "Mycobacterium virulence operon with Esat6-like ...  [Rv1197, Rv1198, Rv2346c, Rv2347c, Rv2348c, Rv...   \n",
       " <br>Mycobacterium virulence operon with PE fam...  [Rv1196, Rv1197, Rv1198, Rv2346c, Rv2347c, Rv3...   \n",
       " <br>Oxidative stress                                                       [Rv1908c, Rv2359, Rv3846]   \n",
       "Oxidative stress                                                 [Rv1608c, Rv1675c, Rv1908c, Rv1909c]   \n",
       "Mycobacterium virulence operon involved in DNA ...                           [Rv0666, Rv0667, Rv0668]   \n",
       " <br>RNA polymerase bacterial                                                [Rv0667, Rv0668, Rv1390]   \n",
       " <br>Redox-dependent regulation of nucleus proc...                [Rv0573c, Rv1151c, Rv1436, Rv2043c]   \n",
       " <br>DNA replication cluster 1                                                       [Rv0003, Rv0006]   \n",
       " <br>PPE gene cluster in Mycobacteria               [Rv1195, Rv1196, Rv1800, Rv1801, Rv1802, Rv180...   \n",
       " <br>cAMP signaling in bacteria                     [Rv2043c, Rv2460c, Rv2461c, Rv2584c, Rv2851c, ...   \n",
       "\n",
       "                                                                                         gene_symbols  \\\n",
       "Mycobacterium virulence operon with Esat6-like ...      [esxK, esxL, esxO, esxP, Rv2348c, esxV, esxW]   \n",
       " <br>Mycobacterium virulence operon with PE fam...  [PPE18, esxK, esxL, esxO, esxP, esxV, esxW, PP...   \n",
       " <br>Oxidative stress                                                               [katG, zur, sodA]   \n",
       "Oxidative stress                                                              [bcpB, cmr, katG, furA]   \n",
       "Mycobacterium virulence operon involved in DNA ...                               [Rv0666, rpoB, rpoC]   \n",
       " <br>RNA polymerase bacterial                                                      [rpoB, rpoC, rpoZ]   \n",
       " <br>Redox-dependent regulation of nucleus proc...                        [pncB2, Rv1151c, gap, pncA]   \n",
       " <br>DNA replication cluster 1                                                           [recF, gyrA]   \n",
       " <br>PPE gene cluster in Mycobacteria                 [PE13, PPE18, PPE28, PPE29, PPE30, PPE33, mgtC]   \n",
       " <br>cAMP signaling in bacteria                     [pncA, clpP2, clpP1, apt, Rv2851c, crp, Rv3679...   \n",
       "\n",
       "                                                    ME_count  nuc_length  \\\n",
       "Mycobacterium virulence operon with Esat6-like ...      3494        1335   \n",
       " <br>Mycobacterium virulence operon with PE fam...      6667        3291   \n",
       " <br>Oxidative stress                                   3533        3237   \n",
       "Oxidative stress                                        3551        3875   \n",
       "Mycobacterium virulence operon involved in DNA ...      6935        7644   \n",
       " <br>RNA polymerase bacterial                           6965        7803   \n",
       " <br>Redox-dependent regulation of nucleus proc...      2941        3677   \n",
       " <br>DNA replication cluster 1                          2867        3675   \n",
       " <br>PPE gene cluster in Mycobacteria                   4790        8030   \n",
       " <br>cAMP signaling in bacteria                         3291        5810   \n",
       "\n",
       "                                                    mut_density  \n",
       "Mycobacterium virulence operon with Esat6-like ...     2.617228  \n",
       " <br>Mycobacterium virulence operon with PE fam...     2.025828  \n",
       " <br>Oxidative stress                                  1.091443  \n",
       "Oxidative stress                                       0.916387  \n",
       "Mycobacterium virulence operon involved in DNA ...     0.907248  \n",
       " <br>RNA polymerase bacterial                          0.892605  \n",
       " <br>Redox-dependent regulation of nucleus proc...     0.799837  \n",
       " <br>DNA replication cluster 1                         0.780136  \n",
       " <br>PPE gene cluster in Mycobacteria                  0.596513  \n",
       " <br>cAMP signaling in bacteria                        0.566437  "
      ]
     },
     "execution_count": 107,
     "metadata": {},
     "output_type": "execute_result"
    }
   ],
   "source": [
    "subsystem_SNV_count_df.head(n=10)"
   ]
  },
  {
   "cell_type": "code",
   "execution_count": 108,
   "metadata": {},
   "outputs": [
    {
     "data": {
      "text/plain": [
       "(410, 5)"
      ]
     },
     "execution_count": 108,
     "metadata": {},
     "output_type": "execute_result"
    }
   ],
   "source": [
    "subsystem_SNV_count_df.shape"
   ]
  },
  {
   "cell_type": "code",
   "execution_count": 109,
   "metadata": {},
   "outputs": [],
   "source": [
    "def SNV_mut_dens_pathway(ax):\n",
    "\n",
    "    n , bins , patches = ax.hist(subsystem_SNV_count_df.mut_density, color = 'xkcd:black', bins = 25 , rwidth = 1.0 , edgecolor='white', linewidth=0.6)\n",
    "\n",
    "    ax.set_title('Distribution of SNV Mutational Density\\nfor 410 Pathways', fontsize = 8, color = 'k', pad = -10)\n",
    "    ax.set_xlabel('Mutational Density per Pathway (SNVs)', fontsize = 8, color = 'k', labelpad = 1)\n",
    "    ax.set_ylabel('Number of Pathways' , fontsize = 8, color = 'k', labelpad = 1)\n",
    "\n",
    "    ax.spines['right'].set_visible(False)\n",
    "    ax.spines['top'].set_visible(False)\n",
    "    ax.grid(False)\n",
    "    ax.set_yscale('log')\n",
    "\n",
    "    ax.tick_params(labelcolor = 'k')\n",
    "    ax.set_xlim(0, subsystem_SNV_count_df.mut_density.max() + 0.1)\n",
    "\n",
    "    ax.tick_params(axis='y', which='major', labelsize=8 , labelcolor = 'k')\n",
    "    ax.tick_params(axis='x', which='major', labelsize=8 , labelcolor = 'k')"
   ]
  },
  {
   "cell_type": "markdown",
   "metadata": {},
   "source": [
    "### Aggregate INDEL mutation events in each subsystem"
   ]
  },
  {
   "cell_type": "code",
   "execution_count": 110,
   "metadata": {},
   "outputs": [],
   "source": [
    "subsystem_INDEL_count = []\n",
    "subsystem_nuc_len_concat = []\n",
    "subsystem_locus_tags = []\n",
    "subsystem_locus_symbols = []\n",
    "\n",
    "for subsystem in subsystem_gene_series.index:\n",
    "    \n",
    "    INDELs_in_subsystem_genes = 0\n",
    "    nuc_len_subsystem_genes = 0\n",
    "    gene_symbols = []\n",
    "    \n",
    "    for gene_id in subsystem_gene_series[subsystem]:\n",
    "        \n",
    "        # check to see if gene_id present in variants, if not then won't contribute to ME count or nuc length\n",
    "        if gene_id in INDEL_count_by_gene_df.index:\n",
    "            INDELs_in_subsystem_genes = INDELs_in_subsystem_genes + INDEL_count_by_gene_df.loc[gene_id,:].ME_count\n",
    "            nuc_len_subsystem_genes = nuc_len_subsystem_genes + INDEL_count_by_gene_df.loc[gene_id,:].nuc_length\n",
    "            gene_symbols.append(mycobrowser_table[mycobrowser_table.Locus == gene_id].Name.values[0])\n",
    "            \n",
    "        else:\n",
    "            INDELs_in_subsystem_genes = INDELs_in_subsystem_genes + 0\n",
    "            nuc_len_subsystem_genes = nuc_len_subsystem_genes + get_nucleotide_length(gene_id)\n",
    "            gene_symbols.append(mycobrowser_table[mycobrowser_table.Locus == gene_id].Name.values[0])\n",
    "    \n",
    "    subsystem_INDEL_count.append(INDELs_in_subsystem_genes)\n",
    "    subsystem_nuc_len_concat.append(nuc_len_subsystem_genes)\n",
    "    subsystem_locus_tags.append(subsystem_gene_series[subsystem])\n",
    "    subsystem_locus_symbols.append(gene_symbols)\n",
    "    \n",
    "#convert dict to DataFrame & sort\n",
    "subsystem_INDEL_count_df = pd.DataFrame(index = subsystem_gene_series.index)\n",
    "subsystem_INDEL_count_df.loc[:,'H37Rv_tags'] = subsystem_locus_tags\n",
    "subsystem_INDEL_count_df.loc[:,'gene_symbols'] = subsystem_locus_symbols\n",
    "subsystem_INDEL_count_df.loc[:,'ME_count'] = subsystem_INDEL_count\n",
    "subsystem_INDEL_count_df.loc[:,'nuc_length'] = subsystem_nuc_len_concat\n",
    "subsystem_INDEL_count_df.loc[: , 'mut_density'] = subsystem_INDEL_count_df.ME_count / subsystem_INDEL_count_df.nuc_length\n",
    "subsystem_INDEL_count_df = subsystem_INDEL_count_df[np.array([~np.isnan(x) for x in subsystem_INDEL_count_df.mut_density])] #drop NaNs\n",
    "subsystem_INDEL_count_df = subsystem_INDEL_count_df[subsystem_INDEL_count_df.H37Rv_tags.apply(len) > 1] #drop subsystems w/ only 1 gene\n",
    "subsystem_INDEL_count_df.sort_values(by = 'mut_density', ascending = False, inplace = True)"
   ]
  },
  {
   "cell_type": "code",
   "execution_count": 111,
   "metadata": {},
   "outputs": [
    {
     "data": {
      "text/html": [
       "<div>\n",
       "<style>\n",
       "    .dataframe thead tr:only-child th {\n",
       "        text-align: right;\n",
       "    }\n",
       "\n",
       "    .dataframe thead th {\n",
       "        text-align: left;\n",
       "    }\n",
       "\n",
       "    .dataframe tbody tr th {\n",
       "        vertical-align: top;\n",
       "    }\n",
       "</style>\n",
       "<table border=\"1\" class=\"dataframe\">\n",
       "  <thead>\n",
       "    <tr style=\"text-align: right;\">\n",
       "      <th></th>\n",
       "      <th>H37Rv_tags</th>\n",
       "      <th>gene_symbols</th>\n",
       "      <th>ME_count</th>\n",
       "      <th>nuc_length</th>\n",
       "      <th>mut_density</th>\n",
       "    </tr>\n",
       "  </thead>\n",
       "  <tbody>\n",
       "    <tr>\n",
       "      <th>&lt;br&gt;CRISPRs</th>\n",
       "      <td>[Rv2819c, Rv2820c, Rv2821c, Rv2822c, Rv2823c]</td>\n",
       "      <td>[Rv2819c, Rv2820c, Rv2821c, Rv2822c, Rv2823c]</td>\n",
       "      <td>1598</td>\n",
       "      <td>5174</td>\n",
       "      <td>0.308852</td>\n",
       "    </tr>\n",
       "    <tr>\n",
       "      <th>CRISPR-associated cluster</th>\n",
       "      <td>[Rv2818c, Rv2819c, Rv2820c, Rv2821c, Rv2822c, ...</td>\n",
       "      <td>[Rv2818c, Rv2819c, Rv2820c, Rv2821c, Rv2822c, ...</td>\n",
       "      <td>1607</td>\n",
       "      <td>6107</td>\n",
       "      <td>0.263141</td>\n",
       "    </tr>\n",
       "    <tr>\n",
       "      <th>&lt;br&gt;Redox-dependent regulation of nucleus processes</th>\n",
       "      <td>[Rv0573c, Rv1151c, Rv1436, Rv2043c]</td>\n",
       "      <td>[pncB2, Rv1151c, gap, pncA]</td>\n",
       "      <td>361</td>\n",
       "      <td>3677</td>\n",
       "      <td>0.098178</td>\n",
       "    </tr>\n",
       "    <tr>\n",
       "      <th>Peptidoglycan Biosynthesis</th>\n",
       "      <td>[Rv0050, Rv0482, Rv1018c, Rv1315, Rv2981c, Rv3...</td>\n",
       "      <td>[ponA1, murB, glmU, murA, ddlA, ponA2]</td>\n",
       "      <td>721</td>\n",
       "      <td>9275</td>\n",
       "      <td>0.077736</td>\n",
       "    </tr>\n",
       "    <tr>\n",
       "      <th>&lt;br&gt;cAMP signaling in bacteria</th>\n",
       "      <td>[Rv2043c, Rv2460c, Rv2461c, Rv2584c, Rv2851c, ...</td>\n",
       "      <td>[pncA, clpP2, clpP1, apt, Rv2851c, crp, Rv3679...</td>\n",
       "      <td>359</td>\n",
       "      <td>5810</td>\n",
       "      <td>0.061790</td>\n",
       "    </tr>\n",
       "    <tr>\n",
       "      <th>&lt;br&gt;WhiB and WhiB-type regulatory proteins</th>\n",
       "      <td>[Rv0050, Rv1843c, Rv2391, Rv3198c, Rv3261, Rv3...</td>\n",
       "      <td>[ponA1, guaB1, sirA, uvrD2, fbiA, guaB2, ponA2]</td>\n",
       "      <td>738</td>\n",
       "      <td>12114</td>\n",
       "      <td>0.060921</td>\n",
       "    </tr>\n",
       "    <tr>\n",
       "      <th>&lt;br&gt;Thiamin biosynthesis</th>\n",
       "      <td>[Rv0414c, Rv0422c, Rv2682c, Rv2977c, Rv3116, R...</td>\n",
       "      <td>[thiE, thiD, dxs1, thiL, moeB2, moeB1, dxs2]</td>\n",
       "      <td>502</td>\n",
       "      <td>8342</td>\n",
       "      <td>0.060177</td>\n",
       "    </tr>\n",
       "    <tr>\n",
       "      <th>Isoprenoid Biosynthesis</th>\n",
       "      <td>[Rv1011, Rv1110, Rv1745c, Rv2682c, Rv3379c, Rv...</td>\n",
       "      <td>[ispE, lytB2, idi, dxs1, dxs2, lytB1, ispF, ispD]</td>\n",
       "      <td>477</td>\n",
       "      <td>8232</td>\n",
       "      <td>0.057945</td>\n",
       "    </tr>\n",
       "    <tr>\n",
       "      <th>&lt;br&gt;Nonmevalonate Branch of Isoprenoid Biosynthesis</th>\n",
       "      <td>[Rv1011, Rv1110, Rv2682c, Rv2868c, Rv3379c, Rv...</td>\n",
       "      <td>[ispE, lytB2, dxs1, gcpE, dxs2, lytB1, ispF, i...</td>\n",
       "      <td>471</td>\n",
       "      <td>8784</td>\n",
       "      <td>0.053620</td>\n",
       "    </tr>\n",
       "    <tr>\n",
       "      <th>ESAT-6 proteins secretion system in Actinobacteria</th>\n",
       "      <td>[Rv3865, Rv3866, Rv3867, Rv3868, Rv3869, Rv387...</td>\n",
       "      <td>[espF, espG1, espH, eccA1, eccB1, eccCa1, eccC...</td>\n",
       "      <td>833</td>\n",
       "      <td>16566</td>\n",
       "      <td>0.050284</td>\n",
       "    </tr>\n",
       "  </tbody>\n",
       "</table>\n",
       "</div>"
      ],
      "text/plain": [
       "                                                                                           H37Rv_tags  \\\n",
       " <br>CRISPRs                                            [Rv2819c, Rv2820c, Rv2821c, Rv2822c, Rv2823c]   \n",
       "CRISPR-associated cluster                           [Rv2818c, Rv2819c, Rv2820c, Rv2821c, Rv2822c, ...   \n",
       " <br>Redox-dependent regulation of nucleus proc...                [Rv0573c, Rv1151c, Rv1436, Rv2043c]   \n",
       "Peptidoglycan Biosynthesis                          [Rv0050, Rv0482, Rv1018c, Rv1315, Rv2981c, Rv3...   \n",
       " <br>cAMP signaling in bacteria                     [Rv2043c, Rv2460c, Rv2461c, Rv2584c, Rv2851c, ...   \n",
       " <br>WhiB and WhiB-type regulatory proteins         [Rv0050, Rv1843c, Rv2391, Rv3198c, Rv3261, Rv3...   \n",
       " <br>Thiamin biosynthesis                           [Rv0414c, Rv0422c, Rv2682c, Rv2977c, Rv3116, R...   \n",
       "Isoprenoid Biosynthesis                             [Rv1011, Rv1110, Rv1745c, Rv2682c, Rv3379c, Rv...   \n",
       " <br>Nonmevalonate Branch of Isoprenoid Biosynt...  [Rv1011, Rv1110, Rv2682c, Rv2868c, Rv3379c, Rv...   \n",
       "ESAT-6 proteins secretion system in Actinobacteria  [Rv3865, Rv3866, Rv3867, Rv3868, Rv3869, Rv387...   \n",
       "\n",
       "                                                                                         gene_symbols  \\\n",
       " <br>CRISPRs                                            [Rv2819c, Rv2820c, Rv2821c, Rv2822c, Rv2823c]   \n",
       "CRISPR-associated cluster                           [Rv2818c, Rv2819c, Rv2820c, Rv2821c, Rv2822c, ...   \n",
       " <br>Redox-dependent regulation of nucleus proc...                        [pncB2, Rv1151c, gap, pncA]   \n",
       "Peptidoglycan Biosynthesis                                     [ponA1, murB, glmU, murA, ddlA, ponA2]   \n",
       " <br>cAMP signaling in bacteria                     [pncA, clpP2, clpP1, apt, Rv2851c, crp, Rv3679...   \n",
       " <br>WhiB and WhiB-type regulatory proteins           [ponA1, guaB1, sirA, uvrD2, fbiA, guaB2, ponA2]   \n",
       " <br>Thiamin biosynthesis                                [thiE, thiD, dxs1, thiL, moeB2, moeB1, dxs2]   \n",
       "Isoprenoid Biosynthesis                             [ispE, lytB2, idi, dxs1, dxs2, lytB1, ispF, ispD]   \n",
       " <br>Nonmevalonate Branch of Isoprenoid Biosynt...  [ispE, lytB2, dxs1, gcpE, dxs2, lytB1, ispF, i...   \n",
       "ESAT-6 proteins secretion system in Actinobacteria  [espF, espG1, espH, eccA1, eccB1, eccCa1, eccC...   \n",
       "\n",
       "                                                    ME_count  nuc_length  \\\n",
       " <br>CRISPRs                                            1598        5174   \n",
       "CRISPR-associated cluster                               1607        6107   \n",
       " <br>Redox-dependent regulation of nucleus proc...       361        3677   \n",
       "Peptidoglycan Biosynthesis                               721        9275   \n",
       " <br>cAMP signaling in bacteria                          359        5810   \n",
       " <br>WhiB and WhiB-type regulatory proteins              738       12114   \n",
       " <br>Thiamin biosynthesis                                502        8342   \n",
       "Isoprenoid Biosynthesis                                  477        8232   \n",
       " <br>Nonmevalonate Branch of Isoprenoid Biosynt...       471        8784   \n",
       "ESAT-6 proteins secretion system in Actinobacteria       833       16566   \n",
       "\n",
       "                                                    mut_density  \n",
       " <br>CRISPRs                                           0.308852  \n",
       "CRISPR-associated cluster                              0.263141  \n",
       " <br>Redox-dependent regulation of nucleus proc...     0.098178  \n",
       "Peptidoglycan Biosynthesis                             0.077736  \n",
       " <br>cAMP signaling in bacteria                        0.061790  \n",
       " <br>WhiB and WhiB-type regulatory proteins            0.060921  \n",
       " <br>Thiamin biosynthesis                              0.060177  \n",
       "Isoprenoid Biosynthesis                                0.057945  \n",
       " <br>Nonmevalonate Branch of Isoprenoid Biosynt...     0.053620  \n",
       "ESAT-6 proteins secretion system in Actinobacteria     0.050284  "
      ]
     },
     "execution_count": 111,
     "metadata": {},
     "output_type": "execute_result"
    }
   ],
   "source": [
    "subsystem_INDEL_count_df.head(n=10)"
   ]
  },
  {
   "cell_type": "code",
   "execution_count": 112,
   "metadata": {},
   "outputs": [
    {
     "data": {
      "text/plain": [
       "(410, 5)"
      ]
     },
     "execution_count": 112,
     "metadata": {},
     "output_type": "execute_result"
    }
   ],
   "source": [
    "subsystem_INDEL_count_df.shape"
   ]
  },
  {
   "cell_type": "code",
   "execution_count": 113,
   "metadata": {},
   "outputs": [],
   "source": [
    "def INDEL_mut_dens_pathway(ax):\n",
    "\n",
    "    n , bins , patches = ax.hist(subsystem_INDEL_count_df.mut_density, color = 'xkcd:black', bins = 25 , rwidth = 1.0 , edgecolor='white', linewidth=0.6)\n",
    "\n",
    "    ax.set_title('Distribution of INDEL Mutational Density\\nfor 410 Pathways', fontsize = 8, color = 'k', pad = -10)\n",
    "    ax.set_xlabel('Mutational Density per Pathway (INDELs)', fontsize = 8, color = 'k', labelpad = 1)\n",
    "    ax.set_ylabel('Number of Pathways' , fontsize = 8, color = 'k', labelpad = 1)\n",
    "\n",
    "    ax.spines['right'].set_visible(False)\n",
    "    ax.spines['top'].set_visible(False)\n",
    "    ax.grid(False)\n",
    "    ax.set_yscale('log')\n",
    "\n",
    "    ax.tick_params(labelcolor = 'k')\n",
    "    ax.set_xlim(-0.015, subsystem_INDEL_count_df.mut_density.max() + 0.01)\n",
    "\n",
    "    ax.tick_params(axis='y', which='major', labelsize=8 , labelcolor = 'k')\n",
    "    ax.tick_params(axis='x', which='major', labelsize=8 , labelcolor = 'k')"
   ]
  },
  {
   "cell_type": "markdown",
   "metadata": {},
   "source": [
    "## output *SNV* and *INDEL* results as excel files"
   ]
  },
  {
   "cell_type": "code",
   "execution_count": 114,
   "metadata": {},
   "outputs": [],
   "source": [
    "subsystem_SNV_count_df.to_excel('/n/data1/hms/dbmi/farhat/Roger/homoplasy_project/CSV_files/for publication/SNV_mutation_event_density_across_pathways.xlsx')\n",
    "subsystem_INDEL_count_df.to_excel('/n/data1/hms/dbmi/farhat/Roger/homoplasy_project/CSV_files/for publication/INDEL_mutation_event_density_across_pathways.xlsx')"
   ]
  },
  {
   "cell_type": "markdown",
   "metadata": {},
   "source": [
    "## [7] Create Figure for both SNVs & INDELs"
   ]
  },
  {
   "cell_type": "code",
   "execution_count": 153,
   "metadata": {},
   "outputs": [
    {
     "data": {
      "image/png": "[encoded data removed]",
      "text/plain": [
       "<Figure size 792x792 with 4 Axes>"
      ]
     },
     "metadata": {},
     "output_type": "display_data"
    }
   ],
   "source": [
    "fig = plt.figure(constrained_layout=True)\n",
    "spec = gridspec.GridSpec(ncols=2, nrows=2, figure=fig, width_ratios = [2,1])\n",
    "spec.update(hspace=0.16) # set the spacing between axes. \n",
    "spec.update(wspace=0.16) # set the spacing between axes. \n",
    "\n",
    "axA = fig.add_subplot(spec[0,0])\n",
    "axB = fig.add_subplot(spec[0,1])\n",
    "\n",
    "axC = fig.add_subplot(spec[1,0])\n",
    "axD = fig.add_subplot(spec[1,1])\n",
    "\n",
    "SNV_mut_dens(axA)\n",
    "SNV_mut_dens_pathway(axB)\n",
    "\n",
    "INDEL_mut_dens(axC)\n",
    "INDEL_mut_dens_pathway(axD)\n",
    "\n",
    "fig = plt.gcf()\n",
    "fig.set_size_inches(11.0, 11.0)\n",
    "fig.tight_layout()\n",
    "\n",
    "file_name = '/n/data1/hms/dbmi/farhat/Roger/homoplasy_project/Figures/for publication/mutational_event_dens_across_genes_and_pathways.pdf'\n",
    "plt.savefig(file_name, bbox_inches='tight', dpi = 300 , transparent = True)\n",
    "\n",
    "plt.show()"
   ]
  },
  {
   "cell_type": "code",
   "execution_count": null,
   "metadata": {},
   "outputs": [],
   "source": []
  }
 ],
 "metadata": {
  "kernelspec": {
   "display_name": "Python [conda env:root] *",
   "language": "python",
   "name": "conda-root-py"
  },
  "language_info": {
   "codemirror_mode": {
    "name": "ipython",
    "version": 3
   },
   "file_extension": ".py",
   "mimetype": "text/x-python",
   "name": "python",
   "nbconvert_exporter": "python",
   "pygments_lexer": "ipython3",
   "version": "3.10.9"
  }
 },
 "nbformat": 4,
 "nbformat_minor": 4
}
