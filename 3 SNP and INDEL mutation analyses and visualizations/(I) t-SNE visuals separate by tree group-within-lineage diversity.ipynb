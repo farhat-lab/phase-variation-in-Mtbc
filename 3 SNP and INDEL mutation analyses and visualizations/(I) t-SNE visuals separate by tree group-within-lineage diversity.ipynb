{
 "cells": [
  {
   "cell_type": "code",
   "execution_count": 1,
   "metadata": {},
   "outputs": [
    {
     "data": {
      "text/html": [
       "<style>.container { width:100% !important; }</style>"
      ],
      "text/plain": [
       "<IPython.core.display.HTML object>"
      ]
     },
     "metadata": {},
     "output_type": "display_data"
    }
   ],
   "source": [
    "from IPython.core.display import display, HTML\n",
    "display(HTML(\"<style>.container { width:100% !important; }</style>\"))"
   ]
  },
  {
   "cell_type": "code",
   "execution_count": 2,
   "metadata": {},
   "outputs": [],
   "source": [
    "%matplotlib inline\n",
    "import os\n",
    "import pandas as pd\n",
    "import numpy as np\n",
    "import matplotlib.pyplot as plt\n",
    "import matplotlib as mpl\n",
    "import matplotlib.ticker as ticker\n",
    "from pylab import MaxNLocator\n",
    "import seaborn as sns; sns.set()\n",
    "from matplotlib.colors import LogNorm\n",
    "from matplotlib import gridspec\n",
    "from sklearn.manifold import TSNE\n",
    "\n",
    "#for exporting to Adobe Illustrator\n",
    "mpl.rcParams['pdf.fonttype'] = 42\n",
    "mpl.rcParams['ps.fonttype'] = 42"
   ]
  },
  {
   "cell_type": "markdown",
   "metadata": {},
   "source": [
    "### Load t-SNE embeddings if already run"
   ]
  },
  {
   "cell_type": "code",
   "execution_count": 3,
   "metadata": {},
   "outputs": [],
   "source": [
    "t_SNE_coords = np.loadtxt('/n/data1/hms/dbmi/farhat/Roger/homoplasy_project/rolling_DB_scrape/Genotypes_Filtered_2/pairwise_distance_matrix/tb_output/tSNE_embeddings_from_pairwise_SNP_dist.txt')"
   ]
  },
  {
   "cell_type": "code",
   "execution_count": 4,
   "metadata": {},
   "outputs": [],
   "source": [
    "plt.style.use('ggplot')\n",
    "plt.rcParams['lines.linewidth']=0\n",
    "plt.rcParams['axes.facecolor']='1.0'\n",
    "plt.rcParams['xtick.color']='black'\n",
    "plt.rcParams['axes.grid']=False\n",
    "plt.rcParams['axes.edgecolor']='black'\n",
    "plt.rcParams['grid.color']= '1.0'\n",
    "plt.rcParams.update({'font.size': 9})\n",
    "plt.rc('font', family='serif')"
   ]
  },
  {
   "cell_type": "markdown",
   "metadata": {},
   "source": [
    "Get ordering of isolates & lineage calls from isolate annotation file"
   ]
  },
  {
   "cell_type": "code",
   "execution_count": 5,
   "metadata": {},
   "outputs": [],
   "source": [
    "isolate_annotation_DF = pd.read_pickle('/n/data1/hms/dbmi/farhat/Roger/homoplasy_project/rolling_DB_scrape/Genotypes_Filtered_2/genotypes_isolate_annotation.pkl')"
   ]
  },
  {
   "cell_type": "code",
   "execution_count": 6,
   "metadata": {},
   "outputs": [
    {
     "data": {
      "text/html": [
       "<div>\n",
       "<style>\n",
       "    .dataframe thead tr:only-child th {\n",
       "        text-align: right;\n",
       "    }\n",
       "\n",
       "    .dataframe thead th {\n",
       "        text-align: left;\n",
       "    }\n",
       "\n",
       "    .dataframe tbody tr th {\n",
       "        vertical-align: top;\n",
       "    }\n",
       "</style>\n",
       "<table border=\"1\" class=\"dataframe\">\n",
       "  <thead>\n",
       "    <tr style=\"text-align: right;\">\n",
       "      <th></th>\n",
       "      <th>lineage_1</th>\n",
       "      <th>lineage_2</th>\n",
       "      <th>lineage_3</th>\n",
       "      <th>lineage_4</th>\n",
       "      <th>lineage_5</th>\n",
       "      <th>lineage_6</th>\n",
       "      <th>lineage_7</th>\n",
       "      <th>lineage_8</th>\n",
       "      <th>lineage_9</th>\n",
       "      <th>lineage_10</th>\n",
       "      <th>lineage_11</th>\n",
       "      <th>isolate_ID</th>\n",
       "      <th>lineage_call</th>\n",
       "      <th>group</th>\n",
       "    </tr>\n",
       "  </thead>\n",
       "  <tbody>\n",
       "    <tr>\n",
       "      <th>0</th>\n",
       "      <td>4</td>\n",
       "      <td>2</td>\n",
       "      <td>1</td>\n",
       "      <td>2</td>\n",
       "      <td>1</td>\n",
       "      <td>1</td>\n",
       "      <td>i3</td>\n",
       "      <td>1</td>\n",
       "      <td>NaN</td>\n",
       "      <td>NaN</td>\n",
       "      <td>NaN</td>\n",
       "      <td>SAMEA3558733</td>\n",
       "      <td>4.2.1.2.1.1.i3.1</td>\n",
       "      <td>4B</td>\n",
       "    </tr>\n",
       "    <tr>\n",
       "      <th>1</th>\n",
       "      <td>4</td>\n",
       "      <td>2</td>\n",
       "      <td>1</td>\n",
       "      <td>2</td>\n",
       "      <td>2</td>\n",
       "      <td>1</td>\n",
       "      <td>1</td>\n",
       "      <td>NaN</td>\n",
       "      <td>NaN</td>\n",
       "      <td>NaN</td>\n",
       "      <td>NaN</td>\n",
       "      <td>SAMN03648641</td>\n",
       "      <td>4.2.1.2.2.1.1</td>\n",
       "      <td>4B</td>\n",
       "    </tr>\n",
       "    <tr>\n",
       "      <th>2</th>\n",
       "      <td>3</td>\n",
       "      <td>1</td>\n",
       "      <td>1</td>\n",
       "      <td>i1</td>\n",
       "      <td>NaN</td>\n",
       "      <td>NaN</td>\n",
       "      <td>NaN</td>\n",
       "      <td>NaN</td>\n",
       "      <td>NaN</td>\n",
       "      <td>NaN</td>\n",
       "      <td>NaN</td>\n",
       "      <td>SAMN03647419</td>\n",
       "      <td>3.1.1.i1</td>\n",
       "      <td>3</td>\n",
       "    </tr>\n",
       "    <tr>\n",
       "      <th>3</th>\n",
       "      <td>4</td>\n",
       "      <td>2</td>\n",
       "      <td>1</td>\n",
       "      <td>2</td>\n",
       "      <td>1</td>\n",
       "      <td>1</td>\n",
       "      <td>i1</td>\n",
       "      <td>NaN</td>\n",
       "      <td>NaN</td>\n",
       "      <td>NaN</td>\n",
       "      <td>NaN</td>\n",
       "      <td>SAMEA3671418</td>\n",
       "      <td>4.2.1.2.1.1.i1</td>\n",
       "      <td>4B</td>\n",
       "    </tr>\n",
       "    <tr>\n",
       "      <th>4</th>\n",
       "      <td>1</td>\n",
       "      <td>1</td>\n",
       "      <td>1</td>\n",
       "      <td>2</td>\n",
       "      <td>NaN</td>\n",
       "      <td>NaN</td>\n",
       "      <td>NaN</td>\n",
       "      <td>NaN</td>\n",
       "      <td>NaN</td>\n",
       "      <td>NaN</td>\n",
       "      <td>NaN</td>\n",
       "      <td>SAMN07659096</td>\n",
       "      <td>1.1.1.2</td>\n",
       "      <td>1</td>\n",
       "    </tr>\n",
       "  </tbody>\n",
       "</table>\n",
       "</div>"
      ],
      "text/plain": [
       "  lineage_1 lineage_2 lineage_3 lineage_4 lineage_5 lineage_6 lineage_7  \\\n",
       "0         4         2         1         2         1         1        i3   \n",
       "1         4         2         1         2         2         1         1   \n",
       "2         3         1         1        i1       NaN       NaN       NaN   \n",
       "3         4         2         1         2         1         1        i1   \n",
       "4         1         1         1         2       NaN       NaN       NaN   \n",
       "\n",
       "  lineage_8 lineage_9 lineage_10 lineage_11    isolate_ID      lineage_call  \\\n",
       "0         1       NaN        NaN        NaN  SAMEA3558733  4.2.1.2.1.1.i3.1   \n",
       "1       NaN       NaN        NaN        NaN  SAMN03648641     4.2.1.2.2.1.1   \n",
       "2       NaN       NaN        NaN        NaN  SAMN03647419          3.1.1.i1   \n",
       "3       NaN       NaN        NaN        NaN  SAMEA3671418    4.2.1.2.1.1.i1   \n",
       "4       NaN       NaN        NaN        NaN  SAMN07659096           1.1.1.2   \n",
       "\n",
       "  group  \n",
       "0    4B  \n",
       "1    4B  \n",
       "2     3  \n",
       "3    4B  \n",
       "4     1  "
      ]
     },
     "execution_count": 6,
     "metadata": {},
     "output_type": "execute_result"
    }
   ],
   "source": [
    "isolate_annotation_DF.head()"
   ]
  },
  {
   "cell_type": "code",
   "execution_count": 7,
   "metadata": {},
   "outputs": [
    {
     "data": {
      "text/plain": [
       "(31428, 14)"
      ]
     },
     "execution_count": 7,
     "metadata": {},
     "output_type": "execute_result"
    }
   ],
   "source": [
    "np.shape(isolate_annotation_DF)"
   ]
  },
  {
   "cell_type": "markdown",
   "metadata": {},
   "source": [
    "## [1] tSNE of all isolates"
   ]
  },
  {
   "cell_type": "code",
   "execution_count": 8,
   "metadata": {},
   "outputs": [],
   "source": [
    "def plot_tSNE(ax):\n",
    "\n",
    "    ## fig , ax = plt.subplots()\n",
    "\n",
    "    circ_size = 24\n",
    "    linewidth = 0.2\n",
    "\n",
    "    isolate = ax.scatter( t_SNE_coords[: , 0] , t_SNE_coords[: , 1]  , color = '0.25' , edgecolor = 'white' , linewidth = linewidth , alpha = 0.25 , s = circ_size)\n",
    "\n",
    "    ax.spines['right'].set_visible(False)\n",
    "    ax.spines['top'].set_visible(False)\n",
    "\n",
    "    ax.tick_params(axis='y', which='major', labelsize=10.5, pad = -2, labelcolor = 'k', rotation = 90)\n",
    "    ax.tick_params(axis='x', which='major', labelsize=10.5, pad = -2, labelcolor = 'k')\n",
    "\n",
    "    #add axis labels\n",
    "    ax.set_xlabel('t-SNE 1' , fontsize = '10.5' , color = 'k', labelpad = 3)\n",
    "    ax.set_ylabel('t-SNE 2', fontsize = '10.5', color = 'k', labelpad = 3)\n",
    "\n",
    "    '''\n",
    "    fig = plt.gcf()\n",
    "    fig.set_size_inches(7.0, 7.0)\n",
    "    fig.tight_layout()\n",
    "\n",
    "    ## file_name = '/n/data1/hms/dbmi/farhat/Roger/inhost_TB_dynamics_project/genotypes_matrix_and_tSNE/figures/t_SNE_plots/4_lineage4.pdf'\n",
    "    ## plt.savefig(file_name, bbox_inches='tight', dpi = 300 , transparent = True)\n",
    "\n",
    "    plt.show()\n",
    "    '''"
   ]
  },
  {
   "cell_type": "markdown",
   "metadata": {},
   "source": [
    "## [2] *Function* to color isolates by isolate group seperately"
   ]
  },
  {
   "cell_type": "code",
   "execution_count": 9,
   "metadata": {},
   "outputs": [],
   "source": [
    "def plot_tSNE_for_isolate_group(isolate_group , color, ax):\n",
    "\n",
    "    ## fig , ax = plt.subplots()\n",
    "\n",
    "    circ_size = 8\n",
    "    linewidth = 0.05\n",
    "\n",
    "    #non isolate group isolates\n",
    "    non_group_color = ax.scatter( t_SNE_coords[: , 0][isolate_annotation_DF.group != isolate_group] , t_SNE_coords[: , 1][isolate_annotation_DF.group != isolate_group]  , color = '0.85' , edgecolor = 'white' , linewidth = linewidth , alpha = 0.6 , s = circ_size)\n",
    "\n",
    "    #isolate group isolates\n",
    "    group_color = ax.scatter( t_SNE_coords[: , 0][isolate_annotation_DF.group == isolate_group] , t_SNE_coords[: , 1][isolate_annotation_DF.group == isolate_group]  , color = color , edgecolor = 'white' , linewidth = linewidth , alpha = 1.0 , s = circ_size)\n",
    "\n",
    "    ax.spines['right'].set_visible(False)\n",
    "    ax.spines['top'].set_visible(False)\n",
    "\n",
    "    #ax.tick_params(axis='y', which='major', labelsize=7, pad = -2, labelcolor = 'k', rotation = 90)\n",
    "    #ax.tick_params(axis='x', which='major', labelsize=7, pad = -2, labelcolor = 'k')\n",
    "    ax.set_xticks([])\n",
    "    ax.set_yticks([])\n",
    "    num_isolates_in_group = str(sum(isolate_annotation_DF.group == isolate_group))\n",
    "    ax.set_title('Group ' + isolate_group + '  (N={0})'.format(num_isolates_in_group), fontsize=8.5, color = 'k', pad = -0.75)\n",
    "\n",
    "    '''\n",
    "    fig = plt.gcf()\n",
    "    fig.set_size_inches(3.5, 3.5)\n",
    "    fig.tight_layout()\n",
    "\n",
    "    ## file_name = '/n/data1/hms/dbmi/farhat/Roger/inhost_TB_dynamics_project/genotypes_matrix_and_tSNE/figures/t_SNE_plots/4_lineage4.pdf'\n",
    "    ## plt.savefig(file_name, bbox_inches='tight', dpi = 300 , transparent = True)\n",
    "\n",
    "    plt.show()\n",
    "    '''"
   ]
  },
  {
   "cell_type": "code",
   "execution_count": null,
   "metadata": {},
   "outputs": [],
   "source": [
    "plot_tSNE_for_isolate_group('1' , 'xkcd:bright pink')"
   ]
  },
  {
   "cell_type": "code",
   "execution_count": null,
   "metadata": {},
   "outputs": [],
   "source": [
    "plot_tSNE_for_isolate_group('2' , 'xkcd:bright blue')"
   ]
  },
  {
   "cell_type": "code",
   "execution_count": null,
   "metadata": {},
   "outputs": [],
   "source": [
    "plot_tSNE_for_isolate_group('3' , 'xkcd:purple')"
   ]
  },
  {
   "cell_type": "code",
   "execution_count": null,
   "metadata": {},
   "outputs": [],
   "source": [
    "plot_tSNE_for_isolate_group('4A' , 'xkcd:red')"
   ]
  },
  {
   "cell_type": "code",
   "execution_count": null,
   "metadata": {},
   "outputs": [],
   "source": [
    "plot_tSNE_for_isolate_group('4B' , 'xkcd:light red')"
   ]
  },
  {
   "cell_type": "code",
   "execution_count": null,
   "metadata": {},
   "outputs": [],
   "source": [
    "plot_tSNE_for_isolate_group('4C' , 'xkcd:orange')"
   ]
  },
  {
   "cell_type": "code",
   "execution_count": null,
   "metadata": {},
   "outputs": [],
   "source": [
    "plot_tSNE_for_isolate_group('5' , 'xkcd:brown')"
   ]
  },
  {
   "cell_type": "code",
   "execution_count": null,
   "metadata": {},
   "outputs": [],
   "source": [
    "plot_tSNE_for_isolate_group('6' , 'xkcd:green')"
   ]
  },
  {
   "cell_type": "markdown",
   "metadata": {},
   "source": [
    "## [3] Within-Lineage Diversity"
   ]
  },
  {
   "cell_type": "markdown",
   "metadata": {},
   "source": [
    "#### How to load pairwise SNP distance matrix & corresponding isolate annotation"
   ]
  },
  {
   "cell_type": "code",
   "execution_count": 10,
   "metadata": {},
   "outputs": [],
   "source": [
    "pairwise_SNP_dist = np.load('/n/data1/hms/dbmi/farhat/Roger/homoplasy_project/rolling_DB_scrape/Genotypes_Filtered_2/pairwise_distance_matrix/pairwise_SNP_distance_matrix.npy')"
   ]
  },
  {
   "cell_type": "code",
   "execution_count": 11,
   "metadata": {},
   "outputs": [
    {
     "data": {
      "text/plain": [
       "array([[   0,  606, 1139, ..., 1061,  174,  670],\n",
       "       [ 606,    0, 1124, ..., 1036,  623,  645],\n",
       "       [1139, 1124,    0, ..., 1035, 1152, 1177],\n",
       "       ...,\n",
       "       [1061, 1036, 1035, ...,    0, 1066, 1095],\n",
       "       [ 174,  623, 1152, ..., 1066,    0,  683],\n",
       "       [ 670,  645, 1177, ..., 1095,  683,    0]])"
      ]
     },
     "execution_count": 11,
     "metadata": {},
     "output_type": "execute_result"
    }
   ],
   "source": [
    "pairwise_SNP_dist"
   ]
  },
  {
   "cell_type": "code",
   "execution_count": 12,
   "metadata": {},
   "outputs": [
    {
     "data": {
      "text/plain": [
       "(31428, 31428)"
      ]
     },
     "execution_count": 12,
     "metadata": {},
     "output_type": "execute_result"
    }
   ],
   "source": [
    "np.shape(pairwise_SNP_dist)"
   ]
  },
  {
   "cell_type": "code",
   "execution_count": 13,
   "metadata": {},
   "outputs": [],
   "source": [
    "isolate_annotation_DF = pd.read_pickle('/n/data1/hms/dbmi/farhat/Roger/homoplasy_project/rolling_DB_scrape/Genotypes_Filtered_2/genotypes_isolate_annotation.pkl')"
   ]
  },
  {
   "cell_type": "code",
   "execution_count": 14,
   "metadata": {},
   "outputs": [
    {
     "data": {
      "text/html": [
       "<div>\n",
       "<style>\n",
       "    .dataframe thead tr:only-child th {\n",
       "        text-align: right;\n",
       "    }\n",
       "\n",
       "    .dataframe thead th {\n",
       "        text-align: left;\n",
       "    }\n",
       "\n",
       "    .dataframe tbody tr th {\n",
       "        vertical-align: top;\n",
       "    }\n",
       "</style>\n",
       "<table border=\"1\" class=\"dataframe\">\n",
       "  <thead>\n",
       "    <tr style=\"text-align: right;\">\n",
       "      <th></th>\n",
       "      <th>lineage_1</th>\n",
       "      <th>lineage_2</th>\n",
       "      <th>lineage_3</th>\n",
       "      <th>lineage_4</th>\n",
       "      <th>lineage_5</th>\n",
       "      <th>lineage_6</th>\n",
       "      <th>lineage_7</th>\n",
       "      <th>lineage_8</th>\n",
       "      <th>lineage_9</th>\n",
       "      <th>lineage_10</th>\n",
       "      <th>lineage_11</th>\n",
       "      <th>isolate_ID</th>\n",
       "      <th>lineage_call</th>\n",
       "      <th>group</th>\n",
       "    </tr>\n",
       "  </thead>\n",
       "  <tbody>\n",
       "    <tr>\n",
       "      <th>0</th>\n",
       "      <td>4</td>\n",
       "      <td>2</td>\n",
       "      <td>1</td>\n",
       "      <td>2</td>\n",
       "      <td>1</td>\n",
       "      <td>1</td>\n",
       "      <td>i3</td>\n",
       "      <td>1</td>\n",
       "      <td>NaN</td>\n",
       "      <td>NaN</td>\n",
       "      <td>NaN</td>\n",
       "      <td>SAMEA3558733</td>\n",
       "      <td>4.2.1.2.1.1.i3.1</td>\n",
       "      <td>4B</td>\n",
       "    </tr>\n",
       "    <tr>\n",
       "      <th>1</th>\n",
       "      <td>4</td>\n",
       "      <td>2</td>\n",
       "      <td>1</td>\n",
       "      <td>2</td>\n",
       "      <td>2</td>\n",
       "      <td>1</td>\n",
       "      <td>1</td>\n",
       "      <td>NaN</td>\n",
       "      <td>NaN</td>\n",
       "      <td>NaN</td>\n",
       "      <td>NaN</td>\n",
       "      <td>SAMN03648641</td>\n",
       "      <td>4.2.1.2.2.1.1</td>\n",
       "      <td>4B</td>\n",
       "    </tr>\n",
       "    <tr>\n",
       "      <th>2</th>\n",
       "      <td>3</td>\n",
       "      <td>1</td>\n",
       "      <td>1</td>\n",
       "      <td>i1</td>\n",
       "      <td>NaN</td>\n",
       "      <td>NaN</td>\n",
       "      <td>NaN</td>\n",
       "      <td>NaN</td>\n",
       "      <td>NaN</td>\n",
       "      <td>NaN</td>\n",
       "      <td>NaN</td>\n",
       "      <td>SAMN03647419</td>\n",
       "      <td>3.1.1.i1</td>\n",
       "      <td>3</td>\n",
       "    </tr>\n",
       "    <tr>\n",
       "      <th>3</th>\n",
       "      <td>4</td>\n",
       "      <td>2</td>\n",
       "      <td>1</td>\n",
       "      <td>2</td>\n",
       "      <td>1</td>\n",
       "      <td>1</td>\n",
       "      <td>i1</td>\n",
       "      <td>NaN</td>\n",
       "      <td>NaN</td>\n",
       "      <td>NaN</td>\n",
       "      <td>NaN</td>\n",
       "      <td>SAMEA3671418</td>\n",
       "      <td>4.2.1.2.1.1.i1</td>\n",
       "      <td>4B</td>\n",
       "    </tr>\n",
       "    <tr>\n",
       "      <th>4</th>\n",
       "      <td>1</td>\n",
       "      <td>1</td>\n",
       "      <td>1</td>\n",
       "      <td>2</td>\n",
       "      <td>NaN</td>\n",
       "      <td>NaN</td>\n",
       "      <td>NaN</td>\n",
       "      <td>NaN</td>\n",
       "      <td>NaN</td>\n",
       "      <td>NaN</td>\n",
       "      <td>NaN</td>\n",
       "      <td>SAMN07659096</td>\n",
       "      <td>1.1.1.2</td>\n",
       "      <td>1</td>\n",
       "    </tr>\n",
       "  </tbody>\n",
       "</table>\n",
       "</div>"
      ],
      "text/plain": [
       "  lineage_1 lineage_2 lineage_3 lineage_4 lineage_5 lineage_6 lineage_7  \\\n",
       "0         4         2         1         2         1         1        i3   \n",
       "1         4         2         1         2         2         1         1   \n",
       "2         3         1         1        i1       NaN       NaN       NaN   \n",
       "3         4         2         1         2         1         1        i1   \n",
       "4         1         1         1         2       NaN       NaN       NaN   \n",
       "\n",
       "  lineage_8 lineage_9 lineage_10 lineage_11    isolate_ID      lineage_call  \\\n",
       "0         1       NaN        NaN        NaN  SAMEA3558733  4.2.1.2.1.1.i3.1   \n",
       "1       NaN       NaN        NaN        NaN  SAMN03648641     4.2.1.2.2.1.1   \n",
       "2       NaN       NaN        NaN        NaN  SAMN03647419          3.1.1.i1   \n",
       "3       NaN       NaN        NaN        NaN  SAMEA3671418    4.2.1.2.1.1.i1   \n",
       "4       NaN       NaN        NaN        NaN  SAMN07659096           1.1.1.2   \n",
       "\n",
       "  group  \n",
       "0    4B  \n",
       "1    4B  \n",
       "2     3  \n",
       "3    4B  \n",
       "4     1  "
      ]
     },
     "execution_count": 14,
     "metadata": {},
     "output_type": "execute_result"
    }
   ],
   "source": [
    "isolate_annotation_DF.head()"
   ]
  },
  {
   "cell_type": "code",
   "execution_count": 15,
   "metadata": {},
   "outputs": [
    {
     "data": {
      "text/plain": [
       "(31428, 14)"
      ]
     },
     "execution_count": 15,
     "metadata": {},
     "output_type": "execute_result"
    }
   ],
   "source": [
    "np.shape(isolate_annotation_DF)"
   ]
  },
  {
   "cell_type": "markdown",
   "metadata": {},
   "source": [
    "#### Drop mis-classified isolates"
   ]
  },
  {
   "cell_type": "markdown",
   "metadata": {},
   "source": [
    "- L1: 3\n",
    "    - SAMEA3445265\n",
    "    - SAMEA1119746\n",
    "    - SAMN06209986\n",
    "        \n",
    "- L2: 4\n",
    "    - SAMEA3558144\n",
    "    - SAMEA5366594\n",
    "    - SAMEA5366622\n",
    "    - SAMEA5366610\n",
    "        \n",
    "- L3: 2\n",
    "    - SAMN02398716\n",
    "    - SAMN08436122\n",
    "        \n",
    "- L4A: 1\n",
    "    - SAMEA3359387\n",
    "    \n",
    "-  L4B: 0\n",
    "    \n",
    "- L4C: 4\n",
    "    - SAMEA2783243\n",
    "    - SAMN07236506\n",
    "    - SAMEA104153428\n",
    "    - SAMEA961670\n",
    "    \n",
    "- L5: 0\n",
    "    \n",
    "- L6: 0"
   ]
  },
  {
   "cell_type": "code",
   "execution_count": 16,
   "metadata": {},
   "outputs": [],
   "source": [
    "misclassified_isolates_list = ['SAMEA3445265','SAMEA1119746','SAMN06209986','SAMEA3558144','SAMEA5366594','SAMEA5366622','SAMEA5366610','SAMN02398716','SAMN08436122','SAMEA3359387','SAMEA2783243','SAMN07236506','SAMEA104153428','SAMEA961670']"
   ]
  },
  {
   "cell_type": "code",
   "execution_count": 17,
   "metadata": {},
   "outputs": [
    {
     "data": {
      "text/html": [
       "<div>\n",
       "<style>\n",
       "    .dataframe thead tr:only-child th {\n",
       "        text-align: right;\n",
       "    }\n",
       "\n",
       "    .dataframe thead th {\n",
       "        text-align: left;\n",
       "    }\n",
       "\n",
       "    .dataframe tbody tr th {\n",
       "        vertical-align: top;\n",
       "    }\n",
       "</style>\n",
       "<table border=\"1\" class=\"dataframe\">\n",
       "  <thead>\n",
       "    <tr style=\"text-align: right;\">\n",
       "      <th></th>\n",
       "      <th>lineage_1</th>\n",
       "      <th>lineage_2</th>\n",
       "      <th>lineage_3</th>\n",
       "      <th>lineage_4</th>\n",
       "      <th>lineage_5</th>\n",
       "      <th>lineage_6</th>\n",
       "      <th>lineage_7</th>\n",
       "      <th>lineage_8</th>\n",
       "      <th>lineage_9</th>\n",
       "      <th>lineage_10</th>\n",
       "      <th>lineage_11</th>\n",
       "      <th>isolate_ID</th>\n",
       "      <th>lineage_call</th>\n",
       "      <th>group</th>\n",
       "    </tr>\n",
       "  </thead>\n",
       "  <tbody>\n",
       "    <tr>\n",
       "      <th>780</th>\n",
       "      <td>3</td>\n",
       "      <td>1</td>\n",
       "      <td>1</td>\n",
       "      <td>i1</td>\n",
       "      <td>NaN</td>\n",
       "      <td>NaN</td>\n",
       "      <td>NaN</td>\n",
       "      <td>NaN</td>\n",
       "      <td>NaN</td>\n",
       "      <td>NaN</td>\n",
       "      <td>NaN</td>\n",
       "      <td>SAMN08436122</td>\n",
       "      <td>3.1.1.i1</td>\n",
       "      <td>3</td>\n",
       "    </tr>\n",
       "    <tr>\n",
       "      <th>2658</th>\n",
       "      <td>4</td>\n",
       "      <td>2</td>\n",
       "      <td>1</td>\n",
       "      <td>1</td>\n",
       "      <td>1</td>\n",
       "      <td>2</td>\n",
       "      <td>2</td>\n",
       "      <td>1</td>\n",
       "      <td>NaN</td>\n",
       "      <td>NaN</td>\n",
       "      <td>NaN</td>\n",
       "      <td>SAMN07236506</td>\n",
       "      <td>4.2.1.1.1.2.2.1</td>\n",
       "      <td>4C</td>\n",
       "    </tr>\n",
       "    <tr>\n",
       "      <th>4344</th>\n",
       "      <td>4</td>\n",
       "      <td>2</td>\n",
       "      <td>1</td>\n",
       "      <td>1</td>\n",
       "      <td>1</td>\n",
       "      <td>2</td>\n",
       "      <td>2</td>\n",
       "      <td>2</td>\n",
       "      <td>NaN</td>\n",
       "      <td>NaN</td>\n",
       "      <td>NaN</td>\n",
       "      <td>SAMEA961670</td>\n",
       "      <td>4.2.1.1.1.2.2.2</td>\n",
       "      <td>4C</td>\n",
       "    </tr>\n",
       "    <tr>\n",
       "      <th>5734</th>\n",
       "      <td>4</td>\n",
       "      <td>2</td>\n",
       "      <td>1</td>\n",
       "      <td>1</td>\n",
       "      <td>1</td>\n",
       "      <td>2</td>\n",
       "      <td>2</td>\n",
       "      <td>1</td>\n",
       "      <td>NaN</td>\n",
       "      <td>NaN</td>\n",
       "      <td>NaN</td>\n",
       "      <td>SAMEA2783243</td>\n",
       "      <td>4.2.1.1.1.2.2.1</td>\n",
       "      <td>4C</td>\n",
       "    </tr>\n",
       "    <tr>\n",
       "      <th>12056</th>\n",
       "      <td>4</td>\n",
       "      <td>1</td>\n",
       "      <td>i1</td>\n",
       "      <td>2</td>\n",
       "      <td>1</td>\n",
       "      <td>NaN</td>\n",
       "      <td>NaN</td>\n",
       "      <td>NaN</td>\n",
       "      <td>NaN</td>\n",
       "      <td>NaN</td>\n",
       "      <td>NaN</td>\n",
       "      <td>SAMEA3359387</td>\n",
       "      <td>4.1.i1.2.1</td>\n",
       "      <td>4A</td>\n",
       "    </tr>\n",
       "    <tr>\n",
       "      <th>14504</th>\n",
       "      <td>1</td>\n",
       "      <td>2</td>\n",
       "      <td>1</td>\n",
       "      <td>1</td>\n",
       "      <td>1</td>\n",
       "      <td>NaN</td>\n",
       "      <td>NaN</td>\n",
       "      <td>NaN</td>\n",
       "      <td>NaN</td>\n",
       "      <td>NaN</td>\n",
       "      <td>NaN</td>\n",
       "      <td>SAMN06209986</td>\n",
       "      <td>1.2.1.1.1</td>\n",
       "      <td>1</td>\n",
       "    </tr>\n",
       "    <tr>\n",
       "      <th>17407</th>\n",
       "      <td>1</td>\n",
       "      <td>2</td>\n",
       "      <td>2</td>\n",
       "      <td>2</td>\n",
       "      <td>NaN</td>\n",
       "      <td>NaN</td>\n",
       "      <td>NaN</td>\n",
       "      <td>NaN</td>\n",
       "      <td>NaN</td>\n",
       "      <td>NaN</td>\n",
       "      <td>NaN</td>\n",
       "      <td>SAMEA3445265</td>\n",
       "      <td>1.2.2.2</td>\n",
       "      <td>1</td>\n",
       "    </tr>\n",
       "    <tr>\n",
       "      <th>23065</th>\n",
       "      <td>4</td>\n",
       "      <td>2</td>\n",
       "      <td>1</td>\n",
       "      <td>1</td>\n",
       "      <td>1</td>\n",
       "      <td>2</td>\n",
       "      <td>2</td>\n",
       "      <td>1</td>\n",
       "      <td>NaN</td>\n",
       "      <td>NaN</td>\n",
       "      <td>NaN</td>\n",
       "      <td>SAMEA104153428</td>\n",
       "      <td>4.2.1.1.1.2.2.1</td>\n",
       "      <td>4C</td>\n",
       "    </tr>\n",
       "    <tr>\n",
       "      <th>23426</th>\n",
       "      <td>2</td>\n",
       "      <td>1</td>\n",
       "      <td>NaN</td>\n",
       "      <td>NaN</td>\n",
       "      <td>NaN</td>\n",
       "      <td>NaN</td>\n",
       "      <td>NaN</td>\n",
       "      <td>NaN</td>\n",
       "      <td>NaN</td>\n",
       "      <td>NaN</td>\n",
       "      <td>NaN</td>\n",
       "      <td>SAMEA5366622</td>\n",
       "      <td>2.1</td>\n",
       "      <td>2</td>\n",
       "    </tr>\n",
       "    <tr>\n",
       "      <th>24095</th>\n",
       "      <td>2</td>\n",
       "      <td>2</td>\n",
       "      <td>2</td>\n",
       "      <td>NaN</td>\n",
       "      <td>NaN</td>\n",
       "      <td>NaN</td>\n",
       "      <td>NaN</td>\n",
       "      <td>NaN</td>\n",
       "      <td>NaN</td>\n",
       "      <td>NaN</td>\n",
       "      <td>NaN</td>\n",
       "      <td>SAMEA3558144</td>\n",
       "      <td>2.2.2</td>\n",
       "      <td>2</td>\n",
       "    </tr>\n",
       "    <tr>\n",
       "      <th>24105</th>\n",
       "      <td>2</td>\n",
       "      <td>1</td>\n",
       "      <td>NaN</td>\n",
       "      <td>NaN</td>\n",
       "      <td>NaN</td>\n",
       "      <td>NaN</td>\n",
       "      <td>NaN</td>\n",
       "      <td>NaN</td>\n",
       "      <td>NaN</td>\n",
       "      <td>NaN</td>\n",
       "      <td>NaN</td>\n",
       "      <td>SAMEA5366610</td>\n",
       "      <td>2.1</td>\n",
       "      <td>2</td>\n",
       "    </tr>\n",
       "    <tr>\n",
       "      <th>24349</th>\n",
       "      <td>2</td>\n",
       "      <td>1</td>\n",
       "      <td>NaN</td>\n",
       "      <td>NaN</td>\n",
       "      <td>NaN</td>\n",
       "      <td>NaN</td>\n",
       "      <td>NaN</td>\n",
       "      <td>NaN</td>\n",
       "      <td>NaN</td>\n",
       "      <td>NaN</td>\n",
       "      <td>NaN</td>\n",
       "      <td>SAMEA5366594</td>\n",
       "      <td>2.1</td>\n",
       "      <td>2</td>\n",
       "    </tr>\n",
       "    <tr>\n",
       "      <th>28043</th>\n",
       "      <td>1</td>\n",
       "      <td>2</td>\n",
       "      <td>1</td>\n",
       "      <td>1</td>\n",
       "      <td>2</td>\n",
       "      <td>NaN</td>\n",
       "      <td>NaN</td>\n",
       "      <td>NaN</td>\n",
       "      <td>NaN</td>\n",
       "      <td>NaN</td>\n",
       "      <td>NaN</td>\n",
       "      <td>SAMEA1119746</td>\n",
       "      <td>1.2.1.1.2</td>\n",
       "      <td>1</td>\n",
       "    </tr>\n",
       "    <tr>\n",
       "      <th>29672</th>\n",
       "      <td>3</td>\n",
       "      <td>2</td>\n",
       "      <td>2</td>\n",
       "      <td>NaN</td>\n",
       "      <td>NaN</td>\n",
       "      <td>NaN</td>\n",
       "      <td>NaN</td>\n",
       "      <td>NaN</td>\n",
       "      <td>NaN</td>\n",
       "      <td>NaN</td>\n",
       "      <td>NaN</td>\n",
       "      <td>SAMN02398716</td>\n",
       "      <td>3.2.2</td>\n",
       "      <td>3</td>\n",
       "    </tr>\n",
       "  </tbody>\n",
       "</table>\n",
       "</div>"
      ],
      "text/plain": [
       "      lineage_1 lineage_2 lineage_3 lineage_4 lineage_5 lineage_6 lineage_7  \\\n",
       "780           3         1         1        i1       NaN       NaN       NaN   \n",
       "2658          4         2         1         1         1         2         2   \n",
       "4344          4         2         1         1         1         2         2   \n",
       "5734          4         2         1         1         1         2         2   \n",
       "12056         4         1        i1         2         1       NaN       NaN   \n",
       "14504         1         2         1         1         1       NaN       NaN   \n",
       "17407         1         2         2         2       NaN       NaN       NaN   \n",
       "23065         4         2         1         1         1         2         2   \n",
       "23426         2         1       NaN       NaN       NaN       NaN       NaN   \n",
       "24095         2         2         2       NaN       NaN       NaN       NaN   \n",
       "24105         2         1       NaN       NaN       NaN       NaN       NaN   \n",
       "24349         2         1       NaN       NaN       NaN       NaN       NaN   \n",
       "28043         1         2         1         1         2       NaN       NaN   \n",
       "29672         3         2         2       NaN       NaN       NaN       NaN   \n",
       "\n",
       "      lineage_8 lineage_9 lineage_10 lineage_11      isolate_ID  \\\n",
       "780         NaN       NaN        NaN        NaN    SAMN08436122   \n",
       "2658          1       NaN        NaN        NaN    SAMN07236506   \n",
       "4344          2       NaN        NaN        NaN     SAMEA961670   \n",
       "5734          1       NaN        NaN        NaN    SAMEA2783243   \n",
       "12056       NaN       NaN        NaN        NaN    SAMEA3359387   \n",
       "14504       NaN       NaN        NaN        NaN    SAMN06209986   \n",
       "17407       NaN       NaN        NaN        NaN    SAMEA3445265   \n",
       "23065         1       NaN        NaN        NaN  SAMEA104153428   \n",
       "23426       NaN       NaN        NaN        NaN    SAMEA5366622   \n",
       "24095       NaN       NaN        NaN        NaN    SAMEA3558144   \n",
       "24105       NaN       NaN        NaN        NaN    SAMEA5366610   \n",
       "24349       NaN       NaN        NaN        NaN    SAMEA5366594   \n",
       "28043       NaN       NaN        NaN        NaN    SAMEA1119746   \n",
       "29672       NaN       NaN        NaN        NaN    SAMN02398716   \n",
       "\n",
       "          lineage_call group  \n",
       "780           3.1.1.i1     3  \n",
       "2658   4.2.1.1.1.2.2.1    4C  \n",
       "4344   4.2.1.1.1.2.2.2    4C  \n",
       "5734   4.2.1.1.1.2.2.1    4C  \n",
       "12056       4.1.i1.2.1    4A  \n",
       "14504        1.2.1.1.1     1  \n",
       "17407          1.2.2.2     1  \n",
       "23065  4.2.1.1.1.2.2.1    4C  \n",
       "23426              2.1     2  \n",
       "24095            2.2.2     2  \n",
       "24105              2.1     2  \n",
       "24349              2.1     2  \n",
       "28043        1.2.1.1.2     1  \n",
       "29672            3.2.2     3  "
      ]
     },
     "execution_count": 17,
     "metadata": {},
     "output_type": "execute_result"
    }
   ],
   "source": [
    "isolate_annotation_DF[[(isolate_id in misclassified_isolates_list) for isolate_id in isolate_annotation_DF.isolate_ID]]"
   ]
  },
  {
   "cell_type": "markdown",
   "metadata": {},
   "source": [
    "#### Filter out isolates from pairwise SNP distance matrix & isolate annotation DF"
   ]
  },
  {
   "cell_type": "code",
   "execution_count": 18,
   "metadata": {},
   "outputs": [],
   "source": [
    "misclassified_isolates_filter = np.array([(isolate_id not in misclassified_isolates_list) for isolate_id in isolate_annotation_DF.isolate_ID])\n",
    "\n",
    "#drop isolates from isolate annotation DF\n",
    "isolate_annotation_DF_missclassified_dropped = isolate_annotation_DF[misclassified_isolates_filter]\n",
    "isolate_annotation_DF_missclassified_dropped.reset_index(inplace = True, drop = True)\n",
    "\n",
    "#slice out the rows that correspond to mis-classified isolates\n",
    "pairwise_SNP_dist = pairwise_SNP_dist[misclassified_isolates_filter , :]\n",
    "\n",
    "#slice out the columns that correspond to mis-classified isolates\n",
    "pairwise_SNP_dist = pairwise_SNP_dist[: , misclassified_isolates_filter]"
   ]
  },
  {
   "cell_type": "code",
   "execution_count": 19,
   "metadata": {},
   "outputs": [
    {
     "data": {
      "text/plain": [
       "array([[   0,  606, 1139, ..., 1061,  174,  670],\n",
       "       [ 606,    0, 1124, ..., 1036,  623,  645],\n",
       "       [1139, 1124,    0, ..., 1035, 1152, 1177],\n",
       "       ...,\n",
       "       [1061, 1036, 1035, ...,    0, 1066, 1095],\n",
       "       [ 174,  623, 1152, ..., 1066,    0,  683],\n",
       "       [ 670,  645, 1177, ..., 1095,  683,    0]])"
      ]
     },
     "execution_count": 19,
     "metadata": {},
     "output_type": "execute_result"
    }
   ],
   "source": [
    "pairwise_SNP_dist"
   ]
  },
  {
   "cell_type": "code",
   "execution_count": 20,
   "metadata": {},
   "outputs": [
    {
     "data": {
      "text/plain": [
       "(31414, 31414)"
      ]
     },
     "execution_count": 20,
     "metadata": {},
     "output_type": "execute_result"
    }
   ],
   "source": [
    "np.shape(pairwise_SNP_dist)"
   ]
  },
  {
   "cell_type": "code",
   "execution_count": 21,
   "metadata": {},
   "outputs": [
    {
     "data": {
      "text/html": [
       "<div>\n",
       "<style>\n",
       "    .dataframe thead tr:only-child th {\n",
       "        text-align: right;\n",
       "    }\n",
       "\n",
       "    .dataframe thead th {\n",
       "        text-align: left;\n",
       "    }\n",
       "\n",
       "    .dataframe tbody tr th {\n",
       "        vertical-align: top;\n",
       "    }\n",
       "</style>\n",
       "<table border=\"1\" class=\"dataframe\">\n",
       "  <thead>\n",
       "    <tr style=\"text-align: right;\">\n",
       "      <th></th>\n",
       "      <th>lineage_1</th>\n",
       "      <th>lineage_2</th>\n",
       "      <th>lineage_3</th>\n",
       "      <th>lineage_4</th>\n",
       "      <th>lineage_5</th>\n",
       "      <th>lineage_6</th>\n",
       "      <th>lineage_7</th>\n",
       "      <th>lineage_8</th>\n",
       "      <th>lineage_9</th>\n",
       "      <th>lineage_10</th>\n",
       "      <th>lineage_11</th>\n",
       "      <th>isolate_ID</th>\n",
       "      <th>lineage_call</th>\n",
       "      <th>group</th>\n",
       "    </tr>\n",
       "  </thead>\n",
       "  <tbody>\n",
       "    <tr>\n",
       "      <th>0</th>\n",
       "      <td>4</td>\n",
       "      <td>2</td>\n",
       "      <td>1</td>\n",
       "      <td>2</td>\n",
       "      <td>1</td>\n",
       "      <td>1</td>\n",
       "      <td>i3</td>\n",
       "      <td>1</td>\n",
       "      <td>NaN</td>\n",
       "      <td>NaN</td>\n",
       "      <td>NaN</td>\n",
       "      <td>SAMEA3558733</td>\n",
       "      <td>4.2.1.2.1.1.i3.1</td>\n",
       "      <td>4B</td>\n",
       "    </tr>\n",
       "    <tr>\n",
       "      <th>1</th>\n",
       "      <td>4</td>\n",
       "      <td>2</td>\n",
       "      <td>1</td>\n",
       "      <td>2</td>\n",
       "      <td>2</td>\n",
       "      <td>1</td>\n",
       "      <td>1</td>\n",
       "      <td>NaN</td>\n",
       "      <td>NaN</td>\n",
       "      <td>NaN</td>\n",
       "      <td>NaN</td>\n",
       "      <td>SAMN03648641</td>\n",
       "      <td>4.2.1.2.2.1.1</td>\n",
       "      <td>4B</td>\n",
       "    </tr>\n",
       "    <tr>\n",
       "      <th>2</th>\n",
       "      <td>3</td>\n",
       "      <td>1</td>\n",
       "      <td>1</td>\n",
       "      <td>i1</td>\n",
       "      <td>NaN</td>\n",
       "      <td>NaN</td>\n",
       "      <td>NaN</td>\n",
       "      <td>NaN</td>\n",
       "      <td>NaN</td>\n",
       "      <td>NaN</td>\n",
       "      <td>NaN</td>\n",
       "      <td>SAMN03647419</td>\n",
       "      <td>3.1.1.i1</td>\n",
       "      <td>3</td>\n",
       "    </tr>\n",
       "    <tr>\n",
       "      <th>3</th>\n",
       "      <td>4</td>\n",
       "      <td>2</td>\n",
       "      <td>1</td>\n",
       "      <td>2</td>\n",
       "      <td>1</td>\n",
       "      <td>1</td>\n",
       "      <td>i1</td>\n",
       "      <td>NaN</td>\n",
       "      <td>NaN</td>\n",
       "      <td>NaN</td>\n",
       "      <td>NaN</td>\n",
       "      <td>SAMEA3671418</td>\n",
       "      <td>4.2.1.2.1.1.i1</td>\n",
       "      <td>4B</td>\n",
       "    </tr>\n",
       "    <tr>\n",
       "      <th>4</th>\n",
       "      <td>1</td>\n",
       "      <td>1</td>\n",
       "      <td>1</td>\n",
       "      <td>2</td>\n",
       "      <td>NaN</td>\n",
       "      <td>NaN</td>\n",
       "      <td>NaN</td>\n",
       "      <td>NaN</td>\n",
       "      <td>NaN</td>\n",
       "      <td>NaN</td>\n",
       "      <td>NaN</td>\n",
       "      <td>SAMN07659096</td>\n",
       "      <td>1.1.1.2</td>\n",
       "      <td>1</td>\n",
       "    </tr>\n",
       "  </tbody>\n",
       "</table>\n",
       "</div>"
      ],
      "text/plain": [
       "  lineage_1 lineage_2 lineage_3 lineage_4 lineage_5 lineage_6 lineage_7  \\\n",
       "0         4         2         1         2         1         1        i3   \n",
       "1         4         2         1         2         2         1         1   \n",
       "2         3         1         1        i1       NaN       NaN       NaN   \n",
       "3         4         2         1         2         1         1        i1   \n",
       "4         1         1         1         2       NaN       NaN       NaN   \n",
       "\n",
       "  lineage_8 lineage_9 lineage_10 lineage_11    isolate_ID      lineage_call  \\\n",
       "0         1       NaN        NaN        NaN  SAMEA3558733  4.2.1.2.1.1.i3.1   \n",
       "1       NaN       NaN        NaN        NaN  SAMN03648641     4.2.1.2.2.1.1   \n",
       "2       NaN       NaN        NaN        NaN  SAMN03647419          3.1.1.i1   \n",
       "3       NaN       NaN        NaN        NaN  SAMEA3671418    4.2.1.2.1.1.i1   \n",
       "4       NaN       NaN        NaN        NaN  SAMN07659096           1.1.1.2   \n",
       "\n",
       "  group  \n",
       "0    4B  \n",
       "1    4B  \n",
       "2     3  \n",
       "3    4B  \n",
       "4     1  "
      ]
     },
     "execution_count": 21,
     "metadata": {},
     "output_type": "execute_result"
    }
   ],
   "source": [
    "isolate_annotation_DF_missclassified_dropped.head()"
   ]
  },
  {
   "cell_type": "code",
   "execution_count": 22,
   "metadata": {},
   "outputs": [
    {
     "data": {
      "text/plain": [
       "(31414, 14)"
      ]
     },
     "execution_count": 22,
     "metadata": {},
     "output_type": "execute_result"
    }
   ],
   "source": [
    "np.shape(isolate_annotation_DF_missclassified_dropped)"
   ]
  },
  {
   "cell_type": "markdown",
   "metadata": {},
   "source": [
    "#### Use upper-triangular indices to get non-redundant array of pairwise SNP distances between all isolates"
   ]
  },
  {
   "cell_type": "code",
   "execution_count": 23,
   "metadata": {},
   "outputs": [],
   "source": [
    "num_isolates = np.shape(isolate_annotation_DF_missclassified_dropped)[0]\n",
    "upper_triangle_indices = np.triu_indices(n = num_isolates , k = 1)\n",
    "\n",
    "non_redundant_pairwise_SNP_dist_array = pairwise_SNP_dist[upper_triangle_indices]"
   ]
  },
  {
   "cell_type": "code",
   "execution_count": 24,
   "metadata": {},
   "outputs": [
    {
     "data": {
      "text/plain": [
       "array([ 606, 1139,  406, ..., 1066, 1095,  683])"
      ]
     },
     "execution_count": 24,
     "metadata": {},
     "output_type": "execute_result"
    }
   ],
   "source": [
    "non_redundant_pairwise_SNP_dist_array"
   ]
  },
  {
   "cell_type": "code",
   "execution_count": 25,
   "metadata": {},
   "outputs": [
    {
     "data": {
      "text/plain": [
       "493403991"
      ]
     },
     "execution_count": 25,
     "metadata": {},
     "output_type": "execute_result"
    }
   ],
   "source": [
    "len(non_redundant_pairwise_SNP_dist_array)"
   ]
  },
  {
   "cell_type": "markdown",
   "metadata": {},
   "source": [
    "### *Functions* to plot Within-Lineage variation"
   ]
  },
  {
   "cell_type": "code",
   "execution_count": 50,
   "metadata": {},
   "outputs": [],
   "source": [
    "from pylab import plot, show, savefig, xlim, figure, hold, ylim, legend, boxplot, setp, axes\n",
    "\n",
    "linewidth_for_box = 2.5\n",
    "\n",
    "# function for setting the colors of the box plots pairs\n",
    "def setBoxColors(bp , color):\n",
    "    setp(bp['boxes'][0], color=color , linewidth = linewidth_for_box)\n",
    "    setp(bp['caps'][0], color=color , linewidth = linewidth_for_box)\n",
    "    setp(bp['caps'][1], color=color , linewidth = linewidth_for_box)\n",
    "    setp(bp['whiskers'][0], color=color , linewidth = linewidth_for_box)\n",
    "    setp(bp['whiskers'][1], color=color , linewidth = linewidth_for_box)\n",
    "    setp(bp['fliers'][0], color=color)\n",
    "    setp(bp['medians'][0], color='k' , linewidth = 2.0)\n",
    "    bp['fliers'][0].set_markerfacecolor('black')\n",
    "    bp['fliers'][0].set_markeredgewidth(0.3)\n",
    "    bp['fliers'][0].set_markersize(2.5)\n",
    "    bp['fliers'][0].set_markeredgecolor('white')\n",
    "    bp['fliers'][0].set_alpha(0.6)\n",
    "    \n",
    "def plot_num_SNP_distances_btwn_lineages(pairwise_SNP_distances , color , x_pos, ax):\n",
    "    \n",
    "    #make boxplot\n",
    "    median_pairwise_SNP_distance = np.median(pairwise_SNP_distances) #get median\n",
    "    bp = ax.boxplot(pairwise_SNP_distances , positions = [ind[x_pos]], widths = box_width)\n",
    "    setBoxColors(bp , color)\n",
    "    \n",
    "    return [len(pairwise_SNP_distances) , int(median_pairwise_SNP_distance)]"
   ]
  },
  {
   "cell_type": "markdown",
   "metadata": {},
   "source": [
    "#### Define a *function* that takes in the (distance matrix), (global lineage i) and (global lineage j) and returns an array of the pairwise SNP distances for all isolate pairs *between* those lineages"
   ]
  },
  {
   "cell_type": "code",
   "execution_count": 27,
   "metadata": {},
   "outputs": [],
   "source": [
    "def SNP_distances_for_pairs_in_lineages(global_lineage_i, global_lineage_j , pairwise_SNP_dist_matrix):\n",
    "    \n",
    "    #get a filter for rows for isolates that belong to specific global lineage i\n",
    "    global_lineage_filter_i = np.array(isolate_annotation_DF_missclassified_dropped.lineage_1 == global_lineage_i)\n",
    "    \n",
    "    #get a filter for columns for isolates that belong to specific global lineage j\n",
    "    global_lineage_filter_j = np.array(isolate_annotation_DF_missclassified_dropped.lineage_1 == global_lineage_j)\n",
    "    \n",
    "    #slice out the rows that correspond to isolates that belong to global lineage i\n",
    "    pairwise_SNP_dist_for_global_lineages = pairwise_SNP_dist[global_lineage_filter_i , :]\n",
    "    \n",
    "    #slice out the columns that correspond to isolates that belong to global lineage j\n",
    "    pairwise_SNP_dist_for_global_lineages = pairwise_SNP_dist_for_global_lineages[: , global_lineage_filter_j]\n",
    "    \n",
    "    #get the indices for the upper triangular portion of the matrix to get non-redundant array of SNP distances\n",
    "    num_isolates_lineage_i = np.shape(pairwise_SNP_dist_for_global_lineages)[0]\n",
    "    num_isolates_lineage_j = np.shape(pairwise_SNP_dist_for_global_lineages)[1]\n",
    "    \n",
    "    upper_triangle_indices = np.triu_indices(n = num_isolates_lineage_i , k = 1 , m = num_isolates_lineage_j)\n",
    "\n",
    "    non_redundant_pairwise_SNP_dist_array = pairwise_SNP_dist_for_global_lineages[upper_triangle_indices]\n",
    "    \n",
    "    return non_redundant_pairwise_SNP_dist_array"
   ]
  },
  {
   "cell_type": "markdown",
   "metadata": {},
   "source": [
    "#### Get vector for within-lineage pairwise SNP distances"
   ]
  },
  {
   "cell_type": "code",
   "execution_count": 28,
   "metadata": {},
   "outputs": [],
   "source": [
    "lineage_pairs = [['1','1'] , ['2','2'] , ['3','3'] , ['4','4'] , ['5','5'] , ['6','6']]\n",
    "within_lineage_SNP_distance_dict = {}\n",
    "\n",
    "for lineage_pair in lineage_pairs:\n",
    "    within_lineage_SNP_distance_dict[lineage_pair[0]] = SNP_distances_for_pairs_in_lineages(lineage_pair[0] , lineage_pair[1], pairwise_SNP_dist)"
   ]
  },
  {
   "cell_type": "code",
   "execution_count": 29,
   "metadata": {},
   "outputs": [],
   "source": [
    "box_width = 0.85\n",
    "ind = [1,2,3,4,5,6]\n",
    "lineage_pairs = [['1','1'] , ['2','2'] , ['3','3'] , ['4','4'] , ['5','5'] , ['6','6']]\n",
    "\n",
    "def within_lineage_boxplots(ax):\n",
    "    \n",
    "    ## fig = plt.figure(1, figsize=(10.5, 6.0))\n",
    "    ## ax = axes()\n",
    "    \n",
    "    num_isolates_per_lineage = {'1':'2,812' , '2':'8,086' , '3':'3,396', '4':'16,926', '5':'98', '6':'96'}\n",
    "\n",
    "    num_isolate_pairs_list = []\n",
    "    median_pairwise_SNP_dist_list = []\n",
    "    x_pos = 0\n",
    "    for lineage_pair , color in zip( lineage_pairs , ['xkcd:dark pink', 'xkcd:blue', 'xkcd:dark purple', 'xkcd:red', 'xkcd:brown', 'xkcd:green'] ):\n",
    "\n",
    "        #plot boxplot for lineage & store the number of isolates in sample\n",
    "        num_isolate_pairs_compared , median_pairwise_SNP_dist = plot_num_SNP_distances_btwn_lineages(within_lineage_SNP_distance_dict[lineage_pair[0]] , color , x_pos, ax)\n",
    "        ## num_isolate_pairs_list.append( num_isolate_pairs_compared )\n",
    "        num_isolate_pairs_list.append(num_isolates_per_lineage[lineage_pair[0]])\n",
    "        median_pairwise_SNP_dist_list.append( median_pairwise_SNP_dist )\n",
    "        x_pos += 1\n",
    "\n",
    "    #x-axis\n",
    "    xlim(0.5 , 6.5)\n",
    "\n",
    "    ax.set_xticks(ind)\n",
    "    ax.set_xticklabels([], rotation='horizontal', fontsize = 7)\n",
    "    ## x_labels = ['Lineage ' + lineage[0] + '\\n (N=' + str(num_isolates) + ')' + '\\n (Median=' + str(median_dist) + ')' for lineage , num_isolates , median_dist in zip( lineage_pairs , num_isolate_pairs_list , median_pairwise_SNP_dist_list)]\n",
    "    x_labels = ['Lineage ' + lineage[0] + '\\n (I=' + str(num_isolates) + ')' + '\\n (M=' + str(median_dist) + ')' for lineage , num_isolates , median_dist in zip( lineage_pairs , num_isolate_pairs_list , median_pairwise_SNP_dist_list)]\n",
    "    ax.set_xticklabels(x_labels, rotation='horizontal', fontsize = 11)\n",
    "    ax.set_xlabel('')\n",
    "    ax.grid(False)\n",
    "\n",
    "    ax.spines['right'].set_visible(False)\n",
    "    ax.spines['top'].set_visible(False)\n",
    "    ax.tick_params(axis='y', which='major', labelsize=11, pad = -2, labelcolor = 'k')\n",
    "    ax.tick_params(axis='x', which='major', labelsize=11, pad = -2, labelcolor = 'k')\n",
    "\n",
    "    ax.set_title('within-lineage pairwise SNP distances', fontsize = 12 , color = 'k', pad = -2)\n",
    "\n",
    "    #label y-axis\n",
    "    ax.set_ylabel('pairwise SNP distance' ,  rotation=90, fontsize = 11 , color = 'k', labelpad = -1)\n",
    "\n",
    "    '''\n",
    "    #file_name = '/n/data1/hms/dbmi/farhat/Roger/homoplasy_project/Figures/lab_meeting_12_12_19/pairwise_SNP_distance/within_global_lineage_pairwise_SNP_distances.png'\n",
    "    #plt.savefig(file_name, bbox_inches='tight', dpi = 300 , transparent = True)\n",
    "    \n",
    "    fig = plt.gcf()\n",
    "    fig.tight_layout()\n",
    "\n",
    "    plt.show()\n",
    "    '''"
   ]
  },
  {
   "cell_type": "markdown",
   "metadata": {},
   "source": [
    "## [4] Create Figure with all plots"
   ]
  },
  {
   "cell_type": "code",
   "execution_count": 33,
   "metadata": {},
   "outputs": [
    {
     "data": {
      "image/png": "[encoded data removed]",
      "text/plain": [
       "<Figure size 612x1080 with 10 Axes>"
      ]
     },
     "metadata": {},
     "output_type": "display_data"
    }
   ],
   "source": [
    "fig = plt.figure(constrained_layout=True)\n",
    "spec = gridspec.GridSpec(ncols=3, nrows=5, figure=fig)\n",
    "spec.update(wspace=0.10, hspace=0.23) # set the spacing between axes. \n",
    "\n",
    "axA = fig.add_subplot(spec[0:2, 0:2])\n",
    "axB = fig.add_subplot(spec[0, 2])\n",
    "axC = fig.add_subplot(spec[1, 2])\n",
    "axD = fig.add_subplot(spec[2, 0])\n",
    "axE = fig.add_subplot(spec[2, 1])\n",
    "axF = fig.add_subplot(spec[2, 2])\n",
    "axG = fig.add_subplot(spec[3, 0])\n",
    "axH = fig.add_subplot(spec[3, 1])\n",
    "axI = fig.add_subplot(spec[3, 2])\n",
    "axJ = fig.add_subplot(spec[4, 0:3])\n",
    "\n",
    "plot_tSNE(axA)\n",
    "plot_tSNE_for_isolate_group('1' , 'xkcd:bright pink', axB)\n",
    "plot_tSNE_for_isolate_group('2' , 'xkcd:bright blue', axC)\n",
    "plot_tSNE_for_isolate_group('3' , 'xkcd:purple', axD)\n",
    "plot_tSNE_for_isolate_group('4A' , 'xkcd:red', axE)\n",
    "plot_tSNE_for_isolate_group('4B' , 'xkcd:light red', axF)\n",
    "plot_tSNE_for_isolate_group('4C' , 'xkcd:orange', axG)\n",
    "plot_tSNE_for_isolate_group('5' , 'xkcd:brown', axH)\n",
    "plot_tSNE_for_isolate_group('6' , 'xkcd:green', axI)\n",
    "within_lineage_boxplots(axJ)\n",
    "\n",
    "fig.text(0.1, 0.877, 'A', fontsize=12 , fontweight='bold' , color = 'k')\n",
    "fig.text(0.635, 0.877, 'B', fontsize=12 , fontweight='bold' , color = 'k')\n",
    "\n",
    "fig.text(0.635, 0.722, 'C', fontsize=12 , fontweight='bold' , color = 'k')\n",
    "\n",
    "fig.text(0.1, 0.558, 'D', fontsize=12 , fontweight='bold' , color = 'k')\n",
    "fig.text(0.37, 0.558, 'E', fontsize=12 , fontweight='bold' , color = 'k')\n",
    "fig.text(0.635, 0.558, 'F', fontsize=12 , fontweight='bold' , color = 'k')\n",
    "\n",
    "fig.text(0.1, 0.405, 'G', fontsize=12 , fontweight='bold' , color = 'k')\n",
    "fig.text(0.368, 0.405, 'H', fontsize=12 , fontweight='bold' , color = 'k')\n",
    "fig.text(0.637, 0.405, 'I', fontsize=12 , fontweight='bold' , color = 'k')\n",
    "\n",
    "fig.text(0.1, 0.255, 'J', fontsize=12 , fontweight='bold' , color = 'k')\n",
    "\n",
    "fig = plt.gcf()\n",
    "fig.set_size_inches(8.5, 15.0)\n",
    "fig.tight_layout()\n",
    "\n",
    "file_name = '/n/data1/hms/dbmi/farhat/Roger/homoplasy_project/Figures/for publication/tSNE_visuals_isolate_colored_by_group_and_within_lineage_distances.png'\n",
    "plt.savefig(file_name, bbox_inches='tight', dpi = 300 , transparent = True)\n",
    "\n",
    "plt.show()"
   ]
  },
  {
   "cell_type": "code",
   "execution_count": null,
   "metadata": {},
   "outputs": [],
   "source": []
  }
 ],
 "metadata": {
  "kernelspec": {
   "display_name": "Python 2",
   "language": "python",
   "name": "python2"
  },
  "language_info": {
   "codemirror_mode": {
    "name": "ipython",
    "version": 2
   },
   "file_extension": ".py",
   "mimetype": "text/x-python",
   "name": "python",
   "nbconvert_exporter": "python",
   "pygments_lexer": "ipython2",
   "version": "2.7.16"
  }
 },
 "nbformat": 4,
 "nbformat_minor": 4
}
