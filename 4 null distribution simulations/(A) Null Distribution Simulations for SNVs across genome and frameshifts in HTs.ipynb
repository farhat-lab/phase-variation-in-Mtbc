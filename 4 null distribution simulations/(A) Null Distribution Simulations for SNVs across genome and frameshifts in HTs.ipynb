{
 "cells": [
  {
   "cell_type": "code",
   "execution_count": 1,
   "metadata": {},
   "outputs": [
    {
     "data": {
      "text/html": [
       "<style>.container { width:100% !important; }</style>"
      ],
      "text/plain": [
       "<IPython.core.display.HTML object>"
      ]
     },
     "metadata": {},
     "output_type": "display_data"
    }
   ],
   "source": [
    "from IPython.core.display import display, HTML\n",
    "display(HTML(\"<style>.container { width:100% !important; }</style>\"))"
   ]
  },
  {
   "cell_type": "code",
   "execution_count": 2,
   "metadata": {},
   "outputs": [],
   "source": [
    "import vcf\n",
    "\n",
    "%matplotlib inline\n",
    "import os\n",
    "from os.path import exists\n",
    "import pandas as pd\n",
    "import numpy as np\n",
    "import matplotlib.pyplot as plt\n",
    "import matplotlib as mpl\n",
    "import matplotlib.ticker as ticker\n",
    "from matplotlib.patches import Rectangle\n",
    "from mpl_toolkits.axes_grid1 import make_axes_locatable\n",
    "from itertools import compress\n",
    "from pylab import MaxNLocator\n",
    "from matplotlib.colors import LogNorm\n",
    "from matplotlib import gridspec\n",
    "from sklearn.preprocessing import StandardScaler\n",
    "import sys\n",
    "import pickle\n",
    "\n",
    "import Bio\n",
    "from Bio.Alphabet import IUPAC\n",
    "from Bio.Blast.Applications import NcbiblastnCommandline\n",
    "from Bio.Blast import NCBIXML\n",
    "from Bio.Seq import Seq\n",
    "from Bio.SeqRecord import SeqRecord\n",
    "from Bio.SeqFeature import SeqFeature, FeatureLocation\n",
    "from Bio import pairwise2\n",
    "from Bio import SeqIO\n",
    "from Bio.Graphics import GenomeDiagram\n",
    "from Bio.SeqUtils import GC\n",
    "from Bio import Phylo\n",
    "\n",
    "from Bio.Align.Applications import MuscleCommandline\n",
    "from StringIO import StringIO\n",
    "from Bio import AlignIO\n",
    "from Bio.Align import AlignInfo\n",
    "from Bio.Seq import MutableSeq\n",
    "from collections import Counter\n",
    "\n",
    "#for exporting to Adobe Illustrator\n",
    "mpl.rcParams['pdf.fonttype'] = 42\n",
    "mpl.rcParams['ps.fonttype'] = 42"
   ]
  },
  {
   "cell_type": "markdown",
   "metadata": {},
   "source": [
    "# [A] SNVS ACROSS THE GENOME"
   ]
  },
  {
   "cell_type": "markdown",
   "metadata": {},
   "source": [
    "# [1] *Functions* to get mutation events from branches given a tree"
   ]
  },
  {
   "cell_type": "code",
   "execution_count": 3,
   "metadata": {},
   "outputs": [],
   "source": [
    "def num_mutations_on_branch_SNV(branch_length_i, num_sites_to_construct_tree):\n",
    "    \n",
    "    '''\n",
    "    This function takes a branch length as INPUT and OUTPUTs\n",
    "    (1) the number of neutral mutations that occur on this branch length \n",
    "    by drawing from a poisson distribution and (2) a list of the chromosomal\n",
    "    positions that are mutated (drawn randomly from across the chromosome).\n",
    "    '''\n",
    "    \n",
    "    # get molecular clock rate (mu_i) to convert branch length into years\n",
    "    mu_i = np.random.uniform(low=0.3, high=0.6)\n",
    "\n",
    "    # get t_i, the branch length in years\n",
    "    t_i = (branch_length_i * num_sites_to_construct_tree) / mu_i\n",
    "\n",
    "    # get the mutation rate for neutral mutations (nu_i) to calculate lambda\n",
    "    nu_i = np.random.uniform(low=0.3, high=0.6)\n",
    "\n",
    "    # calculate lambda, parameter for poisson distribution\n",
    "    lambda_i = t_i * nu_i\n",
    "\n",
    "    # draw from poisson distribution to get the number of neutral mutations that occurred on this branch\n",
    "    num_mutations_i = np.random.poisson(lam=lambda_i)\n",
    "    \n",
    "    # choose number drawn above positions from range(0, length of chrom) that were \"mutated\", choose the H37Rv ref positions that mutated randomly\n",
    "    positions_mutated_i = np.random.randint(low=1, high=chrom_length+1, size=num_mutations_i)\n",
    "    \n",
    "    return [num_mutations_i, positions_mutated_i]"
   ]
  },
  {
   "cell_type": "code",
   "execution_count": 4,
   "metadata": {},
   "outputs": [],
   "source": [
    "def get_mutation_events_from_tree_branches(num_sites_to_construct_tree, isolate_group):\n",
    "\n",
    "    # Load in PHYLOGENY\n",
    "    #########################################################################################################\n",
    "    # We're going to use Biopython's Phylo module to load phylogenetic trees created by Luca\n",
    "    \n",
    "    phylogeny_path = '/n/data1/hms/dbmi/farhat/Roger/homoplasy_project/phylogenies/tree_output_files/phylogeny_lineage_' + isolate_group + '/tree_lineage_' + isolate_group + '_iqtree_FINAL.treefile'\n",
    "\n",
    "    # parses and load tree\n",
    "    tree = Phylo.parse(phylogeny_path , 'newick').next() \n",
    "\n",
    "    # root the tree with the outgroup M. canettii [\"Normally you will want the outgroup to be a monophyletic group, rather than a single taxon.\"]\n",
    "    tree.root_with_outgroup({\"name\":\"canettii\"})\n",
    "\n",
    "    # flip branches so deeper clades are displayed at top\n",
    "    tree.ladderize()\n",
    "\n",
    "    # TERMINAL BRANCHES\n",
    "    #########################################################################################################\n",
    "    # retrieves the terminal nodes of the tree\n",
    "    terminal_nodes = tree.get_terminals()\n",
    "\n",
    "    # Lengths of terminal branches\n",
    "    terminal_branch_length_list = [terminal_nodes[i].branch_length for i in range(0 , len(terminal_nodes))][1:]\n",
    "\n",
    "    # retrieve Sample IDs that were used for this tree\n",
    "    isolate_tags_in_phylogeny = [terminal_nodes[i].name for i in range(0 , len(terminal_nodes))]\n",
    "\n",
    "    # iterate through each branch-length & collect\n",
    "    # (1) number of neutral mutations on each branch\n",
    "    # (2) the chromosomal positions of the mutations \n",
    "    num_mutations_per_terminal_branch_list = []\n",
    "    mutation_positions_across_terminal_branches_list = []\n",
    "\n",
    "    for branch_length_i in terminal_branch_length_list:\n",
    "\n",
    "        num_mutations_per_branch_i, mutation_positions_per_branch_i = num_mutations_on_branch_SNV(branch_length_i, num_sites_to_construct_tree)\n",
    "\n",
    "        num_mutations_per_terminal_branch_list.append(num_mutations_per_branch_i)\n",
    "\n",
    "        mutation_positions_across_terminal_branches_list = mutation_positions_across_terminal_branches_list + list(mutation_positions_per_branch_i)\n",
    "\n",
    "    # series for number of mutations occurring for each branch\n",
    "    tree_branch_index = [ isolate_group + '_T_' + str(i) for i in range(1, len(num_mutations_per_terminal_branch_list)+1)]\n",
    "    num_mutations_per_terminal_branch_series = pd.Series(num_mutations_per_terminal_branch_list, index = tree_branch_index)\n",
    "\n",
    "    # Counter dict for the number of times each chromosomal position is mutated\n",
    "    mutation_events_per_pos_from_terminal_dict = Counter(mutation_positions_across_terminal_branches_list)\n",
    "\n",
    "    # INTERNAL BRANCHES\n",
    "    #########################################################################################################\n",
    "    # retrieves the internal nodes of the tree\n",
    "    internal_nodes = tree.get_nonterminals() \n",
    "\n",
    "    # Lengths of internal branches\n",
    "    internal_branch_length_list = [internal_nodes[i].branch_length for i in range(0 , len(internal_nodes))][2:]\n",
    "\n",
    "    # iterate through each branch-length & collect\n",
    "    # (1) number of neutral mutations on each branch\n",
    "    # (2) the chromosomal positions of the mutations \n",
    "    num_mutations_per_internal_branch_list = []\n",
    "    mutation_positions_across_internal_branches_list = []\n",
    "\n",
    "    for branch_length_i in internal_branch_length_list:\n",
    "\n",
    "        num_mutations_per_branch_i, mutation_positions_per_branch_i = num_mutations_on_branch_SNV(branch_length_i, num_sites_to_construct_tree)\n",
    "\n",
    "        num_mutations_per_internal_branch_list.append(num_mutations_per_branch_i)\n",
    "\n",
    "        mutation_positions_across_internal_branches_list = mutation_positions_across_internal_branches_list + list(mutation_positions_per_branch_i)\n",
    "\n",
    "    # series for number of mutations occurring for each branch\n",
    "    tree_branch_index = [ isolate_group + '_I_' + str(i) for i in range(1, len(num_mutations_per_internal_branch_list)+1)]\n",
    "    num_mutations_per_internal_branch_series = pd.Series(num_mutations_per_internal_branch_list, index = tree_branch_index)\n",
    "\n",
    "    # Counter dict for the number of times each chromosomal position is mutated\n",
    "    mutation_events_per_pos_from_internal_dict = Counter(mutation_positions_across_internal_branches_list)\n",
    "\n",
    "    # ALL BRANCHES\n",
    "    #########################################################################################################\n",
    "    num_mutations_per_branch_series = pd.concat([num_mutations_per_terminal_branch_series, num_mutations_per_internal_branch_series])\n",
    "    mutation_events_per_pos_dict = mutation_events_per_pos_from_terminal_dict + mutation_events_per_pos_from_internal_dict\n",
    "    \n",
    "    return [num_mutations_per_branch_series, mutation_events_per_pos_dict]"
   ]
  },
  {
   "cell_type": "markdown",
   "metadata": {},
   "source": [
    "# [2] SNVs on genome (*just for testing*)"
   ]
  },
  {
   "cell_type": "markdown",
   "metadata": {},
   "source": [
    "## [2.1] Simulate mutation events for each tree and aggregate across trees"
   ]
  },
  {
   "cell_type": "code",
   "execution_count": 5,
   "metadata": {},
   "outputs": [],
   "source": [
    "isolate_group_list = ['1','2','3','4A','4B','4C','5','6']\n",
    "\n",
    "# sites used to construct each tree\n",
    "num_sites_to_construct_tree_dict = {'1':243940.0, '2':243542.0, '3':188741.0, '4A':213804.0, '4B':207271.0, '4C':203590.0, '5':33818.0, '6':36923.0}\n",
    "\n",
    "# length of chromosome\n",
    "chrom_length = 4000000\n",
    "\n",
    "num_mutations_per_branch_series_each_tree_list = []\n",
    "mutation_events_per_pos_dict = Counter()\n",
    "\n",
    "for isolate_group_i in isolate_group_list:\n",
    "\n",
    "    num_mutations_per_branch_series_i, mutation_events_per_pos_dict_i = get_mutation_events_from_tree_branches(num_sites_to_construct_tree_dict[isolate_group_i], isolate_group_i)\n",
    "    \n",
    "    num_mutations_per_branch_series_each_tree_list.append(num_mutations_per_branch_series_i)\n",
    "    mutation_events_per_pos_dict = mutation_events_per_pos_dict + mutation_events_per_pos_dict_i\n",
    "    \n",
    "# concatenate series that holds num of neutral mutations per branch together across all trees\n",
    "num_mutations_per_branch_series =  pd.concat(num_mutations_per_branch_series_each_tree_list)"
   ]
  },
  {
   "cell_type": "markdown",
   "metadata": {},
   "source": [
    "### Distribution of *Number of Neutral Mutations* per branch"
   ]
  },
  {
   "cell_type": "code",
   "execution_count": 6,
   "metadata": {},
   "outputs": [
    {
     "data": {
      "image/png": "[encoded data removed]",
      "text/plain": [
       "<Figure size 432x288 with 1 Axes>"
      ]
     },
     "metadata": {
      "needs_background": "light"
     },
     "output_type": "display_data"
    }
   ],
   "source": [
    "fig, ax = plt.subplots()\n",
    "ax.hist(num_mutations_per_branch_series, bins = 30, rwidth = 0.9, color = 'k')\n",
    "plt.xlabel('Number of Neutral Mutations')\n",
    "plt.ylabel('Number of Branches')\n",
    "ax.set_yscale('log')\n",
    "plt.show()"
   ]
  },
  {
   "cell_type": "markdown",
   "metadata": {},
   "source": [
    "### Distribution of *Number of Mutation Events* (Homoplasy Score) for each Mutant Allele"
   ]
  },
  {
   "cell_type": "code",
   "execution_count": 7,
   "metadata": {},
   "outputs": [
    {
     "data": {
      "text/plain": [
       "382233     7\n",
       "108216     6\n",
       "1636020    6\n",
       "2444741    6\n",
       "701732     6\n",
       "1368553    6\n",
       "3267951    6\n",
       "3434720    6\n",
       "46496      6\n",
       "585518     6\n",
       "dtype: int64"
      ]
     },
     "execution_count": 7,
     "metadata": {},
     "output_type": "execute_result"
    }
   ],
   "source": [
    "mutation_events_per_pos_series = pd.Series(mutation_events_per_pos_dict)\n",
    "mutation_events_per_pos_series.sort_values(ascending = False, inplace = True)\n",
    "mutation_events_per_pos_series.head(n = 10)"
   ]
  },
  {
   "cell_type": "code",
   "execution_count": 8,
   "metadata": {},
   "outputs": [
    {
     "data": {
      "text/plain": [
       "1    1121448\n",
       "2     240820\n",
       "3      34878\n",
       "4       3603\n",
       "5        294\n",
       "6         26\n",
       "7          1\n",
       "dtype: int64"
      ]
     },
     "execution_count": 8,
     "metadata": {},
     "output_type": "execute_result"
    }
   ],
   "source": [
    "homoplasy_score_per_mutation = pd.Series(Counter(mutation_events_per_pos_series))\n",
    "homoplasy_score_per_mutation"
   ]
  },
  {
   "cell_type": "code",
   "execution_count": 9,
   "metadata": {},
   "outputs": [
    {
     "data": {
      "image/png": "[encoded data removed]",
      "text/plain": [
       "<Figure size 432x288 with 1 Axes>"
      ]
     },
     "metadata": {
      "needs_background": "light"
     },
     "output_type": "display_data"
    }
   ],
   "source": [
    "fig, ax = plt.subplots()\n",
    "ax.hist(mutation_events_per_pos_series, bins = range(1, max(mutation_events_per_pos_series)+2), rwidth = 0.8, align='left', color = 'k')\n",
    "homoplasy_score_per_mutation = pd.Series(Counter(mutation_events_per_pos_series))\n",
    "plt.plot(homoplasy_score_per_mutation.index, homoplasy_score_per_mutation.values, color = 'xkcd:bright green', linewidth = 2.0)\n",
    "plt.xlabel('Number of Mutation Events\\n(Homoplasy Score)')\n",
    "plt.ylabel('Number of Mutant Alleles')\n",
    "ax.set_yscale('log')\n",
    "plt.show()"
   ]
  },
  {
   "cell_type": "code",
   "execution_count": 10,
   "metadata": {},
   "outputs": [
    {
     "data": {
      "image/png": "[encoded data removed]",
      "text/plain": [
       "<Figure size 432x288 with 1 Axes>"
      ]
     },
     "metadata": {
      "needs_background": "light"
     },
     "output_type": "display_data"
    }
   ],
   "source": [
    "fig, ax = plt.subplots()\n",
    "plt.plot(homoplasy_score_per_mutation.index, homoplasy_score_per_mutation.values, color = '0.7', alpha = 0.8)\n",
    "plt.xlabel('Number of Mutation Events\\n(Homoplasy Score)')\n",
    "plt.ylabel('Number of Mutant Alleles')\n",
    "ax.set_yscale('log')\n",
    "plt.show()"
   ]
  },
  {
   "cell_type": "markdown",
   "metadata": {},
   "source": [
    "## [3] Re-run simulation N times"
   ]
  },
  {
   "cell_type": "code",
   "execution_count": 14,
   "metadata": {},
   "outputs": [],
   "source": [
    "num_sims = 100\n",
    "homoplasy_score_distribution_per_run = {}\n",
    "for sim_i in range(1, num_sims+1):\n",
    "\n",
    "    mutation_events_per_pos_dict = Counter()\n",
    "\n",
    "    for isolate_group_i in isolate_group_list:\n",
    "\n",
    "        num_mutations_per_branch_series_i, mutation_events_per_pos_dict_i = get_mutation_events_from_tree_branches(num_sites_to_construct_tree_dict[isolate_group_i], isolate_group_i)\n",
    "        mutation_events_per_pos_dict = mutation_events_per_pos_dict + mutation_events_per_pos_dict_i\n",
    "\n",
    "    # distribution of homoplasy score across all mutant alleles\n",
    "    mutation_events_per_pos_series = pd.Series(mutation_events_per_pos_dict)\n",
    "    homoplasy_score_per_mutation = pd.Series(Counter(mutation_events_per_pos_series))\n",
    "\n",
    "    # store distribution of homoplasy scores in dict\n",
    "    homoplasy_score_distribution_per_run['sim_' + str(sim_i)] = homoplasy_score_per_mutation"
   ]
  },
  {
   "cell_type": "markdown",
   "metadata": {},
   "source": [
    "### Save results of simulations"
   ]
  },
  {
   "cell_type": "code",
   "execution_count": 17,
   "metadata": {},
   "outputs": [],
   "source": [
    "with open('/n/data1/hms/dbmi/farhat/Roger/homoplasy_project/pickled_files/SNV_homoplasy_score_distribution_simluation_counts.pickle', 'wb') as handle:\n",
    "    pickle.dump(homoplasy_score_distribution_per_run, handle, protocol=pickle.HIGHEST_PROTOCOL)"
   ]
  },
  {
   "cell_type": "markdown",
   "metadata": {},
   "source": [
    "To load dictionary of **homoplasy score** counts for each simulation"
   ]
  },
  {
   "cell_type": "code",
   "execution_count": 4,
   "metadata": {},
   "outputs": [],
   "source": [
    "with open('/n/data1/hms/dbmi/farhat/Roger/homoplasy_project/pickled_files/SNV_homoplasy_score_distribution_simluation_counts.pickle', 'rb') as handle:\n",
    "    homoplasy_score_distribution_per_run = pickle.load(handle)"
   ]
  },
  {
   "cell_type": "markdown",
   "metadata": {},
   "source": [
    "### Plot Homoplasy Score distribution from each simulation"
   ]
  },
  {
   "cell_type": "code",
   "execution_count": 5,
   "metadata": {},
   "outputs": [
    {
     "data": {
      "image/png": "[encoded data removed]",
      "text/plain": [
       "<Figure size 648x396 with 1 Axes>"
      ]
     },
     "metadata": {
      "needs_background": "light"
     },
     "output_type": "display_data"
    }
   ],
   "source": [
    "fig, ax = plt.subplots()\n",
    "for sim_i in homoplasy_score_distribution_per_run.keys():\n",
    "\n",
    "    plt.plot(homoplasy_score_distribution_per_run[sim_i].index, homoplasy_score_distribution_per_run[sim_i].values, color = '0.1', alpha = 0.5, linewidth = 0.5)\n",
    "\n",
    "plt.xlabel('Number of Mutation Events\\n(Homoplasy Score)')\n",
    "plt.ylabel('Number of Mutant Alleles')\n",
    "plt.title('100 Simulations for SNVs')\n",
    "ax.set_yscale('log')\n",
    "fig = plt.gcf()\n",
    "fig.set_size_inches(9.0, 5.5)\n",
    "fig.tight_layout()\n",
    "plt.show()"
   ]
  },
  {
   "cell_type": "markdown",
   "metadata": {},
   "source": [
    "### *Functions* for Boxplot"
   ]
  },
  {
   "cell_type": "code",
   "execution_count": 6,
   "metadata": {},
   "outputs": [],
   "source": [
    "from pylab import plot, show, savefig, xlim, figure, hold, ylim, legend, boxplot, setp, axes\n",
    "\n",
    "linewidth_for_box = 1.5\n",
    "\n",
    "# function for setting the colors of the box plots pairs\n",
    "def setBoxColors(bp , color):\n",
    "    setp(bp['boxes'][0], color=color , linewidth = linewidth_for_box)\n",
    "    setp(bp['caps'][0], color=color , linewidth = linewidth_for_box)\n",
    "    setp(bp['caps'][1], color=color , linewidth = linewidth_for_box)\n",
    "    setp(bp['whiskers'][0], color=color , linewidth = linewidth_for_box)\n",
    "    setp(bp['whiskers'][1], color=color , linewidth = linewidth_for_box)\n",
    "    setp(bp['fliers'][0], color=color)\n",
    "    setp(bp['medians'][0], color='k' , linewidth = 1.5)\n",
    "    bp['fliers'][0].set_markerfacecolor('black')\n",
    "    bp['fliers'][0].set_markeredgewidth(0.35)\n",
    "    bp['fliers'][0].set_markersize(3.65)\n",
    "    bp['fliers'][0].set_markeredgecolor('white')\n",
    "    bp['fliers'][0].set_alpha(0.85)\n",
    "    \n",
    "def plot_prop_muts_GE_homoplasy_score(sim_prop_values, x_pos, ax):\n",
    "    \n",
    "    #make boxplot\n",
    "    bp = ax.boxplot(sim_prop_values , positions = [ind[x_pos]], widths = box_width)\n",
    "    setBoxColors(bp , 'k')\n",
    "    \n",
    "    return round(np.median(sim_prop_values), 4)"
   ]
  },
  {
   "cell_type": "markdown",
   "metadata": {},
   "source": [
    "### Plot cumulative proportion of mutations with homoplasy score $\\ge x$ (boxplot)"
   ]
  },
  {
   "cell_type": "code",
   "execution_count": 7,
   "metadata": {},
   "outputs": [],
   "source": [
    "proportion_greater_than_x_dict = {}\n",
    "\n",
    "#iterate through homoplasy score cut-off\n",
    "for x in np.arange(1, 10):\n",
    "\n",
    "    proportion_homoplasy_scores_greater_than_x_for_each_sim = []\n",
    "    #iterate through each simulation\n",
    "    for sim_i in homoplasy_score_distribution_per_run.keys():\n",
    "    \n",
    "        proportion_homoplasy_scores_greater_than_x_for_each_sim.append(float((homoplasy_score_distribution_per_run[sim_i][homoplasy_score_distribution_per_run[sim_i].index >= x].sum())) / float((homoplasy_score_distribution_per_run[sim_i].sum())))\n",
    "        \n",
    "    proportion_greater_than_x_dict[x] = proportion_homoplasy_scores_greater_than_x_for_each_sim "
   ]
  },
  {
   "cell_type": "code",
   "execution_count": 8,
   "metadata": {},
   "outputs": [
    {
     "name": "stderr",
     "output_type": "stream",
     "text": [
      "/home/rv76/anaconda2/lib/python2.7/site-packages/matplotlib/cbook/deprecation.py:107: MatplotlibDeprecationWarning: Passing one of 'on', 'true', 'off', 'false' as a boolean is deprecated; use an actual boolean (True/False) instead.\n",
      "  warnings.warn(message, mplDeprecation, stacklevel=1)\n"
     ]
    },
    {
     "data": {
      "image/png": "[encoded data removed]",
      "text/plain": [
       "<Figure size 648x396 with 1 Axes>"
      ]
     },
     "metadata": {
      "needs_background": "light"
     },
     "output_type": "display_data"
    }
   ],
   "source": [
    "fig , ax = plt.subplots()\n",
    "box_width = 0.8\n",
    "ind = np.arange(1, 10)\n",
    "\n",
    "#bottom plot\n",
    "median_props = []\n",
    "x_pos = 0\n",
    "for homoplasy_score_i in ind:\n",
    "\n",
    "    #plot boxplot for lineage & store the number of isolates in sample\n",
    "    median_prop_i = plot_prop_muts_GE_homoplasy_score(proportion_greater_than_x_dict[homoplasy_score_i] , x_pos, ax)\n",
    "    median_props.append(median_prop_i)\n",
    "    x_pos += 1\n",
    "\n",
    "ax.set_xlim(0.5 , 9.5) #x-axis\n",
    "ax.set_ylim(-0.02 , 1.02) #y-axis\n",
    "#ax.set_yscale('log')\n",
    "\n",
    "ax.set_xticks(ind)\n",
    "ax.set_xticklabels([], rotation='horizontal', fontsize = 10)\n",
    "x_labels = [str(homoplasy_score_i) + '\\n (M=' + str(med_prop) + ')' for homoplasy_score_i,med_prop in zip(ind,median_props)]\n",
    "ax.set_xticklabels(x_labels, rotation='horizontal', fontsize = 10)\n",
    "ax.grid(False)\n",
    "ax.set_ylabel('Cumulative Prop. of Mutant Alleles >= Homoplasy Score X', fontsize = 10, color = 'k', labelpad = 1)\n",
    "ax.set_xlabel('Homoplasy Score X', fontsize = 10, color = 'k', labelpad = 1)\n",
    "ax.set_title('100 Simulations for SNVs')\n",
    "\n",
    "ax.spines['right'].set_visible(False)\n",
    "ax.spines['top'].set_visible(False)\n",
    "\n",
    "ax.tick_params(\n",
    "    axis='x',          # changes apply to the x-axis\n",
    "    which='both',      # both major and minor ticks are affected\n",
    "    bottom='off',      # ticks along the bottom edge are off\n",
    "    top='off',         # ticks along the top edge are off\n",
    "    labelbottom='on') # labels along the bottom edge are off\n",
    "\n",
    "ax.tick_params(\n",
    "    axis='y',          # changes apply to the x-axis\n",
    "    which='both',      # both major and minor ticks are affected\n",
    "    left='off',      # ticks along the bottom edge are off\n",
    "    right='off',         # ticks along the top edge are off\n",
    "    labelleft='on') # labels along the bottom edge are off\n",
    "\n",
    "ax.tick_params(colors = 'k', which = 'both')\n",
    "\n",
    "fig = plt.gcf()\n",
    "fig.set_size_inches(9.0, 5.5)\n",
    "fig.tight_layout()\n",
    "plt.show()"
   ]
  },
  {
   "cell_type": "markdown",
   "metadata": {},
   "source": [
    "# [B] FRAMESHIFTS IN HOMOPOLYMERIC TRACTS"
   ]
  },
  {
   "cell_type": "markdown",
   "metadata": {},
   "source": [
    "# [1] *Functions* to get mutation events from branches given a tree"
   ]
  },
  {
   "cell_type": "code",
   "execution_count": 3,
   "metadata": {},
   "outputs": [],
   "source": [
    "def num_mutations_on_branch_frameshift_HT(branch_length_i, num_sites_to_construct_tree):\n",
    "    \n",
    "    '''\n",
    "    This function takes a branch length as INPUT and OUTPUTs the number of neutral mutations that occur on this branch length,\n",
    "    in a homopolymeric tract (HT) by drawing from a poisson distribution.\n",
    "    '''\n",
    "    \n",
    "    # get molecular clock rate (mu_i) to convert branch length into years\n",
    "    mu_i = np.random.uniform(low=0.3, high=0.6)\n",
    "\n",
    "    # get t_i, the branch length in years\n",
    "    t_i = (branch_length_i * num_sites_to_construct_tree) / mu_i\n",
    "\n",
    "    # get the mutation rate for neutral mutations (nu_i) to calculate lambda\n",
    "    # pull from an exponential distribution (with mean = 10hrs) to \"add\" to the generation time\n",
    "    generation_time_buffer = np.random.exponential(scale = 10)\n",
    "    \n",
    "    # use time buffer to get the number of generations per day\n",
    "    num_generations_per_day = 24.0/(24.0+generation_time_buffer)\n",
    "    \n",
    "    # based on old fluctuation analysis calculations\n",
    "    #lower_bound_mut_rate = (1.6e-7)*365*0.74*num_generations_per_day\n",
    "    #upper_bound_mut_rate = (4.49e-7)*365*0.74*num_generations_per_day\n",
    "    \n",
    "    lower_bound_mut_rate = (2.18e-8)*365*num_generations_per_day\n",
    "    upper_bound_mut_rate = (4.09e-8)*365*num_generations_per_day\n",
    "    \n",
    "    nu_i = np.random.uniform(low=lower_bound_mut_rate, high=upper_bound_mut_rate)\n",
    "\n",
    "    # calculate lambda, parameter for poisson distribution\n",
    "    lambda_i = t_i * nu_i\n",
    "\n",
    "    # draw from poisson distribution to get the number of neutral mutations that occurred on this branch\n",
    "    num_mutations_i = np.random.poisson(lam=lambda_i)\n",
    "    \n",
    "    # decide the sign of the mutations (+ for ins, - for del) from bernoulli trial\n",
    "    trial_for_sign = np.random.binomial(1, 0.5)\n",
    "    if trial_for_sign == 1:\n",
    "        sign_mult = 1\n",
    "    elif trial_for_sign == 0:\n",
    "        sign_mult = -1\n",
    "    \n",
    "    # determine if insertion or deletion with sign\n",
    "    num_mutations_i = num_mutations_i * sign_mult\n",
    "    \n",
    "    return num_mutations_i"
   ]
  },
  {
   "cell_type": "code",
   "execution_count": 4,
   "metadata": {},
   "outputs": [],
   "source": [
    "def terminal_node_frameshifted_in_HT(terminal_node_i, branch_ID_num_mutations_dict, tree):\n",
    "    \n",
    "    '''\n",
    "    This function takes a terminal node (isolate) label as INPUT, retrieves the branch lengths for \n",
    "    the path corresponding between the terminal node & root, retreives the number of frameshift mutations\n",
    "    that were simulated to occur in each branch in this path and returns the sum of all frameshift mutations that occur along\n",
    "    this path. It OUTPUTs the number of mutations that occured in the path between root & terminal node.\n",
    "    '''\n",
    "\n",
    "    # get the clades between root & terminal node - use 'get_path' method\n",
    "    # List the clades directly between the tree root (or current clade) and the given target.\n",
    "    # Returns a list of all clade objects along this path, ending with the given target, but excluding the root clade.\n",
    "    clade_list_path_btwn_root_terminal_i = tree.get_path(terminal_node_i)\n",
    "\n",
    "    # get the branch IDs for the path branches between root & terminal node\n",
    "    # skip first clade (start from 1) because first branch is the MTB MRCA to the Root (M. canettii)\n",
    "    branch_ID_list_path_btwn_root_terminal_i = [clade_list_path_btwn_root_terminal_i[i].name for i in range(1 , len(clade_list_path_btwn_root_terminal_i))]\n",
    "\n",
    "    # get number of mutations that occur in HT on each branch in path between root & terminal node (from mutations already assigned to each branch)\n",
    "    num_mutations_vector_path_btwn_root_terminal_i = np.array([branch_ID_num_mutations_dict[branch_i] for branch_i in branch_ID_list_path_btwn_root_terminal_i])\n",
    "\n",
    "    # get the sum of all mutations that occur in HT along path between root & terminal node\n",
    "    num_mutations_path_btwn_root_terminal_i = num_mutations_vector_path_btwn_root_terminal_i.sum()\n",
    "\n",
    "    return num_mutations_path_btwn_root_terminal_i"
   ]
  },
  {
   "cell_type": "code",
   "execution_count": 5,
   "metadata": {},
   "outputs": [],
   "source": [
    "def simulate_INDEL_genotypes_at_tips(isolate_group, num_sites_to_construct_tree):\n",
    "\n",
    "    '''\n",
    "    This function loads a phylogeny, retrieves the ID and length of each (internal & terminal) branch in the tree\n",
    "    and simulates a number of frameshift mutations that occurred for each branch in a homopolymeric tract (HT). \n",
    "    Then assigns each terminal node a 1 if frameshifted and 0 if not frameshifted depending on the number of \n",
    "    mutations in the path between each tip & root. OUTPUT: (1) boolean vector of 0's and 1's corresponding to simulated \n",
    "    genotypes for tips of tree and (2) the number of mutations that occurred along each path.\n",
    "    '''\n",
    "\n",
    "    # LOAD IN PHYLOGENY\n",
    "    #########################################################################################################\n",
    "    # We're going to use Biopython's Phylo module to load phylogenetic trees created by Luca\n",
    "\n",
    "    phylogeny_path = '/n/data1/hms/dbmi/farhat/Roger/homoplasy_project/rolling_DB_scrape/Genotypes_Filtered_2/SNP_ancestral_reconstruction/lineage' + isolate_group + '/SNPPar_output/L' + isolate_group + 'node_labelled_newick.tre'\n",
    "\n",
    "    # parses and load tree\n",
    "    tree = Phylo.parse(phylogeny_path , 'newick').next() \n",
    "\n",
    "    # root the tree with the outgroup M. canettii [\"Normally you will want the outgroup to be a monophyletic group, rather than a single taxon.\"]\n",
    "    tree.root_with_outgroup({\"name\":\"canettii\"})\n",
    "\n",
    "    # flip branches so deeper clades are displayed at top\n",
    "    tree.ladderize()\n",
    "\n",
    "    # TERMINAL BRANCHES\n",
    "    #########################################################################################################\n",
    "    # retrieves the terminal nodes of the tree\n",
    "    terminal_nodes = tree.get_terminals()\n",
    "\n",
    "    # retrieve Sample IDs that were used for this tree, skip first isolate (start from 1) because first isolate is the Root (M. canettii)\n",
    "    isolate_tags_in_phylogeny = [terminal_nodes[i].name for i in range(1 , len(terminal_nodes))]\n",
    "\n",
    "    # Lengths of terminal branches\n",
    "    terminal_branch_length_list = [terminal_nodes[i].branch_length for i in range(0 , len(terminal_nodes))][1:]\n",
    "\n",
    "    # Isolate IDs for terminal branches\n",
    "    terminal_branch_ID_list = [terminal_nodes[i].name for i in range(0 , len(terminal_nodes))][1:]\n",
    "\n",
    "    # LOAD & FILTER INDEL ANNOTATION\n",
    "    #########################################################################################################\n",
    "    #load isolate annotation file (columns of Genotype Matrix)\n",
    "    isolate_annotation_DF = pd.read_pickle('/n/data1/hms/dbmi/farhat/Roger/homoplasy_project/rolling_DB_scrape_indels/Genotypes_Filtered_2/genotypes_isolate_annotation.pkl')\n",
    "\n",
    "    # Find the intersection of isolate tags from Phylogeny & Genotypes Matrix\n",
    "    isolate_tags_to_keep = list( set(isolate_annotation_DF.isolate_ID).intersection( set(isolate_tags_in_phylogeny) ) )\n",
    "\n",
    "    # Subset terminal branches from phylogeny to those included in genotype matrix\n",
    "    isolate_tags_in_phylogeny_and_matrix_ordered = [isolate_tag for isolate_tag in isolate_tags_in_phylogeny if isolate_tag in isolate_tags_to_keep]\n",
    "\n",
    "    # Subset isolate annotation to only those isolates that are included in phylogeny\n",
    "    isolates_to_keep_filter = [isolate_tag in isolate_tags_to_keep for isolate_tag in isolate_annotation_DF.isolate_ID]\n",
    "\n",
    "    # filter isolate annotation df\n",
    "    isolate_annotation_DF = isolate_annotation_DF[isolates_to_keep_filter]\n",
    "    isolate_annotation_DF.reset_index(drop = True , inplace = True)\n",
    "\n",
    "    # Re-order the isolates according to the order of the terminal branches of the phylogeny\n",
    "    terminal_branch_isolate_order = []\n",
    "\n",
    "    for isolate_ID in isolate_tags_in_phylogeny_and_matrix_ordered:\n",
    "\n",
    "        isolate_ID_index = isolate_annotation_DF[isolate_annotation_DF.isolate_ID == isolate_ID].index[0]\n",
    "        terminal_branch_isolate_order.append(isolate_ID_index)\n",
    "\n",
    "    # Re-order the rows of the Isolate Annotation DF\n",
    "    isolate_annotation_DF = isolate_annotation_DF.iloc[terminal_branch_isolate_order , :]\n",
    "\n",
    "    #reset the index\n",
    "    isolate_annotation_DF.reset_index(inplace = True, drop = True)\n",
    "\n",
    "    # INTERNAL BRANCHES\n",
    "    #########################################################################################################\n",
    "    # retrieves the internal nodes of the tree\n",
    "    internal_nodes = tree.get_nonterminals() \n",
    "\n",
    "    # Lengths of internal branches\n",
    "    internal_branch_length_list = [internal_nodes[i].branch_length for i in range(0 , len(internal_nodes))][2:]\n",
    "\n",
    "    # Isolate IDs for internal branches\n",
    "    internal_branch_ID_list = [internal_nodes[i].name for i in range(0 , len(internal_nodes))][2:]\n",
    "\n",
    "    # AGGREGATE BRANCH LENGTHS TOGETHER ALONG WITH IDS\n",
    "    #########################################################################################################\n",
    "    branch_ID_list = terminal_branch_ID_list + internal_branch_ID_list # keys of dictionary\n",
    "    branch_length_list = terminal_branch_length_list + internal_branch_length_list #values of dictionary\n",
    "\n",
    "    branch_ID_length_dict = dict(zip(branch_ID_list, branch_length_list))\n",
    "\n",
    "    # SIMULATE A NUMBER OF FRAMESHIFTS ON EACH BRANCH\n",
    "    #########################################################################################################\n",
    "    branch_num_sim_mutations_list = []\n",
    "    for branch_i in branch_ID_length_dict.keys():\n",
    "        branch_num_sim_mutations_list.append(num_mutations_on_branch_frameshift_HT(branch_ID_length_dict[branch_i], num_sites_to_construct_tree))\n",
    "\n",
    "    branch_ID_num_mutations_dict = dict(zip(branch_ID_list, branch_num_sim_mutations_list))\n",
    "\n",
    "    # USE PATHS BETWEEN ROOT & TERMINAL NODES TO DETERMINE WHETHER EACH TERMINAL HAS FRAMESHIFT IN HT\n",
    "    #########################################################################################################\n",
    "    num_mutations_root_terminal_paths = [] # this list holds the number of frameshifts that occur along each terminal/root path also the genotypes of the variant found at the tips\n",
    "\n",
    "    for terminal_node_i in isolate_tags_in_phylogeny:\n",
    "\n",
    "        num_mutations_root_terminal_path_i = terminal_node_frameshifted_in_HT(terminal_node_i, branch_ID_num_mutations_dict, tree)\n",
    "        num_mutations_root_terminal_paths.append(num_mutations_root_terminal_path_i)\n",
    "\n",
    "    # convert list to arrays\n",
    "    num_mutations_root_terminal_paths = np.array(num_mutations_root_terminal_paths)\n",
    "\n",
    "    return [num_mutations_root_terminal_paths, isolate_annotation_DF, tree]"
   ]
  },
  {
   "cell_type": "code",
   "execution_count": 6,
   "metadata": {},
   "outputs": [],
   "source": [
    "def calc_homoplasy_score_for_INDEL(isolate_annotation_DF, INDEL_i_genotypes, spacer_length, tree, INDEL_i_minor_allele):\n",
    "    \n",
    "    '''\n",
    "    INPUT: (1) filtered isolate annotation DF for a specific tree\n",
    "           (2) simulated genotypes for frameshift INDEL - vector of 0's and 1's\n",
    "           (3) # length of spacer to define 'blocks' of allele types\n",
    "           (4) INDEL i minor allele (+1, +2, +3, ...)\n",
    "    This function calculates a homoplasy score using TopDis method.\n",
    "    ''' \n",
    "    \n",
    "    INDEL_i_major_allele = 0\n",
    "\n",
    "    #> Find all the subsets of continuous minor alleles within the terminal brances (including 9's)\n",
    "    #> Create a boolean array that is *True* if INDEL_i was called as the minor allele or missing data for the isolate, and *False* if INDEL_i was called at the major allele\n",
    "    INDEL_i_genotypes_bool = INDEL_i_genotypes != INDEL_i_major_allele\n",
    "\n",
    "    #> Return the indices of the array where the elements are marked *True*\n",
    "    INDEL_i_genotypes_indices_with_minor_allele = np.arange(0 , len(INDEL_i_genotypes_bool))[INDEL_i_genotypes_bool]\n",
    "\n",
    "    #1. run through the indices of the isolates with the minor allele\n",
    "    #2. for each consective *block* of isolates with the minor allele store the isolate ID indices in a seperate list\n",
    "    #3. pull the genotypes from the indices and make sure there is at least a single isolate with the minor allele (it's not all just 9's)\n",
    "    #4. for each block of Isolate indices, retrieve isolate IDs from annotation DF\n",
    "    \n",
    "    ########################################################################################################################\n",
    "    isolate_blocks_with_minor_allele = []\n",
    "\n",
    "    #if consecutive isolates with minor allele have at least (spacer_length) isolates with major allele (or other minor allele) between them\n",
    "    isolate_block_w_minor_allele_indices = []\n",
    "    for i in np.arange(0 , len(INDEL_i_genotypes_indices_with_minor_allele)-1):\n",
    "\n",
    "        space_btwn_genotype_indices = INDEL_i_genotypes_indices_with_minor_allele[i+1] - INDEL_i_genotypes_indices_with_minor_allele[i]\n",
    "        if space_btwn_genotype_indices <= spacer_length:\n",
    "\n",
    "            isolate_block_w_minor_allele_indices.append(INDEL_i_genotypes_indices_with_minor_allele[i])\n",
    "\n",
    "            #check if second to last index\n",
    "            if i+1 == (len(INDEL_i_genotypes_indices_with_minor_allele)-1):\n",
    "\n",
    "                isolate_block_w_minor_allele_indices.append(INDEL_i_genotypes_indices_with_minor_allele[i+1])\n",
    "\n",
    "                #######################################################\n",
    "                #INDEL genotypes for isolates\n",
    "                isolate_block_genotypes = INDEL_i_genotypes[isolate_block_w_minor_allele_indices]\n",
    "\n",
    "                #check to see that at least 1 isolate had a good call for the minor allele within the block\n",
    "                if INDEL_i_minor_allele in isolate_block_genotypes:\n",
    "\n",
    "                    #pull the isolate IDs for each index\n",
    "                    isolate_block_w_minor_allele_IDs = [{'name':isolate_annotation_DF.loc[isolate_index , 'isolate_ID']} for isolate_index in isolate_block_w_minor_allele_indices]\n",
    "\n",
    "                    #append to list of blocks of isolates w/ minor allele\n",
    "                    isolate_blocks_with_minor_allele.append(isolate_block_w_minor_allele_IDs)\n",
    "                #######################################################\n",
    "\n",
    "        elif space_btwn_genotype_indices > spacer_length:\n",
    "\n",
    "            isolate_block_w_minor_allele_indices.append(INDEL_i_genotypes_indices_with_minor_allele[i])\n",
    "\n",
    "            #######################################################\n",
    "            #INDEL genotypes for isolates\n",
    "            isolate_block_genotypes = INDEL_i_genotypes[isolate_block_w_minor_allele_indices]\n",
    "\n",
    "            #check to see that at least 1 isolate had a good call for the minor allele within the block\n",
    "            if INDEL_i_minor_allele in isolate_block_genotypes:\n",
    "\n",
    "                #pull the isolate IDs for each index\n",
    "                isolate_block_w_minor_allele_IDs = [{'name':isolate_annotation_DF.loc[isolate_index , 'isolate_ID']} for isolate_index in isolate_block_w_minor_allele_indices]\n",
    "\n",
    "                #append to list of blocks of isolates w/ minor allele\n",
    "                isolate_blocks_with_minor_allele.append(isolate_block_w_minor_allele_IDs)\n",
    "            #######################################################\n",
    "\n",
    "            isolate_block_w_minor_allele_indices = []\n",
    "\n",
    "            #check if second to last index\n",
    "            if i+1 == (len(INDEL_i_genotypes_indices_with_minor_allele)-1):\n",
    "\n",
    "                isolate_block_w_minor_allele_indices.append(INDEL_i_genotypes_indices_with_minor_allele[i+1])\n",
    "\n",
    "                #######################################################\n",
    "                #INDEL genotypes for isolates\n",
    "                isolate_block_genotypes = INDEL_i_genotypes[isolate_block_w_minor_allele_indices]\n",
    "\n",
    "                #check to see that at least 1 isolate had a good call for the minor allele within the block\n",
    "                if INDEL_i_minor_allele in isolate_block_genotypes:\n",
    "\n",
    "                    #pull the isolate IDs for each index\n",
    "                    isolate_block_w_minor_allele_IDs = [{'name':isolate_annotation_DF.loc[isolate_index , 'isolate_ID']} for isolate_index in isolate_block_w_minor_allele_indices]\n",
    "\n",
    "                    #append to list of blocks of isolates w/ minor allele\n",
    "                    isolate_blocks_with_minor_allele.append(isolate_block_w_minor_allele_IDs)\n",
    "                #######################################################\n",
    "    ########################################################################################################################\n",
    "    \n",
    "    #> Find the MRCA clade of each block of isolates\n",
    "    isolate_block_MRCAs = []\n",
    "    for isolate_block_i_with_minor_allele in isolate_blocks_with_minor_allele:\n",
    "\n",
    "        #[\"Most recent common ancestor (clade) of all the given targets.\"]\n",
    "        MRCA_of_children = tree.common_ancestor(isolate_block_i_with_minor_allele)\n",
    "        isolate_block_MRCAs.append(MRCA_of_children)\n",
    "\n",
    "    #> The resulting *homoplasy score* is equal to the number of blocks of isolates (how many times the mutation arose in the phylogeny) ### weighted by the average pairwise distance between the MRCAs for all of the blocks of isolates\n",
    "    #check to see that there is at least 1 block (minor allele arose at least once on phylogeny)\n",
    "    if len(isolate_block_MRCAs) >= 1:\n",
    "        INDEL_i_homoplasy_score = float(len(isolate_block_MRCAs))\n",
    "    elif len(isolate_block_MRCAs) == 0:\n",
    "        INDEL_i_homoplasy_score = 0.0\n",
    "\n",
    "    return INDEL_i_homoplasy_score"
   ]
  },
  {
   "cell_type": "markdown",
   "metadata": {},
   "source": [
    "## [2] Frameshifts in a HT (*just for testing*)"
   ]
  },
  {
   "cell_type": "code",
   "execution_count": null,
   "metadata": {},
   "outputs": [],
   "source": [
    "isolate_group_list = ['1','2','3','4A','4B','4C','5','6']\n",
    "\n",
    "# sites used to construct each tree\n",
    "num_sites_to_construct_tree_dict = {'1':243940.0, '2':243542.0, '3':188741.0, '4A':213804.0, '4B':207271.0, '4C':203590.0, '5':33818.0, '6':36923.0}\n",
    "\n",
    "distribution_of_variant_types_along_each_path_per_tree_list = []\n",
    "\n",
    "#store data structures to calculate homoplasy score later\n",
    "simulated_muts_genotypes_tree_i_dict = {}\n",
    "isolate_annotation_tree_i_DF_dict = {}\n",
    "tree_i_dict = {}\n",
    "for isolate_group_i in isolate_group_list:\n",
    "\n",
    "    # get simulated genotypes for tips of tree\n",
    "    number_muts_between_tips_and_root_tree_i, isolate_annotation_tree_i_DF, tree_i = simulate_INDEL_genotypes_at_tips(isolate_group_i, num_sites_to_construct_tree_dict[isolate_group_i])\n",
    "    \n",
    "    # store the distribution of the number of each \"variant\" found at the tips (+1, +2, +3, ...)\n",
    "    distribution_of_variant_types_along_each_path_per_tree_list.append(number_muts_between_tips_and_root_tree_i)\n",
    "    \n",
    "    # store genotypes at types, isolate annotation & tree for each isolate group for homoplasy score calculation later\n",
    "    simulated_muts_genotypes_tree_i_dict[isolate_group_i] = number_muts_between_tips_and_root_tree_i\n",
    "    isolate_annotation_tree_i_DF_dict[isolate_group_i] = isolate_annotation_tree_i_DF\n",
    "    tree_i_dict[isolate_group_i] = tree_i\n",
    "\n",
    "distribution_of_variant_types_across_trees = np.concatenate(distribution_of_variant_types_along_each_path_per_tree_list)\n",
    "variant_types_list = np.sort(np.array(list(set(distribution_of_variant_types_across_trees)))) #unique variant genotypes (+1, +2, +3, ...) appearing in this simulation\n",
    "variant_types_list = variant_types_list[variant_types_list != 0]"
   ]
  },
  {
   "cell_type": "code",
   "execution_count": 9,
   "metadata": {},
   "outputs": [
    {
     "data": {
      "text/plain": [
       "array([-3, -2, -1,  1,  2])"
      ]
     },
     "execution_count": 9,
     "metadata": {},
     "output_type": "execute_result"
    }
   ],
   "source": [
    "variant_types_list"
   ]
  },
  {
   "cell_type": "code",
   "execution_count": 10,
   "metadata": {},
   "outputs": [
    {
     "data": {
      "text/plain": [
       "Counter({-3: 116, -2: 65, -1: 2106, 0: 26480, 1: 2560, 2: 100})"
      ]
     },
     "execution_count": 10,
     "metadata": {},
     "output_type": "execute_result"
    }
   ],
   "source": [
    "Counter(distribution_of_variant_types_across_trees)"
   ]
  },
  {
   "cell_type": "code",
   "execution_count": 11,
   "metadata": {},
   "outputs": [],
   "source": [
    "# parameter for TopDis\n",
    "spacer_length = 4\n",
    "\n",
    "# iterate through each type of variant (+1, +2, +3, ...)\n",
    "homoplasy_score_per_variant_genotype = {}\n",
    "for variant_genotype_i in variant_types_list:\n",
    "    \n",
    "    # iterate through each tree\n",
    "    homoplasy_score_per_tree_list = []\n",
    "    \n",
    "    for isolate_group_i in isolate_group_list:\n",
    "\n",
    "        # get simulated genotypes for tips of tree\n",
    "        simulated_muts_genotypes_tree_i = simulated_muts_genotypes_tree_i_dict[isolate_group_i]\n",
    "        isolate_annotation_tree_i_DF = isolate_annotation_tree_i_DF_dict[isolate_group_i]\n",
    "        tree_i = tree_i_dict[isolate_group_i]\n",
    "\n",
    "        # calculate homoplasy score of simulated genotypes using TopDis\n",
    "        homoplasy_score_for_HT_tree_i = calc_homoplasy_score_for_INDEL(isolate_annotation_tree_i_DF, simulated_muts_genotypes_tree_i, spacer_length, tree_i, variant_genotype_i)\n",
    "        homoplasy_score_per_tree_list.append(homoplasy_score_for_HT_tree_i)\n",
    "\n",
    "    homoplasy_score_across_trees = sum(homoplasy_score_per_tree_list)\n",
    "    homoplasy_score_per_variant_genotype[variant_genotype_i] = int(homoplasy_score_across_trees)\n",
    "    \n",
    "homoplasy_score_per_variant_genotype = pd.Series(homoplasy_score_per_variant_genotype)"
   ]
  },
  {
   "cell_type": "code",
   "execution_count": 12,
   "metadata": {},
   "outputs": [
    {
     "data": {
      "text/plain": [
       "-3      1\n",
       "-2      8\n",
       "-1    146\n",
       " 1    146\n",
       " 2      9\n",
       "dtype: int64"
      ]
     },
     "execution_count": 12,
     "metadata": {},
     "output_type": "execute_result"
    }
   ],
   "source": [
    "homoplasy_score_per_variant_genotype"
   ]
  },
  {
   "cell_type": "markdown",
   "metadata": {},
   "source": [
    "## [3] Re-run simulation N times"
   ]
  },
  {
   "cell_type": "code",
   "execution_count": null,
   "metadata": {},
   "outputs": [],
   "source": [
    "num_sims = 100\n",
    "HT_homoplasy_score_series_per_run = {}\n",
    "for sim_i in range(1, num_sims+1):\n",
    "    \n",
    "    # \n",
    "    #################################################################################################################################################################################################\n",
    "    isolate_group_list = ['1','2','3','4A','4B','4C','5','6']\n",
    "\n",
    "    # sites used to construct each tree\n",
    "    num_sites_to_construct_tree_dict = {'1':243940.0, '2':243542.0, '3':188741.0, '4A':213804.0, '4B':207271.0, '4C':203590.0, '5':33818.0, '6':36923.0}\n",
    "\n",
    "    distribution_of_variant_types_along_each_path_per_tree_list = []\n",
    "\n",
    "    #store data structures to calculate homoplasy score later\n",
    "    simulated_muts_genotypes_tree_i_dict = {}\n",
    "    isolate_annotation_tree_i_DF_dict = {}\n",
    "    tree_i_dict = {}\n",
    "    for isolate_group_i in isolate_group_list:\n",
    "\n",
    "        # get simulated genotypes for tips of tree\n",
    "        number_muts_between_tips_and_root_tree_i, isolate_annotation_tree_i_DF, tree_i = simulate_INDEL_genotypes_at_tips(isolate_group_i, num_sites_to_construct_tree_dict[isolate_group_i])\n",
    "\n",
    "        # store the distribution of the number of each \"variant\" found at the tips (+1, +2, +3, ...)\n",
    "        distribution_of_variant_types_along_each_path_per_tree_list.append(number_muts_between_tips_and_root_tree_i)\n",
    "\n",
    "        # store genotypes at types, isolate annotation & tree for each isolate group for homoplasy score calculation later\n",
    "        simulated_muts_genotypes_tree_i_dict[isolate_group_i] = number_muts_between_tips_and_root_tree_i\n",
    "        isolate_annotation_tree_i_DF_dict[isolate_group_i] = isolate_annotation_tree_i_DF\n",
    "        tree_i_dict[isolate_group_i] = tree_i\n",
    "\n",
    "    distribution_of_variant_types_across_trees = np.concatenate(distribution_of_variant_types_along_each_path_per_tree_list)\n",
    "    variant_types_list = np.sort(np.array(list(set(distribution_of_variant_types_across_trees))))[1:] #unique variant genotypes (+1, +2, +3, ...) appearing in this simulation\n",
    "    variant_types_list = variant_types_list[variant_types_list != 0]\n",
    "    #################################################################################################################################################################################################\n",
    "    \n",
    "    # \n",
    "    #################################################################################################################################################################################################\n",
    "    # parameter for TopDis\n",
    "    spacer_length = 4\n",
    "\n",
    "    # iterate through each type of variant (+1, +2, +3, ...)\n",
    "    homoplasy_score_per_variant_genotype = {}\n",
    "    for variant_genotype_i in variant_types_list:\n",
    "\n",
    "        # iterate through each tree\n",
    "        homoplasy_score_per_tree_list = []\n",
    "\n",
    "        for isolate_group_i in isolate_group_list:\n",
    "\n",
    "            # get simulated genotypes for tips of tree\n",
    "            simulated_muts_genotypes_tree_i = simulated_muts_genotypes_tree_i_dict[isolate_group_i]\n",
    "            isolate_annotation_tree_i_DF = isolate_annotation_tree_i_DF_dict[isolate_group_i]\n",
    "            tree_i = tree_i_dict[isolate_group_i]\n",
    "\n",
    "            # calculate homoplasy score of simulated genotypes using TopDis\n",
    "            homoplasy_score_for_HT_tree_i = calc_homoplasy_score_for_INDEL(isolate_annotation_tree_i_DF, simulated_muts_genotypes_tree_i, spacer_length, tree_i, variant_genotype_i)\n",
    "            homoplasy_score_per_tree_list.append(homoplasy_score_for_HT_tree_i)\n",
    "\n",
    "        homoplasy_score_across_trees = sum(homoplasy_score_per_tree_list)\n",
    "        homoplasy_score_per_variant_genotype[variant_genotype_i] = int(homoplasy_score_across_trees)\n",
    "\n",
    "    homoplasy_score_per_variant_genotype = pd.Series(homoplasy_score_per_variant_genotype)\n",
    "    #################################################################################################################################################################################################\n",
    "    \n",
    "    sim_num_tracker_path = '/n/data1/hms/dbmi/farhat/Roger/homoplasy_project/pickled_files/HT_INDEL_sims_progress.txt'\n",
    "\n",
    "    if not exists(sim_num_tracker_path):\n",
    "        with open(sim_num_tracker_path, 'w') as sim_num_tracker:\n",
    "            sim_num_tracker.write(str(sim_i) + '\\n')\n",
    "\n",
    "    elif exists(sim_num_tracker_path):\n",
    "        sim_num_tracker = open(sim_num_tracker_path, \"a\")\n",
    "        sim_num_tracker.write(str(sim_i) + '\\n')\n",
    "        sim_num_tracker.close()\n",
    "\n",
    "    # store the homoplasy score from this simulation in dict\n",
    "    HT_homoplasy_score_series_per_run['sim_' + str(sim_i)] = homoplasy_score_per_variant_genotype"
   ]
  },
  {
   "cell_type": "markdown",
   "metadata": {},
   "source": [
    "## [3] Save results of simulations"
   ]
  },
  {
   "cell_type": "code",
   "execution_count": 8,
   "metadata": {},
   "outputs": [],
   "source": [
    "with open('/n/data1/hms/dbmi/farhat/Roger/homoplasy_project/pickled_files/HT_INDEL_simulated_homoplasy_score_series.pickle', 'wb') as handle:\n",
    "    pickle.dump(HT_homoplasy_score_series_per_run, handle, protocol=pickle.HIGHEST_PROTOCOL)"
   ]
  },
  {
   "cell_type": "markdown",
   "metadata": {},
   "source": [
    "## [4] Submit script as job to O2"
   ]
  },
  {
   "cell_type": "code",
   "execution_count": 3,
   "metadata": {},
   "outputs": [],
   "source": [
    "from slurmpy import Slurm\n",
    "import os"
   ]
  },
  {
   "cell_type": "code",
   "execution_count": 4,
   "metadata": {},
   "outputs": [
    {
     "name": "stdout",
     "output_type": "stream",
     "text": [
      "HT_INDELs : 47674735\n"
     ]
    },
    {
     "name": "stderr",
     "output_type": "stream",
     "text": [
      "submitted: Submitted batch job 47674735\n"
     ]
    }
   ],
   "source": [
    "HT_sims_job = 'python /home/rv76/Farhat_Lab/Python_Scripts/homoplasy_project/simulations_frameshifts_HTs.py'\n",
    "\n",
    "#directory where you want output + error files\n",
    "os.chdir('/n/data1/hms/dbmi/farhat/Roger/homoplasy_project/pickled_files/HT_INDEL_simulations_homoplasy_score_job/')\n",
    "\n",
    "job_name = 'HT_INDELs'\n",
    "\n",
    "s = Slurm(job_name , {'partition':'long' , 'account':'farhat', 'N':'1' , 'time':'14-0:00:00' , 'mem':'64G' , 'mail-type':'ALL' , 'mail-user':'roger_vargas@g.harvard.edu'})\n",
    "\n",
    "#submits the job\n",
    "job_id = s.run(HT_sims_job)\n",
    "\n",
    "print job_name  + ' : ' +  str(job_id)"
   ]
  },
  {
   "cell_type": "markdown",
   "metadata": {},
   "source": [
    "## [5] Analyze distribution of Homoplasy Scores across all simulations"
   ]
  },
  {
   "cell_type": "markdown",
   "metadata": {},
   "source": [
    "To load dictionary of **homoplasy score** counts for each simulation"
   ]
  },
  {
   "cell_type": "code",
   "execution_count": 4,
   "metadata": {},
   "outputs": [],
   "source": [
    "with open('/n/data1/hms/dbmi/farhat/Roger/homoplasy_project/pickled_files/HT_INDEL_simulated_homoplasy_score_series_1k_sims.pickle', 'rb') as handle:\n",
    "    HT_homoplasy_score_series_per_run = pickle.load(handle)"
   ]
  },
  {
   "cell_type": "markdown",
   "metadata": {},
   "source": [
    "### Plot Homoplasy Score for each variant type from each simulation"
   ]
  },
  {
   "cell_type": "code",
   "execution_count": 6,
   "metadata": {},
   "outputs": [
    {
     "data": {
      "image/png": "[encoded data removed]",
      "text/plain": [
       "<Figure size 648x396 with 1 Axes>"
      ]
     },
     "metadata": {
      "needs_background": "light"
     },
     "output_type": "display_data"
    }
   ],
   "source": [
    "fig, ax = plt.subplots()\n",
    "for sim_i in HT_homoplasy_score_series_per_run.keys():\n",
    "\n",
    "    plt.plot(HT_homoplasy_score_series_per_run[sim_i].index, HT_homoplasy_score_series_per_run[sim_i].values, color = '0.05', alpha = 0.85, linewidth = 0.5)\n",
    "    plt.scatter(HT_homoplasy_score_series_per_run[sim_i].index, HT_homoplasy_score_series_per_run[sim_i].values, color = '0.05', alpha = 0.5)\n",
    "\n",
    "plt.ylabel('Number of Mutation Events\\n(Homoplasy Score)')\n",
    "plt.xlabel('INDEL variant type (+/- 1, +/- 2, +/- 3, ...)')\n",
    "plt.title('1000 Simulations for HTs')\n",
    "#ax.set_yscale('log')\n",
    "fig = plt.gcf()\n",
    "fig.set_size_inches(9.0, 5.5)\n",
    "fig.tight_layout()\n",
    "plt.show()"
   ]
  },
  {
   "cell_type": "markdown",
   "metadata": {},
   "source": [
    "## Count the number of *frameshift* mutations that occurred in each simulation"
   ]
  },
  {
   "cell_type": "code",
   "execution_count": 7,
   "metadata": {},
   "outputs": [],
   "source": [
    "frameshift_homomplasy_score_across_sims = []\n",
    "\n",
    "for sim_i in HT_homoplasy_score_series_per_run.keys():\n",
    "    \n",
    "    frameshift_homoplasy_score_sim_i = 0\n",
    "    \n",
    "    homoplasy_score_per_mut_sim_i =  HT_homoplasy_score_series_per_run[sim_i]\n",
    "    \n",
    "    # iterate through each genotype and check if it is a frameshift, if frameshift add to homoplasy score\n",
    "    for indel_genotype in HT_homoplasy_score_series_per_run[sim_i].keys():\n",
    "        \n",
    "        if float(indel_genotype) / 3.0 != 0: # if not divisible by 3, then frameshift\n",
    "            frameshift_homoplasy_score_sim_i += homoplasy_score_per_mut_sim_i[indel_genotype]\n",
    "    \n",
    "    # store number of frameshifts for this sim in list\n",
    "    frameshift_homomplasy_score_across_sims.append(frameshift_homoplasy_score_sim_i)"
   ]
  },
  {
   "cell_type": "code",
   "execution_count": 8,
   "metadata": {},
   "outputs": [
    {
     "data": {
      "text/plain": [
       "17.818"
      ]
     },
     "execution_count": 8,
     "metadata": {},
     "output_type": "execute_result"
    }
   ],
   "source": [
    "np.mean(frameshift_homomplasy_score_across_sims)"
   ]
  },
  {
   "cell_type": "code",
   "execution_count": 9,
   "metadata": {},
   "outputs": [
    {
     "data": {
      "text/plain": [
       "16.0"
      ]
     },
     "execution_count": 9,
     "metadata": {},
     "output_type": "execute_result"
    }
   ],
   "source": [
    "np.median(frameshift_homomplasy_score_across_sims)"
   ]
  },
  {
   "cell_type": "markdown",
   "metadata": {},
   "source": [
    "#### Plot Homoplasy Score distribution from each simulation"
   ]
  },
  {
   "cell_type": "code",
   "execution_count": 10,
   "metadata": {},
   "outputs": [
    {
     "data": {
      "image/png": "[encoded data removed]",
      "text/plain": [
       "<Figure size 648x396 with 1 Axes>"
      ]
     },
     "metadata": {
      "needs_background": "light"
     },
     "output_type": "display_data"
    }
   ],
   "source": [
    "fig, ax = plt.subplots()\n",
    "\n",
    "ax.hist(frameshift_homomplasy_score_across_sims, bins = 45, rwidth = 0.8, color = 'k')\n",
    "\n",
    "plt.xlabel('Number of Frameshift Events\\n(Homoplasy Score for Homopolymeric Tract)')\n",
    "plt.ylabel('Number of Simulations')\n",
    "plt.title('1000 Simulations for HT Frameshifts')\n",
    "#ax.set_yscale('log')\n",
    "fig = plt.gcf()\n",
    "fig.set_size_inches(9.0, 5.5)\n",
    "fig.tight_layout()\n",
    "plt.show()"
   ]
  },
  {
   "cell_type": "code",
   "execution_count": 20,
   "metadata": {},
   "outputs": [
    {
     "data": {
      "text/plain": [
       "45.00199999999995"
      ]
     },
     "execution_count": 20,
     "metadata": {},
     "output_type": "execute_result"
    }
   ],
   "source": [
    "np.percentile(np.array(frameshift_homomplasy_score_across_sims), 99.8)"
   ]
  },
  {
   "cell_type": "markdown",
   "metadata": {},
   "source": [
    "## Count the number of *INDEL* mutations that occurred in each simulation"
   ]
  },
  {
   "cell_type": "code",
   "execution_count": 12,
   "metadata": {},
   "outputs": [],
   "source": [
    "INDEL_homomplasy_score_across_sims = []\n",
    "\n",
    "for sim_i in HT_homoplasy_score_series_per_run.keys():\n",
    "    \n",
    "    INDEL_homoplasy_score_sim_i = 0\n",
    "    \n",
    "    homoplasy_score_per_mut_sim_i =  HT_homoplasy_score_series_per_run[sim_i]\n",
    "    \n",
    "    # iterate through each genotype and check if it is a frameshift, if frameshift add to homoplasy score\n",
    "    for indel_genotype in HT_homoplasy_score_series_per_run[sim_i].keys():\n",
    "        \n",
    "        INDEL_homoplasy_score_sim_i += homoplasy_score_per_mut_sim_i[indel_genotype]\n",
    "    \n",
    "    # store number of INDELs for this sim in list\n",
    "    INDEL_homomplasy_score_across_sims.append(INDEL_homoplasy_score_sim_i)"
   ]
  },
  {
   "cell_type": "code",
   "execution_count": 13,
   "metadata": {},
   "outputs": [
    {
     "data": {
      "text/plain": [
       "17.818"
      ]
     },
     "execution_count": 13,
     "metadata": {},
     "output_type": "execute_result"
    }
   ],
   "source": [
    "np.mean(INDEL_homomplasy_score_across_sims)"
   ]
  },
  {
   "cell_type": "code",
   "execution_count": 14,
   "metadata": {},
   "outputs": [
    {
     "data": {
      "text/plain": [
       "16.0"
      ]
     },
     "execution_count": 14,
     "metadata": {},
     "output_type": "execute_result"
    }
   ],
   "source": [
    "np.median(INDEL_homomplasy_score_across_sims)"
   ]
  },
  {
   "cell_type": "markdown",
   "metadata": {},
   "source": [
    "#### Plot Homoplasy Score distribution from each simulation"
   ]
  },
  {
   "cell_type": "code",
   "execution_count": 18,
   "metadata": {},
   "outputs": [
    {
     "data": {
      "image/png": "[encoded data removed]",
      "text/plain": [
       "<Figure size 648x396 with 1 Axes>"
      ]
     },
     "metadata": {
      "needs_background": "light"
     },
     "output_type": "display_data"
    }
   ],
   "source": [
    "fig, ax = plt.subplots()\n",
    "\n",
    "ax.hist(INDEL_homomplasy_score_across_sims, bins = 47, rwidth = 0.8, color = 'k')\n",
    "\n",
    "plt.xlabel('Number of INDEL Events\\n(Homoplasy Score for Homopolymeric Tract)')\n",
    "plt.ylabel('Number of Simulations')\n",
    "plt.title('1000 Simulations for HT INDELs')\n",
    "#ax.set_yscale('log')\n",
    "fig = plt.gcf()\n",
    "fig.set_size_inches(9.0, 5.5)\n",
    "fig.tight_layout()\n",
    "plt.show()"
   ]
  },
  {
   "cell_type": "code",
   "execution_count": 21,
   "metadata": {},
   "outputs": [
    {
     "data": {
      "text/plain": [
       "45.00199999999995"
      ]
     },
     "execution_count": 21,
     "metadata": {},
     "output_type": "execute_result"
    }
   ],
   "source": [
    "np.percentile(np.array(INDEL_homomplasy_score_across_sims), 99.8)"
   ]
  },
  {
   "cell_type": "code",
   "execution_count": 24,
   "metadata": {
    "scrolled": true
   },
   "outputs": [
    {
     "data": {
      "text/plain": [
       "241.0"
      ]
     },
     "execution_count": 24,
     "metadata": {},
     "output_type": "execute_result"
    }
   ],
   "source": [
    "np.percentile(np.array(INDEL_homomplasy_score_across_sims), 95)"
   ]
  },
  {
   "cell_type": "markdown",
   "metadata": {},
   "source": [
    "### Plot the number of mutation events for each INDEL genotype across simulations"
   ]
  },
  {
   "cell_type": "code",
   "execution_count": 34,
   "metadata": {},
   "outputs": [],
   "source": [
    "# collect all unique INDEL genotypes\n",
    "unique_INDEL_genotypes = []\n",
    "for sim_i in HT_homoplasy_score_series_per_run.keys():\n",
    "    unique_INDEL_genotypes = unique_INDEL_genotypes + list(HT_homoplasy_score_series_per_run[sim_i].keys())\n",
    "unique_INDEL_genotypes = list(set(unique_INDEL_genotypes))\n",
    "\n",
    "unique_INDEL_genotypes = np.sort(np.array(unique_INDEL_genotypes)) #unique variant genotypes (+/-1, +/-2, +/-3, ...) appearing in this simulation\n",
    "unique_INDEL_genotypes = unique_INDEL_genotypes[unique_INDEL_genotypes != 0]"
   ]
  },
  {
   "cell_type": "code",
   "execution_count": 35,
   "metadata": {},
   "outputs": [
    {
     "data": {
      "text/plain": [
       "array([-3, -2, -1,  1,  2,  3,  4])"
      ]
     },
     "execution_count": 35,
     "metadata": {},
     "output_type": "execute_result"
    }
   ],
   "source": [
    "unique_INDEL_genotypes"
   ]
  },
  {
   "cell_type": "code",
   "execution_count": null,
   "metadata": {},
   "outputs": [],
   "source": [
    "num_mutation_events_per_genotype_dict = {}\n",
    "#create an empty list \n",
    "\n",
    "# iterate through each indel genotype\n",
    "for x in unique_INDEL_genotypes:\n",
    "\n",
    "    num_mutation_events_for_each_sim = []\n",
    "    \n",
    "    # iterate through each simulation\n",
    "    for sim_i in frameshift_homomplasy_score_across_sims.keys():\n",
    "    \n",
    "        proportion_homoplasy_scores_greater_than_x_for_each_sim.append(float((homoplasy_score_distribution_per_run[sim_i][homoplasy_score_distribution_per_run[sim_i].index >= x].sum())) / float((homoplasy_score_distribution_per_run[sim_i].sum())))\n",
    "        \n",
    "    proportion_greater_than_x_dict[x] = proportion_homoplasy_scores_greater_than_x_for_each_sim "
   ]
  },
  {
   "cell_type": "markdown",
   "metadata": {},
   "source": [
    "### *Functions* for Boxplot"
   ]
  },
  {
   "cell_type": "code",
   "execution_count": 36,
   "metadata": {},
   "outputs": [],
   "source": [
    "from pylab import plot, show, savefig, xlim, figure, hold, ylim, legend, boxplot, setp, axes\n",
    "\n",
    "linewidth_for_box = 1.5\n",
    "\n",
    "# function for setting the colors of the box plots pairs\n",
    "def setBoxColors(bp , color):\n",
    "    setp(bp['boxes'][0], color=color , linewidth = linewidth_for_box)\n",
    "    setp(bp['caps'][0], color=color , linewidth = linewidth_for_box)\n",
    "    setp(bp['caps'][1], color=color , linewidth = linewidth_for_box)\n",
    "    setp(bp['whiskers'][0], color=color , linewidth = linewidth_for_box)\n",
    "    setp(bp['whiskers'][1], color=color , linewidth = linewidth_for_box)\n",
    "    setp(bp['fliers'][0], color=color)\n",
    "    setp(bp['medians'][0], color='k' , linewidth = 1.5)\n",
    "    bp['fliers'][0].set_markerfacecolor('black')\n",
    "    bp['fliers'][0].set_markeredgewidth(0.35)\n",
    "    bp['fliers'][0].set_markersize(3.65)\n",
    "    bp['fliers'][0].set_markeredgecolor('white')\n",
    "    bp['fliers'][0].set_alpha(0.85)\n",
    "    \n",
    "def plot_muts_frameshift_homoplasy_score(sim_values, x_pos, ax):\n",
    "    \n",
    "    #make boxplot\n",
    "    bp = ax.boxplot(sim_values , positions = [ind[x_pos]], widths = box_width)\n",
    "    setBoxColors(bp , 'k')\n",
    "    \n",
    "    return round(np.median(sim_values), 4)"
   ]
  },
  {
   "cell_type": "code",
   "execution_count": 8,
   "metadata": {},
   "outputs": [
    {
     "name": "stderr",
     "output_type": "stream",
     "text": [
      "/home/rv76/anaconda2/lib/python2.7/site-packages/matplotlib/cbook/deprecation.py:107: MatplotlibDeprecationWarning: Passing one of 'on', 'true', 'off', 'false' as a boolean is deprecated; use an actual boolean (True/False) instead.\n",
      "  warnings.warn(message, mplDeprecation, stacklevel=1)\n"
     ]
    },
    {
     "data": {
      "image/png": "[encoded data removed]",
      "text/plain": [
       "<Figure size 648x396 with 1 Axes>"
      ]
     },
     "metadata": {
      "needs_background": "light"
     },
     "output_type": "display_data"
    }
   ],
   "source": [
    "fig , ax = plt.subplots()\n",
    "box_width = 0.8\n",
    "ind = np.arange(1, 10)\n",
    "\n",
    "#bottom plot\n",
    "median_props = []\n",
    "x_pos = 0\n",
    "for homoplasy_score_i in ind:\n",
    "\n",
    "    #plot boxplot for lineage & store the number of isolates in sample\n",
    "    median_prop_i = plot_prop_muts_GE_homoplasy_score(proportion_greater_than_x_dict[homoplasy_score_i] , x_pos, ax)\n",
    "    median_props.append(median_prop_i)\n",
    "    x_pos += 1\n",
    "\n",
    "ax.set_xlim(0.5 , 9.5) #x-axis\n",
    "ax.set_ylim(-0.02 , 1.02) #y-axis\n",
    "#ax.set_yscale('log')\n",
    "\n",
    "ax.set_xticks(ind)\n",
    "ax.set_xticklabels([], rotation='horizontal', fontsize = 10)\n",
    "x_labels = [str(homoplasy_score_i) + '\\n (M=' + str(med_prop) + ')' for homoplasy_score_i,med_prop in zip(ind,median_props)]\n",
    "ax.set_xticklabels(x_labels, rotation='horizontal', fontsize = 10)\n",
    "ax.grid(False)\n",
    "ax.set_ylabel('Cumulative Prop. of Mutant Alleles >= Homoplasy Score X', fontsize = 10, color = 'k', labelpad = 1)\n",
    "ax.set_xlabel('Homoplasy Score X', fontsize = 10, color = 'k', labelpad = 1)\n",
    "ax.set_title('100 Simulations for SNVs')\n",
    "\n",
    "ax.spines['right'].set_visible(False)\n",
    "ax.spines['top'].set_visible(False)\n",
    "\n",
    "ax.tick_params(\n",
    "    axis='x',          # changes apply to the x-axis\n",
    "    which='both',      # both major and minor ticks are affected\n",
    "    bottom='off',      # ticks along the bottom edge are off\n",
    "    top='off',         # ticks along the top edge are off\n",
    "    labelbottom='on') # labels along the bottom edge are off\n",
    "\n",
    "ax.tick_params(\n",
    "    axis='y',          # changes apply to the x-axis\n",
    "    which='both',      # both major and minor ticks are affected\n",
    "    left='off',      # ticks along the bottom edge are off\n",
    "    right='off',         # ticks along the top edge are off\n",
    "    labelleft='on') # labels along the bottom edge are off\n",
    "\n",
    "ax.tick_params(colors = 'k', which = 'both')\n",
    "\n",
    "fig = plt.gcf()\n",
    "fig.set_size_inches(9.0, 5.5)\n",
    "fig.tight_layout()\n",
    "plt.show()"
   ]
  },
  {
   "cell_type": "code",
   "execution_count": null,
   "metadata": {},
   "outputs": [],
   "source": []
  }
 ],
 "metadata": {
  "kernelspec": {
   "display_name": "Python 2",
   "language": "python",
   "name": "python2"
  },
  "language_info": {
   "codemirror_mode": {
    "name": "ipython",
    "version": 2
   },
   "file_extension": ".py",
   "mimetype": "text/x-python",
   "name": "python",
   "nbconvert_exporter": "python",
   "pygments_lexer": "ipython2",
   "version": "2.7.16"
  }
 },
 "nbformat": 4,
 "nbformat_minor": 4
}
