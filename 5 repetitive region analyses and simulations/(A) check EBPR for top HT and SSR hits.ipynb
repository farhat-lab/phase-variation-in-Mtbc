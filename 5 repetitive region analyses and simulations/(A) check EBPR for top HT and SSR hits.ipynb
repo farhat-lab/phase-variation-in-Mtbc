{
 "cells": [
  {
   "cell_type": "code",
   "execution_count": 1,
   "metadata": {},
   "outputs": [
    {
     "data": {
      "text/html": [
       "<style>.container { width:100% !important; }</style>"
      ],
      "text/plain": [
       "<IPython.core.display.HTML object>"
      ]
     },
     "metadata": {},
     "output_type": "display_data"
    }
   ],
   "source": [
    "from IPython.core.display import display, HTML\n",
    "display(HTML(\"<style>.container { width:100% !important; }</style>\"))"
   ]
  },
  {
   "cell_type": "code",
   "execution_count": 2,
   "metadata": {},
   "outputs": [],
   "source": [
    "%matplotlib inline\n",
    "import os\n",
    "import pandas as pd\n",
    "import numpy as np\n",
    "import sys\n",
    "from collections import Counter\n",
    "import matplotlib.pyplot as plt\n",
    "import matplotlib as mpl\n",
    "from matplotlib import gridspec\n",
    "from matplotlib.patches import Rectangle\n",
    "from matplotlib.lines import Line2D\n",
    "import scipy.stats\n",
    "from mpl_toolkits.axes_grid1 import make_axes_locatable\n",
    "\n",
    "import Bio\n",
    "from Bio.Alphabet import IUPAC\n",
    "from Bio.Blast.Applications import NcbiblastnCommandline\n",
    "from Bio.Blast import NCBIXML\n",
    "from Bio.Seq import Seq\n",
    "from Bio.SeqRecord import SeqRecord\n",
    "from Bio.SeqFeature import SeqFeature, FeatureLocation\n",
    "from Bio import pairwise2\n",
    "from Bio import SeqIO\n",
    "from Bio.Graphics import GenomeDiagram\n",
    "from Bio.SeqUtils import GC\n",
    "from Bio.Align.Applications import MuscleCommandline\n",
    "from StringIO import StringIO\n",
    "from Bio import AlignIO\n",
    "from Bio.Align import AlignInfo\n",
    "from Bio.Seq import MutableSeq\n",
    "\n",
    "#for exporting to Adobe Illustrator\n",
    "mpl.rcParams['pdf.fonttype'] = 42\n",
    "mpl.rcParams['ps.fonttype'] = 42"
   ]
  },
  {
   "cell_type": "code",
   "execution_count": 3,
   "metadata": {},
   "outputs": [],
   "source": [
    "plt.style.use('ggplot')\n",
    "plt.rcParams['lines.linewidth']=0\n",
    "plt.rcParams['axes.facecolor']='1.0'\n",
    "plt.rcParams['xtick.color']='black'\n",
    "plt.rcParams['axes.grid']=False\n",
    "plt.rcParams['axes.edgecolor']='black'\n",
    "plt.rcParams['grid.color']= '1.0'\n",
    "plt.rcParams.update({'font.size': 10})\n",
    "plt.rc('font', family='serif')"
   ]
  },
  {
   "cell_type": "markdown",
   "metadata": {},
   "source": [
    "####################################################################################################################################################################################"
   ]
  },
  {
   "cell_type": "markdown",
   "metadata": {},
   "source": [
    "## [0] Load in Hs from *TopDis (spacer length = 4)* for INDELs, and get top 10 HTs & top 10 SSRs"
   ]
  },
  {
   "cell_type": "markdown",
   "metadata": {},
   "source": [
    "####################################################################################################################################################################################"
   ]
  },
  {
   "cell_type": "code",
   "execution_count": 4,
   "metadata": {},
   "outputs": [],
   "source": [
    "#load in INDELs\n",
    "all_homoplasic_INDELs = pd.read_pickle('/n/data1/hms/dbmi/farhat/Roger/homoplasy_project/CSV_files/homoplasies_detected_in_global_lineages/INDEL homoplasies/homoplasy_count_across_lineages_spacer_4.pkl')"
   ]
  },
  {
   "cell_type": "code",
   "execution_count": 5,
   "metadata": {},
   "outputs": [
    {
     "data": {
      "text/html": [
       "<div>\n",
       "<style>\n",
       "    .dataframe thead tr:only-child th {\n",
       "        text-align: right;\n",
       "    }\n",
       "\n",
       "    .dataframe thead th {\n",
       "        text-align: left;\n",
       "    }\n",
       "\n",
       "    .dataframe tbody tr th {\n",
       "        vertical-align: top;\n",
       "    }\n",
       "</style>\n",
       "<table border=\"1\" class=\"dataframe\">\n",
       "  <thead>\n",
       "    <tr style=\"text-align: right;\">\n",
       "      <th></th>\n",
       "      <th>pos</th>\n",
       "      <th>ref</th>\n",
       "      <th>alt</th>\n",
       "      <th>gene_category</th>\n",
       "      <th>gene_name</th>\n",
       "      <th>gene_id</th>\n",
       "      <th>gene_pos</th>\n",
       "      <th>ins_del</th>\n",
       "      <th>INDEL_type</th>\n",
       "      <th>codon_pos</th>\n",
       "      <th>...</th>\n",
       "      <th>1</th>\n",
       "      <th>2</th>\n",
       "      <th>3</th>\n",
       "      <th>4A</th>\n",
       "      <th>4B</th>\n",
       "      <th>4C</th>\n",
       "      <th>5</th>\n",
       "      <th>6</th>\n",
       "      <th>total</th>\n",
       "      <th>num_isolates</th>\n",
       "    </tr>\n",
       "  </thead>\n",
       "  <tbody>\n",
       "    <tr>\n",
       "      <th>47371</th>\n",
       "      <td>4408100</td>\n",
       "      <td>GC</td>\n",
       "      <td>G</td>\n",
       "      <td>Antibiotic Resistance</td>\n",
       "      <td>gid</td>\n",
       "      <td>Rv3919c</td>\n",
       "      <td>103</td>\n",
       "      <td>del</td>\n",
       "      <td>frameshift</td>\n",
       "      <td>35</td>\n",
       "      <td>...</td>\n",
       "      <td>41.0</td>\n",
       "      <td>27.0</td>\n",
       "      <td>51.0</td>\n",
       "      <td>43.0</td>\n",
       "      <td>11.0</td>\n",
       "      <td>29.0</td>\n",
       "      <td>0.0</td>\n",
       "      <td>0.0</td>\n",
       "      <td>202.0</td>\n",
       "      <td>388</td>\n",
       "    </tr>\n",
       "    <tr>\n",
       "      <th>47365</th>\n",
       "      <td>4408087</td>\n",
       "      <td>CG</td>\n",
       "      <td>C</td>\n",
       "      <td>Antibiotic Resistance</td>\n",
       "      <td>gid</td>\n",
       "      <td>Rv3919c</td>\n",
       "      <td>116</td>\n",
       "      <td>del</td>\n",
       "      <td>frameshift</td>\n",
       "      <td>39</td>\n",
       "      <td>...</td>\n",
       "      <td>23.0</td>\n",
       "      <td>11.0</td>\n",
       "      <td>35.0</td>\n",
       "      <td>33.0</td>\n",
       "      <td>10.0</td>\n",
       "      <td>18.0</td>\n",
       "      <td>0.0</td>\n",
       "      <td>0.0</td>\n",
       "      <td>130.0</td>\n",
       "      <td>212</td>\n",
       "    </tr>\n",
       "    <tr>\n",
       "      <th>47313</th>\n",
       "      <td>4407851</td>\n",
       "      <td>GC</td>\n",
       "      <td>G</td>\n",
       "      <td>Antibiotic Resistance</td>\n",
       "      <td>gid</td>\n",
       "      <td>Rv3919c</td>\n",
       "      <td>352</td>\n",
       "      <td>del</td>\n",
       "      <td>frameshift</td>\n",
       "      <td>118</td>\n",
       "      <td>...</td>\n",
       "      <td>21.0</td>\n",
       "      <td>9.0</td>\n",
       "      <td>40.0</td>\n",
       "      <td>20.0</td>\n",
       "      <td>6.0</td>\n",
       "      <td>19.0</td>\n",
       "      <td>0.0</td>\n",
       "      <td>0.0</td>\n",
       "      <td>115.0</td>\n",
       "      <td>182</td>\n",
       "    </tr>\n",
       "    <tr>\n",
       "      <th>25151</th>\n",
       "      <td>2288850</td>\n",
       "      <td>A</td>\n",
       "      <td>ACC</td>\n",
       "      <td>Antibiotic Resistance</td>\n",
       "      <td>pncA</td>\n",
       "      <td>Rv2043c</td>\n",
       "      <td>392</td>\n",
       "      <td>ins</td>\n",
       "      <td>frameshift</td>\n",
       "      <td>131</td>\n",
       "      <td>...</td>\n",
       "      <td>1.0</td>\n",
       "      <td>14.0</td>\n",
       "      <td>6.0</td>\n",
       "      <td>3.0</td>\n",
       "      <td>6.0</td>\n",
       "      <td>2.0</td>\n",
       "      <td>0.0</td>\n",
       "      <td>0.0</td>\n",
       "      <td>32.0</td>\n",
       "      <td>48</td>\n",
       "    </tr>\n",
       "    <tr>\n",
       "      <th>47315</th>\n",
       "      <td>4407851</td>\n",
       "      <td>G</td>\n",
       "      <td>GC</td>\n",
       "      <td>Antibiotic Resistance</td>\n",
       "      <td>gid</td>\n",
       "      <td>Rv3919c</td>\n",
       "      <td>352</td>\n",
       "      <td>ins</td>\n",
       "      <td>frameshift</td>\n",
       "      <td>118</td>\n",
       "      <td>...</td>\n",
       "      <td>5.0</td>\n",
       "      <td>1.0</td>\n",
       "      <td>12.0</td>\n",
       "      <td>5.0</td>\n",
       "      <td>7.0</td>\n",
       "      <td>1.0</td>\n",
       "      <td>0.0</td>\n",
       "      <td>0.0</td>\n",
       "      <td>31.0</td>\n",
       "      <td>52</td>\n",
       "    </tr>\n",
       "  </tbody>\n",
       "</table>\n",
       "<p>5 rows × 22 columns</p>\n",
       "</div>"
      ],
      "text/plain": [
       "           pos ref  alt          gene_category gene_name  gene_id gene_pos  \\\n",
       "47371  4408100  GC    G  Antibiotic Resistance       gid  Rv3919c      103   \n",
       "47365  4408087  CG    C  Antibiotic Resistance       gid  Rv3919c      116   \n",
       "47313  4407851  GC    G  Antibiotic Resistance       gid  Rv3919c      352   \n",
       "25151  2288850   A  ACC  Antibiotic Resistance      pncA  Rv2043c      392   \n",
       "47315  4407851   G   GC  Antibiotic Resistance       gid  Rv3919c      352   \n",
       "\n",
       "      ins_del  INDEL_type codon_pos      ...          1     2     3    4A  \\\n",
       "47371     del  frameshift        35      ...       41.0  27.0  51.0  43.0   \n",
       "47365     del  frameshift        39      ...       23.0  11.0  35.0  33.0   \n",
       "47313     del  frameshift       118      ...       21.0   9.0  40.0  20.0   \n",
       "25151     ins  frameshift       131      ...        1.0  14.0   6.0   3.0   \n",
       "47315     ins  frameshift       118      ...        5.0   1.0  12.0   5.0   \n",
       "\n",
       "         4B    4C    5    6  total  num_isolates  \n",
       "47371  11.0  29.0  0.0  0.0  202.0           388  \n",
       "47365  10.0  18.0  0.0  0.0  130.0           212  \n",
       "47313   6.0  19.0  0.0  0.0  115.0           182  \n",
       "25151   6.0   2.0  0.0  0.0   32.0            48  \n",
       "47315   7.0   1.0  0.0  0.0   31.0            52  \n",
       "\n",
       "[5 rows x 22 columns]"
      ]
     },
     "execution_count": 5,
     "metadata": {},
     "output_type": "execute_result"
    }
   ],
   "source": [
    "all_homoplasic_INDELs.head()"
   ]
  },
  {
   "cell_type": "code",
   "execution_count": 6,
   "metadata": {},
   "outputs": [
    {
     "data": {
      "text/plain": [
       "(46306, 22)"
      ]
     },
     "execution_count": 6,
     "metadata": {},
     "output_type": "execute_result"
    }
   ],
   "source": [
    "np.shape(all_homoplasic_INDELs)"
   ]
  },
  {
   "cell_type": "markdown",
   "metadata": {},
   "source": [
    "Note - SNPs & INDELs with homoplasy score $ = 0$ were dropped from DataFrames"
   ]
  },
  {
   "cell_type": "markdown",
   "metadata": {},
   "source": [
    "#### mark *mmpR* (Rv0678) as an Antibiotic Resistance gene"
   ]
  },
  {
   "cell_type": "code",
   "execution_count": 7,
   "metadata": {},
   "outputs": [],
   "source": [
    "all_homoplasic_INDELs.loc[all_homoplasic_INDELs['gene_id'] == 'Rv0678', 'gene_category'] = 'Antibiotic Resistance'\n",
    "all_homoplasic_INDELs.loc[all_homoplasic_INDELs['gene_id'] == 'Rv0678', 'gene_name'] = 'mmpR'\n",
    "\n",
    "all_homoplasic_INDELs.loc[all_homoplasic_INDELs['gene_id'] == 'Rv3696c', 'gene_category'] = 'Antibiotic Resistance'"
   ]
  },
  {
   "cell_type": "markdown",
   "metadata": {},
   "source": [
    "####################################################################################################################################################################################"
   ]
  },
  {
   "cell_type": "markdown",
   "metadata": {},
   "source": [
    "## [1] Separate INDELs into those occcurring in HT regions, SSR regions and those not in either"
   ]
  },
  {
   "cell_type": "markdown",
   "metadata": {},
   "source": [
    "####################################################################################################################################################################################"
   ]
  },
  {
   "cell_type": "markdown",
   "metadata": {},
   "source": [
    "### [1.1] HT"
   ]
  },
  {
   "cell_type": "code",
   "execution_count": 8,
   "metadata": {},
   "outputs": [],
   "source": [
    "homopolymeric_regions_from_Luca = pd.read_csv('/n/data1/hms/dbmi/farhat/Roger/homoplasy_project/CSV_files/comparison_with_homopolymeric_regions/homopolymer regions from Luca/list_homopolymers_7bpmore_pure.csv')"
   ]
  },
  {
   "cell_type": "markdown",
   "metadata": {},
   "source": [
    "**Note 1:** Luca's scheme starts at -1bp relative to the HT track since that's where variants are usually called"
   ]
  },
  {
   "cell_type": "markdown",
   "metadata": {},
   "source": [
    "**Note 2:** two HT regions in *PPE13* are located right next to eachother, change chromEnd position of the *TTTTTTTT* HT so we don't double count indels"
   ]
  },
  {
   "cell_type": "code",
   "execution_count": 9,
   "metadata": {},
   "outputs": [
    {
     "data": {
      "text/html": [
       "<div>\n",
       "<style>\n",
       "    .dataframe thead tr:only-child th {\n",
       "        text-align: right;\n",
       "    }\n",
       "\n",
       "    .dataframe thead th {\n",
       "        text-align: left;\n",
       "    }\n",
       "\n",
       "    .dataframe tbody tr th {\n",
       "        vertical-align: top;\n",
       "    }\n",
       "</style>\n",
       "<table border=\"1\" class=\"dataframe\">\n",
       "  <thead>\n",
       "    <tr style=\"text-align: right;\">\n",
       "      <th></th>\n",
       "      <th>Chromosome</th>\n",
       "      <th>chromStart</th>\n",
       "      <th>chromEnd</th>\n",
       "      <th>polyNT</th>\n",
       "      <th>locus_tag</th>\n",
       "      <th>gene_name</th>\n",
       "    </tr>\n",
       "  </thead>\n",
       "  <tbody>\n",
       "    <tr>\n",
       "      <th>80</th>\n",
       "      <td>NC_000962.3</td>\n",
       "      <td>976889</td>\n",
       "      <td>976897</td>\n",
       "      <td>TTTTTTTT</td>\n",
       "      <td>Rv0878c</td>\n",
       "      <td>PPE13</td>\n",
       "    </tr>\n",
       "    <tr>\n",
       "      <th>103</th>\n",
       "      <td>NC_000962.3</td>\n",
       "      <td>976897</td>\n",
       "      <td>976906</td>\n",
       "      <td>GGGGGGGGG</td>\n",
       "      <td>Rv0878c</td>\n",
       "      <td>PPE13</td>\n",
       "    </tr>\n",
       "  </tbody>\n",
       "</table>\n",
       "</div>"
      ],
      "text/plain": [
       "      Chromosome  chromStart  chromEnd     polyNT locus_tag gene_name\n",
       "80   NC_000962.3      976889    976897   TTTTTTTT   Rv0878c     PPE13\n",
       "103  NC_000962.3      976897    976906  GGGGGGGGG   Rv0878c     PPE13"
      ]
     },
     "execution_count": 9,
     "metadata": {},
     "output_type": "execute_result"
    }
   ],
   "source": [
    "homopolymeric_regions_from_Luca[homopolymeric_regions_from_Luca.gene_name == 'PPE13']"
   ]
  },
  {
   "cell_type": "code",
   "execution_count": 10,
   "metadata": {},
   "outputs": [],
   "source": [
    "homopolymeric_regions_from_Luca.loc[80,'chromEnd'] = 976896"
   ]
  },
  {
   "cell_type": "markdown",
   "metadata": {},
   "source": [
    "create a set of all Reference Positions that occur within a Homopolymeric Tract"
   ]
  },
  {
   "cell_type": "code",
   "execution_count": 11,
   "metadata": {},
   "outputs": [],
   "source": [
    "all_HT_ref_postions = []\n",
    "for HT_i_start, HT_i_end in zip(homopolymeric_regions_from_Luca.chromStart, homopolymeric_regions_from_Luca.chromEnd):\n",
    "    \n",
    "    HT_i_ref_positions = range(HT_i_start, HT_i_end+1)\n",
    "    all_HT_ref_postions = all_HT_ref_postions + HT_i_ref_positions\n",
    "    \n",
    "all_HT_ref_postions = set(all_HT_ref_postions)"
   ]
  },
  {
   "cell_type": "code",
   "execution_count": 12,
   "metadata": {},
   "outputs": [
    {
     "data": {
      "text/plain": [
       "1160"
      ]
     },
     "execution_count": 12,
     "metadata": {},
     "output_type": "execute_result"
    }
   ],
   "source": [
    "len(all_HT_ref_postions)"
   ]
  },
  {
   "cell_type": "markdown",
   "metadata": {},
   "source": [
    "### [1.2] SSR"
   ]
  },
  {
   "cell_type": "code",
   "execution_count": 13,
   "metadata": {},
   "outputs": [],
   "source": [
    "SSR_H37Rv_df = pd.read_pickle('/n/data1/hms/dbmi/farhat/Roger/homoplasy_project/CSV_files/simple_sequence_repeat_regions/SSR_H37Rv_2-6bp_at_least_3_repeats.pkl')"
   ]
  },
  {
   "cell_type": "code",
   "execution_count": 14,
   "metadata": {},
   "outputs": [
    {
     "data": {
      "text/html": [
       "<div>\n",
       "<style>\n",
       "    .dataframe thead tr:only-child th {\n",
       "        text-align: right;\n",
       "    }\n",
       "\n",
       "    .dataframe thead th {\n",
       "        text-align: left;\n",
       "    }\n",
       "\n",
       "    .dataframe tbody tr th {\n",
       "        vertical-align: top;\n",
       "    }\n",
       "</style>\n",
       "<table border=\"1\" class=\"dataframe\">\n",
       "  <thead>\n",
       "    <tr style=\"text-align: right;\">\n",
       "      <th></th>\n",
       "      <th>H37Rv_start</th>\n",
       "      <th>H37Rv_end</th>\n",
       "      <th>motif</th>\n",
       "      <th>repeats</th>\n",
       "    </tr>\n",
       "  </thead>\n",
       "  <tbody>\n",
       "    <tr>\n",
       "      <th>0</th>\n",
       "      <td>561</td>\n",
       "      <td>569</td>\n",
       "      <td>CGC</td>\n",
       "      <td>3</td>\n",
       "    </tr>\n",
       "    <tr>\n",
       "      <th>1</th>\n",
       "      <td>562</td>\n",
       "      <td>570</td>\n",
       "      <td>GCC</td>\n",
       "      <td>3</td>\n",
       "    </tr>\n",
       "    <tr>\n",
       "      <th>2</th>\n",
       "      <td>643</td>\n",
       "      <td>648</td>\n",
       "      <td>AC</td>\n",
       "      <td>3</td>\n",
       "    </tr>\n",
       "    <tr>\n",
       "      <th>3</th>\n",
       "      <td>1121</td>\n",
       "      <td>1126</td>\n",
       "      <td>GC</td>\n",
       "      <td>3</td>\n",
       "    </tr>\n",
       "    <tr>\n",
       "      <th>4</th>\n",
       "      <td>1408</td>\n",
       "      <td>1413</td>\n",
       "      <td>CA</td>\n",
       "      <td>3</td>\n",
       "    </tr>\n",
       "  </tbody>\n",
       "</table>\n",
       "</div>"
      ],
      "text/plain": [
       "   H37Rv_start  H37Rv_end motif  repeats\n",
       "0          561        569   CGC        3\n",
       "1          562        570   GCC        3\n",
       "2          643        648    AC        3\n",
       "3         1121       1126    GC        3\n",
       "4         1408       1413    CA        3"
      ]
     },
     "execution_count": 14,
     "metadata": {},
     "output_type": "execute_result"
    }
   ],
   "source": [
    "SSR_H37Rv_df.head()"
   ]
  },
  {
   "cell_type": "code",
   "execution_count": 15,
   "metadata": {},
   "outputs": [],
   "source": [
    "H37Rv_SSR_positions_list = []\n",
    "for SSR_i_start, SSR_i_end in zip(SSR_H37Rv_df.H37Rv_start, SSR_H37Rv_df.H37Rv_end):\n",
    "    \n",
    "    SSR_i_H37Rv_coords = list(np.arange(SSR_i_start, SSR_i_end + 1))\n",
    "    \n",
    "    H37Rv_SSR_positions_list = H37Rv_SSR_positions_list + SSR_i_H37Rv_coords\n",
    "    \n",
    "H37Rv_SSR_positions_list = list(set(H37Rv_SSR_positions_list)) # remove duplicate positions from overlapping SSR regions"
   ]
  },
  {
   "cell_type": "markdown",
   "metadata": {},
   "source": [
    "start at -1bp relative to the SSR track since that's where variants are usually called"
   ]
  },
  {
   "cell_type": "code",
   "execution_count": 16,
   "metadata": {},
   "outputs": [],
   "source": [
    "SSR_H37Rv_df.loc[:, 'H37Rv_start'] = SSR_H37Rv_df.H37Rv_start - 1"
   ]
  },
  {
   "cell_type": "code",
   "execution_count": 17,
   "metadata": {},
   "outputs": [
    {
     "data": {
      "text/html": [
       "<div>\n",
       "<style>\n",
       "    .dataframe thead tr:only-child th {\n",
       "        text-align: right;\n",
       "    }\n",
       "\n",
       "    .dataframe thead th {\n",
       "        text-align: left;\n",
       "    }\n",
       "\n",
       "    .dataframe tbody tr th {\n",
       "        vertical-align: top;\n",
       "    }\n",
       "</style>\n",
       "<table border=\"1\" class=\"dataframe\">\n",
       "  <thead>\n",
       "    <tr style=\"text-align: right;\">\n",
       "      <th></th>\n",
       "      <th>H37Rv_start</th>\n",
       "      <th>H37Rv_end</th>\n",
       "      <th>motif</th>\n",
       "      <th>repeats</th>\n",
       "    </tr>\n",
       "  </thead>\n",
       "  <tbody>\n",
       "    <tr>\n",
       "      <th>0</th>\n",
       "      <td>560</td>\n",
       "      <td>569</td>\n",
       "      <td>CGC</td>\n",
       "      <td>3</td>\n",
       "    </tr>\n",
       "    <tr>\n",
       "      <th>1</th>\n",
       "      <td>561</td>\n",
       "      <td>570</td>\n",
       "      <td>GCC</td>\n",
       "      <td>3</td>\n",
       "    </tr>\n",
       "    <tr>\n",
       "      <th>2</th>\n",
       "      <td>642</td>\n",
       "      <td>648</td>\n",
       "      <td>AC</td>\n",
       "      <td>3</td>\n",
       "    </tr>\n",
       "    <tr>\n",
       "      <th>3</th>\n",
       "      <td>1120</td>\n",
       "      <td>1126</td>\n",
       "      <td>GC</td>\n",
       "      <td>3</td>\n",
       "    </tr>\n",
       "    <tr>\n",
       "      <th>4</th>\n",
       "      <td>1407</td>\n",
       "      <td>1413</td>\n",
       "      <td>CA</td>\n",
       "      <td>3</td>\n",
       "    </tr>\n",
       "  </tbody>\n",
       "</table>\n",
       "</div>"
      ],
      "text/plain": [
       "   H37Rv_start  H37Rv_end motif  repeats\n",
       "0          560        569   CGC        3\n",
       "1          561        570   GCC        3\n",
       "2          642        648    AC        3\n",
       "3         1120       1126    GC        3\n",
       "4         1407       1413    CA        3"
      ]
     },
     "execution_count": 17,
     "metadata": {},
     "output_type": "execute_result"
    }
   ],
   "source": [
    "SSR_H37Rv_df.head()"
   ]
  },
  {
   "cell_type": "markdown",
   "metadata": {},
   "source": [
    "**Note:** use this list when sorting INDEL variants that occur within an SSR region"
   ]
  },
  {
   "cell_type": "code",
   "execution_count": 18,
   "metadata": {},
   "outputs": [],
   "source": [
    "H37Rv_SSR_positions_list = []\n",
    "for SSR_i_start, SSR_i_end in zip(SSR_H37Rv_df.H37Rv_start, SSR_H37Rv_df.H37Rv_end):\n",
    "    \n",
    "    SSR_i_H37Rv_coords = list(np.arange(SSR_i_start, SSR_i_end + 1))\n",
    "    \n",
    "    H37Rv_SSR_positions_list = H37Rv_SSR_positions_list + SSR_i_H37Rv_coords\n",
    "    \n",
    "H37Rv_SSR_positions_list = list(set(H37Rv_SSR_positions_list)) # remove duplicate positions from overlapping SSR regions"
   ]
  },
  {
   "cell_type": "code",
   "execution_count": 19,
   "metadata": {},
   "outputs": [
    {
     "data": {
      "text/plain": [
       "112673"
      ]
     },
     "execution_count": 19,
     "metadata": {},
     "output_type": "execute_result"
    }
   ],
   "source": [
    "len(H37Rv_SSR_positions_list)"
   ]
  },
  {
   "cell_type": "markdown",
   "metadata": {},
   "source": [
    "set of all Reference Positions that occur within a SSR region (including positions at -1bp relative to SSR region)"
   ]
  },
  {
   "cell_type": "code",
   "execution_count": 20,
   "metadata": {},
   "outputs": [],
   "source": [
    "H37Rv_SSR_positions = set(H37Rv_SSR_positions_list)"
   ]
  },
  {
   "cell_type": "code",
   "execution_count": 21,
   "metadata": {},
   "outputs": [
    {
     "data": {
      "text/plain": [
       "112673"
      ]
     },
     "execution_count": 21,
     "metadata": {},
     "output_type": "execute_result"
    }
   ],
   "source": [
    "len(H37Rv_SSR_positions)"
   ]
  },
  {
   "cell_type": "markdown",
   "metadata": {},
   "source": [
    "### [1.3] Annotate each INDEL based on whether it is in a SSR or HT or other"
   ]
  },
  {
   "cell_type": "markdown",
   "metadata": {},
   "source": [
    "iterate through all INDELs and figure out which occur in SSR and those that don't"
   ]
  },
  {
   "cell_type": "code",
   "execution_count": 22,
   "metadata": {},
   "outputs": [],
   "source": [
    "repeat_region_list = []\n",
    "for indel_i_pos in all_homoplasic_INDELs.pos:\n",
    "    \n",
    "    if indel_i_pos in all_HT_ref_postions:\n",
    "        repeat_region_list.append('HT')\n",
    "    \n",
    "    elif indel_i_pos in H37Rv_SSR_positions:\n",
    "        repeat_region_list.append('SSR')\n",
    "        \n",
    "    else:\n",
    "        repeat_region_list.append('no')\n",
    "        \n",
    "all_homoplasic_INDELs.loc[:,'repeat_region'] = repeat_region_list"
   ]
  },
  {
   "cell_type": "code",
   "execution_count": 23,
   "metadata": {},
   "outputs": [
    {
     "data": {
      "text/html": [
       "<div>\n",
       "<style>\n",
       "    .dataframe thead tr:only-child th {\n",
       "        text-align: right;\n",
       "    }\n",
       "\n",
       "    .dataframe thead th {\n",
       "        text-align: left;\n",
       "    }\n",
       "\n",
       "    .dataframe tbody tr th {\n",
       "        vertical-align: top;\n",
       "    }\n",
       "</style>\n",
       "<table border=\"1\" class=\"dataframe\">\n",
       "  <thead>\n",
       "    <tr style=\"text-align: right;\">\n",
       "      <th></th>\n",
       "      <th>pos</th>\n",
       "      <th>ref</th>\n",
       "      <th>alt</th>\n",
       "      <th>gene_category</th>\n",
       "      <th>gene_name</th>\n",
       "      <th>gene_id</th>\n",
       "      <th>gene_pos</th>\n",
       "      <th>ins_del</th>\n",
       "      <th>INDEL_type</th>\n",
       "      <th>codon_pos</th>\n",
       "      <th>...</th>\n",
       "      <th>2</th>\n",
       "      <th>3</th>\n",
       "      <th>4A</th>\n",
       "      <th>4B</th>\n",
       "      <th>4C</th>\n",
       "      <th>5</th>\n",
       "      <th>6</th>\n",
       "      <th>total</th>\n",
       "      <th>num_isolates</th>\n",
       "      <th>repeat_region</th>\n",
       "    </tr>\n",
       "  </thead>\n",
       "  <tbody>\n",
       "    <tr>\n",
       "      <th>47371</th>\n",
       "      <td>4408100</td>\n",
       "      <td>GC</td>\n",
       "      <td>G</td>\n",
       "      <td>Antibiotic Resistance</td>\n",
       "      <td>gid</td>\n",
       "      <td>Rv3919c</td>\n",
       "      <td>103</td>\n",
       "      <td>del</td>\n",
       "      <td>frameshift</td>\n",
       "      <td>35</td>\n",
       "      <td>...</td>\n",
       "      <td>27.0</td>\n",
       "      <td>51.0</td>\n",
       "      <td>43.0</td>\n",
       "      <td>11.0</td>\n",
       "      <td>29.0</td>\n",
       "      <td>0.0</td>\n",
       "      <td>0.0</td>\n",
       "      <td>202.0</td>\n",
       "      <td>388</td>\n",
       "      <td>no</td>\n",
       "    </tr>\n",
       "    <tr>\n",
       "      <th>47365</th>\n",
       "      <td>4408087</td>\n",
       "      <td>CG</td>\n",
       "      <td>C</td>\n",
       "      <td>Antibiotic Resistance</td>\n",
       "      <td>gid</td>\n",
       "      <td>Rv3919c</td>\n",
       "      <td>116</td>\n",
       "      <td>del</td>\n",
       "      <td>frameshift</td>\n",
       "      <td>39</td>\n",
       "      <td>...</td>\n",
       "      <td>11.0</td>\n",
       "      <td>35.0</td>\n",
       "      <td>33.0</td>\n",
       "      <td>10.0</td>\n",
       "      <td>18.0</td>\n",
       "      <td>0.0</td>\n",
       "      <td>0.0</td>\n",
       "      <td>130.0</td>\n",
       "      <td>212</td>\n",
       "      <td>no</td>\n",
       "    </tr>\n",
       "    <tr>\n",
       "      <th>47313</th>\n",
       "      <td>4407851</td>\n",
       "      <td>GC</td>\n",
       "      <td>G</td>\n",
       "      <td>Antibiotic Resistance</td>\n",
       "      <td>gid</td>\n",
       "      <td>Rv3919c</td>\n",
       "      <td>352</td>\n",
       "      <td>del</td>\n",
       "      <td>frameshift</td>\n",
       "      <td>118</td>\n",
       "      <td>...</td>\n",
       "      <td>9.0</td>\n",
       "      <td>40.0</td>\n",
       "      <td>20.0</td>\n",
       "      <td>6.0</td>\n",
       "      <td>19.0</td>\n",
       "      <td>0.0</td>\n",
       "      <td>0.0</td>\n",
       "      <td>115.0</td>\n",
       "      <td>182</td>\n",
       "      <td>SSR</td>\n",
       "    </tr>\n",
       "    <tr>\n",
       "      <th>25151</th>\n",
       "      <td>2288850</td>\n",
       "      <td>A</td>\n",
       "      <td>ACC</td>\n",
       "      <td>Antibiotic Resistance</td>\n",
       "      <td>pncA</td>\n",
       "      <td>Rv2043c</td>\n",
       "      <td>392</td>\n",
       "      <td>ins</td>\n",
       "      <td>frameshift</td>\n",
       "      <td>131</td>\n",
       "      <td>...</td>\n",
       "      <td>14.0</td>\n",
       "      <td>6.0</td>\n",
       "      <td>3.0</td>\n",
       "      <td>6.0</td>\n",
       "      <td>2.0</td>\n",
       "      <td>0.0</td>\n",
       "      <td>0.0</td>\n",
       "      <td>32.0</td>\n",
       "      <td>48</td>\n",
       "      <td>no</td>\n",
       "    </tr>\n",
       "    <tr>\n",
       "      <th>47315</th>\n",
       "      <td>4407851</td>\n",
       "      <td>G</td>\n",
       "      <td>GC</td>\n",
       "      <td>Antibiotic Resistance</td>\n",
       "      <td>gid</td>\n",
       "      <td>Rv3919c</td>\n",
       "      <td>352</td>\n",
       "      <td>ins</td>\n",
       "      <td>frameshift</td>\n",
       "      <td>118</td>\n",
       "      <td>...</td>\n",
       "      <td>1.0</td>\n",
       "      <td>12.0</td>\n",
       "      <td>5.0</td>\n",
       "      <td>7.0</td>\n",
       "      <td>1.0</td>\n",
       "      <td>0.0</td>\n",
       "      <td>0.0</td>\n",
       "      <td>31.0</td>\n",
       "      <td>52</td>\n",
       "      <td>SSR</td>\n",
       "    </tr>\n",
       "  </tbody>\n",
       "</table>\n",
       "<p>5 rows × 23 columns</p>\n",
       "</div>"
      ],
      "text/plain": [
       "           pos ref  alt          gene_category gene_name  gene_id gene_pos  \\\n",
       "47371  4408100  GC    G  Antibiotic Resistance       gid  Rv3919c      103   \n",
       "47365  4408087  CG    C  Antibiotic Resistance       gid  Rv3919c      116   \n",
       "47313  4407851  GC    G  Antibiotic Resistance       gid  Rv3919c      352   \n",
       "25151  2288850   A  ACC  Antibiotic Resistance      pncA  Rv2043c      392   \n",
       "47315  4407851   G   GC  Antibiotic Resistance       gid  Rv3919c      352   \n",
       "\n",
       "      ins_del  INDEL_type codon_pos      ...           2     3    4A    4B  \\\n",
       "47371     del  frameshift        35      ...        27.0  51.0  43.0  11.0   \n",
       "47365     del  frameshift        39      ...        11.0  35.0  33.0  10.0   \n",
       "47313     del  frameshift       118      ...         9.0  40.0  20.0   6.0   \n",
       "25151     ins  frameshift       131      ...        14.0   6.0   3.0   6.0   \n",
       "47315     ins  frameshift       118      ...         1.0  12.0   5.0   7.0   \n",
       "\n",
       "         4C    5    6  total  num_isolates  repeat_region  \n",
       "47371  29.0  0.0  0.0  202.0           388             no  \n",
       "47365  18.0  0.0  0.0  130.0           212             no  \n",
       "47313  19.0  0.0  0.0  115.0           182            SSR  \n",
       "25151   2.0  0.0  0.0   32.0            48             no  \n",
       "47315   1.0  0.0  0.0   31.0            52            SSR  \n",
       "\n",
       "[5 rows x 23 columns]"
      ]
     },
     "execution_count": 23,
     "metadata": {},
     "output_type": "execute_result"
    }
   ],
   "source": [
    "all_homoplasic_INDELs.head()"
   ]
  },
  {
   "cell_type": "markdown",
   "metadata": {},
   "source": [
    "####################################################################################################################################################################################"
   ]
  },
  {
   "cell_type": "markdown",
   "metadata": {},
   "source": [
    "## [2] check HT & SSR regions against EBR scores"
   ]
  },
  {
   "cell_type": "markdown",
   "metadata": {},
   "source": [
    "####################################################################################################################################################################################"
   ]
  },
  {
   "cell_type": "markdown",
   "metadata": {},
   "source": [
    "### [2.1] load in EBR scores from Max"
   ]
  },
  {
   "cell_type": "markdown",
   "metadata": {},
   "source": [
    "EBR (36 Isolates)"
   ]
  },
  {
   "cell_type": "code",
   "execution_count": 26,
   "metadata": {},
   "outputs": [],
   "source": [
    "EBR_36_scores_npz = np.load('/n/data1/hms/dbmi/farhat/mm774/Snakemake_Pipelines/mtb-illumina-wgs-evaluation/Results/B_Extra_UsefulDataFiles/E_EBR_AggregateAndIndividual_Results/210112_EBR_V7_36CI.npz')\n",
    "EBR_36_scores_array = EBR_36_scores_npz['arr_0']"
   ]
  },
  {
   "cell_type": "code",
   "execution_count": 27,
   "metadata": {},
   "outputs": [
    {
     "data": {
      "text/plain": [
       "4411532"
      ]
     },
     "execution_count": 27,
     "metadata": {},
     "output_type": "execute_result"
    }
   ],
   "source": [
    "len(EBR_36_scores_array)"
   ]
  },
  {
   "cell_type": "code",
   "execution_count": 28,
   "metadata": {},
   "outputs": [
    {
     "data": {
      "text/plain": [
       "array([0.91666667, 0.91666667, 0.91666667, 0.91666667, 0.91666667,\n",
       "       0.91666667, 0.91666667, 0.91666667, 0.94444444, 0.94444444])"
      ]
     },
     "execution_count": 28,
     "metadata": {},
     "output_type": "execute_result"
    }
   ],
   "source": [
    "EBR_36_scores_array[0:10]"
   ]
  },
  {
   "cell_type": "markdown",
   "metadata": {},
   "source": [
    "### [2.2] check HT regions against EBR scores"
   ]
  },
  {
   "cell_type": "code",
   "execution_count": 24,
   "metadata": {},
   "outputs": [
    {
     "data": {
      "text/html": [
       "<div>\n",
       "<style>\n",
       "    .dataframe thead tr:only-child th {\n",
       "        text-align: right;\n",
       "    }\n",
       "\n",
       "    .dataframe thead th {\n",
       "        text-align: left;\n",
       "    }\n",
       "\n",
       "    .dataframe tbody tr th {\n",
       "        vertical-align: top;\n",
       "    }\n",
       "</style>\n",
       "<table border=\"1\" class=\"dataframe\">\n",
       "  <thead>\n",
       "    <tr style=\"text-align: right;\">\n",
       "      <th></th>\n",
       "      <th>Chromosome</th>\n",
       "      <th>chromStart</th>\n",
       "      <th>chromEnd</th>\n",
       "      <th>polyNT</th>\n",
       "      <th>locus_tag</th>\n",
       "      <th>gene_name</th>\n",
       "    </tr>\n",
       "  </thead>\n",
       "  <tbody>\n",
       "    <tr>\n",
       "      <th>0</th>\n",
       "      <td>NC_000962.3</td>\n",
       "      <td>36470</td>\n",
       "      <td>36477</td>\n",
       "      <td>CCCCCCC</td>\n",
       "      <td>Rv0032</td>\n",
       "      <td>bioF2</td>\n",
       "    </tr>\n",
       "    <tr>\n",
       "      <th>1</th>\n",
       "      <td>NC_000962.3</td>\n",
       "      <td>71453</td>\n",
       "      <td>71460</td>\n",
       "      <td>CCCCCCC</td>\n",
       "      <td>Rv0064</td>\n",
       "      <td>Rv0064</td>\n",
       "    </tr>\n",
       "    <tr>\n",
       "      <th>2</th>\n",
       "      <td>NC_000962.3</td>\n",
       "      <td>191391</td>\n",
       "      <td>191398</td>\n",
       "      <td>CCCCCCC</td>\n",
       "      <td>Rv0161</td>\n",
       "      <td>Rv0161</td>\n",
       "    </tr>\n",
       "    <tr>\n",
       "      <th>3</th>\n",
       "      <td>NC_000962.3</td>\n",
       "      <td>238807</td>\n",
       "      <td>238814</td>\n",
       "      <td>CCCCCCC</td>\n",
       "      <td>Rv0202c</td>\n",
       "      <td>mmpL11</td>\n",
       "    </tr>\n",
       "    <tr>\n",
       "      <th>4</th>\n",
       "      <td>NC_000962.3</td>\n",
       "      <td>587728</td>\n",
       "      <td>587735</td>\n",
       "      <td>CCCCCCC</td>\n",
       "      <td>Rv0497</td>\n",
       "      <td>Rv0497</td>\n",
       "    </tr>\n",
       "  </tbody>\n",
       "</table>\n",
       "</div>"
      ],
      "text/plain": [
       "    Chromosome  chromStart  chromEnd   polyNT locus_tag gene_name\n",
       "0  NC_000962.3       36470     36477  CCCCCCC    Rv0032     bioF2\n",
       "1  NC_000962.3       71453     71460  CCCCCCC    Rv0064    Rv0064\n",
       "2  NC_000962.3      191391    191398  CCCCCCC    Rv0161    Rv0161\n",
       "3  NC_000962.3      238807    238814  CCCCCCC   Rv0202c    mmpL11\n",
       "4  NC_000962.3      587728    587735  CCCCCCC    Rv0497    Rv0497"
      ]
     },
     "execution_count": 24,
     "metadata": {},
     "output_type": "execute_result"
    }
   ],
   "source": [
    "homopolymeric_regions_from_Luca.head()"
   ]
  },
  {
   "cell_type": "code",
   "execution_count": 52,
   "metadata": {},
   "outputs": [
    {
     "name": "stderr",
     "output_type": "stream",
     "text": [
      "/home/rv76/anaconda2/lib/python2.7/site-packages/ipykernel_launcher.py:10: RuntimeWarning: invalid value encountered in less\n",
      "  # Remove the CWD from sys.path while we load stuff.\n"
     ]
    }
   ],
   "source": [
    "# create list to flag if region falls below EBR threshold\n",
    "HT_EBR_pass = []\n",
    "\n",
    "for H37Rv_start,H37Rv_end in zip(homopolymeric_regions_from_Luca.chromStart, homopolymeric_regions_from_Luca.chromEnd):\n",
    "\n",
    "    # pull array for EBR\n",
    "    EBR_scores = EBR_36_scores_array[H37Rv_start:H37Rv_end]\n",
    "\n",
    "    # check to see if any EBR scores for these positions < 0.90\n",
    "    EBR_scores_HQ_bool = EBR_scores < 0.90\n",
    "    \n",
    "    if sum(EBR_scores_HQ_bool) >= 1: # at least 1 position had EBR score below threshold\n",
    "        HT_EBR_pass.append(False)\n",
    "    else:\n",
    "        HT_EBR_pass.append(True)\n",
    "        \n",
    "# append col that indicates whether this region passed EBR to dataframe\n",
    "homopolymeric_regions_from_Luca.loc[:,'EBR_pass'] = HT_EBR_pass"
   ]
  },
  {
   "cell_type": "code",
   "execution_count": 54,
   "metadata": {},
   "outputs": [
    {
     "data": {
      "text/html": [
       "<div>\n",
       "<style>\n",
       "    .dataframe thead tr:only-child th {\n",
       "        text-align: right;\n",
       "    }\n",
       "\n",
       "    .dataframe thead th {\n",
       "        text-align: left;\n",
       "    }\n",
       "\n",
       "    .dataframe tbody tr th {\n",
       "        vertical-align: top;\n",
       "    }\n",
       "</style>\n",
       "<table border=\"1\" class=\"dataframe\">\n",
       "  <thead>\n",
       "    <tr style=\"text-align: right;\">\n",
       "      <th></th>\n",
       "      <th>Chromosome</th>\n",
       "      <th>chromStart</th>\n",
       "      <th>chromEnd</th>\n",
       "      <th>polyNT</th>\n",
       "      <th>locus_tag</th>\n",
       "      <th>gene_name</th>\n",
       "      <th>EBR_pass</th>\n",
       "    </tr>\n",
       "  </thead>\n",
       "  <tbody>\n",
       "    <tr>\n",
       "      <th>0</th>\n",
       "      <td>NC_000962.3</td>\n",
       "      <td>36470</td>\n",
       "      <td>36477</td>\n",
       "      <td>CCCCCCC</td>\n",
       "      <td>Rv0032</td>\n",
       "      <td>bioF2</td>\n",
       "      <td>True</td>\n",
       "    </tr>\n",
       "    <tr>\n",
       "      <th>1</th>\n",
       "      <td>NC_000962.3</td>\n",
       "      <td>71453</td>\n",
       "      <td>71460</td>\n",
       "      <td>CCCCCCC</td>\n",
       "      <td>Rv0064</td>\n",
       "      <td>Rv0064</td>\n",
       "      <td>True</td>\n",
       "    </tr>\n",
       "    <tr>\n",
       "      <th>2</th>\n",
       "      <td>NC_000962.3</td>\n",
       "      <td>191391</td>\n",
       "      <td>191398</td>\n",
       "      <td>CCCCCCC</td>\n",
       "      <td>Rv0161</td>\n",
       "      <td>Rv0161</td>\n",
       "      <td>True</td>\n",
       "    </tr>\n",
       "    <tr>\n",
       "      <th>3</th>\n",
       "      <td>NC_000962.3</td>\n",
       "      <td>238807</td>\n",
       "      <td>238814</td>\n",
       "      <td>CCCCCCC</td>\n",
       "      <td>Rv0202c</td>\n",
       "      <td>mmpL11</td>\n",
       "      <td>True</td>\n",
       "    </tr>\n",
       "    <tr>\n",
       "      <th>4</th>\n",
       "      <td>NC_000962.3</td>\n",
       "      <td>587728</td>\n",
       "      <td>587735</td>\n",
       "      <td>CCCCCCC</td>\n",
       "      <td>Rv0497</td>\n",
       "      <td>Rv0497</td>\n",
       "      <td>True</td>\n",
       "    </tr>\n",
       "  </tbody>\n",
       "</table>\n",
       "</div>"
      ],
      "text/plain": [
       "    Chromosome  chromStart  chromEnd   polyNT locus_tag gene_name  EBR_pass\n",
       "0  NC_000962.3       36470     36477  CCCCCCC    Rv0032     bioF2      True\n",
       "1  NC_000962.3       71453     71460  CCCCCCC    Rv0064    Rv0064      True\n",
       "2  NC_000962.3      191391    191398  CCCCCCC    Rv0161    Rv0161      True\n",
       "3  NC_000962.3      238807    238814  CCCCCCC   Rv0202c    mmpL11      True\n",
       "4  NC_000962.3      587728    587735  CCCCCCC    Rv0497    Rv0497      True"
      ]
     },
     "execution_count": 54,
     "metadata": {},
     "output_type": "execute_result"
    }
   ],
   "source": [
    "homopolymeric_regions_from_Luca.head()"
   ]
  },
  {
   "cell_type": "code",
   "execution_count": 55,
   "metadata": {},
   "outputs": [
    {
     "data": {
      "text/plain": [
       "(121, 7)"
      ]
     },
     "execution_count": 55,
     "metadata": {},
     "output_type": "execute_result"
    }
   ],
   "source": [
    "homopolymeric_regions_from_Luca[homopolymeric_regions_from_Luca.EBR_pass == True].shape"
   ]
  },
  {
   "cell_type": "code",
   "execution_count": 56,
   "metadata": {},
   "outputs": [
    {
     "data": {
      "text/plain": [
       "(24, 7)"
      ]
     },
     "execution_count": 56,
     "metadata": {},
     "output_type": "execute_result"
    }
   ],
   "source": [
    "homopolymeric_regions_from_Luca[homopolymeric_regions_from_Luca.EBR_pass == False].shape"
   ]
  },
  {
   "cell_type": "code",
   "execution_count": 57,
   "metadata": {},
   "outputs": [
    {
     "data": {
      "text/html": [
       "<div>\n",
       "<style>\n",
       "    .dataframe thead tr:only-child th {\n",
       "        text-align: right;\n",
       "    }\n",
       "\n",
       "    .dataframe thead th {\n",
       "        text-align: left;\n",
       "    }\n",
       "\n",
       "    .dataframe tbody tr th {\n",
       "        vertical-align: top;\n",
       "    }\n",
       "</style>\n",
       "<table border=\"1\" class=\"dataframe\">\n",
       "  <thead>\n",
       "    <tr style=\"text-align: right;\">\n",
       "      <th></th>\n",
       "      <th>Chromosome</th>\n",
       "      <th>chromStart</th>\n",
       "      <th>chromEnd</th>\n",
       "      <th>polyNT</th>\n",
       "      <th>locus_tag</th>\n",
       "      <th>gene_name</th>\n",
       "      <th>EBR_pass</th>\n",
       "    </tr>\n",
       "  </thead>\n",
       "  <tbody>\n",
       "    <tr>\n",
       "      <th>11</th>\n",
       "      <td>NC_000962.3</td>\n",
       "      <td>929017</td>\n",
       "      <td>929024</td>\n",
       "      <td>CCCCCCC</td>\n",
       "      <td>Rv0834c</td>\n",
       "      <td>PE_PGRS14</td>\n",
       "      <td>False</td>\n",
       "    </tr>\n",
       "    <tr>\n",
       "      <th>12</th>\n",
       "      <td>NC_000962.3</td>\n",
       "      <td>969733</td>\n",
       "      <td>969740</td>\n",
       "      <td>CCCCCCC</td>\n",
       "      <td>Rv0872c</td>\n",
       "      <td>PE_PGRS15</td>\n",
       "      <td>False</td>\n",
       "    </tr>\n",
       "    <tr>\n",
       "      <th>14</th>\n",
       "      <td>NC_000962.3</td>\n",
       "      <td>1386010</td>\n",
       "      <td>1386017</td>\n",
       "      <td>CCCCCCC</td>\n",
       "      <td>Rv1243c</td>\n",
       "      <td>PE_PGRS23</td>\n",
       "      <td>False</td>\n",
       "    </tr>\n",
       "    <tr>\n",
       "      <th>15</th>\n",
       "      <td>NC_000962.3</td>\n",
       "      <td>1488557</td>\n",
       "      <td>1488564</td>\n",
       "      <td>CCCCCCC</td>\n",
       "      <td>Rv1325c</td>\n",
       "      <td>PE_PGRS24</td>\n",
       "      <td>False</td>\n",
       "    </tr>\n",
       "    <tr>\n",
       "      <th>18</th>\n",
       "      <td>NC_000962.3</td>\n",
       "      <td>1573160</td>\n",
       "      <td>1573167</td>\n",
       "      <td>CCCCCCC</td>\n",
       "      <td>Rv1396c</td>\n",
       "      <td>PE_PGRS25</td>\n",
       "      <td>False</td>\n",
       "    </tr>\n",
       "    <tr>\n",
       "      <th>19</th>\n",
       "      <td>NC_000962.3</td>\n",
       "      <td>1632349</td>\n",
       "      <td>1632356</td>\n",
       "      <td>CCCCCCC</td>\n",
       "      <td>Rv1450c</td>\n",
       "      <td>PE_PGRS27</td>\n",
       "      <td>False</td>\n",
       "    </tr>\n",
       "    <tr>\n",
       "      <th>23</th>\n",
       "      <td>NC_000962.3</td>\n",
       "      <td>1864037</td>\n",
       "      <td>1864044</td>\n",
       "      <td>CCCCCCC</td>\n",
       "      <td>Rv1651c</td>\n",
       "      <td>PE_PGRS30</td>\n",
       "      <td>False</td>\n",
       "    </tr>\n",
       "    <tr>\n",
       "      <th>26</th>\n",
       "      <td>NC_000962.3</td>\n",
       "      <td>1990551</td>\n",
       "      <td>1990558</td>\n",
       "      <td>CCCCCCC</td>\n",
       "      <td>Rv1759c</td>\n",
       "      <td>wag22</td>\n",
       "      <td>False</td>\n",
       "    </tr>\n",
       "    <tr>\n",
       "      <th>32</th>\n",
       "      <td>NC_000962.3</td>\n",
       "      <td>2339948</td>\n",
       "      <td>2339955</td>\n",
       "      <td>CCCCCCC</td>\n",
       "      <td>Rv2082</td>\n",
       "      <td>Rv2082</td>\n",
       "      <td>False</td>\n",
       "    </tr>\n",
       "    <tr>\n",
       "      <th>43</th>\n",
       "      <td>NC_000962.3</td>\n",
       "      <td>2804942</td>\n",
       "      <td>2804949</td>\n",
       "      <td>CCCCCCC</td>\n",
       "      <td>Rv2490c</td>\n",
       "      <td>PE_PGRS43</td>\n",
       "      <td>False</td>\n",
       "    </tr>\n",
       "    <tr>\n",
       "      <th>46</th>\n",
       "      <td>NC_000962.3</td>\n",
       "      <td>2960944</td>\n",
       "      <td>2960951</td>\n",
       "      <td>CCCCCCC</td>\n",
       "      <td>Rv2634c</td>\n",
       "      <td>PE_PGRS46</td>\n",
       "      <td>False</td>\n",
       "    </tr>\n",
       "    <tr>\n",
       "      <th>52</th>\n",
       "      <td>NC_000962.3</td>\n",
       "      <td>3248308</td>\n",
       "      <td>3248315</td>\n",
       "      <td>CCCCCCC</td>\n",
       "      <td>Rv2931</td>\n",
       "      <td>ppsA</td>\n",
       "      <td>False</td>\n",
       "    </tr>\n",
       "    <tr>\n",
       "      <th>53</th>\n",
       "      <td>NC_000962.3</td>\n",
       "      <td>3258351</td>\n",
       "      <td>3258358</td>\n",
       "      <td>CCCCCCC</td>\n",
       "      <td>Rv2933</td>\n",
       "      <td>ppsC</td>\n",
       "      <td>False</td>\n",
       "    </tr>\n",
       "    <tr>\n",
       "      <th>54</th>\n",
       "      <td>NC_000962.3</td>\n",
       "      <td>3258368</td>\n",
       "      <td>3258375</td>\n",
       "      <td>CCCCCCC</td>\n",
       "      <td>Rv2933</td>\n",
       "      <td>ppsC</td>\n",
       "      <td>False</td>\n",
       "    </tr>\n",
       "    <tr>\n",
       "      <th>62</th>\n",
       "      <td>NC_000962.3</td>\n",
       "      <td>3741963</td>\n",
       "      <td>3741970</td>\n",
       "      <td>CCCCCCC</td>\n",
       "      <td>Rv3345c</td>\n",
       "      <td>PE_PGRS50</td>\n",
       "      <td>False</td>\n",
       "    </tr>\n",
       "    <tr>\n",
       "      <th>97</th>\n",
       "      <td>NC_000962.3</td>\n",
       "      <td>623674</td>\n",
       "      <td>623681</td>\n",
       "      <td>GGGGGGG</td>\n",
       "      <td>Rv0532</td>\n",
       "      <td>PE_PGRS6</td>\n",
       "      <td>False</td>\n",
       "    </tr>\n",
       "    <tr>\n",
       "      <th>98</th>\n",
       "      <td>NC_000962.3</td>\n",
       "      <td>839545</td>\n",
       "      <td>839552</td>\n",
       "      <td>GGGGGGG</td>\n",
       "      <td>Rv0747</td>\n",
       "      <td>PE_PGRS10</td>\n",
       "      <td>False</td>\n",
       "    </tr>\n",
       "    <tr>\n",
       "      <th>101</th>\n",
       "      <td>NC_000962.3</td>\n",
       "      <td>926305</td>\n",
       "      <td>926312</td>\n",
       "      <td>GGGGGGG</td>\n",
       "      <td>Rv0833</td>\n",
       "      <td>PE_PGRS13</td>\n",
       "      <td>False</td>\n",
       "    </tr>\n",
       "    <tr>\n",
       "      <th>102</th>\n",
       "      <td>NC_000962.3</td>\n",
       "      <td>927019</td>\n",
       "      <td>927026</td>\n",
       "      <td>GGGGGGG</td>\n",
       "      <td>Rv0833</td>\n",
       "      <td>PE_PGRS13</td>\n",
       "      <td>False</td>\n",
       "    </tr>\n",
       "    <tr>\n",
       "      <th>103</th>\n",
       "      <td>NC_000962.3</td>\n",
       "      <td>976897</td>\n",
       "      <td>976906</td>\n",
       "      <td>GGGGGGGGG</td>\n",
       "      <td>Rv0878c</td>\n",
       "      <td>PPE13</td>\n",
       "      <td>False</td>\n",
       "    </tr>\n",
       "    <tr>\n",
       "      <th>106</th>\n",
       "      <td>NC_000962.3</td>\n",
       "      <td>1091980</td>\n",
       "      <td>1091987</td>\n",
       "      <td>GGGGGGG</td>\n",
       "      <td>Rv0977</td>\n",
       "      <td>PE_PGRS16</td>\n",
       "      <td>False</td>\n",
       "    </tr>\n",
       "    <tr>\n",
       "      <th>109</th>\n",
       "      <td>NC_000962.3</td>\n",
       "      <td>1619015</td>\n",
       "      <td>1619022</td>\n",
       "      <td>GGGGGGG</td>\n",
       "      <td>Rv1441c</td>\n",
       "      <td>PE_PGRS26</td>\n",
       "      <td>False</td>\n",
       "    </tr>\n",
       "    <tr>\n",
       "      <th>126</th>\n",
       "      <td>NC_000962.3</td>\n",
       "      <td>3163650</td>\n",
       "      <td>3163657</td>\n",
       "      <td>GGGGGGG</td>\n",
       "      <td>Rv2853</td>\n",
       "      <td>PE_PGRS48</td>\n",
       "      <td>False</td>\n",
       "    </tr>\n",
       "    <tr>\n",
       "      <th>133</th>\n",
       "      <td>NC_000962.3</td>\n",
       "      <td>3927678</td>\n",
       "      <td>3927685</td>\n",
       "      <td>GGGGGGG</td>\n",
       "      <td>Rv3507</td>\n",
       "      <td>PE_PGRS53</td>\n",
       "      <td>False</td>\n",
       "    </tr>\n",
       "  </tbody>\n",
       "</table>\n",
       "</div>"
      ],
      "text/plain": [
       "      Chromosome  chromStart  chromEnd     polyNT locus_tag  gene_name  \\\n",
       "11   NC_000962.3      929017    929024    CCCCCCC   Rv0834c  PE_PGRS14   \n",
       "12   NC_000962.3      969733    969740    CCCCCCC   Rv0872c  PE_PGRS15   \n",
       "14   NC_000962.3     1386010   1386017    CCCCCCC   Rv1243c  PE_PGRS23   \n",
       "15   NC_000962.3     1488557   1488564    CCCCCCC   Rv1325c  PE_PGRS24   \n",
       "18   NC_000962.3     1573160   1573167    CCCCCCC   Rv1396c  PE_PGRS25   \n",
       "19   NC_000962.3     1632349   1632356    CCCCCCC   Rv1450c  PE_PGRS27   \n",
       "23   NC_000962.3     1864037   1864044    CCCCCCC   Rv1651c  PE_PGRS30   \n",
       "26   NC_000962.3     1990551   1990558    CCCCCCC   Rv1759c      wag22   \n",
       "32   NC_000962.3     2339948   2339955    CCCCCCC    Rv2082     Rv2082   \n",
       "43   NC_000962.3     2804942   2804949    CCCCCCC   Rv2490c  PE_PGRS43   \n",
       "46   NC_000962.3     2960944   2960951    CCCCCCC   Rv2634c  PE_PGRS46   \n",
       "52   NC_000962.3     3248308   3248315    CCCCCCC    Rv2931       ppsA   \n",
       "53   NC_000962.3     3258351   3258358    CCCCCCC    Rv2933       ppsC   \n",
       "54   NC_000962.3     3258368   3258375    CCCCCCC    Rv2933       ppsC   \n",
       "62   NC_000962.3     3741963   3741970    CCCCCCC   Rv3345c  PE_PGRS50   \n",
       "97   NC_000962.3      623674    623681    GGGGGGG    Rv0532   PE_PGRS6   \n",
       "98   NC_000962.3      839545    839552    GGGGGGG    Rv0747  PE_PGRS10   \n",
       "101  NC_000962.3      926305    926312    GGGGGGG    Rv0833  PE_PGRS13   \n",
       "102  NC_000962.3      927019    927026    GGGGGGG    Rv0833  PE_PGRS13   \n",
       "103  NC_000962.3      976897    976906  GGGGGGGGG   Rv0878c      PPE13   \n",
       "106  NC_000962.3     1091980   1091987    GGGGGGG    Rv0977  PE_PGRS16   \n",
       "109  NC_000962.3     1619015   1619022    GGGGGGG   Rv1441c  PE_PGRS26   \n",
       "126  NC_000962.3     3163650   3163657    GGGGGGG    Rv2853  PE_PGRS48   \n",
       "133  NC_000962.3     3927678   3927685    GGGGGGG    Rv3507  PE_PGRS53   \n",
       "\n",
       "     EBR_pass  \n",
       "11      False  \n",
       "12      False  \n",
       "14      False  \n",
       "15      False  \n",
       "18      False  \n",
       "19      False  \n",
       "23      False  \n",
       "26      False  \n",
       "32      False  \n",
       "43      False  \n",
       "46      False  \n",
       "52      False  \n",
       "53      False  \n",
       "54      False  \n",
       "62      False  \n",
       "97      False  \n",
       "98      False  \n",
       "101     False  \n",
       "102     False  \n",
       "103     False  \n",
       "106     False  \n",
       "109     False  \n",
       "126     False  \n",
       "133     False  "
      ]
     },
     "execution_count": 57,
     "metadata": {},
     "output_type": "execute_result"
    }
   ],
   "source": [
    "homopolymeric_regions_from_Luca[homopolymeric_regions_from_Luca.EBR_pass == False]"
   ]
  },
  {
   "cell_type": "markdown",
   "metadata": {},
   "source": [
    "### [2.3] check SSR regions against EBR scores"
   ]
  },
  {
   "cell_type": "code",
   "execution_count": 63,
   "metadata": {},
   "outputs": [
    {
     "data": {
      "text/html": [
       "<div>\n",
       "<style>\n",
       "    .dataframe thead tr:only-child th {\n",
       "        text-align: right;\n",
       "    }\n",
       "\n",
       "    .dataframe thead th {\n",
       "        text-align: left;\n",
       "    }\n",
       "\n",
       "    .dataframe tbody tr th {\n",
       "        vertical-align: top;\n",
       "    }\n",
       "</style>\n",
       "<table border=\"1\" class=\"dataframe\">\n",
       "  <thead>\n",
       "    <tr style=\"text-align: right;\">\n",
       "      <th></th>\n",
       "      <th>H37Rv_start</th>\n",
       "      <th>H37Rv_end</th>\n",
       "      <th>motif</th>\n",
       "      <th>repeats</th>\n",
       "    </tr>\n",
       "  </thead>\n",
       "  <tbody>\n",
       "    <tr>\n",
       "      <th>0</th>\n",
       "      <td>561</td>\n",
       "      <td>569</td>\n",
       "      <td>CGC</td>\n",
       "      <td>3</td>\n",
       "    </tr>\n",
       "    <tr>\n",
       "      <th>1</th>\n",
       "      <td>562</td>\n",
       "      <td>570</td>\n",
       "      <td>GCC</td>\n",
       "      <td>3</td>\n",
       "    </tr>\n",
       "    <tr>\n",
       "      <th>2</th>\n",
       "      <td>643</td>\n",
       "      <td>648</td>\n",
       "      <td>AC</td>\n",
       "      <td>3</td>\n",
       "    </tr>\n",
       "    <tr>\n",
       "      <th>3</th>\n",
       "      <td>1121</td>\n",
       "      <td>1126</td>\n",
       "      <td>GC</td>\n",
       "      <td>3</td>\n",
       "    </tr>\n",
       "    <tr>\n",
       "      <th>4</th>\n",
       "      <td>1408</td>\n",
       "      <td>1413</td>\n",
       "      <td>CA</td>\n",
       "      <td>3</td>\n",
       "    </tr>\n",
       "  </tbody>\n",
       "</table>\n",
       "</div>"
      ],
      "text/plain": [
       "   H37Rv_start  H37Rv_end motif  repeats\n",
       "0          561        569   CGC        3\n",
       "1          562        570   GCC        3\n",
       "2          643        648    AC        3\n",
       "3         1121       1126    GC        3\n",
       "4         1408       1413    CA        3"
      ]
     },
     "execution_count": 63,
     "metadata": {},
     "output_type": "execute_result"
    }
   ],
   "source": [
    "SSR_H37Rv_df = pd.read_pickle('/n/data1/hms/dbmi/farhat/Roger/homoplasy_project/CSV_files/simple_sequence_repeat_regions/SSR_H37Rv_2-6bp_at_least_3_repeats.pkl')\n",
    "SSR_H37Rv_df.head()"
   ]
  },
  {
   "cell_type": "code",
   "execution_count": 64,
   "metadata": {},
   "outputs": [
    {
     "data": {
      "text/plain": [
       "(18316, 4)"
      ]
     },
     "execution_count": 64,
     "metadata": {},
     "output_type": "execute_result"
    }
   ],
   "source": [
    "SSR_H37Rv_df.shape"
   ]
  },
  {
   "cell_type": "code",
   "execution_count": 65,
   "metadata": {},
   "outputs": [
    {
     "name": "stderr",
     "output_type": "stream",
     "text": [
      "/home/rv76/anaconda2/lib/python2.7/site-packages/ipykernel_launcher.py:10: RuntimeWarning: invalid value encountered in less\n",
      "  # Remove the CWD from sys.path while we load stuff.\n"
     ]
    }
   ],
   "source": [
    "# create list to flag if region falls below EBR threshold\n",
    "SSR_EBR_pass = []\n",
    "\n",
    "for H37Rv_start,H37Rv_end in zip(SSR_H37Rv_df.H37Rv_start, SSR_H37Rv_df.H37Rv_end):\n",
    "\n",
    "    # pull array for EBR\n",
    "    EBR_scores = EBR_36_scores_array[H37Rv_start-1:H37Rv_end-1]\n",
    "\n",
    "    # check to see if any EBR scores for these positions < 0.90\n",
    "    EBR_scores_HQ_bool = EBR_scores < 0.90\n",
    "    \n",
    "    if sum(EBR_scores_HQ_bool) >= 1: # at least 1 position had EBR score below threshold\n",
    "        SSR_EBR_pass.append(False)\n",
    "    else:\n",
    "        SSR_EBR_pass.append(True)\n",
    "        \n",
    "# append col that indicates whether this region passed EBR to dataframe\n",
    "SSR_H37Rv_df.loc[:,'EBR_pass'] = SSR_EBR_pass"
   ]
  },
  {
   "cell_type": "code",
   "execution_count": 66,
   "metadata": {},
   "outputs": [
    {
     "data": {
      "text/html": [
       "<div>\n",
       "<style>\n",
       "    .dataframe thead tr:only-child th {\n",
       "        text-align: right;\n",
       "    }\n",
       "\n",
       "    .dataframe thead th {\n",
       "        text-align: left;\n",
       "    }\n",
       "\n",
       "    .dataframe tbody tr th {\n",
       "        vertical-align: top;\n",
       "    }\n",
       "</style>\n",
       "<table border=\"1\" class=\"dataframe\">\n",
       "  <thead>\n",
       "    <tr style=\"text-align: right;\">\n",
       "      <th></th>\n",
       "      <th>H37Rv_start</th>\n",
       "      <th>H37Rv_end</th>\n",
       "      <th>motif</th>\n",
       "      <th>repeats</th>\n",
       "      <th>EBR_pass</th>\n",
       "    </tr>\n",
       "  </thead>\n",
       "  <tbody>\n",
       "    <tr>\n",
       "      <th>0</th>\n",
       "      <td>561</td>\n",
       "      <td>569</td>\n",
       "      <td>CGC</td>\n",
       "      <td>3</td>\n",
       "      <td>True</td>\n",
       "    </tr>\n",
       "    <tr>\n",
       "      <th>1</th>\n",
       "      <td>562</td>\n",
       "      <td>570</td>\n",
       "      <td>GCC</td>\n",
       "      <td>3</td>\n",
       "      <td>True</td>\n",
       "    </tr>\n",
       "    <tr>\n",
       "      <th>2</th>\n",
       "      <td>643</td>\n",
       "      <td>648</td>\n",
       "      <td>AC</td>\n",
       "      <td>3</td>\n",
       "      <td>True</td>\n",
       "    </tr>\n",
       "    <tr>\n",
       "      <th>3</th>\n",
       "      <td>1121</td>\n",
       "      <td>1126</td>\n",
       "      <td>GC</td>\n",
       "      <td>3</td>\n",
       "      <td>True</td>\n",
       "    </tr>\n",
       "    <tr>\n",
       "      <th>4</th>\n",
       "      <td>1408</td>\n",
       "      <td>1413</td>\n",
       "      <td>CA</td>\n",
       "      <td>3</td>\n",
       "      <td>True</td>\n",
       "    </tr>\n",
       "  </tbody>\n",
       "</table>\n",
       "</div>"
      ],
      "text/plain": [
       "   H37Rv_start  H37Rv_end motif  repeats  EBR_pass\n",
       "0          561        569   CGC        3      True\n",
       "1          562        570   GCC        3      True\n",
       "2          643        648    AC        3      True\n",
       "3         1121       1126    GC        3      True\n",
       "4         1408       1413    CA        3      True"
      ]
     },
     "execution_count": 66,
     "metadata": {},
     "output_type": "execute_result"
    }
   ],
   "source": [
    "SSR_H37Rv_df.head()"
   ]
  },
  {
   "cell_type": "code",
   "execution_count": 67,
   "metadata": {},
   "outputs": [
    {
     "data": {
      "text/plain": [
       "(627, 5)"
      ]
     },
     "execution_count": 67,
     "metadata": {},
     "output_type": "execute_result"
    }
   ],
   "source": [
    "SSR_H37Rv_df[SSR_H37Rv_df.EBR_pass == False].shape"
   ]
  },
  {
   "cell_type": "code",
   "execution_count": 68,
   "metadata": {},
   "outputs": [
    {
     "data": {
      "text/plain": [
       "(17689, 5)"
      ]
     },
     "execution_count": 68,
     "metadata": {},
     "output_type": "execute_result"
    }
   ],
   "source": [
    "SSR_H37Rv_df[SSR_H37Rv_df.EBR_pass == True].shape"
   ]
  },
  {
   "cell_type": "code",
   "execution_count": null,
   "metadata": {},
   "outputs": [],
   "source": []
  }
 ],
 "metadata": {
  "kernelspec": {
   "display_name": "Python 2",
   "language": "python",
   "name": "python2"
  },
  "language_info": {
   "codemirror_mode": {
    "name": "ipython",
    "version": 2
   },
   "file_extension": ".py",
   "mimetype": "text/x-python",
   "name": "python",
   "nbconvert_exporter": "python",
   "pygments_lexer": "ipython2",
   "version": "2.7.16"
  }
 },
 "nbformat": 4,
 "nbformat_minor": 4
}
