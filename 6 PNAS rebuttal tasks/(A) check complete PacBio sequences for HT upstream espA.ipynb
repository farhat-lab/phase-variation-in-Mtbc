{
 "cells": [
  {
   "cell_type": "code",
   "execution_count": 1,
   "metadata": {},
   "outputs": [
    {
     "data": {
      "text/html": [
       "<style>.container { width:100% !important; }</style>"
      ],
      "text/plain": [
       "<IPython.core.display.HTML object>"
      ]
     },
     "metadata": {},
     "output_type": "display_data"
    }
   ],
   "source": [
    "from IPython.core.display import display, HTML\n",
    "display(HTML(\"<style>.container { width:100% !important; }</style>\"))\n",
    "%matplotlib inline"
   ]
  },
  {
   "cell_type": "code",
   "execution_count": 2,
   "metadata": {},
   "outputs": [],
   "source": [
    "import pandas as pd\n",
    "import numpy as np\n",
    "import Bio\n",
    "\n",
    "from Bio.Alphabet import IUPAC\n",
    "from Bio.Blast.Applications import NcbiblastnCommandline\n",
    "from Bio.Blast import NCBIXML\n",
    "from Bio.Seq import Seq\n",
    "from Bio.Seq import MutableSeq\n",
    "from Bio.SeqRecord import SeqRecord\n",
    "from Bio.SeqFeature import SeqFeature, FeatureLocation\n",
    "from Bio import pairwise2\n",
    "from Bio import SeqIO\n",
    "from Bio.Graphics import GenomeDiagram\n",
    "from Bio.SeqUtils import GC\n",
    "from Bio.Align.Applications import MuscleCommandline\n",
    "from StringIO import StringIO\n",
    "from Bio import AlignIO\n",
    "from Bio.Align import AlignInfo\n",
    "from Bio.Seq import MutableSeq\n",
    "\n",
    "import os\n",
    "import sys\n",
    "from shutil import copy\n",
    "import pickle\n",
    "import shutil"
   ]
  },
  {
   "cell_type": "markdown",
   "metadata": {},
   "source": [
    "#### check INDELs es upstream *espA* HT"
   ]
  },
  {
   "cell_type": "code",
   "execution_count": 3,
   "metadata": {},
   "outputs": [],
   "source": [
    "#load in INDELs\n",
    "all_homoplasic_INDELs = pd.read_pickle('/n/data1/hms/dbmi/farhat/Roger/homoplasy_project/CSV_files/homoplasies_detected_in_global_lineages/INDEL homoplasies/homoplasy_count_across_lineages_spacer_4.pkl')"
   ]
  },
  {
   "cell_type": "code",
   "execution_count": 4,
   "metadata": {
    "scrolled": true
   },
   "outputs": [
    {
     "data": {
      "text/html": [
       "<div>\n",
       "<style>\n",
       "    .dataframe thead tr:only-child th {\n",
       "        text-align: right;\n",
       "    }\n",
       "\n",
       "    .dataframe thead th {\n",
       "        text-align: left;\n",
       "    }\n",
       "\n",
       "    .dataframe tbody tr th {\n",
       "        vertical-align: top;\n",
       "    }\n",
       "</style>\n",
       "<table border=\"1\" class=\"dataframe\">\n",
       "  <thead>\n",
       "    <tr style=\"text-align: right;\">\n",
       "      <th></th>\n",
       "      <th>pos</th>\n",
       "      <th>ref</th>\n",
       "      <th>alt</th>\n",
       "      <th>gene_category</th>\n",
       "      <th>gene_name</th>\n",
       "      <th>gene_id</th>\n",
       "      <th>gene_pos</th>\n",
       "      <th>ins_del</th>\n",
       "      <th>INDEL_type</th>\n",
       "      <th>codon_pos</th>\n",
       "      <th>...</th>\n",
       "      <th>1</th>\n",
       "      <th>2</th>\n",
       "      <th>3</th>\n",
       "      <th>4A</th>\n",
       "      <th>4B</th>\n",
       "      <th>4C</th>\n",
       "      <th>5</th>\n",
       "      <th>6</th>\n",
       "      <th>total</th>\n",
       "      <th>num_isolates</th>\n",
       "    </tr>\n",
       "  </thead>\n",
       "  <tbody>\n",
       "    <tr>\n",
       "      <th>42184</th>\n",
       "      <td>4056480</td>\n",
       "      <td>GT</td>\n",
       "      <td>G</td>\n",
       "      <td>None</td>\n",
       "      <td>espA_ephA</td>\n",
       "      <td>Rv3616c_Rv3617</td>\n",
       "      <td>None</td>\n",
       "      <td>del</td>\n",
       "      <td>frameshift</td>\n",
       "      <td>None</td>\n",
       "      <td>...</td>\n",
       "      <td>18.0</td>\n",
       "      <td>7.0</td>\n",
       "      <td>4.0</td>\n",
       "      <td>24.0</td>\n",
       "      <td>13.0</td>\n",
       "      <td>14.0</td>\n",
       "      <td>0.0</td>\n",
       "      <td>0.0</td>\n",
       "      <td>80.0</td>\n",
       "      <td>361</td>\n",
       "    </tr>\n",
       "    <tr>\n",
       "      <th>42185</th>\n",
       "      <td>4056480</td>\n",
       "      <td>G</td>\n",
       "      <td>GT</td>\n",
       "      <td>None</td>\n",
       "      <td>espA_ephA</td>\n",
       "      <td>Rv3616c_Rv3617</td>\n",
       "      <td>None</td>\n",
       "      <td>ins</td>\n",
       "      <td>frameshift</td>\n",
       "      <td>None</td>\n",
       "      <td>...</td>\n",
       "      <td>7.0</td>\n",
       "      <td>4.0</td>\n",
       "      <td>1.0</td>\n",
       "      <td>3.0</td>\n",
       "      <td>4.0</td>\n",
       "      <td>0.0</td>\n",
       "      <td>0.0</td>\n",
       "      <td>0.0</td>\n",
       "      <td>19.0</td>\n",
       "      <td>34</td>\n",
       "    </tr>\n",
       "    <tr>\n",
       "      <th>42187</th>\n",
       "      <td>4056487</td>\n",
       "      <td>T</td>\n",
       "      <td>TC</td>\n",
       "      <td>None</td>\n",
       "      <td>espA_ephA</td>\n",
       "      <td>Rv3616c_Rv3617</td>\n",
       "      <td>None</td>\n",
       "      <td>ins</td>\n",
       "      <td>frameshift</td>\n",
       "      <td>None</td>\n",
       "      <td>...</td>\n",
       "      <td>0.0</td>\n",
       "      <td>4.0</td>\n",
       "      <td>0.0</td>\n",
       "      <td>0.0</td>\n",
       "      <td>1.0</td>\n",
       "      <td>3.0</td>\n",
       "      <td>0.0</td>\n",
       "      <td>0.0</td>\n",
       "      <td>8.0</td>\n",
       "      <td>9</td>\n",
       "    </tr>\n",
       "    <tr>\n",
       "      <th>42186</th>\n",
       "      <td>4056486</td>\n",
       "      <td>T</td>\n",
       "      <td>TC</td>\n",
       "      <td>None</td>\n",
       "      <td>espA_ephA</td>\n",
       "      <td>Rv3616c_Rv3617</td>\n",
       "      <td>None</td>\n",
       "      <td>ins</td>\n",
       "      <td>frameshift</td>\n",
       "      <td>None</td>\n",
       "      <td>...</td>\n",
       "      <td>0.0</td>\n",
       "      <td>0.0</td>\n",
       "      <td>0.0</td>\n",
       "      <td>1.0</td>\n",
       "      <td>0.0</td>\n",
       "      <td>0.0</td>\n",
       "      <td>0.0</td>\n",
       "      <td>0.0</td>\n",
       "      <td>1.0</td>\n",
       "      <td>1</td>\n",
       "    </tr>\n",
       "  </tbody>\n",
       "</table>\n",
       "<p>4 rows × 22 columns</p>\n",
       "</div>"
      ],
      "text/plain": [
       "           pos ref alt gene_category  gene_name         gene_id gene_pos  \\\n",
       "42184  4056480  GT   G          None  espA_ephA  Rv3616c_Rv3617     None   \n",
       "42185  4056480   G  GT          None  espA_ephA  Rv3616c_Rv3617     None   \n",
       "42187  4056487   T  TC          None  espA_ephA  Rv3616c_Rv3617     None   \n",
       "42186  4056486   T  TC          None  espA_ephA  Rv3616c_Rv3617     None   \n",
       "\n",
       "      ins_del  INDEL_type codon_pos      ...          1    2    3    4A    4B  \\\n",
       "42184     del  frameshift      None      ...       18.0  7.0  4.0  24.0  13.0   \n",
       "42185     ins  frameshift      None      ...        7.0  4.0  1.0   3.0   4.0   \n",
       "42187     ins  frameshift      None      ...        0.0  4.0  0.0   0.0   1.0   \n",
       "42186     ins  frameshift      None      ...        0.0  0.0  0.0   1.0   0.0   \n",
       "\n",
       "         4C    5    6  total  num_isolates  \n",
       "42184  14.0  0.0  0.0   80.0           361  \n",
       "42185   0.0  0.0  0.0   19.0            34  \n",
       "42187   3.0  0.0  0.0    8.0             9  \n",
       "42186   0.0  0.0  0.0    1.0             1  \n",
       "\n",
       "[4 rows x 22 columns]"
      ]
     },
     "execution_count": 4,
     "metadata": {},
     "output_type": "execute_result"
    }
   ],
   "source": [
    "all_homoplasic_INDELs[(all_homoplasic_INDELs.pos >= 4056478) & (all_homoplasic_INDELs.pos <= 4056489)]"
   ]
  },
  {
   "cell_type": "markdown",
   "metadata": {},
   "source": [
    "These are the IDs for **L5 & L6 isolates** in Max's 36 complete assemblies"
   ]
  },
  {
   "cell_type": "markdown",
   "metadata": {},
   "source": [
    "**N1272** L5\n",
    "\n",
    "**N1176** L5\n",
    "\n",
    "**N0091** L6\n",
    "\n",
    "**N1177** L6\n",
    "\n",
    "**N1202** L6\n",
    "\n",
    "**RW-TB008** L8"
   ]
  },
  {
   "cell_type": "markdown",
   "metadata": {},
   "source": [
    "#### Define function to get the upstream sequence of *espA* for each genome, along with details of whether it's the same HT sequence as in H37Rv"
   ]
  },
  {
   "cell_type": "code",
   "execution_count": 83,
   "metadata": {},
   "outputs": [],
   "source": [
    "def get_esp_upstream_seq(Mtb_genome_tag, Lin):\n",
    "\n",
    "    print(Lin + ' : ' + Mtb_genome_tag)\n",
    "\n",
    "    # load the H37Rv-assembly mappings with the sequences to alter in each HT/SSR region\n",
    "    repeat_region_mapping_df =  pd.read_pickle('/n/data1/hms/dbmi/farhat/Roger/homoplasy_project/HT_SSR_recall_sims/H37Rv_to_assembly_mappings_2/HT_SSR_'+Mtb_genome_tag+'_mappings.pkl')\n",
    "\n",
    "    # re-sort to order HT/SSR regions in \n",
    "    repeat_region_mapping_df.sort_values(by='chromStart', ascending=True, inplace=True)\n",
    "    repeat_region_mapping_df.reset_index(inplace=True, drop=True)\n",
    "\n",
    "    HT_start = int(repeat_region_mapping_df[repeat_region_mapping_df.locus_tag == 'inter_Rv3616c_Rv3617'].assembly_chromStart.values[0])\n",
    "    HT_end = int(repeat_region_mapping_df[repeat_region_mapping_df.locus_tag == 'inter_Rv3616c_Rv3617'].assembly_chromEnd.values[0])\n",
    "    \n",
    "    print(repeat_region_mapping_df[repeat_region_mapping_df.locus_tag == 'inter_Rv3616c_Rv3617'].loc[:,['seq_diff_wrt_H37Rv']])\n",
    "\n",
    "    # load FASTA of complete assembly sequence\n",
    "    Mtb_genome = '/n/data1/hms/dbmi/farhat/Roger/homoplasy_project/HT_SSR_recall_sims/220829.36CI.ForRoger.Asms/'+Mtb_genome_tag+'.fna'\n",
    "    for Mtb_genome in SeqIO.parse(Mtb_genome, \"fasta\"):\n",
    "        Mtb_genome.seq.alphabet = IUPAC.unambiguous_dna\n",
    "\n",
    "    print(Mtb_genome.seq[HT_start-5:HT_end+6])    \n",
    "    print(HT_start)\n",
    "    print('-----------------------------------------')\n",
    "    print('')\n",
    "    print('')"
   ]
  },
  {
   "cell_type": "code",
   "execution_count": 84,
   "metadata": {},
   "outputs": [
    {
     "name": "stdout",
     "output_type": "stream",
     "text": [
      "L5 : N1272\n",
      "   seq_diff_wrt_H37Rv\n",
      "44               same\n",
      "AACAGTTTTTTTCATGCT\n",
      "4064440\n",
      "-----------------------------------------\n",
      "\n",
      "\n",
      "L5 : N1176\n",
      "   seq_diff_wrt_H37Rv\n",
      "44               same\n",
      "AACAGTTTTTTTCATGCT\n",
      "4069764\n",
      "-----------------------------------------\n",
      "\n",
      "\n",
      "L6 : N1177\n",
      "   seq_diff_wrt_H37Rv\n",
      "44               same\n",
      "AACAGTTTTTTTCATGCT\n",
      "4035449\n",
      "-----------------------------------------\n",
      "\n",
      "\n",
      "L6 : N1202\n",
      "   seq_diff_wrt_H37Rv\n",
      "44               same\n",
      "AACAGTTTTTTTCATGCT\n",
      "4041613\n",
      "-----------------------------------------\n",
      "\n",
      "\n",
      "L8 : RW-TB008\n",
      "   seq_diff_wrt_H37Rv\n",
      "44               same\n",
      "AACAGTTTTTTTCATGCT\n",
      "4023783\n",
      "-----------------------------------------\n",
      "\n",
      "\n"
     ]
    }
   ],
   "source": [
    "for Mtb_genome_tag, Lineage in zip(['N1272','N1176','N1177','N1202','RW-TB008'],['L5','L5','L6','L6','L8']):\n",
    "    get_esp_upstream_seq(Mtb_genome_tag, Lineage)"
   ]
  },
  {
   "cell_type": "markdown",
   "metadata": {},
   "source": [
    "#### Coudn't map this region in one of the genomes, investigate more closely\n",
    "\n",
    "- check to see if we can find HT sequence in this genome assembly and at which coordinate it occurs"
   ]
  },
  {
   "cell_type": "code",
   "execution_count": 6,
   "metadata": {},
   "outputs": [
    {
     "data": {
      "text/html": [
       "<div>\n",
       "<style>\n",
       "    .dataframe thead tr:only-child th {\n",
       "        text-align: right;\n",
       "    }\n",
       "\n",
       "    .dataframe thead th {\n",
       "        text-align: left;\n",
       "    }\n",
       "\n",
       "    .dataframe tbody tr th {\n",
       "        vertical-align: top;\n",
       "    }\n",
       "</style>\n",
       "<table border=\"1\" class=\"dataframe\">\n",
       "  <thead>\n",
       "    <tr style=\"text-align: right;\">\n",
       "      <th></th>\n",
       "      <th>Chromosome</th>\n",
       "      <th>INDEL_homoplasy</th>\n",
       "      <th>chromEnd</th>\n",
       "      <th>chromStart</th>\n",
       "      <th>gene_name</th>\n",
       "      <th>locus_tag</th>\n",
       "      <th>num_isolates_with_INDEL</th>\n",
       "      <th>polyNT</th>\n",
       "      <th>repeats</th>\n",
       "      <th>type</th>\n",
       "      <th>assembly_chromStart</th>\n",
       "      <th>assembly_polyNT</th>\n",
       "      <th>assembly_chromEnd</th>\n",
       "      <th>seq_diff_wrt_H37Rv</th>\n",
       "      <th>add_seq_into_assembly</th>\n",
       "      <th>expected_variant_call</th>\n",
       "    </tr>\n",
       "  </thead>\n",
       "  <tbody>\n",
       "    <tr>\n",
       "      <th>44</th>\n",
       "      <td>NC_000962.3</td>\n",
       "      <td>108</td>\n",
       "      <td>4056487</td>\n",
       "      <td>4056480</td>\n",
       "      <td>inter_espA_ephA</td>\n",
       "      <td>inter_Rv3616c_Rv3617</td>\n",
       "      <td>405</td>\n",
       "      <td>TTTTTTT</td>\n",
       "      <td>1</td>\n",
       "      <td>HT</td>\n",
       "      <td>NaN</td>\n",
       "      <td>no match</td>\n",
       "      <td>NaN</td>\n",
       "      <td>no match</td>\n",
       "      <td>no match</td>\n",
       "      <td>no match</td>\n",
       "    </tr>\n",
       "  </tbody>\n",
       "</table>\n",
       "</div>"
      ],
      "text/plain": [
       "     Chromosome  INDEL_homoplasy  chromEnd  chromStart        gene_name  \\\n",
       "44  NC_000962.3              108   4056487     4056480  inter_espA_ephA   \n",
       "\n",
       "               locus_tag  num_isolates_with_INDEL   polyNT  repeats type  \\\n",
       "44  inter_Rv3616c_Rv3617                      405  TTTTTTT        1   HT   \n",
       "\n",
       "    assembly_chromStart assembly_polyNT  assembly_chromEnd seq_diff_wrt_H37Rv  \\\n",
       "44                  NaN        no match                NaN           no match   \n",
       "\n",
       "   add_seq_into_assembly expected_variant_call  \n",
       "44              no match              no match  "
      ]
     },
     "execution_count": 6,
     "metadata": {},
     "output_type": "execute_result"
    }
   ],
   "source": [
    "Mtb_genome_tag = 'N0091'\n",
    "repeat_region_mapping_df =  pd.read_pickle('/n/data1/hms/dbmi/farhat/Roger/homoplasy_project/HT_SSR_recall_sims/H37Rv_to_assembly_mappings_2/HT_SSR_'+Mtb_genome_tag+'_mappings.pkl')\n",
    "\n",
    "# re-sort to order HT/SSR regions in \n",
    "repeat_region_mapping_df.sort_values(by='chromStart', ascending=True, inplace=True)\n",
    "repeat_region_mapping_df.reset_index(inplace=True, drop=True)\n",
    "\n",
    "repeat_region_mapping_df[repeat_region_mapping_df.locus_tag == 'inter_Rv3616c_Rv3617']"
   ]
  },
  {
   "cell_type": "markdown",
   "metadata": {},
   "source": [
    "Load the FASTA sequence for this assembly and search for string matches for different permutations of HT + flanking seqs"
   ]
  },
  {
   "cell_type": "code",
   "execution_count": 7,
   "metadata": {},
   "outputs": [],
   "source": [
    "# load FASTA of complete assembly sequence\n",
    "Mtb_genome = '/n/data1/hms/dbmi/farhat/Roger/homoplasy_project/HT_SSR_recall_sims/220829.36CI.ForRoger.Asms/'+Mtb_genome_tag+'.fna'\n",
    "for Mtb_genome in SeqIO.parse(Mtb_genome, \"fasta\"):\n",
    "    Mtb_genome.seq.alphabet = IUPAC.unambiguous_dna"
   ]
  },
  {
   "cell_type": "code",
   "execution_count": 8,
   "metadata": {},
   "outputs": [
    {
     "data": {
      "text/plain": [
       "SeqRecord(seq=Seq('TTGACCGATGACCCCGGTTCAGGCTTCACCACAGTGTGGAACGCGGTCGTCTCC...TCG', IUPACUnambiguousDNA()), id='gnl|XXX|KIOFIBPM_1', name='gnl|XXX|KIOFIBPM_1', description='gnl|XXX|KIOFIBPM_1', dbxrefs=[])"
      ]
     },
     "execution_count": 8,
     "metadata": {},
     "output_type": "execute_result"
    }
   ],
   "source": [
    "Mtb_genome"
   ]
  },
  {
   "cell_type": "markdown",
   "metadata": {},
   "source": [
    "attempt 1 (**3bp flanking seq + 7T + 3bp flanking seq**) no match (this is what was systematically searched before with 3bp flanking seq on each side of 7T)"
   ]
  },
  {
   "cell_type": "code",
   "execution_count": 9,
   "metadata": {},
   "outputs": [
    {
     "data": {
      "text/plain": [
       "[]"
      ]
     },
     "execution_count": 9,
     "metadata": {},
     "output_type": "execute_result"
    }
   ],
   "source": [
    "H37Rv_repeat_seq_and_flanks = 'CAGTTTTTTTCAT'\n",
    "Mtb_genome_str = Mtb_genome.seq\n",
    "x = [i for i in range(len(Mtb_genome_str)) if Mtb_genome_str.startswith(str(H37Rv_repeat_seq_and_flanks), i)]\n",
    "x"
   ]
  },
  {
   "cell_type": "markdown",
   "metadata": {},
   "source": [
    "attempt 2 (**2bp flanking seq + 7T + 2bp flanking seq**) again no match"
   ]
  },
  {
   "cell_type": "code",
   "execution_count": 10,
   "metadata": {},
   "outputs": [
    {
     "data": {
      "text/plain": [
       "[]"
      ]
     },
     "execution_count": 10,
     "metadata": {},
     "output_type": "execute_result"
    }
   ],
   "source": [
    "H37Rv_repeat_seq_and_flanks = 'AGTTTTTTTCA'\n",
    "Mtb_genome_str = Mtb_genome.seq\n",
    "x = [i for i in range(len(Mtb_genome_str)) if Mtb_genome_str.startswith(str(H37Rv_repeat_seq_and_flanks), i)]\n",
    "x"
   ]
  },
  {
   "cell_type": "markdown",
   "metadata": {},
   "source": [
    "attempt 3 (**1bp flanking seq + 7T + 1bp flanking seq**) there are two matches but neither where the start coordinate is for this HT in H37Rv"
   ]
  },
  {
   "cell_type": "code",
   "execution_count": 11,
   "metadata": {},
   "outputs": [
    {
     "data": {
      "text/plain": [
       "[1168843, 2548373]"
      ]
     },
     "execution_count": 11,
     "metadata": {},
     "output_type": "execute_result"
    }
   ],
   "source": [
    "H37Rv_repeat_seq_and_flanks = 'GTTTTTTTC'\n",
    "x = [i for i in range(len(Mtb_genome_str)) if Mtb_genome_str.startswith(str(H37Rv_repeat_seq_and_flanks), i)]\n",
    "x"
   ]
  },
  {
   "cell_type": "markdown",
   "metadata": {},
   "source": [
    "attempt 4 (**2bp flanking seq + 6T + 3bp flanking seq**) near start coordinate for this HT in H37Rv, this is the HT with 1bp T deletion"
   ]
  },
  {
   "cell_type": "code",
   "execution_count": 17,
   "metadata": {},
   "outputs": [
    {
     "data": {
      "text/plain": [
       "[4030203]"
      ]
     },
     "execution_count": 17,
     "metadata": {},
     "output_type": "execute_result"
    }
   ],
   "source": [
    "H37Rv_repeat_seq_and_flanks = 'AGTTTTTTCAT'\n",
    "Mtb_genome_str = Mtb_genome.seq\n",
    "x = [i for i in range(len(Mtb_genome_str)) if Mtb_genome_str.startswith(str(H37Rv_repeat_seq_and_flanks), i)]\n",
    "x"
   ]
  },
  {
   "cell_type": "code",
   "execution_count": null,
   "metadata": {},
   "outputs": [],
   "source": []
  },
  {
   "cell_type": "code",
   "execution_count": null,
   "metadata": {},
   "outputs": [],
   "source": []
  }
 ],
 "metadata": {
  "kernelspec": {
   "display_name": "Python 2",
   "language": "python",
   "name": "python2"
  },
  "language_info": {
   "codemirror_mode": {
    "name": "ipython",
    "version": 2
   },
   "file_extension": ".py",
   "mimetype": "text/x-python",
   "name": "python",
   "nbconvert_exporter": "python",
   "pygments_lexer": "ipython2",
   "version": "2.7.16"
  }
 },
 "nbformat": 4,
 "nbformat_minor": 4
}
