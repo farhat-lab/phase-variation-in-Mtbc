{
 "cells": [
  {
   "cell_type": "code",
   "execution_count": 173,
   "metadata": {},
   "outputs": [
    {
     "data": {
      "text/html": [
       "<style>.container { width:100% !important; }</style>"
      ],
      "text/plain": [
       "<IPython.core.display.HTML object>"
      ]
     },
     "metadata": {},
     "output_type": "display_data"
    }
   ],
   "source": [
    "from IPython.core.display import display, HTML\n",
    "display(HTML(\"<style>.container { width:100% !important; }</style>\"))"
   ]
  },
  {
   "cell_type": "code",
   "execution_count": 174,
   "metadata": {},
   "outputs": [],
   "source": [
    "%matplotlib inline\n",
    "import os\n",
    "import pandas as pd\n",
    "import numpy as np\n",
    "import sys\n",
    "from collections import Counter\n",
    "import matplotlib.pyplot as plt\n",
    "import matplotlib as mpl\n",
    "from matplotlib import gridspec\n",
    "from matplotlib.patches import Rectangle\n",
    "from matplotlib.lines import Line2D\n",
    "import scipy.stats\n",
    "from mpl_toolkits.axes_grid1 import make_axes_locatable\n",
    "\n",
    "import Bio\n",
    "from Bio.Alphabet import IUPAC\n",
    "from Bio.Blast.Applications import NcbiblastnCommandline\n",
    "from Bio.Blast import NCBIXML\n",
    "from Bio.Seq import Seq\n",
    "from Bio.SeqRecord import SeqRecord\n",
    "from Bio.SeqFeature import SeqFeature, FeatureLocation\n",
    "from Bio import pairwise2\n",
    "from Bio import SeqIO\n",
    "from Bio.Graphics import GenomeDiagram\n",
    "from Bio.SeqUtils import GC\n",
    "from Bio.Align.Applications import MuscleCommandline\n",
    "from StringIO import StringIO\n",
    "from Bio import AlignIO\n",
    "from Bio.Align import AlignInfo\n",
    "from Bio.Seq import MutableSeq\n",
    "\n",
    "#for exporting to Adobe Illustrator\n",
    "mpl.rcParams['pdf.fonttype'] = 42\n",
    "mpl.rcParams['ps.fonttype'] = 42"
   ]
  },
  {
   "cell_type": "code",
   "execution_count": 175,
   "metadata": {},
   "outputs": [],
   "source": [
    "plt.style.use('ggplot')\n",
    "plt.rcParams['lines.linewidth']=0\n",
    "plt.rcParams['axes.facecolor']='1.0'\n",
    "plt.rcParams['xtick.color']='black'\n",
    "plt.rcParams['axes.grid']=False\n",
    "plt.rcParams['axes.edgecolor']='black'\n",
    "plt.rcParams['grid.color']= '1.0'\n",
    "plt.rcParams.update({'font.size': 10})\n",
    "plt.rc('font', family='serif')"
   ]
  },
  {
   "cell_type": "markdown",
   "metadata": {},
   "source": [
    "####################################################################################################################################################################################"
   ]
  },
  {
   "cell_type": "markdown",
   "metadata": {},
   "source": [
    "## [0] Load in Hs from *TopDis (spacer length = 4)* for INDELs, and get top 10 HTs & top 10 SSRs"
   ]
  },
  {
   "cell_type": "markdown",
   "metadata": {},
   "source": [
    "####################################################################################################################################################################################"
   ]
  },
  {
   "cell_type": "code",
   "execution_count": 200,
   "metadata": {},
   "outputs": [],
   "source": [
    "#load in INDELs\n",
    "all_homoplasic_INDELs = pd.read_pickle('/n/data1/hms/dbmi/farhat/Roger/homoplasy_project/CSV_files/homoplasies_detected_in_global_lineages/INDEL homoplasies/homoplasy_count_across_lineages_spacer_4.pkl')"
   ]
  },
  {
   "cell_type": "code",
   "execution_count": 201,
   "metadata": {},
   "outputs": [
    {
     "data": {
      "text/html": [
       "<div>\n",
       "<style>\n",
       "    .dataframe thead tr:only-child th {\n",
       "        text-align: right;\n",
       "    }\n",
       "\n",
       "    .dataframe thead th {\n",
       "        text-align: left;\n",
       "    }\n",
       "\n",
       "    .dataframe tbody tr th {\n",
       "        vertical-align: top;\n",
       "    }\n",
       "</style>\n",
       "<table border=\"1\" class=\"dataframe\">\n",
       "  <thead>\n",
       "    <tr style=\"text-align: right;\">\n",
       "      <th></th>\n",
       "      <th>pos</th>\n",
       "      <th>ref</th>\n",
       "      <th>alt</th>\n",
       "      <th>gene_category</th>\n",
       "      <th>gene_name</th>\n",
       "      <th>gene_id</th>\n",
       "      <th>gene_pos</th>\n",
       "      <th>ins_del</th>\n",
       "      <th>INDEL_type</th>\n",
       "      <th>codon_pos</th>\n",
       "      <th>...</th>\n",
       "      <th>1</th>\n",
       "      <th>2</th>\n",
       "      <th>3</th>\n",
       "      <th>4A</th>\n",
       "      <th>4B</th>\n",
       "      <th>4C</th>\n",
       "      <th>5</th>\n",
       "      <th>6</th>\n",
       "      <th>total</th>\n",
       "      <th>num_isolates</th>\n",
       "    </tr>\n",
       "  </thead>\n",
       "  <tbody>\n",
       "    <tr>\n",
       "      <th>47371</th>\n",
       "      <td>4408100</td>\n",
       "      <td>GC</td>\n",
       "      <td>G</td>\n",
       "      <td>Antibiotic Resistance</td>\n",
       "      <td>gid</td>\n",
       "      <td>Rv3919c</td>\n",
       "      <td>103</td>\n",
       "      <td>del</td>\n",
       "      <td>frameshift</td>\n",
       "      <td>35</td>\n",
       "      <td>...</td>\n",
       "      <td>41.0</td>\n",
       "      <td>27.0</td>\n",
       "      <td>51.0</td>\n",
       "      <td>43.0</td>\n",
       "      <td>11.0</td>\n",
       "      <td>29.0</td>\n",
       "      <td>0.0</td>\n",
       "      <td>0.0</td>\n",
       "      <td>202.0</td>\n",
       "      <td>388</td>\n",
       "    </tr>\n",
       "    <tr>\n",
       "      <th>47365</th>\n",
       "      <td>4408087</td>\n",
       "      <td>CG</td>\n",
       "      <td>C</td>\n",
       "      <td>Antibiotic Resistance</td>\n",
       "      <td>gid</td>\n",
       "      <td>Rv3919c</td>\n",
       "      <td>116</td>\n",
       "      <td>del</td>\n",
       "      <td>frameshift</td>\n",
       "      <td>39</td>\n",
       "      <td>...</td>\n",
       "      <td>23.0</td>\n",
       "      <td>11.0</td>\n",
       "      <td>35.0</td>\n",
       "      <td>33.0</td>\n",
       "      <td>10.0</td>\n",
       "      <td>18.0</td>\n",
       "      <td>0.0</td>\n",
       "      <td>0.0</td>\n",
       "      <td>130.0</td>\n",
       "      <td>212</td>\n",
       "    </tr>\n",
       "    <tr>\n",
       "      <th>47313</th>\n",
       "      <td>4407851</td>\n",
       "      <td>GC</td>\n",
       "      <td>G</td>\n",
       "      <td>Antibiotic Resistance</td>\n",
       "      <td>gid</td>\n",
       "      <td>Rv3919c</td>\n",
       "      <td>352</td>\n",
       "      <td>del</td>\n",
       "      <td>frameshift</td>\n",
       "      <td>118</td>\n",
       "      <td>...</td>\n",
       "      <td>21.0</td>\n",
       "      <td>9.0</td>\n",
       "      <td>40.0</td>\n",
       "      <td>20.0</td>\n",
       "      <td>6.0</td>\n",
       "      <td>19.0</td>\n",
       "      <td>0.0</td>\n",
       "      <td>0.0</td>\n",
       "      <td>115.0</td>\n",
       "      <td>182</td>\n",
       "    </tr>\n",
       "    <tr>\n",
       "      <th>25151</th>\n",
       "      <td>2288850</td>\n",
       "      <td>A</td>\n",
       "      <td>ACC</td>\n",
       "      <td>Antibiotic Resistance</td>\n",
       "      <td>pncA</td>\n",
       "      <td>Rv2043c</td>\n",
       "      <td>392</td>\n",
       "      <td>ins</td>\n",
       "      <td>frameshift</td>\n",
       "      <td>131</td>\n",
       "      <td>...</td>\n",
       "      <td>1.0</td>\n",
       "      <td>14.0</td>\n",
       "      <td>6.0</td>\n",
       "      <td>3.0</td>\n",
       "      <td>6.0</td>\n",
       "      <td>2.0</td>\n",
       "      <td>0.0</td>\n",
       "      <td>0.0</td>\n",
       "      <td>32.0</td>\n",
       "      <td>48</td>\n",
       "    </tr>\n",
       "    <tr>\n",
       "      <th>47315</th>\n",
       "      <td>4407851</td>\n",
       "      <td>G</td>\n",
       "      <td>GC</td>\n",
       "      <td>Antibiotic Resistance</td>\n",
       "      <td>gid</td>\n",
       "      <td>Rv3919c</td>\n",
       "      <td>352</td>\n",
       "      <td>ins</td>\n",
       "      <td>frameshift</td>\n",
       "      <td>118</td>\n",
       "      <td>...</td>\n",
       "      <td>5.0</td>\n",
       "      <td>1.0</td>\n",
       "      <td>12.0</td>\n",
       "      <td>5.0</td>\n",
       "      <td>7.0</td>\n",
       "      <td>1.0</td>\n",
       "      <td>0.0</td>\n",
       "      <td>0.0</td>\n",
       "      <td>31.0</td>\n",
       "      <td>52</td>\n",
       "    </tr>\n",
       "  </tbody>\n",
       "</table>\n",
       "<p>5 rows × 22 columns</p>\n",
       "</div>"
      ],
      "text/plain": [
       "           pos ref  alt          gene_category gene_name  gene_id gene_pos  \\\n",
       "47371  4408100  GC    G  Antibiotic Resistance       gid  Rv3919c      103   \n",
       "47365  4408087  CG    C  Antibiotic Resistance       gid  Rv3919c      116   \n",
       "47313  4407851  GC    G  Antibiotic Resistance       gid  Rv3919c      352   \n",
       "25151  2288850   A  ACC  Antibiotic Resistance      pncA  Rv2043c      392   \n",
       "47315  4407851   G   GC  Antibiotic Resistance       gid  Rv3919c      352   \n",
       "\n",
       "      ins_del  INDEL_type codon_pos      ...          1     2     3    4A  \\\n",
       "47371     del  frameshift        35      ...       41.0  27.0  51.0  43.0   \n",
       "47365     del  frameshift        39      ...       23.0  11.0  35.0  33.0   \n",
       "47313     del  frameshift       118      ...       21.0   9.0  40.0  20.0   \n",
       "25151     ins  frameshift       131      ...        1.0  14.0   6.0   3.0   \n",
       "47315     ins  frameshift       118      ...        5.0   1.0  12.0   5.0   \n",
       "\n",
       "         4B    4C    5    6  total  num_isolates  \n",
       "47371  11.0  29.0  0.0  0.0  202.0           388  \n",
       "47365  10.0  18.0  0.0  0.0  130.0           212  \n",
       "47313   6.0  19.0  0.0  0.0  115.0           182  \n",
       "25151   6.0   2.0  0.0  0.0   32.0            48  \n",
       "47315   7.0   1.0  0.0  0.0   31.0            52  \n",
       "\n",
       "[5 rows x 22 columns]"
      ]
     },
     "execution_count": 201,
     "metadata": {},
     "output_type": "execute_result"
    }
   ],
   "source": [
    "all_homoplasic_INDELs.head()"
   ]
  },
  {
   "cell_type": "code",
   "execution_count": 202,
   "metadata": {},
   "outputs": [
    {
     "data": {
      "text/plain": [
       "(46306, 22)"
      ]
     },
     "execution_count": 202,
     "metadata": {},
     "output_type": "execute_result"
    }
   ],
   "source": [
    "np.shape(all_homoplasic_INDELs)"
   ]
  },
  {
   "cell_type": "markdown",
   "metadata": {},
   "source": [
    "Note - SNPs & INDELs with homoplasy score $ = 0$ were dropped from DataFrames"
   ]
  },
  {
   "cell_type": "markdown",
   "metadata": {},
   "source": [
    "#### mark *mmpR* (Rv0678) as an Antibiotic Resistance gene"
   ]
  },
  {
   "cell_type": "code",
   "execution_count": 203,
   "metadata": {},
   "outputs": [],
   "source": [
    "all_homoplasic_INDELs.loc[all_homoplasic_INDELs['gene_id'] == 'Rv0678', 'gene_category'] = 'Antibiotic Resistance'\n",
    "all_homoplasic_INDELs.loc[all_homoplasic_INDELs['gene_id'] == 'Rv0678', 'gene_name'] = 'mmpR'\n",
    "\n",
    "all_homoplasic_INDELs.loc[all_homoplasic_INDELs['gene_id'] == 'Rv3696c', 'gene_category'] = 'Antibiotic Resistance'"
   ]
  },
  {
   "cell_type": "markdown",
   "metadata": {},
   "source": [
    "####################################################################################################################################################################################"
   ]
  },
  {
   "cell_type": "markdown",
   "metadata": {},
   "source": [
    "## [1] Separate INDELs into those occcurring in HT regions, SSR regions and those not in either"
   ]
  },
  {
   "cell_type": "markdown",
   "metadata": {},
   "source": [
    "####################################################################################################################################################################################"
   ]
  },
  {
   "cell_type": "markdown",
   "metadata": {},
   "source": [
    "### [1.1] HT"
   ]
  },
  {
   "cell_type": "code",
   "execution_count": 204,
   "metadata": {},
   "outputs": [],
   "source": [
    "homopolymeric_regions_from_Luca = pd.read_csv('/n/data1/hms/dbmi/farhat/Roger/homoplasy_project/CSV_files/comparison_with_homopolymeric_regions/homopolymer regions from Luca/list_homopolymers_7bpmore_pure.csv')"
   ]
  },
  {
   "cell_type": "markdown",
   "metadata": {},
   "source": [
    "**Note 1:** Luca's scheme starts at -1bp relative to the HT track since that's where variants are usually called"
   ]
  },
  {
   "cell_type": "markdown",
   "metadata": {},
   "source": [
    "**Note 2:** two HT regions in *PPE13* are located right next to eachother, change chromEnd position of the *TTTTTTTT* HT so we don't double count indels"
   ]
  },
  {
   "cell_type": "code",
   "execution_count": 205,
   "metadata": {},
   "outputs": [
    {
     "data": {
      "text/html": [
       "<div>\n",
       "<style>\n",
       "    .dataframe thead tr:only-child th {\n",
       "        text-align: right;\n",
       "    }\n",
       "\n",
       "    .dataframe thead th {\n",
       "        text-align: left;\n",
       "    }\n",
       "\n",
       "    .dataframe tbody tr th {\n",
       "        vertical-align: top;\n",
       "    }\n",
       "</style>\n",
       "<table border=\"1\" class=\"dataframe\">\n",
       "  <thead>\n",
       "    <tr style=\"text-align: right;\">\n",
       "      <th></th>\n",
       "      <th>Chromosome</th>\n",
       "      <th>chromStart</th>\n",
       "      <th>chromEnd</th>\n",
       "      <th>polyNT</th>\n",
       "      <th>locus_tag</th>\n",
       "      <th>gene_name</th>\n",
       "    </tr>\n",
       "  </thead>\n",
       "  <tbody>\n",
       "    <tr>\n",
       "      <th>80</th>\n",
       "      <td>NC_000962.3</td>\n",
       "      <td>976889</td>\n",
       "      <td>976897</td>\n",
       "      <td>TTTTTTTT</td>\n",
       "      <td>Rv0878c</td>\n",
       "      <td>PPE13</td>\n",
       "    </tr>\n",
       "    <tr>\n",
       "      <th>103</th>\n",
       "      <td>NC_000962.3</td>\n",
       "      <td>976897</td>\n",
       "      <td>976906</td>\n",
       "      <td>GGGGGGGGG</td>\n",
       "      <td>Rv0878c</td>\n",
       "      <td>PPE13</td>\n",
       "    </tr>\n",
       "  </tbody>\n",
       "</table>\n",
       "</div>"
      ],
      "text/plain": [
       "      Chromosome  chromStart  chromEnd     polyNT locus_tag gene_name\n",
       "80   NC_000962.3      976889    976897   TTTTTTTT   Rv0878c     PPE13\n",
       "103  NC_000962.3      976897    976906  GGGGGGGGG   Rv0878c     PPE13"
      ]
     },
     "execution_count": 205,
     "metadata": {},
     "output_type": "execute_result"
    }
   ],
   "source": [
    "homopolymeric_regions_from_Luca[homopolymeric_regions_from_Luca.gene_name == 'PPE13']"
   ]
  },
  {
   "cell_type": "code",
   "execution_count": 206,
   "metadata": {},
   "outputs": [],
   "source": [
    "homopolymeric_regions_from_Luca.loc[80,'chromEnd'] = 976896"
   ]
  },
  {
   "cell_type": "markdown",
   "metadata": {},
   "source": [
    "create a set of all Reference Positions that occur within a Homopolymeric Tract"
   ]
  },
  {
   "cell_type": "code",
   "execution_count": 207,
   "metadata": {},
   "outputs": [],
   "source": [
    "all_HT_ref_postions = []\n",
    "for HT_i_start, HT_i_end in zip(homopolymeric_regions_from_Luca.chromStart, homopolymeric_regions_from_Luca.chromEnd):\n",
    "    \n",
    "    HT_i_ref_positions = range(HT_i_start, HT_i_end+1)\n",
    "    all_HT_ref_postions = all_HT_ref_postions + HT_i_ref_positions\n",
    "    \n",
    "all_HT_ref_postions = set(all_HT_ref_postions)"
   ]
  },
  {
   "cell_type": "code",
   "execution_count": 208,
   "metadata": {},
   "outputs": [
    {
     "data": {
      "text/plain": [
       "1160"
      ]
     },
     "execution_count": 208,
     "metadata": {},
     "output_type": "execute_result"
    }
   ],
   "source": [
    "len(all_HT_ref_postions)"
   ]
  },
  {
   "cell_type": "markdown",
   "metadata": {},
   "source": [
    "### [1.2] Annotate each INDEL based on whether it is in an HT or other"
   ]
  },
  {
   "cell_type": "markdown",
   "metadata": {},
   "source": [
    "iterate through all INDELs and figure out which occur in SSR and those that don't"
   ]
  },
  {
   "cell_type": "code",
   "execution_count": 209,
   "metadata": {},
   "outputs": [],
   "source": [
    "repeat_region_list = []\n",
    "for indel_i_pos in all_homoplasic_INDELs.pos:\n",
    "    \n",
    "    if indel_i_pos in all_HT_ref_postions:\n",
    "        repeat_region_list.append('HT')\n",
    "    \n",
    "    else:\n",
    "        repeat_region_list.append('no')\n",
    "        \n",
    "all_homoplasic_INDELs.loc[:,'repeat_region'] = repeat_region_list"
   ]
  },
  {
   "cell_type": "code",
   "execution_count": 210,
   "metadata": {},
   "outputs": [
    {
     "data": {
      "text/html": [
       "<div>\n",
       "<style>\n",
       "    .dataframe thead tr:only-child th {\n",
       "        text-align: right;\n",
       "    }\n",
       "\n",
       "    .dataframe thead th {\n",
       "        text-align: left;\n",
       "    }\n",
       "\n",
       "    .dataframe tbody tr th {\n",
       "        vertical-align: top;\n",
       "    }\n",
       "</style>\n",
       "<table border=\"1\" class=\"dataframe\">\n",
       "  <thead>\n",
       "    <tr style=\"text-align: right;\">\n",
       "      <th></th>\n",
       "      <th>pos</th>\n",
       "      <th>ref</th>\n",
       "      <th>alt</th>\n",
       "      <th>gene_category</th>\n",
       "      <th>gene_name</th>\n",
       "      <th>gene_id</th>\n",
       "      <th>gene_pos</th>\n",
       "      <th>ins_del</th>\n",
       "      <th>INDEL_type</th>\n",
       "      <th>codon_pos</th>\n",
       "      <th>...</th>\n",
       "      <th>2</th>\n",
       "      <th>3</th>\n",
       "      <th>4A</th>\n",
       "      <th>4B</th>\n",
       "      <th>4C</th>\n",
       "      <th>5</th>\n",
       "      <th>6</th>\n",
       "      <th>total</th>\n",
       "      <th>num_isolates</th>\n",
       "      <th>repeat_region</th>\n",
       "    </tr>\n",
       "  </thead>\n",
       "  <tbody>\n",
       "    <tr>\n",
       "      <th>47371</th>\n",
       "      <td>4408100</td>\n",
       "      <td>GC</td>\n",
       "      <td>G</td>\n",
       "      <td>Antibiotic Resistance</td>\n",
       "      <td>gid</td>\n",
       "      <td>Rv3919c</td>\n",
       "      <td>103</td>\n",
       "      <td>del</td>\n",
       "      <td>frameshift</td>\n",
       "      <td>35</td>\n",
       "      <td>...</td>\n",
       "      <td>27.0</td>\n",
       "      <td>51.0</td>\n",
       "      <td>43.0</td>\n",
       "      <td>11.0</td>\n",
       "      <td>29.0</td>\n",
       "      <td>0.0</td>\n",
       "      <td>0.0</td>\n",
       "      <td>202.0</td>\n",
       "      <td>388</td>\n",
       "      <td>no</td>\n",
       "    </tr>\n",
       "    <tr>\n",
       "      <th>47365</th>\n",
       "      <td>4408087</td>\n",
       "      <td>CG</td>\n",
       "      <td>C</td>\n",
       "      <td>Antibiotic Resistance</td>\n",
       "      <td>gid</td>\n",
       "      <td>Rv3919c</td>\n",
       "      <td>116</td>\n",
       "      <td>del</td>\n",
       "      <td>frameshift</td>\n",
       "      <td>39</td>\n",
       "      <td>...</td>\n",
       "      <td>11.0</td>\n",
       "      <td>35.0</td>\n",
       "      <td>33.0</td>\n",
       "      <td>10.0</td>\n",
       "      <td>18.0</td>\n",
       "      <td>0.0</td>\n",
       "      <td>0.0</td>\n",
       "      <td>130.0</td>\n",
       "      <td>212</td>\n",
       "      <td>no</td>\n",
       "    </tr>\n",
       "    <tr>\n",
       "      <th>47313</th>\n",
       "      <td>4407851</td>\n",
       "      <td>GC</td>\n",
       "      <td>G</td>\n",
       "      <td>Antibiotic Resistance</td>\n",
       "      <td>gid</td>\n",
       "      <td>Rv3919c</td>\n",
       "      <td>352</td>\n",
       "      <td>del</td>\n",
       "      <td>frameshift</td>\n",
       "      <td>118</td>\n",
       "      <td>...</td>\n",
       "      <td>9.0</td>\n",
       "      <td>40.0</td>\n",
       "      <td>20.0</td>\n",
       "      <td>6.0</td>\n",
       "      <td>19.0</td>\n",
       "      <td>0.0</td>\n",
       "      <td>0.0</td>\n",
       "      <td>115.0</td>\n",
       "      <td>182</td>\n",
       "      <td>no</td>\n",
       "    </tr>\n",
       "    <tr>\n",
       "      <th>25151</th>\n",
       "      <td>2288850</td>\n",
       "      <td>A</td>\n",
       "      <td>ACC</td>\n",
       "      <td>Antibiotic Resistance</td>\n",
       "      <td>pncA</td>\n",
       "      <td>Rv2043c</td>\n",
       "      <td>392</td>\n",
       "      <td>ins</td>\n",
       "      <td>frameshift</td>\n",
       "      <td>131</td>\n",
       "      <td>...</td>\n",
       "      <td>14.0</td>\n",
       "      <td>6.0</td>\n",
       "      <td>3.0</td>\n",
       "      <td>6.0</td>\n",
       "      <td>2.0</td>\n",
       "      <td>0.0</td>\n",
       "      <td>0.0</td>\n",
       "      <td>32.0</td>\n",
       "      <td>48</td>\n",
       "      <td>no</td>\n",
       "    </tr>\n",
       "    <tr>\n",
       "      <th>47315</th>\n",
       "      <td>4407851</td>\n",
       "      <td>G</td>\n",
       "      <td>GC</td>\n",
       "      <td>Antibiotic Resistance</td>\n",
       "      <td>gid</td>\n",
       "      <td>Rv3919c</td>\n",
       "      <td>352</td>\n",
       "      <td>ins</td>\n",
       "      <td>frameshift</td>\n",
       "      <td>118</td>\n",
       "      <td>...</td>\n",
       "      <td>1.0</td>\n",
       "      <td>12.0</td>\n",
       "      <td>5.0</td>\n",
       "      <td>7.0</td>\n",
       "      <td>1.0</td>\n",
       "      <td>0.0</td>\n",
       "      <td>0.0</td>\n",
       "      <td>31.0</td>\n",
       "      <td>52</td>\n",
       "      <td>no</td>\n",
       "    </tr>\n",
       "  </tbody>\n",
       "</table>\n",
       "<p>5 rows × 23 columns</p>\n",
       "</div>"
      ],
      "text/plain": [
       "           pos ref  alt          gene_category gene_name  gene_id gene_pos  \\\n",
       "47371  4408100  GC    G  Antibiotic Resistance       gid  Rv3919c      103   \n",
       "47365  4408087  CG    C  Antibiotic Resistance       gid  Rv3919c      116   \n",
       "47313  4407851  GC    G  Antibiotic Resistance       gid  Rv3919c      352   \n",
       "25151  2288850   A  ACC  Antibiotic Resistance      pncA  Rv2043c      392   \n",
       "47315  4407851   G   GC  Antibiotic Resistance       gid  Rv3919c      352   \n",
       "\n",
       "      ins_del  INDEL_type codon_pos      ...           2     3    4A    4B  \\\n",
       "47371     del  frameshift        35      ...        27.0  51.0  43.0  11.0   \n",
       "47365     del  frameshift        39      ...        11.0  35.0  33.0  10.0   \n",
       "47313     del  frameshift       118      ...         9.0  40.0  20.0   6.0   \n",
       "25151     ins  frameshift       131      ...        14.0   6.0   3.0   6.0   \n",
       "47315     ins  frameshift       118      ...         1.0  12.0   5.0   7.0   \n",
       "\n",
       "         4C    5    6  total  num_isolates  repeat_region  \n",
       "47371  29.0  0.0  0.0  202.0           388             no  \n",
       "47365  18.0  0.0  0.0  130.0           212             no  \n",
       "47313  19.0  0.0  0.0  115.0           182             no  \n",
       "25151   2.0  0.0  0.0   32.0            48             no  \n",
       "47315   1.0  0.0  0.0   31.0            52             no  \n",
       "\n",
       "[5 rows x 23 columns]"
      ]
     },
     "execution_count": 210,
     "metadata": {},
     "output_type": "execute_result"
    }
   ],
   "source": [
    "all_homoplasic_INDELs.head()"
   ]
  },
  {
   "cell_type": "code",
   "execution_count": 211,
   "metadata": {},
   "outputs": [
    {
     "data": {
      "text/plain": [
       "(46306, 23)"
      ]
     },
     "execution_count": 211,
     "metadata": {},
     "output_type": "execute_result"
    }
   ],
   "source": [
    "all_homoplasic_INDELs.shape"
   ]
  },
  {
   "cell_type": "markdown",
   "metadata": {},
   "source": [
    "####################################################################################################################################################################################"
   ]
  },
  {
   "cell_type": "markdown",
   "metadata": {},
   "source": [
    "## [2] Aggregate INDELs by HT region (all bp lengths)"
   ]
  },
  {
   "cell_type": "markdown",
   "metadata": {},
   "source": [
    "####################################################################################################################################################################################"
   ]
  },
  {
   "cell_type": "markdown",
   "metadata": {},
   "source": [
    "### [2.1] HTs"
   ]
  },
  {
   "cell_type": "code",
   "execution_count": 212,
   "metadata": {},
   "outputs": [
    {
     "data": {
      "text/html": [
       "<div>\n",
       "<style>\n",
       "    .dataframe thead tr:only-child th {\n",
       "        text-align: right;\n",
       "    }\n",
       "\n",
       "    .dataframe thead th {\n",
       "        text-align: left;\n",
       "    }\n",
       "\n",
       "    .dataframe tbody tr th {\n",
       "        vertical-align: top;\n",
       "    }\n",
       "</style>\n",
       "<table border=\"1\" class=\"dataframe\">\n",
       "  <thead>\n",
       "    <tr style=\"text-align: right;\">\n",
       "      <th></th>\n",
       "      <th>Chromosome</th>\n",
       "      <th>chromStart</th>\n",
       "      <th>chromEnd</th>\n",
       "      <th>polyNT</th>\n",
       "      <th>locus_tag</th>\n",
       "      <th>gene_name</th>\n",
       "    </tr>\n",
       "  </thead>\n",
       "  <tbody>\n",
       "    <tr>\n",
       "      <th>0</th>\n",
       "      <td>NC_000962.3</td>\n",
       "      <td>36470</td>\n",
       "      <td>36477</td>\n",
       "      <td>CCCCCCC</td>\n",
       "      <td>Rv0032</td>\n",
       "      <td>bioF2</td>\n",
       "    </tr>\n",
       "    <tr>\n",
       "      <th>1</th>\n",
       "      <td>NC_000962.3</td>\n",
       "      <td>71453</td>\n",
       "      <td>71460</td>\n",
       "      <td>CCCCCCC</td>\n",
       "      <td>Rv0064</td>\n",
       "      <td>Rv0064</td>\n",
       "    </tr>\n",
       "    <tr>\n",
       "      <th>2</th>\n",
       "      <td>NC_000962.3</td>\n",
       "      <td>191391</td>\n",
       "      <td>191398</td>\n",
       "      <td>CCCCCCC</td>\n",
       "      <td>Rv0161</td>\n",
       "      <td>Rv0161</td>\n",
       "    </tr>\n",
       "    <tr>\n",
       "      <th>3</th>\n",
       "      <td>NC_000962.3</td>\n",
       "      <td>238807</td>\n",
       "      <td>238814</td>\n",
       "      <td>CCCCCCC</td>\n",
       "      <td>Rv0202c</td>\n",
       "      <td>mmpL11</td>\n",
       "    </tr>\n",
       "    <tr>\n",
       "      <th>4</th>\n",
       "      <td>NC_000962.3</td>\n",
       "      <td>587728</td>\n",
       "      <td>587735</td>\n",
       "      <td>CCCCCCC</td>\n",
       "      <td>Rv0497</td>\n",
       "      <td>Rv0497</td>\n",
       "    </tr>\n",
       "  </tbody>\n",
       "</table>\n",
       "</div>"
      ],
      "text/plain": [
       "    Chromosome  chromStart  chromEnd   polyNT locus_tag gene_name\n",
       "0  NC_000962.3       36470     36477  CCCCCCC    Rv0032     bioF2\n",
       "1  NC_000962.3       71453     71460  CCCCCCC    Rv0064    Rv0064\n",
       "2  NC_000962.3      191391    191398  CCCCCCC    Rv0161    Rv0161\n",
       "3  NC_000962.3      238807    238814  CCCCCCC   Rv0202c    mmpL11\n",
       "4  NC_000962.3      587728    587735  CCCCCCC    Rv0497    Rv0497"
      ]
     },
     "execution_count": 212,
     "metadata": {},
     "output_type": "execute_result"
    }
   ],
   "source": [
    "homopolymeric_regions_from_Luca.head()"
   ]
  },
  {
   "cell_type": "code",
   "execution_count": 213,
   "metadata": {},
   "outputs": [
    {
     "data": {
      "text/plain": [
       "(145, 6)"
      ]
     },
     "execution_count": 213,
     "metadata": {},
     "output_type": "execute_result"
    }
   ],
   "source": [
    "homopolymeric_regions_from_Luca.shape"
   ]
  },
  {
   "cell_type": "code",
   "execution_count": 214,
   "metadata": {},
   "outputs": [],
   "source": [
    "# subset to INDELs that occur within HT regions\n",
    "HT_homoplasic_INDELs = all_homoplasic_INDELs[all_homoplasic_INDELs.repeat_region == 'HT']\n",
    "\n",
    "# further subset to frameshift HT indels\n",
    "HT_homoplasic_frameshifts = HT_homoplasic_INDELs[HT_homoplasic_INDELs.INDEL_type == 'frameshift']"
   ]
  },
  {
   "cell_type": "code",
   "execution_count": 215,
   "metadata": {},
   "outputs": [
    {
     "data": {
      "text/plain": [
       "(330, 23)"
      ]
     },
     "execution_count": 215,
     "metadata": {},
     "output_type": "execute_result"
    }
   ],
   "source": [
    "HT_homoplasic_INDELs.shape"
   ]
  },
  {
   "cell_type": "code",
   "execution_count": 216,
   "metadata": {},
   "outputs": [
    {
     "data": {
      "text/plain": [
       "(294, 23)"
      ]
     },
     "execution_count": 216,
     "metadata": {},
     "output_type": "execute_result"
    }
   ],
   "source": [
    "HT_homoplasic_frameshifts.shape"
   ]
  },
  {
   "cell_type": "markdown",
   "metadata": {},
   "source": [
    "### skip below on first run"
   ]
  },
  {
   "cell_type": "markdown",
   "metadata": {},
   "source": [
    "############################################################################################################"
   ]
  },
  {
   "cell_type": "markdown",
   "metadata": {},
   "source": [
    "#### sort variants by top *Hs* and keep only a single bp variants"
   ]
  },
  {
   "cell_type": "code",
   "execution_count": 217,
   "metadata": {},
   "outputs": [],
   "source": [
    "bp_length_diff = HT_homoplasic_INDELs.ref.apply(len) - HT_homoplasic_INDELs.alt.apply(len)\n",
    "single_bp_ins_del_filter = [(x==-1)|(x==1) for x in bp_length_diff]\n",
    "HT_homoplasic_INDELs = HT_homoplasic_INDELs[single_bp_ins_del_filter]"
   ]
  },
  {
   "cell_type": "code",
   "execution_count": 218,
   "metadata": {},
   "outputs": [
    {
     "data": {
      "text/plain": [
       "(204, 23)"
      ]
     },
     "execution_count": 218,
     "metadata": {},
     "output_type": "execute_result"
    }
   ],
   "source": [
    "HT_homoplasic_INDELs.shape"
   ]
  },
  {
   "cell_type": "code",
   "execution_count": 219,
   "metadata": {},
   "outputs": [],
   "source": [
    "bp_length_diff = HT_homoplasic_frameshifts.ref.apply(len) - HT_homoplasic_frameshifts.alt.apply(len)\n",
    "single_bp_ins_del_filter = [(x==-1)|(x==1) for x in bp_length_diff]\n",
    "HT_homoplasic_frameshifts = HT_homoplasic_frameshifts[single_bp_ins_del_filter]"
   ]
  },
  {
   "cell_type": "code",
   "execution_count": 220,
   "metadata": {},
   "outputs": [
    {
     "data": {
      "text/plain": [
       "(204, 23)"
      ]
     },
     "execution_count": 220,
     "metadata": {},
     "output_type": "execute_result"
    }
   ],
   "source": [
    "HT_homoplasic_frameshifts.shape"
   ]
  },
  {
   "cell_type": "markdown",
   "metadata": {},
   "source": [
    "############################################################################################################"
   ]
  },
  {
   "cell_type": "markdown",
   "metadata": {},
   "source": [
    "#### Tally the number of *frameshifts* that occur in each coding HT and *INDELs* that occur in each intergenic HT"
   ]
  },
  {
   "cell_type": "code",
   "execution_count": 221,
   "metadata": {},
   "outputs": [],
   "source": [
    "num_INDEL_homoplasies_list = []\n",
    "num_isolates_with_INDEL_list = []\n",
    "num_variants_in_HT_list = []\n",
    "\n",
    "#iterate through each homopolymeric region\n",
    "for chromsStart_i , chromEnd_i, locus_tag_i in zip(homopolymeric_regions_from_Luca.chromStart, homopolymeric_regions_from_Luca.chromEnd, homopolymeric_regions_from_Luca.locus_tag):\n",
    "    \n",
    "    #define a list of H37Rv coordinates that corresponds to this homopolymeric region (- 1 bp already accounted for in HT dataframe)\n",
    "    homopolymeric_region_i_coords = np.arange(chromsStart_i, chromEnd_i + 1)\n",
    "    \n",
    "    # HT located in CODING region\n",
    "    if (('inter' not in locus_tag_i) and ('nc' not in locus_tag_i)):\n",
    "\n",
    "        # Frameshifts\n",
    "        #create a filter for Frameshifts that occur in this region\n",
    "        homoplasy_INDEL_filter = np.array( [INDEL_i_pos in homopolymeric_region_i_coords for INDEL_i_pos in HT_homoplasic_frameshifts.pos] )\n",
    "\n",
    "        #count number of homoplasy INDELs in regions and store in list\n",
    "        num_INDEL_homoplasies_list.append(HT_homoplasic_frameshifts[homoplasy_INDEL_filter].total.astype(float).sum())\n",
    "\n",
    "        #count the number of isolates that have an INDEL in region and store in list\n",
    "        num_isolates_with_INDEL_list.append(HT_homoplasic_frameshifts[homoplasy_INDEL_filter].num_isolates.astype(float).sum())\n",
    "        \n",
    "        # count the number of variants detected in this HT\n",
    "        num_variants_in_HT_list.append(HT_homoplasic_frameshifts[homoplasy_INDEL_filter].shape[0])\n",
    "        \n",
    "    # HT located in Non-Coding region (ncRNA or intergenic)\n",
    "    else:\n",
    "        \n",
    "        # INDELs\n",
    "        #create a filter for INDELs that occur in this region\n",
    "        homoplasy_INDEL_filter = np.array( [INDEL_i_pos in homopolymeric_region_i_coords for INDEL_i_pos in HT_homoplasic_INDELs.pos] )\n",
    "\n",
    "        #count number of homoplasy INDELs in regions and store in list\n",
    "        num_INDEL_homoplasies_list.append(HT_homoplasic_INDELs[homoplasy_INDEL_filter].total.astype(float).sum())\n",
    "\n",
    "        #count the number of isolates that have an INDEL in region and store in list\n",
    "        num_isolates_with_INDEL_list.append(HT_homoplasic_INDELs[homoplasy_INDEL_filter].num_isolates.astype(float).sum())\n",
    "        \n",
    "        # count the number of variants detected in this HT\n",
    "        num_variants_in_HT_list.append(HT_homoplasic_INDELs[homoplasy_INDEL_filter].shape[0])\n",
    "    \n",
    "#append lists to DataFrame of homopolymeric regions\n",
    "homopolymeric_regions_from_Luca.loc[: , 'INDEL_homoplasy'] = num_INDEL_homoplasies_list\n",
    "homopolymeric_regions_from_Luca.loc[: , 'num_isolates_with_INDEL'] = num_isolates_with_INDEL_list\n",
    "homopolymeric_regions_from_Luca.loc[: , 'unique_variants_in_HT'] = num_variants_in_HT_list\n",
    "## homopolymeric_regions_from_Luca.sort_values(by = 'INDEL_homoplasy' , ascending = False, inplace = True)\n",
    "## homopolymeric_regions_from_Luca.reset_index(inplace=True,drop=True)\n",
    "\n",
    "#convert datatypes from float > int\n",
    "convert_dict = {'INDEL_homoplasy':int, 'num_isolates_with_INDEL':int}\n",
    "homopolymeric_regions_from_Luca = homopolymeric_regions_from_Luca.astype(convert_dict)"
   ]
  },
  {
   "cell_type": "code",
   "execution_count": 222,
   "metadata": {},
   "outputs": [
    {
     "data": {
      "text/html": [
       "<div>\n",
       "<style>\n",
       "    .dataframe thead tr:only-child th {\n",
       "        text-align: right;\n",
       "    }\n",
       "\n",
       "    .dataframe thead th {\n",
       "        text-align: left;\n",
       "    }\n",
       "\n",
       "    .dataframe tbody tr th {\n",
       "        vertical-align: top;\n",
       "    }\n",
       "</style>\n",
       "<table border=\"1\" class=\"dataframe\">\n",
       "  <thead>\n",
       "    <tr style=\"text-align: right;\">\n",
       "      <th></th>\n",
       "      <th>Chromosome</th>\n",
       "      <th>chromStart</th>\n",
       "      <th>chromEnd</th>\n",
       "      <th>polyNT</th>\n",
       "      <th>locus_tag</th>\n",
       "      <th>gene_name</th>\n",
       "      <th>INDEL_homoplasy</th>\n",
       "      <th>num_isolates_with_INDEL</th>\n",
       "      <th>unique_variants_in_HT</th>\n",
       "    </tr>\n",
       "  </thead>\n",
       "  <tbody>\n",
       "    <tr>\n",
       "      <th>0</th>\n",
       "      <td>NC_000962.3</td>\n",
       "      <td>36470</td>\n",
       "      <td>36477</td>\n",
       "      <td>CCCCCCC</td>\n",
       "      <td>Rv0032</td>\n",
       "      <td>bioF2</td>\n",
       "      <td>131</td>\n",
       "      <td>4888</td>\n",
       "      <td>2</td>\n",
       "    </tr>\n",
       "    <tr>\n",
       "      <th>1</th>\n",
       "      <td>NC_000962.3</td>\n",
       "      <td>71453</td>\n",
       "      <td>71460</td>\n",
       "      <td>CCCCCCC</td>\n",
       "      <td>Rv0064</td>\n",
       "      <td>Rv0064</td>\n",
       "      <td>0</td>\n",
       "      <td>0</td>\n",
       "      <td>0</td>\n",
       "    </tr>\n",
       "    <tr>\n",
       "      <th>2</th>\n",
       "      <td>NC_000962.3</td>\n",
       "      <td>191391</td>\n",
       "      <td>191398</td>\n",
       "      <td>CCCCCCC</td>\n",
       "      <td>Rv0161</td>\n",
       "      <td>Rv0161</td>\n",
       "      <td>72</td>\n",
       "      <td>273</td>\n",
       "      <td>2</td>\n",
       "    </tr>\n",
       "    <tr>\n",
       "      <th>3</th>\n",
       "      <td>NC_000962.3</td>\n",
       "      <td>238807</td>\n",
       "      <td>238814</td>\n",
       "      <td>CCCCCCC</td>\n",
       "      <td>Rv0202c</td>\n",
       "      <td>mmpL11</td>\n",
       "      <td>1</td>\n",
       "      <td>2</td>\n",
       "      <td>1</td>\n",
       "    </tr>\n",
       "    <tr>\n",
       "      <th>4</th>\n",
       "      <td>NC_000962.3</td>\n",
       "      <td>587728</td>\n",
       "      <td>587735</td>\n",
       "      <td>CCCCCCC</td>\n",
       "      <td>Rv0497</td>\n",
       "      <td>Rv0497</td>\n",
       "      <td>0</td>\n",
       "      <td>0</td>\n",
       "      <td>0</td>\n",
       "    </tr>\n",
       "    <tr>\n",
       "      <th>5</th>\n",
       "      <td>NC_000962.3</td>\n",
       "      <td>644504</td>\n",
       "      <td>644511</td>\n",
       "      <td>CCCCCCC</td>\n",
       "      <td>Rv0553</td>\n",
       "      <td>menC</td>\n",
       "      <td>0</td>\n",
       "      <td>0</td>\n",
       "      <td>0</td>\n",
       "    </tr>\n",
       "    <tr>\n",
       "      <th>6</th>\n",
       "      <td>NC_000962.3</td>\n",
       "      <td>691887</td>\n",
       "      <td>691894</td>\n",
       "      <td>CCCCCCC</td>\n",
       "      <td>Rv0592</td>\n",
       "      <td>mce2D</td>\n",
       "      <td>94</td>\n",
       "      <td>4843</td>\n",
       "      <td>2</td>\n",
       "    </tr>\n",
       "    <tr>\n",
       "      <th>7</th>\n",
       "      <td>NC_000962.3</td>\n",
       "      <td>799136</td>\n",
       "      <td>799143</td>\n",
       "      <td>CCCCCCC</td>\n",
       "      <td>Rv0698</td>\n",
       "      <td>Rv0698</td>\n",
       "      <td>80</td>\n",
       "      <td>4224</td>\n",
       "      <td>2</td>\n",
       "    </tr>\n",
       "    <tr>\n",
       "      <th>8</th>\n",
       "      <td>NC_000962.3</td>\n",
       "      <td>854252</td>\n",
       "      <td>854261</td>\n",
       "      <td>CCCCCCCCC</td>\n",
       "      <td>inter_Rv0759c_Rv0760c</td>\n",
       "      <td>inter_Rv0759c_Rv0760c</td>\n",
       "      <td>322</td>\n",
       "      <td>24880</td>\n",
       "      <td>2</td>\n",
       "    </tr>\n",
       "    <tr>\n",
       "      <th>9</th>\n",
       "      <td>NC_000962.3</td>\n",
       "      <td>912694</td>\n",
       "      <td>912701</td>\n",
       "      <td>CCCCCCC</td>\n",
       "      <td>inter_Rv0819_Rv0820</td>\n",
       "      <td>inter_mshD_phoT</td>\n",
       "      <td>26</td>\n",
       "      <td>148</td>\n",
       "      <td>2</td>\n",
       "    </tr>\n",
       "  </tbody>\n",
       "</table>\n",
       "</div>"
      ],
      "text/plain": [
       "    Chromosome  chromStart  chromEnd     polyNT              locus_tag  \\\n",
       "0  NC_000962.3       36470     36477    CCCCCCC                 Rv0032   \n",
       "1  NC_000962.3       71453     71460    CCCCCCC                 Rv0064   \n",
       "2  NC_000962.3      191391    191398    CCCCCCC                 Rv0161   \n",
       "3  NC_000962.3      238807    238814    CCCCCCC                Rv0202c   \n",
       "4  NC_000962.3      587728    587735    CCCCCCC                 Rv0497   \n",
       "5  NC_000962.3      644504    644511    CCCCCCC                 Rv0553   \n",
       "6  NC_000962.3      691887    691894    CCCCCCC                 Rv0592   \n",
       "7  NC_000962.3      799136    799143    CCCCCCC                 Rv0698   \n",
       "8  NC_000962.3      854252    854261  CCCCCCCCC  inter_Rv0759c_Rv0760c   \n",
       "9  NC_000962.3      912694    912701    CCCCCCC    inter_Rv0819_Rv0820   \n",
       "\n",
       "               gene_name  INDEL_homoplasy  num_isolates_with_INDEL  \\\n",
       "0                  bioF2              131                     4888   \n",
       "1                 Rv0064                0                        0   \n",
       "2                 Rv0161               72                      273   \n",
       "3                 mmpL11                1                        2   \n",
       "4                 Rv0497                0                        0   \n",
       "5                   menC                0                        0   \n",
       "6                  mce2D               94                     4843   \n",
       "7                 Rv0698               80                     4224   \n",
       "8  inter_Rv0759c_Rv0760c              322                    24880   \n",
       "9        inter_mshD_phoT               26                      148   \n",
       "\n",
       "   unique_variants_in_HT  \n",
       "0                      2  \n",
       "1                      0  \n",
       "2                      2  \n",
       "3                      1  \n",
       "4                      0  \n",
       "5                      0  \n",
       "6                      2  \n",
       "7                      2  \n",
       "8                      2  \n",
       "9                      2  "
      ]
     },
     "execution_count": 222,
     "metadata": {},
     "output_type": "execute_result"
    }
   ],
   "source": [
    "homopolymeric_regions_from_Luca.head(n=10)"
   ]
  },
  {
   "cell_type": "code",
   "execution_count": 223,
   "metadata": {},
   "outputs": [
    {
     "data": {
      "text/plain": [
       "(145, 9)"
      ]
     },
     "execution_count": 223,
     "metadata": {},
     "output_type": "execute_result"
    }
   ],
   "source": [
    "homopolymeric_regions_from_Luca.shape"
   ]
  },
  {
   "cell_type": "markdown",
   "metadata": {},
   "source": [
    "How many HTs have no **Hs**?"
   ]
  },
  {
   "cell_type": "code",
   "execution_count": 224,
   "metadata": {},
   "outputs": [
    {
     "data": {
      "text/plain": [
       "54"
      ]
     },
     "execution_count": 224,
     "metadata": {},
     "output_type": "execute_result"
    }
   ],
   "source": [
    "sum(homopolymeric_regions_from_Luca.unique_variants_in_HT == 0)"
   ]
  },
  {
   "cell_type": "markdown",
   "metadata": {},
   "source": [
    "How many HTs have multi-allelic variants?"
   ]
  },
  {
   "cell_type": "code",
   "execution_count": 225,
   "metadata": {},
   "outputs": [
    {
     "data": {
      "text/plain": [
       "8"
      ]
     },
     "execution_count": 225,
     "metadata": {},
     "output_type": "execute_result"
    }
   ],
   "source": [
    "sum(homopolymeric_regions_from_Luca.unique_variants_in_HT == 1)"
   ]
  },
  {
   "cell_type": "code",
   "execution_count": 226,
   "metadata": {},
   "outputs": [
    {
     "data": {
      "text/plain": [
       "83"
      ]
     },
     "execution_count": 226,
     "metadata": {},
     "output_type": "execute_result"
    }
   ],
   "source": [
    "sum(homopolymeric_regions_from_Luca.unique_variants_in_HT > 1) # variants within an HT at DIFFERENT sites"
   ]
  },
  {
   "cell_type": "markdown",
   "metadata": {},
   "source": [
    "### Run code above once for x and again for y including the special block of code to filter for only 1bp INDELs"
   ]
  },
  {
   "cell_type": "markdown",
   "metadata": {},
   "source": [
    "Save series with all variants to compare with series with just top Hs variant per site (and re-run code above)"
   ]
  },
  {
   "cell_type": "code",
   "execution_count": 199,
   "metadata": {},
   "outputs": [],
   "source": [
    "HT_Hs_series_x = homopolymeric_regions_from_Luca.INDEL_homoplasy # aggregate of Hs across all variants"
   ]
  },
  {
   "cell_type": "code",
   "execution_count": 227,
   "metadata": {},
   "outputs": [],
   "source": [
    "HT_Hs_series_y = homopolymeric_regions_from_Luca.INDEL_homoplasy # only 1bp insertions/deletions"
   ]
  },
  {
   "cell_type": "markdown",
   "metadata": {},
   "source": [
    "Plot aggegrate Hs per HT below"
   ]
  },
  {
   "cell_type": "code",
   "execution_count": 254,
   "metadata": {},
   "outputs": [
    {
     "data": {
      "image/png": "[encoded data removed]",
      "text/plain": [
       "<Figure size 576x576 with 1 Axes>"
      ]
     },
     "metadata": {},
     "output_type": "display_data"
    }
   ],
   "source": [
    "fig, ax = plt.subplots()\n",
    "\n",
    "ax.scatter(HT_Hs_series_x, HT_Hs_series_y, color = 'k', linewidth=0.5, edgecolor='white', s = 40, alpha=0.7)\n",
    "\n",
    "ax.tick_params(axis='y', which='major', labelsize=12 , labelcolor = 'k')\n",
    "ax.tick_params(axis='x', which='major', labelsize=12 , labelcolor = 'k')\n",
    "ax.spines['right'].set_visible(False)\n",
    "ax.spines['top'].set_visible(False)\n",
    "\n",
    "ax.set_ylabel('Aggregate Hs for HTs using only 1bp INDELs', color = 'k')\n",
    "ax.set_xlabel('Aggregate Hs for HTs using all INDELs', color = 'k')\n",
    "ax.set_title('Aggregate INDEL Hs score for 145 HTs in Mtb Genome', color = 'k')\n",
    "\n",
    "fig = plt.gcf()\n",
    "fig.set_size_inches(8.0, 8.0)\n",
    "\n",
    "file_name = '/n/data1/hms/dbmi/farhat/Roger/homoplasy_project/Figures/for publication/PNAS_reviews/Hs_scores_for_HTs_1bp_vs_all_INDEL_compare.png'\n",
    "plt.savefig(file_name, bbox_inches='tight', dpi = 300 , transparent = False)\n",
    "\n",
    "plt.show()"
   ]
  },
  {
   "cell_type": "code",
   "execution_count": null,
   "metadata": {},
   "outputs": [],
   "source": []
  }
 ],
 "metadata": {
  "kernelspec": {
   "display_name": "Python 2",
   "language": "python",
   "name": "python2"
  },
  "language_info": {
   "codemirror_mode": {
    "name": "ipython",
    "version": 2
   },
   "file_extension": ".py",
   "mimetype": "text/x-python",
   "name": "python",
   "nbconvert_exporter": "python",
   "pygments_lexer": "ipython2",
   "version": "2.7.16"
  }
 },
 "nbformat": 4,
 "nbformat_minor": 4
}
